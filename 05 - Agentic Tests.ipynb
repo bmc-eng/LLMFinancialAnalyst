{
 "cells": [
  {
   "cell_type": "markdown",
   "id": "8eb250e0-6996-4bef-9d46-2785ab92b32a",
   "metadata": {},
   "source": [
    "# Multi-Agentic Financial Analyst\n",
    "This notebook will be the test build of the multi-agentic AI system. This is a notebook to experiment with the solution and to "
   ]
  },
  {
   "cell_type": "code",
   "execution_count": 7,
   "id": "f01f726e-8cd9-42de-9639-b738d17ce7da",
   "metadata": {},
   "outputs": [],
   "source": [
    "#%package install boto3=1.34.51 langchain "
   ]
  },
  {
   "cell_type": "code",
   "execution_count": 1,
   "id": "f7c33fd5-bd3c-4f35-b1f9-6b6b4ae7271a",
   "metadata": {},
   "outputs": [
    {
     "name": "stdout",
     "output_type": "stream",
     "text": [
      "\u001b[31mERROR: pip's dependency resolver does not currently take into account all the packages that are installed. This behaviour is the source of the following dependency conflicts.\n",
      "bbq-tools 1.40.0 requires python<4.0,>=3.9, which is not installed.\n",
      "bqapi 0.36.0 requires python>=3.9, which is not installed.\n",
      "bql-enterprise 0.17.0a0 requires pybql, which is not installed.\n",
      "pygwalker 0.4.7 requires gw-dsl-parser==0.1.45a6, which is not installed.\n",
      "flask-appbuilder 4.5.3 requires SQLAlchemy<1.5, but you have sqlalchemy 2.0.40 which is incompatible.\n",
      "aiobotocore 2.13.3 requires botocore<1.34.163,>=1.34.70, but you have botocore 1.38.0 which is incompatible.\n",
      "apache-airflow 2.9.2 requires sqlalchemy<2.0,>=1.4.36, but you have sqlalchemy 2.0.40 which is incompatible.\n",
      "awscli 2.15.37 requires cryptography<40.0.2,>=3.3.2, but you have cryptography 40.0.2 which is incompatible.\n",
      "awscli 2.15.37 requires python-dateutil<=2.8.2,>=2.1, but you have python-dateutil 2.9.0.post0 which is incompatible.\n",
      "blis 1.0.1 requires numpy<3.0.0,>=2.0.0, but you have numpy 1.26.4 which is incompatible.\n",
      "bloomberg-bquant-cis-utils 2.4.0a0 requires certifi==2024.2.2, but you have certifi 2025.1.31 which is incompatible.\n",
      "bloomberg-bquant-cis-utils 2.4.0a0 requires charset-normalizer==3.3.2, but you have charset-normalizer 3.4.1 which is incompatible.\n",
      "bloomberg-bquant-cis-utils 2.4.0a0 requires idna==3.7, but you have idna 3.10 which is incompatible.\n",
      "bloomberg-bquant-cis-utils 2.4.0a0 requires requests==2.31.0, but you have requests 2.32.3 which is incompatible.\n",
      "bloomberg-bquant-cis-utils 2.4.0a0 requires six==1.16.0, but you have six 1.17.0 which is incompatible.\n",
      "bloomberg-bquant-cis-utils 2.4.0a0 requires urllib3==2.2.1, but you have urllib3 1.26.20 which is incompatible.\n",
      "bql 0.140.0a0 requires bqlmetadata<=0.99.0,>=0.96.0, but you have bqlmetadata 0.102.0a0 which is incompatible.\n",
      "datasets 2.19.1 requires fsspec[http]<=2024.3.1,>=2023.1.0, but you have fsspec 2025.3.2 which is incompatible.\n",
      "kanaries-track 0.0.3 requires requests==2.31.0, but you have requests 2.32.3 which is incompatible.\n",
      "marshmallow-sqlalchemy 0.28.2 requires SQLAlchemy<2.0,>=1.3.0, but you have sqlalchemy 2.0.40 which is incompatible.\n",
      "pygwalker 0.4.7 requires kanaries-track==0.0.4, but you have kanaries-track 0.0.3 which is incompatible.\n",
      "pygwalker 0.4.7 requires segment-analytics-python==2.2.3, but you have segment-analytics-python 2.2.2 which is incompatible.\n",
      "s3fs 2023.12.2 requires fsspec==2023.12.2, but you have fsspec 2025.3.2 which is incompatible.\n",
      "spacy 3.8.5 requires thinc<8.4.0,>=8.3.4, but you have thinc 8.3.2 which is incompatible.\u001b[0m\u001b[31m\n",
      "\u001b[0m"
     ]
    }
   ],
   "source": [
    "!pip -q install --force-reinstall langgraph langchain_aws langchain-huggingface langchain"
   ]
  },
  {
   "cell_type": "code",
   "execution_count": 2,
   "id": "3f628962-2305-405c-a343-c1894c4d03a6",
   "metadata": {},
   "outputs": [],
   "source": [
    "import bql\n",
    "import boto3\n",
    "import botocore\n",
    "import random\n",
    "import json\n",
    "import importlib\n",
    "from utils.s3_helper import S3Helper\n",
    "\n",
    "from langchain.prompts import PromptTemplate\n",
    "from langchain_core.runnables import RunnableSequence\n",
    "from langchain_core.rate_limiters import InMemoryRateLimiter\n",
    "\n",
    "from langchain_aws import ChatBedrock\n",
    "from pydantic import BaseModel, Field\n",
    "from IPython.display import Markdown, display\n",
    "import company_data\n",
    "from datetime import datetime\n",
    "from dateutil.relativedelta import relativedelta\n",
    "\n",
    "import prompts\n",
    "import pandas as pd\n",
    "\n",
    "import concurrent.futures"
   ]
  },
  {
   "cell_type": "code",
   "execution_count": 3,
   "id": "9853c5b9-7577-40be-b5e2-ed94e02f7fc4",
   "metadata": {},
   "outputs": [],
   "source": [
    "bq = bql.Service()"
   ]
  },
  {
   "cell_type": "code",
   "execution_count": 4,
   "id": "a84d2204-278e-4a49-b5a8-59868ca6c3ae",
   "metadata": {},
   "outputs": [
    {
     "data": {
      "text/plain": [
       "<module 'prompts' from '/project/prompts.py'>"
      ]
     },
     "execution_count": 4,
     "metadata": {},
     "output_type": "execute_result"
    }
   ],
   "source": [
    "importlib.reload(prompts)"
   ]
  },
  {
   "cell_type": "code",
   "execution_count": 5,
   "id": "ac806885-2601-431a-95aa-983afc46a265",
   "metadata": {},
   "outputs": [],
   "source": [
    "# Bedrock client initialise\n",
    "config = botocore.config.Config(read_timeout=1000)\n",
    "boto3_bedrock = boto3.client('bedrock-runtime',config=config)\n",
    "\n",
    "with open('Data/prompts.json', 'rb') as f:\n",
    "    prompt_set = json.load(f)"
   ]
  },
  {
   "cell_type": "markdown",
   "id": "075ab011-9961-41a4-9bf2-820082d7809e",
   "metadata": {},
   "source": [
    "### Configure the model"
   ]
  },
  {
   "cell_type": "code",
   "execution_count": 6,
   "id": "12aac5fd-91c1-4912-b595-cf65b00b4bab",
   "metadata": {},
   "outputs": [],
   "source": [
    "model_claude_id = 'us.anthropic.claude-3-7-sonnet-20250219-v1:0'\n",
    "model_claude_small = \"us.anthropic.claude-3-5-haiku-20241022-v1:0\"\n",
    "model_llama_id = 'us.meta.llama3-1-70b-instruct-v1:0'\n",
    "model_llama_small_id = \"us.meta.llama3-1-8b-instruct-v1:0\"\n",
    "\n",
    "# set up the LLM in Bedrock\n",
    "rate_limiter = InMemoryRateLimiter(\n",
    "    requests_per_second=50,\n",
    "    check_every_n_seconds=1,\n",
    "    max_bucket_size=10,\n",
    ")\n",
    "\n",
    "llm = ChatBedrock(\n",
    "    client = boto3_bedrock,\n",
    "    model_id = model_claude_id,\n",
    "    temperature = 0.01,\n",
    "    max_tokens=4000,\n",
    "    rate_limiter = rate_limiter\n",
    ")\n",
    "\n",
    "llm_small = ChatBedrock(\n",
    "    client = boto3_bedrock,\n",
    "    model_id = model_llama_small_id,\n",
    "    temperature = 0.01,\n",
    "    max_tokens = 4000,\n",
    "    rate_limiter = rate_limiter\n",
    ")\n",
    "\n",
    "llm_debate = ChatBedrock(\n",
    "    client = boto3_bedrock,\n",
    "    model_id = model_claude_small,\n",
    "    temperature = 0.01,\n",
    "    max_tokens = 4000,\n",
    "    rate_limiter = rate_limiter\n",
    ")"
   ]
  },
  {
   "cell_type": "code",
   "execution_count": 62,
   "id": "04597584-8bbb-4d72-a1df-a62dbaacdcda",
   "metadata": {},
   "outputs": [],
   "source": [
    "# test prompt\n",
    "security = prompt_set[0]\n",
    "sec_name = security['security']\n",
    "sec_date = security['date']\n",
    "sec_fs = security['prompt'][1]['content']\n",
    "sec_prices = sec_fs[sec_fs.find('Historical Price:') + 17:]"
   ]
  },
  {
   "cell_type": "code",
   "execution_count": 8,
   "id": "902adf11-4868-4231-b9a9-934889acbf68",
   "metadata": {},
   "outputs": [],
   "source": [
    "system_prompt = prompts.SYSTEM_PROMPTS['COT_CLAUDE_TEST']['prompt']\n",
    "prompt_template = PromptTemplate.from_template(system_prompt)\n",
    "# Create the prompt to feed into the model\n",
    "prompt_in = prompt_template.format(financials=sec_fs)"
   ]
  },
  {
   "cell_type": "code",
   "execution_count": 9,
   "id": "a73a11be-2b63-4181-9419-9b77332b0882",
   "metadata": {},
   "outputs": [],
   "source": [
    "output_financial_statements = llm.invoke(prompt_in)\n"
   ]
  },
  {
   "cell_type": "code",
   "execution_count": 10,
   "id": "f7d51cd1-aaa9-4ded-94e7-20b81bf23386",
   "metadata": {},
   "outputs": [
    {
     "data": {
      "text/plain": [
       "\"# Financial Analysis Report\\n\\n## 1. Analysis of Current Profitability, Liquidity, Solvency, and Efficiency Ratios\\n\\n### Profitability Ratios (Period t)\\n- **Gross Profit Margin**: 21.24% (29.456B/138.704B)\\n- **Operating Profit Margin**: 3.06% (4.243B/138.704B)\\n- **Net Profit Margin**: 2.52% (3.493B/138.704B)\\n- **Return on Assets (ROA)**: 3.88% (3.493B/90.003B)\\n- **Return on Equity (ROE)**: 14.35% (3.493B/24.334B)\\n\\n### Liquidity Ratios (Period t)\\n- **Current Ratio**: 0.66 (18.909B/28.662B)\\n- **Quick Ratio**: 0.32 ((18.909B-9.652B)/28.662B)\\n- **Cash Ratio**: 0.03 (0.792B/28.662B)\\n\\n### Solvency Ratios (Period t)\\n- **Debt-to-Equity Ratio**: 2.70 (65.669B/24.334B)\\n- **Debt-to-Assets Ratio**: 0.73 (65.669B/90.003B)\\n- **Interest Coverage Ratio**: 6.15 (4.243B/0.69B)\\n\\n### Efficiency Ratios (Period t)\\n- **Asset Turnover Ratio**: 1.54 (138.704B/90.003B)\\n- **Inventory Turnover**: 11.32 (109.248B/9.652B)\\n- **Receivables Turnover**: 18.32 (138.704B/7.572B)\\n\\n## 2. Time-Series Analysis Across Ratios\\n\\n### Profitability Trends\\n- **Gross Profit Margin**: Declining trend (23.10% in t-5 to 21.24% in t)\\n- **Operating Profit Margin**: Significant decline (4.57% in t-5 to 3.06% in t)\\n- **Net Profit Margin**: Substantial decline (3.96% in t-5 to 2.52% in t)\\n- **ROE**: Declining (20.28% in t-5 to 14.35% in t)\\n\\n### Liquidity Trends\\n- **Current Ratio**: Relatively stable but consistently below 1.0 (0.80 in t-5 to 0.66 in t)\\n- **Quick Ratio**: Declining (0.36 in t-5 to 0.32 in t)\\n\\n### Solvency Trends\\n- **Debt-to-Equity Ratio**: Increased significantly (1.66 in t-5 to 2.70 in t)\\n- **Interest Coverage Ratio**: Declined (9.79 in t-5 to 6.15 in t)\\n\\n### Efficiency Trends\\n- **Asset Turnover**: Relatively stable (1.92 in t-5 to 1.54 in t)\\n- **Inventory Turnover**: Increased slightly (9.43 in t-5 to 11.32 in t)\\n\\n## 3. Analysis of Financial Performance\\n\\nThe company shows concerning trends in its financial performance:\\n\\n1. **Declining Profitability**: All profitability metrics show a consistent downward trend over the six periods. Operating income has decreased by 31% from 6.15B in t-5 to 4.24B in t, despite relatively stable revenue.\\n\\n2. **Margin Compression**: Gross profit margin has declined from 23.10% to 21.24%, indicating increasing cost pressures. This suggests the company is facing challenges in maintaining pricing power or managing costs effectively.\\n\\n3. **Operational Efficiency Concerns**: While revenue has remained relatively stable (slight increase of 3.06% from t-5 to t), operating expenses as a percentage of revenue have increased, resulting in lower operating income.\\n\\n4. **Debt Burden**: The company has significantly increased its debt levels, with total liabilities growing from 43.68B in t-5 to 65.67B in t, a 50.3% increase. This has resulted in higher leverage ratios and reduced financial flexibility.\\n\\n5. **Weak Liquidity Position**: The current ratio below 1.0 indicates potential short-term liquidity challenges, which could be problematic given the increasing debt burden.\\n\\n## 4. Stock Price Analysis\\n\\nThe stock price shows a concerning downward trend:\\n- From April 2019 to April 2020, the stock price declined from $55.36 to $40.32, representing a 27.2% decrease.\\n- The stock experienced significant volatility, with a peak of $59.27 in December 2019.\\n- The sharp decline in early 2020 (from $59.08 in January to $40.32 in April) suggests market concerns about the company's future prospects.\\n- The stock price decline aligns with the deteriorating financial performance observed in the financial statements.\\n\\n## 5. Decision Analysis\\n\\n### Positive Factors (30% weight)\\n1. **Stable Revenue**: The company has maintained relatively stable revenue, showing slight growth over the periods.\\n2. **Improved Inventory Management**: Inventory turnover has improved, indicating better inventory management.\\n3. **Consistent Dividend Capability**: Despite challenges, the company continues to maintain retained earnings.\\n\\n### Negative Factors (70% weight)\\n1. **Declining Profitability**: Consistent decline in operating income and all profitability margins.\\n2. **Increasing Debt Burden**: Significant increase in debt levels, raising concerns about financial flexibility.\\n3. **Margin Compression**: Declining gross profit margin indicates cost pressures or pricing challenges.\\n4. **Poor Liquidity**: Current ratio below 1.0 suggests potential short-term financial constraints.\\n5. **Declining Stock Price**: The market has already recognized the deteriorating fundamentals.\\n6. **Declining EPS**: Basic EPS has decreased from $5.44 in t-5 to $3.90 in t, a 28.3% decline.\\n\\n## 6. Final Decision\\n\\nBased on the comprehensive analysis of financial statements and stock price trends, I predict that earnings will **decrease** in the next financial period. The magnitude of the decrease is likely to be moderate, in the range of 5-10%.\\n\\nThe consistent deterioration in profitability metrics, increasing debt burden, and margin compression indicate fundamental challenges that are unlikely to reverse in the short term. The company's operational efficiency is declining, as evidenced by the widening gap between stable revenue and decreasing operating income.\\n\\n**Confidence Score: 75%**\\n\\nThe confidence in this prediction is moderately high due to the consistent negative trends across multiple financial metrics and the alignment with market sentiment reflected in the declining stock price.\\n\\n## 7. Information Gaps for Better Decision-Making\\n\\nAdditional information that would enhance the analysis includes:\\n\\n1. **Industry benchmarks and competitive positioning** to determine if the declining performance is company-specific or industry-wide.\\n\\n2. **Segment reporting** to identify which business units are underperforming and which might be growth drivers.\\n\\n3. **Forward-looking guidance from management** regarding cost-cutting initiatives, strategic shifts, or expected market conditions.\\n\\n4. **Capital expenditure plans** to understand if the company is investing for future growth despite current challenges.\\n\\n5. **Customer concentration data** to assess dependency risks on key customers.\\n\\n6. **Geographic revenue breakdown** to identify regional strengths and weaknesses.\\n\\n7. **Detailed debt maturity schedule** to better assess refinancing risks given the high debt levels.\\n\\n8. **Analyst consensus estimates** to compare our analysis with market expectations.\\n\\nThese data points would provide context for the financial trends and help assess whether the company has viable strategies to reverse the negative trajectory.\""
      ]
     },
     "execution_count": 10,
     "metadata": {},
     "output_type": "execute_result"
    }
   ],
   "source": [
    "output_financial_statements.content\n",
    "#display(Markdown(output.content))"
   ]
  },
  {
   "cell_type": "markdown",
   "id": "b69ecd5b-fa06-4149-83c1-3b8d6ff08c10",
   "metadata": {},
   "source": [
    "# Analyse the News datasets"
   ]
  },
  {
   "cell_type": "code",
   "execution_count": 11,
   "id": "4e7a4783-3042-41d1-8e66-b81473b47d67",
   "metadata": {},
   "outputs": [],
   "source": [
    "s3_helper = S3Helper('tmp/fs')"
   ]
  },
  {
   "cell_type": "code",
   "execution_count": 12,
   "id": "0b51ca39-85f3-4ef8-9f25-48975b2ca572",
   "metadata": {},
   "outputs": [],
   "source": [
    "s3_helper.get_file(filename='dow_headlines.parquet', local_filename='/tmp/dow_headlines.parquet')"
   ]
  },
  {
   "cell_type": "code",
   "execution_count": 13,
   "id": "047708fd-fc2a-4a44-b217-7e769d35a35d",
   "metadata": {},
   "outputs": [],
   "source": [
    "news_headlines = pd.read_parquet('/tmp/dow_headlines.parquet')"
   ]
  },
  {
   "cell_type": "code",
   "execution_count": 14,
   "id": "2aaa8cc0-b96b-499a-bf1a-389f81df07b8",
   "metadata": {},
   "outputs": [
    {
     "data": {
      "text/html": [
       "<div>\n",
       "<style scoped>\n",
       "    .dataframe tbody tr th:only-of-type {\n",
       "        vertical-align: middle;\n",
       "    }\n",
       "\n",
       "    .dataframe tbody tr th {\n",
       "        vertical-align: top;\n",
       "    }\n",
       "\n",
       "    .dataframe thead th {\n",
       "        text-align: right;\n",
       "    }\n",
       "</style>\n",
       "<table border=\"1\" class=\"dataframe\">\n",
       "  <thead>\n",
       "    <tr style=\"text-align: right;\">\n",
       "      <th></th>\n",
       "      <th>SUID</th>\n",
       "      <th>Headline</th>\n",
       "      <th>TimeOfArrival</th>\n",
       "      <th>Assigned_ID_BB_GLOBAL</th>\n",
       "    </tr>\n",
       "  </thead>\n",
       "  <tbody>\n",
       "    <tr>\n",
       "      <th>0</th>\n",
       "      <td>PKP0NPDWRGG0</td>\n",
       "      <td>*jpmorgan rehires ling zhang from bgi genomics</td>\n",
       "      <td>2019-01-02 07:26:13.641</td>\n",
       "      <td>BBG000DMBXR2</td>\n",
       "    </tr>\n",
       "    <tr>\n",
       "      <th>1</th>\n",
       "      <td>PKP0NQDWRGG0</td>\n",
       "      <td>*jpmorgan names zhang china healthcare investm...</td>\n",
       "      <td>2019-01-02 07:26:14.600</td>\n",
       "      <td>BBG000DMBXR2</td>\n",
       "    </tr>\n",
       "    <tr>\n",
       "      <th>2</th>\n",
       "      <td>PKP0PY6KLVR4</td>\n",
       "      <td>apple remains core tech holding in ‘risk-off’ ...</td>\n",
       "      <td>2019-01-02 07:27:34.229</td>\n",
       "      <td>BBG000B9XRY4</td>\n",
       "    </tr>\n",
       "    <tr>\n",
       "      <th>3</th>\n",
       "      <td>PKP4IB6K50XT</td>\n",
       "      <td>refinery outages: exxon beaumont; pes philadel...</td>\n",
       "      <td>2019-01-02 08:49:23.087</td>\n",
       "      <td>BBG000GZQ728</td>\n",
       "    </tr>\n",
       "    <tr>\n",
       "      <th>4</th>\n",
       "      <td>PKP72M6K50XU</td>\n",
       "      <td>taiwan walks tightrope between china and not c...</td>\n",
       "      <td>2019-01-02 09:44:46.220</td>\n",
       "      <td>BBG000B9XRY4</td>\n",
       "    </tr>\n",
       "    <tr>\n",
       "      <th>...</th>\n",
       "      <td>...</td>\n",
       "      <td>...</td>\n",
       "      <td>...</td>\n",
       "      <td>...</td>\n",
       "    </tr>\n",
       "    <tr>\n",
       "      <th>104203</th>\n",
       "      <td>SV3C9WBKHDS1</td>\n",
       "      <td>*disney moves date of new 'star wars' movie up...</td>\n",
       "      <td>2025-04-21 23:08:20.275</td>\n",
       "      <td>BBG000BH4R78</td>\n",
       "    </tr>\n",
       "    <tr>\n",
       "      <th>104204</th>\n",
       "      <td>SV3C9WBKHDS2</td>\n",
       "      <td>*disney comments on film release schedule in e...</td>\n",
       "      <td>2025-04-21 23:08:20.287</td>\n",
       "      <td>BBG000BH4R78</td>\n",
       "    </tr>\n",
       "    <tr>\n",
       "      <th>104205</th>\n",
       "      <td>SV3FAKT0G1KW</td>\n",
       "      <td>amazon must negotiate with teamsters, labor bo...</td>\n",
       "      <td>2025-04-22 00:13:32.732</td>\n",
       "      <td>BBG000BVPV84</td>\n",
       "    </tr>\n",
       "    <tr>\n",
       "      <th>104206</th>\n",
       "      <td>SV3MJUGENSW0</td>\n",
       "      <td>unitedhealth cut to hold at hsbc; pt $490</td>\n",
       "      <td>2025-04-22 02:50:18.840</td>\n",
       "      <td>BBG000CH5208</td>\n",
       "    </tr>\n",
       "    <tr>\n",
       "      <th>104207</th>\n",
       "      <td>SV3W01T0AFB4</td>\n",
       "      <td>vietnam stocks fall most in two weeks on margi...</td>\n",
       "      <td>2025-04-22 06:43:53.091</td>\n",
       "      <td>BBG000PSKYX7</td>\n",
       "    </tr>\n",
       "  </tbody>\n",
       "</table>\n",
       "<p>104208 rows × 4 columns</p>\n",
       "</div>"
      ],
      "text/plain": [
       "                SUID                                           Headline  \\\n",
       "0       PKP0NPDWRGG0     *jpmorgan rehires ling zhang from bgi genomics   \n",
       "1       PKP0NQDWRGG0  *jpmorgan names zhang china healthcare investm...   \n",
       "2       PKP0PY6KLVR4  apple remains core tech holding in ‘risk-off’ ...   \n",
       "3       PKP4IB6K50XT  refinery outages: exxon beaumont; pes philadel...   \n",
       "4       PKP72M6K50XU  taiwan walks tightrope between china and not c...   \n",
       "...              ...                                                ...   \n",
       "104203  SV3C9WBKHDS1  *disney moves date of new 'star wars' movie up...   \n",
       "104204  SV3C9WBKHDS2  *disney comments on film release schedule in e...   \n",
       "104205  SV3FAKT0G1KW  amazon must negotiate with teamsters, labor bo...   \n",
       "104206  SV3MJUGENSW0          unitedhealth cut to hold at hsbc; pt $490   \n",
       "104207  SV3W01T0AFB4  vietnam stocks fall most in two weeks on margi...   \n",
       "\n",
       "                 TimeOfArrival Assigned_ID_BB_GLOBAL  \n",
       "0      2019-01-02 07:26:13.641          BBG000DMBXR2  \n",
       "1      2019-01-02 07:26:14.600          BBG000DMBXR2  \n",
       "2      2019-01-02 07:27:34.229          BBG000B9XRY4  \n",
       "3      2019-01-02 08:49:23.087          BBG000GZQ728  \n",
       "4      2019-01-02 09:44:46.220          BBG000B9XRY4  \n",
       "...                        ...                   ...  \n",
       "104203 2025-04-21 23:08:20.275          BBG000BH4R78  \n",
       "104204 2025-04-21 23:08:20.287          BBG000BH4R78  \n",
       "104205 2025-04-22 00:13:32.732          BBG000BVPV84  \n",
       "104206 2025-04-22 02:50:18.840          BBG000CH5208  \n",
       "104207 2025-04-22 06:43:53.091          BBG000PSKYX7  \n",
       "\n",
       "[104208 rows x 4 columns]"
      ]
     },
     "execution_count": 14,
     "metadata": {},
     "output_type": "execute_result"
    }
   ],
   "source": [
    "news_headlines"
   ]
  },
  {
   "cell_type": "code",
   "execution_count": 15,
   "id": "ce1880fe-623e-4932-b7f4-7fbd2e8fef8a",
   "metadata": {},
   "outputs": [],
   "source": [
    "# Convert sec_name to figi\n",
    "def convert_to_figi(sec_name: str) -> str:\n",
    "    \"\"\"Function to convert Bloomberg tickers in a dataframe to FIGIs for ESL\"\"\"\n",
    "    univ      = sec_name\n",
    "    field     = {'figi': bq.data.composite_id_bb_global(), \n",
    "                 'name': bq.data.name(), \n",
    "                 'sector': bq.data.bics_level_1_sector_name()}\n",
    "    req = bql.Request(univ, field)\n",
    "    data = bq.execute(req)\n",
    "    return (data[0].df().loc[sec_name]['figi'], data[1].df().loc[sec_name]['name'], data[2].df().loc[sec_name]['sector'])\n",
    "    "
   ]
  },
  {
   "cell_type": "code",
   "execution_count": 16,
   "id": "a28d9ed7-3a67-4610-b4ae-0284720c0678",
   "metadata": {},
   "outputs": [
    {
     "data": {
      "text/plain": [
       "'BBG000BWLMJ4'"
      ]
     },
     "execution_count": 16,
     "metadata": {},
     "output_type": "execute_result"
    }
   ],
   "source": [
    "figi_name, name, sector = convert_to_figi(sec_name)\n",
    "figi_name"
   ]
  },
  {
   "cell_type": "code",
   "execution_count": 17,
   "id": "34c76a80-3064-4450-9f26-957ed7dfe0e8",
   "metadata": {},
   "outputs": [
    {
     "data": {
      "text/plain": [
       "'Consumer Staples'"
      ]
     },
     "execution_count": 17,
     "metadata": {},
     "output_type": "execute_result"
    }
   ],
   "source": [
    "sector"
   ]
  },
  {
   "cell_type": "code",
   "execution_count": 18,
   "id": "62f274fe-b453-4b79-8164-836333115689",
   "metadata": {},
   "outputs": [],
   "source": [
    "\n",
    "def filter_by_company_date(dataset, security, max_date = None):\n",
    "    \n",
    "    if max_date != None:\n",
    "        #claculate the minimum date to get a 3 month window\n",
    "        min_date = datetime.strptime(max_date,\"%Y-%m-%d\") + relativedelta(months=-3)\n",
    "        min_date = min_date.strftime(\"%Y-%m-%d\")\n",
    "        filtered_dataset = dataset[(dataset['TimeOfArrival'] < max_date) &  (dataset['TimeOfArrival'] >= min_date) & (dataset['Assigned_ID_BB_GLOBAL'] == security)]\n",
    "    else:\n",
    "        filtered_dataset = dataset[dataset['Assigned_ID_BB_GLOBAL'] == security]\n",
    "    \n",
    "    filtered_list = filtered_dataset['Headline'].to_list()\n",
    "\n",
    "    if len(filtered_list) >= 50:\n",
    "        return random.sample(filtered_list, 50)\n",
    "    else:\n",
    "        return filtered_list\n",
    "    "
   ]
  },
  {
   "cell_type": "code",
   "execution_count": 19,
   "id": "1881d167-1ea2-4ccc-b56c-9823b473d62b",
   "metadata": {},
   "outputs": [
    {
     "data": {
      "text/plain": [
       "'2020-04-02'"
      ]
     },
     "execution_count": 19,
     "metadata": {},
     "output_type": "execute_result"
    }
   ],
   "source": [
    "sec_date"
   ]
  },
  {
   "cell_type": "code",
   "execution_count": 20,
   "id": "8706cc2b-759e-4adf-93a2-73cc90f70605",
   "metadata": {},
   "outputs": [],
   "source": [
    "headline_filter_test = filter_by_company_date(news_headlines, figi_name, sec_date)"
   ]
  },
  {
   "cell_type": "code",
   "execution_count": 21,
   "id": "c98a7578-133e-48f4-a37c-c6803ef34c72",
   "metadata": {},
   "outputs": [
    {
     "data": {
      "text/plain": [
       "['preview walgreens 1q: awaiting direction on long-term strategy',\n",
       " '*walgreens boots 1q adj eps $1.37, est. $1.41',\n",
       " '*walgreens boots 1q net sales $34.3b, est. $34.58b',\n",
       " 'walgreens boots first quarter adjusted eps misses estimates',\n",
       " '*walgreens boots alliance maintains fy adjusted eps guidance',\n",
       " '*wba 1q us retail pharmacy comp sales +1.6%, est. +5.3%',\n",
       " 'walgreens sinks 6% pre-mkt; likely to break uptrend',\n",
       " 'walgreens stock slump deepens as drugstore giant’s profits slide',\n",
       " '*walgreens ceo pessina says company had slow start to 2020',\n",
       " 'walgreens stock slump deepens as drugstore’s profits slide (1)',\n",
       " 'walgreens off to slow start in 2020; investors skeptical on lbo',\n",
       " 'walgreens boots pt cut to $56 from $59 at mizuho securities usa',\n",
       " 'walgreens boots maintains quarterly dividend at 45.75 cents/shr',\n",
       " '*walgreens names richard ashworth president of walgreens',\n",
       " 'walgreens boots goes ex-dividend, trades without payout',\n",
       " 'walgreens boots implied volatility surges as shares fall',\n",
       " '*walgreens directed consultants to remove damaging findings: nyt',\n",
       " 'walgreens had consultants remove findings about mistakes: nyt',\n",
       " 'walgreens boots implied volatility up, reaches 79th percentile',\n",
       " 'walgreens boots implied volatility up, reaches 100th percentile',\n",
       " 'walgreens boots implied volatility up, reaches 100th percentile',\n",
       " 'walgreens boots implied volatility down, reaches 99th percentile',\n",
       " 'walgreens boots implied volatility up, reaches 99th percentile',\n",
       " '*quotation resumed:(wba) u.s market wide circuit breaker',\n",
       " '*trading released/resumed:(wba) reason not available',\n",
       " '*walgreens waiving delivery fees for all eligible prescriptions',\n",
       " 'walgreens boots implied volatility drops as shares rise',\n",
       " '*walgreens: temporary space at some stores for covid-19 testing',\n",
       " 'walgreens to allow covid-19 testing outside selected stores',\n",
       " 'walgreens boots implied volatility drops as shares fall',\n",
       " '*walgreens announces temporary changes to store operating hours',\n",
       " '*walgreens: most locations will now be open from 9 a.m.- 9 p.m',\n",
       " 'walgreens boots implied volatility up, reaches 100th percentile',\n",
       " '*sec sues rite aid employee with insider trading',\n",
       " '*sec sues rite aid staff w/insider trading over walgreens deal',\n",
       " 'sec sues rite aid staff with insider trading over walgreens deal',\n",
       " 'preview walgreens\\xa02q: covid-19 impact to take center stage',\n",
       " 'walgreens boots options imply elevated post-earnings volatility']"
      ]
     },
     "execution_count": 21,
     "metadata": {},
     "output_type": "execute_result"
    }
   ],
   "source": [
    "headline_filter_test"
   ]
  },
  {
   "cell_type": "code",
   "execution_count": 31,
   "id": "5a622cea-39ce-444d-9af8-d46adef04c3e",
   "metadata": {},
   "outputs": [],
   "source": [
    "system_prompt = \"\"\"You are an assistant to a financial analyst analyzing {security} You must remove any reference to {security} and their products from the following list of headlines and replace them with the term 'blah'. Replace the names of any people such as ceo in the article with the term 'whah' do not refer to {security} at all in your answer:{headlines}\"\"\"\n",
    "prompt_template = PromptTemplate.from_template(system_prompt)\n",
    "# Create the prompt to feed into the model\n",
    "prompt_in = prompt_template.format(headlines=headline_filter_test, security=name)"
   ]
  },
  {
   "cell_type": "code",
   "execution_count": 32,
   "id": "bf971022-f3c3-4d3c-86bc-64280ab8f082",
   "metadata": {},
   "outputs": [
    {
     "data": {
      "text/plain": [
       "\"You are an assistant to a financial analyst analyzing Walgreens Boots Alliance Inc You must remove any reference to Walgreens Boots Alliance Inc and their products from the following list of headlines and replace them with the term 'blah'. Replace the names of any people such as ceo in the article with the term 'whah' do not refer to Walgreens Boots Alliance Inc at all in your answer:['preview walgreens 1q: awaiting direction on long-term strategy', '*walgreens boots 1q adj eps $1.37, est. $1.41', '*walgreens boots 1q net sales $34.3b, est. $34.58b', 'walgreens boots first quarter adjusted eps misses estimates', '*walgreens boots alliance maintains fy adjusted eps guidance', '*wba 1q us retail pharmacy comp sales +1.6%, est. +5.3%', 'walgreens sinks 6% pre-mkt; likely to break uptrend', 'walgreens stock slump deepens as drugstore giant’s profits slide', '*walgreens ceo pessina says company had slow start to 2020', 'walgreens stock slump deepens as drugstore’s profits slide (1)', 'walgreens off to slow start in 2020; investors skeptical on lbo', 'walgreens boots pt cut to $56 from $59 at mizuho securities usa', 'walgreens boots maintains quarterly dividend at 45.75 cents/shr', '*walgreens names richard ashworth president of walgreens', 'walgreens boots goes ex-dividend, trades without payout', 'walgreens boots implied volatility surges as shares fall', '*walgreens directed consultants to remove damaging findings: nyt', 'walgreens had consultants remove findings about mistakes: nyt', 'walgreens boots implied volatility up, reaches 79th percentile', 'walgreens boots implied volatility up, reaches 100th percentile', 'walgreens boots implied volatility up, reaches 100th percentile', 'walgreens boots implied volatility down, reaches 99th percentile', 'walgreens boots implied volatility up, reaches 99th percentile', '*quotation resumed:(wba) u.s market wide circuit breaker', '*trading released/resumed:(wba) reason not available', '*walgreens waiving delivery fees for all eligible prescriptions', 'walgreens boots implied volatility drops as shares rise', '*walgreens: temporary space at some stores for covid-19 testing', 'walgreens to allow covid-19 testing outside selected stores', 'walgreens boots implied volatility drops as shares fall', '*walgreens announces temporary changes to store operating hours', '*walgreens: most locations will now be open from 9 a.m.- 9 p.m', 'walgreens boots implied volatility up, reaches 100th percentile', '*sec sues rite aid employee with insider trading', '*sec sues rite aid staff w/insider trading over walgreens deal', 'sec sues rite aid staff with insider trading over walgreens deal', 'preview walgreens\\\\xa02q: covid-19 impact to take center stage', 'walgreens boots options imply elevated post-earnings volatility']\""
      ]
     },
     "execution_count": 32,
     "metadata": {},
     "output_type": "execute_result"
    }
   ],
   "source": [
    "prompt_in"
   ]
  },
  {
   "cell_type": "code",
   "execution_count": 33,
   "id": "29b5ea51-ba10-4804-9b8c-9b40cf376992",
   "metadata": {},
   "outputs": [],
   "source": [
    "output_cleaned = llm_small.invoke(prompt_in)"
   ]
  },
  {
   "cell_type": "code",
   "execution_count": 34,
   "id": "e10a4640-3dc9-44f7-8268-8bf7ec5c9f70",
   "metadata": {},
   "outputs": [
    {
     "data": {
      "text/plain": [
       "AIMessage(content=\"Here is the list of headlines with all references to the company and its people removed:\\n\\n* 'preview blah 1q: awaiting direction on long-term strategy'\\n* 'blah blah 1q adj eps $1.37, est. $1.41'\\n* 'blah blah 1q net sales $34.3b, est. $34.58b'\\n* 'blah blah first quarter adjusted eps misses estimates'\\n* 'blah blah maintains fy adjusted eps guidance'\\n* 'blah blah 1q us retail pharmacy comp sales +1.6%, est. +5.3%'\\n* 'blah sinks 6% pre-mkt; likely to break uptrend'\\n* 'blah stock slump deepens as drugstore giant’s profits slide'\\n* 'blah ceo whah says company had slow start to 2020'\\n* 'blah stock slump deepens as drugstore’s profits slide (1)'\\n* 'blah off to slow start in 2020; investors skeptical on lbo'\\n* 'blah blah pt cut to $56 from $59 at mizuho securities usa'\\n* 'blah blah maintains quarterly dividend at 45.75 cents/shr'\\n* 'blah names richard ashworth president of blah'\\n* 'blah blah goes ex-dividend, trades without payout'\\n* 'blah blah implied volatility surges as shares fall'\\n* 'blah directed consultants to remove damaging findings: nyt'\\n* 'blah had consultants remove findings about mistakes: nyt'\\n* 'blah blah implied volatility up, reaches 79th percentile'\\n* 'blah blah implied volatility up, reaches 100th percentile'\\n* 'blah blah implied volatility up, reaches 100th percentile'\\n* 'blah blah implied volatility down, reaches 99th percentile'\\n* 'blah blah implied volatility up, reaches 99th percentile'\\n* 'quotation resumed:(blah) u.s market wide circuit breaker'\\n* 'trading released/resumed:(blah) reason not available'\\n* 'blah waiving delivery fees for all eligible prescriptions'\\n* 'blah blah implied volatility drops as shares rise'\\n* 'blah: temporary space at some stores for covid-19 testing'\\n* 'blah to allow covid-19 testing outside selected stores'\\n* 'blah blah implied volatility drops as shares fall'\\n* 'blah announces temporary changes to store operating hours'\\n* 'blah: most locations will now be open from 9 a.m.- 9 p.m'\\n* 'blah blah implied volatility up, reaches 100th percentile'\\n* 'sec sues blah employee with insider trading'\\n* 'sec sues blah staff w/insider trading over blah deal'\\n* 'sec sues blah staff with insider trading over blah deal'\\n* 'preview blah 2q: covid-19 impact to take center stage'\\n* 'blah blah options imply elevated post-earnings volatility'\", additional_kwargs={'usage': {'prompt_tokens': 658, 'completion_tokens': 581, 'cache_read_input_tokens': 0, 'cache_write_input_tokens': 0, 'total_tokens': 1239}, 'stop_reason': 'stop', 'thinking': {}, 'model_id': 'us.meta.llama3-1-8b-instruct-v1:0', 'model_name': 'us.meta.llama3-1-8b-instruct-v1:0'}, response_metadata={'usage': {'prompt_tokens': 658, 'completion_tokens': 581, 'cache_read_input_tokens': 0, 'cache_write_input_tokens': 0, 'total_tokens': 1239}, 'stop_reason': 'stop', 'thinking': {}, 'model_id': 'us.meta.llama3-1-8b-instruct-v1:0', 'model_name': 'us.meta.llama3-1-8b-instruct-v1:0'}, id='run-c3e546b7-e506-4dfa-9811-5fd4647ed33a-0', usage_metadata={'input_tokens': 658, 'output_tokens': 581, 'total_tokens': 1239, 'input_token_details': {'cache_creation': 0, 'cache_read': 0}})"
      ]
     },
     "execution_count": 34,
     "metadata": {},
     "output_type": "execute_result"
    }
   ],
   "source": [
    "output_cleaned"
   ]
  },
  {
   "cell_type": "code",
   "execution_count": 37,
   "id": "f681d863-821f-4409-b3ba-e434295bc4fb",
   "metadata": {},
   "outputs": [],
   "source": [
    "output_ceo = llm.invoke(\"Guess the name of the company blah from the following headline: blah ceo whah says company had slow start to 2020\")"
   ]
  },
  {
   "cell_type": "code",
   "execution_count": 38,
   "id": "122bb529-7ae3-4dfa-83cc-ecac4bc74043",
   "metadata": {},
   "outputs": [
    {
     "data": {
      "text/plain": [
       "AIMessage(content='Based on the headline \"blah ceo whah says company had slow start to 2020,\" I need to guess the company name that\\'s represented by \"blah\" in the headline.\\n\\nSince \"blah\" is just a placeholder in your example and not the actual headline, I can\\'t determine the real company name. In a real headline, the company name would appear where \"blah\" is positioned.\\n\\nIf you have an actual headline you\\'d like me to analyze, I\\'d be happy to help identify the company being referenced.', additional_kwargs={'usage': {'prompt_tokens': 36, 'completion_tokens': 115, 'cache_read_input_tokens': 0, 'cache_write_input_tokens': 0, 'total_tokens': 151}, 'stop_reason': 'end_turn', 'thinking': {}, 'model_id': 'us.anthropic.claude-3-7-sonnet-20250219-v1:0', 'model_name': 'us.anthropic.claude-3-7-sonnet-20250219-v1:0'}, response_metadata={'usage': {'prompt_tokens': 36, 'completion_tokens': 115, 'cache_read_input_tokens': 0, 'cache_write_input_tokens': 0, 'total_tokens': 151}, 'stop_reason': 'end_turn', 'thinking': {}, 'model_id': 'us.anthropic.claude-3-7-sonnet-20250219-v1:0', 'model_name': 'us.anthropic.claude-3-7-sonnet-20250219-v1:0'}, id='run-486eb469-3f29-4bcf-99d9-127ce81dccf3-0', usage_metadata={'input_tokens': 36, 'output_tokens': 115, 'total_tokens': 151, 'input_token_details': {'cache_creation': 0, 'cache_read': 0}})"
      ]
     },
     "execution_count": 38,
     "metadata": {},
     "output_type": "execute_result"
    }
   ],
   "source": [
    "output_ceo"
   ]
  },
  {
   "cell_type": "code",
   "execution_count": 35,
   "id": "c34912ac-b582-409f-834b-a11da2064d0c",
   "metadata": {},
   "outputs": [],
   "source": [
    "cleaned_headlines = output_cleaned.content.split('\\n')"
   ]
  },
  {
   "cell_type": "code",
   "execution_count": 36,
   "id": "4fba8fa7-55ed-49ac-908d-2e60f91126ea",
   "metadata": {},
   "outputs": [
    {
     "data": {
      "text/plain": [
       "['',\n",
       " \"* 'preview blah 1q: awaiting direction on long-term strategy'\",\n",
       " \"* 'blah blah 1q adj eps $1.37, est. $1.41'\",\n",
       " \"* 'blah blah 1q net sales $34.3b, est. $34.58b'\",\n",
       " \"* 'blah blah first quarter adjusted eps misses estimates'\",\n",
       " \"* 'blah blah maintains fy adjusted eps guidance'\",\n",
       " \"* 'blah blah 1q us retail pharmacy comp sales +1.6%, est. +5.3%'\",\n",
       " \"* 'blah sinks 6% pre-mkt; likely to break uptrend'\",\n",
       " \"* 'blah stock slump deepens as drugstore giant’s profits slide'\",\n",
       " \"* 'blah ceo whah says company had slow start to 2020'\",\n",
       " \"* 'blah stock slump deepens as drugstore’s profits slide (1)'\",\n",
       " \"* 'blah off to slow start in 2020; investors skeptical on lbo'\",\n",
       " \"* 'blah blah pt cut to $56 from $59 at mizuho securities usa'\",\n",
       " \"* 'blah blah maintains quarterly dividend at 45.75 cents/shr'\",\n",
       " \"* 'blah names richard ashworth president of blah'\",\n",
       " \"* 'blah blah goes ex-dividend, trades without payout'\",\n",
       " \"* 'blah blah implied volatility surges as shares fall'\",\n",
       " \"* 'blah directed consultants to remove damaging findings: nyt'\",\n",
       " \"* 'blah had consultants remove findings about mistakes: nyt'\",\n",
       " \"* 'blah blah implied volatility up, reaches 79th percentile'\",\n",
       " \"* 'blah blah implied volatility up, reaches 100th percentile'\",\n",
       " \"* 'blah blah implied volatility up, reaches 100th percentile'\",\n",
       " \"* 'blah blah implied volatility down, reaches 99th percentile'\",\n",
       " \"* 'blah blah implied volatility up, reaches 99th percentile'\",\n",
       " \"* 'quotation resumed:(blah) u.s market wide circuit breaker'\",\n",
       " \"* 'trading released/resumed:(blah) reason not available'\",\n",
       " \"* 'blah waiving delivery fees for all eligible prescriptions'\",\n",
       " \"* 'blah blah implied volatility drops as shares rise'\",\n",
       " \"* 'blah: temporary space at some stores for covid-19 testing'\",\n",
       " \"* 'blah to allow covid-19 testing outside selected stores'\",\n",
       " \"* 'blah blah implied volatility drops as shares fall'\",\n",
       " \"* 'blah announces temporary changes to store operating hours'\",\n",
       " \"* 'blah: most locations will now be open from 9 a.m.- 9 p.m'\",\n",
       " \"* 'blah blah implied volatility up, reaches 100th percentile'\",\n",
       " \"* 'sec sues blah employee with insider trading'\",\n",
       " \"* 'sec sues blah staff w/insider trading over blah deal'\",\n",
       " \"* 'sec sues blah staff with insider trading over blah deal'\",\n",
       " \"* 'preview blah 2q: covid-19 impact to take center stage'\",\n",
       " \"* 'blah blah options imply elevated post-earnings volatility'\"]"
      ]
     },
     "execution_count": 36,
     "metadata": {},
     "output_type": "execute_result"
    }
   ],
   "source": [
    "cleaned_headlines[1:]"
   ]
  },
  {
   "cell_type": "code",
   "execution_count": 39,
   "id": "86fbd21e-717e-4bff-b095-affc2d0dd769",
   "metadata": {},
   "outputs": [],
   "source": [
    "system_prompt = \"\"\"You are a financial analyst and are reviewing news for company called blah over the last three months. Blah is in the {sector} sector. Start by listing the revenue drivers for the sector. Then look through the below headlines and determine if blah will see an increase or decrease in their earnings over the next quarter. Think through your response. {headlines}\"\"\"\n",
    "prompt_template = PromptTemplate.from_template(system_prompt)\n",
    "# Create the prompt to feed into the model\n",
    "prompt_in = prompt_template.format(headlines=cleaned_headlines[1:], sector=sector)"
   ]
  },
  {
   "cell_type": "code",
   "execution_count": 40,
   "id": "90f48182-9135-4439-ad74-f97d8f39656f",
   "metadata": {},
   "outputs": [
    {
     "data": {
      "text/plain": [
       "'You are a financial analyst and are reviewing news for company called blah over the last three months. Blah is in the Consumer Staples sector. Start by listing the revenue drivers for the sector. Then look through the below headlines and determine if blah will see an increase or decrease in their earnings over the next quarter. Think through your response. [\\'\\', \"* \\'preview blah 1q: awaiting direction on long-term strategy\\'\", \"* \\'blah blah 1q adj eps $1.37, est. $1.41\\'\", \"* \\'blah blah 1q net sales $34.3b, est. $34.58b\\'\", \"* \\'blah blah first quarter adjusted eps misses estimates\\'\", \"* \\'blah blah maintains fy adjusted eps guidance\\'\", \"* \\'blah blah 1q us retail pharmacy comp sales +1.6%, est. +5.3%\\'\", \"* \\'blah sinks 6% pre-mkt; likely to break uptrend\\'\", \"* \\'blah stock slump deepens as drugstore giant’s profits slide\\'\", \"* \\'blah ceo whah says company had slow start to 2020\\'\", \"* \\'blah stock slump deepens as drugstore’s profits slide (1)\\'\", \"* \\'blah off to slow start in 2020; investors skeptical on lbo\\'\", \"* \\'blah blah pt cut to $56 from $59 at mizuho securities usa\\'\", \"* \\'blah blah maintains quarterly dividend at 45.75 cents/shr\\'\", \"* \\'blah names richard ashworth president of blah\\'\", \"* \\'blah blah goes ex-dividend, trades without payout\\'\", \"* \\'blah blah implied volatility surges as shares fall\\'\", \"* \\'blah directed consultants to remove damaging findings: nyt\\'\", \"* \\'blah had consultants remove findings about mistakes: nyt\\'\", \"* \\'blah blah implied volatility up, reaches 79th percentile\\'\", \"* \\'blah blah implied volatility up, reaches 100th percentile\\'\", \"* \\'blah blah implied volatility up, reaches 100th percentile\\'\", \"* \\'blah blah implied volatility down, reaches 99th percentile\\'\", \"* \\'blah blah implied volatility up, reaches 99th percentile\\'\", \"* \\'quotation resumed:(blah) u.s market wide circuit breaker\\'\", \"* \\'trading released/resumed:(blah) reason not available\\'\", \"* \\'blah waiving delivery fees for all eligible prescriptions\\'\", \"* \\'blah blah implied volatility drops as shares rise\\'\", \"* \\'blah: temporary space at some stores for covid-19 testing\\'\", \"* \\'blah to allow covid-19 testing outside selected stores\\'\", \"* \\'blah blah implied volatility drops as shares fall\\'\", \"* \\'blah announces temporary changes to store operating hours\\'\", \"* \\'blah: most locations will now be open from 9 a.m.- 9 p.m\\'\", \"* \\'blah blah implied volatility up, reaches 100th percentile\\'\", \"* \\'sec sues blah employee with insider trading\\'\", \"* \\'sec sues blah staff w/insider trading over blah deal\\'\", \"* \\'sec sues blah staff with insider trading over blah deal\\'\", \"* \\'preview blah 2q: covid-19 impact to take center stage\\'\", \"* \\'blah blah options imply elevated post-earnings volatility\\'\"]'"
      ]
     },
     "execution_count": 40,
     "metadata": {},
     "output_type": "execute_result"
    }
   ],
   "source": [
    "prompt_in"
   ]
  },
  {
   "cell_type": "code",
   "execution_count": 42,
   "id": "4ab5dbe5-1362-4318-bff0-0ac9ff2d4bf3",
   "metadata": {},
   "outputs": [],
   "source": [
    "output_news = llm.invoke(prompt_in)"
   ]
  },
  {
   "cell_type": "code",
   "execution_count": 43,
   "id": "e61a9815-b90f-4dcc-915e-7668f3e4f843",
   "metadata": {},
   "outputs": [
    {
     "data": {
      "text/markdown": [
       "# Financial Analysis of Blah (Consumer Staples Sector)\n",
       "\n",
       "## Revenue Drivers for Consumer Staples Sector\n",
       "\n",
       "1. **Consumer Spending Patterns**: Essential goods consumption remains relatively stable even during economic downturns\n",
       "2. **Pricing Power**: Ability to pass on cost increases to consumers\n",
       "3. **Product Mix**: Balance between premium and value offerings\n",
       "4. **Distribution Network**: Retail footprint and e-commerce capabilities\n",
       "5. **Brand Loyalty**: Consumer preference for trusted brands\n",
       "6. **Population Growth**: Expanding customer base\n",
       "7. **Innovation**: New product development and line extensions\n",
       "8. **International Expansion**: Growth in emerging markets\n",
       "9. **Promotional Activities**: Effectiveness of marketing campaigns\n",
       "10. **Operational Efficiency**: Supply chain management and cost control\n",
       "\n",
       "## Analysis of Blah's Earnings Outlook\n",
       "\n",
       "Based on the headlines provided, I can make the following assessment:\n",
       "\n",
       "### Negative Indicators:\n",
       "- Missed Q1 earnings expectations: EPS of $1.37 vs. $1.41 estimate\n",
       "- Missed Q1 sales: $34.3B vs. $34.58B estimate\n",
       "- US retail pharmacy comp sales significantly underperformed: +1.6% vs. +5.3% estimate\n",
       "- Stock price declined 6% in pre-market trading\n",
       "- CEO acknowledged a \"slow start to 2020\"\n",
       "- Price target cut from $59 to $56 by Mizuho Securities\n",
       "- Reports of consultants being directed to remove damaging findings (potential governance issues)\n",
       "- High implied volatility indicating market uncertainty\n",
       "\n",
       "### Neutral/Positive Indicators:\n",
       "- Maintained full-year adjusted EPS guidance (suggests potential recovery in later quarters)\n",
       "- Maintained quarterly dividend at 45.75 cents/share (financial stability)\n",
       "- New president appointed (potential for strategic changes)\n",
       "- COVID-19 response initiatives: waiving delivery fees for prescriptions, offering testing spaces\n",
       "- Adjusted store hours in response to pandemic (operational adaptation)\n",
       "\n",
       "### COVID-19 Impact:\n",
       "- Several headlines indicate the company is adapting to the pandemic\n",
       "- Testing facilities and prescription delivery changes could drive traffic\n",
       "- Modified store hours may impact short-term sales but demonstrate adaptability\n",
       "\n",
       "## Conclusion\n",
       "\n",
       "Based on the available information, Blah is likely to see a **decrease in earnings over the next quarter**. The reasoning includes:\n",
       "\n",
       "1. The company already missed Q1 expectations for both EPS and sales\n",
       "2. Pharmacy comparable sales significantly underperformed expectations\n",
       "3. Management acknowledged a slow start to 2020\n",
       "4. COVID-19 disruptions will likely continue to impact operations\n",
       "5. Analysts have reduced price targets\n",
       "6. The potential governance issues suggested by the NYT article about removing damaging findings could create additional headwinds\n",
       "\n",
       "While the company is taking appropriate steps to adapt to the pandemic environment and has maintained its full-year guidance, the combination of a weak Q1 performance and ongoing COVID-19 disruptions suggests that Q2 will continue to be challenging. The maintenance of full-year guidance might indicate management expects improvement in the second half of the year rather than the next quarter."
      ],
      "text/plain": [
       "<IPython.core.display.Markdown object>"
      ]
     },
     "metadata": {},
     "output_type": "display_data"
    }
   ],
   "source": [
    "display(Markdown(output_news.content))"
   ]
  },
  {
   "cell_type": "code",
   "execution_count": 44,
   "id": "08220f10-1c0b-42e4-aa70-9e763dbe1c0a",
   "metadata": {},
   "outputs": [],
   "source": [
    "system_prompt = \"\"\"You are a senior financial analyst and review your teams work. You are looking at a financial summary and news for 'blah'. Using the summaries only, critique the report and construct an alternative narrative. If the narrative is in agreement with the two reports, make clear your belief in the direction of earning. If in disagreement, state why you disagree. Think through your response. {financial_summary} \\n {news_summary}\"\"\"\n",
    "prompt_template = PromptTemplate.from_template(system_prompt)\n",
    "# Create the prompt to feed into the model\n",
    "prompt_in = prompt_template.format(financial_summary=output_financial_statements.content, news_summary=output_news.content)"
   ]
  },
  {
   "cell_type": "code",
   "execution_count": 45,
   "id": "448f7324-21a4-4792-9f1e-28008fed827b",
   "metadata": {},
   "outputs": [
    {
     "data": {
      "text/plain": [
       "'You are a senior financial analyst and review your teams work. You are looking at a financial summary and news for \\'blah\\'. Using the summaries only, critique the report and construct an alternative narrative. If the narrative is in agreement with the two reports, make clear your belief in the direction of earning. If in disagreement, state why you disagree. Think through your response. # Financial Analysis Report\\n\\n## 1. Analysis of Current Profitability, Liquidity, Solvency, and Efficiency Ratios\\n\\n### Profitability Ratios (Period t)\\n- **Gross Profit Margin**: 21.24% (29.456B/138.704B)\\n- **Operating Profit Margin**: 3.06% (4.243B/138.704B)\\n- **Net Profit Margin**: 2.52% (3.493B/138.704B)\\n- **Return on Assets (ROA)**: 3.88% (3.493B/90.003B)\\n- **Return on Equity (ROE)**: 14.35% (3.493B/24.334B)\\n\\n### Liquidity Ratios (Period t)\\n- **Current Ratio**: 0.66 (18.909B/28.662B)\\n- **Quick Ratio**: 0.32 ((18.909B-9.652B)/28.662B)\\n- **Cash Ratio**: 0.03 (0.792B/28.662B)\\n\\n### Solvency Ratios (Period t)\\n- **Debt-to-Equity Ratio**: 2.70 (65.669B/24.334B)\\n- **Debt-to-Assets Ratio**: 0.73 (65.669B/90.003B)\\n- **Interest Coverage Ratio**: 6.15 (4.243B/0.69B)\\n\\n### Efficiency Ratios (Period t)\\n- **Asset Turnover Ratio**: 1.54 (138.704B/90.003B)\\n- **Inventory Turnover**: 11.32 (109.248B/9.652B)\\n- **Receivables Turnover**: 18.32 (138.704B/7.572B)\\n\\n## 2. Time-Series Analysis Across Ratios\\n\\n### Profitability Trends\\n- **Gross Profit Margin**: Declining trend (23.10% in t-5 to 21.24% in t)\\n- **Operating Profit Margin**: Significant decline (4.57% in t-5 to 3.06% in t)\\n- **Net Profit Margin**: Substantial decline (3.96% in t-5 to 2.52% in t)\\n- **ROE**: Declining (20.28% in t-5 to 14.35% in t)\\n\\n### Liquidity Trends\\n- **Current Ratio**: Relatively stable but consistently below 1.0 (0.80 in t-5 to 0.66 in t)\\n- **Quick Ratio**: Declining (0.36 in t-5 to 0.32 in t)\\n\\n### Solvency Trends\\n- **Debt-to-Equity Ratio**: Increased significantly (1.66 in t-5 to 2.70 in t)\\n- **Interest Coverage Ratio**: Declined (9.79 in t-5 to 6.15 in t)\\n\\n### Efficiency Trends\\n- **Asset Turnover**: Relatively stable (1.92 in t-5 to 1.54 in t)\\n- **Inventory Turnover**: Increased slightly (9.43 in t-5 to 11.32 in t)\\n\\n## 3. Analysis of Financial Performance\\n\\nThe company shows concerning trends in its financial performance:\\n\\n1. **Declining Profitability**: All profitability metrics show a consistent downward trend over the six periods. Operating income has decreased by 31% from 6.15B in t-5 to 4.24B in t, despite relatively stable revenue.\\n\\n2. **Margin Compression**: Gross profit margin has declined from 23.10% to 21.24%, indicating increasing cost pressures. This suggests the company is facing challenges in maintaining pricing power or managing costs effectively.\\n\\n3. **Operational Efficiency Concerns**: While revenue has remained relatively stable (slight increase of 3.06% from t-5 to t), operating expenses as a percentage of revenue have increased, resulting in lower operating income.\\n\\n4. **Debt Burden**: The company has significantly increased its debt levels, with total liabilities growing from 43.68B in t-5 to 65.67B in t, a 50.3% increase. This has resulted in higher leverage ratios and reduced financial flexibility.\\n\\n5. **Weak Liquidity Position**: The current ratio below 1.0 indicates potential short-term liquidity challenges, which could be problematic given the increasing debt burden.\\n\\n## 4. Stock Price Analysis\\n\\nThe stock price shows a concerning downward trend:\\n- From April 2019 to April 2020, the stock price declined from $55.36 to $40.32, representing a 27.2% decrease.\\n- The stock experienced significant volatility, with a peak of $59.27 in December 2019.\\n- The sharp decline in early 2020 (from $59.08 in January to $40.32 in April) suggests market concerns about the company\\'s future prospects.\\n- The stock price decline aligns with the deteriorating financial performance observed in the financial statements.\\n\\n## 5. Decision Analysis\\n\\n### Positive Factors (30% weight)\\n1. **Stable Revenue**: The company has maintained relatively stable revenue, showing slight growth over the periods.\\n2. **Improved Inventory Management**: Inventory turnover has improved, indicating better inventory management.\\n3. **Consistent Dividend Capability**: Despite challenges, the company continues to maintain retained earnings.\\n\\n### Negative Factors (70% weight)\\n1. **Declining Profitability**: Consistent decline in operating income and all profitability margins.\\n2. **Increasing Debt Burden**: Significant increase in debt levels, raising concerns about financial flexibility.\\n3. **Margin Compression**: Declining gross profit margin indicates cost pressures or pricing challenges.\\n4. **Poor Liquidity**: Current ratio below 1.0 suggests potential short-term financial constraints.\\n5. **Declining Stock Price**: The market has already recognized the deteriorating fundamentals.\\n6. **Declining EPS**: Basic EPS has decreased from $5.44 in t-5 to $3.90 in t, a 28.3% decline.\\n\\n## 6. Final Decision\\n\\nBased on the comprehensive analysis of financial statements and stock price trends, I predict that earnings will **decrease** in the next financial period. The magnitude of the decrease is likely to be moderate, in the range of 5-10%.\\n\\nThe consistent deterioration in profitability metrics, increasing debt burden, and margin compression indicate fundamental challenges that are unlikely to reverse in the short term. The company\\'s operational efficiency is declining, as evidenced by the widening gap between stable revenue and decreasing operating income.\\n\\n**Confidence Score: 75%**\\n\\nThe confidence in this prediction is moderately high due to the consistent negative trends across multiple financial metrics and the alignment with market sentiment reflected in the declining stock price.\\n\\n## 7. Information Gaps for Better Decision-Making\\n\\nAdditional information that would enhance the analysis includes:\\n\\n1. **Industry benchmarks and competitive positioning** to determine if the declining performance is company-specific or industry-wide.\\n\\n2. **Segment reporting** to identify which business units are underperforming and which might be growth drivers.\\n\\n3. **Forward-looking guidance from management** regarding cost-cutting initiatives, strategic shifts, or expected market conditions.\\n\\n4. **Capital expenditure plans** to understand if the company is investing for future growth despite current challenges.\\n\\n5. **Customer concentration data** to assess dependency risks on key customers.\\n\\n6. **Geographic revenue breakdown** to identify regional strengths and weaknesses.\\n\\n7. **Detailed debt maturity schedule** to better assess refinancing risks given the high debt levels.\\n\\n8. **Analyst consensus estimates** to compare our analysis with market expectations.\\n\\nThese data points would provide context for the financial trends and help assess whether the company has viable strategies to reverse the negative trajectory. \\n # Financial Analysis of Blah (Consumer Staples Sector)\\n\\n## Revenue Drivers for Consumer Staples Sector\\n\\n1. **Consumer Spending Patterns**: Essential goods consumption remains relatively stable even during economic downturns\\n2. **Pricing Power**: Ability to pass on cost increases to consumers\\n3. **Product Mix**: Balance between premium and value offerings\\n4. **Distribution Network**: Retail footprint and e-commerce capabilities\\n5. **Brand Loyalty**: Consumer preference for trusted brands\\n6. **Population Growth**: Expanding customer base\\n7. **Innovation**: New product development and line extensions\\n8. **International Expansion**: Growth in emerging markets\\n9. **Promotional Activities**: Effectiveness of marketing campaigns\\n10. **Operational Efficiency**: Supply chain management and cost control\\n\\n## Analysis of Blah\\'s Earnings Outlook\\n\\nBased on the headlines provided, I can make the following assessment:\\n\\n### Negative Indicators:\\n- Missed Q1 earnings expectations: EPS of $1.37 vs. $1.41 estimate\\n- Missed Q1 sales: $34.3B vs. $34.58B estimate\\n- US retail pharmacy comp sales significantly underperformed: +1.6% vs. +5.3% estimate\\n- Stock price declined 6% in pre-market trading\\n- CEO acknowledged a \"slow start to 2020\"\\n- Price target cut from $59 to $56 by Mizuho Securities\\n- Reports of consultants being directed to remove damaging findings (potential governance issues)\\n- High implied volatility indicating market uncertainty\\n\\n### Neutral/Positive Indicators:\\n- Maintained full-year adjusted EPS guidance (suggests potential recovery in later quarters)\\n- Maintained quarterly dividend at 45.75 cents/share (financial stability)\\n- New president appointed (potential for strategic changes)\\n- COVID-19 response initiatives: waiving delivery fees for prescriptions, offering testing spaces\\n- Adjusted store hours in response to pandemic (operational adaptation)\\n\\n### COVID-19 Impact:\\n- Several headlines indicate the company is adapting to the pandemic\\n- Testing facilities and prescription delivery changes could drive traffic\\n- Modified store hours may impact short-term sales but demonstrate adaptability\\n\\n## Conclusion\\n\\nBased on the available information, Blah is likely to see a **decrease in earnings over the next quarter**. The reasoning includes:\\n\\n1. The company already missed Q1 expectations for both EPS and sales\\n2. Pharmacy comparable sales significantly underperformed expectations\\n3. Management acknowledged a slow start to 2020\\n4. COVID-19 disruptions will likely continue to impact operations\\n5. Analysts have reduced price targets\\n6. The potential governance issues suggested by the NYT article about removing damaging findings could create additional headwinds\\n\\nWhile the company is taking appropriate steps to adapt to the pandemic environment and has maintained its full-year guidance, the combination of a weak Q1 performance and ongoing COVID-19 disruptions suggests that Q2 will continue to be challenging. The maintenance of full-year guidance might indicate management expects improvement in the second half of the year rather than the next quarter.'"
      ]
     },
     "execution_count": 45,
     "metadata": {},
     "output_type": "execute_result"
    }
   ],
   "source": [
    "prompt_in"
   ]
  },
  {
   "cell_type": "code",
   "execution_count": 46,
   "id": "a21a7174-3da8-491d-a50f-c9002317459b",
   "metadata": {},
   "outputs": [],
   "source": [
    "final_output = llm.invoke(prompt_in)"
   ]
  },
  {
   "cell_type": "code",
   "execution_count": 47,
   "id": "dc143329-92ce-4246-a349-76427514bc54",
   "metadata": {},
   "outputs": [
    {
     "data": {
      "text/markdown": [
       "# Senior Financial Analyst Review: Blah Financial Assessment\n",
       "\n",
       "## Critical Analysis of the Reports\n",
       "\n",
       "After reviewing both financial summaries for Blah, I find several areas of agreement but also some important differences in interpretation and emphasis that warrant discussion.\n",
       "\n",
       "### Areas of Agreement\n",
       "\n",
       "Both reports correctly identify concerning trends in Blah's financial performance:\n",
       "- Declining profitability metrics across multiple periods\n",
       "- Increasing debt burden (D/E ratio rising from 1.66 to 2.70)\n",
       "- Liquidity challenges (current ratio below 1.0)\n",
       "- Recent stock price decline\n",
       "- Q1 earnings and revenue misses versus analyst expectations\n",
       "\n",
       "### Alternative Narrative and Critique\n",
       "\n",
       "While the first report provides a thorough ratio analysis, I believe it underweights several critical factors that the second report better captures:\n",
       "\n",
       "1. **COVID-19 Context is Underemphasized**: The first report fails to adequately consider the pandemic's impact on operations, which is crucial for understanding current performance and future trajectory. The second report correctly identifies this as a major contextual factor affecting both recent results and near-term outlook.\n",
       "\n",
       "2. **Sector-Specific Considerations**: The first report lacks industry context. Consumer staples companies typically demonstrate resilience during economic downturns, which should be factored into the analysis. The second report appropriately frames the analysis within sector-specific drivers.\n",
       "\n",
       "3. **Operational Adaptation**: The first report overlooks Blah's strategic responses to changing market conditions (modified store hours, waived delivery fees, testing facilities), which could positively impact future performance despite current challenges.\n",
       "\n",
       "4. **Governance Concerns**: The first report misses potential governance issues highlighted in the second report (consultants directed to remove damaging findings), which could represent material risks beyond the financial metrics.\n",
       "\n",
       "5. **Inventory Turnover Interpretation**: While the first report views improved inventory turnover positively, in the current context this could actually indicate supply chain disruptions or panic buying during COVID-19 rather than operational improvement.\n",
       "\n",
       "## My Assessment of Earnings Direction\n",
       "\n",
       "I agree with both reports that Blah is likely to experience **decreased earnings in the near term**. However, my reasoning combines elements from both analyses:\n",
       "\n",
       "1. The consistent deterioration in profitability metrics over multiple periods indicates fundamental challenges that predate COVID-19, suggesting structural issues rather than merely cyclical ones.\n",
       "\n",
       "2. The significant miss on pharmacy comparable sales (+1.6% vs. +5.3% expected) is particularly concerning for a consumer staples company during a health crisis, when this segment should be performing strongly.\n",
       "\n",
       "3. The liquidity position (current ratio of 0.66) combined with increasing leverage (D/E ratio of 2.70) limits financial flexibility precisely when adaptability is most needed.\n",
       "\n",
       "4. The potential governance issues suggested by the NYT article represent an additional risk factor that could impact both operations and market perception.\n",
       "\n",
       "5. While the company is maintaining its full-year guidance, this likely reflects expected improvement in the second half rather than the next quarter, as management has already acknowledged a \"slow start to 2020.\"\n",
       "\n",
       "## Additional Insights\n",
       "\n",
       "I would add these considerations not fully addressed in either report:\n",
       "\n",
       "1. **Cash Flow Analysis**: Neither report adequately addresses cash flow trends, which are critical given the liquidity concerns. The cash ratio of just 0.03 is alarmingly low and deserves more attention.\n",
       "\n",
       "2. **Working Capital Management**: With a quick ratio of 0.32, the company appears highly dependent on inventory conversion to meet short-term obligations, creating vulnerability if sales slow.\n",
       "\n",
       "3. **Dividend Sustainability**: While maintaining the dividend signals confidence, the declining profitability raises questions about long-term dividend sustainability that should be monitored.\n",
       "\n",
       "4. **Competitive Positioning**: A more thorough analysis of how Blah's performance compares to direct competitors would provide valuable context for determining whether these challenges are company-specific or industry-wide.\n",
       "\n",
       "In conclusion, I believe Blah will face continued earnings pressure in the near term, with a likely decline in the 7-12% range for the next quarter. The company faces both structural challenges (margin compression, high leverage) and situational headwinds (COVID-19 disruptions, potential governance issues). Investors should closely monitor cash flow metrics and the company's ability to maintain its dividend while managing its debt burden."
      ],
      "text/plain": [
       "<IPython.core.display.Markdown object>"
      ]
     },
     "metadata": {},
     "output_type": "display_data"
    }
   ],
   "source": [
    "display(Markdown(final_output.content))"
   ]
  },
  {
   "cell_type": "markdown",
   "id": "447647a9-77cf-4ae0-81e2-15b59fd24f53",
   "metadata": {},
   "source": [
    "## Langgraph Debate Step"
   ]
  },
  {
   "cell_type": "code",
   "execution_count": 48,
   "id": "ab5f0d41-1baf-41bc-ab27-fbc2ca6f8ceb",
   "metadata": {},
   "outputs": [],
   "source": [
    "from langgraph.graph import START, END, StateGraph\n",
    "from langgraph.graph.message import add_messages\n",
    "\n",
    "from typing import Dict, TypedDict, Optional"
   ]
  },
  {
   "cell_type": "code",
   "execution_count": 101,
   "id": "5b8b5103-61c6-4b6d-af69-b5e82170fcce",
   "metadata": {},
   "outputs": [],
   "source": [
    "def llm (prompt):\n",
    "    return llm_debate.invoke(prompt).content"
   ]
  },
  {
   "cell_type": "code",
   "execution_count": 102,
   "id": "59e02430-67b6-485d-be1a-3e59e1a84c90",
   "metadata": {},
   "outputs": [],
   "source": [
    "# number of agents\n",
    "agents = ['BUY', 'SELL', 'HOLD']"
   ]
  },
  {
   "cell_type": "code",
   "execution_count": null,
   "id": "94cbd307-2a62-4dfd-ba23-eb3b965b970d",
   "metadata": {},
   "outputs": [],
   "source": [
    "class GraphState(TypedDict):\n",
    "    classification: Optional[str] = None\n",
    "    last_agent: Optional[str] = None\n",
    "    history: Optional[str] = None\n",
    "    summary_buy: Optional[str] = None\n",
    "    summary_sell: Optional[str] = None\n",
    "    summary_hold: Optional[str] = None\n",
    "    current_response: Optional[str] = None\n",
    "    count: Optional[int] = None\n",
    "    results: Optional[str] = None\n",
    "    consensus: Optional[dict[str:str]]\n",
    "\n",
    "analyst_workflow = StateGraph(GraphState)"
   ]
  },
  {
   "cell_type": "code",
   "execution_count": 160,
   "id": "b45c8f5c-be09-43ca-a654-a3ea6226de9d",
   "metadata": {},
   "outputs": [],
   "source": [
    "debate_agent_initial_system_prompt = \"\"\"You are part of the investment committee at an asset management firm. Your senior analyst in the {sector} sector has presented the findings of reports with your fellow committee members until you come to an agreement on whether to recommend BUY, SELL or HOLD based on the stock price below and the reports from the analysts. If you are all in agreement then stop. You are advocating to {decision} the stock. Give a short 200 word summary of your decision. Only use the following context. Think through the response. Context: {senior_analyst_report} {financial_statement} {stock_prices}\"\"\"\n",
    "agentic_initial_template = PromptTemplate.from_template(debate_agent_initial_system_prompt)\n",
    "\n",
    "debate_agent_system_prompt = \"\"\"You are part of the investment committee at an asset management firm. Your senior analyst in the {sector} sector has presented the findings of reports with your fellow committee members until you come to an agreement on whether to recommend BUY, SELL or HOLD. You were initially advocating for {decision} but can now change your mind based on the conversation. Put forward the next argument. Do not repeat yourself. Do not use information outside of the conversation. Provide the argument in less than 200 words. For review: {senior_analyst_report} \\nPrior conversation: {conversation} \"\"\"\n",
    "agentic_debate_template = PromptTemplate.from_template(debate_agent_system_prompt)\n",
    "\n",
    "debate_direction_system_prompt = \"\"\"Based on the response, return the sentiment of the response as BUY, SELL or HOLD. Only return a single word: BUY, SELL or HOLD. Conversation: {conversation}\"\"\"\n",
    "debate_direction_system_prompt = PromptTemplate.from_template(debate_direction_system_prompt)\n",
    "\n",
    "result_system_prompt = \"\"\"You are part of the investment committee at an asset management firm. You hold the deciding vote on whether to BUY, SELL or HOLD a stock. You must always proceed with the majority decision of the analysts. If there is no majority decision, decide on a winner. There can only be one decision. Only output the decision. The conversation is: {conversation}\"\"\"\n",
    "results_template = PromptTemplate.from_template(result_system_prompt)"
   ]
  },
  {
   "cell_type": "code",
   "execution_count": 161,
   "id": "f8c7bc55-5f3c-40f5-b5d3-5f09656aab96",
   "metadata": {},
   "outputs": [],
   "source": [
    "def debate_format(state, state_update, decision):\n",
    "    \"\"\"\n",
    "    Function to run the debate between three agents. All use the same template/ format\n",
    "    state_update: str - pass name of object to store the agent summary\n",
    "    decision: str - identity of the agent\n",
    "    \"\"\"\n",
    "    summary = state.get('history', '').strip()\n",
    "    summary_x = state.get(state_update, '').strip()\n",
    "    current_response = state.get('current_response', '').strip()\n",
    "    if summary_x=='Nothing':\n",
    "        # this is the initial argument\n",
    "        prompt_in = agentic_initial_template.format(decision=decision, \n",
    "                                                    senior_analyst_report=final_output.content,\n",
    "                                                    financial_statement=output_financial_statements.content,\n",
    "                                                    stock_prices=sec_prices,\n",
    "                                                    sector=sector)\n",
    "        argument = decision + \":\" + llm(prompt_in)\n",
    "        if summary == 'Nothing':\n",
    "            return {'history': 'START\\n' + argument, \n",
    "                    state_update: argument, \n",
    "                    'current_response': argument, \n",
    "                    'count':state.get('count')+1,\n",
    "                    'last_agent': decision}\n",
    "        else:\n",
    "            return {'history': summary + '\\n' + argument, \n",
    "                    state_update: argument, \n",
    "                    'current_response': argument, \n",
    "                    'count':state.get('count')+1,\n",
    "                    'last_agent': decision}\n",
    "    else:\n",
    "        # this runs during the debate\n",
    "        prompt_in = agentic_debate_template.format(decision=decision,\n",
    "                                                      sector=sector,\n",
    "                                                      senior_analyst_report=final_output.content,\n",
    "                                                      conversation=summary)\n",
    "        argument = decision + \":\" + llm(prompt_in)\n",
    "\n",
    "        return {'history': summary + '\\n' + argument,\n",
    "                'current_response': argument, \n",
    "                'count': state.get('count') + 1,\n",
    "                'last_agent': decision}\n",
    "\n",
    "def next_node(state):\n",
    "    last_agent = state.get('current_response').strip()\n",
    "    current_consensus = state.get('consensus')\n",
    "    prompt_in = debate_direction_system_prompt.format(conversation=last_agent)\n",
    "    last_node = llm(prompt_in)\n",
    "    \n",
    "    return {'classification': last_node}\n",
    "\n",
    "def handle_buy(state):\n",
    "    return debate_format(state, 'summary_buy', 'BUY')\n",
    "\n",
    "def handle_sell(state):\n",
    "    return debate_format(state, 'summary_sell', 'SELL')\n",
    "\n",
    "def handle_hold(state):\n",
    "    return debate_format(state, 'summary_hold', 'HOLD')\n",
    "\n",
    "def result(state):\n",
    "    summary = state.get('history').strip()\n",
    "    prompt_in = results_template.format(conversation=summary)\n",
    "    return {\"results\":llm(prompt_in)}"
   ]
  },
  {
   "cell_type": "code",
   "execution_count": 162,
   "id": "764ef583-bfea-4129-ad26-251c9a3ed6bf",
   "metadata": {},
   "outputs": [
    {
     "data": {
      "text/plain": [
       "<langgraph.graph.state.StateGraph at 0x7f422b3221f0>"
      ]
     },
     "execution_count": 162,
     "metadata": {},
     "output_type": "execute_result"
    }
   ],
   "source": [
    "analyst_workflow.add_node('next_node', next_node)\n",
    "analyst_workflow.add_node('handle_buy', handle_buy)\n",
    "analyst_workflow.add_node('handle_sell', handle_sell)\n",
    "analyst_workflow.add_node('handle_hold', handle_hold)\n",
    "analyst_workflow.add_node('result', result)"
   ]
  },
  {
   "cell_type": "code",
   "execution_count": 163,
   "id": "54a401ae-8a1e-49b8-83a7-e68f8bd40e01",
   "metadata": {},
   "outputs": [
    {
     "data": {
      "text/plain": [
       "<langgraph.graph.state.StateGraph at 0x7f422b3221f0>"
      ]
     },
     "execution_count": 163,
     "metadata": {},
     "output_type": "execute_result"
    }
   ],
   "source": [
    "# Add the logic to decide the next steps in the debate\n",
    "def decide_next_node(state):\n",
    "    last_agent = state.get('last_agent')\n",
    "    if state.get('summary_sell', '') == 'Nothing':\n",
    "        return 'handle_sell'\n",
    "    if state.get('summary_hold', '') == 'Nothing':\n",
    "        return 'handle_hold'\n",
    "    if last_agent == state.get('classification'):\n",
    "        # agent is agreeing with their classification.\n",
    "        # debate should continue\n",
    "        if last_agent == 'BUY':\n",
    "            return 'handle_sell'\n",
    "        if last_agent == 'SELL':\n",
    "            return 'handle_hold'\n",
    "        if last_agent == 'HOLD':\n",
    "            return 'handle_buy'\n",
    "    else:\n",
    "        # one of the agents has changed their mind\n",
    "        return 'result'\n",
    "\n",
    "def check_conv_length(state):\n",
    "    return \"result\" if state.get(\"count\")==9 else \"next_node\"\n",
    "\n",
    "analyst_workflow.add_conditional_edges(\n",
    "    \"next_node\",\n",
    "    decide_next_node,\n",
    "    {\n",
    "        \"handle_buy\": \"handle_buy\",\n",
    "        \"handle_sell\": \"handle_sell\",\n",
    "        \"handle_hold\": \"handle_hold\",\n",
    "        \"result\": \"result\"\n",
    "    }\n",
    ")\n",
    "\n",
    "analyst_workflow.add_conditional_edges(\n",
    "    \"handle_buy\",\n",
    "    check_conv_length,\n",
    "    {\n",
    "        \"result\": \"result\",\n",
    "        \"next_node\": \"next_node\"\n",
    "    }\n",
    ")\n",
    "\n",
    "analyst_workflow.add_conditional_edges(\n",
    "    \"handle_sell\",\n",
    "    check_conv_length,\n",
    "    {\n",
    "        \"result\": \"result\",\n",
    "        \"next_node\": \"next_node\"\n",
    "    }\n",
    ")\n",
    "\n",
    "analyst_workflow.add_conditional_edges(\n",
    "    \"handle_hold\",\n",
    "    check_conv_length,\n",
    "    {\n",
    "        \"result\": \"result\",\n",
    "        \"next_node\": \"next_node\"\n",
    "    }\n",
    ")"
   ]
  },
  {
   "cell_type": "code",
   "execution_count": 164,
   "id": "dd13fd73-992e-48e9-9244-962a49cef9d1",
   "metadata": {},
   "outputs": [
    {
     "data": {
      "text/plain": [
       "<langgraph.graph.state.StateGraph at 0x7f422b3221f0>"
      ]
     },
     "execution_count": 164,
     "metadata": {},
     "output_type": "execute_result"
    }
   ],
   "source": [
    "analyst_workflow.set_entry_point(\"handle_buy\")\n",
    "analyst_workflow.add_edge('result', END)"
   ]
  },
  {
   "cell_type": "code",
   "execution_count": 165,
   "id": "e59e6d1e-582d-4a1b-b89d-bee9f8efb6aa",
   "metadata": {},
   "outputs": [],
   "source": [
    "app = analyst_workflow.compile()"
   ]
  },
  {
   "cell_type": "code",
   "execution_count": 166,
   "id": "c1095591-bc76-415d-83f4-a7f625555ebe",
   "metadata": {},
   "outputs": [
    {
     "data": {
      "text/plain": [
       "Graph(nodes={'__start__': Node(id='__start__', name='__start__', data=<class 'langchain_core.utils.pydantic.LangGraphInput'>, metadata=None), 'next_node': Node(id='next_node', name='next_node', data=next_node(tags=None, recurse=True, explode_args=False, func_accepts_config=False, func_accepts={}), metadata=None), 'handle_buy': Node(id='handle_buy', name='handle_buy', data=handle_buy(tags=None, recurse=True, explode_args=False, func_accepts_config=False, func_accepts={}), metadata=None), 'handle_sell': Node(id='handle_sell', name='handle_sell', data=handle_sell(tags=None, recurse=True, explode_args=False, func_accepts_config=False, func_accepts={}), metadata=None), 'handle_hold': Node(id='handle_hold', name='handle_hold', data=handle_hold(tags=None, recurse=True, explode_args=False, func_accepts_config=False, func_accepts={}), metadata=None), 'result': Node(id='result', name='result', data=result(tags=None, recurse=True, explode_args=False, func_accepts_config=False, func_accepts={}), metadata=None), '__end__': Node(id='__end__', name='__end__', data=<class 'langchain_core.utils.pydantic.LangGraphOutput'>, metadata=None)}, edges=[Edge(source='__start__', target='handle_buy', data=None, conditional=False), Edge(source='result', target='__end__', data=None, conditional=False), Edge(source='next_node', target='handle_buy', data=None, conditional=True), Edge(source='next_node', target='handle_sell', data=None, conditional=True), Edge(source='next_node', target='handle_hold', data=None, conditional=True), Edge(source='next_node', target='result', data=None, conditional=True), Edge(source='handle_buy', target='result', data=None, conditional=True), Edge(source='handle_buy', target='next_node', data=None, conditional=True), Edge(source='handle_sell', target='result', data=None, conditional=True), Edge(source='handle_sell', target='next_node', data=None, conditional=True), Edge(source='handle_hold', target='result', data=None, conditional=True), Edge(source='handle_hold', target='next_node', data=None, conditional=True)])"
      ]
     },
     "execution_count": 166,
     "metadata": {},
     "output_type": "execute_result"
    }
   ],
   "source": [
    "app.get_graph()"
   ]
  },
  {
   "cell_type": "code",
   "execution_count": 167,
   "id": "ce401eca-e476-4956-beba-f8108b52a99e",
   "metadata": {},
   "outputs": [
    {
     "name": "stdout",
     "output_type": "stream",
     "text": [
      "CPU times: user 57.7 ms, sys: 0 ns, total: 57.7 ms\n",
      "Wall time: 31.9 s\n"
     ]
    }
   ],
   "source": [
    "%%time\n",
    "initial_state = {\n",
    "    'count':0,\n",
    "    'history':'Nothing',\n",
    "    'current_response':'',\n",
    "    'summary_buy': 'Nothing',\n",
    "    'summary_sell': 'Nothing',\n",
    "    'summary_hold': 'Nothing',\n",
    "    'consensus': ['BUY','SELL','HOLD']\n",
    "}\n",
    "\n",
    "conversation = app.invoke(initial_state)"
   ]
  },
  {
   "cell_type": "code",
   "execution_count": 168,
   "id": "0bfbe534-67af-4b73-b6ed-cf741ad78cb0",
   "metadata": {},
   "outputs": [
    {
     "name": "stdout",
     "output_type": "stream",
     "text": [
      "START\n",
      "BUY:Investment Committee Recommendation: BUY\n",
      "\n",
      "After a comprehensive review of the financial analysis, I advocate for a BUY recommendation with strategic considerations. While the financial metrics present challenges, we see significant potential for recovery and value creation.\n",
      "\n",
      "The current stock price of $40.32 represents a 27.2% decline from its December 2019 peak of $59.27, creating an attractive entry point. Despite declining profitability metrics, the company demonstrates resilience through stable revenue and consistent dividend maintenance.\n",
      "\n",
      "Key buying rationale includes:\n",
      "1. Improved inventory management (inventory turnover increased from 9.43 to 11.32)\n",
      "2. Relatively stable revenue with slight growth\n",
      "3. Potential for operational efficiency improvements\n",
      "4. Strong market positioning in consumer staples sector\n",
      "5. Attractive valuation after significant price correction\n",
      "\n",
      "The liquidity and debt challenges, while concerning, appear manageable. The company's ability to maintain financial operations during challenging COVID-19 periods suggests adaptability. The current price represents an opportunity to acquire a fundamentally sound company at a significant discount.\n",
      "\n",
      "Our analysis suggests potential for medium-term value appreciation as market conditions normalize and the company implements strategic improvements. The low stock price, combined with the company's core strengths, makes this an attractive investment opportunity.\n",
      "\n",
      "Recommendation: STRONG BUY with a 12-month target price of $55-$60.\n",
      "SELL:Based on the comprehensive financial analysis, I recommend SELLING the stock. Here's a concise 200-word summary of our decision:\n",
      "\n",
      "The financial review reveals multiple critical concerns that justify a SELL recommendation for this stock. The company is experiencing a sustained deterioration of key financial metrics across multiple dimensions. Profitability margins have consistently declined, with net profit margin dropping from 3.96% to 2.52% and operating profit margin falling from 4.57% to 3.06% over the analyzed period.\n",
      "\n",
      "The liquidity position is particularly alarming. With a current ratio of 0.66 and a quick ratio of 0.32, the company lacks sufficient short-term financial flexibility. The debt-to-equity ratio has dramatically increased from 1.66 to 2.70, indicating growing financial leverage and potential solvency risks.\n",
      "\n",
      "Stock price performance underscores these fundamental challenges, with a significant 27.2% decline from $55.36 in April 2019 to $40.32 in April 2020. The sharp downward trajectory reflects market recognition of the company's structural weaknesses.\n",
      "\n",
      "Key negative indicators include:\n",
      "- Declining profitability margins\n",
      "- Weak liquidity position\n",
      "- Increasing debt burden\n",
      "- Consistent earnings per share reduction\n",
      "- Negative market sentiment\n",
      "\n",
      "While the company maintains stable revenue, the underlying financial deterioration suggests significant near-term challenges. Our recommendation is to SELL, anticipating continued financial pressure and potential further stock price decline.\n",
      "HOLD:Here is my 200-word summary advocating to HOLD the stock:\n",
      "\n",
      "After a comprehensive review of the financial analysis, I recommend a HOLD position for this stock. While the financial metrics reveal significant challenges, there are nuanced factors that suggest premature selling could be unwise.\n",
      "\n",
      "The company's financial performance shows concerning trends: declining profitability margins, increasing debt burden (D/E ratio rising from 1.66 to 2.70), and liquidity challenges with a current ratio below 1.0. The stock price has declined 27.2% from $55.36 to $40.32, reflecting market skepticism.\n",
      "\n",
      "However, several mitigating factors support maintaining the current position. The company has maintained relatively stable revenue, demonstrated improved inventory management, and continues dividend payments. The inventory turnover has increased, and the company shows resilience in maintaining consistent earnings despite market volatility.\n",
      "\n",
      "The most prudent strategy is to HOLD, closely monitoring key performance indicators over the next two quarters. The potential for strategic adaptation, coupled with the company's foundational strengths in the consumer staples sector, suggests that an immediate sell might be premature.\n",
      "\n",
      "The recommendation is based on a balanced assessment of current financial challenges and potential for recovery. Investors should maintain their current position while watching for signs of operational improvement or further deterioration.\n",
      "BUY:Based on the previous conversation, I will now argue for the HOLD recommendation.\n",
      "\n",
      "Our analysis reveals a critical nuance that supports maintaining our current position: the company's strategic adaptation during the COVID-19 pandemic. While financial metrics show challenges, the operational resilience demonstrates potential for recovery.\n",
      "\n",
      "The improved inventory turnover from 9.43 to 11.32 indicates management's ability to optimize operational efficiency during a challenging period. This suggests the company isn't passively accepting market conditions but actively managing resources.\n",
      "\n",
      "Moreover, the consistent dividend maintenance signals financial confidence. Despite liquidity challenges, management believes in the company's core strength and future potential. The stock's current price of $40.32 represents a significant discount from its December 2019 peak, potentially creating a value opportunity.\n",
      "\n",
      "The consumer staples sector traditionally demonstrates stability during economic uncertainties. Our company's foundational market positioning, combined with its demonstrated adaptability, suggests that an immediate exit could be premature.\n",
      "\n",
      "The recommendation to HOLD allows us to maintain our investment while closely monitoring upcoming quarterly performance for clearer strategic indicators of future potential.\n"
     ]
    }
   ],
   "source": [
    "print(conversation['history'])"
   ]
  },
  {
   "cell_type": "code",
   "execution_count": 172,
   "id": "f4766a4b-c35f-44ff-ab9e-90fba83ad3c9",
   "metadata": {},
   "outputs": [
    {
     "name": "stdout",
     "output_type": "stream",
     "text": [
      "BUY\n"
     ]
    }
   ],
   "source": [
    "print(conversation['results'])"
   ]
  },
  {
   "cell_type": "code",
   "execution_count": null,
   "id": "c9a83c46-e1cf-40dc-a74d-4f65775aec96",
   "metadata": {},
   "outputs": [],
   "source": []
  },
  {
   "cell_type": "code",
   "execution_count": null,
   "id": "c4c17487-6ac5-41c9-98d3-09be085c13a7",
   "metadata": {},
   "outputs": [],
   "source": []
  },
  {
   "cell_type": "code",
   "execution_count": null,
   "id": "f154b02f-eb14-4b66-8361-fe891ee11129",
   "metadata": {},
   "outputs": [],
   "source": []
  },
  {
   "cell_type": "code",
   "execution_count": null,
   "id": "984c4ed8-65f2-4089-83dc-6a673b75ea46",
   "metadata": {},
   "outputs": [],
   "source": []
  },
  {
   "cell_type": "code",
   "execution_count": null,
   "id": "bfa49acf-0afe-48a7-a0b9-b7861817437d",
   "metadata": {},
   "outputs": [],
   "source": []
  },
  {
   "cell_type": "code",
   "execution_count": null,
   "id": "e5317669-b13e-47de-ac20-e1e377d8ab29",
   "metadata": {},
   "outputs": [],
   "source": []
  },
  {
   "cell_type": "code",
   "execution_count": null,
   "id": "683963f4-9e01-4c84-aa6f-0432e81f7fd9",
   "metadata": {},
   "outputs": [],
   "source": []
  },
  {
   "cell_type": "code",
   "execution_count": null,
   "id": "4885f0f0-4ab5-4954-9865-8adcfe756a85",
   "metadata": {},
   "outputs": [],
   "source": []
  },
  {
   "cell_type": "code",
   "execution_count": null,
   "id": "e79925c5-9538-4ca8-a014-d88dcae510a3",
   "metadata": {},
   "outputs": [],
   "source": []
  },
  {
   "cell_type": "code",
   "execution_count": 31,
   "id": "729fd0e7-d674-4dfb-a9ee-b5a5362354e7",
   "metadata": {},
   "outputs": [
    {
     "data": {
      "text/plain": [
       "'2019-12-31'"
      ]
     },
     "execution_count": 31,
     "metadata": {},
     "output_type": "execute_result"
    }
   ],
   "source": [
    "max_date = '2020-03-31'\n",
    "\n",
    "date = datetime.strptime(max_date,\"%Y-%m-%d\")\n",
    "min_date = date + relativedelta(months=-3)\n",
    "min_date.strftime(\"%Y-%m-%d\")"
   ]
  },
  {
   "cell_type": "code",
   "execution_count": 27,
   "id": "b9abd81d-fcb9-4a7a-9978-e1668abcdff7",
   "metadata": {},
   "outputs": [
    {
     "data": {
      "text/html": [
       "<div>\n",
       "<style scoped>\n",
       "    .dataframe tbody tr th:only-of-type {\n",
       "        vertical-align: middle;\n",
       "    }\n",
       "\n",
       "    .dataframe tbody tr th {\n",
       "        vertical-align: top;\n",
       "    }\n",
       "\n",
       "    .dataframe thead th {\n",
       "        text-align: right;\n",
       "    }\n",
       "</style>\n",
       "<table border=\"1\" class=\"dataframe\">\n",
       "  <thead>\n",
       "    <tr style=\"text-align: right;\">\n",
       "      <th></th>\n",
       "      <th>SUID</th>\n",
       "      <th>Headline</th>\n",
       "      <th>TimeOfArrival</th>\n",
       "      <th>Assigned_ID_BB_GLOBAL</th>\n",
       "    </tr>\n",
       "  </thead>\n",
       "  <tbody>\n",
       "    <tr>\n",
       "      <th>0</th>\n",
       "      <td>PKP0NPDWRGG0</td>\n",
       "      <td>*jpmorgan rehires ling zhang from bgi genomics</td>\n",
       "      <td>2019-01-02 07:26:13.641</td>\n",
       "      <td>BBG000DMBXR2</td>\n",
       "    </tr>\n",
       "    <tr>\n",
       "      <th>1</th>\n",
       "      <td>PKP0NQDWRGG0</td>\n",
       "      <td>*jpmorgan names zhang china healthcare investm...</td>\n",
       "      <td>2019-01-02 07:26:14.600</td>\n",
       "      <td>BBG000DMBXR2</td>\n",
       "    </tr>\n",
       "    <tr>\n",
       "      <th>2</th>\n",
       "      <td>PKP0PY6KLVR4</td>\n",
       "      <td>apple remains core tech holding in ‘risk-off’ ...</td>\n",
       "      <td>2019-01-02 07:27:34.229</td>\n",
       "      <td>BBG000B9XRY4</td>\n",
       "    </tr>\n",
       "    <tr>\n",
       "      <th>3</th>\n",
       "      <td>PKP4IB6K50XT</td>\n",
       "      <td>refinery outages: exxon beaumont; pes philadel...</td>\n",
       "      <td>2019-01-02 08:49:23.087</td>\n",
       "      <td>BBG000GZQ728</td>\n",
       "    </tr>\n",
       "    <tr>\n",
       "      <th>4</th>\n",
       "      <td>PKP72M6K50XU</td>\n",
       "      <td>taiwan walks tightrope between china and not c...</td>\n",
       "      <td>2019-01-02 09:44:46.220</td>\n",
       "      <td>BBG000B9XRY4</td>\n",
       "    </tr>\n",
       "    <tr>\n",
       "      <th>...</th>\n",
       "      <td>...</td>\n",
       "      <td>...</td>\n",
       "      <td>...</td>\n",
       "      <td>...</td>\n",
       "    </tr>\n",
       "    <tr>\n",
       "      <th>22875</th>\n",
       "      <td>Q8106S6K50XT</td>\n",
       "      <td>*honeywell further expands n95 face mask produ...</td>\n",
       "      <td>2020-03-30 21:40:04.769</td>\n",
       "      <td>BBG000H556T9</td>\n",
       "    </tr>\n",
       "    <tr>\n",
       "      <th>22876</th>\n",
       "      <td>Q8107E6K50XU</td>\n",
       "      <td>*honeywell sees new operations to produce over...</td>\n",
       "      <td>2020-03-30 21:40:26.568</td>\n",
       "      <td>BBG000H556T9</td>\n",
       "    </tr>\n",
       "    <tr>\n",
       "      <th>22877</th>\n",
       "      <td>Q813ANDWLU6G</td>\n",
       "      <td>amazon workers see pandemic as path to better ...</td>\n",
       "      <td>2020-03-30 23:08:29.956</td>\n",
       "      <td>BBG000BVPV84</td>\n",
       "    </tr>\n",
       "    <tr>\n",
       "      <th>22878</th>\n",
       "      <td>Q809KNT1UM18</td>\n",
       "      <td>taiwan daybook: hon hai 4q profit falls; coron...</td>\n",
       "      <td>2020-03-30 23:15:00.000</td>\n",
       "      <td>BBG000B9XRY4</td>\n",
       "    </tr>\n",
       "    <tr>\n",
       "      <th>22879</th>\n",
       "      <td>Q815KUDWLU6S</td>\n",
       "      <td>amazon worker who led strike over virus says c...</td>\n",
       "      <td>2020-03-30 23:37:15.431</td>\n",
       "      <td>BBG000BVPV84</td>\n",
       "    </tr>\n",
       "  </tbody>\n",
       "</table>\n",
       "<p>22880 rows × 4 columns</p>\n",
       "</div>"
      ],
      "text/plain": [
       "               SUID                                           Headline  \\\n",
       "0      PKP0NPDWRGG0     *jpmorgan rehires ling zhang from bgi genomics   \n",
       "1      PKP0NQDWRGG0  *jpmorgan names zhang china healthcare investm...   \n",
       "2      PKP0PY6KLVR4  apple remains core tech holding in ‘risk-off’ ...   \n",
       "3      PKP4IB6K50XT  refinery outages: exxon beaumont; pes philadel...   \n",
       "4      PKP72M6K50XU  taiwan walks tightrope between china and not c...   \n",
       "...             ...                                                ...   \n",
       "22875  Q8106S6K50XT  *honeywell further expands n95 face mask produ...   \n",
       "22876  Q8107E6K50XU  *honeywell sees new operations to produce over...   \n",
       "22877  Q813ANDWLU6G  amazon workers see pandemic as path to better ...   \n",
       "22878  Q809KNT1UM18  taiwan daybook: hon hai 4q profit falls; coron...   \n",
       "22879  Q815KUDWLU6S  amazon worker who led strike over virus says c...   \n",
       "\n",
       "                TimeOfArrival Assigned_ID_BB_GLOBAL  \n",
       "0     2019-01-02 07:26:13.641          BBG000DMBXR2  \n",
       "1     2019-01-02 07:26:14.600          BBG000DMBXR2  \n",
       "2     2019-01-02 07:27:34.229          BBG000B9XRY4  \n",
       "3     2019-01-02 08:49:23.087          BBG000GZQ728  \n",
       "4     2019-01-02 09:44:46.220          BBG000B9XRY4  \n",
       "...                       ...                   ...  \n",
       "22875 2020-03-30 21:40:04.769          BBG000H556T9  \n",
       "22876 2020-03-30 21:40:26.568          BBG000H556T9  \n",
       "22877 2020-03-30 23:08:29.956          BBG000BVPV84  \n",
       "22878 2020-03-30 23:15:00.000          BBG000B9XRY4  \n",
       "22879 2020-03-30 23:37:15.431          BBG000BVPV84  \n",
       "\n",
       "[22880 rows x 4 columns]"
      ]
     },
     "execution_count": 27,
     "metadata": {},
     "output_type": "execute_result"
    }
   ],
   "source": [
    "news_headlines[news_headlines['TimeOfArrival'] < max_date]"
   ]
  },
  {
   "cell_type": "code",
   "execution_count": null,
   "id": "eed627e3-caae-4e3f-a2e3-04a8c6e1b90f",
   "metadata": {},
   "outputs": [],
   "source": [
    "min_date.strftime()"
   ]
  },
  {
   "cell_type": "code",
   "execution_count": 5,
   "id": "a334e3d5-b137-403b-a186-f37f423adfb7",
   "metadata": {},
   "outputs": [],
   "source": [
    "index_members = ['BBG000B9XRY4', 'BBG000BBJQV0', 'BBG000BBS2Y0', 'BBG000BCQZS4',\n",
    "       'BBG000BCSST7', 'BBG000BF0K17', 'BBG000BH4R78', 'BBG000BJ81C1',\n",
    "       'BBG000BKZB36', 'BBG000BLNNH6', 'BBG000BMHYD1', 'BBG000BMX289',\n",
    "       'BBG000BN2DC2', 'BBG000BNSZP1', 'BBG000BP52R2', 'BBG000BPD168',\n",
    "       'BBG000BPH459', 'BBG000BR2B91', 'BBG000BR2TH3', 'BBG000BSXQV7',\n",
    "       'BBG000BVPV84', 'BBG000BW8S60', 'BBG000BWLMJ4', 'BBG000BWXBC2',\n",
    "       'BBG000C0G1D1', 'BBG000C3J3C9', 'BBG000C5HS04', 'BBG000C6CFJ5',\n",
    "       'BBG000CH5208', 'BBG000DMBXR2', 'BBG000GZQ728', 'BBG000H556T9',\n",
    "       'BBG000HS77T5', 'BBG000K4ND22', 'BBG000PSKYX7', 'BBG00BN96922']\n",
    "\n"
   ]
  },
  {
   "cell_type": "code",
   "execution_count": 7,
   "id": "02e0313d-1213-4b07-925e-11dd2763b02c",
   "metadata": {},
   "outputs": [
    {
     "data": {
      "text/html": [
       "<div>\n",
       "<style scoped>\n",
       "    .dataframe tbody tr th:only-of-type {\n",
       "        vertical-align: middle;\n",
       "    }\n",
       "\n",
       "    .dataframe tbody tr th {\n",
       "        vertical-align: top;\n",
       "    }\n",
       "\n",
       "    .dataframe thead th {\n",
       "        text-align: right;\n",
       "    }\n",
       "</style>\n",
       "<table border=\"1\" class=\"dataframe\">\n",
       "  <thead>\n",
       "    <tr style=\"text-align: right;\">\n",
       "      <th></th>\n",
       "      <th>COMPOSITE_ID_BB_GLOBAL()</th>\n",
       "    </tr>\n",
       "    <tr>\n",
       "      <th>ID</th>\n",
       "      <th></th>\n",
       "    </tr>\n",
       "  </thead>\n",
       "  <tbody>\n",
       "    <tr>\n",
       "      <th>BBG000B9XRY4</th>\n",
       "      <td>BBG000B9XRY4</td>\n",
       "    </tr>\n",
       "    <tr>\n",
       "      <th>BBG000BBJQV0</th>\n",
       "      <td>BBG000BBJQV0</td>\n",
       "    </tr>\n",
       "    <tr>\n",
       "      <th>BBG000BBS2Y0</th>\n",
       "      <td>BBG000BBS2Y0</td>\n",
       "    </tr>\n",
       "    <tr>\n",
       "      <th>BBG000BCQZS4</th>\n",
       "      <td>BBG000BCQZS4</td>\n",
       "    </tr>\n",
       "    <tr>\n",
       "      <th>BBG000BCSST7</th>\n",
       "      <td>BBG000BCSST7</td>\n",
       "    </tr>\n",
       "    <tr>\n",
       "      <th>BBG000BF0K17</th>\n",
       "      <td>BBG000BF0K17</td>\n",
       "    </tr>\n",
       "    <tr>\n",
       "      <th>BBG000BH4R78</th>\n",
       "      <td>BBG000BH4R78</td>\n",
       "    </tr>\n",
       "    <tr>\n",
       "      <th>BBG000BJ81C1</th>\n",
       "      <td>BBG000BJ81C1</td>\n",
       "    </tr>\n",
       "    <tr>\n",
       "      <th>BBG000BKZB36</th>\n",
       "      <td>BBG000BKZB36</td>\n",
       "    </tr>\n",
       "    <tr>\n",
       "      <th>BBG000BLNNH6</th>\n",
       "      <td>BBG000BLNNH6</td>\n",
       "    </tr>\n",
       "    <tr>\n",
       "      <th>BBG000BMHYD1</th>\n",
       "      <td>BBG000BMHYD1</td>\n",
       "    </tr>\n",
       "    <tr>\n",
       "      <th>BBG000BMX289</th>\n",
       "      <td>BBG000BMX289</td>\n",
       "    </tr>\n",
       "    <tr>\n",
       "      <th>BBG000BN2DC2</th>\n",
       "      <td>BBG000BN2DC2</td>\n",
       "    </tr>\n",
       "    <tr>\n",
       "      <th>BBG000BNSZP1</th>\n",
       "      <td>BBG000BNSZP1</td>\n",
       "    </tr>\n",
       "    <tr>\n",
       "      <th>BBG000BP52R2</th>\n",
       "      <td>BBG000BP52R2</td>\n",
       "    </tr>\n",
       "    <tr>\n",
       "      <th>BBG000BPD168</th>\n",
       "      <td>BBG000BPD168</td>\n",
       "    </tr>\n",
       "    <tr>\n",
       "      <th>BBG000BPH459</th>\n",
       "      <td>BBG000BPH459</td>\n",
       "    </tr>\n",
       "    <tr>\n",
       "      <th>BBG000BR2B91</th>\n",
       "      <td>BBG000BR2B91</td>\n",
       "    </tr>\n",
       "    <tr>\n",
       "      <th>BBG000BR2TH3</th>\n",
       "      <td>BBG000BR2TH3</td>\n",
       "    </tr>\n",
       "    <tr>\n",
       "      <th>BBG000BSXQV7</th>\n",
       "      <td>BBG000BSXQV7</td>\n",
       "    </tr>\n",
       "    <tr>\n",
       "      <th>BBG000BVPV84</th>\n",
       "      <td>BBG000BVPV84</td>\n",
       "    </tr>\n",
       "    <tr>\n",
       "      <th>BBG000BW8S60</th>\n",
       "      <td>BBG000BW8S60</td>\n",
       "    </tr>\n",
       "    <tr>\n",
       "      <th>BBG000BWLMJ4</th>\n",
       "      <td>BBG000BWLMJ4</td>\n",
       "    </tr>\n",
       "    <tr>\n",
       "      <th>BBG000BWXBC2</th>\n",
       "      <td>BBG000BWXBC2</td>\n",
       "    </tr>\n",
       "    <tr>\n",
       "      <th>BBG000C0G1D1</th>\n",
       "      <td>BBG000C0G1D1</td>\n",
       "    </tr>\n",
       "    <tr>\n",
       "      <th>BBG000C3J3C9</th>\n",
       "      <td>BBG000C3J3C9</td>\n",
       "    </tr>\n",
       "    <tr>\n",
       "      <th>BBG000C5HS04</th>\n",
       "      <td>BBG000C5HS04</td>\n",
       "    </tr>\n",
       "    <tr>\n",
       "      <th>BBG000C6CFJ5</th>\n",
       "      <td>BBG000C6CFJ5</td>\n",
       "    </tr>\n",
       "    <tr>\n",
       "      <th>BBG000CH5208</th>\n",
       "      <td>BBG000CH5208</td>\n",
       "    </tr>\n",
       "    <tr>\n",
       "      <th>BBG000DMBXR2</th>\n",
       "      <td>BBG000DMBXR2</td>\n",
       "    </tr>\n",
       "    <tr>\n",
       "      <th>BBG000GZQ728</th>\n",
       "      <td>BBG000GZQ728</td>\n",
       "    </tr>\n",
       "    <tr>\n",
       "      <th>BBG000H556T9</th>\n",
       "      <td>BBG000H556T9</td>\n",
       "    </tr>\n",
       "    <tr>\n",
       "      <th>BBG000HS77T5</th>\n",
       "      <td>BBG000HS77T5</td>\n",
       "    </tr>\n",
       "    <tr>\n",
       "      <th>BBG000K4ND22</th>\n",
       "      <td>BBG000K4ND22</td>\n",
       "    </tr>\n",
       "    <tr>\n",
       "      <th>BBG000PSKYX7</th>\n",
       "      <td>BBG000PSKYX7</td>\n",
       "    </tr>\n",
       "    <tr>\n",
       "      <th>BBG00BN96922</th>\n",
       "      <td>BBG00BN96922</td>\n",
       "    </tr>\n",
       "  </tbody>\n",
       "</table>\n",
       "</div>"
      ],
      "text/plain": [
       "             COMPOSITE_ID_BB_GLOBAL()\n",
       "ID                                   \n",
       "BBG000B9XRY4             BBG000B9XRY4\n",
       "BBG000BBJQV0             BBG000BBJQV0\n",
       "BBG000BBS2Y0             BBG000BBS2Y0\n",
       "BBG000BCQZS4             BBG000BCQZS4\n",
       "BBG000BCSST7             BBG000BCSST7\n",
       "BBG000BF0K17             BBG000BF0K17\n",
       "BBG000BH4R78             BBG000BH4R78\n",
       "BBG000BJ81C1             BBG000BJ81C1\n",
       "BBG000BKZB36             BBG000BKZB36\n",
       "BBG000BLNNH6             BBG000BLNNH6\n",
       "BBG000BMHYD1             BBG000BMHYD1\n",
       "BBG000BMX289             BBG000BMX289\n",
       "BBG000BN2DC2             BBG000BN2DC2\n",
       "BBG000BNSZP1             BBG000BNSZP1\n",
       "BBG000BP52R2             BBG000BP52R2\n",
       "BBG000BPD168             BBG000BPD168\n",
       "BBG000BPH459             BBG000BPH459\n",
       "BBG000BR2B91             BBG000BR2B91\n",
       "BBG000BR2TH3             BBG000BR2TH3\n",
       "BBG000BSXQV7             BBG000BSXQV7\n",
       "BBG000BVPV84             BBG000BVPV84\n",
       "BBG000BW8S60             BBG000BW8S60\n",
       "BBG000BWLMJ4             BBG000BWLMJ4\n",
       "BBG000BWXBC2             BBG000BWXBC2\n",
       "BBG000C0G1D1             BBG000C0G1D1\n",
       "BBG000C3J3C9             BBG000C3J3C9\n",
       "BBG000C5HS04             BBG000C5HS04\n",
       "BBG000C6CFJ5             BBG000C6CFJ5\n",
       "BBG000CH5208             BBG000CH5208\n",
       "BBG000DMBXR2             BBG000DMBXR2\n",
       "BBG000GZQ728             BBG000GZQ728\n",
       "BBG000H556T9             BBG000H556T9\n",
       "BBG000HS77T5             BBG000HS77T5\n",
       "BBG000K4ND22             BBG000K4ND22\n",
       "BBG000PSKYX7             BBG000PSKYX7\n",
       "BBG00BN96922             BBG00BN96922"
      ]
     },
     "execution_count": 7,
     "metadata": {},
     "output_type": "execute_result"
    }
   ],
   "source": [
    "field = bq.data.composite_id_bb_global()\n",
    "req = bql.Request(index_members, field)\n",
    "data = bq.execute(req)\n",
    "data[0].df()"
   ]
  },
  {
   "cell_type": "code",
   "execution_count": null,
   "id": "fca0ad9c-4a6f-47a6-add2-98ef773cb0bd",
   "metadata": {},
   "outputs": [],
   "source": []
  }
 ],
 "metadata": {
  "kernelspec": {
   "display_name": "Bloomberg Lab Python 3",
   "language": "python",
   "name": "remote-jupyterpython"
  },
  "language_info": {
   "codemirror_mode": {
    "name": "ipython",
    "version": 3
   },
   "file_extension": ".py",
   "mimetype": "text/x-python",
   "name": "python",
   "nbconvert_exporter": "python",
   "pygments_lexer": "ipython3",
   "version": "3.9.12"
  }
 },
 "nbformat": 4,
 "nbformat_minor": 5
}
