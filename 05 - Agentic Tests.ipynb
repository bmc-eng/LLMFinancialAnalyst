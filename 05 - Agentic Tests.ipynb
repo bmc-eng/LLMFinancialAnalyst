{
 "cells": [
  {
   "cell_type": "markdown",
   "id": "8eb250e0-6996-4bef-9d46-2785ab92b32a",
   "metadata": {},
   "source": [
    "# Multi-Agentic Financial Analyst\n",
    "This notebook will be the test build of the multi-agentic AI system."
   ]
  },
  {
   "cell_type": "code",
   "execution_count": 1,
   "id": "f01f726e-8cd9-42de-9639-b738d17ce7da",
   "metadata": {},
   "outputs": [
    {
     "name": "stdout",
     "output_type": "stream",
     "text": [
      "Running: micromamba install boto3=1.34.51 langchain --yes --log-level=error\n",
      "\n",
      "  Package        Version  Build             Channel         Size\n",
      "──────────────────────────────────────────────────────────────────\n",
      "  Upgrade:\n",
      "──────────────────────────────────────────────────────────────────\n",
      "\n",
      "  \u001b[31m- botocore  \u001b[0m   1.29.37  pyhd8ed1ab_0      conda-forge      6MB\n",
      "  \u001b[32m+ botocore  \u001b[0m  1.34.162  pyge38_1234567_0  conda-forge      7MB\n",
      "  \u001b[31m- s3transfer\u001b[0m     0.6.0  pyhd8ed1ab_0      conda-forge     57kB\n",
      "  \u001b[32m+ s3transfer\u001b[0m    0.10.4  pyhd8ed1ab_1      conda-forge     63kB\n",
      "  \u001b[31m- boto3     \u001b[0m   1.26.37  pyhd8ed1ab_0      conda-forge     76kB\n",
      "  \u001b[32m+ boto3     \u001b[0m   1.34.51  pyhd8ed1ab_0      conda-forge     81kB\n",
      "\n",
      "  Summary:\n",
      "\n",
      "  Upgrade: 3 packages\n",
      "\n",
      "  Total download: 7MB\n",
      "\n",
      "Note: Packages not from Bloomberg channels are not vetted by Bloomberg.\n",
      "\u001b[93mPlease restart the Jupyter kernel if you run into any issues after installing or updating packages via %package.\u001b[0m\n",
      "\n"
     ]
    }
   ],
   "source": [
    "%package install boto3=1.34.51 langchain "
   ]
  },
  {
   "cell_type": "code",
   "execution_count": 2,
   "id": "f7c33fd5-bd3c-4f35-b1f9-6b6b4ae7271a",
   "metadata": {},
   "outputs": [
    {
     "name": "stdout",
     "output_type": "stream",
     "text": [
      "\u001b[31mERROR: pip's dependency resolver does not currently take into account all the packages that are installed. This behaviour is the source of the following dependency conflicts.\n",
      "langchain 0.2.17 requires langchain-core<0.3.0,>=0.2.43, but you have langchain-core 0.3.54 which is incompatible.\n",
      "langchain-text-splitters 0.2.4 requires langchain-core<0.3.0,>=0.2.38, but you have langchain-core 0.3.54 which is incompatible.\n",
      "langchain-community 0.2.19 requires langchain-core<0.3.0,>=0.2.43, but you have langchain-core 0.3.54 which is incompatible.\u001b[0m\u001b[31m\n",
      "\u001b[0m"
     ]
    }
   ],
   "source": [
    "!pip -q install langchain_aws langchain-huggingface"
   ]
  },
  {
   "cell_type": "code",
   "execution_count": 3,
   "id": "3f628962-2305-405c-a343-c1894c4d03a6",
   "metadata": {},
   "outputs": [],
   "source": [
    "import boto3\n",
    "import botocore\n",
    "import json\n",
    "import importlib\n",
    "\n",
    "from langchain.prompts import PromptTemplate\n",
    "from langchain_core.runnables import RunnableSequence\n",
    "from langchain_core.rate_limiters import InMemoryRateLimiter\n",
    "\n",
    "from langchain_aws import ChatBedrock\n",
    "from pydantic import BaseModel, Field\n",
    "from IPython.display import Markdown, display\n",
    "\n",
    "import prompts\n",
    "\n",
    "\n",
    "import concurrent.futures"
   ]
  },
  {
   "cell_type": "code",
   "execution_count": 4,
   "id": "a84d2204-278e-4a49-b5a8-59868ca6c3ae",
   "metadata": {},
   "outputs": [
    {
     "data": {
      "text/plain": [
       "<module 'prompts' from '/project/prompts.py'>"
      ]
     },
     "execution_count": 4,
     "metadata": {},
     "output_type": "execute_result"
    }
   ],
   "source": [
    "importlib.reload(prompts)"
   ]
  },
  {
   "cell_type": "code",
   "execution_count": 5,
   "id": "ac806885-2601-431a-95aa-983afc46a265",
   "metadata": {},
   "outputs": [],
   "source": [
    "# Bedrock client initialise\n",
    "config = botocore.config.Config(read_timeout=1000)\n",
    "boto3_bedrock = boto3.client('bedrock-runtime',config=config)\n",
    "\n",
    "with open('Data/prompts.json', 'rb') as f:\n",
    "    prompt_set = json.load(f)"
   ]
  },
  {
   "cell_type": "markdown",
   "id": "075ab011-9961-41a4-9bf2-820082d7809e",
   "metadata": {},
   "source": [
    "### Configure the model"
   ]
  },
  {
   "cell_type": "code",
   "execution_count": 6,
   "id": "12aac5fd-91c1-4912-b595-cf65b00b4bab",
   "metadata": {},
   "outputs": [],
   "source": [
    "model_claude_id = 'us.anthropic.claude-3-7-sonnet-20250219-v1:0'\n",
    "model_llama_id = 'us.meta.llama3-1-70b-instruct-v1:0'\n",
    "\n",
    "# set up the LLM in Bedrock\n",
    "rate_limiter = InMemoryRateLimiter(\n",
    "    requests_per_second=50,\n",
    "    check_every_n_seconds=1,\n",
    "    max_bucket_size=10,\n",
    ")\n",
    "\n",
    "llm = ChatBedrock(\n",
    "    client = boto3_bedrock,\n",
    "    model = model_claude_id,\n",
    "    temperature = 0.01,\n",
    "    max_tokens=4000,\n",
    "    rate_limiter = rate_limiter\n",
    ")"
   ]
  },
  {
   "cell_type": "code",
   "execution_count": 7,
   "id": "902adf11-4868-4231-b9a9-934889acbf68",
   "metadata": {},
   "outputs": [],
   "source": [
    "system_prompt = prompts.SYSTEM_PROMPTS['COT_CLAUDE_TEST']['prompt']\n",
    "prompt_template = PromptTemplate.from_template(system_prompt)\n",
    "# Create the prompt to feed into the model\n",
    "prompt_in = prompt_template.format(financials=prompt_set[0]['prompt'][1]['content'])"
   ]
  },
  {
   "cell_type": "code",
   "execution_count": 8,
   "id": "c8f13166-370f-4800-b7e5-b14603117fab",
   "metadata": {},
   "outputs": [],
   "source": []
  },
  {
   "cell_type": "code",
   "execution_count": 9,
   "id": "a73a11be-2b63-4181-9419-9b77332b0882",
   "metadata": {},
   "outputs": [],
   "source": [
    "output = llm.invoke(prompt_in)\n",
    "    # decision_dict = {\n",
    "    #     'date': prompt['date'],\n",
    "    #     'security': prompt['security'],\n",
    "    #     'response': output\n",
    "    # }\n",
    "    # return decision_dict"
   ]
  },
  {
   "cell_type": "code",
   "execution_count": 10,
   "id": "f7d51cd1-aaa9-4ded-94e7-20b81bf23386",
   "metadata": {},
   "outputs": [
    {
     "data": {
      "text/markdown": [
       "# Financial Analysis Report: Earnings Forecast\n",
       "\n",
       "## 1. Analysis of Current Profitability, Liquidity, Solvency, and Efficiency Ratios\n",
       "\n",
       "### Profitability Ratios\n",
       "- **Gross Profit Margin**: 21.24% (t) vs 21.61% (t-1)\n",
       "- **Operating Profit Margin**: 3.06% (t) vs 3.25% (t-1)\n",
       "- **Net Profit Margin**: 2.52% (t) vs 2.69% (t-1)\n",
       "- **Return on Assets (ROA)**: 3.88% (t) vs 4.08% (t-1)\n",
       "- **Return on Equity (ROE)**: 14.35% (t) vs 15.23% (t-1)\n",
       "\n",
       "### Liquidity Ratios\n",
       "- **Current Ratio**: 0.66 (t) vs 0.66 (t-1)\n",
       "- **Quick Ratio**: 0.32 (t) vs 0.31 (t-1)\n",
       "- **Cash Ratio**: 0.03 (t) vs 0.03 (t-1)\n",
       "\n",
       "### Solvency Ratios\n",
       "- **Debt-to-Equity Ratio**: 1.73 (t) vs 1.73 (t-1)\n",
       "- **Debt-to-Assets Ratio**: 0.47 (t) vs 0.46 (t-1)\n",
       "- **Interest Coverage Ratio**: 6.15 (t) vs 6.31 (t-1)\n",
       "\n",
       "### Efficiency Ratios\n",
       "- **Asset Turnover**: 1.54 (t) vs 1.51 (t-1)\n",
       "- **Inventory Turnover**: 11.32 (t) vs 10.22 (t-1)\n",
       "- **Receivables Turnover**: 18.32 (t) vs 18.48 (t-1)\n",
       "\n",
       "## 2. Time-Series Analysis Across Ratios\n",
       "\n",
       "### Profitability Trends\n",
       "- **Gross Profit Margin**: Declining trend from 23.10% (t-5) to 21.24% (t)\n",
       "- **Operating Profit Margin**: Consistent decline from 4.57% (t-5) to 3.06% (t)\n",
       "- **Net Profit Margin**: Steady decline from 3.96% (t-5) to 2.52% (t)\n",
       "- **ROE**: Decreasing from 20.28% (t-5) to 14.35% (t)\n",
       "\n",
       "### Liquidity Trends\n",
       "- **Current Ratio**: Relatively stable but consistently below 1.0, indicating potential short-term liquidity challenges\n",
       "- **Quick Ratio**: Stable around 0.3-0.32, showing consistent reliance on inventory\n",
       "\n",
       "### Solvency Trends\n",
       "- **Debt-to-Equity**: Increased from 0.44 (t-5) to 1.73 (t), indicating significantly higher leverage\n",
       "- **Interest Coverage Ratio**: Declined from 9.79 (t-5) to 6.15 (t), showing reduced ability to service debt\n",
       "\n",
       "### Efficiency Trends\n",
       "- **Asset Turnover**: Improved slightly from 1.92 (t-5) to 1.54 (t)\n",
       "- **Inventory Turnover**: Improved from 9.43 (t-5) to 11.32 (t), indicating better inventory management\n",
       "\n",
       "## 3. Analysis of Financial Performance\n",
       "\n",
       "The company shows concerning trends in its financial performance:\n",
       "\n",
       "1. **Declining Profitability**: All profitability metrics show a consistent downward trend over the six periods. Operating income has decreased by 31% from t-5 to t (from $6.15B to $4.24B).\n",
       "\n",
       "2. **Revenue Stagnation**: Despite a slight increase in revenue (3.1% growth from t-5 to t), the company has been unable to translate this into profit growth due to rising costs.\n",
       "\n",
       "3. **Cost Pressure**: Cost of revenue has increased at a faster rate than revenue (5.6% vs 3.1% from t-5 to t), squeezing margins.\n",
       "\n",
       "4. **Debt Structure Change**: The company has significantly increased its long-term debt, particularly with operating leases now being capitalized, which explains the jump in LT debt between t-2 and t-1.\n",
       "\n",
       "5. **Cash Flow Concerns**: Cash and equivalents have decreased by 19.2% from t-5 to t, suggesting potential cash flow challenges.\n",
       "\n",
       "## 4. Stock Price Analysis\n",
       "\n",
       "The stock price shows a concerning downward trend:\n",
       "- Peak price of $59.27 in December 2019\n",
       "- Significant decline to $40.32 by April 2020, representing a 32% drop from peak\n",
       "- The stock price decline aligns with the deteriorating financial performance\n",
       "- The market appears to be pricing in the company's declining profitability and operational challenges\n",
       "\n",
       "## 5. Decision Analysis\n",
       "\n",
       "### Positive Factors (30% weight)\n",
       "1. **Revenue Growth**: Slight but consistent revenue growth (0.94% from t-1 to t)\n",
       "2. **Improved Inventory Management**: Higher inventory turnover ratio indicates better operational efficiency\n",
       "3. **Stable Asset Base**: Total assets have remained relatively stable\n",
       "\n",
       "### Negative Factors (70% weight)\n",
       "1. **Declining Profitability**: Consistent decrease in all profitability metrics\n",
       "   - Operating income decreased by 5.1% from t-1 to t\n",
       "   - Net income decreased by 5.7% from t-1 to t\n",
       "2. **Margin Compression**: Gross profit margin declined from 21.61% to 21.24%\n",
       "3. **Increasing Cost Structure**: Cost of revenue growing faster than revenue\n",
       "4. **High Leverage**: Debt-to-equity ratio remains high at 1.73\n",
       "5. **Declining EPS**: Basic EPS decreased from $4.08 to $3.90 (4.4% decline)\n",
       "6. **Stock Price Decline**: Significant market devaluation reflecting negative sentiment\n",
       "\n",
       "## 6. Final Decision\n",
       "\n",
       "Based on the comprehensive analysis of financial statements, I predict that earnings will **decrease** in the next financial period by approximately 5-8%. The company shows consistent deterioration in profitability metrics, margin compression, and increasing cost pressures without corresponding revenue growth to offset these challenges.\n",
       "\n",
       "**Confidence Score: 75%**\n",
       "\n",
       "The primary drivers for this decision are the consistent multi-year downward trend in operating income, net profit margin, and EPS, combined with rising costs and limited revenue growth. The market sentiment, as reflected in the declining stock price, further supports this negative outlook.\n",
       "\n",
       "## 7. Information Wished for Better Decision-Making\n",
       "\n",
       "Additional information that would enhance the analysis includes:\n",
       "\n",
       "1. **Segment reporting** to identify which business lines are underperforming and which might be growth drivers. This would help assess if declining profitability is company-wide or concentrated in specific areas.\n",
       "\n",
       "2. **Forward-looking guidance** from management regarding cost-cutting initiatives, strategic investments, or market expansion plans that could reverse the negative trends.\n",
       "\n",
       "3. **Industry benchmarking data** to determine if the company's challenges are company-specific or industry-wide, which would help assess competitive positioning.\n",
       "\n",
       "4. **Cash flow statement details** to better understand operational cash generation, capital expenditures, and financing activities, which would provide insight into sustainability of operations and dividend payments.\n",
       "\n",
       "5. **Customer concentration metrics** to evaluate dependency risks and potential revenue stability.\n",
       "\n",
       "These additional data points would provide context for the declining performance and help assess whether the company has viable strategies to reverse the negative trends."
      ],
      "text/plain": [
       "<IPython.core.display.Markdown object>"
      ]
     },
     "metadata": {},
     "output_type": "display_data"
    }
   ],
   "source": [
    "\n",
    "display(Markdown(output.content))"
   ]
  },
  {
   "cell_type": "code",
   "execution_count": null,
   "id": "6c837828-e561-4ffa-a6da-e8261a231a08",
   "metadata": {},
   "outputs": [],
   "source": []
  },
  {
   "cell_type": "code",
   "execution_count": null,
   "id": "30bc326c-4d6b-4b47-a853-47366f447e4d",
   "metadata": {},
   "outputs": [],
   "source": []
  }
 ],
 "metadata": {
  "kernelspec": {
   "display_name": "Bloomberg Lab Python 3",
   "language": "python",
   "name": "user-python"
  },
  "language_info": {
   "codemirror_mode": {
    "name": "ipython",
    "version": 3
   },
   "file_extension": ".py",
   "mimetype": "text/x-python",
   "name": "python",
   "nbconvert_exporter": "python",
   "pygments_lexer": "ipython3",
   "version": "3.9.12"
  }
 },
 "nbformat": 4,
 "nbformat_minor": 5
}
