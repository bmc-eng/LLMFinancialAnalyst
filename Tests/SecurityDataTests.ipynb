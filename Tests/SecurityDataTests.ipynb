{
 "cells": [
  {
   "cell_type": "markdown",
   "id": "7638da9b-4854-477b-b5e2-063a5b8bb838",
   "metadata": {},
   "source": [
    "# SecurityData Tests\n",
    "\n",
    "This notebook explains the key functions of the SecurityData class that are used across the system. The SecurityData class is used to retrieve the Financial Statement and Metadata datasets. It stores and retrieves the data in formats ready for use in the LLM prompts."
   ]
  },
  {
   "cell_type": "code",
   "execution_count": 17,
   "id": "2e1ed95b-5294-4829-a1d4-08d4a74b065b",
   "metadata": {},
   "outputs": [],
   "source": [
    "import sys\n",
    "import importlib\n",
    "sys.path.insert(0, '..')\n",
    "\n",
    "from requesters.company_data import SecurityData\n",
    "from prompts import SYSTEM_PROMPTS"
   ]
  },
  {
   "cell_type": "code",
   "execution_count": 2,
   "id": "5f59eddb-b6fb-484d-bc09-aa574961858b",
   "metadata": {},
   "outputs": [],
   "source": [
    "# Initialise the sec_helper object with the Dow Jones datasets downloaded in the \n",
    "# 01 Financial Data.ipynb file.\n",
    "sec_helper = SecurityData('tmp/fs','dow_quarterly_ltm_v3.json')"
   ]
  },
  {
   "cell_type": "code",
   "execution_count": 30,
   "id": "91cb6352-0bcc-406e-828e-fdf269dc71c2",
   "metadata": {},
   "outputs": [
    {
     "data": {
      "text/plain": [
       "45"
      ]
     },
     "execution_count": 30,
     "metadata": {},
     "output_type": "execute_result"
    }
   ],
   "source": [
    "# Find the total number of unique securities in the dataset\n",
    "unique_securities = sec_helper.get_unique_securities()\n",
    "len(unique_securities)"
   ]
  },
  {
   "cell_type": "markdown",
   "id": "84bcd3b8-305f-461e-a852-da54e89b3480",
   "metadata": {},
   "source": [
    "### Get all of the reporting dates\n",
    "This is an important function as it is used to loop through the entire universe of reporting periods to run with the LLMs. "
   ]
  },
  {
   "cell_type": "code",
   "execution_count": 32,
   "id": "8d6b6e14-c356-482e-b275-8fad6cadbc41",
   "metadata": {},
   "outputs": [
    {
     "name": "stdout",
     "output_type": "stream",
     "text": [
      "Total number of reporting dates: 449\n"
     ]
    },
    {
     "data": {
      "text/plain": [
       "['2020-01-08', '2020-01-14', '2020-01-15', '2020-01-23', '2020-01-24']"
      ]
     },
     "execution_count": 32,
     "metadata": {},
     "output_type": "execute_result"
    }
   ],
   "source": [
    "all_reporting_dates = sec_helper.get_dates()\n",
    "print(f'Total number of reporting dates: {len(all_reporting_dates)}')\n",
    "all_reporting_dates[:5]"
   ]
  },
  {
   "cell_type": "code",
   "execution_count": 33,
   "id": "69ae7ca7-5f76-4de4-a32f-3eb728793e90",
   "metadata": {},
   "outputs": [
    {
     "data": {
      "text/plain": [
       "['INTC UQ Equity', 'PG UN Equity', 'INTC UW Equity']"
      ]
     },
     "execution_count": 33,
     "metadata": {},
     "output_type": "execute_result"
    }
   ],
   "source": [
    "# View a list of securities that are reporting on the reporting date\n",
    "sec_helper.get_securities_reporting_on_date('2020-01-23')"
   ]
  },
  {
   "cell_type": "markdown",
   "id": "3cfd8676-fa66-45fd-84b3-805b440fef81",
   "metadata": {},
   "source": [
    "### View all of the data for a security on a reporting date\n",
    "This example shows that Procter and Gamble reported their Q4 2019 earning on 23rd January 2020. Their Q4 2019 period concluded on 31st December 2019, but the information was not released to the mar"
   ]
  },
  {
   "cell_type": "code",
   "execution_count": 15,
   "id": "9561828d-e21c-4a0b-a991-a98201bfbb69",
   "metadata": {},
   "outputs": [
    {
     "name": "stdout",
     "output_type": "stream",
     "text": [
      "Procter & Gamble Co/The\n",
      "Consumer Staples\n",
      "BBG000BR2TH3\n",
      "Income Statement:                                                        t           t-1           t-2           t-3           t-4           t-5\n",
      "items                                                                                                                          \n",
      "Revenue                                      6.959400e+10  6.879200e+10  6.768400e+10  6.709300e+10  6.691200e+10  6.686900e+10\n",
      "Cost of Revenue                              3.495700e+10  3.500700e+10  3.476800e+10  3.485900e+10  3.485700e+10  3.464700e+10\n",
      "Gross Profit                                 3.463700e+10  3.378500e+10  3.291600e+10  3.223400e+10  3.205500e+10  3.222200e+10\n",
      "Operating Expenses                           2.782800e+10  2.756200e+10  2.742900e+10  1.887800e+10  1.880900e+10  1.895300e+10\n",
      "Selling, General and Administrative Expense  1.948300e+10  1.921700e+10  1.908400e+10  1.887800e+10  1.880900e+10  1.895300e+10\n",
      "Other Operating Expenses                     8.345000e+09  8.345000e+09  8.345000e+09  0.000000e+00  0.000000e+00  0.000000e+00\n",
      "Operating Income or Losses                   6.809000e+09  6.223000e+09  5.487000e+09  1.335600e+10  1.324600e+10  1.326900e+10\n",
      "Non-Operating (Income) Loss                 -2.790000e+08 -2.490000e+08 -5.820000e+08 -6.700000e+07 -1.520000e+08 -2.460000e+08\n",
      "Net Interest Expense                         2.520000e+08  2.630000e+08  2.890000e+08  3.030000e+08  2.880000e+08  2.690000e+08\n",
      "Interest Expense                             4.500000e+08  4.880000e+08  5.090000e+08  5.340000e+08  5.360000e+08  5.200000e+08\n",
      "Interest Income                              1.980000e+08  2.250000e+08  2.200000e+08  2.310000e+08  2.480000e+08  2.510000e+08\n",
      "Other Non-Operating (Income) Loss           -5.310000e+08 -5.120000e+08 -8.710000e+08 -3.700000e+08 -4.400000e+08 -5.150000e+08\n",
      "Pretax Income (Loss), Adjusted               7.088000e+09  6.472000e+09  6.069000e+09  1.342300e+10  1.339800e+10  1.351500e+10\n",
      "Abnormal Losses (Gains)                      8.375000e+09  8.440000e+09  8.125000e+09  6.257342e+08  6.435949e+08  5.575949e+08\n",
      "Restructuring Expenses                       2.960000e+08  3.590000e+08  4.030000e+08  6.400000e+08  7.240000e+08  7.060000e+08\n",
      "Income Tax Expense (Benefit)                 2.189000e+09  2.100000e+09  2.103000e+09  2.330000e+09  2.541000e+09  3.313000e+09\n",
      "Income (Loss) from Continuing Operations     4.899000e+09  4.372000e+09  3.966000e+09  1.109300e+10  1.085700e+10  1.020200e+10\n",
      "Net Income/Net Profit (Losses)               4.814000e+09  4.291000e+09  3.897000e+09  1.102900e+10  1.079500e+10  1.009600e+10\n",
      "Preferred Dividends                          2.610000e+08  2.620000e+08  2.630000e+08  2.620000e+08  2.720000e+08  2.690000e+08\n",
      "Net Income Avail to Common, GAAP             4.553000e+09  4.029000e+09  3.634000e+09  1.076700e+10  1.052300e+10  9.827000e+09\n",
      "Net Abnormal Losses (Gains)                  8.002410e+09  8.063990e+09  7.463380e+09  1.133900e+08  1.854800e+08  7.445400e+08\n",
      "Basic Weighted Average Number of Shares      2.502425e+09  2.505600e+09  2.532625e+09  2.560450e+09  2.534775e+09  2.543325e+09\n",
      "Basic Earnings per Share                     1.830000e+00  1.610000e+00  1.399418e+00  4.215362e+00  4.200000e+00  3.910000e+00\n",
      "Basic EPS from Continuing Operations         5.019597e+00  4.827128e+00  4.387180e+00  4.260194e+00  4.231880e+00  4.160564e+00\n",
      "Diluted Weighted Average Shares              2.640300e+09  2.638525e+09  2.629675e+09  2.623425e+09  2.625400e+09  2.637050e+09\n",
      "Diluted EPS                                  1.690000e+00  1.500000e+00  1.339418e+00  4.155362e+00  4.110000e+00  3.820000e+00\n",
      "Diluted EPS from Continuing Operations, Adj  4.714520e+00  4.548005e+00  4.157640e+00  4.197763e+00  4.155548e+00  4.074500e+00\n",
      " Balance Sheet:                                               t           t-1           t-2           t-3           t-4           t-5\n",
      "items                                                                                                                \n",
      "Cash, Cash Equivalents & STI       6.279000e+09  9.304000e+09  1.028700e+10  9.823000e+09  1.211700e+10  1.125300e+10\n",
      "Cash & Cash Equivalents            6.279000e+09  9.304000e+09  4.239000e+09  2.738000e+09  3.696000e+09  2.545000e+09\n",
      "ST Investments                     0.000000e+00  0.000000e+00  6.048000e+09  7.085000e+09  8.421000e+09  8.708000e+09\n",
      "Accounts & Notes Receiv            5.196000e+09  5.143000e+09  4.951000e+09  5.198000e+09  5.055000e+09  5.035000e+09\n",
      "Inventories                        5.521000e+09  5.465000e+09  5.017000e+09  5.358000e+09  5.281000e+09  5.182000e+09\n",
      "Work In Process                    6.320000e+08  6.560000e+08  6.120000e+08  6.170000e+08  5.930000e+08  6.000000e+08\n",
      "Finished Goods                     3.431000e+09  3.415000e+09  3.116000e+09  3.326000e+09  3.164000e+09  3.153000e+09\n",
      "Other Inventory                    1.458000e+09  1.394000e+09  1.289000e+09  1.415000e+09  1.524000e+09  1.429000e+09\n",
      "Other ST Assets                    1.921000e+09  2.013000e+09  2.218000e+09  1.933000e+09  1.978000e+09  1.876000e+09\n",
      "Total Current Assets               1.891700e+10  2.192500e+10  2.247300e+10  2.231200e+10  2.443100e+10  2.334600e+10\n",
      "Property, Plant & Equip, Net       2.215300e+10  2.178800e+10  2.127100e+10  2.099300e+10  2.082200e+10  2.059000e+10\n",
      "Property, Plant & Equip            0.000000e+00  0.000000e+00  4.339300e+10  0.000000e+00  0.000000e+00  0.000000e+00\n",
      "Accumulated Depreciation           0.000000e+00  0.000000e+00  2.212200e+10  0.000000e+00  0.000000e+00  0.000000e+00\n",
      "LT Investments & Receivables       6.400000e+07  6.200000e+07  1.690000e+08  1.650000e+08  1.630000e+08  1.580000e+08\n",
      "Other LT Assets                    7.058900e+10  7.028300e+10  7.118200e+10  7.820300e+10  7.827100e+10  7.434600e+10\n",
      "Total Intangible Assets            6.397800e+10  6.360700e+10  6.448800e+10  7.258900e+10  7.287900e+10  6.914400e+10\n",
      "Goodwill                           3.999800e+10  3.960500e+10  4.027300e+10  4.675300e+10  4.693200e+10  4.522500e+10\n",
      "Other Intangible Assets            2.398000e+10  2.400200e+10  2.421500e+10  2.583600e+10  2.594700e+10  2.391900e+10\n",
      "Prepaid Pension Costs              0.000000e+00  0.000000e+00  1.900000e+07  0.000000e+00  0.000000e+00  0.000000e+00\n",
      "Misc LT Assets                     6.394000e+09  6.089250e+09  5.720750e+09  5.240000e+09  5.100500e+09  5.014250e+09\n",
      "Total Noncurrent Assets            9.280600e+10  9.213300e+10  9.262200e+10  9.936100e+10  9.925600e+10  9.509400e+10\n",
      "Total Assets                       1.117230e+11  1.140580e+11  1.150950e+11  1.216730e+11  1.236870e+11  1.184400e+11\n",
      "Payables & Accruals                2.076000e+10  2.063800e+10  2.031400e+10  1.945900e+10  1.913400e+10  1.871200e+10\n",
      "Accounts Payable                   1.078100e+10  1.095100e+10  1.126000e+10  1.020700e+10  1.026600e+10  1.024300e+10\n",
      "Accrued Taxes                      0.000000e+00  0.000000e+00  3.410000e+08  0.000000e+00  0.000000e+00  0.000000e+00\n",
      "Other Payables & Accruals          9.979000e+09  9.687000e+09  8.713000e+09  9.252000e+09  8.868000e+09  8.469000e+09\n",
      "ST Debt                            9.404000e+09  9.615000e+09  9.697000e+09  8.911000e+09  1.211300e+10  1.050800e+10\n",
      "ST Borrowings                      9.153000e+09  9.352000e+09  6.309000e+09  8.911000e+09  1.211300e+10  1.050800e+10\n",
      "ST Finance Leases                  0.000000e+00  0.000000e+00  9.000000e+06  0.000000e+00  0.000000e+00  0.000000e+00\n",
      "ST Operating Leases                2.510000e+08  2.630000e+08  0.000000e+00  0.000000e+00  0.000000e+00  0.000000e+00\n",
      "Current Portion of LT Debt         0.000000e+00  0.000000e+00  3.379000e+09  0.000000e+00  0.000000e+00  0.000000e+00\n",
      "Total Current Liabilities          3.016400e+10  3.025300e+10  3.001100e+10  2.837000e+10  3.124700e+10  2.922000e+10\n",
      "LT Debt                            1.966100e+10  2.079100e+10  2.039500e+10  2.135900e+10  2.151400e+10  2.077900e+10\n",
      "LT Borrowings                      1.898500e+10  2.016100e+10  2.037100e+10  2.135900e+10  2.151400e+10  2.077900e+10\n",
      "LT Finance Leases                  0.000000e+00  0.000000e+00  2.400000e+07  0.000000e+00  0.000000e+00  0.000000e+00\n",
      "LT Operating Leases                6.760000e+08  6.300000e+08  0.000000e+00  0.000000e+00  0.000000e+00  0.000000e+00\n",
      "Other LT Liabilities               1.599000e+10  1.603000e+10  1.711000e+10  1.639200e+10  1.648300e+10  1.593700e+10\n",
      "Pension Liabilities                0.000000e+00  0.000000e+00  6.720000e+09  0.000000e+00  0.000000e+00  0.000000e+00\n",
      "Misc LT Liabilities                9.748000e+09  9.705000e+09  3.491000e+09  9.441000e+09  9.611000e+09  9.758000e+09\n",
      "Total Noncurrent Liabilities       3.565100e+10  3.682100e+10  3.750500e+10  3.775100e+10  3.799700e+10  3.671600e+10\n",
      "Total Liabilities                  6.581500e+10  6.707400e+10  6.751600e+10  6.612100e+10  6.924400e+10  6.593600e+10\n",
      "Preferred Equity                   9.110000e+08  9.150000e+08  9.280000e+08  9.330000e+08  9.460000e+08  9.510000e+08\n",
      "Share Capital & APIC               6.802800e+10  6.795800e+10  6.783600e+10  6.763300e+10  6.768800e+10  6.772000e+10\n",
      "Common Stock                       4.009000e+09  4.009000e+09  4.009000e+09  4.009000e+09  4.009000e+09  4.009000e+09\n",
      "Additional Paid in Capital         6.401900e+10  6.394900e+10  6.382700e+10  6.362400e+10  6.367900e+10  6.371100e+10\n",
      "Treasury Stock                     1.057610e+11  1.025100e+11  1.004060e+11  9.948400e+10  9.948000e+10  9.995600e+10\n",
      "Retained Earnings                  9.841400e+10  9.662500e+10  9.491800e+10  1.021030e+11  1.011700e+11  9.983100e+10\n",
      "Other Equity                      -1.605400e+10 -1.641000e+10 -1.608200e+10 -1.611300e+10 -1.633400e+10 -1.631000e+10\n",
      "Equity Before Minority Interest    4.553800e+10  4.657800e+10  4.719400e+10  5.507200e+10  5.399000e+10  5.223600e+10\n",
      "Minority/Non Controlling Interest  3.700000e+08  4.060000e+08  3.850000e+08  4.800000e+08  4.530000e+08  2.680000e+08\n",
      "Total Equity                       4.590800e+10  4.698400e+10  4.757900e+10  5.555200e+10  5.444300e+10  5.250400e+10\n",
      "\n",
      " Historical Price:              Price\n",
      "Date              \n",
      "2019-01-23   94.84\n",
      "2019-02-23  100.25\n",
      "2019-03-23  101.66\n",
      "2019-04-23  103.16\n",
      "2019-05-23  106.76\n",
      "2019-06-23  111.20\n",
      "2019-07-23  113.85\n",
      "2019-08-23  117.32\n",
      "2019-09-23  123.22\n",
      "2019-10-23  123.00\n",
      "2019-11-23  120.29\n",
      "2019-12-23  124.90\n",
      "2020-01-23  124.99\n"
     ]
    }
   ],
   "source": [
    "data_for_PG = sec_helper.get_security_all_data('2020-01-23','PG UN Equity')\n",
    "print(data_for_PG['name'])\n",
    "print(data_for_PG['sector'])\n",
    "print(data_for_PG['figi'])\n",
    "print(data_for_PG['sec_fs'])\n",
    "print(data_for_PG['stock_price'])"
   ]
  },
  {
   "cell_type": "markdown",
   "id": "39633220-ef07-4832-8a80-39c083d21128",
   "metadata": {},
   "source": [
    "### Construct a prompt with a Security and Date"
   ]
  },
  {
   "cell_type": "code",
   "execution_count": 18,
   "id": "872a0846-054b-4707-9a26-ddffd4dd05cf",
   "metadata": {},
   "outputs": [
    {
     "data": {
      "text/plain": [
       "[{'role': 'system',\n",
       "  'content': \"You are a financial analyst and must make a buy, sell or hold decision on a company based only on the provided datasets. Compute common financial ratios and then determine the buy or sell decision. Explain your reasons in less than 250 words. Provide a confidence score for how confident you are of the decision. If you are not confident then lower the confidence score. You must answer in a JSON format with a 'decision', 'confidence score' and 'reason'. Provide your answer in JSON format like the two examples: {'decision': BUY, 'confidence score': 80, 'reason': 'Gross profit and EPS have both increased over time'}, {'decision': SELL, 'confidence score': 90, 'reason': 'Price has declined and EPS is falling'} Company financial statements: {financials} \"},\n",
       " {'role': 'user',\n",
       "  'content': 'Income Statement:                                                        t           t-1           t-2           t-3           t-4           t-5\\nitems                                                                                                                          \\nRevenue                                      1.374120e+11  1.368660e+11  1.363540e+11  1.360970e+11  1.345900e+11  1.315370e+11\\nCost of Revenue                              1.077140e+11  1.067900e+11  1.059300e+11  1.053460e+11  1.034980e+11  1.007450e+11\\nGross Profit                                 2.969800e+10  3.007600e+10  3.042400e+10  3.075100e+10  3.109200e+10  3.079200e+10\\nOperating Expenses                           2.522600e+10  2.524300e+10  2.494800e+10  2.494500e+10  2.494200e+10  2.457900e+10\\nSelling, General and Administrative Expense  2.522400e+10  2.524200e+10  2.494700e+10  2.494400e+10  2.494200e+10  2.457900e+10\\nOther Operating Expenses                     2.000000e+06  1.000000e+06  1.000000e+06  1.000000e+06  0.000000e+00  0.000000e+00\\nOperating Income or Losses                   4.472000e+09  4.833000e+09  5.476000e+09  5.806000e+09  6.150000e+09  6.213000e+09\\nNon-Operating (Income) Loss                  3.280000e+08  3.060000e+08 -4.000000e+06  8.400000e+07 -5.400000e+07  2.380000e+08\\nNet Interest Expense                         7.090000e+08  7.040000e+08  6.880000e+08  6.580000e+08  6.280000e+08  6.160000e+08\\nOther Non-Operating (Income) Loss           -2.420000e+08 -2.330000e+08 -5.370000e+08 -3.510000e+08 -3.400000e+08 -1.870000e+08\\nPretax Income (Loss), Adjusted               4.144000e+09  4.527000e+09  5.480000e+09  5.722000e+09  6.204000e+09  5.975000e+09\\nAbnormal Losses (Gains)                      7.680000e+08  7.490000e+08  2.720000e+08  3.680000e+08  2.260000e+08  5.800000e+08\\nMerger / Acquisition Expense                 3.610000e+08  3.030000e+08  2.860000e+08  2.630000e+08  2.460000e+08  2.310000e+08\\nRestructuring Expenses                       5.140000e+08  4.580000e+08  0.000000e+00  0.000000e+00  0.000000e+00  0.000000e+00\\nIncome Tax Expense (Benefit)                 4.390000e+08  5.880000e+08  7.210000e+08  6.740000e+08  9.510000e+08  9.980000e+08\\nIncome (Loss) from Continuing Operations     3.703000e+09  3.961000e+09  4.789000e+09  5.098000e+09  5.309000e+09  5.031000e+09\\nNet Income/Net Profit (Losses)               3.703000e+09  3.981000e+09  4.816000e+09  5.133000e+09  5.326000e+09  5.024000e+09\\nNet Abnormal Losses (Gains)                  6.370883e+08  6.144203e+08 -7.221975e+06 -6.280928e+07 -2.187176e+07  2.706144e+08\\nBasic Weighted Average Number of Shares      9.073250e+08  9.215250e+08  9.402750e+08  9.608250e+08  9.764750e+08  9.909500e+08\\nBasic Earnings per Share                     4.080000e+00  4.310000e+00  5.110000e+00  5.330000e+00  5.440000e+00  5.080000e+00\\nBasic EPS from Continuing Operations         4.773437e+00  4.979494e+00  5.112415e+00  5.284837e+00  5.426064e+00  5.346871e+00\\nDiluted Weighted Average Shares              9.088000e+08  9.235000e+08  9.428000e+08  9.638250e+08  9.800250e+08  9.949500e+08\\nDiluted EPS                                  4.070000e+00  4.300000e+00  5.100000e+00  5.320000e+00  5.440000e+00  5.070000e+00\\nDiluted EPS from Continuing Operations, Adj  4.764649e+00  4.966097e+00  5.101630e+00  5.271627e+00  5.416117e+00  5.333914e+00\\n Balance Sheet:                                               t           t-1           t-2           t-3           t-4           t-5\\nitems                                                                                                                \\nCash, Cash Equivalents & STI       8.110000e+08  1.023000e+09  8.390000e+08  8.180000e+08  9.800000e+08  7.850000e+08\\nAccounts & Notes Receiv            7.435000e+09  7.226000e+09  7.239000e+09  7.828000e+09  7.144000e+09  6.573000e+09\\nInventories                        1.053600e+10  9.333000e+09  9.874000e+09  1.018800e+10  1.097600e+10  9.565000e+09\\nOther ST Assets                    8.220000e+08  1.118000e+09  1.069000e+09  1.017000e+09  9.830000e+08  9.230000e+08\\nDerivative & Hedging Assets        1.600000e+07  1.050000e+08  1.080000e+08  0.000000e+00  5.000000e+08  6.700000e+07\\nMisc ST Assets                     8.060000e+08  1.013000e+09  9.610000e+08  1.017000e+09  4.830000e+08  8.560000e+08\\nTotal Current Assets               1.960400e+10  1.870000e+10  1.902100e+10  1.985100e+10  2.008300e+10  1.784600e+10\\nProperty, Plant & Equip, Net       3.529400e+10  1.347800e+10  1.371700e+10  1.382800e+10  1.382100e+10  1.391100e+10\\nProperty, Plant & Equip            0.000000e+00  2.478800e+10  0.000000e+00  0.000000e+00  0.000000e+00  2.442400e+10\\nAccumulated Depreciation           0.000000e+00  1.131000e+10  0.000000e+00  0.000000e+00  0.000000e+00  1.051300e+10\\nOther LT Assets                    3.590900e+10  3.542000e+10  3.584800e+10  3.675600e+10  3.603700e+10  3.636700e+10\\nTotal Intangible Assets            2.785500e+10  2.743600e+10  2.804200e+10  2.895900e+10  2.839300e+10  2.869700e+10\\nGoodwill                           1.680000e+10  1.656000e+10  1.671700e+10  1.702700e+10  1.680900e+10  1.691400e+10\\nOther Intangible Assets            1.105500e+10  1.087600e+10  1.132500e+10  1.193200e+10  1.158400e+10  1.178300e+10\\nDerivative & Hedging Assets        1.112000e+09  8.000000e+08  3.900000e+07  0.000000e+00  2.500000e+08  2.500000e+08\\nMisc LT Assets                     6.452500e+08  8.412500e+08  9.605000e+08  8.755000e+08  7.832500e+08  7.515000e+08\\nTotal Noncurrent Assets            7.120300e+10  4.889800e+10  4.956500e+10  5.058400e+10  4.985800e+10  5.027800e+10\\nTotal Assets                       9.080700e+10  6.759800e+10  6.858600e+10  7.043500e+10  6.994100e+10  6.812400e+10\\nPayables & Accruals                2.090500e+10  1.995800e+10  1.957400e+10  1.994700e+10  2.075200e+10  1.970000e+10\\nAccounts Payable                   1.540100e+10  1.434100e+10  1.413000e+10  1.434800e+10  1.466000e+10  1.356600e+10\\nAccrued Taxes                      2.100000e+08  2.160000e+08  2.620000e+08  1.630000e+08  6.110000e+08  2.730000e+08\\nOther Payables & Accruals          5.294000e+09  5.401000e+09  5.182000e+09  5.436000e+09  5.481000e+09  5.861000e+09\\nST Debt                            8.556000e+09  5.738000e+09  5.483000e+09  5.356000e+09  4.344000e+09  1.966000e+09\\nST Borrowings                      6.225000e+09  5.738000e+09  5.483000e+09  5.356000e+09  4.344000e+09  1.966000e+09\\nST Finance Leases                  4.300000e+07  0.000000e+00  0.000000e+00  0.000000e+00  0.000000e+00  0.000000e+00\\nST Operating Leases                2.288000e+09  0.000000e+00  0.000000e+00  0.000000e+00  0.000000e+00  0.000000e+00\\nOther ST Liabilities               3.300000e+07  7.300000e+07  3.000000e+06  0.000000e+00  3.000000e+06  1.000000e+06\\nTotal Current Liabilities          2.949400e+10  2.576900e+10  2.506000e+10  2.530300e+10  2.509900e+10  2.166700e+10\\nLT Debt                            3.349900e+10  1.250200e+10  1.212700e+10  1.268500e+10  1.164600e+10  1.243100e+10\\nLT Borrowings                      1.062800e+10  1.109800e+10  1.212700e+10  1.268500e+10  1.164600e+10  1.095800e+10\\nLT Finance Leases                  9.770000e+08  1.404000e+09  0.000000e+00  0.000000e+00  0.000000e+00  1.473000e+09\\nLT Operating Leases                2.189400e+10  0.000000e+00  0.000000e+00  0.000000e+00  0.000000e+00  0.000000e+00\\nOther LT Liabilities               3.501000e+09  5.176000e+09  6.628000e+09  7.035000e+09  6.933000e+09  7.337000e+09\\nPension Liabilities                0.000000e+00  1.830000e+08  0.000000e+00  0.000000e+00  0.000000e+00  1.640000e+08\\nDerivatives & Hedging              0.000000e+00  0.000000e+00  0.000000e+00  1.600000e+07  2.000000e+06  0.000000e+00\\nMisc LT Liabilities                1.883000e+09  3.208000e+09  4.768000e+09  5.037000e+09  5.138000e+09  5.358000e+09\\nTotal Noncurrent Liabilities       3.700000e+10  1.767800e+10  1.875500e+10  1.972000e+10  1.857900e+10  1.976800e+10\\nTotal Liabilities                  6.649400e+10  4.344700e+10  4.381500e+10  4.502300e+10  4.367800e+10  4.143500e+10\\nShare Capital & APIC               1.066000e+10  1.065100e+10  1.061700e+10  1.058300e+10  1.053400e+10  1.050500e+10\\nCommon Stock                       1.200000e+07  1.200000e+07  1.200000e+07  1.200000e+07  1.200000e+07  1.200000e+07\\nAdditional Paid in Capital         1.064800e+10  1.063900e+10  1.060500e+10  1.057100e+10  1.052200e+10  1.049300e+10\\nTreasury Stock                     1.949600e+10  1.905700e+10  1.863800e+10  1.803600e+10  1.586200e+10  1.504700e+10\\nRetained Earnings                  3.581000e+10  3.581500e+10  3.554700e+10  3.492800e+10  3.416800e+10  3.355100e+10\\nOther Equity                      -3.313000e+09 -3.897000e+09 -3.393000e+09 -2.705000e+09 -3.231000e+09 -3.002000e+09\\nEquity Before Minority Interest    2.366100e+10  2.351200e+10  2.413300e+10  2.477000e+10  2.560900e+10  2.600700e+10\\nMinority/Non Controlling Interest  6.520000e+08  6.390000e+08  6.380000e+08  6.420000e+08  6.540000e+08  6.820000e+08\\nTotal Equity                       2.431300e+10  2.415100e+10  2.477100e+10  2.541200e+10  2.626300e+10  2.668900e+10\\n Historical Price:             Price\\nDate             \\n2019-01-08  71.37\\n2019-02-08  70.12\\n2019-03-08  59.90\\n2019-04-08  55.06\\n2019-05-08  53.50\\n2019-06-08  51.97\\n2019-07-08  55.43\\n2019-08-08  53.02\\n2019-09-08  52.56\\n2019-10-08  52.09\\n2019-11-08  59.24\\n2019-12-08  58.63\\n2020-01-08  55.83'}]"
      ]
     },
     "execution_count": 18,
     "metadata": {},
     "output_type": "execute_result"
    }
   ],
   "source": [
    "sec_helper.get_prompt('2020-01-08','WBA UW Equity', SYSTEM_PROMPTS['BASE']['prompt'])"
   ]
  },
  {
   "cell_type": "markdown",
   "id": "968612b5-3925-4efe-9f29-f9b9f583596f",
   "metadata": {},
   "source": [
    "### Get a list of all of the companies/ dates to loop through"
   ]
  },
  {
   "cell_type": "code",
   "execution_count": 35,
   "id": "8d6d0582-0fd2-4d2b-acab-db7e02bed782",
   "metadata": {},
   "outputs": [
    {
     "name": "stdout",
     "output_type": "stream",
     "text": [
      "Total Number of reporting dates and securities: 952\n"
     ]
    },
    {
     "data": {
      "text/plain": [
       "[{'date': '2020-01-08', 'security': 'WBA UW Equity'},\n",
       " {'date': '2020-01-08', 'security': 'WBA UQ Equity'},\n",
       " {'date': '2020-01-14', 'security': 'JPM UN Equity'},\n",
       " {'date': '2020-01-15', 'security': 'UNH UN Equity'},\n",
       " {'date': '2020-01-23', 'security': 'INTC UQ Equity'},\n",
       " {'date': '2020-01-23', 'security': 'PG UN Equity'},\n",
       " {'date': '2020-01-23', 'security': 'INTC UW Equity'},\n",
       " {'date': '2020-01-24', 'security': 'AXP UN Equity'},\n",
       " {'date': '2020-01-28', 'security': 'PFE UN Equity'},\n",
       " {'date': '2020-01-28', 'security': 'RTX UN Equity'}]"
      ]
     },
     "execution_count": 35,
     "metadata": {},
     "output_type": "execute_result"
    }
   ],
   "source": [
    "all_dates_securities = sec_helper.date_security_timeseries()\n",
    "print(f'Total Number of reporting dates and securities: {len(all_dates_securities)}')\n",
    "all_dates_securities[:10]"
   ]
  },
  {
   "cell_type": "markdown",
   "id": "6680ee26-28e1-4d98-a6e0-7000446a7a73",
   "metadata": {},
   "source": [
    "### Finally, view the structure that the data is stored\n",
    "We store the data in dictionary format in the following Hierarchy:\n",
    "\n",
    "- date\n",
    "     - company\n",
    "       - Income Statement\n",
    "       - Balance Sheet\n",
    "       - Historical Stock Price\n",
    "       - Metadata\n",
    "         - Company Name\n",
    "         - Sector\n",
    "         - FIGI"
   ]
  },
  {
   "cell_type": "code",
   "execution_count": 24,
   "id": "ef0a0776-419a-4ace-800f-d3c9ac25e986",
   "metadata": {},
   "outputs": [
    {
     "data": {
      "text/plain": [
       "['2025-03-20',\n",
       " '2025-04-08',\n",
       " '2025-04-11',\n",
       " '2025-04-14',\n",
       " '2025-04-16',\n",
       " '2025-04-17',\n",
       " '2025-04-18',\n",
       " '2025-04-22',\n",
       " '2025-04-23',\n",
       " '2025-04-24']"
      ]
     },
     "execution_count": 24,
     "metadata": {},
     "output_type": "execute_result"
    }
   ],
   "source": [
    "all_data = sec_helper.get_all_data()\n",
    "list(all_data.keys())[-10:]"
   ]
  },
  {
   "cell_type": "code",
   "execution_count": 26,
   "id": "a6712a90-e85b-4bc5-a355-f1025b6567a4",
   "metadata": {},
   "outputs": [
    {
     "data": {
      "text/plain": [
       "dict_keys(['HD UN Equity', 'NKE UN Equity'])"
      ]
     },
     "execution_count": 26,
     "metadata": {},
     "output_type": "execute_result"
    }
   ],
   "source": [
    "all_data['2025-03-20'].keys()"
   ]
  },
  {
   "cell_type": "code",
   "execution_count": 27,
   "id": "33aa4717-1f7b-4c56-ab28-1cd889c7893c",
   "metadata": {},
   "outputs": [
    {
     "data": {
      "text/plain": [
       "dict_keys(['is', 'bs', 'px', 'mt'])"
      ]
     },
     "execution_count": 27,
     "metadata": {},
     "output_type": "execute_result"
    }
   ],
   "source": [
    "all_data['2025-03-20']['HD UN Equity'].keys()"
   ]
  },
  {
   "cell_type": "code",
   "execution_count": 28,
   "id": "d0d603d8-ddc2-4d70-b373-71be182e3b49",
   "metadata": {},
   "outputs": [
    {
     "data": {
      "text/plain": [
       "{'name': 'Home Depot Inc/The',\n",
       " 'figi': 'BBG000BKZB36',\n",
       " 'sector': 'Consumer Discretionary'}"
      ]
     },
     "execution_count": 28,
     "metadata": {},
     "output_type": "execute_result"
    }
   ],
   "source": [
    "all_data['2025-03-20']['HD UN Equity']['mt']"
   ]
  },
  {
   "cell_type": "code",
   "execution_count": null,
   "id": "ae965cc4-8ca6-47f4-9ce4-7723780e3e1b",
   "metadata": {},
   "outputs": [],
   "source": []
  }
 ],
 "metadata": {
  "kernelspec": {
   "display_name": "Bloomberg Lab Python 3",
   "language": "python",
   "name": "remote-jupyterpython"
  },
  "language_info": {
   "codemirror_mode": {
    "name": "ipython",
    "version": 3
   },
   "file_extension": ".py",
   "mimetype": "text/x-python",
   "name": "python",
   "nbconvert_exporter": "python",
   "pygments_lexer": "ipython3",
   "version": "3.9.12"
  }
 },
 "nbformat": 4,
 "nbformat_minor": 5
}
