{
 "cells": [
  {
   "cell_type": "markdown",
   "id": "b2865ada-fa5a-4a56-970f-e9adc18df924",
   "metadata": {},
   "source": [
    "# LangGraph Analyst Workflow Test\n",
    "This notebook uses two agents in LangGraph: The Financial Analysis Agent and the Committee debating agent. \n",
    "\n",
    "The notebook has two components. The first is an implementation and test of the agent classes. The second is the implementation in the notebook used for design and testing purposes. "
   ]
  },
  {
   "cell_type": "code",
   "execution_count": null,
   "id": "60f857c1-d811-480f-8cb7-51d37fa46512",
   "metadata": {},
   "outputs": [],
   "source": []
  },
  {
   "cell_type": "markdown",
   "id": "74a4fd46-cc62-4c3d-b72c-6e4a44062319",
   "metadata": {},
   "source": [
    "## LangGraph Implementation with Objects"
   ]
  },
  {
   "cell_type": "code",
   "execution_count": 2,
   "id": "b00edd3e-8bdc-49c9-b751-b3a4475bc0a9",
   "metadata": {},
   "outputs": [],
   "source": [
    "import company_data as cd\n",
    "import agents.financial_agent as fa\n",
    "import agents.committee_agent as ca\n",
    "import importlib\n",
    "from utils.s3_helper import S3Helper\n",
    "import pandas as pd"
   ]
  },
  {
   "cell_type": "code",
   "execution_count": 3,
   "id": "a864fccc-a874-4f64-a964-c1472aa9af4b",
   "metadata": {},
   "outputs": [
    {
     "data": {
      "text/plain": [
       "<module 'committee_agent' from '/project/committee_agent.py'>"
      ]
     },
     "execution_count": 3,
     "metadata": {},
     "output_type": "execute_result"
    }
   ],
   "source": [
    "importlib.reload(fa)\n",
    "importlib.reload(ca)"
   ]
  },
  {
   "cell_type": "markdown",
   "id": "cf892937-3562-4f17-85a5-5aa577f404f2",
   "metadata": {},
   "source": [
    "#### Get the security Data"
   ]
  },
  {
   "cell_type": "code",
   "execution_count": 4,
   "id": "303b5150-4dd1-4fe3-ac5e-b05f02a5f7db",
   "metadata": {},
   "outputs": [],
   "source": [
    "# Request financial Data\n",
    "sec_data = cd.SecurityData('tmp/fs', 'dow_quarterly_ltm_v2.json')\n",
    "dates_and_securities = sec_data.date_security_timeseries()\n",
    "test_security = dates_and_securities[10]\n",
    "security_data = sec_data.get_security_all_data(test_security['date'], test_security['security'])\n",
    "#security_data = sec_data.get_security_all_data('2024-08-05', 'JNJ UN Equity')\n"
   ]
  },
  {
   "cell_type": "code",
   "execution_count": 5,
   "id": "668efffa-d5b3-4cd3-b693-43a1c51601cf",
   "metadata": {},
   "outputs": [],
   "source": [
    "# Request News data\n",
    "s3_helper = S3Helper('tmp/fs')\n",
    "s3_helper.get_file(filename='dow_headlines.parquet', local_filename='/tmp/dow_headlines.parquet')\n",
    "news_headlines = pd.read_parquet('/tmp/dow_headlines.parquet')"
   ]
  },
  {
   "cell_type": "markdown",
   "id": "64ebbd42-d130-442e-891e-603faa9c01ec",
   "metadata": {},
   "source": [
    "#### Run with the Financial Agent"
   ]
  },
  {
   "cell_type": "code",
   "execution_count": 6,
   "id": "efe2d2fe-1126-4f7a-a5c2-e8e8cb53f0b8",
   "metadata": {},
   "outputs": [],
   "source": [
    "agent = fa.FinancialAnalystAgent()"
   ]
  },
  {
   "cell_type": "code",
   "execution_count": 7,
   "id": "2f51e98b-4162-4eab-a4ba-84d14cfc4fcf",
   "metadata": {},
   "outputs": [
    {
     "name": "stdout",
     "output_type": "stream",
     "text": [
      "CPU times: user 103 ms, sys: 2.03 ms, total: 105 ms\n",
      "Wall time: 2min 3s\n"
     ]
    }
   ],
   "source": [
    "%%time\n",
    "conversation = agent.run(security_data, news_headlines, test_security['date'])"
   ]
  },
  {
   "cell_type": "code",
   "execution_count": 8,
   "id": "89b6a143-2259-4409-926f-b97e0916def2",
   "metadata": {},
   "outputs": [
    {
     "data": {
      "text/plain": [
       "\"# Financial Analysis Review: Earnings Direction Assessment\\n\\n## Analysis of Financial Performance\\n\\nAfter reviewing the financial statements and analyst reports, I find that there is a discrepancy between the financial analyst's summary projecting earnings growth and the news report suggesting a modest decrease in earnings.\\n\\n### Key Financial Indicators Supporting Growth:\\n\\n1. **Consistent Profitability Improvement**: The financial statements show clear upward trends in all profitability metrics:\\n   - Net profit margin increased from 8.61% to 8.98% year-over-year\\n   - Operating profit margin improved from 12.97% to 13.38%\\n   - ROA increased from 7.52% to 7.86%\\n   - ROE significantly increased from 37.38% to 49.18%\\n\\n2. **Margin Expansion**: The company has demonstrated consistent margin improvement over six consecutive periods, with gross profit margin rising from 44.89% to 45.49% year-over-year.\\n\\n3. **Earnings Growth**: Net income increased from $1.54 billion to $1.62 billion, a 5% improvement.\\n\\n4. **EPS Growth**: Basic EPS improved from $5.60 to $5.88, showing continued growth.\\n\\n### Key Financial Indicators Supporting Decline:\\n\\n1. **Deteriorating Liquidity**: Current ratio declined from 1.02 to 0.94, falling below the generally acceptable threshold of 1.0.\\n\\n2. **Increasing Leverage**: Debt-to-equity ratio increased significantly from 3.97 to 5.25, indicating higher financial risk.\\n\\n3. **Short-term Debt Increase**: ST debt rose from $1.01 billion to $1.85 billion, an 84% increase.\\n\\n4. **Declining Equity**: Total equity decreased from $4.12 billion to $3.29 billion, a 20.23% reduction.\\n\\n5. **Credit Rating Concerns**: The news report mentions S&P downgrading the company to BBB- from BBB and Fitch changing the outlook to negative.\\n\\n6. **Analyst Downgrades**: Multiple analyst downgrades mentioned in the news report.\\n\\n## My Assessment\\n\\n**I disagree with the financial analyst's projection of continued earnings growth in the next quarter.**\\n\\nWhile the historical financial statements show positive trends in profitability, several concerning factors suggest earnings pressure in the near term:\\n\\n1. **Deteriorating Balance Sheet**: The significant increase in short-term debt and leverage, combined with declining liquidity ratios, indicates potential financial stress that could impact future earnings.\\n\\n2. **Credit Rating Actions**: The downgrade by S&P and negative outlook from Fitch are significant red flags that suggest credit rating agencies see increasing financial risk.\\n\\n3. **Analyst Sentiment**: The predominant negative shift in analyst ratings (multiple downgrades to Hold, Equal-Weight, Neutral, and Underperform) suggests professional analysts with access to management guidance are becoming more cautious.\\n\\n4. **Missed Estimates**: The news report indicates Q4 adjusted EPS missed estimates ($4.27 vs. $4.39 expected) and Q4 net sales missed even the lowest estimate, suggesting momentum may be slowing.\\n\\n5. **Modest Forward Guidance**: The company's guidance of only 2-5% sales growth for Q1 is relatively modest and suggests limited upside potential.\\n\\n6. **Debt Activities**: The company's recent $1B debt offering and $500M cash debt tender offer suggest potential refinancing needs or liquidity concerns.\\n\\nWhile historical profitability trends are positive, the combination of balance sheet deterioration, credit rating actions, analyst downgrades, and modest guidance suggests the company is likely facing headwinds that will impact earnings in the coming quarter. The aggressive share repurchases (evidenced by declining equity and increasing debt) may have artificially boosted EPS and ROE metrics, masking underlying operational challenges.\\n\\nTherefore, I believe the news report's assessment of a modest earnings decrease in the next quarter is more likely accurate than the financial analyst's projection of continued growth.\""
      ]
     },
     "execution_count": 8,
     "metadata": {},
     "output_type": "execute_result"
    }
   ],
   "source": [
    "#dict_keys(['company_details', 'financial_report', 'cleaned_headlines', 'news_report', 'senior_report', 'final_output'])\n",
    "conversation['senior_report']"
   ]
  },
  {
   "cell_type": "markdown",
   "id": "ee4b8842-57ea-4021-8b81-746a3368564a",
   "metadata": {},
   "source": [
    "#### Pass to the Committee Agent"
   ]
  },
  {
   "cell_type": "code",
   "execution_count": 9,
   "id": "2175ed6f-8d2b-492a-abb8-eee027ef5fb6",
   "metadata": {},
   "outputs": [],
   "source": [
    "committee = ca.CommitteeAgent()"
   ]
  },
  {
   "cell_type": "code",
   "execution_count": 10,
   "id": "c648cef3-21e2-4778-bec7-20e3bd2634e0",
   "metadata": {},
   "outputs": [],
   "source": [
    "committee_decision = committee.run(conversation['senior_report'],\n",
    "                                  conversation['financial_report'],\n",
    "                                  security_data)"
   ]
  },
  {
   "cell_type": "code",
   "execution_count": 11,
   "id": "38cc9f0b-e636-4776-9114-c637c0c65028",
   "metadata": {},
   "outputs": [
    {
     "data": {
      "text/plain": [
       "Recommendation(recommendation='SELL', reason='The investment committee has a majority voting pattern of SELL (2 SELL votes vs. 2 BUY votes). In the case of a tie, the majority decision of SELL prevails. The key reasons supporting the SELL recommendation include:\\n\\n1. Significant Valuation Disconnect\\n- DCF analysis consistently shows intrinsic value between $23.98 and $57.87\\n- Current market price of $196.75 represents substantial overvaluation\\n- Potential downside risk of up to 87.8%\\n\\n2. Deteriorating Financial Fundamentals\\n- Current ratio below 1.0, indicating liquidity constraints\\n- Debt-to-equity ratio increased from 3.97 to 5.25\\n- Declining total equity\\n- Increased short-term debt by 84%\\n\\n3. External Risk Indicators\\n- Credit rating downgrades by S&P and Fitch\\n- Negative analyst sentiment\\n- Multiple downgrades to neutral/underperform ratings\\n- Missed earnings and sales estimates\\n\\n4. Limited Growth Potential\\n- Modest 2-5% sales growth guidance\\n- Potential ongoing refinancing needs\\n- Increased financial leverage', confidence='High')"
      ]
     },
     "execution_count": 11,
     "metadata": {},
     "output_type": "execute_result"
    }
   ],
   "source": [
    "#dict_keys(['last_agent', 'history', 'summary_buy', 'summary_sell', 'summary_hold', 'current_response', 'count', 'results', 'consensus', 'senior_analyst_report', 'financial_statement_analysis', 'sector', 'stock_prices'])\n",
    "committee_decision['results']"
   ]
  },
  {
   "cell_type": "code",
   "execution_count": 90,
   "id": "7b5db753-3f66-40fd-840d-b4581ecde9ef",
   "metadata": {},
   "outputs": [
    {
     "name": "stdout",
     "output_type": "stream",
     "text": [
      "---\n",
      "config:\n",
      "  flowchart:\n",
      "    curve: linear\n",
      "---\n",
      "graph TD;\n",
      "\t__start__([<p>__start__</p>]):::first\n",
      "\tnext_node(next_node)\n",
      "\thandle_buy(handle_buy)\n",
      "\thandle_sell(handle_sell)\n",
      "\thandle_hold(handle_hold)\n",
      "\tresult(result)\n",
      "\t__end__([<p>__end__</p>]):::last\n",
      "\t__start__ --> handle_buy;\n",
      "\thandle_buy -.-> next_node;\n",
      "\thandle_buy -.-> result;\n",
      "\thandle_hold -.-> next_node;\n",
      "\thandle_hold -.-> result;\n",
      "\thandle_sell -.-> next_node;\n",
      "\thandle_sell -.-> result;\n",
      "\tnext_node -.-> handle_buy;\n",
      "\tnext_node -.-> handle_hold;\n",
      "\tnext_node -.-> handle_sell;\n",
      "\tnext_node -.-> result;\n",
      "\tnext_node -.-> __end__;\n",
      "\tresult --> __end__;\n",
      "\tclassDef default fill:#f2f0ff,line-height:1.2\n",
      "\tclassDef first fill-opacity:0\n",
      "\tclassDef last fill:#bfb6fc\n",
      "\n"
     ]
    }
   ],
   "source": [
    "print(committee.get_graph().draw_mermaid())"
   ]
  },
  {
   "cell_type": "code",
   "execution_count": 91,
   "id": "e1eae8a8-6866-4a67-a815-11a88c1f97c1",
   "metadata": {},
   "outputs": [
    {
     "name": "stdout",
     "output_type": "stream",
     "text": [
      "---\n",
      "config:\n",
      "  flowchart:\n",
      "    curve: linear\n",
      "---\n",
      "graph TD;\n",
      "\t__start__([<p>__start__</p>]):::first\n",
      "\tfinancial_statement_analysis(financial_statement_analysis)\n",
      "\tclean_headlines(clean_headlines)\n",
      "\tnews_summary(news_summary)\n",
      "\tfinal_report(final_report)\n",
      "\tstructured_report(structured_report)\n",
      "\t__end__([<p>__end__</p>]):::last\n",
      "\t__start__ --> financial_statement_analysis;\n",
      "\tclean_headlines --> news_summary;\n",
      "\tfinal_report --> structured_report;\n",
      "\tfinancial_statement_analysis --> clean_headlines;\n",
      "\tnews_summary --> final_report;\n",
      "\tstructured_report --> __end__;\n",
      "\tclassDef default fill:#f2f0ff,line-height:1.2\n",
      "\tclassDef first fill-opacity:0\n",
      "\tclassDef last fill:#bfb6fc\n",
      "\n"
     ]
    }
   ],
   "source": [
    "print(agent.get_graph().draw_mermaid())"
   ]
  },
  {
   "cell_type": "markdown",
   "id": "b42d6f89-7973-4b16-9367-68fbd5242f47",
   "metadata": {},
   "source": [
    "## Full notebook implementation\n",
    "The code below is the notebook implementation of the Financial Agent Class"
   ]
  },
  {
   "cell_type": "code",
   "execution_count": 1,
   "id": "8b5068ea-a227-4524-9749-b4cd10c5777b",
   "metadata": {},
   "outputs": [],
   "source": [
    "import bql\n",
    "import boto3\n",
    "import botocore\n",
    "import random\n",
    "import json\n",
    "import importlib\n",
    "from utils.s3_helper import S3Helper\n",
    "\n",
    "from langchain.prompts import PromptTemplate\n",
    "from langchain_core.runnables import RunnableSequence\n",
    "from langchain_core.rate_limiters import InMemoryRateLimiter\n",
    "\n",
    "from langchain_aws import ChatBedrock\n",
    "from pydantic import BaseModel, Field\n",
    "from IPython.display import Markdown, display\n",
    "import company_data\n",
    "from datetime import datetime\n",
    "from dateutil.relativedelta import relativedelta\n",
    "\n",
    "import prompts\n",
    "import pandas as pd\n",
    "\n",
    "import concurrent.futures\n",
    "\n",
    "from langgraph.graph import START, END, StateGraph\n",
    "from langgraph.graph.message import add_messages\n",
    "\n",
    "from typing import Dict, TypedDict, Optional"
   ]
  },
  {
   "cell_type": "code",
   "execution_count": 2,
   "id": "1d024d56-0e58-46be-a1d8-189863fe5a4b",
   "metadata": {},
   "outputs": [],
   "source": [
    "bq = bql.Service()"
   ]
  },
  {
   "cell_type": "code",
   "execution_count": 3,
   "id": "e6c06970-0690-4c14-b00d-f3565c8d06d3",
   "metadata": {},
   "outputs": [],
   "source": [
    "# Configure Bedrock\n",
    "# Bedrock client initialise\n",
    "config = botocore.config.Config(read_timeout=1000)\n",
    "boto3_bedrock = boto3.client('bedrock-runtime',config=config)\n",
    "\n",
    "with open('Data/prompts.json', 'rb') as f:\n",
    "    prompt_set = json.load(f)"
   ]
  },
  {
   "cell_type": "markdown",
   "id": "19a4e17e-1789-4900-babc-8ff40c05b02a",
   "metadata": {},
   "source": [
    "### Configure the Models"
   ]
  },
  {
   "cell_type": "code",
   "execution_count": 97,
   "id": "7b0bf0b8-a627-4a49-b483-04de438b06f5",
   "metadata": {},
   "outputs": [],
   "source": [
    "model_claude_id = 'us.anthropic.claude-3-7-sonnet-20250219-v1:0'\n",
    "model_claude_small = \"us.anthropic.claude-3-5-haiku-20241022-v1:0\"\n",
    "model_llama_id = 'us.meta.llama3-1-70b-instruct-v1:0'\n",
    "model_llama_small_id = \"us.meta.llama3-1-8b-instruct-v1:0\"\n",
    "\n",
    "# set up the LLM in Bedrock\n",
    "rate_limiter = InMemoryRateLimiter(\n",
    "    requests_per_second=50,\n",
    "    check_every_n_seconds=1,\n",
    "    max_bucket_size=10,\n",
    ")\n",
    "\n",
    "llm_thinker = ChatBedrock(\n",
    "    client = boto3_bedrock,\n",
    "    model_id = model_claude_id,\n",
    "    temperature = 0.01,\n",
    "    max_tokens=4000,\n",
    "    rate_limiter = rate_limiter\n",
    ")\n",
    "\n",
    "llm_small = ChatBedrock(\n",
    "    client = boto3_bedrock,\n",
    "    model_id = model_llama_small_id,\n",
    "    temperature = 0.01,\n",
    "    max_tokens = 4000,\n",
    "    rate_limiter = rate_limiter\n",
    ")\n",
    "\n",
    "llm_debate = ChatBedrock(\n",
    "    client = boto3_bedrock,\n",
    "    model_id = model_claude_small,\n",
    "    temperature = 0.01,\n",
    "    max_tokens = 4000,\n",
    "    rate_limiter = rate_limiter\n",
    ")"
   ]
  },
  {
   "cell_type": "markdown",
   "id": "7561ed44-f0c6-4e7e-9899-29f7d02bba49",
   "metadata": {},
   "source": [
    "## Prompts"
   ]
  },
  {
   "cell_type": "code",
   "execution_count": 42,
   "id": "3431e8b7-5e5d-43aa-8043-e4acecf16ce5",
   "metadata": {},
   "outputs": [],
   "source": [
    "statement_analysis_system_prompt = prompts.SYSTEM_PROMPTS['COT_CLAUDE_TEST']['prompt']\n",
    "statement_analysis_template = PromptTemplate.from_template(statement_analysis_system_prompt)\n",
    "\n",
    "clean_headlines_system_prompt = \"\"\"You are an assistant to a financial analyst analyzing {security} You must remove any reference to {security} and their products from the following list of headlines and replace them with the term 'blah'. Replace the names of any people such as ceo in the article with the term 'whah' do not refer to {security} at all in your answer:{headlines}\"\"\"\n",
    "clean_headlines_template = PromptTemplate.from_template(clean_headlines_system_prompt)\n",
    "\n",
    "company_news_system_prompt = \"\"\"You are a financial analyst and are reviewing news for company called blah over the last three months. Blah is in the {sector} sector. Start by listing the revenue drivers for the sector. Then look through the below headlines and determine if blah will see an increase or decrease in their earnings over the next quarter. Think through your response. {headlines}\"\"\"\n",
    "company_news_template = PromptTemplate.from_template(company_news_system_prompt)\n",
    "\n",
    "senior_analysis_prompt = \"\"\"You are a senior financial analyst and review your teams work. You are looking at a financial summary and news for 'blah'. Using the summaries only, critique the report and construct an alternative narrative. If the narrative is in agreement with the two reports, make clear your belief in the direction of earning. If in disagreement, state why you disagree. Think through your response. {financial_summary} \\n {news_summary}\"\"\"\n",
    "senior_analyst_template = PromptTemplate.from_template(senior_analysis_prompt)"
   ]
  },
  {
   "cell_type": "code",
   "execution_count": 89,
   "id": "af44e750-e547-4dba-aad9-b1a13f944661",
   "metadata": {},
   "outputs": [],
   "source": [
    "def analyst_llm(llm, prompt):\n",
    "    return llm.invoke(prompt).content"
   ]
  },
  {
   "cell_type": "code",
   "execution_count": 107,
   "id": "5fff4efe-c71e-40be-ac53-331aabc44cd0",
   "metadata": {},
   "outputs": [],
   "source": [
    "class CompanyData(TypedDict):\n",
    "    name: str\n",
    "    figi_name: str\n",
    "    sector: str\n",
    "    sec_fs: str\n",
    "    headlines: list[str]\n",
    "    stock_prices: str\n",
    "\n",
    "class GraphState(TypedDict):\n",
    "    company_details: Optional[dict[str,str]]\n",
    "    initial_analysis: Optional[str]\n",
    "    cleaned_headlines: Optional[list]\n",
    "    news_report: Optional[str]\n",
    "    senior_report: Optional[str]\n",
    "\n",
    "analyst_workflow = StateGraph(GraphState)"
   ]
  },
  {
   "cell_type": "code",
   "execution_count": 108,
   "id": "50d6dfdf-50e7-4b5e-a890-ffb535fe9bb2",
   "metadata": {},
   "outputs": [],
   "source": [
    "def financial_statement_analysis(state):\n",
    "    # Create the prompt to feed into the model\n",
    "    company_details = state.get('company_details')\n",
    "    sec_fs = company_details['sec_fs']\n",
    "    prompt_in = statement_analysis_template.format(financials=sec_fs)\n",
    "    financial_analysis = analyst_llm(llm_thinker, prompt_in)\n",
    "    return {'initial_analysis': financial_analysis}\n",
    "\n",
    "def clean_headlines(state):\n",
    "    company_details = state.get('company_details')\n",
    "    unclean_headlines = company_details['headlines']\n",
    "    # Create the prompt to feed into the model\n",
    "    prompt_in = clean_headlines_template.format(headlines=unclean_headlines, security=name)\n",
    "    clean_headlines = analyst_llm(llm_small, prompt_in)\n",
    "    return {'cleaned_headlines': clean_headlines}\n",
    "\n",
    "def news_summary(state):\n",
    "    # Create the prompt to feed into the model\n",
    "    company_details = state.get('company_details')\n",
    "    clean_headlines = state.get('cleaned_headlines')\n",
    "    prompt_in = company_news_template.format(headlines=clean_headlines[1:], sector=company_details['sector'])\n",
    "    news_summarisation = analyst_llm(llm_thinker, prompt_in)\n",
    "    return {'news_summary': news_summarisation}\n",
    "\n",
    "def final_report(state):\n",
    "    company_details = state.get('company_details')\n",
    "    initial_analysis = state.get('initial_analysis')\n",
    "    news_summary = state.get('news_summary')\n",
    "    prompt_in = senior_analyst_template.format(financial_summary=initial_analysis, news_summary=news_summary)\n",
    "    final_report_output = analyst_llm(llm_thinker, prompt_in)\n",
    "    return {'senior_report': final_report_output}"
   ]
  },
  {
   "cell_type": "code",
   "execution_count": 109,
   "id": "ee650080-dce1-4ece-8e4c-a8f71446e62f",
   "metadata": {},
   "outputs": [
    {
     "data": {
      "text/plain": [
       "<langgraph.graph.state.StateGraph at 0x7f9c0491e310>"
      ]
     },
     "execution_count": 109,
     "metadata": {},
     "output_type": "execute_result"
    }
   ],
   "source": [
    "analyst_workflow.add_node('financial_statement_analysis', financial_statement_analysis)\n",
    "analyst_workflow.add_node('clean_headlines', clean_headlines)\n",
    "analyst_workflow.add_node('news_summary', news_summary)\n",
    "analyst_workflow.add_node('final_report', final_report)"
   ]
  },
  {
   "cell_type": "code",
   "execution_count": 110,
   "id": "2771c78e-8361-4469-9340-25d1e07bb438",
   "metadata": {},
   "outputs": [
    {
     "data": {
      "text/plain": [
       "<langgraph.graph.state.StateGraph at 0x7f9c0491e310>"
      ]
     },
     "execution_count": 110,
     "metadata": {},
     "output_type": "execute_result"
    }
   ],
   "source": [
    "analyst_workflow.set_entry_point('financial_statement_analysis')\n",
    "analyst_workflow.add_edge('financial_statement_analysis', 'clean_headlines')\n",
    "analyst_workflow.add_edge('clean_headlines', 'news_summary')\n",
    "analyst_workflow.add_edge('news_summary', 'final_report')\n",
    "analyst_workflow.add_edge('final_report', END)"
   ]
  },
  {
   "cell_type": "code",
   "execution_count": 111,
   "id": "33db8103-de0d-42f6-a9e3-d869c4f120ce",
   "metadata": {},
   "outputs": [],
   "source": [
    "app = analyst_workflow.compile()"
   ]
  },
  {
   "cell_type": "code",
   "execution_count": 112,
   "id": "a54bdeed-4821-49bd-bcc0-3a09198b0c7f",
   "metadata": {},
   "outputs": [
    {
     "data": {
      "text/plain": [
       "Graph(nodes={'__start__': Node(id='__start__', name='__start__', data=<class 'langchain_core.utils.pydantic.LangGraphInput'>, metadata=None), 'financial_statement_analysis': Node(id='financial_statement_analysis', name='financial_statement_analysis', data=financial_statement_analysis(tags=None, recurse=True, explode_args=False, func_accepts_config=False, func_accepts={}), metadata=None), 'clean_headlines': Node(id='clean_headlines', name='clean_headlines', data=clean_headlines(tags=None, recurse=True, explode_args=False, func_accepts_config=False, func_accepts={}), metadata=None), 'news_summary': Node(id='news_summary', name='news_summary', data=news_summary(tags=None, recurse=True, explode_args=False, func_accepts_config=False, func_accepts={}), metadata=None), 'final_report': Node(id='final_report', name='final_report', data=final_report(tags=None, recurse=True, explode_args=False, func_accepts_config=False, func_accepts={}), metadata=None), '__end__': Node(id='__end__', name='__end__', data=<class 'langchain_core.utils.pydantic.LangGraphOutput'>, metadata=None)}, edges=[Edge(source='__start__', target='financial_statement_analysis', data=None, conditional=False), Edge(source='clean_headlines', target='news_summary', data=None, conditional=False), Edge(source='final_report', target='__end__', data=None, conditional=False), Edge(source='financial_statement_analysis', target='clean_headlines', data=None, conditional=False), Edge(source='news_summary', target='final_report', data=None, conditional=False)])"
      ]
     },
     "execution_count": 112,
     "metadata": {},
     "output_type": "execute_result"
    }
   ],
   "source": [
    "app.get_graph()"
   ]
  },
  {
   "cell_type": "markdown",
   "id": "61575a43-9e89-4041-84fa-60a6470d3826",
   "metadata": {},
   "source": [
    "## Test on an example firm"
   ]
  },
  {
   "cell_type": "code",
   "execution_count": 113,
   "id": "299720d2-f622-4f5d-8a44-ecaedcf92a35",
   "metadata": {},
   "outputs": [],
   "source": [
    "# test prompt\n",
    "security = prompt_set[0]\n",
    "sec_name = security['security']\n",
    "sec_date = security['date']\n",
    "sec_fs = security['prompt'][1]['content']\n",
    "sec_prices = sec_fs[sec_fs.find('Historical Price:') + 17:]"
   ]
  },
  {
   "cell_type": "code",
   "execution_count": 9,
   "id": "e090d393-711b-404d-848e-1e6826c1b690",
   "metadata": {},
   "outputs": [],
   "source": [
    "# get the news headlines\n",
    "s3_helper = S3Helper('tmp/fs')\n",
    "s3_helper.get_file(filename='dow_headlines.parquet', local_filename='/tmp/dow_headlines.parquet')\n",
    "news_headlines = pd.read_parquet('/tmp/dow_headlines.parquet')"
   ]
  },
  {
   "cell_type": "code",
   "execution_count": 84,
   "id": "39e08775-86f1-42cf-8039-5370d1d7d7b4",
   "metadata": {},
   "outputs": [],
   "source": [
    "# Convert sec_name to figi\n",
    "def get_additional_data(sec_name: str) -> str:\n",
    "    \"\"\"Function to convert Bloomberg tickers in a dataframe to FIGIs for ESL\"\"\"\n",
    "    univ      = sec_name\n",
    "    field     = {'figi': bq.data.composite_id_bb_global(), \n",
    "                 'name': bq.data.name(), \n",
    "                 'sector': bq.data.bics_level_1_sector_name()}\n",
    "    req = bql.Request(univ, field)\n",
    "    data = bq.execute(req)\n",
    "    return (data[0].df().loc[sec_name]['figi'], data[1].df().loc[sec_name]['name'], data[2].df().loc[sec_name]['sector'])\n",
    "\n",
    "figi_name, name, sector = get_additional_data(sec_name)\n",
    "    "
   ]
  },
  {
   "cell_type": "code",
   "execution_count": 85,
   "id": "f244289a-3ec8-42c6-9110-966e847ef23e",
   "metadata": {},
   "outputs": [],
   "source": [
    "def filter_by_company_date(dataset, security, max_date = None):\n",
    "    \n",
    "    if max_date != None:\n",
    "        #claculate the minimum date to get a 3 month window\n",
    "        min_date = datetime.strptime(max_date,\"%Y-%m-%d\") + relativedelta(months=-3)\n",
    "        min_date = min_date.strftime(\"%Y-%m-%d\")\n",
    "        filtered_dataset = dataset[(dataset['TimeOfArrival'] < max_date) &  (dataset['TimeOfArrival'] >= min_date) & (dataset['Assigned_ID_BB_GLOBAL'] == security)]\n",
    "    else:\n",
    "        filtered_dataset = dataset[dataset['Assigned_ID_BB_GLOBAL'] == security]\n",
    "    \n",
    "    filtered_list = filtered_dataset['Headline'].to_list()\n",
    "\n",
    "    if len(filtered_list) >= 50:\n",
    "        return random.sample(filtered_list, 50)\n",
    "    else:\n",
    "        return filtered_list"
   ]
  },
  {
   "cell_type": "code",
   "execution_count": 86,
   "id": "32e7851d-fcc9-46ae-8f1f-0906b21934df",
   "metadata": {},
   "outputs": [],
   "source": [
    "headline_filter_test = filter_by_company_date(news_headlines, figi_name, sec_date)"
   ]
  },
  {
   "cell_type": "code",
   "execution_count": 87,
   "id": "e99c6448-ce43-49b5-92be-e98ed17ad245",
   "metadata": {},
   "outputs": [],
   "source": [
    "company_details = CompanyData({'name':name,\n",
    "                              'figi_name': figi_name,\n",
    "                              'sector': sector,\n",
    "                              'sec_fs': sec_fs,\n",
    "                              'headlines': headline_filter_test,\n",
    "                              'stock_prices': sec_prices})"
   ]
  },
  {
   "cell_type": "code",
   "execution_count": 114,
   "id": "60892b79-84ac-4261-a3a1-d7ed8e5e9afd",
   "metadata": {},
   "outputs": [],
   "source": [
    "%%time\n",
    "conversation = app.invoke({'company_details': company_details})"
   ]
  },
  {
   "cell_type": "code",
   "execution_count": 115,
   "id": "4f67ee70-55a6-466d-a2c4-6e58253bab44",
   "metadata": {},
   "outputs": [
    {
     "data": {
      "text/plain": [
       "'# Financial Analysis Review: Earnings Forecast Critique\\n\\n## Executive Summary\\n\\nAfter reviewing the financial analysis report for \\'blah\\', I find the overall conclusion of a 4-6% earnings decrease in the next period to be reasonable, though I believe the analysis could benefit from a more balanced interpretation of certain metrics. The report correctly identifies concerning profitability trends, but may underweight some positive efficiency indicators that could partially offset these negative factors.\\n\\n## Strengths of the Analysis\\n\\nThe report provides a comprehensive review of key financial metrics and correctly identifies several concerning trends:\\n\\n1. The consistent decline in profitability metrics (gross margin, operating margin, net margin) over multiple periods is indeed troubling\\n2. The significant increase in debt ratios, particularly the jump in debt-to-equity from 0.44 to 1.73\\n3. The declining interest coverage ratio (from 9.79 to 6.15) which signals increased financial risk\\n\\n## Alternative Perspective\\n\\nWhile I agree with the overall bearish outlook, I believe the following points deserve more consideration:\\n\\n1. **Efficiency Improvements**: The improvement in inventory turnover (from 9.43 to 11.32) is more significant than the report suggests. This 20% improvement in inventory management efficiency could yield material working capital benefits that may partially offset margin pressures.\\n\\n2. **Asset Turnover Misinterpretation**: The report states asset turnover \"improved from 1.92 to 1.54\" - this is actually a decline, not an improvement. However, this decline may be largely explained by the accounting change that added operating leases to the balance sheet, artificially inflating total assets.\\n\\n3. **Stable Liquidity**: While profitability is declining, the stability of liquidity ratios suggests the company is maintaining adequate short-term financial health despite challenges.\\n\\n4. **Debt Context**: The significant jump in debt ratios appears to be primarily due to an accounting change (likely IFRS 16/ASC 842 implementation) rather than actual new borrowing. This deserves more nuanced interpretation.\\n\\n## My Earnings Forecast\\n\\nI agree with the directional forecast that earnings will decrease, but I would narrow the range to a 3-5% decline based on:\\n\\n1. The clear downward trajectory in all profitability metrics\\n2. The fact that cost of revenue is growing faster than revenue (1.4% vs 0.94%)\\n3. The operational efficiency improvements that may partially mitigate margin compression\\n4. The stable liquidity position that provides some financial flexibility\\n\\n## Conclusion\\n\\nThe financial data presents a company facing significant profitability challenges but with some underlying operational improvements. The declining margins, EPS, and stock price all support a bearish outlook on earnings. However, the efficiency gains in inventory management and the stable liquidity position suggest the company may have some resilience.\\n\\nI believe earnings will decline in the next period, though perhaps slightly less severely than the original analysis suggests. Management\\'s ability to leverage the improved operational efficiencies while addressing the margin compression will be critical to any potential stabilization of earnings in future periods.'"
      ]
     },
     "execution_count": 115,
     "metadata": {},
     "output_type": "execute_result"
    }
   ],
   "source": [
    "conversation['senior_report']"
   ]
  }
 ],
 "metadata": {
  "kernelspec": {
   "display_name": "Bloomberg Lab Python 3",
   "language": "python",
   "name": "user-python"
  },
  "language_info": {
   "codemirror_mode": {
    "name": "ipython",
    "version": 3
   },
   "file_extension": ".py",
   "mimetype": "text/x-python",
   "name": "python",
   "nbconvert_exporter": "python",
   "pygments_lexer": "ipython3",
   "version": "3.9.12"
  }
 },
 "nbformat": 4,
 "nbformat_minor": 5
}
