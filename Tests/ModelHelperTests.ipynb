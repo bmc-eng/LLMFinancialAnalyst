{
 "cells": [
  {
   "cell_type": "markdown",
   "id": "ab4cabfc-8429-44cc-a61d-e9c0f35d7b3f",
   "metadata": {},
   "source": [
    "# Tests for the Model Helper Class"
   ]
  },
  {
   "cell_type": "code",
   "execution_count": 3,
   "id": "0bc4e160-e29a-4e4e-97b8-d0da278b82dc",
   "metadata": {},
   "outputs": [],
   "source": [
    "import sys\n",
    "import importlib\n",
    "sys.path.insert(0, '..')\n",
    "import utils.model_helper_new as mh"
   ]
  },
  {
   "cell_type": "code",
   "execution_count": 4,
   "id": "6a981677-c072-4a3b-b8e2-58c659dbcfd2",
   "metadata": {},
   "outputs": [
    {
     "data": {
      "text/plain": [
       "<module 'utils.model_helper_new' from '/project/Tests/../utils/model_helper_new.py'>"
      ]
     },
     "execution_count": 4,
     "metadata": {},
     "output_type": "execute_result"
    }
   ],
   "source": [
    "importlib.reload(mh)"
   ]
  },
  {
   "cell_type": "code",
   "execution_count": 5,
   "id": "d13f5d02-04b5-4adb-b5d0-2d41192f8eb9",
   "metadata": {},
   "outputs": [],
   "source": [
    "model_helper = mh.ModelHelper('tmp/fs')"
   ]
  },
  {
   "cell_type": "markdown",
   "id": "da8851be-a3f6-43fd-9c72-7660ef52029a",
   "metadata": {},
   "source": [
    "## Download a Model from Huggingface"
   ]
  },
  {
   "cell_type": "code",
   "execution_count": null,
   "id": "fcd02239-b70d-478a-ac4a-b3551ccfe56d",
   "metadata": {},
   "outputs": [],
   "source": [
    "model_id = 'meta-llama/Llama-3.2-1B'\n",
    "model = model_helper.get_model_and_save(model_id=model_id,\n",
    "                                model_name='test_llama',\n",
    "                                model_tmp_location='/tmp/Models')"
   ]
  }
 ],
 "metadata": {
  "kernelspec": {
   "display_name": "Bloomberg Lab Python 3",
   "language": "python",
   "name": "remote-jupyterpython"
  },
  "language_info": {
   "codemirror_mode": {
    "name": "ipython",
    "version": 3
   },
   "file_extension": ".py",
   "mimetype": "text/x-python",
   "name": "python",
   "nbconvert_exporter": "python",
   "pygments_lexer": "ipython3",
   "version": "3.9.12"
  }
 },
 "nbformat": 4,
 "nbformat_minor": 5
}
