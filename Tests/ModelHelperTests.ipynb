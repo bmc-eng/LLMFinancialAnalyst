{
 "cells": [
  {
   "cell_type": "markdown",
   "id": "ab4cabfc-8429-44cc-a61d-e9c0f35d7b3f",
   "metadata": {},
   "source": [
    "# Tests for the Model Helper Class\n",
    "\n",
    "This notebook describes the tests to run for the model helper class. The notebook will:\n",
    "\n",
    "- Log into Huggingface\n",
    "- Request a small LLM and save to Bloomberg S3\n",
    "- Load the model from Bloomberg S3\n",
    "- Inspect the model files\n",
    "- Delete the model"
   ]
  },
  {
   "cell_type": "code",
   "execution_count": 7,
   "id": "0bc4e160-e29a-4e4e-97b8-d0da278b82dc",
   "metadata": {},
   "outputs": [],
   "source": [
    "import sys\n",
    "import importlib\n",
    "sys.path.insert(0, '..')\n",
    "\n",
    "from huggingface_hub import login\n",
    "\n",
    "import utils.model_helper_new as mh"
   ]
  },
  {
   "cell_type": "code",
   "execution_count": 15,
   "id": "6a981677-c072-4a3b-b8e2-58c659dbcfd2",
   "metadata": {},
   "outputs": [
    {
     "data": {
      "text/plain": [
       "<module 'utils.model_helper_new' from '/project/Tests/../utils/model_helper_new.py'>"
      ]
     },
     "execution_count": 15,
     "metadata": {},
     "output_type": "execute_result"
    }
   ],
   "source": [
    "importlib.reload(mh)"
   ]
  },
  {
   "cell_type": "code",
   "execution_count": 16,
   "id": "d13f5d02-04b5-4adb-b5d0-2d41192f8eb9",
   "metadata": {},
   "outputs": [],
   "source": [
    "model_helper = mh.ModelHelper('tmp/fs')"
   ]
  },
  {
   "cell_type": "code",
   "execution_count": 10,
   "id": "c3fe1b31-b9a2-4f71-ae42-927d9794f291",
   "metadata": {},
   "outputs": [],
   "source": [
    "# Log into Huggingface\n",
    "\n",
    "with open('../pass.txt') as p:\n",
    "    hf_login = p.read()\n",
    "    \n",
    "hf_login = hf_login[hf_login.find('=')+1:hf_login.find('\\n')]\n",
    "login(hf_login, add_to_git_credential=False)"
   ]
  },
  {
   "cell_type": "markdown",
   "id": "da8851be-a3f6-43fd-9c72-7660ef52029a",
   "metadata": {},
   "source": [
    "## Download a Model from Huggingface"
   ]
  },
  {
   "cell_type": "code",
   "execution_count": 11,
   "id": "fcd02239-b70d-478a-ac4a-b3551ccfe56d",
   "metadata": {},
   "outputs": [
    {
     "data": {
      "application/vnd.jupyter.widget-view+json": {
       "model_id": "44d4731841074d7595e001f46959abda",
       "version_major": 2,
       "version_minor": 0
      },
      "text/plain": [
       "config.json:   0%|          | 0.00/843 [00:00<?, ?B/s]"
      ]
     },
     "metadata": {},
     "output_type": "display_data"
    },
    {
     "data": {
      "application/vnd.jupyter.widget-view+json": {
       "model_id": "03b3ef891b0a4669975877a004cd9772",
       "version_major": 2,
       "version_minor": 0
      },
      "text/plain": [
       "model.safetensors:   0%|          | 0.00/2.47G [00:00<?, ?B/s]"
      ]
     },
     "metadata": {},
     "output_type": "display_data"
    },
    {
     "data": {
      "application/vnd.jupyter.widget-view+json": {
       "model_id": "479de176bbb2492e989cabeeb06c53fe",
       "version_major": 2,
       "version_minor": 0
      },
      "text/plain": [
       "generation_config.json:   0%|          | 0.00/185 [00:00<?, ?B/s]"
      ]
     },
     "metadata": {},
     "output_type": "display_data"
    },
    {
     "name": "stdout",
     "output_type": "stream",
     "text": [
      "Uploaded: /tmp/Models/test_llama\n"
     ]
    }
   ],
   "source": [
    "model_id = 'meta-llama/Llama-3.2-1B'\n",
    "model = model_helper.get_model_and_save(model_id=model_id,\n",
    "                                model_name='test_llama',\n",
    "                                model_tmp_location='/tmp/Models')"
   ]
  },
  {
   "cell_type": "markdown",
   "id": "e34ddf05-1e79-42ec-801e-5ed75dd326d4",
   "metadata": {},
   "source": [
    "### Access Model saved in Bloomberg Lab S3"
   ]
  },
  {
   "cell_type": "code",
   "execution_count": 17,
   "id": "c712d1ab-c41f-4fbd-9f45-b80149d37d10",
   "metadata": {},
   "outputs": [],
   "source": [
    "model_2 = model_helper.load_model('test_llama', remove_local_once_loaded=True)"
   ]
  },
  {
   "cell_type": "markdown",
   "id": "2fb3b356-f514-43fd-a467-c96444c13401",
   "metadata": {},
   "source": [
    "### List Models in Bloomberg Lab S3"
   ]
  },
  {
   "cell_type": "code",
   "execution_count": 19,
   "id": "2d2983ec-3f75-4d84-8ee3-c95c4c829a4c",
   "metadata": {},
   "outputs": [
    {
     "data": {
      "text/plain": [
       "['bclarke16/tmp/fs/test_llama/config.json',\n",
       " 'bclarke16/tmp/fs/test_llama/generation_config.json',\n",
       " 'bclarke16/tmp/fs/test_llama/model.safetensors']"
      ]
     },
     "execution_count": 19,
     "metadata": {},
     "output_type": "execute_result"
    }
   ],
   "source": [
    "model_helper.list_model_files('test_llama')"
   ]
  },
  {
   "cell_type": "markdown",
   "id": "4244681a-3270-4195-8579-ca501808fbca",
   "metadata": {},
   "source": [
    "### Remove Model from Bloomberg Lab S3"
   ]
  },
  {
   "cell_type": "code",
   "execution_count": 20,
   "id": "2c513a21-9657-4c7b-b757-8031f1208842",
   "metadata": {},
   "outputs": [
    {
     "name": "stdout",
     "output_type": "stream",
     "text": [
      "Model deleted: test_llama\n"
     ]
    }
   ],
   "source": [
    "model_helper.delete_model('test_llama')"
   ]
  },
  {
   "cell_type": "code",
   "execution_count": 21,
   "id": "cfe4cc23-c7de-41e1-b2fe-d4749b5fa647",
   "metadata": {},
   "outputs": [
    {
     "data": {
      "text/plain": [
       "[]"
      ]
     },
     "execution_count": 21,
     "metadata": {},
     "output_type": "execute_result"
    }
   ],
   "source": [
    "model_helper.list_model_files('test_llama')"
   ]
  },
  {
   "cell_type": "code",
   "execution_count": null,
   "id": "6793d9bc-8f78-4b7c-bc21-6d3c74b1d5ad",
   "metadata": {},
   "outputs": [],
   "source": []
  }
 ],
 "metadata": {
  "kernelspec": {
   "display_name": "Bloomberg Lab Python 3",
   "language": "python",
   "name": "remote-jupyterpython"
  },
  "language_info": {
   "codemirror_mode": {
    "name": "ipython",
    "version": 3
   },
   "file_extension": ".py",
   "mimetype": "text/x-python",
   "name": "python",
   "nbconvert_exporter": "python",
   "pygments_lexer": "ipython3",
   "version": "3.9.12"
  }
 },
 "nbformat": 4,
 "nbformat_minor": 5
}
