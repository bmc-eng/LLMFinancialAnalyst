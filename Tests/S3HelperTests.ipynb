{
 "cells": [
  {
   "cell_type": "markdown",
   "id": "cc120bcd-a536-4538-9f80-4314969a397f",
   "metadata": {},
   "source": [
    "## S3 Helper Test methods"
   ]
  },
  {
   "cell_type": "code",
   "execution_count": 1,
   "id": "791469d8-6b21-479d-aa4e-ce6dee4c554b",
   "metadata": {},
   "outputs": [],
   "source": [
    "import sys\n",
    "import importlib\n",
    "sys.path.insert(0, '..')\n",
    "import utils.s3_helper as s3h"
   ]
  },
  {
   "cell_type": "code",
   "execution_count": 6,
   "id": "837a06cb-1f05-42a8-99da-060b5e0d2609",
   "metadata": {},
   "outputs": [
    {
     "data": {
      "text/plain": [
       "<module 'utils.s3_helper' from '/project/Tests/../utils/s3_helper.py'>"
      ]
     },
     "execution_count": 6,
     "metadata": {},
     "output_type": "execute_result"
    }
   ],
   "source": [
    "importlib.reload(s3h)"
   ]
  },
  {
   "cell_type": "code",
   "execution_count": 7,
   "id": "05d0eace-6eb3-4e6d-a640-04db8ef889fc",
   "metadata": {},
   "outputs": [],
   "source": [
    "# Initiatlise the helper\n",
    "helper = s3h.S3Helper('tmp/fs')"
   ]
  },
  {
   "cell_type": "markdown",
   "id": "84d881e7-8dfd-44b0-9539-d86bd88779d1",
   "metadata": {},
   "source": [
    "### List all file in S3"
   ]
  },
  {
   "cell_type": "code",
   "execution_count": 35,
   "id": "8b09a7ea-90bc-42e9-935d-99614677ede5",
   "metadata": {},
   "outputs": [
    {
     "data": {
      "text/plain": [
       "['bclarke16/tmp/fs/20250208_Run1.json',\n",
       " 'bclarke16/tmp/fs/Project_data/Del/.ipynb_checkpoints/analyst_ratings-checkpoint.csv',\n",
       " 'bclarke16/tmp/fs/Project_data/Del/.ipynb_checkpoints/analyst_results-checkpoint.csv',\n",
       " 'bclarke16/tmp/fs/Project_data/Del/.ipynb_checkpoints/test_analysis-checkpoint.csv',\n",
       " 'bclarke16/tmp/fs/Project_data/Del/.ipynb_checkpoints/training_set-checkpoint.jsonl',\n",
       " 'bclarke16/tmp/fs/Project_data/Del/analyst_ratings.csv',\n",
       " 'bclarke16/tmp/fs/Project_data/Del/analyst_results.csv',\n",
       " 'bclarke16/tmp/fs/Project_data/Del/test_analysis.csv',\n",
       " 'bclarke16/tmp/fs/Project_data/Del/training_prompts.json',\n",
       " 'bclarke16/tmp/fs/Project_data/Del/training_set.jsonl',\n",
       " 'bclarke16/tmp/fs/Project_data/llama_data_quarterly_pit_indu_blended/prompts.json',\n",
       " 'bclarke16/tmp/fs/Project_data/llama_data_quarterly_pit_indu_blended/results - 2025-04-11 10:41:09.337985.json',\n",
       " 'bclarke16/tmp/fs/Project_data/prompts.json',\n",
       " 'bclarke16/tmp/fs/Project_data/qwen3b_data_quarterly_pit_indu_blended_base/prompts.json',\n",
       " 'bclarke16/tmp/fs/Project_data/qwen3b_data_quarterly_pit_indu_blended_base_finetuned/prompts.json',\n",
       " 'bclarke16/tmp/fs/Project_data/training_prompts2.json',\n",
       " 'bclarke16/tmp/fs/data.json',\n",
       " 'bclarke16/tmp/fs/data_annual_pit_indu.json',\n",
       " 'bclarke16/tmp/fs/data_annual_pit_spx.json',\n",
       " 'bclarke16/tmp/fs/data_quarterly.json',\n",
       " 'bclarke16/tmp/fs/data_quarterly_pit.json',\n",
       " 'bclarke16/tmp/fs/data_quarterly_pit_indu.json',\n",
       " 'bclarke16/tmp/fs/data_quarterly_pit_indu_refresh.json',\n",
       " 'bclarke16/tmp/fs/data_quarterly_pit_indu_refresh_blended.json',\n",
       " 'bclarke16/tmp/fs/data_quarterly_pit_indu_refresh_no_calendar.json',\n",
       " 'bclarke16/tmp/fs/data_quarterly_pit_indu_refresh_v2.json',\n",
       " 'bclarke16/tmp/fs/data_quarterly_pit_spx_refresh_blended.json',\n",
       " 'bclarke16/tmp/fs/datapack/config/data_item_definitions.parquet',\n",
       " 'bclarke16/tmp/fs/datapack/config/data_pack_config.parquet',\n",
       " 'bclarke16/tmp/fs/datapack/config/data_pack_metadata.parquet',\n",
       " 'bclarke16/tmp/fs/datapack/config/universe_definitions.parquet',\n",
       " 'bclarke16/tmp/fs/datapack/data_item/analyst_rating.parquet',\n",
       " 'bclarke16/tmp/fs/datapack/data_item/beta.parquet',\n",
       " 'bclarke16/tmp/fs/datapack/data_item/bics_level_1.parquet',\n",
       " 'bclarke16/tmp/fs/datapack/data_item/bics_level_2.parquet',\n",
       " 'bclarke16/tmp/fs/datapack/data_item/bics_level_3.parquet',\n",
       " 'bclarke16/tmp/fs/datapack/data_item/bics_level_4.parquet',\n",
       " 'bclarke16/tmp/fs/datapack/data_item/cur_mkt_cap.parquet',\n",
       " 'bclarke16/tmp/fs/datapack/data_item/day_to_day_tot_return_gross_dvds.parquet',\n",
       " 'bclarke16/tmp/fs/datapack/data_item/index_weight.parquet',\n",
       " 'bclarke16/tmp/fs/datapack/data_item/px_last.parquet',\n",
       " 'bclarke16/tmp/fs/datapack/data_item/target_price.parquet',\n",
       " 'bclarke16/tmp/fs/datapack/data_item/trading_calendar.parquet',\n",
       " 'bclarke16/tmp/fs/datapack/metadata/data_item/analyst_rating.parquet',\n",
       " 'bclarke16/tmp/fs/datapack/metadata/data_item/beta.parquet',\n",
       " 'bclarke16/tmp/fs/datapack/metadata/data_item/bics_level_1.parquet',\n",
       " 'bclarke16/tmp/fs/datapack/metadata/data_item/bics_level_2.parquet',\n",
       " 'bclarke16/tmp/fs/datapack/metadata/data_item/bics_level_3.parquet',\n",
       " 'bclarke16/tmp/fs/datapack/metadata/data_item/bics_level_4.parquet',\n",
       " 'bclarke16/tmp/fs/datapack/metadata/data_item/cur_mkt_cap.parquet',\n",
       " 'bclarke16/tmp/fs/datapack/metadata/data_item/day_to_day_tot_return_gross_dvds.parquet',\n",
       " 'bclarke16/tmp/fs/datapack/metadata/data_item/index_weight.parquet',\n",
       " 'bclarke16/tmp/fs/datapack/metadata/data_item/px_last.parquet',\n",
       " 'bclarke16/tmp/fs/datapack/metadata/data_item/target_price.parquet',\n",
       " 'bclarke16/tmp/fs/datapack/metadata/data_item/trading_calendar.parquet',\n",
       " 'bclarke16/tmp/fs/datapack/metadata/universe/INDU Index/universe.parquet',\n",
       " 'bclarke16/tmp/fs/datapack/universe/INDU Index/universe.parquet',\n",
       " 'bclarke16/tmp/fs/deepseek/config.json',\n",
       " 'bclarke16/tmp/fs/deepseek/generation_config.json',\n",
       " 'bclarke16/tmp/fs/deepseek/model-00001-of-00006.safetensors',\n",
       " 'bclarke16/tmp/fs/deepseek/model-00002-of-00006.safetensors',\n",
       " 'bclarke16/tmp/fs/deepseek/model-00003-of-00006.safetensors',\n",
       " 'bclarke16/tmp/fs/deepseek/model-00004-of-00006.safetensors',\n",
       " 'bclarke16/tmp/fs/deepseek/model-00005-of-00006.safetensors',\n",
       " 'bclarke16/tmp/fs/deepseek/model-00006-of-00006.safetensors',\n",
       " 'bclarke16/tmp/fs/deepseek/model.safetensors.index.json',\n",
       " 'bclarke16/tmp/fs/deepseek14Q/config.json',\n",
       " 'bclarke16/tmp/fs/deepseek14Q/generation_config.json',\n",
       " 'bclarke16/tmp/fs/deepseek14Q/model-00001-of-00002.safetensors',\n",
       " 'bclarke16/tmp/fs/deepseek14Q/model-00002-of-00002.safetensors',\n",
       " 'bclarke16/tmp/fs/deepseek14Q/model.safetensors.index.json',\n",
       " 'bclarke16/tmp/fs/deepseek32/config.json',\n",
       " 'bclarke16/tmp/fs/deepseek32/generation_config.json',\n",
       " 'bclarke16/tmp/fs/deepseek32/model-00001-of-00004.safetensors',\n",
       " 'bclarke16/tmp/fs/deepseek32/model-00002-of-00004.safetensors',\n",
       " 'bclarke16/tmp/fs/deepseek32/model-00003-of-00004.safetensors',\n",
       " 'bclarke16/tmp/fs/deepseek32/model-00004-of-00004.safetensors',\n",
       " 'bclarke16/tmp/fs/deepseek32/model.safetensors.index.json',\n",
       " 'bclarke16/tmp/fs/deepseek7B/config.json',\n",
       " 'bclarke16/tmp/fs/deepseek7B/generation_config.json',\n",
       " 'bclarke16/tmp/fs/deepseek7B/model-00001-of-00002.safetensors',\n",
       " 'bclarke16/tmp/fs/deepseek7B/model-00002-of-00002.safetensors',\n",
       " 'bclarke16/tmp/fs/deepseek7B/model.safetensors.index.json',\n",
       " 'bclarke16/tmp/fs/llama/config.json',\n",
       " 'bclarke16/tmp/fs/llama/generation_config.json',\n",
       " 'bclarke16/tmp/fs/llama/model-00001-of-00002.safetensors',\n",
       " 'bclarke16/tmp/fs/llama/model-00002-of-00002.safetensors',\n",
       " 'bclarke16/tmp/fs/llama/model.safetensors.index.json',\n",
       " 'bclarke16/tmp/fs/logs/Results_2025-02-23 13:50:52.110209.json',\n",
       " 'bclarke16/tmp/fs/logs/Results_2025-02-23 13:57:42.135202.json',\n",
       " 'bclarke16/tmp/fs/logs/Results_2025-02-23 13:59:33.728956.json',\n",
       " 'bclarke16/tmp/fs/logs/Results_2025-02-23 14:47:14.366854.json',\n",
       " 'bclarke16/tmp/fs/logs/Results_2025-02-23 15:39:43.667370.json',\n",
       " 'bclarke16/tmp/fs/logs/Results_2025-02-23 20:25:09.495607.json',\n",
       " 'bclarke16/tmp/fs/logs/Results_2025-03-13 13:42:02.837471.json',\n",
       " 'bclarke16/tmp/fs/logs/Results_2025-03-13 23:30:41.420977.json',\n",
       " 'bclarke16/tmp/fs/logs/Results_2025-03-14 13:33:31.342354.json',\n",
       " 'bclarke16/tmp/fs/logs/Results_2025-03-14 16:13:20.736708.json',\n",
       " 'bclarke16/tmp/fs/logs/Results_2025-03-28 12:00:11.509945.json',\n",
       " 'bclarke16/tmp/fs/logs/Results_2025-03-28 12:06:39.191917.json',\n",
       " 'bclarke16/tmp/fs/logs/Results_2025-03-28 12:20:40.983404.json',\n",
       " 'bclarke16/tmp/fs/logs/Results_2025-03-28 15:00:48.835865.json',\n",
       " 'bclarke16/tmp/fs/logs/Results_2025-03-28 16:33:53.092018.json',\n",
       " 'bclarke16/tmp/fs/logs/Results_2025-03-30 09:15:48.238865.json',\n",
       " 'bclarke16/tmp/fs/logs/Results_2025-03-30 10:05:34.896587.json',\n",
       " 'bclarke16/tmp/fs/logs/Results_2025-03-30 10:36:38.332729.json',\n",
       " 'bclarke16/tmp/fs/logs/Results_2025-03-30 11:40:33.296259.json',\n",
       " 'bclarke16/tmp/fs/logs/Results_2025-03-30 17:44:18.481428.json',\n",
       " 'bclarke16/tmp/fs/logs/Results_2025-03-30 20:11:39.828629.json',\n",
       " 'bclarke16/tmp/fs/logs/Results_2025-04-03 19:46:42.048460.json',\n",
       " 'bclarke16/tmp/fs/logs/Results_2025-04-03 20:06:52.680533.json',\n",
       " 'bclarke16/tmp/fs/logs/Results_2025-04-11 10:41:09.337985.json',\n",
       " 'bclarke16/tmp/fs/logs/Results_llama_data_quarterly_pit_indu.json',\n",
       " 'bclarke16/tmp/fs/logs/results - llama - data_quarterly_pit_indu',\n",
       " 'bclarke16/tmp/fs/logs/results.json',\n",
       " 'bclarke16/tmp/fs/logs/results2.json',\n",
       " 'bclarke16/tmp/fs/logs/test.json',\n",
       " 'bclarke16/tmp/fs/logs/test2.json',\n",
       " 'bclarke16/tmp/fs/logstest.json',\n",
       " 'bclarke16/tmp/fs/qwen/config.json',\n",
       " 'bclarke16/tmp/fs/qwen/generation_config.json',\n",
       " 'bclarke16/tmp/fs/qwen/model-00001-of-00004.safetensors',\n",
       " 'bclarke16/tmp/fs/qwen/model-00002-of-00004.safetensors',\n",
       " 'bclarke16/tmp/fs/qwen/model-00003-of-00004.safetensors',\n",
       " 'bclarke16/tmp/fs/qwen/model-00004-of-00004.safetensors',\n",
       " 'bclarke16/tmp/fs/qwen/model.safetensors.index.json',\n",
       " 'bclarke16/tmp/fs/qwen3b/config.json',\n",
       " 'bclarke16/tmp/fs/qwen3b/generation_config.json',\n",
       " 'bclarke16/tmp/fs/qwen3b/model.safetensors']"
      ]
     },
     "execution_count": 35,
     "metadata": {},
     "output_type": "execute_result"
    }
   ],
   "source": [
    "helper.list_folder()"
   ]
  },
  {
   "cell_type": "markdown",
   "id": "27feabb7-584d-4c82-9a23-16e5cb1ebdbc",
   "metadata": {},
   "source": [
    "### Add a folder into S3"
   ]
  },
  {
   "cell_type": "code",
   "execution_count": 34,
   "id": "6ed684ee-bfb7-4a92-918c-6ffd9aba3d60",
   "metadata": {},
   "outputs": [
    {
     "name": "stdout",
     "output_type": "stream",
     "text": [
      "../Data\n",
      "Uploaded\n"
     ]
    }
   ],
   "source": [
    "helper.add_folder(local_folder='../Data',s3_folder='Project_data')"
   ]
  },
  {
   "cell_type": "code",
   "execution_count": 8,
   "id": "6aad160e-28f6-4d9e-8876-35fb4f0d63dc",
   "metadata": {},
   "outputs": [],
   "source": [
    "helper.clear_local_folder('Data')"
   ]
  },
  {
   "cell_type": "code",
   "execution_count": null,
   "id": "ccec42ec-2fcf-4376-8ed9-505199930df9",
   "metadata": {},
   "outputs": [],
   "source": []
  }
 ],
 "metadata": {
  "kernelspec": {
   "display_name": "Bloomberg Lab Python 3",
   "language": "python",
   "name": "remote-jupyterpython"
  },
  "language_info": {
   "codemirror_mode": {
    "name": "ipython",
    "version": 3
   },
   "file_extension": ".py",
   "mimetype": "text/x-python",
   "name": "python",
   "nbconvert_exporter": "python",
   "pygments_lexer": "ipython3",
   "version": "3.9.12"
  }
 },
 "nbformat": 4,
 "nbformat_minor": 5
}
