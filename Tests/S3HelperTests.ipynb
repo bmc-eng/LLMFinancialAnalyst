{
 "cells": [
  {
   "cell_type": "markdown",
   "id": "cc120bcd-a536-4538-9f80-4314969a397f",
   "metadata": {},
   "source": [
    "## S3 Helper Test methods"
   ]
  },
  {
   "cell_type": "code",
   "execution_count": 1,
   "id": "791469d8-6b21-479d-aa4e-ce6dee4c554b",
   "metadata": {},
   "outputs": [],
   "source": [
    "import sys\n",
    "import importlib\n",
    "sys.path.insert(0, '..')\n",
    "import utils.s3_helper as s3h"
   ]
  },
  {
   "cell_type": "code",
   "execution_count": 6,
   "id": "837a06cb-1f05-42a8-99da-060b5e0d2609",
   "metadata": {},
   "outputs": [
    {
     "data": {
      "text/plain": [
       "<module 'utils.s3_helper' from '/project/Tests/../utils/s3_helper.py'>"
      ]
     },
     "execution_count": 6,
     "metadata": {},
     "output_type": "execute_result"
    }
   ],
   "source": [
    "importlib.reload(s3h)"
   ]
  },
  {
   "cell_type": "code",
   "execution_count": 7,
   "id": "05d0eace-6eb3-4e6d-a640-04db8ef889fc",
   "metadata": {},
   "outputs": [],
   "source": [
    "# Initiatlise the helper\n",
    "helper = s3h.S3Helper('tmp/fs')"
   ]
  },
  {
   "cell_type": "code",
   "execution_count": 1,
   "id": "8b09a7ea-90bc-42e9-935d-99614677ede5",
   "metadata": {},
   "outputs": [],
   "source": [
    "#helper.list_folder()"
   ]
  },
  {
   "cell_type": "code",
   "execution_count": null,
   "id": "b270dcf2-979d-4b37-9d89-3e6c01e7baba",
   "metadata": {},
   "outputs": [],
   "source": []
  },
  {
   "cell_type": "markdown",
   "id": "27feabb7-584d-4c82-9a23-16e5cb1ebdbc",
   "metadata": {},
   "source": [
    "### Add a folder into S3"
   ]
  },
  {
   "cell_type": "code",
   "execution_count": 34,
   "id": "6ed684ee-bfb7-4a92-918c-6ffd9aba3d60",
   "metadata": {},
   "outputs": [
    {
     "name": "stdout",
     "output_type": "stream",
     "text": [
      "../Data\n",
      "Uploaded\n"
     ]
    }
   ],
   "source": [
    "helper.add_folder(local_folder='../Data',s3_folder='Project_data')"
   ]
  },
  {
   "cell_type": "code",
   "execution_count": 8,
   "id": "6aad160e-28f6-4d9e-8876-35fb4f0d63dc",
   "metadata": {},
   "outputs": [],
   "source": [
    "helper.clear_local_folder('Data')"
   ]
  },
  {
   "cell_type": "code",
   "execution_count": null,
   "id": "ccec42ec-2fcf-4376-8ed9-505199930df9",
   "metadata": {},
   "outputs": [],
   "source": []
  }
 ],
 "metadata": {
  "kernelspec": {
   "display_name": "Bloomberg Lab Python 3",
   "language": "python",
   "name": "remote-jupyterpython"
  },
  "language_info": {
   "codemirror_mode": {
    "name": "ipython",
    "version": 3
   },
   "file_extension": ".py",
   "mimetype": "text/x-python",
   "name": "python",
   "nbconvert_exporter": "python",
   "pygments_lexer": "ipython3",
   "version": "3.9.12"
  }
 },
 "nbformat": 4,
 "nbformat_minor": 5
}
