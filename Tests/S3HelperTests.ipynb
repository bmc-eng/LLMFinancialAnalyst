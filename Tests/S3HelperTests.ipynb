{
 "cells": [
  {
   "cell_type": "markdown",
   "id": "cc120bcd-a536-4538-9f80-4314969a397f",
   "metadata": {},
   "source": [
    "## S3 Helper Test methods"
   ]
  },
  {
   "cell_type": "code",
   "execution_count": 2,
   "id": "791469d8-6b21-479d-aa4e-ce6dee4c554b",
   "metadata": {},
   "outputs": [],
   "source": [
    "import json\n",
    "import sys\n",
    "import importlib\n",
    "sys.path.insert(0, '..')\n",
    "import utils.s3_helper as s3h"
   ]
  },
  {
   "cell_type": "code",
   "execution_count": 26,
   "id": "837a06cb-1f05-42a8-99da-060b5e0d2609",
   "metadata": {},
   "outputs": [
    {
     "data": {
      "text/plain": [
       "<module 'utils.s3_helper' from '/project/Tests/../utils/s3_helper.py'>"
      ]
     },
     "execution_count": 26,
     "metadata": {},
     "output_type": "execute_result"
    }
   ],
   "source": [
    "importlib.reload(s3h)"
   ]
  },
  {
   "cell_type": "code",
   "execution_count": 27,
   "id": "05d0eace-6eb3-4e6d-a640-04db8ef889fc",
   "metadata": {},
   "outputs": [],
   "source": [
    "# Initiatlise the helper\n",
    "helper = s3h.S3Helper('tmp/fs')"
   ]
  },
  {
   "cell_type": "markdown",
   "id": "90121e65-c95d-4370-b9bc-6f0c7f7d9a6f",
   "metadata": {},
   "source": [
    "### Add a file into Bloomberg Lab S3"
   ]
  },
  {
   "cell_type": "code",
   "execution_count": 29,
   "id": "8b09a7ea-90bc-42e9-935d-99614677ede5",
   "metadata": {},
   "outputs": [],
   "source": [
    "# create a local test file\n",
    "with open (\"test_upload.json\", 'w') as f:\n",
    "    json.dump({'test':'test upload'}, f)\n",
    "# upload to S3\n",
    "helper.add_file(\"test_upload.json\", \"Tests\")"
   ]
  },
  {
   "cell_type": "markdown",
   "id": "e6580cb6-a5cf-4fbc-b9f0-720e53504807",
   "metadata": {},
   "source": [
    "### List the files in a folder"
   ]
  },
  {
   "cell_type": "code",
   "execution_count": 30,
   "id": "8ac6d735-3e2d-46a6-9e57-b5673da045a8",
   "metadata": {},
   "outputs": [
    {
     "data": {
      "text/plain": [
       "['bclarke16/tmp/fs/Tests/test_upload.json']"
      ]
     },
     "execution_count": 30,
     "metadata": {},
     "output_type": "execute_result"
    }
   ],
   "source": [
    "helper.list_folder(\"Tests\")"
   ]
  },
  {
   "cell_type": "markdown",
   "id": "f23aeebe-3633-4df9-b49c-49911e0b1145",
   "metadata": {},
   "source": [
    "### Get a file from Bloomberg Lab S3"
   ]
  },
  {
   "cell_type": "code",
   "execution_count": 31,
   "id": "5855458d-506a-4837-81db-e67f25fd3d48",
   "metadata": {},
   "outputs": [],
   "source": [
    "helper.get_file(\"Tests/test_upload.json\", \"test_downloaded.json\")"
   ]
  },
  {
   "cell_type": "markdown",
   "id": "bf4fb83e-a75d-484f-a5f8-d4971b0193ba",
   "metadata": {},
   "source": [
    "### Delete a file from Blooomberg Lab S3"
   ]
  },
  {
   "cell_type": "code",
   "execution_count": 32,
   "id": "a120a46a-3c16-4a0b-a08d-9dfeaccce8fa",
   "metadata": {},
   "outputs": [
    {
     "name": "stdout",
     "output_type": "stream",
     "text": [
      "Deleted: Tests/test_upload.json\n"
     ]
    },
    {
     "data": {
      "text/plain": [
       "[]"
      ]
     },
     "execution_count": 32,
     "metadata": {},
     "output_type": "execute_result"
    }
   ],
   "source": [
    "helper.delete_file(\"Tests/test_upload.json\")\n",
    "# verify deletion\n",
    "helper.list_folder(\"Tests\")"
   ]
  },
  {
   "cell_type": "markdown",
   "id": "27feabb7-584d-4c82-9a23-16e5cb1ebdbc",
   "metadata": {},
   "source": [
    "### Add a folder into S3"
   ]
  },
  {
   "cell_type": "code",
   "execution_count": 34,
   "id": "6ed684ee-bfb7-4a92-918c-6ffd9aba3d60",
   "metadata": {},
   "outputs": [
    {
     "name": "stdout",
     "output_type": "stream",
     "text": [
      "../Data\n",
      "Uploaded\n"
     ]
    }
   ],
   "source": [
    "helper.add_folder(local_folder='../Data',s3_folder='Project_data')"
   ]
  },
  {
   "cell_type": "markdown",
   "id": "d41f00d5-3ee0-441e-847c-d10ba3a14b6d",
   "metadata": {},
   "source": [
    "### Clear the folder in the Project directory"
   ]
  },
  {
   "cell_type": "code",
   "execution_count": 8,
   "id": "6aad160e-28f6-4d9e-8876-35fb4f0d63dc",
   "metadata": {},
   "outputs": [],
   "source": [
    "helper.clear_local_folder('Data')"
   ]
  },
  {
   "cell_type": "code",
   "execution_count": null,
   "id": "ccec42ec-2fcf-4376-8ed9-505199930df9",
   "metadata": {},
   "outputs": [],
   "source": []
  }
 ],
 "metadata": {
  "kernelspec": {
   "display_name": "Bloomberg Lab Python 3",
   "language": "python",
   "name": "remote-jupyterpython"
  },
  "language_info": {
   "codemirror_mode": {
    "name": "ipython",
    "version": 3
   },
   "file_extension": ".py",
   "mimetype": "text/x-python",
   "name": "python",
   "nbconvert_exporter": "python",
   "pygments_lexer": "ipython3",
   "version": "3.9.12"
  }
 },
 "nbformat": 4,
 "nbformat_minor": 5
}
