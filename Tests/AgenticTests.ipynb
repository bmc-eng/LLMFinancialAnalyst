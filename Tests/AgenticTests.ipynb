{
 "cells": [
  {
   "cell_type": "markdown",
   "id": "8eb250e0-6996-4bef-9d46-2785ab92b32a",
   "metadata": {},
   "source": [
    "# Multi-Agentic Financial Analyst\n",
    "This notebook will be the test build of the multi-agentic AI system. This is a notebook to experiment with the solution and to "
   ]
  },
  {
   "cell_type": "code",
   "execution_count": 7,
   "id": "f01f726e-8cd9-42de-9639-b738d17ce7da",
   "metadata": {},
   "outputs": [],
   "source": [
    "#%package install boto3=1.34.51 langchain "
   ]
  },
  {
   "cell_type": "code",
   "execution_count": 1,
   "id": "3f628962-2305-405c-a343-c1894c4d03a6",
   "metadata": {},
   "outputs": [],
   "source": [
    "import bql\n",
    "import boto3\n",
    "import botocore\n",
    "import random\n",
    "import json\n",
    "import importlib\n",
    "from utils.s3_helper import S3Helper\n",
    "\n",
    "from langchain.prompts import PromptTemplate\n",
    "from langchain_core.runnables import RunnableSequence\n",
    "from langchain_core.rate_limiters import InMemoryRateLimiter\n",
    "\n",
    "from langchain_aws import ChatBedrock\n",
    "from pydantic import BaseModel, Field\n",
    "from IPython.display import Markdown, display\n",
    "import company_data\n",
    "from datetime import datetime\n",
    "from dateutil.relativedelta import relativedelta\n",
    "\n",
    "import prompts\n",
    "import pandas as pd\n",
    "\n",
    "import concurrent.futures"
   ]
  },
  {
   "cell_type": "code",
   "execution_count": 2,
   "id": "9853c5b9-7577-40be-b5e2-ed94e02f7fc4",
   "metadata": {},
   "outputs": [],
   "source": [
    "bq = bql.Service()"
   ]
  },
  {
   "cell_type": "code",
   "execution_count": 3,
   "id": "a84d2204-278e-4a49-b5a8-59868ca6c3ae",
   "metadata": {},
   "outputs": [
    {
     "data": {
      "text/plain": [
       "<module 'prompts' from '/project/prompts.py'>"
      ]
     },
     "execution_count": 3,
     "metadata": {},
     "output_type": "execute_result"
    }
   ],
   "source": [
    "importlib.reload(prompts)"
   ]
  },
  {
   "cell_type": "code",
   "execution_count": 4,
   "id": "ac806885-2601-431a-95aa-983afc46a265",
   "metadata": {},
   "outputs": [],
   "source": [
    "# Bedrock client initialise\n",
    "config = botocore.config.Config(read_timeout=1000)\n",
    "boto3_bedrock = boto3.client('bedrock-runtime',config=config)\n",
    "\n",
    "with open('Data/prompts.json', 'rb') as f:\n",
    "    prompt_set = json.load(f)"
   ]
  },
  {
   "cell_type": "markdown",
   "id": "075ab011-9961-41a4-9bf2-820082d7809e",
   "metadata": {},
   "source": [
    "### Configure the model"
   ]
  },
  {
   "cell_type": "code",
   "execution_count": 5,
   "id": "12aac5fd-91c1-4912-b595-cf65b00b4bab",
   "metadata": {},
   "outputs": [],
   "source": [
    "model_claude_id = 'us.anthropic.claude-3-7-sonnet-20250219-v1:0'\n",
    "model_claude_small = \"us.anthropic.claude-3-5-haiku-20241022-v1:0\"\n",
    "model_llama_id = 'us.meta.llama3-1-70b-instruct-v1:0'\n",
    "model_llama_small_id = \"us.meta.llama3-1-8b-instruct-v1:0\"\n",
    "\n",
    "# set up the LLM in Bedrock\n",
    "rate_limiter = InMemoryRateLimiter(\n",
    "    requests_per_second=50,\n",
    "    check_every_n_seconds=1,\n",
    "    max_bucket_size=10,\n",
    ")\n",
    "\n",
    "llm = ChatBedrock(\n",
    "    client = boto3_bedrock,\n",
    "    model_id = model_claude_id,\n",
    "    temperature = 0.01,\n",
    "    max_tokens=4000,\n",
    "    rate_limiter = rate_limiter\n",
    ")\n",
    "\n",
    "llm_small = ChatBedrock(\n",
    "    client = boto3_bedrock,\n",
    "    model_id = model_llama_small_id,\n",
    "    temperature = 0.01,\n",
    "    max_tokens = 4000,\n",
    "    rate_limiter = rate_limiter\n",
    ")\n",
    "\n",
    "llm_debate = ChatBedrock(\n",
    "    client = boto3_bedrock,\n",
    "    model_id = model_claude_small,\n",
    "    temperature = 0.01,\n",
    "    max_tokens = 4000,\n",
    "    rate_limiter = rate_limiter\n",
    ")"
   ]
  },
  {
   "cell_type": "code",
   "execution_count": 6,
   "id": "04597584-8bbb-4d72-a1df-a62dbaacdcda",
   "metadata": {},
   "outputs": [],
   "source": [
    "# test prompt with a single security\n",
    "security = prompt_set[0]\n",
    "sec_name = security['security']\n",
    "sec_date = security['date']\n",
    "sec_fs = security['prompt'][1]['content']\n",
    "sec_prices = sec_fs[sec_fs.find('Historical Price:') + 17:]"
   ]
  },
  {
   "cell_type": "code",
   "execution_count": 7,
   "id": "902adf11-4868-4231-b9a9-934889acbf68",
   "metadata": {},
   "outputs": [],
   "source": [
    "system_prompt = prompts.SYSTEM_PROMPTS['COT_CLAUDE_TEST']['prompt']\n",
    "prompt_template = PromptTemplate.from_template(system_prompt)\n",
    "# Create the prompt to feed into the model\n",
    "prompt_in = prompt_template.format(financials=sec_fs)"
   ]
  },
  {
   "cell_type": "code",
   "execution_count": 8,
   "id": "a73a11be-2b63-4181-9419-9b77332b0882",
   "metadata": {},
   "outputs": [],
   "source": [
    "output_financial_statements = llm.invoke(prompt_in)\n"
   ]
  },
  {
   "cell_type": "code",
   "execution_count": 9,
   "id": "f7d51cd1-aaa9-4ded-94e7-20b81bf23386",
   "metadata": {},
   "outputs": [
    {
     "data": {
      "text/plain": [
       "\"# Financial Analysis Report\\n\\n## 1. Analysis of Current Profitability, Liquidity, Solvency, and Efficiency Ratios\\n\\n### Profitability Ratios\\n- **Gross Profit Margin**: 21.24% (t) vs 21.61% (t-1)\\n- **Operating Profit Margin**: 3.06% (t) vs 3.25% (t-1)\\n- **Net Profit Margin**: 2.52% (t) vs 2.69% (t-1)\\n- **Return on Assets (ROA)**: 3.88% (t) vs 4.08% (t-1)\\n- **Return on Equity (ROE)**: 14.35% (t) vs 15.23% (t-1)\\n\\n### Liquidity Ratios\\n- **Current Ratio**: 0.66 (t) vs 0.66 (t-1)\\n- **Quick Ratio**: 0.32 (t) vs 0.31 (t-1)\\n- **Cash Ratio**: 0.03 (t) vs 0.03 (t-1)\\n\\n### Solvency Ratios\\n- **Debt-to-Equity Ratio**: 2.70 (t) vs 2.73 (t-1)\\n- **Debt-to-Assets Ratio**: 0.73 (t) vs 0.73 (t-1)\\n- **Interest Coverage Ratio**: 6.15 (t) vs 6.31 (t-1)\\n\\n### Efficiency Ratios\\n- **Asset Turnover Ratio**: 1.54 (t) vs 1.51 (t-1)\\n- **Inventory Turnover**: 11.32 (t) vs 10.22 (t-1)\\n- **Receivables Turnover**: 18.32 (t) vs 18.48 (t-1)\\n\\n## 2. Time-Series Analysis Across Ratios\\n\\n### Profitability Trends\\n- **Gross Profit Margin**: Declining trend from 23.10% (t-5) to 21.24% (t)\\n- **Operating Profit Margin**: Consistent decline from 4.57% (t-5) to 3.06% (t)\\n- **Net Profit Margin**: Steady decline from 3.96% (t-5) to 2.52% (t)\\n- **ROA**: Decreasing from 7.61% (t-5) to 3.88% (t)\\n- **ROE**: Declining from 20.28% (t-5) to 14.35% (t)\\n\\n### Liquidity Trends\\n- **Current Ratio**: Relatively stable around 0.66-0.80 over the periods\\n- **Quick Ratio**: Stable between 0.31-0.36 across periods\\n- **Cash Ratio**: Consistent at approximately 0.03-0.04\\n\\n### Solvency Trends\\n- **Debt-to-Equity**: Increased from 1.66 (t-5) to 2.70 (t)\\n- **Debt-to-Assets**: Increased from 0.62 (t-5) to 0.73 (t)\\n- **Interest Coverage**: Declined from 9.79 (t-5) to 6.15 (t)\\n\\n### Efficiency Trends\\n- **Asset Turnover**: Relatively stable between 1.51-2.02\\n- **Inventory Turnover**: Improved from 9.43 (t-5) to 11.32 (t)\\n- **Receivables Turnover**: Relatively stable between 18.32-19.09\\n\\n## 3. Analysis of Financial Performance\\n\\nThe company shows concerning trends in its financial performance:\\n\\n1. **Revenue Growth**: Revenue has grown marginally by 0.94% from t-1 to t, with a 5-year CAGR of only 0.61%, indicating stagnant growth.\\n\\n2. **Profitability Deterioration**: All profitability metrics show a consistent downward trend:\\n   - Operating income decreased by 5.12% from t-1 to t and has declined by 31.01% over five years\\n   - Net income decreased by 5.67% from t-1 to t and has declined by 34.42% over five years\\n\\n3. **Margin Compression**: Gross profit margin has decreased from 23.10% to 21.24% over five years, while operating margin has declined from 4.57% to 3.06%.\\n\\n4. **Cost Structure**: Cost of revenue has increased as a percentage of sales from 76.90% to 78.76% over five years, suggesting deteriorating cost management.\\n\\n5. **Balance Sheet Changes**: The company has significantly increased its debt levels, particularly long-term debt, which has nearly tripled from t-5 to t, largely due to operating lease recognition.\\n\\n6. **Cash Position**: Cash and short-term investments have decreased by 19.18% over five years, indicating potential liquidity concerns.\\n\\n## 4. Stock Price Analysis\\n\\nThe stock price shows a concerning downward trend:\\n- From April 2019 to April 2020, the stock price declined from $55.36 to $40.32, representing a 27.17% decrease\\n- The stock experienced significant volatility, with a peak of $59.27 in December 2019\\n- The sharp decline in early 2020 (from $59.08 in January to $40.32 in April) suggests market concerns about the company's future prospects\\n- The stock price decline aligns with the deteriorating financial performance observed in the income statement and balance sheet\\n\\n## 5. Decision Analysis\\n\\n### Positive Factors (30% weight)\\n1. **Revenue stability**: Despite economic challenges, revenue has remained relatively stable with slight growth (0.94% YoY)\\n2. **Improved inventory management**: Inventory turnover has improved from 9.43 to 11.32 over five years\\n3. **Stable asset turnover**: The company maintains efficient use of assets to generate revenue\\n\\n### Negative Factors (70% weight)\\n1. **Consistent profit decline**: Operating income and net income have declined for five consecutive years\\n2. **Margin compression**: All profitability margins show a clear downward trend\\n3. **Increasing debt burden**: Significant increase in debt levels, weakening the financial position\\n4. **Declining EPS**: Basic EPS has decreased from $5.44 (t-5) to $3.90 (t)\\n5. **Negative stock price momentum**: 27.17% decline in stock price over the past year\\n6. **Rising cost structure**: Cost of revenue as a percentage of sales has increased consistently\\n7. **Declining returns**: Both ROA and ROE show significant deterioration\\n\\n## 6. Final Decision\\n\\nBased on the comprehensive analysis of financial statements and stock price trends, I predict that earnings will **decrease** in the next financial period by approximately 5-8%. The company shows clear signs of deteriorating profitability, margin compression, and increasing costs that are likely to continue in the near term. The consistent five-year downward trend in operating income, net income, and all profitability metrics strongly suggests this negative trajectory will continue.\\n\\n**Confidence Score: 85%**\\n\\n## 7. Information Wished for Better Decision-Making\\n\\nAdditional information that would enhance the analysis includes:\\n\\n1. **Industry benchmarks and competitor performance** to determine if the declining trends are company-specific or industry-wide challenges. This context would help assess if the company is underperforming relative to peers or facing systemic issues.\\n\\n2. **Segment reporting** to identify which business units are driving the decline and which might be performing well. Understanding the performance variation across segments would provide insights into potential growth areas.\\n\\n3. **Forward-looking guidance from management** regarding cost-cutting initiatives, strategic investments, or restructuring plans that might reverse the negative trends.\\n\\n4. **Macroeconomic indicators** relevant to the company's markets to assess external factors impacting performance.\\n\\n5. **Customer concentration data** to evaluate dependency risks and potential revenue volatility.\\n\\n6. **Capital expenditure plans** to understand future growth investments and their potential impact on profitability.\\n\\nThis information would provide crucial context for the financial trends and enable a more nuanced assessment of future earnings potential.\""
      ]
     },
     "execution_count": 9,
     "metadata": {},
     "output_type": "execute_result"
    }
   ],
   "source": [
    "output_financial_statements.content\n",
    "#display(Markdown(output.content))"
   ]
  },
  {
   "cell_type": "markdown",
   "id": "b69ecd5b-fa06-4149-83c1-3b8d6ff08c10",
   "metadata": {},
   "source": [
    "# Analyse the News datasets"
   ]
  },
  {
   "cell_type": "code",
   "execution_count": 168,
   "id": "4e7a4783-3042-41d1-8e66-b81473b47d67",
   "metadata": {},
   "outputs": [],
   "source": [
    "s3_helper = S3Helper('tmp/fs')\n",
    "s3_helper.get_file(filename='dow_headlines.parquet', local_filename='/tmp/dow_headlines.parquet')\n",
    "news_headlines = pd.read_parquet('/tmp/dow_headlines.parquet')"
   ]
  },
  {
   "cell_type": "code",
   "execution_count": 13,
   "id": "2aaa8cc0-b96b-499a-bf1a-389f81df07b8",
   "metadata": {},
   "outputs": [
    {
     "data": {
      "text/html": [
       "<div>\n",
       "<style scoped>\n",
       "    .dataframe tbody tr th:only-of-type {\n",
       "        vertical-align: middle;\n",
       "    }\n",
       "\n",
       "    .dataframe tbody tr th {\n",
       "        vertical-align: top;\n",
       "    }\n",
       "\n",
       "    .dataframe thead th {\n",
       "        text-align: right;\n",
       "    }\n",
       "</style>\n",
       "<table border=\"1\" class=\"dataframe\">\n",
       "  <thead>\n",
       "    <tr style=\"text-align: right;\">\n",
       "      <th></th>\n",
       "      <th>SUID</th>\n",
       "      <th>Headline</th>\n",
       "      <th>TimeOfArrival</th>\n",
       "      <th>Assigned_ID_BB_GLOBAL</th>\n",
       "    </tr>\n",
       "  </thead>\n",
       "  <tbody>\n",
       "    <tr>\n",
       "      <th>0</th>\n",
       "      <td>PKP0NPDWRGG0</td>\n",
       "      <td>*jpmorgan rehires ling zhang from bgi genomics</td>\n",
       "      <td>2019-01-02 07:26:13.641</td>\n",
       "      <td>BBG000DMBXR2</td>\n",
       "    </tr>\n",
       "    <tr>\n",
       "      <th>1</th>\n",
       "      <td>PKP0NQDWRGG0</td>\n",
       "      <td>*jpmorgan names zhang china healthcare investm...</td>\n",
       "      <td>2019-01-02 07:26:14.600</td>\n",
       "      <td>BBG000DMBXR2</td>\n",
       "    </tr>\n",
       "    <tr>\n",
       "      <th>2</th>\n",
       "      <td>PKP0PY6KLVR4</td>\n",
       "      <td>apple remains core tech holding in ‘risk-off’ ...</td>\n",
       "      <td>2019-01-02 07:27:34.229</td>\n",
       "      <td>BBG000B9XRY4</td>\n",
       "    </tr>\n",
       "    <tr>\n",
       "      <th>3</th>\n",
       "      <td>PKP4IB6K50XT</td>\n",
       "      <td>refinery outages: exxon beaumont; pes philadel...</td>\n",
       "      <td>2019-01-02 08:49:23.087</td>\n",
       "      <td>BBG000GZQ728</td>\n",
       "    </tr>\n",
       "    <tr>\n",
       "      <th>4</th>\n",
       "      <td>PKP72M6K50XU</td>\n",
       "      <td>taiwan walks tightrope between china and not c...</td>\n",
       "      <td>2019-01-02 09:44:46.220</td>\n",
       "      <td>BBG000B9XRY4</td>\n",
       "    </tr>\n",
       "    <tr>\n",
       "      <th>...</th>\n",
       "      <td>...</td>\n",
       "      <td>...</td>\n",
       "      <td>...</td>\n",
       "      <td>...</td>\n",
       "    </tr>\n",
       "    <tr>\n",
       "      <th>104203</th>\n",
       "      <td>SV3C9WBKHDS1</td>\n",
       "      <td>*disney moves date of new 'star wars' movie up...</td>\n",
       "      <td>2025-04-21 23:08:20.275</td>\n",
       "      <td>BBG000BH4R78</td>\n",
       "    </tr>\n",
       "    <tr>\n",
       "      <th>104204</th>\n",
       "      <td>SV3C9WBKHDS2</td>\n",
       "      <td>*disney comments on film release schedule in e...</td>\n",
       "      <td>2025-04-21 23:08:20.287</td>\n",
       "      <td>BBG000BH4R78</td>\n",
       "    </tr>\n",
       "    <tr>\n",
       "      <th>104205</th>\n",
       "      <td>SV3FAKT0G1KW</td>\n",
       "      <td>amazon must negotiate with teamsters, labor bo...</td>\n",
       "      <td>2025-04-22 00:13:32.732</td>\n",
       "      <td>BBG000BVPV84</td>\n",
       "    </tr>\n",
       "    <tr>\n",
       "      <th>104206</th>\n",
       "      <td>SV3MJUGENSW0</td>\n",
       "      <td>unitedhealth cut to hold at hsbc; pt $490</td>\n",
       "      <td>2025-04-22 02:50:18.840</td>\n",
       "      <td>BBG000CH5208</td>\n",
       "    </tr>\n",
       "    <tr>\n",
       "      <th>104207</th>\n",
       "      <td>SV3W01T0AFB4</td>\n",
       "      <td>vietnam stocks fall most in two weeks on margi...</td>\n",
       "      <td>2025-04-22 06:43:53.091</td>\n",
       "      <td>BBG000PSKYX7</td>\n",
       "    </tr>\n",
       "  </tbody>\n",
       "</table>\n",
       "<p>104208 rows × 4 columns</p>\n",
       "</div>"
      ],
      "text/plain": [
       "                SUID                                           Headline  \\\n",
       "0       PKP0NPDWRGG0     *jpmorgan rehires ling zhang from bgi genomics   \n",
       "1       PKP0NQDWRGG0  *jpmorgan names zhang china healthcare investm...   \n",
       "2       PKP0PY6KLVR4  apple remains core tech holding in ‘risk-off’ ...   \n",
       "3       PKP4IB6K50XT  refinery outages: exxon beaumont; pes philadel...   \n",
       "4       PKP72M6K50XU  taiwan walks tightrope between china and not c...   \n",
       "...              ...                                                ...   \n",
       "104203  SV3C9WBKHDS1  *disney moves date of new 'star wars' movie up...   \n",
       "104204  SV3C9WBKHDS2  *disney comments on film release schedule in e...   \n",
       "104205  SV3FAKT0G1KW  amazon must negotiate with teamsters, labor bo...   \n",
       "104206  SV3MJUGENSW0          unitedhealth cut to hold at hsbc; pt $490   \n",
       "104207  SV3W01T0AFB4  vietnam stocks fall most in two weeks on margi...   \n",
       "\n",
       "                 TimeOfArrival Assigned_ID_BB_GLOBAL  \n",
       "0      2019-01-02 07:26:13.641          BBG000DMBXR2  \n",
       "1      2019-01-02 07:26:14.600          BBG000DMBXR2  \n",
       "2      2019-01-02 07:27:34.229          BBG000B9XRY4  \n",
       "3      2019-01-02 08:49:23.087          BBG000GZQ728  \n",
       "4      2019-01-02 09:44:46.220          BBG000B9XRY4  \n",
       "...                        ...                   ...  \n",
       "104203 2025-04-21 23:08:20.275          BBG000BH4R78  \n",
       "104204 2025-04-21 23:08:20.287          BBG000BH4R78  \n",
       "104205 2025-04-22 00:13:32.732          BBG000BVPV84  \n",
       "104206 2025-04-22 02:50:18.840          BBG000CH5208  \n",
       "104207 2025-04-22 06:43:53.091          BBG000PSKYX7  \n",
       "\n",
       "[104208 rows x 4 columns]"
      ]
     },
     "execution_count": 13,
     "metadata": {},
     "output_type": "execute_result"
    }
   ],
   "source": [
    "news_headlines"
   ]
  },
  {
   "cell_type": "code",
   "execution_count": 14,
   "id": "ce1880fe-623e-4932-b7f4-7fbd2e8fef8a",
   "metadata": {},
   "outputs": [],
   "source": [
    "# Convert sec_name to figi\n",
    "def convert_to_figi(sec_name: str) -> str:\n",
    "    \"\"\"Function to convert Bloomberg tickers in a dataframe to FIGIs for ESL\"\"\"\n",
    "    univ      = sec_name\n",
    "    field     = {'figi': bq.data.composite_id_bb_global(), \n",
    "                 'name': bq.data.name(), \n",
    "                 'sector': bq.data.bics_level_1_sector_name()}\n",
    "    req = bql.Request(univ, field)\n",
    "    data = bq.execute(req)\n",
    "    return (data[0].df().loc[sec_name]['figi'], data[1].df().loc[sec_name]['name'], data[2].df().loc[sec_name]['sector'])\n",
    "    "
   ]
  },
  {
   "cell_type": "code",
   "execution_count": 15,
   "id": "a28d9ed7-3a67-4610-b4ae-0284720c0678",
   "metadata": {},
   "outputs": [
    {
     "data": {
      "text/plain": [
       "'BBG000BWLMJ4'"
      ]
     },
     "execution_count": 15,
     "metadata": {},
     "output_type": "execute_result"
    }
   ],
   "source": [
    "figi_name, name, sector = convert_to_figi(sec_name)\n",
    "figi_name"
   ]
  },
  {
   "cell_type": "code",
   "execution_count": 16,
   "id": "34c76a80-3064-4450-9f26-957ed7dfe0e8",
   "metadata": {},
   "outputs": [
    {
     "data": {
      "text/plain": [
       "'Consumer Staples'"
      ]
     },
     "execution_count": 16,
     "metadata": {},
     "output_type": "execute_result"
    }
   ],
   "source": [
    "sector"
   ]
  },
  {
   "cell_type": "code",
   "execution_count": 17,
   "id": "62f274fe-b453-4b79-8164-836333115689",
   "metadata": {},
   "outputs": [],
   "source": [
    "\n",
    "def filter_by_company_date(dataset, security, max_date = None):\n",
    "    \n",
    "    if max_date != None:\n",
    "        #claculate the minimum date to get a 3 month window\n",
    "        min_date = datetime.strptime(max_date,\"%Y-%m-%d\") + relativedelta(months=-3)\n",
    "        min_date = min_date.strftime(\"%Y-%m-%d\")\n",
    "        filtered_dataset = dataset[(dataset['TimeOfArrival'] < max_date) &  (dataset['TimeOfArrival'] >= min_date) & (dataset['Assigned_ID_BB_GLOBAL'] == security)]\n",
    "    else:\n",
    "        filtered_dataset = dataset[dataset['Assigned_ID_BB_GLOBAL'] == security]\n",
    "    \n",
    "    filtered_list = filtered_dataset['Headline'].to_list()\n",
    "\n",
    "    if len(filtered_list) >= 50:\n",
    "        return random.sample(filtered_list, 50)\n",
    "    else:\n",
    "        return filtered_list\n",
    "    "
   ]
  },
  {
   "cell_type": "code",
   "execution_count": 18,
   "id": "1881d167-1ea2-4ccc-b56c-9823b473d62b",
   "metadata": {},
   "outputs": [
    {
     "data": {
      "text/plain": [
       "'2020-04-02'"
      ]
     },
     "execution_count": 18,
     "metadata": {},
     "output_type": "execute_result"
    }
   ],
   "source": [
    "sec_date"
   ]
  },
  {
   "cell_type": "code",
   "execution_count": 19,
   "id": "8706cc2b-759e-4adf-93a2-73cc90f70605",
   "metadata": {},
   "outputs": [],
   "source": [
    "headline_filter_test = filter_by_company_date(news_headlines, figi_name, sec_date)"
   ]
  },
  {
   "cell_type": "code",
   "execution_count": 20,
   "id": "c98a7578-133e-48f4-a37c-c6803ef34c72",
   "metadata": {},
   "outputs": [
    {
     "data": {
      "text/plain": [
       "['preview walgreens 1q: awaiting direction on long-term strategy',\n",
       " '*walgreens boots 1q adj eps $1.37, est. $1.41',\n",
       " '*walgreens boots 1q net sales $34.3b, est. $34.58b',\n",
       " 'walgreens boots first quarter adjusted eps misses estimates',\n",
       " '*walgreens boots alliance maintains fy adjusted eps guidance',\n",
       " '*wba 1q us retail pharmacy comp sales +1.6%, est. +5.3%',\n",
       " 'walgreens sinks 6% pre-mkt; likely to break uptrend',\n",
       " 'walgreens stock slump deepens as drugstore giant’s profits slide',\n",
       " '*walgreens ceo pessina says company had slow start to 2020',\n",
       " 'walgreens stock slump deepens as drugstore’s profits slide (1)',\n",
       " 'walgreens off to slow start in 2020; investors skeptical on lbo',\n",
       " 'walgreens boots pt cut to $56 from $59 at mizuho securities usa',\n",
       " 'walgreens boots maintains quarterly dividend at 45.75 cents/shr',\n",
       " '*walgreens names richard ashworth president of walgreens',\n",
       " 'walgreens boots goes ex-dividend, trades without payout',\n",
       " 'walgreens boots implied volatility surges as shares fall',\n",
       " '*walgreens directed consultants to remove damaging findings: nyt',\n",
       " 'walgreens had consultants remove findings about mistakes: nyt',\n",
       " 'walgreens boots implied volatility up, reaches 79th percentile',\n",
       " 'walgreens boots implied volatility up, reaches 100th percentile',\n",
       " 'walgreens boots implied volatility up, reaches 100th percentile',\n",
       " 'walgreens boots implied volatility down, reaches 99th percentile',\n",
       " 'walgreens boots implied volatility up, reaches 99th percentile',\n",
       " '*quotation resumed:(wba) u.s market wide circuit breaker',\n",
       " '*trading released/resumed:(wba) reason not available',\n",
       " '*walgreens waiving delivery fees for all eligible prescriptions',\n",
       " 'walgreens boots implied volatility drops as shares rise',\n",
       " '*walgreens: temporary space at some stores for covid-19 testing',\n",
       " 'walgreens to allow covid-19 testing outside selected stores',\n",
       " 'walgreens boots implied volatility drops as shares fall',\n",
       " '*walgreens announces temporary changes to store operating hours',\n",
       " '*walgreens: most locations will now be open from 9 a.m.- 9 p.m',\n",
       " 'walgreens boots implied volatility up, reaches 100th percentile',\n",
       " '*sec sues rite aid employee with insider trading',\n",
       " '*sec sues rite aid staff w/insider trading over walgreens deal',\n",
       " 'sec sues rite aid staff with insider trading over walgreens deal',\n",
       " 'preview walgreens\\xa02q: covid-19 impact to take center stage',\n",
       " 'walgreens boots options imply elevated post-earnings volatility']"
      ]
     },
     "execution_count": 20,
     "metadata": {},
     "output_type": "execute_result"
    }
   ],
   "source": [
    "headline_filter_test"
   ]
  },
  {
   "cell_type": "code",
   "execution_count": 21,
   "id": "5a622cea-39ce-444d-9af8-d46adef04c3e",
   "metadata": {},
   "outputs": [],
   "source": [
    "system_prompt = \"\"\"You are an assistant to a financial analyst analyzing {security} You must remove any reference to {security} and their products from the following list of headlines and replace them with the term 'blah'. Replace the names of any people such as ceo in the article with the term 'whah' do not refer to {security} at all in your answer:{headlines}\"\"\"\n",
    "prompt_template = PromptTemplate.from_template(system_prompt)\n",
    "# Create the prompt to feed into the model\n",
    "prompt_in = prompt_template.format(headlines=headline_filter_test, security=name)"
   ]
  },
  {
   "cell_type": "code",
   "execution_count": 22,
   "id": "bf971022-f3c3-4d3c-86bc-64280ab8f082",
   "metadata": {},
   "outputs": [
    {
     "data": {
      "text/plain": [
       "\"You are an assistant to a financial analyst analyzing Walgreens Boots Alliance Inc You must remove any reference to Walgreens Boots Alliance Inc and their products from the following list of headlines and replace them with the term 'blah'. Replace the names of any people such as ceo in the article with the term 'whah' do not refer to Walgreens Boots Alliance Inc at all in your answer:['preview walgreens 1q: awaiting direction on long-term strategy', '*walgreens boots 1q adj eps $1.37, est. $1.41', '*walgreens boots 1q net sales $34.3b, est. $34.58b', 'walgreens boots first quarter adjusted eps misses estimates', '*walgreens boots alliance maintains fy adjusted eps guidance', '*wba 1q us retail pharmacy comp sales +1.6%, est. +5.3%', 'walgreens sinks 6% pre-mkt; likely to break uptrend', 'walgreens stock slump deepens as drugstore giant’s profits slide', '*walgreens ceo pessina says company had slow start to 2020', 'walgreens stock slump deepens as drugstore’s profits slide (1)', 'walgreens off to slow start in 2020; investors skeptical on lbo', 'walgreens boots pt cut to $56 from $59 at mizuho securities usa', 'walgreens boots maintains quarterly dividend at 45.75 cents/shr', '*walgreens names richard ashworth president of walgreens', 'walgreens boots goes ex-dividend, trades without payout', 'walgreens boots implied volatility surges as shares fall', '*walgreens directed consultants to remove damaging findings: nyt', 'walgreens had consultants remove findings about mistakes: nyt', 'walgreens boots implied volatility up, reaches 79th percentile', 'walgreens boots implied volatility up, reaches 100th percentile', 'walgreens boots implied volatility up, reaches 100th percentile', 'walgreens boots implied volatility down, reaches 99th percentile', 'walgreens boots implied volatility up, reaches 99th percentile', '*quotation resumed:(wba) u.s market wide circuit breaker', '*trading released/resumed:(wba) reason not available', '*walgreens waiving delivery fees for all eligible prescriptions', 'walgreens boots implied volatility drops as shares rise', '*walgreens: temporary space at some stores for covid-19 testing', 'walgreens to allow covid-19 testing outside selected stores', 'walgreens boots implied volatility drops as shares fall', '*walgreens announces temporary changes to store operating hours', '*walgreens: most locations will now be open from 9 a.m.- 9 p.m', 'walgreens boots implied volatility up, reaches 100th percentile', '*sec sues rite aid employee with insider trading', '*sec sues rite aid staff w/insider trading over walgreens deal', 'sec sues rite aid staff with insider trading over walgreens deal', 'preview walgreens\\\\xa02q: covid-19 impact to take center stage', 'walgreens boots options imply elevated post-earnings volatility']\""
      ]
     },
     "execution_count": 22,
     "metadata": {},
     "output_type": "execute_result"
    }
   ],
   "source": [
    "prompt_in"
   ]
  },
  {
   "cell_type": "code",
   "execution_count": 23,
   "id": "29b5ea51-ba10-4804-9b8c-9b40cf376992",
   "metadata": {},
   "outputs": [],
   "source": [
    "output_cleaned = llm_small.invoke(prompt_in)"
   ]
  },
  {
   "cell_type": "code",
   "execution_count": 24,
   "id": "e10a4640-3dc9-44f7-8268-8bf7ec5c9f70",
   "metadata": {},
   "outputs": [
    {
     "data": {
      "text/plain": [
       "AIMessage(content=\"Here is the list of headlines with all references to Walgreens Boots Alliance Inc and their products removed:\\n\\n* 'Preview blah 1Q: awaiting direction on long-term strategy'\\n* 'blah 1Q adj eps $1.37, est. $1.41'\\n* 'blah 1Q net sales $34.3b, est. $34.58b'\\n* 'blah first quarter adjusted eps misses estimates'\\n* 'blah 1Q US retail pharmacy comp sales +1.6%, est. +5.3%'\\n* 'blah sinks 6% pre-mkt; likely to break uptrend'\\n* 'blah stock slump deepens as drugstore giant’s profits slide'\\n* 'blah ceo whah says company had slow start to 2020'\\n* 'blah stock slump deepens as drugstore’s profits slide (1)'\\n* 'blah off to slow start in 2020; investors skeptical on lbo'\\n* 'blah pt cut to $56 from $59 at mizuho securities usa'\\n* 'blah maintains quarterly dividend at 45.75 cents/shr'\\n* 'blah names richard ashworth president of blah'\\n* 'blah goes ex-dividend, trades without payout'\\n* 'blah implied volatility surges as shares fall'\\n* 'blah directed consultants to remove damaging findings: nyt'\\n* 'blah had consultants remove findings about mistakes: nyt'\\n* 'blah implied volatility up, reaches 79th percentile'\\n* 'blah implied volatility up, reaches 100th percentile'\\n* 'blah implied volatility up, reaches 100th percentile'\\n* 'blah implied volatility down, reaches 99th percentile'\\n* 'blah implied volatility up, reaches 99th percentile'\\n* 'quotation resumed:(blah) u.s market wide circuit breaker'\\n* 'trading released/resumed:(blah) reason not available'\\n* 'blah waiving delivery fees for all eligible prescriptions'\\n* 'blah implied volatility drops as shares rise'\\n* 'blah: temporary space at some stores for covid-19 testing'\\n* 'blah to allow covid-19 testing outside selected stores'\\n* 'blah implied volatility drops as shares fall'\\n* 'blah announces temporary changes to store operating hours'\\n* 'blah: most locations will now be open from 9 a.m.- 9 p.m'\\n* 'blah implied volatility up, reaches 100th percentile'\\n* 'sec sues rite aid employee with insider trading'\\n* 'sec sues rite aid staff w/insider trading over blah deal'\\n* 'sec sues rite aid staff with insider trading over blah deal'\\n* 'Preview blah 2Q: covid-19 impact to take center stage'\\n* 'blah options imply elevated post-earnings volatility'\", additional_kwargs={'usage': {'prompt_tokens': 658, 'completion_tokens': 563, 'cache_read_input_tokens': 0, 'cache_write_input_tokens': 0, 'total_tokens': 1221}, 'stop_reason': 'stop', 'thinking': {}, 'model_id': 'us.meta.llama3-1-8b-instruct-v1:0', 'model_name': 'us.meta.llama3-1-8b-instruct-v1:0'}, response_metadata={'usage': {'prompt_tokens': 658, 'completion_tokens': 563, 'cache_read_input_tokens': 0, 'cache_write_input_tokens': 0, 'total_tokens': 1221}, 'stop_reason': 'stop', 'thinking': {}, 'model_id': 'us.meta.llama3-1-8b-instruct-v1:0', 'model_name': 'us.meta.llama3-1-8b-instruct-v1:0'}, id='run-10d324a5-7406-44c2-9457-7961fab65932-0', usage_metadata={'input_tokens': 658, 'output_tokens': 563, 'total_tokens': 1221, 'input_token_details': {'cache_creation': 0, 'cache_read': 0}})"
      ]
     },
     "execution_count": 24,
     "metadata": {},
     "output_type": "execute_result"
    }
   ],
   "source": [
    "output_cleaned"
   ]
  },
  {
   "cell_type": "code",
   "execution_count": 25,
   "id": "f681d863-821f-4409-b3ba-e434295bc4fb",
   "metadata": {},
   "outputs": [],
   "source": [
    "output_ceo = llm.invoke(\"Guess the name of the company blah from the following headline: blah ceo whah says company had slow start to 2020\")"
   ]
  },
  {
   "cell_type": "code",
   "execution_count": 26,
   "id": "122bb529-7ae3-4dfa-83cc-ecac4bc74043",
   "metadata": {},
   "outputs": [
    {
     "data": {
      "text/plain": [
       "AIMessage(content='Based on the headline \"blah ceo whah says company had slow start to 2020,\" I can see that the company name is meant to be \"blah\" since it appears in the position where a company name would typically be placed in a headline, followed by \"ceo\" and the CEO\\'s name \"whah.\"', additional_kwargs={'usage': {'prompt_tokens': 36, 'completion_tokens': 72, 'cache_read_input_tokens': 0, 'cache_write_input_tokens': 0, 'total_tokens': 108}, 'stop_reason': 'end_turn', 'thinking': {}, 'model_id': 'us.anthropic.claude-3-7-sonnet-20250219-v1:0', 'model_name': 'us.anthropic.claude-3-7-sonnet-20250219-v1:0'}, response_metadata={'usage': {'prompt_tokens': 36, 'completion_tokens': 72, 'cache_read_input_tokens': 0, 'cache_write_input_tokens': 0, 'total_tokens': 108}, 'stop_reason': 'end_turn', 'thinking': {}, 'model_id': 'us.anthropic.claude-3-7-sonnet-20250219-v1:0', 'model_name': 'us.anthropic.claude-3-7-sonnet-20250219-v1:0'}, id='run-d41d92ca-4931-47a6-89fb-c44f6dd3a24a-0', usage_metadata={'input_tokens': 36, 'output_tokens': 72, 'total_tokens': 108, 'input_token_details': {'cache_creation': 0, 'cache_read': 0}})"
      ]
     },
     "execution_count": 26,
     "metadata": {},
     "output_type": "execute_result"
    }
   ],
   "source": [
    "output_ceo"
   ]
  },
  {
   "cell_type": "code",
   "execution_count": 27,
   "id": "c34912ac-b582-409f-834b-a11da2064d0c",
   "metadata": {},
   "outputs": [],
   "source": [
    "cleaned_headlines = output_cleaned.content.split('\\n')"
   ]
  },
  {
   "cell_type": "code",
   "execution_count": 28,
   "id": "4fba8fa7-55ed-49ac-908d-2e60f91126ea",
   "metadata": {},
   "outputs": [
    {
     "data": {
      "text/plain": [
       "['',\n",
       " \"* 'Preview blah 1Q: awaiting direction on long-term strategy'\",\n",
       " \"* 'blah 1Q adj eps $1.37, est. $1.41'\",\n",
       " \"* 'blah 1Q net sales $34.3b, est. $34.58b'\",\n",
       " \"* 'blah first quarter adjusted eps misses estimates'\",\n",
       " \"* 'blah 1Q US retail pharmacy comp sales +1.6%, est. +5.3%'\",\n",
       " \"* 'blah sinks 6% pre-mkt; likely to break uptrend'\",\n",
       " \"* 'blah stock slump deepens as drugstore giant’s profits slide'\",\n",
       " \"* 'blah ceo whah says company had slow start to 2020'\",\n",
       " \"* 'blah stock slump deepens as drugstore’s profits slide (1)'\",\n",
       " \"* 'blah off to slow start in 2020; investors skeptical on lbo'\",\n",
       " \"* 'blah pt cut to $56 from $59 at mizuho securities usa'\",\n",
       " \"* 'blah maintains quarterly dividend at 45.75 cents/shr'\",\n",
       " \"* 'blah names richard ashworth president of blah'\",\n",
       " \"* 'blah goes ex-dividend, trades without payout'\",\n",
       " \"* 'blah implied volatility surges as shares fall'\",\n",
       " \"* 'blah directed consultants to remove damaging findings: nyt'\",\n",
       " \"* 'blah had consultants remove findings about mistakes: nyt'\",\n",
       " \"* 'blah implied volatility up, reaches 79th percentile'\",\n",
       " \"* 'blah implied volatility up, reaches 100th percentile'\",\n",
       " \"* 'blah implied volatility up, reaches 100th percentile'\",\n",
       " \"* 'blah implied volatility down, reaches 99th percentile'\",\n",
       " \"* 'blah implied volatility up, reaches 99th percentile'\",\n",
       " \"* 'quotation resumed:(blah) u.s market wide circuit breaker'\",\n",
       " \"* 'trading released/resumed:(blah) reason not available'\",\n",
       " \"* 'blah waiving delivery fees for all eligible prescriptions'\",\n",
       " \"* 'blah implied volatility drops as shares rise'\",\n",
       " \"* 'blah: temporary space at some stores for covid-19 testing'\",\n",
       " \"* 'blah to allow covid-19 testing outside selected stores'\",\n",
       " \"* 'blah implied volatility drops as shares fall'\",\n",
       " \"* 'blah announces temporary changes to store operating hours'\",\n",
       " \"* 'blah: most locations will now be open from 9 a.m.- 9 p.m'\",\n",
       " \"* 'blah implied volatility up, reaches 100th percentile'\",\n",
       " \"* 'sec sues rite aid employee with insider trading'\",\n",
       " \"* 'sec sues rite aid staff w/insider trading over blah deal'\",\n",
       " \"* 'sec sues rite aid staff with insider trading over blah deal'\",\n",
       " \"* 'Preview blah 2Q: covid-19 impact to take center stage'\",\n",
       " \"* 'blah options imply elevated post-earnings volatility'\"]"
      ]
     },
     "execution_count": 28,
     "metadata": {},
     "output_type": "execute_result"
    }
   ],
   "source": [
    "cleaned_headlines[1:]"
   ]
  },
  {
   "cell_type": "code",
   "execution_count": 29,
   "id": "86fbd21e-717e-4bff-b095-affc2d0dd769",
   "metadata": {},
   "outputs": [],
   "source": [
    "system_prompt = \"\"\"You are a financial analyst and are reviewing news for company called blah over the last three months. Blah is in the {sector} sector. Start by listing the revenue drivers for the sector. Then look through the below headlines and determine if blah will see an increase or decrease in their earnings over the next quarter. Think through your response. {headlines}\"\"\"\n",
    "prompt_template = PromptTemplate.from_template(system_prompt)\n",
    "# Create the prompt to feed into the model\n",
    "prompt_in = prompt_template.format(headlines=cleaned_headlines[1:], sector=sector)"
   ]
  },
  {
   "cell_type": "code",
   "execution_count": 30,
   "id": "90f48182-9135-4439-ad74-f97d8f39656f",
   "metadata": {},
   "outputs": [
    {
     "data": {
      "text/plain": [
       "'You are a financial analyst and are reviewing news for company called blah over the last three months. Blah is in the Consumer Staples sector. Start by listing the revenue drivers for the sector. Then look through the below headlines and determine if blah will see an increase or decrease in their earnings over the next quarter. Think through your response. [\\'\\', \"* \\'Preview blah 1Q: awaiting direction on long-term strategy\\'\", \"* \\'blah 1Q adj eps $1.37, est. $1.41\\'\", \"* \\'blah 1Q net sales $34.3b, est. $34.58b\\'\", \"* \\'blah first quarter adjusted eps misses estimates\\'\", \"* \\'blah 1Q US retail pharmacy comp sales +1.6%, est. +5.3%\\'\", \"* \\'blah sinks 6% pre-mkt; likely to break uptrend\\'\", \"* \\'blah stock slump deepens as drugstore giant’s profits slide\\'\", \"* \\'blah ceo whah says company had slow start to 2020\\'\", \"* \\'blah stock slump deepens as drugstore’s profits slide (1)\\'\", \"* \\'blah off to slow start in 2020; investors skeptical on lbo\\'\", \"* \\'blah pt cut to $56 from $59 at mizuho securities usa\\'\", \"* \\'blah maintains quarterly dividend at 45.75 cents/shr\\'\", \"* \\'blah names richard ashworth president of blah\\'\", \"* \\'blah goes ex-dividend, trades without payout\\'\", \"* \\'blah implied volatility surges as shares fall\\'\", \"* \\'blah directed consultants to remove damaging findings: nyt\\'\", \"* \\'blah had consultants remove findings about mistakes: nyt\\'\", \"* \\'blah implied volatility up, reaches 79th percentile\\'\", \"* \\'blah implied volatility up, reaches 100th percentile\\'\", \"* \\'blah implied volatility up, reaches 100th percentile\\'\", \"* \\'blah implied volatility down, reaches 99th percentile\\'\", \"* \\'blah implied volatility up, reaches 99th percentile\\'\", \"* \\'quotation resumed:(blah) u.s market wide circuit breaker\\'\", \"* \\'trading released/resumed:(blah) reason not available\\'\", \"* \\'blah waiving delivery fees for all eligible prescriptions\\'\", \"* \\'blah implied volatility drops as shares rise\\'\", \"* \\'blah: temporary space at some stores for covid-19 testing\\'\", \"* \\'blah to allow covid-19 testing outside selected stores\\'\", \"* \\'blah implied volatility drops as shares fall\\'\", \"* \\'blah announces temporary changes to store operating hours\\'\", \"* \\'blah: most locations will now be open from 9 a.m.- 9 p.m\\'\", \"* \\'blah implied volatility up, reaches 100th percentile\\'\", \"* \\'sec sues rite aid employee with insider trading\\'\", \"* \\'sec sues rite aid staff w/insider trading over blah deal\\'\", \"* \\'sec sues rite aid staff with insider trading over blah deal\\'\", \"* \\'Preview blah 2Q: covid-19 impact to take center stage\\'\", \"* \\'blah options imply elevated post-earnings volatility\\'\"]'"
      ]
     },
     "execution_count": 30,
     "metadata": {},
     "output_type": "execute_result"
    }
   ],
   "source": [
    "prompt_in"
   ]
  },
  {
   "cell_type": "code",
   "execution_count": 31,
   "id": "4ab5dbe5-1362-4318-bff0-0ac9ff2d4bf3",
   "metadata": {},
   "outputs": [],
   "source": [
    "output_news = llm.invoke(prompt_in)"
   ]
  },
  {
   "cell_type": "code",
   "execution_count": 32,
   "id": "e61a9815-b90f-4dcc-915e-7668f3e4f843",
   "metadata": {},
   "outputs": [
    {
     "data": {
      "text/markdown": [
       "# Financial Analysis of Blah (Consumer Staples Sector)\n",
       "\n",
       "## Revenue Drivers for the Consumer Staples Sector\n",
       "\n",
       "1. **Consumer Spending Patterns**: Essential household products and food items that maintain relatively stable demand\n",
       "2. **Pricing Power**: Ability to pass on cost increases to consumers\n",
       "3. **Product Innovation**: New product launches and brand extensions\n",
       "4. **Demographics**: Aging population trends affecting healthcare and personal care products\n",
       "5. **Private Label Competition**: Impact of store brands on branded products\n",
       "6. **Distribution Channels**: Expansion of e-commerce and omnichannel strategies\n",
       "7. **International Expansion**: Growth in emerging markets\n",
       "8. **Health and Wellness Trends**: Increasing consumer focus on health-related products\n",
       "9. **Promotional Activity**: Impact of discounting and promotional strategies\n",
       "10. **Supply Chain Efficiency**: Cost management and operational improvements\n",
       "\n",
       "## Analysis of Blah's Earnings Outlook\n",
       "\n",
       "Based on the headlines provided, I anticipate Blah will likely see a **decrease** in earnings over the next quarter. Here's my reasoning:\n",
       "\n",
       "### Negative Indicators:\n",
       "1. **Recent Earnings Miss**: \n",
       "   - \"blah 1Q adj eps $1.37, est. $1.41\"\n",
       "   - \"blah 1Q net sales $34.3b, est. $34.58b\"\n",
       "   - \"blah first quarter adjusted EPS misses estimates\"\n",
       "\n",
       "2. **Underperforming Retail Metrics**:\n",
       "   - \"blah 1Q US retail pharmacy comp sales +1.6%, est. +5.3%\" (significantly below expectations)\n",
       "\n",
       "3. **Stock Performance Issues**:\n",
       "   - \"blah sinks 6% pre-mkt; likely to break uptrend\"\n",
       "   - \"blah stock slump deepens as drugstore giant's profits slide\"\n",
       "   - Multiple mentions of implied volatility increases\n",
       "\n",
       "4. **Management Commentary**:\n",
       "   - \"blah ceo whah says company had slow start to 2020\"\n",
       "   - \"blah off to slow start in 2020; investors skeptical on lbo\"\n",
       "\n",
       "5. **Analyst Actions**:\n",
       "   - \"blah pt cut to $56 from $59 at mizuho securities usa\" (price target reduction)\n",
       "\n",
       "6. **Operational Concerns**:\n",
       "   - \"blah directed consultants to remove damaging findings: nyt\"\n",
       "   - \"blah had consultants remove findings about mistakes: nyt\"\n",
       "\n",
       "### COVID-19 Impact Factors:\n",
       "While the company is implementing COVID-19 responses (testing sites, waiving delivery fees, adjusted store hours), these are likely to increase operational costs in the short term:\n",
       "   - \"blah waiving delivery fees for all eligible prescriptions\"\n",
       "   - \"blah: temporary space at some stores for covid-19 testing\"\n",
       "   - \"blah announces temporary changes to store operating hours\"\n",
       "\n",
       "### Forward-Looking Indicators:\n",
       "   - \"Preview blah 2Q: covid-19 impact to take center stage\" suggests analysts are concerned about COVID-19's impact on upcoming results\n",
       "   - \"blah options imply elevated post-earnings volatility\" indicates market uncertainty about future performance\n",
       "\n",
       "## Conclusion\n",
       "Given the recent earnings miss, underperforming retail metrics, management's acknowledgment of a slow start to 2020, and the additional costs associated with COVID-19 response measures, Blah is likely to see a decrease in earnings in the next quarter. The market sentiment reflected in stock price declines, analyst price target cuts, and elevated implied volatility further supports this negative outlook."
      ],
      "text/plain": [
       "<IPython.core.display.Markdown object>"
      ]
     },
     "metadata": {},
     "output_type": "display_data"
    }
   ],
   "source": [
    "display(Markdown(output_news.content))"
   ]
  },
  {
   "cell_type": "code",
   "execution_count": 33,
   "id": "08220f10-1c0b-42e4-aa70-9e763dbe1c0a",
   "metadata": {},
   "outputs": [],
   "source": [
    "system_prompt = \"\"\"You are a senior financial analyst and review your teams work. You are looking at a financial summary and news for 'blah'. Using the summaries only, critique the report and construct an alternative narrative. If the narrative is in agreement with the two reports, make clear your belief in the direction of earning. If in disagreement, state why you disagree. Think through your response. {financial_summary} \\n {news_summary}\"\"\"\n",
    "prompt_template = PromptTemplate.from_template(system_prompt)\n",
    "# Create the prompt to feed into the model\n",
    "prompt_in = prompt_template.format(financial_summary=output_financial_statements.content, news_summary=output_news.content)"
   ]
  },
  {
   "cell_type": "code",
   "execution_count": 34,
   "id": "448f7324-21a4-4792-9f1e-28008fed827b",
   "metadata": {},
   "outputs": [
    {
     "data": {
      "text/plain": [
       "'You are a senior financial analyst and review your teams work. You are looking at a financial summary and news for \\'blah\\'. Using the summaries only, critique the report and construct an alternative narrative. If the narrative is in agreement with the two reports, make clear your belief in the direction of earning. If in disagreement, state why you disagree. Think through your response. # Financial Analysis Report\\n\\n## 1. Analysis of Current Profitability, Liquidity, Solvency, and Efficiency Ratios\\n\\n### Profitability Ratios\\n- **Gross Profit Margin**: 21.24% (t) vs 21.61% (t-1)\\n- **Operating Profit Margin**: 3.06% (t) vs 3.25% (t-1)\\n- **Net Profit Margin**: 2.52% (t) vs 2.69% (t-1)\\n- **Return on Assets (ROA)**: 3.88% (t) vs 4.08% (t-1)\\n- **Return on Equity (ROE)**: 14.35% (t) vs 15.23% (t-1)\\n\\n### Liquidity Ratios\\n- **Current Ratio**: 0.66 (t) vs 0.66 (t-1)\\n- **Quick Ratio**: 0.32 (t) vs 0.31 (t-1)\\n- **Cash Ratio**: 0.03 (t) vs 0.03 (t-1)\\n\\n### Solvency Ratios\\n- **Debt-to-Equity Ratio**: 2.70 (t) vs 2.73 (t-1)\\n- **Debt-to-Assets Ratio**: 0.73 (t) vs 0.73 (t-1)\\n- **Interest Coverage Ratio**: 6.15 (t) vs 6.31 (t-1)\\n\\n### Efficiency Ratios\\n- **Asset Turnover Ratio**: 1.54 (t) vs 1.51 (t-1)\\n- **Inventory Turnover**: 11.32 (t) vs 10.22 (t-1)\\n- **Receivables Turnover**: 18.32 (t) vs 18.48 (t-1)\\n\\n## 2. Time-Series Analysis Across Ratios\\n\\n### Profitability Trends\\n- **Gross Profit Margin**: Declining trend from 23.10% (t-5) to 21.24% (t)\\n- **Operating Profit Margin**: Consistent decline from 4.57% (t-5) to 3.06% (t)\\n- **Net Profit Margin**: Steady decline from 3.96% (t-5) to 2.52% (t)\\n- **ROA**: Decreasing from 7.61% (t-5) to 3.88% (t)\\n- **ROE**: Declining from 20.28% (t-5) to 14.35% (t)\\n\\n### Liquidity Trends\\n- **Current Ratio**: Relatively stable around 0.66-0.80 over the periods\\n- **Quick Ratio**: Stable between 0.31-0.36 across periods\\n- **Cash Ratio**: Consistent at approximately 0.03-0.04\\n\\n### Solvency Trends\\n- **Debt-to-Equity**: Increased from 1.66 (t-5) to 2.70 (t)\\n- **Debt-to-Assets**: Increased from 0.62 (t-5) to 0.73 (t)\\n- **Interest Coverage**: Declined from 9.79 (t-5) to 6.15 (t)\\n\\n### Efficiency Trends\\n- **Asset Turnover**: Relatively stable between 1.51-2.02\\n- **Inventory Turnover**: Improved from 9.43 (t-5) to 11.32 (t)\\n- **Receivables Turnover**: Relatively stable between 18.32-19.09\\n\\n## 3. Analysis of Financial Performance\\n\\nThe company shows concerning trends in its financial performance:\\n\\n1. **Revenue Growth**: Revenue has grown marginally by 0.94% from t-1 to t, with a 5-year CAGR of only 0.61%, indicating stagnant growth.\\n\\n2. **Profitability Deterioration**: All profitability metrics show a consistent downward trend:\\n   - Operating income decreased by 5.12% from t-1 to t and has declined by 31.01% over five years\\n   - Net income decreased by 5.67% from t-1 to t and has declined by 34.42% over five years\\n\\n3. **Margin Compression**: Gross profit margin has decreased from 23.10% to 21.24% over five years, while operating margin has declined from 4.57% to 3.06%.\\n\\n4. **Cost Structure**: Cost of revenue has increased as a percentage of sales from 76.90% to 78.76% over five years, suggesting deteriorating cost management.\\n\\n5. **Balance Sheet Changes**: The company has significantly increased its debt levels, particularly long-term debt, which has nearly tripled from t-5 to t, largely due to operating lease recognition.\\n\\n6. **Cash Position**: Cash and short-term investments have decreased by 19.18% over five years, indicating potential liquidity concerns.\\n\\n## 4. Stock Price Analysis\\n\\nThe stock price shows a concerning downward trend:\\n- From April 2019 to April 2020, the stock price declined from $55.36 to $40.32, representing a 27.17% decrease\\n- The stock experienced significant volatility, with a peak of $59.27 in December 2019\\n- The sharp decline in early 2020 (from $59.08 in January to $40.32 in April) suggests market concerns about the company\\'s future prospects\\n- The stock price decline aligns with the deteriorating financial performance observed in the income statement and balance sheet\\n\\n## 5. Decision Analysis\\n\\n### Positive Factors (30% weight)\\n1. **Revenue stability**: Despite economic challenges, revenue has remained relatively stable with slight growth (0.94% YoY)\\n2. **Improved inventory management**: Inventory turnover has improved from 9.43 to 11.32 over five years\\n3. **Stable asset turnover**: The company maintains efficient use of assets to generate revenue\\n\\n### Negative Factors (70% weight)\\n1. **Consistent profit decline**: Operating income and net income have declined for five consecutive years\\n2. **Margin compression**: All profitability margins show a clear downward trend\\n3. **Increasing debt burden**: Significant increase in debt levels, weakening the financial position\\n4. **Declining EPS**: Basic EPS has decreased from $5.44 (t-5) to $3.90 (t)\\n5. **Negative stock price momentum**: 27.17% decline in stock price over the past year\\n6. **Rising cost structure**: Cost of revenue as a percentage of sales has increased consistently\\n7. **Declining returns**: Both ROA and ROE show significant deterioration\\n\\n## 6. Final Decision\\n\\nBased on the comprehensive analysis of financial statements and stock price trends, I predict that earnings will **decrease** in the next financial period by approximately 5-8%. The company shows clear signs of deteriorating profitability, margin compression, and increasing costs that are likely to continue in the near term. The consistent five-year downward trend in operating income, net income, and all profitability metrics strongly suggests this negative trajectory will continue.\\n\\n**Confidence Score: 85%**\\n\\n## 7. Information Wished for Better Decision-Making\\n\\nAdditional information that would enhance the analysis includes:\\n\\n1. **Industry benchmarks and competitor performance** to determine if the declining trends are company-specific or industry-wide challenges. This context would help assess if the company is underperforming relative to peers or facing systemic issues.\\n\\n2. **Segment reporting** to identify which business units are driving the decline and which might be performing well. Understanding the performance variation across segments would provide insights into potential growth areas.\\n\\n3. **Forward-looking guidance from management** regarding cost-cutting initiatives, strategic investments, or restructuring plans that might reverse the negative trends.\\n\\n4. **Macroeconomic indicators** relevant to the company\\'s markets to assess external factors impacting performance.\\n\\n5. **Customer concentration data** to evaluate dependency risks and potential revenue volatility.\\n\\n6. **Capital expenditure plans** to understand future growth investments and their potential impact on profitability.\\n\\nThis information would provide crucial context for the financial trends and enable a more nuanced assessment of future earnings potential. \\n # Financial Analysis of Blah (Consumer Staples Sector)\\n\\n## Revenue Drivers for the Consumer Staples Sector\\n\\n1. **Consumer Spending Patterns**: Essential household products and food items that maintain relatively stable demand\\n2. **Pricing Power**: Ability to pass on cost increases to consumers\\n3. **Product Innovation**: New product launches and brand extensions\\n4. **Demographics**: Aging population trends affecting healthcare and personal care products\\n5. **Private Label Competition**: Impact of store brands on branded products\\n6. **Distribution Channels**: Expansion of e-commerce and omnichannel strategies\\n7. **International Expansion**: Growth in emerging markets\\n8. **Health and Wellness Trends**: Increasing consumer focus on health-related products\\n9. **Promotional Activity**: Impact of discounting and promotional strategies\\n10. **Supply Chain Efficiency**: Cost management and operational improvements\\n\\n## Analysis of Blah\\'s Earnings Outlook\\n\\nBased on the headlines provided, I anticipate Blah will likely see a **decrease** in earnings over the next quarter. Here\\'s my reasoning:\\n\\n### Negative Indicators:\\n1. **Recent Earnings Miss**: \\n   - \"blah 1Q adj eps $1.37, est. $1.41\"\\n   - \"blah 1Q net sales $34.3b, est. $34.58b\"\\n   - \"blah first quarter adjusted EPS misses estimates\"\\n\\n2. **Underperforming Retail Metrics**:\\n   - \"blah 1Q US retail pharmacy comp sales +1.6%, est. +5.3%\" (significantly below expectations)\\n\\n3. **Stock Performance Issues**:\\n   - \"blah sinks 6% pre-mkt; likely to break uptrend\"\\n   - \"blah stock slump deepens as drugstore giant\\'s profits slide\"\\n   - Multiple mentions of implied volatility increases\\n\\n4. **Management Commentary**:\\n   - \"blah ceo whah says company had slow start to 2020\"\\n   - \"blah off to slow start in 2020; investors skeptical on lbo\"\\n\\n5. **Analyst Actions**:\\n   - \"blah pt cut to $56 from $59 at mizuho securities usa\" (price target reduction)\\n\\n6. **Operational Concerns**:\\n   - \"blah directed consultants to remove damaging findings: nyt\"\\n   - \"blah had consultants remove findings about mistakes: nyt\"\\n\\n### COVID-19 Impact Factors:\\nWhile the company is implementing COVID-19 responses (testing sites, waiving delivery fees, adjusted store hours), these are likely to increase operational costs in the short term:\\n   - \"blah waiving delivery fees for all eligible prescriptions\"\\n   - \"blah: temporary space at some stores for covid-19 testing\"\\n   - \"blah announces temporary changes to store operating hours\"\\n\\n### Forward-Looking Indicators:\\n   - \"Preview blah 2Q: covid-19 impact to take center stage\" suggests analysts are concerned about COVID-19\\'s impact on upcoming results\\n   - \"blah options imply elevated post-earnings volatility\" indicates market uncertainty about future performance\\n\\n## Conclusion\\nGiven the recent earnings miss, underperforming retail metrics, management\\'s acknowledgment of a slow start to 2020, and the additional costs associated with COVID-19 response measures, Blah is likely to see a decrease in earnings in the next quarter. The market sentiment reflected in stock price declines, analyst price target cuts, and elevated implied volatility further supports this negative outlook.'"
      ]
     },
     "execution_count": 34,
     "metadata": {},
     "output_type": "execute_result"
    }
   ],
   "source": [
    "prompt_in"
   ]
  },
  {
   "cell_type": "code",
   "execution_count": 35,
   "id": "a21a7174-3da8-491d-a50f-c9002317459b",
   "metadata": {},
   "outputs": [],
   "source": [
    "final_output = llm.invoke(prompt_in)"
   ]
  },
  {
   "cell_type": "code",
   "execution_count": 36,
   "id": "dc143329-92ce-4246-a349-76427514bc54",
   "metadata": {},
   "outputs": [
    {
     "data": {
      "text/markdown": [
       "# Financial Analysis Review: Alternative Narrative for Blah\n",
       "\n",
       "## Executive Summary\n",
       "\n",
       "After reviewing both the financial analysis report and the news summary for Blah, I find significant concerns with the original analysis. While both reports correctly identify a negative earnings trajectory, I believe the original financial analysis underestimates the severity of Blah's situation and fails to properly contextualize the immediate challenges facing the company.\n",
       "\n",
       "## Critical Assessment of Original Analysis\n",
       "\n",
       "The original financial analysis presents a methodical review of Blah's financial metrics showing deteriorating performance across multiple dimensions. However, it has several shortcomings:\n",
       "\n",
       "1. **Insufficient weight on recent performance**: The analysis focuses too heavily on 5-year trends while underemphasizing the acceleration of negative indicators in the most recent quarter.\n",
       "\n",
       "2. **Inadequate consideration of COVID-19 impact**: While mentioned in the news summary, the original analysis fails to incorporate how the pandemic will likely exacerbate existing negative trends.\n",
       "\n",
       "3. **Overly conservative earnings decline projection**: The projected 5-8% earnings decrease appears optimistic given the magnitude of recent misses and operational challenges.\n",
       "\n",
       "4. **Insufficient attention to operational issues**: The news summary reveals concerning operational problems (consultants directed to remove damaging findings) that suggest deeper organizational issues beyond financial metrics.\n",
       "\n",
       "## Alternative Narrative\n",
       "\n",
       "Blah is experiencing not just a gradual decline but rather an accelerating deterioration in its business fundamentals that is likely to result in more significant earnings challenges than projected in the original analysis.\n",
       "\n",
       "### Key Points Supporting This Alternative View:\n",
       "\n",
       "1. **Accelerating Revenue and Earnings Pressure**\n",
       "   - The recent quarterly miss (EPS of $1.37 vs. $1.41 expected) indicates the decline is worsening\n",
       "   - US retail pharmacy comparable sales at just +1.6% versus +5.3% expected represents a dramatic underperformance in a core business segment\n",
       "   - The 6% pre-market stock drop suggests investors see these misses as part of a worsening trend, not an isolated event\n",
       "\n",
       "2. **Operational and Governance Red Flags**\n",
       "   - The New York Times reporting about consultants being directed to remove damaging findings suggests potential governance issues that could have material impacts beyond current financials\n",
       "   - This type of behavior often precedes more significant financial revelations and regulatory scrutiny\n",
       "\n",
       "3. **COVID-19 as a Multiplier of Existing Problems**\n",
       "   - The company's COVID-19 responses (waiving delivery fees, testing sites, adjusted hours) will create additional cost pressures\n",
       "   - These initiatives come at a time when the company is already struggling with margin compression (gross margin declined from 23.10% to 21.24% over five years)\n",
       "   - The company's already concerning liquidity position (current ratio of 0.66) may be further strained by pandemic-related disruptions\n",
       "\n",
       "4. **Concerning Debt Position in a Rising Rate Environment**\n",
       "   - The debt-to-equity ratio has increased from 1.66 to 2.70 over five years\n",
       "   - The interest coverage ratio has declined from 9.79 to 6.15\n",
       "   - In a potentially rising interest rate environment, this debt burden could become increasingly problematic\n",
       "\n",
       "## Earnings Projection\n",
       "\n",
       "I strongly disagree with the original analysis's projection of a 5-8% earnings decrease. Given the combination of:\n",
       "- Accelerating negative trends in core business metrics\n",
       "- Additional costs from COVID-19 response measures\n",
       "- Potential governance issues suggested by the NYT reporting\n",
       "- Significant analyst price target reductions\n",
       "- Elevated implied volatility in options markets\n",
       "\n",
       "I project that earnings will decrease by 12-15% in the next quarter, with potential for even greater deterioration if operational issues persist or if broader economic conditions worsen.\n",
       "\n",
       "## Confidence Level: 90%\n",
       "\n",
       "My higher confidence stems from the alignment between deteriorating financial fundamentals and the market's increasingly negative assessment, as evidenced by analyst downgrades, stock price declines, and elevated implied volatility.\n",
       "\n",
       "## Strategic Recommendations\n",
       "\n",
       "1. Closely monitor cash flow and liquidity metrics given the concerning current ratio\n",
       "2. Investigate the operational issues highlighted in the NYT reporting for potential material impacts\n",
       "3. Assess the sustainability of the dividend given declining profitability\n",
       "4. Evaluate the effectiveness of the company's COVID-19 response strategies against their financial impact\n",
       "5. Consider the implications of the company's high debt levels should interest rates rise\n",
       "\n",
       "The original analysis correctly identified a negative trajectory but failed to fully appreciate the convergence of financial weakness, operational challenges, and external pressures that are likely to result in more significant earnings deterioration than initially projected."
      ],
      "text/plain": [
       "<IPython.core.display.Markdown object>"
      ]
     },
     "metadata": {},
     "output_type": "display_data"
    }
   ],
   "source": [
    "display(Markdown(final_output.content))"
   ]
  },
  {
   "cell_type": "markdown",
   "id": "447647a9-77cf-4ae0-81e2-15b59fd24f53",
   "metadata": {},
   "source": [
    "## Langgraph Debate Step"
   ]
  },
  {
   "cell_type": "code",
   "execution_count": 50,
   "id": "ab5f0d41-1baf-41bc-ab27-fbc2ca6f8ceb",
   "metadata": {},
   "outputs": [],
   "source": [
    "from langgraph.graph import START, END, StateGraph\n",
    "from langgraph.graph.message import add_messages\n",
    "\n",
    "from typing import Dict, TypedDict, Optional"
   ]
  },
  {
   "cell_type": "code",
   "execution_count": 51,
   "id": "5b8b5103-61c6-4b6d-af69-b5e82170fcce",
   "metadata": {},
   "outputs": [],
   "source": [
    "def llm_debate_invoke (prompt):\n",
    "    return llm_debate.invoke(prompt).content"
   ]
  },
  {
   "cell_type": "code",
   "execution_count": 52,
   "id": "59e02430-67b6-485d-be1a-3e59e1a84c90",
   "metadata": {},
   "outputs": [],
   "source": [
    "# number of agents\n",
    "agents = ['BUY', 'SELL', 'HOLD']"
   ]
  },
  {
   "cell_type": "code",
   "execution_count": 154,
   "id": "94cbd307-2a62-4dfd-ba23-eb3b965b970d",
   "metadata": {},
   "outputs": [],
   "source": [
    "class GraphState(TypedDict):\n",
    "    classification: Optional[str] = None\n",
    "    last_agent: Optional[str] = None\n",
    "    history: Optional[str] = None\n",
    "    summary_buy: Optional[str] = None\n",
    "    summary_sell: Optional[str] = None\n",
    "    summary_hold: Optional[str] = None\n",
    "    current_response: Optional[str] = None\n",
    "    count: Optional[int] = None\n",
    "    results: Optional[str] = None\n",
    "    consensus: Optional[dict[str,str]]\n",
    "\n",
    "analyst_workflow = StateGraph(GraphState)"
   ]
  },
  {
   "cell_type": "code",
   "execution_count": 155,
   "id": "b45c8f5c-be09-43ca-a654-a3ea6226de9d",
   "metadata": {},
   "outputs": [],
   "source": [
    "debate_agent_initial_system_prompt = \"\"\"You are part of the investment committee at an asset management firm. Your senior analyst in the {sector} sector has presented the findings of reports with your fellow committee members until you come to an agreement on whether to recommend BUY, SELL or HOLD based on the stock price below and the reports from the analysts. If you are all in agreement then stop. You are advocating to {decision} the stock. Give a short 200 word summary of your decision. Only use the following context. Think through the response. Context: {senior_analyst_report} {financial_statement} {stock_prices}\"\"\"\n",
    "agentic_initial_template = PromptTemplate.from_template(debate_agent_initial_system_prompt)\n",
    "\n",
    "debate_agent_system_prompt = \"\"\"You are part of the investment committee at an asset management firm. Your senior analyst in the {sector} sector has presented the findings of reports with your fellow committee members until you come to an agreement on whether to recommend {decision}. Do not repeat any previous arguments. Base your response only on the report and current conversation. If you do not recommend {decision}, state which direction you advocate. Provide the argument in less than 200 words. Think through your analysis. For review: {senior_analyst_report} \\nPrior conversation: {conversation} \"\"\"\n",
    "agentic_debate_template = PromptTemplate.from_template(debate_agent_system_prompt)\n",
    "\n",
    "debate_direction_system_prompt = \"\"\"Based on the response, return the sentiment of the response as BUY, SELL or HOLD. Only return a single word: BUY, SELL or HOLD. Conversation: {conversation}\"\"\"\n",
    "debate_direction_template = PromptTemplate.from_template(debate_direction_system_prompt)\n",
    "\n",
    "result_system_prompt = \"\"\"You are part of the investment committee at an asset management firm. You hold the deciding vote on whether to BUY, SELL or HOLD a stock. You must always proceed with the majority decision of the analysts. If there is no majority decision, decide on a winner. There can only be one decision. Only output the decision. The conversation is: {conversation}\"\"\"\n",
    "results_template = PromptTemplate.from_template(result_system_prompt)"
   ]
  },
  {
   "cell_type": "code",
   "execution_count": 156,
   "id": "f8c7bc55-5f3c-40f5-b5d3-5f09656aab96",
   "metadata": {},
   "outputs": [],
   "source": [
    "def debate_format(state, state_update, decision):\n",
    "    \"\"\"\n",
    "    Function to run the debate between three agents. All use the same template/ format\n",
    "    state_update: str - pass name of object to store the agent summary\n",
    "    decision: str - identity of the agent\n",
    "    \"\"\"\n",
    "    summary = state.get('history', '').strip()\n",
    "    summary_x = state.get(state_update, '').strip()\n",
    "    current_response = state.get('current_response', '').strip()\n",
    "    if summary_x=='Nothing':\n",
    "        # this is the initial argument\n",
    "        prompt_in = agentic_initial_template.format(decision=decision, \n",
    "                                                    senior_analyst_report=final_output.content,\n",
    "                                                    financial_statement=output_financial_statements.content,\n",
    "                                                    stock_prices=sec_prices,\n",
    "                                                    sector=sector)\n",
    "        argument = decision + \":\" + llm_debate_invoke(prompt_in)\n",
    "        if summary == 'Nothing':\n",
    "            return {'history': 'START\\n' + argument, \n",
    "                    state_update: argument, \n",
    "                    'current_response': argument, \n",
    "                    'count':state.get('count')+1,\n",
    "                    'last_agent': decision}\n",
    "        else:\n",
    "            return {'history': summary + '\\n' + argument, \n",
    "                    state_update: argument, \n",
    "                    'current_response': argument, \n",
    "                    'count':state.get('count')+1,\n",
    "                    'last_agent': decision}\n",
    "    else:\n",
    "        # this runs during the debate\n",
    "        prompt_in = agentic_debate_template.format(decision=decision,\n",
    "                                                      sector=sector,\n",
    "                                                      senior_analyst_report=final_output.content,\n",
    "                                                      conversation=summary)\n",
    "        argument = decision + \":\" + llm_debate_invoke(prompt_in)\n",
    "\n",
    "        return {'history': summary + '\\n' + argument,\n",
    "                'current_response': argument, \n",
    "                'count': state.get('count') + 1,\n",
    "                'last_agent': decision}\n",
    "\n",
    "def next_node(state):\n",
    "    last_agent = state.get('last_agent').strip()\n",
    "    response_from_agent = state.get('current_response')\n",
    "    current_consensus = state.get('consensus')\n",
    "    prompt_in = debate_direction_template.format(conversation=response_from_agent)\n",
    "    last_node = llm_debate_invoke(prompt_in)\n",
    "    print(last_agent + \":\" + last_node)\n",
    "    current_consensus[last_agent] = last_node\n",
    "    return {'consensus': current_consensus}\n",
    "\n",
    "def handle_buy(state):\n",
    "    return debate_format(state, 'summary_buy', 'BUY')\n",
    "\n",
    "def handle_sell(state):\n",
    "    return debate_format(state, 'summary_sell', 'SELL')\n",
    "\n",
    "def handle_hold(state):\n",
    "    return debate_format(state, 'summary_hold', 'HOLD')\n",
    "\n",
    "def result(state):\n",
    "    summary = state.get('history').strip()\n",
    "    prompt_in = results_template.format(conversation=summary)\n",
    "    return {\"results\":llm_debate_invoke(prompt_in)}"
   ]
  },
  {
   "cell_type": "code",
   "execution_count": 157,
   "id": "764ef583-bfea-4129-ad26-251c9a3ed6bf",
   "metadata": {},
   "outputs": [
    {
     "data": {
      "text/plain": [
       "<langgraph.graph.state.StateGraph at 0x7f9ecdb7b580>"
      ]
     },
     "execution_count": 157,
     "metadata": {},
     "output_type": "execute_result"
    }
   ],
   "source": [
    "analyst_workflow.add_node('next_node', next_node)\n",
    "analyst_workflow.add_node('handle_buy', handle_buy)\n",
    "analyst_workflow.add_node('handle_sell', handle_sell)\n",
    "analyst_workflow.add_node('handle_hold', handle_hold)\n",
    "analyst_workflow.add_node('result', result)"
   ]
  },
  {
   "cell_type": "code",
   "execution_count": 158,
   "id": "54a401ae-8a1e-49b8-83a7-e68f8bd40e01",
   "metadata": {},
   "outputs": [
    {
     "data": {
      "text/plain": [
       "<langgraph.graph.state.StateGraph at 0x7f9ecdb7b580>"
      ]
     },
     "execution_count": 158,
     "metadata": {},
     "output_type": "execute_result"
    }
   ],
   "source": [
    "# Add the logic to decide the next steps in the debate\n",
    "def decide_next_node(state):\n",
    "    last_agent = state.get('last_agent')\n",
    "    current_consensus = state.get('consensus')\n",
    "    if state.get('summary_sell', '') == 'Nothing':\n",
    "        return 'handle_sell'\n",
    "    if state.get('summary_hold', '') == 'Nothing':\n",
    "        return 'handle_hold'\n",
    "\n",
    "    if len(set(current_consensus.values())) == 1:\n",
    "        # all the agents are in consensus\n",
    "        return 'result'\n",
    "    else:\n",
    "        # agent is agreeing with their classification.\n",
    "        # debate should continue\n",
    "        if last_agent == 'BUY':\n",
    "            return 'handle_sell'\n",
    "        if last_agent == 'SELL':\n",
    "            return 'handle_hold'\n",
    "        if last_agent == 'HOLD':\n",
    "            return 'handle_buy'\n",
    "\n",
    "def check_conv_length(state):\n",
    "    return \"result\" if state.get(\"count\")==12 else \"next_node\"\n",
    "\n",
    "analyst_workflow.add_conditional_edges(\n",
    "    \"next_node\",\n",
    "    decide_next_node,\n",
    "    {\n",
    "        \"handle_buy\": \"handle_buy\",\n",
    "        \"handle_sell\": \"handle_sell\",\n",
    "        \"handle_hold\": \"handle_hold\",\n",
    "        \"result\": \"result\"\n",
    "    }\n",
    ")\n",
    "\n",
    "analyst_workflow.add_conditional_edges(\n",
    "    \"handle_buy\",\n",
    "    check_conv_length,\n",
    "    {\n",
    "        \"result\": \"result\",\n",
    "        \"next_node\": \"next_node\"\n",
    "    }\n",
    ")\n",
    "\n",
    "analyst_workflow.add_conditional_edges(\n",
    "    \"handle_sell\",\n",
    "    check_conv_length,\n",
    "    {\n",
    "        \"result\": \"result\",\n",
    "        \"next_node\": \"next_node\"\n",
    "    }\n",
    ")\n",
    "\n",
    "analyst_workflow.add_conditional_edges(\n",
    "    \"handle_hold\",\n",
    "    check_conv_length,\n",
    "    {\n",
    "        \"result\": \"result\",\n",
    "        \"next_node\": \"next_node\"\n",
    "    }\n",
    ")"
   ]
  },
  {
   "cell_type": "code",
   "execution_count": 159,
   "id": "dd13fd73-992e-48e9-9244-962a49cef9d1",
   "metadata": {},
   "outputs": [
    {
     "data": {
      "text/plain": [
       "<langgraph.graph.state.StateGraph at 0x7f9ecdb7b580>"
      ]
     },
     "execution_count": 159,
     "metadata": {},
     "output_type": "execute_result"
    }
   ],
   "source": [
    "analyst_workflow.set_entry_point(\"handle_buy\")\n",
    "analyst_workflow.add_edge('result', END)"
   ]
  },
  {
   "cell_type": "code",
   "execution_count": 160,
   "id": "e59e6d1e-582d-4a1b-b89d-bee9f8efb6aa",
   "metadata": {},
   "outputs": [],
   "source": [
    "app = analyst_workflow.compile()"
   ]
  },
  {
   "cell_type": "code",
   "execution_count": 161,
   "id": "c1095591-bc76-415d-83f4-a7f625555ebe",
   "metadata": {},
   "outputs": [
    {
     "data": {
      "text/plain": [
       "Graph(nodes={'__start__': Node(id='__start__', name='__start__', data=<class 'langchain_core.utils.pydantic.LangGraphInput'>, metadata=None), 'next_node': Node(id='next_node', name='next_node', data=next_node(tags=None, recurse=True, explode_args=False, func_accepts_config=False, func_accepts={}), metadata=None), 'handle_buy': Node(id='handle_buy', name='handle_buy', data=handle_buy(tags=None, recurse=True, explode_args=False, func_accepts_config=False, func_accepts={}), metadata=None), 'handle_sell': Node(id='handle_sell', name='handle_sell', data=handle_sell(tags=None, recurse=True, explode_args=False, func_accepts_config=False, func_accepts={}), metadata=None), 'handle_hold': Node(id='handle_hold', name='handle_hold', data=handle_hold(tags=None, recurse=True, explode_args=False, func_accepts_config=False, func_accepts={}), metadata=None), 'result': Node(id='result', name='result', data=result(tags=None, recurse=True, explode_args=False, func_accepts_config=False, func_accepts={}), metadata=None), '__end__': Node(id='__end__', name='__end__', data=<class 'langchain_core.utils.pydantic.LangGraphOutput'>, metadata=None)}, edges=[Edge(source='__start__', target='handle_buy', data=None, conditional=False), Edge(source='result', target='__end__', data=None, conditional=False), Edge(source='next_node', target='handle_buy', data=None, conditional=True), Edge(source='next_node', target='handle_sell', data=None, conditional=True), Edge(source='next_node', target='handle_hold', data=None, conditional=True), Edge(source='next_node', target='result', data=None, conditional=True), Edge(source='handle_buy', target='result', data=None, conditional=True), Edge(source='handle_buy', target='next_node', data=None, conditional=True), Edge(source='handle_sell', target='result', data=None, conditional=True), Edge(source='handle_sell', target='next_node', data=None, conditional=True), Edge(source='handle_hold', target='result', data=None, conditional=True), Edge(source='handle_hold', target='next_node', data=None, conditional=True)])"
      ]
     },
     "execution_count": 161,
     "metadata": {},
     "output_type": "execute_result"
    }
   ],
   "source": [
    "app.get_graph()"
   ]
  },
  {
   "cell_type": "code",
   "execution_count": 162,
   "id": "ce401eca-e476-4956-beba-f8108b52a99e",
   "metadata": {},
   "outputs": [
    {
     "name": "stdout",
     "output_type": "stream",
     "text": [
      "BUY:BUY\n",
      "SELL:SELL\n",
      "HOLD:HOLD\n",
      "BUY:SELL\n",
      "SELL:SELL\n",
      "HOLD:HOLD\n",
      "BUY:BUY\n",
      "SELL:SELL\n",
      "HOLD:HOLD\n",
      "BUY:SELL\n",
      "SELL:SELL\n",
      "CPU times: user 169 ms, sys: 0 ns, total: 169 ms\n",
      "Wall time: 1min 39s\n"
     ]
    }
   ],
   "source": [
    "%%time\n",
    "initial_state = {\n",
    "    'count':0,\n",
    "    'history':'Nothing',\n",
    "    'current_response':'',\n",
    "    'summary_buy': 'Nothing',\n",
    "    'summary_sell': 'Nothing',\n",
    "    'summary_hold': 'Nothing',\n",
    "    'consensus': {'BUY':'BUY', 'SELL':'SELL', 'HOLD':'HOLD'}\n",
    "}\n",
    "\n",
    "conversation = app.invoke(initial_state)"
   ]
  },
  {
   "cell_type": "code",
   "execution_count": 163,
   "id": "16ac7f8a-fe55-46b2-9ecd-0aa0b206da3c",
   "metadata": {},
   "outputs": [
    {
     "name": "stdout",
     "output_type": "stream",
     "text": [
      "SELL\n"
     ]
    }
   ],
   "source": [
    "print(conversation['results'])"
   ]
  },
  {
   "cell_type": "code",
   "execution_count": 164,
   "id": "0bfbe534-67af-4b73-b6ed-cf741ad78cb0",
   "metadata": {},
   "outputs": [
    {
     "name": "stdout",
     "output_type": "stream",
     "text": [
      "START\n",
      "BUY:Based on the comprehensive analysis and context provided, I will advocate for a BUY recommendation to the investment committee:\n",
      "\n",
      "Investment Recommendation: BUY\n",
      "\n",
      "Our analysis reveals a nuanced opportunity that the market may be undervaluing. While the financial metrics show concerning trends, we believe the current stock price presents an attractive entry point for strategic investors.\n",
      "\n",
      "Key rationale for our BUY recommendation:\n",
      "\n",
      "1. Valuation Opportunity: The stock has experienced a significant 27.17% price decline, creating an attractive entry point. The current price of $40.32 appears to be oversold, considering the company's underlying fundamentals.\n",
      "\n",
      "2. Operational Resilience: Despite challenging conditions, the company has maintained revenue stability and demonstrated improved inventory management. The asset turnover ratio remains consistent, indicating operational efficiency.\n",
      "\n",
      "3. Potential Turnaround Indicators: \n",
      "- Improved inventory turnover (9.43 to 11.32)\n",
      "- Stable asset utilization\n",
      "- Potential for cost optimization and strategic restructuring\n",
      "\n",
      "4. Market Overreaction: The sharp stock price decline may represent an overreaction to short-term challenges, particularly COVID-19 related disruptions.\n",
      "\n",
      "5. Long-term Value Potential: The company's consistent revenue and ability to maintain operational capabilities suggest underlying strength that could be underappreciated by current market sentiment.\n",
      "\n",
      "While risks exist, including margin compression and increasing debt levels, we believe the current valuation provides a compelling entry point for patient investors willing to support potential corporate transformation.\n",
      "\n",
      "Recommended Action: Initiate a moderate position with potential for scaling up if turnaround strategies show promise.\n",
      "SELL:Based on the comprehensive financial analysis and the context provided, I strongly advocate for a SELL recommendation for the following key reasons:\n",
      "\n",
      "The financial performance of the company reveals a persistent and accelerating negative trajectory across multiple critical metrics. Over a five-year period, we've observed a systematic deterioration in core financial indicators:\n",
      "\n",
      "1. Profitability Decline:\n",
      "- Net profit margins have dropped from 3.96% to 2.52%\n",
      "- Return on Assets (ROA) has plummeted from 7.61% to 3.88%\n",
      "- Operating income has declined by 31.01% over five years\n",
      "\n",
      "2. Balance Sheet Weaknesses:\n",
      "- Debt-to-Equity ratio has increased from 1.66 to 2.70\n",
      "- Interest coverage ratio has dramatically reduced from 9.79 to 6.15\n",
      "- Current ratio remains concerningly low at 0.66\n",
      "\n",
      "3. Stock Performance:\n",
      "- Significant stock price decline of 27.17% from April 2019 to April 2020\n",
      "- Sharp drop from $59.08 in January 2020 to $40.32 in April 2020 indicates market loss of confidence\n",
      "\n",
      "4. Earnings Projection:\n",
      "- While the original analysis suggests a 5-8% earnings decrease, our analysis indicates a more severe potential decline of 12-15%\n",
      "\n",
      "The convergence of declining profitability, increasing debt, weak liquidity, and negative market sentiment creates a compelling case to SELL. The company appears to be facing structural challenges that are unlikely to be resolved in the short term.\n",
      "\n",
      "Recommendation: SELL with 90% confidence.\n",
      "HOLD:Based on the comprehensive analysis and context provided, I will advocate for a HOLD recommendation with the following 200-word summary:\n",
      "\n",
      "Our investment committee's analysis reveals a nuanced picture for this stock that warrants a HOLD position. While the financial metrics show concerning trends - including consistent profitability decline, margin compression, and a 27.17% stock price decrease over the past year - there are mitigating factors that suggest premature divestment would be unwise.\n",
      "\n",
      "The company demonstrates resilient characteristics: stable revenue growth of 0.94% year-over-year, improved inventory management, and consistent asset utilization. However, significant negative indicators cannot be ignored, including a five-year trend of declining operating and net income, increasing debt burden, and compressed profit margins.\n",
      "\n",
      "The projected 5-8% earnings decrease suggests potential further value erosion, but the company's foundational stability prevents a SELL recommendation. The COVID-19 pandemic introduces additional uncertainty, potentially masking underlying operational challenges or creating temporary market distortions.\n",
      "\n",
      "Our HOLD recommendation is predicated on:\n",
      "1. Maintaining current position to monitor recovery potential\n",
      "2. Watching for management's strategic responses to declining performance\n",
      "3. Assessing potential industry-wide versus company-specific challenges\n",
      "4. Evaluating upcoming quarterly reports for signs of stabilization\n",
      "\n",
      "The 85% confidence in our earnings projection supports a cautious, wait-and-observe approach.\n",
      "BUY:Based on the comprehensive analysis and context provided, I will advocate for a SELL recommendation.\n",
      "\n",
      "Key arguments supporting SELL:\n",
      "\n",
      "1. Structural Financial Deterioration:\n",
      "- Net profit margins declined from 3.96% to 2.52%\n",
      "- Return on Assets dropped from 7.61% to 3.88%\n",
      "- Operating income reduced by 31.01% over five years\n",
      "\n",
      "2. Balance Sheet Vulnerabilities:\n",
      "- Debt-to-Equity ratio escalated from 1.66 to 2.70\n",
      "- Interest coverage ratio dramatically reduced from 9.79 to 6.15\n",
      "- Critically low current ratio of 0.66 indicates liquidity challenges\n",
      "\n",
      "3. Market Sentiment Indicators:\n",
      "- 27.17% stock price decline from April 2019 to April 2020\n",
      "- Sharp drop from $59.08 to $40.32 reflects investor confidence erosion\n",
      "\n",
      "4. Earnings Projection Risks:\n",
      "- Potential earnings decrease of 12-15%, significantly worse than initial 5-8% projection\n",
      "- Operational challenges exacerbated by COVID-19 pandemic\n",
      "\n",
      "5. Governance and Operational Red Flags:\n",
      "- Reported consultant manipulation of findings\n",
      "- Potential deeper organizational issues beyond financial metrics\n",
      "\n",
      "The convergence of declining profitability, increasing debt, weak liquidity, and negative market sentiment creates a compelling case to SELL.\n",
      "\n",
      "Recommendation: SELL with 90% confidence.\n",
      "SELL:Based on the comprehensive analysis and the context provided, I will advocate for a SELL recommendation with a focus on the operational and financial risks not previously highlighted.\n",
      "\n",
      "Key Argument for SELL:\n",
      "\n",
      "The company's strategic positioning appears fundamentally compromised by emerging systemic risks:\n",
      "\n",
      "1. Operational Integrity Concerns:\n",
      "- Reported consultant manipulation of findings suggests potential deeper organizational dysfunction\n",
      "- Indicates potential hidden risks not yet reflected in current financial reporting\n",
      "- Raises significant questions about management's transparency and decision-making integrity\n",
      "\n",
      "2. Competitive Landscape Challenges:\n",
      "- Declining market share evidenced by weak comparable sales (+1.6% vs. +5.3% expected)\n",
      "- Suggests structural competitive disadvantages beyond temporary market conditions\n",
      "- Limited ability to adapt to rapidly changing consumer and market dynamics\n",
      "\n",
      "3. Financial Engineering Risk:\n",
      "- Current ratio of 0.66 indicates potential cash flow manipulation\n",
      "- Increasing debt-to-equity ratio suggests unsustainable financial engineering\n",
      "- Limited financial flexibility to respond to market disruptions\n",
      "\n",
      "4. COVID-19 Vulnerability:\n",
      "- Pandemic response strategies appear reactive rather than strategic\n",
      "- Additional cost pressures from testing sites and adjusted operations\n",
      "- Potential long-term margin compression beyond current projections\n",
      "\n",
      "The combination of operational opacity, competitive weakness, financial fragility, and pandemic vulnerability creates a compelling case for immediate divestment.\n",
      "\n",
      "Recommendation: SELL with 90% confidence.\n",
      "HOLD:Based on the comprehensive analysis and the context provided, I will advocate for a HOLD recommendation with a critical perspective on the current situation.\n",
      "\n",
      "Our investment committee's analysis reveals a complex scenario that requires a measured approach. While the financial metrics show concerning trends, including profitability decline and margin compression, the company demonstrates underlying resilience that prevents a definitive SELL recommendation.\n",
      "\n",
      "Key considerations supporting HOLD:\n",
      "\n",
      "1. Operational Stability:\n",
      "- Consistent revenue growth of 0.94% year-over-year\n",
      "- Improved inventory management\n",
      "- Stable asset utilization metrics\n",
      "\n",
      "2. Mitigating Factors:\n",
      "- Current market volatility may be temporarily distorting true company value\n",
      "- Potential for strategic restructuring\n",
      "- COVID-19 impact creates uncertainty that requires further observation\n",
      "\n",
      "3. Risk Mitigation Strategy:\n",
      "- Maintain current position\n",
      "- Closely monitor upcoming quarterly reports\n",
      "- Assess management's response to current challenges\n",
      "- Evaluate potential recovery indicators\n",
      "\n",
      "The 85% confidence in our earnings projection suggests caution is warranted. While the company faces significant headwinds, including declining profitability and increasing debt, the potential for strategic intervention and market recovery argues against immediate divestment.\n",
      "\n",
      "Recommendation: HOLD with careful ongoing assessment of key performance indicators.\n",
      "BUY:Based on the comprehensive analysis and the context provided, I will advocate for a BUY recommendation with a strategic perspective.\n",
      "\n",
      "Key Arguments for BUY:\n",
      "\n",
      "1. Valuation Opportunity:\n",
      "- Significant 27.17% stock price decline creates an attractive entry point\n",
      "- Current price of $40.32 appears oversold relative to underlying fundamentals\n",
      "- Market overreaction presents potential value investment opportunity\n",
      "\n",
      "2. Operational Resilience:\n",
      "- Consistent revenue growth of 0.94% year-over-year\n",
      "- Improved inventory turnover (9.43 to 11.32)\n",
      "- Demonstrated ability to maintain asset utilization efficiency\n",
      "\n",
      "3. Strategic Transformation Potential:\n",
      "- Current challenges may catalyze necessary organizational restructuring\n",
      "- COVID-19 disruptions could accelerate strategic pivots\n",
      "- Management likely to implement cost optimization strategies\n",
      "\n",
      "4. Contrarian Investment Thesis:\n",
      "- Market sentiment appears overly pessimistic\n",
      "- Long-term value potential underappreciated by current market pricing\n",
      "- Potential for significant upside as recovery strategies emerge\n",
      "\n",
      "5. Risk Mitigation Factors:\n",
      "- Stable core business segments\n",
      "- Potential for operational improvements\n",
      "- Strong brand recognition and existing market infrastructure\n",
      "\n",
      "While acknowledging the significant challenges, including margin compression and increasing debt, we believe the current valuation represents an attractive entry point for patient investors willing to support potential corporate transformation.\n",
      "\n",
      "Recommendation: BUY with 80% confidence, initiating a moderate position with potential for scaling up as turnaround strategies develop.\n",
      "SELL:Based on the comprehensive analysis and the context provided, I will advocate for a SELL recommendation, focusing on aspects not previously highlighted.\n",
      "\n",
      "Key Argument for SELL:\n",
      "\n",
      "1. Strategic Positioning Erosion:\n",
      "- Declining market relevance evidenced by weak comparable sales\n",
      "- Limited innovation capacity in rapidly evolving consumer staples landscape\n",
      "- Diminishing competitive differentiation\n",
      "\n",
      "2. Long-term Structural Challenges:\n",
      "- Persistent margin compression (gross margin decline from 23.10% to 21.24%)\n",
      "- Inability to generate sustainable operational efficiency\n",
      "- Declining return on invested capital (ROIC)\n",
      "\n",
      "3. Capital Allocation Inefficiencies:\n",
      "- Increasing debt burden without corresponding value creation\n",
      "- Ineffective capital deployment strategies\n",
      "- Potential misalignment between management's strategic vision and market realities\n",
      "\n",
      "4. Forward-looking Risk Assessment:\n",
      "- Potential regulatory challenges in COVID-19 response\n",
      "- Increasing complexity in supply chain management\n",
      "- Higher probability of continued underperformance versus sector benchmarks\n",
      "\n",
      "5. Market Signal Interpretation:\n",
      "- Consistent negative analyst revisions\n",
      "- Elevated options market volatility\n",
      "- Sustained investor sentiment deterioration\n",
      "\n",
      "The convergence of strategic positioning weakness, structural financial challenges, and limited future growth potential creates a compelling case for divestment.\n",
      "\n",
      "Recommendation: SELL with 90% confidence.\n",
      "HOLD:Based on the comprehensive analysis and the context provided, I will advocate for a HOLD recommendation, focusing on a balanced perspective of the company's current situation.\n",
      "\n",
      "Our investment committee's analysis reveals a nuanced scenario that requires a cautious, measured approach. While the financial metrics show concerning trends, including profitability decline and margin compression, the company demonstrates underlying resilience that prevents a definitive SELL recommendation.\n",
      "\n",
      "Key considerations supporting HOLD:\n",
      "\n",
      "1. Operational Complexity:\n",
      "- Consistent revenue growth of 0.94% year-over-year\n",
      "- Improved inventory management\n",
      "- Stable asset utilization metrics suggest potential for strategic recovery\n",
      "\n",
      "2. Market Uncertainty Factors:\n",
      "- COVID-19 pandemic creates significant external volatility\n",
      "- Potential for market overreaction to short-term challenges\n",
      "- Unclear long-term impact of current operational disruptions\n",
      "\n",
      "3. Strategic Observation Strategy:\n",
      "- Maintain current position\n",
      "- Closely monitor upcoming quarterly reports\n",
      "- Assess management's response to current challenges\n",
      "- Evaluate potential recovery indicators and cost optimization efforts\n",
      "\n",
      "The 85% confidence in our earnings projection suggests a prudent approach of careful observation. While the company faces significant headwinds, including declining profitability and increasing debt, the potential for strategic intervention and market recovery argues against immediate divestment or aggressive investment.\n",
      "\n",
      "Recommendation: HOLD with ongoing, rigorous assessment of key performance indicators.\n",
      "BUY:Based on the comprehensive analysis and the context provided, I will advocate for a SELL recommendation, focusing on a critical perspective of the company's financial and operational challenges.\n",
      "\n",
      "Key Arguments for SELL:\n",
      "\n",
      "1. Fundamental Financial Deterioration:\n",
      "- Persistent decline in net profit margins from 3.96% to 2.52%\n",
      "- Return on Assets plummeted from 7.61% to 3.88%\n",
      "- Operating income reduction of 31.01% over five years\n",
      "\n",
      "2. Balance Sheet Structural Weaknesses:\n",
      "- Debt-to-Equity ratio escalated from 1.66 to 2.70\n",
      "- Interest coverage ratio dramatically reduced from 9.79 to 6.15\n",
      "- Critically low current ratio of 0.66 indicating severe liquidity constraints\n",
      "\n",
      "3. Market Performance Red Flags:\n",
      "- 27.17% stock price decline from April 2019 to April 2020\n",
      "- Sharp drop from $59.08 to $40.32 reflects profound investor confidence erosion\n",
      "- Consistent negative market sentiment and analyst downgrades\n",
      "\n",
      "4. Operational and Governance Risks:\n",
      "- Reported manipulation of consultant findings\n",
      "- Potential hidden organizational challenges\n",
      "- Limited strategic responsiveness to market disruptions\n",
      "\n",
      "5. Forward-Looking Risk Assessment:\n",
      "- Projected earnings decrease of 12-15%\n",
      "- COVID-19 pandemic exacerbating existing operational challenges\n",
      "- Diminishing competitive positioning in consumer staples sector\n",
      "\n",
      "The convergence of declining profitability, increasing debt, weak liquidity, and systemic operational risks creates a compelling case for divestment.\n",
      "\n",
      "Recommendation: SELL with 90% confidence.\n",
      "SELL:Based on the comprehensive analysis and the context provided, I will advocate for a SELL recommendation, focusing on strategic positioning and forward-looking risks.\n",
      "\n",
      "Key Arguments for SELL:\n",
      "\n",
      "1. Competitive Landscape Deterioration:\n",
      "- Declining market share evidenced by weak comparable sales (+1.6% vs. +5.3% expected)\n",
      "- Diminishing competitive differentiation in consumer staples sector\n",
      "- Limited innovation capacity to address market disruptions\n",
      "\n",
      "2. Systemic Operational Challenges:\n",
      "- Persistent margin compression (gross margin decline from 23.10% to 21.24%)\n",
      "- Ineffective cost management strategies\n",
      "- Reduced operational flexibility in challenging market conditions\n",
      "\n",
      "3. Strategic Vulnerability:\n",
      "- COVID-19 response appears reactive rather than proactive\n",
      "- Increasing complexity in supply chain and market adaptation\n",
      "- Potential long-term structural challenges beyond pandemic-related disruptions\n",
      "\n",
      "4. Financial Risk Accumulation:\n",
      "- Increasing debt burden without corresponding value creation\n",
      "- Declining return on invested capital (ROIC)\n",
      "- Limited financial buffers to weather market uncertainties\n",
      "\n",
      "5. Governance and Transparency Concerns:\n",
      "- Reported manipulation of consultant findings\n",
      "- Potential hidden organizational risks\n",
      "- Erosion of investor confidence\n",
      "\n",
      "The convergence of competitive weakness, operational inefficiencies, and strategic vulnerabilities creates a compelling case for divestment.\n",
      "\n",
      "Recommendation: SELL with 90% confidence.\n",
      "HOLD:Based on the comprehensive analysis and the context provided, I will advocate for a HOLD recommendation, focusing on a nuanced perspective of the company's current situation.\n",
      "\n",
      "Our investment committee's analysis reveals a complex scenario that requires a measured, strategic approach. While the financial metrics show concerning trends, including profitability decline and margin compression, the company demonstrates underlying resilience that prevents a definitive SELL recommendation.\n",
      "\n",
      "Key considerations supporting HOLD:\n",
      "\n",
      "1. Operational Complexity:\n",
      "- Consistent revenue growth of 0.94% year-over-year\n",
      "- Improved inventory management\n",
      "- Stable asset utilization metrics suggest potential for strategic recovery\n",
      "\n",
      "2. Market Uncertainty Factors:\n",
      "- COVID-19 pandemic creates significant external volatility\n",
      "- Potential for market overreaction to short-term challenges\n",
      "- Unclear long-term impact of current operational disruptions\n",
      "\n",
      "3. Strategic Observation Strategy:\n",
      "- Maintain current position\n",
      "- Closely monitor upcoming quarterly reports\n",
      "- Assess management's response to current challenges\n",
      "- Evaluate potential recovery indicators and cost optimization efforts\n",
      "\n",
      "The 85% confidence in our earnings projection suggests a prudent approach of careful observation. While the company faces significant headwinds, including declining profitability and increasing debt, the potential for strategic intervention and market recovery argues against immediate divestment or aggressive investment.\n",
      "\n",
      "Recommendation: HOLD with ongoing, rigorous assessment of key performance indicators.\n"
     ]
    }
   ],
   "source": [
    "print(conversation['history'])"
   ]
  },
  {
   "cell_type": "code",
   "execution_count": 167,
   "id": "f4766a4b-c35f-44ff-ab9e-90fba83ad3c9",
   "metadata": {},
   "outputs": [
    {
     "name": "stdout",
     "output_type": "stream",
     "text": [
      "{'BUY': 'SELL', 'SELL': 'SELL', 'HOLD': 'HOLD'}\n"
     ]
    }
   ],
   "source": [
    "print(conversation['consensus'])"
   ]
  },
  {
   "cell_type": "code",
   "execution_count": 166,
   "id": "c9a83c46-e1cf-40dc-a74d-4f65775aec96",
   "metadata": {},
   "outputs": [
    {
     "data": {
      "text/plain": [
       "'SELL'"
      ]
     },
     "execution_count": 166,
     "metadata": {},
     "output_type": "execute_result"
    }
   ],
   "source": [
    "conversation['results']"
   ]
  },
  {
   "cell_type": "code",
   "execution_count": null,
   "id": "c4c17487-6ac5-41c9-98d3-09be085c13a7",
   "metadata": {},
   "outputs": [],
   "source": []
  },
  {
   "cell_type": "code",
   "execution_count": null,
   "id": "f154b02f-eb14-4b66-8361-fe891ee11129",
   "metadata": {},
   "outputs": [],
   "source": []
  },
  {
   "cell_type": "code",
   "execution_count": null,
   "id": "984c4ed8-65f2-4089-83dc-6a673b75ea46",
   "metadata": {},
   "outputs": [],
   "source": []
  },
  {
   "cell_type": "code",
   "execution_count": null,
   "id": "bfa49acf-0afe-48a7-a0b9-b7861817437d",
   "metadata": {},
   "outputs": [],
   "source": []
  },
  {
   "cell_type": "code",
   "execution_count": null,
   "id": "e5317669-b13e-47de-ac20-e1e377d8ab29",
   "metadata": {},
   "outputs": [],
   "source": []
  },
  {
   "cell_type": "code",
   "execution_count": null,
   "id": "fca0ad9c-4a6f-47a6-add2-98ef773cb0bd",
   "metadata": {},
   "outputs": [],
   "source": []
  }
 ],
 "metadata": {
  "kernelspec": {
   "display_name": "Bloomberg Lab Python 3",
   "language": "python",
   "name": "user-python"
  },
  "language_info": {
   "codemirror_mode": {
    "name": "ipython",
    "version": 3
   },
   "file_extension": ".py",
   "mimetype": "text/x-python",
   "name": "python",
   "nbconvert_exporter": "python",
   "pygments_lexer": "ipython3",
   "version": "3.9.12"
  }
 },
 "nbformat": 4,
 "nbformat_minor": 5
}
