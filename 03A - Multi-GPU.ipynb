{
 "cells": [
  {
   "cell_type": "markdown",
   "id": "de3912eb-612a-499e-9c4e-edee06488a45",
   "metadata": {},
   "source": [
    "# Multi-GPU Backtest the strategies\n",
    "\n",
    "Use an LLM to go through and predict the buy/ sell/ hold recommendation for the company for the given date. Steps needed:\n",
    "\n",
    "1. Load the LLM - use DeepSeek R1 Qwen model at 7B parameters first and try the quantised models next\n",
    "2. Step through each data and each financial statement to get a result\n",
    "3. Log the results in a file and save to S3 (will need a logging file to save to S3 and resume in case of kernel crash)\n",
    "4. Need a backtesting framework to apply the results\n"
   ]
  },
  {
   "cell_type": "markdown",
   "id": "f0d93b98-69cc-4462-a0f4-a17f2f95dd3f",
   "metadata": {},
   "source": [
    "## Load libraries needed"
   ]
  },
  {
   "cell_type": "code",
   "execution_count": 1,
   "id": "b1d33ab5-af9c-4fdc-9f1c-6a210084e202",
   "metadata": {},
   "outputs": [
    {
     "name": "stdout",
     "output_type": "stream",
     "text": [
      "Running: micromamba install pytorch-gpu torchvision torchaudio pytorch-cuda=12.1 -c pytorch -c nvidia --yes --quiet --log-level=error\n",
      "\n",
      "Note: Packages not from Bloomberg channels are not vetted by Bloomberg.\n",
      "\u001b[93mPlease restart the Jupyter kernel if you run into any issues after installing or updating packages via %package.\u001b[0m\n",
      "\n"
     ]
    }
   ],
   "source": [
    "%package install pytorch-gpu torchvision torchaudio pytorch-cuda=12.1 -c pytorch -c nvidia"
   ]
  },
  {
   "cell_type": "code",
   "execution_count": 1,
   "id": "3af882af-086b-45c8-a773-215a83e2a864",
   "metadata": {},
   "outputs": [],
   "source": [
    "import json\n",
    "import boto3\n",
    "from s3fs import S3FileSystem\n",
    "import os\n",
    "import datetime\n",
    "\n",
    "import transformers\n",
    "from transformers import AutoTokenizer, AutoModelForCausalLM, BitsAndBytesConfig\n",
    "from huggingface_hub import login\n",
    "import torch\n",
    "from accelerate import Accelerator, notebook_launcher\n",
    "from accelerate.utils import gather_object\n",
    "\n",
    "import pandas as pd\n",
    "from IPython.display import Markdown, display\n",
    "from ipywidgets import IntProgress, Label, HBox\n",
    "\n",
    "from helper import get_s3_folder\n",
    "import s3Helpers\n",
    "import company_data\n",
    "import prompts\n",
    "from s3Helpers import S3ModelHelper, Logger\n",
    "from prompts import SYSTEM_PROMPTS"
   ]
  },
  {
   "cell_type": "code",
   "execution_count": 2,
   "id": "e4fb4ed3-be43-40fa-bd65-13d7588c9c3f",
   "metadata": {},
   "outputs": [
    {
     "data": {
      "text/plain": [
       "<module 'prompts' from '/project/prompts.py'>"
      ]
     },
     "execution_count": 2,
     "metadata": {},
     "output_type": "execute_result"
    }
   ],
   "source": [
    "import importlib\n",
    "importlib.reload(company_data)\n",
    "importlib.reload(s3Helpers)\n",
    "importlib.reload(prompts)"
   ]
  },
  {
   "cell_type": "code",
   "execution_count": 3,
   "id": "09b47836-92ef-4a05-99b8-7bbcad4c9acc",
   "metadata": {},
   "outputs": [
    {
     "data": {
      "text/plain": [
       "4"
      ]
     },
     "execution_count": 3,
     "metadata": {},
     "output_type": "execute_result"
    }
   ],
   "source": [
    "torch.cuda.device_count()"
   ]
  },
  {
   "cell_type": "markdown",
   "id": "4cb94ecb-4b18-41c5-8849-696b395f4de1",
   "metadata": {},
   "source": [
    "## Load the LLM\n",
    "\n",
    "Models to test:\n",
    "- Qwen (Qwen/Qwen2.5-7B-Instruct)\n",
    "- Llama (meta-llama/Llama-3.2-7B-Instruct)\n",
    "- DeepSeek (deepseek-ai/DeepSeek-R1-Distill-Qwen-14B)\n",
    "- DeepSeek Quantized (deepseek-ai/DeepSeek-R1-Distill-Qwen-32B) quantized to 4 bits"
   ]
  },
  {
   "cell_type": "code",
   "execution_count": 4,
   "id": "dd948d2f-1791-4313-bedc-f9ed31aa63a6",
   "metadata": {},
   "outputs": [],
   "source": [
    "# Log into Huggingface\n",
    "\n",
    "with open('pass.txt') as p:\n",
    "    hf_login = p.read()\n",
    "    \n",
    "hf_login = hf_login[hf_login.find('=')+1:hf_login.find('\\n')]\n",
    "login(hf_login, add_to_git_credential=False)"
   ]
  },
  {
   "cell_type": "code",
   "execution_count": 5,
   "id": "4aaea478-b1ed-420b-bd8f-0851b1c6e3af",
   "metadata": {},
   "outputs": [],
   "source": [
    "# Set up Constants and Quantization \n",
    "USE_HF = False\n",
    "USE_QUANTIZATION = True\n",
    "\n",
    "model_id = \"deepseek-ai/DeepSeek-R1-Distill-Qwen-32B\"\n",
    "model_id_s3 = 'deepseek32'\n",
    "\n",
    "# Quant configuration\n",
    "quant_config = BitsAndBytesConfig(\n",
    "    load_in_4bit=True,\n",
    "    bnb_4bit_use_double_quant=True,\n",
    "    bnb_4bit_compute_dtype=torch.bfloat16,\n",
    "    bnb_4bit_quant_type=\"nf4\"\n",
    "\n",
    ")"
   ]
  },
  {
   "cell_type": "markdown",
   "id": "c4dafd6d-8257-4ae5-b431-90c477f1e791",
   "metadata": {},
   "source": [
    "## Define the functions needed for Multi-GPU"
   ]
  },
  {
   "cell_type": "code",
   "execution_count": 6,
   "id": "4c2bb562-aec7-44a3-87a7-c509839c6dc3",
   "metadata": {},
   "outputs": [],
   "source": [
    "# Load the models\n",
    "\n",
    "def load_model(model_id, model_id_s3, accelerator=None, quant_config=None):\n",
    "    if USE_HF:\n",
    "\n",
    "        if USE_QUANTIZATION:\n",
    "            model = AutoModelForCausalLM.from_pretrained(model_id, device_map={\"\":accelerator.process_index}, quantization_config=quant_config)\n",
    "        else:\n",
    "            model = AutoModelForCausalLM.from_pretrained(model_id, device_map={\"\":accelerator.process_index}, torch_dtype=torch.bfloat16)\n",
    "        tokenizer = AutoTokenizer.from_pretrained(model_id)\n",
    "    else:\n",
    "        # load the pre-saved model from S3\n",
    "        model_helper = s3Helpers.S3ModelHelper(s3_sub_folder='tmp/fs')\n",
    "        model = model_helper.load_model(model_id_s3, accelerator)\n",
    "        tokenizer = AutoTokenizer.from_pretrained(model_id)\n",
    "        #model_helper.clear_folder(model_id_s3)\n",
    "\n",
    "    print(f\"Memory footprint: {model.get_memory_footprint() / 1e9:,.1f} GB\")\n",
    "    return model, tokenizer"
   ]
  },
  {
   "cell_type": "code",
   "execution_count": 7,
   "id": "542d27f5-5bc8-4651-9c33-7eb0a94a7019",
   "metadata": {},
   "outputs": [],
   "source": [
    "def create_all_prompts(company_info, system_prompt):\n",
    "    all_prompts = []\n",
    "    # Get all the dates\n",
    "    dates = company_info.get_dates()\n",
    "    # Loop through each date\n",
    "    for date in dates:\n",
    "        # Pull out the securities reporting on that date\n",
    "        securities = company_info.get_securities_reporting_on_date(date)\n",
    "        # Loop through the securities\n",
    "        for security in securities:\n",
    "            # Calculate the prompt\n",
    "            prompt = company_info.get_prompt(date, security, system_prompt)\n",
    "            record = {'security': security, 'date': date, 'prompt': prompt}\n",
    "            all_prompts.append(record)\n",
    "    return all_prompts\n"
   ]
  },
  {
   "cell_type": "code",
   "execution_count": 8,
   "id": "3a12d5eb-1c7a-4469-a14b-c3de1d898a69",
   "metadata": {},
   "outputs": [],
   "source": [
    "# Multi-GPU implementation of run model function\n",
    "def run_model(prompt, tokenizer, model):\n",
    "    tokens = tokenizer.apply_chat_template(prompt, tokenize=False, add_generation_prompt=True)\n",
    "    model_inputs = tokenizer([tokens], return_tensors='pt').to(\"cuda\")\n",
    "    generated_ids = model.generate(**model_inputs, pad_token_id=tokenizer.eos_token_id, max_new_tokens=5000)\n",
    "    parsed_ids = [\n",
    "        output_ids[len(input_ids):] for input_ids, output_ids in zip(model_inputs.input_ids, generated_ids)\n",
    "    ]\n",
    "    return tokenizer.batch_decode(parsed_ids, skip_special_tokens=True)[0]"
   ]
  },
  {
   "cell_type": "code",
   "execution_count": 9,
   "id": "45845ea3-3bf7-4bed-99e8-fd348f0b716f",
   "metadata": {},
   "outputs": [],
   "source": [
    "def format_json(llm_output):\n",
    "    form = llm_output.replace('\\n','')\n",
    "    # Find the start and end of the JSON input\n",
    "    soj = form.find('```json')\n",
    "    eoj = form.find('}```')\n",
    "    # Pull out the additional context\n",
    "    additional = form[:soj]\n",
    "    additional += form[eoj + 4:]\n",
    "    json_obj = json.loads(form[soj + 7:eoj + 1])\n",
    "    json_obj['AdditionalContext'] = additional\n",
    "    return json_obj"
   ]
  },
  {
   "cell_type": "code",
   "execution_count": 10,
   "id": "eaa01423-1a10-4b83-a25c-ebf18b932470",
   "metadata": {},
   "outputs": [],
   "source": [
    "## Load from S3 using the helper file\n",
    "def get_all_data():\n",
    "    filename = 'data_annual_pit_indu.json' #'data_quarterly_pit_indu.json'\n",
    "    sec_helper = company_data.SecurityData('tmp/fs',filename)\n",
    "    return sec_helper"
   ]
  },
  {
   "cell_type": "code",
   "execution_count": 11,
   "id": "beeb6302-6ecf-483a-a191-67a49296cfdc",
   "metadata": {},
   "outputs": [],
   "source": [
    "# Function to run the backtest\n",
    "def run_backtest(all_prompts, tokenizer, model, logger, accelerator, log_at=50, start_count=0):\n",
    "    # start the timer\n",
    "    # sync GPUs and start the timer\n",
    "    \n",
    "    start_time = datetime.datetime.now()\n",
    "    results = []\n",
    "    count = 0\n",
    "    \n",
    "    # set up the display\n",
    "    max_count = len(all_prompts)\n",
    "    f = IntProgress(min=0, max=max_count) # instantiate the bar\n",
    "    l = Label(value=str(f.value))\n",
    "    display(HBox([f,l]))\n",
    "    \n",
    "    with accelerator.split_between_processes(all_prompts) as prompts:\n",
    "        results=[]\n",
    "        \n",
    "        for prompt in prompts:\n",
    "            start_i = datetime.datetime.now()\n",
    "            response = run_model(prompt['prompt'], tokenizer, model)\n",
    "            formatted_response = {}\n",
    "            formatted_response['response'] = response\n",
    "            formatted_response['security'] = prompt['security']\n",
    "            formatted_response['date'] = prompt['date']\n",
    "            results.append(formatted_response)\n",
    "            \n",
    "            # Empty the cache \n",
    "            torch.cuda.empty_cache()\n",
    "            end_i = datetime.datetime.now()\n",
    "            print(f\"Returned in: {end_i - start_i}\")\n",
    "            # Interate along the backtest\n",
    "            f.value += 1\n",
    "            count += 1\n",
    "            l.value = str(count) + \"/\" + str(max_count)\n",
    "            \n",
    "    # gather all of the results into a single object\n",
    "    results_gathered = gather_object(results)\n",
    "    # Log the last values\n",
    "    logger.log(results_gathered, 'results2.json')\n",
    "    # end the timer\n",
    "    end_time = datetime.datetime.now()\n",
    "    print(\"Completed! Time to execute: \", end_time - start_time)"
   ]
  },
  {
   "cell_type": "code",
   "execution_count": 12,
   "id": "1e7caefd-eb26-426f-9953-aa3ebd190e79",
   "metadata": {},
   "outputs": [],
   "source": [
    "# This is the entry point for backtest\n",
    "def run_inference():\n",
    "    accelerator = Accelerator()\n",
    "    model, tokenizer = load_model(model_id, model_id_s3, accelerator, quant_config)\n",
    "    \n",
    "    accelerator.wait_for_everyone()\n",
    "    \n",
    "    # Clear the folder cache\n",
    "    s3 = s3Helpers.S3ModelHelper('tmp/fs')\n",
    "    s3.clear_folder(model_id_s3)\n",
    "    \n",
    "    company_data = get_all_data()\n",
    "    \n",
    "    # set up system prompts\n",
    "    system_prompt = prompts.SYSTEM_PROMPTS['CoT']['prompt']\n",
    "    all_prompts = create_all_prompts(company_data, system_prompt)\n",
    "    \n",
    "    # Limit for testing\n",
    "    prompt_limit = all_prompts[:5]\n",
    "    \n",
    "    # set up the logger\n",
    "    logger = s3Helpers.Logger('tmp/fs')\n",
    "    \n",
    "    #run the backtest\n",
    "    run_backtest(prompt_limit, tokenizer, model, logger, accelerator)\n",
    "    "
   ]
  },
  {
   "cell_type": "code",
   "execution_count": 13,
   "id": "8c692788-ce72-43ca-8009-ac7249d0e917",
   "metadata": {},
   "outputs": [
    {
     "name": "stdout",
     "output_type": "stream",
     "text": [
      "Launching training on 4 GPUs.\n"
     ]
    },
    {
     "name": "stderr",
     "output_type": "stream",
     "text": [
      "Unused kwargs: ['_load_in_4bit', '_load_in_8bit', 'quant_method']. These kwargs are not used in <class 'transformers.utils.quantization_config.BitsAndBytesConfig'>.\n"
     ]
    },
    {
     "data": {
      "application/vnd.jupyter.widget-view+json": {
       "model_id": "27d129e5988d4bfd9bbf6e5697575410",
       "version_major": 2,
       "version_minor": 0
      },
      "text/plain": [
       "Loading checkpoint shards:   0%|          | 0/4 [00:00<?, ?it/s]"
      ]
     },
     "metadata": {},
     "output_type": "display_data"
    },
    {
     "name": "stderr",
     "output_type": "stream",
     "text": [
      "Unused kwargs: ['_load_in_4bit', '_load_in_8bit', 'quant_method']. These kwargs are not used in <class 'transformers.utils.quantization_config.BitsAndBytesConfig'>.\n"
     ]
    },
    {
     "data": {
      "application/vnd.jupyter.widget-view+json": {
       "model_id": "e45f442ed5e642518237cd7aaf8dc177",
       "version_major": 2,
       "version_minor": 0
      },
      "text/plain": [
       "Loading checkpoint shards:   0%|          | 0/4 [00:00<?, ?it/s]"
      ]
     },
     "metadata": {},
     "output_type": "display_data"
    },
    {
     "name": "stderr",
     "output_type": "stream",
     "text": [
      "Unused kwargs: ['_load_in_4bit', '_load_in_8bit', 'quant_method']. These kwargs are not used in <class 'transformers.utils.quantization_config.BitsAndBytesConfig'>.\n"
     ]
    },
    {
     "name": "stdout",
     "output_type": "stream",
     "text": [
      "Memory footprint: 18.7 GB\n"
     ]
    },
    {
     "name": "stderr",
     "output_type": "stream",
     "text": [
      "Unused kwargs: ['_load_in_4bit', '_load_in_8bit', 'quant_method']. These kwargs are not used in <class 'transformers.utils.quantization_config.BitsAndBytesConfig'>.\n"
     ]
    },
    {
     "data": {
      "application/vnd.jupyter.widget-view+json": {
       "model_id": "94ee59e609c64e54b3f5cecc52f667c1",
       "version_major": 2,
       "version_minor": 0
      },
      "text/plain": [
       "Loading checkpoint shards:   0%|          | 0/4 [00:00<?, ?it/s]"
      ]
     },
     "metadata": {},
     "output_type": "display_data"
    },
    {
     "data": {
      "application/vnd.jupyter.widget-view+json": {
       "model_id": "0ac4c5b86fd442219b720ad8ef2c9af6",
       "version_major": 2,
       "version_minor": 0
      },
      "text/plain": [
       "Loading checkpoint shards:   0%|          | 0/4 [00:00<?, ?it/s]"
      ]
     },
     "metadata": {},
     "output_type": "display_data"
    },
    {
     "name": "stdout",
     "output_type": "stream",
     "text": [
      "Memory footprint: 18.7 GB\n",
      "Memory footprint: 18.7 GB\n",
      "Memory footprint: 18.7 GB\n"
     ]
    },
    {
     "data": {
      "application/vnd.jupyter.widget-view+json": {
       "model_id": "0b6ad0f105834b92a445252c2ce9fe6e",
       "version_major": 2,
       "version_minor": 0
      },
      "text/plain": [
       "HBox(children=(IntProgress(value=0, max=5), Label(value='0')))"
      ]
     },
     "metadata": {},
     "output_type": "display_data"
    },
    {
     "data": {
      "application/vnd.jupyter.widget-view+json": {
       "model_id": "b92c5ebfa7d24c8bbf03d29554e34181",
       "version_major": 2,
       "version_minor": 0
      },
      "text/plain": [
       "HBox(children=(IntProgress(value=0, max=5), Label(value='0')))"
      ]
     },
     "metadata": {},
     "output_type": "display_data"
    },
    {
     "data": {
      "application/vnd.jupyter.widget-view+json": {
       "model_id": "1ab66ab50c8f4e3aaf49656c5597461e",
       "version_major": 2,
       "version_minor": 0
      },
      "text/plain": [
       "HBox(children=(IntProgress(value=0, max=5), Label(value='0')))"
      ]
     },
     "metadata": {},
     "output_type": "display_data"
    },
    {
     "data": {
      "application/vnd.jupyter.widget-view+json": {
       "model_id": "e85a46f47e43422e885dd0b60549ac40",
       "version_major": 2,
       "version_minor": 0
      },
      "text/plain": [
       "HBox(children=(IntProgress(value=0, max=5), Label(value='0')))"
      ]
     },
     "metadata": {},
     "output_type": "display_data"
    },
    {
     "name": "stdout",
     "output_type": "stream",
     "text": [
      "Returned in: 0:03:03.871807\n",
      "Returned in: 0:03:13.778600\n",
      "Returned in: 0:03:30.236949\n",
      "Returned in: 0:03:32.933885\n",
      "Returned in: 0:03:01.687441\n",
      "s3://awmgd-prod-finml-sandbox-user/bclarke16/tmp/fs/logs/results2.jsons3://awmgd-prod-finml-sandbox-user/bclarke16/tmp/fs/logs/results2.jsons3://awmgd-prod-finml-sandbox-user/bclarke16/tmp/fs/logs/results2.jsons3://awmgd-prod-finml-sandbox-user/bclarke16/tmp/fs/logs/results2.json\n",
      "\n",
      "\n",
      "\n",
      "Saved s3://awmgd-prod-finml-sandbox-user/bclarke16/tmp/fs/logs/results2.json\n",
      "Completed! Time to execute: Saved s3://awmgd-prod-finml-sandbox-user/bclarke16/tmp/fs/logs/results2.json \n",
      "0:06:05.923523Completed! Time to execute: \n",
      " 0:06:05.864179\n",
      "Saved s3://awmgd-prod-finml-sandbox-user/bclarke16/tmp/fs/logs/results2.json\n",
      "Completed! Time to execute:  0:06:06.052176\n",
      "Saved s3://awmgd-prod-finml-sandbox-user/bclarke16/tmp/fs/logs/results2.json\n",
      "Completed! Time to execute:  0:06:06.306207\n"
     ]
    },
    {
     "name": "stderr",
     "output_type": "stream",
     "text": [
      "[2025-02-19 10:57:25,707] torch.distributed.elastic.multiprocessing.api: [WARNING] Closing process 3039 via signal SIGTERM\n",
      "[2025-02-19 10:57:25,708] torch.distributed.elastic.multiprocessing.api: [WARNING] Closing process 3040 via signal SIGTERM\n",
      "[2025-02-19 10:57:25,709] torch.distributed.elastic.multiprocessing.api: [WARNING] Closing process 3041 via signal SIGTERM\n"
     ]
    }
   ],
   "source": [
    "notebook_launcher(run_inference, num_processes=torch.cuda.device_count())"
   ]
  },
  {
   "cell_type": "markdown",
   "id": "66d54639-2bf0-4ee5-b28c-51067a50360e",
   "metadata": {},
   "source": [
    "### Concatenate all of the results"
   ]
  },
  {
   "cell_type": "code",
   "execution_count": 17,
   "id": "319908bb-6076-43b1-bd7f-4af4fc409baf",
   "metadata": {},
   "outputs": [],
   "source": [
    "s3_helper = s3Helpers.S3ModelHelper('tmp/fs')"
   ]
  },
  {
   "cell_type": "code",
   "execution_count": 18,
   "id": "76e4e6f0-58e4-483c-b35a-150f4b6bc679",
   "metadata": {},
   "outputs": [],
   "source": [
    "s3_helper.clear_folder('deepseek32')"
   ]
  },
  {
   "cell_type": "code",
   "execution_count": 16,
   "id": "64b057d5-eb29-447e-ae65-cb23046ae4db",
   "metadata": {},
   "outputs": [],
   "source": [
    "logger = s3Helpers.Logger('tmp/fs')\n",
    "log_list = logger.get_list_of_logs()"
   ]
  },
  {
   "cell_type": "code",
   "execution_count": 30,
   "id": "0045bda3-133e-4654-bfda-ebae2f39e4e3",
   "metadata": {},
   "outputs": [],
   "source": [
    "logs = logger.create_master_log(save_to_s3=False)"
   ]
  },
  {
   "cell_type": "code",
   "execution_count": 142,
   "id": "bbc0f159-f6d1-4063-bc62-f4ce98759148",
   "metadata": {},
   "outputs": [],
   "source": [
    "def concat_all_logs():\n",
    "    log_list = logger.get_list_of_logs()\n",
    "    logs = []\n",
    "    for logfile in log_list:\n",
    "        logs += logger.get_log(logfile[logfile.find('/logs/') + 6:])\n",
    "    return logs"
   ]
  },
  {
   "cell_type": "code",
   "execution_count": 143,
   "id": "3ed3b7a7-8293-4b44-b58f-f7fd8ca30a02",
   "metadata": {},
   "outputs": [],
   "source": [
    "logs = concat_all_logs()"
   ]
  },
  {
   "cell_type": "code",
   "execution_count": 144,
   "id": "37b4fdad-d6a0-45c5-98fa-d5cd85bf745d",
   "metadata": {},
   "outputs": [
    {
     "data": {
      "text/plain": [
       "909"
      ]
     },
     "execution_count": 144,
     "metadata": {},
     "output_type": "execute_result"
    }
   ],
   "source": [
    "len(logs)"
   ]
  },
  {
   "cell_type": "code",
   "execution_count": 21,
   "id": "6a0bdb21-17b9-4b00-b6fd-2db26070b33e",
   "metadata": {},
   "outputs": [],
   "source": [
    "log = logger.get_log('results.json')"
   ]
  },
  {
   "cell_type": "code",
   "execution_count": 22,
   "id": "d39d6268-9a33-46f7-a4cc-791f7f711927",
   "metadata": {},
   "outputs": [],
   "source": [
    "with open ('Data/test_run.json', 'w') as f:\n",
    "    json.dump(log, f)"
   ]
  },
  {
   "cell_type": "code",
   "execution_count": 23,
   "id": "b112a6ae-142f-4d07-b900-ca2d367cf5d1",
   "metadata": {},
   "outputs": [
    {
     "name": "stdout",
     "output_type": "stream",
     "text": [
      "JNJ UN Equity\n",
      "WMT UN Equity\n",
      "NVDA UQ Equity\n",
      "VZ UN Equity\n",
      "GS UN Equity\n"
     ]
    }
   ],
   "source": [
    "for l in log:\n",
    "    print(l['security'])"
   ]
  },
  {
   "cell_type": "markdown",
   "id": "9d300bff-276f-445b-b98e-a3810e8d591f",
   "metadata": {},
   "source": [
    "## Multi GPU run"
   ]
  },
  {
   "cell_type": "code",
   "execution_count": 14,
   "id": "43a03512-c413-4531-83c2-e254da5c54a3",
   "metadata": {},
   "outputs": [],
   "source": [
    "sec_helper = get_all_data()\n",
    "system_prompt = prompts.SYSTEM_PROMPTS['CoT']['prompt']\n",
    "all_prompts = create_all_prompts(sec_helper, system_prompt)"
   ]
  },
  {
   "cell_type": "code",
   "execution_count": 17,
   "id": "e31bc5a8-5917-487d-a7d2-74253b928027",
   "metadata": {},
   "outputs": [
    {
     "data": {
      "text/plain": [
       "[{'security': 'JNJ UN Equity',\n",
       "  'date': '2020-02-18',\n",
       "  'prompt': [{'role': 'system',\n",
       "    'content': \"You are a financial analyst tasked with analyzing the financial statements of a company to predict the direction of future earnings.Follow the steps below to perform the analysis. 1. Identify notable changes in the balance sheet and income statement. 2. Compute key financial ratios to understand the health of the company. State the formula before calculating. Compute profitability ratios, leverage ratios, liquidity ratios and efficiency ratios. 3. Interpret each of the ratios. 4. Predict the direction of future earnings in JSON format with a clear recommendation and size of the increase or decrease: {'earnings':'INCREASE', 'magnitude':'LARGE'} or {'earnings':'DECREASE','SMALL'} 5. Provide a rational in less than 250 words. Company Financial Statements: \"},\n",
       "   {'role': 'user',\n",
       "    'content': 'Income Statement:                                                        t           t-1           t-2           t-3           t-4           t-5\\nitems                                                                                                                          \\nRevenue                                      1.416710e+11  1.279910e+11  1.303770e+11  1.239250e+11  1.387930e+11  1.248940e+11\\nSales and Services Revenues                  1.406080e+11  1.269810e+11  1.293880e+11  1.229490e+11  1.377430e+11  1.238970e+11\\nOther Revenue                                1.063000e+09  1.010000e+09  9.890000e+08  9.760000e+08  1.050000e+09  9.970000e+08\\nCost of Revenue                              1.077480e+11  9.590000e+10  9.792300e+10  9.303400e+10  1.049070e+11  9.311600e+10\\nGross Profit                                 3.392300e+10  3.209100e+10  3.245400e+10  3.089100e+10  3.388600e+10  3.177800e+10\\nOperating Expenses                           2.860100e+10  2.737300e+10  2.687100e+10  2.594600e+10  2.781900e+10  2.679200e+10\\nOperating Income or Losses                   5.322000e+09  4.718000e+09  5.583000e+09  4.945000e+09  6.067000e+09  4.986000e+09\\nNon-Operating (Income) Loss                 -3.510000e+08  3.450000e+08  6.700000e+08 -2.120000e+08  4.030000e+08  2.410000e+09\\nNet Interest Expense                         5.280000e+08  5.030000e+08  5.020000e+08  5.400000e+08  5.130000e+08  4.420000e+08\\nInterest Expense                             5.690000e+08  5.470000e+08  5.580000e+08  5.880000e+08  5.770000e+08  5.010000e+08\\nInterest Income                              4.100000e+07  4.400000e+07  5.600000e+07  4.800000e+07  6.400000e+07  5.900000e+07\\nOther Non-Operating (Income) Loss           -8.790000e+08 -1.580000e+08  1.680000e+08 -7.520000e+08 -1.100000e+08  1.968000e+09\\nPretax Income (Loss), Adjusted               5.673000e+09  4.373000e+09  4.913000e+09  5.157000e+09  5.664000e+09  2.576000e+09\\nAbnormal Losses (Gains)                     -4.300127e+08  3.521519e+07  3.631646e+07 -7.306329e+08 -1.106582e+08  1.898620e+09\\nSale of Business                             1.000000e+06 -1.000000e+06  0.000000e+00  0.000000e+00  0.000000e+00  1.116835e+08\\nRestructuring Expenses                       7.623797e+08  0.000000e+00  0.000000e+00  0.000000e+00  0.000000e+00  0.000000e+00\\nIncome Tax Expense (Benefit)                 1.379000e+09  1.052000e+09  1.233000e+09  1.251000e+09  1.851000e+09  7.590000e+08\\nIncome (Loss) from Continuing Operations     4.294000e+09  3.321000e+09  3.680000e+09  3.906000e+09  3.813000e+09  1.817000e+09\\nNet Income/Net Profit (Losses)               4.141000e+09  3.288000e+09  3.610000e+09  3.842000e+09  3.687000e+09  1.710000e+09\\nNet Abnormal Losses (Gains)                 -2.249900e+08  2.782000e+07  2.869000e+07 -5.772000e+08  4.079600e+08  1.470500e+09\\nBasic Earnings per Share                     4.868900e-01  3.866667e-01  4.233333e-01  4.466667e-01  4.233333e-01  1.933333e-01\\nBasic EPS from Continuing Operations         4.604363e-01  3.887700e-01  4.251303e-01  3.793190e-01  4.713353e-01  3.625740e-01\\nDiluted EPS                                  4.833100e-01  3.833333e-01  4.200000e-01  4.433333e-01  4.233333e-01  1.933333e-01\\nDiluted EPS from Continuing Operations, Adj  4.570507e-01  3.865747e-01  4.233333e-01  3.766667e-01  4.700000e-01  3.600000e-01\\n Balance Sheet:                                               t           t-1           t-2           t-3           t-4           t-5\\nitems                                                                                                                \\nCash, Cash Equivalents & STI       9.465000e+09  8.606000e+09  9.283000e+09  9.255000e+09  7.722000e+09  9.174000e+09\\nAccounts & Notes Receiv            6.284000e+09  5.612000e+09  5.382000e+09  5.342000e+09  6.283000e+09  5.785000e+09\\nInventories                        4.443500e+10  5.154600e+10  4.413400e+10  4.475100e+10  4.426900e+10  5.038000e+10\\nOther ST Assets                    1.622000e+09  2.148000e+09  2.572000e+09  2.391000e+09  3.623000e+09  4.107000e+09\\nTotal Current Assets               6.180600e+10  6.791200e+10  6.137100e+10  6.173900e+10  6.189700e+10  6.944600e+10\\nProperty, Plant & Equip, Net       1.270490e+11  1.254250e+11  1.258620e+11  1.252410e+11  1.113950e+11  1.113490e+11\\nProperty, Plant & Equip            2.168690e+11  0.000000e+00  0.000000e+00  0.000000e+00  1.985700e+11  1.971760e+11\\nAccumulated Depreciation           8.982000e+10  0.000000e+00  0.000000e+00  0.000000e+00  8.717500e+10  8.582700e+10\\nOther LT Assets                    4.764000e+10  4.649300e+10  4.762800e+10  4.756400e+10  4.600300e+10  4.578800e+10\\nTotal Intangible Assets            3.107300e+10  3.071600e+10  3.145400e+10  3.141600e+10  3.118100e+10  3.104400e+10\\nDeferred Tax Assets                1.914000e+09  0.000000e+00  0.000000e+00  0.000000e+00  1.796000e+09  0.000000e+00\\nDerivative & Hedging Assets        1.181700e+10  5.070000e+08  5.060000e+08  4.330000e+08  4.120000e+08  4.260000e+08\\nMisc LT Assets                     2.836000e+09  1.527000e+10  1.566800e+10  1.571500e+10  1.261400e+10  1.431800e+10\\nTotal Noncurrent Assets            1.746890e+11  1.719180e+11  1.734900e+11  1.728050e+11  1.573980e+11  1.571370e+11\\nTotal Assets                       2.364950e+11  2.398300e+11  2.348610e+11  2.345440e+11  2.192950e+11  2.265830e+11\\nPayables & Accruals                6.755900e+10  7.255700e+10  6.997200e+10  7.141300e+10  6.964700e+10  7.465600e+10\\nAccounts Payable                   4.697300e+10  4.975000e+10  4.587100e+10  4.511000e+10  4.706000e+10  4.972900e+10\\nAccrued Taxes                      2.800000e+08  3.270000e+08  3.870000e+08  7.290000e+08  4.280000e+08  6.160000e+08\\nInterest & Dividends Payable       0.000000e+00  1.507000e+09  3.023000e+09  4.551000e+09  0.000000e+00  1.516000e+09\\nOther Payables & Accruals          2.030600e+10  2.097300e+10  2.069100e+10  2.102300e+10  2.215900e+10  2.279500e+10\\nST Debt                            8.241000e+09  1.122700e+10  1.031100e+10  8.475000e+09  7.830000e+09  1.109500e+10\\nST Borrowings                      5.750000e+08  4.926000e+09  3.681000e+09  4.828000e+09  5.225000e+09  7.795000e+09\\nST Finance Leases                  5.110000e+08  4.680000e+08  4.390000e+08  4.350000e+08  7.290000e+08  7.090000e+08\\nST Operating Leases                1.793000e+09  1.740000e+09  1.795000e+09  1.748000e+09  0.000000e+00  0.000000e+00\\nCurrent Portion of LT Debt         5.362000e+09  4.093000e+09  4.396000e+09  1.464000e+09  1.876000e+09  2.591000e+09\\nOther ST Liabilities               1.990000e+09  0.000000e+00  0.000000e+00  0.000000e+00  0.000000e+00  0.000000e+00\\nTotal Current Liabilities          7.779000e+10  8.378400e+10  8.028300e+10  7.988800e+10  7.747700e+10  8.575100e+10\\nLT Debt                            6.419200e+10  6.089100e+10  6.069100e+10  6.316000e+10  4.634000e+10  4.616100e+10\\nLT Borrowings                      4.371400e+10  4.108200e+10  4.069700e+10  4.363100e+10  3.965700e+10  3.954000e+10\\nLT Finance Leases                  4.307000e+09  4.068000e+09  3.915000e+09  3.810000e+09  6.683000e+09  6.621000e+09\\nLT Operating Leases                1.617100e+10  1.574100e+10  1.607900e+10  1.571900e+10  0.000000e+00  0.000000e+00\\nOther LT Liabilities               1.296100e+10  1.684800e+10  1.675600e+10  1.658600e+10  1.584400e+10  1.520200e+10\\nDerivatives & Hedging              1.440000e+08  4.489000e+09  4.327000e+09  4.285000e+09  4.291000e+09  4.205000e+09\\nMisc LT Liabilities                6.613000e+09  1.235900e+10  1.242900e+10  1.230100e+10  5.257000e+09  1.099700e+10\\nTotal Noncurrent Liabilities       7.715300e+10  7.773900e+10  7.744700e+10  7.974600e+10  6.218400e+10  6.136300e+10\\nTotal Liabilities                  1.549430e+11  1.615230e+11  1.577300e+11  1.596340e+11  1.396610e+11  1.471140e+11\\nShare Capital & APIC               3.531000e+09  3.375000e+09  3.165000e+09  3.020000e+09  3.253000e+09  3.178000e+09\\nCommon Stock                       2.840000e+08  2.840000e+08  2.850000e+08  2.860000e+08  2.880000e+08  2.910000e+08\\nAdditional Paid in Capital         3.247000e+09  3.091000e+09  2.880000e+09  2.734000e+09  2.965000e+09  2.887000e+09\\nRetained Earnings                  8.394300e+10  8.065600e+10  7.843200e+10  7.627600e+10  8.078500e+10  8.028700e+10\\nOther Equity                      -1.280500e+10 -1.238200e+10 -1.127000e+10 -1.109100e+10 -1.154200e+10 -1.146900e+10\\nEquity Before Minority Interest    7.466900e+10  7.164900e+10  7.032700e+10  6.820500e+10  7.249600e+10  7.199600e+10\\nMinority/Non Controlling Interest  6.883000e+09  6.658000e+09  6.804000e+09  6.705000e+09  7.138000e+09  7.473000e+09\\nTotal Equity                       8.155200e+10  7.830700e+10  7.713100e+10  7.491000e+10  7.963400e+10  7.946900e+10\\n Historical Price:                 Price\\nDate                 \\n2019-02-18  33.330000\\n2019-03-18  33.220000\\n2019-04-18  34.393333\\n2019-05-18  33.620000\\n2019-06-18  36.550000\\n2019-07-18  38.240000\\n2019-08-18  37.663333\\n2019-09-18  39.053333\\n2019-10-18  39.713333\\n2019-11-18  40.083333\\n2019-12-18  39.953333\\n2020-01-18  38.320000\\n2020-02-18  39.876667'}]},\n",
       " {'security': 'WMT UN Equity',\n",
       "  'date': '2020-02-18',\n",
       "  'prompt': [{'role': 'system',\n",
       "    'content': \"You are a financial analyst tasked with analyzing the financial statements of a company to predict the direction of future earnings.Follow the steps below to perform the analysis. 1. Identify notable changes in the balance sheet and income statement. 2. Compute key financial ratios to understand the health of the company. State the formula before calculating. Compute profitability ratios, leverage ratios, liquidity ratios and efficiency ratios. 3. Interpret each of the ratios. 4. Predict the direction of future earnings in JSON format with a clear recommendation and size of the increase or decrease: {'earnings':'INCREASE', 'magnitude':'LARGE'} or {'earnings':'DECREASE','SMALL'} 5. Provide a rational in less than 250 words. Company Financial Statements: \"},\n",
       "   {'role': 'user',\n",
       "    'content': 'Income Statement:                                                        t           t-1           t-2           t-3           t-4           t-5\\nitems                                                                                                                          \\nRevenue                                      1.416710e+11  1.279910e+11  1.303770e+11  1.239250e+11  1.387930e+11  1.248940e+11\\nSales and Services Revenues                  1.406080e+11  1.269810e+11  1.293880e+11  1.229490e+11  1.377430e+11  1.238970e+11\\nOther Revenue                                1.063000e+09  1.010000e+09  9.890000e+08  9.760000e+08  1.050000e+09  9.970000e+08\\nCost of Revenue                              1.077480e+11  9.590000e+10  9.792300e+10  9.303400e+10  1.049070e+11  9.311600e+10\\nGross Profit                                 3.392300e+10  3.209100e+10  3.245400e+10  3.089100e+10  3.388600e+10  3.177800e+10\\nOperating Expenses                           2.860100e+10  2.737300e+10  2.687100e+10  2.594600e+10  2.781900e+10  2.679200e+10\\nOperating Income or Losses                   5.322000e+09  4.718000e+09  5.583000e+09  4.945000e+09  6.067000e+09  4.986000e+09\\nNon-Operating (Income) Loss                 -3.510000e+08  3.450000e+08  6.700000e+08 -2.120000e+08  4.030000e+08  2.410000e+09\\nNet Interest Expense                         5.280000e+08  5.030000e+08  5.020000e+08  5.400000e+08  5.130000e+08  4.420000e+08\\nInterest Expense                             5.690000e+08  5.470000e+08  5.580000e+08  5.880000e+08  5.770000e+08  5.010000e+08\\nInterest Income                              4.100000e+07  4.400000e+07  5.600000e+07  4.800000e+07  6.400000e+07  5.900000e+07\\nOther Non-Operating (Income) Loss           -8.790000e+08 -1.580000e+08  1.680000e+08 -7.520000e+08 -1.100000e+08  1.968000e+09\\nPretax Income (Loss), Adjusted               5.673000e+09  4.373000e+09  4.913000e+09  5.157000e+09  5.664000e+09  2.576000e+09\\nAbnormal Losses (Gains)                     -4.300127e+08  3.521519e+07  3.631646e+07 -7.306329e+08 -1.106582e+08  1.898620e+09\\nSale of Business                             1.000000e+06 -1.000000e+06  0.000000e+00  0.000000e+00  0.000000e+00  1.116835e+08\\nRestructuring Expenses                       7.623797e+08  0.000000e+00  0.000000e+00  0.000000e+00  0.000000e+00  0.000000e+00\\nIncome Tax Expense (Benefit)                 1.379000e+09  1.052000e+09  1.233000e+09  1.251000e+09  1.851000e+09  7.590000e+08\\nIncome (Loss) from Continuing Operations     4.294000e+09  3.321000e+09  3.680000e+09  3.906000e+09  3.813000e+09  1.817000e+09\\nNet Income/Net Profit (Losses)               4.141000e+09  3.288000e+09  3.610000e+09  3.842000e+09  3.687000e+09  1.710000e+09\\nNet Abnormal Losses (Gains)                 -2.249900e+08  2.782000e+07  2.869000e+07 -5.772000e+08  4.079600e+08  1.470500e+09\\nBasic Earnings per Share                     4.868900e-01  3.866667e-01  4.233333e-01  4.466667e-01  4.233333e-01  1.933333e-01\\nBasic EPS from Continuing Operations         4.604363e-01  3.887700e-01  4.251303e-01  3.793190e-01  4.713353e-01  3.625740e-01\\nDiluted EPS                                  4.833100e-01  3.833333e-01  4.200000e-01  4.433333e-01  4.233333e-01  1.933333e-01\\nDiluted EPS from Continuing Operations, Adj  4.570507e-01  3.865747e-01  4.233333e-01  3.766667e-01  4.700000e-01  3.600000e-01\\n Balance Sheet:                                               t           t-1           t-2           t-3           t-4           t-5\\nitems                                                                                                                \\nCash, Cash Equivalents & STI       9.465000e+09  8.606000e+09  9.283000e+09  9.255000e+09  7.722000e+09  9.174000e+09\\nAccounts & Notes Receiv            6.284000e+09  5.612000e+09  5.382000e+09  5.342000e+09  6.283000e+09  5.785000e+09\\nInventories                        4.443500e+10  5.154600e+10  4.413400e+10  4.475100e+10  4.426900e+10  5.038000e+10\\nOther ST Assets                    1.622000e+09  2.148000e+09  2.572000e+09  2.391000e+09  3.623000e+09  4.107000e+09\\nTotal Current Assets               6.180600e+10  6.791200e+10  6.137100e+10  6.173900e+10  6.189700e+10  6.944600e+10\\nProperty, Plant & Equip, Net       1.270490e+11  1.254250e+11  1.258620e+11  1.252410e+11  1.113950e+11  1.113490e+11\\nProperty, Plant & Equip            2.168690e+11  0.000000e+00  0.000000e+00  0.000000e+00  1.985700e+11  1.971760e+11\\nAccumulated Depreciation           8.982000e+10  0.000000e+00  0.000000e+00  0.000000e+00  8.717500e+10  8.582700e+10\\nOther LT Assets                    4.764000e+10  4.649300e+10  4.762800e+10  4.756400e+10  4.600300e+10  4.578800e+10\\nTotal Intangible Assets            3.107300e+10  3.071600e+10  3.145400e+10  3.141600e+10  3.118100e+10  3.104400e+10\\nDeferred Tax Assets                1.914000e+09  0.000000e+00  0.000000e+00  0.000000e+00  1.796000e+09  0.000000e+00\\nDerivative & Hedging Assets        1.181700e+10  5.070000e+08  5.060000e+08  4.330000e+08  4.120000e+08  4.260000e+08\\nMisc LT Assets                     2.836000e+09  1.527000e+10  1.566800e+10  1.571500e+10  1.261400e+10  1.431800e+10\\nTotal Noncurrent Assets            1.746890e+11  1.719180e+11  1.734900e+11  1.728050e+11  1.573980e+11  1.571370e+11\\nTotal Assets                       2.364950e+11  2.398300e+11  2.348610e+11  2.345440e+11  2.192950e+11  2.265830e+11\\nPayables & Accruals                6.755900e+10  7.255700e+10  6.997200e+10  7.141300e+10  6.964700e+10  7.465600e+10\\nAccounts Payable                   4.697300e+10  4.975000e+10  4.587100e+10  4.511000e+10  4.706000e+10  4.972900e+10\\nAccrued Taxes                      2.800000e+08  3.270000e+08  3.870000e+08  7.290000e+08  4.280000e+08  6.160000e+08\\nInterest & Dividends Payable       0.000000e+00  1.507000e+09  3.023000e+09  4.551000e+09  0.000000e+00  1.516000e+09\\nOther Payables & Accruals          2.030600e+10  2.097300e+10  2.069100e+10  2.102300e+10  2.215900e+10  2.279500e+10\\nST Debt                            8.241000e+09  1.122700e+10  1.031100e+10  8.475000e+09  7.830000e+09  1.109500e+10\\nST Borrowings                      5.750000e+08  4.926000e+09  3.681000e+09  4.828000e+09  5.225000e+09  7.795000e+09\\nST Finance Leases                  5.110000e+08  4.680000e+08  4.390000e+08  4.350000e+08  7.290000e+08  7.090000e+08\\nST Operating Leases                1.793000e+09  1.740000e+09  1.795000e+09  1.748000e+09  0.000000e+00  0.000000e+00\\nCurrent Portion of LT Debt         5.362000e+09  4.093000e+09  4.396000e+09  1.464000e+09  1.876000e+09  2.591000e+09\\nOther ST Liabilities               1.990000e+09  0.000000e+00  0.000000e+00  0.000000e+00  0.000000e+00  0.000000e+00\\nTotal Current Liabilities          7.779000e+10  8.378400e+10  8.028300e+10  7.988800e+10  7.747700e+10  8.575100e+10\\nLT Debt                            6.419200e+10  6.089100e+10  6.069100e+10  6.316000e+10  4.634000e+10  4.616100e+10\\nLT Borrowings                      4.371400e+10  4.108200e+10  4.069700e+10  4.363100e+10  3.965700e+10  3.954000e+10\\nLT Finance Leases                  4.307000e+09  4.068000e+09  3.915000e+09  3.810000e+09  6.683000e+09  6.621000e+09\\nLT Operating Leases                1.617100e+10  1.574100e+10  1.607900e+10  1.571900e+10  0.000000e+00  0.000000e+00\\nOther LT Liabilities               1.296100e+10  1.684800e+10  1.675600e+10  1.658600e+10  1.584400e+10  1.520200e+10\\nDerivatives & Hedging              1.440000e+08  4.489000e+09  4.327000e+09  4.285000e+09  4.291000e+09  4.205000e+09\\nMisc LT Liabilities                6.613000e+09  1.235900e+10  1.242900e+10  1.230100e+10  5.257000e+09  1.099700e+10\\nTotal Noncurrent Liabilities       7.715300e+10  7.773900e+10  7.744700e+10  7.974600e+10  6.218400e+10  6.136300e+10\\nTotal Liabilities                  1.549430e+11  1.615230e+11  1.577300e+11  1.596340e+11  1.396610e+11  1.471140e+11\\nShare Capital & APIC               3.531000e+09  3.375000e+09  3.165000e+09  3.020000e+09  3.253000e+09  3.178000e+09\\nCommon Stock                       2.840000e+08  2.840000e+08  2.850000e+08  2.860000e+08  2.880000e+08  2.910000e+08\\nAdditional Paid in Capital         3.247000e+09  3.091000e+09  2.880000e+09  2.734000e+09  2.965000e+09  2.887000e+09\\nRetained Earnings                  8.394300e+10  8.065600e+10  7.843200e+10  7.627600e+10  8.078500e+10  8.028700e+10\\nOther Equity                      -1.280500e+10 -1.238200e+10 -1.127000e+10 -1.109100e+10 -1.154200e+10 -1.146900e+10\\nEquity Before Minority Interest    7.466900e+10  7.164900e+10  7.032700e+10  6.820500e+10  7.249600e+10  7.199600e+10\\nMinority/Non Controlling Interest  6.883000e+09  6.658000e+09  6.804000e+09  6.705000e+09  7.138000e+09  7.473000e+09\\nTotal Equity                       8.155200e+10  7.830700e+10  7.713100e+10  7.491000e+10  7.963400e+10  7.946900e+10\\n Historical Price:                 Price\\nDate                 \\n2019-02-18  33.330000\\n2019-03-18  33.220000\\n2019-04-18  34.393333\\n2019-05-18  33.620000\\n2019-06-18  36.550000\\n2019-07-18  38.240000\\n2019-08-18  37.663333\\n2019-09-18  39.053333\\n2019-10-18  39.713333\\n2019-11-18  40.083333\\n2019-12-18  39.953333\\n2020-01-18  38.320000\\n2020-02-18  39.876667'}]},\n",
       " {'security': 'NVDA UQ Equity',\n",
       "  'date': '2020-02-20',\n",
       "  'prompt': [{'role': 'system',\n",
       "    'content': \"You are a financial analyst tasked with analyzing the financial statements of a company to predict the direction of future earnings.Follow the steps below to perform the analysis. 1. Identify notable changes in the balance sheet and income statement. 2. Compute key financial ratios to understand the health of the company. State the formula before calculating. Compute profitability ratios, leverage ratios, liquidity ratios and efficiency ratios. 3. Interpret each of the ratios. 4. Predict the direction of future earnings in JSON format with a clear recommendation and size of the increase or decrease: {'earnings':'INCREASE', 'magnitude':'LARGE'} or {'earnings':'DECREASE','SMALL'} 5. Provide a rational in less than 250 words. Company Financial Statements: \"},\n",
       "   {'role': 'user',\n",
       "    'content': 'Income Statement:                                                        t           t-1           t-2           t-3           t-4           t-5\\nitems                                                                                                                          \\nRevenue                                      3.105000e+09  3.014000e+09  2.579000e+09  2.220000e+09  2.205000e+09  3.181000e+09\\nCost of Revenue                              1.090000e+09  1.098000e+09  1.038000e+09  9.240000e+08  9.980000e+08  1.260000e+09\\nGross Profit                                 2.015000e+09  1.916000e+09  1.541000e+09  1.296000e+09  1.207000e+09  1.921000e+09\\nOperating Expenses                           1.025000e+09  9.890000e+08  9.700000e+08  9.380000e+08  9.130000e+08  8.630000e+08\\nSelling, General and Administrative Expense  2.870000e+08  2.770000e+08  2.660000e+08  2.640000e+08  2.660000e+08  2.580000e+08\\nR&D Expense Adjusted                         7.380000e+08  7.120000e+08  7.040000e+08  6.740000e+08  6.470000e+08  6.050000e+08\\nOperating Income or Losses                   9.900000e+08  9.270000e+08  5.710000e+08  3.580000e+08  2.940000e+08  1.058000e+09\\nNon-Operating (Income) Loss                 -2.600000e+07 -3.200000e+07 -3.500000e+07 -3.100000e+07 -3.000000e+07 -2.300000e+07\\nNet Interest Expense                        -2.900000e+07 -3.200000e+07 -3.400000e+07 -3.100000e+07 -2.800000e+07 -2.200000e+07\\nInterest Expense                             1.200000e+07  1.300000e+07  1.300000e+07  1.300000e+07  1.400000e+07  1.500000e+07\\nInterest Income                              4.100000e+07  4.500000e+07  4.700000e+07  4.400000e+07  4.200000e+07  3.700000e+07\\nOther Non-Operating (Income) Loss            3.000000e+06  0.000000e+00 -1.000000e+06  0.000000e+00 -2.000000e+06 -1.000000e+06\\nPretax Income (Loss), Adjusted               1.016000e+09  9.590000e+08  6.060000e+08  3.890000e+08  3.240000e+08  1.081000e+09\\nAbnormal Losses (Gains)                      1.000000e+07  7.000000e+06  7.000000e+06  2.100000e+07  3.000000e+07  1.000000e+07\\nMerger / Acquisition Expense                 7.000000e+06  7.000000e+06  5.000000e+06  1.000000e+07  1.000000e+06  1.000000e+06\\nRestructuring Expenses                       0.000000e+00  0.000000e+00  0.000000e+00  0.000000e+00  0.000000e+00 -4.000000e+06\\nGain/Loss on Investments                     0.000000e+00  0.000000e+00  0.000000e+00  0.000000e+00  1.000000e+06 -2.000000e+06\\nIncome Tax Expense (Benefit)                 6.600000e+07  6.000000e+07  5.400000e+07 -5.000000e+06 -2.430000e+08 -1.490000e+08\\nIncome (Loss) from Continuing Operations     9.500000e+08  8.990000e+08  5.520000e+08  3.940000e+08  5.670000e+08  1.230000e+09\\nNet Abnormal Losses (Gains)                  9.652174e+06  6.212121e+06  6.363636e+06  1.572362e+07 -2.411290e+08 -1.432667e+08\\nBasic Earnings per Share                     3.875000e-02  3.675000e-02  2.275000e-02  1.625000e-02  2.325000e-02  5.050000e-02\\nBasic EPS from Continuing Operations         3.920147e-02  3.709885e-02  2.292132e-02  1.687495e-02  1.337730e-02  4.461138e-02\\nDiluted EPS                                  3.825000e-02  3.625000e-02  2.250000e-02  1.600000e-02  2.300000e-02  4.925000e-02\\nDiluted EPS from Continuing Operations, Adj  3.863858e-02  3.650130e-02  2.275828e-02  1.663813e-02  1.326135e-02  4.351932e-02\\n Balance Sheet:                                             t           t-1           t-2           t-3           t-4           t-5\\nitems                                                                                                              \\nCash, Cash Equivalents & STI     1.089700e+10  9.769000e+09  8.475000e+09  7.802000e+09  7.422000e+09  7.591000e+09\\nCash & Cash Equivalents          1.089600e+10  9.765000e+09  7.105000e+09  2.772000e+09  7.820000e+08  7.210000e+08\\nST Investments                   1.000000e+06  4.000000e+06  1.370000e+09  5.030000e+09  6.640000e+09  6.870000e+09\\nAccounts & Notes Receiv          1.657000e+09  1.455000e+09  1.561000e+09  1.242000e+09  1.424000e+09  2.219000e+09\\nInventories                      9.790000e+08  1.047000e+09  1.204000e+09  1.426000e+09  1.575000e+09  1.417000e+09\\nRaw Materials                    2.490000e+08  2.550000e+08  3.620000e+08  4.840000e+08  6.130000e+08  6.340000e+08\\nWork In Process                  2.650000e+08  2.650000e+08  2.030000e+08  1.890000e+08  2.380000e+08  2.590000e+08\\nFinished Goods                   4.650000e+08  5.270000e+08  6.390000e+08  7.530000e+08  7.240000e+08  5.240000e+08\\nOther ST Assets                  1.570000e+08  1.490000e+08  1.510000e+08  1.590000e+08  1.360000e+08  1.590000e+08\\nTotal Current Assets             1.369000e+10  1.242000e+10  1.139100e+10  1.062900e+10  1.055700e+10  1.138600e+10\\nProperty, Plant & Equip, Net     2.292000e+09  2.044000e+09  2.019000e+09  2.009000e+09  1.404000e+09  1.292000e+09\\nProperty, Plant & Equip          3.303000e+09  0.000000e+00  0.000000e+00  0.000000e+00  2.171000e+09  0.000000e+00\\nAccumulated Depreciation         1.011000e+09  0.000000e+00  0.000000e+00  0.000000e+00  7.670000e+08  0.000000e+00\\nOther LT Assets                  1.333000e+09  1.346000e+09  1.365000e+09  1.383000e+09  1.331000e+09  9.790000e+08\\nTotal Intangible Assets          6.670000e+08  6.610000e+08  6.670000e+08  6.720000e+08  6.630000e+08  6.670000e+08\\nGoodwill                         6.180000e+08  6.180000e+08  6.180000e+08  6.180000e+08  6.180000e+08  6.180000e+08\\nOther Intangible Assets          4.900000e+07  4.300000e+07  4.900000e+07  5.400000e+07  4.500000e+07  4.900000e+07\\nDeferred Tax Assets              5.480000e+08  5.690000e+08  5.880000e+08  6.010000e+08  5.600000e+08  0.000000e+00\\nMisc LT Assets                   1.180000e+08  1.160000e+08  1.100000e+08  1.100000e+08  1.080000e+08  3.120000e+08\\nTotal Noncurrent Assets          3.625000e+09  3.390000e+09  3.384000e+09  3.392000e+09  2.735000e+09  2.271000e+09\\nTotal Assets                     1.731500e+10  1.581000e+10  1.477500e+10  1.402100e+10  1.329200e+10  1.365700e+10\\nPayables & Accruals              7.480000e+08  6.430000e+08  4.740000e+08  4.750000e+08  6.020000e+08  9.420000e+08\\nAccounts Payable                 6.870000e+08  5.910000e+08  4.370000e+08  3.680000e+08  5.110000e+08  9.020000e+08\\nAccrued Taxes                    6.100000e+07  5.200000e+07  3.700000e+07  1.070000e+08  9.100000e+07  4.000000e+07\\nST Debt                          9.100000e+07  8.900000e+07  8.400000e+07  8.000000e+07  0.000000e+00  3.000000e+06\\nST Borrowings                    0.000000e+00  0.000000e+00  0.000000e+00  0.000000e+00  0.000000e+00  3.000000e+06\\nST Operating Leases              9.100000e+07  8.900000e+07  8.400000e+07  8.000000e+07  0.000000e+00  0.000000e+00\\nOther ST Liabilities             9.450000e+08  7.430000e+08  7.590000e+08  6.280000e+08  7.270000e+08  6.630000e+08\\nDeferred Revenue                 1.410000e+08  1.190000e+08  1.270000e+08  8.500000e+07  9.200000e+07  8.000000e+07\\nMisc ST Liabilities              8.040000e+08  6.240000e+08  6.320000e+08  5.430000e+08  6.350000e+08  5.830000e+08\\nTotal Current Liabilities        1.784000e+09  1.475000e+09  1.317000e+09  1.183000e+09  1.329000e+09  1.608000e+09\\nLT Debt                          2.552000e+09  2.459000e+09  2.472000e+09  2.474000e+09  1.988000e+09  1.987000e+09\\nLT Borrowings                    1.991000e+09  1.990000e+09  1.989000e+09  1.988000e+09  1.988000e+09  1.987000e+09\\nLT Operating Leases              5.610000e+08  4.690000e+08  4.830000e+08  4.860000e+08  0.000000e+00  0.000000e+00\\nOther LT Liabilities             7.750000e+08  6.620000e+08  6.500000e+08  6.600000e+08  6.330000e+08  5.870000e+08\\nDeferred Revenue                 6.000000e+07  5.700000e+07  5.400000e+07  4.900000e+07  4.600000e+07  4.000000e+07\\nMisc LT Liabilities              6.860000e+08  5.800000e+08  5.730000e+08  5.900000e+08  5.680000e+08  5.240000e+08\\nTotal Noncurrent Liabilities     3.327000e+09  3.121000e+09  3.122000e+09  3.134000e+09  2.621000e+09  2.574000e+09\\nTotal Liabilities                5.111000e+09  4.596000e+09  4.439000e+09  4.317000e+09  3.950000e+09  4.182000e+09\\nShare Capital & APIC             7.046000e+09  6.825000e+09  6.544000e+09  6.318000e+09  6.052000e+09  5.892000e+09\\nCommon Stock                     1.000000e+06  1.000000e+06  1.000000e+06  1.000000e+06  1.000000e+06  1.000000e+06\\nAdditional Paid in Capital       7.045000e+09  6.824000e+09  6.543000e+09  6.317000e+09  6.051000e+09  5.891000e+09\\nTreasury Stock                   9.814000e+09  9.726000e+09  9.524000e+09  9.474000e+09  9.263000e+09  8.489000e+09\\nRetained Earnings                1.497100e+10  1.411800e+10  1.331700e+10  1.286200e+10  1.256500e+10  1.209600e+10\\nOther Equity                     1.000000e+06 -3.000000e+06 -1.000000e+06 -2.000000e+06 -1.200000e+07 -2.400000e+07\\nEquity Before Minority Interest  1.220400e+10  1.121400e+10  1.033600e+10  9.704000e+09  9.342000e+09  9.475000e+09\\n Historical Price:               Price\\nDate               \\n2019-02-20  3.96375\\n2019-03-20  4.36000\\n2019-04-20  4.65750\\n2019-05-20  3.79375\\n2019-06-20  3.85250\\n2019-07-20  4.21100\\n2019-08-20  4.19675\\n2019-09-20  4.31725\\n2019-10-20  4.76225\\n2019-11-20  5.27950\\n2019-12-20  5.98425\\n2020-01-20  6.23200\\n2020-02-20  7.71750'}]},\n",
       " {'security': 'VZ UN Equity',\n",
       "  'date': '2020-02-21',\n",
       "  'prompt': [{'role': 'system',\n",
       "    'content': \"You are a financial analyst tasked with analyzing the financial statements of a company to predict the direction of future earnings.Follow the steps below to perform the analysis. 1. Identify notable changes in the balance sheet and income statement. 2. Compute key financial ratios to understand the health of the company. State the formula before calculating. Compute profitability ratios, leverage ratios, liquidity ratios and efficiency ratios. 3. Interpret each of the ratios. 4. Predict the direction of future earnings in JSON format with a clear recommendation and size of the increase or decrease: {'earnings':'INCREASE', 'magnitude':'LARGE'} or {'earnings':'DECREASE','SMALL'} 5. Provide a rational in less than 250 words. Company Financial Statements: \"},\n",
       "   {'role': 'user',\n",
       "    'content': 'Income Statement:                                                        t           t-1           t-2           t-3           t-4           t-5\\nitems                                                                                                                          \\nRevenue                                      1.381200e+10  1.277400e+10  1.415000e+10  1.318600e+10  1.255700e+10  1.285100e+10\\nOperating Expenses                           6.484000e+09  4.763000e+09  5.297000e+09  5.102000e+09  4.320000e+09  4.854000e+09\\nOperating Income or Losses                   2.321000e+09  2.416000e+09  3.127000e+09  2.719000e+09  2.708000e+09  3.078000e+09\\nInterest Income                              4.922000e+09  5.459000e+09  5.760000e+09  5.597000e+09  5.468000e+09  5.061000e+09\\nAbnormal Losses (Gains)                      1.090000e+09  4.700000e+07  6.600000e+07  3.700000e+07  5.160000e+08  1.360000e+08\\nIncome Tax Expense (Benefit)                 4.040000e+08  5.390000e+08  7.060000e+08  4.680000e+08  1.700000e+08  5.540000e+08\\nIncome (Loss) from Continuing Operations     1.917000e+09  1.877000e+09  2.421000e+09  2.251000e+09  2.538000e+09  2.524000e+09\\nPreferred Dividends                          1.930000e+08  8.400000e+07  2.230000e+08  6.900000e+07  2.160000e+08  7.100000e+07\\nNet Income Avail to Common, GAAP             1.724000e+09  1.793000e+09  2.198000e+09  2.182000e+09  2.322000e+09  2.453000e+09\\nNet Abnormal Losses (Gains)                  8.611000e+08  3.713000e+07  5.214000e+07  2.923000e+07 -5.936000e+07  1.074400e+08\\nBasic Earnings per Share                     4.740000e+00  4.830000e+00  5.860000e+00  5.730000e+00  6.118577e+00  6.350000e+00\\nBasic EPS from Continuing Operations         7.133278e+00  4.946297e+00  6.008385e+00  5.822091e+00  5.962161e+00  6.643591e+00\\nDiluted EPS                                  4.690000e+00  4.790000e+00  5.810000e+00  5.710000e+00  6.042155e+00  6.280000e+00\\nDiluted EPS from Continuing Operations, Adj  7.034405e+00  4.889199e+00  5.947937e+00  5.786438e+00  5.887692e+00  6.555134e+00\\n Balance Sheet:                                               t           t-1           t-2           t-3           t-4           t-5\\nitems                                                                                                                \\nCash, Cash Equivalents & STI       6.653880e+11  7.478790e+11  6.940120e+11  6.896870e+11  6.404390e+11  7.225590e+11\\nCash & Cash Equivalents            1.335460e+11  9.409400e+10  9.109200e+10  8.788400e+10  1.305470e+11  1.188710e+11\\nST Investments                     5.318420e+11  6.537850e+11  6.029200e+11  6.018030e+11  5.098920e+11  6.036880e+11\\nProperty, Plant & Equip, Net       2.424600e+10  2.359000e+10  2.265700e+10  2.166300e+10  1.831700e+10  1.830200e+10\\nLT Investments & Receivables       1.728410e+11  1.689290e+11  1.676840e+11  1.561120e+11  1.450610e+11  1.593260e+11\\nOther LT Assets                    1.304930e+11  6.692200e+10  6.055000e+10  5.788700e+10  1.279790e+11  5.700300e+10\\nTotal Intangible Assets            4.837000e+09  4.886000e+09  4.114000e+09  4.092000e+09  4.082000e+09  4.101000e+09\\nGoodwill                           4.196000e+09  4.196000e+09  3.772000e+09  3.760000e+09  3.758000e+09  3.754000e+09\\nOther Intangible Assets            6.410000e+08  6.900000e+08  3.420000e+08  3.320000e+08  3.240000e+08  3.470000e+08\\nDeferred Tax Assets                3.842000e+09  0.000000e+00  0.000000e+00  0.000000e+00  2.656000e+09  0.000000e+00\\nMisc LT Assets                     7.656200e+10  1.216400e+10  1.231700e+10  1.192800e+10  7.639500e+10  7.224000e+09\\nTotal Assets                       9.929680e+11  1.007320e+12  9.449030e+11  9.253490e+11  9.317960e+11  9.571900e+11\\nST Debt                            1.479660e+11  1.411690e+11  1.374380e+11  1.490980e+11  1.281680e+11  1.551140e+11\\nST Borrowings                      8.254900e+10  7.046700e+10  7.066700e+10  6.497800e+10  6.186500e+10  7.167500e+10\\nST Operating Leases                3.840000e+08  0.000000e+00  2.070000e+08  3.180000e+08  0.000000e+00  0.000000e+00\\nCurrent Portion of LT Debt         0.000000e+00  0.000000e+00  0.000000e+00  2.318700e+10  0.000000e+00  0.000000e+00\\nMisc ST Liabilities                1.781700e+10  1.545900e+10  1.401300e+10  1.219600e+10  1.449700e+10  1.466400e+10\\nLT Debt                            2.070760e+11  2.309950e+11  2.338880e+11  2.161830e+11  2.360270e+11  2.421320e+11\\nLT Borrowings                      2.070760e+11  2.287230e+11  2.317230e+11  2.140880e+11  2.360270e+11  2.421320e+11\\nLT Operating Leases                0.000000e+00  2.272000e+09  2.165000e+09  2.095000e+09  0.000000e+00  0.000000e+00\\nPension Liabilities                6.720000e+08  0.000000e+00  0.000000e+00  0.000000e+00  8.060000e+08  0.000000e+00\\nTotal Noncurrent Liabilities       2.283430e+11  2.481170e+11  2.497020e+11  2.302620e+11  2.536340e+11  2.582800e+11\\nTotal Liabilities                  9.027030e+11  9.136450e+11  8.524170e+11  8.335110e+11  8.416110e+11  8.689440e+11\\nPreferred Equity                   1.120300e+10  1.120300e+10  1.120300e+10  1.120300e+10  1.120300e+10  1.120300e+10\\nShare Capital & APIC               5.808700e+10  5.794000e+10  5.780400e+10  5.761000e+10  5.685900e+10  5.673700e+10\\nCommon Stock                       3.204000e+09  3.061000e+09  2.939000e+09  2.748000e+09  2.854000e+09  2.725000e+09\\nAdditional Paid in Capital         5.488300e+10  5.487900e+10  5.486500e+10  5.486200e+10  5.400500e+10  5.401200e+10\\nTreasury Stock                     8.400600e+10  8.184100e+10  8.116700e+10  7.991500e+10  7.867000e+10  7.742200e+10\\nRetained Earnings                  1.064650e+11  1.051940e+11  1.038670e+11  1.019880e+11  1.001000e+11  9.808300e+10\\nOther Equity                      -1.484000e+09 -4.840000e+08 -8.150000e+08 -6.130000e+08  6.930000e+08 -1.839000e+09\\nEquity Before Minority Interest    9.026500e+10  9.201200e+10  9.089200e+10  9.027300e+10  9.018500e+10  8.676200e+10\\nMinority/Non Controlling Interest  0.000000e+00  1.663000e+09  1.594000e+09  1.565000e+09  0.000000e+00  1.484000e+09\\nTotal Equity                       9.026500e+10  9.367500e+10  9.248600e+10  9.183800e+10  9.018500e+10  8.824600e+10\\n Historical Price:              Price\\nDate              \\n2019-02-21  196.36\\n2019-03-21  194.58\\n2019-04-21  205.91\\n2019-05-21  199.11\\n2019-06-21  195.94\\n2019-07-21  213.52\\n2019-08-21  200.68\\n2019-09-21  213.74\\n2019-10-21  209.25\\n2019-11-21  218.23\\n2019-12-21  228.93\\n2020-01-21  245.70\\n2020-02-21  230.62'}]},\n",
       " {'security': 'GS UN Equity',\n",
       "  'date': '2020-02-21',\n",
       "  'prompt': [{'role': 'system',\n",
       "    'content': \"You are a financial analyst tasked with analyzing the financial statements of a company to predict the direction of future earnings.Follow the steps below to perform the analysis. 1. Identify notable changes in the balance sheet and income statement. 2. Compute key financial ratios to understand the health of the company. State the formula before calculating. Compute profitability ratios, leverage ratios, liquidity ratios and efficiency ratios. 3. Interpret each of the ratios. 4. Predict the direction of future earnings in JSON format with a clear recommendation and size of the increase or decrease: {'earnings':'INCREASE', 'magnitude':'LARGE'} or {'earnings':'DECREASE','SMALL'} 5. Provide a rational in less than 250 words. Company Financial Statements: \"},\n",
       "   {'role': 'user',\n",
       "    'content': 'Income Statement:                                                        t           t-1           t-2           t-3           t-4           t-5\\nitems                                                                                                                          \\nRevenue                                      1.381200e+10  1.277400e+10  1.415000e+10  1.318600e+10  1.255700e+10  1.285100e+10\\nOperating Expenses                           6.484000e+09  4.763000e+09  5.297000e+09  5.102000e+09  4.320000e+09  4.854000e+09\\nOperating Income or Losses                   2.321000e+09  2.416000e+09  3.127000e+09  2.719000e+09  2.708000e+09  3.078000e+09\\nInterest Income                              4.922000e+09  5.459000e+09  5.760000e+09  5.597000e+09  5.468000e+09  5.061000e+09\\nAbnormal Losses (Gains)                      1.090000e+09  4.700000e+07  6.600000e+07  3.700000e+07  5.160000e+08  1.360000e+08\\nIncome Tax Expense (Benefit)                 4.040000e+08  5.390000e+08  7.060000e+08  4.680000e+08  1.700000e+08  5.540000e+08\\nIncome (Loss) from Continuing Operations     1.917000e+09  1.877000e+09  2.421000e+09  2.251000e+09  2.538000e+09  2.524000e+09\\nPreferred Dividends                          1.930000e+08  8.400000e+07  2.230000e+08  6.900000e+07  2.160000e+08  7.100000e+07\\nNet Income Avail to Common, GAAP             1.724000e+09  1.793000e+09  2.198000e+09  2.182000e+09  2.322000e+09  2.453000e+09\\nNet Abnormal Losses (Gains)                  8.611000e+08  3.713000e+07  5.214000e+07  2.923000e+07 -5.936000e+07  1.074400e+08\\nBasic Earnings per Share                     4.740000e+00  4.830000e+00  5.860000e+00  5.730000e+00  6.118577e+00  6.350000e+00\\nBasic EPS from Continuing Operations         7.133278e+00  4.946297e+00  6.008385e+00  5.822091e+00  5.962161e+00  6.643591e+00\\nDiluted EPS                                  4.690000e+00  4.790000e+00  5.810000e+00  5.710000e+00  6.042155e+00  6.280000e+00\\nDiluted EPS from Continuing Operations, Adj  7.034405e+00  4.889199e+00  5.947937e+00  5.786438e+00  5.887692e+00  6.555134e+00\\n Balance Sheet:                                               t           t-1           t-2           t-3           t-4           t-5\\nitems                                                                                                                \\nCash, Cash Equivalents & STI       6.653880e+11  7.478790e+11  6.940120e+11  6.896870e+11  6.404390e+11  7.225590e+11\\nCash & Cash Equivalents            1.335460e+11  9.409400e+10  9.109200e+10  8.788400e+10  1.305470e+11  1.188710e+11\\nST Investments                     5.318420e+11  6.537850e+11  6.029200e+11  6.018030e+11  5.098920e+11  6.036880e+11\\nProperty, Plant & Equip, Net       2.424600e+10  2.359000e+10  2.265700e+10  2.166300e+10  1.831700e+10  1.830200e+10\\nLT Investments & Receivables       1.728410e+11  1.689290e+11  1.676840e+11  1.561120e+11  1.450610e+11  1.593260e+11\\nOther LT Assets                    1.304930e+11  6.692200e+10  6.055000e+10  5.788700e+10  1.279790e+11  5.700300e+10\\nTotal Intangible Assets            4.837000e+09  4.886000e+09  4.114000e+09  4.092000e+09  4.082000e+09  4.101000e+09\\nGoodwill                           4.196000e+09  4.196000e+09  3.772000e+09  3.760000e+09  3.758000e+09  3.754000e+09\\nOther Intangible Assets            6.410000e+08  6.900000e+08  3.420000e+08  3.320000e+08  3.240000e+08  3.470000e+08\\nDeferred Tax Assets                3.842000e+09  0.000000e+00  0.000000e+00  0.000000e+00  2.656000e+09  0.000000e+00\\nMisc LT Assets                     7.656200e+10  1.216400e+10  1.231700e+10  1.192800e+10  7.639500e+10  7.224000e+09\\nTotal Assets                       9.929680e+11  1.007320e+12  9.449030e+11  9.253490e+11  9.317960e+11  9.571900e+11\\nST Debt                            1.479660e+11  1.411690e+11  1.374380e+11  1.490980e+11  1.281680e+11  1.551140e+11\\nST Borrowings                      8.254900e+10  7.046700e+10  7.066700e+10  6.497800e+10  6.186500e+10  7.167500e+10\\nST Operating Leases                3.840000e+08  0.000000e+00  2.070000e+08  3.180000e+08  0.000000e+00  0.000000e+00\\nCurrent Portion of LT Debt         0.000000e+00  0.000000e+00  0.000000e+00  2.318700e+10  0.000000e+00  0.000000e+00\\nMisc ST Liabilities                1.781700e+10  1.545900e+10  1.401300e+10  1.219600e+10  1.449700e+10  1.466400e+10\\nLT Debt                            2.070760e+11  2.309950e+11  2.338880e+11  2.161830e+11  2.360270e+11  2.421320e+11\\nLT Borrowings                      2.070760e+11  2.287230e+11  2.317230e+11  2.140880e+11  2.360270e+11  2.421320e+11\\nLT Operating Leases                0.000000e+00  2.272000e+09  2.165000e+09  2.095000e+09  0.000000e+00  0.000000e+00\\nPension Liabilities                6.720000e+08  0.000000e+00  0.000000e+00  0.000000e+00  8.060000e+08  0.000000e+00\\nTotal Noncurrent Liabilities       2.283430e+11  2.481170e+11  2.497020e+11  2.302620e+11  2.536340e+11  2.582800e+11\\nTotal Liabilities                  9.027030e+11  9.136450e+11  8.524170e+11  8.335110e+11  8.416110e+11  8.689440e+11\\nPreferred Equity                   1.120300e+10  1.120300e+10  1.120300e+10  1.120300e+10  1.120300e+10  1.120300e+10\\nShare Capital & APIC               5.808700e+10  5.794000e+10  5.780400e+10  5.761000e+10  5.685900e+10  5.673700e+10\\nCommon Stock                       3.204000e+09  3.061000e+09  2.939000e+09  2.748000e+09  2.854000e+09  2.725000e+09\\nAdditional Paid in Capital         5.488300e+10  5.487900e+10  5.486500e+10  5.486200e+10  5.400500e+10  5.401200e+10\\nTreasury Stock                     8.400600e+10  8.184100e+10  8.116700e+10  7.991500e+10  7.867000e+10  7.742200e+10\\nRetained Earnings                  1.064650e+11  1.051940e+11  1.038670e+11  1.019880e+11  1.001000e+11  9.808300e+10\\nOther Equity                      -1.484000e+09 -4.840000e+08 -8.150000e+08 -6.130000e+08  6.930000e+08 -1.839000e+09\\nEquity Before Minority Interest    9.026500e+10  9.201200e+10  9.089200e+10  9.027300e+10  9.018500e+10  8.676200e+10\\nMinority/Non Controlling Interest  0.000000e+00  1.663000e+09  1.594000e+09  1.565000e+09  0.000000e+00  1.484000e+09\\nTotal Equity                       9.026500e+10  9.367500e+10  9.248600e+10  9.183800e+10  9.018500e+10  8.824600e+10\\n Historical Price:              Price\\nDate              \\n2019-02-21  196.36\\n2019-03-21  194.58\\n2019-04-21  205.91\\n2019-05-21  199.11\\n2019-06-21  195.94\\n2019-07-21  213.52\\n2019-08-21  200.68\\n2019-09-21  213.74\\n2019-10-21  209.25\\n2019-11-21  218.23\\n2019-12-21  228.93\\n2020-01-21  245.70\\n2020-02-21  230.62'}]}]"
      ]
     },
     "execution_count": 17,
     "metadata": {},
     "output_type": "execute_result"
    }
   ],
   "source": [
    "all_prompts[:5]"
   ]
  },
  {
   "cell_type": "markdown",
   "id": "1104a472-6c11-4ddd-970d-d64fda33ca79",
   "metadata": {},
   "source": [
    "## Save any model"
   ]
  },
  {
   "cell_type": "code",
   "execution_count": 8,
   "id": "6def2848-5dd7-410e-9977-1cf3dfb422dd",
   "metadata": {},
   "outputs": [],
   "source": [
    "model_helper = S3ModelHelper('tmp/fs')"
   ]
  },
  {
   "cell_type": "code",
   "execution_count": 9,
   "id": "634ec4d3-ca3f-40e7-8390-420b59c1bdc3",
   "metadata": {},
   "outputs": [
    {
     "name": "stdout",
     "output_type": "stream",
     "text": [
      "bclarke16/tmp/fs/deepseek32/config.json\n",
      "bclarke16/tmp/fs/deepseek32/generation_config.json\n",
      "bclarke16/tmp/fs/deepseek32/model-00001-of-00004.safetensors\n",
      "bclarke16/tmp/fs/deepseek32/model-00002-of-00004.safetensors\n",
      "bclarke16/tmp/fs/deepseek32/model-00003-of-00004.safetensors\n",
      "bclarke16/tmp/fs/deepseek32/model-00004-of-00004.safetensors\n",
      "bclarke16/tmp/fs/deepseek32/model.safetensors.index.json\n",
      "Files deleted in S3\n"
     ]
    }
   ],
   "source": [
    "model_helper.delete_model_in_s3('deepseek32')"
   ]
  },
  {
   "cell_type": "code",
   "execution_count": 10,
   "id": "cd98c82f-eec9-4b94-b5b0-660117a746b7",
   "metadata": {},
   "outputs": [],
   "source": [
    "model.save_pretrained('Data/DeepSeek32')"
   ]
  },
  {
   "cell_type": "code",
   "execution_count": 11,
   "id": "8642f594-7220-42b0-9aae-4cc5a0cc4796",
   "metadata": {},
   "outputs": [
    {
     "name": "stdout",
     "output_type": "stream",
     "text": [
      "None\n"
     ]
    }
   ],
   "source": [
    "model_helper.save_model_to_s3('Data/DeepSeek32','deepseek32')"
   ]
  },
  {
   "cell_type": "code",
   "execution_count": 15,
   "id": "64771e33-e965-4b7f-a378-608a2dcf5653",
   "metadata": {},
   "outputs": [],
   "source": [
    "model_helper.clear_folder('Data/DeepSeek32')"
   ]
  },
  {
   "cell_type": "code",
   "execution_count": null,
   "id": "99ee8fba-2085-45d2-8fd9-9dc4d39299c2",
   "metadata": {},
   "outputs": [],
   "source": [
    "# start_time = datetime.datetime.now()\n",
    "# #formatted_chat = tokenizer.apply_chat_template(prompt, tokenize=False, add_generation_prompt=True)\n",
    "# outputs = pipeline(\n",
    "#     prompt,\n",
    "#     max_new_tokens=1000,\n",
    "# )\n",
    "# end_time = datetime.datetime.now()\n",
    "# print(\"Time to execute: \", end_time - start_time)\n",
    "\n",
    "# test_output = outputs[0]['generated_text'][-1]\n",
    "# display(Markdown(test_output['content']))"
   ]
  }
 ],
 "metadata": {
  "kernelspec": {
   "display_name": "BQuant Python 3",
   "language": "python",
   "name": "remote-jupyterpython"
  },
  "language_info": {
   "codemirror_mode": {
    "name": "ipython",
    "version": 3
   },
   "file_extension": ".py",
   "mimetype": "text/x-python",
   "name": "python",
   "nbconvert_exporter": "python",
   "pygments_lexer": "ipython3",
   "version": "3.11.8"
  }
 },
 "nbformat": 4,
 "nbformat_minor": 5
}
