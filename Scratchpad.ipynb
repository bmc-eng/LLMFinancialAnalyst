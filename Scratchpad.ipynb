{
 "cells": [
  {
   "cell_type": "markdown",
   "id": "6bab199d-800f-40d2-849a-39cedec3ea3b",
   "metadata": {},
   "source": [
    "## Find all of the dates when companies first published their quarterly reports"
   ]
  },
  {
   "cell_type": "code",
   "execution_count": 40,
   "id": "9dba4023-2a67-4566-87a1-c7353bbc0b42",
   "metadata": {},
   "outputs": [],
   "source": [
    "import bql\n",
    "import pandas as pd"
   ]
  },
  {
   "cell_type": "code",
   "execution_count": 2,
   "id": "4b626d2c-5848-470f-b805-7ab145bf4f05",
   "metadata": {},
   "outputs": [],
   "source": [
    "bq = bql.Service()"
   ]
  },
  {
   "cell_type": "code",
   "execution_count": 29,
   "id": "d07d07e2-bc46-461c-bfbf-e11bd82d803d",
   "metadata": {},
   "outputs": [],
   "source": [
    "index = 'SPX Index'\n",
    "\n",
    "rebalance_dates = ['2023-12-31',\n",
    "        '2023-09-30',\n",
    "        '2023-06-30',\n",
    "        '2023-03-31',\n",
    "        '2022-12-31',\n",
    "        '2022-09-30',\n",
    "        '2022-06-30',\n",
    "        '2022-03-31',\n",
    "        '2021-12-31',\n",
    "        '2021-09-30',\n",
    "        '2021-06-30',\n",
    "        '2021-03-31',\n",
    "        '2020-12-31',\n",
    "        '2020-09-30',\n",
    "        '2020-06-30',\n",
    "        '2020-03-31',\n",
    "        '2019-12-31',\n",
    "        '2019-09-30',\n",
    "        '2019-06-30',\n",
    "        '2019-03-31',]\n",
    "\n",
    "univ = bq.univ.members(index,dates='2019-12-31')\n",
    "field = bq.data.sales_rev_turn(dates=bq.func.range('-5Y','0D'), fa_period_type='Q')"
   ]
  },
  {
   "cell_type": "code",
   "execution_count": null,
   "id": "4dd2cf96-4829-4ea2-bba6-53c22cebaaa9",
   "metadata": {},
   "outputs": [],
   "source": [
    "# for each rebalance date, get the members of the index at that time and look up their reporting dates"
   ]
  },
  {
   "cell_type": "code",
   "execution_count": 31,
   "id": "d10ec708-0534-437a-a13d-5f22c7a22844",
   "metadata": {},
   "outputs": [],
   "source": [
    "all_data = []\n",
    "\n",
    "def get_reporting_dates_per_rebalance(date):\n",
    "    univ = bq.univ.members(index, dates=date)\n",
    "    field = bq.data.sales_rev_turn(dates=bq.func.range('-5Y','0D'), fa_period_type='Q')\n",
    "    req = bql.Request(univ, field)\n",
    "    data = bq.execute(req)\n",
    "    df = data[0].df().dropna()\n",
    "    return df.sort_values('PERIOD_END_DATE', ascending=True).reset_index().drop_duplicates(subset=['ID','PERIOD_END_DATE'], keep='first')"
   ]
  },
  {
   "cell_type": "code",
   "execution_count": 35,
   "id": "e811ba9e-c9c1-4ee2-8fd6-4ecff6d14664",
   "metadata": {},
   "outputs": [],
   "source": [
    "def run():\n",
    "    for date in rebalance_dates:\n",
    "        all_data.append(get_reporting_dates_per_rebalance(date))\n",
    "        print(\"Complete for \", date)\n",
    "    df = pd.concat(all_data)\n",
    "    df_concat = df[['ID','AS_OF_DATE','PERIOD_END_DATE']].sort_values('PERIOD_END_DATE', ascending=True).drop_duplicates(subset=['ID','PERIOD_END_DATE'], keep='first')\n",
    "    return df_concat.set_index(['ID','PERIOD_END_DATE']).sort_values(['ID','PERIOD_END_DATE'])"
   ]
  },
  {
   "cell_type": "code",
   "execution_count": 36,
   "id": "34e558c6-7e99-4cae-bf12-36872f37172c",
   "metadata": {},
   "outputs": [
    {
     "name": "stdout",
     "output_type": "stream",
     "text": [
      "Complete for %s 2023-12-31\n",
      "Complete for %s 2023-09-30\n",
      "Complete for %s 2023-06-30\n",
      "Complete for %s 2023-03-31\n",
      "Complete for %s 2022-12-31\n",
      "Complete for %s 2022-09-30\n",
      "Complete for %s 2022-06-30\n",
      "Complete for %s 2022-03-31\n",
      "Complete for %s 2021-12-31\n",
      "Complete for %s 2021-09-30\n",
      "Complete for %s 2021-06-30\n",
      "Complete for %s 2021-03-31\n",
      "Complete for %s 2020-12-31\n",
      "Complete for %s 2020-09-30\n",
      "Complete for %s 2020-06-30\n",
      "Complete for %s 2020-03-31\n",
      "Complete for %s 2019-12-31\n",
      "Complete for %s 2019-09-30\n",
      "Complete for %s 2019-06-30\n",
      "Complete for %s 2019-03-31\n"
     ]
    }
   ],
   "source": [
    "run()"
   ]
  },
  {
   "cell_type": "code",
   "execution_count": 38,
   "id": "ca2b9e8c-61bd-43ee-90cc-e8260627010d",
   "metadata": {},
   "outputs": [
    {
     "data": {
      "text/plain": [
       "37"
      ]
     },
     "execution_count": 38,
     "metadata": {},
     "output_type": "execute_result"
    }
   ],
   "source": [
    "len(all_data)"
   ]
  },
  {
   "cell_type": "code",
   "execution_count": 41,
   "id": "b95b634d-3137-4179-b546-e5f1d1089800",
   "metadata": {},
   "outputs": [],
   "source": [
    "df = pd.concat(all_data)"
   ]
  },
  {
   "cell_type": "code",
   "execution_count": 52,
   "id": "86da056e-19df-4b38-8d00-96c62f9bfe9d",
   "metadata": {},
   "outputs": [],
   "source": [
    "df_concat = df[['ID','AS_OF_DATE','PERIOD_END_DATE']].sort_values('PERIOD_END_DATE', ascending=True).drop_duplicates(subset=['ID','PERIOD_END_DATE'], keep='first')"
   ]
  },
  {
   "cell_type": "code",
   "execution_count": 61,
   "id": "63191e0c-9db7-4bfa-bf4a-934ac01c5f24",
   "metadata": {},
   "outputs": [
    {
     "data": {
      "text/html": [
       "<div>\n",
       "<style scoped>\n",
       "    .dataframe tbody tr th:only-of-type {\n",
       "        vertical-align: middle;\n",
       "    }\n",
       "\n",
       "    .dataframe tbody tr th {\n",
       "        vertical-align: top;\n",
       "    }\n",
       "\n",
       "    .dataframe thead th {\n",
       "        text-align: right;\n",
       "    }\n",
       "</style>\n",
       "<table border=\"1\" class=\"dataframe\">\n",
       "  <thead>\n",
       "    <tr style=\"text-align: right;\">\n",
       "      <th></th>\n",
       "      <th></th>\n",
       "      <th>AS_OF_DATE</th>\n",
       "    </tr>\n",
       "    <tr>\n",
       "      <th>ID</th>\n",
       "      <th>PERIOD_END_DATE</th>\n",
       "      <th></th>\n",
       "    </tr>\n",
       "  </thead>\n",
       "  <tbody>\n",
       "    <tr>\n",
       "      <th>1927294D UN Equity</th>\n",
       "      <th>2019-03-29</th>\n",
       "      <td>2020-01-20</td>\n",
       "    </tr>\n",
       "    <tr>\n",
       "      <th rowspan=\"4\" valign=\"top\">2078185D UN Equity</th>\n",
       "      <th>2019-10-31</th>\n",
       "      <td>2020-01-20</td>\n",
       "    </tr>\n",
       "    <tr>\n",
       "      <th>2020-01-31</th>\n",
       "      <td>2020-03-20</td>\n",
       "    </tr>\n",
       "    <tr>\n",
       "      <th>2020-04-30</th>\n",
       "      <td>2020-06-09</td>\n",
       "    </tr>\n",
       "    <tr>\n",
       "      <th>2020-07-31</th>\n",
       "      <td>2020-08-27</td>\n",
       "    </tr>\n",
       "    <tr>\n",
       "      <th>...</th>\n",
       "      <th>...</th>\n",
       "      <td>...</td>\n",
       "    </tr>\n",
       "    <tr>\n",
       "      <th rowspan=\"5\" valign=\"top\">ZTS UN Equity</th>\n",
       "      <th>2023-09-30</th>\n",
       "      <td>2023-11-02</td>\n",
       "    </tr>\n",
       "    <tr>\n",
       "      <th>2023-12-31</th>\n",
       "      <td>2024-02-13</td>\n",
       "    </tr>\n",
       "    <tr>\n",
       "      <th>2024-03-31</th>\n",
       "      <td>2024-05-02</td>\n",
       "    </tr>\n",
       "    <tr>\n",
       "      <th>2024-06-30</th>\n",
       "      <td>2024-08-06</td>\n",
       "    </tr>\n",
       "    <tr>\n",
       "      <th>2024-09-30</th>\n",
       "      <td>2024-11-04</td>\n",
       "    </tr>\n",
       "  </tbody>\n",
       "</table>\n",
       "<p>11999 rows × 1 columns</p>\n",
       "</div>"
      ],
      "text/plain": [
       "                                   AS_OF_DATE\n",
       "ID                 PERIOD_END_DATE           \n",
       "1927294D UN Equity 2019-03-29      2020-01-20\n",
       "2078185D UN Equity 2019-10-31      2020-01-20\n",
       "                   2020-01-31      2020-03-20\n",
       "                   2020-04-30      2020-06-09\n",
       "                   2020-07-31      2020-08-27\n",
       "...                                       ...\n",
       "ZTS UN Equity      2023-09-30      2023-11-02\n",
       "                   2023-12-31      2024-02-13\n",
       "                   2024-03-31      2024-05-02\n",
       "                   2024-06-30      2024-08-06\n",
       "                   2024-09-30      2024-11-04\n",
       "\n",
       "[11999 rows x 1 columns]"
      ]
     },
     "execution_count": 61,
     "metadata": {},
     "output_type": "execute_result"
    }
   ],
   "source": [
    "df_concat.set_index(['ID','PERIOD_END_DATE']).sort_values(['ID','PERIOD_END_DATE'])#.to_csv('test.csv')"
   ]
  },
  {
   "cell_type": "code",
   "execution_count": null,
   "id": "df773fec-5a9e-495e-8dea-efd4ba8eb48a",
   "metadata": {},
   "outputs": [],
   "source": []
  },
  {
   "cell_type": "code",
   "execution_count": null,
   "id": "0b57e144-3b94-4016-b160-542da1e2249e",
   "metadata": {},
   "outputs": [],
   "source": []
  },
  {
   "cell_type": "code",
   "execution_count": null,
   "id": "dfe865b7-c800-4466-a1f1-9bfd37f43c8f",
   "metadata": {},
   "outputs": [],
   "source": []
  },
  {
   "cell_type": "code",
   "execution_count": null,
   "id": "94427fa5-c290-4a68-9bb1-970f23c0beac",
   "metadata": {},
   "outputs": [],
   "source": []
  },
  {
   "cell_type": "code",
   "execution_count": null,
   "id": "eb608199-3e5c-49f3-a8aa-358c6be23a59",
   "metadata": {},
   "outputs": [],
   "source": []
  },
  {
   "cell_type": "code",
   "execution_count": null,
   "id": "354306e0-4c93-4a01-a62c-70f4db5adf13",
   "metadata": {},
   "outputs": [],
   "source": []
  },
  {
   "cell_type": "code",
   "execution_count": 21,
   "id": "32f9f8a0-5120-4631-ad51-b9134928f840",
   "metadata": {},
   "outputs": [],
   "source": [
    "req = bql.Request(univ, field)\n",
    "data = bq.execute(req)"
   ]
  },
  {
   "cell_type": "code",
   "execution_count": 22,
   "id": "4148a4b7-0708-472d-9d02-e80d91eb82cd",
   "metadata": {},
   "outputs": [],
   "source": [
    "df = data[0].df().dropna()"
   ]
  },
  {
   "cell_type": "code",
   "execution_count": 23,
   "id": "3e97ea42-c93a-47c2-955e-cca53bd9dd3f",
   "metadata": {},
   "outputs": [
    {
     "data": {
      "text/html": [
       "<div>\n",
       "<style scoped>\n",
       "    .dataframe tbody tr th:only-of-type {\n",
       "        vertical-align: middle;\n",
       "    }\n",
       "\n",
       "    .dataframe tbody tr th {\n",
       "        vertical-align: top;\n",
       "    }\n",
       "\n",
       "    .dataframe thead th {\n",
       "        text-align: right;\n",
       "    }\n",
       "</style>\n",
       "<table border=\"1\" class=\"dataframe\">\n",
       "  <thead>\n",
       "    <tr style=\"text-align: right;\">\n",
       "      <th></th>\n",
       "      <th>ID</th>\n",
       "      <th>REVISION_DATE</th>\n",
       "      <th>AS_OF_DATE</th>\n",
       "      <th>PERIOD_END_DATE</th>\n",
       "      <th>CURRENCY</th>\n",
       "      <th>ID_DATE</th>\n",
       "      <th>SALES_REV_TURN(fa_period_type='Q',dates=RANGE(-5Y,0D))</th>\n",
       "    </tr>\n",
       "  </thead>\n",
       "  <tbody>\n",
       "    <tr>\n",
       "      <th>0</th>\n",
       "      <td>BAX UN Equity</td>\n",
       "      <td>2019-07-30</td>\n",
       "      <td>2020-01-20</td>\n",
       "      <td>2019-06-30</td>\n",
       "      <td>USD</td>\n",
       "      <td>2019-12-31</td>\n",
       "      <td>2.840000e+09</td>\n",
       "    </tr>\n",
       "    <tr>\n",
       "      <th>1</th>\n",
       "      <td>MKC UN Equity</td>\n",
       "      <td>2019-10-01</td>\n",
       "      <td>2020-01-20</td>\n",
       "      <td>2019-08-31</td>\n",
       "      <td>USD</td>\n",
       "      <td>2019-12-31</td>\n",
       "      <td>1.329200e+09</td>\n",
       "    </tr>\n",
       "    <tr>\n",
       "      <th>2</th>\n",
       "      <td>PEP UW Equity</td>\n",
       "      <td>2019-10-03</td>\n",
       "      <td>2020-01-20</td>\n",
       "      <td>2019-09-07</td>\n",
       "      <td>USD</td>\n",
       "      <td>2019-12-31</td>\n",
       "      <td>1.718800e+10</td>\n",
       "    </tr>\n",
       "    <tr>\n",
       "      <th>3</th>\n",
       "      <td>DHR UN Equity</td>\n",
       "      <td>2019-10-24</td>\n",
       "      <td>2020-01-20</td>\n",
       "      <td>2019-09-27</td>\n",
       "      <td>USD</td>\n",
       "      <td>2019-12-31</td>\n",
       "      <td>5.037300e+09</td>\n",
       "    </tr>\n",
       "    <tr>\n",
       "      <th>4</th>\n",
       "      <td>LDOS UN Equity</td>\n",
       "      <td>2019-10-29</td>\n",
       "      <td>2020-01-20</td>\n",
       "      <td>2019-09-27</td>\n",
       "      <td>USD</td>\n",
       "      <td>2019-12-31</td>\n",
       "      <td>2.835000e+09</td>\n",
       "    </tr>\n",
       "    <tr>\n",
       "      <th>...</th>\n",
       "      <td>...</td>\n",
       "      <td>...</td>\n",
       "      <td>...</td>\n",
       "      <td>...</td>\n",
       "      <td>...</td>\n",
       "      <td>...</td>\n",
       "      <td>...</td>\n",
       "    </tr>\n",
       "    <tr>\n",
       "      <th>15881</th>\n",
       "      <td>WFC UN Equity</td>\n",
       "      <td>2025-01-15</td>\n",
       "      <td>2025-01-15</td>\n",
       "      <td>2024-12-31</td>\n",
       "      <td>USD</td>\n",
       "      <td>2019-12-31</td>\n",
       "      <td>3.059700e+10</td>\n",
       "    </tr>\n",
       "    <tr>\n",
       "      <th>15882</th>\n",
       "      <td>UNH UN Equity</td>\n",
       "      <td>2025-01-16</td>\n",
       "      <td>2025-01-16</td>\n",
       "      <td>2024-12-31</td>\n",
       "      <td>USD</td>\n",
       "      <td>2019-12-31</td>\n",
       "      <td>1.008070e+11</td>\n",
       "    </tr>\n",
       "    <tr>\n",
       "      <th>15883</th>\n",
       "      <td>SLB UN Equity</td>\n",
       "      <td>2025-01-17</td>\n",
       "      <td>2025-01-17</td>\n",
       "      <td>2024-12-31</td>\n",
       "      <td>USD</td>\n",
       "      <td>2019-12-31</td>\n",
       "      <td>9.284000e+09</td>\n",
       "    </tr>\n",
       "    <tr>\n",
       "      <th>15884</th>\n",
       "      <td>USB UN Equity</td>\n",
       "      <td>2025-01-16</td>\n",
       "      <td>2025-01-16</td>\n",
       "      <td>2024-12-31</td>\n",
       "      <td>USD</td>\n",
       "      <td>2019-12-31</td>\n",
       "      <td>1.066400e+10</td>\n",
       "    </tr>\n",
       "    <tr>\n",
       "      <th>15885</th>\n",
       "      <td>STT UN Equity</td>\n",
       "      <td>2025-01-17</td>\n",
       "      <td>2025-01-17</td>\n",
       "      <td>2024-12-31</td>\n",
       "      <td>USD</td>\n",
       "      <td>2019-12-31</td>\n",
       "      <td>5.672000e+09</td>\n",
       "    </tr>\n",
       "  </tbody>\n",
       "</table>\n",
       "<p>10143 rows × 7 columns</p>\n",
       "</div>"
      ],
      "text/plain": [
       "                   ID REVISION_DATE AS_OF_DATE PERIOD_END_DATE CURRENCY  \\\n",
       "0       BAX UN Equity    2019-07-30 2020-01-20      2019-06-30      USD   \n",
       "1       MKC UN Equity    2019-10-01 2020-01-20      2019-08-31      USD   \n",
       "2       PEP UW Equity    2019-10-03 2020-01-20      2019-09-07      USD   \n",
       "3       DHR UN Equity    2019-10-24 2020-01-20      2019-09-27      USD   \n",
       "4      LDOS UN Equity    2019-10-29 2020-01-20      2019-09-27      USD   \n",
       "...               ...           ...        ...             ...      ...   \n",
       "15881   WFC UN Equity    2025-01-15 2025-01-15      2024-12-31      USD   \n",
       "15882   UNH UN Equity    2025-01-16 2025-01-16      2024-12-31      USD   \n",
       "15883   SLB UN Equity    2025-01-17 2025-01-17      2024-12-31      USD   \n",
       "15884   USB UN Equity    2025-01-16 2025-01-16      2024-12-31      USD   \n",
       "15885   STT UN Equity    2025-01-17 2025-01-17      2024-12-31      USD   \n",
       "\n",
       "         ID_DATE  SALES_REV_TURN(fa_period_type='Q',dates=RANGE(-5Y,0D))  \n",
       "0     2019-12-31                                       2.840000e+09       \n",
       "1     2019-12-31                                       1.329200e+09       \n",
       "2     2019-12-31                                       1.718800e+10       \n",
       "3     2019-12-31                                       5.037300e+09       \n",
       "4     2019-12-31                                       2.835000e+09       \n",
       "...          ...                                                ...       \n",
       "15881 2019-12-31                                       3.059700e+10       \n",
       "15882 2019-12-31                                       1.008070e+11       \n",
       "15883 2019-12-31                                       9.284000e+09       \n",
       "15884 2019-12-31                                       1.066400e+10       \n",
       "15885 2019-12-31                                       5.672000e+09       \n",
       "\n",
       "[10143 rows x 7 columns]"
      ]
     },
     "execution_count": 23,
     "metadata": {},
     "output_type": "execute_result"
    }
   ],
   "source": [
    "df.sort_values('PERIOD_END_DATE', ascending=True).reset_index().drop_duplicates(subset=['ID','PERIOD_END_DATE'], keep='first')"
   ]
  },
  {
   "cell_type": "code",
   "execution_count": null,
   "id": "4d962d0d-5cd4-44d0-87f3-bc37c7e0da05",
   "metadata": {},
   "outputs": [],
   "source": []
  }
 ],
 "metadata": {
  "kernelspec": {
   "display_name": "BQuant Python 3",
   "language": "python",
   "name": "remote-jupyterpython"
  },
  "language_info": {
   "codemirror_mode": {
    "name": "ipython",
    "version": 3
   },
   "file_extension": ".py",
   "mimetype": "text/x-python",
   "name": "python",
   "nbconvert_exporter": "python",
   "pygments_lexer": "ipython3",
   "version": "3.11.8"
  }
 },
 "nbformat": 4,
 "nbformat_minor": 5
}
