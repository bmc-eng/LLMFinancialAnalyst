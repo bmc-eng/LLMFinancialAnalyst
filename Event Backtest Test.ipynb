{
 "cells": [
  {
   "cell_type": "code",
   "execution_count": null,
   "id": "2f0c73c6-cbb3-400f-89f4-9e7e44e7aede",
   "metadata": {},
   "outputs": [],
   "source": [
    "# Install all required packages\n",
    "%package install bloomberg.bquant.signal_lab=1.5.2"
   ]
  },
  {
   "cell_type": "code",
   "execution_count": null,
   "id": "f2de3c88-a46a-41dd-869b-7b51ff98bce4",
   "metadata": {},
   "outputs": [],
   "source": [
    "import bloomberg.bquant.signal_lab as signal_lab\n",
    "signal_lab.__version__"
   ]
  },
  {
   "cell_type": "code",
   "execution_count": 5,
   "id": "419a4c5e-9169-4c77-875f-3941c675b33e",
   "metadata": {},
   "outputs": [],
   "source": [
    "import bql\n",
    "\n",
    "from bloomberg.bquant.signal_lab.workflow.node import (\n",
    "    industry_grouping, portfolio_construction)\n",
    "from bloomberg.bquant.signal_lab.signal.transformers import WeightingScheme\n",
    "from bloomberg.bquant.signal_lab.workflow.factory import (\n",
    "    UniverseFactory,\n",
    "    DataItemFactory,\n",
    "    SignalFactory,\n",
    ")\n",
    "from bloomberg.bquant.signal_lab.workflow import (\n",
    "    AnalyticsDataConfig,\n",
    "    build_backtest,\n",
    ")\n",
    "\n",
    "from bloomberg.bquant.signal_lab.workflow.utils import get_sandbox_path\n",
    "\n",
    "import utils.event_backtest_helper as ebh\n",
    "import backtest_params as bp\n",
    "\n",
    "import numpy as np\n",
    "import pandas as pd\n",
    "import importlib"
   ]
  },
  {
   "cell_type": "code",
   "execution_count": null,
   "id": "a3270973-53df-44b4-b1cc-e65add971b76",
   "metadata": {},
   "outputs": [],
   "source": [
    "importlib.reload(ebh)"
   ]
  },
  {
   "cell_type": "code",
   "execution_count": 6,
   "id": "c89f4bd5-3643-46dc-ae5c-fc0eb79ef3c9",
   "metadata": {},
   "outputs": [
    {
     "data": {
      "text/plain": [
       "'s3://awmgd-prod-finml-sandbox-user/bclarke16/esl/datapack_snapshot'"
      ]
     },
     "execution_count": 6,
     "metadata": {},
     "output_type": "execute_result"
    }
   ],
   "source": [
    "# Get the saved DataPack path\n",
    "bq = bql.Service()\n",
    "data_pack_path = f\"{get_sandbox_path()}/esl/datapack_snapshot\"\n",
    "data_pack_path"
   ]
  },
  {
   "cell_type": "code",
   "execution_count": null,
   "id": "2b61a205-9a4a-44e4-a3e1-871cd4294cd2",
   "metadata": {},
   "outputs": [],
   "source": [
    "# Key backtest parameters\n",
    "start = \"2020-01-05\"\n",
    "end = \"2024-03-01\"\n",
    "universe_name = \"INDU Index\"\n",
    "\n",
    "# Trade information\n",
    "# Import the test data set while developing\n",
    "df = pd.read_csv('test_analysis.csv')\n",
    "df = df[['Date','Security','Decision','Confidence']]\n",
    "df = df.head(1)"
   ]
  },
  {
   "cell_type": "code",
   "execution_count": null,
   "id": "eea74993-b9bd-4de8-87f6-fee859059ab3",
   "metadata": {},
   "outputs": [],
   "source": [
    "# Get all of the data pack items needed for an events backtest\n",
    "\n",
    "universe, benchmark, trading_calendar = bp.get_universe_params(start, end, universe_name, data_pack_path)\n",
    "price, cur_mkt_cap, total_return = bp.get_return_params(start, end, data_pack_path)\n",
    "analytics_data_config = bp.get_analytics_data_config(start, end, universe_name, data_pack_path)"
   ]
  },
  {
   "cell_type": "code",
   "execution_count": null,
   "id": "61833341-c580-4219-a49d-07159803bd69",
   "metadata": {},
   "outputs": [],
   "source": [
    "# Functions for the conversion of BBG securities to FIGIs for ESL\n",
    "\n",
    "def _bql_execute_single(univ: list[str], field: dict[str, bql.om.bql_item.BqlItem]) -> pd.DataFrame:\n",
    "    \"\"\"Execute a BQL query with one field\"\"\"\n",
    "    req = bql.Request(univ, field)\n",
    "    data = bq.execute(req)\n",
    "    return data[0].df()\n",
    "\n",
    "def convert_to_figi(df: pd.DataFrame) -> pd.DataFrame:\n",
    "    \"\"\"Function to convert Bloomberg tickers in a dataframe to FIGIs for ESL\"\"\"\n",
    "    univ      = df['Security'].to_list()\n",
    "    field     = {'figi': bq.data.composite_id_bb_global()}\n",
    "    figi      = _bql_execute_single(univ, field)\n",
    "    merged_df = df.merge(figi, left_on='Security', right_index=True).sort_index()\n",
    "    return merged_df[['Date', 'figi', 'Decision', 'Confidence']].rename(columns={'figi':'Security'})\n",
    "\n",
    "df1 = convert_to_figi(df)\n",
    "df1"
   ]
  },
  {
   "cell_type": "code",
   "execution_count": null,
   "id": "6f9646c0-0b88-4c3f-b7da-15406f9a2b49",
   "metadata": {},
   "outputs": [],
   "source": [
    "def build_port_weights(signal: pd.DataFrame, events_df: pd.DataFrame) -> pd.DataFrame:\n",
    "    long_portfolio =  signal.copy(deep=True)\n",
    "    short_portfolio = signal.copy(deep=True)\n",
    "    \n",
    "    long_portfolio.loc[:,:] = False\n",
    "    short_portfolio.loc[:,:] = False\n",
    "    signal.loc[:,:] = 1\n",
    "    \n",
    "    # STEP 1 get the list of securities in th df_events database\n",
    "    unique_securities = list(events_df['Security'].unique())\n",
    "    \n",
    "    # STEP 2: iterate over the list of securities to look at the individual trades\n",
    "    for security in unique_securities:\n",
    "        try:\n",
    "            security_trades = events_df[events_df['Security'] == security]\n",
    "        \n",
    "            # STEP 3: iterate over the trades and update the long/ short portfolio depending on trade direction\n",
    "            for row in security_trades.itertuples():\n",
    "                if row.Decision == 'BUY':\n",
    "                    long_portfolio[security].loc[row.Date:] = True\n",
    "                    short_portfolio[security].loc[row.Date:] = False\n",
    "                if row.Decision == 'SELL':\n",
    "                    long_portfolio[security].loc[row.Date:] = False\n",
    "                    short_portfolio[security].loc[row.Date:] = True\n",
    "                if row.Decision == 'HOLD':\n",
    "                    continue\n",
    "                if row.Decision == 'Missing':\n",
    "                    continue\n",
    "        except KeyError:\n",
    "            print(f\"Missing: {security}\")\n",
    "    \n",
    "        # STEP 4: create an equal weighted long and short leg\n",
    "    long_portfolio_leg = ebh.leg_portfolio(\n",
    "        signal=signal,\n",
    "        weighting_scheme=WeightingScheme.EQUAL,\n",
    "        assets_filter=long_portfolio,\n",
    "        long_leg=True\n",
    "    )\n",
    "    \n",
    "    short_portfolio_leg = ebh.leg_portfolio(\n",
    "        signal=signal,\n",
    "        weighting_scheme=WeightingScheme.EQUAL,\n",
    "        assets_filter=short_portfolio,\n",
    "        long_leg=False\n",
    "    )\n",
    "    \n",
    "    long_short_portfolio = long_portfolio_leg.add(\n",
    "        short_portfolio_leg,\n",
    "        fill_value=0.0,\n",
    "    )\n",
    "    \n",
    "    # STEP 4: return the long and short portfolios\n",
    "    return long_short_portfolio#long_portfolio_leg, short_portfolio_leg"
   ]
  },
  {
   "cell_type": "code",
   "execution_count": null,
   "id": "098e909b-f91b-4684-99cc-c535e8483ad2",
   "metadata": {},
   "outputs": [],
   "source": [
    "def event_backtest(df_events: pd.DataFrame, universe: UniverseFactory, signal: SignalFactory) -> pd.DataFrame:\n",
    "    \"\"\"Take a list of trades and create the weights in the portfolio\n",
    "    df_events: DataFrame with Date, Security, Decision (BUY/ SELL/ HOLD) and Confidence Columns\n",
    "    universe:  UniverseFactory object from Bloomberg Equity Signal Lab\n",
    "    signal:    SignalFactory object from Bloomberg Equity Signal Lab - this is usually price\n",
    "    \"\"\"\n",
    "    converted_df = convert_to_figi(df_events)\n",
    "    \n",
    "    signal.bind_universe(universe)\n",
    "    signal_df = signal.df()\n",
    "    return build_port_weights(signal_df,converted_df)"
   ]
  },
  {
   "cell_type": "code",
   "execution_count": null,
   "id": "23a029c7-d9c7-4c72-b7e8-1e9a07fad4c9",
   "metadata": {},
   "outputs": [],
   "source": [
    "lsp = event_backtest(df, universe, price) "
   ]
  },
  {
   "cell_type": "code",
   "execution_count": null,
   "id": "08dce4df-e56a-42ec-b02c-e12fa5986a1d",
   "metadata": {},
   "outputs": [],
   "source": [
    "price.bind_universe(universe)\n",
    "price_df = price.df()"
   ]
  },
  {
   "cell_type": "code",
   "execution_count": null,
   "id": "dcc8966c-69be-450a-b327-16bf3919aae5",
   "metadata": {},
   "outputs": [],
   "source": [
    "\n",
    "\n",
    "port_long_short = portfolio_construction.from_user(\n",
    "    compute_weights_fn=build_port_weights,\n",
    "    total_returns=total_return,\n",
    "    trading_calendar=trading_calendar,\n",
    "    implementation_lag=1,\n",
    "    rebalance_freq=\"D\",\n",
    "    #trading_dates=trading_dates,\n",
    "    events_df=df1,\n",
    "    signal=price_df,\n",
    ")"
   ]
  },
  {
   "cell_type": "code",
   "execution_count": null,
   "id": "d787f50c-ebbb-4f28-a7b9-32c668740b44",
   "metadata": {},
   "outputs": [],
   "source": [
    "def price_signal(signal:  DataItemFactory) -> DataItemFactory:\n",
    "    return signal\n",
    "\n",
    "prices_signal = SignalFactory.from_user(\n",
    "    user_func=price_signal,\n",
    "    start=start,\n",
    "    end=end,\n",
    "    label=\"market_cap\",\n",
    "    signal=total_return,\n",
    ")\n",
    "\n",
    "\n",
    "backtest = build_backtest(\n",
    "    universe=universe,                                  # Univ of choice from DataPack\n",
    "    benchmark_universe=benchmark,                       # Benchmark of choice from DataPack \n",
    "    start=start,                                        # Backtest start date\n",
    "    end=end,                                            # Backtest end date\n",
    "    namespace='events-bt',                 # The user S3 sandbox storage \n",
    "    signals=[prices_signal],                                 # My list of signals to use\n",
    "\n",
    "    portfolio_construction = port_long_short,\n",
    "\n",
    "    reports=[\n",
    "        \"PerformanceReport\",\n",
    "        \"QuantileAnalyticsReport\",\n",
    "        \"DescriptiveStatisticsReport\",\n",
    "    ],\n",
    "    analytics_data_config= analytics_data_config,\n",
    ")"
   ]
  },
  {
   "cell_type": "code",
   "execution_count": null,
   "id": "c0163076-3e09-44c2-a897-82ea2a342bf4",
   "metadata": {},
   "outputs": [],
   "source": [
    "backtest.signals"
   ]
  },
  {
   "cell_type": "code",
   "execution_count": null,
   "id": "1446becf-289b-4b7c-828a-798b5f0e83b5",
   "metadata": {},
   "outputs": [],
   "source": [
    "backtest_results = backtest.evaluate_graph()"
   ]
  },
  {
   "cell_type": "code",
   "execution_count": null,
   "id": "db5771f4-8719-4d00-834a-e7c895a5963b",
   "metadata": {},
   "outputs": [],
   "source": [
    "#backtest_results"
   ]
  },
  {
   "cell_type": "code",
   "execution_count": null,
   "id": "71a1aea7-8d3d-4db9-a001-89a0dc0e5be6",
   "metadata": {},
   "outputs": [],
   "source": [
    "backtest_results.plot_analytics()"
   ]
  },
  {
   "cell_type": "code",
   "execution_count": null,
   "id": "1910991c-7668-43e6-8007-25c95c99e2b7",
   "metadata": {},
   "outputs": [],
   "source": []
  },
  {
   "cell_type": "code",
   "execution_count": null,
   "id": "28f0dcf3-9b6e-4c3d-a149-3ae1f47fe5d8",
   "metadata": {},
   "outputs": [],
   "source": []
  },
  {
   "cell_type": "code",
   "execution_count": null,
   "id": "62bae64c-0043-4740-9735-1f8a3f4a6679",
   "metadata": {},
   "outputs": [],
   "source": []
  },
  {
   "cell_type": "code",
   "execution_count": null,
   "id": "d6a4a327-8cee-4f88-b050-3cac2f96f633",
   "metadata": {},
   "outputs": [],
   "source": []
  },
  {
   "cell_type": "code",
   "execution_count": null,
   "id": "6c80937d-d105-4e67-98cf-bbabb7712d87",
   "metadata": {},
   "outputs": [],
   "source": []
  },
  {
   "cell_type": "code",
   "execution_count": null,
   "id": "3407b3e3-be26-4a48-b69b-72a79c7c85e8",
   "metadata": {},
   "outputs": [],
   "source": []
  },
  {
   "cell_type": "code",
   "execution_count": null,
   "id": "33f510df-8b0c-4276-9f1c-05e28b0172a8",
   "metadata": {},
   "outputs": [],
   "source": []
  },
  {
   "cell_type": "code",
   "execution_count": null,
   "id": "d711af75-14bd-4cba-83a7-8576d3f4b92f",
   "metadata": {},
   "outputs": [],
   "source": []
  },
  {
   "cell_type": "code",
   "execution_count": 60,
   "id": "1142e36d-eacb-4242-b88b-94b003e2972f",
   "metadata": {},
   "outputs": [
    {
     "data": {
      "text/plain": [
       "<module 'event_study' from '/project/event_study.py'>"
      ]
     },
     "execution_count": 60,
     "metadata": {},
     "output_type": "execute_result"
    }
   ],
   "source": [
    "import event_study as es\n",
    "import importlib\n",
    "importlib.reload(es)"
   ]
  },
  {
   "cell_type": "code",
   "execution_count": 61,
   "id": "69ab914c-ffeb-46c3-8900-3ab43208947f",
   "metadata": {},
   "outputs": [
    {
     "name": "stderr",
     "output_type": "stream",
     "text": [
      "100%|██████████| 1/1 [00:05<00:00,  5.99s/it]\n"
     ]
    }
   ],
   "source": [
    "# Key backtest parameters\n",
    "start = \"2020-01-05\"\n",
    "end = \"2024-03-01\"\n",
    "universe_name = \"INDU Index\"\n",
    "\n",
    "\n",
    "backtest = es.EventBacktest(start,end,'INDU Index',data_pack_path)"
   ]
  },
  {
   "cell_type": "code",
   "execution_count": 62,
   "id": "5e51a370-8c25-4d57-b885-0663ecf52080",
   "metadata": {},
   "outputs": [],
   "source": [
    "df = pd.read_csv('test_analysis.csv')\n",
    "df = df[['Date','Security','Decision','Confidence']]\n",
    "df = df.head(1)\n"
   ]
  },
  {
   "cell_type": "code",
   "execution_count": 63,
   "id": "55d7b910-60d4-4680-951a-dcad1365a1aa",
   "metadata": {},
   "outputs": [
    {
     "data": {
      "text/html": [
       "<div>\n",
       "<style scoped>\n",
       "    .dataframe tbody tr th:only-of-type {\n",
       "        vertical-align: middle;\n",
       "    }\n",
       "\n",
       "    .dataframe tbody tr th {\n",
       "        vertical-align: top;\n",
       "    }\n",
       "\n",
       "    .dataframe thead th {\n",
       "        text-align: right;\n",
       "    }\n",
       "</style>\n",
       "<table border=\"1\" class=\"dataframe\">\n",
       "  <thead>\n",
       "    <tr style=\"text-align: right;\">\n",
       "      <th></th>\n",
       "      <th>Date</th>\n",
       "      <th>Security</th>\n",
       "      <th>Decision</th>\n",
       "      <th>Confidence</th>\n",
       "    </tr>\n",
       "  </thead>\n",
       "  <tbody>\n",
       "    <tr>\n",
       "      <th>0</th>\n",
       "      <td>2020-02-06</td>\n",
       "      <td>MMM UN Equity</td>\n",
       "      <td>BUY</td>\n",
       "      <td>70.0</td>\n",
       "    </tr>\n",
       "  </tbody>\n",
       "</table>\n",
       "</div>"
      ],
      "text/plain": [
       "         Date       Security Decision  Confidence\n",
       "0  2020-02-06  MMM UN Equity      BUY        70.0"
      ]
     },
     "execution_count": 63,
     "metadata": {},
     "output_type": "execute_result"
    }
   ],
   "source": [
    "#df['Decision'] = 'SELL'\n",
    "df"
   ]
  },
  {
   "cell_type": "code",
   "execution_count": 64,
   "id": "14497c36-84fa-4678-8bfc-347f88009c0a",
   "metadata": {},
   "outputs": [
    {
     "name": "stderr",
     "output_type": "stream",
     "text": [
      "100%|██████████| 117/117 [00:32<00:00,  3.63it/s]\n"
     ]
    },
    {
     "data": {
      "application/vnd.jupyter.widget-view+json": {
       "model_id": "a960f013040d48d0aa47e514ca0e76d8",
       "version_major": 2,
       "version_minor": 0
      },
      "text/plain": [
       "HBox(children=(VBox(children=(Image(value=b'GIF89a\\xd7\\x00\\x14\\x00\\xf4\\x00\\x00\\xff\\xff\\xff\\xf7\\xf7\\xf7\\xf3\\xf3…"
      ]
     },
     "metadata": {},
     "output_type": "display_data"
    },
    {
     "data": {
      "application/vnd.jupyter.widget-view+json": {
       "model_id": "7d6375051a804eed833f9210d1370348",
       "version_major": 2,
       "version_minor": 0
      },
      "text/plain": [
       "VBox(children=(HTML(value='<h2>Backtest Analytics Dashboard</h2>'), Label(value=\"Benchmark: IndexWeights['INDU…"
      ]
     },
     "metadata": {},
     "output_type": "display_data"
    }
   ],
   "source": [
    "bt = backtest.run(df,'test1')\n",
    "bt.plot_analytics()"
   ]
  },
  {
   "cell_type": "code",
   "execution_count": 65,
   "id": "ba69b5ac-a37f-4a99-91f9-91409151d2bc",
   "metadata": {},
   "outputs": [],
   "source": [
    "df_strategy, df_benchmark = backtest.get_return_data()"
   ]
  },
  {
   "cell_type": "code",
   "execution_count": 66,
   "id": "ccf7712f-9752-44c1-9c49-1052a71775ca",
   "metadata": {},
   "outputs": [
    {
     "data": {
      "text/html": [
       "<div>\n",
       "<style scoped>\n",
       "    .dataframe tbody tr th:only-of-type {\n",
       "        vertical-align: middle;\n",
       "    }\n",
       "\n",
       "    .dataframe tbody tr th {\n",
       "        vertical-align: top;\n",
       "    }\n",
       "\n",
       "    .dataframe thead th {\n",
       "        text-align: right;\n",
       "    }\n",
       "</style>\n",
       "<table border=\"1\" class=\"dataframe\">\n",
       "  <thead>\n",
       "    <tr style=\"text-align: right;\">\n",
       "      <th></th>\n",
       "      <th>Cum. Return (Gross)</th>\n",
       "      <th>Cum. Return (Net)</th>\n",
       "      <th>Cum. T-Cost</th>\n",
       "    </tr>\n",
       "    <tr>\n",
       "      <th>DATE</th>\n",
       "      <th></th>\n",
       "      <th></th>\n",
       "      <th></th>\n",
       "    </tr>\n",
       "  </thead>\n",
       "  <tbody>\n",
       "    <tr>\n",
       "      <th>2020-05-01</th>\n",
       "      <td>0.000000</td>\n",
       "      <td>0.000000</td>\n",
       "      <td>-0.0</td>\n",
       "    </tr>\n",
       "    <tr>\n",
       "      <th>2020-05-04</th>\n",
       "      <td>0.000000</td>\n",
       "      <td>0.000000</td>\n",
       "      <td>-0.0</td>\n",
       "    </tr>\n",
       "    <tr>\n",
       "      <th>2020-05-05</th>\n",
       "      <td>-0.006536</td>\n",
       "      <td>-0.006536</td>\n",
       "      <td>-0.0</td>\n",
       "    </tr>\n",
       "    <tr>\n",
       "      <th>2020-05-06</th>\n",
       "      <td>-0.014879</td>\n",
       "      <td>-0.014879</td>\n",
       "      <td>-0.0</td>\n",
       "    </tr>\n",
       "    <tr>\n",
       "      <th>2020-05-07</th>\n",
       "      <td>-0.018026</td>\n",
       "      <td>-0.018026</td>\n",
       "      <td>-0.0</td>\n",
       "    </tr>\n",
       "    <tr>\n",
       "      <th>...</th>\n",
       "      <td>...</td>\n",
       "      <td>...</td>\n",
       "      <td>...</td>\n",
       "    </tr>\n",
       "    <tr>\n",
       "      <th>2024-02-26</th>\n",
       "      <td>-0.179477</td>\n",
       "      <td>-0.179477</td>\n",
       "      <td>-0.0</td>\n",
       "    </tr>\n",
       "    <tr>\n",
       "      <th>2024-02-27</th>\n",
       "      <td>-0.174250</td>\n",
       "      <td>-0.174250</td>\n",
       "      <td>-0.0</td>\n",
       "    </tr>\n",
       "    <tr>\n",
       "      <th>2024-02-28</th>\n",
       "      <td>-0.183350</td>\n",
       "      <td>-0.183350</td>\n",
       "      <td>-0.0</td>\n",
       "    </tr>\n",
       "    <tr>\n",
       "      <th>2024-02-29</th>\n",
       "      <td>-0.176134</td>\n",
       "      <td>-0.176134</td>\n",
       "      <td>-0.0</td>\n",
       "    </tr>\n",
       "    <tr>\n",
       "      <th>2024-03-01</th>\n",
       "      <td>-0.178957</td>\n",
       "      <td>-0.178957</td>\n",
       "      <td>-0.0</td>\n",
       "    </tr>\n",
       "  </tbody>\n",
       "</table>\n",
       "<p>964 rows × 3 columns</p>\n",
       "</div>"
      ],
      "text/plain": [
       "            Cum. Return (Gross)  Cum. Return (Net)  Cum. T-Cost\n",
       "DATE                                                           \n",
       "2020-05-01             0.000000           0.000000         -0.0\n",
       "2020-05-04             0.000000           0.000000         -0.0\n",
       "2020-05-05            -0.006536          -0.006536         -0.0\n",
       "2020-05-06            -0.014879          -0.014879         -0.0\n",
       "2020-05-07            -0.018026          -0.018026         -0.0\n",
       "...                         ...                ...          ...\n",
       "2024-02-26            -0.179477          -0.179477         -0.0\n",
       "2024-02-27            -0.174250          -0.174250         -0.0\n",
       "2024-02-28            -0.183350          -0.183350         -0.0\n",
       "2024-02-29            -0.176134          -0.176134         -0.0\n",
       "2024-03-01            -0.178957          -0.178957         -0.0\n",
       "\n",
       "[964 rows x 3 columns]"
      ]
     },
     "execution_count": 66,
     "metadata": {},
     "output_type": "execute_result"
    }
   ],
   "source": [
    "df_strategy"
   ]
  },
  {
   "cell_type": "code",
   "execution_count": 28,
   "id": "dd7a0c80-663b-40e6-8ff9-ae632655fc7c",
   "metadata": {},
   "outputs": [
    {
     "data": {
      "text/html": [
       "<div>\n",
       "<style scoped>\n",
       "    .dataframe tbody tr th:only-of-type {\n",
       "        vertical-align: middle;\n",
       "    }\n",
       "\n",
       "    .dataframe tbody tr th {\n",
       "        vertical-align: top;\n",
       "    }\n",
       "\n",
       "    .dataframe thead th {\n",
       "        text-align: right;\n",
       "    }\n",
       "</style>\n",
       "<table border=\"1\" class=\"dataframe\">\n",
       "  <thead>\n",
       "    <tr style=\"text-align: right;\">\n",
       "      <th></th>\n",
       "      <th>Date</th>\n",
       "      <th>Security</th>\n",
       "      <th>Decision</th>\n",
       "      <th>Confidence</th>\n",
       "    </tr>\n",
       "  </thead>\n",
       "  <tbody>\n",
       "    <tr>\n",
       "      <th>0</th>\n",
       "      <td>2020-02-06</td>\n",
       "      <td>MMM UN Equity</td>\n",
       "      <td>SELL</td>\n",
       "      <td>70.0</td>\n",
       "    </tr>\n",
       "  </tbody>\n",
       "</table>\n",
       "</div>"
      ],
      "text/plain": [
       "         Date       Security Decision  Confidence\n",
       "0  2020-02-06  MMM UN Equity     SELL        70.0"
      ]
     },
     "execution_count": 28,
     "metadata": {},
     "output_type": "execute_result"
    }
   ],
   "source": [
    "df['Decision'] = 'SELL'\n",
    "df"
   ]
  },
  {
   "cell_type": "code",
   "execution_count": 29,
   "id": "d1e1eaef-e181-44a5-93d2-06527621bcea",
   "metadata": {},
   "outputs": [
    {
     "name": "stderr",
     "output_type": "stream",
     "text": [
      "\n",
      "  0%|          | 0/117 [00:00<?, ?it/s]\u001b[A\n",
      "  1%|          | 1/117 [00:09<18:11,  9.41s/it]\u001b[A\n",
      "  2%|▏         | 2/117 [00:19<19:20, 10.09s/it]\u001b[A\n",
      "  3%|▎         | 3/117 [00:20<10:35,  5.57s/it]\u001b[A\n",
      "  4%|▍         | 5/117 [00:20<04:38,  2.49s/it]\u001b[A\n",
      "  6%|▌         | 7/117 [00:20<02:34,  1.40s/it]\u001b[A\n",
      "  8%|▊         | 9/117 [00:20<01:35,  1.14it/s]\u001b[A\n",
      "  9%|▉         | 11/117 [00:20<01:02,  1.71it/s]\u001b[A\n",
      " 11%|█         | 13/117 [00:26<02:12,  1.27s/it]\u001b[A\n",
      " 26%|██▌       | 30/117 [00:29<00:37,  2.30it/s]\u001b[A\n",
      " 26%|██▋       | 31/117 [00:32<00:49,  1.72it/s]\u001b[A\n",
      " 27%|██▋       | 32/117 [00:32<00:46,  1.82it/s]\u001b[A\n",
      " 29%|██▉       | 34/117 [00:32<00:37,  2.20it/s]\u001b[A\n",
      " 38%|███▊      | 44/117 [00:33<00:14,  4.92it/s]\u001b[A\n",
      " 50%|████▉     | 58/117 [00:34<00:07,  7.52it/s]\u001b[A\n",
      " 63%|██████▎   | 74/117 [00:34<00:03, 12.45it/s]\u001b[A\n",
      " 83%|████████▎ | 97/117 [00:34<00:00, 22.88it/s]\u001b[A\n",
      " 90%|████████▉ | 105/117 [00:35<00:00, 19.07it/s]\u001b[A\n",
      "100%|██████████| 117/117 [00:36<00:00,  3.21it/s]\u001b[A\n"
     ]
    },
    {
     "data": {
      "application/vnd.jupyter.widget-view+json": {
       "model_id": "564fd6cccf7f4bb89a3b39268ee67888",
       "version_major": 2,
       "version_minor": 0
      },
      "text/plain": [
       "HBox(children=(VBox(children=(Image(value=b'GIF89a\\xd7\\x00\\x14\\x00\\xf4\\x00\\x00\\xff\\xff\\xff\\xf7\\xf7\\xf7\\xf3\\xf3…"
      ]
     },
     "metadata": {},
     "output_type": "display_data"
    },
    {
     "data": {
      "application/vnd.jupyter.widget-view+json": {
       "model_id": "dde03a652c324977a522869fe432d18c",
       "version_major": 2,
       "version_minor": 0
      },
      "text/plain": [
       "VBox(children=(HTML(value='<h2>Backtest Analytics Dashboard</h2>'), Label(value=\"Benchmark: IndexWeights['INDU…"
      ]
     },
     "metadata": {},
     "output_type": "display_data"
    }
   ],
   "source": [
    "bt = backtest.run(df,'test1')\n",
    "bt.plot_analytics()"
   ]
  },
  {
   "cell_type": "code",
   "execution_count": 34,
   "id": "12dabcfa-526a-4da4-870f-f112e9283c24",
   "metadata": {},
   "outputs": [
    {
     "data": {
      "text/plain": [
       "['(\\'PerformanceStatisticsByYear\\', \"IndexWeights[\\'INDU Index\\']\")',\n",
       " '(\\'PerformanceStatistics\\', \"IndexWeights[\\'INDU Index\\']\")',\n",
       " '(\\'MarketValue\\', \"IndexWeights[\\'INDU Index\\']\")',\n",
       " '(\\'Turnover\\', \"IndexWeights[\\'INDU Index\\']\")',\n",
       " '(\\'MaxDrawdown\\', \"IndexWeights[\\'INDU Index\\']\")',\n",
       " '(\\'SharpeRatio\\', \"IndexWeights[\\'INDU Index\\']\")',\n",
       " '(\\'Drawdown\\', \"IndexWeights[\\'INDU Index\\']\")',\n",
       " '(\\'Holdings\\', \"IndexWeights[\\'INDU Index\\']\")',\n",
       " '(\\'Volatility\\', \"IndexWeights[\\'INDU Index\\']\")',\n",
       " '(\\'AnnualizedReturn\\', \"IndexWeights[\\'INDU Index\\']\")',\n",
       " '(\\'CumulativeReturn\\', \"IndexWeights[\\'INDU Index\\']\")',\n",
       " '(\\'RollingVolatility\\', \"IndexWeights[\\'INDU Index\\']\")',\n",
       " '(\\'RollingSharpeRatio\\', \"IndexWeights[\\'INDU Index\\']\")',\n",
       " '(\\'Weights\\', \"IndexWeights[\\'INDU Index\\']\")',\n",
       " '(\\'TransactionCost\\', \"IndexWeights[\\'INDU Index\\']\")',\n",
       " '(\\'Returns\\', \"IndexWeights[\\'INDU Index\\']\")',\n",
       " '(\\'FactorWeights\\', \"IndexWeights[\\'INDU Index\\']\")',\n",
       " \"('ActivePerformanceStatisticsByYear', 'COMBINED')\",\n",
       " \"('ActivePerformanceStatistics', 'COMBINED')\",\n",
       " \"('ActiveMarketValue', 'COMBINED')\",\n",
       " \"('ActiveTurnover', 'COMBINED')\",\n",
       " \"('ActiveMaxDrawdown', 'COMBINED')\",\n",
       " \"('ActiveSharpeRatio', 'COMBINED')\",\n",
       " \"('ActiveDrawdown', 'COMBINED')\",\n",
       " \"('ActiveHoldings', 'COMBINED')\",\n",
       " \"('ActiveVolatility', 'COMBINED')\",\n",
       " \"('ActiveAnnualizedReturn', 'COMBINED')\",\n",
       " \"('ActiveCumulativeReturn', 'COMBINED')\",\n",
       " \"('ActiveRollingVolatility', 'COMBINED')\",\n",
       " \"('ActiveRollingSharpeRatio', 'COMBINED')\",\n",
       " \"('ActiveWeights', 'COMBINED')\",\n",
       " \"('ActiveTransactionCost', 'COMBINED')\",\n",
       " \"('ActiveReturns', 'COMBINED')\",\n",
       " \"('PerformanceStatisticsByYear', 'COMBINED')\",\n",
       " \"('PerformanceStatistics', 'COMBINED')\",\n",
       " \"('MarketValue', 'COMBINED')\",\n",
       " \"('Turnover', 'COMBINED')\",\n",
       " \"('MaxDrawdown', 'COMBINED')\",\n",
       " \"('SharpeRatio', 'COMBINED')\",\n",
       " \"('Drawdown', 'COMBINED')\",\n",
       " \"('Holdings', 'COMBINED')\",\n",
       " \"('Volatility', 'COMBINED')\",\n",
       " \"('AnnualizedReturn', 'COMBINED')\",\n",
       " \"('CumulativeReturn', 'COMBINED')\",\n",
       " \"('RollingVolatility', 'COMBINED')\",\n",
       " \"('RollingSharpeRatio', 'COMBINED')\",\n",
       " \"('Weights', 'COMBINED')\",\n",
       " \"('TransactionCost', 'COMBINED')\",\n",
       " \"('Returns', 'COMBINED')\",\n",
       " \"('ActivePerformanceStatisticsByYear', 'COMBINED-test1')\",\n",
       " \"('ActivePerformanceStatistics', 'COMBINED-test1')\",\n",
       " \"('ActiveMarketValue', 'COMBINED-test1')\",\n",
       " \"('ActiveTurnover', 'COMBINED-test1')\",\n",
       " \"('ActiveMaxDrawdown', 'COMBINED-test1')\",\n",
       " \"('ActiveSharpeRatio', 'COMBINED-test1')\",\n",
       " \"('ActiveDrawdown', 'COMBINED-test1')\",\n",
       " \"('ActiveHoldings', 'COMBINED-test1')\",\n",
       " \"('ActiveVolatility', 'COMBINED-test1')\",\n",
       " \"('ActiveAnnualizedReturn', 'COMBINED-test1')\",\n",
       " \"('ActiveCumulativeReturn', 'COMBINED-test1')\",\n",
       " \"('ActiveRollingVolatility', 'COMBINED-test1')\",\n",
       " \"('ActiveRollingSharpeRatio', 'COMBINED-test1')\",\n",
       " \"('ActiveWeights', 'COMBINED-test1')\",\n",
       " \"('ActiveTransactionCost', 'COMBINED-test1')\",\n",
       " \"('ActiveReturns', 'COMBINED-test1')\",\n",
       " \"('PerformanceStatisticsByYear', 'COMBINED-test1')\",\n",
       " \"('PerformanceStatistics', 'COMBINED-test1')\",\n",
       " \"('MarketValue', 'COMBINED-test1')\",\n",
       " \"('Turnover', 'COMBINED-test1')\",\n",
       " \"('MaxDrawdown', 'COMBINED-test1')\",\n",
       " \"('SharpeRatio', 'COMBINED-test1')\",\n",
       " \"('Drawdown', 'COMBINED-test1')\",\n",
       " \"('Holdings', 'COMBINED-test1')\",\n",
       " \"('Volatility', 'COMBINED-test1')\",\n",
       " \"('AnnualizedReturn', 'COMBINED-test1')\",\n",
       " \"('CumulativeReturn', 'COMBINED-test1')\",\n",
       " \"('RollingVolatility', 'COMBINED-test1')\",\n",
       " \"('RollingSharpeRatio', 'COMBINED-test1')\",\n",
       " \"('Weights', 'COMBINED-test1')\",\n",
       " \"('TransactionCost', 'COMBINED-test1')\",\n",
       " \"('Returns', 'COMBINED-test1')\",\n",
       " 'Returns',\n",
       " 'TransactionCost',\n",
       " 'Weights',\n",
       " 'RollingSharpeRatio',\n",
       " 'RollingVolatility',\n",
       " 'CumulativeReturn',\n",
       " 'AnnualizedReturn',\n",
       " 'Volatility',\n",
       " 'Holdings',\n",
       " 'Drawdown',\n",
       " 'SharpeRatio',\n",
       " 'MaxDrawdown',\n",
       " 'Turnover',\n",
       " 'MarketValue',\n",
       " 'PerformanceStatistics',\n",
       " 'PerformanceStatisticsByYear',\n",
       " 'PerformanceReport',\n",
       " \"('QuantileAnalytics', 'test1', 'RawFactor')\",\n",
       " 'QuantileAnalytics',\n",
       " 'QuantileAnalyticsReport',\n",
       " \"('DescriptiveStatistics', 'test1', 'RawFactor')\",\n",
       " 'DescriptiveStatistics',\n",
       " 'DescriptiveStatisticsReport',\n",
       " 'ResultContainer']"
      ]
     },
     "execution_count": 34,
     "metadata": {},
     "output_type": "execute_result"
    }
   ],
   "source": [
    "list(bt.analytics.keys())"
   ]
  },
  {
   "cell_type": "code",
   "execution_count": 59,
   "id": "dad33987-aac9-4991-bdac-b360897182b2",
   "metadata": {},
   "outputs": [],
   "source": [
    "# Return time series\n",
    "df_strategy_return = bt.analytics[\"CumulativeReturn\"].read()['gross']['COMBINED'].read()\n",
    "# Benchmark Return\n",
    "df_benchmark_return = bt.analytics[\"CumulativeReturn\"].read()['benchmark'][\"IndexWeights['INDU Index']\"].read()\n",
    "# Strategy YoY Performance\n",
    "df_strategy_performance = bt.analytics['PerformanceStatisticsByYear'].read()['gross']['COMBINED'].read()\n",
    "# Benchmark YoY Performance\n",
    "df_benchmark_performance = bt.analytics['PerformanceStatisticsByYear'].read()['benchmark'][\"IndexWeights['INDU Index']\"].read()\n",
    "# Rolling Sharpe Ratio -strategy\n",
    "df_rolling_sharpe_strategy = bt.analytics['RollingSharpeRatio'].read()['gross'][\"COMBINED\"].read()\n",
    "# Rolling Sharpe Ratio -benchmark\n",
    "df_rolling_sharpe_benchmark = bt.analytics['RollingSharpeRatio'].read()['benchmark'][\"IndexWeights['INDU Index']\"].read()\n"
   ]
  },
  {
   "cell_type": "code",
   "execution_count": 58,
   "id": "c40e60e1-b60a-4403-b56c-0dab0dfcdbcc",
   "metadata": {},
   "outputs": [
    {
     "data": {
      "text/html": [
       "<div>\n",
       "<style scoped>\n",
       "    .dataframe tbody tr th:only-of-type {\n",
       "        vertical-align: middle;\n",
       "    }\n",
       "\n",
       "    .dataframe tbody tr th {\n",
       "        vertical-align: top;\n",
       "    }\n",
       "\n",
       "    .dataframe thead th {\n",
       "        text-align: right;\n",
       "    }\n",
       "</style>\n",
       "<table border=\"1\" class=\"dataframe\">\n",
       "  <thead>\n",
       "    <tr style=\"text-align: right;\">\n",
       "      <th></th>\n",
       "      <th>Sharpe Ratio (Gross)</th>\n",
       "      <th>Sharpe Ratio (Net)</th>\n",
       "    </tr>\n",
       "    <tr>\n",
       "      <th>DATE</th>\n",
       "      <th></th>\n",
       "      <th></th>\n",
       "    </tr>\n",
       "  </thead>\n",
       "  <tbody>\n",
       "    <tr>\n",
       "      <th>2020-05-01</th>\n",
       "      <td>NaN</td>\n",
       "      <td>NaN</td>\n",
       "    </tr>\n",
       "    <tr>\n",
       "      <th>2020-05-04</th>\n",
       "      <td>NaN</td>\n",
       "      <td>NaN</td>\n",
       "    </tr>\n",
       "    <tr>\n",
       "      <th>2020-05-05</th>\n",
       "      <td>NaN</td>\n",
       "      <td>NaN</td>\n",
       "    </tr>\n",
       "    <tr>\n",
       "      <th>2020-05-06</th>\n",
       "      <td>NaN</td>\n",
       "      <td>NaN</td>\n",
       "    </tr>\n",
       "    <tr>\n",
       "      <th>2020-05-07</th>\n",
       "      <td>NaN</td>\n",
       "      <td>NaN</td>\n",
       "    </tr>\n",
       "    <tr>\n",
       "      <th>...</th>\n",
       "      <td>...</td>\n",
       "      <td>...</td>\n",
       "    </tr>\n",
       "    <tr>\n",
       "      <th>2024-02-26</th>\n",
       "      <td>1.787624</td>\n",
       "      <td>1.787624</td>\n",
       "    </tr>\n",
       "    <tr>\n",
       "      <th>2024-02-27</th>\n",
       "      <td>1.868415</td>\n",
       "      <td>1.868415</td>\n",
       "    </tr>\n",
       "    <tr>\n",
       "      <th>2024-02-28</th>\n",
       "      <td>1.846398</td>\n",
       "      <td>1.846398</td>\n",
       "    </tr>\n",
       "    <tr>\n",
       "      <th>2024-02-29</th>\n",
       "      <td>1.930485</td>\n",
       "      <td>1.930485</td>\n",
       "    </tr>\n",
       "    <tr>\n",
       "      <th>2024-03-01</th>\n",
       "      <td>1.946592</td>\n",
       "      <td>1.946592</td>\n",
       "    </tr>\n",
       "  </tbody>\n",
       "</table>\n",
       "<p>964 rows × 2 columns</p>\n",
       "</div>"
      ],
      "text/plain": [
       "            Sharpe Ratio (Gross)  Sharpe Ratio (Net)\n",
       "DATE                                                \n",
       "2020-05-01                   NaN                 NaN\n",
       "2020-05-04                   NaN                 NaN\n",
       "2020-05-05                   NaN                 NaN\n",
       "2020-05-06                   NaN                 NaN\n",
       "2020-05-07                   NaN                 NaN\n",
       "...                          ...                 ...\n",
       "2024-02-26              1.787624            1.787624\n",
       "2024-02-27              1.868415            1.868415\n",
       "2024-02-28              1.846398            1.846398\n",
       "2024-02-29              1.930485            1.930485\n",
       "2024-03-01              1.946592            1.946592\n",
       "\n",
       "[964 rows x 2 columns]"
      ]
     },
     "execution_count": 58,
     "metadata": {},
     "output_type": "execute_result"
    }
   ],
   "source": [
    "bt.analytics['RollingSharpeRatio'].read()['benchmark'][\"IndexWeights['INDU Index']\"].read()"
   ]
  },
  {
   "cell_type": "code",
   "execution_count": null,
   "id": "d78a3336-ca80-439d-9ce4-b504c3927c89",
   "metadata": {},
   "outputs": [],
   "source": []
  },
  {
   "cell_type": "code",
   "execution_count": null,
   "id": "706b1696-5465-4e36-a13d-96184b4284f9",
   "metadata": {},
   "outputs": [],
   "source": []
  }
 ],
 "metadata": {
  "kernelspec": {
   "display_name": "Bloomberg Lab Python 3",
   "language": "python",
   "name": "user-python"
  },
  "language_info": {
   "codemirror_mode": {
    "name": "ipython",
    "version": 3
   },
   "file_extension": ".py",
   "mimetype": "text/x-python",
   "name": "python",
   "nbconvert_exporter": "python",
   "pygments_lexer": "ipython3",
   "version": "3.9.12"
  }
 },
 "nbformat": 4,
 "nbformat_minor": 5
}
