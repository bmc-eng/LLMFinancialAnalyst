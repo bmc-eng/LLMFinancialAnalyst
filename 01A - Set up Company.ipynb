{
 "cells": [
  {
   "cell_type": "markdown",
   "id": "d0e66cc0-232a-49a9-a580-cdbf63e39eb1",
   "metadata": {},
   "source": [
    "# Get Data and Set up company\n",
    "\n",
    "Need to ensure that this is point-in-time. Data structure of the company object. Should have all historical data and ability to generate prompts. \n",
    "\n",
    "- Company Name\n",
    "- Financial statements (IS/ BS)\n",
    "- Time series\n",
    "- Prompt generation tools\n",
    "- Recommendations"
   ]
  },
  {
   "cell_type": "code",
   "execution_count": null,
   "id": "bf9d1ea1-89f2-471e-a14b-9dec1290b71c",
   "metadata": {},
   "outputs": [],
   "source": []
  }
 ],
 "metadata": {
  "kernelspec": {
   "display_name": "BQuant Python 3",
   "language": "python",
   "name": "remote-jupyterpython"
  },
  "language_info": {
   "codemirror_mode": {
    "name": "ipython",
    "version": 3
   },
   "file_extension": ".py",
   "mimetype": "text/x-python",
   "name": "python",
   "nbconvert_exporter": "python",
   "pygments_lexer": "ipython3",
   "version": "3.11.8"
  }
 },
 "nbformat": 4,
 "nbformat_minor": 5
}
