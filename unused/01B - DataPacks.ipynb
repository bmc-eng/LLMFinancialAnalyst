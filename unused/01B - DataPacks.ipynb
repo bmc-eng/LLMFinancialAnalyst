{
 "cells": [
  {
   "cell_type": "markdown",
   "id": "662554da-f70e-4811-b073-2f1ceb357cc8",
   "metadata": {},
   "source": [
    "# Create the DataPacks\n",
    "Use the built-in Data Workbench functionality in Bloomberg Lab to retrieve the datasets needed to backtest the different strategies and construct the portfolios in Signal Lab. The datasets requested are only those needed for this purpose. Financial Statement datasets are retrieved separately to this. Datasets added into the datapack are:\n",
    "\n",
    "- Index membership and weights\n",
    "- Trading Calendars\n",
    "- Current market cap\n",
    "- Price\n",
    "- Total Returns\n",
    "- Beta\n",
    "- BICS sector\n",
    "- Analyst recommendations for the base study"
   ]
  },
  {
   "cell_type": "code",
   "execution_count": 1,
   "id": "f9f5da7f-99a3-486e-8081-9cfb54b12fb6",
   "metadata": {},
   "outputs": [
    {
     "name": "stdout",
     "output_type": "stream",
     "text": [
      "Running: micromamba install bloomberg.bquant.signal_lab=1.5.2 --yes --log-level=error\n",
      "\n",
      "  Package                                                   Version  Build                   Channel          Size\n",
      "────────────────────────────────────────────────────────────────────────────────────────────────────────────────────\n",
      "  Install:\n",
      "────────────────────────────────────────────────────────────────────────────────────────────────────────────────────\n",
      "\n",
      "  \u001b[32m+ icu                                               \u001b[0m         75.1  he02047a_0              conda-forge      12MB\n",
      "  \u001b[32m+ hmmlearn                                          \u001b[0m        0.3.3  py39hf88036b_0          conda-forge     177kB\n",
      "  \u001b[32m+ lz4                                               \u001b[0m        4.3.3  py39hd7df8f7_1          conda-forge      37kB\n",
      "  \u001b[32m+ fontconfig                                        \u001b[0m       2.15.0  h7e30c49_1              conda-forge     266kB\n",
      "  \u001b[32m+ pixman                                            \u001b[0m       0.44.2  h29eaf8c_0              conda-forge     381kB\n",
      "  \u001b[32m+ xorg-libice                                       \u001b[0m        1.1.2  hb9d3cd8_0              conda-forge      59kB\n",
      "  \u001b[32m+ libcups                                           \u001b[0m        2.3.3  h4637d8d_4              conda-forge       5MB\n",
      "  \u001b[32m+ wayland                                           \u001b[0m       1.23.1  h3e06ad9_0              conda-forge     322kB\n",
      "  \u001b[32m+ xorg-libx11                                       \u001b[0m       1.8.12  h4f16b4b_0              conda-forge     836kB\n",
      "  \u001b[32m+ libglib                                           \u001b[0m       2.84.1  h2ff4ddf_0              conda-forge       4MB\n",
      "  \u001b[32m+ cvxpy-base                                        \u001b[0m        1.6.5  py39h3b40f6f_0          conda-forge       1MB\n",
      "  \u001b[32m+ hicolor-icon-theme                                \u001b[0m         0.17  ha770c72_2              conda-forge      14kB\n",
      "  \u001b[32m+ libglvnd                                          \u001b[0m        1.7.0  ha4b6fd6_2              conda-forge     132kB\n",
      "  \u001b[32m+ double-conversion                                 \u001b[0m        3.3.1  h5888daf_0              conda-forge      70kB\n",
      "  \u001b[32m+ xcb-util                                          \u001b[0m        0.4.1  hb711507_2              conda-forge      20kB\n",
      "  \u001b[32m+ xcb-util-keysyms                                  \u001b[0m        0.4.1  hb711507_0              conda-forge      14kB\n",
      "  \u001b[32m+ xcb-util-renderutil                               \u001b[0m       0.3.10  hb711507_0              conda-forge      17kB\n",
      "  \u001b[32m+ xcb-util-wm                                       \u001b[0m        0.4.2  hb711507_0              conda-forge      52kB\n",
      "  \u001b[32m+ libpciaccess                                      \u001b[0m         0.18  hd590300_0              conda-forge      28kB\n",
      "  \u001b[32m+ mysql-common                                      \u001b[0m        9.2.0  h266115a_0              conda-forge     653kB\n",
      "  \u001b[32m+ graphite2                                         \u001b[0m       1.3.13  h59595ed_1003           conda-forge      97kB\n",
      "  \u001b[32m+ epoxy                                             \u001b[0m       1.5.10  h166bdaf_1              conda-forge       1MB\n",
      "  \u001b[32m+ clarabel                                          \u001b[0m       0.10.0  py39hc225815_0          conda-forge     862kB\n",
      "  \u001b[32m+ scs                                               \u001b[0m  3.2.7.post2  default_py39h8e67e81_0  conda-forge      80kB\n",
      "  \u001b[32m+ expat                                             \u001b[0m        2.7.0  h5888daf_0              conda-forge     140kB\n",
      "  \u001b[32m+ alsa-lib                                          \u001b[0m       1.2.14  hb9d3cd8_0              conda-forge     567kB\n",
      "  \u001b[32m+ libqdldl                                          \u001b[0m        0.1.7  hcb278e6_0              conda-forge      18kB\n",
      "  \u001b[32m+ libntlm                                           \u001b[0m          1.8  hb9d3cd8_0              conda-forge      33kB\n",
      "  \u001b[32m+ fribidi                                           \u001b[0m       1.0.10  h36c2ea0_0              conda-forge     114kB\n",
      "  \u001b[32m+ xorg-libsm                                        \u001b[0m        1.2.6  he73a12e_0              conda-forge      28kB\n",
      "  \u001b[32m+ xkeyboard-config                                  \u001b[0m         2.43  hb9d3cd8_0              conda-forge     389kB\n",
      "  \u001b[32m+ xorg-libxfixes                                    \u001b[0m        6.0.1  hb9d3cd8_0              conda-forge      20kB\n",
      "  \u001b[32m+ xorg-libxrender                                   \u001b[0m       0.9.12  hb9d3cd8_0              conda-forge      33kB\n",
      "  \u001b[32m+ xorg-libxext                                      \u001b[0m        1.3.6  hb9d3cd8_0              conda-forge      50kB\n",
      "  \u001b[32m+ atk-1.0                                           \u001b[0m       2.38.0  h04ea711_2              conda-forge     356kB\n",
      "  \u001b[32m+ glib-tools                                        \u001b[0m       2.84.1  h4833e2c_0              conda-forge     116kB\n",
      "  \u001b[32m+ gts                                               \u001b[0m        0.7.6  h977cf35_4              conda-forge     318kB\n",
      "  \u001b[32m+ gdk-pixbuf                                        \u001b[0m      2.42.12  hb9ae30d_0              conda-forge     528kB\n",
      "  \u001b[32m+ libglx                                            \u001b[0m        1.7.0  ha4b6fd6_2              conda-forge      76kB\n",
      "  \u001b[32m+ libopengl                                         \u001b[0m        1.7.0  ha4b6fd6_2              conda-forge      51kB\n",
      "  \u001b[32m+ libegl                                            \u001b[0m        1.7.0  ha4b6fd6_2              conda-forge      45kB\n",
      "  \u001b[32m+ xcb-util-image                                    \u001b[0m        0.4.0  hb711507_2              conda-forge      25kB\n",
      "  \u001b[32m+ libdrm                                            \u001b[0m      2.4.124  hb9d3cd8_0              conda-forge     243kB\n",
      "  \u001b[32m+ mysql-libs                                        \u001b[0m        9.2.0  he0572af_0              conda-forge       1MB\n",
      "  \u001b[32m+ dbus                                              \u001b[0m       1.13.6  h5008d03_3              conda-forge     619kB\n",
      "  \u001b[32m+ libosqp                                           \u001b[0m        0.6.3  h5888daf_1              conda-forge     433kB\n",
      "  \u001b[32m+ qdldl-python                                      \u001b[0m  0.1.7.post5  np20py39he7af290_1      conda-forge     135kB\n",
      "  \u001b[32m+ cyrus-sasl                                        \u001b[0m       2.1.27  h54b06d7_7              conda-forge     220kB\n",
      "  \u001b[32m+ libllvm20                                         \u001b[0m       20.1.3  he9d0ab4_0              conda-forge      43MB\n",
      "  \u001b[32m+ libxslt                                           \u001b[0m       1.1.39  h76b75d6_0              conda-forge     254kB\n",
      "  \u001b[32m+ libxkbcommon                                      \u001b[0m        1.8.1  hc4a0caf_0              conda-forge     645kB\n",
      "  \u001b[32m+ xorg-libxcomposite                                \u001b[0m        0.4.6  hb9d3cd8_2              conda-forge      14kB\n",
      "  \u001b[32m+ xorg-libxcursor                                   \u001b[0m        1.2.3  hb9d3cd8_0              conda-forge      33kB\n",
      "  \u001b[32m+ xorg-libxinerama                                  \u001b[0m        1.1.5  h5888daf_1              conda-forge      14kB\n",
      "  \u001b[32m+ xorg-libxxf86vm                                   \u001b[0m        1.1.6  hb9d3cd8_0              conda-forge      18kB\n",
      "  \u001b[32m+ xorg-libxrandr                                    \u001b[0m        1.5.4  hb9d3cd8_0              conda-forge      30kB\n",
      "  \u001b[32m+ xorg-libxi                                        \u001b[0m        1.8.2  hb9d3cd8_0              conda-forge      47kB\n",
      "  \u001b[32m+ xorg-libxdamage                                   \u001b[0m        1.1.6  hb9d3cd8_0              conda-forge      13kB\n",
      "  \u001b[32m+ libgl                                             \u001b[0m        1.7.0  ha4b6fd6_2              conda-forge     135kB\n",
      "  \u001b[32m+ xcb-util-cursor                                   \u001b[0m        0.1.5  hb9d3cd8_0              conda-forge      20kB\n",
      "  \u001b[32m+ osqp                                              \u001b[0m  0.6.7.post3  py39h3b40f6f_1          conda-forge     116kB\n",
      "  \u001b[32m+ openldap                                          \u001b[0m        2.6.9  he970967_0              conda-forge     784kB\n",
      "  \u001b[32m+ libclang-cpp20.1                                  \u001b[0m       20.1.3  default_h1df26ce_0      conda-forge      21MB\n",
      "  \u001b[32m+ libclang13                                        \u001b[0m       20.1.3  default_he06ed0a_0      conda-forge      12MB\n",
      "  \u001b[32m+ xorg-libxtst                                      \u001b[0m        1.2.5  hb9d3cd8_3              conda-forge      33kB\n",
      "  \u001b[32m+ cvxpy                                             \u001b[0m        1.6.5  py39hf3d152e_0          conda-forge     143kB\n",
      "  \u001b[32m+ libpq                                             \u001b[0m         17.4  h27ae623_1              conda-forge       3MB\n",
      "  \u001b[32m+ at-spi2-core                                      \u001b[0m       2.40.3  h0630a04_0              conda-forge     658kB\n",
      "  \u001b[32m+ at-spi2-atk                                       \u001b[0m       2.38.0  h0630a04_3              conda-forge     340kB\n",
      "  \u001b[32m+ bloomberg.bquant._internal.serializer_utils       \u001b[0m        0.3.0  g13dcf27                internal          7kB\n",
      "  \u001b[32m+ bloomberg.bquant.cvxpy_optimizer                  \u001b[0m      0.3.0a0  gdabbded                internal         19kB\n",
      "  \u001b[32m+ bloomberg.bquant.signal_lab.data_workbench        \u001b[0m        2.8.0  g79e2222                internal         37kB\n",
      "  \u001b[32m+ bokeh                                             \u001b[0m        2.4.3  pyhd8ed1ab_3            conda-forge      14MB\n",
      "  \u001b[32m+ importlib_metadata                                \u001b[0m        8.6.1  hd8ed1ab_0              conda-forge      10kB\n",
      "  \u001b[32m+ locket                                            \u001b[0m        1.0.0  pyhd8ed1ab_0            conda-forge       8kB\n",
      "  \u001b[32m+ multimethod                                       \u001b[0m         1.12  pyhd8ed1ab_1            conda-forge      16kB\n",
      "  \u001b[32m+ font-ttf-dejavu-sans-mono                         \u001b[0m         2.37  hab24e00_0              conda-forge     397kB\n",
      "  \u001b[32m+ typeguard                                         \u001b[0m        4.4.2  pyhd8ed1ab_0            conda-forge      35kB\n",
      "  \u001b[32m+ toolz                                             \u001b[0m        1.0.0  pyhd8ed1ab_1            conda-forge      52kB\n",
      "  \u001b[32m+ korean_lunar_calendar                             \u001b[0m        0.3.1  pyhd8ed1ab_1            conda-forge      14kB\n",
      "  \u001b[32m+ pyluach                                           \u001b[0m        2.2.0  pyhd8ed1ab_1            conda-forge      28kB\n",
      "  \u001b[32m+ sortedcontainers                                  \u001b[0m        2.4.0  pyhd8ed1ab_1            conda-forge      29kB\n",
      "  \u001b[32m+ tblib                                             \u001b[0m        3.1.0  pyhd8ed1ab_0            conda-forge      18kB\n",
      "  \u001b[32m+ zict                                              \u001b[0m        3.0.0  pyhd8ed1ab_1            conda-forge      36kB\n",
      "  \u001b[32m+ font-ttf-inconsolata                              \u001b[0m        3.000  h77eed37_0              conda-forge      97kB\n",
      "  \u001b[32m+ font-ttf-source-code-pro                          \u001b[0m        2.038  h77eed37_0              conda-forge     701kB\n",
      "  \u001b[32m+ font-ttf-ubuntu                                   \u001b[0m         0.83  h77eed37_3              conda-forge       2MB\n",
      "  \u001b[32m+ mypy_extensions                                   \u001b[0m        1.0.0  pyha770c72_1            conda-forge      11kB\n",
      "  \u001b[32m+ xmltodict                                         \u001b[0m       0.13.0  pyhd8ed1ab_0            conda-forge      14kB\n",
      "  \u001b[32m+ partd                                             \u001b[0m        1.4.2  pyhd8ed1ab_0            conda-forge      21kB\n",
      "  \u001b[32m+ exchange-calendars                                \u001b[0m        4.5.5  pyhd8ed1ab_0            conda-forge     119kB\n",
      "  \u001b[32m+ fonts-conda-forge                                 \u001b[0m            1  0                       conda-forge       4kB\n",
      "  \u001b[32m+ typing_inspect                                    \u001b[0m        0.9.0  pyhd8ed1ab_1            conda-forge      15kB\n",
      "  \u001b[32m+ dask-core                                         \u001b[0m    2023.12.1  pyhd8ed1ab_0            conda-forge     867kB\n",
      "  \u001b[32m+ pandas_market_calendars                           \u001b[0m        4.4.0  pyha770c72_0            conda-forge      77kB\n",
      "  \u001b[32m+ fonts-conda-ecosystem                             \u001b[0m            1  0                       conda-forge       4kB\n",
      "  \u001b[32m+ pandera-base                                      \u001b[0m       0.18.0  pyhd8ed1ab_0            conda-forge     128kB\n",
      "  \u001b[32m+ pandera                                           \u001b[0m       0.18.0  hd8ed1ab_0              conda-forge       7kB\n",
      "  \u001b[32m+ cytoolz                                           \u001b[0m        1.0.1  py39h8cd3c5a_0          conda-forge     369kB\n",
      "  \u001b[32m+ cairo                                             \u001b[0m       1.18.4  h3394656_0              conda-forge     978kB\n",
      "  \u001b[32m+ libgd                                             \u001b[0m        2.3.3  h6f5c62b_11             conda-forge     177kB\n",
      "  \u001b[32m+ harfbuzz                                          \u001b[0m       11.1.0  h3beb420_0              conda-forge       2MB\n",
      "  \u001b[32m+ qt6-main                                          \u001b[0m        6.9.0  h6441bc3_1              conda-forge      52MB\n",
      "  \u001b[32m+ pango                                             \u001b[0m       1.56.3  h9ac818e_1              conda-forge     453kB\n",
      "  \u001b[32m+ pyside6                                           \u001b[0m        6.9.0  py39h0383914_0          conda-forge      10MB\n",
      "  \u001b[32m+ librsvg                                           \u001b[0m       2.58.4  he92a37e_3              conda-forge       7MB\n",
      "  \u001b[32m+ gtk3                                              \u001b[0m      3.24.43  h0c6a113_5              conda-forge       6MB\n",
      "  \u001b[32m+ matplotlib                                        \u001b[0m        3.9.4  py39hf3d152e_0          conda-forge      17kB\n",
      "  \u001b[32m+ bqpopt                                            \u001b[0m    0.149.0a0  gaced3b6                internal         51kB\n",
      "  \u001b[32m+ bloomberg.bquant.signal_lab.signal                \u001b[0m       0.24.0  g70751c9                internal         52kB\n",
      "  \u001b[32m+ distributed                                       \u001b[0m    2023.12.1  pyhd8ed1ab_0            conda-forge     788kB\n",
      "  \u001b[32m+ adwaita-icon-theme                                \u001b[0m         48.0  unix_0                  conda-forge     610kB\n",
      "  \u001b[32m+ dask                                              \u001b[0m    2023.12.1  pyhd8ed1ab_0            conda-forge       7kB\n",
      "  \u001b[32m+ graphviz                                          \u001b[0m       12.2.1  h5ae0cbf_1              conda-forge       2MB\n",
      "  \u001b[32m+ python-graphviz                                   \u001b[0m       0.20.3  pyh91182bf_2            conda-forge      38kB\n",
      "  \u001b[32m+ bloomberg.bquant.compute_graph                    \u001b[0m        0.3.0  g3c99d22                internal         26kB\n",
      "  \u001b[32m+ bloomberg.bquant.signal_lab.portfolio_construction\u001b[0m        1.2.0  g5510e59                internal         39kB\n",
      "  \u001b[32m+ bqanalytics                                       \u001b[0m       1.10.0  g7facea6                internal        106kB\n",
      "  \u001b[32m+ bloomberg.bquant.signal_lab.analytics_dashboard   \u001b[0m       0.35.0  g325ab67                internal         54kB\n",
      "  \u001b[32m+ bloomberg.bquant.signal_lab.workflow              \u001b[0m        2.6.0  g3821cd8                internal         58kB\n",
      "  \u001b[32m+ bloomberg.bquant.signal_lab                       \u001b[0m        1.5.2  g2e817a3                internal         10kB\n",
      "\n",
      "  Remove:\n",
      "────────────────────────────────────────────────────────────────────────────────────────────────────────────────────\n",
      "\n",
      "  \u001b[31m- langchain-huggingface                             \u001b[0m        0.0.3  pyhd8ed1ab_0            conda-forge      20kB\n",
      "  \u001b[31m- text-generation                                   \u001b[0m        0.7.0  pyhd8ed1ab_1            conda-forge      23kB\n",
      "\n",
      "  Change:\n",
      "────────────────────────────────────────────────────────────────────────────────────────────────────────────────────\n",
      "\n",
      "  \u001b[31m- libxml2                                           \u001b[0m       2.13.7  h81593ed_1              conda-forge     691kB\n",
      "  \u001b[32m+ libxml2                                           \u001b[0m       2.13.7  h4bc477f_1              conda-forge     692kB\n",
      "\n",
      "  Downgrade:\n",
      "────────────────────────────────────────────────────────────────────────────────────────────────────────────────────\n",
      "\n",
      "  \u001b[31m- polars                                            \u001b[0m       1.27.1  py39hdc04786_1          conda-forge      27MB\n",
      "  \u001b[32m+ polars                                            \u001b[0m      0.20.31  py39h00d955e_1          conda-forge      22MB\n",
      "  \u001b[31m- pydantic                                          \u001b[0m       2.11.3  pyh3cfb1c2_0            conda-forge     307kB\n",
      "  \u001b[32m+ pydantic                                          \u001b[0m       1.10.2  py39hb9d737c_1          conda-forge       3MB\n",
      "  \u001b[31m- bqlogger                                          \u001b[0m        1.2.0  g07a1e71                internal         14kB\n",
      "  \u001b[32m+ bqlogger                                          \u001b[0m     0.39.0a0  ga88517e                internal         14kB\n",
      "\n",
      "  Summary:\n",
      "\n",
      "  Install: 121 packages\n",
      "  Remove: 2 packages\n",
      "  Change: 1 packages\n",
      "  Downgrade: 3 packages\n",
      "\n",
      "  Total download: 241MB\n",
      "\n",
      "Note: Packages not from Bloomberg channels are not vetted by Bloomberg.\n",
      "\u001b[93mPlease restart the Jupyter kernel if you run into any issues after installing or updating packages via %package.\u001b[0m\n",
      "\n"
     ]
    }
   ],
   "source": [
    "# Install signal_lab if it isn't already loaded\n",
    "%package install bloomberg.bquant.signal_lab=1.5.2"
   ]
  },
  {
   "cell_type": "code",
   "execution_count": 1,
   "id": "5f6e4897-2504-4732-8df7-43c46c9993b9",
   "metadata": {},
   "outputs": [],
   "source": [
    "import os\n",
    "import pandas as pd\n",
    "import s3fs\n",
    "import bql\n",
    "\n",
    "from bloomberg.bquant.signal_lab.data_workbench import (\n",
    "    create_data_pack,\n",
    "    load_data_pack,\n",
    "    DataPack,\n",
    "    DataPackConfig,\n",
    "    StorageType,\n",
    "    BQLIndexUniverse,\n",
    "    BQLIndexWeight,\n",
    "    BQLData,\n",
    "    ListUniverse,\n",
    "    TradingCalendarProxy,\n",
    "    FetchMode,\n",
    "    FetchErrorHandling\n",
    ")\n",
    "\n",
    "from bloomberg.bquant.signal_lab.workflow.utils import get_sandbox_path"
   ]
  },
  {
   "cell_type": "code",
   "execution_count": 2,
   "id": "e3ec9455-bcf9-4b4a-8f6d-ddeb5f514f9b",
   "metadata": {},
   "outputs": [],
   "source": [
    "# Create the BQL object to request the data\n",
    "bq = bql.Service()"
   ]
  },
  {
   "cell_type": "code",
   "execution_count": 3,
   "id": "0ccbf66f-9ed4-42bf-9f62-147c04edf7b6",
   "metadata": {},
   "outputs": [],
   "source": [
    "datapack_path = f\"{get_sandbox_path()}/tmp/fs/datapack\""
   ]
  },
  {
   "cell_type": "markdown",
   "id": "a4edc458-625d-4b41-8a84-5b54a9e38d2e",
   "metadata": {},
   "source": [
    "## Define the universe"
   ]
  },
  {
   "cell_type": "code",
   "execution_count": 4,
   "id": "95ef4512-f707-4530-9003-c05873809c39",
   "metadata": {},
   "outputs": [],
   "source": [
    "index_name = 'INDU Index'\n",
    "data_pack_config = DataPackConfig(pd.Timestamp(\"2019-03-31\"),pd.Timestamp(\"2025-03-31\"))\n",
    "\n",
    "universe_definitions = {\n",
    "    index_name: BQLIndexUniverse(index_name)\n",
    "}"
   ]
  },
  {
   "cell_type": "markdown",
   "id": "d20f30a7-c184-4e1a-b4c2-ddcac74e3e27",
   "metadata": {},
   "source": [
    "### Define the Data items"
   ]
  },
  {
   "cell_type": "code",
   "execution_count": 5,
   "id": "0f14163a-3e59-42b7-9232-56dfd4489df9",
   "metadata": {},
   "outputs": [],
   "source": [
    "data_item_definitions = {\n",
    "    \"index_weight\": BQLIndexWeight(),\n",
    "    \"trading_calendar\": TradingCalendarProxy(),\n",
    "\n",
    "    \"analyst_rating\": BQLData(bq.data.best_analyst_rating()),\n",
    "    \"target_price\": BQLData(bq.data.best_target_price()),\n",
    "\n",
    "    \"cur_mkt_cap\": BQLData(bq.data.cur_mkt_cap()),\n",
    "    \"day_to_day_tot_return_gross_dvds\": BQLData(bq.data.day_to_day_tot_return_gross_dvds()),\n",
    "    \"beta\": BQLData(bq.data.beta(), rolling_date=True, freq=\"w\"),\n",
    "    \"px_last\": BQLData(bq.data.px_last()),\n",
    "\n",
    "    'bics_level_1': BQLData(bq.data.classification_name(\"bics\", \"1\"), rolling_date=True),\n",
    "    'bics_level_2': BQLData(bq.data.classification_name(\"bics\", \"2\"), rolling_date=True),\n",
    "    'bics_level_3': BQLData(bq.data.classification_name(\"bics\", \"3\"), rolling_date=True),\n",
    "    'bics_level_4': BQLData(bq.data.classification_name(\"bics\", \"4\"), rolling_date=True),\n",
    "}"
   ]
  },
  {
   "cell_type": "markdown",
   "id": "e411cde9-63ed-441f-898b-73d06decabc2",
   "metadata": {},
   "source": [
    "### Create the DataPack"
   ]
  },
  {
   "cell_type": "code",
   "execution_count": 6,
   "id": "185c13f4-0f52-4516-9bef-bde2a97c2d77",
   "metadata": {},
   "outputs": [],
   "source": [
    "data_pack = create_data_pack(\n",
    "    data_pack_config = data_pack_config,\n",
    "    universe_definitions=universe_definitions,\n",
    "    data_item_definitions=data_item_definitions,\n",
    "    storage_type=StorageType.PARQUET,\n",
    "    storage_path=datapack_path,\n",
    "    overwrite_existing_data_pack=True\n",
    ")"
   ]
  },
  {
   "cell_type": "code",
   "execution_count": 7,
   "id": "f93a5e2d-709e-4999-bf38-a29ad6e2e495",
   "metadata": {},
   "outputs": [
    {
     "data": {
      "text/html": [
       "<div>\n",
       "<style scoped>\n",
       "    .dataframe tbody tr th:only-of-type {\n",
       "        vertical-align: middle;\n",
       "    }\n",
       "\n",
       "    .dataframe tbody tr th {\n",
       "        vertical-align: top;\n",
       "    }\n",
       "\n",
       "    .dataframe thead th {\n",
       "        text-align: right;\n",
       "    }\n",
       "</style>\n",
       "<table border=\"1\" class=\"dataframe\">\n",
       "  <thead>\n",
       "    <tr style=\"text-align: right;\">\n",
       "      <th></th>\n",
       "      <th>ID</th>\n",
       "      <th>TYPE</th>\n",
       "      <th>IS_LOADED</th>\n",
       "      <th>LOAD_TIME</th>\n",
       "    </tr>\n",
       "  </thead>\n",
       "  <tbody>\n",
       "    <tr>\n",
       "      <th>0</th>\n",
       "      <td>INDU Index</td>\n",
       "      <td>UNIVERSE</td>\n",
       "      <td>False</td>\n",
       "      <td>NaT</td>\n",
       "    </tr>\n",
       "    <tr>\n",
       "      <th>1</th>\n",
       "      <td>index_weight</td>\n",
       "      <td>DATA_ITEM</td>\n",
       "      <td>False</td>\n",
       "      <td>NaT</td>\n",
       "    </tr>\n",
       "    <tr>\n",
       "      <th>2</th>\n",
       "      <td>trading_calendar</td>\n",
       "      <td>DATA_ITEM</td>\n",
       "      <td>False</td>\n",
       "      <td>NaT</td>\n",
       "    </tr>\n",
       "    <tr>\n",
       "      <th>3</th>\n",
       "      <td>analyst_rating</td>\n",
       "      <td>DATA_ITEM</td>\n",
       "      <td>False</td>\n",
       "      <td>NaT</td>\n",
       "    </tr>\n",
       "    <tr>\n",
       "      <th>4</th>\n",
       "      <td>target_price</td>\n",
       "      <td>DATA_ITEM</td>\n",
       "      <td>False</td>\n",
       "      <td>NaT</td>\n",
       "    </tr>\n",
       "    <tr>\n",
       "      <th>5</th>\n",
       "      <td>cur_mkt_cap</td>\n",
       "      <td>DATA_ITEM</td>\n",
       "      <td>False</td>\n",
       "      <td>NaT</td>\n",
       "    </tr>\n",
       "    <tr>\n",
       "      <th>6</th>\n",
       "      <td>day_to_day_tot_return_gross_dvds</td>\n",
       "      <td>DATA_ITEM</td>\n",
       "      <td>False</td>\n",
       "      <td>NaT</td>\n",
       "    </tr>\n",
       "    <tr>\n",
       "      <th>7</th>\n",
       "      <td>beta</td>\n",
       "      <td>DATA_ITEM</td>\n",
       "      <td>False</td>\n",
       "      <td>NaT</td>\n",
       "    </tr>\n",
       "    <tr>\n",
       "      <th>8</th>\n",
       "      <td>px_last</td>\n",
       "      <td>DATA_ITEM</td>\n",
       "      <td>False</td>\n",
       "      <td>NaT</td>\n",
       "    </tr>\n",
       "    <tr>\n",
       "      <th>9</th>\n",
       "      <td>bics_level_1</td>\n",
       "      <td>DATA_ITEM</td>\n",
       "      <td>False</td>\n",
       "      <td>NaT</td>\n",
       "    </tr>\n",
       "    <tr>\n",
       "      <th>10</th>\n",
       "      <td>bics_level_2</td>\n",
       "      <td>DATA_ITEM</td>\n",
       "      <td>False</td>\n",
       "      <td>NaT</td>\n",
       "    </tr>\n",
       "    <tr>\n",
       "      <th>11</th>\n",
       "      <td>bics_level_3</td>\n",
       "      <td>DATA_ITEM</td>\n",
       "      <td>False</td>\n",
       "      <td>NaT</td>\n",
       "    </tr>\n",
       "    <tr>\n",
       "      <th>12</th>\n",
       "      <td>bics_level_4</td>\n",
       "      <td>DATA_ITEM</td>\n",
       "      <td>False</td>\n",
       "      <td>NaT</td>\n",
       "    </tr>\n",
       "  </tbody>\n",
       "</table>\n",
       "</div>"
      ],
      "text/plain": [
       "                                  ID       TYPE  IS_LOADED LOAD_TIME\n",
       "0                         INDU Index   UNIVERSE      False       NaT\n",
       "1                       index_weight  DATA_ITEM      False       NaT\n",
       "2                   trading_calendar  DATA_ITEM      False       NaT\n",
       "3                     analyst_rating  DATA_ITEM      False       NaT\n",
       "4                       target_price  DATA_ITEM      False       NaT\n",
       "5                        cur_mkt_cap  DATA_ITEM      False       NaT\n",
       "6   day_to_day_tot_return_gross_dvds  DATA_ITEM      False       NaT\n",
       "7                               beta  DATA_ITEM      False       NaT\n",
       "8                            px_last  DATA_ITEM      False       NaT\n",
       "9                       bics_level_1  DATA_ITEM      False       NaT\n",
       "10                      bics_level_2  DATA_ITEM      False       NaT\n",
       "11                      bics_level_3  DATA_ITEM      False       NaT\n",
       "12                      bics_level_4  DATA_ITEM      False       NaT"
      ]
     },
     "execution_count": 7,
     "metadata": {},
     "output_type": "execute_result"
    }
   ],
   "source": [
    "data_pack.get_fetch_status()"
   ]
  },
  {
   "cell_type": "markdown",
   "id": "1780db4a-ccbc-40d1-b3b9-a4fb53af2142",
   "metadata": {},
   "source": [
    "### Fetch the data"
   ]
  },
  {
   "cell_type": "code",
   "execution_count": 8,
   "id": "ab1fc793-f12f-468b-9915-54d4683dcaac",
   "metadata": {},
   "outputs": [
    {
     "name": "stdout",
     "output_type": "stream",
     "text": [
      "2025-04-25 09:00:45,969 - (140594856351552) - INFO - external.bloomberg.bquant.signal_lab.data_workbench.data_pack - fetching universes\n",
      "2025-04-25 09:00:46,690 - (140594856351552) - INFO - external.bloomberg.bquant.signal_lab.data_workbench.data_pack - universe fetching summary: INDU Index\n",
      "2025-04-25 09:00:46,692 - (140594856351552) - INFO - external.bloomberg.bquant.signal_lab.data_workbench.data_pack - fetching universe: INDU Index\n",
      "2025-04-25 09:00:46,693 - (140594856351552) - INFO - external.bloomberg.bquant.signal_lab.data_workbench.definitions.bql_index_universe - fetching BQL index universe: INDU Index\n"
     ]
    },
    {
     "data": {
      "application/json": {
       "ascii": false,
       "bar_format": null,
       "colour": null,
       "elapsed": 0.009552240371704102,
       "initial": 0,
       "n": 0,
       "ncols": null,
       "nrows": null,
       "postfix": null,
       "prefix": "",
       "rate": null,
       "total": 37,
       "unit": "it",
       "unit_divisor": 1000,
       "unit_scale": false
      },
      "application/vnd.jupyter.widget-view+json": {
       "model_id": "90ede17efca442ccadc5a61d0f10690e",
       "version_major": 2,
       "version_minor": 0
      },
      "text/plain": [
       "  0%|          | 0/37 [00:00<?, ?it/s]"
      ]
     },
     "metadata": {},
     "output_type": "display_data"
    },
    {
     "data": {
      "application/json": {
       "ascii": false,
       "bar_format": null,
       "colour": null,
       "elapsed": 0.011308431625366211,
       "initial": 0,
       "n": 0,
       "ncols": null,
       "nrows": null,
       "postfix": null,
       "prefix": "",
       "rate": null,
       "total": 1,
       "unit": "it",
       "unit_divisor": 1000,
       "unit_scale": false
      },
      "application/vnd.jupyter.widget-view+json": {
       "model_id": "f24b13bd53f644c6aa5df5c11824cb62",
       "version_major": 2,
       "version_minor": 0
      },
      "text/plain": [
       "  0%|          | 0/1 [00:00<?, ?it/s]"
      ]
     },
     "metadata": {},
     "output_type": "display_data"
    },
    {
     "name": "stdout",
     "output_type": "stream",
     "text": [
      "2025-04-25 09:01:09,465 - (140594856351552) - INFO - external.bloomberg.bquant.signal_lab.data_workbench.data_pack - fetching data items\n",
      "2025-04-25 09:01:10,386 - (140594856351552) - INFO - external.bloomberg.bquant.signal_lab.data_workbench.data_pack - data items fetching summary: index_weight, trading_calendar, analyst_rating, target_price, cur_mkt_cap, day_to_day_tot_return_gross_dvds, beta, px_last, bics_level_1, bics_level_2, bics_level_3, bics_level_4\n",
      "2025-04-25 09:01:10,791 - (140594856351552) - INFO - external.bloomberg.bquant.signal_lab.data_workbench.data_pack - fetching data item: index_weight\n",
      "2025-04-25 09:01:10,792 - (140594856351552) - INFO - external.bloomberg.bquant.signal_lab.data_workbench.definitions.bql_index_weight - fetching BQL index weight: INDU Index\n"
     ]
    },
    {
     "data": {
      "application/json": {
       "ascii": false,
       "bar_format": null,
       "colour": null,
       "elapsed": 0.010867834091186523,
       "initial": 0,
       "n": 0,
       "ncols": null,
       "nrows": null,
       "postfix": null,
       "prefix": "",
       "rate": null,
       "total": 37,
       "unit": "it",
       "unit_divisor": 1000,
       "unit_scale": false
      },
      "application/vnd.jupyter.widget-view+json": {
       "model_id": "d2ff14a40b044f8ea2d7514eee3adee3",
       "version_major": 2,
       "version_minor": 0
      },
      "text/plain": [
       "  0%|          | 0/37 [00:00<?, ?it/s]"
      ]
     },
     "metadata": {},
     "output_type": "display_data"
    },
    {
     "data": {
      "application/json": {
       "ascii": false,
       "bar_format": null,
       "colour": null,
       "elapsed": 0.009506940841674805,
       "initial": 0,
       "n": 0,
       "ncols": null,
       "nrows": null,
       "postfix": null,
       "prefix": "",
       "rate": null,
       "total": 1,
       "unit": "it",
       "unit_divisor": 1000,
       "unit_scale": false
      },
      "application/vnd.jupyter.widget-view+json": {
       "model_id": "b25f6efb749148a9a72bca056e6f4f49",
       "version_major": 2,
       "version_minor": 0
      },
      "text/plain": [
       "  0%|          | 0/1 [00:00<?, ?it/s]"
      ]
     },
     "metadata": {},
     "output_type": "display_data"
    },
    {
     "name": "stdout",
     "output_type": "stream",
     "text": [
      "2025-04-25 09:01:39,282 - (140594856351552) - INFO - external.bloomberg.bquant.signal_lab.data_workbench.data_pack - fetching data item: trading_calendar\n",
      "2025-04-25 09:01:39,669 - (140594856351552) - INFO - external.bloomberg.bquant.signal_lab.data_workbench.definitions.trading_calendar_proxy - fetching trading calendar data\n"
     ]
    },
    {
     "data": {
      "application/json": {
       "ascii": false,
       "bar_format": null,
       "colour": null,
       "elapsed": 0.010032176971435547,
       "initial": 0,
       "n": 0,
       "ncols": null,
       "nrows": null,
       "postfix": null,
       "prefix": "",
       "rate": null,
       "total": 37,
       "unit": "it",
       "unit_divisor": 1000,
       "unit_scale": false
      },
      "application/vnd.jupyter.widget-view+json": {
       "model_id": "c5a469a493224e73b0186a971e3d79c4",
       "version_major": 2,
       "version_minor": 0
      },
      "text/plain": [
       "  0%|          | 0/37 [00:00<?, ?it/s]"
      ]
     },
     "metadata": {},
     "output_type": "display_data"
    },
    {
     "name": "stdout",
     "output_type": "stream",
     "text": [
      "2025-04-25 09:01:57,292 - (140594856351552) - INFO - external.bloomberg.bquant.signal_lab.data_workbench.data_pack - fetching data item: analyst_rating\n"
     ]
    },
    {
     "data": {
      "application/json": {
       "ascii": false,
       "bar_format": null,
       "colour": null,
       "elapsed": 0.009585857391357422,
       "initial": 0,
       "n": 0,
       "ncols": null,
       "nrows": null,
       "postfix": null,
       "prefix": "",
       "rate": null,
       "total": 37,
       "unit": "it",
       "unit_divisor": 1000,
       "unit_scale": false
      },
      "application/vnd.jupyter.widget-view+json": {
       "model_id": "ca43bf9d001c456b8c0e982efceda3bd",
       "version_major": 2,
       "version_minor": 0
      },
      "text/plain": [
       "  0%|          | 0/37 [00:00<?, ?it/s]"
      ]
     },
     "metadata": {},
     "output_type": "display_data"
    },
    {
     "name": "stdout",
     "output_type": "stream",
     "text": [
      "2025-04-25 09:02:15,669 - (140594856351552) - INFO - external.bloomberg.bquant.signal_lab.data_workbench.data_pack - fetching data item: target_price\n"
     ]
    },
    {
     "data": {
      "application/json": {
       "ascii": false,
       "bar_format": null,
       "colour": null,
       "elapsed": 0.008895635604858398,
       "initial": 0,
       "n": 0,
       "ncols": null,
       "nrows": null,
       "postfix": null,
       "prefix": "",
       "rate": null,
       "total": 37,
       "unit": "it",
       "unit_divisor": 1000,
       "unit_scale": false
      },
      "application/vnd.jupyter.widget-view+json": {
       "model_id": "eca6095d29a745178456d4a3af2dbc6d",
       "version_major": 2,
       "version_minor": 0
      },
      "text/plain": [
       "  0%|          | 0/37 [00:00<?, ?it/s]"
      ]
     },
     "metadata": {},
     "output_type": "display_data"
    },
    {
     "name": "stdout",
     "output_type": "stream",
     "text": [
      "2025-04-25 09:02:35,015 - (140594856351552) - INFO - external.bloomberg.bquant.signal_lab.data_workbench.data_pack - fetching data item: cur_mkt_cap\n"
     ]
    },
    {
     "data": {
      "application/json": {
       "ascii": false,
       "bar_format": null,
       "colour": null,
       "elapsed": 0.009153366088867188,
       "initial": 0,
       "n": 0,
       "ncols": null,
       "nrows": null,
       "postfix": null,
       "prefix": "",
       "rate": null,
       "total": 37,
       "unit": "it",
       "unit_divisor": 1000,
       "unit_scale": false
      },
      "application/vnd.jupyter.widget-view+json": {
       "model_id": "6bb4dc98bbbb437fb9adaba02cfe9db4",
       "version_major": 2,
       "version_minor": 0
      },
      "text/plain": [
       "  0%|          | 0/37 [00:00<?, ?it/s]"
      ]
     },
     "metadata": {},
     "output_type": "display_data"
    },
    {
     "name": "stdout",
     "output_type": "stream",
     "text": [
      "2025-04-25 09:02:55,638 - (140594856351552) - INFO - external.bloomberg.bquant.signal_lab.data_workbench.data_pack - fetching data item: day_to_day_tot_return_gross_dvds\n"
     ]
    },
    {
     "data": {
      "application/json": {
       "ascii": false,
       "bar_format": null,
       "colour": null,
       "elapsed": 0.00973963737487793,
       "initial": 0,
       "n": 0,
       "ncols": null,
       "nrows": null,
       "postfix": null,
       "prefix": "",
       "rate": null,
       "total": 37,
       "unit": "it",
       "unit_divisor": 1000,
       "unit_scale": false
      },
      "application/vnd.jupyter.widget-view+json": {
       "model_id": "27db685aa720477b900ad983dadc74f3",
       "version_major": 2,
       "version_minor": 0
      },
      "text/plain": [
       "  0%|          | 0/37 [00:00<?, ?it/s]"
      ]
     },
     "metadata": {},
     "output_type": "display_data"
    },
    {
     "name": "stdout",
     "output_type": "stream",
     "text": [
      "2025-04-25 09:03:14,940 - (140594856351552) - INFO - external.bloomberg.bquant.signal_lab.data_workbench.data_pack - fetching data item: beta\n"
     ]
    },
    {
     "data": {
      "application/json": {
       "ascii": false,
       "bar_format": null,
       "colour": null,
       "elapsed": 0.010090351104736328,
       "initial": 0,
       "n": 0,
       "ncols": null,
       "nrows": null,
       "postfix": null,
       "prefix": "",
       "rate": null,
       "total": 6,
       "unit": "it",
       "unit_divisor": 1000,
       "unit_scale": false
      },
      "application/vnd.jupyter.widget-view+json": {
       "model_id": "caee1f0910e4457a9f1ad50d5a22dac3",
       "version_major": 2,
       "version_minor": 0
      },
      "text/plain": [
       "  0%|          | 0/6 [00:00<?, ?it/s]"
      ]
     },
     "metadata": {},
     "output_type": "display_data"
    },
    {
     "name": "stdout",
     "output_type": "stream",
     "text": [
      "2025-04-25 09:03:30,441 - (140594856351552) - INFO - external.bloomberg.bquant.signal_lab.data_workbench.data_pack - fetching data item: px_last\n"
     ]
    },
    {
     "data": {
      "application/json": {
       "ascii": false,
       "bar_format": null,
       "colour": null,
       "elapsed": 0.00879669189453125,
       "initial": 0,
       "n": 0,
       "ncols": null,
       "nrows": null,
       "postfix": null,
       "prefix": "",
       "rate": null,
       "total": 37,
       "unit": "it",
       "unit_divisor": 1000,
       "unit_scale": false
      },
      "application/vnd.jupyter.widget-view+json": {
       "model_id": "4f830b55353d4df5a4501f7c895a3dbd",
       "version_major": 2,
       "version_minor": 0
      },
      "text/plain": [
       "  0%|          | 0/37 [00:00<?, ?it/s]"
      ]
     },
     "metadata": {},
     "output_type": "display_data"
    },
    {
     "name": "stdout",
     "output_type": "stream",
     "text": [
      "2025-04-25 09:03:49,225 - (140594856351552) - INFO - external.bloomberg.bquant.signal_lab.data_workbench.data_pack - fetching data item: bics_level_1\n"
     ]
    },
    {
     "data": {
      "application/json": {
       "ascii": false,
       "bar_format": null,
       "colour": null,
       "elapsed": 0.009508371353149414,
       "initial": 0,
       "n": 0,
       "ncols": null,
       "nrows": null,
       "postfix": null,
       "prefix": "",
       "rate": null,
       "total": 37,
       "unit": "it",
       "unit_divisor": 1000,
       "unit_scale": false
      },
      "application/vnd.jupyter.widget-view+json": {
       "model_id": "577c40b4f8a74a129daa415cde124f01",
       "version_major": 2,
       "version_minor": 0
      },
      "text/plain": [
       "  0%|          | 0/37 [00:00<?, ?it/s]"
      ]
     },
     "metadata": {},
     "output_type": "display_data"
    },
    {
     "name": "stdout",
     "output_type": "stream",
     "text": [
      "2025-04-25 09:04:07,162 - (140594856351552) - INFO - external.bloomberg.bquant.signal_lab.data_workbench.data_pack - fetching data item: bics_level_2\n"
     ]
    },
    {
     "data": {
      "application/json": {
       "ascii": false,
       "bar_format": null,
       "colour": null,
       "elapsed": 0.00991368293762207,
       "initial": 0,
       "n": 0,
       "ncols": null,
       "nrows": null,
       "postfix": null,
       "prefix": "",
       "rate": null,
       "total": 37,
       "unit": "it",
       "unit_divisor": 1000,
       "unit_scale": false
      },
      "application/vnd.jupyter.widget-view+json": {
       "model_id": "49b8aede29e84c37884c831f80412ab5",
       "version_major": 2,
       "version_minor": 0
      },
      "text/plain": [
       "  0%|          | 0/37 [00:00<?, ?it/s]"
      ]
     },
     "metadata": {},
     "output_type": "display_data"
    },
    {
     "name": "stdout",
     "output_type": "stream",
     "text": [
      "2025-04-25 09:04:24,703 - (140594856351552) - INFO - external.bloomberg.bquant.signal_lab.data_workbench.data_pack - fetching data item: bics_level_3\n"
     ]
    },
    {
     "data": {
      "application/json": {
       "ascii": false,
       "bar_format": null,
       "colour": null,
       "elapsed": 0.008117914199829102,
       "initial": 0,
       "n": 0,
       "ncols": null,
       "nrows": null,
       "postfix": null,
       "prefix": "",
       "rate": null,
       "total": 37,
       "unit": "it",
       "unit_divisor": 1000,
       "unit_scale": false
      },
      "application/vnd.jupyter.widget-view+json": {
       "model_id": "603bd9171510468f875dc57774e0460b",
       "version_major": 2,
       "version_minor": 0
      },
      "text/plain": [
       "  0%|          | 0/37 [00:00<?, ?it/s]"
      ]
     },
     "metadata": {},
     "output_type": "display_data"
    },
    {
     "name": "stdout",
     "output_type": "stream",
     "text": [
      "2025-04-25 09:04:42,764 - (140594856351552) - INFO - external.bloomberg.bquant.signal_lab.data_workbench.data_pack - fetching data item: bics_level_4\n"
     ]
    },
    {
     "data": {
      "application/json": {
       "ascii": false,
       "bar_format": null,
       "colour": null,
       "elapsed": 0.014764547348022461,
       "initial": 0,
       "n": 0,
       "ncols": null,
       "nrows": null,
       "postfix": null,
       "prefix": "",
       "rate": null,
       "total": 37,
       "unit": "it",
       "unit_divisor": 1000,
       "unit_scale": false
      },
      "application/vnd.jupyter.widget-view+json": {
       "model_id": "3a07ca2e0d354195b0fc8d0c4b20075c",
       "version_major": 2,
       "version_minor": 0
      },
      "text/plain": [
       "  0%|          | 0/37 [00:00<?, ?it/s]"
      ]
     },
     "metadata": {},
     "output_type": "display_data"
    },
    {
     "name": "stdout",
     "output_type": "stream",
     "text": [
      "2025-04-25 09:05:01,334 - (140594856351552) - INFO - external.bloomberg.bquant.signal_lab.data_workbench.data_pack - fetching completed\n"
     ]
    }
   ],
   "source": [
    "fetch_status = data_pack.run_fetch()"
   ]
  },
  {
   "cell_type": "code",
   "execution_count": 9,
   "id": "b4d8d5a5-0905-4d1a-8c31-d34f4d3b31f0",
   "metadata": {},
   "outputs": [
    {
     "data": {
      "text/html": [
       "<div>\n",
       "<style scoped>\n",
       "    .dataframe tbody tr th:only-of-type {\n",
       "        vertical-align: middle;\n",
       "    }\n",
       "\n",
       "    .dataframe tbody tr th {\n",
       "        vertical-align: top;\n",
       "    }\n",
       "\n",
       "    .dataframe thead th {\n",
       "        text-align: right;\n",
       "    }\n",
       "</style>\n",
       "<table border=\"1\" class=\"dataframe\">\n",
       "  <thead>\n",
       "    <tr style=\"text-align: right;\">\n",
       "      <th></th>\n",
       "      <th>ID</th>\n",
       "      <th>TYPE</th>\n",
       "      <th>IS_LOADED</th>\n",
       "      <th>LOAD_TIME</th>\n",
       "    </tr>\n",
       "  </thead>\n",
       "  <tbody>\n",
       "    <tr>\n",
       "      <th>0</th>\n",
       "      <td>INDU Index</td>\n",
       "      <td>UNIVERSE</td>\n",
       "      <td>True</td>\n",
       "      <td>2025-04-25 09:01:09.160193</td>\n",
       "    </tr>\n",
       "    <tr>\n",
       "      <th>1</th>\n",
       "      <td>index_weight</td>\n",
       "      <td>DATA_ITEM</td>\n",
       "      <td>True</td>\n",
       "      <td>2025-04-25 09:01:38.926912</td>\n",
       "    </tr>\n",
       "    <tr>\n",
       "      <th>2</th>\n",
       "      <td>trading_calendar</td>\n",
       "      <td>DATA_ITEM</td>\n",
       "      <td>True</td>\n",
       "      <td>2025-04-25 09:01:56.920008</td>\n",
       "    </tr>\n",
       "    <tr>\n",
       "      <th>3</th>\n",
       "      <td>analyst_rating</td>\n",
       "      <td>DATA_ITEM</td>\n",
       "      <td>True</td>\n",
       "      <td>2025-04-25 09:02:15.311967</td>\n",
       "    </tr>\n",
       "    <tr>\n",
       "      <th>4</th>\n",
       "      <td>target_price</td>\n",
       "      <td>DATA_ITEM</td>\n",
       "      <td>True</td>\n",
       "      <td>2025-04-25 09:02:34.602782</td>\n",
       "    </tr>\n",
       "    <tr>\n",
       "      <th>5</th>\n",
       "      <td>cur_mkt_cap</td>\n",
       "      <td>DATA_ITEM</td>\n",
       "      <td>True</td>\n",
       "      <td>2025-04-25 09:02:55.288841</td>\n",
       "    </tr>\n",
       "    <tr>\n",
       "      <th>6</th>\n",
       "      <td>day_to_day_tot_return_gross_dvds</td>\n",
       "      <td>DATA_ITEM</td>\n",
       "      <td>True</td>\n",
       "      <td>2025-04-25 09:03:14.579476</td>\n",
       "    </tr>\n",
       "    <tr>\n",
       "      <th>7</th>\n",
       "      <td>beta</td>\n",
       "      <td>DATA_ITEM</td>\n",
       "      <td>True</td>\n",
       "      <td>2025-04-25 09:03:30.089529</td>\n",
       "    </tr>\n",
       "    <tr>\n",
       "      <th>8</th>\n",
       "      <td>px_last</td>\n",
       "      <td>DATA_ITEM</td>\n",
       "      <td>True</td>\n",
       "      <td>2025-04-25 09:03:48.877069</td>\n",
       "    </tr>\n",
       "    <tr>\n",
       "      <th>9</th>\n",
       "      <td>bics_level_1</td>\n",
       "      <td>DATA_ITEM</td>\n",
       "      <td>True</td>\n",
       "      <td>2025-04-25 09:04:06.786431</td>\n",
       "    </tr>\n",
       "    <tr>\n",
       "      <th>10</th>\n",
       "      <td>bics_level_2</td>\n",
       "      <td>DATA_ITEM</td>\n",
       "      <td>True</td>\n",
       "      <td>2025-04-25 09:04:24.407272</td>\n",
       "    </tr>\n",
       "    <tr>\n",
       "      <th>11</th>\n",
       "      <td>bics_level_3</td>\n",
       "      <td>DATA_ITEM</td>\n",
       "      <td>True</td>\n",
       "      <td>2025-04-25 09:04:42.450479</td>\n",
       "    </tr>\n",
       "    <tr>\n",
       "      <th>12</th>\n",
       "      <td>bics_level_4</td>\n",
       "      <td>DATA_ITEM</td>\n",
       "      <td>True</td>\n",
       "      <td>2025-04-25 09:05:00.612467</td>\n",
       "    </tr>\n",
       "  </tbody>\n",
       "</table>\n",
       "</div>"
      ],
      "text/plain": [
       "                                  ID       TYPE  IS_LOADED  \\\n",
       "0                         INDU Index   UNIVERSE       True   \n",
       "1                       index_weight  DATA_ITEM       True   \n",
       "2                   trading_calendar  DATA_ITEM       True   \n",
       "3                     analyst_rating  DATA_ITEM       True   \n",
       "4                       target_price  DATA_ITEM       True   \n",
       "5                        cur_mkt_cap  DATA_ITEM       True   \n",
       "6   day_to_day_tot_return_gross_dvds  DATA_ITEM       True   \n",
       "7                               beta  DATA_ITEM       True   \n",
       "8                            px_last  DATA_ITEM       True   \n",
       "9                       bics_level_1  DATA_ITEM       True   \n",
       "10                      bics_level_2  DATA_ITEM       True   \n",
       "11                      bics_level_3  DATA_ITEM       True   \n",
       "12                      bics_level_4  DATA_ITEM       True   \n",
       "\n",
       "                    LOAD_TIME  \n",
       "0  2025-04-25 09:01:09.160193  \n",
       "1  2025-04-25 09:01:38.926912  \n",
       "2  2025-04-25 09:01:56.920008  \n",
       "3  2025-04-25 09:02:15.311967  \n",
       "4  2025-04-25 09:02:34.602782  \n",
       "5  2025-04-25 09:02:55.288841  \n",
       "6  2025-04-25 09:03:14.579476  \n",
       "7  2025-04-25 09:03:30.089529  \n",
       "8  2025-04-25 09:03:48.877069  \n",
       "9  2025-04-25 09:04:06.786431  \n",
       "10 2025-04-25 09:04:24.407272  \n",
       "11 2025-04-25 09:04:42.450479  \n",
       "12 2025-04-25 09:05:00.612467  "
      ]
     },
     "execution_count": 9,
     "metadata": {},
     "output_type": "execute_result"
    }
   ],
   "source": [
    "data_pack.get_fetch_status()"
   ]
  },
  {
   "cell_type": "code",
   "execution_count": 16,
   "id": "d7f4a1d8-add3-4c91-a3bf-cd7b5623338a",
   "metadata": {},
   "outputs": [],
   "source": [
    "datapack_path = f\"{get_sandbox_path()}/tmp/fsa/datapack\""
   ]
  },
  {
   "cell_type": "code",
   "execution_count": 17,
   "id": "f4877d83-4541-4208-a367-c554dacb39e2",
   "metadata": {},
   "outputs": [
    {
     "ename": "ValueError",
     "evalue": "There is no DataPack found in the specific path 's3://awmgd-prod-finml-02-sandbox-user/bclarke16/tmp/fsa/datapack'",
     "output_type": "error",
     "traceback": [
      "\u001b[0;31m---------------------------------------------------------------------------\u001b[0m",
      "\u001b[0;31mValueError\u001b[0m                                Traceback (most recent call last)",
      "Input \u001b[0;32mIn [17]\u001b[0m, in \u001b[0;36m<cell line: 1>\u001b[0;34m()\u001b[0m\n\u001b[0;32m----> 1\u001b[0m new_data_pack \u001b[38;5;241m=\u001b[39m \u001b[43mload_data_pack\u001b[49m\u001b[43m(\u001b[49m\u001b[43mstorage_path\u001b[49m\u001b[38;5;241;43m=\u001b[39;49m\u001b[43mdatapack_path\u001b[49m\u001b[43m,\u001b[49m\u001b[43m \u001b[49m\u001b[43mstorage_type\u001b[49m\u001b[38;5;241;43m=\u001b[39;49m\u001b[43mStorageType\u001b[49m\u001b[38;5;241;43m.\u001b[39;49m\u001b[43mPARQUET\u001b[49m\u001b[43m)\u001b[49m\n",
      "File \u001b[0;32m/opt/bqplatform/lib/python3.9/site-packages/bloomberg/bquant/signal_lab/data_workbench/data_pack.py:983\u001b[0m, in \u001b[0;36mload_data_pack\u001b[0;34m(storage_type, storage_path)\u001b[0m\n\u001b[1;32m    981\u001b[0m data_store \u001b[38;5;241m=\u001b[39m create_data_store(storage_type, storage_path)\n\u001b[1;32m    982\u001b[0m \u001b[38;5;28;01mif\u001b[39;00m \u001b[38;5;129;01mnot\u001b[39;00m data_store\u001b[38;5;241m.\u001b[39mhas_data_pack():\n\u001b[0;32m--> 983\u001b[0m     \u001b[38;5;28;01mraise\u001b[39;00m \u001b[38;5;167;01mValueError\u001b[39;00m(\n\u001b[1;32m    984\u001b[0m         \u001b[38;5;124mf\u001b[39m\u001b[38;5;124m\"\u001b[39m\u001b[38;5;124mThere is no DataPack found in the specific path \u001b[39m\u001b[38;5;124m'\u001b[39m\u001b[38;5;132;01m{\u001b[39;00mstorage_path\u001b[38;5;132;01m}\u001b[39;00m\u001b[38;5;124m'\u001b[39m\u001b[38;5;124m\"\u001b[39m\n\u001b[1;32m    985\u001b[0m     )\n\u001b[1;32m    987\u001b[0m data_pack_metadata \u001b[38;5;241m=\u001b[39m data_store\u001b[38;5;241m.\u001b[39mget_data_pack_metadata()\n\u001b[1;32m    988\u001b[0m \u001b[38;5;28;01mif\u001b[39;00m data_pack_metadata \u001b[38;5;129;01mis\u001b[39;00m \u001b[38;5;28;01mNone\u001b[39;00m:\n\u001b[1;32m    989\u001b[0m     \u001b[38;5;66;03m# for backwards compatibility\u001b[39;00m\n",
      "\u001b[0;31mValueError\u001b[0m: There is no DataPack found in the specific path 's3://awmgd-prod-finml-02-sandbox-user/bclarke16/tmp/fsa/datapack'"
     ]
    }
   ],
   "source": [
    "new_data_pack = load_data_pack(storage_path=datapack_path, storage_type=StorageType.PARQUET)"
   ]
  },
  {
   "cell_type": "code",
   "execution_count": 15,
   "id": "ffe9808f-9bcb-4a4e-8cb5-e7f7bb046dbc",
   "metadata": {},
   "outputs": [
    {
     "data": {
      "text/html": [
       "<div>\n",
       "<style scoped>\n",
       "    .dataframe tbody tr th:only-of-type {\n",
       "        vertical-align: middle;\n",
       "    }\n",
       "\n",
       "    .dataframe tbody tr th {\n",
       "        vertical-align: top;\n",
       "    }\n",
       "\n",
       "    .dataframe thead th {\n",
       "        text-align: right;\n",
       "    }\n",
       "</style>\n",
       "<table border=\"1\" class=\"dataframe\">\n",
       "  <thead>\n",
       "    <tr style=\"text-align: right;\">\n",
       "      <th></th>\n",
       "      <th>ID</th>\n",
       "      <th>TYPE</th>\n",
       "      <th>IS_LOADED</th>\n",
       "      <th>LOAD_TIME</th>\n",
       "    </tr>\n",
       "  </thead>\n",
       "  <tbody>\n",
       "    <tr>\n",
       "      <th>0</th>\n",
       "      <td>INDU Index</td>\n",
       "      <td>UNIVERSE</td>\n",
       "      <td>True</td>\n",
       "      <td>2025-04-25 09:01:09.160193</td>\n",
       "    </tr>\n",
       "    <tr>\n",
       "      <th>1</th>\n",
       "      <td>index_weight</td>\n",
       "      <td>DATA_ITEM</td>\n",
       "      <td>True</td>\n",
       "      <td>2025-04-25 09:01:38.926912</td>\n",
       "    </tr>\n",
       "    <tr>\n",
       "      <th>2</th>\n",
       "      <td>trading_calendar</td>\n",
       "      <td>DATA_ITEM</td>\n",
       "      <td>True</td>\n",
       "      <td>2025-04-25 09:01:56.920008</td>\n",
       "    </tr>\n",
       "    <tr>\n",
       "      <th>3</th>\n",
       "      <td>analyst_rating</td>\n",
       "      <td>DATA_ITEM</td>\n",
       "      <td>True</td>\n",
       "      <td>2025-04-25 09:02:15.311967</td>\n",
       "    </tr>\n",
       "    <tr>\n",
       "      <th>4</th>\n",
       "      <td>target_price</td>\n",
       "      <td>DATA_ITEM</td>\n",
       "      <td>True</td>\n",
       "      <td>2025-04-25 09:02:34.602782</td>\n",
       "    </tr>\n",
       "    <tr>\n",
       "      <th>5</th>\n",
       "      <td>cur_mkt_cap</td>\n",
       "      <td>DATA_ITEM</td>\n",
       "      <td>True</td>\n",
       "      <td>2025-04-25 09:02:55.288841</td>\n",
       "    </tr>\n",
       "    <tr>\n",
       "      <th>6</th>\n",
       "      <td>day_to_day_tot_return_gross_dvds</td>\n",
       "      <td>DATA_ITEM</td>\n",
       "      <td>True</td>\n",
       "      <td>2025-04-25 09:03:14.579476</td>\n",
       "    </tr>\n",
       "    <tr>\n",
       "      <th>7</th>\n",
       "      <td>beta</td>\n",
       "      <td>DATA_ITEM</td>\n",
       "      <td>True</td>\n",
       "      <td>2025-04-25 09:03:30.089529</td>\n",
       "    </tr>\n",
       "    <tr>\n",
       "      <th>8</th>\n",
       "      <td>px_last</td>\n",
       "      <td>DATA_ITEM</td>\n",
       "      <td>True</td>\n",
       "      <td>2025-04-25 09:03:48.877069</td>\n",
       "    </tr>\n",
       "    <tr>\n",
       "      <th>9</th>\n",
       "      <td>bics_level_1</td>\n",
       "      <td>DATA_ITEM</td>\n",
       "      <td>True</td>\n",
       "      <td>2025-04-25 09:04:06.786431</td>\n",
       "    </tr>\n",
       "    <tr>\n",
       "      <th>10</th>\n",
       "      <td>bics_level_2</td>\n",
       "      <td>DATA_ITEM</td>\n",
       "      <td>True</td>\n",
       "      <td>2025-04-25 09:04:24.407272</td>\n",
       "    </tr>\n",
       "    <tr>\n",
       "      <th>11</th>\n",
       "      <td>bics_level_3</td>\n",
       "      <td>DATA_ITEM</td>\n",
       "      <td>True</td>\n",
       "      <td>2025-04-25 09:04:42.450479</td>\n",
       "    </tr>\n",
       "    <tr>\n",
       "      <th>12</th>\n",
       "      <td>bics_level_4</td>\n",
       "      <td>DATA_ITEM</td>\n",
       "      <td>True</td>\n",
       "      <td>2025-04-25 09:05:00.612467</td>\n",
       "    </tr>\n",
       "  </tbody>\n",
       "</table>\n",
       "</div>"
      ],
      "text/plain": [
       "                                  ID       TYPE  IS_LOADED  \\\n",
       "0                         INDU Index   UNIVERSE       True   \n",
       "1                       index_weight  DATA_ITEM       True   \n",
       "2                   trading_calendar  DATA_ITEM       True   \n",
       "3                     analyst_rating  DATA_ITEM       True   \n",
       "4                       target_price  DATA_ITEM       True   \n",
       "5                        cur_mkt_cap  DATA_ITEM       True   \n",
       "6   day_to_day_tot_return_gross_dvds  DATA_ITEM       True   \n",
       "7                               beta  DATA_ITEM       True   \n",
       "8                            px_last  DATA_ITEM       True   \n",
       "9                       bics_level_1  DATA_ITEM       True   \n",
       "10                      bics_level_2  DATA_ITEM       True   \n",
       "11                      bics_level_3  DATA_ITEM       True   \n",
       "12                      bics_level_4  DATA_ITEM       True   \n",
       "\n",
       "                    LOAD_TIME  \n",
       "0  2025-04-25 09:01:09.160193  \n",
       "1  2025-04-25 09:01:38.926912  \n",
       "2  2025-04-25 09:01:56.920008  \n",
       "3  2025-04-25 09:02:15.311967  \n",
       "4  2025-04-25 09:02:34.602782  \n",
       "5  2025-04-25 09:02:55.288841  \n",
       "6  2025-04-25 09:03:14.579476  \n",
       "7  2025-04-25 09:03:30.089529  \n",
       "8  2025-04-25 09:03:48.877069  \n",
       "9  2025-04-25 09:04:06.786431  \n",
       "10 2025-04-25 09:04:24.407272  \n",
       "11 2025-04-25 09:04:42.450479  \n",
       "12 2025-04-25 09:05:00.612467  "
      ]
     },
     "execution_count": 15,
     "metadata": {},
     "output_type": "execute_result"
    }
   ],
   "source": [
    "new_data_pack.get_fetch_status()"
   ]
  },
  {
   "cell_type": "code",
   "execution_count": null,
   "id": "c560e182-d126-444c-82d4-a8bdc580415a",
   "metadata": {},
   "outputs": [],
   "source": []
  }
 ],
 "metadata": {
  "kernelspec": {
   "display_name": "Bloomberg Lab Python 3",
   "language": "python",
   "name": "user-python"
  },
  "language_info": {
   "codemirror_mode": {
    "name": "ipython",
    "version": 3
   },
   "file_extension": ".py",
   "mimetype": "text/x-python",
   "name": "python",
   "nbconvert_exporter": "python",
   "pygments_lexer": "ipython3",
   "version": "3.9.12"
  }
 },
 "nbformat": 4,
 "nbformat_minor": 5
}
