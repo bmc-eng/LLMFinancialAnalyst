{
 "cells": [
  {
   "cell_type": "markdown",
   "id": "6bab199d-800f-40d2-849a-39cedec3ea3b",
   "metadata": {},
   "source": [
    "# Get Point-in-time datasets\n",
    "Find all of the dates when companies first published their quarterly reports"
   ]
  },
  {
   "cell_type": "code",
   "execution_count": 2,
   "id": "9dba4023-2a67-4566-87a1-c7353bbc0b42",
   "metadata": {},
   "outputs": [],
   "source": [
    "import bql\n",
    "import pandas as pd\n",
    "import datarequest.data_request_helper as helper\n",
    "import boto3\n",
    "import json\n",
    "from s3fs import S3FileSystem\n",
    "import os\n",
    "\n",
    "from ipywidgets import IntProgress\n",
    "from IPython.display import display"
   ]
  },
  {
   "cell_type": "code",
   "execution_count": null,
   "id": "abe2d2ac-595c-4d0a-92c2-d4558828a6ab",
   "metadata": {},
   "outputs": [],
   "source": [
    "import importlib\n",
    "importlib.reload(helper)"
   ]
  },
  {
   "cell_type": "code",
   "execution_count": null,
   "id": "4b626d2c-5848-470f-b805-7ab145bf4f05",
   "metadata": {},
   "outputs": [],
   "source": [
    "bq = bql.Service()"
   ]
  },
  {
   "cell_type": "code",
   "execution_count": null,
   "id": "d07d07e2-bc46-461c-bfbf-e11bd82d803d",
   "metadata": {},
   "outputs": [],
   "source": [
    "# Index to use for point in time firms\n",
    "index = 'INDU Index'\n",
    "filename = 'data_quarterly_pit_indu_refresh_blended.json'\n",
    "reporting_period = 'Q'\n",
    "\n",
    "# rebalance dates for the index\n",
    "rebalance_dates = ['2024-12-31',\n",
    "        '2024-09-30',\n",
    "        '2024-06-30',\n",
    "        '2024-03-31',\n",
    "        '2023-12-31',\n",
    "        '2023-09-30',\n",
    "        '2023-06-30',\n",
    "        '2023-03-31',\n",
    "        '2022-12-31',\n",
    "        '2022-09-30',\n",
    "        '2022-06-30',\n",
    "        '2022-03-31',\n",
    "        '2021-12-31',\n",
    "        '2021-09-30',\n",
    "        '2021-06-30',\n",
    "        '2021-03-31',\n",
    "        '2020-12-31',\n",
    "        '2020-09-30',\n",
    "        '2020-06-30',\n",
    "        '2020-03-31',\n",
    "        '2019-12-31',\n",
    "        '2019-09-30',\n",
    "        '2019-06-30',\n",
    "        '2019-03-31',]\n"
   ]
  },
  {
   "cell_type": "markdown",
   "id": "732e0db7-fd9c-40c1-8b1e-53568fdd06ec",
   "metadata": {},
   "source": [
    "# Calculate the Rebalance dates\n",
    "\n",
    "For each rebalance date, get the members of the index at that time and look up their reporting dates"
   ]
  },
  {
   "cell_type": "code",
   "execution_count": 6,
   "id": "d10ec708-0534-437a-a13d-5f22c7a22844",
   "metadata": {},
   "outputs": [],
   "source": [
    "#all_data = []\n",
    "\n",
    "def get_reporting_dates_per_rebalance(date, index):\n",
    "    univ = bq.univ.members(index, dates=date)\n",
    "    field = bq.data.sales_rev_turn(dates=bq.func.range('-5Y','0D'), fa_period_type=reporting_period) # Change to Annual if needed\n",
    "    req = bql.Request(univ, field)\n",
    "    data = bq.execute(req)\n",
    "    df = data[0].df().dropna()\n",
    "    return df.sort_values('PERIOD_END_DATE', ascending=True).reset_index().drop_duplicates(subset=['ID','PERIOD_END_DATE'], keep='first')"
   ]
  },
  {
   "cell_type": "code",
   "execution_count": 7,
   "id": "e811ba9e-c9c1-4ee2-8fd6-4ecff6d14664",
   "metadata": {},
   "outputs": [],
   "source": [
    "def get_rebalance_dates(index, rebalance_dates):\n",
    "    all_data = []\n",
    "    for date in rebalance_dates:\n",
    "        all_data.append(get_reporting_dates_per_rebalance(date, index))\n",
    "        print(\"Complete for \", date)\n",
    "    df = pd.concat(all_data)\n",
    "    df_concat = df[['ID','AS_OF_DATE','PERIOD_END_DATE']].sort_values('PERIOD_END_DATE', ascending=True).drop_duplicates(subset=['ID','PERIOD_END_DATE'], keep='first')\n",
    "    return df_concat.set_index(['AS_OF_DATE','ID']).sort_values(['AS_OF_DATE'])"
   ]
  },
  {
   "cell_type": "code",
   "execution_count": 7,
   "id": "34e558c6-7e99-4cae-bf12-36872f37172c",
   "metadata": {},
   "outputs": [
    {
     "name": "stdout",
     "output_type": "stream",
     "text": [
      "Complete for  2024-12-31\n",
      "Complete for  2024-09-30\n",
      "Complete for  2024-06-30\n",
      "Complete for  2024-03-31\n",
      "Complete for  2023-12-31\n",
      "Complete for  2023-09-30\n",
      "Complete for  2023-06-30\n",
      "Complete for  2023-03-31\n",
      "Complete for  2022-12-31\n",
      "Complete for  2022-09-30\n",
      "Complete for  2022-06-30\n",
      "Complete for  2022-03-31\n",
      "Complete for  2021-12-31\n",
      "Complete for  2021-09-30\n",
      "Complete for  2021-06-30\n",
      "Complete for  2021-03-31\n",
      "Complete for  2020-12-31\n",
      "Complete for  2020-09-30\n",
      "Complete for  2020-06-30\n",
      "Complete for  2020-03-31\n",
      "Complete for  2019-12-31\n",
      "Complete for  2019-09-30\n",
      "Complete for  2019-06-30\n",
      "Complete for  2019-03-31\n"
     ]
    }
   ],
   "source": [
    "df_rebalance_dates = get_rebalance_dates(index, rebalance_dates)"
   ]
  },
  {
   "cell_type": "markdown",
   "id": "36d5b6bf-ce3b-4e50-b53b-f59de0d2ca53",
   "metadata": {},
   "source": [
    "## Request all of the data and format\n",
    "\n",
    "Request financial statement and price points for each of the dates and securities. "
   ]
  },
  {
   "cell_type": "code",
   "execution_count": 8,
   "id": "af05c2b4-fd41-47f2-bfd2-0ef77aebe218",
   "metadata": {},
   "outputs": [],
   "source": [
    "# Convert the request into correct format for data frame\n",
    "def format_request_to_df(data, fields):\n",
    "    fields = list(fields.keys())\n",
    "    df_all = [data[index].df()[data[index].df()['PERIOD_END_DATE'] != 0]\n",
    "                  .pivot(columns='PERIOD_END_DATE', values=[fields[index]])\n",
    "                  .fillna(0) \n",
    "                  for index in range(0,len(fields))]\n",
    "    df2 = pd.concat(df_all, axis=1)\n",
    "    df3 = df2.stack().transpose().stack().unstack(level=0).transpose().fillna(0)\n",
    "    df4 = df3.loc[:, (df3 != 0).any(axis=0)]\n",
    "    # Reformat the columns to remove dates\n",
    "    if len(df4.columns) == 6:\n",
    "        df5 = df4.set_axis(['t-5','t-4','t-3','t-2','t-1', 't'], axis='columns')\n",
    "    else:\n",
    "        df5 = df4.drop(columns=df4.columns[0:(len(df4.columns)-6)])\n",
    "        df5 = df5.set_axis(['t-5','t-4','t-3','t-2','t-1', 't'], axis='columns')\n",
    "    # Reverse the direction of the dataset\n",
    "    df6 = df5[df5.columns[::-1]]\n",
    "    return df6.loc[(df6!=0).any(axis=1)]"
   ]
  },
  {
   "cell_type": "code",
   "execution_count": 9,
   "id": "a2974859-5444-4635-a389-55ec5612b0da",
   "metadata": {},
   "outputs": [],
   "source": [
    "# Convert datasets to dictionary\n",
    "def convert_to_dict(securities, df_is, df_bs, df_px):\n",
    "    date = {}\n",
    "    for security in securities:\n",
    "        # Convert DF to JSON\n",
    "        data = {}\n",
    "        df_is_sec = df_is.loc[security].to_json()\n",
    "        df_bs_sec = df_bs.loc[security].to_json()\n",
    "        df_px_sec = df_px.loc[security].set_index('DATE')[['Price']].to_json()\n",
    "        # Convert to string and store\n",
    "        data['is'] = json.dumps(df_is_sec)\n",
    "        data['bs'] = json.dumps(df_bs_sec)\n",
    "        data['px'] = json.dumps(df_px_sec)\n",
    "        date[security] = data\n",
    "    return date\n",
    "\n",
    "\n",
    "def process_single_date(securities, fields):\n",
    "    req = bql.Request(securities, fields)\n",
    "    data = bq.execute(req)\n",
    "    if len(fields) > 1:\n",
    "        return format_request_to_df(data, fields)\n",
    "    else:\n",
    "        return data[0].df()\n",
    "\n",
    "\n",
    "# main function for requesting the datasets\n",
    "def update_financial_data(dates_and_securities):\n",
    "    all_data = {}\n",
    "    is_first = True\n",
    "    dates = dates_and_securities.reset_index()['AS_OF_DATE'].unique()\n",
    "    max_count = len(dates)\n",
    "    f = IntProgress(min=0, max=max_count) # instantiate the bar\n",
    "    display(f)\n",
    "    # Loop through each date and extract securities\n",
    "    for date in dates:\n",
    "        if is_first:\n",
    "            is_first=False\n",
    "        else:\n",
    "            as_of_date = str(date)[0:10]\n",
    "            securities = list(dates_and_securities.loc[as_of_date].reset_index()['ID'])\n",
    "            univ, is_fields, bs_fields, price = helper.setup_request(securities, as_of_date) \n",
    "            try:\n",
    "                df_is = process_single_date(univ, is_fields)\n",
    "                df_bs = process_single_date(univ, bs_fields)\n",
    "                df_px = process_single_date(univ, price)\n",
    "                all_data[as_of_date] = convert_to_dict(securities, df_is, df_bs, df_px)\n",
    "            except:\n",
    "                print(as_of_date)\n",
    "            f.value += 1\n",
    "    return all_data\n",
    "        "
   ]
  },
  {
   "cell_type": "code",
   "execution_count": 39,
   "id": "28bd527b-55a1-4b74-b3ac-d9c3148207d5",
   "metadata": {},
   "outputs": [
    {
     "data": {
      "text/html": [
       "<div>\n",
       "<style scoped>\n",
       "    .dataframe tbody tr th:only-of-type {\n",
       "        vertical-align: middle;\n",
       "    }\n",
       "\n",
       "    .dataframe tbody tr th {\n",
       "        vertical-align: top;\n",
       "    }\n",
       "\n",
       "    .dataframe thead th {\n",
       "        text-align: right;\n",
       "    }\n",
       "</style>\n",
       "<table border=\"1\" class=\"dataframe\">\n",
       "  <thead>\n",
       "    <tr style=\"text-align: right;\">\n",
       "      <th></th>\n",
       "      <th>PERIOD_END_DATE</th>\n",
       "    </tr>\n",
       "    <tr>\n",
       "      <th>ID</th>\n",
       "      <th></th>\n",
       "    </tr>\n",
       "  </thead>\n",
       "  <tbody>\n",
       "    <tr>\n",
       "      <th>VZ UN Equity</th>\n",
       "      <td>2024-09-30</td>\n",
       "    </tr>\n",
       "    <tr>\n",
       "      <th>MMM UN Equity</th>\n",
       "      <td>2024-09-30</td>\n",
       "    </tr>\n",
       "    <tr>\n",
       "      <th>SHW UN Equity</th>\n",
       "      <td>2024-09-30</td>\n",
       "    </tr>\n",
       "    <tr>\n",
       "      <th>RTX UN Equity</th>\n",
       "      <td>2024-09-30</td>\n",
       "    </tr>\n",
       "  </tbody>\n",
       "</table>\n",
       "</div>"
      ],
      "text/plain": [
       "              PERIOD_END_DATE\n",
       "ID                           \n",
       "VZ UN Equity       2024-09-30\n",
       "MMM UN Equity      2024-09-30\n",
       "SHW UN Equity      2024-09-30\n",
       "RTX UN Equity      2024-09-30"
      ]
     },
     "execution_count": 39,
     "metadata": {},
     "output_type": "execute_result"
    }
   ],
   "source": [
    "df_rebalance_dates.loc['2024-10-22']"
   ]
  },
  {
   "cell_type": "code",
   "execution_count": 40,
   "id": "7bb09a0e-3e45-48bc-ac79-685991db56a8",
   "metadata": {},
   "outputs": [
    {
     "data": {
      "application/vnd.jupyter.widget-view+json": {
       "model_id": "619e9c44a43241978d960975c1df2c19",
       "version_major": 2,
       "version_minor": 0
      },
      "text/plain": [
       "IntProgress(value=0, max=428)"
      ]
     },
     "metadata": {},
     "output_type": "display_data"
    },
    {
     "name": "stdout",
     "output_type": "stream",
     "text": [
      "2020-04-14\n",
      "2020-11-05\n",
      "2022-07-19\n",
      "2022-11-01\n",
      "2023-04-18\n",
      "2024-07-17\n",
      "2024-07-30\n",
      "2025-02-04\n"
     ]
    }
   ],
   "source": [
    "# request the data\n",
    "all_data = update_financial_data(df_rebalance_dates)"
   ]
  },
  {
   "cell_type": "markdown",
   "id": "7d1d2957-f32d-485e-97b8-c904642d0181",
   "metadata": {},
   "source": [
    "## Save the PIT data to S3\n",
    "\n",
    "Store this in the data bucket for the project to retrieve for the next step"
   ]
  },
  {
   "cell_type": "code",
   "execution_count": 55,
   "id": "239b38d9-85d2-4a13-8c1b-c14e6e2e1700",
   "metadata": {},
   "outputs": [],
   "source": [
    "## Save to S3\n",
    "user_bucket_name = os.environ['BQUANT_SANDBOX_USER_BUCKET']\n",
    "bqnt_username = os.environ['BQUANT_USERNAME']\n",
    "\n",
    "#s3 = boto3.resource(\"s3\")\n",
    "\n",
    "path_to_s3 = f's3://{user_bucket_name}/{bqnt_username}/tmp/fs/{filename}'\n",
    "s3 = S3FileSystem()\n",
    "\n",
    "with s3.open(path_to_s3, 'w') as file:\n",
    "     json.dump(all_data, file)"
   ]
  },
  {
   "cell_type": "markdown",
   "id": "399d5765-6e1d-401a-a56e-1b136535d3e7",
   "metadata": {},
   "source": [
    "## Request datasets for Training\n",
    "Use the S&P 500 and select random securities to generate the prompts that do not appear in the INDU Index. This will be used to train the data"
   ]
  },
  {
   "cell_type": "code",
   "execution_count": 4,
   "id": "e477d4bc-0fc2-45b3-934e-5197be6b658a",
   "metadata": {},
   "outputs": [],
   "source": [
    "# select the index\n",
    "training_index = 'SPX Index'\n",
    "\n",
    "filename = 'data_quarterly_pit_spx_refresh_blended.json'\n",
    "reporting_period = 'Q'\n",
    "\n",
    "# rebalance dates for the index\n",
    "rebalance_dates = ['2024-12-31',\n",
    "        '2024-09-30',\n",
    "        '2024-06-30',\n",
    "        '2024-03-31',\n",
    "        '2023-12-31',\n",
    "        '2023-09-30',\n",
    "        '2023-06-30',\n",
    "        '2023-03-31',\n",
    "        '2022-12-31',\n",
    "        '2022-09-30',\n",
    "        '2022-06-30',\n",
    "        '2022-03-31',\n",
    "        '2021-12-31',\n",
    "        '2021-09-30',\n",
    "        '2021-06-30',\n",
    "        '2021-03-31',\n",
    "        '2020-12-31',\n",
    "        '2020-09-30',\n",
    "        '2020-06-30',\n",
    "        '2020-03-31',\n",
    "        '2019-12-31',\n",
    "        '2019-09-30',\n",
    "        '2019-06-30',\n",
    "        '2019-03-31',]\n",
    "\n"
   ]
  },
  {
   "cell_type": "code",
   "execution_count": 10,
   "id": "9540fad8-708c-4b63-b972-42f7fd981504",
   "metadata": {},
   "outputs": [
    {
     "name": "stdout",
     "output_type": "stream",
     "text": [
      "Complete for  2024-12-31\n",
      "Complete for  2024-09-30\n",
      "Complete for  2024-06-30\n",
      "Complete for  2024-03-31\n",
      "Complete for  2023-12-31\n",
      "Complete for  2023-09-30\n",
      "Complete for  2023-06-30\n",
      "Complete for  2023-03-31\n",
      "Complete for  2022-12-31\n",
      "Complete for  2022-09-30\n",
      "Complete for  2022-06-30\n",
      "Complete for  2022-03-31\n",
      "Complete for  2021-12-31\n",
      "Complete for  2021-09-30\n",
      "Complete for  2021-06-30\n",
      "Complete for  2021-03-31\n",
      "Complete for  2020-12-31\n",
      "Complete for  2020-09-30\n",
      "Complete for  2020-06-30\n",
      "Complete for  2020-03-31\n",
      "Complete for  2019-12-31\n",
      "Complete for  2019-09-30\n",
      "Complete for  2019-06-30\n",
      "Complete for  2019-03-31\n"
     ]
    }
   ],
   "source": [
    "df_rebalance_dates = get_rebalance_dates(training_index, rebalance_dates)"
   ]
  },
  {
   "cell_type": "code",
   "execution_count": 11,
   "id": "4275c2c2-cd43-4049-9295-912c4c05d787",
   "metadata": {},
   "outputs": [
    {
     "data": {
      "application/vnd.jupyter.widget-view+json": {
       "model_id": "06e039aa1097423092c7a594380e2641",
       "version_major": 2,
       "version_minor": 0
      },
      "text/plain": [
       "IntProgress(value=0, max=1056)"
      ]
     },
     "metadata": {},
     "output_type": "display_data"
    },
    {
     "name": "stdout",
     "output_type": "stream",
     "text": [
      "2020-05-08\n",
      "2020-06-29\n",
      "2020-07-30\n",
      "2020-09-21\n",
      "2020-10-29\n",
      "2020-12-16\n",
      "2021-01-04\n",
      "2021-02-11\n",
      "2021-05-06\n",
      "2021-05-12\n",
      "2021-06-21\n",
      "2021-08-12\n",
      "2021-11-11\n",
      "2022-01-12\n",
      "2022-03-21\n",
      "2022-05-12\n",
      "2022-08-04\n",
      "2022-11-25\n",
      "2022-12-14\n",
      "2023-01-09\n",
      "2023-01-30\n",
      "2023-06-02\n",
      "2023-07-20\n",
      "2023-10-25\n",
      "2023-10-26\n",
      "2024-02-28\n",
      "2024-04-23\n",
      "2024-04-25\n",
      "2024-05-09\n",
      "2024-06-17\n",
      "2024-07-15\n",
      "2024-07-24\n",
      "2024-08-08\n",
      "2024-09-24\n",
      "2024-09-25\n",
      "2024-10-23\n",
      "2024-10-30\n",
      "2024-11-07\n",
      "2024-11-08\n",
      "2024-12-16\n",
      "2025-01-08\n",
      "2025-02-04\n",
      "2025-02-06\n"
     ]
    }
   ],
   "source": [
    "all_data_training = update_financial_data(df_rebalance_dates)"
   ]
  },
  {
   "cell_type": "code",
   "execution_count": null,
   "id": "033027e5-f1fb-4493-bf3d-27755a6a2121",
   "metadata": {},
   "outputs": [],
   "source": []
  },
  {
   "cell_type": "code",
   "execution_count": null,
   "id": "741113d4-9dfa-4703-a2bf-e878c967c6af",
   "metadata": {},
   "outputs": [],
   "source": []
  },
  {
   "cell_type": "code",
   "execution_count": null,
   "id": "25282248-8645-45dd-b374-e4f48d3287f4",
   "metadata": {},
   "outputs": [],
   "source": []
  },
  {
   "cell_type": "code",
   "execution_count": null,
   "id": "2b152d6d-62b9-4e1e-8d67-37e76fdc2970",
   "metadata": {},
   "outputs": [],
   "source": []
  },
  {
   "cell_type": "code",
   "execution_count": null,
   "id": "e8c2116d-2ecf-4473-9c0d-8d0ec5325b38",
   "metadata": {},
   "outputs": [],
   "source": []
  },
  {
   "cell_type": "code",
   "execution_count": 31,
   "id": "10c72de8-4792-45ad-8443-8c79fbfdff48",
   "metadata": {},
   "outputs": [],
   "source": [
    "#all_data['2024-10-22']['MMM UN Equity']a"
   ]
  },
  {
   "cell_type": "code",
   "execution_count": null,
   "id": "0750c7bd-a412-4655-99f9-6c83b99db599",
   "metadata": {},
   "outputs": [],
   "source": []
  },
  {
   "cell_type": "code",
   "execution_count": null,
   "id": "077e46e8-c132-45b0-b764-0623a49f1562",
   "metadata": {},
   "outputs": [],
   "source": []
  },
  {
   "cell_type": "markdown",
   "id": "adafba19-8397-461f-99e3-5ebe51db6fec",
   "metadata": {},
   "source": [
    "## Unused Code"
   ]
  },
  {
   "cell_type": "code",
   "execution_count": 32,
   "id": "4ba19ad3-e7fd-4bd3-809a-39d91ff26c6d",
   "metadata": {},
   "outputs": [],
   "source": [
    "# univ = ['MMM UN Equity', 'SHW UN Equity', 'VZ UN Equity', 'RTX UN Equity']\n",
    "# #univ, is_fields, bs_fields, price = helper.setup_request(univ, '2025-01-21') \n",
    "# univ, is_fields, bs_fields, price = helper.setup_request(univ, '2024-10-22') \n"
   ]
  },
  {
   "cell_type": "code",
   "execution_count": 33,
   "id": "89e13c6f-d13a-453f-a32f-d68573038d8a",
   "metadata": {},
   "outputs": [],
   "source": [
    "# req = bql.Request(univ, is_fields)\n",
    "# data = bq.execute(req)"
   ]
  },
  {
   "cell_type": "code",
   "execution_count": 1,
   "id": "44515e3c-6332-4bbc-8400-034b935e6afa",
   "metadata": {},
   "outputs": [],
   "source": [
    "# fields = is_fields\n",
    "# fields = list(fields.keys())\n",
    "# df_all = [data[index].df()[data[index].df()['PERIOD_END_DATE'] != 0]\n",
    "#               .pivot(columns='PERIOD_END_DATE', values=[fields[index]])\n",
    "#               .fillna(0) \n",
    "#               for index in range(0,len(fields))]\n",
    "# df2 = pd.concat(df_all, axis=1)\n",
    "# df3 = df2.stack().transpose().stack().unstack(level=0).transpose().fillna(0)\n",
    "# df4 = df3.loc[:, (df3 != 0).any(axis=0)]\n",
    "# Reformat the columns to remove dates\n",
    "# if len(df4.columns) == 6:\n",
    "#       df5 = df4.set_axis(['t-5','t-4','t-3','t-2','t-1', 't'], axis='columns')\n",
    "# else:\n",
    "#       df5 = df4.drop(columns=df4.columns[0:(len(df4.columns)-6)])\n",
    "#       df5 = df5.set_axis(['t-5','t-4','t-3','t-2','t-1', 't'], axis='columns')\n",
    "#  # Reverse the direction of the dataset\n",
    "# # df6 = df5[df5.columns[::-1]]"
   ]
  },
  {
   "cell_type": "code",
   "execution_count": 2,
   "id": "b5117188-267e-46b0-9418-bdbb7c004833",
   "metadata": {},
   "outputs": [],
   "source": [
    "#df5"
   ]
  },
  {
   "cell_type": "code",
   "execution_count": 3,
   "id": "f294023e-a8ca-48f7-8fd2-b00e12da7419",
   "metadata": {},
   "outputs": [],
   "source": [
    "# df_is = process_single_date(univ, is_fields)\n",
    "# df_bs = process_single_date(univ, bs_fields)\n",
    "# df_px = process_single_date(univ, price)"
   ]
  },
  {
   "cell_type": "code",
   "execution_count": 4,
   "id": "a5b43c8f-74e7-465d-bd76-1552cce6c782",
   "metadata": {},
   "outputs": [],
   "source": [
    "#df_is"
   ]
  },
  {
   "cell_type": "code",
   "execution_count": 8,
   "id": "fd3c5575-9590-46c8-b031-b994d35a86e0",
   "metadata": {},
   "outputs": [],
   "source": [
    "# # pull out the list of as of dates - will use this to loop through the securities\n",
    "# dates = df_rebalance_dates.reset_index()['AS_OF_DATE'].unique()"
   ]
  },
  {
   "cell_type": "code",
   "execution_count": 1,
   "id": "da4da6c7-e542-44f2-82a7-013e7fe49e38",
   "metadata": {},
   "outputs": [],
   "source": [
    "# as_of_date = '2020-03-11'#str(dates[12])[0:10]\n",
    "# securities = list(df_rebalance_dates.loc[as_of_date].index)\n",
    "# as_of_date"
   ]
  },
  {
   "cell_type": "code",
   "execution_count": 73,
   "id": "196ac63c-7837-4d08-9be5-2681541663f1",
   "metadata": {},
   "outputs": [],
   "source": [
    "# univ, is_fields, bs_fields, price = helper.setup_request(securities, as_of_date)"
   ]
  },
  {
   "cell_type": "code",
   "execution_count": 74,
   "id": "12718d7d-6d1d-43f0-88eb-568a4a43c92c",
   "metadata": {},
   "outputs": [],
   "source": [
    "# req = bql.Request(securities,is_fields)\n",
    "# data = bq.execute(req)"
   ]
  },
  {
   "cell_type": "code",
   "execution_count": 80,
   "id": "2b3fc610-d47f-41ff-8f1b-7fb091fd241e",
   "metadata": {},
   "outputs": [],
   "source": [
    "# # Convert the request into correct format for data frame\n",
    "# def format_request_to_df(data, fields):\n",
    "#     fields = list(fields.keys())\n",
    "#     df_all = [data[index].df()[data[index].df()['PERIOD_END_DATE'] != 0]\n",
    "#                   .pivot(columns='PERIOD_END_DATE', values=[fields[index]])\n",
    "#                   .fillna(0) \n",
    "#                   for index in range(0,len(fields))]\n",
    "#     df2 = pd.concat(df_all, axis=1)\n",
    "#     df3 = df2.stack().transpose().stack().unstack(level=0).transpose().fillna(0)\n",
    "#     df4 = df3.loc[:, (df3 != 0).any(axis=0)]\n",
    "#     # Reformat the columns to remove dates\n",
    "#     if len(df4.columns) == 6:\n",
    "#         df5 = df4.set_axis(['t-5','t-4','t-3','t-2','t-1', 't'], axis='columns')\n",
    "#     else:\n",
    "#         df5 = df4.drop(columns=df4.columns[0:(len(df4.columns)-6)])\n",
    "#         df5 = df5.set_axis(['t-5','t-4','t-3','t-2','t-1', 't'], axis='columns')\n",
    "#     # Reverse the direction of the dataset\n",
    "#     df6 = df5[df5.columns[::-1]]\n",
    "#     return df6.loc[(df6!=0).any(axis=1)]"
   ]
  },
  {
   "cell_type": "code",
   "execution_count": 90,
   "id": "0ba5ab57-e79e-426a-b338-20c413179eac",
   "metadata": {},
   "outputs": [],
   "source": [
    "# # test run\n",
    "# req = bql.Request(securities, is_fields)\n",
    "# data_is = bq.execute(req)\n",
    "# req = bql.Request(securities, bs_fields)\n",
    "# data_bs = bq.execute(req)\n",
    "# df_is = format_request_to_df(data_is, is_fields)\n",
    "# df_bs = format_request_to_df(data_bs, bs_fields)"
   ]
  },
  {
   "cell_type": "code",
   "execution_count": 75,
   "id": "6e87b9ab-945f-4ab3-b80a-e227b5b721d5",
   "metadata": {},
   "outputs": [],
   "source": [
    "# fields = list(is_fields.keys())\n",
    "# df_all = [data[index].df()[data[index].df()['PERIOD_END_DATE'] != 0]\n",
    "#               .pivot(columns='PERIOD_END_DATE', values=[fields[index]])\n",
    "#               .fillna(0) \n",
    "#               for index in range(0,len(fields))]\n",
    "# df2 = pd.concat(df_all, axis=1)\n",
    "# df3 = df2.stack().transpose().stack().unstack(level=0).transpose().fillna(0)\n",
    "# df4 = df3.loc[:, (df3 != 0).any(axis=0)]"
   ]
  },
  {
   "cell_type": "code",
   "execution_count": null,
   "id": "68da5fb4-9c0d-46ec-b98a-d26526bc6448",
   "metadata": {},
   "outputs": [],
   "source": []
  }
 ],
 "metadata": {
  "kernelspec": {
   "display_name": "Bloomberg Lab Python 3",
   "language": "python",
   "name": "user-python"
  },
  "language_info": {
   "codemirror_mode": {
    "name": "ipython",
    "version": 3
   },
   "file_extension": ".py",
   "mimetype": "text/x-python",
   "name": "python",
   "nbconvert_exporter": "python",
   "pygments_lexer": "ipython3",
   "version": "3.9.12"
  }
 },
 "nbformat": 4,
 "nbformat_minor": 5
}
