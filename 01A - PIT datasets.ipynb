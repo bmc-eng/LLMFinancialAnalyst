{
 "cells": [
  {
   "cell_type": "markdown",
   "id": "6bab199d-800f-40d2-849a-39cedec3ea3b",
   "metadata": {},
   "source": [
    "# Get Point-in-time datasets\n",
    "Find all of the dates when companies first published their quarterly reports"
   ]
  },
  {
   "cell_type": "code",
   "execution_count": 1,
   "id": "9dba4023-2a67-4566-87a1-c7353bbc0b42",
   "metadata": {},
   "outputs": [],
   "source": [
    "import bql\n",
    "import pandas as pd\n",
    "import helper\n",
    "import boto3\n",
    "import json\n",
    "from s3fs import S3FileSystem\n",
    "import os\n",
    "\n",
    "from ipywidgets import IntProgress\n",
    "from IPython.display import display"
   ]
  },
  {
   "cell_type": "code",
   "execution_count": 2,
   "id": "abe2d2ac-595c-4d0a-92c2-d4558828a6ab",
   "metadata": {},
   "outputs": [
    {
     "data": {
      "text/plain": [
       "<module 'helper' from '/project/helper.py'>"
      ]
     },
     "execution_count": 2,
     "metadata": {},
     "output_type": "execute_result"
    }
   ],
   "source": [
    "import importlib\n",
    "importlib.reload(helper)"
   ]
  },
  {
   "cell_type": "code",
   "execution_count": 2,
   "id": "4b626d2c-5848-470f-b805-7ab145bf4f05",
   "metadata": {},
   "outputs": [],
   "source": [
    "bq = bql.Service()"
   ]
  },
  {
   "cell_type": "code",
   "execution_count": 3,
   "id": "d07d07e2-bc46-461c-bfbf-e11bd82d803d",
   "metadata": {},
   "outputs": [],
   "source": [
    "# Index to use for point in time firms\n",
    "index = 'INDU Index'\n",
    "\n",
    "# rebalance dates for the index\n",
    "rebalance_dates = ['2024-12-31',\n",
    "        '2024-09-30',\n",
    "        '2024-06-30',\n",
    "        '2024-03-31',\n",
    "        '2023-12-31',\n",
    "        '2023-09-30',\n",
    "        '2023-06-30',\n",
    "        '2023-03-31',\n",
    "        '2022-12-31',\n",
    "        '2022-09-30',\n",
    "        '2022-06-30',\n",
    "        '2022-03-31',\n",
    "        '2021-12-31',\n",
    "        '2021-09-30',\n",
    "        '2021-06-30',\n",
    "        '2021-03-31',\n",
    "        '2020-12-31',\n",
    "        '2020-09-30',\n",
    "        '2020-06-30',\n",
    "        '2020-03-31',\n",
    "        '2019-12-31',\n",
    "        '2019-09-30',\n",
    "        '2019-06-30',\n",
    "        '2019-03-31',]\n"
   ]
  },
  {
   "cell_type": "markdown",
   "id": "732e0db7-fd9c-40c1-8b1e-53568fdd06ec",
   "metadata": {},
   "source": [
    "# Calculate the Rebalance dates\n",
    "\n",
    "For each rebalance date, get the members of the index at that time and look up their reporting dates"
   ]
  },
  {
   "cell_type": "code",
   "execution_count": 4,
   "id": "d10ec708-0534-437a-a13d-5f22c7a22844",
   "metadata": {},
   "outputs": [],
   "source": [
    "all_data = []\n",
    "\n",
    "def get_reporting_dates_per_rebalance(date):\n",
    "    univ = bq.univ.members(index, dates=date)\n",
    "    field = bq.data.sales_rev_turn(dates=bq.func.range('-5Y','0D'), fa_period_type='A') # Change to Annual if needed\n",
    "    req = bql.Request(univ, field)\n",
    "    data = bq.execute(req)\n",
    "    df = data[0].df().dropna()\n",
    "    return df.sort_values('PERIOD_END_DATE', ascending=True).reset_index().drop_duplicates(subset=['ID','PERIOD_END_DATE'], keep='first')"
   ]
  },
  {
   "cell_type": "code",
   "execution_count": 5,
   "id": "e811ba9e-c9c1-4ee2-8fd6-4ecff6d14664",
   "metadata": {},
   "outputs": [],
   "source": [
    "def get_rebalance_dates():\n",
    "    for date in rebalance_dates:\n",
    "        all_data.append(get_reporting_dates_per_rebalance(date))\n",
    "        print(\"Complete for \", date)\n",
    "    df = pd.concat(all_data)\n",
    "    df_concat = df[['ID','AS_OF_DATE','PERIOD_END_DATE']].sort_values('PERIOD_END_DATE', ascending=True).drop_duplicates(subset=['ID','PERIOD_END_DATE'], keep='first')\n",
    "    return df_concat.set_index(['AS_OF_DATE','ID']).sort_values(['AS_OF_DATE'])"
   ]
  },
  {
   "cell_type": "code",
   "execution_count": 6,
   "id": "34e558c6-7e99-4cae-bf12-36872f37172c",
   "metadata": {},
   "outputs": [
    {
     "name": "stdout",
     "output_type": "stream",
     "text": [
      "Complete for  2024-12-31\n",
      "Complete for  2024-09-30\n",
      "Complete for  2024-06-30\n",
      "Complete for  2024-03-31\n",
      "Complete for  2023-12-31\n",
      "Complete for  2023-09-30\n",
      "Complete for  2023-06-30\n",
      "Complete for  2023-03-31\n",
      "Complete for  2022-12-31\n",
      "Complete for  2022-09-30\n",
      "Complete for  2022-06-30\n",
      "Complete for  2022-03-31\n",
      "Complete for  2021-12-31\n",
      "Complete for  2021-09-30\n",
      "Complete for  2021-06-30\n",
      "Complete for  2021-03-31\n",
      "Complete for  2020-12-31\n",
      "Complete for  2020-09-30\n",
      "Complete for  2020-06-30\n",
      "Complete for  2020-03-31\n",
      "Complete for  2019-12-31\n",
      "Complete for  2019-09-30\n",
      "Complete for  2019-06-30\n",
      "Complete for  2019-03-31\n"
     ]
    }
   ],
   "source": [
    "df_rebalance_dates = get_rebalance_dates()"
   ]
  },
  {
   "cell_type": "markdown",
   "id": "36d5b6bf-ce3b-4e50-b53b-f59de0d2ca53",
   "metadata": {},
   "source": [
    "## Request all of the data and format\n",
    "\n",
    "Request financial statement and price points for each of the dates and securities. "
   ]
  },
  {
   "cell_type": "code",
   "execution_count": 7,
   "id": "af05c2b4-fd41-47f2-bfd2-0ef77aebe218",
   "metadata": {},
   "outputs": [],
   "source": [
    "# Convert the request into correct format for data frame\n",
    "def format_request_to_df(data, fields):\n",
    "    fields = list(fields.keys())\n",
    "    df_all = [data[index].df()[data[index].df()['PERIOD_END_DATE'] != 0]\n",
    "                  .pivot(columns='PERIOD_END_DATE', values=[fields[index]])\n",
    "                  .fillna(0) \n",
    "                  for index in range(0,len(fields))]\n",
    "    df2 = pd.concat(df_all, axis=1)\n",
    "    df3 = df2.stack().transpose().stack().unstack(level=0).transpose().fillna(0)\n",
    "    df4 = df3.loc[:, (df3 != 0).any(axis=0)]\n",
    "    # Reformat the columns to remove dates\n",
    "    if len(df4.columns) == 6:\n",
    "        df5 = df4.set_axis(['t-5','t-4','t-3','t-2','t-1', 't'], axis='columns')\n",
    "    else:\n",
    "        df5 = df4.drop(columns=df4.columns[0:(len(df4.columns)-6)])\n",
    "        df5 = df5.set_axis(['t-5','t-4','t-3','t-2','t-1', 't'], axis='columns')\n",
    "    # Reverse the direction of the dataset\n",
    "    df6 = df5[df5.columns[::-1]]\n",
    "    return df6.loc[(df6!=0).any(axis=1)]"
   ]
  },
  {
   "cell_type": "code",
   "execution_count": 8,
   "id": "a2974859-5444-4635-a389-55ec5612b0da",
   "metadata": {},
   "outputs": [],
   "source": [
    "# Convert datasets to dictionary\n",
    "def convert_to_dict(securities, df_is, df_bs, df_px):\n",
    "    date = {}\n",
    "    data = {}\n",
    "    for security in securities:\n",
    "        # Convert DF to JSON\n",
    "        df_is_sec = df_is.loc[security].to_json()\n",
    "        df_bs_sec = df_bs.loc[security].to_json()\n",
    "        df_px_sec = df_px.loc[security].set_index('DATE')[['Price']].to_json()\n",
    "        # Convert to string and store\n",
    "        data['is'] = json.dumps(df_is_sec)\n",
    "        data['bs'] = json.dumps(df_bs_sec)\n",
    "        data['px'] = json.dumps(df_px_sec)\n",
    "        date[security] = data\n",
    "    return date\n",
    "\n",
    "\n",
    "def process_single_date(securities, fields):\n",
    "    req = bql.Request(securities, fields)\n",
    "    data = bq.execute(req)\n",
    "    if len(fields) > 1:\n",
    "        return format_request_to_df(data, fields)\n",
    "    else:\n",
    "        return data[0].df()\n",
    "\n",
    "\n",
    "# main function for requesting the datasets\n",
    "def update_financial_data(dates_and_securities):\n",
    "    all_data = {}\n",
    "    is_first = True\n",
    "    dates = dates_and_securities.reset_index()['AS_OF_DATE'].unique()\n",
    "    max_count = len(dates)\n",
    "    f = IntProgress(min=0, max=max_count) # instantiate the bar\n",
    "    display(f)\n",
    "    # Loop through each date and extract securities\n",
    "    for date in dates:\n",
    "        if is_first:\n",
    "            is_first=False\n",
    "        else:\n",
    "            as_of_date = str(date)[0:10]\n",
    "            securities = list(dates_and_securities.loc[as_of_date].index)\n",
    "            univ, is_fields, bs_fields, price = helper.setup_request(securities, as_of_date) \n",
    "            try:\n",
    "                df_is = process_single_date(securities, is_fields)\n",
    "                df_bs = process_single_date(securities, bs_fields)\n",
    "                df_px = process_single_date(securities, price)\n",
    "                all_data[as_of_date] = convert_to_dict(securities, df_is, df_bs, df_px)\n",
    "            except:\n",
    "                print(as_of_date)\n",
    "            f.value += 1\n",
    "    return all_data\n",
    "        "
   ]
  },
  {
   "cell_type": "code",
   "execution_count": 9,
   "id": "7bb09a0e-3e45-48bc-ac79-685991db56a8",
   "metadata": {},
   "outputs": [
    {
     "data": {
      "application/vnd.jupyter.widget-view+json": {
       "model_id": "dd97310d82c64066a5a04a665068e756",
       "version_major": 2,
       "version_minor": 0
      },
      "text/plain": [
       "IntProgress(value=0, max=152)"
      ]
     },
     "metadata": {},
     "output_type": "display_data"
    },
    {
     "name": "stdout",
     "output_type": "stream",
     "text": [
      "2024-01-30\n"
     ]
    }
   ],
   "source": [
    "# request the data\n",
    "all_data = update_financial_data(df_rebalance_dates)"
   ]
  },
  {
   "cell_type": "markdown",
   "id": "7d1d2957-f32d-485e-97b8-c904642d0181",
   "metadata": {},
   "source": [
    "## Save the PIT data to S3\n",
    "\n",
    "Store this in the data bucket for the project to retrieve for the next step"
   ]
  },
  {
   "cell_type": "code",
   "execution_count": 10,
   "id": "239b38d9-85d2-4a13-8c1b-c14e6e2e1700",
   "metadata": {},
   "outputs": [],
   "source": [
    "## Save to S3\n",
    "user_bucket_name = os.environ['BQUANT_SANDBOX_USER_BUCKET']\n",
    "bqnt_username = os.environ['BQUANT_USERNAME']\n",
    "\n",
    "#s3 = boto3.resource(\"s3\")\n",
    "\n",
    "path_to_s3 = f's3://{user_bucket_name}/{bqnt_username}/tmp/fs/data_annual_pit_indu.json'\n",
    "s3 = S3FileSystem()\n",
    "\n",
    "with s3.open(path_to_s3, 'w') as file:\n",
    "    json.dump(all_data, file)"
   ]
  },
  {
   "cell_type": "code",
   "execution_count": null,
   "id": "d22261ad-3b89-4e75-b739-c4076adae41c",
   "metadata": {},
   "outputs": [],
   "source": [
    "data = json.loads(all_data['2020-01-31']['AON UN Equity']['is'])\n",
    "pd.DataFrame(json.loads(data))"
   ]
  },
  {
   "cell_type": "code",
   "execution_count": null,
   "id": "959dba77-8e83-455e-9322-d9f01c824d43",
   "metadata": {},
   "outputs": [],
   "source": [
    "json.loads(data)"
   ]
  },
  {
   "cell_type": "code",
   "execution_count": null,
   "id": "a1e64a04-0e1b-4ef3-a0b7-212a5cd09c07",
   "metadata": {},
   "outputs": [],
   "source": []
  },
  {
   "cell_type": "code",
   "execution_count": null,
   "id": "10c72de8-4792-45ad-8443-8c79fbfdff48",
   "metadata": {},
   "outputs": [],
   "source": []
  },
  {
   "cell_type": "code",
   "execution_count": null,
   "id": "0750c7bd-a412-4655-99f9-6c83b99db599",
   "metadata": {},
   "outputs": [],
   "source": []
  },
  {
   "cell_type": "code",
   "execution_count": null,
   "id": "077e46e8-c132-45b0-b764-0623a49f1562",
   "metadata": {},
   "outputs": [],
   "source": []
  },
  {
   "cell_type": "markdown",
   "id": "adafba19-8397-461f-99e3-5ebe51db6fec",
   "metadata": {},
   "source": [
    "## Unused Code"
   ]
  },
  {
   "cell_type": "code",
   "execution_count": 91,
   "id": "503fa1c1-88c2-4d14-a0e6-a5353c0aba4e",
   "metadata": {},
   "outputs": [],
   "source": [
    "# Failed Dates\n",
    "failed_dates = ['2020-08-17',\n",
    "'2020-09-21',\n",
    "'2021-08-16',\n",
    "'2021-09-24',\n",
    "'2022-09-28',\n",
    "'2022-11-25',\n",
    "'2023-10-25',\n",
    "'2024-01-08',\n",
    "'2024-06-17',\n",
    "'2024-11-08',\n",
    "'2025-01-08']"
   ]
  },
  {
   "cell_type": "code",
   "execution_count": null,
   "id": "7f30341d-778f-41c7-9be7-f284e55d2fa6",
   "metadata": {},
   "outputs": [],
   "source": []
  },
  {
   "cell_type": "code",
   "execution_count": 8,
   "id": "fd3c5575-9590-46c8-b031-b994d35a86e0",
   "metadata": {},
   "outputs": [],
   "source": [
    "# pull out the list of as of dates - will use this to loop through the securities\n",
    "dates = df_rebalance_dates.reset_index()['AS_OF_DATE'].unique()"
   ]
  },
  {
   "cell_type": "code",
   "execution_count": 71,
   "id": "da4da6c7-e542-44f2-82a7-013e7fe49e38",
   "metadata": {},
   "outputs": [
    {
     "data": {
      "text/plain": [
       "'2020-03-11'"
      ]
     },
     "execution_count": 71,
     "metadata": {},
     "output_type": "execute_result"
    }
   ],
   "source": [
    "as_of_date = '2020-03-11'#str(dates[12])[0:10]\n",
    "securities = list(df_rebalance_dates.loc[as_of_date].index)\n",
    "as_of_date"
   ]
  },
  {
   "cell_type": "code",
   "execution_count": 73,
   "id": "196ac63c-7837-4d08-9be5-2681541663f1",
   "metadata": {},
   "outputs": [],
   "source": [
    "univ, is_fields, bs_fields, price = helper.setup_request(securities, as_of_date)"
   ]
  },
  {
   "cell_type": "code",
   "execution_count": 74,
   "id": "12718d7d-6d1d-43f0-88eb-568a4a43c92c",
   "metadata": {},
   "outputs": [],
   "source": [
    "req = bql.Request(securities,is_fields)\n",
    "data = bq.execute(req)"
   ]
  },
  {
   "cell_type": "code",
   "execution_count": 80,
   "id": "2b3fc610-d47f-41ff-8f1b-7fb091fd241e",
   "metadata": {},
   "outputs": [],
   "source": [
    "# Convert the request into correct format for data frame\n",
    "def format_request_to_df(data, fields):\n",
    "    fields = list(fields.keys())\n",
    "    df_all = [data[index].df()[data[index].df()['PERIOD_END_DATE'] != 0]\n",
    "                  .pivot(columns='PERIOD_END_DATE', values=[fields[index]])\n",
    "                  .fillna(0) \n",
    "                  for index in range(0,len(fields))]\n",
    "    df2 = pd.concat(df_all, axis=1)\n",
    "    df3 = df2.stack().transpose().stack().unstack(level=0).transpose().fillna(0)\n",
    "    df4 = df3.loc[:, (df3 != 0).any(axis=0)]\n",
    "    # Reformat the columns to remove dates\n",
    "    if len(df4.columns) == 6:\n",
    "        df5 = df4.set_axis(['t-5','t-4','t-3','t-2','t-1', 't'], axis='columns')\n",
    "    else:\n",
    "        df5 = df4.drop(columns=df4.columns[0:(len(df4.columns)-6)])\n",
    "        df5 = df5.set_axis(['t-5','t-4','t-3','t-2','t-1', 't'], axis='columns')\n",
    "    # Reverse the direction of the dataset\n",
    "    df6 = df5[df5.columns[::-1]]\n",
    "    return df6.loc[(df6!=0).any(axis=1)]"
   ]
  },
  {
   "cell_type": "code",
   "execution_count": 90,
   "id": "0ba5ab57-e79e-426a-b338-20c413179eac",
   "metadata": {},
   "outputs": [],
   "source": [
    "# test run\n",
    "req = bql.Request(securities, is_fields)\n",
    "data_is = bq.execute(req)\n",
    "req = bql.Request(securities, bs_fields)\n",
    "data_bs = bq.execute(req)\n",
    "df_is = format_request_to_df(data_is, is_fields)\n",
    "df_bs = format_request_to_df(data_bs, bs_fields)"
   ]
  },
  {
   "cell_type": "code",
   "execution_count": 75,
   "id": "6e87b9ab-945f-4ab3-b80a-e227b5b721d5",
   "metadata": {},
   "outputs": [],
   "source": [
    "fields = list(is_fields.keys())\n",
    "df_all = [data[index].df()[data[index].df()['PERIOD_END_DATE'] != 0]\n",
    "              .pivot(columns='PERIOD_END_DATE', values=[fields[index]])\n",
    "              .fillna(0) \n",
    "              for index in range(0,len(fields))]\n",
    "df2 = pd.concat(df_all, axis=1)\n",
    "df3 = df2.stack().transpose().stack().unstack(level=0).transpose().fillna(0)\n",
    "df4 = df3.loc[:, (df3 != 0).any(axis=0)]"
   ]
  },
  {
   "cell_type": "code",
   "execution_count": null,
   "id": "68da5fb4-9c0d-46ec-b98a-d26526bc6448",
   "metadata": {},
   "outputs": [],
   "source": []
  }
 ],
 "metadata": {
  "kernelspec": {
   "display_name": "BQuant Python 3",
   "language": "python",
   "name": "remote-jupyterpython"
  },
  "language_info": {
   "codemirror_mode": {
    "name": "ipython",
    "version": 3
   },
   "file_extension": ".py",
   "mimetype": "text/x-python",
   "name": "python",
   "nbconvert_exporter": "python",
   "pygments_lexer": "ipython3",
   "version": "3.11.8"
  }
 },
 "nbformat": 4,
 "nbformat_minor": 5
}
