{
 "cells": [
  {
   "cell_type": "markdown",
   "id": "c7e8b137-5ee8-4669-92d3-4d3373d7366a",
   "metadata": {},
   "source": [
    "# Frontier Models\n",
    "\n",
    "This section uses AWS Bedrock to run inference tests using the Claude and Open AI models. "
   ]
  },
  {
   "cell_type": "code",
   "execution_count": 31,
   "id": "199d53b3-7cb9-48a3-8fc3-fad5af2cc27d",
   "metadata": {},
   "outputs": [
    {
     "name": "stdout",
     "output_type": "stream",
     "text": [
      "Running: micromamba install boto3=1.34.51 langchain_aws --yes --quiet --log-level=error\n",
      "\u001b[31m\u001b[1merror    libmamba\u001b[m Could not solve for environment specs\n",
      "    The following package could not be installed\n",
      "    └─ \u001b[31mlangchain_aws\u001b[0m does not exist (perhaps a typo or a missing channel).\n",
      "\u001b[1m\u001b[41mcritical libmamba\u001b[m Could not solve for environment specs\n",
      "\n",
      "Note: Packages not from Bloomberg channels are not vetted by Bloomberg.\n",
      "\u001b[93mPlease restart the Jupyter kernel if you run into any issues after installing or updating packages via %package.\u001b[0m\n",
      "\n"
     ]
    }
   ],
   "source": [
    "%package install boto3=1.34.51 langchain_aws"
   ]
  },
  {
   "cell_type": "code",
   "execution_count": 29,
   "id": "8a618881-9e45-442b-b7d3-f15f27b8dd1f",
   "metadata": {},
   "outputs": [],
   "source": [
    "import json\n",
    "import boto3\n",
    "import botocore\n",
    "import instructor\n",
    "\n",
    "from prompts import SYSTEM_PROMPTS"
   ]
  },
  {
   "cell_type": "code",
   "execution_count": 2,
   "id": "c5d6ee4b-3c8d-414c-addc-18f7a78bad05",
   "metadata": {},
   "outputs": [
    {
     "data": {
      "text/plain": [
       "'1.34.51'"
      ]
     },
     "execution_count": 2,
     "metadata": {},
     "output_type": "execute_result"
    }
   ],
   "source": [
    "# boto3 must be version 1.34.51 or higher\n",
    "boto3.__version__"
   ]
  },
  {
   "cell_type": "code",
   "execution_count": 3,
   "id": "891eec29-a7b1-4d3d-aa45-2bf7b0deba62",
   "metadata": {},
   "outputs": [],
   "source": [
    "boto3_bedrock = boto3.client('bedrock-runtime')"
   ]
  },
  {
   "cell_type": "code",
   "execution_count": 20,
   "id": "7305f863-e2d5-423a-a2cd-7f8832a93eec",
   "metadata": {},
   "outputs": [],
   "source": [
    "model = 'us.anthropic.claude-3-7-sonnet-20250219-v1:0'"
   ]
  },
  {
   "cell_type": "code",
   "execution_count": 5,
   "id": "24a29e3d-8198-4f86-9d30-a9fb4c700102",
   "metadata": {},
   "outputs": [],
   "source": [
    "prompt = f'{SYSTEM_PROMPTS['']}'"
   ]
  },
  {
   "cell_type": "code",
   "execution_count": 25,
   "id": "fa45f14b-0da6-4f38-95d6-7b255b38f20f",
   "metadata": {},
   "outputs": [],
   "source": [
    "# Claude request\n",
    "doc_message = {\n",
    "    \"role\": \"user\",\n",
    "    \"content\": [\n",
    "        { \"text\": prompt }  # We add our prompt here \n",
    "    ]\n",
    "}\n",
    "\n",
    "native_request = {\n",
    "    \"anthropic_version\": \"bedrock-2023-05-31\",\n",
    "    \"max_tokens\": 512,\n",
    "    \"temperature\": 0.5,\n",
    "    \"messages\": [\n",
    "        # {\n",
    "        #     \"role\":\"system\",\n",
    "        #     \"content\": [{\"type\":\"text\", \"text\":\"you are a helpful chatbot\"}]\n",
    "        # },\n",
    "        {\n",
    "            \"role\":\"user\",\n",
    "            \"content\": [{\"type\":\"text\", \"text\":prompt}]\n",
    "        }\n",
    "    ]\n",
    "}\n",
    "\n",
    "body = json.dumps(native_request)"
   ]
  },
  {
   "cell_type": "code",
   "execution_count": 26,
   "id": "c054649f-2415-4636-bd4e-1f9604b37836",
   "metadata": {},
   "outputs": [
    {
     "name": "stdout",
     "output_type": "stream",
     "text": [
      "The capital of France is Paris. It's not only the capital city but also the largest city in France, known for its iconic landmarks such as the Eiffel Tower, the Louvre Museum, and Notre-Dame Cathedral.\n"
     ]
    }
   ],
   "source": [
    "GUARDRAIL_ID = os.environ['BEDROCK_GUARDRAIL_ID']\n",
    "GUARDRAIL_VERSION = os.environ['BEDROCK_GUARDRAIL_VERSION']\n",
    "\n",
    "modelId = model\n",
    "accept = 'application/json'\n",
    "contentType = 'application/json'\n",
    "\n",
    "try:\n",
    "    \n",
    "    response = boto3_bedrock.invoke_model(\n",
    "        body=body, \n",
    "        modelId=modelId, \n",
    "        accept=accept, \n",
    "        contentType=contentType,\n",
    "        #guardrailIdentifier = GUARDRAIL_ID, \n",
    "        #guardrailVersion = GUARDRAIL_VERSION, \n",
    "        trace = \"ENABLED\"\n",
    "    )\n",
    "    response_body = json.loads(response.get('body').read())\n",
    "    #print(response_body.get('generation')) #Llama response template\n",
    "    print(response_body.get('content')[0].get('text')) #Anthropic response template\n",
    "\n",
    "except botocore.exceptions.ClientError as error:\n",
    "    \n",
    "    if error.response['Error']['Code'] == 'AccessDeniedException':\n",
    "           print(f\"\\x1b[41m{error.response['Error']['Message']}\\\n",
    "                \\nTo troubeshoot this issue please refer to the following resources.\\\n",
    "                 \\nhttps://docs.aws.amazon.com/IAM/latest/UserGuide/troubleshoot_access-denied.html\\\n",
    "                 \\nhttps://docs.aws.amazon.com/bedrock/latest/userguide/security-iam.html\\x1b[0m\\n\")\n",
    "        \n",
    "    else:\n",
    "        raise error"
   ]
  },
  {
   "cell_type": "code",
   "execution_count": 27,
   "id": "c8c7b840-2df8-4216-b882-cc3f169b95d9",
   "metadata": {},
   "outputs": [
    {
     "data": {
      "text/plain": [
       "{'id': 'msg_bdrk_01TB4f8JesY5R93mbfCEkPYy',\n",
       " 'type': 'message',\n",
       " 'role': 'assistant',\n",
       " 'model': 'claude-3-7-sonnet-20250219',\n",
       " 'content': [{'type': 'text',\n",
       "   'text': \"The capital of France is Paris. It's not only the capital city but also the largest city in France, known for its iconic landmarks such as the Eiffel Tower, the Louvre Museum, and Notre-Dame Cathedral.\"}],\n",
       " 'stop_reason': 'end_turn',\n",
       " 'stop_sequence': None,\n",
       " 'usage': {'input_tokens': 14,\n",
       "  'cache_creation_input_tokens': 0,\n",
       "  'cache_read_input_tokens': 0,\n",
       "  'output_tokens': 51}}"
      ]
     },
     "execution_count": 27,
     "metadata": {},
     "output_type": "execute_result"
    }
   ],
   "source": [
    "response_body"
   ]
  },
  {
   "cell_type": "code",
   "execution_count": 12,
   "id": "603abaa6-1d04-4066-b9bb-4792c1d5df1a",
   "metadata": {},
   "outputs": [
    {
     "data": {
      "text/plain": [
       "'1'"
      ]
     },
     "execution_count": 12,
     "metadata": {},
     "output_type": "execute_result"
    }
   ],
   "source": [
    "GUARDRAIL_VERSION"
   ]
  },
  {
   "cell_type": "code",
   "execution_count": 30,
   "id": "7eecba92-4328-4c72-b4e5-22e4995dd72e",
   "metadata": {},
   "outputs": [
    {
     "ename": "ModuleNotFoundError",
     "evalue": "No module named 'langchain_aws'",
     "output_type": "error",
     "traceback": [
      "\u001b[0;31m---------------------------------------------------------------------------\u001b[0m",
      "\u001b[0;31mModuleNotFoundError\u001b[0m                       Traceback (most recent call last)",
      "Input \u001b[0;32mIn [30]\u001b[0m, in \u001b[0;36m<cell line: 1>\u001b[0;34m()\u001b[0m\n\u001b[0;32m----> 1\u001b[0m \u001b[38;5;28;01mfrom\u001b[39;00m \u001b[38;5;21;01mlangchain_aws\u001b[39;00m \u001b[38;5;28;01mimport\u001b[39;00m ChatBedrockConverse\n",
      "\u001b[0;31mModuleNotFoundError\u001b[0m: No module named 'langchain_aws'"
     ]
    }
   ],
   "source": [
    "from langchain_aws import ChatBedrockConverse"
   ]
  },
  {
   "cell_type": "code",
   "execution_count": null,
   "id": "b966ce43-1262-46b7-b07c-07993670efe5",
   "metadata": {},
   "outputs": [],
   "source": []
  }
 ],
 "metadata": {
  "kernelspec": {
   "display_name": "Bloomberg Lab Python 3",
   "language": "python",
   "name": "user-python"
  },
  "language_info": {
   "codemirror_mode": {
    "name": "ipython",
    "version": 3
   },
   "file_extension": ".py",
   "mimetype": "text/x-python",
   "name": "python",
   "nbconvert_exporter": "python",
   "pygments_lexer": "ipython3",
   "version": "3.9.12"
  }
 },
 "nbformat": 4,
 "nbformat_minor": 5
}
