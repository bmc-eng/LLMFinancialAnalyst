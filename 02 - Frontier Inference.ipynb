{
 "cells": [
  {
   "cell_type": "markdown",
   "id": "c7e8b137-5ee8-4669-92d3-4d3373d7366a",
   "metadata": {},
   "source": [
    "# Frontier Models\n",
    "\n",
    "This section uses AWS Bedrock to run inference tests using the Claude and Open AI models. "
   ]
  },
  {
   "cell_type": "code",
   "execution_count": 1,
   "id": "54e2587c-418b-4bd1-95a1-56a170f3ed9f",
   "metadata": {},
   "outputs": [
    {
     "name": "stdout",
     "output_type": "stream",
     "text": [
      "\u001b[31mERROR: pip's dependency resolver does not currently take into account all the packages that are installed. This behaviour is the source of the following dependency conflicts.\n",
      "langchain 0.2.17 requires langchain-core<0.3.0,>=0.2.43, but you have langchain-core 0.3.49 which is incompatible.\n",
      "langchain-text-splitters 0.2.4 requires langchain-core<0.3.0,>=0.2.38, but you have langchain-core 0.3.49 which is incompatible.\n",
      "langchain-community 0.2.19 requires langchain-core<0.3.0,>=0.2.43, but you have langchain-core 0.3.49 which is incompatible.\u001b[0m\u001b[31m\n",
      "\u001b[0m"
     ]
    }
   ],
   "source": [
    "!pip -q install langchain_aws"
   ]
  },
  {
   "cell_type": "code",
   "execution_count": 2,
   "id": "199d53b3-7cb9-48a3-8fc3-fad5af2cc27d",
   "metadata": {},
   "outputs": [
    {
     "name": "stdout",
     "output_type": "stream",
     "text": [
      "Running: micromamba install boto3=1.34.51 langchain --yes --quiet --log-level=error\n",
      "\n",
      "Note: Packages not from Bloomberg channels are not vetted by Bloomberg.\n",
      "\u001b[93mPlease restart the Jupyter kernel if you run into any issues after installing or updating packages via %package.\u001b[0m\n",
      "\n"
     ]
    }
   ],
   "source": [
    "%package install boto3=1.34.51 langchain "
   ]
  },
  {
   "cell_type": "code",
   "execution_count": 3,
   "id": "8a618881-9e45-442b-b7d3-f15f27b8dd1f",
   "metadata": {},
   "outputs": [],
   "source": [
    "import json\n",
    "import boto3\n",
    "import botocore\n",
    "import datetime\n",
    "import importlib\n",
    "import prompts\n",
    "from tqdm import tqdm\n",
    "\n",
    "from prompts import SYSTEM_PROMPTS\n",
    "from IPython.display import Markdown, display\n"
   ]
  },
  {
   "cell_type": "code",
   "execution_count": 4,
   "id": "0aba175d-b883-4801-9810-aeb112234fa5",
   "metadata": {},
   "outputs": [
    {
     "data": {
      "text/plain": [
       "<module 'prompts' from '/project/prompts.py'>"
      ]
     },
     "execution_count": 4,
     "metadata": {},
     "output_type": "execute_result"
    }
   ],
   "source": [
    "importlib.reload(prompts)"
   ]
  },
  {
   "cell_type": "code",
   "execution_count": 5,
   "id": "c5d6ee4b-3c8d-414c-addc-18f7a78bad05",
   "metadata": {},
   "outputs": [
    {
     "data": {
      "text/plain": [
       "'1.34.51'"
      ]
     },
     "execution_count": 5,
     "metadata": {},
     "output_type": "execute_result"
    }
   ],
   "source": [
    "# boto3 must be version 1.34.51 or higher\n",
    "boto3.__version__"
   ]
  },
  {
   "cell_type": "code",
   "execution_count": 6,
   "id": "17ce96a8-e4bd-41fd-ac8a-b97dff2596e9",
   "metadata": {},
   "outputs": [],
   "source": [
    "# Bedrock client initialise\n",
    "config = botocore.config.Config(read_timeout=1000)\n",
    "boto3_bedrock = boto3.client('bedrock-runtime',config=config)"
   ]
  },
  {
   "cell_type": "markdown",
   "id": "ed8d594a-7c2a-455c-b9fc-1be0d2a4a7ad",
   "metadata": {},
   "source": [
    "## Initial Bedrock Test\n",
    "This is an initial run of Bedrock with Anthropic to see how it responds to the financial analysis task"
   ]
  },
  {
   "cell_type": "code",
   "execution_count": 7,
   "id": "891eec29-a7b1-4d3d-aa45-2bf7b0deba62",
   "metadata": {},
   "outputs": [],
   "source": [
    "\n",
    "# set the model\n",
    "model = 'us.anthropic.claude-3-7-sonnet-20250219-v1:0'\n",
    "# load prompts into memory\n",
    "with open('Data/prompts.json', 'rb') as f:\n",
    "    prompts = json.load(f)"
   ]
  },
  {
   "cell_type": "code",
   "execution_count": 6,
   "id": "24a29e3d-8198-4f86-9d30-a9fb4c700102",
   "metadata": {},
   "outputs": [
    {
     "data": {
      "text/plain": [
       "\"You are a financial analyst and must make a buy, sell, hold decision on a company based only on the provided financial statement. Your goal is to buy stocks you think will increase over the next financial period and sell stocks you think will decline. Think step-by-step through the financial statement analysis workflow. Your report should have the following sections: 1. Analysis of current profitability, liquidity, solvency and efficiency ratios; 2. time-series analysis across the ratios; 3. Analysis of financial performance; 4. Stock Price analysis; 5. Decision Analysis looking at the positive and negative factors as well as the weighting in the final decision; 6. Final Decision of BUY, SELL or HOLD and the reason for this. The final decision should have a confidence score. Always state the formulas for any calculations you will use. Your answer should have a decision of 'BUY', 'SELL' or 'HOLD' as well as a confidence score. If you are not sure of the answer then lower the confidence score. {financials} context: Income Statement:                                                        t           t-1           t-2           t-3           t-4           t-5\\nitems                                                                                                                          \\nRevenue                                      8.111000e+09  7.991000e+09  8.171000e+09  7.863000e+09  7.945000e+09  8.152000e+09\\nCost of Revenue                              4.325000e+09  4.188000e+09  4.313000e+09  4.310000e+09  4.060000e+09  4.159000e+09\\nGross Profit                                 3.786000e+09  3.803000e+09  3.858000e+09  3.553000e+09  3.885000e+09  3.993000e+09\\nOperating Expenses                           2.461000e+09  1.792000e+09  2.156000e+09  2.417000e+09  2.102000e+09  1.977000e+09\\nSelling, General and Administrative Expense  1.940000e+09  1.455000e+09  1.686000e+09  1.948000e+09  1.682000e+09  1.547000e+09\\nR&D Expense Adjusted                         5.210000e+08  4.430000e+08  4.700000e+08  4.770000e+08  4.370000e+08  4.300000e+08\\nOther Operating Expenses                     0.000000e+00 -1.060000e+08  0.000000e+00 -8.000000e+06 -1.700000e+07  0.000000e+00\\nOperating Income or Losses                   1.325000e+09  2.011000e+09  1.702000e+09  1.136000e+09  1.783000e+09  2.016000e+09\\nNon-Operating (Income) Loss                  1.130000e+08  4.500000e+07  2.560000e+08  4.800000e+07  6.300000e+07  5.100000e+07\\nNet Interest Expense                         1.080000e+08  8.300000e+07  9.300000e+07  8.400000e+07  7.700000e+07  7.000000e+07\\nInterest Expense                             1.240000e+08  1.090000e+08  1.110000e+08  1.040000e+08  9.500000e+07  8.500000e+07\\nInterest Income                              1.600000e+07  2.600000e+07  1.800000e+07  2.000000e+07  1.800000e+07  1.500000e+07\\nOther Non-Operating (Income) Loss            5.000000e+06 -3.800000e+07  1.630000e+08 -3.600000e+07 -1.400000e+07 -1.900000e+07\\nPretax Income (Loss), Adjusted               1.212000e+09  1.966000e+09  1.446000e+09  1.088000e+09  1.720000e+09  1.965000e+09\\nAbnormal Losses (Gains)                      3.480000e+08 -1.120000e+08  3.100000e+08  5.400000e+08  8.094937e+07  0.000000e+00\\nSale of Business                             0.000000e+00 -1.120000e+08  1.620000e+08 -8.000000e+06 -1.700000e+07  0.000000e+00\\nRestructuring Expenses                       1.340000e+08  0.000000e+00  1.480000e+08  0.000000e+00  2.200000e+07  0.000000e+00\\nIncome Tax Expense (Benefit)                 2.420000e+08  3.780000e+08  3.150000e+08  1.950000e+08  3.710000e+08  4.190000e+08\\nIncome (Loss) from Continuing Operations     9.700000e+08  1.588000e+09  1.131000e+09  8.930000e+08  1.349000e+09  1.546000e+09\\nNet Income/Net Profit (Losses)               9.690000e+08  1.583000e+09  1.127000e+09  8.910000e+08  1.347000e+09  1.543000e+09\\nNet Abnormal Losses (Gains)                  2.825400e+08 -8.162000e+07  2.789200e+08  4.176800e+08  2.452800e+07  0.000000e+00\\nBasic Earnings per Share                     1.680000e+00  2.750000e+00  1.950000e+00  1.540000e+00  2.320000e+00  2.640000e+00\\nBasic EPS from Continuing Operations         2.171681e+00  2.604302e+00  2.433651e+00  2.266113e+00  2.361853e+00  2.640000e+00\\nDiluted EPS                                  1.660000e+00  2.720000e+00  1.920000e+00  1.510000e+00  2.270000e+00  2.580000e+00\\nDiluted EPS from Continuing Operations, Adj  2.144881e+00  2.580000e+00  2.395891e+00  2.219737e+00  2.311390e+00  2.580000e+00\\n Balance Sheet:                                               t           t-1           t-2           t-3           t-4           t-5\\nitems                                                                                                                \\nCash, Cash Equivalents & STI       2.451000e+09  7.761000e+09  2.988000e+09  3.477000e+09  3.233000e+09  3.523000e+09\\nCash & Cash Equivalents            2.353000e+09  7.731000e+09  2.849000e+09  2.938000e+09  2.853000e+09  3.185000e+09\\nST Investments                     9.800000e+07  3.000000e+07  1.390000e+08  5.390000e+08  3.800000e+08  3.380000e+08\\nAccounts & Notes Receiv            4.791000e+09  5.020000e+09  5.374000e+09  5.173000e+09  5.020000e+09  5.329000e+09\\nInventories                        4.134000e+09  4.007000e+09  4.300000e+09  4.538000e+09  4.366000e+09  4.437000e+09\\nRaw Materials                      9.370000e+08  8.860000e+08  9.720000e+08  9.840000e+08  9.540000e+08  9.620000e+08\\nWork In Process                    1.194000e+09  1.231000e+09  1.348000e+09  1.333000e+09  1.292000e+09  1.350000e+09\\nFinished Goods                     2.003000e+09  1.890000e+09  1.980000e+09  2.221000e+09  2.120000e+09  2.125000e+09\\nOther ST Assets                    1.595000e+09  1.232000e+09  1.389000e+09  1.186000e+09  1.090000e+09  1.130000e+09\\nDerivative & Hedging Assets        1.310000e+08  1.980000e+08  7.300000e+07  9.900000e+07  1.320000e+08  7.200000e+07\\nMisc ST Assets                     7.600000e+08  3.170000e+08  3.670000e+08  3.740000e+08  2.170000e+08  3.130000e+08\\nTotal Current Assets               1.297100e+10  1.802000e+10  1.405100e+10  1.437400e+10  1.370900e+10  1.441900e+10\\nProperty, Plant & Equip, Net       1.019100e+10  9.725000e+09  9.877000e+09  9.626000e+09  8.738000e+09  8.630000e+09\\nProperty, Plant & Equip            2.698200e+10  2.634200e+10  2.644400e+10  2.592100e+10  2.487300e+10  2.476500e+10\\nAccumulated Depreciation           1.679100e+10  1.661700e+10  1.656700e+10  1.629500e+10  1.613500e+10  1.613500e+10\\nLT Investments & Receivables       1.260000e+08  0.000000e+00  0.000000e+00  0.000000e+00  1.180000e+08  0.000000e+00\\nOther LT Assets                    2.137100e+10  1.480500e+10  1.504100e+10  1.514000e+10  1.393500e+10  1.422600e+10\\nTotal Intangible Assets            1.982300e+10  1.325700e+10  1.353800e+10  1.365800e+10  1.270800e+10  1.284900e+10\\nGoodwill                           1.344400e+10  1.041000e+10  1.057400e+10  1.061100e+10  1.005100e+10  1.012300e+10\\nOther Intangible Assets            6.379000e+09  2.847000e+09  2.964000e+09  3.047000e+09  2.657000e+09  2.726000e+09\\nDeferred Tax Assets                5.210000e+08  0.000000e+00  0.000000e+00  0.000000e+00  3.650000e+08  0.000000e+00\\nDerivative & Hedging Assets        0.000000e+00  2.900000e+07  6.700000e+07  7.200000e+07  1.400000e+07  6.600000e+07\\nPrepaid Pension Costs              2.300000e+08  0.000000e+00  0.000000e+00  0.000000e+00  2.080000e+08  0.000000e+00\\nMisc LT Assets                     7.270000e+08  1.519000e+09  1.436000e+09  1.410000e+09  5.700000e+08  1.311000e+09\\nTotal Noncurrent Assets            3.168800e+10  2.453000e+10  2.491800e+10  2.476600e+10  2.279100e+10  2.285600e+10\\nTotal Assets                       4.465900e+10  4.255000e+10  3.896900e+10  3.914000e+10  3.650000e+10  3.727500e+10\\nPayables & Accruals                3.124000e+09  2.885000e+09  2.957000e+09  3.009000e+09  3.258000e+09  2.998000e+09\\nAccounts Payable                   2.228000e+09  2.079000e+09  2.130000e+09  2.309000e+09  2.266000e+09  2.029000e+09\\nAccrued Taxes                      1.940000e+08  1.370000e+08  2.230000e+08  1.830000e+08  2.430000e+08  1.860000e+08\\nOther Payables & Accruals          7.020000e+08  6.690000e+08  6.040000e+08  5.170000e+08  7.490000e+08  7.830000e+08\\nST Debt                            3.063000e+09  2.201000e+09  1.139000e+09  1.045000e+09  1.211000e+09  1.307000e+09\\nST Borrowings                      9.540000e+08  1.942000e+09  8.760000e+08  7.740000e+08  4.490000e+08  1.307000e+09\\nST Finance Leases                  2.100000e+07  1.800000e+07  1.600000e+07  1.600000e+07  1.700000e+07  0.000000e+00\\nST Operating Leases                2.470000e+08  2.410000e+08  2.470000e+08  2.550000e+08  0.000000e+00  0.000000e+00\\nCurrent Portion of LT Debt         1.841000e+09  0.000000e+00  0.000000e+00  0.000000e+00  7.450000e+08  0.000000e+00\\nOther ST Liabilities               3.035000e+09  2.735000e+09  3.169000e+09  3.071000e+09  2.775000e+09  3.031000e+09\\nDeferred Revenue                   4.300000e+08  6.050000e+08  6.030000e+08  6.190000e+08  6.170000e+08  6.140000e+08\\nDerivatives & Hedging              1.200000e+07  1.200000e+07  2.300000e+07  2.400000e+07  3.000000e+07  9.500000e+07\\nMisc ST Liabilities                2.593000e+09  2.118000e+09  2.543000e+09  2.428000e+09  2.128000e+09  2.322000e+09\\nTotal Current Liabilities          9.222000e+09  7.821000e+09  7.265000e+09  7.125000e+09  7.244000e+09  7.336000e+09\\nLT Debt                            1.823600e+10  1.806300e+10  1.553300e+10  1.611100e+10  1.341100e+10  1.353900e+10\\nLT Borrowings                      1.751800e+10  1.736300e+10  1.479300e+10  1.549600e+10  1.333600e+10  1.353900e+10\\nLT Finance Leases                  1.110000e+08  1.160000e+08  1.210000e+08  8.400000e+07  7.500000e+07  0.000000e+00\\nLT Operating Leases                6.070000e+08  5.840000e+08  6.190000e+08  5.310000e+08  0.000000e+00  0.000000e+00\\nOther LT Liabilities               7.075000e+09  5.902000e+09  6.029000e+09  6.147000e+09  5.997000e+09  6.089000e+09\\nPension Liabilities                3.911000e+09  2.667000e+09  2.761000e+09  2.919000e+09  2.987000e+09  3.183000e+09\\nDerivatives & Hedging              8.000000e+06  2.000000e+06  6.200000e+07  3.200000e+07  2.300000e+07  1.600000e+07\\nMisc LT Liabilities                2.855000e+09  3.233000e+09  3.206000e+09  3.196000e+09  2.708000e+09  2.890000e+09\\nTotal Noncurrent Liabilities       2.531100e+10  2.396500e+10  2.156200e+10  2.225800e+10  1.940800e+10  1.962800e+10\\nTotal Liabilities                  3.453300e+10  3.178600e+10  2.882700e+10  2.938300e+10  2.665200e+10  2.696400e+10\\nShare Capital & APIC               5.916000e+09  5.870000e+09  5.821000e+09  5.764000e+09  5.652000e+09  5.606000e+09\\nCommon Stock                       9.000000e+06  9.000000e+06  9.000000e+06  9.000000e+06  9.000000e+06  9.000000e+06\\nAdditional Paid in Capital         5.907000e+09  5.861000e+09  5.812000e+09  5.755000e+09  5.643000e+09  5.597000e+09\\nTreasury Stock                     2.984900e+10  2.986500e+10  2.982800e+10  2.966800e+10  2.962600e+10  2.851000e+10\\nRetained Earnings                  4.213500e+10  4.208500e+10  4.136200e+10  4.115900e+10  4.063600e+10  4.012000e+10\\nOther Equity                      -8.139000e+09 -7.388000e+09 -7.272000e+09 -7.552000e+09 -6.866000e+09 -6.968000e+09\\nEquity Before Minority Interest    1.006300e+10  1.070200e+10  1.008300e+10  9.703000e+09  9.796000e+09  1.024800e+10\\nMinority/Non Controlling Interest  6.300000e+07  6.200000e+07  5.900000e+07  5.400000e+07  5.200000e+07  6.300000e+07\\nTotal Equity                       1.012600e+10  1.076400e+10  1.014200e+10  9.757000e+09  9.848000e+09  1.031100e+10\\n Historical Price:                  Price\\nDate                  \\n2019-02-06  169.363713\\n2019-03-06  169.556010\\n2019-04-06  180.098916\\n2019-05-06  153.035168\\n2019-06-06  137.718274\\n2019-07-06  143.804900\\n2019-08-06  136.873838\\n2019-09-06  137.066136\\n2019-10-06  130.277207\\n2019-11-06  145.477050\\n2019-12-06  143.361780\\n2020-01-06  149.339717\\n2020-02-06  136.188257\""
      ]
     },
     "execution_count": 6,
     "metadata": {},
     "output_type": "execute_result"
    }
   ],
   "source": [
    "# load the first prompt as a test. Use the chain of thought system prompt\n",
    "prompt = f\"{SYSTEM_PROMPTS['CoTDetailed_Claude']['prompt']} context: {prompts[0]['prompt'][1]['content']}\"\n",
    "prompt"
   ]
  },
  {
   "cell_type": "code",
   "execution_count": null,
   "id": "fa45f14b-0da6-4f38-95d6-7b255b38f20f",
   "metadata": {},
   "outputs": [],
   "source": [
    "def setup_claude_request(prompt: str) -> str:\n",
    "    \n",
    "    native_request = {\n",
    "        \"anthropic_version\": \"bedrock-2023-05-31\",\n",
    "        \"max_tokens\": 5000,\n",
    "        \"temperature\": 0.7,\n",
    "        \"messages\": [\n",
    "            {\n",
    "                \"role\":\"user\",\n",
    "                \"content\": [{\"type\":\"text\", \"text\":prompt}]\n",
    "            }\n",
    "        ]\n",
    "    }\n",
    "    \n",
    "    return json.dumps(native_request)"
   ]
  },
  {
   "cell_type": "code",
   "execution_count": null,
   "id": "c054649f-2415-4636-bd4e-1f9604b37836",
   "metadata": {},
   "outputs": [],
   "source": [
    "GUARDRAIL_ID = os.environ['BEDROCK_GUARDRAIL_ID']\n",
    "GUARDRAIL_VERSION = os.environ['BEDROCK_GUARDRAIL_VERSION']\n",
    "\n",
    "model_id = model\n",
    "\n",
    "\n",
    "def invoke_model_claude(prompt: dict, model_id: str) -> str:\n",
    "    \"\"\"Invoke the model using Bedrock. This is specifically designed for Anthropic models\"\"\"\n",
    "    accept = 'application/json'\n",
    "    contentType = 'application/json'\n",
    "\n",
    "    # set up the request\n",
    "    request = setup_claude_request(prompt)\n",
    "    try:\n",
    "        \n",
    "        response = boto3_bedrock.invoke_model(\n",
    "            body=request, \n",
    "            modelId=model_id, \n",
    "            accept=accept, \n",
    "            contentType=contentType,\n",
    "            trace = \"ENABLED\"\n",
    "        )\n",
    "        response_body = json.loads(response.get('body').read())\n",
    "        return response_body.get('content')[0].get('text') #Anthropic response template\n",
    "    \n",
    "    except botocore.exceptions.ClientError as error:\n",
    "        \n",
    "        if error.response['Error']['Code'] == 'AccessDeniedException':\n",
    "               print(f\"\\x1b[41m{error.response['Error']['Message']}\\\n",
    "                    \\nTo troubeshoot this issue please refer to the following resources.\\\n",
    "                     \\nhttps://docs.aws.amazon.com/IAM/latest/UserGuide/troubleshoot_access-denied.html\\\n",
    "                     \\nhttps://docs.aws.amazon.com/bedrock/latest/userguide/security-iam.html\\x1b[0m\\n\")\n",
    "            \n",
    "        else:\n",
    "            raise error"
   ]
  },
  {
   "cell_type": "code",
   "execution_count": null,
   "id": "c8c7b840-2df8-4216-b882-cc3f169b95d9",
   "metadata": {},
   "outputs": [],
   "source": [
    "response = invoke_model_claude(prompt, model_id)"
   ]
  },
  {
   "cell_type": "code",
   "execution_count": null,
   "id": "603abaa6-1d04-4066-b9bb-4792c1d5df1a",
   "metadata": {},
   "outputs": [],
   "source": [
    "display(Markdown(response))"
   ]
  },
  {
   "cell_type": "markdown",
   "id": "9947ce3f-67b9-4064-87fe-d193d6b4d774",
   "metadata": {},
   "source": [
    "## Langgraph version\n",
    "This is the langgraph version in prep for multi-agentic AI system"
   ]
  },
  {
   "cell_type": "markdown",
   "id": "76af00d1-d2de-4061-9b93-69fb3a06482b",
   "metadata": {},
   "source": [
    "### Run Inference Loop for Dow Jones"
   ]
  },
  {
   "cell_type": "code",
   "execution_count": 6,
   "id": "81086c8d-97db-42bf-8f2e-7dc8ad39828c",
   "metadata": {},
   "outputs": [],
   "source": [
    "\n",
    "from langchain.prompts import PromptTemplate\n",
    "from langchain_core.runnables import RunnableSequence\n",
    "from langchain_core.rate_limiters import InMemoryRateLimiter\n",
    "\n",
    "from langchain_aws import ChatBedrock\n",
    "from pydantic import BaseModel, Field\n",
    "\n",
    "import concurrent.futures"
   ]
  },
  {
   "cell_type": "code",
   "execution_count": 7,
   "id": "9a599c81-f765-4036-8dda-50b542167e0a",
   "metadata": {},
   "outputs": [],
   "source": [
    "# set up the LLM in Bedrock\n",
    "rate_limiter = InMemoryRateLimiter(\n",
    "    requests_per_second=50,\n",
    "    check_every_n_seconds=1,\n",
    "    max_bucket_size=10,\n",
    ")\n",
    "\n",
    "llm = ChatBedrock(\n",
    "    client = boto3_bedrock,\n",
    "    #model = \"us.meta.llama3-1-70b-instruct-v1:0\",\n",
    "    model = 'us.anthropic.claude-3-7-sonnet-20250219-v1:0',\n",
    "    temperature = 0.5,#0.7,\n",
    "    max_tokens=4000,\n",
    "    rate_limiter = rate_limiter\n",
    ")"
   ]
  },
  {
   "cell_type": "code",
   "execution_count": 8,
   "id": "dd5420b8-734e-46c3-b56c-003464260c96",
   "metadata": {},
   "outputs": [],
   "source": [
    "system_prompt = SYSTEM_PROMPTS['COT_EARN_CLAUDE']['prompt']\n",
    "prompt_template = PromptTemplate.from_template(system_prompt)"
   ]
  },
  {
   "cell_type": "code",
   "execution_count": 9,
   "id": "0e9e9101-c974-4a3a-89da-70dd787bc74f",
   "metadata": {},
   "outputs": [],
   "source": [
    "def run_model(prompt: dict, llm: RunnableSequence) -> dict:\n",
    "    prompt_in = prompt_template.format(financials=prompt['prompt'][1]['content'])\n",
    "    output = llm.invoke(prompt_in)\n",
    "    decision_dict = {\n",
    "        'date': prompt['date'],\n",
    "        'security': prompt['security'],\n",
    "        'response': output\n",
    "    }\n",
    "    return decision_dict"
   ]
  },
  {
   "cell_type": "code",
   "execution_count": 10,
   "id": "e9e29e7d-dcaf-4e51-9337-44ead6112176",
   "metadata": {},
   "outputs": [
    {
     "data": {
      "text/plain": [
       "PromptTemplate(input_variables=['financials'], input_types={}, partial_variables={}, template='You are a financial analyst. Use the following income statement, balance sheet and cash flow to make a decision on if earnings will increase over the next financial period. Think step-by-step through the financial statement analysis workflow. Your report should have the following sections: 1. Analysis of current profitability, liquidity, solvency and efficiency ratios; 2. time-series analysis across the ratios; 3. Analysis of financial performance; 4. Stock Price analysis; 5. Decision Analysis looking at the positive and negative factors as well as the weighting in the final decision; 6. Final Decision. Make your decision only on the datasets. Explain your reasons in less than 250 words. Indicate the magnitude of the increase or decrease. Provide a confidence score for how confident you are of the decision. If you are not confident then lower the confidence score. {financials}')"
      ]
     },
     "execution_count": 10,
     "metadata": {},
     "output_type": "execute_result"
    }
   ],
   "source": [
    "#prompt_template.format(financials=prompts[0]['prompt'][1]['content'])\n",
    "prompt_template"
   ]
  },
  {
   "cell_type": "code",
   "execution_count": 12,
   "id": "b1a8c07e-0354-4e38-9dc5-4fa33195edff",
   "metadata": {},
   "outputs": [
    {
     "data": {
      "text/plain": [
       "{'date': '2020-02-06',\n",
       " 'security': 'MMM UN Equity',\n",
       " 'response': AIMessage(content=\"# Financial Analysis: Earnings Forecast\\n\\nBased on a thorough analysis of the provided financial statements, I will assess whether earnings are likely to increase in the next financial period.\\n\\n## Key Observations\\n\\n### Revenue and Profitability Trends\\n- Revenue shows slight growth from t-1 to t (1.5% increase from $7.99B to $8.11B)\\n- However, operating income declined significantly from $2.01B in t-1 to $1.33B in t (34% decrease)\\n- Net income decreased from $1.58B in t-1 to $969M in t (38.8% decrease)\\n- EPS declined from $2.72 (diluted) to $1.66 (39% decrease)\\n\\n### Cost Structure\\n- Operating expenses increased substantially from $1.79B in t-1 to $2.46B in t (37.3% increase)\\n- SG&A expenses rose from $1.46B to $1.94B (33.3% increase)\\n- R&D expenses increased from $443M to $521M (17.6% increase)\\n- Abnormal losses of $348M in period t compared to gains of $112M in t-1\\n\\n### Balance Sheet Analysis\\n- Cash and equivalents decreased dramatically from $7.73B in t-1 to $2.35B in t (69.6% decrease)\\n- Total assets increased from $42.55B to $44.66B (5.0% increase)\\n- Short-term debt increased from $2.20B to $3.06B (39.1% increase)\\n- Total liabilities increased from $31.79B to $34.53B (8.6% increase)\\n- Total equity decreased from $10.76B to $10.13B (5.9% decrease)\\n\\n### Efficiency and Margins\\n- Gross profit margin decreased from 47.6% to 46.7%\\n- Operating margin decreased from 25.2% to 16.3%\\n- Net profit margin decreased from 19.8% to 11.9%\\n\\n## Analysis and Forecast\\n\\nSeveral concerning trends suggest earnings challenges ahead:\\n\\n1. **Declining Profitability**: Despite modest revenue growth, there's a significant decline in operating income and net income, indicating deteriorating operational efficiency.\\n\\n2. **Rising Costs**: The substantial increase in operating expenses, especially SG&A costs, is outpacing revenue growth, compressing margins.\\n\\n3. **Increased Debt**: Short-term debt has increased while cash reserves have dramatically decreased, suggesting potential liquidity pressure and higher interest expenses going forward.\\n\\n4. **Abnormal Losses**: The company recorded significant abnormal losses in period t, which may indicate restructuring or other operational challenges.\\n\\n5. **Cash Flow Concerns**: The dramatic reduction in cash reserves suggests either major investments, debt repayments, or operational cash flow issues.\\n\\n## Earnings Forecast\\n\\nBased on the financial data analysis, I forecast that earnings will **decrease** in the next financial period by approximately **15-20%**.\\n\\nThe primary drivers for this forecast include:\\n- Continuing pressure on operating margins due to elevated SG&A and R&D expenses\\n- Increased interest expenses from higher debt levels\\n- Reduced financial flexibility due to lower cash reserves\\n- Potential continuation of restructuring costs (evidenced by abnormal losses)\\n- Modest revenue growth insufficient to offset rising costs\\n\\n## Confidence Score: 7/10\\n\\nMy confidence is moderate because:\\n- The data shows clear negative trends in profitability metrics\\n- However, without information on industry conditions, market dynamics, or management's strategic initiatives, there's uncertainty about potential turnaround efforts\\n- The significant cash reduction could indicate either concerning cash burn or strategic investments that might yield future returns\\n- The restructuring expenses might be temporary and could lead to improved efficiency in future periods\\n\\nThe company appears to be in a transitional period with significant cost pressures, which typically takes more than one period to resolve, supporting the forecast of continued earnings pressure in the near term.\", additional_kwargs={'usage': {'prompt_tokens': 4971, 'completion_tokens': 907, 'total_tokens': 5878}, 'stop_reason': 'end_turn', 'thinking': {}, 'model_id': 'us.anthropic.claude-3-7-sonnet-20250219-v1:0', 'model_name': 'us.anthropic.claude-3-7-sonnet-20250219-v1:0'}, response_metadata={'usage': {'prompt_tokens': 4971, 'completion_tokens': 907, 'total_tokens': 5878}, 'stop_reason': 'end_turn', 'thinking': {}, 'model_id': 'us.anthropic.claude-3-7-sonnet-20250219-v1:0', 'model_name': 'us.anthropic.claude-3-7-sonnet-20250219-v1:0'}, id='run-c864248c-6171-4c5b-9035-01a82de88c23-0', usage_metadata={'input_tokens': 4971, 'output_tokens': 907, 'total_tokens': 5878})}"
      ]
     },
     "execution_count": 12,
     "metadata": {},
     "output_type": "execute_result"
    }
   ],
   "source": [
    "run_model(prompts[0], llm)"
   ]
  },
  {
   "cell_type": "code",
   "execution_count": 11,
   "id": "3a9f2a37-8afb-48dd-b732-184b2d97abc5",
   "metadata": {},
   "outputs": [
    {
     "name": "stdout",
     "output_type": "stream",
     "text": [
      "CPU times: user 6.83 s, sys: 652 ms, total: 7.49 s\n",
      "Wall time: 6min 8s\n"
     ]
    }
   ],
   "source": [
    "%%time\n",
    "# This creates the initial response - run this in parallel with 100 executors\n",
    "data = []\n",
    "with concurrent.futures.ThreadPoolExecutor(max_workers=100) as executor:\n",
    "    futures = [executor.submit(run_model, prompt, llm) for prompt in prompts]\n",
    "    data = [f.result() for f in futures]"
   ]
  },
  {
   "cell_type": "code",
   "execution_count": 12,
   "id": "9ec4d369-cd7c-4ede-8b04-c529fa95bdb5",
   "metadata": {},
   "outputs": [
    {
     "data": {
      "text/plain": [
       "896"
      ]
     },
     "execution_count": 12,
     "metadata": {},
     "output_type": "execute_result"
    }
   ],
   "source": [
    "len(data)"
   ]
  },
  {
   "cell_type": "code",
   "execution_count": 13,
   "id": "7e62edbc-3a9a-42a1-b479-ba85f26faec8",
   "metadata": {},
   "outputs": [],
   "source": [
    "cleaned_output = [{'date': i['date'], \n",
    "             'security': i['security'], \n",
    "             'response': i['response'].content} \n",
    "            for i in data]"
   ]
  },
  {
   "cell_type": "code",
   "execution_count": 14,
   "id": "09cecfaa-4406-41e5-ac20-bf9bbf1d7d15",
   "metadata": {},
   "outputs": [],
   "source": [
    "with open('Data/Results - Bedrock2.json', 'w') as f:\n",
    "    json.dump(cleaned_output, f)"
   ]
  },
  {
   "cell_type": "markdown",
   "id": "c4e6bb21-0edc-430c-a641-54ee4c56df08",
   "metadata": {},
   "source": [
    "## Convert to JSON format\n",
    "This is needed to run the trade analytics and compare to other LLMs"
   ]
  },
  {
   "cell_type": "code",
   "execution_count": 24,
   "id": "bd74df7f-b466-4586-b27d-24e08e18af09",
   "metadata": {},
   "outputs": [],
   "source": [
    "rate_limiter = InMemoryRateLimiter(\n",
    "    requests_per_second=10,\n",
    "    check_every_n_seconds=1,\n",
    "    max_bucket_size=10,\n",
    ")\n",
    "\n",
    "llm = ChatBedrock(\n",
    "    client = boto3_bedrock,\n",
    "    #model = \"us.meta.llama3-1-70b-instruct-v1:0\",\n",
    "    model = 'us.anthropic.claude-3-7-sonnet-20250219-v1:0',\n",
    "    temperature = 0.5,#0.7,\n",
    "    max_tokens=4000,\n",
    "    rate_limiter = rate_limiter\n",
    ")"
   ]
  },
  {
   "cell_type": "code",
   "execution_count": 48,
   "id": "7b9d4083-5cbc-40eb-86d1-64bf773a8eea",
   "metadata": {},
   "outputs": [],
   "source": [
    "# STEP 1: Set up the structured output\n",
    "# class FinancialOutput(BaseModel):\n",
    "#     \"\"\"Answer to the users question along with justification\"\"\"\n",
    "#     decision: str = Field(..., description=\"Final Decision: BUY, SELL or HOLD\")\n",
    "#     reason: str = Field(..., description=\"Summary of the final decision\")\n",
    "#     confidence: int = Field(..., description=\"How confident you are of the decision\")\n",
    "\n",
    "# with open('Results/Earnings/results - deepseek - cot - 2025-03-30 .828629.json', 'rb') as f:\n",
    "#     raw_output = json.load(f)\n",
    "\n",
    "class FinancialOutput(BaseModel):\n",
    "    \"\"\"Answer to the users question along with justification\"\"\"\n",
    "    direction: str = Field(..., description=\"earnings will increase or decrease or stay flat\")\n",
    "    magnitude: str = Field(..., description=\"size of the increase or decrease\")\n",
    "    reason: str = Field(..., description=\"Summary of the final decision\")\n",
    "    confidence: str = Field(..., description=\"How confident you are of the decision\")"
   ]
  },
  {
   "cell_type": "code",
   "execution_count": 42,
   "id": "1bbf2bd3-7e9f-46f5-9bd6-b3ba57b1a4c2",
   "metadata": {},
   "outputs": [],
   "source": [
    "cleaned_output = raw_output['results']"
   ]
  },
  {
   "cell_type": "code",
   "execution_count": 49,
   "id": "315e70b5-b689-40d1-8983-10b5a5fea794",
   "metadata": {},
   "outputs": [],
   "source": [
    "# STEP 2: set up the system prompt and set the structured output format\n",
    "system_prompt = \"You are an assistant to a financial analyst. You are responsible for formatting the documents that the analyst produces into a machine readable format. Use only the information provided in the context. Convert it into the structured output. Do not add anything to the analysts report and do not change the recommendation. Do not hallucinate. Find the investment decision. Find the conclusion. Add all of the wording of the thought process into the steps section. context: {context}\"\n",
    "\n",
    "prompt_template = PromptTemplate.from_template(system_prompt)\n",
    "structured_llm = llm.with_structured_output(FinancialOutput)\n"
   ]
  },
  {
   "cell_type": "code",
   "execution_count": 50,
   "id": "10be12b4-c2b9-4b8c-a5f1-a2e430589a7e",
   "metadata": {},
   "outputs": [],
   "source": [
    "# STEP 3: Set up the function to call in each thread\n",
    "# def run_cleanup(prompt: dict, llm: RunnableSequence) -> dict:\n",
    "#     thought_process = prompt['response']\n",
    "#     prompt_in = prompt_template.format(context=thought_process)\n",
    "#     response = llm.invoke(prompt_in)\n",
    "#     final_dict = {\n",
    "#         'date': prompt['date'],\n",
    "#         'security': prompt['security'],\n",
    "#         'response': {\n",
    "#             'decision': response.decision,\n",
    "#             'reason': response.reason,\n",
    "#             'confidence': response.confidence,\n",
    "#             'thought_process': thought_process\n",
    "#         }\n",
    "#     }\n",
    "#     return final_dict\n",
    "\n",
    "def run_cleanup(prompt: dict, llm: RunnableSequence) -> dict:\n",
    "    thought_process = prompt['response']\n",
    "    prompt_in = prompt_template.format(context=thought_process)\n",
    "    response = llm.invoke(prompt_in)\n",
    "    final_dict = {\n",
    "        'date': prompt['date'],\n",
    "        'security': prompt['security'],\n",
    "        'response': {\n",
    "            'analyst_direction': response.direction,\n",
    "            'analyst_magnitude': response.magnitude,\n",
    "            'reason': response.reason,\n",
    "            'confidence': response.confidence,\n",
    "            'thought_process': thought_process\n",
    "        }\n",
    "    }\n",
    "    return final_dict"
   ]
  },
  {
   "cell_type": "code",
   "execution_count": 51,
   "id": "a1a2d191-2abf-4987-9663-df423d4b1ae2",
   "metadata": {},
   "outputs": [],
   "source": [
    "# STEP 4: \n",
    "\n",
    "responses = []\n",
    "with concurrent.futures.ThreadPoolExecutor(max_workers=10) as executor:\n",
    "    futures = [executor.submit(run_cleanup, prompt, structured_llm) for prompt in cleaned_output]\n",
    "    responses = [f.result() for f in futures]"
   ]
  },
  {
   "cell_type": "code",
   "execution_count": 52,
   "id": "d4f69352-d175-4245-929d-88f65ac75ea1",
   "metadata": {},
   "outputs": [],
   "source": [
    "# # STEP 5: convert to the correct format\n",
    "# final_json = {\n",
    "#     'run_date': str(datetime.datetime.now()),\n",
    "#     'system_prompt': SYSTEM_PROMPTS['COT_EARN_CLAUDE']['prompt'],\n",
    "#     'dataset': 'data_quarterly_pit_indu_blended',\n",
    "#     'model': model,\n",
    "#     'results': responses\n",
    "# }\n",
    "\n",
    "final_json = {\n",
    "    'run_date': str(datetime.datetime.now()),\n",
    "    'system_prompt': raw_output['system_prompt'],\n",
    "    'dataset': raw_output['dataset'],\n",
    "    'model': raw_output['model'],\n",
    "    'results': responses\n",
    "}"
   ]
  },
  {
   "cell_type": "code",
   "execution_count": 53,
   "id": "e4c8aa7d-757f-4ed1-93b9-f141f4a44e5a",
   "metadata": {},
   "outputs": [],
   "source": [
    "# STEP 6: Save the \n",
    "with open(f'Results/results - Deepseek - COT C -{str(datetime.datetime.now())}.json', 'w') as f:\n",
    "    json.dump(final_json, f)"
   ]
  },
  {
   "cell_type": "code",
   "execution_count": null,
   "id": "ef179196-525a-4dfd-812c-4ee78189944e",
   "metadata": {},
   "outputs": [],
   "source": []
  },
  {
   "cell_type": "code",
   "execution_count": 21,
   "id": "933cd85e-cde3-4a6e-9e87-b3144b0f64d7",
   "metadata": {},
   "outputs": [],
   "source": [
    "import utils.s3_helper as s3_helper"
   ]
  },
  {
   "cell_type": "code",
   "execution_count": 22,
   "id": "a8dd2bee-b5a8-4ce7-b5b0-760156d32fb4",
   "metadata": {},
   "outputs": [],
   "source": [
    "s3h = s3_helper.S3Helper('tmp/fs')"
   ]
  },
  {
   "cell_type": "code",
   "execution_count": 23,
   "id": "ae151253-c6a1-4f03-9465-dd6229dc2426",
   "metadata": {},
   "outputs": [],
   "source": [
    "s3h.clear_folder('Data')"
   ]
  },
  {
   "cell_type": "code",
   "execution_count": null,
   "id": "89a04806-95dd-4f9d-9cf5-bcf744bd9464",
   "metadata": {},
   "outputs": [],
   "source": []
  }
 ],
 "metadata": {
  "kernelspec": {
   "display_name": "Bloomberg Lab Python 3",
   "language": "python",
   "name": "user-python"
  },
  "language_info": {
   "codemirror_mode": {
    "name": "ipython",
    "version": 3
   },
   "file_extension": ".py",
   "mimetype": "text/x-python",
   "name": "python",
   "nbconvert_exporter": "python",
   "pygments_lexer": "ipython3",
   "version": "3.9.12"
  }
 },
 "nbformat": 4,
 "nbformat_minor": 5
}
