{
 "cells": [
  {
   "cell_type": "markdown",
   "id": "c7e8b137-5ee8-4669-92d3-4d3373d7366a",
   "metadata": {},
   "source": [
    "# Frontier Models\n",
    "\n",
    "This section uses AWS Bedrock to run inference tests using the Claude and Open AI models. "
   ]
  },
  {
   "cell_type": "code",
   "execution_count": 27,
   "id": "54e2587c-418b-4bd1-95a1-56a170f3ed9f",
   "metadata": {},
   "outputs": [],
   "source": [
    "!pip -q install langchain_aws langchain"
   ]
  },
  {
   "cell_type": "code",
   "execution_count": 2,
   "id": "199d53b3-7cb9-48a3-8fc3-fad5af2cc27d",
   "metadata": {},
   "outputs": [
    {
     "name": "stdout",
     "output_type": "stream",
     "text": [
      "Running: micromamba install boto3=1.34.51 instructor --yes --quiet --log-level=error\n",
      "\n",
      "Note: Packages not from Bloomberg channels are not vetted by Bloomberg.\n",
      "\u001b[93mPlease restart the Jupyter kernel if you run into any issues after installing or updating packages via %package.\u001b[0m\n",
      "\n"
     ]
    }
   ],
   "source": [
    "%package install boto3=1.34.51 instructor"
   ]
  },
  {
   "cell_type": "code",
   "execution_count": 115,
   "id": "8a618881-9e45-442b-b7d3-f15f27b8dd1f",
   "metadata": {},
   "outputs": [],
   "source": [
    "import json\n",
    "import boto3\n",
    "import botocore\n",
    "import datetime\n",
    "from tqdm import tqdm\n",
    "\n",
    "from prompts import SYSTEM_PROMPTS\n",
    "from IPython.display import Markdown, display\n"
   ]
  },
  {
   "cell_type": "code",
   "execution_count": 2,
   "id": "c5d6ee4b-3c8d-414c-addc-18f7a78bad05",
   "metadata": {},
   "outputs": [
    {
     "data": {
      "text/plain": [
       "'1.34.51'"
      ]
     },
     "execution_count": 2,
     "metadata": {},
     "output_type": "execute_result"
    }
   ],
   "source": [
    "# boto3 must be version 1.34.51 or higher\n",
    "boto3.__version__"
   ]
  },
  {
   "cell_type": "markdown",
   "id": "ed8d594a-7c2a-455c-b9fc-1be0d2a4a7ad",
   "metadata": {},
   "source": [
    "## Initial Bedrock Test\n",
    "This is an initial run of Bedrock with Anthropic to see how it responds to the financial analysis task"
   ]
  },
  {
   "cell_type": "code",
   "execution_count": 71,
   "id": "891eec29-a7b1-4d3d-aa45-2bf7b0deba62",
   "metadata": {},
   "outputs": [],
   "source": [
    "# Bedrock client initialise\n",
    "config = botocore.config.Config(read_timeout=1000)\n",
    "boto3_bedrock = boto3.client('bedrock-runtime',config=config)\n",
    "# set the model\n",
    "model = 'us.anthropic.claude-3-7-sonnet-20250219-v1:0'\n",
    "# load prompts into memory\n",
    "with open('Data/prompts.json', 'rb') as f:\n",
    "    prompts = json.load(f)"
   ]
  },
  {
   "cell_type": "code",
   "execution_count": 4,
   "id": "24a29e3d-8198-4f86-9d30-a9fb4c700102",
   "metadata": {},
   "outputs": [
    {
     "data": {
      "text/plain": [
       "\"You are a financial analyst and must make a buy, sell, hold decision on a company based only on the provided financial statement. Your goal is to buy stocks you think will increase over the next financial period and sell stocks you think will decline. Think step-by-step through the financial statement analysis workflow. Your report should have the following sections: 1. Analysis of current profitability, liquidity, solvency and efficiency ratios; 2. time-series analysis across the ratios; 3. Analysis of financial performance; 4. Stock Price analysis; 5. Decision Analysis looking at the positive and negative factors as well as the weighting in the final decision; 6. Final Decision of BUY, SELL or HOLD and the reason for this. The final decision should have a confidence score. Always state the formulas for any calculations you will use. Your answer should have a decision of 'BUY', 'SELL' or 'HOLD' as well as a confidence score. If you are not sure of the answer then lower the confidence score. {financials} context: Income Statement:                                                        t           t-1           t-2           t-3           t-4           t-5\\nitems                                                                                                                          \\nRevenue                                      8.111000e+09  7.991000e+09  8.171000e+09  7.863000e+09  7.945000e+09  8.152000e+09\\nCost of Revenue                              4.325000e+09  4.188000e+09  4.313000e+09  4.310000e+09  4.060000e+09  4.159000e+09\\nGross Profit                                 3.786000e+09  3.803000e+09  3.858000e+09  3.553000e+09  3.885000e+09  3.993000e+09\\nOperating Expenses                           2.461000e+09  1.792000e+09  2.156000e+09  2.417000e+09  2.102000e+09  1.977000e+09\\nSelling, General and Administrative Expense  1.940000e+09  1.455000e+09  1.686000e+09  1.948000e+09  1.682000e+09  1.547000e+09\\nR&D Expense Adjusted                         5.210000e+08  4.430000e+08  4.700000e+08  4.770000e+08  4.370000e+08  4.300000e+08\\nOther Operating Expenses                     0.000000e+00 -1.060000e+08  0.000000e+00 -8.000000e+06 -1.700000e+07  0.000000e+00\\nOperating Income or Losses                   1.325000e+09  2.011000e+09  1.702000e+09  1.136000e+09  1.783000e+09  2.016000e+09\\nNon-Operating (Income) Loss                  1.130000e+08  4.500000e+07  2.560000e+08  4.800000e+07  6.300000e+07  5.100000e+07\\nNet Interest Expense                         1.080000e+08  8.300000e+07  9.300000e+07  8.400000e+07  7.700000e+07  7.000000e+07\\nInterest Expense                             1.240000e+08  1.090000e+08  1.110000e+08  1.040000e+08  9.500000e+07  8.500000e+07\\nInterest Income                              1.600000e+07  2.600000e+07  1.800000e+07  2.000000e+07  1.800000e+07  1.500000e+07\\nOther Non-Operating (Income) Loss            5.000000e+06 -3.800000e+07  1.630000e+08 -3.600000e+07 -1.400000e+07 -1.900000e+07\\nPretax Income (Loss), Adjusted               1.212000e+09  1.966000e+09  1.446000e+09  1.088000e+09  1.720000e+09  1.965000e+09\\nAbnormal Losses (Gains)                      3.480000e+08 -1.120000e+08  3.100000e+08  5.400000e+08  8.094937e+07  0.000000e+00\\nSale of Business                             0.000000e+00 -1.120000e+08  1.620000e+08 -8.000000e+06 -1.700000e+07  0.000000e+00\\nRestructuring Expenses                       1.340000e+08  0.000000e+00  1.480000e+08  0.000000e+00  2.200000e+07  0.000000e+00\\nIncome Tax Expense (Benefit)                 2.420000e+08  3.780000e+08  3.150000e+08  1.950000e+08  3.710000e+08  4.190000e+08\\nIncome (Loss) from Continuing Operations     9.700000e+08  1.588000e+09  1.131000e+09  8.930000e+08  1.349000e+09  1.546000e+09\\nNet Income/Net Profit (Losses)               9.690000e+08  1.583000e+09  1.127000e+09  8.910000e+08  1.347000e+09  1.543000e+09\\nNet Abnormal Losses (Gains)                  2.825400e+08 -8.162000e+07  2.789200e+08  4.176800e+08  2.452800e+07  0.000000e+00\\nBasic Earnings per Share                     1.680000e+00  2.750000e+00  1.950000e+00  1.540000e+00  2.320000e+00  2.640000e+00\\nBasic EPS from Continuing Operations         2.171681e+00  2.604302e+00  2.433651e+00  2.266113e+00  2.361853e+00  2.640000e+00\\nDiluted EPS                                  1.660000e+00  2.720000e+00  1.920000e+00  1.510000e+00  2.270000e+00  2.580000e+00\\nDiluted EPS from Continuing Operations, Adj  2.144881e+00  2.580000e+00  2.395891e+00  2.219737e+00  2.311390e+00  2.580000e+00\\n Balance Sheet:                                               t           t-1           t-2           t-3           t-4           t-5\\nitems                                                                                                                \\nCash, Cash Equivalents & STI       2.451000e+09  7.761000e+09  2.988000e+09  3.477000e+09  3.233000e+09  3.523000e+09\\nCash & Cash Equivalents            2.353000e+09  7.731000e+09  2.849000e+09  2.938000e+09  2.853000e+09  3.185000e+09\\nST Investments                     9.800000e+07  3.000000e+07  1.390000e+08  5.390000e+08  3.800000e+08  3.380000e+08\\nAccounts & Notes Receiv            4.791000e+09  5.020000e+09  5.374000e+09  5.173000e+09  5.020000e+09  5.329000e+09\\nInventories                        4.134000e+09  4.007000e+09  4.300000e+09  4.538000e+09  4.366000e+09  4.437000e+09\\nRaw Materials                      9.370000e+08  8.860000e+08  9.720000e+08  9.840000e+08  9.540000e+08  9.620000e+08\\nWork In Process                    1.194000e+09  1.231000e+09  1.348000e+09  1.333000e+09  1.292000e+09  1.350000e+09\\nFinished Goods                     2.003000e+09  1.890000e+09  1.980000e+09  2.221000e+09  2.120000e+09  2.125000e+09\\nOther ST Assets                    1.595000e+09  1.232000e+09  1.389000e+09  1.186000e+09  1.090000e+09  1.130000e+09\\nDerivative & Hedging Assets        1.310000e+08  1.980000e+08  7.300000e+07  9.900000e+07  1.320000e+08  7.200000e+07\\nMisc ST Assets                     7.600000e+08  3.170000e+08  3.670000e+08  3.740000e+08  2.170000e+08  3.130000e+08\\nTotal Current Assets               1.297100e+10  1.802000e+10  1.405100e+10  1.437400e+10  1.370900e+10  1.441900e+10\\nProperty, Plant & Equip, Net       1.019100e+10  9.725000e+09  9.877000e+09  9.626000e+09  8.738000e+09  8.630000e+09\\nProperty, Plant & Equip            2.698200e+10  2.634200e+10  2.644400e+10  2.592100e+10  2.487300e+10  2.476500e+10\\nAccumulated Depreciation           1.679100e+10  1.661700e+10  1.656700e+10  1.629500e+10  1.613500e+10  1.613500e+10\\nLT Investments & Receivables       1.260000e+08  0.000000e+00  0.000000e+00  0.000000e+00  1.180000e+08  0.000000e+00\\nOther LT Assets                    2.137100e+10  1.480500e+10  1.504100e+10  1.514000e+10  1.393500e+10  1.422600e+10\\nTotal Intangible Assets            1.982300e+10  1.325700e+10  1.353800e+10  1.365800e+10  1.270800e+10  1.284900e+10\\nGoodwill                           1.344400e+10  1.041000e+10  1.057400e+10  1.061100e+10  1.005100e+10  1.012300e+10\\nOther Intangible Assets            6.379000e+09  2.847000e+09  2.964000e+09  3.047000e+09  2.657000e+09  2.726000e+09\\nDeferred Tax Assets                5.210000e+08  0.000000e+00  0.000000e+00  0.000000e+00  3.650000e+08  0.000000e+00\\nDerivative & Hedging Assets        0.000000e+00  2.900000e+07  6.700000e+07  7.200000e+07  1.400000e+07  6.600000e+07\\nPrepaid Pension Costs              2.300000e+08  0.000000e+00  0.000000e+00  0.000000e+00  2.080000e+08  0.000000e+00\\nMisc LT Assets                     7.270000e+08  1.519000e+09  1.436000e+09  1.410000e+09  5.700000e+08  1.311000e+09\\nTotal Noncurrent Assets            3.168800e+10  2.453000e+10  2.491800e+10  2.476600e+10  2.279100e+10  2.285600e+10\\nTotal Assets                       4.465900e+10  4.255000e+10  3.896900e+10  3.914000e+10  3.650000e+10  3.727500e+10\\nPayables & Accruals                3.124000e+09  2.885000e+09  2.957000e+09  3.009000e+09  3.258000e+09  2.998000e+09\\nAccounts Payable                   2.228000e+09  2.079000e+09  2.130000e+09  2.309000e+09  2.266000e+09  2.029000e+09\\nAccrued Taxes                      1.940000e+08  1.370000e+08  2.230000e+08  1.830000e+08  2.430000e+08  1.860000e+08\\nOther Payables & Accruals          7.020000e+08  6.690000e+08  6.040000e+08  5.170000e+08  7.490000e+08  7.830000e+08\\nST Debt                            3.063000e+09  2.201000e+09  1.139000e+09  1.045000e+09  1.211000e+09  1.307000e+09\\nST Borrowings                      9.540000e+08  1.942000e+09  8.760000e+08  7.740000e+08  4.490000e+08  1.307000e+09\\nST Finance Leases                  2.100000e+07  1.800000e+07  1.600000e+07  1.600000e+07  1.700000e+07  0.000000e+00\\nST Operating Leases                2.470000e+08  2.410000e+08  2.470000e+08  2.550000e+08  0.000000e+00  0.000000e+00\\nCurrent Portion of LT Debt         1.841000e+09  0.000000e+00  0.000000e+00  0.000000e+00  7.450000e+08  0.000000e+00\\nOther ST Liabilities               3.035000e+09  2.735000e+09  3.169000e+09  3.071000e+09  2.775000e+09  3.031000e+09\\nDeferred Revenue                   4.300000e+08  6.050000e+08  6.030000e+08  6.190000e+08  6.170000e+08  6.140000e+08\\nDerivatives & Hedging              1.200000e+07  1.200000e+07  2.300000e+07  2.400000e+07  3.000000e+07  9.500000e+07\\nMisc ST Liabilities                2.593000e+09  2.118000e+09  2.543000e+09  2.428000e+09  2.128000e+09  2.322000e+09\\nTotal Current Liabilities          9.222000e+09  7.821000e+09  7.265000e+09  7.125000e+09  7.244000e+09  7.336000e+09\\nLT Debt                            1.823600e+10  1.806300e+10  1.553300e+10  1.611100e+10  1.341100e+10  1.353900e+10\\nLT Borrowings                      1.751800e+10  1.736300e+10  1.479300e+10  1.549600e+10  1.333600e+10  1.353900e+10\\nLT Finance Leases                  1.110000e+08  1.160000e+08  1.210000e+08  8.400000e+07  7.500000e+07  0.000000e+00\\nLT Operating Leases                6.070000e+08  5.840000e+08  6.190000e+08  5.310000e+08  0.000000e+00  0.000000e+00\\nOther LT Liabilities               7.075000e+09  5.902000e+09  6.029000e+09  6.147000e+09  5.997000e+09  6.089000e+09\\nPension Liabilities                3.911000e+09  2.667000e+09  2.761000e+09  2.919000e+09  2.987000e+09  3.183000e+09\\nDerivatives & Hedging              8.000000e+06  2.000000e+06  6.200000e+07  3.200000e+07  2.300000e+07  1.600000e+07\\nMisc LT Liabilities                2.855000e+09  3.233000e+09  3.206000e+09  3.196000e+09  2.708000e+09  2.890000e+09\\nTotal Noncurrent Liabilities       2.531100e+10  2.396500e+10  2.156200e+10  2.225800e+10  1.940800e+10  1.962800e+10\\nTotal Liabilities                  3.453300e+10  3.178600e+10  2.882700e+10  2.938300e+10  2.665200e+10  2.696400e+10\\nShare Capital & APIC               5.916000e+09  5.870000e+09  5.821000e+09  5.764000e+09  5.652000e+09  5.606000e+09\\nCommon Stock                       9.000000e+06  9.000000e+06  9.000000e+06  9.000000e+06  9.000000e+06  9.000000e+06\\nAdditional Paid in Capital         5.907000e+09  5.861000e+09  5.812000e+09  5.755000e+09  5.643000e+09  5.597000e+09\\nTreasury Stock                     2.984900e+10  2.986500e+10  2.982800e+10  2.966800e+10  2.962600e+10  2.851000e+10\\nRetained Earnings                  4.213500e+10  4.208500e+10  4.136200e+10  4.115900e+10  4.063600e+10  4.012000e+10\\nOther Equity                      -8.139000e+09 -7.388000e+09 -7.272000e+09 -7.552000e+09 -6.866000e+09 -6.968000e+09\\nEquity Before Minority Interest    1.006300e+10  1.070200e+10  1.008300e+10  9.703000e+09  9.796000e+09  1.024800e+10\\nMinority/Non Controlling Interest  6.300000e+07  6.200000e+07  5.900000e+07  5.400000e+07  5.200000e+07  6.300000e+07\\nTotal Equity                       1.012600e+10  1.076400e+10  1.014200e+10  9.757000e+09  9.848000e+09  1.031100e+10\\n Historical Price:                  Price\\nDate                  \\n2019-02-06  169.363713\\n2019-03-06  169.556010\\n2019-04-06  180.098916\\n2019-05-06  153.035168\\n2019-06-06  137.718274\\n2019-07-06  143.804900\\n2019-08-06  136.873838\\n2019-09-06  137.066136\\n2019-10-06  130.277207\\n2019-11-06  145.477050\\n2019-12-06  143.361780\\n2020-01-06  149.339717\\n2020-02-06  136.188257\""
      ]
     },
     "execution_count": 4,
     "metadata": {},
     "output_type": "execute_result"
    }
   ],
   "source": [
    "# load the first prompt as a test. Use the chain of thought system prompt\n",
    "prompt = f\"{SYSTEM_PROMPTS['CoTDetailed_Claude']['prompt']} context: {prompts[0]['prompt'][1]['content']}\"\n",
    "prompt"
   ]
  },
  {
   "cell_type": "code",
   "execution_count": 5,
   "id": "fa45f14b-0da6-4f38-95d6-7b255b38f20f",
   "metadata": {},
   "outputs": [],
   "source": [
    "def setup_claude_request(prompt: str) -> str:\n",
    "    \n",
    "    native_request = {\n",
    "        \"anthropic_version\": \"bedrock-2023-05-31\",\n",
    "        \"max_tokens\": 5000,\n",
    "        \"temperature\": 0.7,\n",
    "        \"messages\": [\n",
    "            {\n",
    "                \"role\":\"user\",\n",
    "                \"content\": [{\"type\":\"text\", \"text\":prompt}]\n",
    "            }\n",
    "        ]\n",
    "    }\n",
    "    \n",
    "    return json.dumps(native_request)"
   ]
  },
  {
   "cell_type": "code",
   "execution_count": 6,
   "id": "c054649f-2415-4636-bd4e-1f9604b37836",
   "metadata": {},
   "outputs": [],
   "source": [
    "GUARDRAIL_ID = os.environ['BEDROCK_GUARDRAIL_ID']\n",
    "GUARDRAIL_VERSION = os.environ['BEDROCK_GUARDRAIL_VERSION']\n",
    "\n",
    "model_id = model\n",
    "\n",
    "\n",
    "def invoke_model_claude(prompt: dict, model_id: str) -> str:\n",
    "    \"\"\"Invoke the model using Bedrock. This is specifically designed for Anthropic models\"\"\"\n",
    "    accept = 'application/json'\n",
    "    contentType = 'application/json'\n",
    "\n",
    "    # set up the request\n",
    "    request = setup_claude_request(prompt)\n",
    "    try:\n",
    "        \n",
    "        response = boto3_bedrock.invoke_model(\n",
    "            body=request, \n",
    "            modelId=model_id, \n",
    "            accept=accept, \n",
    "            contentType=contentType,\n",
    "            trace = \"ENABLED\"\n",
    "        )\n",
    "        response_body = json.loads(response.get('body').read())\n",
    "        return response_body.get('content')[0].get('text') #Anthropic response template\n",
    "    \n",
    "    except botocore.exceptions.ClientError as error:\n",
    "        \n",
    "        if error.response['Error']['Code'] == 'AccessDeniedException':\n",
    "               print(f\"\\x1b[41m{error.response['Error']['Message']}\\\n",
    "                    \\nTo troubeshoot this issue please refer to the following resources.\\\n",
    "                     \\nhttps://docs.aws.amazon.com/IAM/latest/UserGuide/troubleshoot_access-denied.html\\\n",
    "                     \\nhttps://docs.aws.amazon.com/bedrock/latest/userguide/security-iam.html\\x1b[0m\\n\")\n",
    "            \n",
    "        else:\n",
    "            raise error"
   ]
  },
  {
   "cell_type": "code",
   "execution_count": 7,
   "id": "c8c7b840-2df8-4216-b882-cc3f169b95d9",
   "metadata": {},
   "outputs": [],
   "source": [
    "response = invoke_model_claude(prompt, model_id)"
   ]
  },
  {
   "cell_type": "code",
   "execution_count": 18,
   "id": "603abaa6-1d04-4066-b9bb-4792c1d5df1a",
   "metadata": {},
   "outputs": [
    {
     "data": {
      "text/plain": [
       "\"# Financial Analysis Report\\n\\n## 1. Analysis of Current Profitability, Liquidity, Solvency, and Efficiency Ratios\\n\\n### Profitability Ratios:\\n\\n**Gross Profit Margin**\\n- Formula: Gross Profit / Revenue\\n- Current (t): $3,786,000,000 / $8,111,000,000 = 46.68%\\n\\n**Operating Profit Margin**\\n- Formula: Operating Income / Revenue\\n- Current (t): $1,325,000,000 / $8,111,000,000 = 16.34%\\n\\n**Net Profit Margin**\\n- Formula: Net Income / Revenue\\n- Current (t): $969,000,000 / $8,111,000,000 = 11.95%\\n\\n**Return on Assets (ROA)**\\n- Formula: Net Income / Total Assets\\n- Current (t): $969,000,000 / $44,659,000,000 = 2.17%\\n\\n**Return on Equity (ROE)**\\n- Formula: Net Income / Total Equity\\n- Current (t): $969,000,000 / $10,126,000,000 = 9.57%\\n\\n### Liquidity Ratios:\\n\\n**Current Ratio**\\n- Formula: Current Assets / Current Liabilities\\n- Current (t): $12,971,000,000 / $9,222,000,000 = 1.41\\n\\n**Quick Ratio**\\n- Formula: (Current Assets - Inventory) / Current Liabilities\\n- Current (t): ($12,971,000,000 - $4,134,000,000) / $9,222,000,000 = 0.96\\n\\n**Cash Ratio**\\n- Formula: Cash and Cash Equivalents / Current Liabilities\\n- Current (t): $2,451,000,000 / $9,222,000,000 = 0.27\\n\\n### Solvency Ratios:\\n\\n**Debt-to-Equity Ratio**\\n- Formula: Total Liabilities / Total Equity\\n- Current (t): $34,533,000,000 / $10,126,000,000 = 3.41\\n\\n**Debt-to-Assets Ratio**\\n- Formula: Total Liabilities / Total Assets\\n- Current (t): $34,533,000,000 / $44,659,000,000 = 0.77\\n\\n**Interest Coverage Ratio**\\n- Formula: Operating Income / Interest Expense\\n- Current (t): $1,325,000,000 / $124,000,000 = 10.69\\n\\n### Efficiency Ratios:\\n\\n**Asset Turnover Ratio**\\n- Formula: Revenue / Total Assets\\n- Current (t): $8,111,000,000 / $44,659,000,000 = 0.18\\n\\n**Inventory Turnover Ratio**\\n- Formula: Cost of Revenue / Average Inventory\\n- Current (t): $4,325,000,000 / (($4,134,000,000 + $4,007,000,000) / 2) = 1.06\\n\\n**Receivables Turnover Ratio**\\n- Formula: Revenue / Average Accounts Receivable\\n- Current (t): $8,111,000,000 / (($4,791,000,000 + $5,020,000,000) / 2) = 1.65\\n\\n## 2. Time-Series Analysis Across the Ratios\\n\\n### Profitability Trends:\\n\\n**Gross Profit Margin**\\n- t: 46.68%\\n- t-1: 47.59%\\n- t-2: 47.22%\\n- t-3: 45.19%\\n- t-4: 48.90%\\n- t-5: 48.98%\\n- Trend: Declining over the last three years\\n\\n**Operating Profit Margin**\\n- t: 16.34%\\n- t-1: 25.17%\\n- t-2: 20.83%\\n- t-3: 14.45%\\n- t-4: 22.44%\\n- t-5: 24.73%\\n- Trend: Significant decline in the most recent period compared to t-1\\n\\n**Net Profit Margin**\\n- t: 11.95%\\n- t-1: 19.81%\\n- t-2: 13.79%\\n- t-3: 11.33%\\n- t-4: 16.95%\\n- t-5: 18.93%\\n- Trend: Sharp decline in the most recent period\\n\\n### Liquidity Trends:\\n\\n**Current Ratio**\\n- t: 1.41\\n- t-1: 2.30\\n- t-2: 1.93\\n- t-3: 2.02\\n- t-4: 1.89\\n- t-5: 1.97\\n- Trend: Significant deterioration in the most recent period\\n\\n**Quick Ratio**\\n- t: 0.96\\n- t-1: 1.79\\n- t-2: 1.34\\n- t-3: 1.38\\n- t-4: 1.29\\n- t-5: 1.36\\n- Trend: Substantial decline in liquidity\\n\\n### Solvency Trends:\\n\\n**Debt-to-Equity Ratio**\\n- t: 3.41\\n- t-1: 2.95\\n- t-2: 2.84\\n- t-3: 3.01\\n- t-4: 2.71\\n- t-5: 2.62\\n- Trend: Increasing leverage, particularly in the most recent period\\n\\n**Interest Coverage Ratio**\\n- t: 10.69\\n- t-1: 18.45\\n- t-2: 15.33\\n- t-3: 10.92\\n- t-4: 18.77\\n- t-5: 23.72\\n- Trend: Declining ability to cover interest expenses\\n\\n### Efficiency Trends:\\n\\n**Asset Turnover Ratio**\\n- t: 0.18\\n- t-1: 0.19\\n- t-2: 0.21\\n- t-3: 0.20\\n- t-4: 0.22\\n- t-5: 0.22\\n- Trend: Gradual decline in asset utilization efficiency\\n\\n## 3. Analysis of Financial Performance\\n\\nThe company shows concerning trends in its financial performance:\\n\\n1. **Deteriorating Profitability**: All profitability metrics (gross margin, operating margin, and net profit margin) have declined significantly in the most recent period. Operating margin dropped from 25.17% to 16.34%, representing a 35% decrease. This suggests substantial operational challenges.\\n\\n2. **Weakening Liquidity Position**: The current ratio has fallen from 2.30 to 1.41, and the quick ratio dropped below 1.0 (to 0.96), indicating the company may face challenges meeting short-term obligations. Cash ratio at 0.27 is particularly concerning.\\n\\n3. **Increasing Leverage**: The debt-to-equity ratio has increased to 3.41, showing a significant increase in financial leverage that could heighten financial risk.\\n\\n4. **Declining Interest Coverage**: The interest coverage ratio has fallen from 18.45 to 10.69, signaling reduced capacity to service debt obligations, though it remains above concerning levels.\\n\\n5. **Operating Expenses**: There was a substantial increase in operating expenses from $1.79 billion in t-1 to $2.46 billion in period t, particularly in SG&A expenses, suggesting potential operational inefficiencies.\\n\\n6. **Cash Position**: Cash and cash equivalents decreased dramatically from $7.76 billion to $2.45 billion, a 68% reduction, which could indicate major cash outflows, potentially for acquisitions or debt repayment.\\n\\n7. **Intangible Assets**: Total intangible assets increased from $13.26 billion to $19.82 billion, suggesting potential acquisitions that may explain the cash reduction.\\n\\n## 4. Stock Price Analysis\\n\\nThe stock price shows a concerning downward trend:\\n- From February 2019 to February 2020, the price declined from $169.36 to $136.19, representing a 19.6% decrease\\n- The price peaked in April 2019 at $180.10 and has since experienced volatility\\n- The most recent price point ($136.19) is near the lower end of the 12-month range\\n- The stock has underperformed in the last quarter, declining from $143.36 in December 2019 to $136.19 in February 2020\\n\\nThis downward trend aligns with the deteriorating financial metrics observed in the most recent period.\\n\\n## 5. Decision Analysis\\n\\n### Positive Factors:\\n1. **Still Profitable**: Despite the decline, the company remains profitable with positive margins across all profitability metrics.\\n2. **Adequate Liquidity**: Current ratio remains above 1, indicating the company can still meet short-term obligations.\\n3. **Strong Interest Coverage**: Despite declining, the interest coverage ratio of 10.69 still provides a reasonable buffer for debt service.\\n4. **Potential Strategic Investments**: The increase in intangible assets coupled with cash reduction might indicate strategic acquisitions that could yield future benefits.\\n\\n### Negative Factors:\\n1. **Declining Profitability**: Sharp drops in operating and net profit margins (35% and 40% respectively) indicate serious operational challenges.\\n2. **Deteriorating Liquidity**: Quick ratio below 1 and significant cash reduction raise concerns about future liquidity.\\n3. **Increasing Leverage**: Rising debt-to-equity ratio increases financial risk.\\n4. **Stock Price Decline**: 19.6% stock price decline over the past year reflects market concerns about performance.\\n5. **Rising Operating Expenses**: 37% increase in operating expenses suggests potential operational inefficiencies.\\n6. **Declining Efficiency**: Decreasing asset turnover indicates less efficient use of assets.\\n\\n### Weighting in Final Decision:\\n- Negative factors outweigh positive factors in both number and significance\\n- The sharp decline in profitability and liquidity metrics is particularly concerning\\n- The stock price trend aligns with deteriorating fundamentals\\n- The substantial cash reduction coupled with increased debt creates a concerning financial position\\n\\n## 6. Final Decision\\n\\n**SELL** with a confidence score of 75%.\\n\\nThe decision to sell is based on the clear deterioration of key financial metrics, particularly the sharp decline in profitability and liquidity. The company's increasing leverage, significant cash reduction, and rising operating expenses all point to potential operational and financial challenges ahead. The stock price has already declined by nearly 20% over the past year, and the most recent financial data suggests this negative trend may continue.\\n\\nThe confidence score is not higher because there are some mitigating factors: the company remains profitable, has made what appears to be strategic investments (increased intangible assets), and maintains adequate interest coverage. Additionally, without industry comparison or knowledge of any strategic initiatives that might reverse the negative trends, there is some uncertainty in the assessment.\""
      ]
     },
     "execution_count": 18,
     "metadata": {},
     "output_type": "execute_result"
    }
   ],
   "source": [
    "response"
   ]
  },
  {
   "cell_type": "markdown",
   "id": "9947ce3f-67b9-4064-87fe-d193d6b4d774",
   "metadata": {},
   "source": [
    "## Langgraph version\n",
    "This is the langgraph version in prep for multi-agentic AI system"
   ]
  },
  {
   "cell_type": "code",
   "execution_count": 73,
   "id": "b966ce43-1262-46b7-b07c-07993670efe5",
   "metadata": {},
   "outputs": [],
   "source": [
    "# Set up and configure the model settings\n",
    "model_llm = ChatBedrock(\n",
    "    client = boto3_bedrock,\n",
    "    model = 'us.anthropic.claude-3-7-sonnet-20250219-v1:0',\n",
    "    temperature = 0.7,\n",
    "    max_tokens=None,\n",
    ")"
   ]
  },
  {
   "cell_type": "code",
   "execution_count": 35,
   "id": "586cb91d-c8a1-4808-960c-37ee0a8b75f3",
   "metadata": {},
   "outputs": [],
   "source": [
    "FA_ANALYSIS_PROMPT = SYSTEM_PROMPTS['CoTDetailed_OA']['prompt']"
   ]
  },
  {
   "cell_type": "code",
   "execution_count": 22,
   "id": "838fee11-f696-404d-be95-194f36a37653",
   "metadata": {},
   "outputs": [],
   "source": []
  },
  {
   "cell_type": "code",
   "execution_count": 23,
   "id": "eec081bd-4801-42df-b6d8-2994466e35a9",
   "metadata": {},
   "outputs": [],
   "source": [
    "prompt = f\"You are an assistant to a financial analyst. You are responsible for formatting the documents that the analyst produces into a machine readable format. You take the document and convert it into the structured output. Do not leave anything out of the analysts report and do not summarize. Do not add anything to the analysts report. Find the investment decision. Find the conclusion. Add all of the wording of the thought process into the steps section. context: {response}\"\n",
    "structured_llm = model_llm.with_structured_output(FinancialOutput)\n",
    "formatted_response = structured_llm.invoke(prompt)"
   ]
  },
  {
   "cell_type": "code",
   "execution_count": 24,
   "id": "83e6fb9d-e089-48b9-9d5d-96ac2def76c5",
   "metadata": {},
   "outputs": [
    {
     "data": {
      "text/plain": [
       "FinancialOutput(decision='SELL', reason='The company shows significant deterioration in profitability metrics with operating margin dropping from 25.2% to 16.3% and net profit margin falling from 19.8% to 11.9%. This profitability decline is accompanied by a concerning increase in operating expenses (37.3% year-over-year) without corresponding revenue growth. The balance sheet shows increasing financial leverage with debt-to-equity ratio rising to 3.41 and a dramatic 70% reduction in cash and cash equivalents.\\n\\nThe stock price has already begun reflecting these fundamental weaknesses, declining from January to February 2020. Given the combination of deteriorating operational performance, weakening balance sheet, and negative stock price momentum, the outlook for the next financial period appears negative. The relatively stable revenue base prevents an even higher confidence in the sell recommendation, but the weight of negative factors strongly suggests selling the stock before further potential declines.', decision_analysis='Positive Factors:\\n1. Still Profitable: Despite the decline, the company remains profitable with positive margins.\\n2. Above 1 Current Ratio: The current ratio of 1.41 indicates adequate short-term liquidity.\\n3. Strong Interest Coverage: Interest coverage ratio of 10.69 suggests the company can easily meet its interest obligations.\\n4. Stable Revenue: Revenue has remained relatively stable over the analyzed periods.\\n\\nNegative Factors:\\n1. Significant Profit Margin Decline: Operating margin dropped by nearly 9 percentage points year-over-year.\\n2. Sharp Increase in Operating Expenses: 37.3% increase in operating expenses without corresponding revenue growth.\\n3. Declining Cash Position: Cash and cash equivalents decreased by 70% from $7,731M to $2,353M.\\n4. Increasing Leverage: Debt-to-equity ratio increased from 2.95 to 3.41.\\n5. Declining EPS: Basic EPS dropped by 39% from $2.75 to $1.68.\\n6. Declining Stock Price: Recent stock price trends show weakness.\\n\\nWeighting in Final Decision:\\n- Profitability Trends (40%): The significant decline in profitability metrics is highly concerning and suggests fundamental operational issues.\\n- Balance Sheet Health (25%): Deteriorating liquidity and increasing leverage indicate higher financial risk.\\n- Stock Price Momentum (20%): The declining stock price trend suggests negative market sentiment.\\n- Revenue Stability (15%): Stable revenue provides some reassurance but is outweighed by profitability concerns.', confidence=75)"
      ]
     },
     "execution_count": 24,
     "metadata": {},
     "output_type": "execute_result"
    }
   ],
   "source": [
    "formatted_response"
   ]
  },
  {
   "cell_type": "markdown",
   "id": "76af00d1-d2de-4061-9b93-69fb3a06482b",
   "metadata": {},
   "source": [
    "## Run Inference Loop for Dow Jones"
   ]
  },
  {
   "cell_type": "code",
   "execution_count": 109,
   "id": "81086c8d-97db-42bf-8f2e-7dc8ad39828c",
   "metadata": {},
   "outputs": [],
   "source": [
    "from langchain_aws import ChatBedrock\n",
    "from pydantic import BaseModel, Field\n",
    "from langchain.prompts import PromptTemplate\n",
    "from langchain_core.runnables import RunnableSequence\n",
    "from langchain_core.rate_limiters import InMemoryRateLimiter\n",
    "import concurrent.futures"
   ]
  },
  {
   "cell_type": "code",
   "execution_count": 110,
   "id": "9a599c81-f765-4036-8dda-50b542167e0a",
   "metadata": {},
   "outputs": [],
   "source": [
    "# set up the LLM in Bedrock\n",
    "rate_limiter = InMemoryRateLimiter(\n",
    "    requests_per_second=5,\n",
    "    check_every_n_seconds=1,\n",
    "    max_bucket_size=10,\n",
    ")\n",
    "\n",
    "llm = ChatBedrock(\n",
    "    client = boto3_bedrock,\n",
    "    model = 'us.anthropic.claude-3-7-sonnet-20250219-v1:0',\n",
    "    temperature = 0.7,\n",
    "    max_tokens=4000,\n",
    "    rate_limiter = rate_limiter\n",
    ")"
   ]
  },
  {
   "cell_type": "code",
   "execution_count": 96,
   "id": "dd5420b8-734e-46c3-b56c-003464260c96",
   "metadata": {},
   "outputs": [],
   "source": [
    "prompt_template = PromptTemplate.from_template(SYSTEM_PROMPTS['CoTDetailed_Claude']['prompt'])"
   ]
  },
  {
   "cell_type": "code",
   "execution_count": 77,
   "id": "0e9e9101-c974-4a3a-89da-70dd787bc74f",
   "metadata": {},
   "outputs": [],
   "source": [
    "def run_claude(prompt: dict, llm: RunnableSequence) -> dict:\n",
    "    prompt_in = prompt_template.format(financials=prompt['prompt'][1]['content'])\n",
    "    output = llm.invoke(prompt_in)\n",
    "    decision_dict = {\n",
    "        'date': prompt['date'],\n",
    "        'security': prompt['security'],\n",
    "        'response': output\n",
    "    }\n",
    "    return decision_dict"
   ]
  },
  {
   "cell_type": "code",
   "execution_count": 85,
   "id": "3a9f2a37-8afb-48dd-b732-184b2d97abc5",
   "metadata": {},
   "outputs": [
    {
     "name": "stdout",
     "output_type": "stream",
     "text": [
      "CPU times: user 7.08 s, sys: 505 ms, total: 7.58 s\n",
      "Wall time: 9min 56s\n"
     ]
    }
   ],
   "source": [
    "%%time\n",
    "# This creates the initial response - run this in parallel with 100 executors\n",
    "data = []\n",
    "with concurrent.futures.ThreadPoolExecutor(max_workers=100) as executor:\n",
    "    futures = [executor.submit(run_claude, prompt, llm) for prompt in prompts]\n",
    "    data = [f.result() for f in futures]"
   ]
  },
  {
   "cell_type": "code",
   "execution_count": 98,
   "id": "7e62edbc-3a9a-42a1-b479-ba85f26faec8",
   "metadata": {},
   "outputs": [],
   "source": [
    "cleaned_output = [{'date': i['date'], \n",
    "             'security': i['security'], \n",
    "             'response': i['response'].content} \n",
    "            for i in data]"
   ]
  },
  {
   "cell_type": "code",
   "execution_count": 99,
   "id": "09cecfaa-4406-41e5-ac20-bf9bbf1d7d15",
   "metadata": {},
   "outputs": [],
   "source": [
    "with open('Data/Results - Bedrock.json', 'w') as f:\n",
    "    json.dump(cleaned_output, f)"
   ]
  },
  {
   "cell_type": "markdown",
   "id": "c4e6bb21-0edc-430c-a641-54ee4c56df08",
   "metadata": {},
   "source": [
    "## Convert to JSON format\n",
    "This is needed to run the trade analytics and compare to other LLMs"
   ]
  },
  {
   "cell_type": "code",
   "execution_count": 111,
   "id": "7b9d4083-5cbc-40eb-86d1-64bf773a8eea",
   "metadata": {},
   "outputs": [],
   "source": [
    "# STEP 1: Set up the structured output\n",
    "class FinancialOutput(BaseModel):\n",
    "    \"\"\"Answer to the users question along with justification\"\"\"\n",
    "    decision: str = Field(..., description=\"The investment decision, either BUY, SELL or HOLD\")\n",
    "    reason: str = Field(..., description=\"final decision reason\")\n",
    "    confidence: int = Field(..., description=\"How confident you are of the decision\")"
   ]
  },
  {
   "cell_type": "code",
   "execution_count": 112,
   "id": "315e70b5-b689-40d1-8983-10b5a5fea794",
   "metadata": {},
   "outputs": [],
   "source": [
    "# STEP 2: \n",
    "system_prompt = f\"You are an assistant to a financial analyst. You are responsible for formatting the documents that the analyst produces into a machine readable format. You take the document and convert it into the structured output. Do not leave anything out of the analysts report and do not summarize. Do not add anything to the analysts report. Find the investment decision. Find the conclusion. Add all of the wording of the thought process into the steps section. context: {response}\"\n",
    "\n",
    "prompt_template = PromptTemplate.from_template(system_prompt)\n",
    "structured_llm = llm.with_structured_output(FinancialOutput)\n",
    "# formatted_response = structured_llm.invoke(prompt)"
   ]
  },
  {
   "cell_type": "code",
   "execution_count": 113,
   "id": "10be12b4-c2b9-4b8c-a5f1-a2e430589a7e",
   "metadata": {},
   "outputs": [],
   "source": [
    "# STEP 3: Set up \n",
    "def run_cleanup(prompt, llm: RunnableSequence) -> dict:\n",
    "    thought_process = prompt['response']\n",
    "    prompt_in = prompt_template.format(response=thought_process)\n",
    "    response = llm.invoke(prompt_in)\n",
    "    final_dict = {\n",
    "        'date': prompt['date'],\n",
    "        'security': prompt['security'],\n",
    "        'response': {\n",
    "            'decision': response.decision,\n",
    "            'reason': response.reason,\n",
    "            'confidence': response.confidence,\n",
    "            'thought_process': thought_process\n",
    "        }\n",
    "    }\n",
    "    return final_dict"
   ]
  },
  {
   "cell_type": "code",
   "execution_count": 114,
   "id": "a1a2d191-2abf-4987-9663-df423d4b1ae2",
   "metadata": {},
   "outputs": [
    {
     "name": "stdout",
     "output_type": "stream",
     "text": [
      "CPU times: user 5.64 s, sys: 107 ms, total: 5.75 s\n",
      "Wall time: 7min 32s\n"
     ]
    }
   ],
   "source": [
    "%%time\n",
    "responses = []\n",
    "with concurrent.futures.ThreadPoolExecutor(max_workers=10) as executor:\n",
    "    futures = [executor.submit(run_cleanup, prompt, structured_llm) for prompt in cleaned_output]\n",
    "    responses = [f.result() for f in futures]"
   ]
  },
  {
   "cell_type": "code",
   "execution_count": 116,
   "id": "d4f69352-d175-4245-929d-88f65ac75ea1",
   "metadata": {},
   "outputs": [],
   "source": [
    "# STEP 5: convert to the correct format\n",
    "final_json = {\n",
    "    'run_date': str(datetime.datetime.now()),\n",
    "    'system_prompt': SYSTEM_PROMPTS['CoTDetailed_Claude']['prompt'],\n",
    "    'dataset': 'data_quarterly_pit_indu',\n",
    "    'model': model_id,\n",
    "    'results': responses\n",
    "}"
   ]
  },
  {
   "cell_type": "code",
   "execution_count": 119,
   "id": "e4c8aa7d-757f-4ed1-93b9-f141f4a44e5a",
   "metadata": {},
   "outputs": [],
   "source": [
    "with open(f'Results/results - {str(datetime.datetime.now())}.json', 'w') as f:\n",
    "    json.dump(final_json, f)"
   ]
  },
  {
   "cell_type": "code",
   "execution_count": null,
   "id": "ef179196-525a-4dfd-812c-4ee78189944e",
   "metadata": {},
   "outputs": [],
   "source": []
  }
 ],
 "metadata": {
  "kernelspec": {
   "display_name": "Bloomberg Lab Python 3",
   "language": "python",
   "name": "user-python"
  },
  "language_info": {
   "codemirror_mode": {
    "name": "ipython",
    "version": 3
   },
   "file_extension": ".py",
   "mimetype": "text/x-python",
   "name": "python",
   "nbconvert_exporter": "python",
   "pygments_lexer": "ipython3",
   "version": "3.9.12"
  }
 },
 "nbformat": 4,
 "nbformat_minor": 5
}
