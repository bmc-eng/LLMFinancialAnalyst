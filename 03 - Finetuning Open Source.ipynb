{
 "cells": [
  {
   "cell_type": "markdown",
   "id": "d421f330-cfd9-4a9c-9af6-823de68d581b",
   "metadata": {},
   "source": [
    "# Fine-tuning Open Source Model\n",
    "Fine-tune the Qwen 2.5 3B model on 1,000 prompts from the S&P that do not appear in the Dow Jones Index"
   ]
  },
  {
   "cell_type": "code",
   "execution_count": 3,
   "id": "8ddf26df-7569-426d-a30a-ea61c64ad5b1",
   "metadata": {},
   "outputs": [
    {
     "name": "stdout",
     "output_type": "stream",
     "text": [
      "Running: micromamba install trl --yes --quiet --log-level=error\n",
      "\n",
      "Note: Packages not from Bloomberg channels are not vetted by Bloomberg.\n",
      "\u001b[93mPlease restart the Jupyter kernel if you run into any issues after installing or updating packages via %package.\u001b[0m\n",
      "\n"
     ]
    }
   ],
   "source": [
    "%package install trl"
   ]
  },
  {
   "cell_type": "code",
   "execution_count": 1,
   "id": "01d9eefb-b0f9-4f36-9b02-286abb835be4",
   "metadata": {},
   "outputs": [],
   "source": [
    "import torch\n",
    "from transformers import AutoModelForCausalLM, AutoTokenizer, TrainingArguments, BitsAndBytesConfig\n",
    "from peft import LoraConfig\n",
    "from trl import SFTTrainer, SFTConfig\n",
    "from tqdm import tqdm\n",
    "from datasets import load_dataset\n",
    "import random\n",
    "import bql\n",
    "import json\n",
    "\n",
    "from company_data import SecurityData\n",
    "\n",
    "import importlib\n",
    "import company_data\n",
    "import utils.model_helper as mh"
   ]
  },
  {
   "cell_type": "code",
   "execution_count": 2,
   "id": "8f396508-ef0f-4876-8a97-52779ed6b82a",
   "metadata": {},
   "outputs": [],
   "source": [
    "importlib.reload(company_data)\n",
    "bq = bql.Service()"
   ]
  },
  {
   "cell_type": "markdown",
   "id": "456dbf69-d7cc-4afc-9db8-2a72fd96881a",
   "metadata": {},
   "source": [
    "### Set up training data\n",
    "\n",
    "Need to be careful to remove the securities that will be used to test the strategy to make sure there is no contamination of the datasets. The Training data will use the S&P 500 index as the universe with the Dow Jones securities removed from the universe."
   ]
  },
  {
   "cell_type": "code",
   "execution_count": 4,
   "id": "f2884666-693c-4af7-aa64-b8e100bcb26f",
   "metadata": {},
   "outputs": [],
   "source": [
    "# get the actual Dow Jones datasets\n",
    "dow_data = company_data.SecurityData('tmp/fs','data_quarterly_pit_indu_refresh_blended.json')\n",
    "dow_secs = dow_data.get_unique_securities()\n",
    "\n",
    "# get the training data from S&P\n",
    "spx_data = company_data.SecurityData('tmp/fs','data_quarterly_pit_spx_refresh_blended.json') #'data_annual_pit_spx.json')#\n",
    "spx_secs = spx_data.get_unique_securities()"
   ]
  },
  {
   "cell_type": "code",
   "execution_count": 5,
   "id": "a59138bc-eb55-444c-8b69-3334994c5b99",
   "metadata": {},
   "outputs": [],
   "source": [
    "#STEP 2: Get the unique securities that could be part of the training data set\n",
    "training_secs = []\n",
    "for sec in spx_secs:\n",
    "    if sec not in dow_secs:\n",
    "        training_secs.append(sec)"
   ]
  },
  {
   "cell_type": "code",
   "execution_count": 6,
   "id": "cfe6435b-89b9-490f-9713-079c7fe03b02",
   "metadata": {},
   "outputs": [],
   "source": [
    "# STEP 3: select random securities and dates for the training set\n",
    "dates = spx_data.get_dates()"
   ]
  },
  {
   "cell_type": "code",
   "execution_count": 7,
   "id": "ea6c3536-7e73-4cd8-94b9-502bd83b4eb1",
   "metadata": {},
   "outputs": [],
   "source": [
    "random.seed(21)\n",
    "random.shuffle(dates)\n",
    "\n",
    "training_system_prompt = \"\"\"You are a financial analyst. Use the following income statement, balance sheet to estimate the Basic EPS for the next fiscal period. Use only the data in the prompt. Provide a confidence score for how confident you are of the decision. If you are not confident then lower the confidence score.\"\"\"\n",
    "\n",
    "# assemble the prompts - 1000 dates\n",
    "prompts = []\n",
    "count = 10000\n",
    "for date in dates:\n",
    "    # Pull out the securities reporting on that date\n",
    "    securities = spx_data.get_securities_reporting_on_date(date)\n",
    "    # Loop through the securities\n",
    "    for security in securities:\n",
    "        # check to see if the security is in the training set\n",
    "        if security in training_secs:\n",
    "            if len(prompts) < count:\n",
    "                prompt = spx_data.get_prompt(date, security, training_system_prompt)\n",
    "                record = {'security': security, 'date': date, 'prompt': training_system_prompt + prompt[1]['content'] + \"\\nAnswer in JSON format with the next period EPS, the direction, the magnitude and a confidence.\"}\n",
    "                #record = {'security': security, 'date': date, 'prompt': training_system_prompt + prompt[1]['content'] + \"\\nThe next period EPS is \"}\n",
    "                prompts.append(record)\n",
    "            else:\n",
    "                break"
   ]
  },
  {
   "cell_type": "code",
   "execution_count": 20,
   "id": "210782f8-d9b5-48bc-b877-f8ea82a4bc19",
   "metadata": {},
   "outputs": [],
   "source": [
    "# Get data from BQL for the actual and estimated EPS for each period\n",
    "def get_eps_values(security:str, as_of_date:str) -> tuple[float, float]:\n",
    "    \"\"\"Return the actual and estimate EPS for a security and point in time date\"\"\"\n",
    "    field = {'eps': bq.data.is_basic_eps_cont_ops(dates=as_of_date, \n",
    "                               fpo=bq.func.range('0Q','+1Q'), \n",
    "                               currency='USD', \n",
    "                               fpt='LTM', \n",
    "                               fa_period_year_end='C1231',\n",
    "                               fa_period_type_source='Q', \n",
    "                               fa_act_est_data='AE')}\n",
    "    # Request the data and unpack to a DataFrame\n",
    "    req = bql.Request(security,field)\n",
    "    dt = bq.execute(req)\n",
    "    df = dt[0].df()\n",
    "    # extract the actual and estimate\n",
    "    actual_value = df['eps'][0]\n",
    "    estimate_value = df['eps'][1]\n",
    "    return actual_value, estimate_value"
   ]
  },
  {
   "cell_type": "code",
   "execution_count": 16,
   "id": "9dfd9379-0acc-4b94-a887-4b6240d136ae",
   "metadata": {},
   "outputs": [],
   "source": [
    "def construct_prompt_response(actual_value, est_value):\n",
    "    earnings = 'INCREASING' if est_value > actual_value else 'DECREASING'\n",
    "    magnitude = est_value / actual_value - 1\n",
    "    if abs(magnitude) < 0.02 :\n",
    "        mag_descr = 'FLAT'\n",
    "    elif abs(magnitude) <= 0.05:\n",
    "        mag_descr = 'SMALL'\n",
    "    elif abs (magnitude) <= 0.1:\n",
    "        mag_descr = 'LARGE'\n",
    "    else:\n",
    "        mag_descr = 'VERY LARGE'\n",
    "    return json.dumps({'EPS': round(est_value,3), 'earnings': earnings, 'magnitude':mag_descr})\n",
    "\n"
   ]
  },
  {
   "cell_type": "code",
   "execution_count": 18,
   "id": "6bc12d2f-c5e3-4504-9c50-7814313fe516",
   "metadata": {},
   "outputs": [
    {
     "data": {
      "text/plain": [
       "'{\"EPS\": 2, \"earnings\": \"DECREASING\", \"magnitude\": \"VERY LARGE\"}'"
      ]
     },
     "execution_count": 18,
     "metadata": {},
     "output_type": "execute_result"
    }
   ],
   "source": [
    "construct_prompt_response(3,2)"
   ]
  },
  {
   "cell_type": "code",
   "execution_count": 21,
   "id": "58f60eb4-5b6a-479d-9474-70fbf0b1b9b0",
   "metadata": {},
   "outputs": [],
   "source": [
    "for prompt in prompts:\n",
    "    actual_value, est_value = get_eps_values(prompt['security'],prompt['date'])\n",
    "    #prompt['prompt'] = prompt['prompt'] + str(round(est_value,3))\n",
    "    prompt['eps'] = construct_prompt_response(actual_value, est_value)"
   ]
  },
  {
   "cell_type": "code",
   "execution_count": 10,
   "id": "2cd01c3b-3f8b-4eb8-b161-cc0ff11024a2",
   "metadata": {},
   "outputs": [
    {
     "data": {
      "text/plain": [
       "{'security': 'CRL UN Equity',\n",
       " 'date': '2024-08-07',\n",
       " 'prompt': 'You are a financial analyst. Use the following income statement, balance sheet to estimate the Basic EPS for the next fiscal period. Use only the data in the prompt. Provide a confidence score for how confident you are of the decision. If you are not confident then lower the confidence score.Income Statement:                                                        t           t-1           t-2           t-3           t-4           t-5\\nitems                                                                                                                          \\nRevenue                                      4.077776e+09  4.111596e+09  4.129409e+09  4.215776e+09  4.178310e+09  4.091504e+09\\nCost of Revenue                              2.653295e+09  2.641851e+09  2.626853e+09  2.678421e+09  2.632572e+09  2.588017e+09\\nGross Profit                                 1.424481e+09  1.469745e+09  1.502556e+09  1.537355e+09  1.545738e+09  1.503487e+09\\nOperating Expenses                           8.624280e+08  8.943990e+08  8.852950e+08  8.892060e+08  8.981150e+08  8.333980e+08\\nSelling, General and Administrative Expense  7.293330e+08  7.593000e+08  7.478550e+08  7.503530e+08  7.579580e+08  6.899110e+08\\nOther Operating Expenses                     1.330950e+08  1.350990e+08  1.374400e+08  1.388530e+08  1.401570e+08  1.434870e+08\\nOperating Income or Losses                   5.620530e+08  5.753460e+08  6.172610e+08  6.481490e+08  6.476230e+08  6.700890e+08\\nNon-Operating (Income) Loss                  2.181000e+07  2.609200e+07  3.597700e+07  3.065000e+07  1.989000e+07  2.690700e+07\\nNet Interest Expense                         1.268800e+08  1.307390e+08  1.315140e+08  1.339970e+08  1.128810e+08  8.277800e+07\\nInterest Expense                             1.350560e+08  1.373310e+08  1.367100e+08  1.379450e+08  1.155780e+08  8.423700e+07\\nInterest Income                              8.176000e+06  6.592000e+06  5.196000e+06  3.948000e+06  2.697000e+06  1.459000e+06\\nOther Non-Operating (Income) Loss           -1.050700e+08 -1.046470e+08 -9.553700e+07 -1.033470e+08 -9.299100e+07 -5.587100e+07\\nPretax Income (Loss), Adjusted               5.402430e+08  5.492540e+08  5.812840e+08  6.174990e+08  6.277330e+08  6.431820e+08\\nAbnormal Losses (Gains)                     -1.036000e+06 -8.246000e+06 -7.186000e+06  1.060270e+08  8.166700e+07  6.206800e+07\\nMerger / Acquisition Expense                 2.062700e+07  2.254700e+07  2.407000e+07  3.874100e+07  4.478500e+07  1.695400e+07\\nSale of Business                             0.000000e+00  2.060000e+06  9.610000e+05  0.000000e+00  0.000000e+00  0.000000e+00\\nRestructuring Expenses                       2.311300e+07  1.973200e+07  1.161100e+07  7.969000e+06  4.301000e+06  3.062000e+06\\nOther Abnormal Items                         5.652600e+07  4.699900e+07  4.671200e+07  3.623600e+07  2.360400e+07  2.538000e+07\\nIncome Tax Expense (Benefit)                 9.452700e+07  9.835600e+07  1.009140e+08  1.369750e+08  1.376180e+08  1.418460e+08\\nIncome (Loss) from Continuing Operations     4.457160e+08  4.508980e+08  4.803700e+08  4.805240e+08  4.901150e+08  5.013360e+08\\nNet Income/Net Profit (Losses)               4.317900e+08  4.388220e+08  4.746240e+08  4.749500e+08  4.840340e+08  4.963350e+08\\nNet Abnormal Losses (Gains)                 -2.639501e+07 -3.420948e+07 -3.912829e+07  8.971715e+07  7.197560e+07  5.562641e+07\\nBasic Weighted Average Number of Shares      5.139550e+07  5.131175e+07  5.122675e+07  5.112550e+07  5.102225e+07  5.092400e+07\\nBasic Earnings per Share                     8.410000e+00  8.550000e+00  9.260000e+00  9.290000e+00  9.490000e+00  9.750000e+00\\nBasic EPS from Continuing Operations         7.887229e+00  7.886682e+00  8.502510e+00  1.105310e+01  1.090131e+01  1.083907e+01\\nDiluted Weighted Average Shares              5.172975e+07  5.163500e+07  5.153150e+07  5.146975e+07  5.138875e+07  5.134275e+07\\nDiluted EPS                                  8.350000e+00  8.500000e+00  9.210000e+00  9.240000e+00  9.430000e+00  9.670000e+00\\nDiluted EPS from Continuing Operations, Adj  7.835016e+00  7.836889e+00  8.454504e+00  1.098281e+01  1.083040e+01  1.075287e+01\\n Balance Sheet:                                               t           t-1           t-2           t-3           t-4           t-5\\nitems                                                                                                                \\nCash, Cash Equivalents & STI       1.792130e+08  3.270390e+08  2.767710e+08  1.571740e+08  2.004450e+08  2.015870e+08\\nAccounts & Notes Receiv            7.622210e+08  7.869800e+08  7.803750e+08  7.993100e+08  8.006460e+08  7.883090e+08\\nInventories                        3.491110e+08  3.612810e+08  3.802590e+08  2.929720e+08  2.852800e+08  2.625840e+08\\nRaw Materials                      4.323800e+07  4.460300e+07  4.229600e+07  4.066900e+07  4.213000e+07  4.277000e+07\\nWork In Process                    5.792300e+07  4.325200e+07  5.972700e+07  4.654400e+07  4.039600e+07  3.483000e+07\\nFinished Goods                     2.479500e+08  2.734260e+08  2.782360e+08  2.057590e+08  2.027540e+08  1.849840e+08\\nOther ST Assets                    2.087280e+08  1.928880e+08  1.712570e+08  1.948690e+08  2.184090e+08  1.958750e+08\\nMisc ST Assets                     1.108360e+08  9.905400e+07  8.337800e+07  9.331400e+07  1.133890e+08  9.171300e+07\\nTotal Current Assets               1.499273e+09  1.668188e+09  1.608662e+09  1.444325e+09  1.504780e+09  1.448355e+09\\nProperty, Plant & Equip, Net       2.000042e+09  2.003102e+09  2.033770e+09  1.900807e+09  1.926832e+09  1.902544e+09\\nProperty, Plant & Equip            0.000000e+00  3.367490e+09  3.369079e+09  0.000000e+00  0.000000e+00  0.000000e+00\\nAccumulated Depreciation           0.000000e+00  1.364388e+09  1.335309e+09  0.000000e+00  0.000000e+00  0.000000e+00\\nOther LT Assets                    4.448968e+09  4.481493e+09  4.552569e+09  4.261875e+09  4.340769e+09  4.348540e+09\\nTotal Intangible Assets            3.879822e+09  3.897879e+09  3.959096e+09  3.770888e+09  3.846483e+09  3.859746e+09\\nGoodwill                           3.079693e+09  3.070241e+09  3.095045e+09  2.884602e+09  2.916593e+09  2.901627e+09\\nOther Intangible Assets            8.001290e+08  8.276380e+08  8.640510e+08  8.862860e+08  9.298900e+08  9.581190e+08\\nDeferred Tax Assets                3.610900e+07  3.692400e+07  4.027900e+07  3.426400e+07  3.854000e+07  4.101700e+07\\nPrepaid Pension Costs              0.000000e+00  0.000000e+00  3.695700e+07  0.000000e+00  0.000000e+00  0.000000e+00\\nMisc LT Assets                     5.131718e+08  4.938490e+08  4.691208e+08  4.452355e+08  3.659538e+08  2.911582e+08\\nTotal Noncurrent Assets            6.449010e+09  6.484595e+09  6.586339e+09  6.162682e+09  6.267601e+09  6.251084e+09\\nTotal Assets                       7.948283e+09  8.152783e+09  8.195001e+09  7.607007e+09  7.772381e+09  7.699439e+09\\nPayables & Accruals                5.019240e+08  5.101800e+08  6.100520e+08  5.585860e+08  5.517100e+08  5.174270e+08\\nAccounts Payable                   1.331010e+08  1.296820e+08  1.689370e+08  1.363410e+08  1.402040e+08  1.200040e+08\\nOther Payables & Accruals          3.688230e+08  3.804980e+08  4.411150e+08  4.222450e+08  4.115060e+08  3.974230e+08\\nST Debt                            0.000000e+00  0.000000e+00  6.047800e+07  0.000000e+00  0.000000e+00  0.000000e+00\\nST Finance Leases                  0.000000e+00  0.000000e+00  2.398000e+06  0.000000e+00  0.000000e+00  0.000000e+00\\nST Operating Leases                0.000000e+00  0.000000e+00  5.490800e+07  0.000000e+00  0.000000e+00  0.000000e+00\\nCurrent Portion of LT Debt         0.000000e+00  0.000000e+00  3.172000e+06  0.000000e+00  0.000000e+00  0.000000e+00\\nOther ST Liabilities               4.455950e+08  4.446300e+08  3.845520e+08  4.352300e+08  4.559130e+08  4.639650e+08\\nDeferred Revenue                   2.471770e+08  3.469720e+08  3.273740e+08  2.504850e+08  2.573960e+08  2.622260e+08\\nMisc ST Liabilities                1.984180e+08  9.765800e+07  5.717800e+07  1.847450e+08  1.985170e+08  2.017390e+08\\nTotal Current Liabilities          9.475190e+08  9.548100e+08  1.055082e+09  9.938160e+08  1.007623e+09  9.813920e+08\\nLT Debt                            2.837967e+09  3.078513e+09  3.066381e+09  2.904654e+09  3.080100e+09  3.161976e+09\\nLT Borrowings                      2.409380e+09  2.660459e+09  2.620995e+09  2.488102e+09  2.678472e+09  2.743774e+09\\nLT Finance Leases                  0.000000e+00  0.000000e+00  2.615200e+07  2.611500e+07  0.000000e+00  0.000000e+00\\nLT Operating Leases                4.285870e+08  4.180540e+08  4.192340e+08  3.904370e+08  4.016280e+08  4.182020e+08\\nOther LT Liabilities               3.897030e+08  4.155350e+08  4.145400e+08  3.578280e+08  3.846560e+08  3.992530e+08\\nPension Liabilities                0.000000e+00  0.000000e+00  5.701100e+07  0.000000e+00  0.000000e+00  0.000000e+00\\nDeferred Revenue                   2.913900e+07  3.244800e+07  3.091900e+07  2.939100e+07  2.953300e+07  2.928600e+07\\nMisc LT Liabilities                1.953810e+08  2.029930e+08  1.352610e+08  1.431270e+08  1.477190e+08  1.576890e+08\\nTotal Noncurrent Liabilities       3.227670e+09  3.494048e+09  3.480921e+09  3.262482e+09  3.464756e+09  3.561229e+09\\nTotal Liabilities                  4.175189e+09  4.448858e+09  4.536003e+09  4.256298e+09  4.472379e+09  4.542621e+09\\nShare Capital & APIC               1.957146e+09  1.939928e+09  1.906091e+09  1.877634e+09  1.850898e+09  1.830701e+09\\nCommon Stock                       5.170000e+05  5.150000e+05  5.130000e+05  5.140000e+05  5.130000e+05  5.120000e+05\\nAdditional Paid in Capital         1.956629e+09  1.939413e+09  1.905578e+09  1.877120e+09  1.850385e+09  1.830189e+09\\nTreasury Stock                     1.826500e+07  9.351000e+06  0.000000e+00  2.401600e+07  2.397800e+07  1.901200e+07\\nRetained Earnings                  2.053557e+09  1.959777e+09  1.887218e+09  1.720441e+09  1.633052e+09  1.536032e+09\\nOther Equity                      -2.697090e+08 -2.499190e+08 -1.964270e+08 -2.680660e+08 -2.082690e+08 -2.391240e+08\\nEquity Before Minority Interest    3.722729e+09  3.640435e+09  3.596882e+09  3.305993e+09  3.251703e+09  3.108597e+09\\nMinority/Non Controlling Interest  5.036500e+07  6.349000e+07  6.211600e+07  4.471600e+07  4.829900e+07  4.822100e+07\\nTotal Equity                       3.773094e+09  3.703925e+09  3.658998e+09  3.350709e+09  3.300002e+09  3.156818e+09\\n Historical Price:              Price\\nDate              \\n2023-08-07  205.28\\n2023-09-07  204.39\\n2023-10-07  193.46\\n2023-11-07  182.81\\n2023-12-07  202.77\\n2024-01-07  223.89\\n2024-02-07  218.58\\n2024-03-07  270.27\\n2024-04-07  253.10\\n2024-05-07  236.30\\n2024-06-07  214.79\\n2024-07-07  199.66\\n2024-08-07  199.96\\nAnswer in JSON format with the next period EPS, the direction, the magnitude and a confidence.',\n",
       " 'eps': '{\"EPS\": 8.408, \"earnings\": \"INCREASING\", \"magnitude\": \"LARGE\"}'}"
      ]
     },
     "execution_count": 10,
     "metadata": {},
     "output_type": "execute_result"
    }
   ],
   "source": [
    "prompts[0]"
   ]
  },
  {
   "cell_type": "code",
   "execution_count": 11,
   "id": "c8cff1f6-b1e5-4a7e-a528-953e3b0e6fe5",
   "metadata": {},
   "outputs": [],
   "source": [
    "with open('/tmp/training_prompts3.json', 'w') as f:\n",
    "    json.dump(prompts, f)"
   ]
  },
  {
   "cell_type": "markdown",
   "id": "5f01ee2b-ffa0-4641-86c9-3967baab178f",
   "metadata": {},
   "source": [
    "### Load the LLM for fine tuning"
   ]
  },
  {
   "cell_type": "code",
   "execution_count": 3,
   "id": "5b05fc84-0354-4072-8e46-d2655fae4703",
   "metadata": {},
   "outputs": [],
   "source": [
    "with open('/tmp/training_prompts3.json', 'rb') as f:\n",
    "    prompts = json.load(f)\n",
    "\n",
    "# convert to training sets needed jsonl format\n",
    "data_set_for_training = []\n",
    "for prompt in prompts:\n",
    "    #all_data_for_training += \"{\\\"prompt\\\":\\\"\" + prompt['prompt'] + \"\\\",\\\"completion\\\":\\\"\" + str(prompt['eps']) + \"\\\"}\\n\"\n",
    "    #data_set_for_training.append({'prompt':prompt['prompt'][:prompt['prompt'].find('Balance Sheet:')] + \"The next period EPS is \", 'completion': str(prompt['eps'])})\n",
    "    data_set_for_training.append({'prompt':prompt['prompt'][:prompt['prompt'].find('Balance Sheet:')] + \"Answer in JSON format with the next period EPS, the direction, the magnitude and a confidence:\", 'completion': str(prompt['eps'])})\n",
    "\n",
    "with open('/tmp/training_set.jsonl', 'w') as f:\n",
    "     json.dump({'data': data_set_for_training}, f)"
   ]
  },
  {
   "cell_type": "code",
   "execution_count": 4,
   "id": "8c72fa00-6e81-4a96-853e-3f44338aaac3",
   "metadata": {},
   "outputs": [
    {
     "data": {
      "application/vnd.jupyter.widget-view+json": {
       "model_id": "09303fa9fa984629a471328f18d3305e",
       "version_major": 2,
       "version_minor": 0
      },
      "text/plain": [
       "Generating train split: 0 examples [00:00, ? examples/s]"
      ]
     },
     "metadata": {},
     "output_type": "display_data"
    }
   ],
   "source": [
    "\n",
    "dataset = load_dataset(\"json\", data_files=\"/tmp/training_set.jsonl\", field='data', split='train').train_test_split(test_size=0.2)"
   ]
  },
  {
   "cell_type": "code",
   "execution_count": 5,
   "id": "fd242968-95f5-426e-9c3e-b9029a5ce685",
   "metadata": {},
   "outputs": [],
   "source": [
    "train_dataset = dataset['train']\n",
    "test_dataset = dataset['test']"
   ]
  },
  {
   "cell_type": "code",
   "execution_count": 6,
   "id": "eb1cf5d9-936d-4327-b9d2-5079bb045acc",
   "metadata": {},
   "outputs": [
    {
     "name": "stdout",
     "output_type": "stream",
     "text": [
      "qwen3b\n"
     ]
    },
    {
     "name": "stderr",
     "output_type": "stream",
     "text": [
      "Sliding Window Attention is enabled but not implemented for `sdpa`; unexpected results may be encountered.\n"
     ]
    }
   ],
   "source": [
    "model_loader = mh.ModelHelper('tmp/fs')\n",
    "model = model_loader.load_model('qwen3b','auto')"
   ]
  },
  {
   "cell_type": "code",
   "execution_count": 7,
   "id": "a79b953a-ac82-430c-a912-5989e7166331",
   "metadata": {},
   "outputs": [],
   "source": [
    "model_loader.clear_folder('qwen3b')"
   ]
  },
  {
   "cell_type": "code",
   "execution_count": 8,
   "id": "ee0f7083-e4c7-45e3-b509-40a9d3aef680",
   "metadata": {},
   "outputs": [],
   "source": [
    "tokenizer = AutoTokenizer.from_pretrained('Qwen/Qwen2.5-3B-Instruct', trust_remote_code=True)\n",
    "tokenizer.pad_token = tokenizer.eos_token\n",
    "tokenizer.padding_side = 'right'"
   ]
  },
  {
   "cell_type": "code",
   "execution_count": 9,
   "id": "5f2384a1-160f-4b03-adf2-52e91d091d5a",
   "metadata": {},
   "outputs": [],
   "source": [
    "model.generation_config.pad_token_id = tokenizer.pad_token_id"
   ]
  },
  {
   "cell_type": "markdown",
   "id": "f0d78fd5-da71-4257-b8b5-75704d41f8e8",
   "metadata": {},
   "source": [
    "## Set up for training"
   ]
  },
  {
   "cell_type": "code",
   "execution_count": 15,
   "id": "40bd9959-c6aa-4c57-86a5-ee6d17182349",
   "metadata": {},
   "outputs": [],
   "source": [
    "# with open('pass.txt') as p:\n",
    "#     wandb_login = p.read()\n",
    "    \n",
    "# wandb_login = wandb_login[wandb_login.find('WANDB_KEY=')+10:wandb_login.find('\\n',wandb_login.find('WANDB_KEY='))]\n",
    "# os.environ['WANDB_API_KEY'] = wandb_login\n",
    "# os.environ['WANDB_PROJECT'] = 'Earnings'\n",
    "# os.environ['WANDB_LOG_MODEL'] = \"checkpoint\"\n",
    "# os.environ['WANDB_WATCH'] = \"gradients\"\n",
    "# wandb.login()\n",
    "#wandb_login"
   ]
  },
  {
   "cell_type": "code",
   "execution_count": 10,
   "id": "cf44cfea-25aa-4b0b-b237-87d570f8cdcf",
   "metadata": {},
   "outputs": [],
   "source": [
    "# mask the majority of the prompt for estimating\n",
    "from trl import DataCollatorForCompletionOnlyLM\n",
    "template = \"confidence: \"\n",
    "collator = DataCollatorForCompletionOnlyLM(tokenizer.encode(template, add_special_tokens = False)[2:], tokenizer=tokenizer)"
   ]
  },
  {
   "cell_type": "code",
   "execution_count": 11,
   "id": "4f7be1c4-9773-42ff-9e6f-5ca5d71c0f91",
   "metadata": {},
   "outputs": [],
   "source": [
    "lora_parameters = LoraConfig(\n",
    "    lora_alpha = 8,\n",
    "    lora_dropout = 0.1,\n",
    "    target_modules = ['q_proj','v_proj','k_proj', 'o_proj'],\n",
    "    r = 4,\n",
    "    bias = 'none',\n",
    "    task_type = 'CAUSAL_LM'\n",
    ")"
   ]
  },
  {
   "cell_type": "code",
   "execution_count": 32,
   "id": "3a440192-b156-4835-8807-15b6c8e523c9",
   "metadata": {},
   "outputs": [],
   "source": [
    "train_parameters = SFTConfig(\n",
    "    output_dir = '/tmp/qwen_trained',\n",
    "    num_train_epochs=1,\n",
    "    per_device_train_batch_size=1,\n",
    "    per_device_eval_batch_size=1,\n",
    "    eval_strategy='no',\n",
    "    gradient_accumulation_steps=1,\n",
    "    optim='paged_adamw_32bit',\n",
    "    learning_rate= 1e-4,\n",
    "    lr_scheduler_type = 'cosine',\n",
    "    warmup_ratio = 0.03,\n",
    "    save_steps=500,\n",
    "    save_total_limit=10,\n",
    "    logging_steps=5,\n",
    "    weight_decay=0.001,\n",
    "    max_grad_norm=0.3,\n",
    "    max_steps=-1,\n",
    "    push_to_hub=False,\n",
    "    save_strategy=\"steps\",\n",
    "    max_seq_length=3000,\n",
    "    dataset_text_field='prompt',\n",
    "    group_by_length=True,\n",
    "    run_name='Earnings',\n",
    "    remove_unused_columns=False,\n",
    ")"
   ]
  },
  {
   "cell_type": "code",
   "execution_count": 13,
   "id": "55fb0105-a8b5-4d85-94be-fddb09e53bec",
   "metadata": {},
   "outputs": [
    {
     "data": {
      "application/vnd.jupyter.widget-view+json": {
       "model_id": "465680d4ba2240258b311ef064fed6b3",
       "version_major": 2,
       "version_minor": 0
      },
      "text/plain": [
       "Map:   0%|          | 0/8000 [00:00<?, ? examples/s]"
      ]
     },
     "metadata": {},
     "output_type": "display_data"
    },
    {
     "name": "stderr",
     "output_type": "stream",
     "text": [
      "No label_names provided for model class `PeftModelForCausalLM`. Since `PeftModel` hides base models input arguments, if label_names is not given, label_names can't be set automatically within `Trainer`. Note that empty label_names list will be used instead.\n"
     ]
    }
   ],
   "source": [
    "fine_tuning = SFTTrainer(\n",
    "    model=model,\n",
    "    train_dataset=train_dataset,\n",
    "    peft_config=lora_parameters,\n",
    "    tokenizer=tokenizer,\n",
    "    args=train_parameters,\n",
    "    data_collator=collator\n",
    ")"
   ]
  },
  {
   "cell_type": "code",
   "execution_count": 14,
   "id": "b996daf3-7253-42bc-8220-5bd82e56d10a",
   "metadata": {},
   "outputs": [
    {
     "data": {
      "text/plain": [
       "{'completion': '{\"EPS\": 5.41, \"earnings\": \"INCREASING\", \"magnitude\": \"FLAT\"}',\n",
       " 'prompt': 'You are a financial analyst. Use the following income statement, balance sheet to estimate the Basic EPS for the next fiscal period. Use only the data in the prompt. Provide a confidence score for how confident you are of the decision. If you are not confident then lower the confidence score.Income Statement:                                                        t           t-1           t-2           t-3           t-4           t-5\\nitems                                                                                                                          \\nRevenue                                      1.669395e+09  1.662830e+09  1.653395e+09  1.637330e+09  1.606814e+09  1.563227e+09\\nOperating Expenses                           1.028000e+06  2.692000e+06  2.891000e+06  2.896000e+06  2.132000e+06  2.870000e+05\\nOperating Income or Losses                   5.251040e+08  5.284900e+08  5.253140e+08  5.191100e+08  5.008130e+08  4.683480e+08\\nNon-Operating (Income) Loss                  9.439600e+07 -2.608900e+07 -3.495600e+07  2.906000e+06  6.782800e+07  8.545800e+07\\nNet Interest Expense                         2.107900e+08  2.073960e+08  2.036880e+08  2.001030e+08  1.968910e+08  1.936390e+08\\nOther Non-Operating (Income) Loss           -1.058330e+08 -1.974090e+08 -1.848540e+08 -1.640440e+08 -8.561000e+07 -1.597300e+07\\nPretax Income (Loss), Adjusted               4.307080e+08  5.545790e+08  5.602700e+08  5.162040e+08  4.329850e+08  3.828900e+08\\nAbnormal Losses (Gains)                     -5.923800e+07 -1.536540e+08 -1.710740e+08 -1.710740e+08 -1.118360e+08 -1.739200e+07\\nNet Income/Net Profit (Losses)               4.058250e+08  5.255990e+08  5.311590e+08  4.885930e+08  4.083150e+08  3.600240e+08\\nNet Abnormal Losses (Gains)                 -5.923800e+07 -1.536540e+08 -1.710740e+08  0.000000e+00  0.000000e+00  0.000000e+00\\nBasic Weighted Average Number of Shares      6.425316e+07  6.438815e+07  6.460703e+07  6.487702e+07  6.508133e+07  6.519054e+07\\nBasic Earnings per Share                     6.310000e+00  8.150000e+00  8.220000e+00  7.540000e+00  6.280000e+00  5.520000e+00\\nBasic EPS from Continuing Operations         5.392863e+00  5.774883e+00  5.574157e+00  4.894157e+00  4.551294e+00  5.250152e+00\\nDiluted Weighted Average Shares              6.425449e+07  6.439015e+07  6.461059e+07  6.488708e+07  6.510700e+07  6.525713e+07\\nDiluted EPS from Continuing Operations, Adj  5.391007e+00  5.772422e+00  5.571696e+00  4.891696e+00  4.550689e+00  5.249703e+00\\n Answer in JSON format with the next period EPS, the direction, the magnitude and a confidence:'}"
      ]
     },
     "execution_count": 14,
     "metadata": {},
     "output_type": "execute_result"
    }
   ],
   "source": [
    "train_dataset[0]"
   ]
  },
  {
   "cell_type": "code",
   "execution_count": 15,
   "id": "afe49939-2601-464c-9aef-cbd88f84bd72",
   "metadata": {},
   "outputs": [],
   "source": [
    "tokens = tokenizer.tokenize(train_dataset[0]['prompt'])"
   ]
  },
  {
   "cell_type": "code",
   "execution_count": 16,
   "id": "a2caacdf-6a51-488c-aaca-e3cca521ebf6",
   "metadata": {},
   "outputs": [
    {
     "data": {
      "text/plain": [
       "1461"
      ]
     },
     "execution_count": 16,
     "metadata": {},
     "output_type": "execute_result"
    }
   ],
   "source": [
    "len(tokens)"
   ]
  },
  {
   "cell_type": "code",
   "execution_count": 50,
   "id": "6abaa82e-3b27-4133-8436-df7b21699069",
   "metadata": {},
   "outputs": [],
   "source": [
    "#fine_tuning.train()"
   ]
  },
  {
   "cell_type": "code",
   "execution_count": 28,
   "id": "c712e188-73a8-4e1d-945d-bf65dafbe3ec",
   "metadata": {},
   "outputs": [
    {
     "data": {
      "text/plain": [
       "2.640265472"
      ]
     },
     "execution_count": 28,
     "metadata": {},
     "output_type": "execute_result"
    }
   ],
   "source": [
    "model.get_memory_footprint() / 1e9"
   ]
  },
  {
   "cell_type": "code",
   "execution_count": 18,
   "id": "693c459d-c434-4fc1-b1e9-d15c7e4b4504",
   "metadata": {},
   "outputs": [],
   "source": [
    "# save model to s3\n",
    "fine_tuning.model.save_pretrained('fine_tuned_json')"
   ]
  },
  {
   "cell_type": "code",
   "execution_count": 55,
   "id": "5c9d3e8f-df8f-4d8d-9de7-5e4ce76f0fdd",
   "metadata": {},
   "outputs": [],
   "source": [
    "fine_tuning.eval_dataset = test_dataset"
   ]
  },
  {
   "cell_type": "code",
   "execution_count": 27,
   "id": "2068d845-e066-419a-ba13-a1597b983e71",
   "metadata": {},
   "outputs": [],
   "source": [
    "fine_tuning.compute_metrics"
   ]
  },
  {
   "cell_type": "code",
   "execution_count": 33,
   "id": "93ca3537-06b2-4d0d-bb84-83e554c463cf",
   "metadata": {},
   "outputs": [],
   "source": [
    "fine_tuning.args = train_parameters"
   ]
  },
  {
   "cell_type": "code",
   "execution_count": 56,
   "id": "e3aad1b5-ad03-412b-a574-c3aaead3918c",
   "metadata": {},
   "outputs": [
    {
     "ename": "RuntimeError",
     "evalue": "module must have its parameters and buffers on device cuda:0 (device_ids[0]) but found one of them on device: cuda:1",
     "output_type": "error",
     "traceback": [
      "\u001b[0;31m---------------------------------------------------------------------------\u001b[0m",
      "\u001b[0;31mRuntimeError\u001b[0m                              Traceback (most recent call last)",
      "Cell \u001b[0;32mIn[56], line 1\u001b[0m\n\u001b[0;32m----> 1\u001b[0m \u001b[43mfine_tuning\u001b[49m\u001b[38;5;241;43m.\u001b[39;49m\u001b[43mevaluation_loop\u001b[49m\u001b[43m(\u001b[49m\u001b[43mtest_dataset\u001b[49m\u001b[43m,\u001b[49m\u001b[43m \u001b[49m\u001b[38;5;124;43m\"\u001b[39;49m\u001b[38;5;124;43mtest\u001b[39;49m\u001b[38;5;124;43m\"\u001b[39;49m\u001b[43m)\u001b[49m\n",
      "File \u001b[0;32m/opt/kernel/lib/python3.9/site-packages/transformers/trainer.py:4299\u001b[0m, in \u001b[0;36mTrainer.evaluation_loop\u001b[0;34m(self, dataloader, description, prediction_loss_only, ignore_keys, metric_key_prefix)\u001b[0m\n\u001b[1;32m   4296\u001b[0m         batch_size \u001b[38;5;241m=\u001b[39m observed_batch_size\n\u001b[1;32m   4298\u001b[0m \u001b[38;5;66;03m# Prediction step\u001b[39;00m\n\u001b[0;32m-> 4299\u001b[0m losses, logits, labels \u001b[38;5;241m=\u001b[39m \u001b[38;5;28;43mself\u001b[39;49m\u001b[38;5;241;43m.\u001b[39;49m\u001b[43mprediction_step\u001b[49m\u001b[43m(\u001b[49m\u001b[43mmodel\u001b[49m\u001b[43m,\u001b[49m\u001b[43m \u001b[49m\u001b[43minputs\u001b[49m\u001b[43m,\u001b[49m\u001b[43m \u001b[49m\u001b[43mprediction_loss_only\u001b[49m\u001b[43m,\u001b[49m\u001b[43m \u001b[49m\u001b[43mignore_keys\u001b[49m\u001b[38;5;241;43m=\u001b[39;49m\u001b[43mignore_keys\u001b[49m\u001b[43m)\u001b[49m\n\u001b[1;32m   4300\u001b[0m main_input_name \u001b[38;5;241m=\u001b[39m \u001b[38;5;28mgetattr\u001b[39m(\u001b[38;5;28mself\u001b[39m\u001b[38;5;241m.\u001b[39mmodel, \u001b[38;5;124m\"\u001b[39m\u001b[38;5;124mmain_input_name\u001b[39m\u001b[38;5;124m\"\u001b[39m, \u001b[38;5;124m\"\u001b[39m\u001b[38;5;124minput_ids\u001b[39m\u001b[38;5;124m\"\u001b[39m)\n\u001b[1;32m   4301\u001b[0m inputs_decode \u001b[38;5;241m=\u001b[39m (\n\u001b[1;32m   4302\u001b[0m     \u001b[38;5;28mself\u001b[39m\u001b[38;5;241m.\u001b[39m_prepare_input(inputs[main_input_name]) \u001b[38;5;28;01mif\u001b[39;00m \u001b[38;5;124m\"\u001b[39m\u001b[38;5;124minputs\u001b[39m\u001b[38;5;124m\"\u001b[39m \u001b[38;5;129;01min\u001b[39;00m args\u001b[38;5;241m.\u001b[39minclude_for_metrics \u001b[38;5;28;01melse\u001b[39;00m \u001b[38;5;28;01mNone\u001b[39;00m\n\u001b[1;32m   4303\u001b[0m )\n",
      "File \u001b[0;32m/opt/kernel/lib/python3.9/site-packages/transformers/trainer.py:4525\u001b[0m, in \u001b[0;36mTrainer.prediction_step\u001b[0;34m(self, model, inputs, prediction_loss_only, ignore_keys)\u001b[0m\n\u001b[1;32m   4523\u001b[0m loss \u001b[38;5;241m=\u001b[39m \u001b[38;5;28;01mNone\u001b[39;00m\n\u001b[1;32m   4524\u001b[0m \u001b[38;5;28;01mwith\u001b[39;00m \u001b[38;5;28mself\u001b[39m\u001b[38;5;241m.\u001b[39mcompute_loss_context_manager():\n\u001b[0;32m-> 4525\u001b[0m     outputs \u001b[38;5;241m=\u001b[39m \u001b[43mmodel\u001b[49m\u001b[43m(\u001b[49m\u001b[38;5;241;43m*\u001b[39;49m\u001b[38;5;241;43m*\u001b[39;49m\u001b[43minputs\u001b[49m\u001b[43m)\u001b[49m\n\u001b[1;32m   4526\u001b[0m \u001b[38;5;28;01mif\u001b[39;00m \u001b[38;5;28misinstance\u001b[39m(outputs, \u001b[38;5;28mdict\u001b[39m):\n\u001b[1;32m   4527\u001b[0m     logits \u001b[38;5;241m=\u001b[39m \u001b[38;5;28mtuple\u001b[39m(v \u001b[38;5;28;01mfor\u001b[39;00m k, v \u001b[38;5;129;01min\u001b[39;00m outputs\u001b[38;5;241m.\u001b[39mitems() \u001b[38;5;28;01mif\u001b[39;00m k \u001b[38;5;129;01mnot\u001b[39;00m \u001b[38;5;129;01min\u001b[39;00m ignore_keys)\n",
      "File \u001b[0;32m/opt/kernel/lib/python3.9/site-packages/torch/nn/modules/module.py:1518\u001b[0m, in \u001b[0;36mModule._wrapped_call_impl\u001b[0;34m(self, *args, **kwargs)\u001b[0m\n\u001b[1;32m   1516\u001b[0m     \u001b[38;5;28;01mreturn\u001b[39;00m \u001b[38;5;28mself\u001b[39m\u001b[38;5;241m.\u001b[39m_compiled_call_impl(\u001b[38;5;241m*\u001b[39margs, \u001b[38;5;241m*\u001b[39m\u001b[38;5;241m*\u001b[39mkwargs)  \u001b[38;5;66;03m# type: ignore[misc]\u001b[39;00m\n\u001b[1;32m   1517\u001b[0m \u001b[38;5;28;01melse\u001b[39;00m:\n\u001b[0;32m-> 1518\u001b[0m     \u001b[38;5;28;01mreturn\u001b[39;00m \u001b[38;5;28;43mself\u001b[39;49m\u001b[38;5;241;43m.\u001b[39;49m\u001b[43m_call_impl\u001b[49m\u001b[43m(\u001b[49m\u001b[38;5;241;43m*\u001b[39;49m\u001b[43margs\u001b[49m\u001b[43m,\u001b[49m\u001b[43m \u001b[49m\u001b[38;5;241;43m*\u001b[39;49m\u001b[38;5;241;43m*\u001b[39;49m\u001b[43mkwargs\u001b[49m\u001b[43m)\u001b[49m\n",
      "File \u001b[0;32m/opt/kernel/lib/python3.9/site-packages/torch/nn/modules/module.py:1527\u001b[0m, in \u001b[0;36mModule._call_impl\u001b[0;34m(self, *args, **kwargs)\u001b[0m\n\u001b[1;32m   1522\u001b[0m \u001b[38;5;66;03m# If we don't have any hooks, we want to skip the rest of the logic in\u001b[39;00m\n\u001b[1;32m   1523\u001b[0m \u001b[38;5;66;03m# this function, and just call forward.\u001b[39;00m\n\u001b[1;32m   1524\u001b[0m \u001b[38;5;28;01mif\u001b[39;00m \u001b[38;5;129;01mnot\u001b[39;00m (\u001b[38;5;28mself\u001b[39m\u001b[38;5;241m.\u001b[39m_backward_hooks \u001b[38;5;129;01mor\u001b[39;00m \u001b[38;5;28mself\u001b[39m\u001b[38;5;241m.\u001b[39m_backward_pre_hooks \u001b[38;5;129;01mor\u001b[39;00m \u001b[38;5;28mself\u001b[39m\u001b[38;5;241m.\u001b[39m_forward_hooks \u001b[38;5;129;01mor\u001b[39;00m \u001b[38;5;28mself\u001b[39m\u001b[38;5;241m.\u001b[39m_forward_pre_hooks\n\u001b[1;32m   1525\u001b[0m         \u001b[38;5;129;01mor\u001b[39;00m _global_backward_pre_hooks \u001b[38;5;129;01mor\u001b[39;00m _global_backward_hooks\n\u001b[1;32m   1526\u001b[0m         \u001b[38;5;129;01mor\u001b[39;00m _global_forward_hooks \u001b[38;5;129;01mor\u001b[39;00m _global_forward_pre_hooks):\n\u001b[0;32m-> 1527\u001b[0m     \u001b[38;5;28;01mreturn\u001b[39;00m \u001b[43mforward_call\u001b[49m\u001b[43m(\u001b[49m\u001b[38;5;241;43m*\u001b[39;49m\u001b[43margs\u001b[49m\u001b[43m,\u001b[49m\u001b[43m \u001b[49m\u001b[38;5;241;43m*\u001b[39;49m\u001b[38;5;241;43m*\u001b[39;49m\u001b[43mkwargs\u001b[49m\u001b[43m)\u001b[49m\n\u001b[1;32m   1529\u001b[0m \u001b[38;5;28;01mtry\u001b[39;00m:\n\u001b[1;32m   1530\u001b[0m     result \u001b[38;5;241m=\u001b[39m \u001b[38;5;28;01mNone\u001b[39;00m\n",
      "File \u001b[0;32m/opt/kernel/lib/python3.9/site-packages/torch/nn/parallel/data_parallel.py:171\u001b[0m, in \u001b[0;36mDataParallel.forward\u001b[0;34m(self, *inputs, **kwargs)\u001b[0m\n\u001b[1;32m    169\u001b[0m \u001b[38;5;28;01mfor\u001b[39;00m t \u001b[38;5;129;01min\u001b[39;00m chain(\u001b[38;5;28mself\u001b[39m\u001b[38;5;241m.\u001b[39mmodule\u001b[38;5;241m.\u001b[39mparameters(), \u001b[38;5;28mself\u001b[39m\u001b[38;5;241m.\u001b[39mmodule\u001b[38;5;241m.\u001b[39mbuffers()):\n\u001b[1;32m    170\u001b[0m     \u001b[38;5;28;01mif\u001b[39;00m t\u001b[38;5;241m.\u001b[39mdevice \u001b[38;5;241m!=\u001b[39m \u001b[38;5;28mself\u001b[39m\u001b[38;5;241m.\u001b[39msrc_device_obj:\n\u001b[0;32m--> 171\u001b[0m         \u001b[38;5;28;01mraise\u001b[39;00m \u001b[38;5;167;01mRuntimeError\u001b[39;00m(\u001b[38;5;124m\"\u001b[39m\u001b[38;5;124mmodule must have its parameters and buffers \u001b[39m\u001b[38;5;124m\"\u001b[39m\n\u001b[1;32m    172\u001b[0m                            \u001b[38;5;124mf\u001b[39m\u001b[38;5;124m\"\u001b[39m\u001b[38;5;124mon device \u001b[39m\u001b[38;5;132;01m{\u001b[39;00m\u001b[38;5;28mself\u001b[39m\u001b[38;5;241m.\u001b[39msrc_device_obj\u001b[38;5;132;01m}\u001b[39;00m\u001b[38;5;124m (device_ids[0]) but found one of \u001b[39m\u001b[38;5;124m\"\u001b[39m\n\u001b[1;32m    173\u001b[0m                            \u001b[38;5;124mf\u001b[39m\u001b[38;5;124m\"\u001b[39m\u001b[38;5;124mthem on device: \u001b[39m\u001b[38;5;132;01m{\u001b[39;00mt\u001b[38;5;241m.\u001b[39mdevice\u001b[38;5;132;01m}\u001b[39;00m\u001b[38;5;124m\"\u001b[39m)\n\u001b[1;32m    175\u001b[0m inputs, module_kwargs \u001b[38;5;241m=\u001b[39m \u001b[38;5;28mself\u001b[39m\u001b[38;5;241m.\u001b[39mscatter(inputs, kwargs, \u001b[38;5;28mself\u001b[39m\u001b[38;5;241m.\u001b[39mdevice_ids)\n\u001b[1;32m    176\u001b[0m \u001b[38;5;66;03m# for forward function without any inputs, empty list and dict will be created\u001b[39;00m\n\u001b[1;32m    177\u001b[0m \u001b[38;5;66;03m# so the module can be executed on one device which is the first one in device_ids\u001b[39;00m\n",
      "\u001b[0;31mRuntimeError\u001b[0m: module must have its parameters and buffers on device cuda:0 (device_ids[0]) but found one of them on device: cuda:1"
     ]
    }
   ],
   "source": [
    "fine_tuning.evaluation_loop(test_dataset, \"test\")"
   ]
  },
  {
   "cell_type": "code",
   "execution_count": 38,
   "id": "8291139e-cefa-48ef-8031-cee4dc54f2ee",
   "metadata": {},
   "outputs": [
    {
     "data": {
      "text/plain": [
       "{'completion': '{\"EPS\": 2.713, \"earnings\": \"INCREASING\", \"magnitude\": \"SMALL\"}',\n",
       " 'prompt': 'You are a financial analyst. Use the following income statement, balance sheet to estimate the Basic EPS for the next fiscal period. Use only the data in the prompt. Provide a confidence score for how confident you are of the decision. If you are not confident then lower the confidence score.Income Statement:                                                        t           t-1           t-2           t-3           t-4           t-5\\nitems                                                                                                                          \\nRevenue                                      1.173602e+10  1.206899e+10  1.211215e+10  1.211157e+10  1.174396e+10  1.156111e+10\\nCost of Revenue                              1.013180e+10  1.050052e+10  1.051190e+10  1.053492e+10  1.021493e+10  1.001821e+10\\nGross Profit                                 1.604226e+09  1.568467e+09  1.600252e+09  1.576646e+09  1.529031e+09  1.542897e+09\\nOperating Expenses                           1.054811e+09  1.052343e+09  1.045378e+09  1.019737e+09  9.889550e+08  9.583620e+08\\nSelling, General and Administrative Expense  9.587840e+08  9.548760e+08  9.559910e+08  9.128700e+08  8.919000e+08  8.740600e+08\\nOther Operating Expenses                     9.602700e+07  9.746700e+07  8.938700e+07  1.068670e+08  9.705500e+07  8.430200e+07\\nOperating Income or Losses                   5.494150e+08  5.161240e+08  5.548740e+08  5.569090e+08  5.400760e+08  5.845350e+08\\nNon-Operating (Income) Loss                  4.610700e+07  5.105300e+07 -1.741300e+07  1.764000e+06  8.693000e+06  1.860400e+07\\nNet Interest Expense                         5.846800e+07  6.564300e+07  6.596300e+07  5.864700e+07  4.936100e+07  4.232500e+07\\nInterest Expense                             5.985300e+07  6.702000e+07  6.689000e+07  5.983600e+07  5.068600e+07  4.404300e+07\\nInterest Income                              1.385000e+06  1.377000e+06  9.270000e+05  1.189000e+06  1.325000e+06  1.718000e+06\\nOther Non-Operating (Income) Loss           -5.174000e+06 -8.620000e+05 -6.575000e+06 -2.696000e+06 -6.247000e+06 -2.855000e+06\\nPretax Income (Loss), Adjusted               5.033080e+08  4.650710e+08  5.722870e+08  5.551450e+08  5.313830e+08  5.659310e+08\\nAbnormal Losses (Gains)                      3.967500e+07  3.689800e+07  3.611900e+07  7.516800e+07  6.043500e+07  6.222700e+07\\nMerger / Acquisition Expense                 3.322500e+07  4.037200e+07  3.817100e+07  2.599700e+07  1.095700e+07  1.247000e+06\\nIncome Tax Expense (Benefit)                 1.296890e+08  1.377880e+08  1.654720e+08  2.108380e+08  1.991990e+08  1.875000e+08\\nIncome (Loss) from Continuing Operations     3.736190e+08  3.272830e+08  4.068150e+08  3.443070e+08  3.321840e+08  3.784310e+08\\nNet Income/Net Profit (Losses)               3.668440e+08  3.202420e+08  4.020440e+08  3.407160e+08  3.291990e+08  3.762200e+08\\nNet Abnormal Losses (Gains)                  1.208668e+07  7.366128e+06  2.960186e+06  8.000781e+07  6.354521e+07  6.588227e+07\\nBasic Weighted Average Number of Shares      1.440250e+08  1.455448e+08  1.457088e+08  1.466222e+08  1.482845e+08  1.501320e+08\\nBasic Earnings per Share                     2.540000e+00  2.200000e+00  2.760000e+00  2.330000e+00  2.220000e+00  2.520000e+00\\nBasic EPS from Continuing Operations         2.622739e+00  2.248438e+00  2.780424e+00  2.866659e+00  2.639301e+00  2.953088e+00\\nDiluted Weighted Average Shares              1.464595e+08  1.473895e+08  1.473072e+08  1.479910e+08  1.495532e+08  1.513918e+08\\nDiluted EPS                                  2.500000e+00  2.170000e+00  2.730000e+00  2.310000e+00  2.200000e+00  2.490000e+00\\nDiluted EPS from Continuing Operations, Adj  2.582669e+00  2.217462e+00  2.747460e+00  2.838952e+00  2.618762e+00  2.927554e+00\\n Answer in JSON format with the next period EPS, the direction, the magnitude and a confidence:'}"
      ]
     },
     "execution_count": 38,
     "metadata": {},
     "output_type": "execute_result"
    }
   ],
   "source": [
    "test_dataset[0]"
   ]
  },
  {
   "cell_type": "code",
   "execution_count": 43,
   "id": "82b2105a-1bd3-44b2-ae0d-7d4aabcd3aaa",
   "metadata": {},
   "outputs": [],
   "source": [
    "eval_dataset = []\n",
    "for x in range(0,10):\n",
    "    dics = {'input_ids':{'prompt':test_dataset[x]['prompt'], 'completion':test_dataset[x]['completion']}}\n",
    "    eval_dataset.append(dics)"
   ]
  },
  {
   "cell_type": "code",
   "execution_count": 44,
   "id": "5a801311-40af-497a-9973-282a45b4624c",
   "metadata": {},
   "outputs": [
    {
     "data": {
      "text/plain": [
       "{'input_ids': {'prompt': 'You are a financial analyst. Use the following income statement, balance sheet to estimate the Basic EPS for the next fiscal period. Use only the data in the prompt. Provide a confidence score for how confident you are of the decision. If you are not confident then lower the confidence score.Income Statement:                                                        t           t-1           t-2           t-3           t-4           t-5\\nitems                                                                                                                          \\nRevenue                                      1.173602e+10  1.206899e+10  1.211215e+10  1.211157e+10  1.174396e+10  1.156111e+10\\nCost of Revenue                              1.013180e+10  1.050052e+10  1.051190e+10  1.053492e+10  1.021493e+10  1.001821e+10\\nGross Profit                                 1.604226e+09  1.568467e+09  1.600252e+09  1.576646e+09  1.529031e+09  1.542897e+09\\nOperating Expenses                           1.054811e+09  1.052343e+09  1.045378e+09  1.019737e+09  9.889550e+08  9.583620e+08\\nSelling, General and Administrative Expense  9.587840e+08  9.548760e+08  9.559910e+08  9.128700e+08  8.919000e+08  8.740600e+08\\nOther Operating Expenses                     9.602700e+07  9.746700e+07  8.938700e+07  1.068670e+08  9.705500e+07  8.430200e+07\\nOperating Income or Losses                   5.494150e+08  5.161240e+08  5.548740e+08  5.569090e+08  5.400760e+08  5.845350e+08\\nNon-Operating (Income) Loss                  4.610700e+07  5.105300e+07 -1.741300e+07  1.764000e+06  8.693000e+06  1.860400e+07\\nNet Interest Expense                         5.846800e+07  6.564300e+07  6.596300e+07  5.864700e+07  4.936100e+07  4.232500e+07\\nInterest Expense                             5.985300e+07  6.702000e+07  6.689000e+07  5.983600e+07  5.068600e+07  4.404300e+07\\nInterest Income                              1.385000e+06  1.377000e+06  9.270000e+05  1.189000e+06  1.325000e+06  1.718000e+06\\nOther Non-Operating (Income) Loss           -5.174000e+06 -8.620000e+05 -6.575000e+06 -2.696000e+06 -6.247000e+06 -2.855000e+06\\nPretax Income (Loss), Adjusted               5.033080e+08  4.650710e+08  5.722870e+08  5.551450e+08  5.313830e+08  5.659310e+08\\nAbnormal Losses (Gains)                      3.967500e+07  3.689800e+07  3.611900e+07  7.516800e+07  6.043500e+07  6.222700e+07\\nMerger / Acquisition Expense                 3.322500e+07  4.037200e+07  3.817100e+07  2.599700e+07  1.095700e+07  1.247000e+06\\nIncome Tax Expense (Benefit)                 1.296890e+08  1.377880e+08  1.654720e+08  2.108380e+08  1.991990e+08  1.875000e+08\\nIncome (Loss) from Continuing Operations     3.736190e+08  3.272830e+08  4.068150e+08  3.443070e+08  3.321840e+08  3.784310e+08\\nNet Income/Net Profit (Losses)               3.668440e+08  3.202420e+08  4.020440e+08  3.407160e+08  3.291990e+08  3.762200e+08\\nNet Abnormal Losses (Gains)                  1.208668e+07  7.366128e+06  2.960186e+06  8.000781e+07  6.354521e+07  6.588227e+07\\nBasic Weighted Average Number of Shares      1.440250e+08  1.455448e+08  1.457088e+08  1.466222e+08  1.482845e+08  1.501320e+08\\nBasic Earnings per Share                     2.540000e+00  2.200000e+00  2.760000e+00  2.330000e+00  2.220000e+00  2.520000e+00\\nBasic EPS from Continuing Operations         2.622739e+00  2.248438e+00  2.780424e+00  2.866659e+00  2.639301e+00  2.953088e+00\\nDiluted Weighted Average Shares              1.464595e+08  1.473895e+08  1.473072e+08  1.479910e+08  1.495532e+08  1.513918e+08\\nDiluted EPS                                  2.500000e+00  2.170000e+00  2.730000e+00  2.310000e+00  2.200000e+00  2.490000e+00\\nDiluted EPS from Continuing Operations, Adj  2.582669e+00  2.217462e+00  2.747460e+00  2.838952e+00  2.618762e+00  2.927554e+00\\n Answer in JSON format with the next period EPS, the direction, the magnitude and a confidence:',\n",
       "  'completion': '{\"EPS\": 2.713, \"earnings\": \"INCREASING\", \"magnitude\": \"SMALL\"}'}}"
      ]
     },
     "execution_count": 44,
     "metadata": {},
     "output_type": "execute_result"
    }
   ],
   "source": [
    "eval_dataset[0]"
   ]
  },
  {
   "cell_type": "code",
   "execution_count": null,
   "id": "abe603c3-37a4-4b88-9fb8-a2d87976e9b6",
   "metadata": {},
   "outputs": [],
   "source": []
  }
 ],
 "metadata": {
  "kernelspec": {
   "display_name": "Bloomberg Lab Python 3",
   "language": "python",
   "name": "remote-jupyterpython"
  },
  "language_info": {
   "codemirror_mode": {
    "name": "ipython",
    "version": 3
   },
   "file_extension": ".py",
   "mimetype": "text/x-python",
   "name": "python",
   "nbconvert_exporter": "python",
   "pygments_lexer": "ipython3",
   "version": "3.9.12"
  }
 },
 "nbformat": 4,
 "nbformat_minor": 5
}
