{
 "cells": [
  {
   "cell_type": "markdown",
   "id": "b2865ada-fa5a-4a56-970f-e9adc18df924",
   "metadata": {},
   "source": [
    "# LangGraph Analyst Workflow"
   ]
  },
  {
   "cell_type": "code",
   "execution_count": 1,
   "id": "8b5068ea-a227-4524-9749-b4cd10c5777b",
   "metadata": {},
   "outputs": [],
   "source": [
    "import bql\n",
    "import boto3\n",
    "import botocore\n",
    "import random\n",
    "import json\n",
    "import importlib\n",
    "from utils.s3_helper import S3Helper\n",
    "\n",
    "from langchain.prompts import PromptTemplate\n",
    "from langchain_core.runnables import RunnableSequence\n",
    "from langchain_core.rate_limiters import InMemoryRateLimiter\n",
    "\n",
    "from langchain_aws import ChatBedrock\n",
    "from pydantic import BaseModel, Field\n",
    "from IPython.display import Markdown, display\n",
    "import company_data\n",
    "from datetime import datetime\n",
    "from dateutil.relativedelta import relativedelta\n",
    "\n",
    "import prompts\n",
    "import pandas as pd\n",
    "\n",
    "import concurrent.futures\n",
    "\n",
    "from langgraph.graph import START, END, StateGraph\n",
    "from langgraph.graph.message import add_messages\n",
    "\n",
    "from typing import Dict, TypedDict, Optional"
   ]
  },
  {
   "cell_type": "code",
   "execution_count": 2,
   "id": "1d024d56-0e58-46be-a1d8-189863fe5a4b",
   "metadata": {},
   "outputs": [],
   "source": [
    "bq = bql.Service()"
   ]
  },
  {
   "cell_type": "code",
   "execution_count": 3,
   "id": "e6c06970-0690-4c14-b00d-f3565c8d06d3",
   "metadata": {},
   "outputs": [],
   "source": [
    "# Configure Bedrock\n",
    "# Bedrock client initialise\n",
    "config = botocore.config.Config(read_timeout=1000)\n",
    "boto3_bedrock = boto3.client('bedrock-runtime',config=config)\n",
    "\n",
    "with open('Data/prompts.json', 'rb') as f:\n",
    "    prompt_set = json.load(f)"
   ]
  },
  {
   "cell_type": "markdown",
   "id": "19a4e17e-1789-4900-babc-8ff40c05b02a",
   "metadata": {},
   "source": [
    "### Configure the Models"
   ]
  },
  {
   "cell_type": "code",
   "execution_count": 97,
   "id": "7b0bf0b8-a627-4a49-b483-04de438b06f5",
   "metadata": {},
   "outputs": [],
   "source": [
    "model_claude_id = 'us.anthropic.claude-3-7-sonnet-20250219-v1:0'\n",
    "model_claude_small = \"us.anthropic.claude-3-5-haiku-20241022-v1:0\"\n",
    "model_llama_id = 'us.meta.llama3-1-70b-instruct-v1:0'\n",
    "model_llama_small_id = \"us.meta.llama3-1-8b-instruct-v1:0\"\n",
    "\n",
    "# set up the LLM in Bedrock\n",
    "rate_limiter = InMemoryRateLimiter(\n",
    "    requests_per_second=50,\n",
    "    check_every_n_seconds=1,\n",
    "    max_bucket_size=10,\n",
    ")\n",
    "\n",
    "llm_thinker = ChatBedrock(\n",
    "    client = boto3_bedrock,\n",
    "    model_id = model_claude_id,\n",
    "    temperature = 0.01,\n",
    "    max_tokens=4000,\n",
    "    rate_limiter = rate_limiter\n",
    ")\n",
    "\n",
    "llm_small = ChatBedrock(\n",
    "    client = boto3_bedrock,\n",
    "    model_id = model_llama_small_id,\n",
    "    temperature = 0.01,\n",
    "    max_tokens = 4000,\n",
    "    rate_limiter = rate_limiter\n",
    ")\n",
    "\n",
    "llm_debate = ChatBedrock(\n",
    "    client = boto3_bedrock,\n",
    "    model_id = model_claude_small,\n",
    "    temperature = 0.01,\n",
    "    max_tokens = 4000,\n",
    "    rate_limiter = rate_limiter\n",
    ")"
   ]
  },
  {
   "cell_type": "markdown",
   "id": "d0da95af-c1f0-4cf0-81e5-98c883d2ac9a",
   "metadata": {},
   "source": [
    "## Test Company Prompt"
   ]
  },
  {
   "cell_type": "code",
   "execution_count": 6,
   "id": "26d80dc3-5bca-4cae-bbc3-6e0d4d8cde1c",
   "metadata": {},
   "outputs": [],
   "source": []
  },
  {
   "cell_type": "markdown",
   "id": "7561ed44-f0c6-4e7e-9899-29f7d02bba49",
   "metadata": {},
   "source": [
    "## Prompts"
   ]
  },
  {
   "cell_type": "code",
   "execution_count": 42,
   "id": "3431e8b7-5e5d-43aa-8043-e4acecf16ce5",
   "metadata": {},
   "outputs": [],
   "source": [
    "statement_analysis_system_prompt = prompts.SYSTEM_PROMPTS['COT_CLAUDE_TEST']['prompt']\n",
    "statement_analysis_template = PromptTemplate.from_template(statement_analysis_system_prompt)\n",
    "\n",
    "clean_headlines_system_prompt = \"\"\"You are an assistant to a financial analyst analyzing {security} You must remove any reference to {security} and their products from the following list of headlines and replace them with the term 'blah'. Replace the names of any people such as ceo in the article with the term 'whah' do not refer to {security} at all in your answer:{headlines}\"\"\"\n",
    "clean_headlines_template = PromptTemplate.from_template(clean_headlines_system_prompt)\n",
    "\n",
    "company_news_system_prompt = \"\"\"You are a financial analyst and are reviewing news for company called blah over the last three months. Blah is in the {sector} sector. Start by listing the revenue drivers for the sector. Then look through the below headlines and determine if blah will see an increase or decrease in their earnings over the next quarter. Think through your response. {headlines}\"\"\"\n",
    "company_news_template = PromptTemplate.from_template(company_news_system_prompt)\n",
    "\n",
    "senior_analysis_prompt = \"\"\"You are a senior financial analyst and review your teams work. You are looking at a financial summary and news for 'blah'. Using the summaries only, critique the report and construct an alternative narrative. If the narrative is in agreement with the two reports, make clear your belief in the direction of earning. If in disagreement, state why you disagree. Think through your response. {financial_summary} \\n {news_summary}\"\"\"\n",
    "senior_analyst_template = PromptTemplate.from_template(senior_analysis_prompt)"
   ]
  },
  {
   "cell_type": "markdown",
   "id": "52757819-60d5-4d42-bc4e-588360abfeba",
   "metadata": {},
   "source": [
    "## LangGraph Implementation"
   ]
  },
  {
   "cell_type": "code",
   "execution_count": 89,
   "id": "af44e750-e547-4dba-aad9-b1a13f944661",
   "metadata": {},
   "outputs": [],
   "source": [
    "def analyst_llm(llm, prompt):\n",
    "    return llm.invoke(prompt).content"
   ]
  },
  {
   "cell_type": "code",
   "execution_count": 107,
   "id": "5fff4efe-c71e-40be-ac53-331aabc44cd0",
   "metadata": {},
   "outputs": [],
   "source": [
    "class CompanyData(TypedDict):\n",
    "    name: str\n",
    "    figi_name: str\n",
    "    sector: str\n",
    "    sec_fs: str\n",
    "    headlines: list[str]\n",
    "    stock_prices: str\n",
    "\n",
    "class GraphState(TypedDict):\n",
    "    company_details: Optional[dict[str,str]]\n",
    "    initial_analysis: Optional[str]\n",
    "    cleaned_headlines: Optional[list]\n",
    "    news_report: Optional[str]\n",
    "    senior_report: Optional[str]\n",
    "\n",
    "analyst_workflow = StateGraph(GraphState)"
   ]
  },
  {
   "cell_type": "code",
   "execution_count": 108,
   "id": "50d6dfdf-50e7-4b5e-a890-ffb535fe9bb2",
   "metadata": {},
   "outputs": [],
   "source": [
    "def financial_statement_analysis(state):\n",
    "    # Create the prompt to feed into the model\n",
    "    company_details = state.get('company_details')\n",
    "    sec_fs = company_details['sec_fs']\n",
    "    prompt_in = statement_analysis_template.format(financials=sec_fs)\n",
    "    financial_analysis = analyst_llm(llm_thinker, prompt_in)\n",
    "    return {'initial_analysis': financial_analysis}\n",
    "\n",
    "def clean_headlines(state):\n",
    "    company_details = state.get('company_details')\n",
    "    unclean_headlines = company_details['headlines']\n",
    "    # Create the prompt to feed into the model\n",
    "    prompt_in = clean_headlines_template.format(headlines=unclean_headlines, security=name)\n",
    "    clean_headlines = analyst_llm(llm_small, prompt_in)\n",
    "    return {'cleaned_headlines': clean_headlines}\n",
    "\n",
    "def news_summary(state):\n",
    "    # Create the prompt to feed into the model\n",
    "    company_details = state.get('company_details')\n",
    "    clean_headlines = state.get('cleaned_headlines')\n",
    "    prompt_in = company_news_template.format(headlines=clean_headlines[1:], sector=company_details['sector'])\n",
    "    news_summarisation = analyst_llm(llm_thinker, prompt_in)\n",
    "    return {'news_summary': news_summarisation}\n",
    "\n",
    "def final_report(state):\n",
    "    company_details = state.get('company_details')\n",
    "    initial_analysis = state.get('initial_analysis')\n",
    "    news_summary = state.get('news_summary')\n",
    "    prompt_in = senior_analyst_template.format(financial_summary=initial_analysis, news_summary=news_summary)\n",
    "    final_report_output = analyst_llm(llm_thinker, prompt_in)\n",
    "    return {'senior_report': final_report_output}"
   ]
  },
  {
   "cell_type": "code",
   "execution_count": 109,
   "id": "ee650080-dce1-4ece-8e4c-a8f71446e62f",
   "metadata": {},
   "outputs": [
    {
     "data": {
      "text/plain": [
       "<langgraph.graph.state.StateGraph at 0x7f9c0491e310>"
      ]
     },
     "execution_count": 109,
     "metadata": {},
     "output_type": "execute_result"
    }
   ],
   "source": [
    "analyst_workflow.add_node('financial_statement_analysis', financial_statement_analysis)\n",
    "analyst_workflow.add_node('clean_headlines', clean_headlines)\n",
    "analyst_workflow.add_node('news_summary', news_summary)\n",
    "analyst_workflow.add_node('final_report', final_report)"
   ]
  },
  {
   "cell_type": "code",
   "execution_count": 110,
   "id": "2771c78e-8361-4469-9340-25d1e07bb438",
   "metadata": {},
   "outputs": [
    {
     "data": {
      "text/plain": [
       "<langgraph.graph.state.StateGraph at 0x7f9c0491e310>"
      ]
     },
     "execution_count": 110,
     "metadata": {},
     "output_type": "execute_result"
    }
   ],
   "source": [
    "analyst_workflow.set_entry_point('financial_statement_analysis')\n",
    "analyst_workflow.add_edge('financial_statement_analysis', 'clean_headlines')\n",
    "analyst_workflow.add_edge('clean_headlines', 'news_summary')\n",
    "analyst_workflow.add_edge('news_summary', 'final_report')\n",
    "analyst_workflow.add_edge('final_report', END)"
   ]
  },
  {
   "cell_type": "code",
   "execution_count": 111,
   "id": "33db8103-de0d-42f6-a9e3-d869c4f120ce",
   "metadata": {},
   "outputs": [],
   "source": [
    "app = analyst_workflow.compile()"
   ]
  },
  {
   "cell_type": "code",
   "execution_count": 112,
   "id": "a54bdeed-4821-49bd-bcc0-3a09198b0c7f",
   "metadata": {},
   "outputs": [
    {
     "data": {
      "text/plain": [
       "Graph(nodes={'__start__': Node(id='__start__', name='__start__', data=<class 'langchain_core.utils.pydantic.LangGraphInput'>, metadata=None), 'financial_statement_analysis': Node(id='financial_statement_analysis', name='financial_statement_analysis', data=financial_statement_analysis(tags=None, recurse=True, explode_args=False, func_accepts_config=False, func_accepts={}), metadata=None), 'clean_headlines': Node(id='clean_headlines', name='clean_headlines', data=clean_headlines(tags=None, recurse=True, explode_args=False, func_accepts_config=False, func_accepts={}), metadata=None), 'news_summary': Node(id='news_summary', name='news_summary', data=news_summary(tags=None, recurse=True, explode_args=False, func_accepts_config=False, func_accepts={}), metadata=None), 'final_report': Node(id='final_report', name='final_report', data=final_report(tags=None, recurse=True, explode_args=False, func_accepts_config=False, func_accepts={}), metadata=None), '__end__': Node(id='__end__', name='__end__', data=<class 'langchain_core.utils.pydantic.LangGraphOutput'>, metadata=None)}, edges=[Edge(source='__start__', target='financial_statement_analysis', data=None, conditional=False), Edge(source='clean_headlines', target='news_summary', data=None, conditional=False), Edge(source='final_report', target='__end__', data=None, conditional=False), Edge(source='financial_statement_analysis', target='clean_headlines', data=None, conditional=False), Edge(source='news_summary', target='final_report', data=None, conditional=False)])"
      ]
     },
     "execution_count": 112,
     "metadata": {},
     "output_type": "execute_result"
    }
   ],
   "source": [
    "app.get_graph()"
   ]
  },
  {
   "cell_type": "markdown",
   "id": "61575a43-9e89-4041-84fa-60a6470d3826",
   "metadata": {},
   "source": [
    "## Test on an example firm"
   ]
  },
  {
   "cell_type": "code",
   "execution_count": 113,
   "id": "299720d2-f622-4f5d-8a44-ecaedcf92a35",
   "metadata": {},
   "outputs": [],
   "source": [
    "# test prompt\n",
    "security = prompt_set[0]\n",
    "sec_name = security['security']\n",
    "sec_date = security['date']\n",
    "sec_fs = security['prompt'][1]['content']\n",
    "sec_prices = sec_fs[sec_fs.find('Historical Price:') + 17:]"
   ]
  },
  {
   "cell_type": "code",
   "execution_count": 83,
   "id": "e090d393-711b-404d-848e-1e6826c1b690",
   "metadata": {},
   "outputs": [],
   "source": [
    "# get the news headlines\n",
    "s3_helper = S3Helper('tmp/fs')\n",
    "s3_helper.get_file(filename='dow_headlines.parquet', local_filename='/tmp/dow_headlines.parquet')\n",
    "news_headlines = pd.read_parquet('/tmp/dow_headlines.parquet')"
   ]
  },
  {
   "cell_type": "code",
   "execution_count": 84,
   "id": "39e08775-86f1-42cf-8039-5370d1d7d7b4",
   "metadata": {},
   "outputs": [],
   "source": [
    "# Convert sec_name to figi\n",
    "def get_additional_data(sec_name: str) -> str:\n",
    "    \"\"\"Function to convert Bloomberg tickers in a dataframe to FIGIs for ESL\"\"\"\n",
    "    univ      = sec_name\n",
    "    field     = {'figi': bq.data.composite_id_bb_global(), \n",
    "                 'name': bq.data.name(), \n",
    "                 'sector': bq.data.bics_level_1_sector_name()}\n",
    "    req = bql.Request(univ, field)\n",
    "    data = bq.execute(req)\n",
    "    return (data[0].df().loc[sec_name]['figi'], data[1].df().loc[sec_name]['name'], data[2].df().loc[sec_name]['sector'])\n",
    "\n",
    "figi_name, name, sector = get_additional_data(sec_name)\n",
    "    "
   ]
  },
  {
   "cell_type": "code",
   "execution_count": 85,
   "id": "f244289a-3ec8-42c6-9110-966e847ef23e",
   "metadata": {},
   "outputs": [],
   "source": [
    "def filter_by_company_date(dataset, security, max_date = None):\n",
    "    \n",
    "    if max_date != None:\n",
    "        #claculate the minimum date to get a 3 month window\n",
    "        min_date = datetime.strptime(max_date,\"%Y-%m-%d\") + relativedelta(months=-3)\n",
    "        min_date = min_date.strftime(\"%Y-%m-%d\")\n",
    "        filtered_dataset = dataset[(dataset['TimeOfArrival'] < max_date) &  (dataset['TimeOfArrival'] >= min_date) & (dataset['Assigned_ID_BB_GLOBAL'] == security)]\n",
    "    else:\n",
    "        filtered_dataset = dataset[dataset['Assigned_ID_BB_GLOBAL'] == security]\n",
    "    \n",
    "    filtered_list = filtered_dataset['Headline'].to_list()\n",
    "\n",
    "    if len(filtered_list) >= 50:\n",
    "        return random.sample(filtered_list, 50)\n",
    "    else:\n",
    "        return filtered_list"
   ]
  },
  {
   "cell_type": "code",
   "execution_count": 86,
   "id": "32e7851d-fcc9-46ae-8f1f-0906b21934df",
   "metadata": {},
   "outputs": [],
   "source": [
    "headline_filter_test = filter_by_company_date(news_headlines, figi_name, sec_date)"
   ]
  },
  {
   "cell_type": "code",
   "execution_count": 87,
   "id": "e99c6448-ce43-49b5-92be-e98ed17ad245",
   "metadata": {},
   "outputs": [],
   "source": [
    "company_details = CompanyData({'name':name,\n",
    "                              'figi_name': figi_name,\n",
    "                              'sector': sector,\n",
    "                              'sec_fs': sec_fs,\n",
    "                              'headlines': headline_filter_test,\n",
    "                              'stock_prices': sec_prices})"
   ]
  },
  {
   "cell_type": "code",
   "execution_count": 114,
   "id": "60892b79-84ac-4261-a3a1-d7ed8e5e9afd",
   "metadata": {},
   "outputs": [],
   "source": [
    "%%time\n",
    "conversation = app.invoke({'company_details': company_details})"
   ]
  },
  {
   "cell_type": "code",
   "execution_count": 115,
   "id": "4f67ee70-55a6-466d-a2c4-6e58253bab44",
   "metadata": {},
   "outputs": [
    {
     "data": {
      "text/plain": [
       "'# Financial Analysis Review: Earnings Forecast Critique\\n\\n## Executive Summary\\n\\nAfter reviewing the financial analysis report for \\'blah\\', I find the overall conclusion of a 4-6% earnings decrease in the next period to be reasonable, though I believe the analysis could benefit from a more balanced interpretation of certain metrics. The report correctly identifies concerning profitability trends, but may underweight some positive efficiency indicators that could partially offset these negative factors.\\n\\n## Strengths of the Analysis\\n\\nThe report provides a comprehensive review of key financial metrics and correctly identifies several concerning trends:\\n\\n1. The consistent decline in profitability metrics (gross margin, operating margin, net margin) over multiple periods is indeed troubling\\n2. The significant increase in debt ratios, particularly the jump in debt-to-equity from 0.44 to 1.73\\n3. The declining interest coverage ratio (from 9.79 to 6.15) which signals increased financial risk\\n\\n## Alternative Perspective\\n\\nWhile I agree with the overall bearish outlook, I believe the following points deserve more consideration:\\n\\n1. **Efficiency Improvements**: The improvement in inventory turnover (from 9.43 to 11.32) is more significant than the report suggests. This 20% improvement in inventory management efficiency could yield material working capital benefits that may partially offset margin pressures.\\n\\n2. **Asset Turnover Misinterpretation**: The report states asset turnover \"improved from 1.92 to 1.54\" - this is actually a decline, not an improvement. However, this decline may be largely explained by the accounting change that added operating leases to the balance sheet, artificially inflating total assets.\\n\\n3. **Stable Liquidity**: While profitability is declining, the stability of liquidity ratios suggests the company is maintaining adequate short-term financial health despite challenges.\\n\\n4. **Debt Context**: The significant jump in debt ratios appears to be primarily due to an accounting change (likely IFRS 16/ASC 842 implementation) rather than actual new borrowing. This deserves more nuanced interpretation.\\n\\n## My Earnings Forecast\\n\\nI agree with the directional forecast that earnings will decrease, but I would narrow the range to a 3-5% decline based on:\\n\\n1. The clear downward trajectory in all profitability metrics\\n2. The fact that cost of revenue is growing faster than revenue (1.4% vs 0.94%)\\n3. The operational efficiency improvements that may partially mitigate margin compression\\n4. The stable liquidity position that provides some financial flexibility\\n\\n## Conclusion\\n\\nThe financial data presents a company facing significant profitability challenges but with some underlying operational improvements. The declining margins, EPS, and stock price all support a bearish outlook on earnings. However, the efficiency gains in inventory management and the stable liquidity position suggest the company may have some resilience.\\n\\nI believe earnings will decline in the next period, though perhaps slightly less severely than the original analysis suggests. Management\\'s ability to leverage the improved operational efficiencies while addressing the margin compression will be critical to any potential stabilization of earnings in future periods.'"
      ]
     },
     "execution_count": 115,
     "metadata": {},
     "output_type": "execute_result"
    }
   ],
   "source": [
    "conversation['senior_report']"
   ]
  },
  {
   "cell_type": "markdown",
   "id": "7f65f00e-da01-4676-a55f-250870ca2b39",
   "metadata": {},
   "source": [
    "## Test with financial_agent class"
   ]
  },
  {
   "cell_type": "code",
   "execution_count": 116,
   "id": "3362df76-583c-4ee0-aab7-f8e51f8a0e64",
   "metadata": {},
   "outputs": [],
   "source": [
    "import company_data as cd"
   ]
  },
  {
   "cell_type": "code",
   "execution_count": 117,
   "id": "f9c8c4b8-1b5b-4d09-be8d-08c42cd50c03",
   "metadata": {},
   "outputs": [
    {
     "data": {
      "text/plain": [
       "<module 'company_data' from '/project/company_data.py'>"
      ]
     },
     "execution_count": 117,
     "metadata": {},
     "output_type": "execute_result"
    }
   ],
   "source": [
    "importlib.reload(cd)"
   ]
  },
  {
   "cell_type": "code",
   "execution_count": 120,
   "id": "f1a1b127-4ec9-43d9-8ad1-27c78b79be82",
   "metadata": {},
   "outputs": [
    {
     "ename": "Exception",
     "evalue": "Company data must be downloaded first before it is requested.",
     "output_type": "error",
     "traceback": [
      "\u001b[0;31m---------------------------------------------------------------------------\u001b[0m",
      "\u001b[0;31mTypeError\u001b[0m                                 Traceback (most recent call last)",
      "File \u001b[0;32m/project/company_data.py:27\u001b[0m, in \u001b[0;36mSecurityData.__init__\u001b[0;34m(self, dataset_folder, dataset_name, use_local)\u001b[0m\n\u001b[1;32m     25\u001b[0m s3 \u001b[38;5;241m=\u001b[39m S3FileSystem()\n\u001b[0;32m---> 27\u001b[0m \u001b[38;5;28;01mwith\u001b[39;00m \u001b[43ms3\u001b[49m\u001b[38;5;241;43m.\u001b[39;49m\u001b[43mopen\u001b[49m\u001b[43m(\u001b[49m\u001b[43mpath_to_s3\u001b[49m\u001b[43m,\u001b[49m\u001b[43m \u001b[49m\u001b[38;5;124;43m'\u001b[39;49m\u001b[38;5;124;43mrb\u001b[39;49m\u001b[38;5;124;43m'\u001b[39;49m\u001b[43m)\u001b[49m \u001b[38;5;28;01mas\u001b[39;00m f:\n\u001b[1;32m     28\u001b[0m     \u001b[38;5;28mself\u001b[39m\u001b[38;5;241m.\u001b[39mdata \u001b[38;5;241m=\u001b[39m json\u001b[38;5;241m.\u001b[39mload(f)\n",
      "File \u001b[0;32m/opt/kernel/lib/python3.9/site-packages/fsspec/spec.py:1310\u001b[0m, in \u001b[0;36mAbstractFileSystem.open\u001b[0;34m(self, path, mode, block_size, cache_options, compression, **kwargs)\u001b[0m\n\u001b[1;32m   1309\u001b[0m ac \u001b[38;5;241m=\u001b[39m kwargs\u001b[38;5;241m.\u001b[39mpop(\u001b[38;5;124m\"\u001b[39m\u001b[38;5;124mautocommit\u001b[39m\u001b[38;5;124m\"\u001b[39m, \u001b[38;5;129;01mnot\u001b[39;00m \u001b[38;5;28mself\u001b[39m\u001b[38;5;241m.\u001b[39m_intrans)\n\u001b[0;32m-> 1310\u001b[0m f \u001b[38;5;241m=\u001b[39m \u001b[38;5;28;43mself\u001b[39;49m\u001b[38;5;241;43m.\u001b[39;49m\u001b[43m_open\u001b[49m\u001b[43m(\u001b[49m\n\u001b[1;32m   1311\u001b[0m \u001b[43m    \u001b[49m\u001b[43mpath\u001b[49m\u001b[43m,\u001b[49m\n\u001b[1;32m   1312\u001b[0m \u001b[43m    \u001b[49m\u001b[43mmode\u001b[49m\u001b[38;5;241;43m=\u001b[39;49m\u001b[43mmode\u001b[49m\u001b[43m,\u001b[49m\n\u001b[1;32m   1313\u001b[0m \u001b[43m    \u001b[49m\u001b[43mblock_size\u001b[49m\u001b[38;5;241;43m=\u001b[39;49m\u001b[43mblock_size\u001b[49m\u001b[43m,\u001b[49m\n\u001b[1;32m   1314\u001b[0m \u001b[43m    \u001b[49m\u001b[43mautocommit\u001b[49m\u001b[38;5;241;43m=\u001b[39;49m\u001b[43mac\u001b[49m\u001b[43m,\u001b[49m\n\u001b[1;32m   1315\u001b[0m \u001b[43m    \u001b[49m\u001b[43mcache_options\u001b[49m\u001b[38;5;241;43m=\u001b[39;49m\u001b[43mcache_options\u001b[49m\u001b[43m,\u001b[49m\n\u001b[1;32m   1316\u001b[0m \u001b[43m    \u001b[49m\u001b[38;5;241;43m*\u001b[39;49m\u001b[38;5;241;43m*\u001b[39;49m\u001b[43mkwargs\u001b[49m\u001b[43m,\u001b[49m\n\u001b[1;32m   1317\u001b[0m \u001b[43m\u001b[49m\u001b[43m)\u001b[49m\n\u001b[1;32m   1318\u001b[0m \u001b[38;5;28;01mif\u001b[39;00m compression \u001b[38;5;129;01mis\u001b[39;00m \u001b[38;5;129;01mnot\u001b[39;00m \u001b[38;5;28;01mNone\u001b[39;00m:\n",
      "File \u001b[0;32m/opt/kernel/lib/python3.9/site-packages/s3fs/core.py:671\u001b[0m, in \u001b[0;36mS3FileSystem._open\u001b[0;34m(self, path, mode, block_size, acl, version_id, fill_cache, cache_type, autocommit, size, requester_pays, cache_options, **kwargs)\u001b[0m\n\u001b[1;32m    669\u001b[0m     cache_type \u001b[38;5;241m=\u001b[39m \u001b[38;5;28mself\u001b[39m\u001b[38;5;241m.\u001b[39mdefault_cache_type\n\u001b[0;32m--> 671\u001b[0m \u001b[38;5;28;01mreturn\u001b[39;00m \u001b[43mS3File\u001b[49m\u001b[43m(\u001b[49m\n\u001b[1;32m    672\u001b[0m \u001b[43m    \u001b[49m\u001b[38;5;28;43mself\u001b[39;49m\u001b[43m,\u001b[49m\n\u001b[1;32m    673\u001b[0m \u001b[43m    \u001b[49m\u001b[43mpath\u001b[49m\u001b[43m,\u001b[49m\n\u001b[1;32m    674\u001b[0m \u001b[43m    \u001b[49m\u001b[43mmode\u001b[49m\u001b[43m,\u001b[49m\n\u001b[1;32m    675\u001b[0m \u001b[43m    \u001b[49m\u001b[43mblock_size\u001b[49m\u001b[38;5;241;43m=\u001b[39;49m\u001b[43mblock_size\u001b[49m\u001b[43m,\u001b[49m\n\u001b[1;32m    676\u001b[0m \u001b[43m    \u001b[49m\u001b[43macl\u001b[49m\u001b[38;5;241;43m=\u001b[39;49m\u001b[43macl\u001b[49m\u001b[43m,\u001b[49m\n\u001b[1;32m    677\u001b[0m \u001b[43m    \u001b[49m\u001b[43mversion_id\u001b[49m\u001b[38;5;241;43m=\u001b[39;49m\u001b[43mversion_id\u001b[49m\u001b[43m,\u001b[49m\n\u001b[1;32m    678\u001b[0m \u001b[43m    \u001b[49m\u001b[43mfill_cache\u001b[49m\u001b[38;5;241;43m=\u001b[39;49m\u001b[43mfill_cache\u001b[49m\u001b[43m,\u001b[49m\n\u001b[1;32m    679\u001b[0m \u001b[43m    \u001b[49m\u001b[43ms3_additional_kwargs\u001b[49m\u001b[38;5;241;43m=\u001b[39;49m\u001b[43mkw\u001b[49m\u001b[43m,\u001b[49m\n\u001b[1;32m    680\u001b[0m \u001b[43m    \u001b[49m\u001b[43mcache_type\u001b[49m\u001b[38;5;241;43m=\u001b[39;49m\u001b[43mcache_type\u001b[49m\u001b[43m,\u001b[49m\n\u001b[1;32m    681\u001b[0m \u001b[43m    \u001b[49m\u001b[43mautocommit\u001b[49m\u001b[38;5;241;43m=\u001b[39;49m\u001b[43mautocommit\u001b[49m\u001b[43m,\u001b[49m\n\u001b[1;32m    682\u001b[0m \u001b[43m    \u001b[49m\u001b[43mrequester_pays\u001b[49m\u001b[38;5;241;43m=\u001b[39;49m\u001b[43mrequester_pays\u001b[49m\u001b[43m,\u001b[49m\n\u001b[1;32m    683\u001b[0m \u001b[43m    \u001b[49m\u001b[43mcache_options\u001b[49m\u001b[38;5;241;43m=\u001b[39;49m\u001b[43mcache_options\u001b[49m\u001b[43m,\u001b[49m\n\u001b[1;32m    684\u001b[0m \u001b[43m    \u001b[49m\u001b[43msize\u001b[49m\u001b[38;5;241;43m=\u001b[39;49m\u001b[43msize\u001b[49m\u001b[43m,\u001b[49m\n\u001b[1;32m    685\u001b[0m \u001b[43m\u001b[49m\u001b[43m)\u001b[49m\n",
      "File \u001b[0;32m/opt/kernel/lib/python3.9/site-packages/s3fs/core.py:2110\u001b[0m, in \u001b[0;36mS3File.__init__\u001b[0;34m(self, s3, path, mode, block_size, acl, version_id, fill_cache, s3_additional_kwargs, autocommit, cache_type, requester_pays, cache_options, size)\u001b[0m\n\u001b[1;32m   2109\u001b[0m         \u001b[38;5;28mself\u001b[39m\u001b[38;5;241m.\u001b[39mversion_id \u001b[38;5;241m=\u001b[39m \u001b[38;5;28mself\u001b[39m\u001b[38;5;241m.\u001b[39mdetails\u001b[38;5;241m.\u001b[39mget(\u001b[38;5;124m\"\u001b[39m\u001b[38;5;124mVersionId\u001b[39m\u001b[38;5;124m\"\u001b[39m)\n\u001b[0;32m-> 2110\u001b[0m \u001b[38;5;28;43msuper\u001b[39;49m\u001b[43m(\u001b[49m\u001b[43m)\u001b[49m\u001b[38;5;241;43m.\u001b[39;49m\u001b[38;5;21;43m__init__\u001b[39;49m\u001b[43m(\u001b[49m\n\u001b[1;32m   2111\u001b[0m \u001b[43m    \u001b[49m\u001b[43ms3\u001b[49m\u001b[43m,\u001b[49m\n\u001b[1;32m   2112\u001b[0m \u001b[43m    \u001b[49m\u001b[43mpath\u001b[49m\u001b[43m,\u001b[49m\n\u001b[1;32m   2113\u001b[0m \u001b[43m    \u001b[49m\u001b[43mmode\u001b[49m\u001b[43m,\u001b[49m\n\u001b[1;32m   2114\u001b[0m \u001b[43m    \u001b[49m\u001b[43mblock_size\u001b[49m\u001b[43m,\u001b[49m\n\u001b[1;32m   2115\u001b[0m \u001b[43m    \u001b[49m\u001b[43mautocommit\u001b[49m\u001b[38;5;241;43m=\u001b[39;49m\u001b[43mautocommit\u001b[49m\u001b[43m,\u001b[49m\n\u001b[1;32m   2116\u001b[0m \u001b[43m    \u001b[49m\u001b[43mcache_type\u001b[49m\u001b[38;5;241;43m=\u001b[39;49m\u001b[43mcache_type\u001b[49m\u001b[43m,\u001b[49m\n\u001b[1;32m   2117\u001b[0m \u001b[43m    \u001b[49m\u001b[43mcache_options\u001b[49m\u001b[38;5;241;43m=\u001b[39;49m\u001b[43mcache_options\u001b[49m\u001b[43m,\u001b[49m\n\u001b[1;32m   2118\u001b[0m \u001b[43m    \u001b[49m\u001b[43msize\u001b[49m\u001b[38;5;241;43m=\u001b[39;49m\u001b[43msize\u001b[49m\u001b[43m,\u001b[49m\n\u001b[1;32m   2119\u001b[0m \u001b[43m\u001b[49m\u001b[43m)\u001b[49m\n\u001b[1;32m   2120\u001b[0m \u001b[38;5;28mself\u001b[39m\u001b[38;5;241m.\u001b[39ms3 \u001b[38;5;241m=\u001b[39m \u001b[38;5;28mself\u001b[39m\u001b[38;5;241m.\u001b[39mfs  \u001b[38;5;66;03m# compatibility\u001b[39;00m\n",
      "File \u001b[0;32m/opt/kernel/lib/python3.9/site-packages/fsspec/spec.py:1884\u001b[0m, in \u001b[0;36mAbstractBufferedFile.__init__\u001b[0;34m(self, fs, path, mode, block_size, autocommit, cache_type, cache_options, size, **kwargs)\u001b[0m\n\u001b[1;32m   1883\u001b[0m \u001b[38;5;28;01melse\u001b[39;00m:\n\u001b[0;32m-> 1884\u001b[0m     \u001b[38;5;28mself\u001b[39m\u001b[38;5;241m.\u001b[39msize \u001b[38;5;241m=\u001b[39m \u001b[38;5;28;43mself\u001b[39;49m\u001b[38;5;241;43m.\u001b[39;49m\u001b[43mdetails\u001b[49m[\u001b[38;5;124m\"\u001b[39m\u001b[38;5;124msize\u001b[39m\u001b[38;5;124m\"\u001b[39m]\n\u001b[1;32m   1885\u001b[0m \u001b[38;5;28mself\u001b[39m\u001b[38;5;241m.\u001b[39mcache \u001b[38;5;241m=\u001b[39m caches[cache_type](\n\u001b[1;32m   1886\u001b[0m     \u001b[38;5;28mself\u001b[39m\u001b[38;5;241m.\u001b[39mblocksize, \u001b[38;5;28mself\u001b[39m\u001b[38;5;241m.\u001b[39m_fetch_range, \u001b[38;5;28mself\u001b[39m\u001b[38;5;241m.\u001b[39msize, \u001b[38;5;241m*\u001b[39m\u001b[38;5;241m*\u001b[39mcache_options\n\u001b[1;32m   1887\u001b[0m )\n",
      "File \u001b[0;32m/opt/kernel/lib/python3.9/site-packages/fsspec/spec.py:1897\u001b[0m, in \u001b[0;36mAbstractBufferedFile.details\u001b[0;34m(self)\u001b[0m\n\u001b[1;32m   1896\u001b[0m \u001b[38;5;28;01mif\u001b[39;00m \u001b[38;5;28mself\u001b[39m\u001b[38;5;241m.\u001b[39m_details \u001b[38;5;129;01mis\u001b[39;00m \u001b[38;5;28;01mNone\u001b[39;00m:\n\u001b[0;32m-> 1897\u001b[0m     \u001b[38;5;28mself\u001b[39m\u001b[38;5;241m.\u001b[39m_details \u001b[38;5;241m=\u001b[39m \u001b[38;5;28;43mself\u001b[39;49m\u001b[38;5;241;43m.\u001b[39;49m\u001b[43mfs\u001b[49m\u001b[38;5;241;43m.\u001b[39;49m\u001b[43minfo\u001b[49m\u001b[43m(\u001b[49m\u001b[38;5;28;43mself\u001b[39;49m\u001b[38;5;241;43m.\u001b[39;49m\u001b[43mpath\u001b[49m\u001b[43m)\u001b[49m\n\u001b[1;32m   1898\u001b[0m \u001b[38;5;28;01mreturn\u001b[39;00m \u001b[38;5;28mself\u001b[39m\u001b[38;5;241m.\u001b[39m_details\n",
      "File \u001b[0;32m/opt/kernel/lib/python3.9/site-packages/fsspec/asyn.py:118\u001b[0m, in \u001b[0;36msync_wrapper.<locals>.wrapper\u001b[0;34m(*args, **kwargs)\u001b[0m\n\u001b[1;32m    117\u001b[0m \u001b[38;5;28mself\u001b[39m \u001b[38;5;241m=\u001b[39m obj \u001b[38;5;129;01mor\u001b[39;00m args[\u001b[38;5;241m0\u001b[39m]\n\u001b[0;32m--> 118\u001b[0m \u001b[38;5;28;01mreturn\u001b[39;00m \u001b[43msync\u001b[49m\u001b[43m(\u001b[49m\u001b[38;5;28;43mself\u001b[39;49m\u001b[38;5;241;43m.\u001b[39;49m\u001b[43mloop\u001b[49m\u001b[43m,\u001b[49m\u001b[43m \u001b[49m\u001b[43mfunc\u001b[49m\u001b[43m,\u001b[49m\u001b[43m \u001b[49m\u001b[38;5;241;43m*\u001b[39;49m\u001b[43margs\u001b[49m\u001b[43m,\u001b[49m\u001b[43m \u001b[49m\u001b[38;5;241;43m*\u001b[39;49m\u001b[38;5;241;43m*\u001b[39;49m\u001b[43mkwargs\u001b[49m\u001b[43m)\u001b[49m\n",
      "File \u001b[0;32m/opt/kernel/lib/python3.9/site-packages/fsspec/asyn.py:103\u001b[0m, in \u001b[0;36msync\u001b[0;34m(loop, func, timeout, *args, **kwargs)\u001b[0m\n\u001b[1;32m    102\u001b[0m \u001b[38;5;28;01melif\u001b[39;00m \u001b[38;5;28misinstance\u001b[39m(return_result, \u001b[38;5;167;01mBaseException\u001b[39;00m):\n\u001b[0;32m--> 103\u001b[0m     \u001b[38;5;28;01mraise\u001b[39;00m return_result\n\u001b[1;32m    104\u001b[0m \u001b[38;5;28;01melse\u001b[39;00m:\n",
      "File \u001b[0;32m/opt/kernel/lib/python3.9/site-packages/fsspec/asyn.py:56\u001b[0m, in \u001b[0;36m_runner\u001b[0;34m(event, coro, result, timeout)\u001b[0m\n\u001b[1;32m     55\u001b[0m \u001b[38;5;28;01mtry\u001b[39;00m:\n\u001b[0;32m---> 56\u001b[0m     result[\u001b[38;5;241m0\u001b[39m] \u001b[38;5;241m=\u001b[39m \u001b[38;5;28;01mawait\u001b[39;00m coro\n\u001b[1;32m     57\u001b[0m \u001b[38;5;28;01mexcept\u001b[39;00m \u001b[38;5;167;01mException\u001b[39;00m \u001b[38;5;28;01mas\u001b[39;00m ex:\n",
      "File \u001b[0;32m/opt/kernel/lib/python3.9/site-packages/s3fs/core.py:1302\u001b[0m, in \u001b[0;36mS3FileSystem._info\u001b[0;34m(self, path, bucket, key, refresh, version_id)\u001b[0m\n\u001b[1;32m   1301\u001b[0m \u001b[38;5;28;01mtry\u001b[39;00m:\n\u001b[0;32m-> 1302\u001b[0m     out \u001b[38;5;241m=\u001b[39m \u001b[38;5;28;01mawait\u001b[39;00m \u001b[38;5;28mself\u001b[39m\u001b[38;5;241m.\u001b[39m_call_s3(\n\u001b[1;32m   1303\u001b[0m         \u001b[38;5;124m\"\u001b[39m\u001b[38;5;124mhead_object\u001b[39m\u001b[38;5;124m\"\u001b[39m,\n\u001b[1;32m   1304\u001b[0m         \u001b[38;5;28mself\u001b[39m\u001b[38;5;241m.\u001b[39mkwargs,\n\u001b[1;32m   1305\u001b[0m         Bucket\u001b[38;5;241m=\u001b[39mbucket,\n\u001b[1;32m   1306\u001b[0m         Key\u001b[38;5;241m=\u001b[39mkey,\n\u001b[1;32m   1307\u001b[0m         \u001b[38;5;241m*\u001b[39m\u001b[38;5;241m*\u001b[39mversion_id_kw(version_id),\n\u001b[1;32m   1308\u001b[0m         \u001b[38;5;241m*\u001b[39m\u001b[38;5;241m*\u001b[39m\u001b[38;5;28mself\u001b[39m\u001b[38;5;241m.\u001b[39mreq_kw,\n\u001b[1;32m   1309\u001b[0m     )\n\u001b[1;32m   1310\u001b[0m     \u001b[38;5;28;01mreturn\u001b[39;00m {\n\u001b[1;32m   1311\u001b[0m         \u001b[38;5;124m\"\u001b[39m\u001b[38;5;124mETag\u001b[39m\u001b[38;5;124m\"\u001b[39m: out\u001b[38;5;241m.\u001b[39mget(\u001b[38;5;124m\"\u001b[39m\u001b[38;5;124mETag\u001b[39m\u001b[38;5;124m\"\u001b[39m, \u001b[38;5;124m\"\u001b[39m\u001b[38;5;124m\"\u001b[39m),\n\u001b[1;32m   1312\u001b[0m         \u001b[38;5;124m\"\u001b[39m\u001b[38;5;124mLastModified\u001b[39m\u001b[38;5;124m\"\u001b[39m: out\u001b[38;5;241m.\u001b[39mget(\u001b[38;5;124m\"\u001b[39m\u001b[38;5;124mLastModified\u001b[39m\u001b[38;5;124m\"\u001b[39m, \u001b[38;5;124m\"\u001b[39m\u001b[38;5;124m\"\u001b[39m),\n\u001b[0;32m   (...)\u001b[0m\n\u001b[1;32m   1318\u001b[0m         \u001b[38;5;124m\"\u001b[39m\u001b[38;5;124mContentType\u001b[39m\u001b[38;5;124m\"\u001b[39m: out\u001b[38;5;241m.\u001b[39mget(\u001b[38;5;124m\"\u001b[39m\u001b[38;5;124mContentType\u001b[39m\u001b[38;5;124m\"\u001b[39m),\n\u001b[1;32m   1319\u001b[0m     }\n",
      "File \u001b[0;32m/opt/kernel/lib/python3.9/site-packages/s3fs/core.py:341\u001b[0m, in \u001b[0;36mS3FileSystem._call_s3\u001b[0;34m(self, method, *akwarglist, **kwargs)\u001b[0m\n\u001b[1;32m    340\u001b[0m \u001b[38;5;28;01masync\u001b[39;00m \u001b[38;5;28;01mdef\u001b[39;00m\u001b[38;5;250m \u001b[39m\u001b[38;5;21m_call_s3\u001b[39m(\u001b[38;5;28mself\u001b[39m, method, \u001b[38;5;241m*\u001b[39makwarglist, \u001b[38;5;241m*\u001b[39m\u001b[38;5;241m*\u001b[39mkwargs):\n\u001b[0;32m--> 341\u001b[0m     \u001b[38;5;28;01mawait\u001b[39;00m \u001b[38;5;28mself\u001b[39m\u001b[38;5;241m.\u001b[39mset_session()\n\u001b[1;32m    342\u001b[0m     s3 \u001b[38;5;241m=\u001b[39m \u001b[38;5;28;01mawait\u001b[39;00m \u001b[38;5;28mself\u001b[39m\u001b[38;5;241m.\u001b[39mget_s3(kwargs\u001b[38;5;241m.\u001b[39mget(\u001b[38;5;124m\"\u001b[39m\u001b[38;5;124mBucket\u001b[39m\u001b[38;5;124m\"\u001b[39m))\n",
      "File \u001b[0;32m/opt/kernel/lib/python3.9/site-packages/s3fs/core.py:527\u001b[0m, in \u001b[0;36mS3FileSystem.set_session\u001b[0;34m(self, refresh, kwargs)\u001b[0m\n\u001b[1;32m    524\u001b[0m     s3creator \u001b[38;5;241m=\u001b[39m \u001b[38;5;28mself\u001b[39m\u001b[38;5;241m.\u001b[39msession\u001b[38;5;241m.\u001b[39mcreate_client(\n\u001b[1;32m    525\u001b[0m         \u001b[38;5;124m\"\u001b[39m\u001b[38;5;124ms3\u001b[39m\u001b[38;5;124m\"\u001b[39m, config\u001b[38;5;241m=\u001b[39mconf, \u001b[38;5;241m*\u001b[39m\u001b[38;5;241m*\u001b[39minit_kwargs, \u001b[38;5;241m*\u001b[39m\u001b[38;5;241m*\u001b[39mclient_kwargs\n\u001b[1;32m    526\u001b[0m     )\n\u001b[0;32m--> 527\u001b[0m     \u001b[38;5;28mself\u001b[39m\u001b[38;5;241m.\u001b[39m_s3 \u001b[38;5;241m=\u001b[39m \u001b[38;5;28;01mawait\u001b[39;00m s3creator\u001b[38;5;241m.\u001b[39m\u001b[38;5;21m__aenter__\u001b[39m()\n\u001b[1;32m    529\u001b[0m \u001b[38;5;28mself\u001b[39m\u001b[38;5;241m.\u001b[39m_s3creator \u001b[38;5;241m=\u001b[39m s3creator\n",
      "File \u001b[0;32m/opt/kernel/lib/python3.9/site-packages/aiobotocore/session.py:25\u001b[0m, in \u001b[0;36mClientCreatorContext.__aenter__\u001b[0;34m(self)\u001b[0m\n\u001b[1;32m     24\u001b[0m \u001b[38;5;28;01masync\u001b[39;00m \u001b[38;5;28;01mdef\u001b[39;00m\u001b[38;5;250m \u001b[39m\u001b[38;5;21m__aenter__\u001b[39m(\u001b[38;5;28mself\u001b[39m) \u001b[38;5;241m-\u001b[39m\u001b[38;5;241m>\u001b[39m AioBaseClient:\n\u001b[0;32m---> 25\u001b[0m     \u001b[38;5;28mself\u001b[39m\u001b[38;5;241m.\u001b[39m_client \u001b[38;5;241m=\u001b[39m \u001b[38;5;28;01mawait\u001b[39;00m \u001b[38;5;28mself\u001b[39m\u001b[38;5;241m.\u001b[39m_coro\n\u001b[1;32m     26\u001b[0m     \u001b[38;5;28;01mreturn\u001b[39;00m \u001b[38;5;28;01mawait\u001b[39;00m \u001b[38;5;28mself\u001b[39m\u001b[38;5;241m.\u001b[39m_client\u001b[38;5;241m.\u001b[39m\u001b[38;5;21m__aenter__\u001b[39m()\n",
      "File \u001b[0;32m/opt/kernel/lib/python3.9/site-packages/aiobotocore/session.py:215\u001b[0m, in \u001b[0;36mAioSession._create_client\u001b[0;34m(self, service_name, region_name, api_version, use_ssl, verify, endpoint_url, aws_access_key_id, aws_secret_access_key, aws_session_token, config)\u001b[0m\n\u001b[1;32m    203\u001b[0m client_creator \u001b[38;5;241m=\u001b[39m AioClientCreator(\n\u001b[1;32m    204\u001b[0m     loader,\n\u001b[1;32m    205\u001b[0m     endpoint_resolver,\n\u001b[0;32m   (...)\u001b[0m\n\u001b[1;32m    213\u001b[0m     user_agent_creator\u001b[38;5;241m=\u001b[39muser_agent_creator,\n\u001b[1;32m    214\u001b[0m )\n\u001b[0;32m--> 215\u001b[0m client \u001b[38;5;241m=\u001b[39m \u001b[38;5;28;01mawait\u001b[39;00m client_creator\u001b[38;5;241m.\u001b[39mcreate_client(\n\u001b[1;32m    216\u001b[0m     service_name\u001b[38;5;241m=\u001b[39mservice_name,\n\u001b[1;32m    217\u001b[0m     region_name\u001b[38;5;241m=\u001b[39mregion_name,\n\u001b[1;32m    218\u001b[0m     is_secure\u001b[38;5;241m=\u001b[39muse_ssl,\n\u001b[1;32m    219\u001b[0m     endpoint_url\u001b[38;5;241m=\u001b[39mendpoint_url,\n\u001b[1;32m    220\u001b[0m     verify\u001b[38;5;241m=\u001b[39mverify,\n\u001b[1;32m    221\u001b[0m     credentials\u001b[38;5;241m=\u001b[39mcredentials,\n\u001b[1;32m    222\u001b[0m     scoped_config\u001b[38;5;241m=\u001b[39m\u001b[38;5;28mself\u001b[39m\u001b[38;5;241m.\u001b[39mget_scoped_config(),\n\u001b[1;32m    223\u001b[0m     client_config\u001b[38;5;241m=\u001b[39mconfig,\n\u001b[1;32m    224\u001b[0m     api_version\u001b[38;5;241m=\u001b[39mapi_version,\n\u001b[1;32m    225\u001b[0m     auth_token\u001b[38;5;241m=\u001b[39mauth_token,\n\u001b[1;32m    226\u001b[0m )\n\u001b[1;32m    227\u001b[0m monitor \u001b[38;5;241m=\u001b[39m \u001b[38;5;28mself\u001b[39m\u001b[38;5;241m.\u001b[39m_get_internal_component(\u001b[38;5;124m'\u001b[39m\u001b[38;5;124mmonitor\u001b[39m\u001b[38;5;124m'\u001b[39m)\n",
      "File \u001b[0;32m/opt/kernel/lib/python3.9/site-packages/aiobotocore/client.py:77\u001b[0m, in \u001b[0;36mAioClientCreator.create_client\u001b[0;34m(self, service_name, region_name, is_secure, endpoint_url, verify, credentials, scoped_config, api_version, client_config, auth_token)\u001b[0m\n\u001b[1;32m     67\u001b[0m endpoint_bridge \u001b[38;5;241m=\u001b[39m ClientEndpointBridge(\n\u001b[1;32m     68\u001b[0m     \u001b[38;5;28mself\u001b[39m\u001b[38;5;241m.\u001b[39m_endpoint_resolver,\n\u001b[1;32m     69\u001b[0m     scoped_config,\n\u001b[0;32m   (...)\u001b[0m\n\u001b[1;32m     75\u001b[0m     ),\n\u001b[1;32m     76\u001b[0m )\n\u001b[0;32m---> 77\u001b[0m client_args \u001b[38;5;241m=\u001b[39m \u001b[38;5;28;43mself\u001b[39;49m\u001b[38;5;241;43m.\u001b[39;49m\u001b[43m_get_client_args\u001b[49m\u001b[43m(\u001b[49m\n\u001b[1;32m     78\u001b[0m \u001b[43m    \u001b[49m\u001b[43mservice_model\u001b[49m\u001b[43m,\u001b[49m\n\u001b[1;32m     79\u001b[0m \u001b[43m    \u001b[49m\u001b[43mregion_name\u001b[49m\u001b[43m,\u001b[49m\n\u001b[1;32m     80\u001b[0m \u001b[43m    \u001b[49m\u001b[43mis_secure\u001b[49m\u001b[43m,\u001b[49m\n\u001b[1;32m     81\u001b[0m \u001b[43m    \u001b[49m\u001b[43mendpoint_url\u001b[49m\u001b[43m,\u001b[49m\n\u001b[1;32m     82\u001b[0m \u001b[43m    \u001b[49m\u001b[43mverify\u001b[49m\u001b[43m,\u001b[49m\n\u001b[1;32m     83\u001b[0m \u001b[43m    \u001b[49m\u001b[43mcredentials\u001b[49m\u001b[43m,\u001b[49m\n\u001b[1;32m     84\u001b[0m \u001b[43m    \u001b[49m\u001b[43mscoped_config\u001b[49m\u001b[43m,\u001b[49m\n\u001b[1;32m     85\u001b[0m \u001b[43m    \u001b[49m\u001b[43mclient_config\u001b[49m\u001b[43m,\u001b[49m\n\u001b[1;32m     86\u001b[0m \u001b[43m    \u001b[49m\u001b[43mendpoint_bridge\u001b[49m\u001b[43m,\u001b[49m\n\u001b[1;32m     87\u001b[0m \u001b[43m    \u001b[49m\u001b[43mauth_token\u001b[49m\u001b[43m,\u001b[49m\n\u001b[1;32m     88\u001b[0m \u001b[43m    \u001b[49m\u001b[43mendpoints_ruleset_data\u001b[49m\u001b[43m,\u001b[49m\n\u001b[1;32m     89\u001b[0m \u001b[43m    \u001b[49m\u001b[43mpartition_data\u001b[49m\u001b[43m,\u001b[49m\n\u001b[1;32m     90\u001b[0m \u001b[43m\u001b[49m\u001b[43m)\u001b[49m\n\u001b[1;32m     91\u001b[0m service_client \u001b[38;5;241m=\u001b[39m \u001b[38;5;28mcls\u001b[39m(\u001b[38;5;241m*\u001b[39m\u001b[38;5;241m*\u001b[39mclient_args)\n",
      "File \u001b[0;32m/opt/kernel/lib/python3.9/site-packages/aiobotocore/client.py:286\u001b[0m, in \u001b[0;36mAioClientCreator._get_client_args\u001b[0;34m(self, service_model, region_name, is_secure, endpoint_url, verify, credentials, scoped_config, client_config, endpoint_bridge, auth_token, endpoints_ruleset_data, partition_data)\u001b[0m\n\u001b[1;32m    277\u001b[0m args_creator \u001b[38;5;241m=\u001b[39m AioClientArgsCreator(\n\u001b[1;32m    278\u001b[0m     \u001b[38;5;28mself\u001b[39m\u001b[38;5;241m.\u001b[39m_event_emitter,\n\u001b[1;32m    279\u001b[0m     \u001b[38;5;28mself\u001b[39m\u001b[38;5;241m.\u001b[39m_user_agent,\n\u001b[0;32m   (...)\u001b[0m\n\u001b[1;32m    284\u001b[0m     user_agent_creator\u001b[38;5;241m=\u001b[39m\u001b[38;5;28mself\u001b[39m\u001b[38;5;241m.\u001b[39m_user_agent_creator,\n\u001b[1;32m    285\u001b[0m )\n\u001b[0;32m--> 286\u001b[0m \u001b[38;5;28;01mreturn\u001b[39;00m \u001b[43margs_creator\u001b[49m\u001b[38;5;241;43m.\u001b[39;49m\u001b[43mget_client_args\u001b[49m\u001b[43m(\u001b[49m\n\u001b[1;32m    287\u001b[0m \u001b[43m    \u001b[49m\u001b[43mservice_model\u001b[49m\u001b[43m,\u001b[49m\n\u001b[1;32m    288\u001b[0m \u001b[43m    \u001b[49m\u001b[43mregion_name\u001b[49m\u001b[43m,\u001b[49m\n\u001b[1;32m    289\u001b[0m \u001b[43m    \u001b[49m\u001b[43mis_secure\u001b[49m\u001b[43m,\u001b[49m\n\u001b[1;32m    290\u001b[0m \u001b[43m    \u001b[49m\u001b[43mendpoint_url\u001b[49m\u001b[43m,\u001b[49m\n\u001b[1;32m    291\u001b[0m \u001b[43m    \u001b[49m\u001b[43mverify\u001b[49m\u001b[43m,\u001b[49m\n\u001b[1;32m    292\u001b[0m \u001b[43m    \u001b[49m\u001b[43mcredentials\u001b[49m\u001b[43m,\u001b[49m\n\u001b[1;32m    293\u001b[0m \u001b[43m    \u001b[49m\u001b[43mscoped_config\u001b[49m\u001b[43m,\u001b[49m\n\u001b[1;32m    294\u001b[0m \u001b[43m    \u001b[49m\u001b[43mclient_config\u001b[49m\u001b[43m,\u001b[49m\n\u001b[1;32m    295\u001b[0m \u001b[43m    \u001b[49m\u001b[43mendpoint_bridge\u001b[49m\u001b[43m,\u001b[49m\n\u001b[1;32m    296\u001b[0m \u001b[43m    \u001b[49m\u001b[43mauth_token\u001b[49m\u001b[43m,\u001b[49m\n\u001b[1;32m    297\u001b[0m \u001b[43m    \u001b[49m\u001b[43mendpoints_ruleset_data\u001b[49m\u001b[43m,\u001b[49m\n\u001b[1;32m    298\u001b[0m \u001b[43m    \u001b[49m\u001b[43mpartition_data\u001b[49m\u001b[43m,\u001b[49m\n\u001b[1;32m    299\u001b[0m \u001b[43m\u001b[49m\u001b[43m)\u001b[49m\n",
      "File \u001b[0;32m/opt/kernel/lib/python3.9/site-packages/aiobotocore/args.py:99\u001b[0m, in \u001b[0;36mAioClientArgsCreator.get_client_args\u001b[0;34m(self, service_model, region_name, is_secure, endpoint_url, verify, credentials, scoped_config, client_config, endpoint_bridge, auth_token, endpoints_ruleset_data, partition_data)\u001b[0m\n\u001b[1;32m     97\u001b[0m response_parser \u001b[38;5;241m=\u001b[39m botocore\u001b[38;5;241m.\u001b[39mparsers\u001b[38;5;241m.\u001b[39mcreate_parser(protocol)\n\u001b[0;32m---> 99\u001b[0m ruleset_resolver \u001b[38;5;241m=\u001b[39m \u001b[38;5;28;43mself\u001b[39;49m\u001b[38;5;241;43m.\u001b[39;49m\u001b[43m_build_endpoint_resolver\u001b[49m\u001b[43m(\u001b[49m\n\u001b[1;32m    100\u001b[0m \u001b[43m    \u001b[49m\u001b[43mendpoints_ruleset_data\u001b[49m\u001b[43m,\u001b[49m\n\u001b[1;32m    101\u001b[0m \u001b[43m    \u001b[49m\u001b[43mpartition_data\u001b[49m\u001b[43m,\u001b[49m\n\u001b[1;32m    102\u001b[0m \u001b[43m    \u001b[49m\u001b[43mclient_config\u001b[49m\u001b[43m,\u001b[49m\n\u001b[1;32m    103\u001b[0m \u001b[43m    \u001b[49m\u001b[43mservice_model\u001b[49m\u001b[43m,\u001b[49m\n\u001b[1;32m    104\u001b[0m \u001b[43m    \u001b[49m\u001b[43mendpoint_region_name\u001b[49m\u001b[43m,\u001b[49m\n\u001b[1;32m    105\u001b[0m \u001b[43m    \u001b[49m\u001b[43mregion_name\u001b[49m\u001b[43m,\u001b[49m\n\u001b[1;32m    106\u001b[0m \u001b[43m    \u001b[49m\u001b[43mconfigured_endpoint_url\u001b[49m\u001b[43m,\u001b[49m\n\u001b[1;32m    107\u001b[0m \u001b[43m    \u001b[49m\u001b[43mendpoint\u001b[49m\u001b[43m,\u001b[49m\n\u001b[1;32m    108\u001b[0m \u001b[43m    \u001b[49m\u001b[43mis_secure\u001b[49m\u001b[43m,\u001b[49m\n\u001b[1;32m    109\u001b[0m \u001b[43m    \u001b[49m\u001b[43mendpoint_bridge\u001b[49m\u001b[43m,\u001b[49m\n\u001b[1;32m    110\u001b[0m \u001b[43m    \u001b[49m\u001b[43mevent_emitter\u001b[49m\u001b[43m,\u001b[49m\n\u001b[1;32m    111\u001b[0m \u001b[43m\u001b[49m\u001b[43m)\u001b[49m\n\u001b[1;32m    113\u001b[0m \u001b[38;5;66;03m# Copy the session's user agent factory and adds client configuration.\u001b[39;00m\n",
      "File \u001b[0;32m/opt/kernel/lib/python3.9/site-packages/aiobotocore/args.py:165\u001b[0m, in \u001b[0;36mAioClientArgsCreator._build_endpoint_resolver\u001b[0;34m(self, endpoints_ruleset_data, partition_data, client_config, service_model, endpoint_region_name, region_name, endpoint_url, endpoint, is_secure, endpoint_bridge, event_emitter)\u001b[0m\n\u001b[1;32m    164\u001b[0m     eprv2_region_name \u001b[38;5;241m=\u001b[39m region_name\n\u001b[0;32m--> 165\u001b[0m resolver_builtins \u001b[38;5;241m=\u001b[39m \u001b[38;5;28;43mself\u001b[39;49m\u001b[38;5;241;43m.\u001b[39;49m\u001b[43mcompute_endpoint_resolver_builtin_defaults\u001b[49m\u001b[43m(\u001b[49m\n\u001b[1;32m    166\u001b[0m \u001b[43m    \u001b[49m\u001b[43mregion_name\u001b[49m\u001b[38;5;241;43m=\u001b[39;49m\u001b[43meprv2_region_name\u001b[49m\u001b[43m,\u001b[49m\n\u001b[1;32m    167\u001b[0m \u001b[43m    \u001b[49m\u001b[43mservice_name\u001b[49m\u001b[38;5;241;43m=\u001b[39;49m\u001b[43mservice_name_raw\u001b[49m\u001b[43m,\u001b[49m\n\u001b[1;32m    168\u001b[0m \u001b[43m    \u001b[49m\u001b[43ms3_config\u001b[49m\u001b[38;5;241;43m=\u001b[39;49m\u001b[43ms3_config_raw\u001b[49m\u001b[43m,\u001b[49m\n\u001b[1;32m    169\u001b[0m \u001b[43m    \u001b[49m\u001b[43mendpoint_bridge\u001b[49m\u001b[38;5;241;43m=\u001b[39;49m\u001b[43mendpoint_bridge\u001b[49m\u001b[43m,\u001b[49m\n\u001b[1;32m    170\u001b[0m \u001b[43m    \u001b[49m\u001b[43mclient_endpoint_url\u001b[49m\u001b[38;5;241;43m=\u001b[39;49m\u001b[43mendpoint_url\u001b[49m\u001b[43m,\u001b[49m\n\u001b[1;32m    171\u001b[0m \u001b[43m    \u001b[49m\u001b[43mlegacy_endpoint_url\u001b[49m\u001b[38;5;241;43m=\u001b[39;49m\u001b[43mendpoint\u001b[49m\u001b[38;5;241;43m.\u001b[39;49m\u001b[43mhost\u001b[49m\u001b[43m,\u001b[49m\n\u001b[1;32m    172\u001b[0m \u001b[43m\u001b[49m\u001b[43m)\u001b[49m\n\u001b[1;32m    173\u001b[0m \u001b[38;5;66;03m# Client context params for s3 conflict with the available settings\u001b[39;00m\n\u001b[1;32m    174\u001b[0m \u001b[38;5;66;03m# in the `s3` parameter on the `Config` object. If the same parameter\u001b[39;00m\n\u001b[1;32m    175\u001b[0m \u001b[38;5;66;03m# is set in both places, the value in the `s3` parameter takes priority.\u001b[39;00m\n",
      "\u001b[0;31mTypeError\u001b[0m: compute_endpoint_resolver_builtin_defaults() missing 2 required positional arguments: 'credentials' and 'account_id_endpoint_mode'",
      "\nDuring handling of the above exception, another exception occurred:\n",
      "\u001b[0;31mException\u001b[0m                                 Traceback (most recent call last)",
      "Cell \u001b[0;32mIn[120], line 1\u001b[0m\n\u001b[0;32m----> 1\u001b[0m sec_data \u001b[38;5;241m=\u001b[39m \u001b[43mcd\u001b[49m\u001b[38;5;241;43m.\u001b[39;49m\u001b[43mSecurityData\u001b[49m\u001b[43m(\u001b[49m\u001b[38;5;124;43m'\u001b[39;49m\u001b[38;5;124;43mtmp/fs\u001b[39;49m\u001b[38;5;124;43m'\u001b[39;49m\u001b[43m,\u001b[49m\u001b[43m \u001b[49m\u001b[38;5;124;43m'\u001b[39;49m\u001b[38;5;124;43mdow_quarterly_ltm.json\u001b[39;49m\u001b[38;5;124;43m'\u001b[39;49m\u001b[43m)\u001b[49m\n",
      "File \u001b[0;32m/project/company_data.py:30\u001b[0m, in \u001b[0;36mSecurityData.__init__\u001b[0;34m(self, dataset_folder, dataset_name, use_local)\u001b[0m\n\u001b[1;32m     28\u001b[0m             \u001b[38;5;28mself\u001b[39m\u001b[38;5;241m.\u001b[39mdata \u001b[38;5;241m=\u001b[39m json\u001b[38;5;241m.\u001b[39mload(f)\n\u001b[1;32m     29\u001b[0m     \u001b[38;5;28;01mexcept\u001b[39;00m:\n\u001b[0;32m---> 30\u001b[0m         \u001b[38;5;28;01mraise\u001b[39;00m \u001b[38;5;167;01mException\u001b[39;00m(\u001b[38;5;124m\"\u001b[39m\u001b[38;5;124mCompany data must be downloaded first before it is requested.\u001b[39m\u001b[38;5;124m\"\u001b[39m)\n\u001b[1;32m     31\u001b[0m \u001b[38;5;28;01melse\u001b[39;00m:\n\u001b[1;32m     32\u001b[0m     \u001b[38;5;28mself\u001b[39m\u001b[38;5;241m.\u001b[39mdata \u001b[38;5;241m=\u001b[39m use_local\n",
      "\u001b[0;31mException\u001b[0m: Company data must be downloaded first before it is requested."
     ]
    }
   ],
   "source": [
    "sec_data = cd.SecurityData('tmp/fs', 'dow_quarterly_ltm.json')"
   ]
  },
  {
   "cell_type": "code",
   "execution_count": null,
   "id": "1db79400-2e3e-452e-83fd-c92b36792af7",
   "metadata": {},
   "outputs": [],
   "source": []
  }
 ],
 "metadata": {
  "kernelspec": {
   "display_name": "Bloomberg Lab Python 3",
   "language": "python",
   "name": "remote-jupyterpython"
  },
  "language_info": {
   "codemirror_mode": {
    "name": "ipython",
    "version": 3
   },
   "file_extension": ".py",
   "mimetype": "text/x-python",
   "name": "python",
   "nbconvert_exporter": "python",
   "pygments_lexer": "ipython3",
   "version": "3.9.12"
  }
 },
 "nbformat": 4,
 "nbformat_minor": 5
}
