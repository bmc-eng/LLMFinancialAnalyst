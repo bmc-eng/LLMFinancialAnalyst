{
 "cells": [
  {
   "cell_type": "markdown",
   "id": "ccd9fa30-e079-4dad-9642-a3c4e79713ac",
   "metadata": {},
   "source": [
    "# Analysis of the LLM Runs"
   ]
  },
  {
   "cell_type": "code",
   "execution_count": 81,
   "id": "9065ade7-5daf-41bb-80da-c9ad3a127773",
   "metadata": {},
   "outputs": [],
   "source": [
    "import json\n",
    "import pandas as pd\n",
    "import numpy as np"
   ]
  },
  {
   "cell_type": "markdown",
   "id": "24c9e285-a22c-4a9e-81df-00d858005e63",
   "metadata": {},
   "source": [
    "#### Llama inference task"
   ]
  },
  {
   "cell_type": "code",
   "execution_count": 5,
   "id": "f201a5cf-9733-4d6e-a0cb-d59b5641b47c",
   "metadata": {},
   "outputs": [],
   "source": [
    "# load the data\n",
    "with open('Data/base1.json', 'rb') as file:\n",
    "    base = json.load(file)"
   ]
  },
  {
   "cell_type": "code",
   "execution_count": 105,
   "id": "efb69400-a94c-4653-802c-35e3a9424268",
   "metadata": {},
   "outputs": [
    {
     "data": {
      "text/plain": [
       "80"
      ]
     },
     "execution_count": 105,
     "metadata": {},
     "output_type": "execute_result"
    }
   ],
   "source": [
    "base[21]['confidence score']"
   ]
  },
  {
   "cell_type": "code",
   "execution_count": 86,
   "id": "f459a9b9-56af-494a-a89f-7d14cf30585b",
   "metadata": {},
   "outputs": [
    {
     "data": {
      "text/plain": [
       "1321"
      ]
     },
     "execution_count": 86,
     "metadata": {},
     "output_type": "execute_result"
    }
   ],
   "source": [
    "response = base[0]['response']\n",
    "response.find('HOLD')"
   ]
  },
  {
   "cell_type": "code",
   "execution_count": 106,
   "id": "113c0808-badc-4a93-bafd-927dce16585d",
   "metadata": {},
   "outputs": [],
   "source": [
    "def unpack_to_dataframe(data):\n",
    "    date = []\n",
    "    sec = []\n",
    "    decision = []\n",
    "    confidence = []\n",
    "    \n",
    "    for result in data:\n",
    "        try:\n",
    "            date.append(result['date'])\n",
    "            sec.append(result['security'])\n",
    "            try:\n",
    "                decision.append(result['decision'])\n",
    "                confidence.append(result['confidence score'])\n",
    "            except:\n",
    "                try:\n",
    "                    response = result['response']\n",
    "\n",
    "                    isBuy = False\n",
    "                    isSell = False\n",
    "                    isHold = False\n",
    "\n",
    "                    if response.find('BUY') != -1:\n",
    "                        isBuy = True\n",
    "                    if response.find(\"SELL\") != -1:\n",
    "                        isSell = True\n",
    "                    if response.find(\"HOLD\") != -1:\n",
    "                        isHold = True\n",
    "\n",
    "                    if isBuy and not(isSell or isHold):\n",
    "                        decision.append('BUY')\n",
    "                        confidence.append(np.nan)\n",
    "                        continue\n",
    "                    if isSell and not(isBuy or isHold):\n",
    "                        decision.append('SELL')\n",
    "                        confidence.append(np.nan)\n",
    "                        continue\n",
    "                    if isHold and not(isBuy or isSell):\n",
    "                        decision.append('HOLD')\n",
    "                        confidence.append(np.nan)\n",
    "                        continue\n",
    "\n",
    "                    decision.append('Missing')\n",
    "                    confidence.append(np.nan)\n",
    "                except:\n",
    "                    decision.append('Missing')\n",
    "                    confidence.append(np.nan)\n",
    "        except:\n",
    "            print('Missing date')\n",
    "        \n",
    "        \n",
    "        \n",
    "    return {'Date': date, 'Security': sec, 'Decision': decision, 'Confidence': confidence}\n",
    "        \n",
    "            "
   ]
  },
  {
   "cell_type": "code",
   "execution_count": 107,
   "id": "df291729-c65e-428a-b029-9fd5e731da2e",
   "metadata": {},
   "outputs": [
    {
     "name": "stdout",
     "output_type": "stream",
     "text": [
      "Missing date\n"
     ]
    }
   ],
   "source": [
    "s = unpack_to_dataframe(base)"
   ]
  },
  {
   "cell_type": "code",
   "execution_count": 108,
   "id": "513b4fec-17f4-4481-9520-a823ec410924",
   "metadata": {},
   "outputs": [
    {
     "data": {
      "text/plain": [
       "80"
      ]
     },
     "execution_count": 108,
     "metadata": {},
     "output_type": "execute_result"
    }
   ],
   "source": [
    "s['Confidence'][2]"
   ]
  },
  {
   "cell_type": "code",
   "execution_count": 109,
   "id": "53b06b5e-b0ec-4d14-be20-39c0117f14c5",
   "metadata": {},
   "outputs": [
    {
     "data": {
      "text/html": [
       "<div>\n",
       "<style scoped>\n",
       "    .dataframe tbody tr th:only-of-type {\n",
       "        vertical-align: middle;\n",
       "    }\n",
       "\n",
       "    .dataframe tbody tr th {\n",
       "        vertical-align: top;\n",
       "    }\n",
       "\n",
       "    .dataframe thead th {\n",
       "        text-align: right;\n",
       "    }\n",
       "</style>\n",
       "<table border=\"1\" class=\"dataframe\">\n",
       "  <thead>\n",
       "    <tr style=\"text-align: right;\">\n",
       "      <th></th>\n",
       "      <th>Date</th>\n",
       "      <th>Security</th>\n",
       "      <th>Decision</th>\n",
       "      <th>Confidence</th>\n",
       "    </tr>\n",
       "  </thead>\n",
       "  <tbody>\n",
       "    <tr>\n",
       "      <th>0</th>\n",
       "      <td>2020-02-06</td>\n",
       "      <td>MMM UN Equity</td>\n",
       "      <td>HOLD</td>\n",
       "      <td>NaN</td>\n",
       "    </tr>\n",
       "    <tr>\n",
       "      <th>1</th>\n",
       "      <td>2020-02-12</td>\n",
       "      <td>CSCO UW Equity</td>\n",
       "      <td>BUY</td>\n",
       "      <td>80.0</td>\n",
       "    </tr>\n",
       "    <tr>\n",
       "      <th>2</th>\n",
       "      <td>2020-02-12</td>\n",
       "      <td>AMGN UQ Equity</td>\n",
       "      <td>BUY</td>\n",
       "      <td>80.0</td>\n",
       "    </tr>\n",
       "    <tr>\n",
       "      <th>3</th>\n",
       "      <td>2020-02-13</td>\n",
       "      <td>AXP UN Equity</td>\n",
       "      <td>SELL</td>\n",
       "      <td>NaN</td>\n",
       "    </tr>\n",
       "    <tr>\n",
       "      <th>4</th>\n",
       "      <td>2020-02-13</td>\n",
       "      <td>NVDA UQ Equity</td>\n",
       "      <td>BUY</td>\n",
       "      <td>70.0</td>\n",
       "    </tr>\n",
       "    <tr>\n",
       "      <th>...</th>\n",
       "      <td>...</td>\n",
       "      <td>...</td>\n",
       "      <td>...</td>\n",
       "      <td>...</td>\n",
       "    </tr>\n",
       "    <tr>\n",
       "      <th>873</th>\n",
       "      <td>2024-11-19</td>\n",
       "      <td>HD UN Equity</td>\n",
       "      <td>BUY</td>\n",
       "      <td>70.0</td>\n",
       "    </tr>\n",
       "    <tr>\n",
       "      <th>874</th>\n",
       "      <td>2024-11-19</td>\n",
       "      <td>WMT UN Equity</td>\n",
       "      <td>BUY</td>\n",
       "      <td>70.0</td>\n",
       "    </tr>\n",
       "    <tr>\n",
       "      <th>875</th>\n",
       "      <td>2024-11-20</td>\n",
       "      <td>NVDA UQ Equity</td>\n",
       "      <td>BUY</td>\n",
       "      <td>85.0</td>\n",
       "    </tr>\n",
       "    <tr>\n",
       "      <th>876</th>\n",
       "      <td>2024-12-03</td>\n",
       "      <td>CRM UN Equity</td>\n",
       "      <td>BUY</td>\n",
       "      <td>85.0</td>\n",
       "    </tr>\n",
       "    <tr>\n",
       "      <th>877</th>\n",
       "      <td>2024-12-19</td>\n",
       "      <td>NKE UN Equity</td>\n",
       "      <td>BUY</td>\n",
       "      <td>80.0</td>\n",
       "    </tr>\n",
       "  </tbody>\n",
       "</table>\n",
       "<p>878 rows × 4 columns</p>\n",
       "</div>"
      ],
      "text/plain": [
       "           Date        Security Decision  Confidence\n",
       "0    2020-02-06   MMM UN Equity     HOLD         NaN\n",
       "1    2020-02-12  CSCO UW Equity      BUY        80.0\n",
       "2    2020-02-12  AMGN UQ Equity      BUY        80.0\n",
       "3    2020-02-13   AXP UN Equity     SELL         NaN\n",
       "4    2020-02-13  NVDA UQ Equity      BUY        70.0\n",
       "..          ...             ...      ...         ...\n",
       "873  2024-11-19    HD UN Equity      BUY        70.0\n",
       "874  2024-11-19   WMT UN Equity      BUY        70.0\n",
       "875  2024-11-20  NVDA UQ Equity      BUY        85.0\n",
       "876  2024-12-03   CRM UN Equity      BUY        85.0\n",
       "877  2024-12-19   NKE UN Equity      BUY        80.0\n",
       "\n",
       "[878 rows x 4 columns]"
      ]
     },
     "execution_count": 109,
     "metadata": {},
     "output_type": "execute_result"
    }
   ],
   "source": [
    "df = pd.DataFrame(data=s)\n",
    "df"
   ]
  },
  {
   "cell_type": "code",
   "execution_count": 110,
   "id": "32c6dda6-abb2-4832-9f82-ccce2bc8857f",
   "metadata": {},
   "outputs": [],
   "source": [
    "\n",
    "def explore_data(df):\n",
    "    print(\"Number Missing: \", df['Decision'].value_counts()['Missing'])\n",
    "    print(\"Number of Buy: \", df['Decision'].value_counts()['BUY'])\n",
    "    print(\"Number of Sell: \", df['Decision'].value_counts()['SELL'])\n",
    "    print(\"Number of Hold: \", df['Decision'].value_counts()['HOLD'])"
   ]
  },
  {
   "cell_type": "code",
   "execution_count": 111,
   "id": "e034b9f6-387f-4932-b46b-a495025a23fd",
   "metadata": {},
   "outputs": [
    {
     "name": "stdout",
     "output_type": "stream",
     "text": [
      "Number Missing:  35\n",
      "Number of Buy:  679\n",
      "Number of Sell:  107\n",
      "Number of Hold:  56\n"
     ]
    }
   ],
   "source": [
    "explore_data(df)"
   ]
  },
  {
   "cell_type": "markdown",
   "id": "f173c788-3878-4830-8c27-244a70b29278",
   "metadata": {},
   "source": [
    "#### Deepseek inference 14B model"
   ]
  },
  {
   "cell_type": "code",
   "execution_count": 72,
   "id": "fdfea77a-7dc4-40f3-abd0-3fb4b976de56",
   "metadata": {},
   "outputs": [],
   "source": [
    "# load the data\n",
    "with open('Data/base_deepseek_r2.json', 'rb') as file:\n",
    "    ds = json.load(file)"
   ]
  },
  {
   "cell_type": "code",
   "execution_count": 115,
   "id": "eb279ab1-73a5-475e-8f92-9ce7dbde1178",
   "metadata": {},
   "outputs": [
    {
     "data": {
      "text/plain": [
       "{'security': 'CVX UN Equity',\n",
       " 'date': '2020-05-06',\n",
       " 'response': 'Okay, so I need to figure out whether to buy, sell, or hold this company based on the financial data provided. Let me start by looking at the income statement first. The revenue has been fluctuating a bit. It was 2.9705e+10 last year, but in previous years, it was higher, like 4.0338e+10 two years ago. So, revenue isn\\'t showing a clear upward trend.\\n\\nLooking at the gross profit, it\\'s been inconsistent too. Last year it was 3.45e+09, but two years ago it was negative 8.504e+09. Wait, that\\'s a big swing. Maybe there was some one-time expense or loss then. Gross profit has been positive in the more recent years, which is good, but it\\'s not showing consistent growth. It went from 4.62e+09 to 4.445e+09 to 4.92e+09. Hmm, not a clear trend.\\n\\nOperating income is also fluctuating. Last year it was 2.609e+09, but the year before that, it was negative 1.0003e+10. That\\'s a huge drop. So, the company had a significant loss in t-1. But in the years after that, operating income has been positive and even increasing a bit. So, maybe they\\'ve recovered from that loss.\\n\\nNet income is another key metric. Last year, net income was 3.599e+09, which is positive. But two years ago, it was negative 6.61e+09. So again, a big swing. The company had a bad year in t-1 but has since turned things around. The EPS (Earnings Per Share) is also showing this pattern. Last year, basic EPS was 1.93, which is good, but in t-1, it was negative 3.51. So, the company has improved significantly in terms of profitability in recent years.\\n\\nNow, looking at the balance sheet. Total assets have been around 2.36e+11 to 2.56e+11. Not a lot of growth there. Liabilities are around 9.17e+10 to 1.006e+11. The equity section is around 1.44e+11 to 1.57e+11. So, the company\\'s balance sheet doesn\\'t show any red flags, but it\\'s not growing significantly either.\\n\\nLooking at the historical price data, the stock price peaked at 123.54 in July 2019, but then it started declining. By April 2020, it\\'s down to 80.39. That\\'s a pretty big drop. The price has been quite volatile, which might indicate some uncertainty in the market about the company\\'s performance.\\n\\nPutting this all together, the company had a rough year in t-1 with significant losses, but in the following years, it\\'s showing improved profitability with positive net income and increasing EPS. The revenue is somewhat stable but not growing, and the balance sheet is solid without any major red flags. However, the stock price has been dropping, which could be due to investors reacting to past losses or lack of growth.\\n\\nI\\'m a bit torn. On one hand, the company has recovered financially, with positive earnings and improving margins. On the other hand, the stock price has been falling, which might indicate that investors are concerned about future growth or other factors. The financial recovery is a strong positive, but the stock\\'s decline is a concern.\\n\\nI think the key here is the trend in profitability. The company has shown consistent improvement in net income and EPS over the past few years, which is a good sign. The revenue is stable, which might indicate a mature company, but without growth, it\\'s a bit of a concern. The stock price drop could be a buying opportunity if the company continues to improve, but it\\'s also a risk if the market doesn\\'t see the same potential.\\n\\nSo, considering the improving financials but the recent stock price decline, I\\'m leaning towards a hold decision. The company is on the right track financially, but it\\'s not clear if the stock will rebound or continue to fall. My confidence in this decision is around 75%, because while the financials are positive, the stock price movement is a bit uncertain.\\n</think>\\n\\n```json\\n{\\n  \"decision\": \"HOLD\",\\n  \"confidence score\": 75,\\n  \"reason\": \"The company has shown improved profitability with positive net income and increasing EPS, but the stock price has been volatile and has'}"
      ]
     },
     "execution_count": 115,
     "metadata": {},
     "output_type": "execute_result"
    }
   ],
   "source": [
    "ds[3]"
   ]
  },
  {
   "cell_type": "code",
   "execution_count": 112,
   "id": "db1a2f39-6c6b-453c-8281-f738e7a84170",
   "metadata": {},
   "outputs": [
    {
     "data": {
      "text/html": [
       "<div>\n",
       "<style scoped>\n",
       "    .dataframe tbody tr th:only-of-type {\n",
       "        vertical-align: middle;\n",
       "    }\n",
       "\n",
       "    .dataframe tbody tr th {\n",
       "        vertical-align: top;\n",
       "    }\n",
       "\n",
       "    .dataframe thead th {\n",
       "        text-align: right;\n",
       "    }\n",
       "</style>\n",
       "<table border=\"1\" class=\"dataframe\">\n",
       "  <thead>\n",
       "    <tr style=\"text-align: right;\">\n",
       "      <th></th>\n",
       "      <th>Date</th>\n",
       "      <th>Security</th>\n",
       "      <th>Decision</th>\n",
       "      <th>Confidence</th>\n",
       "    </tr>\n",
       "  </thead>\n",
       "  <tbody>\n",
       "    <tr>\n",
       "      <th>0</th>\n",
       "      <td>2020-05-05</td>\n",
       "      <td>DD UN Equity</td>\n",
       "      <td>SELL</td>\n",
       "      <td>75.0</td>\n",
       "    </tr>\n",
       "    <tr>\n",
       "      <th>1</th>\n",
       "      <td>2020-05-06</td>\n",
       "      <td>XOM UN Equity</td>\n",
       "      <td>SELL</td>\n",
       "      <td>75.0</td>\n",
       "    </tr>\n",
       "    <tr>\n",
       "      <th>2</th>\n",
       "      <td>2020-05-06</td>\n",
       "      <td>UNH UN Equity</td>\n",
       "      <td>SELL</td>\n",
       "      <td>75.0</td>\n",
       "    </tr>\n",
       "    <tr>\n",
       "      <th>3</th>\n",
       "      <td>2020-05-06</td>\n",
       "      <td>CVX UN Equity</td>\n",
       "      <td>HOLD</td>\n",
       "      <td>NaN</td>\n",
       "    </tr>\n",
       "    <tr>\n",
       "      <th>4</th>\n",
       "      <td>2020-05-07</td>\n",
       "      <td>PFE UN Equity</td>\n",
       "      <td>SELL</td>\n",
       "      <td>85.0</td>\n",
       "    </tr>\n",
       "    <tr>\n",
       "      <th>...</th>\n",
       "      <td>...</td>\n",
       "      <td>...</td>\n",
       "      <td>...</td>\n",
       "      <td>...</td>\n",
       "    </tr>\n",
       "    <tr>\n",
       "      <th>891</th>\n",
       "      <td>2025-01-31</td>\n",
       "      <td>XOM UN Equity</td>\n",
       "      <td>SELL</td>\n",
       "      <td>85.0</td>\n",
       "    </tr>\n",
       "    <tr>\n",
       "      <th>892</th>\n",
       "      <td>2025-02-04</td>\n",
       "      <td>PFE UN Equity</td>\n",
       "      <td>HOLD</td>\n",
       "      <td>75.0</td>\n",
       "    </tr>\n",
       "    <tr>\n",
       "      <th>893</th>\n",
       "      <td>2025-02-04</td>\n",
       "      <td>MRK UN Equity</td>\n",
       "      <td>Missing</td>\n",
       "      <td>NaN</td>\n",
       "    </tr>\n",
       "    <tr>\n",
       "      <th>894</th>\n",
       "      <td>2025-02-04</td>\n",
       "      <td>AMGN UW Equity</td>\n",
       "      <td>Missing</td>\n",
       "      <td>NaN</td>\n",
       "    </tr>\n",
       "    <tr>\n",
       "      <th>895</th>\n",
       "      <td>2025-02-04</td>\n",
       "      <td>AMGN UQ Equity</td>\n",
       "      <td>SELL</td>\n",
       "      <td>75.0</td>\n",
       "    </tr>\n",
       "  </tbody>\n",
       "</table>\n",
       "<p>896 rows × 4 columns</p>\n",
       "</div>"
      ],
      "text/plain": [
       "           Date        Security Decision  Confidence\n",
       "0    2020-05-05    DD UN Equity     SELL        75.0\n",
       "1    2020-05-06   XOM UN Equity     SELL        75.0\n",
       "2    2020-05-06   UNH UN Equity     SELL        75.0\n",
       "3    2020-05-06   CVX UN Equity     HOLD         NaN\n",
       "4    2020-05-07   PFE UN Equity     SELL        85.0\n",
       "..          ...             ...      ...         ...\n",
       "891  2025-01-31   XOM UN Equity     SELL        85.0\n",
       "892  2025-02-04   PFE UN Equity     HOLD        75.0\n",
       "893  2025-02-04   MRK UN Equity  Missing         NaN\n",
       "894  2025-02-04  AMGN UW Equity  Missing         NaN\n",
       "895  2025-02-04  AMGN UQ Equity     SELL        75.0\n",
       "\n",
       "[896 rows x 4 columns]"
      ]
     },
     "execution_count": 112,
     "metadata": {},
     "output_type": "execute_result"
    }
   ],
   "source": [
    "s = unpack_to_dataframe(ds)\n",
    "df1 = pd.DataFrame(data=s)\n",
    "df1"
   ]
  },
  {
   "cell_type": "code",
   "execution_count": 113,
   "id": "c629ebe9-084c-4748-a732-e44262604c98",
   "metadata": {},
   "outputs": [
    {
     "name": "stdout",
     "output_type": "stream",
     "text": [
      "Number Missing:  112\n",
      "Number of Buy:  87\n",
      "Number of Sell:  267\n",
      "Number of Hold:  430\n"
     ]
    }
   ],
   "source": [
    "explore_data(df1)"
   ]
  },
  {
   "cell_type": "code",
   "execution_count": null,
   "id": "1f60aeed-474b-47b9-85ea-8ada34c5fbb9",
   "metadata": {},
   "outputs": [],
   "source": []
  }
 ],
 "metadata": {
  "kernelspec": {
   "display_name": "Bloomberg Lab Python 3",
   "language": "python",
   "name": "remote-jupyterpython"
  },
  "language_info": {
   "codemirror_mode": {
    "name": "ipython",
    "version": 3
   },
   "file_extension": ".py",
   "mimetype": "text/x-python",
   "name": "python",
   "nbconvert_exporter": "python",
   "pygments_lexer": "ipython3",
   "version": "3.9.12"
  }
 },
 "nbformat": 4,
 "nbformat_minor": 5
}
