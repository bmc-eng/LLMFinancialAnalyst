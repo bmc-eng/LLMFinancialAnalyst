{
 "cells": [
  {
   "cell_type": "markdown",
   "id": "ccd9fa30-e079-4dad-9642-a3c4e79713ac",
   "metadata": {},
   "source": [
    "# Analysis of the LLM Runs\n",
    "This will use the the event_study file to analyse the performance across the different strategies. The strategies tested in this file are:\n",
    "\n",
    "- Base case (consensus estimates from Wall Street analysts on the sellside)\n",
    "- Llama (zero shot)\n",
    "- Llama (chain of thought)"
   ]
  },
  {
   "cell_type": "code",
   "execution_count": 127,
   "id": "9065ade7-5daf-41bb-80da-c9ad3a127773",
   "metadata": {},
   "outputs": [],
   "source": [
    "import json\n",
    "import pandas as pd\n",
    "import numpy as np\n",
    "import importlib\n",
    "import event_study as es\n",
    "\n",
    "from bloomberg.bquant.signal_lab.workflow.utils import get_sandbox_path\n",
    "from backtest_params import get_analyst_params, get_universe_params\n",
    "\n",
    "import plotly.express as px\n",
    "\n",
    "datapack_path = f\"{get_sandbox_path()}/tmp/fs/datapack\""
   ]
  },
  {
   "cell_type": "code",
   "execution_count": 121,
   "id": "1e7f4f1b-82c7-4906-8403-4b67ce2a09ca",
   "metadata": {},
   "outputs": [
    {
     "data": {
      "text/plain": [
       "<module 'event_study' from '/project/event_study.py'>"
      ]
     },
     "execution_count": 121,
     "metadata": {},
     "output_type": "execute_result"
    }
   ],
   "source": [
    "importlib.reload(es)"
   ]
  },
  {
   "cell_type": "markdown",
   "id": "972ba67c-e31f-4a4f-bb03-b5eeda89bf9f",
   "metadata": {},
   "source": [
    "## Base case\n",
    "\n",
    "This is used as the baseline and is the consensus estimates based on Wall Street sellside analysts. The recommendations are aggregated across a number of analysts. If the rating is 5, this is a strong buy, if the rating is a 1, this is a strong sell. "
   ]
  },
  {
   "cell_type": "code",
   "execution_count": 116,
   "id": "b4992976-7447-42db-8e22-1550b2ada969",
   "metadata": {},
   "outputs": [],
   "source": [
    "# STEP 1: Get the data \n",
    "start = '2019-03-31'\n",
    "end = '2024-12-31'\n",
    "universe_name = 'INDU Index'\n",
    "universe, benchmark, trading_calendar = get_universe_params(start, end, universe_name, datapack_path)\n",
    "analyst_ratings = get_analyst_params(start, end, datapack_path)"
   ]
  },
  {
   "cell_type": "code",
   "execution_count": 117,
   "id": "aafaee7a-c324-4cdc-8222-3d0df6a53f84",
   "metadata": {},
   "outputs": [
    {
     "name": "stderr",
     "output_type": "stream",
     "text": [
      "100%|██████████| 1/1 [00:06<00:00,  6.26s/it]\n"
     ]
    }
   ],
   "source": [
    "analyst_ratings.bind_universe(universe)\n",
    "ratings_df = analyst_ratings.df().ffill()"
   ]
  },
  {
   "cell_type": "code",
   "execution_count": 118,
   "id": "62e7e25b-8899-4e04-96db-ed9c954ee32d",
   "metadata": {},
   "outputs": [],
   "source": [
    "# STEP 2: Convert the recommendations into a list of trades\n",
    "def rating(rating: float) -> int:\n",
    "    if rating > 3.5:\n",
    "        return 1\n",
    "    if rating < 3.0:\n",
    "        return -1\n",
    "    else:\n",
    "        return 0\n",
    "\n",
    "def trade_direction(trade: int) -> str:\n",
    "    if trade == 1:\n",
    "        return \"BUY\"\n",
    "    if trade == -1:\n",
    "        return \"SELL\"\n",
    "    else:\n",
    "        return \"HOLD\"\n",
    "\n",
    "def convert_to_trade_view(df: pd.DataFrame) -> pd.DataFrame:\n",
    "    trade_dfs = []\n",
    "    # loop through each column\n",
    "    for security in ratings_df.columns:\n",
    "        # convert to a numerical buy/ sell/ hold\n",
    "        df[security] = df[security].apply(rating)\n",
    "        diff_df = df[[security]]\n",
    "        diff_df['diff'] = diff_df[security].diff().fillna(1)\n",
    "        # look for where the rating has changed and filter on this date\n",
    "        trade_df = diff_df[diff_df['diff'] != 0]\n",
    "        # change back to BUY/ SELL/ HOLD\n",
    "        trade_df[security] = trade_df[security].apply(trade_direction)\n",
    "        # reformat the dataframe so that it is Date | Security | trade direction\n",
    "        trade_df['Security'] = security\n",
    "        final_df = trade_df.reset_index().rename(columns={security:'Decision', 'DATE':'Date'})[['Date','Security', 'Decision']].reset_index()\n",
    "        trade_dfs.append(final_df)\n",
    "    return pd.concat(trade_dfs)\n",
    "\n",
    "trade_analyst_recommendations = convert_to_trade_view(ratings_df.copy(deep=True))"
   ]
  },
  {
   "cell_type": "code",
   "execution_count": 124,
   "id": "4d3fed6e-4ff1-40ac-aa74-1525b9f0fcb0",
   "metadata": {},
   "outputs": [
    {
     "name": "stderr",
     "output_type": "stream",
     "text": [
      "100%|██████████| 1/1 [00:06<00:00,  6.66s/it]\n",
      "100%|██████████| 117/117 [00:48<00:00,  2.39it/s]\n"
     ]
    }
   ],
   "source": [
    "# STEP 3: Backtest the strategy using the EventBacktester\n",
    "backtest = es.EventBacktest(start=start, \n",
    "                            end=end, \n",
    "                            universe_name=universe_name, \n",
    "                            data_pack_path=datapack_path)\n",
    "results = backtest.run(trade_analyst_recommendations, 'base')"
   ]
  },
  {
   "cell_type": "code",
   "execution_count": 125,
   "id": "0a61a6e8-0ec8-41c6-8f93-1c6f778d9cbb",
   "metadata": {},
   "outputs": [
    {
     "data": {
      "application/vnd.jupyter.widget-view+json": {
       "model_id": "fad6758d04994473bffb47b39ad61aa5",
       "version_major": 2,
       "version_minor": 0
      },
      "text/plain": [
       "HBox(children=(VBox(children=(Image(value=b'GIF89a\\xd7\\x00\\x14\\x00\\xf4\\x00\\x00\\xff\\xff\\xff\\xf7\\xf7\\xf7\\xf3\\xf3…"
      ]
     },
     "metadata": {},
     "output_type": "display_data"
    },
    {
     "data": {
      "application/vnd.jupyter.widget-view+json": {
       "model_id": "a09fcae845be46ee9bdcb83650c65393",
       "version_major": 2,
       "version_minor": 0
      },
      "text/plain": [
       "VBox(children=(HTML(value='<h2>Backtest Analytics Dashboard</h2>'), Label(value=\"Benchmark: IndexWeights['INDU…"
      ]
     },
     "metadata": {},
     "output_type": "display_data"
    }
   ],
   "source": [
    "results.plot_analytics()"
   ]
  },
  {
   "cell_type": "code",
   "execution_count": 126,
   "id": "0ee15497-906e-4fc9-9cc7-9899ba530a1f",
   "metadata": {},
   "outputs": [
    {
     "data": {
      "text/plain": [
       "(            Cum. Return (Gross)  Cum. Return (Net)  Cum. T-Cost\n",
       " DATE                                                           \n",
       " 2019-04-01             0.000000           0.000000         -0.0\n",
       " 2019-04-02             0.000000           0.000000         -0.0\n",
       " 2019-04-03             0.004898           0.004898         -0.0\n",
       " 2019-04-04             0.009748           0.009748         -0.0\n",
       " 2019-04-05             0.012150           0.012150         -0.0\n",
       " ...                         ...                ...          ...\n",
       " 2024-12-24             1.300625           1.300625         -0.0\n",
       " 2024-12-26             1.273881           1.273881         -0.0\n",
       " 2024-12-27             1.273848           1.273848         -0.0\n",
       " 2024-12-30             1.294193           1.294193         -0.0\n",
       " 2024-12-31             1.286551           1.286551         -0.0\n",
       " \n",
       " [1448 rows x 3 columns],\n",
       "             Cum. Return (Gross)  Cum. Return (Net)  Cum. T-Cost\n",
       " DATE                                                           \n",
       " 2019-04-01             0.000000           0.000000         -0.0\n",
       " 2019-04-02            -0.003766          -0.003766         -0.0\n",
       " 2019-04-03            -0.002276          -0.002276         -0.0\n",
       " 2019-04-04             0.004473           0.004473         -0.0\n",
       " 2019-04-05             0.006002           0.006002         -0.0\n",
       " ...                         ...                ...          ...\n",
       " 2024-12-24             0.737906           0.737906         -0.0\n",
       " 2024-12-26             0.738570           0.738570         -0.0\n",
       " 2024-12-27             0.730871           0.730871         -0.0\n",
       " 2024-12-30             0.721137           0.721137         -0.0\n",
       " 2024-12-31             0.720444           0.720444         -0.0\n",
       " \n",
       " [1448 rows x 3 columns])"
      ]
     },
     "execution_count": 126,
     "metadata": {},
     "output_type": "execute_result"
    }
   ],
   "source": [
    "backtest.get_return_data()"
   ]
  },
  {
   "cell_type": "code",
   "execution_count": null,
   "id": "c989096f-503c-46a3-bf3b-1f15fd41090d",
   "metadata": {},
   "outputs": [],
   "source": []
  },
  {
   "cell_type": "code",
   "execution_count": null,
   "id": "3622101e-0b9b-4e82-8252-908dd90bd1cc",
   "metadata": {},
   "outputs": [],
   "source": []
  },
  {
   "cell_type": "code",
   "execution_count": null,
   "id": "05bc1504-f367-4f08-889c-cf915fa2cdf7",
   "metadata": {},
   "outputs": [],
   "source": []
  },
  {
   "cell_type": "code",
   "execution_count": null,
   "id": "2e26323e-5545-4385-b449-015c986ce616",
   "metadata": {},
   "outputs": [],
   "source": []
  },
  {
   "cell_type": "code",
   "execution_count": null,
   "id": "85c295cd-252a-4706-90e5-71bb25232021",
   "metadata": {},
   "outputs": [],
   "source": []
  },
  {
   "cell_type": "code",
   "execution_count": null,
   "id": "a1c97e95-4701-4275-a371-eabb343a8cc8",
   "metadata": {},
   "outputs": [],
   "source": []
  },
  {
   "cell_type": "code",
   "execution_count": null,
   "id": "a3e57936-88e1-4c07-9742-698660ac8f30",
   "metadata": {},
   "outputs": [],
   "source": []
  },
  {
   "cell_type": "code",
   "execution_count": null,
   "id": "c69a0b20-e696-4b0c-9f6f-2f1dccccf1e6",
   "metadata": {},
   "outputs": [],
   "source": []
  },
  {
   "cell_type": "code",
   "execution_count": null,
   "id": "7ca0a1f8-1c40-4c83-8075-56be4ad2fc4c",
   "metadata": {},
   "outputs": [],
   "source": []
  },
  {
   "cell_type": "code",
   "execution_count": null,
   "id": "783eac71-713b-4732-8587-e7d1b68cb086",
   "metadata": {},
   "outputs": [],
   "source": []
  },
  {
   "cell_type": "markdown",
   "id": "24c9e285-a22c-4a9e-81df-00d858005e63",
   "metadata": {},
   "source": [
    "#### Llama inference task"
   ]
  },
  {
   "cell_type": "code",
   "execution_count": 3,
   "id": "f201a5cf-9733-4d6e-a0cb-d59b5641b47c",
   "metadata": {},
   "outputs": [
    {
     "data": {
      "text/plain": [
       "'meta-llama/Llama-3.2-3B-Instruct'"
      ]
     },
     "execution_count": 3,
     "metadata": {},
     "output_type": "execute_result"
    }
   ],
   "source": [
    "# load the data\n",
    "with open('Results/results - 2025-02-23 13:59:33.728956.json', 'rb') as file:\n",
    "    base = json.load(file)\n",
    "    \n",
    "base['model']"
   ]
  },
  {
   "cell_type": "code",
   "execution_count": 4,
   "id": "4acb8c67-29e3-48d3-ad42-80f620b2cf8b",
   "metadata": {},
   "outputs": [],
   "source": [
    "results = base['results']"
   ]
  },
  {
   "cell_type": "code",
   "execution_count": 11,
   "id": "efb69400-a94c-4653-802c-35e3a9424268",
   "metadata": {},
   "outputs": [
    {
     "data": {
      "text/plain": [
       "{'date': '2020-02-06',\n",
       " 'security': 'MMM UN Equity',\n",
       " 'response': {'decision': 'BUY',\n",
       "  'confidence score': 70,\n",
       "  'reason': \"Despite a decline in revenue, the company has shown a consistent increase in gross profit over the past few years, which indicates a potential for growth. Additionally, the company's debt-to-equity ratio is relatively low, indicating a healthy financial position. However, the stock price has been volatile in recent months, which may be a concern.\",\n",
       "  'AdditionalContext': \"Here is the analysis of the company's financial statements:I have computed the following financial ratios:* Debt-to-Equity Ratio: 0.34 (2020-02-06)* Interest Coverage Ratio: 13.44 (2020-02-06)* Return on Equity (ROE): 14.15% (2020-02-06)* Return on Assets (ROA): 8.55% (2020-02-06)These ratios suggest that the company is in a relatively healthy financial position, but the volatile stock price and declining revenue are concerns. The decision to buy is based on the potential for growth indicated by the increasing gross profit and the low debt-to-equity ratio. However, the confidence score is lower due to the volatility in the stock price and the decline in revenue.\"}}"
      ]
     },
     "execution_count": 11,
     "metadata": {},
     "output_type": "execute_result"
    }
   ],
   "source": [
    "results[0]"
   ]
  },
  {
   "cell_type": "code",
   "execution_count": 86,
   "id": "f459a9b9-56af-494a-a89f-7d14cf30585b",
   "metadata": {},
   "outputs": [
    {
     "data": {
      "text/plain": [
       "1321"
      ]
     },
     "execution_count": 86,
     "metadata": {},
     "output_type": "execute_result"
    }
   ],
   "source": [
    "response = base[0]['response']\n",
    "response.find('HOLD')"
   ]
  },
  {
   "cell_type": "code",
   "execution_count": 23,
   "id": "113c0808-badc-4a93-bafd-927dce16585d",
   "metadata": {},
   "outputs": [],
   "source": [
    "def unpack_to_dataframe(data):\n",
    "    date = []\n",
    "    sec = []\n",
    "    decision = []\n",
    "    confidence = []\n",
    "    \n",
    "    for result in data:\n",
    "        try:\n",
    "            date.append(result['date'])\n",
    "            sec.append(result['security'])\n",
    "            response = result['response']\n",
    "            try:\n",
    "                decision.append(response['decision'])\n",
    "                confidence.append(response['confidence score'])\n",
    "            except:\n",
    "                try:\n",
    "                    #response = result['response']\n",
    "\n",
    "                    isBuy = False\n",
    "                    isSell = False\n",
    "                    isHold = False\n",
    "\n",
    "                    if response.find('BUY') != -1:\n",
    "                        isBuy = True\n",
    "                    if response.find(\"SELL\") != -1:\n",
    "                        isSell = True\n",
    "                    if response.find(\"HOLD\") != -1:\n",
    "                        isHold = True\n",
    "\n",
    "                    if isBuy and not(isSell or isHold):\n",
    "                        decision.append('BUY')\n",
    "                        confidence.append(np.nan)\n",
    "                        continue\n",
    "                    if isSell and not(isBuy or isHold):\n",
    "                        decision.append('SELL')\n",
    "                        confidence.append(np.nan)\n",
    "                        continue\n",
    "                    if isHold and not(isBuy or isSell):\n",
    "                        decision.append('HOLD')\n",
    "                        confidence.append(np.nan)\n",
    "                        continue\n",
    "\n",
    "                    decision.append('Missing')\n",
    "                    confidence.append(np.nan)\n",
    "                except:\n",
    "                    decision.append('Missing')\n",
    "                    confidence.append(np.nan)\n",
    "        except:\n",
    "            print('Missing date')\n",
    "        \n",
    "        \n",
    "        \n",
    "    return {'Date': date, 'Security': sec, 'Decision': decision, 'Confidence': confidence}\n",
    "        \n",
    "            "
   ]
  },
  {
   "cell_type": "code",
   "execution_count": 24,
   "id": "df291729-c65e-428a-b029-9fd5e731da2e",
   "metadata": {},
   "outputs": [],
   "source": [
    "s = unpack_to_dataframe(results)"
   ]
  },
  {
   "cell_type": "code",
   "execution_count": 31,
   "id": "513b4fec-17f4-4481-9520-a823ec410924",
   "metadata": {},
   "outputs": [
    {
     "data": {
      "text/plain": [
       "'BUY'"
      ]
     },
     "execution_count": 31,
     "metadata": {},
     "output_type": "execute_result"
    }
   ],
   "source": [
    "s['Decision'][3]"
   ]
  },
  {
   "cell_type": "code",
   "execution_count": 32,
   "id": "53b06b5e-b0ec-4d14-be20-39c0117f14c5",
   "metadata": {},
   "outputs": [],
   "source": [
    "df = pd.DataFrame(data=s)\n",
    "df.to_csv('test_analysis.csv')"
   ]
  },
  {
   "cell_type": "code",
   "execution_count": 27,
   "id": "32c6dda6-abb2-4832-9f82-ccce2bc8857f",
   "metadata": {},
   "outputs": [],
   "source": [
    "\n",
    "def explore_data(df):\n",
    "    print(\"Number Missing: \", df['Decision'].value_counts()['Missing'])\n",
    "    print(\"Number of Buy: \", df['Decision'].value_counts()['BUY'])\n",
    "    print(\"Number of Sell: \", df['Decision'].value_counts()['SELL'])\n",
    "    print(\"Number of Hold: \", df['Decision'].value_counts()['HOLD'])"
   ]
  },
  {
   "cell_type": "code",
   "execution_count": 28,
   "id": "e034b9f6-387f-4932-b46b-a495025a23fd",
   "metadata": {},
   "outputs": [
    {
     "name": "stdout",
     "output_type": "stream",
     "text": [
      "Number Missing:  7\n",
      "Number of Buy:  863\n",
      "Number of Sell:  13\n",
      "Number of Hold:  13\n"
     ]
    }
   ],
   "source": [
    "explore_data(df)"
   ]
  },
  {
   "cell_type": "markdown",
   "id": "f173c788-3878-4830-8c27-244a70b29278",
   "metadata": {},
   "source": [
    "#### Deepseek inference 14B model"
   ]
  },
  {
   "cell_type": "code",
   "execution_count": 72,
   "id": "fdfea77a-7dc4-40f3-abd0-3fb4b976de56",
   "metadata": {},
   "outputs": [],
   "source": [
    "# load the data\n",
    "with open('Data/base_deepseek_r2.json', 'rb') as file:\n",
    "    ds = json.load(file)"
   ]
  },
  {
   "cell_type": "code",
   "execution_count": 115,
   "id": "eb279ab1-73a5-475e-8f92-9ce7dbde1178",
   "metadata": {},
   "outputs": [
    {
     "data": {
      "text/plain": [
       "{'security': 'CVX UN Equity',\n",
       " 'date': '2020-05-06',\n",
       " 'response': 'Okay, so I need to figure out whether to buy, sell, or hold this company based on the financial data provided. Let me start by looking at the income statement first. The revenue has been fluctuating a bit. It was 2.9705e+10 last year, but in previous years, it was higher, like 4.0338e+10 two years ago. So, revenue isn\\'t showing a clear upward trend.\\n\\nLooking at the gross profit, it\\'s been inconsistent too. Last year it was 3.45e+09, but two years ago it was negative 8.504e+09. Wait, that\\'s a big swing. Maybe there was some one-time expense or loss then. Gross profit has been positive in the more recent years, which is good, but it\\'s not showing consistent growth. It went from 4.62e+09 to 4.445e+09 to 4.92e+09. Hmm, not a clear trend.\\n\\nOperating income is also fluctuating. Last year it was 2.609e+09, but the year before that, it was negative 1.0003e+10. That\\'s a huge drop. So, the company had a significant loss in t-1. But in the years after that, operating income has been positive and even increasing a bit. So, maybe they\\'ve recovered from that loss.\\n\\nNet income is another key metric. Last year, net income was 3.599e+09, which is positive. But two years ago, it was negative 6.61e+09. So again, a big swing. The company had a bad year in t-1 but has since turned things around. The EPS (Earnings Per Share) is also showing this pattern. Last year, basic EPS was 1.93, which is good, but in t-1, it was negative 3.51. So, the company has improved significantly in terms of profitability in recent years.\\n\\nNow, looking at the balance sheet. Total assets have been around 2.36e+11 to 2.56e+11. Not a lot of growth there. Liabilities are around 9.17e+10 to 1.006e+11. The equity section is around 1.44e+11 to 1.57e+11. So, the company\\'s balance sheet doesn\\'t show any red flags, but it\\'s not growing significantly either.\\n\\nLooking at the historical price data, the stock price peaked at 123.54 in July 2019, but then it started declining. By April 2020, it\\'s down to 80.39. That\\'s a pretty big drop. The price has been quite volatile, which might indicate some uncertainty in the market about the company\\'s performance.\\n\\nPutting this all together, the company had a rough year in t-1 with significant losses, but in the following years, it\\'s showing improved profitability with positive net income and increasing EPS. The revenue is somewhat stable but not growing, and the balance sheet is solid without any major red flags. However, the stock price has been dropping, which could be due to investors reacting to past losses or lack of growth.\\n\\nI\\'m a bit torn. On one hand, the company has recovered financially, with positive earnings and improving margins. On the other hand, the stock price has been falling, which might indicate that investors are concerned about future growth or other factors. The financial recovery is a strong positive, but the stock\\'s decline is a concern.\\n\\nI think the key here is the trend in profitability. The company has shown consistent improvement in net income and EPS over the past few years, which is a good sign. The revenue is stable, which might indicate a mature company, but without growth, it\\'s a bit of a concern. The stock price drop could be a buying opportunity if the company continues to improve, but it\\'s also a risk if the market doesn\\'t see the same potential.\\n\\nSo, considering the improving financials but the recent stock price decline, I\\'m leaning towards a hold decision. The company is on the right track financially, but it\\'s not clear if the stock will rebound or continue to fall. My confidence in this decision is around 75%, because while the financials are positive, the stock price movement is a bit uncertain.\\n</think>\\n\\n```json\\n{\\n  \"decision\": \"HOLD\",\\n  \"confidence score\": 75,\\n  \"reason\": \"The company has shown improved profitability with positive net income and increasing EPS, but the stock price has been volatile and has'}"
      ]
     },
     "execution_count": 115,
     "metadata": {},
     "output_type": "execute_result"
    }
   ],
   "source": [
    "ds[3]"
   ]
  },
  {
   "cell_type": "code",
   "execution_count": 112,
   "id": "db1a2f39-6c6b-453c-8281-f738e7a84170",
   "metadata": {},
   "outputs": [
    {
     "data": {
      "text/html": [
       "<div>\n",
       "<style scoped>\n",
       "    .dataframe tbody tr th:only-of-type {\n",
       "        vertical-align: middle;\n",
       "    }\n",
       "\n",
       "    .dataframe tbody tr th {\n",
       "        vertical-align: top;\n",
       "    }\n",
       "\n",
       "    .dataframe thead th {\n",
       "        text-align: right;\n",
       "    }\n",
       "</style>\n",
       "<table border=\"1\" class=\"dataframe\">\n",
       "  <thead>\n",
       "    <tr style=\"text-align: right;\">\n",
       "      <th></th>\n",
       "      <th>Date</th>\n",
       "      <th>Security</th>\n",
       "      <th>Decision</th>\n",
       "      <th>Confidence</th>\n",
       "    </tr>\n",
       "  </thead>\n",
       "  <tbody>\n",
       "    <tr>\n",
       "      <th>0</th>\n",
       "      <td>2020-05-05</td>\n",
       "      <td>DD UN Equity</td>\n",
       "      <td>SELL</td>\n",
       "      <td>75.0</td>\n",
       "    </tr>\n",
       "    <tr>\n",
       "      <th>1</th>\n",
       "      <td>2020-05-06</td>\n",
       "      <td>XOM UN Equity</td>\n",
       "      <td>SELL</td>\n",
       "      <td>75.0</td>\n",
       "    </tr>\n",
       "    <tr>\n",
       "      <th>2</th>\n",
       "      <td>2020-05-06</td>\n",
       "      <td>UNH UN Equity</td>\n",
       "      <td>SELL</td>\n",
       "      <td>75.0</td>\n",
       "    </tr>\n",
       "    <tr>\n",
       "      <th>3</th>\n",
       "      <td>2020-05-06</td>\n",
       "      <td>CVX UN Equity</td>\n",
       "      <td>HOLD</td>\n",
       "      <td>NaN</td>\n",
       "    </tr>\n",
       "    <tr>\n",
       "      <th>4</th>\n",
       "      <td>2020-05-07</td>\n",
       "      <td>PFE UN Equity</td>\n",
       "      <td>SELL</td>\n",
       "      <td>85.0</td>\n",
       "    </tr>\n",
       "    <tr>\n",
       "      <th>...</th>\n",
       "      <td>...</td>\n",
       "      <td>...</td>\n",
       "      <td>...</td>\n",
       "      <td>...</td>\n",
       "    </tr>\n",
       "    <tr>\n",
       "      <th>891</th>\n",
       "      <td>2025-01-31</td>\n",
       "      <td>XOM UN Equity</td>\n",
       "      <td>SELL</td>\n",
       "      <td>85.0</td>\n",
       "    </tr>\n",
       "    <tr>\n",
       "      <th>892</th>\n",
       "      <td>2025-02-04</td>\n",
       "      <td>PFE UN Equity</td>\n",
       "      <td>HOLD</td>\n",
       "      <td>75.0</td>\n",
       "    </tr>\n",
       "    <tr>\n",
       "      <th>893</th>\n",
       "      <td>2025-02-04</td>\n",
       "      <td>MRK UN Equity</td>\n",
       "      <td>Missing</td>\n",
       "      <td>NaN</td>\n",
       "    </tr>\n",
       "    <tr>\n",
       "      <th>894</th>\n",
       "      <td>2025-02-04</td>\n",
       "      <td>AMGN UW Equity</td>\n",
       "      <td>Missing</td>\n",
       "      <td>NaN</td>\n",
       "    </tr>\n",
       "    <tr>\n",
       "      <th>895</th>\n",
       "      <td>2025-02-04</td>\n",
       "      <td>AMGN UQ Equity</td>\n",
       "      <td>SELL</td>\n",
       "      <td>75.0</td>\n",
       "    </tr>\n",
       "  </tbody>\n",
       "</table>\n",
       "<p>896 rows × 4 columns</p>\n",
       "</div>"
      ],
      "text/plain": [
       "           Date        Security Decision  Confidence\n",
       "0    2020-05-05    DD UN Equity     SELL        75.0\n",
       "1    2020-05-06   XOM UN Equity     SELL        75.0\n",
       "2    2020-05-06   UNH UN Equity     SELL        75.0\n",
       "3    2020-05-06   CVX UN Equity     HOLD         NaN\n",
       "4    2020-05-07   PFE UN Equity     SELL        85.0\n",
       "..          ...             ...      ...         ...\n",
       "891  2025-01-31   XOM UN Equity     SELL        85.0\n",
       "892  2025-02-04   PFE UN Equity     HOLD        75.0\n",
       "893  2025-02-04   MRK UN Equity  Missing         NaN\n",
       "894  2025-02-04  AMGN UW Equity  Missing         NaN\n",
       "895  2025-02-04  AMGN UQ Equity     SELL        75.0\n",
       "\n",
       "[896 rows x 4 columns]"
      ]
     },
     "execution_count": 112,
     "metadata": {},
     "output_type": "execute_result"
    }
   ],
   "source": [
    "s = unpack_to_dataframe(ds)\n",
    "df1 = pd.DataFrame(data=s)\n",
    "df1"
   ]
  },
  {
   "cell_type": "code",
   "execution_count": 113,
   "id": "c629ebe9-084c-4748-a732-e44262604c98",
   "metadata": {},
   "outputs": [
    {
     "name": "stdout",
     "output_type": "stream",
     "text": [
      "Number Missing:  112\n",
      "Number of Buy:  87\n",
      "Number of Sell:  267\n",
      "Number of Hold:  430\n"
     ]
    }
   ],
   "source": [
    "explore_data(df1)"
   ]
  },
  {
   "cell_type": "code",
   "execution_count": null,
   "id": "1f60aeed-474b-47b9-85ea-8ada34c5fbb9",
   "metadata": {},
   "outputs": [],
   "source": []
  }
 ],
 "metadata": {
  "kernelspec": {
   "display_name": "Bloomberg Lab Python 3",
   "language": "python",
   "name": "user-python"
  },
  "language_info": {
   "codemirror_mode": {
    "name": "ipython",
    "version": 3
   },
   "file_extension": ".py",
   "mimetype": "text/x-python",
   "name": "python",
   "nbconvert_exporter": "python",
   "pygments_lexer": "ipython3",
   "version": "3.9.12"
  }
 },
 "nbformat": 4,
 "nbformat_minor": 5
}
