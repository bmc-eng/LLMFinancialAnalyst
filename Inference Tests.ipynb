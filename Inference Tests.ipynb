{
 "cells": [
  {
   "cell_type": "code",
   "execution_count": 4,
   "id": "d33e342b-edf8-4ce9-8a44-759d241f1fba",
   "metadata": {},
   "outputs": [],
   "source": [
    "import modelinference\n",
    "import prompts\n",
    "import importlib\n",
    "import datetime\n",
    "import torch\n",
    "from huggingface_hub import login\n",
    "import utils.modelHelper as mh\n",
    "\n",
    "\n",
    "from accelerate import Accelerator, notebook_launcher"
   ]
  },
  {
   "cell_type": "code",
   "execution_count": 12,
   "id": "1dcf2505-c7f9-440e-91f1-323f2922817a",
   "metadata": {},
   "outputs": [
    {
     "data": {
      "text/plain": [
       "<module 'modelinference' from '/project/modelinference.py'>"
      ]
     },
     "execution_count": 12,
     "metadata": {},
     "output_type": "execute_result"
    }
   ],
   "source": [
    "importlib.reload(modelinference)"
   ]
  },
  {
   "cell_type": "code",
   "execution_count": 6,
   "id": "8a89aad1-f53b-4d47-840c-5d6c0556f0c8",
   "metadata": {},
   "outputs": [],
   "source": [
    "# Log into Huggingface\n",
    "\n",
    "with open('pass.txt') as p:\n",
    "    hf_login = p.read()\n",
    "    \n",
    "hf_login = hf_login[hf_login.find('=')+1:hf_login.find('\\n')]\n",
    "login(hf_login, add_to_git_credential=False)"
   ]
  },
  {
   "cell_type": "code",
   "execution_count": 7,
   "id": "5dba1319-9b03-4b71-8e6b-d568d11f233d",
   "metadata": {},
   "outputs": [
    {
     "data": {
      "text/plain": [
       "4"
      ]
     },
     "execution_count": 7,
     "metadata": {},
     "output_type": "execute_result"
    }
   ],
   "source": [
    "torch.cuda.device_count()"
   ]
  },
  {
   "cell_type": "code",
   "execution_count": 8,
   "id": "3b1ac792-d286-4374-977e-a9ae6a0a352b",
   "metadata": {},
   "outputs": [],
   "source": [
    "\n",
    "run_config = {\n",
    "    'model_hf_id': 'deepseek-ai/DeepSeek-R1-Distill-Qwen-14B',\n",
    "    'model_s3_loc': 'deepseek14Q',\n",
    "    'model_reload': False,\n",
    "    'model_quant': None,\n",
    "    'system_prompt': prompts.SYSTEM_PROMPTS['CoT'],\n",
    "    'multi-gpu':True,\n",
    "    'dataset': 'data_annual_pit_spx',\n",
    "    'data_location': 'data_annual_pit_spx.json'\n",
    "}\n",
    "\n",
    "run_config = {\n",
    "    'model_hf_id': 'Qwen/Qwen2.5-7B-Instruct',\n",
    "    'model_s3_loc': 'qwen',\n",
    "    'model_reload': False,\n",
    "    'model_quant': None,\n",
    "    'system_prompt': prompts.SYSTEM_PROMPTS['BASE'],\n",
    "    'multi-gpu':True,\n",
    "    'dataset': 'data_quarterly_pit_indu',\n",
    "    'data_location': 'data_quarterly_pit_indu.json'\n",
    "}\n",
    "\n",
    "run_config = {\n",
    "    'model_hf_id': 'meta-llama/Llama-3.2-3B-Instruct',\n",
    "    'model_s3_loc': 'llama',\n",
    "    'model_reload': False,\n",
    "    'model_quant': None,\n",
    "    'system_prompt': prompts.SYSTEM_PROMPTS['BASE'],\n",
    "    'multi-gpu':True,\n",
    "    'dataset': 'data_quarterly_pit_indu',\n",
    "    'data_location': 'data_quarterly_pit_indu.json'\n",
    "}\n",
    "\n",
    "\n",
    "\n",
    "\n",
    "run_name = f\"{run_config['model_s3_loc']}_{run_config['dataset']}\""
   ]
  },
  {
   "cell_type": "code",
   "execution_count": 14,
   "id": "fe94d167-f17d-4a2e-be69-db2210d4bd4c",
   "metadata": {},
   "outputs": [],
   "source": [
    "ir = modelinference.InferenceRun(run_name, run_config)"
   ]
  },
  {
   "cell_type": "code",
   "execution_count": 15,
   "id": "0a0f3e83-e637-4d70-88a8-39b5a2d6e734",
   "metadata": {},
   "outputs": [
    {
     "name": "stdout",
     "output_type": "stream",
     "text": [
      "Launching training on 4 GPUs.\n",
      "llama\n",
      "llama\n",
      "llama\n",
      "llama\n"
     ]
    },
    {
     "data": {
      "application/vnd.jupyter.widget-view+json": {
       "model_id": "9b7d12fe3f2649e5885f9edaef7536e3",
       "version_major": 2,
       "version_minor": 0
      },
      "text/plain": [
       "Loading checkpoint shards:   0%|          | 0/2 [00:00<?, ?it/s]"
      ]
     },
     "metadata": {},
     "output_type": "display_data"
    },
    {
     "data": {
      "application/vnd.jupyter.widget-view+json": {
       "model_id": "da28f69f1f564f579524fcd509e390e0",
       "version_major": 2,
       "version_minor": 0
      },
      "text/plain": [
       "Loading checkpoint shards:   0%|          | 0/2 [00:00<?, ?it/s]"
      ]
     },
     "metadata": {},
     "output_type": "display_data"
    },
    {
     "data": {
      "application/vnd.jupyter.widget-view+json": {
       "model_id": "da8c90f3c4064fc397fff2c3448c38bc",
       "version_major": 2,
       "version_minor": 0
      },
      "text/plain": [
       "Loading checkpoint shards:   0%|          | 0/2 [00:00<?, ?it/s]"
      ]
     },
     "metadata": {},
     "output_type": "display_data"
    },
    {
     "data": {
      "application/vnd.jupyter.widget-view+json": {
       "model_id": "3b51f6ee4b464c90bc034be227c26b89",
       "version_major": 2,
       "version_minor": 0
      },
      "text/plain": [
       "Loading checkpoint shards:   0%|          | 0/2 [00:00<?, ?it/s]"
      ]
     },
     "metadata": {},
     "output_type": "display_data"
    },
    {
     "name": "stdout",
     "output_type": "stream",
     "text": [
      "Waiting...\n",
      "Waiting...\n",
      "Waiting...\n"
     ]
    },
    {
     "name": "stderr",
     "output_type": "stream",
     "text": [
      "  0%|          | 0/8 [00:00<?, ?it/s]"
     ]
    },
    {
     "name": "stdout",
     "output_type": "stream",
     "text": [
      "Memory footprint: 6.4 GB\n",
      "Waiting...\n",
      "starting backtest...starting backtest...\n",
      "\n",
      "starting backtest...\n",
      "starting backtest...\n"
     ]
    },
    {
     "name": "stderr",
     "output_type": "stream",
     "text": [
      "100%|██████████| 8/8 [00:23<00:00,  3.14s/it]"
     ]
    },
    {
     "name": "stdout",
     "output_type": "stream",
     "text": [
      "Gathered results...Gathered results...Gathered results...Gathered results...\n",
      "\n",
      "\n",
      "\n",
      "Finished run in 0:00:23.944181\n",
      "Called Save run\n",
      "called log\n",
      "Saved bclarke16/tmp/fs/logs/Results_llama_data_quarterly_pit_indu.json\n",
      "Run Completed!\n"
     ]
    },
    {
     "name": "stderr",
     "output_type": "stream",
     "text": [
      "100%|██████████| 8/8 [00:24<00:00,  3.02s/it]\n",
      "[2025-02-23 13:21:35,968] torch.distributed.elastic.multiprocessing.api: [WARNING] Closing process 8117 via signal SIGTERM\n",
      "[2025-02-23 13:21:35,969] torch.distributed.elastic.multiprocessing.api: [WARNING] Closing process 8118 via signal SIGTERM\n",
      "[2025-02-23 13:21:35,970] torch.distributed.elastic.multiprocessing.api: [WARNING] Closing process 8119 via signal SIGTERM\n"
     ]
    }
   ],
   "source": [
    "notebook_launcher(ir.run_multi_gpu, num_processes=torch.cuda.device_count())"
   ]
  },
  {
   "cell_type": "code",
   "execution_count": null,
   "id": "62376bf8-8749-4fb6-a7d4-08371db294e4",
   "metadata": {},
   "outputs": [],
   "source": []
  },
  {
   "cell_type": "code",
   "execution_count": null,
   "id": "4576747c-8ad9-4e22-8bb9-bd453af4cac2",
   "metadata": {},
   "outputs": [],
   "source": []
  },
  {
   "cell_type": "code",
   "execution_count": null,
   "id": "637e0166-68c7-475c-8866-a8df5b297292",
   "metadata": {},
   "outputs": [],
   "source": []
  },
  {
   "cell_type": "code",
   "execution_count": null,
   "id": "b03dc716-b772-49fc-8b42-4f0ecf2fbfe6",
   "metadata": {},
   "outputs": [],
   "source": []
  },
  {
   "cell_type": "code",
   "execution_count": null,
   "id": "9642caf9-5b73-4fb8-b32f-19717c4ca374",
   "metadata": {},
   "outputs": [],
   "source": []
  },
  {
   "cell_type": "code",
   "execution_count": null,
   "id": "fbb455d3-7150-455d-99d8-8c72b787f33b",
   "metadata": {},
   "outputs": [],
   "source": []
  },
  {
   "cell_type": "code",
   "execution_count": null,
   "id": "2ef28887-fe90-4d2d-b069-8a425e5d9a97",
   "metadata": {},
   "outputs": [],
   "source": []
  },
  {
   "cell_type": "code",
   "execution_count": null,
   "id": "8f54ebba-0ee4-40a4-a92c-74a1f882d380",
   "metadata": {},
   "outputs": [],
   "source": []
  },
  {
   "cell_type": "code",
   "execution_count": 8,
   "id": "cf4d6235-af59-4924-b54b-72ad749bd686",
   "metadata": {},
   "outputs": [],
   "source": [
    "ir = modelinference.InferenceRun(run_name, run_config)"
   ]
  },
  {
   "cell_type": "code",
   "execution_count": 13,
   "id": "7925f016-9392-4142-a9ec-a6872af1bae7",
   "metadata": {},
   "outputs": [
    {
     "name": "stdout",
     "output_type": "stream",
     "text": [
      "Requesting all datasets...\n",
      "Saving data...\n"
     ]
    }
   ],
   "source": [
    "p1 = ir.create_all_prompts(True)"
   ]
  },
  {
   "cell_type": "code",
   "execution_count": 11,
   "id": "14fd8453-b388-488c-b553-aaff3333ea23",
   "metadata": {},
   "outputs": [
    {
     "data": {
      "text/plain": [
       "896"
      ]
     },
     "execution_count": 11,
     "metadata": {},
     "output_type": "execute_result"
    }
   ],
   "source": [
    "len(p1)"
   ]
  },
  {
   "cell_type": "code",
   "execution_count": 11,
   "id": "ff153540-48a0-4059-acf8-bae25ca9dd78",
   "metadata": {},
   "outputs": [
    {
     "name": "stdout",
     "output_type": "stream",
     "text": [
      "llama\n"
     ]
    },
    {
     "data": {
      "application/vnd.jupyter.widget-view+json": {
       "model_id": "099b7234da384904adfdab4ae420d9b0",
       "version_major": 2,
       "version_minor": 0
      },
      "text/plain": [
       "Loading checkpoint shards:   0%|          | 0/2 [00:00<?, ?it/s]"
      ]
     },
     "metadata": {},
     "output_type": "display_data"
    }
   ],
   "source": [
    "model = ir.load_model_from_storage(ir.model_s3_loc)"
   ]
  },
  {
   "cell_type": "code",
   "execution_count": 23,
   "id": "dfcdf6bf-07d3-4fb0-87de-034e94e92a0f",
   "metadata": {},
   "outputs": [],
   "source": [
    "from transformers import AutoTokenizer"
   ]
  },
  {
   "cell_type": "code",
   "execution_count": 24,
   "id": "cdf599ad-b6de-4a30-b48a-7c30a97ce88b",
   "metadata": {},
   "outputs": [],
   "source": [
    "tokenizer = AutoTokenizer.from_pretrained(ir.model_hf_id)"
   ]
  },
  {
   "cell_type": "code",
   "execution_count": 28,
   "id": "7a9cff15-9c86-48fd-be61-10bd0d160f83",
   "metadata": {},
   "outputs": [
    {
     "name": "stdout",
     "output_type": "stream",
     "text": [
      "running model...\n"
     ]
    }
   ],
   "source": [
    "output_result = ir.run_model(p1[0]['prompt'],tokenizer,model)"
   ]
  },
  {
   "cell_type": "code",
   "execution_count": 18,
   "id": "f86f4a03-2196-434b-b5a1-22f2435f9066",
   "metadata": {},
   "outputs": [],
   "source": [
    "output_result = \"Based on the provided income statement and balance sheet data, I have computed the following financial ratios:\\n\\n1. Current Ratio: \\n   Current Ratio = Current Assets / Current Liabilities\\n   = 9.222000e+09 / 9.222000e+09 = 1\\n\\n2. Debt-to-Equity Ratio: \\n   Debt-to-Equity Ratio = Total Liabilities / Total Equity\\n   = 3.453300e+10 / 1.012600e+10 = 3.39\\n\\n3. Return on Equity (ROE): \\n   ROE = Net Income / Total Equity\\n   = 1.012600e+10 / 1.076400e+10 = 0.943\\n\\n4. Return on Assets (ROA): \\n   ROA = Net Income / Total Assets\\n   = 1.012600e+10 / 4.465900e+10 = 0.228\\n\\n5. Interest Coverage Ratio: \\n   Interest Coverage Ratio = Earnings Before Interest and Taxes (EBIT) / Interest Expense\\n   EBIT = Net Income + Depreciation + Amortization\\n   = 1.012600e+10 + 1.679100e+10 + 1.008300e+10 = 3.700100e+10\\n   Interest Expense = 1.240000e+08 + 1.110000e+08 + 1.800000e+07 = 1.960000e+08\\n   Interest Coverage Ratio = 3.700100e+10 / 1.960000e+08 = 1.89\\n\\nBased on these ratios, I am inclined to recommend a BUY decision with a confidence score of 70%. The company has a relatively low debt-to-equity ratio and a high return on equity, indicating a strong financial position. The interest coverage ratio is also high, suggesting that the company can meet its interest payments. However, the current ratio is 1, which may indicate liquidity concerns. Further analysis of the company's cash flow and debt repayment plans is necessary to confirm this decision.\""
   ]
  },
  {
   "cell_type": "code",
   "execution_count": 23,
   "id": "5728ba70-2042-4250-af42-cac37f26eaf3",
   "metadata": {},
   "outputs": [],
   "source": [
    "import json"
   ]
  },
  {
   "cell_type": "code",
   "execution_count": 20,
   "id": "30024d1f-b16b-4214-962c-190106dc2d6d",
   "metadata": {},
   "outputs": [],
   "source": [
    "def format_json(llm_output):\n",
    "    # remove all the broken lines\n",
    "    form = llm_output.replace('\\n','')\n",
    "    # Find the start and end of the JSON input\n",
    "    try:\n",
    "        soj = form.find('```json')\n",
    "        eoj = form.find('}```')\n",
    "\n",
    "        if eoj == -1:\n",
    "            eoj = len(llm_output)\n",
    "        # Pull out the additional context\n",
    "        additional = form[:soj]\n",
    "        additional += form[eoj + 4:]\n",
    "        json_obj = json.load(form[soj + 7:eoj + 1])\n",
    "        json_obj['AdditionalContext'] = additional\n",
    "        return json_obj\n",
    "    except:\n",
    "        return llm_output"
   ]
  },
  {
   "cell_type": "code",
   "execution_count": 21,
   "id": "73b1782b-e52e-407d-b9d6-2d691cb8fc55",
   "metadata": {},
   "outputs": [
    {
     "data": {
      "text/plain": [
       "\"Based on the provided income statement and balance sheet data, I have computed the following financial ratios:\\n\\n1. Current Ratio: \\n   Current Ratio = Current Assets / Current Liabilities\\n   = 9.222000e+09 / 9.222000e+09 = 1\\n\\n2. Debt-to-Equity Ratio: \\n   Debt-to-Equity Ratio = Total Liabilities / Total Equity\\n   = 3.453300e+10 / 1.012600e+10 = 3.39\\n\\n3. Return on Equity (ROE): \\n   ROE = Net Income / Total Equity\\n   = 1.012600e+10 / 1.076400e+10 = 0.943\\n\\n4. Return on Assets (ROA): \\n   ROA = Net Income / Total Assets\\n   = 1.012600e+10 / 4.465900e+10 = 0.228\\n\\n5. Interest Coverage Ratio: \\n   Interest Coverage Ratio = Earnings Before Interest and Taxes (EBIT) / Interest Expense\\n   EBIT = Net Income + Depreciation + Amortization\\n   = 1.012600e+10 + 1.679100e+10 + 1.008300e+10 = 3.700100e+10\\n   Interest Expense = 1.240000e+08 + 1.110000e+08 + 1.800000e+07 = 1.960000e+08\\n   Interest Coverage Ratio = 3.700100e+10 / 1.960000e+08 = 1.89\\n\\nBased on these ratios, I am inclined to recommend a BUY decision with a confidence score of 70%. The company has a relatively low debt-to-equity ratio and a high return on equity, indicating a strong financial position. The interest coverage ratio is also high, suggesting that the company can meet its interest payments. However, the current ratio is 1, which may indicate liquidity concerns. Further analysis of the company's cash flow and debt repayment plans is necessary to confirm this decision.\""
      ]
     },
     "execution_count": 21,
     "metadata": {},
     "output_type": "execute_result"
    }
   ],
   "source": [
    "format_json(output_result)"
   ]
  },
  {
   "cell_type": "code",
   "execution_count": 14,
   "id": "50b16da3-394a-4aeb-8c5d-2a7456d3e0c4",
   "metadata": {},
   "outputs": [
    {
     "name": "stdout",
     "output_type": "stream",
     "text": [
      "Saved s3://awmgd-prod-finml-sandbox-user/bclarke16/tmp/fs/logs/results - llama - data_quarterly_pit_indu\n",
      "Run Completed!\n"
     ]
    }
   ],
   "source": [
    "ir.save_run({'test':'1234'})"
   ]
  },
  {
   "cell_type": "code",
   "execution_count": null,
   "id": "eade0d8d-ba3b-4706-a46a-9e76a77ec445",
   "metadata": {},
   "outputs": [],
   "source": []
  },
  {
   "cell_type": "code",
   "execution_count": null,
   "id": "d9d4e95d-81d2-428d-9789-02d82b3f374f",
   "metadata": {},
   "outputs": [],
   "source": []
  },
  {
   "cell_type": "code",
   "execution_count": null,
   "id": "94f5952b-df1a-47ac-b808-81148bdae20a",
   "metadata": {},
   "outputs": [],
   "source": []
  },
  {
   "cell_type": "code",
   "execution_count": 10,
   "id": "25404db2-acee-4b0a-83ee-0fef698539b3",
   "metadata": {},
   "outputs": [],
   "source": [
    "helper = mh.ModelHelper('tmp/fs')"
   ]
  },
  {
   "cell_type": "code",
   "execution_count": 11,
   "id": "77bde369-5016-4eb4-bca4-71b8df7d219d",
   "metadata": {},
   "outputs": [],
   "source": [
    "helper.clear_folder('llama')"
   ]
  },
  {
   "cell_type": "code",
   "execution_count": 12,
   "id": "b8b81458-2742-4dae-a66c-7aa5192052b8",
   "metadata": {},
   "outputs": [],
   "source": [
    "import boto3\n",
    "import json\n",
    "s3 = boto3.client(\"s3\")"
   ]
  },
  {
   "cell_type": "code",
   "execution_count": 13,
   "id": "96238990-3ced-4632-a0eb-62eaa5503f1b",
   "metadata": {},
   "outputs": [],
   "source": [
    "bucket = os.environ['BQUANT_SANDBOX_USER_BUCKET']\n",
    "folder = f\"{os.environ['BQUANT_USERNAME']}/tmp/fs/logs\""
   ]
  },
  {
   "cell_type": "code",
   "execution_count": 26,
   "id": "26522a97-6dd8-42dc-a876-d729b7853e24",
   "metadata": {},
   "outputs": [
    {
     "data": {
      "text/plain": [
       "{'ResponseMetadata': {'RequestId': 'R51SF022RFPHNXM1',\n",
       "  'HostId': 'mKcJOCd5U5znq7g9cBryYLOrkDxLX7p4emDnNIdj0RYizPyOVUMTDZnO2PRQTVQILvDhFsVzj1l/Ua1K0pMFlqnJda2r56jmWVR9G/49vCs=',\n",
       "  'HTTPStatusCode': 200,\n",
       "  'HTTPHeaders': {'x-amz-id-2': 'mKcJOCd5U5znq7g9cBryYLOrkDxLX7p4emDnNIdj0RYizPyOVUMTDZnO2PRQTVQILvDhFsVzj1l/Ua1K0pMFlqnJda2r56jmWVR9G/49vCs=',\n",
       "   'x-amz-request-id': 'R51SF022RFPHNXM1',\n",
       "   'date': 'Sun, 23 Feb 2025 12:52:55 GMT',\n",
       "   'x-amz-version-id': 'N_tWNp3h_imj758yGQrJWxpIBD0xVGy7',\n",
       "   'x-amz-server-side-encryption': 'aws:kms',\n",
       "   'x-amz-server-side-encryption-aws-kms-key-id': 'arn:aws:kms:us-east-1:928295279990:key/e5f1e8a7-e5c9-479d-b936-a82b325aacf0',\n",
       "   'etag': '\"e398cb3034762e2846b9b0bb369fae92\"',\n",
       "   'content-length': '0',\n",
       "   'server': 'envoy',\n",
       "   'x-envoy-upstream-service-time': '111'},\n",
       "  'RetryAttempts': 0},\n",
       " 'ETag': '\"e398cb3034762e2846b9b0bb369fae92\"',\n",
       " 'ServerSideEncryption': 'aws:kms',\n",
       " 'VersionId': 'N_tWNp3h_imj758yGQrJWxpIBD0xVGy7',\n",
       " 'SSEKMSKeyId': 'arn:aws:kms:us-east-1:928295279990:key/e5f1e8a7-e5c9-479d-b936-a82b325aacf0'}"
      ]
     },
     "execution_count": 26,
     "metadata": {},
     "output_type": "execute_result"
    }
   ],
   "source": [
    "s3.put_object(Body=json.dumps({'test':'0123'}), Key=f'{folder}/test.json', Bucket=bucket)"
   ]
  },
  {
   "cell_type": "code",
   "execution_count": 35,
   "id": "c78e8a3f-077f-4e00-9db9-9683c2592970",
   "metadata": {},
   "outputs": [
    {
     "data": {
      "text/plain": [
       "<module 'utils.logger' from '/project/utils/logger.py'>"
      ]
     },
     "execution_count": 35,
     "metadata": {},
     "output_type": "execute_result"
    }
   ],
   "source": [
    "from utils.logger import Logger\n",
    "#logger = logger.Logger('tmp/fs')\n",
    "import utils.logger as l\n",
    "importlib.reload(l)"
   ]
  },
  {
   "cell_type": "code",
   "execution_count": 36,
   "id": "006980bb-aaac-4bf9-91f5-edfa4eb62b4a",
   "metadata": {},
   "outputs": [],
   "source": [
    "logger = l.Logger('tmp/fs')"
   ]
  },
  {
   "cell_type": "code",
   "execution_count": 39,
   "id": "25675893-2ecf-42b0-b9e8-332047403650",
   "metadata": {},
   "outputs": [
    {
     "data": {
      "text/plain": [
       "['bclarke16/tmp/fs/logs/results - llama - data_quarterly_pit_indu',\n",
       " 'bclarke16/tmp/fs/logs/results.json',\n",
       " 'bclarke16/tmp/fs/logs/results2.json',\n",
       " 'bclarke16/tmp/fs/logs/test.json',\n",
       " 'bclarke16/tmp/fs/logs/test2.json',\n",
       " 'bclarke16/tmp/fs/logstest.json']"
      ]
     },
     "execution_count": 39,
     "metadata": {},
     "output_type": "execute_result"
    }
   ],
   "source": [
    "logger.get_list_of_logs()"
   ]
  },
  {
   "cell_type": "code",
   "execution_count": 40,
   "id": "c40ee677-db6f-46a5-b7fa-c6ef653bf3bd",
   "metadata": {},
   "outputs": [],
   "source": [
    "log = logger.get_log('test2.json')"
   ]
  },
  {
   "cell_type": "code",
   "execution_count": 41,
   "id": "61cad1a6-80a8-474f-af48-f0aada451d84",
   "metadata": {},
   "outputs": [
    {
     "data": {
      "text/plain": [
       "{'test2': '12345'}"
      ]
     },
     "execution_count": 41,
     "metadata": {},
     "output_type": "execute_result"
    }
   ],
   "source": [
    "log"
   ]
  },
  {
   "cell_type": "code",
   "execution_count": 38,
   "id": "e42f6b70-0550-437c-bc54-ab445395737f",
   "metadata": {},
   "outputs": [
    {
     "name": "stdout",
     "output_type": "stream",
     "text": [
      "called log\n",
      "Saved bclarke16/tmp/fs/logs/test2.json\n"
     ]
    }
   ],
   "source": [
    "logger.log({'test2':'12345'},'test2.json')"
   ]
  },
  {
   "cell_type": "code",
   "execution_count": null,
   "id": "ad6a6b91-7e1c-44a1-90bd-7b254f5efee9",
   "metadata": {},
   "outputs": [],
   "source": []
  }
 ],
 "metadata": {
  "kernelspec": {
   "display_name": "Bloomberg Lab Python 3",
   "language": "python",
   "name": "remote-jupyterpython"
  },
  "language_info": {
   "codemirror_mode": {
    "name": "ipython",
    "version": 3
   },
   "file_extension": ".py",
   "mimetype": "text/x-python",
   "name": "python",
   "nbconvert_exporter": "python",
   "pygments_lexer": "ipython3",
   "version": "3.11.8"
  }
 },
 "nbformat": 4,
 "nbformat_minor": 5
}
