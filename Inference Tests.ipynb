{
 "cells": [
  {
   "cell_type": "code",
   "execution_count": 17,
   "id": "d33e342b-edf8-4ce9-8a44-759d241f1fba",
   "metadata": {},
   "outputs": [],
   "source": [
    "import modelinference\n",
    "import prompts\n",
    "import importlib\n",
    "import datetime\n",
    "import torch\n",
    "\n",
    "from accelerate import notebook_launcher"
   ]
  },
  {
   "cell_type": "code",
   "execution_count": 2,
   "id": "1dcf2505-c7f9-440e-91f1-323f2922817a",
   "metadata": {},
   "outputs": [
    {
     "data": {
      "text/plain": [
       "<module 'modelinference' from '/project/modelinference.py'>"
      ]
     },
     "execution_count": 2,
     "metadata": {},
     "output_type": "execute_result"
    }
   ],
   "source": [
    "importlib.reload(modelinference)"
   ]
  },
  {
   "cell_type": "code",
   "execution_count": 3,
   "id": "5dba1319-9b03-4b71-8e6b-d568d11f233d",
   "metadata": {},
   "outputs": [
    {
     "data": {
      "text/plain": [
       "2"
      ]
     },
     "execution_count": 3,
     "metadata": {},
     "output_type": "execute_result"
    }
   ],
   "source": [
    "torch.cuda.device_count()"
   ]
  },
  {
   "cell_type": "code",
   "execution_count": 27,
   "id": "3b1ac792-d286-4374-977e-a9ae6a0a352b",
   "metadata": {},
   "outputs": [],
   "source": [
    "\n",
    "run_config = {\n",
    "    'model_hf_id': 'deepseek-ai/DeepSeek-R1-Distill-Qwen-14B',\n",
    "    'model_s3_loc': 'deepseek14Q',\n",
    "    'model_reload': False,\n",
    "    'model_quant': None,\n",
    "    'system_prompt': prompts.SYSTEM_PROMPTS['CoT'],\n",
    "    'multi-gpu':True,\n",
    "    'dataset': 'data_annual_pit_spx',\n",
    "    'data_location': 'data_annual_pit_spx.json'\n",
    "}\n",
    "\n",
    "run_config = {\n",
    "    'model_hf_id': 'Qwen/Qwen2.5-7B-Instruct',\n",
    "    'model_s3_loc': 'qwen',\n",
    "    'model_reload': False,\n",
    "    'model_quant': None,\n",
    "    'system_prompt': prompts.SYSTEM_PROMPTS['BASE'],\n",
    "    'multi-gpu':True,\n",
    "    'dataset': 'data_quarterly_pit_indu',\n",
    "    'data_location': 'data_quarterly_pit_indu.json'\n",
    "}\n",
    "\n",
    "run_name = f\"{run_config['model_s3_loc']} - {run_config['dataset']}\""
   ]
  },
  {
   "cell_type": "code",
   "execution_count": 6,
   "id": "18576639-feda-49dd-a949-33b74e581ff1",
   "metadata": {},
   "outputs": [],
   "source": [
    "def inference_multi_gpu():\n",
    "    ir = modelinference.InferenceRun(run_name, run_config)\n",
    "    ir.run_multi_gpu()"
   ]
  },
  {
   "cell_type": "code",
   "execution_count": 7,
   "id": "0a0f3e83-e637-4d70-88a8-39b5a2d6e734",
   "metadata": {},
   "outputs": [
    {
     "name": "stdout",
     "output_type": "stream",
     "text": [
      "qwen\n"
     ]
    },
    {
     "data": {
      "application/vnd.jupyter.widget-view+json": {
       "model_id": "8d834de6b879497cb270d40fe552e6e8",
       "version_major": 2,
       "version_minor": 0
      },
      "text/plain": [
       "Loading checkpoint shards:   0%|          | 0/4 [00:00<?, ?it/s]"
      ]
     },
     "metadata": {},
     "output_type": "display_data"
    },
    {
     "data": {
      "application/vnd.jupyter.widget-view+json": {
       "model_id": "789963f2e19c4f42a2e378a43de7fde3",
       "version_major": 2,
       "version_minor": 0
      },
      "text/plain": [
       "tokenizer_config.json:   0%|          | 0.00/7.30k [00:00<?, ?B/s]"
      ]
     },
     "metadata": {},
     "output_type": "display_data"
    },
    {
     "data": {
      "application/vnd.jupyter.widget-view+json": {
       "model_id": "0594cc9971264b3c83670a6e512a9b73",
       "version_major": 2,
       "version_minor": 0
      },
      "text/plain": [
       "vocab.json:   0%|          | 0.00/2.78M [00:00<?, ?B/s]"
      ]
     },
     "metadata": {},
     "output_type": "display_data"
    },
    {
     "data": {
      "application/vnd.jupyter.widget-view+json": {
       "model_id": "1337620c95e14e40819c5834a677be2f",
       "version_major": 2,
       "version_minor": 0
      },
      "text/plain": [
       "merges.txt:   0%|          | 0.00/1.67M [00:00<?, ?B/s]"
      ]
     },
     "metadata": {},
     "output_type": "display_data"
    },
    {
     "data": {
      "application/vnd.jupyter.widget-view+json": {
       "model_id": "3219115ec2dd42379c9c524bd2d01bd2",
       "version_major": 2,
       "version_minor": 0
      },
      "text/plain": [
       "tokenizer.json:   0%|          | 0.00/7.03M [00:00<?, ?B/s]"
      ]
     },
     "metadata": {},
     "output_type": "display_data"
    },
    {
     "name": "stdout",
     "output_type": "stream",
     "text": [
      "Loading Data\n",
      "Saving data...\n"
     ]
    },
    {
     "data": {
      "application/vnd.jupyter.widget-view+json": {
       "model_id": "eaed9eaa91614123a9508d9d49ee1640",
       "version_major": 2,
       "version_minor": 0
      },
      "text/plain": [
       "HBox(children=(IntProgress(value=0, max=16), Label(value='0')))"
      ]
     },
     "metadata": {},
     "output_type": "display_data"
    },
    {
     "name": "stdout",
     "output_type": "stream",
     "text": [
      "Memory footprint: 15.2 GB\n",
      "waiting...\n"
     ]
    },
    {
     "ename": "TypeError",
     "evalue": "can only concatenate str (not \"dict\") to str",
     "output_type": "error",
     "traceback": [
      "\u001b[0;31m---------------------------------------------------------------------------\u001b[0m",
      "\u001b[0;31mTypeError\u001b[0m                                 Traceback (most recent call last)",
      "Cell \u001b[0;32mIn[7], line 1\u001b[0m\n\u001b[0;32m----> 1\u001b[0m notebook_launcher(\u001b[43minference_multi_gpu\u001b[49m\u001b[43m(\u001b[49m\u001b[43m)\u001b[49m, num_processes\u001b[38;5;241m=\u001b[39mtorch\u001b[38;5;241m.\u001b[39mcuda\u001b[38;5;241m.\u001b[39mdevice_count())\n",
      "Cell \u001b[0;32mIn[6], line 3\u001b[0m, in \u001b[0;36minference_multi_gpu\u001b[0;34m()\u001b[0m\n\u001b[1;32m      1\u001b[0m \u001b[38;5;28;01mdef\u001b[39;00m\u001b[38;5;250m \u001b[39m\u001b[38;5;21minference_multi_gpu\u001b[39m():\n\u001b[1;32m      2\u001b[0m     ir \u001b[38;5;241m=\u001b[39m modelinference\u001b[38;5;241m.\u001b[39mInferenceRun(run_name, run_config)\n\u001b[0;32m----> 3\u001b[0m     \u001b[43mir\u001b[49m\u001b[38;5;241;43m.\u001b[39;49m\u001b[43mrun_multi_gpu\u001b[49m\u001b[43m(\u001b[49m\u001b[43m)\u001b[49m\n",
      "File \u001b[0;32m/project/modelinference.py:185\u001b[0m, in \u001b[0;36mInferenceRun.run_multi_gpu\u001b[0;34m(self, log_at, start_count)\u001b[0m\n\u001b[1;32m    182\u001b[0m results \u001b[38;5;241m=\u001b[39m []\n\u001b[1;32m    184\u001b[0m \u001b[38;5;28;01mfor\u001b[39;00m prompt \u001b[38;5;129;01min\u001b[39;00m prompts:\n\u001b[0;32m--> 185\u001b[0m     response \u001b[38;5;241m=\u001b[39m \u001b[38;5;28;43mself\u001b[39;49m\u001b[38;5;241;43m.\u001b[39;49m\u001b[43mrun_model\u001b[49m\u001b[43m(\u001b[49m\u001b[43mprompt\u001b[49m\u001b[43m[\u001b[49m\u001b[38;5;124;43m'\u001b[39;49m\u001b[38;5;124;43mprompt\u001b[39;49m\u001b[38;5;124;43m'\u001b[39;49m\u001b[43m]\u001b[49m\u001b[43m,\u001b[49m\u001b[43m \u001b[49m\u001b[43mtokenizer\u001b[49m\u001b[43m,\u001b[49m\u001b[43m \u001b[49m\u001b[43mmodel\u001b[49m\u001b[43m)\u001b[49m\n\u001b[1;32m    186\u001b[0m     formatted_response \u001b[38;5;241m=\u001b[39m {\u001b[38;5;124m'\u001b[39m\u001b[38;5;124mdate\u001b[39m\u001b[38;5;124m'\u001b[39m: prompt[\u001b[38;5;124m'\u001b[39m\u001b[38;5;124mdate\u001b[39m\u001b[38;5;124m'\u001b[39m], \u001b[38;5;124m'\u001b[39m\u001b[38;5;124msecurity\u001b[39m\u001b[38;5;124m'\u001b[39m: prompt[\u001b[38;5;124m'\u001b[39m\u001b[38;5;124msecurity\u001b[39m\u001b[38;5;124m'\u001b[39m], \u001b[38;5;124m'\u001b[39m\u001b[38;5;124mresponse\u001b[39m\u001b[38;5;124m'\u001b[39m: response}\n\u001b[1;32m    187\u001b[0m     results\u001b[38;5;241m.\u001b[39mappend(formatted_response)\n",
      "File \u001b[0;32m/project/modelinference.py:136\u001b[0m, in \u001b[0;36mInferenceRun.run_model\u001b[0;34m(self, prompt, tokenizer, model)\u001b[0m\n\u001b[1;32m    135\u001b[0m \u001b[38;5;28;01mdef\u001b[39;00m\u001b[38;5;250m \u001b[39m\u001b[38;5;21mrun_model\u001b[39m(\u001b[38;5;28mself\u001b[39m, prompt, tokenizer, model):\n\u001b[0;32m--> 136\u001b[0m     tokens \u001b[38;5;241m=\u001b[39m \u001b[43mtokenizer\u001b[49m\u001b[38;5;241;43m.\u001b[39;49m\u001b[43mapply_chat_template\u001b[49m\u001b[43m(\u001b[49m\u001b[43mprompt\u001b[49m\u001b[43m,\u001b[49m\u001b[43m \u001b[49m\u001b[43mtokenize\u001b[49m\u001b[38;5;241;43m=\u001b[39;49m\u001b[38;5;28;43;01mFalse\u001b[39;49;00m\u001b[43m,\u001b[49m\u001b[43m \u001b[49m\u001b[43madd_generation_prompt\u001b[49m\u001b[38;5;241;43m=\u001b[39;49m\u001b[38;5;28;43;01mTrue\u001b[39;49;00m\u001b[43m)\u001b[49m\n\u001b[1;32m    137\u001b[0m     model_inputs \u001b[38;5;241m=\u001b[39m tokenizer([tokens], return_tensors\u001b[38;5;241m=\u001b[39m\u001b[38;5;124m'\u001b[39m\u001b[38;5;124mpt\u001b[39m\u001b[38;5;124m'\u001b[39m)\u001b[38;5;241m.\u001b[39mto(\u001b[38;5;124m\"\u001b[39m\u001b[38;5;124mcuda\u001b[39m\u001b[38;5;124m\"\u001b[39m)\n\u001b[1;32m    138\u001b[0m     generated_ids \u001b[38;5;241m=\u001b[39m model\u001b[38;5;241m.\u001b[39mgenerate(\u001b[38;5;241m*\u001b[39m\u001b[38;5;241m*\u001b[39mmodel_inputs, pad_token_id\u001b[38;5;241m=\u001b[39mtokenizer\u001b[38;5;241m.\u001b[39meos_token_id, max_new_tokens\u001b[38;5;241m=\u001b[39m\u001b[38;5;241m5000\u001b[39m)\n",
      "File \u001b[0;32m/opt/kernel/lib/python3.11/site-packages/transformers/tokenization_utils_base.py:1687\u001b[0m, in \u001b[0;36mPreTrainedTokenizerBase.apply_chat_template\u001b[0;34m(self, conversation, tools, documents, chat_template, add_generation_prompt, continue_final_message, tokenize, padding, truncation, max_length, return_tensors, return_dict, return_assistant_tokens_mask, tokenizer_kwargs, **kwargs)\u001b[0m\n\u001b[1;32m   1685\u001b[0m     all_generation_indices\u001b[38;5;241m.\u001b[39mappend(generation_indices)\n\u001b[1;32m   1686\u001b[0m \u001b[38;5;28;01melse\u001b[39;00m:\n\u001b[0;32m-> 1687\u001b[0m     rendered_chat \u001b[38;5;241m=\u001b[39m \u001b[43mcompiled_template\u001b[49m\u001b[38;5;241;43m.\u001b[39;49m\u001b[43mrender\u001b[49m\u001b[43m(\u001b[49m\n\u001b[1;32m   1688\u001b[0m \u001b[43m        \u001b[49m\u001b[43mmessages\u001b[49m\u001b[38;5;241;43m=\u001b[39;49m\u001b[43mchat\u001b[49m\u001b[43m,\u001b[49m\n\u001b[1;32m   1689\u001b[0m \u001b[43m        \u001b[49m\u001b[43mtools\u001b[49m\u001b[38;5;241;43m=\u001b[39;49m\u001b[43mtool_schemas\u001b[49m\u001b[43m,\u001b[49m\n\u001b[1;32m   1690\u001b[0m \u001b[43m        \u001b[49m\u001b[43mdocuments\u001b[49m\u001b[38;5;241;43m=\u001b[39;49m\u001b[43mdocuments\u001b[49m\u001b[43m,\u001b[49m\n\u001b[1;32m   1691\u001b[0m \u001b[43m        \u001b[49m\u001b[43madd_generation_prompt\u001b[49m\u001b[38;5;241;43m=\u001b[39;49m\u001b[43madd_generation_prompt\u001b[49m\u001b[43m,\u001b[49m\n\u001b[1;32m   1692\u001b[0m \u001b[43m        \u001b[49m\u001b[38;5;241;43m*\u001b[39;49m\u001b[38;5;241;43m*\u001b[39;49m\u001b[43mtemplate_kwargs\u001b[49m\u001b[43m,\u001b[49m\n\u001b[1;32m   1693\u001b[0m \u001b[43m    \u001b[49m\u001b[43m)\u001b[49m\n\u001b[1;32m   1694\u001b[0m \u001b[38;5;28;01mif\u001b[39;00m continue_final_message:\n\u001b[1;32m   1695\u001b[0m     final_message \u001b[38;5;241m=\u001b[39m chat[\u001b[38;5;241m-\u001b[39m\u001b[38;5;241m1\u001b[39m][\u001b[38;5;124m\"\u001b[39m\u001b[38;5;124mcontent\u001b[39m\u001b[38;5;124m\"\u001b[39m]\n",
      "File \u001b[0;32m/opt/kernel/lib/python3.11/site-packages/jinja2/environment.py:1295\u001b[0m, in \u001b[0;36mTemplate.render\u001b[0;34m(self, *args, **kwargs)\u001b[0m\n\u001b[1;32m   1293\u001b[0m     \u001b[38;5;28;01mreturn\u001b[39;00m \u001b[38;5;28mself\u001b[39m\u001b[38;5;241m.\u001b[39menvironment\u001b[38;5;241m.\u001b[39mconcat(\u001b[38;5;28mself\u001b[39m\u001b[38;5;241m.\u001b[39mroot_render_func(ctx))  \u001b[38;5;66;03m# type: ignore\u001b[39;00m\n\u001b[1;32m   1294\u001b[0m \u001b[38;5;28;01mexcept\u001b[39;00m \u001b[38;5;167;01mException\u001b[39;00m:\n\u001b[0;32m-> 1295\u001b[0m     \u001b[38;5;28;43mself\u001b[39;49m\u001b[38;5;241;43m.\u001b[39;49m\u001b[43menvironment\u001b[49m\u001b[38;5;241;43m.\u001b[39;49m\u001b[43mhandle_exception\u001b[49m\u001b[43m(\u001b[49m\u001b[43m)\u001b[49m\n",
      "File \u001b[0;32m/opt/kernel/lib/python3.11/site-packages/jinja2/environment.py:942\u001b[0m, in \u001b[0;36mEnvironment.handle_exception\u001b[0;34m(self, source)\u001b[0m\n\u001b[1;32m    937\u001b[0m \u001b[38;5;250m\u001b[39m\u001b[38;5;124;03m\"\"\"Exception handling helper.  This is used internally to either raise\u001b[39;00m\n\u001b[1;32m    938\u001b[0m \u001b[38;5;124;03mrewritten exceptions or return a rendered traceback for the template.\u001b[39;00m\n\u001b[1;32m    939\u001b[0m \u001b[38;5;124;03m\"\"\"\u001b[39;00m\n\u001b[1;32m    940\u001b[0m \u001b[38;5;28;01mfrom\u001b[39;00m\u001b[38;5;250m \u001b[39m\u001b[38;5;21;01m.\u001b[39;00m\u001b[38;5;21;01mdebug\u001b[39;00m\u001b[38;5;250m \u001b[39m\u001b[38;5;28;01mimport\u001b[39;00m rewrite_traceback_stack\n\u001b[0;32m--> 942\u001b[0m \u001b[38;5;28;01mraise\u001b[39;00m rewrite_traceback_stack(source\u001b[38;5;241m=\u001b[39msource)\n",
      "File \u001b[0;32m<template>:16\u001b[0m, in \u001b[0;36mtop-level template code\u001b[0;34m()\u001b[0m\n",
      "\u001b[0;31mTypeError\u001b[0m: can only concatenate str (not \"dict\") to str"
     ]
    }
   ],
   "source": [
    "notebook_launcher(inference_multi_gpu(), num_processes=torch.cuda.device_count())"
   ]
  },
  {
   "cell_type": "code",
   "execution_count": 13,
   "id": "cf4d6235-af59-4924-b54b-72ad749bd686",
   "metadata": {},
   "outputs": [],
   "source": [
    "ir = modelinference.InferenceRun(run_name, run_config)"
   ]
  },
  {
   "cell_type": "code",
   "execution_count": 14,
   "id": "7925f016-9392-4142-a9ec-a6872af1bae7",
   "metadata": {},
   "outputs": [],
   "source": [
    "prompts = ir.create_all_prompts()"
   ]
  },
  {
   "cell_type": "code",
   "execution_count": 15,
   "id": "14fd8453-b388-488c-b553-aaff3333ea23",
   "metadata": {},
   "outputs": [
    {
     "data": {
      "text/plain": [
       "3009"
      ]
     },
     "execution_count": 15,
     "metadata": {},
     "output_type": "execute_result"
    }
   ],
   "source": [
    "len(prompts)"
   ]
  },
  {
   "cell_type": "code",
   "execution_count": 19,
   "id": "473e8bee-f03a-4410-a229-ef1576fcb46c",
   "metadata": {},
   "outputs": [],
   "source": [
    "ir2 = modelinference.InferenceRun(run_name, run_config) #indu annual"
   ]
  },
  {
   "cell_type": "code",
   "execution_count": 22,
   "id": "638a4433-376d-4c1a-a384-6afbdb37e308",
   "metadata": {},
   "outputs": [],
   "source": [
    "p2 = ir2.create_all_prompts()"
   ]
  },
  {
   "cell_type": "code",
   "execution_count": 23,
   "id": "86109d91-b713-4e9d-b3d2-301f635921f2",
   "metadata": {},
   "outputs": [
    {
     "data": {
      "text/plain": [
       "232"
      ]
     },
     "execution_count": 23,
     "metadata": {},
     "output_type": "execute_result"
    }
   ],
   "source": [
    "len(p2)"
   ]
  },
  {
   "cell_type": "code",
   "execution_count": 28,
   "id": "65f8f614-6652-42d3-b5ce-437ca9847dd8",
   "metadata": {},
   "outputs": [
    {
     "data": {
      "text/plain": [
       "896"
      ]
     },
     "execution_count": 28,
     "metadata": {},
     "output_type": "execute_result"
    }
   ],
   "source": [
    "ir3 = modelinference.InferenceRun(run_name, run_config) #indu annual\n",
    "p3 = ir3.create_all_prompts()\n",
    "len(p3)"
   ]
  },
  {
   "cell_type": "code",
   "execution_count": null,
   "id": "b4392900-fc6e-4869-be6e-dd05c138325f",
   "metadata": {},
   "outputs": [],
   "source": []
  },
  {
   "cell_type": "code",
   "execution_count": null,
   "id": "ff153540-48a0-4059-acf8-bae25ca9dd78",
   "metadata": {},
   "outputs": [],
   "source": []
  },
  {
   "cell_type": "code",
   "execution_count": 10,
   "id": "9f428cea-9aa9-4ec0-a5c6-4a02668c919a",
   "metadata": {},
   "outputs": [],
   "source": [
    "import json"
   ]
  },
  {
   "cell_type": "code",
   "execution_count": 12,
   "id": "0c0a462a-c5ac-43d4-84c8-cc692ae2a667",
   "metadata": {},
   "outputs": [],
   "source": [
    "with open(f'Data/{run_name}/prompts.json') as f:\n",
    "    p = json.load(f)"
   ]
  },
  {
   "cell_type": "code",
   "execution_count": 16,
   "id": "0f10d7aa-d72b-46e1-8940-4f1af60e81af",
   "metadata": {},
   "outputs": [
    {
     "data": {
      "text/plain": [
       "[{'role': 'system',\n",
       "  'content': {'date': '2025-02-10',\n",
       "   'prompt': \"You are a financial analyst tasked with analyzing the financial statements of a company to predict the direction of future earnings.Follow the steps below to perform the analysis. 1. Identify notable changes in the balance sheet and income statement. 2. Compute key financial ratios to understand the health of the company. State the formula before calculating. Compute profitability ratios, leverage ratios, liquidity ratios and efficiency ratios. 3. Interpret each of the ratios. 4. Predict the direction of future earnings in JSON format with a clear recommendation and size of the increase or decrease: {'earnings':'INCREASE', 'magnitude':'LARGE'} or {'earnings':'DECREASE','SMALL'} 5. Provide a rational in less than 250 words. Company Financial Statements: \"}},\n",
       " {'role': 'user',\n",
       "  'content': 'Income Statement:                                                        t           t-1           t-2           t-3           t-4           t-5\\nitems                                                                                                                          \\nRevenue                                      9.517740e+08  8.858330e+08  8.339040e+08  7.889260e+08  7.154410e+08  6.730970e+08\\nCost of Revenue                              2.114530e+08  2.007930e+08  1.981470e+08  1.862520e+08  1.681620e+08  1.578580e+08\\nGross Profit                                 7.403210e+08  6.850400e+08  6.357570e+08  6.026740e+08  5.472790e+08  5.152390e+08\\nOperating Expenses                           7.118090e+08  6.287160e+08  6.627570e+08  6.183870e+08  5.470010e+08  5.056710e+08\\nSelling, General and Administrative Expense  5.094810e+08  4.386170e+08  4.793370e+08  4.458650e+08  3.983390e+08  3.700160e+08\\nR&D Expense Adjusted                         2.023280e+08  1.900990e+08  1.834200e+08  1.725220e+08  1.486620e+08  1.356550e+08\\nOperating Income or Losses                   2.851200e+07  5.632400e+07 -2.700000e+07 -1.571300e+07  2.780000e+05  9.568000e+06\\nNon-Operating (Income) Loss                 -5.674000e+06 -4.446000e+06 -1.068500e+07 -4.257000e+06 -1.677000e+06  2.338000e+06\\nNet Interest Expense                        -5.439000e+06 -6.191000e+06 -6.158000e+06 -4.338000e+06 -3.630000e+06  3.759000e+06\\nInterest Expense                             8.475000e+06  8.371000e+06  8.269000e+06  8.168000e+06  8.938000e+06  1.123300e+07\\nInterest Income                              1.391400e+07  1.456200e+07  1.442700e+07  1.250600e+07  1.256800e+07  7.474000e+06\\nForeign Exch Losses (Gains)                 -4.300000e+04  1.951000e+06 -1.437000e+06  1.230000e+05  3.280000e+05 -5.270000e+05\\nOther Non-Operating (Income) Loss           -1.920000e+05 -2.060000e+05 -3.090000e+06 -4.200000e+04  1.625000e+06 -8.940000e+05\\nPretax Income (Loss), Adjusted               3.418600e+07  6.077000e+07 -1.631500e+07 -1.145600e+07  1.955000e+06  7.230000e+06\\nAbnormal Losses (Gains)                      5.050000e+05 -2.600000e+04  1.730000e+05 -2.700000e+04  4.300000e+04  4.900000e+05\\nMerger / Acquisition Expense                 5.050000e+05 -2.600000e+04  1.730000e+05 -2.700000e+04  4.300000e+04  3.000000e+05\\nIncome Tax Expense (Benefit)                -5.645380e+08  2.017200e+07 -5.236000e+06 -9.911000e+06 -5.060000e+06 -1.175000e+06\\nIncome (Loss) from Continuing Operations     5.987240e+08  4.059800e+07 -1.107900e+07 -1.545000e+06  7.015000e+06  8.405000e+06\\nNet Abnormal Losses (Gains)                  4.326497e+05 -2.195628e+04  1.365867e+05 -2.040832e+04  3.755498e+04  3.636255e+05\\nBasic Earnings per Share                     3.170000e+00  2.200000e-01 -6.000000e-02 -1.000000e-02  4.000000e-02  5.000000e-02\\nBasic EPS from Continuing Operations         3.169437e+00  2.157450e-01 -5.861700e-02 -8.598000e-03  3.923200e-02  4.906400e-02\\nDiluted EPS                                  3.030000e+00  2.100000e-01 -6.000000e-02 -1.000000e-02  4.000000e-02  4.000000e-02\\nDiluted EPS from Continuing Operations, Adj  3.032187e+00  2.098890e-01 -5.926800e-02 -1.011200e-02  3.923200e-02  4.189200e-02\\n Balance Sheet:                                             t           t-1           t-2           t-3           t-4           t-5\\nitems                                                                                                              \\nCash, Cash Equivalents & STI     1.691095e+09  1.471073e+09  1.653384e+09  1.662113e+09  1.497922e+09  1.626040e+09\\nCash & Cash Equivalents          7.757780e+08  6.229250e+08  5.835810e+08  6.397220e+08  5.662040e+08  7.036290e+08\\nST Investments                   9.153170e+08  8.481480e+08  1.069803e+09  1.022391e+09  9.317180e+08  9.224110e+08\\nAccounts & Notes Receiv          8.352790e+08  5.394160e+08  5.033760e+08  4.225590e+08  5.748100e+08  4.246980e+08\\nOther ST Assets                  3.005270e+08  2.867240e+08  2.855270e+08  2.898140e+08  2.719610e+08  2.414470e+08\\nTotal Current Assets             2.826901e+09  2.297213e+09  2.442287e+09  2.374486e+09  2.344693e+09  2.292185e+09\\nProperty, Plant & Equip, Net     8.705130e+08  8.062820e+08  7.619570e+08  7.442120e+08  3.472160e+08  2.973710e+08\\nProperty, Plant & Equip          1.327879e+09  1.234753e+09  1.167803e+09  1.118723e+09  6.858290e+08  6.113010e+08\\nAccumulated Depreciation         4.573660e+08  4.284710e+08  4.058460e+08  3.745110e+08  3.386130e+08  3.139300e+08\\nLT Investments & Receivables     1.013332e+09  1.001513e+09  7.467160e+08  6.746330e+08  5.818560e+08  4.575610e+08\\nOther LT Assets                  1.311684e+09  6.518000e+08  6.517430e+08  6.055640e+08  6.053750e+08  5.343250e+08\\nTotal Intangible Assets          3.006060e+08  2.668490e+08  2.740710e+08  2.444360e+08  2.494270e+08  2.271390e+08\\nGoodwill                         1.567560e+08  1.539020e+08  1.524720e+08  1.511840e+08  1.488450e+08  1.431330e+08\\nOther Intangible Assets          1.438500e+08  1.129470e+08  1.215990e+08  9.325200e+07  1.005820e+08  8.400600e+07\\nDeferred Tax Assets              5.996330e+08  0.000000e+00  0.000000e+00  0.000000e+00  0.000000e+00  0.000000e+00\\nMisc LT Assets                   4.114450e+08  3.849510e+08  3.776720e+08  3.611280e+08  3.559480e+08  3.071860e+08\\nTotal Noncurrent Assets          3.195529e+09  2.459595e+09  2.160416e+09  2.024409e+09  1.534447e+09  1.289257e+09\\nTotal Assets                     6.022430e+09  4.756808e+09  4.602703e+09  4.398895e+09  3.879140e+09  3.581442e+09\\nPayables & Accruals              5.143630e+08  3.816980e+08  4.266270e+08  3.448290e+08  3.609790e+08  2.947680e+08\\nAccounts Payable                 5.296000e+07  6.190600e+07  6.571100e+07  3.866800e+07  3.073300e+07  4.322300e+07\\nAccrued Taxes                    3.832600e+07  2.456500e+07  2.458700e+07  2.052900e+07  3.512200e+07  2.943900e+07\\nOther Payables & Accruals        4.230770e+08  2.952270e+08  3.363290e+08  2.856320e+08  2.951240e+08  2.221060e+08\\nST Debt                          5.266800e+07  4.933100e+07  4.613200e+07  4.195200e+07  0.000000e+00  1.609720e+08\\nST Operating Leases              5.266800e+07  4.933100e+07  4.613200e+07  4.195200e+07  0.000000e+00  0.000000e+00\\nCurrent Portion of LT Debt       0.000000e+00  0.000000e+00  0.000000e+00  0.000000e+00  0.000000e+00  1.609720e+08\\nOther ST Liabilities             2.185754e+09  1.761532e+09  1.752220e+09  1.711060e+09  1.651594e+09  1.363217e+09\\nTotal Current Liabilities        2.752785e+09  2.192561e+09  2.224979e+09  2.097841e+09  2.012573e+09  1.818957e+09\\nLT Debt                          1.078202e+09  1.074999e+09  1.060957e+09  1.050819e+09  6.617070e+08  6.536380e+08\\nLT Borrowings                    6.949810e+08  6.865160e+08  6.781450e+08  6.698750e+08  6.617070e+08  6.536380e+08\\nLT Operating Leases              3.832210e+08  3.884830e+08  3.828120e+08  3.809440e+08  0.000000e+00  0.000000e+00\\nOther LT Liabilities             6.350200e+07  5.977500e+07  5.582100e+07  5.528400e+07  9.366100e+07  8.866300e+07\\nDeferred Revenue                 4.003800e+07  4.128600e+07  3.715900e+07  3.672200e+07  3.859700e+07  4.124400e+07\\nMisc LT Liabilities              2.346400e+07  1.848900e+07  1.866200e+07  1.856200e+07  5.506400e+07  4.741900e+07\\nTotal Noncurrent Liabilities     1.141704e+09  1.134774e+09  1.116778e+09  1.106103e+09  7.553680e+08  7.423010e+08\\nTotal Liabilities                3.894489e+09  3.327335e+09  3.341757e+09  3.203944e+09  2.767941e+09  2.561258e+09\\nShare Capital & APIC             2.454930e+09  2.360810e+09  2.238970e+09  2.165115e+09  2.094014e+09  2.007397e+09\\nCommon Stock                     1.890000e+05  1.890000e+05  1.880000e+05  1.850000e+05  1.800000e+05  1.790000e+05\\nAdditional Paid in Capital       2.454741e+09  2.360621e+09  2.238782e+09  2.164930e+09  2.093834e+09  2.007218e+09\\nRetained Earnings               -3.522440e+08 -9.509680e+08 -9.915660e+08 -9.804870e+08 -9.787800e+08 -9.857950e+08\\nOther Equity                     2.525500e+07  1.963100e+07  1.354200e+07  1.032300e+07 -4.035000e+06 -1.418000e+06\\nEquity Before Minority Interest  2.127941e+09  1.429473e+09  1.260946e+09  1.194951e+09  1.111199e+09  1.020184e+09\\nTotal Equity                     2.127941e+09  1.429473e+09  1.260946e+09  1.194951e+09  1.111199e+09  1.020184e+09\\n Historical Price:              Price\\nDate              \\n2019-02-20  229.50\\n2019-03-20  244.59\\n2019-04-20  237.40\\n2019-05-20  265.08\\n2019-06-20  288.80\\n2019-07-20  289.74\\n2019-08-20  255.28\\n2019-09-20  271.17\\n2019-10-20  243.00\\n2019-11-20  283.00\\n2019-12-20  282.63\\n2020-01-20  312.52\\n2020-02-20  352.94'}]"
      ]
     },
     "execution_count": 16,
     "metadata": {},
     "output_type": "execute_result"
    }
   ],
   "source": [
    "p[0]['prompt']"
   ]
  },
  {
   "cell_type": "code",
   "execution_count": null,
   "id": "7a9cff15-9c86-48fd-be61-10bd0d160f83",
   "metadata": {},
   "outputs": [],
   "source": []
  },
  {
   "cell_type": "code",
   "execution_count": null,
   "id": "f86f4a03-2196-434b-b5a1-22f2435f9066",
   "metadata": {},
   "outputs": [],
   "source": []
  },
  {
   "cell_type": "code",
   "execution_count": null,
   "id": "5728ba70-2042-4250-af42-cac37f26eaf3",
   "metadata": {},
   "outputs": [],
   "source": []
  },
  {
   "cell_type": "code",
   "execution_count": null,
   "id": "30024d1f-b16b-4214-962c-190106dc2d6d",
   "metadata": {},
   "outputs": [],
   "source": []
  },
  {
   "cell_type": "code",
   "execution_count": null,
   "id": "73b1782b-e52e-407d-b9d6-2d691cb8fc55",
   "metadata": {},
   "outputs": [],
   "source": []
  },
  {
   "cell_type": "code",
   "execution_count": 8,
   "id": "9ac4902c-1be1-40ff-a2c0-8fe152641773",
   "metadata": {},
   "outputs": [
    {
     "data": {
      "text/plain": [
       "<module 'utils.modelHelper' from '/project/utils/modelHelper.py'>"
      ]
     },
     "execution_count": 8,
     "metadata": {},
     "output_type": "execute_result"
    }
   ],
   "source": [
    "import utils.modelHelper as mh\n",
    "import importlib\n",
    "importlib.reload(mh)"
   ]
  },
  {
   "cell_type": "code",
   "execution_count": 9,
   "id": "9766f6e8-0b50-43d1-bc2a-9a50017646f6",
   "metadata": {},
   "outputs": [],
   "source": [
    "helper = mh.ModelHelper('tmp/fs')"
   ]
  },
  {
   "cell_type": "code",
   "execution_count": 10,
   "id": "03a20d35-c77e-43d6-b5fc-fd84ca9ebe45",
   "metadata": {},
   "outputs": [],
   "source": [
    "helper.clear_folder('qwen')\n",
    "helper.clear_folder(f'Data/{run_name}')"
   ]
  },
  {
   "cell_type": "code",
   "execution_count": 6,
   "id": "b6a8bc7a-6a81-4ef5-9467-6f9f4910143a",
   "metadata": {},
   "outputs": [],
   "source": [
    "import os"
   ]
  },
  {
   "cell_type": "code",
   "execution_count": 7,
   "id": "0797c36d-cfc1-4470-8741-e5e3e6a84acf",
   "metadata": {},
   "outputs": [
    {
     "ename": "NameError",
     "evalue": "name 'ROOT_DIR' is not defined",
     "output_type": "error",
     "traceback": [
      "\u001b[0;31m---------------------------------------------------------------------------\u001b[0m",
      "\u001b[0;31mNameError\u001b[0m                                 Traceback (most recent call last)",
      "Cell \u001b[0;32mIn[7], line 1\u001b[0m\n\u001b[0;32m----> 1\u001b[0m \u001b[38;5;28mprint\u001b[39m(\u001b[43mROOT_DIR\u001b[49m)\n",
      "\u001b[0;31mNameError\u001b[0m: name 'ROOT_DIR' is not defined"
     ]
    }
   ],
   "source": [
    "print(os.)"
   ]
  },
  {
   "cell_type": "code",
   "execution_count": 10,
   "id": "99608ae3-8c19-43ae-b787-7dcdbf33df79",
   "metadata": {},
   "outputs": [
    {
     "data": {
      "text/plain": [
       "'/project'"
      ]
     },
     "execution_count": 10,
     "metadata": {},
     "output_type": "execute_result"
    }
   ],
   "source": [
    "os.path.abspath(os.getcwd())"
   ]
  },
  {
   "cell_type": "code",
   "execution_count": null,
   "id": "1703e1a2-23da-4727-99ba-430654da612f",
   "metadata": {},
   "outputs": [],
   "source": [
    "with open()"
   ]
  }
 ],
 "metadata": {
  "kernelspec": {
   "display_name": "Bloomberg Lab Python 3",
   "language": "python",
   "name": "remote-jupyterpython"
  },
  "language_info": {
   "codemirror_mode": {
    "name": "ipython",
    "version": 3
   },
   "file_extension": ".py",
   "mimetype": "text/x-python",
   "name": "python",
   "nbconvert_exporter": "python",
   "pygments_lexer": "ipython3",
   "version": "3.11.8"
  }
 },
 "nbformat": 4,
 "nbformat_minor": 5
}
