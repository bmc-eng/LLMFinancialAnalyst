{
 "cells": [
  {
   "cell_type": "code",
   "execution_count": null,
   "id": "2f0c73c6-cbb3-400f-89f4-9e7e44e7aede",
   "metadata": {},
   "outputs": [],
   "source": [
    "# Install all required packages\n",
    "%package install bloomberg.bquant.signal_lab=1.5.2"
   ]
  },
  {
   "cell_type": "code",
   "execution_count": null,
   "id": "f2de3c88-a46a-41dd-869b-7b51ff98bce4",
   "metadata": {},
   "outputs": [],
   "source": [
    "import bloomberg.bquant.signal_lab as signal_lab\n",
    "signal_lab.__version__"
   ]
  },
  {
   "cell_type": "code",
   "execution_count": 1,
   "id": "419a4c5e-9169-4c77-875f-3941c675b33e",
   "metadata": {},
   "outputs": [],
   "source": [
    "import bql\n",
    "\n",
    "from bloomberg.bquant.signal_lab.workflow.node import (\n",
    "    industry_grouping, portfolio_construction)\n",
    "from bloomberg.bquant.signal_lab.signal.transformers import WeightingScheme\n",
    "from bloomberg.bquant.signal_lab.workflow.factory import (\n",
    "    UniverseFactory,\n",
    "    DataItemFactory,\n",
    "    SignalFactory,\n",
    ")\n",
    "from bloomberg.bquant.signal_lab.workflow import (\n",
    "    AnalyticsDataConfig,\n",
    "    build_backtest,\n",
    ")\n",
    "\n",
    "from bloomberg.bquant.signal_lab.workflow.utils import get_sandbox_path\n",
    "\n",
    "import utils.event_backtest_helper as ebh\n",
    "import backtest_params as bp\n",
    "\n",
    "import numpy as np\n",
    "import pandas as pd\n",
    "import importlib"
   ]
  },
  {
   "cell_type": "code",
   "execution_count": 2,
   "id": "a3270973-53df-44b4-b1cc-e65add971b76",
   "metadata": {},
   "outputs": [
    {
     "data": {
      "text/plain": [
       "<module 'utils.event_backtest_helper' from '/project/utils/event_backtest_helper.py'>"
      ]
     },
     "execution_count": 2,
     "metadata": {},
     "output_type": "execute_result"
    }
   ],
   "source": [
    "importlib.reload(ebh)"
   ]
  },
  {
   "cell_type": "code",
   "execution_count": 3,
   "id": "c89f4bd5-3643-46dc-ae5c-fc0eb79ef3c9",
   "metadata": {},
   "outputs": [
    {
     "data": {
      "text/plain": [
       "'s3://awmgd-prod-finml-sandbox-user/bclarke16/esl/datapack_snapshot'"
      ]
     },
     "execution_count": 3,
     "metadata": {},
     "output_type": "execute_result"
    }
   ],
   "source": [
    "# Get the saved DataPack path\n",
    "bq = bql.Service()\n",
    "data_pack_path = f\"{get_sandbox_path()}/esl/datapack_snapshot\"\n",
    "data_pack_path"
   ]
  },
  {
   "cell_type": "code",
   "execution_count": 4,
   "id": "2b61a205-9a4a-44e4-a3e1-871cd4294cd2",
   "metadata": {},
   "outputs": [],
   "source": [
    "# Key backtest parameters\n",
    "start = \"2020-01-05\"\n",
    "end = \"2024-03-01\"\n",
    "universe_name = \"INDU Index\""
   ]
  },
  {
   "cell_type": "code",
   "execution_count": 5,
   "id": "eea74993-b9bd-4de8-87f6-fee859059ab3",
   "metadata": {},
   "outputs": [],
   "source": [
    "universe, benchmark, trading_calendar = bp.get_universe_params(start, end, universe_name, data_pack_path)\n",
    "price, cur_mkt_cap, total_return = bp.get_return_params(start, end, data_pack_path)\n",
    "analytics_data_config = bp.get_analytics_data_config(start, end, universe_name, data_pack_path)"
   ]
  },
  {
   "cell_type": "code",
   "execution_count": 6,
   "id": "1810229d-94e9-4ea8-b92c-05cf3572c614",
   "metadata": {},
   "outputs": [],
   "source": [
    "# Import the test data set while developing\n",
    "df = pd.read_csv('test_analysis.csv')"
   ]
  },
  {
   "cell_type": "code",
   "execution_count": 7,
   "id": "15efefc5-1164-402f-8950-bd3147242af1",
   "metadata": {},
   "outputs": [],
   "source": [
    "df = df[['Date','Security','Decision','Confidence']]"
   ]
  },
  {
   "cell_type": "code",
   "execution_count": null,
   "id": "976fe6ae-0fa6-42b1-919d-a37e11411332",
   "metadata": {},
   "outputs": [],
   "source": [
    "df"
   ]
  },
  {
   "cell_type": "code",
   "execution_count": 8,
   "id": "40218771-701b-42e6-817a-811563eb28c4",
   "metadata": {},
   "outputs": [],
   "source": [
    "trading_dates = list(df['Date'].unique())"
   ]
  },
  {
   "cell_type": "code",
   "execution_count": 9,
   "id": "61833341-c580-4219-a49d-07159803bd69",
   "metadata": {},
   "outputs": [],
   "source": [
    "def _bql_execute_single(univ: list[str], field: dict[str, bql.om.bql_item.BqlItem]) -> pd.DataFrame:\n",
    "    \"\"\"Execute a BQL query with one field\"\"\"\n",
    "    req = bql.Request(univ, field)\n",
    "    data = bq.execute(req)\n",
    "    return data[0].df()\n",
    "\n",
    "def convert_to_figi(df: pd.DataFrame) -> pd.DataFrame:\n",
    "    \"\"\"Function to convert Bloomberg tickers in a dataframe to FIGIs for ESL\"\"\"\n",
    "    univ      = df['Security'].to_list()\n",
    "    field     = {'figi': bq.data.composite_id_bb_global()}\n",
    "    figi      = _bql_execute_single(univ, field)\n",
    "    merged_df = df.merge(figi, left_on='Security', right_index=True).sort_index()\n",
    "    return merged_df[['Date', 'figi', 'Decision', 'Confidence']].rename(columns={'figi':'Security'})\n",
    "    "
   ]
  },
  {
   "cell_type": "code",
   "execution_count": 10,
   "id": "055d8118-d58c-4296-89d0-cc53a32bc57c",
   "metadata": {},
   "outputs": [],
   "source": [
    "df1 = convert_to_figi(df)"
   ]
  },
  {
   "cell_type": "code",
   "execution_count": 11,
   "id": "6f9646c0-0b88-4c3f-b7da-15406f9a2b49",
   "metadata": {},
   "outputs": [],
   "source": [
    "def build_port_weights(signal: pd.DataFrame, events_df: pd.DataFrame) -> pd.DataFrame:\n",
    "    long_portfolio =  signal.copy(deep=True)\n",
    "    short_portfolio = signal.copy(deep=True)\n",
    "    \n",
    "    long_portfolio.loc[:,:] = False\n",
    "    short_portfolio.loc[:,:] = False\n",
    "    signal.loc[:,:] = 1\n",
    "    \n",
    "    # STEP 1 get the list of securities in th df_events database\n",
    "    unique_securities = list(events_df['Security'].unique())\n",
    "    \n",
    "    # STEP 2: iterate over the list of securities to look at the individual trades\n",
    "    for security in unique_securities:\n",
    "        try:\n",
    "            security_trades = events_df[events_df['Security'] == security]\n",
    "        \n",
    "            # STEP 3: iterate over the trades and update the long/ short portfolio depending on trade direction\n",
    "            for row in security_trades.itertuples():\n",
    "                if row.Decision == 'BUY':\n",
    "                    long_portfolio[security].loc[row.Date:] = True\n",
    "                    short_portfolio[security].loc[row.Date:] = False\n",
    "                if row.Decision == 'SELL':\n",
    "                    long_portfolio[security].loc[row.Date:] = False\n",
    "                    short_portfolio[security].loc[row.Date:] = True\n",
    "                if row.Decision == 'HOLD':\n",
    "                    continue\n",
    "                if row.Decision == 'Missing':\n",
    "                    continue\n",
    "        except KeyError:\n",
    "            print(f\"Missing: {security}\")\n",
    "    \n",
    "        # STEP 4: create an equal weighted long and short leg\n",
    "    long_portfolio_leg = ebh.leg_portfolio(\n",
    "        signal=signal,\n",
    "        weighting_scheme=WeightingScheme.EQUAL,\n",
    "        assets_filter=long_portfolio,\n",
    "        long_leg=True\n",
    "    )\n",
    "    \n",
    "    short_portfolio_leg = ebh.leg_portfolio(\n",
    "        signal=signal,\n",
    "        weighting_scheme=WeightingScheme.EQUAL,\n",
    "        assets_filter=short_portfolio,\n",
    "        long_leg=False\n",
    "    )\n",
    "    \n",
    "    long_short_portfolio = long_portfolio_leg.add(\n",
    "        short_portfolio_leg,\n",
    "        fill_value=0.0,\n",
    "    )\n",
    "    \n",
    "    # STEP 4: return the long and short portfolios\n",
    "    return long_short_portfolio#long_portfolio_leg, short_portfolio_leg"
   ]
  },
  {
   "cell_type": "code",
   "execution_count": 12,
   "id": "098e909b-f91b-4684-99cc-c535e8483ad2",
   "metadata": {},
   "outputs": [],
   "source": [
    "def event_backtest(df_events: pd.DataFrame, universe: UniverseFactory, signal: SignalFactory) -> pd.DataFrame:\n",
    "    \"\"\"Take a list of trades and create the weights in the portfolio\n",
    "    df_events: DataFrame with Date, Security, Decision (BUY/ SELL/ HOLD) and Confidence Columns\n",
    "    universe:  UniverseFactory object from Bloomberg Equity Signal Lab\n",
    "    signal:    SignalFactory object from Bloomberg Equity Signal Lab - this is usually price\n",
    "    \"\"\"\n",
    "    converted_df = convert_to_figi(df_events)\n",
    "    \n",
    "    signal.bind_universe(universe)\n",
    "    signal_df = signal.df()\n",
    "    return build_port_weights(signal_df,converted_df)"
   ]
  },
  {
   "cell_type": "code",
   "execution_count": null,
   "id": "23a029c7-d9c7-4c72-b7e8-1e9a07fad4c9",
   "metadata": {},
   "outputs": [],
   "source": [
    "lsp = event_backtest(df, universe, price) "
   ]
  },
  {
   "cell_type": "code",
   "execution_count": 13,
   "id": "08dce4df-e56a-42ec-b02c-e12fa5986a1d",
   "metadata": {},
   "outputs": [
    {
     "name": "stderr",
     "output_type": "stream",
     "text": [
      "100%|██████████| 1/1 [00:05<00:00,  5.28s/it]\n"
     ]
    }
   ],
   "source": [
    "price.bind_universe(universe)\n",
    "price_df = price.df()"
   ]
  },
  {
   "cell_type": "code",
   "execution_count": 19,
   "id": "dcc8966c-69be-450a-b327-16bf3919aae5",
   "metadata": {},
   "outputs": [],
   "source": [
    "\n",
    "\n",
    "port_long_short = portfolio_construction.from_user(\n",
    "    compute_weights_fn=build_port_weights,\n",
    "    total_returns=total_return,\n",
    "    trading_calendar=trading_calendar,\n",
    "    implementation_lag=1,\n",
    "    rebalance_freq=\"D\",\n",
    "    #trading_dates=trading_dates,\n",
    "    events_df=df1,\n",
    "    signal=price_df,\n",
    ")"
   ]
  },
  {
   "cell_type": "code",
   "execution_count": 25,
   "id": "d787f50c-ebbb-4f28-a7b9-32c668740b44",
   "metadata": {},
   "outputs": [],
   "source": [
    "def price_signal(signal:  DataItemFactory) -> DataItemFactory:\n",
    "    return signal\n",
    "\n",
    "prices_signal = SignalFactory.from_user(\n",
    "    user_func=price_signal,\n",
    "    start=start,\n",
    "    end=end,\n",
    "    label=\"market_cap\",\n",
    "    signal=cur_mkt_cap,\n",
    ")\n",
    "\n",
    "\n",
    "backtest = build_backtest(\n",
    "    universe=universe,                                  # Univ of choice from DataPack\n",
    "    benchmark_universe=benchmark,                       # Benchmark of choice from DataPack \n",
    "    start=start,                                        # Backtest start date\n",
    "    end=end,                                            # Backtest end date\n",
    "    namespace='events-bt',                 # The user S3 sandbox storage \n",
    "    signals=[prices_signal],                                 # My list of signals to use\n",
    "\n",
    "    portfolio_construction = port_long_short,\n",
    "\n",
    "    reports=[\n",
    "        \"PerformanceReport\",\n",
    "        #\"QuantileAnalyticsReport\",\n",
    "        \"DescriptiveStatisticsReport\",\n",
    "    ],\n",
    "    analytics_data_config=analytics_data_config,\n",
    ")"
   ]
  },
  {
   "cell_type": "code",
   "execution_count": 26,
   "id": "c0163076-3e09-44c2-a897-82ea2a342bf4",
   "metadata": {},
   "outputs": [
    {
     "data": {
      "text/plain": [
       "{'market_cap': <bloomberg.bquant.compute_graph.model.node.Node at 0x7f1de5ae5370>}"
      ]
     },
     "execution_count": 26,
     "metadata": {},
     "output_type": "execute_result"
    }
   ],
   "source": [
    "backtest.signals"
   ]
  },
  {
   "cell_type": "code",
   "execution_count": 27,
   "id": "1446becf-289b-4b7c-828a-798b5f0e83b5",
   "metadata": {},
   "outputs": [
    {
     "name": "stderr",
     "output_type": "stream",
     "text": [
      "100%|██████████| 112/112 [00:35<00:00,  3.15it/s]\n"
     ]
    }
   ],
   "source": [
    "backtest_results = backtest.evaluate_graph()"
   ]
  },
  {
   "cell_type": "code",
   "execution_count": 33,
   "id": "db5771f4-8719-4d00-834a-e7c895a5963b",
   "metadata": {},
   "outputs": [
    {
     "data": {
      "text/plain": [
       "_WorkflowResults(datasets={'Universe': <bloomberg.bquant.compute_graph.dataaccessor.data_accessor.DataAccessor object at 0x7f1dceeebe80>, 'cur_mkt_cap': <bloomberg.bquant.compute_graph.dataaccessor.data_accessor.DataAccessor object at 0x7f1dcef75d60>, 'day_to_day_tot_return_gross_dvds': <bloomberg.bquant.compute_graph.dataaccessor.data_accessor.DataAccessor object at 0x7f1dceef5040>, 'trading_calendar': <bloomberg.bquant.compute_graph.dataaccessor.data_accessor.DataAccessor object at 0x7f1dce1ad5b0>, 'beta': <bloomberg.bquant.compute_graph.dataaccessor.data_accessor.DataAccessor object at 0x7f1dceee7a00>, 'build_industry_classification_mapping': <bloomberg.bquant.compute_graph.dataaccessor.data_accessor.DataAccessor object at 0x7f1dce1aa520>, \"benchmark_IndexWeights['INDU Index']\": <bloomberg.bquant.compute_graph.dataaccessor.data_accessor.DataAccessor object at 0x7f1dcef3a1c0>, 'benchmark_day_to_day_tot_return_gross_dvds': <bloomberg.bquant.compute_graph.dataaccessor.data_accessor.DataAccessor object at 0x7f1dce1f5bb0>, 'benchmark_beta': <bloomberg.bquant.compute_graph.dataaccessor.data_accessor.DataAccessor object at 0x7f1dce1aa7f0>, 'benchmark_build_industry_classification_mapping': <bloomberg.bquant.compute_graph.dataaccessor.data_accessor.DataAccessor object at 0x7f1dceee7fd0>, 'benchmark_trading_calendar': <bloomberg.bquant.compute_graph.dataaccessor.data_accessor.DataAccessor object at 0x7f1dceee7760>}, signals={'market_cap': <bloomberg.bquant.compute_graph.dataaccessor.data_accessor.DataAccessor object at 0x7f1de5b70c70>}, transformers=None, signal_combination=None, portfolio_construction={'build_port_weights': {'market_cap': <bloomberg.bquant.compute_graph.dataaccessor.data_accessor.DataAccessor object at 0x7f1dce1f5b20>}}, analytics={'(\\'PerformanceStatisticsByYear\\', \"IndexWeights[\\'INDU Index\\']\")': <bloomberg.bquant.compute_graph.dataaccessor.data_accessor.DataAccessor object at 0x7f1dce1aa8b0>, '(\\'PerformanceStatistics\\', \"IndexWeights[\\'INDU Index\\']\")': <bloomberg.bquant.compute_graph.dataaccessor.data_accessor.DataAccessor object at 0x7f1dceee7520>, '(\\'MarketValue\\', \"IndexWeights[\\'INDU Index\\']\")': <bloomberg.bquant.compute_graph.dataaccessor.data_accessor.DataAccessor object at 0x7f1dce1ad2e0>, '(\\'Turnover\\', \"IndexWeights[\\'INDU Index\\']\")': <bloomberg.bquant.compute_graph.dataaccessor.data_accessor.DataAccessor object at 0x7f1de5a98e50>, '(\\'MaxDrawdown\\', \"IndexWeights[\\'INDU Index\\']\")': <bloomberg.bquant.compute_graph.dataaccessor.data_accessor.DataAccessor object at 0x7f1dce1ade20>, '(\\'SharpeRatio\\', \"IndexWeights[\\'INDU Index\\']\")': <bloomberg.bquant.compute_graph.dataaccessor.data_accessor.DataAccessor object at 0x7f1dceef5130>, '(\\'Drawdown\\', \"IndexWeights[\\'INDU Index\\']\")': <bloomberg.bquant.compute_graph.dataaccessor.data_accessor.DataAccessor object at 0x7f1dcef6f040>, '(\\'Holdings\\', \"IndexWeights[\\'INDU Index\\']\")': <bloomberg.bquant.compute_graph.dataaccessor.data_accessor.DataAccessor object at 0x7f1dceee7d30>, '(\\'Volatility\\', \"IndexWeights[\\'INDU Index\\']\")': <bloomberg.bquant.compute_graph.dataaccessor.data_accessor.DataAccessor object at 0x7f1dceec3070>, '(\\'AnnualizedReturn\\', \"IndexWeights[\\'INDU Index\\']\")': <bloomberg.bquant.compute_graph.dataaccessor.data_accessor.DataAccessor object at 0x7f1dce10c9d0>, '(\\'CumulativeReturn\\', \"IndexWeights[\\'INDU Index\\']\")': <bloomberg.bquant.compute_graph.dataaccessor.data_accessor.DataAccessor object at 0x7f1dcef3ab50>, '(\\'RollingVolatility\\', \"IndexWeights[\\'INDU Index\\']\")': <bloomberg.bquant.compute_graph.dataaccessor.data_accessor.DataAccessor object at 0x7f1dce1f5910>, '(\\'RollingSharpeRatio\\', \"IndexWeights[\\'INDU Index\\']\")': <bloomberg.bquant.compute_graph.dataaccessor.data_accessor.DataAccessor object at 0x7f1dcef6f4c0>, '(\\'Weights\\', \"IndexWeights[\\'INDU Index\\']\")': <bloomberg.bquant.compute_graph.dataaccessor.data_accessor.DataAccessor object at 0x7f1dceec3250>, '(\\'TransactionCost\\', \"IndexWeights[\\'INDU Index\\']\")': <bloomberg.bquant.compute_graph.dataaccessor.data_accessor.DataAccessor object at 0x7f1dcee4e760>, '(\\'Returns\\', \"IndexWeights[\\'INDU Index\\']\")': <bloomberg.bquant.compute_graph.dataaccessor.data_accessor.DataAccessor object at 0x7f1dce119850>, '(\\'FactorWeights\\', \"IndexWeights[\\'INDU Index\\']\")': <bloomberg.bquant.compute_graph.dataaccessor.data_accessor.DataAccessor object at 0x7f1de4186640>, \"('ActivePerformanceStatisticsByYear', 'COMBINED')\": <bloomberg.bquant.compute_graph.dataaccessor.data_accessor.DataAccessor object at 0x7f1dcc39e340>, \"('ActivePerformanceStatistics', 'COMBINED')\": <bloomberg.bquant.compute_graph.dataaccessor.data_accessor.DataAccessor object at 0x7f1dce130ac0>, \"('ActiveMarketValue', 'COMBINED')\": <bloomberg.bquant.compute_graph.dataaccessor.data_accessor.DataAccessor object at 0x7f1dcc3f37f0>, \"('ActiveTurnover', 'COMBINED')\": <bloomberg.bquant.compute_graph.dataaccessor.data_accessor.DataAccessor object at 0x7f1dcc3a9f40>, \"('ActiveMaxDrawdown', 'COMBINED')\": <bloomberg.bquant.compute_graph.dataaccessor.data_accessor.DataAccessor object at 0x7f1dce08c6d0>, \"('ActiveSharpeRatio', 'COMBINED')\": <bloomberg.bquant.compute_graph.dataaccessor.data_accessor.DataAccessor object at 0x7f1dcc36cb50>, \"('ActiveDrawdown', 'COMBINED')\": <bloomberg.bquant.compute_graph.dataaccessor.data_accessor.DataAccessor object at 0x7f1dcc39ee80>, \"('ActiveHoldings', 'COMBINED')\": <bloomberg.bquant.compute_graph.dataaccessor.data_accessor.DataAccessor object at 0x7f1dcef75970>, \"('ActiveVolatility', 'COMBINED')\": <bloomberg.bquant.compute_graph.dataaccessor.data_accessor.DataAccessor object at 0x7f1dce08c040>, \"('ActiveAnnualizedReturn', 'COMBINED')\": <bloomberg.bquant.compute_graph.dataaccessor.data_accessor.DataAccessor object at 0x7f1dce08b4f0>, \"('ActiveCumulativeReturn', 'COMBINED')\": <bloomberg.bquant.compute_graph.dataaccessor.data_accessor.DataAccessor object at 0x7f1dcc3c2fd0>, \"('ActiveRollingVolatility', 'COMBINED')\": <bloomberg.bquant.compute_graph.dataaccessor.data_accessor.DataAccessor object at 0x7f1dcc343b20>, \"('ActiveRollingSharpeRatio', 'COMBINED')\": <bloomberg.bquant.compute_graph.dataaccessor.data_accessor.DataAccessor object at 0x7f1dcc3a9a00>, \"('ActiveWeights', 'COMBINED')\": <bloomberg.bquant.compute_graph.dataaccessor.data_accessor.DataAccessor object at 0x7f1dce0e0ac0>, \"('ActiveTransactionCost', 'COMBINED')\": <bloomberg.bquant.compute_graph.dataaccessor.data_accessor.DataAccessor object at 0x7f1dcc374700>, \"('ActiveReturns', 'COMBINED')\": <bloomberg.bquant.compute_graph.dataaccessor.data_accessor.DataAccessor object at 0x7f1dcc3126d0>, \"('PerformanceStatisticsByYear', 'COMBINED')\": <bloomberg.bquant.compute_graph.dataaccessor.data_accessor.DataAccessor object at 0x7f1dcc343190>, \"('PerformanceStatistics', 'COMBINED')\": <bloomberg.bquant.compute_graph.dataaccessor.data_accessor.DataAccessor object at 0x7f1dce09d100>, \"('MarketValue', 'COMBINED')\": <bloomberg.bquant.compute_graph.dataaccessor.data_accessor.DataAccessor object at 0x7f1dcc36c700>, \"('Turnover', 'COMBINED')\": <bloomberg.bquant.compute_graph.dataaccessor.data_accessor.DataAccessor object at 0x7f1dce093d60>, \"('MaxDrawdown', 'COMBINED')\": <bloomberg.bquant.compute_graph.dataaccessor.data_accessor.DataAccessor object at 0x7f1dce05cac0>, \"('SharpeRatio', 'COMBINED')\": <bloomberg.bquant.compute_graph.dataaccessor.data_accessor.DataAccessor object at 0x7f1dcef77f40>, \"('Drawdown', 'COMBINED')\": <bloomberg.bquant.compute_graph.dataaccessor.data_accessor.DataAccessor object at 0x7f1dcc3406a0>, \"('Holdings', 'COMBINED')\": <bloomberg.bquant.compute_graph.dataaccessor.data_accessor.DataAccessor object at 0x7f1dce093790>, \"('Volatility', 'COMBINED')\": <bloomberg.bquant.compute_graph.dataaccessor.data_accessor.DataAccessor object at 0x7f1dce093490>, \"('AnnualizedReturn', 'COMBINED')\": <bloomberg.bquant.compute_graph.dataaccessor.data_accessor.DataAccessor object at 0x7f1dcc374a60>, \"('CumulativeReturn', 'COMBINED')\": <bloomberg.bquant.compute_graph.dataaccessor.data_accessor.DataAccessor object at 0x7f1dcc3405e0>, \"('RollingVolatility', 'COMBINED')\": <bloomberg.bquant.compute_graph.dataaccessor.data_accessor.DataAccessor object at 0x7f1dcc3121f0>, \"('RollingSharpeRatio', 'COMBINED')\": <bloomberg.bquant.compute_graph.dataaccessor.data_accessor.DataAccessor object at 0x7f1dce0dc5e0>, \"('Weights', 'COMBINED')\": <bloomberg.bquant.compute_graph.dataaccessor.data_accessor.DataAccessor object at 0x7f1dcc3c2580>, \"('TransactionCost', 'COMBINED')\": <bloomberg.bquant.compute_graph.dataaccessor.data_accessor.DataAccessor object at 0x7f1dcc340b80>, \"('Returns', 'COMBINED')\": <bloomberg.bquant.compute_graph.dataaccessor.data_accessor.DataAccessor object at 0x7f1dcc316940>, \"('ActivePerformanceStatisticsByYear', 'COMBINED-market_cap')\": <bloomberg.bquant.compute_graph.dataaccessor.data_accessor.DataAccessor object at 0x7f1dcc340fd0>, \"('ActivePerformanceStatistics', 'COMBINED-market_cap')\": <bloomberg.bquant.compute_graph.dataaccessor.data_accessor.DataAccessor object at 0x7f1dcc312cd0>, \"('ActiveMarketValue', 'COMBINED-market_cap')\": <bloomberg.bquant.compute_graph.dataaccessor.data_accessor.DataAccessor object at 0x7f1dcc3a9be0>, \"('ActiveTurnover', 'COMBINED-market_cap')\": <bloomberg.bquant.compute_graph.dataaccessor.data_accessor.DataAccessor object at 0x7f1dcc3f3a00>, \"('ActiveMaxDrawdown', 'COMBINED-market_cap')\": <bloomberg.bquant.compute_graph.dataaccessor.data_accessor.DataAccessor object at 0x7f1dce05cd90>, \"('ActiveSharpeRatio', 'COMBINED-market_cap')\": <bloomberg.bquant.compute_graph.dataaccessor.data_accessor.DataAccessor object at 0x7f1dcc3cd040>, \"('ActiveDrawdown', 'COMBINED-market_cap')\": <bloomberg.bquant.compute_graph.dataaccessor.data_accessor.DataAccessor object at 0x7f1dcc374d60>, \"('ActiveHoldings', 'COMBINED-market_cap')\": <bloomberg.bquant.compute_graph.dataaccessor.data_accessor.DataAccessor object at 0x7f1dcc343a60>, \"('ActiveVolatility', 'COMBINED-market_cap')\": <bloomberg.bquant.compute_graph.dataaccessor.data_accessor.DataAccessor object at 0x7f1dcc316ac0>, \"('ActiveAnnualizedReturn', 'COMBINED-market_cap')\": <bloomberg.bquant.compute_graph.dataaccessor.data_accessor.DataAccessor object at 0x7f1dcc3c2ca0>, \"('ActiveCumulativeReturn', 'COMBINED-market_cap')\": <bloomberg.bquant.compute_graph.dataaccessor.data_accessor.DataAccessor object at 0x7f1dcc340460>, \"('ActiveRollingVolatility', 'COMBINED-market_cap')\": <bloomberg.bquant.compute_graph.dataaccessor.data_accessor.DataAccessor object at 0x7f1dcc3cd5e0>, \"('ActiveRollingSharpeRatio', 'COMBINED-market_cap')\": <bloomberg.bquant.compute_graph.dataaccessor.data_accessor.DataAccessor object at 0x7f1dce093250>, \"('ActiveWeights', 'COMBINED-market_cap')\": <bloomberg.bquant.compute_graph.dataaccessor.data_accessor.DataAccessor object at 0x7f1dcc39e070>, \"('ActiveTransactionCost', 'COMBINED-market_cap')\": <bloomberg.bquant.compute_graph.dataaccessor.data_accessor.DataAccessor object at 0x7f1dcc36cdf0>, \"('ActiveReturns', 'COMBINED-market_cap')\": <bloomberg.bquant.compute_graph.dataaccessor.data_accessor.DataAccessor object at 0x7f1dcc312a00>, \"('PerformanceStatisticsByYear', 'COMBINED-market_cap')\": <bloomberg.bquant.compute_graph.dataaccessor.data_accessor.DataAccessor object at 0x7f1dcc3f3ee0>, \"('PerformanceStatistics', 'COMBINED-market_cap')\": <bloomberg.bquant.compute_graph.dataaccessor.data_accessor.DataAccessor object at 0x7f1dcc3a9520>, \"('MarketValue', 'COMBINED-market_cap')\": <bloomberg.bquant.compute_graph.dataaccessor.data_accessor.DataAccessor object at 0x7f1dcc312970>, \"('Turnover', 'COMBINED-market_cap')\": <bloomberg.bquant.compute_graph.dataaccessor.data_accessor.DataAccessor object at 0x7f1dcc36c130>, \"('MaxDrawdown', 'COMBINED-market_cap')\": <bloomberg.bquant.compute_graph.dataaccessor.data_accessor.DataAccessor object at 0x7f1dcc3a98e0>, \"('SharpeRatio', 'COMBINED-market_cap')\": <bloomberg.bquant.compute_graph.dataaccessor.data_accessor.DataAccessor object at 0x7f1dcc31e5e0>, \"('Drawdown', 'COMBINED-market_cap')\": <bloomberg.bquant.compute_graph.dataaccessor.data_accessor.DataAccessor object at 0x7f1dce0bab80>, \"('Holdings', 'COMBINED-market_cap')\": <bloomberg.bquant.compute_graph.dataaccessor.data_accessor.DataAccessor object at 0x7f1dcc340f40>, \"('Volatility', 'COMBINED-market_cap')\": <bloomberg.bquant.compute_graph.dataaccessor.data_accessor.DataAccessor object at 0x7f1dcc316be0>, \"('AnnualizedReturn', 'COMBINED-market_cap')\": <bloomberg.bquant.compute_graph.dataaccessor.data_accessor.DataAccessor object at 0x7f1dcc374070>, \"('CumulativeReturn', 'COMBINED-market_cap')\": <bloomberg.bquant.compute_graph.dataaccessor.data_accessor.DataAccessor object at 0x7f1de5a983d0>, \"('RollingVolatility', 'COMBINED-market_cap')\": <bloomberg.bquant.compute_graph.dataaccessor.data_accessor.DataAccessor object at 0x7f1dce093280>, \"('RollingSharpeRatio', 'COMBINED-market_cap')\": <bloomberg.bquant.compute_graph.dataaccessor.data_accessor.DataAccessor object at 0x7f1dcc31e610>, \"('Weights', 'COMBINED-market_cap')\": <bloomberg.bquant.compute_graph.dataaccessor.data_accessor.DataAccessor object at 0x7f1dcc36ce80>, \"('TransactionCost', 'COMBINED-market_cap')\": <bloomberg.bquant.compute_graph.dataaccessor.data_accessor.DataAccessor object at 0x7f1dce0baca0>, \"('Returns', 'COMBINED-market_cap')\": <bloomberg.bquant.compute_graph.dataaccessor.data_accessor.DataAccessor object at 0x7f1dcc3f32e0>, 'Returns': <bloomberg.bquant.compute_graph.dataaccessor.data_accessor.DataAccessor object at 0x7f1dcc312490>, 'TransactionCost': <bloomberg.bquant.compute_graph.dataaccessor.data_accessor.DataAccessor object at 0x7f1dcc312460>, 'Weights': <bloomberg.bquant.compute_graph.dataaccessor.data_accessor.DataAccessor object at 0x7f1dcc328430>, 'RollingSharpeRatio': <bloomberg.bquant.compute_graph.dataaccessor.data_accessor.DataAccessor object at 0x7f1dcc36c5e0>, 'RollingVolatility': <bloomberg.bquant.compute_graph.dataaccessor.data_accessor.DataAccessor object at 0x7f1dcc32ecd0>, 'CumulativeReturn': <bloomberg.bquant.compute_graph.dataaccessor.data_accessor.DataAccessor object at 0x7f1dcc343970>, 'AnnualizedReturn': <bloomberg.bquant.compute_graph.dataaccessor.data_accessor.DataAccessor object at 0x7f1dcc3a9940>, 'Volatility': <bloomberg.bquant.compute_graph.dataaccessor.data_accessor.DataAccessor object at 0x7f1dcc3f3580>, 'Holdings': <bloomberg.bquant.compute_graph.dataaccessor.data_accessor.DataAccessor object at 0x7f1dce0d6fd0>, 'Drawdown': <bloomberg.bquant.compute_graph.dataaccessor.data_accessor.DataAccessor object at 0x7f1dcc328c40>, 'SharpeRatio': <bloomberg.bquant.compute_graph.dataaccessor.data_accessor.DataAccessor object at 0x7f1dce0e0400>, 'MaxDrawdown': <bloomberg.bquant.compute_graph.dataaccessor.data_accessor.DataAccessor object at 0x7f1dcc3a9100>, 'Turnover': <bloomberg.bquant.compute_graph.dataaccessor.data_accessor.DataAccessor object at 0x7f1dcc32ec70>, 'MarketValue': <bloomberg.bquant.compute_graph.dataaccessor.data_accessor.DataAccessor object at 0x7f1dcc328ee0>, 'PerformanceStatistics': <bloomberg.bquant.compute_graph.dataaccessor.data_accessor.DataAccessor object at 0x7f1dcc3409a0>, 'PerformanceStatisticsByYear': <bloomberg.bquant.compute_graph.dataaccessor.data_accessor.DataAccessor object at 0x7f1dcc316d00>, 'PerformanceReport': <bloomberg.bquant.compute_graph.dataaccessor.data_accessor.DataAccessor object at 0x7f1dcc2d0a90>, 'ResultContainer': <bloomberg.bquant.compute_graph.dataaccessor.data_accessor.DataAccessor object at 0x7f1dce093160>}, _time_metric=                                                                          node_name  \\\n",
       "node_id                                                                               \n",
       "0f50849fdd86bf0c328a073566c880b4                                      FactorWeights   \n",
       "c51fc4ac84f2a985ab0178d619e27afa                         IndexWeights['INDU Index']   \n",
       "03ee5fcbd9141caa04304bdbfdaacad7                                           Universe   \n",
       "ec9a0ac1b03fe10132d408d9e74071df                                       bics_level_4   \n",
       "439727ecc947260070d49fd1b866ca41                                       bics_level_4   \n",
       "...                                                                             ...   \n",
       "d48985543387a39cc1fe888c94e1d8ca                                  RollingVolatility   \n",
       "555ba359c0eb2b02227ecfb3176723c3  ('ActiveRollingSharpeRatio', 'COMBINED-market_...   \n",
       "bd5d2d15f8305a3ef25b810c67e5023e                                 RollingSharpeRatio   \n",
       "bbfd343d7700d20a2452e4ad95f5faa2                                  PerformanceReport   \n",
       "b5dd9e890a28c5df676ef419d420238c                                    ResultContainer   \n",
       "\n",
       "                                  total_time  input_load  business_logic_exec  \\\n",
       "node_id                                                                         \n",
       "0f50849fdd86bf0c328a073566c880b4    0.636140    0.000001             0.000004   \n",
       "c51fc4ac84f2a985ab0178d619e27afa    4.286902    0.000001             4.133815   \n",
       "03ee5fcbd9141caa04304bdbfdaacad7    6.104482    0.000011             5.974640   \n",
       "ec9a0ac1b03fe10132d408d9e74071df    1.729415    0.160141             1.452973   \n",
       "439727ecc947260070d49fd1b866ca41    1.697276    0.148209             1.450865   \n",
       "...                                      ...         ...                  ...   \n",
       "d48985543387a39cc1fe888c94e1d8ca    0.062307    0.000003             0.000107   \n",
       "555ba359c0eb2b02227ecfb3176723c3    2.765452    0.091067             2.597139   \n",
       "bd5d2d15f8305a3ef25b810c67e5023e    0.050341    0.000003             0.000112   \n",
       "bbfd343d7700d20a2452e4ad95f5faa2    0.088195    0.000009             0.000240   \n",
       "b5dd9e890a28c5df676ef419d420238c    0.090409    0.044003             0.000015   \n",
       "\n",
       "                                  output_save  \n",
       "node_id                                        \n",
       "0f50849fdd86bf0c328a073566c880b4     0.635576  \n",
       "c51fc4ac84f2a985ab0178d619e27afa     0.152325  \n",
       "03ee5fcbd9141caa04304bdbfdaacad7     0.128325  \n",
       "ec9a0ac1b03fe10132d408d9e74071df     0.115599  \n",
       "439727ecc947260070d49fd1b866ca41     0.097412  \n",
       "...                                       ...  \n",
       "d48985543387a39cc1fe888c94e1d8ca     0.061516  \n",
       "555ba359c0eb2b02227ecfb3176723c3     0.076682  \n",
       "bd5d2d15f8305a3ef25b810c67e5023e     0.049873  \n",
       "bbfd343d7700d20a2452e4ad95f5faa2     0.087597  \n",
       "b5dd9e890a28c5df676ef419d420238c     0.045967  \n",
       "\n",
       "[120 rows x 5 columns], _analytics_config=None, _analytics_results=ResultContainer: [PerformanceAnalytics])"
      ]
     },
     "execution_count": 33,
     "metadata": {},
     "output_type": "execute_result"
    }
   ],
   "source": [
    "backtest_results"
   ]
  },
  {
   "cell_type": "code",
   "execution_count": 34,
   "id": "71a1aea7-8d3d-4db9-a001-89a0dc0e5be6",
   "metadata": {},
   "outputs": [
    {
     "data": {
      "application/vnd.jupyter.widget-view+json": {
       "model_id": "b1ae56154944454d911edf2966f7e6fe",
       "version_major": 2,
       "version_minor": 0
      },
      "text/plain": [
       "HBox(children=(VBox(children=(Image(value=b'GIF89a\\xd7\\x00\\x14\\x00\\xf4\\x00\\x00\\xff\\xff\\xff\\xf7\\xf7\\xf7\\xf3\\xf3…"
      ]
     },
     "metadata": {},
     "output_type": "display_data"
    },
    {
     "data": {
      "application/vnd.jupyter.widget-view+json": {
       "model_id": "ca28e18cf6164415a2b905264c6028db",
       "version_major": 2,
       "version_minor": 0
      },
      "text/plain": [
       "VBox(children=(HTML(value='<h2>Backtest Analytics Dashboard</h2>'), Label(value=\"Benchmark: IndexWeights['INDU…"
      ]
     },
     "metadata": {},
     "output_type": "display_data"
    }
   ],
   "source": [
    "backtest_results.plot_analytics()"
   ]
  },
  {
   "cell_type": "code",
   "execution_count": null,
   "id": "3cee04d6-4c26-4fe8-96b4-bdac4cdda0bd",
   "metadata": {},
   "outputs": [],
   "source": [
    "sp"
   ]
  },
  {
   "cell_type": "code",
   "execution_count": null,
   "id": "359362f1-313b-4154-b7b6-ac81a54cc6bc",
   "metadata": {},
   "outputs": [],
   "source": [
    "long_portfolio = price.df()"
   ]
  },
  {
   "cell_type": "code",
   "execution_count": null,
   "id": "3fa2a615-c2f6-4671-bd30-2b4ad99d44e2",
   "metadata": {},
   "outputs": [],
   "source": [
    "short_portfolio = long_portfolio.copy(deep=True)"
   ]
  },
  {
   "cell_type": "code",
   "execution_count": null,
   "id": "222ca8b4-2654-41fa-8c1c-a573d70a0bfc",
   "metadata": {},
   "outputs": [],
   "source": [
    "long_portfolio.loc[:,:] = False\n",
    "short_portfolio.loc[:,:] = False"
   ]
  },
  {
   "cell_type": "code",
   "execution_count": null,
   "id": "71f6afe4-57e8-4e3b-8597-d7062be7ec56",
   "metadata": {},
   "outputs": [],
   "source": [
    "df1"
   ]
  },
  {
   "cell_type": "code",
   "execution_count": null,
   "id": "919e8f51-e471-4d80-b77c-a78322dbbfe4",
   "metadata": {},
   "outputs": [],
   "source": [
    "df1[df1['Decision'] == 'BUY']"
   ]
  },
  {
   "cell_type": "code",
   "execution_count": null,
   "id": "0993883f-81d4-4a2b-9d2d-2048f5f4b015",
   "metadata": {},
   "outputs": [],
   "source": [
    "unique_securities = list(df1['Security'].unique())\n",
    "#unique_securities"
   ]
  },
  {
   "cell_type": "code",
   "execution_count": null,
   "id": "45f7443d-3e4b-4724-890a-ce5299236769",
   "metadata": {},
   "outputs": [],
   "source": [
    "for security in unique_securities:\n",
    "    print(security)\n",
    "    security_trades = df1[df1['Security'] == security]\n",
    "\n",
    "    # STEP 3: iterate over the trades and update the long/ short portfolio depending on trade direction\n",
    "    for row in security_trades.itertuples():\n",
    "        if row.Decision == 'BUY':\n",
    "            long_portfolio[security].loc[row.Date:] = True\n",
    "            short_portfolio[security].loc[row.Date:] = False\n",
    "        if row.Decision == 'SELL':\n",
    "            long_portfolio[security].loc[row.Date:] = False\n",
    "            short_portfolio[security].loc[row.Date:] = True\n",
    "        if row.Decision == 'HOLD':\n",
    "            continue\n",
    "        if row.Decision == 'Missing':\n",
    "            continue"
   ]
  },
  {
   "cell_type": "code",
   "execution_count": null,
   "id": "b8a89f44-58b2-45bb-8007-3bb9e767f8cb",
   "metadata": {},
   "outputs": [],
   "source": []
  },
  {
   "cell_type": "code",
   "execution_count": null,
   "id": "656436c0-0a60-4e43-9e8b-8f8db146ece1",
   "metadata": {},
   "outputs": [],
   "source": []
  },
  {
   "cell_type": "code",
   "execution_count": null,
   "id": "5f73dbe0-fc6a-459d-8d4c-c7e89b56c1bc",
   "metadata": {},
   "outputs": [],
   "source": [
    "universe.df()"
   ]
  },
  {
   "cell_type": "code",
   "execution_count": null,
   "id": "f63940a7-31ea-45c3-8404-d9e4ee954f2e",
   "metadata": {},
   "outputs": [],
   "source": [
    "# modify the price signal\n",
    "price.bind_universe(universe)\n",
    "price_df = price.df()"
   ]
  },
  {
   "cell_type": "code",
   "execution_count": null,
   "id": "dee44467-b535-44d6-84d8-b830120faf03",
   "metadata": {},
   "outputs": [],
   "source": [
    "price_df.loc[:,:] = False"
   ]
  },
  {
   "cell_type": "code",
   "execution_count": null,
   "id": "0e1c8340-f6f0-4967-a8fa-7fe250b19672",
   "metadata": {},
   "outputs": [],
   "source": [
    "secs = list(price_df.columns)"
   ]
  },
  {
   "cell_type": "code",
   "execution_count": null,
   "id": "da145115-c4a0-489e-a27c-532d937271cf",
   "metadata": {},
   "outputs": [],
   "source": [
    "req = bql.Request(secs, bq.data.name())\n",
    "data = bq.execute(req)\n",
    "data[0].df() # BBG000BP52R2"
   ]
  },
  {
   "cell_type": "code",
   "execution_count": null,
   "id": "e35963eb-335a-464e-9818-2b02fa397b16",
   "metadata": {},
   "outputs": [],
   "source": [
    "price_df['BBG000BCQZS4'].loc['2024-02-28':] = False\n"
   ]
  },
  {
   "cell_type": "code",
   "execution_count": null,
   "id": "a4978a1b-544e-46cf-8ebc-a87af8f3c2d6",
   "metadata": {},
   "outputs": [],
   "source": []
  },
  {
   "cell_type": "code",
   "execution_count": null,
   "id": "923a2b32-d38d-45d6-8c55-3f4a456bed45",
   "metadata": {},
   "outputs": [],
   "source": [
    "price_df"
   ]
  },
  {
   "cell_type": "code",
   "execution_count": null,
   "id": "706b1696-5465-4e36-a13d-96184b4284f9",
   "metadata": {},
   "outputs": [],
   "source": []
  }
 ],
 "metadata": {
  "kernelspec": {
   "display_name": "Bloomberg Lab Python 3",
   "language": "python",
   "name": "remote-jupyterpython"
  },
  "language_info": {
   "codemirror_mode": {
    "name": "ipython",
    "version": 3
   },
   "file_extension": ".py",
   "mimetype": "text/x-python",
   "name": "python",
   "nbconvert_exporter": "python",
   "pygments_lexer": "ipython3",
   "version": "3.9.12"
  }
 },
 "nbformat": 4,
 "nbformat_minor": 5
}
