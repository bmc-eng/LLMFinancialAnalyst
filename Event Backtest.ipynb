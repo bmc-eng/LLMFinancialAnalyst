{
 "cells": [
  {
   "cell_type": "code",
   "execution_count": null,
   "id": "2f0c73c6-cbb3-400f-89f4-9e7e44e7aede",
   "metadata": {},
   "outputs": [],
   "source": [
    "# Install all required packages\n",
    "%package install bloomberg.bquant.signal_lab=1.5.2"
   ]
  },
  {
   "cell_type": "code",
   "execution_count": null,
   "id": "f2de3c88-a46a-41dd-869b-7b51ff98bce4",
   "metadata": {},
   "outputs": [],
   "source": [
    "import bloomberg.bquant.signal_lab as signal_lab\n",
    "signal_lab.__version__"
   ]
  },
  {
   "cell_type": "code",
   "execution_count": 5,
   "id": "419a4c5e-9169-4c77-875f-3941c675b33e",
   "metadata": {},
   "outputs": [],
   "source": [
    "import bql\n",
    "\n",
    "from bloomberg.bquant.signal_lab.workflow.node import (\n",
    "    industry_grouping, portfolio_construction)\n",
    "from bloomberg.bquant.signal_lab.signal.transformers import WeightingScheme\n",
    "from bloomberg.bquant.signal_lab.workflow.factory import (\n",
    "    UniverseFactory,\n",
    "    DataItemFactory,\n",
    "    SignalFactory,\n",
    ")\n",
    "from bloomberg.bquant.signal_lab.workflow import (\n",
    "    AnalyticsDataConfig,\n",
    "    build_backtest,\n",
    ")\n",
    "\n",
    "from bloomberg.bquant.signal_lab.workflow.utils import get_sandbox_path\n",
    "\n",
    "import utils.event_backtest_helper as ebh\n",
    "import backtest_params as bp\n",
    "\n",
    "import numpy as np\n",
    "import pandas as pd\n",
    "import importlib"
   ]
  },
  {
   "cell_type": "code",
   "execution_count": null,
   "id": "a3270973-53df-44b4-b1cc-e65add971b76",
   "metadata": {},
   "outputs": [],
   "source": [
    "importlib.reload(ebh)"
   ]
  },
  {
   "cell_type": "code",
   "execution_count": 6,
   "id": "c89f4bd5-3643-46dc-ae5c-fc0eb79ef3c9",
   "metadata": {},
   "outputs": [
    {
     "data": {
      "text/plain": [
       "'s3://awmgd-prod-finml-sandbox-user/bclarke16/esl/datapack_snapshot'"
      ]
     },
     "execution_count": 6,
     "metadata": {},
     "output_type": "execute_result"
    }
   ],
   "source": [
    "# Get the saved DataPack path\n",
    "bq = bql.Service()\n",
    "data_pack_path = f\"{get_sandbox_path()}/esl/datapack_snapshot\"\n",
    "data_pack_path"
   ]
  },
  {
   "cell_type": "code",
   "execution_count": null,
   "id": "2b61a205-9a4a-44e4-a3e1-871cd4294cd2",
   "metadata": {},
   "outputs": [],
   "source": [
    "# Key backtest parameters\n",
    "start = \"2020-01-05\"\n",
    "end = \"2024-03-01\"\n",
    "universe_name = \"INDU Index\"\n",
    "\n",
    "# Trade information\n",
    "# Import the test data set while developing\n",
    "df = pd.read_csv('test_analysis.csv')\n",
    "df = df[['Date','Security','Decision','Confidence']]\n",
    "df = df.head(1)"
   ]
  },
  {
   "cell_type": "code",
   "execution_count": null,
   "id": "eea74993-b9bd-4de8-87f6-fee859059ab3",
   "metadata": {},
   "outputs": [],
   "source": [
    "universe, benchmark, trading_calendar = bp.get_universe_params(start, end, universe_name, data_pack_path)\n",
    "price, cur_mkt_cap, total_return = bp.get_return_params(start, end, data_pack_path)\n",
    "analytics_data_config = bp.get_analytics_data_config(start, end, universe_name, data_pack_path)"
   ]
  },
  {
   "cell_type": "code",
   "execution_count": null,
   "id": "1810229d-94e9-4ea8-b92c-05cf3572c614",
   "metadata": {},
   "outputs": [],
   "source": []
  },
  {
   "cell_type": "code",
   "execution_count": null,
   "id": "15efefc5-1164-402f-8950-bd3147242af1",
   "metadata": {},
   "outputs": [],
   "source": []
  },
  {
   "cell_type": "code",
   "execution_count": null,
   "id": "976fe6ae-0fa6-42b1-919d-a37e11411332",
   "metadata": {},
   "outputs": [],
   "source": []
  },
  {
   "cell_type": "code",
   "execution_count": null,
   "id": "40218771-701b-42e6-817a-811563eb28c4",
   "metadata": {},
   "outputs": [],
   "source": []
  },
  {
   "cell_type": "code",
   "execution_count": null,
   "id": "61833341-c580-4219-a49d-07159803bd69",
   "metadata": {},
   "outputs": [],
   "source": [
    "def _bql_execute_single(univ: list[str], field: dict[str, bql.om.bql_item.BqlItem]) -> pd.DataFrame:\n",
    "    \"\"\"Execute a BQL query with one field\"\"\"\n",
    "    req = bql.Request(univ, field)\n",
    "    data = bq.execute(req)\n",
    "    return data[0].df()\n",
    "\n",
    "def convert_to_figi(df: pd.DataFrame) -> pd.DataFrame:\n",
    "    \"\"\"Function to convert Bloomberg tickers in a dataframe to FIGIs for ESL\"\"\"\n",
    "    univ      = df['Security'].to_list()\n",
    "    field     = {'figi': bq.data.composite_id_bb_global()}\n",
    "    figi      = _bql_execute_single(univ, field)\n",
    "    merged_df = df.merge(figi, left_on='Security', right_index=True).sort_index()\n",
    "    return merged_df[['Date', 'figi', 'Decision', 'Confidence']].rename(columns={'figi':'Security'})\n",
    "    "
   ]
  },
  {
   "cell_type": "code",
   "execution_count": null,
   "id": "055d8118-d58c-4296-89d0-cc53a32bc57c",
   "metadata": {},
   "outputs": [],
   "source": [
    "df1 = convert_to_figi(df)"
   ]
  },
  {
   "cell_type": "code",
   "execution_count": null,
   "id": "29df5902-b018-4976-9d52-182052074f85",
   "metadata": {},
   "outputs": [],
   "source": [
    "df1"
   ]
  },
  {
   "cell_type": "code",
   "execution_count": null,
   "id": "6f9646c0-0b88-4c3f-b7da-15406f9a2b49",
   "metadata": {},
   "outputs": [],
   "source": [
    "def build_port_weights(signal: pd.DataFrame, events_df: pd.DataFrame) -> pd.DataFrame:\n",
    "    long_portfolio =  signal.copy(deep=True)\n",
    "    short_portfolio = signal.copy(deep=True)\n",
    "    \n",
    "    long_portfolio.loc[:,:] = False\n",
    "    short_portfolio.loc[:,:] = False\n",
    "    signal.loc[:,:] = 1\n",
    "    \n",
    "    # STEP 1 get the list of securities in th df_events database\n",
    "    unique_securities = list(events_df['Security'].unique())\n",
    "    \n",
    "    # STEP 2: iterate over the list of securities to look at the individual trades\n",
    "    for security in unique_securities:\n",
    "        try:\n",
    "            security_trades = events_df[events_df['Security'] == security]\n",
    "        \n",
    "            # STEP 3: iterate over the trades and update the long/ short portfolio depending on trade direction\n",
    "            for row in security_trades.itertuples():\n",
    "                if row.Decision == 'BUY':\n",
    "                    long_portfolio[security].loc[row.Date:] = True\n",
    "                    short_portfolio[security].loc[row.Date:] = False\n",
    "                if row.Decision == 'SELL':\n",
    "                    long_portfolio[security].loc[row.Date:] = False\n",
    "                    short_portfolio[security].loc[row.Date:] = True\n",
    "                if row.Decision == 'HOLD':\n",
    "                    continue\n",
    "                if row.Decision == 'Missing':\n",
    "                    continue\n",
    "        except KeyError:\n",
    "            print(f\"Missing: {security}\")\n",
    "    \n",
    "        # STEP 4: create an equal weighted long and short leg\n",
    "    long_portfolio_leg = ebh.leg_portfolio(\n",
    "        signal=signal,\n",
    "        weighting_scheme=WeightingScheme.EQUAL,\n",
    "        assets_filter=long_portfolio,\n",
    "        long_leg=True\n",
    "    )\n",
    "    \n",
    "    short_portfolio_leg = ebh.leg_portfolio(\n",
    "        signal=signal,\n",
    "        weighting_scheme=WeightingScheme.EQUAL,\n",
    "        assets_filter=short_portfolio,\n",
    "        long_leg=False\n",
    "    )\n",
    "    \n",
    "    long_short_portfolio = long_portfolio_leg.add(\n",
    "        short_portfolio_leg,\n",
    "        fill_value=0.0,\n",
    "    )\n",
    "    \n",
    "    # STEP 4: return the long and short portfolios\n",
    "    return long_short_portfolio#long_portfolio_leg, short_portfolio_leg"
   ]
  },
  {
   "cell_type": "code",
   "execution_count": null,
   "id": "098e909b-f91b-4684-99cc-c535e8483ad2",
   "metadata": {},
   "outputs": [],
   "source": [
    "def event_backtest(df_events: pd.DataFrame, universe: UniverseFactory, signal: SignalFactory) -> pd.DataFrame:\n",
    "    \"\"\"Take a list of trades and create the weights in the portfolio\n",
    "    df_events: DataFrame with Date, Security, Decision (BUY/ SELL/ HOLD) and Confidence Columns\n",
    "    universe:  UniverseFactory object from Bloomberg Equity Signal Lab\n",
    "    signal:    SignalFactory object from Bloomberg Equity Signal Lab - this is usually price\n",
    "    \"\"\"\n",
    "    converted_df = convert_to_figi(df_events)\n",
    "    \n",
    "    signal.bind_universe(universe)\n",
    "    signal_df = signal.df()\n",
    "    return build_port_weights(signal_df,converted_df)"
   ]
  },
  {
   "cell_type": "code",
   "execution_count": null,
   "id": "23a029c7-d9c7-4c72-b7e8-1e9a07fad4c9",
   "metadata": {},
   "outputs": [],
   "source": [
    "lsp = event_backtest(df, universe, price) "
   ]
  },
  {
   "cell_type": "code",
   "execution_count": null,
   "id": "08dce4df-e56a-42ec-b02c-e12fa5986a1d",
   "metadata": {},
   "outputs": [],
   "source": [
    "price.bind_universe(universe)\n",
    "price_df = price.df()"
   ]
  },
  {
   "cell_type": "code",
   "execution_count": null,
   "id": "dcc8966c-69be-450a-b327-16bf3919aae5",
   "metadata": {},
   "outputs": [],
   "source": [
    "\n",
    "\n",
    "port_long_short = portfolio_construction.from_user(\n",
    "    compute_weights_fn=build_port_weights,\n",
    "    total_returns=total_return,\n",
    "    trading_calendar=trading_calendar,\n",
    "    implementation_lag=1,\n",
    "    rebalance_freq=\"D\",\n",
    "    #trading_dates=trading_dates,\n",
    "    events_df=df1,\n",
    "    signal=price_df,\n",
    ")"
   ]
  },
  {
   "cell_type": "code",
   "execution_count": null,
   "id": "d787f50c-ebbb-4f28-a7b9-32c668740b44",
   "metadata": {},
   "outputs": [],
   "source": [
    "def price_signal(signal:  DataItemFactory) -> DataItemFactory:\n",
    "    return signal\n",
    "\n",
    "prices_signal = SignalFactory.from_user(\n",
    "    user_func=price_signal,\n",
    "    start=start,\n",
    "    end=end,\n",
    "    label=\"market_cap\",\n",
    "    signal=total_return,\n",
    ")\n",
    "\n",
    "\n",
    "backtest = build_backtest(\n",
    "    universe=universe,                                  # Univ of choice from DataPack\n",
    "    benchmark_universe=benchmark,                       # Benchmark of choice from DataPack \n",
    "    start=start,                                        # Backtest start date\n",
    "    end=end,                                            # Backtest end date\n",
    "    namespace='events-bt',                 # The user S3 sandbox storage \n",
    "    signals=[prices_signal],                                 # My list of signals to use\n",
    "\n",
    "    portfolio_construction = port_long_short,\n",
    "\n",
    "    reports=[\n",
    "        \"PerformanceReport\",\n",
    "        \"QuantileAnalyticsReport\",\n",
    "        \"DescriptiveStatisticsReport\",\n",
    "    ],\n",
    "    analytics_data_config= analytics_data_config,\n",
    ")"
   ]
  },
  {
   "cell_type": "code",
   "execution_count": null,
   "id": "c0163076-3e09-44c2-a897-82ea2a342bf4",
   "metadata": {},
   "outputs": [],
   "source": [
    "backtest.signals"
   ]
  },
  {
   "cell_type": "code",
   "execution_count": null,
   "id": "1446becf-289b-4b7c-828a-798b5f0e83b5",
   "metadata": {},
   "outputs": [],
   "source": [
    "backtest_results = backtest.evaluate_graph()"
   ]
  },
  {
   "cell_type": "code",
   "execution_count": null,
   "id": "db5771f4-8719-4d00-834a-e7c895a5963b",
   "metadata": {},
   "outputs": [],
   "source": [
    "#backtest_results"
   ]
  },
  {
   "cell_type": "code",
   "execution_count": null,
   "id": "71a1aea7-8d3d-4db9-a001-89a0dc0e5be6",
   "metadata": {},
   "outputs": [],
   "source": [
    "backtest_results.plot_analytics()"
   ]
  },
  {
   "cell_type": "code",
   "execution_count": null,
   "id": "1910991c-7668-43e6-8007-25c95c99e2b7",
   "metadata": {},
   "outputs": [],
   "source": []
  },
  {
   "cell_type": "code",
   "execution_count": null,
   "id": "28f0dcf3-9b6e-4c3d-a149-3ae1f47fe5d8",
   "metadata": {},
   "outputs": [],
   "source": []
  },
  {
   "cell_type": "code",
   "execution_count": null,
   "id": "62bae64c-0043-4740-9735-1f8a3f4a6679",
   "metadata": {},
   "outputs": [],
   "source": []
  },
  {
   "cell_type": "code",
   "execution_count": null,
   "id": "d6a4a327-8cee-4f88-b050-3cac2f96f633",
   "metadata": {},
   "outputs": [],
   "source": []
  },
  {
   "cell_type": "code",
   "execution_count": null,
   "id": "6c80937d-d105-4e67-98cf-bbabb7712d87",
   "metadata": {},
   "outputs": [],
   "source": []
  },
  {
   "cell_type": "code",
   "execution_count": null,
   "id": "3407b3e3-be26-4a48-b69b-72a79c7c85e8",
   "metadata": {},
   "outputs": [],
   "source": []
  },
  {
   "cell_type": "code",
   "execution_count": null,
   "id": "33f510df-8b0c-4276-9f1c-05e28b0172a8",
   "metadata": {},
   "outputs": [],
   "source": []
  },
  {
   "cell_type": "code",
   "execution_count": null,
   "id": "d711af75-14bd-4cba-83a7-8576d3f4b92f",
   "metadata": {},
   "outputs": [],
   "source": []
  },
  {
   "cell_type": "code",
   "execution_count": 3,
   "id": "1142e36d-eacb-4242-b88b-94b003e2972f",
   "metadata": {},
   "outputs": [
    {
     "data": {
      "text/plain": [
       "<module 'event_study' from '/project/event_study.py'>"
      ]
     },
     "execution_count": 3,
     "metadata": {},
     "output_type": "execute_result"
    }
   ],
   "source": [
    "import event_study as es\n",
    "import importlib\n",
    "importlib.reload(es)"
   ]
  },
  {
   "cell_type": "code",
   "execution_count": 7,
   "id": "69ab914c-ffeb-46c3-8900-3ab43208947f",
   "metadata": {},
   "outputs": [],
   "source": [
    "# Key backtest parameters\n",
    "start = \"2020-01-05\"\n",
    "end = \"2024-03-01\"\n",
    "universe_name = \"INDU Index\"\n",
    "\n",
    "# Trade information\n",
    "# Import the test data set while developing\n",
    "df = pd.read_csv('test_analysis.csv')\n",
    "df = df[['Date','Security','Decision','Confidence']]\n",
    "df = df.head(1)\n",
    "\n",
    "backtest = es.EventBacktest(start,end,'INDU Index',data_pack_path)"
   ]
  },
  {
   "cell_type": "code",
   "execution_count": 8,
   "id": "5e51a370-8c25-4d57-b885-0663ecf52080",
   "metadata": {},
   "outputs": [
    {
     "name": "stderr",
     "output_type": "stream",
     "text": [
      "100%|██████████| 1/1 [00:05<00:00,  5.94s/it]\n",
      "100%|██████████| 117/117 [00:33<00:00,  3.49it/s]\n"
     ]
    }
   ],
   "source": [
    "bt = backtest.run(df,'test1')"
   ]
  },
  {
   "cell_type": "code",
   "execution_count": 9,
   "id": "14497c36-84fa-4678-8bfc-347f88009c0a",
   "metadata": {},
   "outputs": [
    {
     "data": {
      "application/vnd.jupyter.widget-view+json": {
       "model_id": "bc8e9f3265e540549108aee3c016ad4b",
       "version_major": 2,
       "version_minor": 0
      },
      "text/plain": [
       "HBox(children=(VBox(children=(Image(value=b'GIF89a\\xd7\\x00\\x14\\x00\\xf4\\x00\\x00\\xff\\xff\\xff\\xf7\\xf7\\xf7\\xf3\\xf3…"
      ]
     },
     "metadata": {},
     "output_type": "display_data"
    },
    {
     "data": {
      "application/vnd.jupyter.widget-view+json": {
       "model_id": "0c23625e81b24afc970f20c064ad2354",
       "version_major": 2,
       "version_minor": 0
      },
      "text/plain": [
       "VBox(children=(HTML(value='<h2>Backtest Analytics Dashboard</h2>'), Label(value=\"Benchmark: IndexWeights['INDU…"
      ]
     },
     "metadata": {},
     "output_type": "display_data"
    }
   ],
   "source": [
    "bt.plot_analytics()"
   ]
  },
  {
   "cell_type": "code",
   "execution_count": null,
   "id": "dd7a0c80-663b-40e6-8ff9-ae632655fc7c",
   "metadata": {},
   "outputs": [],
   "source": []
  },
  {
   "cell_type": "code",
   "execution_count": null,
   "id": "d1e1eaef-e181-44a5-93d2-06527621bcea",
   "metadata": {},
   "outputs": [],
   "source": []
  },
  {
   "cell_type": "code",
   "execution_count": null,
   "id": "12dabcfa-526a-4da4-870f-f112e9283c24",
   "metadata": {},
   "outputs": [],
   "source": []
  },
  {
   "cell_type": "code",
   "execution_count": null,
   "id": "dad33987-aac9-4991-bdac-b360897182b2",
   "metadata": {},
   "outputs": [],
   "source": []
  },
  {
   "cell_type": "code",
   "execution_count": null,
   "id": "c40e60e1-b60a-4403-b56c-0dab0dfcdbcc",
   "metadata": {},
   "outputs": [],
   "source": []
  },
  {
   "cell_type": "code",
   "execution_count": null,
   "id": "d78a3336-ca80-439d-9ce4-b504c3927c89",
   "metadata": {},
   "outputs": [],
   "source": []
  },
  {
   "cell_type": "code",
   "execution_count": null,
   "id": "3cee04d6-4c26-4fe8-96b4-bdac4cdda0bd",
   "metadata": {},
   "outputs": [],
   "source": [
    "sp"
   ]
  },
  {
   "cell_type": "code",
   "execution_count": null,
   "id": "359362f1-313b-4154-b7b6-ac81a54cc6bc",
   "metadata": {},
   "outputs": [],
   "source": [
    "long_portfolio = price.df()"
   ]
  },
  {
   "cell_type": "code",
   "execution_count": null,
   "id": "3fa2a615-c2f6-4671-bd30-2b4ad99d44e2",
   "metadata": {},
   "outputs": [],
   "source": [
    "short_portfolio = long_portfolio.copy(deep=True)"
   ]
  },
  {
   "cell_type": "code",
   "execution_count": null,
   "id": "222ca8b4-2654-41fa-8c1c-a573d70a0bfc",
   "metadata": {},
   "outputs": [],
   "source": [
    "long_portfolio.loc[:,:] = False\n",
    "short_portfolio.loc[:,:] = False"
   ]
  },
  {
   "cell_type": "code",
   "execution_count": null,
   "id": "71f6afe4-57e8-4e3b-8597-d7062be7ec56",
   "metadata": {},
   "outputs": [],
   "source": [
    "df1"
   ]
  },
  {
   "cell_type": "code",
   "execution_count": null,
   "id": "919e8f51-e471-4d80-b77c-a78322dbbfe4",
   "metadata": {},
   "outputs": [],
   "source": [
    "df1[df1['Decision'] == 'BUY']"
   ]
  },
  {
   "cell_type": "code",
   "execution_count": null,
   "id": "0993883f-81d4-4a2b-9d2d-2048f5f4b015",
   "metadata": {},
   "outputs": [],
   "source": [
    "unique_securities = list(df1['Security'].unique())\n",
    "#unique_securities"
   ]
  },
  {
   "cell_type": "code",
   "execution_count": null,
   "id": "45f7443d-3e4b-4724-890a-ce5299236769",
   "metadata": {},
   "outputs": [],
   "source": [
    "for security in unique_securities:\n",
    "    print(security)\n",
    "    security_trades = df1[df1['Security'] == security]\n",
    "\n",
    "    # STEP 3: iterate over the trades and update the long/ short portfolio depending on trade direction\n",
    "    for row in security_trades.itertuples():\n",
    "        if row.Decision == 'BUY':\n",
    "            long_portfolio[security].loc[row.Date:] = True\n",
    "            short_portfolio[security].loc[row.Date:] = False\n",
    "        if row.Decision == 'SELL':\n",
    "            long_portfolio[security].loc[row.Date:] = False\n",
    "            short_portfolio[security].loc[row.Date:] = True\n",
    "        if row.Decision == 'HOLD':\n",
    "            continue\n",
    "        if row.Decision == 'Missing':\n",
    "            continue"
   ]
  },
  {
   "cell_type": "code",
   "execution_count": null,
   "id": "b8a89f44-58b2-45bb-8007-3bb9e767f8cb",
   "metadata": {},
   "outputs": [],
   "source": []
  },
  {
   "cell_type": "code",
   "execution_count": null,
   "id": "656436c0-0a60-4e43-9e8b-8f8db146ece1",
   "metadata": {},
   "outputs": [],
   "source": []
  },
  {
   "cell_type": "code",
   "execution_count": null,
   "id": "5f73dbe0-fc6a-459d-8d4c-c7e89b56c1bc",
   "metadata": {},
   "outputs": [],
   "source": [
    "universe.df()"
   ]
  },
  {
   "cell_type": "code",
   "execution_count": null,
   "id": "f63940a7-31ea-45c3-8404-d9e4ee954f2e",
   "metadata": {},
   "outputs": [],
   "source": [
    "# modify the price signal\n",
    "price.bind_universe(universe)\n",
    "price_df = price.df()"
   ]
  },
  {
   "cell_type": "code",
   "execution_count": null,
   "id": "dee44467-b535-44d6-84d8-b830120faf03",
   "metadata": {},
   "outputs": [],
   "source": [
    "price_df.loc[:,:] = False"
   ]
  },
  {
   "cell_type": "code",
   "execution_count": null,
   "id": "0e1c8340-f6f0-4967-a8fa-7fe250b19672",
   "metadata": {},
   "outputs": [],
   "source": [
    "secs = list(price_df.columns)"
   ]
  },
  {
   "cell_type": "code",
   "execution_count": null,
   "id": "da145115-c4a0-489e-a27c-532d937271cf",
   "metadata": {},
   "outputs": [],
   "source": [
    "req = bql.Request(secs, bq.data.name())\n",
    "data = bq.execute(req)\n",
    "data[0].df() # BBG000BP52R2"
   ]
  },
  {
   "cell_type": "code",
   "execution_count": null,
   "id": "e35963eb-335a-464e-9818-2b02fa397b16",
   "metadata": {},
   "outputs": [],
   "source": [
    "price_df['BBG000BCQZS4'].loc['2024-02-28':] = False\n"
   ]
  },
  {
   "cell_type": "code",
   "execution_count": null,
   "id": "a4978a1b-544e-46cf-8ebc-a87af8f3c2d6",
   "metadata": {},
   "outputs": [],
   "source": []
  },
  {
   "cell_type": "code",
   "execution_count": null,
   "id": "923a2b32-d38d-45d6-8c55-3f4a456bed45",
   "metadata": {},
   "outputs": [],
   "source": [
    "price_df"
   ]
  },
  {
   "cell_type": "code",
   "execution_count": null,
   "id": "706b1696-5465-4e36-a13d-96184b4284f9",
   "metadata": {},
   "outputs": [],
   "source": []
  }
 ],
 "metadata": {
  "kernelspec": {
   "display_name": "Bloomberg Lab Python 3",
   "language": "python",
   "name": "user-python"
  },
  "language_info": {
   "codemirror_mode": {
    "name": "ipython",
    "version": 3
   },
   "file_extension": ".py",
   "mimetype": "text/x-python",
   "name": "python",
   "nbconvert_exporter": "python",
   "pygments_lexer": "ipython3",
   "version": "3.9.12"
  }
 },
 "nbformat": 4,
 "nbformat_minor": 5
}
