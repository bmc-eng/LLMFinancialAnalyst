{
 "cells": [
  {
   "cell_type": "code",
   "execution_count": 1,
   "id": "2f0c73c6-cbb3-400f-89f4-9e7e44e7aede",
   "metadata": {},
   "outputs": [
    {
     "name": "stdout",
     "output_type": "stream",
     "text": [
      "Running: micromamba install bloomberg.bquant.signal_lab=1.5.2 --yes --quiet --log-level=error\n",
      "\n",
      "Note: Packages not from Bloomberg channels are not vetted by Bloomberg.\n",
      "\u001b[93mPlease restart the Jupyter kernel if you run into any issues after installing or updating packages via %package.\u001b[0m\n",
      "\n"
     ]
    }
   ],
   "source": [
    "# Install all required packages\n",
    "%package install bloomberg.bquant.signal_lab=1.5.2"
   ]
  },
  {
   "cell_type": "code",
   "execution_count": 2,
   "id": "f2de3c88-a46a-41dd-869b-7b51ff98bce4",
   "metadata": {},
   "outputs": [
    {
     "data": {
      "text/plain": [
       "'1.5.2'"
      ]
     },
     "execution_count": 2,
     "metadata": {},
     "output_type": "execute_result"
    }
   ],
   "source": [
    "import bloomberg.bquant.signal_lab as signal_lab\n",
    "signal_lab.__version__"
   ]
  },
  {
   "cell_type": "code",
   "execution_count": 3,
   "id": "419a4c5e-9169-4c77-875f-3941c675b33e",
   "metadata": {},
   "outputs": [],
   "source": [
    "import bql\n",
    "\n",
    "\n",
    "from bloomberg.bquant.signal_lab.workflow.node import (\n",
    "    industry_grouping, portfolio_construction)\n",
    "from bloomberg.bquant.signal_lab.signal.transformers import WeightingScheme\n",
    "from bloomberg.bquant.signal_lab.workflow.factory import (\n",
    "    UniverseFactory,\n",
    "    DataItemFactory,\n",
    "    SignalFactory,\n",
    ")\n",
    "from bloomberg.bquant.signal_lab.workflow import (\n",
    "    AnalyticsDataConfig,\n",
    "    build_backtest,\n",
    ")\n",
    "\n",
    "from bloomberg.bquant.signal_lab.workflow.utils import get_sandbox_path\n",
    "\n",
    "import numpy as np\n",
    "import pandas as pd"
   ]
  },
  {
   "cell_type": "code",
   "execution_count": 4,
   "id": "c89f4bd5-3643-46dc-ae5c-fc0eb79ef3c9",
   "metadata": {},
   "outputs": [
    {
     "data": {
      "text/plain": [
       "'s3://awmgd-prod-finml-sandbox-user/bclarke16/esl/datapack_snapshot'"
      ]
     },
     "execution_count": 4,
     "metadata": {},
     "output_type": "execute_result"
    }
   ],
   "source": [
    "# Get the saved DataPack path\n",
    "bq = bql.Service()\n",
    "data_pack_path = f\"{get_sandbox_path()}/esl/datapack_snapshot\"\n",
    "data_pack_path"
   ]
  },
  {
   "cell_type": "code",
   "execution_count": 5,
   "id": "2d48c969-872f-4c1c-94f9-96e191ef02d0",
   "metadata": {},
   "outputs": [],
   "source": [
    "import backtest_params as bp\n",
    "import importlib"
   ]
  },
  {
   "cell_type": "code",
   "execution_count": 6,
   "id": "2b61a205-9a4a-44e4-a3e1-871cd4294cd2",
   "metadata": {},
   "outputs": [],
   "source": [
    "# Key backtest parameters\n",
    "start = \"2020-01-05\"\n",
    "end = \"2024-03-01\"\n",
    "universe_name = \"INDU Index\""
   ]
  },
  {
   "cell_type": "code",
   "execution_count": 7,
   "id": "eea74993-b9bd-4de8-87f6-fee859059ab3",
   "metadata": {},
   "outputs": [],
   "source": [
    "universe, benchmark = bp.get_universe_params(start, end, universe_name, data_pack_path)\n",
    "price, cur_mkt_cap = bp.get_return_params(start, end, data_pack_path)"
   ]
  },
  {
   "cell_type": "code",
   "execution_count": 8,
   "id": "1810229d-94e9-4ea8-b92c-05cf3572c614",
   "metadata": {},
   "outputs": [],
   "source": [
    "# Import the test data set while developing\n",
    "df = pd.read_csv('test_analysis.csv')"
   ]
  },
  {
   "cell_type": "code",
   "execution_count": 9,
   "id": "15efefc5-1164-402f-8950-bd3147242af1",
   "metadata": {},
   "outputs": [],
   "source": [
    "df = df[['Date','Security','Decision','Confidence']]"
   ]
  },
  {
   "cell_type": "code",
   "execution_count": 10,
   "id": "976fe6ae-0fa6-42b1-919d-a37e11411332",
   "metadata": {},
   "outputs": [
    {
     "data": {
      "text/html": [
       "<div>\n",
       "<style scoped>\n",
       "    .dataframe tbody tr th:only-of-type {\n",
       "        vertical-align: middle;\n",
       "    }\n",
       "\n",
       "    .dataframe tbody tr th {\n",
       "        vertical-align: top;\n",
       "    }\n",
       "\n",
       "    .dataframe thead th {\n",
       "        text-align: right;\n",
       "    }\n",
       "</style>\n",
       "<table border=\"1\" class=\"dataframe\">\n",
       "  <thead>\n",
       "    <tr style=\"text-align: right;\">\n",
       "      <th></th>\n",
       "      <th>Date</th>\n",
       "      <th>Security</th>\n",
       "      <th>Decision</th>\n",
       "      <th>Confidence</th>\n",
       "    </tr>\n",
       "  </thead>\n",
       "  <tbody>\n",
       "    <tr>\n",
       "      <th>0</th>\n",
       "      <td>2020-02-06</td>\n",
       "      <td>MMM UN Equity</td>\n",
       "      <td>BUY</td>\n",
       "      <td>70.0</td>\n",
       "    </tr>\n",
       "    <tr>\n",
       "      <th>1</th>\n",
       "      <td>2020-02-12</td>\n",
       "      <td>CSCO UW Equity</td>\n",
       "      <td>BUY</td>\n",
       "      <td>80.0</td>\n",
       "    </tr>\n",
       "    <tr>\n",
       "      <th>2</th>\n",
       "      <td>2020-02-12</td>\n",
       "      <td>AMGN UQ Equity</td>\n",
       "      <td>BUY</td>\n",
       "      <td>80.0</td>\n",
       "    </tr>\n",
       "    <tr>\n",
       "      <th>3</th>\n",
       "      <td>2020-02-13</td>\n",
       "      <td>AXP UN Equity</td>\n",
       "      <td>BUY</td>\n",
       "      <td>80.0</td>\n",
       "    </tr>\n",
       "    <tr>\n",
       "      <th>4</th>\n",
       "      <td>2020-02-13</td>\n",
       "      <td>NVDA UQ Equity</td>\n",
       "      <td>BUY</td>\n",
       "      <td>80.0</td>\n",
       "    </tr>\n",
       "    <tr>\n",
       "      <th>...</th>\n",
       "      <td>...</td>\n",
       "      <td>...</td>\n",
       "      <td>...</td>\n",
       "      <td>...</td>\n",
       "    </tr>\n",
       "    <tr>\n",
       "      <th>891</th>\n",
       "      <td>2025-01-31</td>\n",
       "      <td>XOM UN Equity</td>\n",
       "      <td>BUY</td>\n",
       "      <td>70.0</td>\n",
       "    </tr>\n",
       "    <tr>\n",
       "      <th>892</th>\n",
       "      <td>2025-02-04</td>\n",
       "      <td>PFE UN Equity</td>\n",
       "      <td>BUY</td>\n",
       "      <td>70.0</td>\n",
       "    </tr>\n",
       "    <tr>\n",
       "      <th>893</th>\n",
       "      <td>2025-02-04</td>\n",
       "      <td>MRK UN Equity</td>\n",
       "      <td>BUY</td>\n",
       "      <td>80.0</td>\n",
       "    </tr>\n",
       "    <tr>\n",
       "      <th>894</th>\n",
       "      <td>2025-02-04</td>\n",
       "      <td>AMGN UW Equity</td>\n",
       "      <td>BUY</td>\n",
       "      <td>70.0</td>\n",
       "    </tr>\n",
       "    <tr>\n",
       "      <th>895</th>\n",
       "      <td>2025-02-04</td>\n",
       "      <td>AMGN UQ Equity</td>\n",
       "      <td>BUY</td>\n",
       "      <td>80.0</td>\n",
       "    </tr>\n",
       "  </tbody>\n",
       "</table>\n",
       "<p>896 rows × 4 columns</p>\n",
       "</div>"
      ],
      "text/plain": [
       "           Date        Security Decision  Confidence\n",
       "0    2020-02-06   MMM UN Equity      BUY        70.0\n",
       "1    2020-02-12  CSCO UW Equity      BUY        80.0\n",
       "2    2020-02-12  AMGN UQ Equity      BUY        80.0\n",
       "3    2020-02-13   AXP UN Equity      BUY        80.0\n",
       "4    2020-02-13  NVDA UQ Equity      BUY        80.0\n",
       "..          ...             ...      ...         ...\n",
       "891  2025-01-31   XOM UN Equity      BUY        70.0\n",
       "892  2025-02-04   PFE UN Equity      BUY        70.0\n",
       "893  2025-02-04   MRK UN Equity      BUY        80.0\n",
       "894  2025-02-04  AMGN UW Equity      BUY        70.0\n",
       "895  2025-02-04  AMGN UQ Equity      BUY        80.0\n",
       "\n",
       "[896 rows x 4 columns]"
      ]
     },
     "execution_count": 10,
     "metadata": {},
     "output_type": "execute_result"
    }
   ],
   "source": [
    "df"
   ]
  },
  {
   "cell_type": "code",
   "execution_count": 12,
   "id": "61833341-c580-4219-a49d-07159803bd69",
   "metadata": {},
   "outputs": [],
   "source": [
    "def convert_to_figi(df: pd.DataFrame) -> pd.DataFrame:\n",
    "    \"\"\"Function to convert Bloomberg tickers in a dataframe to FIGIs for ESL\"\"\"\n",
    "    univ = df['Security'].to_list()\n",
    "    field =  {'figi': bq.data.id_bb_global()}\n",
    "    req = bql.Request(univ, field)\n",
    "    data = bq.execute(req)\n",
    "    figi = data[0].df()\n",
    "    return df.merge(figi, left_on='Security', right_index=True).sort_index()\n",
    "    "
   ]
  },
  {
   "cell_type": "code",
   "execution_count": 13,
   "id": "055d8118-d58c-4296-89d0-cc53a32bc57c",
   "metadata": {},
   "outputs": [],
   "source": [
    "df1 = convert_to_figi(df)"
   ]
  },
  {
   "cell_type": "code",
   "execution_count": 14,
   "id": "b8f87217-1c54-491a-ae79-9bf7afa8d1e3",
   "metadata": {},
   "outputs": [
    {
     "data": {
      "text/html": [
       "<div>\n",
       "<style scoped>\n",
       "    .dataframe tbody tr th:only-of-type {\n",
       "        vertical-align: middle;\n",
       "    }\n",
       "\n",
       "    .dataframe tbody tr th {\n",
       "        vertical-align: top;\n",
       "    }\n",
       "\n",
       "    .dataframe thead th {\n",
       "        text-align: right;\n",
       "    }\n",
       "</style>\n",
       "<table border=\"1\" class=\"dataframe\">\n",
       "  <thead>\n",
       "    <tr style=\"text-align: right;\">\n",
       "      <th></th>\n",
       "      <th>Date</th>\n",
       "      <th>Security</th>\n",
       "      <th>Decision</th>\n",
       "      <th>Confidence</th>\n",
       "      <th>figi</th>\n",
       "    </tr>\n",
       "  </thead>\n",
       "  <tbody>\n",
       "    <tr>\n",
       "      <th>0</th>\n",
       "      <td>2020-02-06</td>\n",
       "      <td>MMM UN Equity</td>\n",
       "      <td>BUY</td>\n",
       "      <td>70.0</td>\n",
       "      <td>BBG000BP5522</td>\n",
       "    </tr>\n",
       "    <tr>\n",
       "      <th>1</th>\n",
       "      <td>2020-02-12</td>\n",
       "      <td>CSCO UW Equity</td>\n",
       "      <td>BUY</td>\n",
       "      <td>80.0</td>\n",
       "      <td>BBG000C3JBN9</td>\n",
       "    </tr>\n",
       "    <tr>\n",
       "      <th>2</th>\n",
       "      <td>2020-02-12</td>\n",
       "      <td>AMGN UQ Equity</td>\n",
       "      <td>BUY</td>\n",
       "      <td>80.0</td>\n",
       "      <td>BBG000BBS644</td>\n",
       "    </tr>\n",
       "    <tr>\n",
       "      <th>3</th>\n",
       "      <td>2020-02-13</td>\n",
       "      <td>AXP UN Equity</td>\n",
       "      <td>BUY</td>\n",
       "      <td>80.0</td>\n",
       "      <td>BBG000BCR153</td>\n",
       "    </tr>\n",
       "    <tr>\n",
       "      <th>4</th>\n",
       "      <td>2020-02-13</td>\n",
       "      <td>NVDA UQ Equity</td>\n",
       "      <td>BUY</td>\n",
       "      <td>80.0</td>\n",
       "      <td>BBG000BBJSW5</td>\n",
       "    </tr>\n",
       "    <tr>\n",
       "      <th>...</th>\n",
       "      <td>...</td>\n",
       "      <td>...</td>\n",
       "      <td>...</td>\n",
       "      <td>...</td>\n",
       "      <td>...</td>\n",
       "    </tr>\n",
       "    <tr>\n",
       "      <th>891</th>\n",
       "      <td>2025-01-31</td>\n",
       "      <td>XOM UN Equity</td>\n",
       "      <td>BUY</td>\n",
       "      <td>70.0</td>\n",
       "      <td>BBG000GZQBJ1</td>\n",
       "    </tr>\n",
       "    <tr>\n",
       "      <th>892</th>\n",
       "      <td>2025-02-04</td>\n",
       "      <td>PFE UN Equity</td>\n",
       "      <td>BUY</td>\n",
       "      <td>70.0</td>\n",
       "      <td>BBG000BR2F10</td>\n",
       "    </tr>\n",
       "    <tr>\n",
       "      <th>893</th>\n",
       "      <td>2025-02-04</td>\n",
       "      <td>MRK UN Equity</td>\n",
       "      <td>BUY</td>\n",
       "      <td>80.0</td>\n",
       "      <td>BBG000BPD257</td>\n",
       "    </tr>\n",
       "    <tr>\n",
       "      <th>894</th>\n",
       "      <td>2025-02-04</td>\n",
       "      <td>AMGN UW Equity</td>\n",
       "      <td>BUY</td>\n",
       "      <td>70.0</td>\n",
       "      <td>BBG000BBSCX9</td>\n",
       "    </tr>\n",
       "    <tr>\n",
       "      <th>895</th>\n",
       "      <td>2025-02-04</td>\n",
       "      <td>AMGN UQ Equity</td>\n",
       "      <td>BUY</td>\n",
       "      <td>80.0</td>\n",
       "      <td>BBG000BBS644</td>\n",
       "    </tr>\n",
       "  </tbody>\n",
       "</table>\n",
       "<p>896 rows × 5 columns</p>\n",
       "</div>"
      ],
      "text/plain": [
       "           Date        Security Decision  Confidence          figi\n",
       "0    2020-02-06   MMM UN Equity      BUY        70.0  BBG000BP5522\n",
       "1    2020-02-12  CSCO UW Equity      BUY        80.0  BBG000C3JBN9\n",
       "2    2020-02-12  AMGN UQ Equity      BUY        80.0  BBG000BBS644\n",
       "3    2020-02-13   AXP UN Equity      BUY        80.0  BBG000BCR153\n",
       "4    2020-02-13  NVDA UQ Equity      BUY        80.0  BBG000BBJSW5\n",
       "..          ...             ...      ...         ...           ...\n",
       "891  2025-01-31   XOM UN Equity      BUY        70.0  BBG000GZQBJ1\n",
       "892  2025-02-04   PFE UN Equity      BUY        70.0  BBG000BR2F10\n",
       "893  2025-02-04   MRK UN Equity      BUY        80.0  BBG000BPD257\n",
       "894  2025-02-04  AMGN UW Equity      BUY        70.0  BBG000BBSCX9\n",
       "895  2025-02-04  AMGN UQ Equity      BUY        80.0  BBG000BBS644\n",
       "\n",
       "[896 rows x 5 columns]"
      ]
     },
     "execution_count": 14,
     "metadata": {},
     "output_type": "execute_result"
    }
   ],
   "source": [
    "df1"
   ]
  },
  {
   "cell_type": "code",
   "execution_count": null,
   "id": "098e909b-f91b-4684-99cc-c535e8483ad2",
   "metadata": {},
   "outputs": [],
   "source": [
    "def event_backtest(df_events: pd.DataFrame):\n",
    "    pass"
   ]
  }
 ],
 "metadata": {
  "kernelspec": {
   "display_name": "Bloomberg Lab Python 3",
   "language": "python",
   "name": "remote-jupyterpython"
  },
  "language_info": {
   "codemirror_mode": {
    "name": "ipython",
    "version": 3
   },
   "file_extension": ".py",
   "mimetype": "text/x-python",
   "name": "python",
   "nbconvert_exporter": "python",
   "pygments_lexer": "ipython3",
   "version": "3.9.12"
  }
 },
 "nbformat": 4,
 "nbformat_minor": 5
}
