{
 "cells": [
  {
   "cell_type": "markdown",
   "id": "662554da-f70e-4811-b073-2f1ceb357cc8",
   "metadata": {},
   "source": [
    "# Create the DataPacks\n",
    "Use the built-in Data Workbench functionality in Bloomberg Lab to retrieve the datasets needed to backtest the different strategies and construct the portfolios in Signal Lab. The datasets requested are only those needed for this purpose. Financial Statement datasets are retrieved separately to this. Datasets added into the datapack are:\n",
    "\n",
    "- Index membership and weights\n",
    "- Trading Calendars\n",
    "- Current market cap\n",
    "- Price\n",
    "- Total Returns\n",
    "- Beta\n",
    "- BICS sector\n",
    "- Analyst recommendations for the base study"
   ]
  },
  {
   "cell_type": "code",
   "execution_count": 1,
   "id": "f9f5da7f-99a3-486e-8081-9cfb54b12fb6",
   "metadata": {},
   "outputs": [
    {
     "name": "stdout",
     "output_type": "stream",
     "text": [
      "Running: micromamba install bloomberg.bquant.signal_lab=1.5.2 --yes --quiet --log-level=error\n",
      "\n",
      "Note: Packages not from Bloomberg channels are not vetted by Bloomberg.\n",
      "\u001b[93mPlease restart the Jupyter kernel if you run into any issues after installing or updating packages via %package.\u001b[0m\n",
      "\n"
     ]
    }
   ],
   "source": [
    "# Install signal_lab if it isn't already loaded\n",
    "%package install bloomberg.bquant.signal_lab=1.5.2"
   ]
  },
  {
   "cell_type": "code",
   "execution_count": 1,
   "id": "5f6e4897-2504-4732-8df7-43c46c9993b9",
   "metadata": {},
   "outputs": [],
   "source": [
    "import os\n",
    "import pandas as pd\n",
    "import s3fs\n",
    "import bql\n",
    "\n",
    "from bloomberg.bquant.signal_lab.data_workbench import (\n",
    "    create_data_pack,\n",
    "    load_data_pack,\n",
    "    DataPack,\n",
    "    DataPackConfig,\n",
    "    StorageType,\n",
    "    BQLIndexUniverse,\n",
    "    BQLIndexWeight,\n",
    "    BQLData,\n",
    "    ListUniverse,\n",
    "    TradingCalendarProxy,\n",
    "    FetchMode,\n",
    "    FetchErrorHandling\n",
    ")\n",
    "\n",
    "from bloomberg.bquant.signal_lab.workflow.utils import get_sandbox_path"
   ]
  },
  {
   "cell_type": "code",
   "execution_count": 2,
   "id": "e3ec9455-bcf9-4b4a-8f6d-ddeb5f514f9b",
   "metadata": {},
   "outputs": [],
   "source": [
    "# Create the BQL object to request the data\n",
    "bq = bql.Service()"
   ]
  },
  {
   "cell_type": "code",
   "execution_count": 3,
   "id": "0ccbf66f-9ed4-42bf-9f62-147c04edf7b6",
   "metadata": {},
   "outputs": [],
   "source": [
    "datapack_path = f\"{get_sandbox_path()}/tmp/fs/datapack\""
   ]
  },
  {
   "cell_type": "markdown",
   "id": "a4edc458-625d-4b41-8a84-5b54a9e38d2e",
   "metadata": {},
   "source": [
    "## Define the universe"
   ]
  },
  {
   "cell_type": "code",
   "execution_count": 4,
   "id": "95ef4512-f707-4530-9003-c05873809c39",
   "metadata": {},
   "outputs": [],
   "source": [
    "index_name = 'INDU Index'\n",
    "data_pack_config = DataPackConfig(pd.Timestamp(\"2019-03-31\"),pd.Timestamp(\"2024-12-31\"))\n",
    "\n",
    "universe_definitions = {\n",
    "    index_name: BQLIndexUniverse(index_name)\n",
    "}"
   ]
  },
  {
   "cell_type": "markdown",
   "id": "d20f30a7-c184-4e1a-b4c2-ddcac74e3e27",
   "metadata": {},
   "source": [
    "### Define the Data items"
   ]
  },
  {
   "cell_type": "code",
   "execution_count": 5,
   "id": "0f14163a-3e59-42b7-9232-56dfd4489df9",
   "metadata": {},
   "outputs": [],
   "source": [
    "data_item_definitions = {\n",
    "    \"index_weight\": BQLIndexWeight(),\n",
    "    \"trading_calendar\": TradingCalendarProxy(),\n",
    "\n",
    "    \"analyst_rating\": BQLData(bq.data.best_analyst_rating()),\n",
    "    \"target_price\": BQLData(bq.data.best_target_price()),\n",
    "\n",
    "    \"cur_mkt_cap\": BQLData(bq.data.cur_mkt_cap()),\n",
    "    \"day_to_day_tot_return_gross_dvds\": BQLData(bq.data.day_to_day_tot_return_gross_dvds()),\n",
    "    \"beta\": BQLData(bq.data.beta(), rolling_date=True, freq=\"w\"),\n",
    "    \"px_last\": BQLData(bq.data.px_last()),\n",
    "\n",
    "    'bics_level_1': BQLData(bq.data.classification_name(\"bics\", \"1\"), rolling_date=True),\n",
    "    'bics_level_2': BQLData(bq.data.classification_name(\"bics\", \"2\"), rolling_date=True),\n",
    "    'bics_level_3': BQLData(bq.data.classification_name(\"bics\", \"3\"), rolling_date=True),\n",
    "    'bics_level_4': BQLData(bq.data.classification_name(\"bics\", \"4\"), rolling_date=True),\n",
    "}"
   ]
  },
  {
   "cell_type": "markdown",
   "id": "e411cde9-63ed-441f-898b-73d06decabc2",
   "metadata": {},
   "source": [
    "### Create the DataPack"
   ]
  },
  {
   "cell_type": "code",
   "execution_count": 6,
   "id": "185c13f4-0f52-4516-9bef-bde2a97c2d77",
   "metadata": {},
   "outputs": [],
   "source": [
    "data_pack = create_data_pack(\n",
    "    data_pack_config = data_pack_config,\n",
    "    universe_definitions=universe_definitions,\n",
    "    data_item_definitions=data_item_definitions,\n",
    "    storage_type=StorageType.PARQUET,\n",
    "    storage_path=datapack_path,\n",
    "    overwrite_existing_data_pack=True\n",
    ")"
   ]
  },
  {
   "cell_type": "code",
   "execution_count": 7,
   "id": "f93a5e2d-709e-4999-bf38-a29ad6e2e495",
   "metadata": {},
   "outputs": [
    {
     "data": {
      "text/html": [
       "<div>\n",
       "<style scoped>\n",
       "    .dataframe tbody tr th:only-of-type {\n",
       "        vertical-align: middle;\n",
       "    }\n",
       "\n",
       "    .dataframe tbody tr th {\n",
       "        vertical-align: top;\n",
       "    }\n",
       "\n",
       "    .dataframe thead th {\n",
       "        text-align: right;\n",
       "    }\n",
       "</style>\n",
       "<table border=\"1\" class=\"dataframe\">\n",
       "  <thead>\n",
       "    <tr style=\"text-align: right;\">\n",
       "      <th></th>\n",
       "      <th>ID</th>\n",
       "      <th>TYPE</th>\n",
       "      <th>IS_LOADED</th>\n",
       "      <th>LOAD_TIME</th>\n",
       "    </tr>\n",
       "  </thead>\n",
       "  <tbody>\n",
       "    <tr>\n",
       "      <th>0</th>\n",
       "      <td>INDU Index</td>\n",
       "      <td>UNIVERSE</td>\n",
       "      <td>False</td>\n",
       "      <td>NaT</td>\n",
       "    </tr>\n",
       "    <tr>\n",
       "      <th>1</th>\n",
       "      <td>index_weight</td>\n",
       "      <td>DATA_ITEM</td>\n",
       "      <td>False</td>\n",
       "      <td>NaT</td>\n",
       "    </tr>\n",
       "    <tr>\n",
       "      <th>2</th>\n",
       "      <td>trading_calendar</td>\n",
       "      <td>DATA_ITEM</td>\n",
       "      <td>False</td>\n",
       "      <td>NaT</td>\n",
       "    </tr>\n",
       "    <tr>\n",
       "      <th>3</th>\n",
       "      <td>analyst_rating</td>\n",
       "      <td>DATA_ITEM</td>\n",
       "      <td>False</td>\n",
       "      <td>NaT</td>\n",
       "    </tr>\n",
       "    <tr>\n",
       "      <th>4</th>\n",
       "      <td>target_price</td>\n",
       "      <td>DATA_ITEM</td>\n",
       "      <td>False</td>\n",
       "      <td>NaT</td>\n",
       "    </tr>\n",
       "    <tr>\n",
       "      <th>5</th>\n",
       "      <td>cur_mkt_cap</td>\n",
       "      <td>DATA_ITEM</td>\n",
       "      <td>False</td>\n",
       "      <td>NaT</td>\n",
       "    </tr>\n",
       "    <tr>\n",
       "      <th>6</th>\n",
       "      <td>day_to_day_tot_return_gross_dvds</td>\n",
       "      <td>DATA_ITEM</td>\n",
       "      <td>False</td>\n",
       "      <td>NaT</td>\n",
       "    </tr>\n",
       "    <tr>\n",
       "      <th>7</th>\n",
       "      <td>beta</td>\n",
       "      <td>DATA_ITEM</td>\n",
       "      <td>False</td>\n",
       "      <td>NaT</td>\n",
       "    </tr>\n",
       "    <tr>\n",
       "      <th>8</th>\n",
       "      <td>px_last</td>\n",
       "      <td>DATA_ITEM</td>\n",
       "      <td>False</td>\n",
       "      <td>NaT</td>\n",
       "    </tr>\n",
       "    <tr>\n",
       "      <th>9</th>\n",
       "      <td>bics_level_1</td>\n",
       "      <td>DATA_ITEM</td>\n",
       "      <td>False</td>\n",
       "      <td>NaT</td>\n",
       "    </tr>\n",
       "    <tr>\n",
       "      <th>10</th>\n",
       "      <td>bics_level_2</td>\n",
       "      <td>DATA_ITEM</td>\n",
       "      <td>False</td>\n",
       "      <td>NaT</td>\n",
       "    </tr>\n",
       "    <tr>\n",
       "      <th>11</th>\n",
       "      <td>bics_level_3</td>\n",
       "      <td>DATA_ITEM</td>\n",
       "      <td>False</td>\n",
       "      <td>NaT</td>\n",
       "    </tr>\n",
       "    <tr>\n",
       "      <th>12</th>\n",
       "      <td>bics_level_4</td>\n",
       "      <td>DATA_ITEM</td>\n",
       "      <td>False</td>\n",
       "      <td>NaT</td>\n",
       "    </tr>\n",
       "  </tbody>\n",
       "</table>\n",
       "</div>"
      ],
      "text/plain": [
       "                                  ID       TYPE  IS_LOADED LOAD_TIME\n",
       "0                         INDU Index   UNIVERSE      False       NaT\n",
       "1                       index_weight  DATA_ITEM      False       NaT\n",
       "2                   trading_calendar  DATA_ITEM      False       NaT\n",
       "3                     analyst_rating  DATA_ITEM      False       NaT\n",
       "4                       target_price  DATA_ITEM      False       NaT\n",
       "5                        cur_mkt_cap  DATA_ITEM      False       NaT\n",
       "6   day_to_day_tot_return_gross_dvds  DATA_ITEM      False       NaT\n",
       "7                               beta  DATA_ITEM      False       NaT\n",
       "8                            px_last  DATA_ITEM      False       NaT\n",
       "9                       bics_level_1  DATA_ITEM      False       NaT\n",
       "10                      bics_level_2  DATA_ITEM      False       NaT\n",
       "11                      bics_level_3  DATA_ITEM      False       NaT\n",
       "12                      bics_level_4  DATA_ITEM      False       NaT"
      ]
     },
     "execution_count": 7,
     "metadata": {},
     "output_type": "execute_result"
    }
   ],
   "source": [
    "data_pack.get_fetch_status()"
   ]
  },
  {
   "cell_type": "markdown",
   "id": "1780db4a-ccbc-40d1-b3b9-a4fb53af2142",
   "metadata": {},
   "source": [
    "### Fetch the data"
   ]
  },
  {
   "cell_type": "code",
   "execution_count": 8,
   "id": "ab1fc793-f12f-468b-9915-54d4683dcaac",
   "metadata": {},
   "outputs": [
    {
     "name": "stdout",
     "output_type": "stream",
     "text": [
      "2025-03-24 07:58:39,929 - (139704643614528) - INFO - external.bloomberg.bquant.signal_lab.data_workbench.data_pack - fetching universes\n",
      "2025-03-24 07:58:40,603 - (139704643614528) - INFO - external.bloomberg.bquant.signal_lab.data_workbench.data_pack - universe fetching summary: INDU Index\n",
      "2025-03-24 07:58:40,605 - (139704643614528) - INFO - external.bloomberg.bquant.signal_lab.data_workbench.data_pack - fetching universe: INDU Index\n",
      "2025-03-24 07:58:40,606 - (139704643614528) - INFO - external.bloomberg.bquant.signal_lab.data_workbench.definitions.bql_index_universe - fetching BQL index universe: INDU Index\n"
     ]
    },
    {
     "data": {
      "application/json": {
       "ascii": false,
       "bar_format": null,
       "colour": null,
       "elapsed": 0.009346246719360352,
       "initial": 0,
       "n": 0,
       "ncols": null,
       "nrows": null,
       "postfix": null,
       "prefix": "",
       "rate": null,
       "total": 36,
       "unit": "it",
       "unit_divisor": 1000,
       "unit_scale": false
      },
      "application/vnd.jupyter.widget-view+json": {
       "model_id": "2947920f97914129abb752a55588f4cd",
       "version_major": 2,
       "version_minor": 0
      },
      "text/plain": [
       "  0%|          | 0/36 [00:00<?, ?it/s]"
      ]
     },
     "metadata": {},
     "output_type": "display_data"
    },
    {
     "data": {
      "application/json": {
       "ascii": false,
       "bar_format": null,
       "colour": null,
       "elapsed": 0.010514974594116211,
       "initial": 0,
       "n": 0,
       "ncols": null,
       "nrows": null,
       "postfix": null,
       "prefix": "",
       "rate": null,
       "total": 1,
       "unit": "it",
       "unit_divisor": 1000,
       "unit_scale": false
      },
      "application/vnd.jupyter.widget-view+json": {
       "model_id": "120b49e7695041d297e387f4568aebcf",
       "version_major": 2,
       "version_minor": 0
      },
      "text/plain": [
       "  0%|          | 0/1 [00:00<?, ?it/s]"
      ]
     },
     "metadata": {},
     "output_type": "display_data"
    },
    {
     "name": "stdout",
     "output_type": "stream",
     "text": [
      "2025-03-24 07:59:04,654 - (139704643614528) - INFO - external.bloomberg.bquant.signal_lab.data_workbench.data_pack - fetching data items\n",
      "2025-03-24 07:59:05,535 - (139704643614528) - INFO - external.bloomberg.bquant.signal_lab.data_workbench.data_pack - data items fetching summary: index_weight, trading_calendar, analyst_rating, target_price, cur_mkt_cap, day_to_day_tot_return_gross_dvds, beta, px_last, bics_level_1, bics_level_2, bics_level_3, bics_level_4\n",
      "2025-03-24 07:59:05,923 - (139704643614528) - INFO - external.bloomberg.bquant.signal_lab.data_workbench.data_pack - fetching data item: index_weight\n",
      "2025-03-24 07:59:05,924 - (139704643614528) - INFO - external.bloomberg.bquant.signal_lab.data_workbench.definitions.bql_index_weight - fetching BQL index weight: INDU Index\n"
     ]
    },
    {
     "data": {
      "application/json": {
       "ascii": false,
       "bar_format": null,
       "colour": null,
       "elapsed": 0.010545015335083008,
       "initial": 0,
       "n": 0,
       "ncols": null,
       "nrows": null,
       "postfix": null,
       "prefix": "",
       "rate": null,
       "total": 36,
       "unit": "it",
       "unit_divisor": 1000,
       "unit_scale": false
      },
      "application/vnd.jupyter.widget-view+json": {
       "model_id": "d0862d08ea3848eb939fd86195cdfcda",
       "version_major": 2,
       "version_minor": 0
      },
      "text/plain": [
       "  0%|          | 0/36 [00:00<?, ?it/s]"
      ]
     },
     "metadata": {},
     "output_type": "display_data"
    },
    {
     "data": {
      "application/json": {
       "ascii": false,
       "bar_format": null,
       "colour": null,
       "elapsed": 0.009610652923583984,
       "initial": 0,
       "n": 0,
       "ncols": null,
       "nrows": null,
       "postfix": null,
       "prefix": "",
       "rate": null,
       "total": 1,
       "unit": "it",
       "unit_divisor": 1000,
       "unit_scale": false
      },
      "application/vnd.jupyter.widget-view+json": {
       "model_id": "f5dfbdc0a4604fe78355aaf8da3961b1",
       "version_major": 2,
       "version_minor": 0
      },
      "text/plain": [
       "  0%|          | 0/1 [00:00<?, ?it/s]"
      ]
     },
     "metadata": {},
     "output_type": "display_data"
    },
    {
     "name": "stdout",
     "output_type": "stream",
     "text": [
      "2025-03-24 07:59:32,174 - (139704643614528) - INFO - external.bloomberg.bquant.signal_lab.data_workbench.data_pack - fetching data item: trading_calendar\n",
      "2025-03-24 07:59:32,558 - (139704643614528) - INFO - external.bloomberg.bquant.signal_lab.data_workbench.definitions.trading_calendar_proxy - fetching trading calendar data\n"
     ]
    },
    {
     "data": {
      "application/json": {
       "ascii": false,
       "bar_format": null,
       "colour": null,
       "elapsed": 0.009525537490844727,
       "initial": 0,
       "n": 0,
       "ncols": null,
       "nrows": null,
       "postfix": null,
       "prefix": "",
       "rate": null,
       "total": 36,
       "unit": "it",
       "unit_divisor": 1000,
       "unit_scale": false
      },
      "application/vnd.jupyter.widget-view+json": {
       "model_id": "c1be6174ab8d470cac30dc8fb53fe18c",
       "version_major": 2,
       "version_minor": 0
      },
      "text/plain": [
       "  0%|          | 0/36 [00:00<?, ?it/s]"
      ]
     },
     "metadata": {},
     "output_type": "display_data"
    },
    {
     "name": "stdout",
     "output_type": "stream",
     "text": [
      "2025-03-24 07:59:49,705 - (139704643614528) - INFO - external.bloomberg.bquant.signal_lab.data_workbench.data_pack - fetching data item: analyst_rating\n"
     ]
    },
    {
     "data": {
      "application/json": {
       "ascii": false,
       "bar_format": null,
       "colour": null,
       "elapsed": 0.00889444351196289,
       "initial": 0,
       "n": 0,
       "ncols": null,
       "nrows": null,
       "postfix": null,
       "prefix": "",
       "rate": null,
       "total": 36,
       "unit": "it",
       "unit_divisor": 1000,
       "unit_scale": false
      },
      "application/vnd.jupyter.widget-view+json": {
       "model_id": "74a4d8e1984142c195a66bc809b71ee0",
       "version_major": 2,
       "version_minor": 0
      },
      "text/plain": [
       "  0%|          | 0/36 [00:00<?, ?it/s]"
      ]
     },
     "metadata": {},
     "output_type": "display_data"
    },
    {
     "name": "stdout",
     "output_type": "stream",
     "text": [
      "2025-03-24 08:00:08,911 - (139704643614528) - INFO - external.bloomberg.bquant.signal_lab.data_workbench.data_pack - fetching data item: target_price\n"
     ]
    },
    {
     "data": {
      "application/json": {
       "ascii": false,
       "bar_format": null,
       "colour": null,
       "elapsed": 0.008852005004882812,
       "initial": 0,
       "n": 0,
       "ncols": null,
       "nrows": null,
       "postfix": null,
       "prefix": "",
       "rate": null,
       "total": 36,
       "unit": "it",
       "unit_divisor": 1000,
       "unit_scale": false
      },
      "application/vnd.jupyter.widget-view+json": {
       "model_id": "3f9b6bd4d2934d3f991ab565cbfd7e89",
       "version_major": 2,
       "version_minor": 0
      },
      "text/plain": [
       "  0%|          | 0/36 [00:00<?, ?it/s]"
      ]
     },
     "metadata": {},
     "output_type": "display_data"
    },
    {
     "name": "stdout",
     "output_type": "stream",
     "text": [
      "2025-03-24 08:00:28,159 - (139704643614528) - INFO - external.bloomberg.bquant.signal_lab.data_workbench.data_pack - fetching data item: cur_mkt_cap\n"
     ]
    },
    {
     "data": {
      "application/json": {
       "ascii": false,
       "bar_format": null,
       "colour": null,
       "elapsed": 0.008854866027832031,
       "initial": 0,
       "n": 0,
       "ncols": null,
       "nrows": null,
       "postfix": null,
       "prefix": "",
       "rate": null,
       "total": 36,
       "unit": "it",
       "unit_divisor": 1000,
       "unit_scale": false
      },
      "application/vnd.jupyter.widget-view+json": {
       "model_id": "b736946ee1ec4628b63651da47300d26",
       "version_major": 2,
       "version_minor": 0
      },
      "text/plain": [
       "  0%|          | 0/36 [00:00<?, ?it/s]"
      ]
     },
     "metadata": {},
     "output_type": "display_data"
    },
    {
     "name": "stdout",
     "output_type": "stream",
     "text": [
      "2025-03-24 08:00:45,974 - (139704643614528) - INFO - external.bloomberg.bquant.signal_lab.data_workbench.data_pack - fetching data item: day_to_day_tot_return_gross_dvds\n"
     ]
    },
    {
     "data": {
      "application/json": {
       "ascii": false,
       "bar_format": null,
       "colour": null,
       "elapsed": 0.012547731399536133,
       "initial": 0,
       "n": 0,
       "ncols": null,
       "nrows": null,
       "postfix": null,
       "prefix": "",
       "rate": null,
       "total": 36,
       "unit": "it",
       "unit_divisor": 1000,
       "unit_scale": false
      },
      "application/vnd.jupyter.widget-view+json": {
       "model_id": "55027644d09d4228a78fa85a239ca89e",
       "version_major": 2,
       "version_minor": 0
      },
      "text/plain": [
       "  0%|          | 0/36 [00:00<?, ?it/s]"
      ]
     },
     "metadata": {},
     "output_type": "display_data"
    },
    {
     "name": "stdout",
     "output_type": "stream",
     "text": [
      "2025-03-24 08:01:04,609 - (139704643614528) - INFO - external.bloomberg.bquant.signal_lab.data_workbench.data_pack - fetching data item: beta\n"
     ]
    },
    {
     "data": {
      "application/json": {
       "ascii": false,
       "bar_format": null,
       "colour": null,
       "elapsed": 0.008320808410644531,
       "initial": 0,
       "n": 0,
       "ncols": null,
       "nrows": null,
       "postfix": null,
       "prefix": "",
       "rate": null,
       "total": 6,
       "unit": "it",
       "unit_divisor": 1000,
       "unit_scale": false
      },
      "application/vnd.jupyter.widget-view+json": {
       "model_id": "ebecff4c57f74a81b352e60968fc5fb4",
       "version_major": 2,
       "version_minor": 0
      },
      "text/plain": [
       "  0%|          | 0/6 [00:00<?, ?it/s]"
      ]
     },
     "metadata": {},
     "output_type": "display_data"
    },
    {
     "name": "stdout",
     "output_type": "stream",
     "text": [
      "2025-03-24 08:01:19,849 - (139704643614528) - INFO - external.bloomberg.bquant.signal_lab.data_workbench.data_pack - fetching data item: px_last\n"
     ]
    },
    {
     "data": {
      "application/json": {
       "ascii": false,
       "bar_format": null,
       "colour": null,
       "elapsed": 0.008202075958251953,
       "initial": 0,
       "n": 0,
       "ncols": null,
       "nrows": null,
       "postfix": null,
       "prefix": "",
       "rate": null,
       "total": 36,
       "unit": "it",
       "unit_divisor": 1000,
       "unit_scale": false
      },
      "application/vnd.jupyter.widget-view+json": {
       "model_id": "91ab09c9a9c54bc989e5efa28787d44d",
       "version_major": 2,
       "version_minor": 0
      },
      "text/plain": [
       "  0%|          | 0/36 [00:00<?, ?it/s]"
      ]
     },
     "metadata": {},
     "output_type": "display_data"
    },
    {
     "name": "stdout",
     "output_type": "stream",
     "text": [
      "2025-03-24 08:01:37,229 - (139704643614528) - INFO - external.bloomberg.bquant.signal_lab.data_workbench.data_pack - fetching data item: bics_level_1\n"
     ]
    },
    {
     "data": {
      "application/json": {
       "ascii": false,
       "bar_format": null,
       "colour": null,
       "elapsed": 0.008461236953735352,
       "initial": 0,
       "n": 0,
       "ncols": null,
       "nrows": null,
       "postfix": null,
       "prefix": "",
       "rate": null,
       "total": 36,
       "unit": "it",
       "unit_divisor": 1000,
       "unit_scale": false
      },
      "application/vnd.jupyter.widget-view+json": {
       "model_id": "6af6b73e8758443fb731e125c2277cfb",
       "version_major": 2,
       "version_minor": 0
      },
      "text/plain": [
       "  0%|          | 0/36 [00:00<?, ?it/s]"
      ]
     },
     "metadata": {},
     "output_type": "display_data"
    },
    {
     "name": "stdout",
     "output_type": "stream",
     "text": [
      "2025-03-24 08:01:57,909 - (139704643614528) - INFO - external.bloomberg.bquant.signal_lab.data_workbench.data_pack - fetching data item: bics_level_2\n"
     ]
    },
    {
     "data": {
      "application/json": {
       "ascii": false,
       "bar_format": null,
       "colour": null,
       "elapsed": 0.009041547775268555,
       "initial": 0,
       "n": 0,
       "ncols": null,
       "nrows": null,
       "postfix": null,
       "prefix": "",
       "rate": null,
       "total": 36,
       "unit": "it",
       "unit_divisor": 1000,
       "unit_scale": false
      },
      "application/vnd.jupyter.widget-view+json": {
       "model_id": "37ef7e8769004ee196e1f72a06b8ec38",
       "version_major": 2,
       "version_minor": 0
      },
      "text/plain": [
       "  0%|          | 0/36 [00:00<?, ?it/s]"
      ]
     },
     "metadata": {},
     "output_type": "display_data"
    },
    {
     "name": "stdout",
     "output_type": "stream",
     "text": [
      "2025-03-24 08:02:18,435 - (139704643614528) - INFO - external.bloomberg.bquant.signal_lab.data_workbench.data_pack - fetching data item: bics_level_3\n"
     ]
    },
    {
     "data": {
      "application/json": {
       "ascii": false,
       "bar_format": null,
       "colour": null,
       "elapsed": 0.00953221321105957,
       "initial": 0,
       "n": 0,
       "ncols": null,
       "nrows": null,
       "postfix": null,
       "prefix": "",
       "rate": null,
       "total": 36,
       "unit": "it",
       "unit_divisor": 1000,
       "unit_scale": false
      },
      "application/vnd.jupyter.widget-view+json": {
       "model_id": "84e3cb7b17ce42889d0269c31617a3ec",
       "version_major": 2,
       "version_minor": 0
      },
      "text/plain": [
       "  0%|          | 0/36 [00:00<?, ?it/s]"
      ]
     },
     "metadata": {},
     "output_type": "display_data"
    },
    {
     "name": "stdout",
     "output_type": "stream",
     "text": [
      "2025-03-24 08:02:38,037 - (139704643614528) - INFO - external.bloomberg.bquant.signal_lab.data_workbench.data_pack - fetching data item: bics_level_4\n"
     ]
    },
    {
     "data": {
      "application/json": {
       "ascii": false,
       "bar_format": null,
       "colour": null,
       "elapsed": 0.009358644485473633,
       "initial": 0,
       "n": 0,
       "ncols": null,
       "nrows": null,
       "postfix": null,
       "prefix": "",
       "rate": null,
       "total": 36,
       "unit": "it",
       "unit_divisor": 1000,
       "unit_scale": false
      },
      "application/vnd.jupyter.widget-view+json": {
       "model_id": "cace7e8a68624ef6b99b385abd6da58c",
       "version_major": 2,
       "version_minor": 0
      },
      "text/plain": [
       "  0%|          | 0/36 [00:00<?, ?it/s]"
      ]
     },
     "metadata": {},
     "output_type": "display_data"
    },
    {
     "name": "stdout",
     "output_type": "stream",
     "text": [
      "2025-03-24 08:02:58,172 - (139704643614528) - INFO - external.bloomberg.bquant.signal_lab.data_workbench.data_pack - fetching completed\n"
     ]
    }
   ],
   "source": [
    "fetch_status = data_pack.run_fetch()"
   ]
  },
  {
   "cell_type": "code",
   "execution_count": null,
   "id": "b4d8d5a5-0905-4d1a-8c31-d34f4d3b31f0",
   "metadata": {},
   "outputs": [],
   "source": []
  }
 ],
 "metadata": {
  "kernelspec": {
   "display_name": "Bloomberg Lab Python 3",
   "language": "python",
   "name": "remote-jupyterpython"
  },
  "language_info": {
   "codemirror_mode": {
    "name": "ipython",
    "version": 3
   },
   "file_extension": ".py",
   "mimetype": "text/x-python",
   "name": "python",
   "nbconvert_exporter": "python",
   "pygments_lexer": "ipython3",
   "version": "3.9.12"
  }
 },
 "nbformat": 4,
 "nbformat_minor": 5
}
