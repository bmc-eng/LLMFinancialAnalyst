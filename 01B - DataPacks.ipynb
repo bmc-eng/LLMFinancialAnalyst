{
 "cells": [
  {
   "cell_type": "markdown",
   "id": "662554da-f70e-4811-b073-2f1ceb357cc8",
   "metadata": {},
   "source": [
    "# Create the DataPacks\n",
    "Use the built-in Data Workbench functionality in Bloomberg Lab to retrieve the datasets needed to backtest the different strategies and construct the portfolios in Signal Lab. The datasets requested are only those needed for this purpose. Financial Statement datasets are retrieved separately to this. Datasets added into the datapack are:\n",
    "\n",
    "- Index membership and weights\n",
    "- Trading Calendars\n",
    "- Current market cap\n",
    "- Price\n",
    "- Total Returns\n",
    "- Beta\n",
    "- BICS sector\n",
    "- Analyst recommendations for the base study"
   ]
  },
  {
   "cell_type": "code",
   "execution_count": 1,
   "id": "f9f5da7f-99a3-486e-8081-9cfb54b12fb6",
   "metadata": {},
   "outputs": [
    {
     "name": "stdout",
     "output_type": "stream",
     "text": [
      "Running: micromamba install bloomberg.bquant.signal_lab=1.5.2 --yes --log-level=error\n",
      "\n",
      "  Package                                                   Version  Build                   Channel          Size\n",
      "────────────────────────────────────────────────────────────────────────────────────────────────────────────────────\n",
      "  Install:\n",
      "────────────────────────────────────────────────────────────────────────────────────────────────────────────────────\n",
      "\n",
      "  \u001b[32m+ icu                                               \u001b[0m         75.1  he02047a_0              conda-forge      12MB\n",
      "  \u001b[32m+ hmmlearn                                          \u001b[0m        0.3.3  py39hf88036b_0          conda-forge     177kB\n",
      "  \u001b[32m+ lz4                                               \u001b[0m        4.3.3  py39hd7df8f7_1          conda-forge      37kB\n",
      "  \u001b[32m+ fontconfig                                        \u001b[0m       2.15.0  h7e30c49_1              conda-forge     266kB\n",
      "  \u001b[32m+ pixman                                            \u001b[0m       0.44.2  h29eaf8c_0              conda-forge     381kB\n",
      "  \u001b[32m+ xorg-libice                                       \u001b[0m        1.1.2  hb9d3cd8_0              conda-forge      59kB\n",
      "  \u001b[32m+ libcups                                           \u001b[0m        2.3.3  h4637d8d_4              conda-forge       5MB\n",
      "  \u001b[32m+ wayland                                           \u001b[0m       1.23.1  h3e06ad9_0              conda-forge     322kB\n",
      "  \u001b[32m+ xorg-libx11                                       \u001b[0m       1.8.12  h4f16b4b_0              conda-forge     836kB\n",
      "  \u001b[32m+ libglib                                           \u001b[0m       2.84.1  h2ff4ddf_0              conda-forge       4MB\n",
      "  \u001b[32m+ cvxpy-base                                        \u001b[0m        1.6.5  py39h3b40f6f_0          conda-forge       1MB\n",
      "  \u001b[32m+ hicolor-icon-theme                                \u001b[0m         0.17  ha770c72_2              conda-forge      14kB\n",
      "  \u001b[32m+ libglvnd                                          \u001b[0m        1.7.0  ha4b6fd6_2              conda-forge     132kB\n",
      "  \u001b[32m+ double-conversion                                 \u001b[0m        3.3.1  h5888daf_0              conda-forge      70kB\n",
      "  \u001b[32m+ xcb-util                                          \u001b[0m        0.4.1  hb711507_2              conda-forge      20kB\n",
      "  \u001b[32m+ xcb-util-keysyms                                  \u001b[0m        0.4.1  hb711507_0              conda-forge      14kB\n",
      "  \u001b[32m+ xcb-util-renderutil                               \u001b[0m       0.3.10  hb711507_0              conda-forge      17kB\n",
      "  \u001b[32m+ xcb-util-wm                                       \u001b[0m        0.4.2  hb711507_0              conda-forge      52kB\n",
      "  \u001b[32m+ libpciaccess                                      \u001b[0m         0.18  hd590300_0              conda-forge      28kB\n",
      "  \u001b[32m+ mysql-common                                      \u001b[0m        9.2.0  h266115a_0              conda-forge     653kB\n",
      "  \u001b[32m+ graphite2                                         \u001b[0m       1.3.13  h59595ed_1003           conda-forge      97kB\n",
      "  \u001b[32m+ epoxy                                             \u001b[0m       1.5.10  h166bdaf_1              conda-forge       1MB\n",
      "  \u001b[32m+ clarabel                                          \u001b[0m       0.10.0  py39hc225815_0          conda-forge     862kB\n",
      "  \u001b[32m+ scs                                               \u001b[0m  3.2.7.post2  default_py39h8e67e81_0  conda-forge      80kB\n",
      "  \u001b[32m+ expat                                             \u001b[0m        2.7.0  h5888daf_0              conda-forge     140kB\n",
      "  \u001b[32m+ alsa-lib                                          \u001b[0m       1.2.14  hb9d3cd8_0              conda-forge     567kB\n",
      "  \u001b[32m+ libqdldl                                          \u001b[0m        0.1.7  hcb278e6_0              conda-forge      18kB\n",
      "  \u001b[32m+ libntlm                                           \u001b[0m          1.8  hb9d3cd8_0              conda-forge      33kB\n",
      "  \u001b[32m+ fribidi                                           \u001b[0m       1.0.10  h36c2ea0_0              conda-forge     114kB\n",
      "  \u001b[32m+ xorg-libsm                                        \u001b[0m        1.2.6  he73a12e_0              conda-forge      28kB\n",
      "  \u001b[32m+ xkeyboard-config                                  \u001b[0m         2.43  hb9d3cd8_0              conda-forge     389kB\n",
      "  \u001b[32m+ xorg-libxfixes                                    \u001b[0m        6.0.1  hb9d3cd8_0              conda-forge      20kB\n",
      "  \u001b[32m+ xorg-libxrender                                   \u001b[0m       0.9.12  hb9d3cd8_0              conda-forge      33kB\n",
      "  \u001b[32m+ xorg-libxext                                      \u001b[0m        1.3.6  hb9d3cd8_0              conda-forge      50kB\n",
      "  \u001b[32m+ atk-1.0                                           \u001b[0m       2.38.0  h04ea711_2              conda-forge     356kB\n",
      "  \u001b[32m+ glib-tools                                        \u001b[0m       2.84.1  h4833e2c_0              conda-forge     116kB\n",
      "  \u001b[32m+ gts                                               \u001b[0m        0.7.6  h977cf35_4              conda-forge     318kB\n",
      "  \u001b[32m+ gdk-pixbuf                                        \u001b[0m      2.42.12  hb9ae30d_0              conda-forge     528kB\n",
      "  \u001b[32m+ libglx                                            \u001b[0m        1.7.0  ha4b6fd6_2              conda-forge      76kB\n",
      "  \u001b[32m+ libopengl                                         \u001b[0m        1.7.0  ha4b6fd6_2              conda-forge      51kB\n",
      "  \u001b[32m+ libegl                                            \u001b[0m        1.7.0  ha4b6fd6_2              conda-forge      45kB\n",
      "  \u001b[32m+ xcb-util-image                                    \u001b[0m        0.4.0  hb711507_2              conda-forge      25kB\n",
      "  \u001b[32m+ libdrm                                            \u001b[0m      2.4.124  hb9d3cd8_0              conda-forge     243kB\n",
      "  \u001b[32m+ mysql-libs                                        \u001b[0m        9.2.0  he0572af_0              conda-forge       1MB\n",
      "  \u001b[32m+ dbus                                              \u001b[0m       1.13.6  h5008d03_3              conda-forge     619kB\n",
      "  \u001b[32m+ libosqp                                           \u001b[0m        0.6.3  h5888daf_1              conda-forge     433kB\n",
      "  \u001b[32m+ qdldl-python                                      \u001b[0m  0.1.7.post5  np20py39he7af290_1      conda-forge     135kB\n",
      "  \u001b[32m+ cyrus-sasl                                        \u001b[0m       2.1.27  h54b06d7_7              conda-forge     220kB\n",
      "  \u001b[32m+ libllvm20                                         \u001b[0m       20.1.3  he9d0ab4_0              conda-forge      43MB\n",
      "  \u001b[32m+ libxslt                                           \u001b[0m       1.1.39  h76b75d6_0              conda-forge     254kB\n",
      "  \u001b[32m+ libxkbcommon                                      \u001b[0m        1.8.1  hc4a0caf_0              conda-forge     645kB\n",
      "  \u001b[32m+ xorg-libxcomposite                                \u001b[0m        0.4.6  hb9d3cd8_2              conda-forge      14kB\n",
      "  \u001b[32m+ xorg-libxcursor                                   \u001b[0m        1.2.3  hb9d3cd8_0              conda-forge      33kB\n",
      "  \u001b[32m+ xorg-libxinerama                                  \u001b[0m        1.1.5  h5888daf_1              conda-forge      14kB\n",
      "  \u001b[32m+ xorg-libxxf86vm                                   \u001b[0m        1.1.6  hb9d3cd8_0              conda-forge      18kB\n",
      "  \u001b[32m+ xorg-libxrandr                                    \u001b[0m        1.5.4  hb9d3cd8_0              conda-forge      30kB\n",
      "  \u001b[32m+ xorg-libxi                                        \u001b[0m        1.8.2  hb9d3cd8_0              conda-forge      47kB\n",
      "  \u001b[32m+ xorg-libxdamage                                   \u001b[0m        1.1.6  hb9d3cd8_0              conda-forge      13kB\n",
      "  \u001b[32m+ libgl                                             \u001b[0m        1.7.0  ha4b6fd6_2              conda-forge     135kB\n",
      "  \u001b[32m+ xcb-util-cursor                                   \u001b[0m        0.1.5  hb9d3cd8_0              conda-forge      20kB\n",
      "  \u001b[32m+ osqp                                              \u001b[0m  0.6.7.post3  py39h3b40f6f_1          conda-forge     116kB\n",
      "  \u001b[32m+ openldap                                          \u001b[0m        2.6.9  he970967_0              conda-forge     784kB\n",
      "  \u001b[32m+ libclang-cpp20.1                                  \u001b[0m       20.1.3  default_h1df26ce_0      conda-forge      21MB\n",
      "  \u001b[32m+ libclang13                                        \u001b[0m       20.1.3  default_he06ed0a_0      conda-forge      12MB\n",
      "  \u001b[32m+ xorg-libxtst                                      \u001b[0m        1.2.5  hb9d3cd8_3              conda-forge      33kB\n",
      "  \u001b[32m+ cvxpy                                             \u001b[0m        1.6.5  py39hf3d152e_0          conda-forge     143kB\n",
      "  \u001b[32m+ libpq                                             \u001b[0m         17.4  h27ae623_1              conda-forge       3MB\n",
      "  \u001b[32m+ at-spi2-core                                      \u001b[0m       2.40.3  h0630a04_0              conda-forge     658kB\n",
      "  \u001b[32m+ at-spi2-atk                                       \u001b[0m       2.38.0  h0630a04_3              conda-forge     340kB\n",
      "  \u001b[32m+ bloomberg.bquant._internal.serializer_utils       \u001b[0m        0.3.0  g13dcf27                internal          7kB\n",
      "  \u001b[32m+ bloomberg.bquant.cvxpy_optimizer                  \u001b[0m      0.3.0a0  gdabbded                internal         19kB\n",
      "  \u001b[32m+ bloomberg.bquant.signal_lab.data_workbench        \u001b[0m        2.8.0  g79e2222                internal         37kB\n",
      "  \u001b[32m+ bokeh                                             \u001b[0m        2.4.3  pyhd8ed1ab_3            conda-forge      14MB\n",
      "  \u001b[32m+ importlib_metadata                                \u001b[0m        8.6.1  hd8ed1ab_0              conda-forge      10kB\n",
      "  \u001b[32m+ locket                                            \u001b[0m        1.0.0  pyhd8ed1ab_0            conda-forge       8kB\n",
      "  \u001b[32m+ multimethod                                       \u001b[0m         1.12  pyhd8ed1ab_1            conda-forge      16kB\n",
      "  \u001b[32m+ font-ttf-dejavu-sans-mono                         \u001b[0m         2.37  hab24e00_0              conda-forge     397kB\n",
      "  \u001b[32m+ typeguard                                         \u001b[0m        4.4.2  pyhd8ed1ab_0            conda-forge      35kB\n",
      "  \u001b[32m+ toolz                                             \u001b[0m        1.0.0  pyhd8ed1ab_1            conda-forge      52kB\n",
      "  \u001b[32m+ korean_lunar_calendar                             \u001b[0m        0.3.1  pyhd8ed1ab_1            conda-forge      14kB\n",
      "  \u001b[32m+ pyluach                                           \u001b[0m        2.2.0  pyhd8ed1ab_1            conda-forge      28kB\n",
      "  \u001b[32m+ sortedcontainers                                  \u001b[0m        2.4.0  pyhd8ed1ab_1            conda-forge      29kB\n",
      "  \u001b[32m+ tblib                                             \u001b[0m        3.1.0  pyhd8ed1ab_0            conda-forge      18kB\n",
      "  \u001b[32m+ zict                                              \u001b[0m        3.0.0  pyhd8ed1ab_1            conda-forge      36kB\n",
      "  \u001b[32m+ font-ttf-inconsolata                              \u001b[0m        3.000  h77eed37_0              conda-forge      97kB\n",
      "  \u001b[32m+ font-ttf-source-code-pro                          \u001b[0m        2.038  h77eed37_0              conda-forge     701kB\n",
      "  \u001b[32m+ font-ttf-ubuntu                                   \u001b[0m         0.83  h77eed37_3              conda-forge       2MB\n",
      "  \u001b[32m+ mypy_extensions                                   \u001b[0m        1.0.0  pyha770c72_1            conda-forge      11kB\n",
      "  \u001b[32m+ xmltodict                                         \u001b[0m       0.13.0  pyhd8ed1ab_0            conda-forge      14kB\n",
      "  \u001b[32m+ partd                                             \u001b[0m        1.4.2  pyhd8ed1ab_0            conda-forge      21kB\n",
      "  \u001b[32m+ exchange-calendars                                \u001b[0m        4.5.5  pyhd8ed1ab_0            conda-forge     119kB\n",
      "  \u001b[32m+ fonts-conda-forge                                 \u001b[0m            1  0                       conda-forge       4kB\n",
      "  \u001b[32m+ typing_inspect                                    \u001b[0m        0.9.0  pyhd8ed1ab_1            conda-forge      15kB\n",
      "  \u001b[32m+ dask-core                                         \u001b[0m    2023.12.1  pyhd8ed1ab_0            conda-forge     867kB\n",
      "  \u001b[32m+ pandas_market_calendars                           \u001b[0m        4.4.0  pyha770c72_0            conda-forge      77kB\n",
      "  \u001b[32m+ fonts-conda-ecosystem                             \u001b[0m            1  0                       conda-forge       4kB\n",
      "  \u001b[32m+ pandera-base                                      \u001b[0m       0.18.0  pyhd8ed1ab_0            conda-forge     128kB\n",
      "  \u001b[32m+ pandera                                           \u001b[0m       0.18.0  hd8ed1ab_0              conda-forge       7kB\n",
      "  \u001b[32m+ cytoolz                                           \u001b[0m        1.0.1  py39h8cd3c5a_0          conda-forge     369kB\n",
      "  \u001b[32m+ cairo                                             \u001b[0m       1.18.4  h3394656_0              conda-forge     978kB\n",
      "  \u001b[32m+ libgd                                             \u001b[0m        2.3.3  h6f5c62b_11             conda-forge     177kB\n",
      "  \u001b[32m+ harfbuzz                                          \u001b[0m       11.1.0  h3beb420_0              conda-forge       2MB\n",
      "  \u001b[32m+ qt6-main                                          \u001b[0m        6.9.0  h6441bc3_1              conda-forge      52MB\n",
      "  \u001b[32m+ pango                                             \u001b[0m       1.56.3  h9ac818e_1              conda-forge     453kB\n",
      "  \u001b[32m+ pyside6                                           \u001b[0m        6.9.0  py39h0383914_0          conda-forge      10MB\n",
      "  \u001b[32m+ librsvg                                           \u001b[0m       2.58.4  he92a37e_3              conda-forge       7MB\n",
      "  \u001b[32m+ gtk3                                              \u001b[0m      3.24.43  h0c6a113_5              conda-forge       6MB\n",
      "  \u001b[32m+ matplotlib                                        \u001b[0m        3.9.4  py39hf3d152e_0          conda-forge      17kB\n",
      "  \u001b[32m+ bqpopt                                            \u001b[0m    0.149.0a0  gaced3b6                internal         51kB\n",
      "  \u001b[32m+ bloomberg.bquant.signal_lab.signal                \u001b[0m       0.24.0  g70751c9                internal         52kB\n",
      "  \u001b[32m+ distributed                                       \u001b[0m    2023.12.1  pyhd8ed1ab_0            conda-forge     788kB\n",
      "  \u001b[32m+ adwaita-icon-theme                                \u001b[0m         48.0  unix_0                  conda-forge     610kB\n",
      "  \u001b[32m+ dask                                              \u001b[0m    2023.12.1  pyhd8ed1ab_0            conda-forge       7kB\n",
      "  \u001b[32m+ graphviz                                          \u001b[0m       12.2.1  h5ae0cbf_1              conda-forge       2MB\n",
      "  \u001b[32m+ python-graphviz                                   \u001b[0m       0.20.3  pyh91182bf_2            conda-forge      38kB\n",
      "  \u001b[32m+ bloomberg.bquant.compute_graph                    \u001b[0m        0.3.0  g3c99d22                internal         26kB\n",
      "  \u001b[32m+ bloomberg.bquant.signal_lab.portfolio_construction\u001b[0m        1.2.0  g5510e59                internal         39kB\n",
      "  \u001b[32m+ bqanalytics                                       \u001b[0m       1.10.0  g7facea6                internal        106kB\n",
      "  \u001b[32m+ bloomberg.bquant.signal_lab.analytics_dashboard   \u001b[0m       0.35.0  g325ab67                internal         54kB\n",
      "  \u001b[32m+ bloomberg.bquant.signal_lab.workflow              \u001b[0m        2.6.0  g3821cd8                internal         58kB\n",
      "  \u001b[32m+ bloomberg.bquant.signal_lab                       \u001b[0m        1.5.2  g2e817a3                internal         10kB\n",
      "\n",
      "  Remove:\n",
      "────────────────────────────────────────────────────────────────────────────────────────────────────────────────────\n",
      "\n",
      "  \u001b[31m- langchain-huggingface                             \u001b[0m        0.0.3  pyhd8ed1ab_0            conda-forge      20kB\n",
      "  \u001b[31m- text-generation                                   \u001b[0m        0.7.0  pyhd8ed1ab_1            conda-forge      23kB\n",
      "\n",
      "  Change:\n",
      "────────────────────────────────────────────────────────────────────────────────────────────────────────────────────\n",
      "\n",
      "  \u001b[31m- libxml2                                           \u001b[0m       2.13.7  h81593ed_1              conda-forge     691kB\n",
      "  \u001b[32m+ libxml2                                           \u001b[0m       2.13.7  h4bc477f_1              conda-forge     692kB\n",
      "\n",
      "  Downgrade:\n",
      "────────────────────────────────────────────────────────────────────────────────────────────────────────────────────\n",
      "\n",
      "  \u001b[31m- polars                                            \u001b[0m       1.27.1  py39hdc04786_1          conda-forge      27MB\n",
      "  \u001b[32m+ polars                                            \u001b[0m      0.20.31  py39h00d955e_1          conda-forge      22MB\n",
      "  \u001b[31m- pydantic                                          \u001b[0m       2.11.3  pyh3cfb1c2_0            conda-forge     307kB\n",
      "  \u001b[32m+ pydantic                                          \u001b[0m       1.10.2  py39hb9d737c_1          conda-forge       3MB\n",
      "  \u001b[31m- bqlogger                                          \u001b[0m        1.2.0  g07a1e71                internal         14kB\n",
      "  \u001b[32m+ bqlogger                                          \u001b[0m     0.39.0a0  ga88517e                internal         14kB\n",
      "\n",
      "  Summary:\n",
      "\n",
      "  Install: 121 packages\n",
      "  Remove: 2 packages\n",
      "  Change: 1 packages\n",
      "  Downgrade: 3 packages\n",
      "\n",
      "  Total download: 241MB\n",
      "\n",
      "Note: Packages not from Bloomberg channels are not vetted by Bloomberg.\n",
      "\u001b[93mPlease restart the Jupyter kernel if you run into any issues after installing or updating packages via %package.\u001b[0m\n",
      "\n"
     ]
    }
   ],
   "source": [
    "# Install signal_lab if it isn't already loaded\n",
    "%package install bloomberg.bquant.signal_lab=1.5.2"
   ]
  },
  {
   "cell_type": "code",
   "execution_count": 1,
   "id": "5f6e4897-2504-4732-8df7-43c46c9993b9",
   "metadata": {},
   "outputs": [],
   "source": [
    "import os\n",
    "import pandas as pd\n",
    "import s3fs\n",
    "import bql\n",
    "\n",
    "from bloomberg.bquant.signal_lab.data_workbench import (\n",
    "    create_data_pack,\n",
    "    load_data_pack,\n",
    "    DataPack,\n",
    "    DataPackConfig,\n",
    "    StorageType,\n",
    "    BQLIndexUniverse,\n",
    "    BQLIndexWeight,\n",
    "    BQLData,\n",
    "    ListUniverse,\n",
    "    TradingCalendarProxy,\n",
    "    FetchMode,\n",
    "    FetchErrorHandling\n",
    ")\n",
    "\n",
    "from bloomberg.bquant.signal_lab.workflow.utils import get_sandbox_path"
   ]
  },
  {
   "cell_type": "code",
   "execution_count": 2,
   "id": "e3ec9455-bcf9-4b4a-8f6d-ddeb5f514f9b",
   "metadata": {},
   "outputs": [],
   "source": [
    "# Create the BQL object to request the data\n",
    "bq = bql.Service()"
   ]
  },
  {
   "cell_type": "code",
   "execution_count": 3,
   "id": "0ccbf66f-9ed4-42bf-9f62-147c04edf7b6",
   "metadata": {},
   "outputs": [],
   "source": [
    "datapack_path = f\"{get_sandbox_path()}/tmp/fs/datapack\""
   ]
  },
  {
   "cell_type": "markdown",
   "id": "a4edc458-625d-4b41-8a84-5b54a9e38d2e",
   "metadata": {},
   "source": [
    "## Define the universe"
   ]
  },
  {
   "cell_type": "code",
   "execution_count": 4,
   "id": "95ef4512-f707-4530-9003-c05873809c39",
   "metadata": {},
   "outputs": [],
   "source": [
    "index_name = 'INDU Index'\n",
    "data_pack_config = DataPackConfig(pd.Timestamp(\"2019-03-31\"),pd.Timestamp(\"2024-12-31\"))\n",
    "\n",
    "universe_definitions = {\n",
    "    index_name: BQLIndexUniverse(index_name)\n",
    "}"
   ]
  },
  {
   "cell_type": "markdown",
   "id": "d20f30a7-c184-4e1a-b4c2-ddcac74e3e27",
   "metadata": {},
   "source": [
    "### Define the Data items"
   ]
  },
  {
   "cell_type": "code",
   "execution_count": 5,
   "id": "0f14163a-3e59-42b7-9232-56dfd4489df9",
   "metadata": {},
   "outputs": [],
   "source": [
    "data_item_definitions = {\n",
    "    \"index_weight\": BQLIndexWeight(),\n",
    "    \"trading_calendar\": TradingCalendarProxy(),\n",
    "\n",
    "    \"analyst_rating\": BQLData(bq.data.best_analyst_rating()),\n",
    "    \"target_price\": BQLData(bq.data.best_target_price()),\n",
    "\n",
    "    \"cur_mkt_cap\": BQLData(bq.data.cur_mkt_cap()),\n",
    "    \"day_to_day_tot_return_gross_dvds\": BQLData(bq.data.day_to_day_tot_return_gross_dvds()),\n",
    "    \"beta\": BQLData(bq.data.beta(), rolling_date=True, freq=\"w\"),\n",
    "    \"px_last\": BQLData(bq.data.px_last()),\n",
    "\n",
    "    'bics_level_1': BQLData(bq.data.classification_name(\"bics\", \"1\"), rolling_date=True),\n",
    "    'bics_level_2': BQLData(bq.data.classification_name(\"bics\", \"2\"), rolling_date=True),\n",
    "    'bics_level_3': BQLData(bq.data.classification_name(\"bics\", \"3\"), rolling_date=True),\n",
    "    'bics_level_4': BQLData(bq.data.classification_name(\"bics\", \"4\"), rolling_date=True),\n",
    "}"
   ]
  },
  {
   "cell_type": "markdown",
   "id": "e411cde9-63ed-441f-898b-73d06decabc2",
   "metadata": {},
   "source": [
    "### Create the DataPack"
   ]
  },
  {
   "cell_type": "code",
   "execution_count": 6,
   "id": "185c13f4-0f52-4516-9bef-bde2a97c2d77",
   "metadata": {},
   "outputs": [
    {
     "ename": "TypeError",
     "evalue": "compute_endpoint_resolver_builtin_defaults() missing 2 required positional arguments: 'credentials' and 'account_id_endpoint_mode'",
     "output_type": "error",
     "traceback": [
      "\u001b[0;31m---------------------------------------------------------------------------\u001b[0m",
      "\u001b[0;31mTypeError\u001b[0m                                 Traceback (most recent call last)",
      "Cell \u001b[0;32mIn[6], line 1\u001b[0m\n\u001b[0;32m----> 1\u001b[0m data_pack \u001b[38;5;241m=\u001b[39m \u001b[43mcreate_data_pack\u001b[49m\u001b[43m(\u001b[49m\n\u001b[1;32m      2\u001b[0m \u001b[43m    \u001b[49m\u001b[43mdata_pack_config\u001b[49m\u001b[43m \u001b[49m\u001b[38;5;241;43m=\u001b[39;49m\u001b[43m \u001b[49m\u001b[43mdata_pack_config\u001b[49m\u001b[43m,\u001b[49m\n\u001b[1;32m      3\u001b[0m \u001b[43m    \u001b[49m\u001b[43muniverse_definitions\u001b[49m\u001b[38;5;241;43m=\u001b[39;49m\u001b[43muniverse_definitions\u001b[49m\u001b[43m,\u001b[49m\n\u001b[1;32m      4\u001b[0m \u001b[43m    \u001b[49m\u001b[43mdata_item_definitions\u001b[49m\u001b[38;5;241;43m=\u001b[39;49m\u001b[43mdata_item_definitions\u001b[49m\u001b[43m,\u001b[49m\n\u001b[1;32m      5\u001b[0m \u001b[43m    \u001b[49m\u001b[43mstorage_type\u001b[49m\u001b[38;5;241;43m=\u001b[39;49m\u001b[43mStorageType\u001b[49m\u001b[38;5;241;43m.\u001b[39;49m\u001b[43mPARQUET\u001b[49m\u001b[43m,\u001b[49m\n\u001b[1;32m      6\u001b[0m \u001b[43m    \u001b[49m\u001b[43mstorage_path\u001b[49m\u001b[38;5;241;43m=\u001b[39;49m\u001b[43mdatapack_path\u001b[49m\u001b[43m,\u001b[49m\n\u001b[1;32m      7\u001b[0m \u001b[43m    \u001b[49m\u001b[43moverwrite_existing_data_pack\u001b[49m\u001b[38;5;241;43m=\u001b[39;49m\u001b[38;5;28;43;01mTrue\u001b[39;49;00m\n\u001b[1;32m      8\u001b[0m \u001b[43m)\u001b[49m\n",
      "File \u001b[0;32m/opt/kernel/lib/python3.9/site-packages/bloomberg/bquant/signal_lab/data_workbench/data_pack.py:945\u001b[0m, in \u001b[0;36mcreate_data_pack\u001b[0;34m(data_pack_config, universe_definitions, data_item_definitions, storage_type, storage_path, overwrite_existing_data_pack)\u001b[0m\n\u001b[1;32m    937\u001b[0m data_pack \u001b[38;5;241m=\u001b[39m DataPack(\n\u001b[1;32m    938\u001b[0m     data_pack_metadata,\n\u001b[1;32m    939\u001b[0m     data_pack_config,\n\u001b[0;32m   (...)\u001b[0m\n\u001b[1;32m    942\u001b[0m     data_store,\n\u001b[1;32m    943\u001b[0m )\n\u001b[1;32m    944\u001b[0m \u001b[38;5;66;03m# pylint: disable-next=protected-access\u001b[39;00m\n\u001b[0;32m--> 945\u001b[0m \u001b[43mdata_pack\u001b[49m\u001b[38;5;241;43m.\u001b[39;49m\u001b[43m_write_config_and_definitions\u001b[49m\u001b[43m(\u001b[49m\u001b[43m)\u001b[49m\n\u001b[1;32m    947\u001b[0m \u001b[38;5;28;01mwith\u001b[39;00m internal_log_context(datapack_id\u001b[38;5;241m=\u001b[39mdata_pack_id):\n\u001b[1;32m    948\u001b[0m     logger\u001b[38;5;241m.\u001b[39minternal()\u001b[38;5;241m.\u001b[39minfo(\n\u001b[1;32m    949\u001b[0m         \u001b[38;5;124m\"\u001b[39m\u001b[38;5;124mDataPack created w/ \u001b[39m\u001b[38;5;132;01m%d\u001b[39;00m\u001b[38;5;124m universes and \u001b[39m\u001b[38;5;132;01m%d\u001b[39;00m\u001b[38;5;124m data items\u001b[39m\u001b[38;5;124m\"\u001b[39m,\n\u001b[1;32m    950\u001b[0m         \u001b[38;5;28mlen\u001b[39m(universe_definitions),\n\u001b[1;32m    951\u001b[0m         \u001b[38;5;28mlen\u001b[39m(data_item_definitions),\n\u001b[1;32m    952\u001b[0m     )\n",
      "File \u001b[0;32m/opt/kernel/lib/python3.9/site-packages/bloomberg/bquant/signal_lab/data_workbench/data_pack.py:553\u001b[0m, in \u001b[0;36mDataPack._write_config_and_definitions\u001b[0;34m(self)\u001b[0m\n\u001b[1;32m    552\u001b[0m \u001b[38;5;28;01mdef\u001b[39;00m\u001b[38;5;250m \u001b[39m\u001b[38;5;21m_write_config_and_definitions\u001b[39m(\u001b[38;5;28mself\u001b[39m) \u001b[38;5;241m-\u001b[39m\u001b[38;5;241m>\u001b[39m \u001b[38;5;28;01mNone\u001b[39;00m:\n\u001b[0;32m--> 553\u001b[0m     \u001b[38;5;28;43mself\u001b[39;49m\u001b[38;5;241;43m.\u001b[39;49m\u001b[43m_data_store\u001b[49m\u001b[38;5;241;43m.\u001b[39;49m\u001b[43mwrite_data_pack_metadata\u001b[49m\u001b[43m(\u001b[49m\u001b[38;5;28;43mself\u001b[39;49m\u001b[38;5;241;43m.\u001b[39;49m\u001b[43m_metadata\u001b[49m\u001b[43m)\u001b[49m\n\u001b[1;32m    554\u001b[0m     \u001b[38;5;28mself\u001b[39m\u001b[38;5;241m.\u001b[39m_data_store\u001b[38;5;241m.\u001b[39mwrite_data_pack_config(\u001b[38;5;28mself\u001b[39m\u001b[38;5;241m.\u001b[39m_config)\n\u001b[1;32m    555\u001b[0m     \u001b[38;5;28mself\u001b[39m\u001b[38;5;241m.\u001b[39m_data_store\u001b[38;5;241m.\u001b[39mwrite_universe_definitions(\u001b[38;5;28mself\u001b[39m\u001b[38;5;241m.\u001b[39m_universe_definitions)\n",
      "File \u001b[0;32m/opt/kernel/lib/python3.9/site-packages/bloomberg/bquant/signal_lab/data_workbench/data_store/parquet_data_store.py:70\u001b[0m, in \u001b[0;36mParquetDataStore.write_data_pack_metadata\u001b[0;34m(self, data_pack_metadata)\u001b[0m\n\u001b[1;32m     60\u001b[0m \u001b[38;5;250m\u001b[39m\u001b[38;5;124;03m\"\"\"Save the DataPack metadata to the storage.\"\"\"\u001b[39;00m\n\u001b[1;32m     61\u001b[0m id_df \u001b[38;5;241m=\u001b[39m pd\u001b[38;5;241m.\u001b[39mDataFrame(\n\u001b[1;32m     62\u001b[0m     [\n\u001b[1;32m     63\u001b[0m         [\n\u001b[0;32m   (...)\u001b[0m\n\u001b[1;32m     68\u001b[0m     columns\u001b[38;5;241m=\u001b[39m\u001b[38;5;28mself\u001b[39m\u001b[38;5;241m.\u001b[39m_DATA_PACK_METADATA_COLUMNS,\n\u001b[1;32m     69\u001b[0m )\n\u001b[0;32m---> 70\u001b[0m \u001b[38;5;28;43mself\u001b[39;49m\u001b[38;5;241;43m.\u001b[39;49m\u001b[43m_storage\u001b[49m\u001b[38;5;241;43m.\u001b[39;49m\u001b[43mwrite\u001b[49m\u001b[43m(\u001b[49m\u001b[38;5;28;43mself\u001b[39;49m\u001b[38;5;241;43m.\u001b[39;49m\u001b[43m_DATA_PACK_METADATA_FILE_PATH\u001b[49m\u001b[43m,\u001b[49m\u001b[43m \u001b[49m\u001b[43mid_df\u001b[49m\u001b[43m)\u001b[49m\n",
      "File \u001b[0;32m/opt/kernel/lib/python3.9/site-packages/bloomberg/bquant/signal_lab/data_workbench/storage_accessor/parquet_accessor.py:60\u001b[0m, in \u001b[0;36mParquetAccessor.write\u001b[0;34m(self, file_path, data, **kwargs)\u001b[0m\n\u001b[1;32m     58\u001b[0m \u001b[38;5;28mself\u001b[39m\u001b[38;5;241m.\u001b[39m_prepare_write_dir(file_path)\n\u001b[1;32m     59\u001b[0m full_path \u001b[38;5;241m=\u001b[39m \u001b[38;5;124mf\u001b[39m\u001b[38;5;124m\"\u001b[39m\u001b[38;5;132;01m{\u001b[39;00m\u001b[38;5;28mself\u001b[39m\u001b[38;5;241m.\u001b[39m_base_path\u001b[38;5;132;01m}\u001b[39;00m\u001b[38;5;124m/\u001b[39m\u001b[38;5;132;01m{\u001b[39;00mfile_path\u001b[38;5;132;01m}\u001b[39;00m\u001b[38;5;124m\"\u001b[39m\n\u001b[0;32m---> 60\u001b[0m \u001b[43mdata\u001b[49m\u001b[38;5;241;43m.\u001b[39;49m\u001b[43mto_parquet\u001b[49m\u001b[43m(\u001b[49m\u001b[43mfull_path\u001b[49m\u001b[43m,\u001b[49m\u001b[43m \u001b[49m\u001b[38;5;241;43m*\u001b[39;49m\u001b[38;5;241;43m*\u001b[39;49m\u001b[43mkwargs\u001b[49m\u001b[43m)\u001b[49m\n",
      "File \u001b[0;32m/opt/kernel/lib/python3.9/site-packages/pandas/util/_decorators.py:211\u001b[0m, in \u001b[0;36mdeprecate_kwarg.<locals>._deprecate_kwarg.<locals>.wrapper\u001b[0;34m(*args, **kwargs)\u001b[0m\n\u001b[1;32m    209\u001b[0m     \u001b[38;5;28;01melse\u001b[39;00m:\n\u001b[1;32m    210\u001b[0m         kwargs[new_arg_name] \u001b[38;5;241m=\u001b[39m new_arg_value\n\u001b[0;32m--> 211\u001b[0m \u001b[38;5;28;01mreturn\u001b[39;00m \u001b[43mfunc\u001b[49m\u001b[43m(\u001b[49m\u001b[38;5;241;43m*\u001b[39;49m\u001b[43margs\u001b[49m\u001b[43m,\u001b[49m\u001b[43m \u001b[49m\u001b[38;5;241;43m*\u001b[39;49m\u001b[38;5;241;43m*\u001b[39;49m\u001b[43mkwargs\u001b[49m\u001b[43m)\u001b[49m\n",
      "File \u001b[0;32m/opt/kernel/lib/python3.9/site-packages/pandas/core/frame.py:2976\u001b[0m, in \u001b[0;36mDataFrame.to_parquet\u001b[0;34m(self, path, engine, compression, index, partition_cols, storage_options, **kwargs)\u001b[0m\n\u001b[1;32m   2889\u001b[0m \u001b[38;5;250m\u001b[39m\u001b[38;5;124;03m\"\"\"\u001b[39;00m\n\u001b[1;32m   2890\u001b[0m \u001b[38;5;124;03mWrite a DataFrame to the binary parquet format.\u001b[39;00m\n\u001b[1;32m   2891\u001b[0m \n\u001b[0;32m   (...)\u001b[0m\n\u001b[1;32m   2972\u001b[0m \u001b[38;5;124;03m>>> content = f.read()\u001b[39;00m\n\u001b[1;32m   2973\u001b[0m \u001b[38;5;124;03m\"\"\"\u001b[39;00m\n\u001b[1;32m   2974\u001b[0m \u001b[38;5;28;01mfrom\u001b[39;00m\u001b[38;5;250m \u001b[39m\u001b[38;5;21;01mpandas\u001b[39;00m\u001b[38;5;21;01m.\u001b[39;00m\u001b[38;5;21;01mio\u001b[39;00m\u001b[38;5;21;01m.\u001b[39;00m\u001b[38;5;21;01mparquet\u001b[39;00m\u001b[38;5;250m \u001b[39m\u001b[38;5;28;01mimport\u001b[39;00m to_parquet\n\u001b[0;32m-> 2976\u001b[0m \u001b[38;5;28;01mreturn\u001b[39;00m \u001b[43mto_parquet\u001b[49m\u001b[43m(\u001b[49m\n\u001b[1;32m   2977\u001b[0m \u001b[43m    \u001b[49m\u001b[38;5;28;43mself\u001b[39;49m\u001b[43m,\u001b[49m\n\u001b[1;32m   2978\u001b[0m \u001b[43m    \u001b[49m\u001b[43mpath\u001b[49m\u001b[43m,\u001b[49m\n\u001b[1;32m   2979\u001b[0m \u001b[43m    \u001b[49m\u001b[43mengine\u001b[49m\u001b[43m,\u001b[49m\n\u001b[1;32m   2980\u001b[0m \u001b[43m    \u001b[49m\u001b[43mcompression\u001b[49m\u001b[38;5;241;43m=\u001b[39;49m\u001b[43mcompression\u001b[49m\u001b[43m,\u001b[49m\n\u001b[1;32m   2981\u001b[0m \u001b[43m    \u001b[49m\u001b[43mindex\u001b[49m\u001b[38;5;241;43m=\u001b[39;49m\u001b[43mindex\u001b[49m\u001b[43m,\u001b[49m\n\u001b[1;32m   2982\u001b[0m \u001b[43m    \u001b[49m\u001b[43mpartition_cols\u001b[49m\u001b[38;5;241;43m=\u001b[39;49m\u001b[43mpartition_cols\u001b[49m\u001b[43m,\u001b[49m\n\u001b[1;32m   2983\u001b[0m \u001b[43m    \u001b[49m\u001b[43mstorage_options\u001b[49m\u001b[38;5;241;43m=\u001b[39;49m\u001b[43mstorage_options\u001b[49m\u001b[43m,\u001b[49m\n\u001b[1;32m   2984\u001b[0m \u001b[43m    \u001b[49m\u001b[38;5;241;43m*\u001b[39;49m\u001b[38;5;241;43m*\u001b[39;49m\u001b[43mkwargs\u001b[49m\u001b[43m,\u001b[49m\n\u001b[1;32m   2985\u001b[0m \u001b[43m\u001b[49m\u001b[43m)\u001b[49m\n",
      "File \u001b[0;32m/opt/kernel/lib/python3.9/site-packages/pandas/io/parquet.py:430\u001b[0m, in \u001b[0;36mto_parquet\u001b[0;34m(df, path, engine, compression, index, storage_options, partition_cols, **kwargs)\u001b[0m\n\u001b[1;32m    426\u001b[0m impl \u001b[38;5;241m=\u001b[39m get_engine(engine)\n\u001b[1;32m    428\u001b[0m path_or_buf: FilePath \u001b[38;5;241m|\u001b[39m WriteBuffer[\u001b[38;5;28mbytes\u001b[39m] \u001b[38;5;241m=\u001b[39m io\u001b[38;5;241m.\u001b[39mBytesIO() \u001b[38;5;28;01mif\u001b[39;00m path \u001b[38;5;129;01mis\u001b[39;00m \u001b[38;5;28;01mNone\u001b[39;00m \u001b[38;5;28;01melse\u001b[39;00m path\n\u001b[0;32m--> 430\u001b[0m \u001b[43mimpl\u001b[49m\u001b[38;5;241;43m.\u001b[39;49m\u001b[43mwrite\u001b[49m\u001b[43m(\u001b[49m\n\u001b[1;32m    431\u001b[0m \u001b[43m    \u001b[49m\u001b[43mdf\u001b[49m\u001b[43m,\u001b[49m\n\u001b[1;32m    432\u001b[0m \u001b[43m    \u001b[49m\u001b[43mpath_or_buf\u001b[49m\u001b[43m,\u001b[49m\n\u001b[1;32m    433\u001b[0m \u001b[43m    \u001b[49m\u001b[43mcompression\u001b[49m\u001b[38;5;241;43m=\u001b[39;49m\u001b[43mcompression\u001b[49m\u001b[43m,\u001b[49m\n\u001b[1;32m    434\u001b[0m \u001b[43m    \u001b[49m\u001b[43mindex\u001b[49m\u001b[38;5;241;43m=\u001b[39;49m\u001b[43mindex\u001b[49m\u001b[43m,\u001b[49m\n\u001b[1;32m    435\u001b[0m \u001b[43m    \u001b[49m\u001b[43mpartition_cols\u001b[49m\u001b[38;5;241;43m=\u001b[39;49m\u001b[43mpartition_cols\u001b[49m\u001b[43m,\u001b[49m\n\u001b[1;32m    436\u001b[0m \u001b[43m    \u001b[49m\u001b[43mstorage_options\u001b[49m\u001b[38;5;241;43m=\u001b[39;49m\u001b[43mstorage_options\u001b[49m\u001b[43m,\u001b[49m\n\u001b[1;32m    437\u001b[0m \u001b[43m    \u001b[49m\u001b[38;5;241;43m*\u001b[39;49m\u001b[38;5;241;43m*\u001b[39;49m\u001b[43mkwargs\u001b[49m\u001b[43m,\u001b[49m\n\u001b[1;32m    438\u001b[0m \u001b[43m\u001b[49m\u001b[43m)\u001b[49m\n\u001b[1;32m    440\u001b[0m \u001b[38;5;28;01mif\u001b[39;00m path \u001b[38;5;129;01mis\u001b[39;00m \u001b[38;5;28;01mNone\u001b[39;00m:\n\u001b[1;32m    441\u001b[0m     \u001b[38;5;28;01massert\u001b[39;00m \u001b[38;5;28misinstance\u001b[39m(path_or_buf, io\u001b[38;5;241m.\u001b[39mBytesIO)\n",
      "File \u001b[0;32m/opt/kernel/lib/python3.9/site-packages/pandas/io/parquet.py:204\u001b[0m, in \u001b[0;36mPyArrowImpl.write\u001b[0;34m(self, df, path, compression, index, storage_options, partition_cols, **kwargs)\u001b[0m\n\u001b[1;32m    195\u001b[0m         \u001b[38;5;28mself\u001b[39m\u001b[38;5;241m.\u001b[39mapi\u001b[38;5;241m.\u001b[39mparquet\u001b[38;5;241m.\u001b[39mwrite_to_dataset(\n\u001b[1;32m    196\u001b[0m             table,\n\u001b[1;32m    197\u001b[0m             path_or_handle,\n\u001b[0;32m   (...)\u001b[0m\n\u001b[1;32m    200\u001b[0m             \u001b[38;5;241m*\u001b[39m\u001b[38;5;241m*\u001b[39mkwargs,\n\u001b[1;32m    201\u001b[0m         )\n\u001b[1;32m    202\u001b[0m     \u001b[38;5;28;01melse\u001b[39;00m:\n\u001b[1;32m    203\u001b[0m         \u001b[38;5;66;03m# write to single output file\u001b[39;00m\n\u001b[0;32m--> 204\u001b[0m         \u001b[38;5;28;43mself\u001b[39;49m\u001b[38;5;241;43m.\u001b[39;49m\u001b[43mapi\u001b[49m\u001b[38;5;241;43m.\u001b[39;49m\u001b[43mparquet\u001b[49m\u001b[38;5;241;43m.\u001b[39;49m\u001b[43mwrite_table\u001b[49m\u001b[43m(\u001b[49m\n\u001b[1;32m    205\u001b[0m \u001b[43m            \u001b[49m\u001b[43mtable\u001b[49m\u001b[43m,\u001b[49m\u001b[43m \u001b[49m\u001b[43mpath_or_handle\u001b[49m\u001b[43m,\u001b[49m\u001b[43m \u001b[49m\u001b[43mcompression\u001b[49m\u001b[38;5;241;43m=\u001b[39;49m\u001b[43mcompression\u001b[49m\u001b[43m,\u001b[49m\u001b[43m \u001b[49m\u001b[38;5;241;43m*\u001b[39;49m\u001b[38;5;241;43m*\u001b[39;49m\u001b[43mkwargs\u001b[49m\n\u001b[1;32m    206\u001b[0m \u001b[43m        \u001b[49m\u001b[43m)\u001b[49m\n\u001b[1;32m    207\u001b[0m \u001b[38;5;28;01mfinally\u001b[39;00m:\n\u001b[1;32m    208\u001b[0m     \u001b[38;5;28;01mif\u001b[39;00m handles \u001b[38;5;129;01mis\u001b[39;00m \u001b[38;5;129;01mnot\u001b[39;00m \u001b[38;5;28;01mNone\u001b[39;00m:\n",
      "File \u001b[0;32m/opt/kernel/lib/python3.9/site-packages/pyarrow/parquet/core.py:3127\u001b[0m, in \u001b[0;36mwrite_table\u001b[0;34m(table, where, row_group_size, version, use_dictionary, compression, write_statistics, use_deprecated_int96_timestamps, coerce_timestamps, allow_truncated_timestamps, data_page_size, flavor, filesystem, compression_level, use_byte_stream_split, column_encoding, data_page_version, use_compliant_nested_type, encryption_properties, write_batch_size, dictionary_pagesize_limit, store_schema, write_page_index, **kwargs)\u001b[0m\n\u001b[1;32m   3103\u001b[0m \u001b[38;5;28;01mtry\u001b[39;00m:\n\u001b[1;32m   3104\u001b[0m     \u001b[38;5;28;01mwith\u001b[39;00m ParquetWriter(\n\u001b[1;32m   3105\u001b[0m             where, table\u001b[38;5;241m.\u001b[39mschema,\n\u001b[1;32m   3106\u001b[0m             filesystem\u001b[38;5;241m=\u001b[39mfilesystem,\n\u001b[0;32m   (...)\u001b[0m\n\u001b[1;32m   3125\u001b[0m             write_page_index\u001b[38;5;241m=\u001b[39mwrite_page_index,\n\u001b[1;32m   3126\u001b[0m             \u001b[38;5;241m*\u001b[39m\u001b[38;5;241m*\u001b[39mkwargs) \u001b[38;5;28;01mas\u001b[39;00m writer:\n\u001b[0;32m-> 3127\u001b[0m         writer\u001b[38;5;241m.\u001b[39mwrite_table(table, row_group_size\u001b[38;5;241m=\u001b[39mrow_group_size)\n\u001b[1;32m   3128\u001b[0m \u001b[38;5;28;01mexcept\u001b[39;00m \u001b[38;5;167;01mException\u001b[39;00m:\n\u001b[1;32m   3129\u001b[0m     \u001b[38;5;28;01mif\u001b[39;00m _is_path_like(where):\n",
      "File \u001b[0;32m/opt/kernel/lib/python3.9/site-packages/pyarrow/parquet/core.py:1045\u001b[0m, in \u001b[0;36mParquetWriter.__exit__\u001b[0;34m(self, *args, **kwargs)\u001b[0m\n\u001b[1;32m   1044\u001b[0m \u001b[38;5;28;01mdef\u001b[39;00m\u001b[38;5;250m \u001b[39m\u001b[38;5;21m__exit__\u001b[39m(\u001b[38;5;28mself\u001b[39m, \u001b[38;5;241m*\u001b[39margs, \u001b[38;5;241m*\u001b[39m\u001b[38;5;241m*\u001b[39mkwargs):\n\u001b[0;32m-> 1045\u001b[0m     \u001b[38;5;28;43mself\u001b[39;49m\u001b[38;5;241;43m.\u001b[39;49m\u001b[43mclose\u001b[49m\u001b[43m(\u001b[49m\u001b[43m)\u001b[49m\n\u001b[1;32m   1046\u001b[0m     \u001b[38;5;66;03m# return false since we want to propagate exceptions\u001b[39;00m\n\u001b[1;32m   1047\u001b[0m     \u001b[38;5;28;01mreturn\u001b[39;00m \u001b[38;5;28;01mFalse\u001b[39;00m\n",
      "File \u001b[0;32m/opt/kernel/lib/python3.9/site-packages/pyarrow/parquet/core.py:1120\u001b[0m, in \u001b[0;36mParquetWriter.close\u001b[0;34m(self)\u001b[0m\n\u001b[1;32m   1118\u001b[0m         \u001b[38;5;28mself\u001b[39m\u001b[38;5;241m.\u001b[39m_metadata_collector\u001b[38;5;241m.\u001b[39mappend(\u001b[38;5;28mself\u001b[39m\u001b[38;5;241m.\u001b[39mwriter\u001b[38;5;241m.\u001b[39mmetadata)\n\u001b[1;32m   1119\u001b[0m \u001b[38;5;28;01mif\u001b[39;00m \u001b[38;5;28mself\u001b[39m\u001b[38;5;241m.\u001b[39mfile_handle \u001b[38;5;129;01mis\u001b[39;00m \u001b[38;5;129;01mnot\u001b[39;00m \u001b[38;5;28;01mNone\u001b[39;00m:\n\u001b[0;32m-> 1120\u001b[0m     \u001b[38;5;28;43mself\u001b[39;49m\u001b[38;5;241;43m.\u001b[39;49m\u001b[43mfile_handle\u001b[49m\u001b[38;5;241;43m.\u001b[39;49m\u001b[43mclose\u001b[49m\u001b[43m(\u001b[49m\u001b[43m)\u001b[49m\n",
      "File \u001b[0;32m/opt/kernel/lib/python3.9/site-packages/pyarrow/io.pxi:190\u001b[0m, in \u001b[0;36mpyarrow.lib.NativeFile.close\u001b[0;34m()\u001b[0m\n",
      "File \u001b[0;32m/opt/kernel/lib/python3.9/site-packages/pyarrow/types.pxi:88\u001b[0m, in \u001b[0;36mpyarrow.lib._datatype_to_pep3118\u001b[0;34m()\u001b[0m\n",
      "File \u001b[0;32m/opt/kernel/lib/python3.9/site-packages/fsspec/spec.py:2178\u001b[0m, in \u001b[0;36mAbstractBufferedFile.close\u001b[0;34m(self)\u001b[0m\n\u001b[1;32m   2176\u001b[0m \u001b[38;5;28;01melse\u001b[39;00m:\n\u001b[1;32m   2177\u001b[0m     \u001b[38;5;28;01mif\u001b[39;00m \u001b[38;5;129;01mnot\u001b[39;00m \u001b[38;5;28mself\u001b[39m\u001b[38;5;241m.\u001b[39mforced:\n\u001b[0;32m-> 2178\u001b[0m         \u001b[38;5;28;43mself\u001b[39;49m\u001b[38;5;241;43m.\u001b[39;49m\u001b[43mflush\u001b[49m\u001b[43m(\u001b[49m\u001b[43mforce\u001b[49m\u001b[38;5;241;43m=\u001b[39;49m\u001b[38;5;28;43;01mTrue\u001b[39;49;00m\u001b[43m)\u001b[49m\n\u001b[1;32m   2180\u001b[0m     \u001b[38;5;28;01mif\u001b[39;00m \u001b[38;5;28mself\u001b[39m\u001b[38;5;241m.\u001b[39mfs \u001b[38;5;129;01mis\u001b[39;00m \u001b[38;5;129;01mnot\u001b[39;00m \u001b[38;5;28;01mNone\u001b[39;00m:\n\u001b[1;32m   2181\u001b[0m         \u001b[38;5;28mself\u001b[39m\u001b[38;5;241m.\u001b[39mfs\u001b[38;5;241m.\u001b[39minvalidate_cache(\u001b[38;5;28mself\u001b[39m\u001b[38;5;241m.\u001b[39mpath)\n",
      "File \u001b[0;32m/opt/kernel/lib/python3.9/site-packages/fsspec/spec.py:2041\u001b[0m, in \u001b[0;36mAbstractBufferedFile.flush\u001b[0;34m(self, force)\u001b[0m\n\u001b[1;32m   2038\u001b[0m         \u001b[38;5;28mself\u001b[39m\u001b[38;5;241m.\u001b[39mclosed \u001b[38;5;241m=\u001b[39m \u001b[38;5;28;01mTrue\u001b[39;00m\n\u001b[1;32m   2039\u001b[0m         \u001b[38;5;28;01mraise\u001b[39;00m\n\u001b[0;32m-> 2041\u001b[0m \u001b[38;5;28;01mif\u001b[39;00m \u001b[38;5;28;43mself\u001b[39;49m\u001b[38;5;241;43m.\u001b[39;49m\u001b[43m_upload_chunk\u001b[49m\u001b[43m(\u001b[49m\u001b[43mfinal\u001b[49m\u001b[38;5;241;43m=\u001b[39;49m\u001b[43mforce\u001b[49m\u001b[43m)\u001b[49m \u001b[38;5;129;01mis\u001b[39;00m \u001b[38;5;129;01mnot\u001b[39;00m \u001b[38;5;28;01mFalse\u001b[39;00m:\n\u001b[1;32m   2042\u001b[0m     \u001b[38;5;28mself\u001b[39m\u001b[38;5;241m.\u001b[39moffset \u001b[38;5;241m+\u001b[39m\u001b[38;5;241m=\u001b[39m \u001b[38;5;28mself\u001b[39m\u001b[38;5;241m.\u001b[39mbuffer\u001b[38;5;241m.\u001b[39mseek(\u001b[38;5;241m0\u001b[39m, \u001b[38;5;241m2\u001b[39m)\n\u001b[1;32m   2043\u001b[0m     \u001b[38;5;28mself\u001b[39m\u001b[38;5;241m.\u001b[39mbuffer \u001b[38;5;241m=\u001b[39m io\u001b[38;5;241m.\u001b[39mBytesIO()\n",
      "File \u001b[0;32m/opt/kernel/lib/python3.9/site-packages/s3fs/core.py:2299\u001b[0m, in \u001b[0;36mS3File._upload_chunk\u001b[0;34m(self, final)\u001b[0m\n\u001b[1;32m   2296\u001b[0m     \u001b[38;5;28mself\u001b[39m\u001b[38;5;241m.\u001b[39mparts\u001b[38;5;241m.\u001b[39mappend(part_header)\n\u001b[1;32m   2298\u001b[0m \u001b[38;5;28;01mif\u001b[39;00m \u001b[38;5;28mself\u001b[39m\u001b[38;5;241m.\u001b[39mautocommit \u001b[38;5;129;01mand\u001b[39;00m final:\n\u001b[0;32m-> 2299\u001b[0m     \u001b[38;5;28;43mself\u001b[39;49m\u001b[38;5;241;43m.\u001b[39;49m\u001b[43mcommit\u001b[49m\u001b[43m(\u001b[49m\u001b[43m)\u001b[49m\n\u001b[1;32m   2300\u001b[0m \u001b[38;5;28;01mreturn\u001b[39;00m \u001b[38;5;129;01mnot\u001b[39;00m final\n",
      "File \u001b[0;32m/opt/kernel/lib/python3.9/site-packages/s3fs/core.py:2317\u001b[0m, in \u001b[0;36mS3File.commit\u001b[0;34m(self)\u001b[0m\n\u001b[1;32m   2315\u001b[0m     \u001b[38;5;28;01mif\u001b[39;00m \u001b[38;5;28mself\u001b[39m\u001b[38;5;241m.\u001b[39macl:\n\u001b[1;32m   2316\u001b[0m         kw[\u001b[38;5;124m\"\u001b[39m\u001b[38;5;124mACL\u001b[39m\u001b[38;5;124m\"\u001b[39m] \u001b[38;5;241m=\u001b[39m \u001b[38;5;28mself\u001b[39m\u001b[38;5;241m.\u001b[39macl\n\u001b[0;32m-> 2317\u001b[0m     write_result \u001b[38;5;241m=\u001b[39m \u001b[38;5;28;43mself\u001b[39;49m\u001b[38;5;241;43m.\u001b[39;49m\u001b[43m_call_s3\u001b[49m\u001b[43m(\u001b[49m\u001b[38;5;124;43m\"\u001b[39;49m\u001b[38;5;124;43mput_object\u001b[39;49m\u001b[38;5;124;43m\"\u001b[39;49m\u001b[43m,\u001b[49m\u001b[43m \u001b[49m\u001b[38;5;241;43m*\u001b[39;49m\u001b[38;5;241;43m*\u001b[39;49m\u001b[43mkw\u001b[49m\u001b[43m)\u001b[49m\n\u001b[1;32m   2318\u001b[0m \u001b[38;5;28;01melse\u001b[39;00m:\n\u001b[1;32m   2319\u001b[0m     \u001b[38;5;28;01mraise\u001b[39;00m \u001b[38;5;167;01mRuntimeError\u001b[39;00m\n",
      "File \u001b[0;32m/opt/kernel/lib/python3.9/site-packages/s3fs/core.py:2162\u001b[0m, in \u001b[0;36mS3File._call_s3\u001b[0;34m(self, method, *kwarglist, **kwargs)\u001b[0m\n\u001b[1;32m   2161\u001b[0m \u001b[38;5;28;01mdef\u001b[39;00m\u001b[38;5;250m \u001b[39m\u001b[38;5;21m_call_s3\u001b[39m(\u001b[38;5;28mself\u001b[39m, method, \u001b[38;5;241m*\u001b[39mkwarglist, \u001b[38;5;241m*\u001b[39m\u001b[38;5;241m*\u001b[39mkwargs):\n\u001b[0;32m-> 2162\u001b[0m     \u001b[38;5;28;01mreturn\u001b[39;00m \u001b[38;5;28;43mself\u001b[39;49m\u001b[38;5;241;43m.\u001b[39;49m\u001b[43mfs\u001b[49m\u001b[38;5;241;43m.\u001b[39;49m\u001b[43mcall_s3\u001b[49m\u001b[43m(\u001b[49m\u001b[43mmethod\u001b[49m\u001b[43m,\u001b[49m\u001b[43m \u001b[49m\u001b[38;5;28;43mself\u001b[39;49m\u001b[38;5;241;43m.\u001b[39;49m\u001b[43ms3_additional_kwargs\u001b[49m\u001b[43m,\u001b[49m\u001b[43m \u001b[49m\u001b[38;5;241;43m*\u001b[39;49m\u001b[43mkwarglist\u001b[49m\u001b[43m,\u001b[49m\u001b[43m \u001b[49m\u001b[38;5;241;43m*\u001b[39;49m\u001b[38;5;241;43m*\u001b[39;49m\u001b[43mkwargs\u001b[49m\u001b[43m)\u001b[49m\n",
      "File \u001b[0;32m/opt/kernel/lib/python3.9/site-packages/fsspec/asyn.py:118\u001b[0m, in \u001b[0;36msync_wrapper.<locals>.wrapper\u001b[0;34m(*args, **kwargs)\u001b[0m\n\u001b[1;32m    115\u001b[0m \u001b[38;5;129m@functools\u001b[39m\u001b[38;5;241m.\u001b[39mwraps(func)\n\u001b[1;32m    116\u001b[0m \u001b[38;5;28;01mdef\u001b[39;00m\u001b[38;5;250m \u001b[39m\u001b[38;5;21mwrapper\u001b[39m(\u001b[38;5;241m*\u001b[39margs, \u001b[38;5;241m*\u001b[39m\u001b[38;5;241m*\u001b[39mkwargs):\n\u001b[1;32m    117\u001b[0m     \u001b[38;5;28mself\u001b[39m \u001b[38;5;241m=\u001b[39m obj \u001b[38;5;129;01mor\u001b[39;00m args[\u001b[38;5;241m0\u001b[39m]\n\u001b[0;32m--> 118\u001b[0m     \u001b[38;5;28;01mreturn\u001b[39;00m \u001b[43msync\u001b[49m\u001b[43m(\u001b[49m\u001b[38;5;28;43mself\u001b[39;49m\u001b[38;5;241;43m.\u001b[39;49m\u001b[43mloop\u001b[49m\u001b[43m,\u001b[49m\u001b[43m \u001b[49m\u001b[43mfunc\u001b[49m\u001b[43m,\u001b[49m\u001b[43m \u001b[49m\u001b[38;5;241;43m*\u001b[39;49m\u001b[43margs\u001b[49m\u001b[43m,\u001b[49m\u001b[43m \u001b[49m\u001b[38;5;241;43m*\u001b[39;49m\u001b[38;5;241;43m*\u001b[39;49m\u001b[43mkwargs\u001b[49m\u001b[43m)\u001b[49m\n",
      "File \u001b[0;32m/opt/kernel/lib/python3.9/site-packages/fsspec/asyn.py:103\u001b[0m, in \u001b[0;36msync\u001b[0;34m(loop, func, timeout, *args, **kwargs)\u001b[0m\n\u001b[1;32m    101\u001b[0m     \u001b[38;5;28;01mraise\u001b[39;00m FSTimeoutError \u001b[38;5;28;01mfrom\u001b[39;00m\u001b[38;5;250m \u001b[39m\u001b[38;5;21;01mreturn_result\u001b[39;00m\n\u001b[1;32m    102\u001b[0m \u001b[38;5;28;01melif\u001b[39;00m \u001b[38;5;28misinstance\u001b[39m(return_result, \u001b[38;5;167;01mBaseException\u001b[39;00m):\n\u001b[0;32m--> 103\u001b[0m     \u001b[38;5;28;01mraise\u001b[39;00m return_result\n\u001b[1;32m    104\u001b[0m \u001b[38;5;28;01melse\u001b[39;00m:\n\u001b[1;32m    105\u001b[0m     \u001b[38;5;28;01mreturn\u001b[39;00m return_result\n",
      "File \u001b[0;32m/opt/kernel/lib/python3.9/site-packages/fsspec/asyn.py:56\u001b[0m, in \u001b[0;36m_runner\u001b[0;34m(event, coro, result, timeout)\u001b[0m\n\u001b[1;32m     54\u001b[0m     coro \u001b[38;5;241m=\u001b[39m asyncio\u001b[38;5;241m.\u001b[39mwait_for(coro, timeout\u001b[38;5;241m=\u001b[39mtimeout)\n\u001b[1;32m     55\u001b[0m \u001b[38;5;28;01mtry\u001b[39;00m:\n\u001b[0;32m---> 56\u001b[0m     result[\u001b[38;5;241m0\u001b[39m] \u001b[38;5;241m=\u001b[39m \u001b[38;5;28;01mawait\u001b[39;00m coro\n\u001b[1;32m     57\u001b[0m \u001b[38;5;28;01mexcept\u001b[39;00m \u001b[38;5;167;01mException\u001b[39;00m \u001b[38;5;28;01mas\u001b[39;00m ex:\n\u001b[1;32m     58\u001b[0m     result[\u001b[38;5;241m0\u001b[39m] \u001b[38;5;241m=\u001b[39m ex\n",
      "File \u001b[0;32m/opt/kernel/lib/python3.9/site-packages/s3fs/core.py:341\u001b[0m, in \u001b[0;36mS3FileSystem._call_s3\u001b[0;34m(self, method, *akwarglist, **kwargs)\u001b[0m\n\u001b[1;32m    340\u001b[0m \u001b[38;5;28;01masync\u001b[39;00m \u001b[38;5;28;01mdef\u001b[39;00m\u001b[38;5;250m \u001b[39m\u001b[38;5;21m_call_s3\u001b[39m(\u001b[38;5;28mself\u001b[39m, method, \u001b[38;5;241m*\u001b[39makwarglist, \u001b[38;5;241m*\u001b[39m\u001b[38;5;241m*\u001b[39mkwargs):\n\u001b[0;32m--> 341\u001b[0m     \u001b[38;5;28;01mawait\u001b[39;00m \u001b[38;5;28mself\u001b[39m\u001b[38;5;241m.\u001b[39mset_session()\n\u001b[1;32m    342\u001b[0m     s3 \u001b[38;5;241m=\u001b[39m \u001b[38;5;28;01mawait\u001b[39;00m \u001b[38;5;28mself\u001b[39m\u001b[38;5;241m.\u001b[39mget_s3(kwargs\u001b[38;5;241m.\u001b[39mget(\u001b[38;5;124m\"\u001b[39m\u001b[38;5;124mBucket\u001b[39m\u001b[38;5;124m\"\u001b[39m))\n\u001b[1;32m    343\u001b[0m     method \u001b[38;5;241m=\u001b[39m \u001b[38;5;28mgetattr\u001b[39m(s3, method)\n",
      "File \u001b[0;32m/opt/kernel/lib/python3.9/site-packages/s3fs/core.py:527\u001b[0m, in \u001b[0;36mS3FileSystem.set_session\u001b[0;34m(self, refresh, kwargs)\u001b[0m\n\u001b[1;32m    523\u001b[0m \u001b[38;5;28;01melse\u001b[39;00m:\n\u001b[1;32m    524\u001b[0m     s3creator \u001b[38;5;241m=\u001b[39m \u001b[38;5;28mself\u001b[39m\u001b[38;5;241m.\u001b[39msession\u001b[38;5;241m.\u001b[39mcreate_client(\n\u001b[1;32m    525\u001b[0m         \u001b[38;5;124m\"\u001b[39m\u001b[38;5;124ms3\u001b[39m\u001b[38;5;124m\"\u001b[39m, config\u001b[38;5;241m=\u001b[39mconf, \u001b[38;5;241m*\u001b[39m\u001b[38;5;241m*\u001b[39minit_kwargs, \u001b[38;5;241m*\u001b[39m\u001b[38;5;241m*\u001b[39mclient_kwargs\n\u001b[1;32m    526\u001b[0m     )\n\u001b[0;32m--> 527\u001b[0m     \u001b[38;5;28mself\u001b[39m\u001b[38;5;241m.\u001b[39m_s3 \u001b[38;5;241m=\u001b[39m \u001b[38;5;28;01mawait\u001b[39;00m s3creator\u001b[38;5;241m.\u001b[39m\u001b[38;5;21m__aenter__\u001b[39m()\n\u001b[1;32m    529\u001b[0m \u001b[38;5;28mself\u001b[39m\u001b[38;5;241m.\u001b[39m_s3creator \u001b[38;5;241m=\u001b[39m s3creator\n\u001b[1;32m    530\u001b[0m \u001b[38;5;66;03m# the following actually closes the aiohttp connection; use of privates\u001b[39;00m\n\u001b[1;32m    531\u001b[0m \u001b[38;5;66;03m# might break in the future, would cause exception at gc time\u001b[39;00m\n",
      "File \u001b[0;32m/opt/kernel/lib/python3.9/site-packages/aiobotocore/session.py:25\u001b[0m, in \u001b[0;36mClientCreatorContext.__aenter__\u001b[0;34m(self)\u001b[0m\n\u001b[1;32m     24\u001b[0m \u001b[38;5;28;01masync\u001b[39;00m \u001b[38;5;28;01mdef\u001b[39;00m\u001b[38;5;250m \u001b[39m\u001b[38;5;21m__aenter__\u001b[39m(\u001b[38;5;28mself\u001b[39m) \u001b[38;5;241m-\u001b[39m\u001b[38;5;241m>\u001b[39m AioBaseClient:\n\u001b[0;32m---> 25\u001b[0m     \u001b[38;5;28mself\u001b[39m\u001b[38;5;241m.\u001b[39m_client \u001b[38;5;241m=\u001b[39m \u001b[38;5;28;01mawait\u001b[39;00m \u001b[38;5;28mself\u001b[39m\u001b[38;5;241m.\u001b[39m_coro\n\u001b[1;32m     26\u001b[0m     \u001b[38;5;28;01mreturn\u001b[39;00m \u001b[38;5;28;01mawait\u001b[39;00m \u001b[38;5;28mself\u001b[39m\u001b[38;5;241m.\u001b[39m_client\u001b[38;5;241m.\u001b[39m\u001b[38;5;21m__aenter__\u001b[39m()\n",
      "File \u001b[0;32m/opt/kernel/lib/python3.9/site-packages/aiobotocore/session.py:215\u001b[0m, in \u001b[0;36mAioSession._create_client\u001b[0;34m(self, service_name, region_name, api_version, use_ssl, verify, endpoint_url, aws_access_key_id, aws_secret_access_key, aws_session_token, config)\u001b[0m\n\u001b[1;32m    199\u001b[0m \u001b[38;5;28mself\u001b[39m\u001b[38;5;241m.\u001b[39m_add_configured_endpoint_provider(\n\u001b[1;32m    200\u001b[0m     client_name\u001b[38;5;241m=\u001b[39mservice_name,\n\u001b[1;32m    201\u001b[0m     config_store\u001b[38;5;241m=\u001b[39mconfig_store,\n\u001b[1;32m    202\u001b[0m )\n\u001b[1;32m    203\u001b[0m client_creator \u001b[38;5;241m=\u001b[39m AioClientCreator(\n\u001b[1;32m    204\u001b[0m     loader,\n\u001b[1;32m    205\u001b[0m     endpoint_resolver,\n\u001b[0;32m   (...)\u001b[0m\n\u001b[1;32m    213\u001b[0m     user_agent_creator\u001b[38;5;241m=\u001b[39muser_agent_creator,\n\u001b[1;32m    214\u001b[0m )\n\u001b[0;32m--> 215\u001b[0m client \u001b[38;5;241m=\u001b[39m \u001b[38;5;28;01mawait\u001b[39;00m client_creator\u001b[38;5;241m.\u001b[39mcreate_client(\n\u001b[1;32m    216\u001b[0m     service_name\u001b[38;5;241m=\u001b[39mservice_name,\n\u001b[1;32m    217\u001b[0m     region_name\u001b[38;5;241m=\u001b[39mregion_name,\n\u001b[1;32m    218\u001b[0m     is_secure\u001b[38;5;241m=\u001b[39muse_ssl,\n\u001b[1;32m    219\u001b[0m     endpoint_url\u001b[38;5;241m=\u001b[39mendpoint_url,\n\u001b[1;32m    220\u001b[0m     verify\u001b[38;5;241m=\u001b[39mverify,\n\u001b[1;32m    221\u001b[0m     credentials\u001b[38;5;241m=\u001b[39mcredentials,\n\u001b[1;32m    222\u001b[0m     scoped_config\u001b[38;5;241m=\u001b[39m\u001b[38;5;28mself\u001b[39m\u001b[38;5;241m.\u001b[39mget_scoped_config(),\n\u001b[1;32m    223\u001b[0m     client_config\u001b[38;5;241m=\u001b[39mconfig,\n\u001b[1;32m    224\u001b[0m     api_version\u001b[38;5;241m=\u001b[39mapi_version,\n\u001b[1;32m    225\u001b[0m     auth_token\u001b[38;5;241m=\u001b[39mauth_token,\n\u001b[1;32m    226\u001b[0m )\n\u001b[1;32m    227\u001b[0m monitor \u001b[38;5;241m=\u001b[39m \u001b[38;5;28mself\u001b[39m\u001b[38;5;241m.\u001b[39m_get_internal_component(\u001b[38;5;124m'\u001b[39m\u001b[38;5;124mmonitor\u001b[39m\u001b[38;5;124m'\u001b[39m)\n\u001b[1;32m    228\u001b[0m \u001b[38;5;28;01mif\u001b[39;00m monitor \u001b[38;5;129;01mis\u001b[39;00m \u001b[38;5;129;01mnot\u001b[39;00m \u001b[38;5;28;01mNone\u001b[39;00m:\n",
      "File \u001b[0;32m/opt/kernel/lib/python3.9/site-packages/aiobotocore/client.py:77\u001b[0m, in \u001b[0;36mAioClientCreator.create_client\u001b[0;34m(self, service_name, region_name, is_secure, endpoint_url, verify, credentials, scoped_config, api_version, client_config, auth_token)\u001b[0m\n\u001b[1;32m     64\u001b[0m region_name, client_config \u001b[38;5;241m=\u001b[39m \u001b[38;5;28mself\u001b[39m\u001b[38;5;241m.\u001b[39m_normalize_fips_region(\n\u001b[1;32m     65\u001b[0m     region_name, client_config\n\u001b[1;32m     66\u001b[0m )\n\u001b[1;32m     67\u001b[0m endpoint_bridge \u001b[38;5;241m=\u001b[39m ClientEndpointBridge(\n\u001b[1;32m     68\u001b[0m     \u001b[38;5;28mself\u001b[39m\u001b[38;5;241m.\u001b[39m_endpoint_resolver,\n\u001b[1;32m     69\u001b[0m     scoped_config,\n\u001b[0;32m   (...)\u001b[0m\n\u001b[1;32m     75\u001b[0m     ),\n\u001b[1;32m     76\u001b[0m )\n\u001b[0;32m---> 77\u001b[0m client_args \u001b[38;5;241m=\u001b[39m \u001b[38;5;28;43mself\u001b[39;49m\u001b[38;5;241;43m.\u001b[39;49m\u001b[43m_get_client_args\u001b[49m\u001b[43m(\u001b[49m\n\u001b[1;32m     78\u001b[0m \u001b[43m    \u001b[49m\u001b[43mservice_model\u001b[49m\u001b[43m,\u001b[49m\n\u001b[1;32m     79\u001b[0m \u001b[43m    \u001b[49m\u001b[43mregion_name\u001b[49m\u001b[43m,\u001b[49m\n\u001b[1;32m     80\u001b[0m \u001b[43m    \u001b[49m\u001b[43mis_secure\u001b[49m\u001b[43m,\u001b[49m\n\u001b[1;32m     81\u001b[0m \u001b[43m    \u001b[49m\u001b[43mendpoint_url\u001b[49m\u001b[43m,\u001b[49m\n\u001b[1;32m     82\u001b[0m \u001b[43m    \u001b[49m\u001b[43mverify\u001b[49m\u001b[43m,\u001b[49m\n\u001b[1;32m     83\u001b[0m \u001b[43m    \u001b[49m\u001b[43mcredentials\u001b[49m\u001b[43m,\u001b[49m\n\u001b[1;32m     84\u001b[0m \u001b[43m    \u001b[49m\u001b[43mscoped_config\u001b[49m\u001b[43m,\u001b[49m\n\u001b[1;32m     85\u001b[0m \u001b[43m    \u001b[49m\u001b[43mclient_config\u001b[49m\u001b[43m,\u001b[49m\n\u001b[1;32m     86\u001b[0m \u001b[43m    \u001b[49m\u001b[43mendpoint_bridge\u001b[49m\u001b[43m,\u001b[49m\n\u001b[1;32m     87\u001b[0m \u001b[43m    \u001b[49m\u001b[43mauth_token\u001b[49m\u001b[43m,\u001b[49m\n\u001b[1;32m     88\u001b[0m \u001b[43m    \u001b[49m\u001b[43mendpoints_ruleset_data\u001b[49m\u001b[43m,\u001b[49m\n\u001b[1;32m     89\u001b[0m \u001b[43m    \u001b[49m\u001b[43mpartition_data\u001b[49m\u001b[43m,\u001b[49m\n\u001b[1;32m     90\u001b[0m \u001b[43m\u001b[49m\u001b[43m)\u001b[49m\n\u001b[1;32m     91\u001b[0m service_client \u001b[38;5;241m=\u001b[39m \u001b[38;5;28mcls\u001b[39m(\u001b[38;5;241m*\u001b[39m\u001b[38;5;241m*\u001b[39mclient_args)\n\u001b[1;32m     92\u001b[0m \u001b[38;5;28mself\u001b[39m\u001b[38;5;241m.\u001b[39m_register_retries(service_client)\n",
      "File \u001b[0;32m/opt/kernel/lib/python3.9/site-packages/aiobotocore/client.py:286\u001b[0m, in \u001b[0;36mAioClientCreator._get_client_args\u001b[0;34m(self, service_model, region_name, is_secure, endpoint_url, verify, credentials, scoped_config, client_config, endpoint_bridge, auth_token, endpoints_ruleset_data, partition_data)\u001b[0m\n\u001b[1;32m    260\u001b[0m \u001b[38;5;28;01mdef\u001b[39;00m\u001b[38;5;250m \u001b[39m\u001b[38;5;21m_get_client_args\u001b[39m(\n\u001b[1;32m    261\u001b[0m     \u001b[38;5;28mself\u001b[39m,\n\u001b[1;32m    262\u001b[0m     service_model,\n\u001b[0;32m   (...)\u001b[0m\n\u001b[1;32m    275\u001b[0m     \u001b[38;5;66;03m# This is a near copy of ClientCreator. What's replaced\u001b[39;00m\n\u001b[1;32m    276\u001b[0m     \u001b[38;5;66;03m# is ClientArgsCreator->AioClientArgsCreator\u001b[39;00m\n\u001b[1;32m    277\u001b[0m     args_creator \u001b[38;5;241m=\u001b[39m AioClientArgsCreator(\n\u001b[1;32m    278\u001b[0m         \u001b[38;5;28mself\u001b[39m\u001b[38;5;241m.\u001b[39m_event_emitter,\n\u001b[1;32m    279\u001b[0m         \u001b[38;5;28mself\u001b[39m\u001b[38;5;241m.\u001b[39m_user_agent,\n\u001b[0;32m   (...)\u001b[0m\n\u001b[1;32m    284\u001b[0m         user_agent_creator\u001b[38;5;241m=\u001b[39m\u001b[38;5;28mself\u001b[39m\u001b[38;5;241m.\u001b[39m_user_agent_creator,\n\u001b[1;32m    285\u001b[0m     )\n\u001b[0;32m--> 286\u001b[0m     \u001b[38;5;28;01mreturn\u001b[39;00m \u001b[43margs_creator\u001b[49m\u001b[38;5;241;43m.\u001b[39;49m\u001b[43mget_client_args\u001b[49m\u001b[43m(\u001b[49m\n\u001b[1;32m    287\u001b[0m \u001b[43m        \u001b[49m\u001b[43mservice_model\u001b[49m\u001b[43m,\u001b[49m\n\u001b[1;32m    288\u001b[0m \u001b[43m        \u001b[49m\u001b[43mregion_name\u001b[49m\u001b[43m,\u001b[49m\n\u001b[1;32m    289\u001b[0m \u001b[43m        \u001b[49m\u001b[43mis_secure\u001b[49m\u001b[43m,\u001b[49m\n\u001b[1;32m    290\u001b[0m \u001b[43m        \u001b[49m\u001b[43mendpoint_url\u001b[49m\u001b[43m,\u001b[49m\n\u001b[1;32m    291\u001b[0m \u001b[43m        \u001b[49m\u001b[43mverify\u001b[49m\u001b[43m,\u001b[49m\n\u001b[1;32m    292\u001b[0m \u001b[43m        \u001b[49m\u001b[43mcredentials\u001b[49m\u001b[43m,\u001b[49m\n\u001b[1;32m    293\u001b[0m \u001b[43m        \u001b[49m\u001b[43mscoped_config\u001b[49m\u001b[43m,\u001b[49m\n\u001b[1;32m    294\u001b[0m \u001b[43m        \u001b[49m\u001b[43mclient_config\u001b[49m\u001b[43m,\u001b[49m\n\u001b[1;32m    295\u001b[0m \u001b[43m        \u001b[49m\u001b[43mendpoint_bridge\u001b[49m\u001b[43m,\u001b[49m\n\u001b[1;32m    296\u001b[0m \u001b[43m        \u001b[49m\u001b[43mauth_token\u001b[49m\u001b[43m,\u001b[49m\n\u001b[1;32m    297\u001b[0m \u001b[43m        \u001b[49m\u001b[43mendpoints_ruleset_data\u001b[49m\u001b[43m,\u001b[49m\n\u001b[1;32m    298\u001b[0m \u001b[43m        \u001b[49m\u001b[43mpartition_data\u001b[49m\u001b[43m,\u001b[49m\n\u001b[1;32m    299\u001b[0m \u001b[43m    \u001b[49m\u001b[43m)\u001b[49m\n",
      "File \u001b[0;32m/opt/kernel/lib/python3.9/site-packages/aiobotocore/args.py:99\u001b[0m, in \u001b[0;36mAioClientArgsCreator.get_client_args\u001b[0;34m(self, service_model, region_name, is_secure, endpoint_url, verify, credentials, scoped_config, client_config, endpoint_bridge, auth_token, endpoints_ruleset_data, partition_data)\u001b[0m\n\u001b[1;32m     94\u001b[0m serializer \u001b[38;5;241m=\u001b[39m botocore\u001b[38;5;241m.\u001b[39mserialize\u001b[38;5;241m.\u001b[39mcreate_serializer(\n\u001b[1;32m     95\u001b[0m     protocol, parameter_validation\n\u001b[1;32m     96\u001b[0m )\n\u001b[1;32m     97\u001b[0m response_parser \u001b[38;5;241m=\u001b[39m botocore\u001b[38;5;241m.\u001b[39mparsers\u001b[38;5;241m.\u001b[39mcreate_parser(protocol)\n\u001b[0;32m---> 99\u001b[0m ruleset_resolver \u001b[38;5;241m=\u001b[39m \u001b[38;5;28;43mself\u001b[39;49m\u001b[38;5;241;43m.\u001b[39;49m\u001b[43m_build_endpoint_resolver\u001b[49m\u001b[43m(\u001b[49m\n\u001b[1;32m    100\u001b[0m \u001b[43m    \u001b[49m\u001b[43mendpoints_ruleset_data\u001b[49m\u001b[43m,\u001b[49m\n\u001b[1;32m    101\u001b[0m \u001b[43m    \u001b[49m\u001b[43mpartition_data\u001b[49m\u001b[43m,\u001b[49m\n\u001b[1;32m    102\u001b[0m \u001b[43m    \u001b[49m\u001b[43mclient_config\u001b[49m\u001b[43m,\u001b[49m\n\u001b[1;32m    103\u001b[0m \u001b[43m    \u001b[49m\u001b[43mservice_model\u001b[49m\u001b[43m,\u001b[49m\n\u001b[1;32m    104\u001b[0m \u001b[43m    \u001b[49m\u001b[43mendpoint_region_name\u001b[49m\u001b[43m,\u001b[49m\n\u001b[1;32m    105\u001b[0m \u001b[43m    \u001b[49m\u001b[43mregion_name\u001b[49m\u001b[43m,\u001b[49m\n\u001b[1;32m    106\u001b[0m \u001b[43m    \u001b[49m\u001b[43mconfigured_endpoint_url\u001b[49m\u001b[43m,\u001b[49m\n\u001b[1;32m    107\u001b[0m \u001b[43m    \u001b[49m\u001b[43mendpoint\u001b[49m\u001b[43m,\u001b[49m\n\u001b[1;32m    108\u001b[0m \u001b[43m    \u001b[49m\u001b[43mis_secure\u001b[49m\u001b[43m,\u001b[49m\n\u001b[1;32m    109\u001b[0m \u001b[43m    \u001b[49m\u001b[43mendpoint_bridge\u001b[49m\u001b[43m,\u001b[49m\n\u001b[1;32m    110\u001b[0m \u001b[43m    \u001b[49m\u001b[43mevent_emitter\u001b[49m\u001b[43m,\u001b[49m\n\u001b[1;32m    111\u001b[0m \u001b[43m\u001b[49m\u001b[43m)\u001b[49m\n\u001b[1;32m    113\u001b[0m \u001b[38;5;66;03m# Copy the session's user agent factory and adds client configuration.\u001b[39;00m\n\u001b[1;32m    114\u001b[0m client_ua_creator \u001b[38;5;241m=\u001b[39m \u001b[38;5;28mself\u001b[39m\u001b[38;5;241m.\u001b[39m_session_ua_creator\u001b[38;5;241m.\u001b[39mwith_client_config(\n\u001b[1;32m    115\u001b[0m     new_config\n\u001b[1;32m    116\u001b[0m )\n",
      "File \u001b[0;32m/opt/kernel/lib/python3.9/site-packages/aiobotocore/args.py:165\u001b[0m, in \u001b[0;36mAioClientArgsCreator._build_endpoint_resolver\u001b[0;34m(self, endpoints_ruleset_data, partition_data, client_config, service_model, endpoint_region_name, region_name, endpoint_url, endpoint, is_secure, endpoint_bridge, event_emitter)\u001b[0m\n\u001b[1;32m    163\u001b[0m \u001b[38;5;28;01melse\u001b[39;00m:\n\u001b[1;32m    164\u001b[0m     eprv2_region_name \u001b[38;5;241m=\u001b[39m region_name\n\u001b[0;32m--> 165\u001b[0m resolver_builtins \u001b[38;5;241m=\u001b[39m \u001b[38;5;28;43mself\u001b[39;49m\u001b[38;5;241;43m.\u001b[39;49m\u001b[43mcompute_endpoint_resolver_builtin_defaults\u001b[49m\u001b[43m(\u001b[49m\n\u001b[1;32m    166\u001b[0m \u001b[43m    \u001b[49m\u001b[43mregion_name\u001b[49m\u001b[38;5;241;43m=\u001b[39;49m\u001b[43meprv2_region_name\u001b[49m\u001b[43m,\u001b[49m\n\u001b[1;32m    167\u001b[0m \u001b[43m    \u001b[49m\u001b[43mservice_name\u001b[49m\u001b[38;5;241;43m=\u001b[39;49m\u001b[43mservice_name_raw\u001b[49m\u001b[43m,\u001b[49m\n\u001b[1;32m    168\u001b[0m \u001b[43m    \u001b[49m\u001b[43ms3_config\u001b[49m\u001b[38;5;241;43m=\u001b[39;49m\u001b[43ms3_config_raw\u001b[49m\u001b[43m,\u001b[49m\n\u001b[1;32m    169\u001b[0m \u001b[43m    \u001b[49m\u001b[43mendpoint_bridge\u001b[49m\u001b[38;5;241;43m=\u001b[39;49m\u001b[43mendpoint_bridge\u001b[49m\u001b[43m,\u001b[49m\n\u001b[1;32m    170\u001b[0m \u001b[43m    \u001b[49m\u001b[43mclient_endpoint_url\u001b[49m\u001b[38;5;241;43m=\u001b[39;49m\u001b[43mendpoint_url\u001b[49m\u001b[43m,\u001b[49m\n\u001b[1;32m    171\u001b[0m \u001b[43m    \u001b[49m\u001b[43mlegacy_endpoint_url\u001b[49m\u001b[38;5;241;43m=\u001b[39;49m\u001b[43mendpoint\u001b[49m\u001b[38;5;241;43m.\u001b[39;49m\u001b[43mhost\u001b[49m\u001b[43m,\u001b[49m\n\u001b[1;32m    172\u001b[0m \u001b[43m\u001b[49m\u001b[43m)\u001b[49m\n\u001b[1;32m    173\u001b[0m \u001b[38;5;66;03m# Client context params for s3 conflict with the available settings\u001b[39;00m\n\u001b[1;32m    174\u001b[0m \u001b[38;5;66;03m# in the `s3` parameter on the `Config` object. If the same parameter\u001b[39;00m\n\u001b[1;32m    175\u001b[0m \u001b[38;5;66;03m# is set in both places, the value in the `s3` parameter takes priority.\u001b[39;00m\n\u001b[1;32m    176\u001b[0m \u001b[38;5;28;01mif\u001b[39;00m client_config \u001b[38;5;129;01mis\u001b[39;00m \u001b[38;5;129;01mnot\u001b[39;00m \u001b[38;5;28;01mNone\u001b[39;00m:\n",
      "\u001b[0;31mTypeError\u001b[0m: compute_endpoint_resolver_builtin_defaults() missing 2 required positional arguments: 'credentials' and 'account_id_endpoint_mode'"
     ]
    }
   ],
   "source": [
    "data_pack = create_data_pack(\n",
    "    data_pack_config = data_pack_config,\n",
    "    universe_definitions=universe_definitions,\n",
    "    data_item_definitions=data_item_definitions,\n",
    "    storage_type=StorageType.PARQUET,\n",
    "    storage_path=datapack_path,\n",
    "    overwrite_existing_data_pack=True\n",
    ")"
   ]
  },
  {
   "cell_type": "code",
   "execution_count": 7,
   "id": "f93a5e2d-709e-4999-bf38-a29ad6e2e495",
   "metadata": {},
   "outputs": [
    {
     "data": {
      "text/html": [
       "<div>\n",
       "<style scoped>\n",
       "    .dataframe tbody tr th:only-of-type {\n",
       "        vertical-align: middle;\n",
       "    }\n",
       "\n",
       "    .dataframe tbody tr th {\n",
       "        vertical-align: top;\n",
       "    }\n",
       "\n",
       "    .dataframe thead th {\n",
       "        text-align: right;\n",
       "    }\n",
       "</style>\n",
       "<table border=\"1\" class=\"dataframe\">\n",
       "  <thead>\n",
       "    <tr style=\"text-align: right;\">\n",
       "      <th></th>\n",
       "      <th>ID</th>\n",
       "      <th>TYPE</th>\n",
       "      <th>IS_LOADED</th>\n",
       "      <th>LOAD_TIME</th>\n",
       "    </tr>\n",
       "  </thead>\n",
       "  <tbody>\n",
       "    <tr>\n",
       "      <th>0</th>\n",
       "      <td>INDU Index</td>\n",
       "      <td>UNIVERSE</td>\n",
       "      <td>False</td>\n",
       "      <td>NaT</td>\n",
       "    </tr>\n",
       "    <tr>\n",
       "      <th>1</th>\n",
       "      <td>index_weight</td>\n",
       "      <td>DATA_ITEM</td>\n",
       "      <td>False</td>\n",
       "      <td>NaT</td>\n",
       "    </tr>\n",
       "    <tr>\n",
       "      <th>2</th>\n",
       "      <td>trading_calendar</td>\n",
       "      <td>DATA_ITEM</td>\n",
       "      <td>False</td>\n",
       "      <td>NaT</td>\n",
       "    </tr>\n",
       "    <tr>\n",
       "      <th>3</th>\n",
       "      <td>analyst_rating</td>\n",
       "      <td>DATA_ITEM</td>\n",
       "      <td>False</td>\n",
       "      <td>NaT</td>\n",
       "    </tr>\n",
       "    <tr>\n",
       "      <th>4</th>\n",
       "      <td>target_price</td>\n",
       "      <td>DATA_ITEM</td>\n",
       "      <td>False</td>\n",
       "      <td>NaT</td>\n",
       "    </tr>\n",
       "    <tr>\n",
       "      <th>5</th>\n",
       "      <td>cur_mkt_cap</td>\n",
       "      <td>DATA_ITEM</td>\n",
       "      <td>False</td>\n",
       "      <td>NaT</td>\n",
       "    </tr>\n",
       "    <tr>\n",
       "      <th>6</th>\n",
       "      <td>day_to_day_tot_return_gross_dvds</td>\n",
       "      <td>DATA_ITEM</td>\n",
       "      <td>False</td>\n",
       "      <td>NaT</td>\n",
       "    </tr>\n",
       "    <tr>\n",
       "      <th>7</th>\n",
       "      <td>beta</td>\n",
       "      <td>DATA_ITEM</td>\n",
       "      <td>False</td>\n",
       "      <td>NaT</td>\n",
       "    </tr>\n",
       "    <tr>\n",
       "      <th>8</th>\n",
       "      <td>px_last</td>\n",
       "      <td>DATA_ITEM</td>\n",
       "      <td>False</td>\n",
       "      <td>NaT</td>\n",
       "    </tr>\n",
       "    <tr>\n",
       "      <th>9</th>\n",
       "      <td>bics_level_1</td>\n",
       "      <td>DATA_ITEM</td>\n",
       "      <td>False</td>\n",
       "      <td>NaT</td>\n",
       "    </tr>\n",
       "    <tr>\n",
       "      <th>10</th>\n",
       "      <td>bics_level_2</td>\n",
       "      <td>DATA_ITEM</td>\n",
       "      <td>False</td>\n",
       "      <td>NaT</td>\n",
       "    </tr>\n",
       "    <tr>\n",
       "      <th>11</th>\n",
       "      <td>bics_level_3</td>\n",
       "      <td>DATA_ITEM</td>\n",
       "      <td>False</td>\n",
       "      <td>NaT</td>\n",
       "    </tr>\n",
       "    <tr>\n",
       "      <th>12</th>\n",
       "      <td>bics_level_4</td>\n",
       "      <td>DATA_ITEM</td>\n",
       "      <td>False</td>\n",
       "      <td>NaT</td>\n",
       "    </tr>\n",
       "  </tbody>\n",
       "</table>\n",
       "</div>"
      ],
      "text/plain": [
       "                                  ID       TYPE  IS_LOADED LOAD_TIME\n",
       "0                         INDU Index   UNIVERSE      False       NaT\n",
       "1                       index_weight  DATA_ITEM      False       NaT\n",
       "2                   trading_calendar  DATA_ITEM      False       NaT\n",
       "3                     analyst_rating  DATA_ITEM      False       NaT\n",
       "4                       target_price  DATA_ITEM      False       NaT\n",
       "5                        cur_mkt_cap  DATA_ITEM      False       NaT\n",
       "6   day_to_day_tot_return_gross_dvds  DATA_ITEM      False       NaT\n",
       "7                               beta  DATA_ITEM      False       NaT\n",
       "8                            px_last  DATA_ITEM      False       NaT\n",
       "9                       bics_level_1  DATA_ITEM      False       NaT\n",
       "10                      bics_level_2  DATA_ITEM      False       NaT\n",
       "11                      bics_level_3  DATA_ITEM      False       NaT\n",
       "12                      bics_level_4  DATA_ITEM      False       NaT"
      ]
     },
     "execution_count": 7,
     "metadata": {},
     "output_type": "execute_result"
    }
   ],
   "source": [
    "data_pack.get_fetch_status()"
   ]
  },
  {
   "cell_type": "markdown",
   "id": "1780db4a-ccbc-40d1-b3b9-a4fb53af2142",
   "metadata": {},
   "source": [
    "### Fetch the data"
   ]
  },
  {
   "cell_type": "code",
   "execution_count": 8,
   "id": "ab1fc793-f12f-468b-9915-54d4683dcaac",
   "metadata": {},
   "outputs": [
    {
     "name": "stdout",
     "output_type": "stream",
     "text": [
      "2025-03-24 07:58:39,929 - (139704643614528) - INFO - external.bloomberg.bquant.signal_lab.data_workbench.data_pack - fetching universes\n",
      "2025-03-24 07:58:40,603 - (139704643614528) - INFO - external.bloomberg.bquant.signal_lab.data_workbench.data_pack - universe fetching summary: INDU Index\n",
      "2025-03-24 07:58:40,605 - (139704643614528) - INFO - external.bloomberg.bquant.signal_lab.data_workbench.data_pack - fetching universe: INDU Index\n",
      "2025-03-24 07:58:40,606 - (139704643614528) - INFO - external.bloomberg.bquant.signal_lab.data_workbench.definitions.bql_index_universe - fetching BQL index universe: INDU Index\n"
     ]
    },
    {
     "data": {
      "application/json": {
       "ascii": false,
       "bar_format": null,
       "colour": null,
       "elapsed": 0.009346246719360352,
       "initial": 0,
       "n": 0,
       "ncols": null,
       "nrows": null,
       "postfix": null,
       "prefix": "",
       "rate": null,
       "total": 36,
       "unit": "it",
       "unit_divisor": 1000,
       "unit_scale": false
      },
      "application/vnd.jupyter.widget-view+json": {
       "model_id": "2947920f97914129abb752a55588f4cd",
       "version_major": 2,
       "version_minor": 0
      },
      "text/plain": [
       "  0%|          | 0/36 [00:00<?, ?it/s]"
      ]
     },
     "metadata": {},
     "output_type": "display_data"
    },
    {
     "data": {
      "application/json": {
       "ascii": false,
       "bar_format": null,
       "colour": null,
       "elapsed": 0.010514974594116211,
       "initial": 0,
       "n": 0,
       "ncols": null,
       "nrows": null,
       "postfix": null,
       "prefix": "",
       "rate": null,
       "total": 1,
       "unit": "it",
       "unit_divisor": 1000,
       "unit_scale": false
      },
      "application/vnd.jupyter.widget-view+json": {
       "model_id": "120b49e7695041d297e387f4568aebcf",
       "version_major": 2,
       "version_minor": 0
      },
      "text/plain": [
       "  0%|          | 0/1 [00:00<?, ?it/s]"
      ]
     },
     "metadata": {},
     "output_type": "display_data"
    },
    {
     "name": "stdout",
     "output_type": "stream",
     "text": [
      "2025-03-24 07:59:04,654 - (139704643614528) - INFO - external.bloomberg.bquant.signal_lab.data_workbench.data_pack - fetching data items\n",
      "2025-03-24 07:59:05,535 - (139704643614528) - INFO - external.bloomberg.bquant.signal_lab.data_workbench.data_pack - data items fetching summary: index_weight, trading_calendar, analyst_rating, target_price, cur_mkt_cap, day_to_day_tot_return_gross_dvds, beta, px_last, bics_level_1, bics_level_2, bics_level_3, bics_level_4\n",
      "2025-03-24 07:59:05,923 - (139704643614528) - INFO - external.bloomberg.bquant.signal_lab.data_workbench.data_pack - fetching data item: index_weight\n",
      "2025-03-24 07:59:05,924 - (139704643614528) - INFO - external.bloomberg.bquant.signal_lab.data_workbench.definitions.bql_index_weight - fetching BQL index weight: INDU Index\n"
     ]
    },
    {
     "data": {
      "application/json": {
       "ascii": false,
       "bar_format": null,
       "colour": null,
       "elapsed": 0.010545015335083008,
       "initial": 0,
       "n": 0,
       "ncols": null,
       "nrows": null,
       "postfix": null,
       "prefix": "",
       "rate": null,
       "total": 36,
       "unit": "it",
       "unit_divisor": 1000,
       "unit_scale": false
      },
      "application/vnd.jupyter.widget-view+json": {
       "model_id": "d0862d08ea3848eb939fd86195cdfcda",
       "version_major": 2,
       "version_minor": 0
      },
      "text/plain": [
       "  0%|          | 0/36 [00:00<?, ?it/s]"
      ]
     },
     "metadata": {},
     "output_type": "display_data"
    },
    {
     "data": {
      "application/json": {
       "ascii": false,
       "bar_format": null,
       "colour": null,
       "elapsed": 0.009610652923583984,
       "initial": 0,
       "n": 0,
       "ncols": null,
       "nrows": null,
       "postfix": null,
       "prefix": "",
       "rate": null,
       "total": 1,
       "unit": "it",
       "unit_divisor": 1000,
       "unit_scale": false
      },
      "application/vnd.jupyter.widget-view+json": {
       "model_id": "f5dfbdc0a4604fe78355aaf8da3961b1",
       "version_major": 2,
       "version_minor": 0
      },
      "text/plain": [
       "  0%|          | 0/1 [00:00<?, ?it/s]"
      ]
     },
     "metadata": {},
     "output_type": "display_data"
    },
    {
     "name": "stdout",
     "output_type": "stream",
     "text": [
      "2025-03-24 07:59:32,174 - (139704643614528) - INFO - external.bloomberg.bquant.signal_lab.data_workbench.data_pack - fetching data item: trading_calendar\n",
      "2025-03-24 07:59:32,558 - (139704643614528) - INFO - external.bloomberg.bquant.signal_lab.data_workbench.definitions.trading_calendar_proxy - fetching trading calendar data\n"
     ]
    },
    {
     "data": {
      "application/json": {
       "ascii": false,
       "bar_format": null,
       "colour": null,
       "elapsed": 0.009525537490844727,
       "initial": 0,
       "n": 0,
       "ncols": null,
       "nrows": null,
       "postfix": null,
       "prefix": "",
       "rate": null,
       "total": 36,
       "unit": "it",
       "unit_divisor": 1000,
       "unit_scale": false
      },
      "application/vnd.jupyter.widget-view+json": {
       "model_id": "c1be6174ab8d470cac30dc8fb53fe18c",
       "version_major": 2,
       "version_minor": 0
      },
      "text/plain": [
       "  0%|          | 0/36 [00:00<?, ?it/s]"
      ]
     },
     "metadata": {},
     "output_type": "display_data"
    },
    {
     "name": "stdout",
     "output_type": "stream",
     "text": [
      "2025-03-24 07:59:49,705 - (139704643614528) - INFO - external.bloomberg.bquant.signal_lab.data_workbench.data_pack - fetching data item: analyst_rating\n"
     ]
    },
    {
     "data": {
      "application/json": {
       "ascii": false,
       "bar_format": null,
       "colour": null,
       "elapsed": 0.00889444351196289,
       "initial": 0,
       "n": 0,
       "ncols": null,
       "nrows": null,
       "postfix": null,
       "prefix": "",
       "rate": null,
       "total": 36,
       "unit": "it",
       "unit_divisor": 1000,
       "unit_scale": false
      },
      "application/vnd.jupyter.widget-view+json": {
       "model_id": "74a4d8e1984142c195a66bc809b71ee0",
       "version_major": 2,
       "version_minor": 0
      },
      "text/plain": [
       "  0%|          | 0/36 [00:00<?, ?it/s]"
      ]
     },
     "metadata": {},
     "output_type": "display_data"
    },
    {
     "name": "stdout",
     "output_type": "stream",
     "text": [
      "2025-03-24 08:00:08,911 - (139704643614528) - INFO - external.bloomberg.bquant.signal_lab.data_workbench.data_pack - fetching data item: target_price\n"
     ]
    },
    {
     "data": {
      "application/json": {
       "ascii": false,
       "bar_format": null,
       "colour": null,
       "elapsed": 0.008852005004882812,
       "initial": 0,
       "n": 0,
       "ncols": null,
       "nrows": null,
       "postfix": null,
       "prefix": "",
       "rate": null,
       "total": 36,
       "unit": "it",
       "unit_divisor": 1000,
       "unit_scale": false
      },
      "application/vnd.jupyter.widget-view+json": {
       "model_id": "3f9b6bd4d2934d3f991ab565cbfd7e89",
       "version_major": 2,
       "version_minor": 0
      },
      "text/plain": [
       "  0%|          | 0/36 [00:00<?, ?it/s]"
      ]
     },
     "metadata": {},
     "output_type": "display_data"
    },
    {
     "name": "stdout",
     "output_type": "stream",
     "text": [
      "2025-03-24 08:00:28,159 - (139704643614528) - INFO - external.bloomberg.bquant.signal_lab.data_workbench.data_pack - fetching data item: cur_mkt_cap\n"
     ]
    },
    {
     "data": {
      "application/json": {
       "ascii": false,
       "bar_format": null,
       "colour": null,
       "elapsed": 0.008854866027832031,
       "initial": 0,
       "n": 0,
       "ncols": null,
       "nrows": null,
       "postfix": null,
       "prefix": "",
       "rate": null,
       "total": 36,
       "unit": "it",
       "unit_divisor": 1000,
       "unit_scale": false
      },
      "application/vnd.jupyter.widget-view+json": {
       "model_id": "b736946ee1ec4628b63651da47300d26",
       "version_major": 2,
       "version_minor": 0
      },
      "text/plain": [
       "  0%|          | 0/36 [00:00<?, ?it/s]"
      ]
     },
     "metadata": {},
     "output_type": "display_data"
    },
    {
     "name": "stdout",
     "output_type": "stream",
     "text": [
      "2025-03-24 08:00:45,974 - (139704643614528) - INFO - external.bloomberg.bquant.signal_lab.data_workbench.data_pack - fetching data item: day_to_day_tot_return_gross_dvds\n"
     ]
    },
    {
     "data": {
      "application/json": {
       "ascii": false,
       "bar_format": null,
       "colour": null,
       "elapsed": 0.012547731399536133,
       "initial": 0,
       "n": 0,
       "ncols": null,
       "nrows": null,
       "postfix": null,
       "prefix": "",
       "rate": null,
       "total": 36,
       "unit": "it",
       "unit_divisor": 1000,
       "unit_scale": false
      },
      "application/vnd.jupyter.widget-view+json": {
       "model_id": "55027644d09d4228a78fa85a239ca89e",
       "version_major": 2,
       "version_minor": 0
      },
      "text/plain": [
       "  0%|          | 0/36 [00:00<?, ?it/s]"
      ]
     },
     "metadata": {},
     "output_type": "display_data"
    },
    {
     "name": "stdout",
     "output_type": "stream",
     "text": [
      "2025-03-24 08:01:04,609 - (139704643614528) - INFO - external.bloomberg.bquant.signal_lab.data_workbench.data_pack - fetching data item: beta\n"
     ]
    },
    {
     "data": {
      "application/json": {
       "ascii": false,
       "bar_format": null,
       "colour": null,
       "elapsed": 0.008320808410644531,
       "initial": 0,
       "n": 0,
       "ncols": null,
       "nrows": null,
       "postfix": null,
       "prefix": "",
       "rate": null,
       "total": 6,
       "unit": "it",
       "unit_divisor": 1000,
       "unit_scale": false
      },
      "application/vnd.jupyter.widget-view+json": {
       "model_id": "ebecff4c57f74a81b352e60968fc5fb4",
       "version_major": 2,
       "version_minor": 0
      },
      "text/plain": [
       "  0%|          | 0/6 [00:00<?, ?it/s]"
      ]
     },
     "metadata": {},
     "output_type": "display_data"
    },
    {
     "name": "stdout",
     "output_type": "stream",
     "text": [
      "2025-03-24 08:01:19,849 - (139704643614528) - INFO - external.bloomberg.bquant.signal_lab.data_workbench.data_pack - fetching data item: px_last\n"
     ]
    },
    {
     "data": {
      "application/json": {
       "ascii": false,
       "bar_format": null,
       "colour": null,
       "elapsed": 0.008202075958251953,
       "initial": 0,
       "n": 0,
       "ncols": null,
       "nrows": null,
       "postfix": null,
       "prefix": "",
       "rate": null,
       "total": 36,
       "unit": "it",
       "unit_divisor": 1000,
       "unit_scale": false
      },
      "application/vnd.jupyter.widget-view+json": {
       "model_id": "91ab09c9a9c54bc989e5efa28787d44d",
       "version_major": 2,
       "version_minor": 0
      },
      "text/plain": [
       "  0%|          | 0/36 [00:00<?, ?it/s]"
      ]
     },
     "metadata": {},
     "output_type": "display_data"
    },
    {
     "name": "stdout",
     "output_type": "stream",
     "text": [
      "2025-03-24 08:01:37,229 - (139704643614528) - INFO - external.bloomberg.bquant.signal_lab.data_workbench.data_pack - fetching data item: bics_level_1\n"
     ]
    },
    {
     "data": {
      "application/json": {
       "ascii": false,
       "bar_format": null,
       "colour": null,
       "elapsed": 0.008461236953735352,
       "initial": 0,
       "n": 0,
       "ncols": null,
       "nrows": null,
       "postfix": null,
       "prefix": "",
       "rate": null,
       "total": 36,
       "unit": "it",
       "unit_divisor": 1000,
       "unit_scale": false
      },
      "application/vnd.jupyter.widget-view+json": {
       "model_id": "6af6b73e8758443fb731e125c2277cfb",
       "version_major": 2,
       "version_minor": 0
      },
      "text/plain": [
       "  0%|          | 0/36 [00:00<?, ?it/s]"
      ]
     },
     "metadata": {},
     "output_type": "display_data"
    },
    {
     "name": "stdout",
     "output_type": "stream",
     "text": [
      "2025-03-24 08:01:57,909 - (139704643614528) - INFO - external.bloomberg.bquant.signal_lab.data_workbench.data_pack - fetching data item: bics_level_2\n"
     ]
    },
    {
     "data": {
      "application/json": {
       "ascii": false,
       "bar_format": null,
       "colour": null,
       "elapsed": 0.009041547775268555,
       "initial": 0,
       "n": 0,
       "ncols": null,
       "nrows": null,
       "postfix": null,
       "prefix": "",
       "rate": null,
       "total": 36,
       "unit": "it",
       "unit_divisor": 1000,
       "unit_scale": false
      },
      "application/vnd.jupyter.widget-view+json": {
       "model_id": "37ef7e8769004ee196e1f72a06b8ec38",
       "version_major": 2,
       "version_minor": 0
      },
      "text/plain": [
       "  0%|          | 0/36 [00:00<?, ?it/s]"
      ]
     },
     "metadata": {},
     "output_type": "display_data"
    },
    {
     "name": "stdout",
     "output_type": "stream",
     "text": [
      "2025-03-24 08:02:18,435 - (139704643614528) - INFO - external.bloomberg.bquant.signal_lab.data_workbench.data_pack - fetching data item: bics_level_3\n"
     ]
    },
    {
     "data": {
      "application/json": {
       "ascii": false,
       "bar_format": null,
       "colour": null,
       "elapsed": 0.00953221321105957,
       "initial": 0,
       "n": 0,
       "ncols": null,
       "nrows": null,
       "postfix": null,
       "prefix": "",
       "rate": null,
       "total": 36,
       "unit": "it",
       "unit_divisor": 1000,
       "unit_scale": false
      },
      "application/vnd.jupyter.widget-view+json": {
       "model_id": "84e3cb7b17ce42889d0269c31617a3ec",
       "version_major": 2,
       "version_minor": 0
      },
      "text/plain": [
       "  0%|          | 0/36 [00:00<?, ?it/s]"
      ]
     },
     "metadata": {},
     "output_type": "display_data"
    },
    {
     "name": "stdout",
     "output_type": "stream",
     "text": [
      "2025-03-24 08:02:38,037 - (139704643614528) - INFO - external.bloomberg.bquant.signal_lab.data_workbench.data_pack - fetching data item: bics_level_4\n"
     ]
    },
    {
     "data": {
      "application/json": {
       "ascii": false,
       "bar_format": null,
       "colour": null,
       "elapsed": 0.009358644485473633,
       "initial": 0,
       "n": 0,
       "ncols": null,
       "nrows": null,
       "postfix": null,
       "prefix": "",
       "rate": null,
       "total": 36,
       "unit": "it",
       "unit_divisor": 1000,
       "unit_scale": false
      },
      "application/vnd.jupyter.widget-view+json": {
       "model_id": "cace7e8a68624ef6b99b385abd6da58c",
       "version_major": 2,
       "version_minor": 0
      },
      "text/plain": [
       "  0%|          | 0/36 [00:00<?, ?it/s]"
      ]
     },
     "metadata": {},
     "output_type": "display_data"
    },
    {
     "name": "stdout",
     "output_type": "stream",
     "text": [
      "2025-03-24 08:02:58,172 - (139704643614528) - INFO - external.bloomberg.bquant.signal_lab.data_workbench.data_pack - fetching completed\n"
     ]
    }
   ],
   "source": [
    "fetch_status = data_pack.run_fetch()"
   ]
  },
  {
   "cell_type": "code",
   "execution_count": null,
   "id": "b4d8d5a5-0905-4d1a-8c31-d34f4d3b31f0",
   "metadata": {},
   "outputs": [],
   "source": []
  }
 ],
 "metadata": {
  "kernelspec": {
   "display_name": "Bloomberg Lab Python 3",
   "language": "python",
   "name": "remote-jupyterpython"
  },
  "language_info": {
   "codemirror_mode": {
    "name": "ipython",
    "version": 3
   },
   "file_extension": ".py",
   "mimetype": "text/x-python",
   "name": "python",
   "nbconvert_exporter": "python",
   "pygments_lexer": "ipython3",
   "version": "3.9.12"
  }
 },
 "nbformat": 4,
 "nbformat_minor": 5
}
