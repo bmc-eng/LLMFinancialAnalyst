{
 "cells": [
  {
   "cell_type": "markdown",
   "id": "1a26cf9a-7ae6-4d70-a897-fd6ee863969d",
   "metadata": {},
   "source": [
    "# Base Case to test Portfolio Construction"
   ]
  },
  {
   "cell_type": "markdown",
   "id": "155ec66f-d209-412c-be68-3243cbc1a809",
   "metadata": {},
   "source": [
    "### Import the required libraries"
   ]
  },
  {
   "cell_type": "code",
   "execution_count": 1,
   "id": "5789e8dd-0a9a-4e14-88c8-fb3db7f85be7",
   "metadata": {},
   "outputs": [],
   "source": [
    "import bql\n",
    "import pandas"
   ]
  },
  {
   "cell_type": "code",
   "execution_count": 2,
   "id": "371361bf-af3e-449b-a5f4-a8118ecddee8",
   "metadata": {},
   "outputs": [],
   "source": [
    "bq = bql.Service()"
   ]
  },
  {
   "cell_type": "code",
   "execution_count": 10,
   "id": "53eab3e8-8308-48d4-a427-3c166c67b4ec",
   "metadata": {},
   "outputs": [],
   "source": [
    "returns = bq.func.cumprod(1 + bq.data.day_to_day_tot_return_gross_dvds(start='-5y', end='0d').dropna())\n",
    "security = 'INDU Index'"
   ]
  },
  {
   "cell_type": "code",
   "execution_count": 11,
   "id": "8527fd07-b002-44bc-a061-4c775dca9ec5",
   "metadata": {},
   "outputs": [
    {
     "data": {
      "text/html": [
       "<div>\n",
       "<style scoped>\n",
       "    .dataframe tbody tr th:only-of-type {\n",
       "        vertical-align: middle;\n",
       "    }\n",
       "\n",
       "    .dataframe tbody tr th {\n",
       "        vertical-align: top;\n",
       "    }\n",
       "\n",
       "    .dataframe thead th {\n",
       "        text-align: right;\n",
       "    }\n",
       "</style>\n",
       "<table border=\"1\" class=\"dataframe\">\n",
       "  <thead>\n",
       "    <tr style=\"text-align: right;\">\n",
       "      <th></th>\n",
       "      <th>DATE</th>\n",
       "      <th>CUMPROD((1+DROPNA(DAY_TO_DAY_TOT_RETURN_GROSS_DVDS(start=-5Y,end=0D))))</th>\n",
       "    </tr>\n",
       "    <tr>\n",
       "      <th>ID</th>\n",
       "      <th></th>\n",
       "      <th></th>\n",
       "    </tr>\n",
       "  </thead>\n",
       "  <tbody>\n",
       "    <tr>\n",
       "      <th>INDU Index</th>\n",
       "      <td>2020-02-25</td>\n",
       "      <td>0.968547</td>\n",
       "    </tr>\n",
       "    <tr>\n",
       "      <th>INDU Index</th>\n",
       "      <td>2020-02-26</td>\n",
       "      <td>0.964121</td>\n",
       "    </tr>\n",
       "    <tr>\n",
       "      <th>INDU Index</th>\n",
       "      <td>2020-02-27</td>\n",
       "      <td>0.921697</td>\n",
       "    </tr>\n",
       "    <tr>\n",
       "      <th>INDU Index</th>\n",
       "      <td>2020-02-28</td>\n",
       "      <td>0.909583</td>\n",
       "    </tr>\n",
       "    <tr>\n",
       "      <th>INDU Index</th>\n",
       "      <td>2020-03-02</td>\n",
       "      <td>0.955903</td>\n",
       "    </tr>\n",
       "    <tr>\n",
       "      <th>...</th>\n",
       "      <td>...</td>\n",
       "      <td>...</td>\n",
       "    </tr>\n",
       "    <tr>\n",
       "      <th>INDU Index</th>\n",
       "      <td>2025-02-19</td>\n",
       "      <td>1.764834</td>\n",
       "    </tr>\n",
       "    <tr>\n",
       "      <th>INDU Index</th>\n",
       "      <td>2025-02-20</td>\n",
       "      <td>1.747203</td>\n",
       "    </tr>\n",
       "    <tr>\n",
       "      <th>INDU Index</th>\n",
       "      <td>2025-02-21</td>\n",
       "      <td>1.717594</td>\n",
       "    </tr>\n",
       "    <tr>\n",
       "      <th>INDU Index</th>\n",
       "      <td>2025-02-24</td>\n",
       "      <td>1.718907</td>\n",
       "    </tr>\n",
       "    <tr>\n",
       "      <th>INDU Index</th>\n",
       "      <td>2025-02-25</td>\n",
       "      <td>1.725233</td>\n",
       "    </tr>\n",
       "  </tbody>\n",
       "</table>\n",
       "<p>1258 rows × 2 columns</p>\n",
       "</div>"
      ],
      "text/plain": [
       "                 DATE  \\\n",
       "ID                      \n",
       "INDU Index 2020-02-25   \n",
       "INDU Index 2020-02-26   \n",
       "INDU Index 2020-02-27   \n",
       "INDU Index 2020-02-28   \n",
       "INDU Index 2020-03-02   \n",
       "...               ...   \n",
       "INDU Index 2025-02-19   \n",
       "INDU Index 2025-02-20   \n",
       "INDU Index 2025-02-21   \n",
       "INDU Index 2025-02-24   \n",
       "INDU Index 2025-02-25   \n",
       "\n",
       "            CUMPROD((1+DROPNA(DAY_TO_DAY_TOT_RETURN_GROSS_DVDS(start=-5Y,end=0D))))  \n",
       "ID                                                                                   \n",
       "INDU Index                                           0.968547                        \n",
       "INDU Index                                           0.964121                        \n",
       "INDU Index                                           0.921697                        \n",
       "INDU Index                                           0.909583                        \n",
       "INDU Index                                           0.955903                        \n",
       "...                                                       ...                        \n",
       "INDU Index                                           1.764834                        \n",
       "INDU Index                                           1.747203                        \n",
       "INDU Index                                           1.717594                        \n",
       "INDU Index                                           1.718907                        \n",
       "INDU Index                                           1.725233                        \n",
       "\n",
       "[1258 rows x 2 columns]"
      ]
     },
     "execution_count": 11,
     "metadata": {},
     "output_type": "execute_result"
    }
   ],
   "source": [
    "req = bql.Request(security, returns)\n",
    "data = bq.execute(req)\n",
    "data[0].df()"
   ]
  },
  {
   "cell_type": "code",
   "execution_count": 12,
   "id": "350c8f28-320c-48df-a577-4b90d6c755b3",
   "metadata": {},
   "outputs": [],
   "source": [
    "import plotly as pt"
   ]
  },
  {
   "cell_type": "code",
   "execution_count": null,
   "id": "b4ab368f-1e1d-4e2b-9b2c-8690fe32e653",
   "metadata": {},
   "outputs": [],
   "source": []
  }
 ],
 "metadata": {
  "kernelspec": {
   "display_name": "Bloomberg Lab Python 3",
   "language": "python",
   "name": "remote-jupyterpython"
  },
  "language_info": {
   "codemirror_mode": {
    "name": "ipython",
    "version": 3
   },
   "file_extension": ".py",
   "mimetype": "text/x-python",
   "name": "python",
   "nbconvert_exporter": "python",
   "pygments_lexer": "ipython3",
   "version": "3.9.12"
  }
 },
 "nbformat": 4,
 "nbformat_minor": 5
}
