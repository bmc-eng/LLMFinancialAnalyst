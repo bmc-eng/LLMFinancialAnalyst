{
 "cells": [
  {
   "cell_type": "code",
   "execution_count": 1,
   "id": "3cbce01a-ac60-4165-9a47-8e1a8227341d",
   "metadata": {},
   "outputs": [
    {
     "name": "stdout",
     "output_type": "stream",
     "text": [
      "\u001b[33mDEPRECATION: Loading egg at /opt/kernel/lib/python3.11/site-packages/mamba_cell_magic-0.15.0-py3.7.egg is deprecated. pip 25.1 will enforce this behaviour change. A possible replacement is to use pip for package installation. Discussion can be found at https://github.com/pypa/pip/issues/12330\u001b[0m\u001b[33m\n",
      "\u001b[0mCollecting tensor_parallel\n",
      "  Downloading tensor_parallel-2.0.0-py3-none-any.whl.metadata (10 kB)\n",
      "Requirement already satisfied: torch>=1.11 in /opt/kernel/lib/python3.11/site-packages (from tensor_parallel) (2.1.2.post300)\n",
      "Requirement already satisfied: transformers>=4.20.1 in /opt/kernel/lib/python3.11/site-packages (from tensor_parallel) (4.47.1)\n",
      "Requirement already satisfied: filelock in /opt/kernel/lib/python3.11/site-packages (from torch>=1.11->tensor_parallel) (3.16.1)\n",
      "Requirement already satisfied: typing-extensions in /opt/kernel/lib/python3.11/site-packages (from torch>=1.11->tensor_parallel) (4.12.2)\n",
      "Requirement already satisfied: sympy in /opt/kernel/lib/python3.11/site-packages (from torch>=1.11->tensor_parallel) (1.13.3)\n",
      "Requirement already satisfied: networkx in /opt/kernel/lib/python3.11/site-packages (from torch>=1.11->tensor_parallel) (3.4)\n",
      "Requirement already satisfied: jinja2 in /opt/kernel/lib/python3.11/site-packages (from torch>=1.11->tensor_parallel) (3.1.4)\n",
      "Requirement already satisfied: fsspec in /opt/kernel/lib/python3.11/site-packages (from torch>=1.11->tensor_parallel) (2023.12.2)\n",
      "Requirement already satisfied: huggingface-hub<1.0,>=0.24.0 in /opt/kernel/lib/python3.11/site-packages (from transformers>=4.20.1->tensor_parallel) (0.26.5)\n",
      "Requirement already satisfied: numpy>=1.17 in /opt/kernel/lib/python3.11/site-packages (from transformers>=4.20.1->tensor_parallel) (1.26.4)\n",
      "Requirement already satisfied: packaging>=20.0 in /opt/kernel/lib/python3.11/site-packages (from transformers>=4.20.1->tensor_parallel) (24.2)\n",
      "Requirement already satisfied: pyyaml>=5.1 in /opt/kernel/lib/python3.11/site-packages (from transformers>=4.20.1->tensor_parallel) (6.0.2)\n",
      "Requirement already satisfied: regex!=2019.12.17 in /opt/kernel/lib/python3.11/site-packages (from transformers>=4.20.1->tensor_parallel) (2024.11.6)\n",
      "Requirement already satisfied: requests in /opt/kernel/lib/python3.11/site-packages (from transformers>=4.20.1->tensor_parallel) (2.31.0)\n",
      "Requirement already satisfied: tokenizers<0.22,>=0.21 in /opt/kernel/lib/python3.11/site-packages (from transformers>=4.20.1->tensor_parallel) (0.21.0)\n",
      "Requirement already satisfied: safetensors>=0.4.1 in /opt/kernel/lib/python3.11/site-packages (from transformers>=4.20.1->tensor_parallel) (0.4.5)\n",
      "Requirement already satisfied: tqdm>=4.27 in /opt/kernel/lib/python3.11/site-packages (from transformers>=4.20.1->tensor_parallel) (4.67.1)\n",
      "Requirement already satisfied: MarkupSafe>=2.0 in /opt/kernel/lib/python3.11/site-packages (from jinja2->torch>=1.11->tensor_parallel) (3.0.2)\n",
      "Requirement already satisfied: charset-normalizer<4,>=2 in /opt/kernel/lib/python3.11/site-packages (from requests->transformers>=4.20.1->tensor_parallel) (3.4.0)\n",
      "Requirement already satisfied: idna<4,>=2.5 in /opt/kernel/lib/python3.11/site-packages (from requests->transformers>=4.20.1->tensor_parallel) (3.10)\n",
      "Requirement already satisfied: urllib3<3,>=1.21.1 in /opt/kernel/lib/python3.11/site-packages (from requests->transformers>=4.20.1->tensor_parallel) (1.26.19)\n",
      "Requirement already satisfied: certifi>=2017.4.17 in /opt/kernel/lib/python3.11/site-packages (from requests->transformers>=4.20.1->tensor_parallel) (2024.12.14)\n",
      "Requirement already satisfied: mpmath<1.4,>=1.1.0 in /opt/kernel/lib/python3.11/site-packages (from sympy->torch>=1.11->tensor_parallel) (1.3.0)\n",
      "Downloading tensor_parallel-2.0.0-py3-none-any.whl (37 kB)\n",
      "Installing collected packages: tensor_parallel\n",
      "Successfully installed tensor_parallel-2.0.0\n",
      "Note: you may need to restart the kernel to use updated packages.\n"
     ]
    }
   ],
   "source": [
    "%pip install tensor_parallel"
   ]
  },
  {
   "cell_type": "code",
   "execution_count": 4,
   "id": "92cb9d1c-2c58-4fa3-b6ad-901d2d8cce85",
   "metadata": {},
   "outputs": [],
   "source": [
    "from huggingface_hub import login\n",
    "with open('pass.txt') as p:\n",
    "    hf_login = p.read()\n",
    "    \n",
    "hf_login = hf_login[hf_login.find('=')+1:hf_login.find('\\n')]\n",
    "login(hf_login, add_to_git_credential=False)"
   ]
  },
  {
   "cell_type": "code",
   "execution_count": 5,
   "id": "ec6fc7c4-6da8-40ee-abc0-3fadc605b6d5",
   "metadata": {},
   "outputs": [],
   "source": [
    "MODEL_NAME = 'meta-llama/Llama-3.2-3B-Instruct'"
   ]
  },
  {
   "cell_type": "code",
   "execution_count": 7,
   "id": "b498dc44-9947-4885-9156-1516a7c5052e",
   "metadata": {},
   "outputs": [],
   "source": [
    "import torch\n",
    "import transformers\n",
    "import accelerate\n",
    "#from transformers.utils.bitsandbytes import replace_with_bnb_linear\n",
    "\n",
    "import tensor_parallel as tp\n",
    "\n",
    "if MODEL_NAME == \"decapoda-research/llama-30b-hf\":\n",
    "    tokenizer = transformers.LlamaTokenizer.from_pretrained(MODEL_NAME)\n",
    "else:\n",
    "    tokenizer = transformers.AutoTokenizer.from_pretrained(MODEL_NAME)\n",
    "\n",
    "with accelerate.init_empty_weights():\n",
    "    model = transformers.AutoModelForCausalLM.from_config(transformers.AutoConfig.from_pretrained(MODEL_NAME, trust_remote_code=True), trust_remote_code=True).half()\n",
    "\n",
    "model = tp.TensorParallelPreTrainedModel( # <- tensor parallelism starts here\n",
    "    model,\n",
    "    device_ids=[\"cuda:0\", \"cuda:1\"],\n",
    "    sharded=False\n",
    ")"
   ]
  },
  {
   "cell_type": "code",
   "execution_count": 10,
   "id": "5cd04103-3c64-4b5a-8f3b-10cbd5a12bca",
   "metadata": {},
   "outputs": [
    {
     "data": {
      "text/plain": [
       "PosixPath('/home/bqnt-user/.cache/huggingface/accelerate/default_config.yaml')"
      ]
     },
     "execution_count": 10,
     "metadata": {},
     "output_type": "execute_result"
    }
   ],
   "source": [
    "# Use to write the config file for accelerate\n",
    "\n",
    "import os\n",
    "from accelerate.utils import write_basic_config\n",
    "\n",
    "write_basic_config()"
   ]
  },
  {
   "cell_type": "code",
   "execution_count": null,
   "id": "0e69162e-22d3-4b1a-ad4e-3419141a1d7a",
   "metadata": {},
   "outputs": [],
   "source": []
  }
 ],
 "metadata": {
  "kernelspec": {
   "display_name": "BQuant Python 3",
   "language": "python",
   "name": "remote-jupyterpython"
  },
  "language_info": {
   "codemirror_mode": {
    "name": "ipython",
    "version": 3
   },
   "file_extension": ".py",
   "mimetype": "text/x-python",
   "name": "python",
   "nbconvert_exporter": "python",
   "pygments_lexer": "ipython3",
   "version": "3.11.8"
  }
 },
 "nbformat": 4,
 "nbformat_minor": 5
}
