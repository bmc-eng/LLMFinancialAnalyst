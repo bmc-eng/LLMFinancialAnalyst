{
 "cells": [
  {
   "cell_type": "markdown",
   "id": "687edd84-1940-4630-af73-31dea8b66700",
   "metadata": {},
   "source": [
    "# Request Financial Statement Datasets"
   ]
  },
  {
   "cell_type": "code",
   "execution_count": 23,
   "id": "e4240e9c-2b72-4e99-8df6-e667c1339754",
   "metadata": {},
   "outputs": [],
   "source": [
    "import bql\n",
    "import pandas as pd\n",
    "import utils.data_request_helper as helper\n",
    "\n",
    "import os\n",
    "import importlib\n",
    "\n",
    "from ipywidgets import IntProgress\n",
    "from IPython.display import display"
   ]
  },
  {
   "cell_type": "code",
   "execution_count": 32,
   "id": "535525ee-62b3-4408-bd28-4c860b5dd831",
   "metadata": {},
   "outputs": [
    {
     "ename": "SyntaxError",
     "evalue": "invalid syntax (data_request_helper.py, line 241)",
     "output_type": "error",
     "traceback": [
      "Traceback \u001b[0;36m(most recent call last)\u001b[0m:\n",
      "\u001b[0m  File \u001b[1;32m/opt/kernel/lib/python3.9/site-packages/IPython/core/interactiveshell.py:3548\u001b[0m in \u001b[1;35mrun_code\u001b[0m\n    exec(code_obj, self.user_global_ns, self.user_ns)\u001b[0m\n",
      "\u001b[0m  Cell \u001b[1;32mIn[32], line 1\u001b[0m\n    importlib.reload(helper)\u001b[0m\n",
      "\u001b[0m  File \u001b[1;32m/opt/kernel/lib/python3.9/importlib/__init__.py:169\u001b[0m in \u001b[1;35mreload\u001b[0m\n    _bootstrap._exec(spec, module)\u001b[0m\n",
      "\u001b[0m  File \u001b[1;32m<frozen importlib._bootstrap>:613\u001b[0m in \u001b[1;35m_exec\u001b[0m\n",
      "\u001b[0m  File \u001b[1;32m<frozen importlib._bootstrap_external>:846\u001b[0m in \u001b[1;35mexec_module\u001b[0m\n",
      "\u001b[0m  File \u001b[1;32m<frozen importlib._bootstrap_external>:983\u001b[0m in \u001b[1;35mget_code\u001b[0m\n",
      "\u001b[0m  File \u001b[1;32m<frozen importlib._bootstrap_external>:913\u001b[0m in \u001b[1;35msource_to_code\u001b[0m\n",
      "\u001b[0;36m  File \u001b[0;32m<frozen importlib._bootstrap>:228\u001b[0;36m in \u001b[0;35m_call_with_frames_removed\u001b[0;36m\n",
      "\u001b[0;36m  File \u001b[0;32m/project/utils/data_request_helper.py:241\u001b[0;36m\u001b[0m\n\u001b[0;31m    try\u001b[0m\n\u001b[0m       ^\u001b[0m\n\u001b[0;31mSyntaxError\u001b[0m\u001b[0;31m:\u001b[0m invalid syntax\n"
     ]
    }
   ],
   "source": [
    "importlib.reload(helper)"
   ]
  },
  {
   "cell_type": "code",
   "execution_count": 25,
   "id": "64750668-a993-473e-b1ac-3cabc1c4092f",
   "metadata": {},
   "outputs": [],
   "source": [
    "# Index to use for point in time firms\n",
    "index = 'INDU Index'\n",
    "filename = 'data_quarterly_pit_indu_refresh_blended.json'\n",
    "reporting_period = 'Q'\n",
    "\n",
    "# rebalance dates for the index\n",
    "rebalance_dates = ['2024-12-31',\n",
    "        '2024-09-30',\n",
    "        '2024-06-30',\n",
    "        '2024-03-31',\n",
    "        '2023-12-31',\n",
    "        '2023-09-30',\n",
    "        '2023-06-30',\n",
    "        '2023-03-31',\n",
    "        '2022-12-31',\n",
    "        '2022-09-30',\n",
    "        '2022-06-30',\n",
    "        '2022-03-31',\n",
    "        '2021-12-31',\n",
    "        '2021-09-30',\n",
    "        '2021-06-30',\n",
    "        '2021-03-31',\n",
    "        '2020-12-31',\n",
    "        '2020-09-30',\n",
    "        '2020-06-30',\n",
    "        '2020-03-31',\n",
    "        '2019-12-31',\n",
    "        '2019-09-30',\n",
    "        '2019-06-30',\n",
    "        '2019-03-31',]"
   ]
  },
  {
   "cell_type": "code",
   "execution_count": 29,
   "id": "93c39803-6b5f-4681-820b-e8fd9bce3faf",
   "metadata": {},
   "outputs": [],
   "source": [
    "data_helper = helper.FinancialDataRequester(index_id=index,\n",
    "                                            dataset_name='quarterly_pit_indu_blended',\n",
    "                                            rebalance_dates=rebalance_dates,\n",
    "                                            reporting_frequency=reporting_period)"
   ]
  },
  {
   "cell_type": "code",
   "execution_count": 30,
   "id": "2f3b2e1e-b63b-44b7-974c-01024335def1",
   "metadata": {},
   "outputs": [
    {
     "name": "stderr",
     "output_type": "stream",
     "text": [
      "100%|██████████| 24/24 [00:15<00:00,  1.52it/s]\n"
     ]
    }
   ],
   "source": [
    "df_rebalance_dates = data_helper.get_rebalance_dates()"
   ]
  },
  {
   "cell_type": "code",
   "execution_count": 31,
   "id": "6eee46d9-54e6-4993-aad7-9afd65b936ce",
   "metadata": {},
   "outputs": [
    {
     "name": "stderr",
     "output_type": "stream",
     "text": [
      "  0%|          | 0/940 [00:00<?, ?it/s]"
     ]
    },
    {
     "ename": "TypeError",
     "evalue": "_convert_to_dict() missing 1 required positional argument: 'df_mt'",
     "output_type": "error",
     "traceback": [
      "\u001b[0;31m---------------------------------------------------------------------------\u001b[0m",
      "\u001b[0;31mTypeError\u001b[0m                                 Traceback (most recent call last)",
      "Cell \u001b[0;32mIn[31], line 1\u001b[0m\n\u001b[0;32m----> 1\u001b[0m all_data \u001b[38;5;241m=\u001b[39m \u001b[43mdata_helper\u001b[49m\u001b[38;5;241;43m.\u001b[39;49m\u001b[43mrequest_financial_data\u001b[49m\u001b[43m(\u001b[49m\u001b[43mdf_rebalance_dates\u001b[49m\u001b[43m)\u001b[49m\n",
      "File \u001b[0;32m/project/utils/data_request_helper.py:245\u001b[0m, in \u001b[0;36mFinancialDataRequester.request_financial_data\u001b[0;34m(self, dates_and_securities)\u001b[0m\n\u001b[1;32m    243\u001b[0m     df_bs \u001b[38;5;241m=\u001b[39m \u001b[38;5;28mself\u001b[39m\u001b[38;5;241m.\u001b[39m_process_single_date(univ, bs_fields)\n\u001b[1;32m    244\u001b[0m     df_px \u001b[38;5;241m=\u001b[39m \u001b[38;5;28mself\u001b[39m\u001b[38;5;241m.\u001b[39m_process_single_date(univ, price)\n\u001b[0;32m--> 245\u001b[0m     all_data[as_of_date] \u001b[38;5;241m=\u001b[39m \u001b[38;5;28;43mself\u001b[39;49m\u001b[38;5;241;43m.\u001b[39;49m\u001b[43m_convert_to_dict\u001b[49m\u001b[43m(\u001b[49m\u001b[43msecurities\u001b[49m\u001b[43m,\u001b[49m\u001b[43m \u001b[49m\u001b[43mdf_is\u001b[49m\u001b[43m,\u001b[49m\u001b[43m \u001b[49m\u001b[43mdf_bs\u001b[49m\u001b[43m,\u001b[49m\u001b[43m \u001b[49m\u001b[43mdf_px\u001b[49m\u001b[43m)\u001b[49m\n\u001b[1;32m    246\u001b[0m \u001b[38;5;66;03m#except:\u001b[39;00m\n\u001b[1;32m    247\u001b[0m     \u001b[38;5;28mprint\u001b[39m(\u001b[38;5;124mf\u001b[39m\u001b[38;5;124m'\u001b[39m\u001b[38;5;124mDataRequest: Missing data - \u001b[39m\u001b[38;5;132;01m{\u001b[39;00mas_of_date\u001b[38;5;132;01m}\u001b[39;00m\u001b[38;5;124m'\u001b[39m)\n",
      "\u001b[0;31mTypeError\u001b[0m: _convert_to_dict() missing 1 required positional argument: 'df_mt'"
     ]
    }
   ],
   "source": [
    "all_data = data_helper.request_financial_data(df_rebalance_dates)"
   ]
  },
  {
   "cell_type": "code",
   "execution_count": 22,
   "id": "2550d964-5559-4a72-81dc-7a63bbacf1c6",
   "metadata": {},
   "outputs": [
    {
     "data": {
      "text/plain": [
       "0"
      ]
     },
     "execution_count": 22,
     "metadata": {},
     "output_type": "execute_result"
    }
   ],
   "source": [
    "len(all_data)"
   ]
  },
  {
   "cell_type": "code",
   "execution_count": null,
   "id": "0fbb0150-ce19-4d64-ac81-bcd875169518",
   "metadata": {},
   "outputs": [],
   "source": []
  }
 ],
 "metadata": {
  "kernelspec": {
   "display_name": "Bloomberg Lab Python 3",
   "language": "python",
   "name": "remote-jupyterpython"
  },
  "language_info": {
   "codemirror_mode": {
    "name": "ipython",
    "version": 3
   },
   "file_extension": ".py",
   "mimetype": "text/x-python",
   "name": "python",
   "nbconvert_exporter": "python",
   "pygments_lexer": "ipython3",
   "version": "3.9.12"
  }
 },
 "nbformat": 4,
 "nbformat_minor": 5
}
