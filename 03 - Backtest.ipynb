{
 "cells": [
  {
   "cell_type": "markdown",
   "id": "de3912eb-612a-499e-9c4e-edee06488a45",
   "metadata": {},
   "source": [
    "# Backtest the strategies\n",
    "\n",
    "Use an LLM to go through and predict the buy/ sell/ hold recommendation for the company for the given date. Steps needed:\n",
    "\n",
    "1. Load the LLM - use DeepSeek R1 Qwen model at 7B parameters first and try the quantised models next\n",
    "2. Step through each data and each financial statement to get a result\n",
    "3. Log the results in a file and save to S3 (will need a logging file to save to S3 and resume in case of kernel crash)\n",
    "4. Need a backtesting framework to apply the results\n"
   ]
  },
  {
   "cell_type": "markdown",
   "id": "f0d93b98-69cc-4462-a0f4-a17f2f95dd3f",
   "metadata": {},
   "source": [
    "## Load libraries needed"
   ]
  },
  {
   "cell_type": "code",
   "execution_count": 1,
   "id": "3af882af-086b-45c8-a773-215a83e2a864",
   "metadata": {},
   "outputs": [],
   "source": [
    "import json\n",
    "import boto3\n",
    "from s3fs import S3FileSystem\n",
    "import os\n",
    "\n",
    "import transformers\n",
    "from transformers import AutoTokenizer, AutoModelForCausalLM, BitsAndBytesConfig\n",
    "from huggingface_hub import login\n",
    "import torch\n",
    "from accelerate import Accelerator\n",
    "\n",
    "import pandas as pd\n",
    "\n",
    "from IPython.display import Markdown, display\n",
    "\n",
    "from helper import get_s3_folder\n",
    "import s3_model\n",
    "import company_data\n",
    "from s3_model import S3ModelHelper"
   ]
  },
  {
   "cell_type": "code",
   "execution_count": 2,
   "id": "e4fb4ed3-be43-40fa-bd65-13d7588c9c3f",
   "metadata": {},
   "outputs": [
    {
     "data": {
      "text/plain": [
       "<module 's3_model' from '/project/s3_model.py'>"
      ]
     },
     "execution_count": 2,
     "metadata": {},
     "output_type": "execute_result"
    }
   ],
   "source": [
    "import importlib\n",
    "importlib.reload(company_data)\n",
    "importlib.reload(s3_model)"
   ]
  },
  {
   "cell_type": "markdown",
   "id": "4cb94ecb-4b18-41c5-8849-696b395f4de1",
   "metadata": {},
   "source": [
    "## Load the LLM\n",
    "\n",
    "Models to test:\n",
    "- Qwen (Qwen/Qwen2.5-7B-Instruct)\n",
    "- Llama (meta-llama/Llama-3.2-7B-Instruct)\n",
    "- DeepSeek (deepseek-ai/DeepSeek-R1-Distill-Qwen-14B)"
   ]
  },
  {
   "cell_type": "code",
   "execution_count": 3,
   "id": "dd948d2f-1791-4313-bedc-f9ed31aa63a6",
   "metadata": {},
   "outputs": [],
   "source": [
    "# Log into Huggingface\n",
    "\n",
    "with open('pass.txt') as p:\n",
    "    hf_login = p.read()\n",
    "    \n",
    "hf_login = hf_login[hf_login.find('=')+1:hf_login.find('\\n')]\n",
    "login(hf_login, add_to_git_credential=False)"
   ]
  },
  {
   "cell_type": "code",
   "execution_count": 4,
   "id": "4aaea478-b1ed-420b-bd8f-0851b1c6e3af",
   "metadata": {},
   "outputs": [],
   "source": [
    "# Set up Quantization \n",
    "quant_config = BitsAndBytesConfig(\n",
    "    load_in_4bit=True,\n",
    "    bnb_4bit_use_double_quant=True,\n",
    "    bnb_4bit_compute_dtype=torch.bfloat16,\n",
    "    bnb_4bit_quant_type=\"nf4\"\n",
    "\n",
    ")"
   ]
  },
  {
   "cell_type": "code",
   "execution_count": 5,
   "id": "4c2bb562-aec7-44a3-87a7-c509839c6dc3",
   "metadata": {},
   "outputs": [
    {
     "data": {
      "application/vnd.jupyter.widget-view+json": {
       "model_id": "35d82dc0f12e443287a397e59e70765a",
       "version_major": 2,
       "version_minor": 0
      },
      "text/plain": [
       "Loading checkpoint shards:   0%|          | 0/2 [00:00<?, ?it/s]"
      ]
     },
     "metadata": {},
     "output_type": "display_data"
    },
    {
     "name": "stderr",
     "output_type": "stream",
     "text": [
      "Device set to use cuda:0\n"
     ]
    }
   ],
   "source": [
    "# Flag to download from Huggingface again or use stored model\n",
    "USE_HF = False\n",
    "USE_QUANTIZATION = False\n",
    "\n",
    "model_id = \"meta-llama/Llama-3.2-3B-Instruct\"\n",
    "model_id_s3 = 'llama'\n",
    "\n",
    "\n",
    "if USE_HF:\n",
    "   \n",
    "    pipeline = transformers.pipeline(\n",
    "        \"text-generation\",\n",
    "        model=model_id,\n",
    "        model_kwargs={\"torch_dtype\": torch.bfloat16},\n",
    "        device_map=\"auto\",\n",
    "    )\n",
    "    \n",
    "    if USE_QUANTIZATION:\n",
    "        model = AutoModelForCausalLM.from_pretrained(model_id, device_map='auto', quantization_config=quant_config)\n",
    "    else:\n",
    "        model = AutoModelForCausalLM.from_pretrained(model_id, device_map='auto', torch_dtype=torch.bfloat16)\n",
    "    tokenizer = AutoTokenizer.from_pretrained(model_id)\n",
    "else:\n",
    "    model_helper = s3_model.S3ModelHelper(s3_sub_folder='tmp/fs')\n",
    "    if USE_QUANTIZATION:\n",
    "        model = model_helper.load_model(model_id_s3, quant_config)\n",
    "    else:\n",
    "        model = model_helper.load_model(model_id_s3)\n",
    "    tokenizer = AutoTokenizer.from_pretrained(model_id)\n",
    "\n",
    "    pipeline = transformers.pipeline(\n",
    "        \"text-generation\",\n",
    "        model=model,\n",
    "        tokenizer=tokenizer,\n",
    "        model_kwargs={\"torch_dtype\": torch.bfloat16},\n",
    "        device_map=\"auto\",\n",
    "    )\n",
    "    model_helper.clear_folder(model_id_s3)"
   ]
  },
  {
   "cell_type": "markdown",
   "id": "6029e0fb-a198-4dea-b42b-d506c783a7f4",
   "metadata": {},
   "source": [
    "## Load Financial PIT dataset"
   ]
  },
  {
   "cell_type": "code",
   "execution_count": 6,
   "id": "eaa01423-1a10-4b83-a25c-ebf18b932470",
   "metadata": {},
   "outputs": [],
   "source": [
    "## Load from S3 using the helper file\n",
    "sec_helper = company_data.SecurityData('tmp/fs','data_quarterly_pit.json')\n",
    "all_data = sec_helper.get_all_data()"
   ]
  },
  {
   "cell_type": "code",
   "execution_count": 22,
   "id": "407bc769-45aa-44b4-96c8-24d14ca19040",
   "metadata": {},
   "outputs": [],
   "source": [
    "# USE WHILE DEVELOPING to\n",
    "importlib.reload(company_data)\n",
    "sec_helper = company_data.SecurityData('tmp/fs','data_quarterly_pit.json', all_data)"
   ]
  },
  {
   "cell_type": "code",
   "execution_count": 7,
   "id": "08ad27ae-6370-4efd-a9a2-185c13992ea4",
   "metadata": {},
   "outputs": [
    {
     "data": {
      "text/html": [
       "<div>\n",
       "<style scoped>\n",
       "    .dataframe tbody tr th:only-of-type {\n",
       "        vertical-align: middle;\n",
       "    }\n",
       "\n",
       "    .dataframe tbody tr th {\n",
       "        vertical-align: top;\n",
       "    }\n",
       "\n",
       "    .dataframe thead th {\n",
       "        text-align: right;\n",
       "    }\n",
       "</style>\n",
       "<table border=\"1\" class=\"dataframe\">\n",
       "  <thead>\n",
       "    <tr style=\"text-align: right;\">\n",
       "      <th></th>\n",
       "      <th>Price</th>\n",
       "    </tr>\n",
       "    <tr>\n",
       "      <th>Date</th>\n",
       "      <th></th>\n",
       "    </tr>\n",
       "  </thead>\n",
       "  <tbody>\n",
       "    <tr>\n",
       "      <th>2019-01-31</th>\n",
       "      <td>100.83</td>\n",
       "    </tr>\n",
       "    <tr>\n",
       "      <th>2019-02-28</th>\n",
       "      <td>101.25</td>\n",
       "    </tr>\n",
       "    <tr>\n",
       "      <th>2019-03-31</th>\n",
       "      <td>103.69</td>\n",
       "    </tr>\n",
       "    <tr>\n",
       "      <th>2019-04-30</th>\n",
       "      <td>118.13</td>\n",
       "    </tr>\n",
       "    <tr>\n",
       "      <th>2019-05-31</th>\n",
       "      <td>124.87</td>\n",
       "    </tr>\n",
       "    <tr>\n",
       "      <th>2019-06-30</th>\n",
       "      <td>127.68</td>\n",
       "    </tr>\n",
       "    <tr>\n",
       "      <th>2019-07-31</th>\n",
       "      <td>127.12</td>\n",
       "    </tr>\n",
       "    <tr>\n",
       "      <th>2019-08-31</th>\n",
       "      <td>129.44</td>\n",
       "    </tr>\n",
       "    <tr>\n",
       "      <th>2019-09-30</th>\n",
       "      <td>124.43</td>\n",
       "    </tr>\n",
       "    <tr>\n",
       "      <th>2019-10-31</th>\n",
       "      <td>125.22</td>\n",
       "    </tr>\n",
       "    <tr>\n",
       "      <th>2019-11-30</th>\n",
       "      <td>123.71</td>\n",
       "    </tr>\n",
       "    <tr>\n",
       "      <th>2019-12-31</th>\n",
       "      <td>123.54</td>\n",
       "    </tr>\n",
       "    <tr>\n",
       "      <th>2020-01-31</th>\n",
       "      <td>119.15</td>\n",
       "    </tr>\n",
       "  </tbody>\n",
       "</table>\n",
       "</div>"
      ],
      "text/plain": [
       "             Price\n",
       "Date              \n",
       "2019-01-31  100.83\n",
       "2019-02-28  101.25\n",
       "2019-03-31  103.69\n",
       "2019-04-30  118.13\n",
       "2019-05-31  124.87\n",
       "2019-06-30  127.68\n",
       "2019-07-31  127.12\n",
       "2019-08-31  129.44\n",
       "2019-09-30  124.43\n",
       "2019-10-31  125.22\n",
       "2019-11-30  123.71\n",
       "2019-12-31  123.54\n",
       "2020-01-31  119.15"
      ]
     },
     "execution_count": 7,
     "metadata": {},
     "output_type": "execute_result"
    }
   ],
   "source": [
    "sec_helper.get_security_statement('2020-01-31','AON UN Equity','px')"
   ]
  },
  {
   "cell_type": "code",
   "execution_count": 48,
   "id": "b8fb357b-065c-47f9-a0de-077ab895129a",
   "metadata": {},
   "outputs": [],
   "source": [
    "system_prompt = \"You are a financial analyst and must make a buy, sell or hold decision on a company based only on the provided datasets. \\\n",
    "        Compute common financial ratios and then determine the buy or sell decision. Explain your reasons in less than 500 words. Provide a \\\n",
    "        confidence score for how confident you are of the decision. If you are not confident then lower the confidence score. Provide your answer so it compiles to a JSON object. \\\n",
    "        Answer in the following JSON format only:\\\n",
    "        {'Decision': BUY, 'confidence score': 80, 'Reason': 'Gross profit and EPS have both increased over time'} \\\n",
    "        {'Decision': SELL, 'confidence score': 90, 'Reason': 'Price has declined and EPS is falling'}\"\n"
   ]
  },
  {
   "cell_type": "code",
   "execution_count": 49,
   "id": "eaed3958-56ad-43ca-92e1-17b6c3698e7e",
   "metadata": {},
   "outputs": [],
   "source": [
    "prompt = sec_helper.get_prompt('2020-01-31','AON UN Equity', system_prompt)"
   ]
  },
  {
   "cell_type": "code",
   "execution_count": 50,
   "id": "bc4ce7f3-45c8-4cd3-89fc-92044d7a9e60",
   "metadata": {},
   "outputs": [
    {
     "data": {
      "text/plain": [
       "[{'role': 'system',\n",
       "  'content': \"You are a financial analyst and must make a buy, sell or hold decision on a company based only on the provided datasets.         Compute common financial ratios and then determine the buy or sell decision. Explain your reasons in less than 500 words. Provide a         confidence score for how confident you are of the decision. If you are not confident then lower the confidence score. Provide your answer so it compiles to a JSON object.         Answer in the following JSON format only:        {'Decision': BUY, 'confidence score': 80, 'Reason': 'Gross profit and EPS have both increased over time'}         {'Decision': SELL, 'confidence score': 90, 'Reason': 'Price has declined and EPS is falling'}\"},\n",
       " {'role': 'user',\n",
       "  'content': 'Income Statement:                                                                 t           t-1           t-2           t-3           t-4           t-5\\n01 Revenue (Adj)                                      9.687000e+08  9.486000e+08  1.211200e+09  1.224800e+09  9.534000e+08  9.728000e+08\\n02 Sales and Services Revenues (Adj)                  9.687000e+08  9.486000e+08  1.211200e+09  1.224800e+09  9.534000e+08  9.728000e+08\\n05 Cost of Revenue (Adj)                              7.809000e+08  7.275000e+08  8.116000e+08  8.473000e+08  7.340000e+08  7.390000e+08\\n06 Cost of Goods & Services Sold (Adj)                7.809000e+08  7.275000e+08  8.116000e+08  8.473000e+08  7.340000e+08  7.390000e+08\\n08 Gross Profit (Adj)                                 1.878000e+08  2.211000e+08  3.996000e+08  3.775000e+08  2.194000e+08  2.338000e+08\\n10 Operating Expenses (Adj)                           1.610000e+08  1.480000e+08  1.588000e+08  1.439000e+08  1.412000e+08  1.337000e+08\\n11 Selling, General and Administrative Expense (Adj)  1.610000e+08  1.480000e+08  1.588000e+08  1.439000e+08  1.412000e+08  1.337000e+08\\n14 Operating Income or Losses (Adj)                   2.680000e+07  7.310000e+07  2.408000e+08  2.336000e+08  7.820000e+07  1.001000e+08\\n15 Non-Operating (Income) Loss (Adj)                  1.630000e+07  9.300000e+06  1.080000e+07  1.000000e+07  1.390000e+07  1.080000e+07\\n16 Net Interest Expense (Adj)                         1.390000e+07  1.310000e+07  1.140000e+07  1.000000e+07  1.070000e+07  9.600000e+06\\n17 Interest Expense (Adj)                             1.550000e+07  1.420000e+07  1.260000e+07  1.170000e+07  1.130000e+07  1.020000e+07\\n18 Interest Income (Adj)                              1.600000e+06  1.100000e+06  1.200000e+06  1.700000e+06  6.000000e+05  6.000000e+05\\n19 Foreign Exch Losses (Gains) (Adj)                  0.000000e+00  0.000000e+00  1.900000e+06  4.000000e+05  1.000000e+05 -4.000000e+05\\n20 Other Non-Operating (Income) Loss (Adj)            2.400000e+06 -3.800000e+06 -2.500000e+06 -1.500000e+06  1.500000e+06  2.000000e+05\\n21 Pretax Income (Loss), Adjusted (Adj)               1.050000e+07  6.380000e+07  2.300000e+08  2.236000e+08  6.430000e+07  8.930000e+07\\n22 Abnormal Losses (Gains)                            6.860000e+07  2.500000e+06  3.200000e+06  9.000000e+05  1.300000e+06  9.000000e+05\\n23 Merger / Acquisition Expense                       3.400000e+06  2.500000e+06  3.200000e+06  9.000000e+05  1.300000e+06  9.000000e+05\\n27 Other Abnormal Items                               3.340000e+07  0.000000e+00  0.000000e+00  0.000000e+00  0.000000e+00  0.000000e+00\\n28 Pretax Income (Loss), GAAP                         1.050000e+07  6.380000e+07  2.300000e+08  2.236000e+08  6.430000e+07  8.930000e+07\\n29 Income Tax Expense (Benefit)                       4.000000e+05  7.900000e+06  4.680000e+07  5.140000e+07  1.440000e+07  1.260000e+07\\n32 Income (Loss) from Continuing Operations           1.010000e+07  5.590000e+07  1.832000e+08  1.722000e+08  4.990000e+07  7.670000e+07\\n36 Net Income Including Minority Interest             1.010000e+07  5.590000e+07  1.832000e+08  1.722000e+08  4.990000e+07  7.670000e+07\\n37 Net Income/Net Profit (Losses)                     1.010000e+07  5.590000e+07  1.832000e+08  1.722000e+08  4.990000e+07  7.670000e+07\\n40 Net Income Avail to Common, GAAP                   1.010000e+07  5.590000e+07  1.832000e+08  1.722000e+08  4.990000e+07  7.670000e+07\\n41 Net Income Avail to Common, Adj (Adj)              1.010000e+07  5.590000e+07  1.832000e+08  1.722000e+08  4.990000e+07  7.670000e+07\\n42 Net Abnormal Losses (Gains)                        5.195807e+07 -3.731046e+06  2.384791e+06 -5.244910e+06  9.951327e+05  7.026316e+05\\n45 Basic Earnings per Share                           9.000000e-02  4.900000e-01  1.590000e+00  1.490000e+00  4.300000e-01  6.600000e-01\\n46 Basic EPS from Continuing Operations               9.000000e-02  4.900000e-01  1.590000e+00  1.490000e+00  4.300000e-01  6.600000e-01\\n47 Basic EPS from Continuing Operations               5.410470e-01  4.560220e-01  1.609582e+00  1.443000e+00  4.376190e-01  6.649710e-01\\n49 Diluted EPS                                        9.000000e-02  4.800000e-01  1.550000e+00  1.450000e+00  4.200000e-01  6.400000e-01\\n50 Diluted EPS from Continuing Operations             9.000000e-02  4.800000e-01  1.550000e+00  1.450000e+00  4.200000e-01  6.400000e-01\\n51 Diluted EPS from Continuing Operations, Adj        5.333280e-01  4.481380e-01  1.570244e+00  1.405739e+00  4.283550e-01  6.458700e-01\\n Balance Sheet:                                                t           t-1           t-2           t-3           t-4           t-5\\n01 Cash, Cash Equivalents & STI     2.340000e+08  3.583000e+08  2.732000e+08  2.921000e+08  2.498000e+08  2.047000e+08\\n02 Cash & Cash Equivalents          2.340000e+08  3.583000e+08  2.732000e+08  2.921000e+08  2.498000e+08  2.047000e+08\\n04 Accounts & Notes Receiv          6.160000e+08  6.007000e+08  6.640000e+08  7.928000e+08  6.074000e+08  6.501000e+08\\n10 Other ST Assets                  1.606000e+08  1.361000e+08  1.051000e+08  1.105000e+08  1.092000e+08  1.131000e+08\\n13 Misc ST Assets                   1.606000e+08  1.361000e+08  1.051000e+08  1.105000e+08  1.092000e+08  1.131000e+08\\n14 Total Current Assets             1.010600e+09  1.095100e+09  1.042300e+09  1.195400e+09  9.664000e+08  9.679000e+08\\n15 Property, Plant & Equip, Net     3.733000e+08  4.143000e+08  1.889000e+08  1.834000e+08  1.879000e+08  1.925000e+08\\n16 Property, Plant & Equip          0.000000e+00  0.000000e+00  6.128000e+08  0.000000e+00  0.000000e+00  0.000000e+00\\n17 Accumulated Depreciation         0.000000e+00  0.000000e+00  4.239000e+08  0.000000e+00  0.000000e+00  0.000000e+00\\n18 LT Investments & Receivables     1.367000e+08  1.332000e+08  1.004000e+08  9.370000e+07  8.500000e+07  8.860000e+07\\n20 Other LT Assets                  2.864000e+09  2.577500e+09  2.549100e+09  2.129600e+09  2.118300e+09  2.132700e+09\\n21 Total Intangible Assets          2.272000e+09  2.041900e+09  2.056200e+09  1.683700e+09  1.699700e+09  1.728800e+09\\n22 Goodwill                         1.660800e+09  1.495100e+09  1.500000e+09  1.256600e+09  1.254300e+09  1.258000e+09\\n23 Other Intangible Assets          6.112000e+08  5.468000e+08  5.562000e+08  4.271000e+08  4.454000e+08  4.708000e+08\\n24 Deferred Tax Assets              0.000000e+00  0.000000e+00  5.500000e+06  0.000000e+00  0.000000e+00  0.000000e+00\\n28 Misc LT Assets                   5.920000e+08  5.356000e+08  4.874000e+08  4.459000e+08  4.186000e+08  4.039000e+08\\n29 Total Noncurrent Assets          3.374000e+09  3.125000e+09  2.838400e+09  2.406700e+09  2.391200e+09  2.413800e+09\\n30 Total Assets                     4.384600e+09  4.220100e+09  3.880700e+09  3.602100e+09  3.357600e+09  3.381700e+09\\n31 Payables & Accruals              5.855000e+08  5.180000e+08  7.117000e+08  6.105000e+08  5.091000e+08  4.718000e+08\\n32 Accounts Payable                 9.270000e+07  8.960000e+07  1.337000e+08  1.519000e+08  1.375000e+08  1.284000e+08\\n33 Accrued Taxes                    2.210000e+07  2.230000e+07  6.890000e+07  2.380000e+07  1.830000e+07  1.660000e+07\\n34 Interest & Dividends Payable     6.200000e+07  6.180000e+07  5.540000e+07  5.610000e+07  5.610000e+07  5.650000e+07\\n35 Other Payables & Accruals        4.087000e+08  3.443000e+08  4.537000e+08  3.787000e+08  2.972000e+08  2.703000e+08\\n36 ST Debt                          4.294000e+08  4.293000e+08  0.000000e+00  0.000000e+00  0.000000e+00  0.000000e+00\\n39 ST Operating Leases              2.990000e+07  2.990000e+07  0.000000e+00  0.000000e+00  0.000000e+00  0.000000e+00\\n40 Current Portion of LT Debt       3.995000e+08  3.994000e+08  0.000000e+00  0.000000e+00  0.000000e+00  0.000000e+00\\n41 Other ST Liabilities             1.099000e+08  9.360000e+07  9.090000e+07  9.470000e+07  8.880000e+07  1.015000e+08\\n42 Deferred Revenue                 1.099000e+08  9.360000e+07  9.090000e+07  9.470000e+07  8.880000e+07  1.015000e+08\\n46 Total Current Liabilities        1.124800e+09  1.040900e+09  8.026000e+08  7.052000e+08  5.979000e+08  5.733000e+08\\n47 LT Debt                          1.672200e+09  1.583700e+09  1.470400e+09  1.174400e+09  1.194100e+09  1.143700e+09\\n48 LT Borrowings                    1.449300e+09  1.368800e+09  1.470400e+09  1.174400e+09  1.194100e+09  1.143700e+09\\n50 LT Operating Leases              2.229000e+08  2.149000e+08  0.000000e+00  0.000000e+00  0.000000e+00  0.000000e+00\\n51 Other LT Liabilities             4.622000e+08  4.521000e+08  4.802000e+08  4.569000e+08  4.430000e+08  4.307000e+08\\n54 Deferred Revenue                 1.503000e+08  1.547000e+08  1.607000e+08  1.586000e+08  1.692000e+08  1.386000e+08\\n57 Misc LT Liabilities              2.130000e+08  2.014000e+08  2.328000e+08  1.974000e+08  1.998000e+08  2.079000e+08\\n58 Total Noncurrent Liabilities     2.134400e+09  2.035800e+09  1.950600e+09  1.631300e+09  1.637100e+09  1.574400e+09\\n59 Total Liabilities                3.259200e+09  3.076700e+09  2.753200e+09  2.336500e+09  2.235000e+09  2.147700e+09\\n61 Share Capital & APIC             1.151700e+09  1.132700e+09  1.110900e+09  1.109200e+09  1.089400e+09  1.070700e+09\\n62 Common Stock                     1.600000e+06  1.600000e+06  1.600000e+06  1.600000e+06  1.600000e+06  1.600000e+06\\n63 Additional Paid in Capital       1.150100e+09  1.131100e+09  1.109300e+09  1.107600e+09  1.087800e+09  1.069100e+09\\n64 Treasury Stock                   1.988700e+09  1.991600e+09  1.999800e+09  1.739200e+09  1.741400e+09  1.623200e+09\\n65 Retained Earnings                2.030100e+09  2.081800e+09  2.087600e+09  1.959900e+09  1.843800e+09  1.850000e+09\\n66 Other Equity                    -6.770000e+07 -7.950000e+07 -7.120000e+07 -6.430000e+07 -6.920000e+07 -6.350000e+07\\n67 Equity Before Minority Interest  1.125400e+09  1.143400e+09  1.127500e+09  1.265600e+09  1.122600e+09  1.234000e+09\\n69 Total Equity                     1.125400e+09  1.143400e+09  1.127500e+09  1.265600e+09  1.122600e+09  1.234000e+09\\n70 Total Liabilities & Equity       4.384600e+09  4.220100e+09  3.880700e+09  3.602100e+09  3.357600e+09  3.381700e+09\\n Historical Price:              Price\\nDate              \\n2019-01-31  100.83\\n2019-02-28  101.25\\n2019-03-31  103.69\\n2019-04-30  118.13\\n2019-05-31  124.87\\n2019-06-30  127.68\\n2019-07-31  127.12\\n2019-08-31  129.44\\n2019-09-30  124.43\\n2019-10-31  125.22\\n2019-11-30  123.71\\n2019-12-31  123.54\\n2020-01-31  119.15'}]"
      ]
     },
     "execution_count": 50,
     "metadata": {},
     "output_type": "execute_result"
    }
   ],
   "source": [
    "prompt"
   ]
  },
  {
   "cell_type": "markdown",
   "id": "30342446-1709-4731-bb97-37a1a94dd62a",
   "metadata": {},
   "source": [
    "## Run an example in LLM\n",
    "\n",
    "Run into out of memory problem - Potential fixes:\n",
    "1. reduce size of model (quantize)\n",
    "2. explore multi-gpu\n",
    "3. reduce tokens\n",
    "\n",
    "https://saturncloud.io/blog/how-to-solve-cuda-out-of-memory-error-in-pytorch/\n",
    "\n",
    "https://huggingface.co/docs/accelerate/usage_guides/distributed_inference\n",
    "\n",
    "https://medium.com/@geronimo7/llms-multi-gpu-inference-with-accelerate-5a8333e4c5db\n",
    "\n",
    "Problem with splitting a single prompt into multiple gpus to calculate the result. Tensor parallelism - https://huggingface.co/docs/transformers/main/en/perf_train_gpu_many#tensor-parallelism\n",
    "\n",
    "nvidia-smi will show available GPUs on the system."
   ]
  },
  {
   "cell_type": "code",
   "execution_count": 76,
   "id": "65bdd957-b664-4a91-ba34-a6761f2e8dcb",
   "metadata": {},
   "outputs": [],
   "source": [
    "accelerator = Accelerator()"
   ]
  },
  {
   "cell_type": "code",
   "execution_count": 77,
   "id": "9b1da8b9-f9ea-473c-8b6a-c219869f774a",
   "metadata": {},
   "outputs": [],
   "source": [
    "a_model = accelerator.prepare(model)"
   ]
  },
  {
   "cell_type": "code",
   "execution_count": 52,
   "id": "07d28e1b-a906-43ae-9c18-9cae74521c99",
   "metadata": {},
   "outputs": [],
   "source": [
    "tokens = tokenizer.apply_chat_template(prompt, tokenize=True)"
   ]
  },
  {
   "cell_type": "code",
   "execution_count": 53,
   "id": "04349927-d6b1-49fc-8a9a-32466643c39f",
   "metadata": {},
   "outputs": [
    {
     "data": {
      "text/plain": [
       "5165"
      ]
     },
     "execution_count": 53,
     "metadata": {},
     "output_type": "execute_result"
    }
   ],
   "source": [
    "len(tokens)"
   ]
  },
  {
   "cell_type": "code",
   "execution_count": 27,
   "id": "4396aaf6-8bc5-40e3-8b66-d740b9499d92",
   "metadata": {},
   "outputs": [],
   "source": [
    "def format_json(llm_output):\n",
    "    form = llm_output['content'].replace('\\n','')\n",
    "    eoj = form.find('}```')\n",
    "    additional = form[eoj + 4:]\n",
    "    json_obj = json.loads(form[7:eoj + 1])\n",
    "    json_obj['AdditionalContext'] = additional\n",
    "    return json_obj"
   ]
  },
  {
   "cell_type": "code",
   "execution_count": 45,
   "id": "03f99dea-6898-4615-9d3e-efa5765e0b83",
   "metadata": {},
   "outputs": [
    {
     "name": "stderr",
     "output_type": "stream",
     "text": [
      "Setting `pad_token_id` to `eos_token_id`:128001 for open-end generation.\n"
     ]
    },
    {
     "data": {
      "text/markdown": [
       "To make a buy, sell, or hold decision on the company, I will compute common financial ratios and analyze the data.\n",
       "\n",
       "**Financial Ratios:**\n",
       "\n",
       "1. **Gross Margin Ratio**: (Gross Profit / Revenue) = (1.878e+08 / 9.687e+08) = 0.193\n",
       "2. **Operating Margin Ratio**: (Operating Income / Revenue) = (2.680e+07 / 9.687e+08) = 0.0277\n",
       "3. **Return on Equity (ROE)**: (Net Income / Total Equity) = (1.010e+07 / 1.125e+09) = 0.0090\n",
       "4. **Debt-to-Equity Ratio**: (Total Liabilities / Total Equity) = (3.259e+09 / 1.125e+09) = 2.89\n",
       "5. **Current Ratio**: (Current Assets / Current Liabilities) = (1.010e+09 / 1.124e+09) = 0.90\n",
       "\n",
       "**Analysis:**\n",
       "\n",
       "Based on the financial ratios, the company has:\n",
       "\n",
       "* A relatively high gross margin ratio of 0.193, indicating a good ability to maintain pricing power.\n",
       "* A relatively low operating margin ratio of 0.0277, indicating a need to improve operational efficiency.\n",
       "* A relatively low return on equity (ROE) of 0.0090, indicating a need to improve profitability.\n",
       "* A relatively high debt-to-equity ratio of 2.89, indicating a high level of debt and potential risk.\n",
       "* A relatively low current ratio of 0.90, indicating a need to improve liquidity.\n",
       "\n",
       "**Decision:**\n",
       "\n",
       "Based on the analysis, I would recommend a **BUY** decision with a confidence score of 80. The company's high gross margin ratio and relatively low debt-to-equity ratio are positive indicators. However, the low operating margin ratio and high debt-to-equity ratio are concerns that need to be addressed.\n",
       "\n",
       "**JSON Response:**\n",
       "\n",
       "```json\n",
       "{\n",
       "  \"Decision\": \"BUY\",\n",
       "  \"confidence score\": 80,\n",
       "  \"Reason\": \"Gross profit and EPS have both increased over time, but there are concerns about operational efficiency and debt levels.\"\n",
       "}\n",
       "```\n",
       "\n",
       "Note: The confidence score is subjective and based on my analysis of the data. It may vary depending on individual perspectives and market conditions."
      ],
      "text/plain": [
       "<IPython.core.display.Markdown object>"
      ]
     },
     "metadata": {},
     "output_type": "display_data"
    }
   ],
   "source": [
    "formatted_chat = tokenizer.apply_chat_template(prompt, tokenize=False, add_generation_prompt=True)\n",
    "outputs = pipeline(\n",
    "    prompt,\n",
    "    max_new_tokens=1000,\n",
    ")\n",
    "\n",
    "test_output = outputs[0]['generated_text'][-1]\n",
    "display(Markdown(test_output['content']))"
   ]
  },
  {
   "cell_type": "code",
   "execution_count": 46,
   "id": "fdf8e53e-7b1d-4bdd-b3ef-e2e4a2a40998",
   "metadata": {},
   "outputs": [],
   "source": [
    "#display(format_json(test_output))"
   ]
  },
  {
   "cell_type": "code",
   "execution_count": 47,
   "id": "c658ab2a-9d50-4e70-b346-6b361baaa23f",
   "metadata": {},
   "outputs": [
    {
     "data": {
      "text/plain": [
       "{'role': 'assistant',\n",
       " 'content': 'To make a buy, sell, or hold decision on the company, I will compute common financial ratios and analyze the data.\\n\\n**Financial Ratios:**\\n\\n1. **Gross Margin Ratio**: (Gross Profit / Revenue) = (1.878e+08 / 9.687e+08) = 0.193\\n2. **Operating Margin Ratio**: (Operating Income / Revenue) = (2.680e+07 / 9.687e+08) = 0.0277\\n3. **Return on Equity (ROE)**: (Net Income / Total Equity) = (1.010e+07 / 1.125e+09) = 0.0090\\n4. **Debt-to-Equity Ratio**: (Total Liabilities / Total Equity) = (3.259e+09 / 1.125e+09) = 2.89\\n5. **Current Ratio**: (Current Assets / Current Liabilities) = (1.010e+09 / 1.124e+09) = 0.90\\n\\n**Analysis:**\\n\\nBased on the financial ratios, the company has:\\n\\n* A relatively high gross margin ratio of 0.193, indicating a good ability to maintain pricing power.\\n* A relatively low operating margin ratio of 0.0277, indicating a need to improve operational efficiency.\\n* A relatively low return on equity (ROE) of 0.0090, indicating a need to improve profitability.\\n* A relatively high debt-to-equity ratio of 2.89, indicating a high level of debt and potential risk.\\n* A relatively low current ratio of 0.90, indicating a need to improve liquidity.\\n\\n**Decision:**\\n\\nBased on the analysis, I would recommend a **BUY** decision with a confidence score of 80. The company\\'s high gross margin ratio and relatively low debt-to-equity ratio are positive indicators. However, the low operating margin ratio and high debt-to-equity ratio are concerns that need to be addressed.\\n\\n**JSON Response:**\\n\\n```json\\n{\\n  \"Decision\": \"BUY\",\\n  \"confidence score\": 80,\\n  \"Reason\": \"Gross profit and EPS have both increased over time, but there are concerns about operational efficiency and debt levels.\"\\n}\\n```\\n\\nNote: The confidence score is subjective and based on my analysis of the data. It may vary depending on individual perspectives and market conditions.'}"
      ]
     },
     "execution_count": 47,
     "metadata": {},
     "output_type": "execute_result"
    }
   ],
   "source": [
    "test_output"
   ]
  },
  {
   "cell_type": "code",
   "execution_count": null,
   "id": "4a3f658c-98c0-4a73-81c6-5fb79959f356",
   "metadata": {},
   "outputs": [],
   "source": []
  },
  {
   "cell_type": "code",
   "execution_count": 78,
   "id": "0194ac8a-bd22-4907-8f85-f0696d66ad83",
   "metadata": {},
   "outputs": [
    {
     "name": "stdout",
     "output_type": "stream",
     "text": [
      "['Hello this is GPU 0']\n"
     ]
    }
   ],
   "source": [
    "from accelerate import Accelerator\n",
    "from accelerate.utils import gather_object\n",
    "\n",
    "accelerator = Accelerator()\n",
    "\n",
    "# each GPU creates a string\n",
    "message=[ f\"Hello this is GPU {accelerator.process_index}\" ] \n",
    "\n",
    "# collect the messages from all GPUs\n",
    "messages=gather_object(message)\n",
    "\n",
    "# output the messages only on the main process with accelerator.print() \n",
    "accelerator.print(messages)"
   ]
  },
  {
   "cell_type": "code",
   "execution_count": 81,
   "id": "7009cdc4-5d93-4e06-a270-c65cf529eb33",
   "metadata": {},
   "outputs": [],
   "source": [
    "t = torch.cuda.get_device_properties(0).total_memory\n",
    "r = torch.cuda.memory_reserved(0)\n",
    "a = torch.cuda.memory_allocated(0)\n",
    "f = r-a  # free inside reserved"
   ]
  },
  {
   "cell_type": "code",
   "execution_count": 82,
   "id": "123447f1-d80a-4201-9b79-6c961a0dd1fe",
   "metadata": {},
   "outputs": [
    {
     "data": {
      "text/plain": [
       "1251859968"
      ]
     },
     "execution_count": 82,
     "metadata": {},
     "output_type": "execute_result"
    }
   ],
   "source": [
    "f"
   ]
  },
  {
   "cell_type": "code",
   "execution_count": 83,
   "id": "991c90c1-fd0b-42cf-b163-8d2170ef78d7",
   "metadata": {},
   "outputs": [
    {
     "data": {
      "text/plain": [
       "(124846080, 23609475072)"
      ]
     },
     "execution_count": 83,
     "metadata": {},
     "output_type": "execute_result"
    }
   ],
   "source": [
    "torch.cuda.mem_get_info()"
   ]
  },
  {
   "cell_type": "code",
   "execution_count": 84,
   "id": "d31398b0-e841-4469-847d-62d60d55ccf7",
   "metadata": {},
   "outputs": [],
   "source": [
    "torch.cuda.empty_cache()"
   ]
  },
  {
   "cell_type": "code",
   "execution_count": null,
   "id": "6508b723-ead0-49f3-b82b-e08f0303188a",
   "metadata": {},
   "outputs": [],
   "source": []
  }
 ],
 "metadata": {
  "kernelspec": {
   "display_name": "BQuant Python 3",
   "language": "python",
   "name": "remote-jupyterpython"
  },
  "language_info": {
   "codemirror_mode": {
    "name": "ipython",
    "version": 3
   },
   "file_extension": ".py",
   "mimetype": "text/x-python",
   "name": "python",
   "nbconvert_exporter": "python",
   "pygments_lexer": "ipython3",
   "version": "3.11.8"
  }
 },
 "nbformat": 4,
 "nbformat_minor": 5
}
