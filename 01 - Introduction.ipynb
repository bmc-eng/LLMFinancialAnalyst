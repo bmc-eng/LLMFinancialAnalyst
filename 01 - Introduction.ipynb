{
 "cells": [
  {
   "cell_type": "markdown",
   "id": "80d06ec8-84a9-44f2-b70c-602821cea0fb",
   "metadata": {},
   "source": [
    "# FinancialAnalystAgent - An Agentic System to Investigate the use of LLMs in Financial Analysis\n",
    "\n",
    "This project consists of multiple Jupyter Notebooks and python files that have been used to research three questions related to the use of LLMs to replicate the workflows of an equity financial analyst.\n",
    "\n",
    "The three questions are:\n",
    "\n",
    "1. Analysis of single LLM for stock price prediction and earnings estimates in line with Kim et al (2024). This will be compared to a baseline of consensus estimates from human analysts. We shall also discuss a comparison of open source and closed source models.\n",
    "2. Analysis of fine-tuned single LLM to improve the performance of an open-sourced model for earnings estimates and come close to the ability of the model to closed-source.\n",
    "3. Multi-agentic, multi-modal approach to improve the performance by including news and additional industry information in the model and a combination of open-source and closed source models.\n",
    "\n",
    "This project requires additional modules to be installed. The cells below should be run depending on whether the project is being run for the Agentic system or run for the Analysis.\n"
   ]
  },
  {
   "cell_type": "markdown",
   "id": "71dd7b9e-4fa9-4497-ac2a-3a081222c951",
   "metadata": {},
   "source": [
    "### Agentic Modules:"
   ]
  },
  {
   "cell_type": "code",
   "execution_count": 1,
   "id": "cbb0c79e-9d08-43ef-bf61-dfa3b1e0b474",
   "metadata": {},
   "outputs": [
    {
     "name": "stdout",
     "output_type": "stream",
     "text": [
      "\u001b[31mERROR: pip's dependency resolver does not currently take into account all the packages that are installed. This behaviour is the source of the following dependency conflicts.\n",
      "aiobotocore 2.13.3 requires botocore<1.34.163,>=1.34.70, but you have botocore 1.38.4 which is incompatible.\u001b[0m\u001b[31m\n",
      "\u001b[0m"
     ]
    }
   ],
   "source": [
    "!pip -q install langgraph langchain_aws langchain-huggingface langchain"
   ]
  },
  {
   "cell_type": "markdown",
   "id": "6d2e70c7-1932-48aa-a507-9c37f57459c0",
   "metadata": {},
   "source": [
    "### Analysis Modules:"
   ]
  },
  {
   "cell_type": "code",
   "execution_count": null,
   "id": "1d0238dc-d2e0-4bde-a780-c73f728db595",
   "metadata": {},
   "outputs": [],
   "source": [
    "# Install signal_lab if it isn't already loaded\n",
    "%package install bloomberg.bquant.signal_lab=1.5.2"
   ]
  }
 ],
 "metadata": {
  "kernelspec": {
   "display_name": "Bloomberg Lab Python 3",
   "language": "python",
   "name": "remote-jupyterpython"
  },
  "language_info": {
   "codemirror_mode": {
    "name": "ipython",
    "version": 3
   },
   "file_extension": ".py",
   "mimetype": "text/x-python",
   "name": "python",
   "nbconvert_exporter": "python",
   "pygments_lexer": "ipython3",
   "version": "3.9.12"
  }
 },
 "nbformat": 4,
 "nbformat_minor": 5
}
