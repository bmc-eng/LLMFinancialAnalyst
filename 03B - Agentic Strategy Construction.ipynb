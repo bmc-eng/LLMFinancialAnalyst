{
 "cells": [
  {
   "cell_type": "markdown",
   "id": "57fce2b8-c8d6-42a6-8f88-ab5ff1ef0f6d",
   "metadata": {},
   "source": [
    "# Agentic Strategy Construction Tool\n",
    "This is to produce trade reports that can be used in the evaluation section to backtest. An output example is at the bottom of this notebook to show the agentic decision making process in more detail."
   ]
  },
  {
   "cell_type": "code",
   "execution_count": 1,
   "id": "54f3d6fd-72dd-4c1e-9933-1a34794338e8",
   "metadata": {},
   "outputs": [],
   "source": [
    "import copy\n",
    "import pandas as pd\n",
    "import requesters.company_data as cd\n",
    "import agents.financial_agent as fa\n",
    "import agents.committee_agent as ca\n",
    "import importlib\n",
    "from tqdm import tqdm\n",
    "import json\n",
    "\n",
    "from utils.s3_helper import S3Helper\n",
    "from datetime import datetime\n",
    "\n",
    "import concurrent.futures\n"
   ]
  },
  {
   "cell_type": "code",
   "execution_count": 19,
   "id": "40fe4c19-7fa3-4e50-9fd3-1c784563a407",
   "metadata": {},
   "outputs": [
    {
     "data": {
      "text/plain": [
       "<module 'requesters.company_data' from '/project/requesters/company_data.py'>"
      ]
     },
     "execution_count": 19,
     "metadata": {},
     "output_type": "execute_result"
    }
   ],
   "source": [
    "importlib.reload(fa)\n",
    "importlib.reload(ca)\n",
    "importlib.reload(cd)"
   ]
  },
  {
   "cell_type": "markdown",
   "id": "571bb9ac-6dfe-4ed9-8dc7-cf47e90267ae",
   "metadata": {},
   "source": [
    "### Collect the data needed to run the Agents\n",
    "The Agents will require financial statement datasets and news datasets in order to conduct their analysis."
   ]
  },
  {
   "cell_type": "code",
   "execution_count": 3,
   "id": "d149871e-47f3-4bda-98b9-10aa13aec9ea",
   "metadata": {},
   "outputs": [],
   "source": [
    "# Get the company reports\n",
    "security_datasets = cd.SecurityData('tmp/fs', 'dow_quarterly_ltm_v3.json')\n",
    "# get the saved news datasets\n",
    "s3_helper = S3Helper('tmp/fs')\n",
    "s3_helper.get_file(filename='dow_headlines.parquet', local_filename='/tmp/dow_headlines.parquet')\n",
    "# Convert to pandas dataframe\n",
    "news_headlines = pd.read_parquet('/tmp/dow_headlines.parquet')"
   ]
  },
  {
   "cell_type": "markdown",
   "id": "2261dadb-3bb3-42e3-9ee9-c2cad1bd23e5",
   "metadata": {},
   "source": [
    "### Setup the Agentic Models\n",
    "Running the inference tasks across 893 date/ security combinations in 1:32h."
   ]
  },
  {
   "cell_type": "code",
   "execution_count": 20,
   "id": "67c8ff94-60c3-46d3-8378-d2fb3f69c4d4",
   "metadata": {},
   "outputs": [],
   "source": [
    "financial_agent = fa.FinancialAnalystAgent()\n",
    "committee_agent = ca.CommitteeAgent()"
   ]
  },
  {
   "cell_type": "code",
   "execution_count": 21,
   "id": "e2bbb33a-04a2-46f2-b007-23b46f07a353",
   "metadata": {},
   "outputs": [],
   "source": [
    "def run_single(security: str, as_of_date: str) -> dict:\n",
    "    \"\"\"\n",
    "    Function to run a single run of the Agent\n",
    "    \"\"\"\n",
    "    company_data = security_datasets.get_security_all_data(as_of_date, security)\n",
    "    # Time the run\n",
    "    start_time = datetime.now()\n",
    "    # Run the financial analyst agent\n",
    "    financial_report = financial_agent.run(security_data=company_data, \n",
    "                                       news_data=news_headlines, \n",
    "                                       as_of_date=as_of_date)\n",
    "    # Run the committee agent\n",
    "    committee_report = committee_agent.run(senior_analyst_report=financial_report['senior_report'],\n",
    "                                           financial_statement_analysis=financial_report['financial_report'],\n",
    "                                           security_data=company_data)\n",
    "    end_time = datetime.now()\n",
    "    decision_dict = {\n",
    "        'date': as_of_date,\n",
    "        'security': security,\n",
    "        'earning_decision': financial_report['final_output'].direction,\n",
    "        'earning_magnitude': financial_report['final_output'].magnitude,\n",
    "        'earning_confidence': financial_report['final_output'].confidence,\n",
    "        'recommendation': committee_report['results'].recommendation,\n",
    "        \n",
    "        'responses': {'financial_analyst': financial_report,\n",
    "                     'committee_report': committee_report},\n",
    "        'time': str(end_time - start_time)\n",
    "    }\n",
    "    return decision_dict\n",
    "    \n",
    "    "
   ]
  },
  {
   "cell_type": "code",
   "execution_count": 22,
   "id": "171f1163-d588-40d7-bc14-1e38de2f3ca1",
   "metadata": {},
   "outputs": [],
   "source": [
    "# Set up the securities and security information \n",
    "dates_and_securities = security_datasets.date_security_timeseries()\n"
   ]
  },
  {
   "cell_type": "markdown",
   "id": "6f19e1d5-17c6-4441-9bdb-1ab81fbfa59f",
   "metadata": {},
   "source": [
    "### Run a single security"
   ]
  },
  {
   "cell_type": "code",
   "execution_count": 24,
   "id": "2c664118-ddd8-4ef6-aeae-4549c6efe6ec",
   "metadata": {},
   "outputs": [
    {
     "name": "stdout",
     "output_type": "stream",
     "text": [
      "CPU times: user 9.28 s, sys: 191 ms, total: 9.47 s\n",
      "Wall time: 3min 20s\n"
     ]
    }
   ],
   "source": [
    "%%time\n",
    "# Pick a test security\n",
    "test_security = dates_and_securities[20]\n",
    "# Run for a single date/ security\n",
    "test_output = run_single(test_security['security'],test_security['date'])"
   ]
  },
  {
   "cell_type": "code",
   "execution_count": 25,
   "id": "f7c30730-d1a2-455e-8a7a-a3d2e96a4609",
   "metadata": {},
   "outputs": [
    {
     "data": {
      "text/plain": [
       "'SELL'"
      ]
     },
     "execution_count": 25,
     "metadata": {},
     "output_type": "execute_result"
    }
   ],
   "source": [
    "#dict_keys(['date', 'security', 'earning_decision', 'earning_magnitude', 'earning_confidence', 'recommendation', 'responses', 'time'])\n",
    "test_output['recommendation']"
   ]
  },
  {
   "cell_type": "markdown",
   "id": "dec7f418-e6c7-47a0-ac65-639493c46a21",
   "metadata": {},
   "source": [
    "### Run the backtest\n",
    "This will run across multiple threads to speed up the process. Results are collected in the data_output list."
   ]
  },
  {
   "cell_type": "code",
   "execution_count": 26,
   "id": "e3adeff4-dd47-41d2-a064-589c9cc536bb",
   "metadata": {},
   "outputs": [],
   "source": [
    "data_output = []\n",
    "def backtest(dates_and_securities):\n",
    "    # create the securities\n",
    "    progress = tqdm(total=len(dates_and_securities), position=0, leave=True)\n",
    "    # Run on 20 threads to speed up execution\n",
    "    with concurrent.futures.ThreadPoolExecutor(max_workers=20) as executor:\n",
    "        futures = [executor.submit(run_single, single['security'], single['date']) for single in dates_and_securities]\n",
    "        for f in concurrent.futures.as_completed(futures):\n",
    "            progress.update(n=1)\n",
    "            data_output.append(f.result())\n",
    "        "
   ]
  },
  {
   "cell_type": "code",
   "execution_count": 45,
   "id": "a3533ae3-f9e3-407b-a968-90561b538d70",
   "metadata": {},
   "outputs": [
    {
     "name": "stderr",
     "output_type": "stream",
     "text": [
      " 31%|███▏      | 123/393 [1:17:25<2:49:57, 37.77s/it]\n",
      "100%|██████████| 212/212 [29:49<00:00,  8.44s/it] \n"
     ]
    }
   ],
   "source": [
    "# Run the backtest\n",
    "backtest(dates_and_securities)"
   ]
  },
  {
   "cell_type": "code",
   "execution_count": 46,
   "id": "b5709c93-2091-45e2-be5b-444fb4442129",
   "metadata": {},
   "outputs": [
    {
     "data": {
      "text/plain": [
       "816"
      ]
     },
     "execution_count": 46,
     "metadata": {},
     "output_type": "execute_result"
    }
   ],
   "source": [
    "len(data_output)"
   ]
  },
  {
   "cell_type": "markdown",
   "id": "ed59a7b4-d3d6-407d-aee3-2341e7ba797f",
   "metadata": {},
   "source": [
    "### Save the raw output to S3"
   ]
  },
  {
   "cell_type": "code",
   "execution_count": 47,
   "id": "4eb0e20d-c8db-4419-a820-e7a4702bda41",
   "metadata": {},
   "outputs": [],
   "source": [
    "data_analysis_final = copy.deepcopy(data_output)"
   ]
  },
  {
   "cell_type": "code",
   "execution_count": 48,
   "id": "eaafa0d7-f0ec-4d85-a46d-631b0910c777",
   "metadata": {},
   "outputs": [],
   "source": [
    "# Some of the items are not serializable. Convert to string before JSON\n",
    "for item in data_analysis_final:\n",
    "    item['responses']['financial_analyst']['final_output'] = str(item['responses']['financial_analyst']['final_output'])\n",
    "    item['responses']['committee_report']['results'] = str(item['responses']['committee_report']['results'])\n",
    "    item['responses']['committee_report']['history'] = str(item['responses']['committee_report']['history'])\n",
    "    item['time']=str(item['time'])"
   ]
  },
  {
   "cell_type": "code",
   "execution_count": 49,
   "id": "52e224e8-fc98-4ca6-ac36-37ae04141177",
   "metadata": {},
   "outputs": [],
   "source": [
    "with open('/tmp/agentic_output_llama_v6.json', 'w') as f:\n",
    "    json.dump(data_analysis_final, f)"
   ]
  },
  {
   "cell_type": "code",
   "execution_count": 50,
   "id": "19a8cb52-5f8f-4768-9715-e3e4c14209ad",
   "metadata": {},
   "outputs": [],
   "source": [
    "s3_helper.add_file(local_filename='/tmp/agentic_output_llama_v6.json')"
   ]
  },
  {
   "cell_type": "markdown",
   "id": "c6daa36b-c59a-4a4e-a40b-e59ee5bd750b",
   "metadata": {},
   "source": [
    "### Create the Trade Report"
   ]
  },
  {
   "cell_type": "code",
   "execution_count": 52,
   "id": "eac0b849-f701-454c-a279-6d0b92b8ea39",
   "metadata": {},
   "outputs": [],
   "source": [
    "def trade_report_generation(data, trade_only=False) -> pd.DataFrame:\n",
    "    \"\"\"\n",
    "    Function to create the trade report to pass into the Strategy Analysis tool\n",
    "    \"\"\"\n",
    "    trade_report = []\n",
    "    if trade_only:\n",
    "        for item in data:\n",
    "            trade_report.append({'date': item['date'], \n",
    "                                 'security': item['security'], \n",
    "                                 'decision': item['recommendation'],\n",
    "                                 'confidence': item['earning_confidence']})\n",
    "    \n",
    "        return pd.DataFrame(data=trade_report)\n",
    "    else:\n",
    "        for item in data:\n",
    "            trade_report.append({'date': item['date'], \n",
    "                                 'security': item['security'], \n",
    "                                 'decision': item['recommendation'],\n",
    "                                 'confidence': item['earning_confidence'],\n",
    "                                 'earning_decision': item['earning_decision'],\n",
    "                                 'earning_magnitude': item['earning_magnitude']})\n",
    "        return trade_report"
   ]
  },
  {
   "cell_type": "code",
   "execution_count": 53,
   "id": "cbf18955-f299-4791-9c4c-628c9d13b843",
   "metadata": {},
   "outputs": [],
   "source": [
    "trades = trade_report_generation(data_analysis_final)"
   ]
  },
  {
   "cell_type": "code",
   "execution_count": 54,
   "id": "27511b7e-0f5b-4521-9bdc-25de895efa0e",
   "metadata": {},
   "outputs": [],
   "source": [
    "with open('Results/Agentic/trades_llama_v7.json', 'w') as f:\n",
    "    json.dump(trades, f)"
   ]
  },
  {
   "cell_type": "markdown",
   "id": "049aa081-1689-4304-b164-1057a0be7332",
   "metadata": {},
   "source": [
    "### Example Output from agent"
   ]
  },
  {
   "cell_type": "code",
   "execution_count": 5,
   "id": "9fb8541d-9c86-4191-bfa0-cd6113ebb17b",
   "metadata": {},
   "outputs": [],
   "source": [
    "import json\n",
    "from IPython.display import Markdown, display\n",
    "from utils.s3_helper import S3Helper"
   ]
  },
  {
   "cell_type": "code",
   "execution_count": 6,
   "id": "3048e045-cfa7-49ef-87f5-a816ad292895",
   "metadata": {},
   "outputs": [],
   "source": [
    "s3_helper = S3Helper('tmp/fs')\n",
    "s3_helper.get_file('agentic_output_llama_v6.json','/tmp/agentic_output_llama_v6.json')"
   ]
  },
  {
   "cell_type": "code",
   "execution_count": 8,
   "id": "0c1341b3-33f7-4be5-8f9a-da949b1b5536",
   "metadata": {},
   "outputs": [],
   "source": [
    "with open('/tmp/agentic_output_llama_v6.json', 'rb') as f:\n",
    "    all_data = json.load(f)"
   ]
  },
  {
   "cell_type": "code",
   "execution_count": 24,
   "id": "dabf1db0-1ab9-4ee7-8009-e8455d48be2c",
   "metadata": {},
   "outputs": [
    {
     "data": {
      "text/plain": [
       "'2020-01-31'"
      ]
     },
     "execution_count": 24,
     "metadata": {},
     "output_type": "execute_result"
    }
   ],
   "source": [
    "security = all_data[10]\n",
    "response = security['responses']\n",
    "\n",
    "security['date']"
   ]
  },
  {
   "cell_type": "markdown",
   "id": "5e177a7d-98a9-42a6-b37a-82c913ae0cd4",
   "metadata": {},
   "source": [
    "### Financial Report"
   ]
  },
  {
   "cell_type": "code",
   "execution_count": 11,
   "id": "0a1fbd94-4388-4852-8625-8bc42e05c934",
   "metadata": {},
   "outputs": [
    {
     "data": {
      "text/markdown": [
       "As an equity financial analyst, I will analyze the financial statements to predict if the company's earnings will increase in the next quarter. I will consider the current profitability, liquidity, solvency, and efficiency ratios.\n",
       "\n",
       "**Profitability Ratios:**\n",
       "\n",
       "1. Gross Margin Ratio = (Gross Profit / Revenue) x 100\n",
       "= (2.778500e+10 / 2.608120e+11) x 100 = 10.65% (t-1)\n",
       "= (3.140300e+10 / 2.715770e+11) x 100 = 11.56% (t-2)\n",
       "The gross margin ratio has increased from 10.65% to 11.56% over the past year, indicating an improvement in profitability.\n",
       "\n",
       "2. Operating Margin Ratio = (Operating Income / Revenue) x 100\n",
       "= (1.375900e+10 / 2.608120e+11) x 100 = 5.27% (t-1)\n",
       "= (1.729500e+10 / 2.715770e+11) x 100 = 6.37% (t-2)\n",
       "The operating margin ratio has increased from 5.27% to 6.37% over the past year, indicating an improvement in profitability.\n",
       "\n",
       "3. Net Profit Margin Ratio = (Net Income / Revenue) x 100\n",
       "= (1.465000e+10 / 2.608120e+11) x 100 = 5.62% (t-1)\n",
       "= (1.772000e+10 / 2.715770e+11) x 100 = 6.53% (t-2)\n",
       "The net profit margin ratio has increased from 5.62% to 6.53% over the past year, indicating an improvement in profitability.\n",
       "\n",
       "**Liquidity Ratios:**\n",
       "\n",
       "1. Current Ratio = Current Assets / Current Liabilities\n",
       "= 5.000800e+10 / 6.419500e+10 = 0.78 (t-1)\n",
       "= 5.174300e+10 / 7.028700e+10 = 0.74 (t-2)\n",
       "The current ratio has decreased from 0.78 to 0.74 over the past year, indicating a slight deterioration in liquidity.\n",
       "\n",
       "2. Quick Ratio = (Current Assets - Inventory) / Current Liabilities\n",
       "= (5.000800e+10 - 1.759000e+10) / 6.419500e+10 = 0.53 (t-1)\n",
       "= (5.174300e+10 - 1.883500e+10) / 7.028700e+10 = 0.49 (t-2)\n",
       "The quick ratio has decreased from 0.53 to 0.49 over the past year, indicating a slight deterioration in liquidity.\n",
       "\n",
       "**Solvency Ratios:**\n",
       "\n",
       "1. Debt-to-Equity Ratio = Total Debt / Total Equity\n",
       "= 1.622520e+11 / 1.971090e+11 = 0.82 (t-1)\n",
       "= 1.622640e+11 / 1.984650e+11 = 0.82 (t-2)\n",
       "The debt-to-equity ratio has remained stable at 0.82 over the past year, indicating a stable solvency position.\n",
       "\n",
       "2. Interest Coverage Ratio = EBIT / Interest Expense\n",
       "= 1.375900e+10 / 8.440000e+08 = 16.31 (t-1)\n",
       "= 1.729500e+10 / 8.120000e+08 = 21.29 (t-2)\n",
       "The interest coverage ratio has increased from 16.31 to 21.29 over the past year, indicating an improvement in solvency.\n",
       "\n",
       "**Efficiency Ratios:**\n",
       "\n",
       "1. Asset Turnover Ratio = Revenue / Total Assets\n",
       "= 2.608120e+11 / 3.593610e+11 = 0.73 (t-1)\n",
       "= 2.715770e+11 / 3.607290e+11 = 0.75 (t-2)\n",
       "The asset turnover ratio has increased from 0.73 to 0.75 over the past year, indicating an improvement in efficiency.\n",
       "\n",
       "2. Return on Equity (ROE) = Net Income / Total Equity\n",
       "= 1.465000e+10 / 1.971090e+11 = 7.43% (t-1)\n",
       "= 1.772000e+10 / 1.984650e+11 = 8.92% (t-2)\n",
       "The ROE has increased from 7.43% to 8.92% over the past year, indicating an improvement in profitability.\n",
       "\n",
       "**Conclusion:**\n",
       "\n",
       "Based on the analysis of the financial statements, I predict that the company's earnings will increase in the next quarter. The company has shown improvements in profitability, solvency, and efficiency over the past year. The gross margin ratio, operating margin ratio, and net profit margin ratio have all increased, indicating an improvement in profitability. The interest coverage ratio has also increased, indicating an improvement in solvency. The asset turnover ratio has increased, indicating an improvement in efficiency. The ROE has also increased, indicating an improvement in profitability.\n",
       "\n",
       "**Confidence Score:** 80%\n",
       "\n",
       "**Magnitude of Increase:** 5-10%\n",
       "\n",
       "Note: The confidence score and magnitude of increase are subjective and based on the analysis of the financial statements."
      ],
      "text/plain": [
       "<IPython.core.display.Markdown object>"
      ]
     },
     "metadata": {},
     "output_type": "display_data"
    }
   ],
   "source": [
    "display(Markdown(response['financial_analyst']['financial_report']))"
   ]
  },
  {
   "cell_type": "markdown",
   "id": "b59196f3-c99a-4766-9ff0-cfa48f0fe9bd",
   "metadata": {},
   "source": [
    "## Financial Agent\n",
    "### News Summary"
   ]
  },
  {
   "cell_type": "code",
   "execution_count": 12,
   "id": "53ab92a5-408e-44b7-9b0e-88ed52035d7f",
   "metadata": {},
   "outputs": [
    {
     "data": {
      "text/plain": [
       "'Here is the list of headlines with all references to Exxon Mobil Corp and their products removed:\\n\\n[\\'blah ex-date estimated for feb. 10, post option expiry\\', \\'n.a. energy weekly\\\\xa0agenda: chk, eog, oas, fang, pxd, pe earnings\\', \\'*blah plans to divest up to $25b assets: reuters\\', \\'blah implied volatility surges as shares fall\\', \\'blah makes another guyana discovery as it raises oil estimate\\', \\'new york’s case that blah defrauded investors is in trouble\\', \\'energy stocks continue rally as oil extends gain above $58\\', \\'blah is said poised to kick off u.k., germany disposals\\', \\'lng tender: png\\\\xa0sells feb.-march delivery cargo at $4.70-$4.80\\', \\'*blah is said poised to kick off u.k., germany disposals\\', \\'*blah is said to start sale process soon for u.k. upstream ops\\', \\'blah left out of iran oil rally as grim profit warning panned\\', \"*png\\'s kua says jan. 31 deadline set for p\\'nyang deal w/ blah\", \\'blah starts deliveries of imo 2020 compliant fuels at new ports\\', \\'*road and rail blockages could affect blah operation in france\\', \\'*blah starts oil output in guyana\\', \\'church of england urges blah not to block climate resolution\\', \\'*blah, tencent form auto aftersales market jv in china\\', \"*blah affirmed by moody\\'s; outlook to negative from stable\", \\'blah baytown refinery pipestill valve causes flaring: tceq\\', \\'*papua new guinea says blah gas field negotiations to begin\\', \\'blah hits 52-week low at $66.30\\', \\'*blah is said to also prepare sale of german upstream assets\\', \\'blah prevails over new york in climate accounting case (2)\\', \\'blah buys murban crude for jan. 1-28 at +30c on platts window\\', \\'blah cut to sector underperform at scotiabank; pt $75\\', \\'egypt signs 2 oil, gas exploration deals with blah for $332m\\', \\'*blah 3q chemical earnings $241m, -66% y/y\\', \\'equatorial guinea grants blah extension on offshore blocks\\', \\'*blah deal incl 1.2m acres north marakia offshore block\\', \\'blah in talks to sell equatorial guinea assets: wsj (earlier)\\', \\'*new york narrows case against blah in climate trial\\', \\'*golden pass lng granted in-service extension to november 2026\\', \\'lng tender: blah’s\\\\xa0png\\\\xa0lng offers des cargo for feb.-march (1)\\', \\'*blah 3q profit included a favorable tax-related item of $300m\\', \\'*blah has emission at joliet oil refinery: illinois filing\\', \"*blah climate trial loss won\\'t be appealed, n.y. a.g. says\", \\'blah plans to divest up to $25b of assets: reuters\\', \\'blah beaumont plans crude b, hydrocracker restart this weekend\\', \\'new york narrows case against blah in climate trial\\', \\'blah well blast caused huge methane leak in ohio, study shows\\', \\'*blah discovers oil offshore guyana at mako-1 well\\', \\'*egypt signs 2 oil, gas exploration deals with blah for $332m\\', \\'*blah ups guyana recoverable resources to over 8b oebs\\', \\'meet the economy that the imf sees growing 86% in 2020\\', \\'blah france expects some disruption from thursday’s strike\\', \\'*blah’s beaumont complex reports flaring: notice\\', \\'oil group says it’ll take $15 billion to develop carbon capture\\', \"*blah france expects some disruption from thursday\\'s strike\", \\'blah’s beaumont complex requires flaring: notice\\']'"
      ]
     },
     "execution_count": 12,
     "metadata": {},
     "output_type": "execute_result"
    }
   ],
   "source": [
    "# Headlines\n",
    "response['financial_analyst']['cleaned_headlines']"
   ]
  },
  {
   "cell_type": "code",
   "execution_count": 14,
   "id": "c48316a4-c038-4620-a5c0-8dd481909996",
   "metadata": {},
   "outputs": [
    {
     "data": {
      "text/markdown": [
       "As a financial analyst, I'll start by identifying the revenue drivers for the Energy sector:\n",
       "\n",
       "1. Oil prices: The price of crude oil is a significant driver of revenue for energy companies.\n",
       "2. Natural Gas prices: The price of natural gas also impacts revenue, particularly for companies with significant natural gas production.\n",
       "3. Refining margins: The difference between the cost of crude oil and the price of refined products, such as gasoline and diesel, affects refining revenue.\n",
       "4. Production volumes: The amount of oil and natural gas produced by a company impacts revenue.\n",
       "5. Exploration and production costs: The cost of extracting and producing oil and natural gas affects profitability.\n",
       "\n",
       "Now, let's analyze the headlines to determine if blah will see an increase or decrease in earnings over the next quarter:\n",
       "\n",
       "**Positive trends:**\n",
       "\n",
       "1. Oil prices: The headlines mention oil prices extending gains above $58, which is a positive trend for energy companies.\n",
       "2. New discoveries: Blah has made new discoveries in Guyana, which could lead to increased production and revenue.\n",
       "3. Increased production: Blah has started oil output in Guyana and has increased its recoverable resources estimate.\n",
       "4. Asset sales: Blah plans to divest up to $25 billion in assets, which could help reduce debt and improve profitability.\n",
       "5. LNG sales: Blah has sold LNG cargoes at favorable prices, which could contribute to revenue growth.\n",
       "\n",
       "**Negative trends:**\n",
       "\n",
       "1. Decline in chemical earnings: Blah's 3Q chemical earnings declined 66% year-over-year, which could be a concern.\n",
       "2. Climate-related issues: Blah has faced climate-related lawsuits and criticism, which could lead to increased costs and regulatory scrutiny.\n",
       "3. Operational issues: Blah has experienced operational issues, such as flaring and emissions, which could impact production and profitability.\n",
       "4. Downgrades: Blah has been downgraded by Scotiabank, which could indicate concerns about the company's performance.\n",
       "\n",
       "**Neutral trends:**\n",
       "\n",
       "1. Moody's affirmation: Blah's credit rating was affirmed by Moody's, but the outlook was changed to negative from stable.\n",
       "2. Disposals: Blah is planning to sell assets in the UK, Germany, and Equatorial Guinea, which could be neutral or positive depending on the sale prices.\n",
       "\n",
       "Overall, based on the headlines, I believe that blah will see a slight increase in earnings over the next quarter due to the positive trends in oil prices, new discoveries, and increased production. However, the decline in chemical earnings and climate-related issues could offset some of these gains. The company's ability to execute on its asset sales and reduce debt will be crucial in determining its future performance."
      ],
      "text/plain": [
       "<IPython.core.display.Markdown object>"
      ]
     },
     "metadata": {},
     "output_type": "display_data"
    }
   ],
   "source": [
    "display(Markdown(response['financial_analyst']['news_report']))"
   ]
  },
  {
   "cell_type": "markdown",
   "id": "e99b901d-a029-4823-a9ee-2e6b51230101",
   "metadata": {},
   "source": [
    "### Senior Analyst Report"
   ]
  },
  {
   "cell_type": "code",
   "execution_count": 15,
   "id": "d9ca1ab0-52ff-4dd6-8a80-ca459eec6c48",
   "metadata": {},
   "outputs": [
    {
     "data": {
      "text/markdown": [
       "After reviewing both reports, I agree with the narrative of earnings increase in the next quarter. The financial statements analysis suggests that the company has shown improvements in profitability, solvency, and efficiency over the past year, with increases in gross margin ratio, operating margin ratio, net profit margin ratio, interest coverage ratio, asset turnover ratio, and ROE.\n",
       "\n",
       "The news report also supports this narrative, highlighting positive trends such as oil prices extending gains, new discoveries, increased production, asset sales, and LNG sales. While there are some negative trends, such as decline in chemical earnings and climate-related issues, I believe that the positive trends will outweigh the negative ones, leading to a slight increase in earnings over the next quarter.\n",
       "\n",
       "I agree with the confidence score of 80% and the magnitude of increase of 5-10% as stated in the financial statements analysis. The company's ability to execute on its asset sales and reduce debt will be crucial in determining its future performance, and I believe that the company is well-positioned to achieve this.\n",
       "\n",
       "However, I would like to note that the news report highlights some potential risks, such as climate-related issues and operational issues, which could impact the company's performance in the long run. Therefore, it's essential to continue monitoring these trends and adjust the analysis accordingly.\n",
       "\n",
       "Overall, based on both reports, I believe that the company's earnings will increase in the next quarter, driven by positive trends in oil prices, new discoveries, and increased production."
      ],
      "text/plain": [
       "<IPython.core.display.Markdown object>"
      ]
     },
     "metadata": {},
     "output_type": "display_data"
    }
   ],
   "source": [
    "display(Markdown(response['financial_analyst']['senior_report']))"
   ]
  },
  {
   "cell_type": "markdown",
   "id": "86775b6c-5990-49b4-976c-80f1738604a7",
   "metadata": {},
   "source": [
    "## Committee Agent\n",
    "### Buy Summary"
   ]
  },
  {
   "cell_type": "code",
   "execution_count": 17,
   "id": "97fb6263-e31a-4c2b-9cda-7ed71761b0e6",
   "metadata": {},
   "outputs": [
    {
     "data": {
      "text/markdown": [
       "BUY:**Investment Committee Discussion**\n",
       "\n",
       "After reviewing the financial statements analysis and news report, I strongly believe that the stock is undervalued and should be a BUY for the next quarter. The company's improvements in profitability, solvency, and efficiency over the past year are impressive, and I expect this trend to continue.\n",
       "\n",
       "Using the Discounted Cash Flow (DCF) analysis, I estimate the company's intrinsic value to be around $85 per share, which is significantly higher than the current market price of $62.12. This represents a potential upside of 37%.\n",
       "\n",
       "To calculate the intrinsic value, I used the following assumptions:\n",
       "\n",
       "* Discount rate: 10%\n",
       "* Growth rate: 5% (based on the company's historical growth rate and industry trends)\n",
       "* Terminal value: 20 times the company's estimated earnings in 2025\n",
       "\n",
       "Using the DCF model, I estimated the company's present value of future cash flows to be around $85 per share.\n",
       "\n",
       "In addition to the DCF analysis, I also considered other valuation methods, such as the Price-to-Earnings (P/E) ratio and the Price-to-Book (P/B) ratio. The company's P/E ratio is currently around 12 times, which is lower than the industry average of 15 times. The P/B ratio is around 1.2 times, which is also lower than the industry average of 1.5 times.\n",
       "\n",
       "Overall, I believe that the company's strong financial performance, combined with its undervalued stock price, make it an attractive investment opportunity for the next quarter.\n",
       "\n",
       "**Recommendation:** BUY\n",
       "\n",
       "**Target Price:** $85 per share\n",
       "\n",
       "**Confidence Score:** 80%\n",
       "\n",
       "**Magnitude of Increase:** 5-10%\n",
       "\n",
       "I recommend that the investment committee consider adding this stock to our portfolio for the next quarter, with a target price of $85 per share."
      ],
      "text/plain": [
       "<IPython.core.display.Markdown object>"
      ]
     },
     "metadata": {},
     "output_type": "display_data"
    }
   ],
   "source": [
    "display(Markdown(response['committee_report']['summary_buy']))"
   ]
  },
  {
   "cell_type": "markdown",
   "id": "f047c492-a046-42d0-b5fd-dadcf5c59113",
   "metadata": {},
   "source": [
    "### Sell Summary"
   ]
  },
  {
   "cell_type": "code",
   "execution_count": 18,
   "id": "7f546af0-6f79-428c-83ce-22fe24083309",
   "metadata": {},
   "outputs": [
    {
     "data": {
      "text/markdown": [
       "SELL:**Recommendation:** SELL\n",
       "\n",
       "**Summary:**\n",
       "\n",
       "While the analysis suggests that the company's earnings will increase in the next quarter, I believe that the stock is overvalued and should be sold. The historical price chart shows that the stock has been trading at a relatively high level, with a peak price of $80.80 in 2019. Despite the predicted increase in earnings, I expect the stock price to decline in the next quarter due to the following reasons:\n",
       "\n",
       "1. **Overvaluation:** The stock's current price is higher than its historical average, indicating that it may be overvalued.\n",
       "2. **Liquidity concerns:** The current ratio and quick ratio have decreased over the past year, indicating a slight deterioration in liquidity.\n",
       "3. **Climate-related risks:** The news report highlights climate-related issues, which could impact the company's performance in the long run.\n",
       "4. **Operational risks:** The news report also highlights operational issues, which could impact the company's performance.\n",
       "\n",
       "**DCF Analysis:**\n",
       "\n",
       "Using a discounted cash flow (DCF) analysis, I estimate the company's intrinsic value to be around $55 per share, which is lower than the current price. The DCF analysis assumes a 5% discount rate, a 5-year growth rate of 5%, and a terminal growth rate of 3%.\n",
       "\n",
       "**DCF Calculation:**\n",
       "\n",
       "1. Estimate future cash flows: $10.23 (2020), $10.72 (2021), $11.23 (2022), $11.76 (2023), and $12.31 (2024)\n",
       "2. Calculate the present value of the future cash flows using the discount rate: $8.53 (2020), $8.11 (2021), $7.73 (2022), $7.39 (2023), and $7.08 (2024)\n",
       "3. Calculate the terminal value: $55.15\n",
       "4. Calculate the intrinsic value: $55.15\n",
       "\n",
       "**Conclusion:**\n",
       "\n",
       "Based on the analysis, I recommend selling the stock due to its overvaluation, liquidity concerns, climate-related risks, and operational risks. The DCF analysis suggests that the company's intrinsic value is lower than the current price, supporting the sell recommendation."
      ],
      "text/plain": [
       "<IPython.core.display.Markdown object>"
      ]
     },
     "metadata": {},
     "output_type": "display_data"
    }
   ],
   "source": [
    "display(Markdown(response['committee_report']['summary_sell']))"
   ]
  },
  {
   "cell_type": "markdown",
   "id": "250b3274-22c7-48b1-8b0f-205113ae80a9",
   "metadata": {},
   "source": [
    "### Hold Summary"
   ]
  },
  {
   "cell_type": "code",
   "execution_count": 19,
   "id": "f5963ad4-7547-446c-b5d1-850bbd3d5afc",
   "metadata": {},
   "outputs": [
    {
     "data": {
      "text/markdown": [
       "HOLD:**Investment Committee Discussion**\n",
       "\n",
       "After reviewing the financial statements analysis and the news report, I agree with the senior analyst's opinion that the company's earnings will increase in the next quarter. The analysis suggests that the company has shown improvements in profitability, solvency, and efficiency over the past year.\n",
       "\n",
       "However, I would like to discuss the valuation of the stock using a Discounted Cash Flow (DCF) analysis. Based on the historical data, I estimate the company's cost of capital to be around 8%. Using a terminal growth rate of 3%, I estimate the present value of the company's future cash flows to be around $75 per share.\n",
       "\n",
       "**DCF Analysis**\n",
       "\n",
       "* Estimated future cash flows: $10.65 per share (based on the company's historical growth rate)\n",
       "* Cost of capital: 8%\n",
       "* Terminal growth rate: 3%\n",
       "* Present value of future cash flows: $75 per share\n",
       "\n",
       "**Comparison to Current Price**\n",
       "\n",
       "The current price of the stock is around $62 per share, which is lower than the estimated present value of $75 per share. This suggests that the stock may be undervalued.\n",
       "\n",
       "**Other Valuation Methods**\n",
       "\n",
       "Using other valuation methods, such as the Price-to-Earnings (P/E) ratio and the Price-to-Book (P/B) ratio, we can also estimate the stock's value.\n",
       "\n",
       "* P/E ratio: 15x (based on the company's historical P/E ratio)\n",
       "* P/B ratio: 1.2 (based on the company's historical P/B ratio)\n",
       "\n",
       "These valuation methods also suggest that the stock may be undervalued.\n",
       "\n",
       "**Conclusion**\n",
       "\n",
       "Based on the analysis, I believe that the stock is undervalued and has the potential to increase in value. However, I would like to advocate for a HOLD position for the next quarter, as the company's performance is subject to various risks, including climate-related issues and operational issues. I recommend monitoring the company's progress and adjusting our analysis accordingly.\n",
       "\n",
       "**Recommendation**\n",
       "\n",
       "HOLD the stock for the next quarter, with a target price of $75 per share.\n",
       "\n",
       "**Confidence Score**\n",
       "\n",
       "80%\n",
       "\n",
       "**Magnitude of Increase**\n",
       "\n",
       "5-10%\n",
       "\n",
       "Note: The confidence score and magnitude of increase are subjective and based on the analysis of the financial statements and other valuation methods."
      ],
      "text/plain": [
       "<IPython.core.display.Markdown object>"
      ]
     },
     "metadata": {},
     "output_type": "display_data"
    }
   ],
   "source": [
    "display(Markdown(response['committee_report']['summary_hold']))"
   ]
  },
  {
   "cell_type": "markdown",
   "id": "5fce2e72-1cf2-48f7-b900-95fe4710102c",
   "metadata": {},
   "source": [
    "### Debate"
   ]
  },
  {
   "cell_type": "code",
   "execution_count": 21,
   "id": "b41c5331-7f83-438c-a149-3546518a40dc",
   "metadata": {},
   "outputs": [
    {
     "data": {
      "text/plain": [
       "'[HumanMessage(content=\\'Nothing\\', additional_kwargs={}, response_metadata={}, id=\\'0cc4e6d1-8d24-4349-8c9d-b3af34caa940\\'), HumanMessage(content=\"BUY:**Investment Committee Discussion**\\\\n\\\\nAfter reviewing the financial statements analysis and news report, I strongly believe that the stock is undervalued and should be a BUY for the next quarter. The company\\'s improvements in profitability, solvency, and efficiency over the past year are impressive, and I expect this trend to continue.\\\\n\\\\nUsing the Discounted Cash Flow (DCF) analysis, I estimate the company\\'s intrinsic value to be around $85 per share, which is significantly higher than the current market price of $62.12. This represents a potential upside of 37%.\\\\n\\\\nTo calculate the intrinsic value, I used the following assumptions:\\\\n\\\\n* Discount rate: 10%\\\\n* Growth rate: 5% (based on the company\\'s historical growth rate and industry trends)\\\\n* Terminal value: 20 times the company\\'s estimated earnings in 2025\\\\n\\\\nUsing the DCF model, I estimated the company\\'s present value of future cash flows to be around $85 per share.\\\\n\\\\nIn addition to the DCF analysis, I also considered other valuation methods, such as the Price-to-Earnings (P/E) ratio and the Price-to-Book (P/B) ratio. The company\\'s P/E ratio is currently around 12 times, which is lower than the industry average of 15 times. The P/B ratio is around 1.2 times, which is also lower than the industry average of 1.5 times.\\\\n\\\\nOverall, I believe that the company\\'s strong financial performance, combined with its undervalued stock price, make it an attractive investment opportunity for the next quarter.\\\\n\\\\n**Recommendation:** BUY\\\\n\\\\n**Target Price:** $85 per share\\\\n\\\\n**Confidence Score:** 80%\\\\n\\\\n**Magnitude of Increase:** 5-10%\\\\n\\\\nI recommend that the investment committee consider adding this stock to our portfolio for the next quarter, with a target price of $85 per share.\", additional_kwargs={}, response_metadata={}, id=\\'87ae42ed-5c05-4ad1-9cdf-40f920a710aa\\'), HumanMessage(content=\"SELL:**Recommendation:** SELL\\\\n\\\\n**Summary:**\\\\n\\\\nWhile the analysis suggests that the company\\'s earnings will increase in the next quarter, I believe that the stock is overvalued and should be sold. The historical price chart shows that the stock has been trading at a relatively high level, with a peak price of $80.80 in 2019. Despite the predicted increase in earnings, I expect the stock price to decline in the next quarter due to the following reasons:\\\\n\\\\n1. **Overvaluation:** The stock\\'s current price is higher than its historical average, indicating that it may be overvalued.\\\\n2. **Liquidity concerns:** The current ratio and quick ratio have decreased over the past year, indicating a slight deterioration in liquidity.\\\\n3. **Climate-related risks:** The news report highlights climate-related issues, which could impact the company\\'s performance in the long run.\\\\n4. **Operational risks:** The news report also highlights operational issues, which could impact the company\\'s performance.\\\\n\\\\n**DCF Analysis:**\\\\n\\\\nUsing a discounted cash flow (DCF) analysis, I estimate the company\\'s intrinsic value to be around $55 per share, which is lower than the current price. The DCF analysis assumes a 5% discount rate, a 5-year growth rate of 5%, and a terminal growth rate of 3%.\\\\n\\\\n**DCF Calculation:**\\\\n\\\\n1. Estimate future cash flows: $10.23 (2020), $10.72 (2021), $11.23 (2022), $11.76 (2023), and $12.31 (2024)\\\\n2. Calculate the present value of the future cash flows using the discount rate: $8.53 (2020), $8.11 (2021), $7.73 (2022), $7.39 (2023), and $7.08 (2024)\\\\n3. Calculate the terminal value: $55.15\\\\n4. Calculate the intrinsic value: $55.15\\\\n\\\\n**Conclusion:**\\\\n\\\\nBased on the analysis, I recommend selling the stock due to its overvaluation, liquidity concerns, climate-related risks, and operational risks. The DCF analysis suggests that the company\\'s intrinsic value is lower than the current price, supporting the sell recommendation.\", additional_kwargs={}, response_metadata={}, id=\\'20d478dc-7a87-4161-ad42-f4d8cf5c281d\\'), HumanMessage(content=\"HOLD:**Investment Committee Discussion**\\\\n\\\\nAfter reviewing the financial statements analysis and the news report, I agree with the senior analyst\\'s opinion that the company\\'s earnings will increase in the next quarter. The analysis suggests that the company has shown improvements in profitability, solvency, and efficiency over the past year.\\\\n\\\\nHowever, I would like to discuss the valuation of the stock using a Discounted Cash Flow (DCF) analysis. Based on the historical data, I estimate the company\\'s cost of capital to be around 8%. Using a terminal growth rate of 3%, I estimate the present value of the company\\'s future cash flows to be around $75 per share.\\\\n\\\\n**DCF Analysis**\\\\n\\\\n* Estimated future cash flows: $10.65 per share (based on the company\\'s historical growth rate)\\\\n* Cost of capital: 8%\\\\n* Terminal growth rate: 3%\\\\n* Present value of future cash flows: $75 per share\\\\n\\\\n**Comparison to Current Price**\\\\n\\\\nThe current price of the stock is around $62 per share, which is lower than the estimated present value of $75 per share. This suggests that the stock may be undervalued.\\\\n\\\\n**Other Valuation Methods**\\\\n\\\\nUsing other valuation methods, such as the Price-to-Earnings (P/E) ratio and the Price-to-Book (P/B) ratio, we can also estimate the stock\\'s value.\\\\n\\\\n* P/E ratio: 15x (based on the company\\'s historical P/E ratio)\\\\n* P/B ratio: 1.2 (based on the company\\'s historical P/B ratio)\\\\n\\\\nThese valuation methods also suggest that the stock may be undervalued.\\\\n\\\\n**Conclusion**\\\\n\\\\nBased on the analysis, I believe that the stock is undervalued and has the potential to increase in value. However, I would like to advocate for a HOLD position for the next quarter, as the company\\'s performance is subject to various risks, including climate-related issues and operational issues. I recommend monitoring the company\\'s progress and adjusting our analysis accordingly.\\\\n\\\\n**Recommendation**\\\\n\\\\nHOLD the stock for the next quarter, with a target price of $75 per share.\\\\n\\\\n**Confidence Score**\\\\n\\\\n80%\\\\n\\\\n**Magnitude of Increase**\\\\n\\\\n5-10%\\\\n\\\\nNote: The confidence score and magnitude of increase are subjective and based on the analysis of the financial statements and other valuation methods.\", additional_kwargs={}, response_metadata={}, id=\\'88323114-4276-463d-a14a-28b33d64fff3\\'), HumanMessage(content=\"BUY:**BUY**\\\\n\\\\nAfter reviewing the previous conversation, I still agree with my initial decision to BUY the stock. The financial statements analysis and news report suggest that the company\\'s earnings will increase in the next quarter, driven by positive trends in oil prices, new discoveries, and increased production. The company\\'s improvements in profitability, solvency, and efficiency over the past year are also impressive.\\\\n\\\\nMy initial DCF analysis estimated the company\\'s intrinsic value to be around $85 per share, which is significantly higher than the current market price of $62.12. This represents a potential upside of 37%. I also considered other valuation methods, such as the Price-to-Earnings (P/E) ratio and the Price-to-Book (P/B) ratio, which also suggest that the stock is undervalued.\\\\n\\\\nWhile there are some potential risks, such as climate-related issues and operational issues, I believe that the company is well-positioned to execute on its asset sales and reduce debt, which will be crucial in determining its future performance.\\\\n\\\\nTherefore, I recommend maintaining the BUY position for the next quarter, with a target price of $85 per share. My confidence score remains at 80%, and I expect a magnitude of increase of 5-10%.\", additional_kwargs={}, response_metadata={}, id=\\'3b963337-4523-4b48-babc-37ab445b6f77\\'), HumanMessage(content=\"SELL:**BUY**\\\\n\\\\nAfter reviewing the previous conversation, I have decided to change my previous decision to SELL. The financial statements analysis and news report suggest that the company\\'s earnings will increase in the next quarter, driven by positive trends in oil prices, new discoveries, and increased production. The company\\'s improvements in profitability, solvency, and efficiency over the past year are also impressive.\\\\n\\\\nMy previous DCF analysis estimated the company\\'s intrinsic value to be around $55 per share, which is lower than the current market price. However, I have re-evaluated my assumptions and now believe that the company\\'s intrinsic value is actually higher, around $75-85 per share, as estimated by other committee members. This represents a potential upside of 20-37%.\\\\n\\\\nWhile there are some potential risks, such as climate-related issues and operational issues, I believe that the company is well-positioned to execute on its asset sales and reduce debt, which will be crucial in determining its future performance.\\\\n\\\\nTherefore, I recommend changing my previous decision to SELL and now recommend a BUY position for the next quarter, with a target price of $75-85 per share. My confidence score is 80%, and I expect a magnitude of increase of 5-10%.\", additional_kwargs={}, response_metadata={}, id=\\'15a1b5e3-afbd-46f1-a257-66c4d0103c89\\'), HumanMessage(content=\"HOLD:**HOLD**\\\\n\\\\nAfter reviewing the previous conversation, I still agree with my initial decision to HOLD the stock. The financial statements analysis and news report suggest that the company\\'s earnings will increase in the next quarter, driven by positive trends in oil prices, new discoveries, and increased production. The company\\'s improvements in profitability, solvency, and efficiency over the past year are also impressive.\\\\n\\\\nMy initial DCF analysis estimated the company\\'s intrinsic value to be around $75 per share, which is higher than the current market price of $62.12. This represents a potential upside of 20%. I also considered other valuation methods, such as the Price-to-Earnings (P/E) ratio and the Price-to-Book (P/B) ratio, which also suggest that the stock is undervalued.\\\\n\\\\nWhile there are some potential risks, such as climate-related issues and operational issues, I believe that the company is well-positioned to execute on its asset sales and reduce debt, which will be crucial in determining its future performance.\\\\n\\\\nHowever, I would like to maintain a cautious stance and recommend a HOLD position for the next quarter, with a target price of $75 per share. My confidence score remains at 80%, and I expect a magnitude of increase of 5-10%.\\\\n\\\\nI would like to monitor the company\\'s progress and adjust our analysis accordingly, taking into account the potential risks and opportunities that may arise.\", additional_kwargs={}, response_metadata={}, id=\\'ba019e5e-985c-4eb2-aa04-8b67051b4e3e\\')]'"
      ]
     },
     "execution_count": 21,
     "metadata": {},
     "output_type": "execute_result"
    }
   ],
   "source": [
    "response['committee_report']['history']"
   ]
  },
  {
   "cell_type": "markdown",
   "id": "1e9f6835-7c26-4e07-856a-7c28ae857be6",
   "metadata": {},
   "source": [
    "### Final result from the Committee Agent"
   ]
  },
  {
   "cell_type": "code",
   "execution_count": 22,
   "id": "ee3583a6-f446-42e5-b3ec-2241a71dcc1c",
   "metadata": {},
   "outputs": [
    {
     "data": {
      "text/plain": [
       "\"recommendation='BUY' reason='The majority voting pattern is 2 BUY and 1 HOLD. The senior analyst and most committee members support a BUY recommendation based on:\\\\n1. Positive financial performance with improvements in profitability, solvency, and efficiency\\\\n2. Positive trends in oil prices, new discoveries, and increased production\\\\n3. Discounted Cash Flow (DCF) analysis suggesting the stock is undervalued\\\\n4. Estimated intrinsic value ranging from $75-$85 per share (compared to current price of $62.12)\\\\n5. Potential upside of 20-37%\\\\n\\\\nWhile there are some risks such as climate-related and operational issues, the overall sentiment is positive with a high confidence score of 80% and expected earnings increase of 5-10%.' confidence='High'\""
      ]
     },
     "execution_count": 22,
     "metadata": {},
     "output_type": "execute_result"
    }
   ],
   "source": [
    "response['committee_report']['results']"
   ]
  },
  {
   "cell_type": "markdown",
   "id": "64adfb73-3c04-4e86-9750-741454806d5b",
   "metadata": {},
   "source": [
    "### Unused code"
   ]
  },
  {
   "cell_type": "code",
   "execution_count": 1,
   "id": "ef4964d6-3cee-497f-b7a4-004edd8431c5",
   "metadata": {},
   "outputs": [],
   "source": [
    "# from utils.s3_helper import S3Helper\n",
    "\n",
    "# s3_helper = S3Helper('tmp/fs')\n",
    "# s3_helper.get_file(filename='agentic_output_llama_v3_1.json',local_filename='/tmp/agentic_output_llama_v3_1.json')"
   ]
  },
  {
   "cell_type": "code",
   "execution_count": 2,
   "id": "7c0193ff-7f13-4a47-ad98-ddb39fea01f4",
   "metadata": {},
   "outputs": [],
   "source": [
    "# import json\n",
    "# with open('/tmp/agentic_output_llama_v3_1.json', 'rb') as f:\n",
    "#     data_output = json.load(f)"
   ]
  },
  {
   "cell_type": "code",
   "execution_count": 1,
   "id": "24b273b8-eb01-4abe-9762-84554273ee8a",
   "metadata": {},
   "outputs": [],
   "source": [
    "# print(data_output[1])"
   ]
  },
  {
   "cell_type": "code",
   "execution_count": 2,
   "id": "7e359bd7-18ff-4a2c-9060-96e46e4705b6",
   "metadata": {},
   "outputs": [
    {
     "ename": "NameError",
     "evalue": "name 's3_helper' is not defined",
     "output_type": "error",
     "traceback": [
      "\u001b[0;31m---------------------------------------------------------------------------\u001b[0m",
      "\u001b[0;31mNameError\u001b[0m                                 Traceback (most recent call last)",
      "Input \u001b[0;32mIn [2]\u001b[0m, in \u001b[0;36m<cell line: 1>\u001b[0;34m()\u001b[0m\n\u001b[0;32m----> 1\u001b[0m \u001b[43ms3_helper\u001b[49m\u001b[38;5;241m.\u001b[39mget_file(\u001b[38;5;124m'\u001b[39m\u001b[38;5;124magentic_output_llama_v6.json\u001b[39m\u001b[38;5;124m'\u001b[39m,\u001b[38;5;124m'\u001b[39m\u001b[38;5;124m/tmp/agentic_output_llama_v6.json\u001b[39m\u001b[38;5;124m'\u001b[39m)\n",
      "\u001b[0;31mNameError\u001b[0m: name 's3_helper' is not defined"
     ]
    }
   ],
   "source": [
    "\n",
    "s3_helper.get_file('agentic_output_llama_v6.json','/tmp/agentic_output_llama_v6.json')"
   ]
  },
  {
   "cell_type": "code",
   "execution_count": null,
   "id": "868c86c0-37d8-48dc-ac69-be1b01c8d208",
   "metadata": {},
   "outputs": [],
   "source": []
  }
 ],
 "metadata": {
  "kernelspec": {
   "display_name": "Bloomberg Lab Python 3",
   "language": "python",
   "name": "user-python"
  },
  "language_info": {
   "codemirror_mode": {
    "name": "ipython",
    "version": 3
   },
   "file_extension": ".py",
   "mimetype": "text/x-python",
   "name": "python",
   "nbconvert_exporter": "python",
   "pygments_lexer": "ipython3",
   "version": "3.9.12"
  }
 },
 "nbformat": 4,
 "nbformat_minor": 5
}
