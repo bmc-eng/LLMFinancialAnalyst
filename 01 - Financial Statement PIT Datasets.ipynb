{
 "cells": [
  {
   "cell_type": "markdown",
   "id": "687edd84-1940-4630-af73-31dea8b66700",
   "metadata": {},
   "source": [
    "# Request Financial Statement Datasets"
   ]
  },
  {
   "cell_type": "code",
   "execution_count": 3,
   "id": "e4240e9c-2b72-4e99-8df6-e667c1339754",
   "metadata": {},
   "outputs": [],
   "source": [
    "import bql\n",
    "import pandas as pd\n",
    "import utils.data_request_helper as helper\n",
    "from utils.s3_helper import S3Helper\n",
    "\n",
    "import os\n",
    "import importlib\n",
    "import json\n",
    "\n",
    "from ipywidgets import IntProgress\n",
    "from IPython.display import display"
   ]
  },
  {
   "cell_type": "code",
   "execution_count": 63,
   "id": "535525ee-62b3-4408-bd28-4c860b5dd831",
   "metadata": {},
   "outputs": [
    {
     "data": {
      "text/plain": [
       "<module 'utils.data_request_helper' from '/project/utils/data_request_helper.py'>"
      ]
     },
     "execution_count": 63,
     "metadata": {},
     "output_type": "execute_result"
    }
   ],
   "source": [
    "importlib.reload(helper)"
   ]
  },
  {
   "cell_type": "markdown",
   "id": "96c81290-e148-4c38-9767-629c88baaeec",
   "metadata": {},
   "source": [
    "### Quarterly Data for the Dow Jones"
   ]
  },
  {
   "cell_type": "code",
   "execution_count": 49,
   "id": "64750668-a993-473e-b1ac-3cabc1c4092f",
   "metadata": {},
   "outputs": [],
   "source": [
    "# Index to use for point in time firms\n",
    "index = 'INDU Index'\n",
    "filename = 'data_quarterly.json'\n",
    "reporting_period = 'Q'\n",
    "\n",
    "# rebalance dates for the index\n",
    "rebalance_dates = ['2024-12-31',\n",
    "        '2024-09-30',\n",
    "        '2024-06-30',\n",
    "        '2024-03-31',\n",
    "        '2023-12-31',\n",
    "        '2023-09-30',\n",
    "        '2023-06-30',\n",
    "        '2023-03-31',\n",
    "        '2022-12-31',\n",
    "        '2022-09-30',\n",
    "        '2022-06-30',\n",
    "        '2022-03-31',\n",
    "        '2021-12-31',\n",
    "        '2021-09-30',\n",
    "        '2021-06-30',\n",
    "        '2021-03-31',\n",
    "        '2020-12-31',\n",
    "        '2020-09-30',\n",
    "        '2020-06-30',\n",
    "        '2020-03-31',\n",
    "        '2019-12-31',\n",
    "        '2019-09-30',\n",
    "        '2019-06-30',\n",
    "        '2019-03-31',]"
   ]
  },
  {
   "cell_type": "code",
   "execution_count": 50,
   "id": "93c39803-6b5f-4681-820b-e8fd9bce3faf",
   "metadata": {},
   "outputs": [],
   "source": [
    "data_helper = helper.FinancialDataRequester(index_id=index,\n",
    "                                            dataset_name='quarterly_pit_indu_blended',\n",
    "                                            rebalance_dates=rebalance_dates,\n",
    "                                            reporting_frequency=reporting_period)"
   ]
  },
  {
   "cell_type": "code",
   "execution_count": 51,
   "id": "2f3b2e1e-b63b-44b7-974c-01024335def1",
   "metadata": {},
   "outputs": [
    {
     "name": "stderr",
     "output_type": "stream",
     "text": [
      "100%|██████████| 24/24 [00:14<00:00,  1.64it/s]"
     ]
    }
   ],
   "source": [
    "df_rebalance_dates = data_helper.get_rebalance_dates()"
   ]
  },
  {
   "cell_type": "code",
   "execution_count": 52,
   "id": "6eee46d9-54e6-4993-aad7-9afd65b936ce",
   "metadata": {},
   "outputs": [
    {
     "name": "stderr",
     "output_type": "stream",
     "text": [
      "100%|██████████| 24/24 [01:03<00:00,  2.63s/it]\n",
      "100%|██████████| 24/24 [00:17<00:00,  1.34it/s]\n",
      "100%|█████████▉| 424/425 [25:51<00:03,  3.60s/it]"
     ]
    }
   ],
   "source": [
    "all_data = data_helper.create_financial_dataset()"
   ]
  },
  {
   "cell_type": "markdown",
   "id": "d9aafb3d-a4b7-4a64-b1d2-21ba8ebdb2cc",
   "metadata": {},
   "source": [
    "#### Save to Bloomberg Lab S3 Storage"
   ]
  },
  {
   "cell_type": "code",
   "execution_count": 54,
   "id": "b3212229-9959-4a06-b417-b6d1bd48379b",
   "metadata": {},
   "outputs": [],
   "source": [
    "# Write the data to local ephemeral storage\n",
    "local_file = '/tmp/dow_quarterly_ltm_v2.json'\n",
    "with open(local_file, 'w') as f:\n",
    "    json.dump(all_data, f)"
   ]
  },
  {
   "cell_type": "code",
   "execution_count": 55,
   "id": "0f75bfa1-dff3-4ce4-ac47-2475231a7ee9",
   "metadata": {},
   "outputs": [],
   "source": [
    "# Create S3 Helper object\n",
    "s3_helper = S3Helper('tmp/fs')"
   ]
  },
  {
   "cell_type": "code",
   "execution_count": 56,
   "id": "72d6ffe3-04f8-4e24-b13e-109dadb042dc",
   "metadata": {},
   "outputs": [],
   "source": [
    "# Upload to Bloomberg Lab S3 Storage\n",
    "s3_helper.add_file(local_filename=local_file)"
   ]
  },
  {
   "cell_type": "markdown",
   "id": "e5ba491d-4736-4c0b-9f78-be696b6061c9",
   "metadata": {},
   "source": [
    "### Annual Data for the Dow Jones"
   ]
  },
  {
   "cell_type": "code",
   "execution_count": 67,
   "id": "108f99f5-3343-44c5-ba94-94ae287f5765",
   "metadata": {},
   "outputs": [],
   "source": [
    "# Index to use for point in time firms\n",
    "index = 'INDU Index'\n",
    "filename = 'data_annual_pit_dow.json'\n",
    "reporting_period = 'A'\n",
    "\n",
    "# rebalance dates for the index\n",
    "rebalance_dates = ['2024-12-31',\n",
    "        '2024-09-30',\n",
    "        '2024-06-30',\n",
    "        '2024-03-31',\n",
    "        '2023-12-31',\n",
    "        '2023-09-30',\n",
    "        '2023-06-30',\n",
    "        '2023-03-31',\n",
    "        '2022-12-31',\n",
    "        '2022-09-30',\n",
    "        '2022-06-30',\n",
    "        '2022-03-31',\n",
    "        '2021-12-31',\n",
    "        '2021-09-30',\n",
    "        '2021-06-30',\n",
    "        '2021-03-31',\n",
    "        '2020-12-31',\n",
    "        '2020-09-30',\n",
    "        '2020-06-30',\n",
    "        '2020-03-31',\n",
    "        '2019-12-31',\n",
    "        '2019-09-30',\n",
    "        '2019-06-30',\n",
    "        '2019-03-31',]"
   ]
  },
  {
   "cell_type": "code",
   "execution_count": 68,
   "id": "c13514a8-c39a-43fe-af63-fffb2aa13fa2",
   "metadata": {},
   "outputs": [],
   "source": [
    "data_helper = helper.FinancialDataRequester(index_id=index,\n",
    "                                            dataset_name='annual_pit_indu_blended',\n",
    "                                            rebalance_dates=rebalance_dates,\n",
    "                                            reporting_frequency=reporting_period)"
   ]
  },
  {
   "cell_type": "code",
   "execution_count": 69,
   "id": "cbf8a05e-38af-48ae-ad26-55e7defaefc6",
   "metadata": {},
   "outputs": [
    {
     "name": "stderr",
     "output_type": "stream",
     "text": [
      "100%|██████████| 24/24 [00:48<00:00,  2.04s/it]\n",
      " 99%|█████████▉| 145/146 [08:51<00:03,  3.69s/it]"
     ]
    }
   ],
   "source": [
    "all_data = data_helper.create_financial_dataset()"
   ]
  },
  {
   "cell_type": "code",
   "execution_count": 14,
   "id": "a65aa911-cbfb-42f8-92c6-18c33b277f03",
   "metadata": {},
   "outputs": [
    {
     "name": "stderr",
     "output_type": "stream",
     "text": [
      "100%|██████████| 2/2 [00:01<00:00,  1.61it/s]"
     ]
    }
   ],
   "source": [
    "rebalance_dates_requested = data_helper.get_rebalance_dates()"
   ]
  },
  {
   "cell_type": "code",
   "execution_count": 60,
   "id": "7c415f08-d3fe-481a-8d5f-6bd4339c706f",
   "metadata": {},
   "outputs": [
    {
     "data": {
      "text/plain": [
       "dict_keys(['2020-04-24', '2020-04-27', '2020-04-28', '2020-04-29', '2020-04-30', '2020-05-01', '2020-05-04', '2020-05-05', '2020-05-07', '2020-05-13', '2020-05-18', '2020-05-19', '2020-05-21', '2020-05-26', '2020-05-28', '2020-06-25', '2020-07-09', '2020-07-15', '2020-07-16', '2020-07-20', '2020-07-21', '2020-07-23', '2020-07-24', '2020-07-28', '2020-07-29', '2020-07-30', '2020-07-31', '2020-08-03', '2020-08-04', '2020-08-05', '2020-08-12', '2020-08-19', '2020-08-24', '2020-08-25', '2020-09-02', '2020-10-08', '2020-10-13', '2020-10-14', '2020-10-15', '2020-10-19', '2020-10-20', '2020-10-21', '2020-10-22', '2020-10-23', '2020-10-27', '2020-10-28', '2020-10-29', '2020-10-30', '2020-11-09', '2020-11-12', '2020-11-17', '2020-11-18', '2020-11-19', '2020-12-01', '2020-12-18', '2021-01-07', '2021-01-19', '2021-01-20', '2021-01-21', '2021-01-26', '2021-01-27', '2021-01-28', '2021-01-29', '2021-02-02', '2021-02-03', '2021-02-08', '2021-02-09', '2021-02-10', '2021-02-11', '2021-02-12', '2021-02-17', '2021-02-18', '2021-02-22', '2021-02-23', '2021-02-25', '2021-02-26', '2021-03-01', '2021-03-17', '2021-03-31', '2021-04-02', '2021-04-14', '2021-04-15', '2021-04-19', '2021-04-20', '2021-04-23', '2021-04-27', '2021-04-28', '2021-04-29', '2021-04-30', '2021-05-04', '2021-05-05', '2021-05-13', '2021-05-19', '2021-05-25', '2021-05-26', '2021-05-27', '2021-06-04', '2021-06-24', '2021-07-01', '2021-07-13', '2021-07-15', '2021-07-19', '2021-07-20', '2021-07-21', '2021-07-22', '2021-07-23', '2021-07-27', '2021-07-28', '2021-07-29', '2021-07-30', '2021-08-03', '2021-08-04', '2021-08-12', '2021-08-17', '2021-08-18', '2021-08-20', '2021-08-24', '2021-08-25', '2021-09-09', '2021-09-23', '2021-10-13', '2021-10-14', '2021-10-15', '2021-10-19', '2021-10-20', '2021-10-21', '2021-10-22', '2021-10-26', '2021-10-27', '2021-10-28', '2021-10-29', '2021-11-02', '2021-11-05', '2021-11-12', '2021-11-16', '2021-11-22', '2021-11-23', '2021-11-24', '2021-12-02', '2022-01-06', '2022-01-19', '2022-01-20', '2022-01-25', '2022-01-27', '2022-01-28', '2022-01-31', '2022-02-03', '2022-02-04', '2022-02-07', '2022-02-09', '2022-02-10', '2022-02-11', '2022-02-12', '2022-02-15', '2022-02-16', '2022-02-17', '2022-02-22', '2022-02-23', '2022-02-24', '2022-02-25', '2022-03-01', '2022-03-11', '2022-03-31', '2022-04-05', '2022-04-13', '2022-04-14', '2022-04-19', '2022-04-20', '2022-04-22', '2022-04-25', '2022-04-26', '2022-04-27', '2022-04-28', '2022-04-29', '2022-05-02', '2022-05-04', '2022-05-05', '2022-05-06', '2022-05-11', '2022-05-17', '2022-05-18', '2022-05-25', '2022-05-31', '2022-06-27', '2022-06-30', '2022-07-14', '2022-07-15', '2022-07-18', '2022-07-21', '2022-07-22', '2022-07-25', '2022-07-26', '2022-07-27', '2022-07-28', '2022-07-29', '2022-08-03', '2022-08-04', '2022-08-05', '2022-08-10', '2022-08-16', '2022-08-17', '2022-08-24', '2022-10-06', '2022-10-13', '2022-10-14', '2022-10-18', '2022-10-19', '2022-10-20', '2022-10-21', '2022-10-25', '2022-10-26', '2022-10-27', '2022-10-28', '2022-11-04', '2022-11-07', '2022-11-08', '2022-11-16', '2022-11-22', '2022-11-29', '2022-11-30', '2022-12-01', '2022-12-20', '2023-01-05', '2023-01-17', '2023-01-19', '2023-01-24', '2023-01-25', '2023-01-26', '2023-01-27', '2023-01-31', '2023-02-02', '2023-02-03', '2023-02-07', '2023-02-08', '2023-02-09', '2023-02-10', '2023-02-14', '2023-02-15', '2023-02-16', '2023-02-21', '2023-02-22', '2023-02-23', '2023-02-24', '2023-03-08', '2023-03-21', '2023-03-28', '2023-04-19', '2023-04-21', '2023-04-24', '2023-04-25', '2023-04-26', '2023-04-27', '2023-04-28', '2023-05-02', '2023-05-03', '2023-05-04', '2023-05-05', '2023-05-10', '2023-05-18', '2023-05-23', '2023-05-24', '2023-05-26', '2023-05-31', '2023-06-27', '2023-06-29', '2023-07-19', '2023-07-20', '2023-07-25', '2023-07-26', '2023-07-27', '2023-07-28', '2023-08-01', '2023-08-02', '2023-08-03', '2023-08-09', '2023-08-17', '2023-08-22', '2023-08-23', '2023-08-30', '2023-10-05', '2023-10-06', '2023-10-12', '2023-10-14', '2023-10-18', '2023-10-20', '2023-10-24', '2023-10-25', '2023-10-26', '2023-10-27', '2023-10-31', '2023-11-01', '2023-11-02', '2023-11-03', '2023-11-06', '2023-11-08', '2023-11-14', '2023-11-15', '2023-11-16', '2023-11-21', '2023-11-29', '2024-01-04', '2024-01-05', '2024-01-12', '2024-01-19', '2024-01-23', '2024-01-25', '2024-01-26', '2024-01-30', '2024-01-31', '2024-02-01', '2024-02-02', '2024-02-05', '2024-02-07', '2024-02-13', '2024-02-14', '2024-02-15', '2024-02-16', '2024-02-20', '2024-02-21', '2024-02-22', '2024-02-26', '2024-02-28', '2024-03-06', '2024-03-15', '2024-03-18', '2024-03-28', '2024-04-04', '2024-04-16', '2024-04-17', '2024-04-19', '2024-04-23', '2024-04-24', '2024-04-25', '2024-04-26', '2024-04-29', '2024-04-30', '2024-05-01', '2024-05-02', '2024-05-03', '2024-05-07', '2024-05-08', '2024-05-14', '2024-05-15', '2024-05-22', '2024-05-30', '2024-06-07', '2024-06-27', '2024-07-15', '2024-07-16', '2024-07-19', '2024-07-23', '2024-07-25', '2024-07-26', '2024-07-30', '2024-07-31', '2024-08-01', '2024-08-02', '2024-08-05', '2024-08-06', '2024-08-07', '2024-08-08', '2024-08-13', '2024-08-14', '2024-08-28', '2024-08-30', '2024-10-07', '2024-10-11', '2024-10-15', '2024-10-17', '2024-10-18', '2024-10-22', '2024-10-23', '2024-10-24', '2024-10-29', '2024-10-30', '2024-10-31', '2024-11-01', '2024-11-04', '2024-11-05', '2024-11-06', '2024-11-12', '2024-11-13', '2024-11-14', '2024-11-20', '2024-12-03', '2024-12-06', '2024-12-19', '2025-01-10', '2025-01-15', '2025-01-22', '2025-01-28', '2025-01-29', '2025-01-30', '2025-01-31', '2025-02-04', '2025-02-05', '2025-02-06', '2025-02-07', '2025-02-12', '2025-02-13', '2025-02-14', '2025-02-15', '2025-02-18', '2025-02-20', '2025-02-21', '2025-02-25', '2025-02-26', '2025-02-27', '2025-03-20', '2025-04-03', '2025-04-08', '2025-04-11', '2025-04-14', '2025-04-16', '2025-04-17', '2025-04-18', '2025-04-22', '2025-04-23'])"
      ]
     },
     "execution_count": 60,
     "metadata": {},
     "output_type": "execute_result"
    }
   ],
   "source": [
    "all_data.keys()"
   ]
  },
  {
   "cell_type": "code",
   "execution_count": 66,
   "id": "21517d91-aa03-4664-a764-91d3aa13b8f2",
   "metadata": {},
   "outputs": [
    {
     "data": {
      "text/plain": [
       "{'name': 'American Express Co', 'figi': 'BBG000BCQZS4', 'sector': 'Financials'}"
      ]
     },
     "execution_count": 66,
     "metadata": {},
     "output_type": "execute_result"
    }
   ],
   "source": [
    "all_data['2020-04-24']['AXP UN Equity']['mt']"
   ]
  },
  {
   "cell_type": "code",
   "execution_count": 64,
   "id": "ef4fbc78-6ef6-479a-99b8-36cdd6e7035e",
   "metadata": {},
   "outputs": [
    {
     "data": {
      "text/html": [
       "<div>\n",
       "<style scoped>\n",
       "    .dataframe tbody tr th:only-of-type {\n",
       "        vertical-align: middle;\n",
       "    }\n",
       "\n",
       "    .dataframe tbody tr th {\n",
       "        vertical-align: top;\n",
       "    }\n",
       "\n",
       "    .dataframe thead th {\n",
       "        text-align: right;\n",
       "    }\n",
       "</style>\n",
       "<table border=\"1\" class=\"dataframe\">\n",
       "  <thead>\n",
       "    <tr style=\"text-align: right;\">\n",
       "      <th></th>\n",
       "      <th></th>\n",
       "      <th>PERIOD_END_DATE</th>\n",
       "    </tr>\n",
       "    <tr>\n",
       "      <th>AS_OF_DATE</th>\n",
       "      <th>ID</th>\n",
       "      <th></th>\n",
       "    </tr>\n",
       "  </thead>\n",
       "  <tbody>\n",
       "    <tr>\n",
       "      <th rowspan=\"5\" valign=\"top\">2020-04-23</th>\n",
       "      <th>AAPL UQ Equity</th>\n",
       "      <td>2019-12-28</td>\n",
       "    </tr>\n",
       "    <tr>\n",
       "      <th>HON UN Equity</th>\n",
       "      <td>2019-12-31</td>\n",
       "    </tr>\n",
       "    <tr>\n",
       "      <th>SHW UN Equity</th>\n",
       "      <td>2019-12-31</td>\n",
       "    </tr>\n",
       "    <tr>\n",
       "      <th>CSCO UW Equity</th>\n",
       "      <td>2020-01-25</td>\n",
       "    </tr>\n",
       "    <tr>\n",
       "      <th>CSCO UQ Equity</th>\n",
       "      <td>2020-01-25</td>\n",
       "    </tr>\n",
       "    <tr>\n",
       "      <th>...</th>\n",
       "      <th>...</th>\n",
       "      <td>...</td>\n",
       "    </tr>\n",
       "    <tr>\n",
       "      <th>2025-04-18</th>\n",
       "      <th>AXP UN Equity</th>\n",
       "      <td>2025-03-31</td>\n",
       "    </tr>\n",
       "    <tr>\n",
       "      <th rowspan=\"3\" valign=\"top\">2025-04-22</th>\n",
       "      <th>MMM UN Equity</th>\n",
       "      <td>2025-03-31</td>\n",
       "    </tr>\n",
       "    <tr>\n",
       "      <th>RTX UN Equity</th>\n",
       "      <td>2025-03-31</td>\n",
       "    </tr>\n",
       "    <tr>\n",
       "      <th>VZ UN Equity</th>\n",
       "      <td>2025-03-31</td>\n",
       "    </tr>\n",
       "    <tr>\n",
       "      <th>2025-04-23</th>\n",
       "      <th>BA UN Equity</th>\n",
       "      <td>2025-03-31</td>\n",
       "    </tr>\n",
       "  </tbody>\n",
       "</table>\n",
       "<p>942 rows × 1 columns</p>\n",
       "</div>"
      ],
      "text/plain": [
       "                          PERIOD_END_DATE\n",
       "AS_OF_DATE ID                            \n",
       "2020-04-23 AAPL UQ Equity      2019-12-28\n",
       "           HON UN Equity       2019-12-31\n",
       "           SHW UN Equity       2019-12-31\n",
       "           CSCO UW Equity      2020-01-25\n",
       "           CSCO UQ Equity      2020-01-25\n",
       "...                                   ...\n",
       "2025-04-18 AXP UN Equity       2025-03-31\n",
       "2025-04-22 MMM UN Equity       2025-03-31\n",
       "           RTX UN Equity       2025-03-31\n",
       "           VZ UN Equity        2025-03-31\n",
       "2025-04-23 BA UN Equity        2025-03-31\n",
       "\n",
       "[942 rows x 1 columns]"
      ]
     },
     "execution_count": 64,
     "metadata": {},
     "output_type": "execute_result"
    }
   ],
   "source": [
    "df_rebalance_dates"
   ]
  },
  {
   "cell_type": "code",
   "execution_count": null,
   "id": "f59aec04-342f-46b5-bdd9-25ec5dbc2f01",
   "metadata": {},
   "outputs": [],
   "source": []
  }
 ],
 "metadata": {
  "kernelspec": {
   "display_name": "Bloomberg Lab Python 3",
   "language": "python",
   "name": "remote-jupyterpython"
  },
  "language_info": {
   "codemirror_mode": {
    "name": "ipython",
    "version": 3
   },
   "file_extension": ".py",
   "mimetype": "text/x-python",
   "name": "python",
   "nbconvert_exporter": "python",
   "pygments_lexer": "ipython3",
   "version": "3.9.12"
  }
 },
 "nbformat": 4,
 "nbformat_minor": 5
}
