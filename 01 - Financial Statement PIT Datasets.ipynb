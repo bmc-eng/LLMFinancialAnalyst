{
 "cells": [
  {
   "cell_type": "markdown",
   "id": "687edd84-1940-4630-af73-31dea8b66700",
   "metadata": {},
   "source": [
    "# Request Financial Statement Datasets"
   ]
  },
  {
   "cell_type": "code",
   "execution_count": 1,
   "id": "e4240e9c-2b72-4e99-8df6-e667c1339754",
   "metadata": {},
   "outputs": [],
   "source": [
    "import bql\n",
    "import pandas as pd\n",
    "import utils.data_request_helper as helper\n",
    "from utils.s3_helper import S3Helper\n",
    "\n",
    "import os\n",
    "import importlib\n",
    "import json\n",
    "\n",
    "from ipywidgets import IntProgress\n",
    "from IPython.display import display"
   ]
  },
  {
   "cell_type": "code",
   "execution_count": 2,
   "id": "535525ee-62b3-4408-bd28-4c860b5dd831",
   "metadata": {},
   "outputs": [
    {
     "data": {
      "text/plain": [
       "<module 'utils.data_request_helper' from '/project/utils/data_request_helper.py'>"
      ]
     },
     "execution_count": 2,
     "metadata": {},
     "output_type": "execute_result"
    }
   ],
   "source": [
    "importlib.reload(helper)"
   ]
  },
  {
   "cell_type": "code",
   "execution_count": 3,
   "id": "64750668-a993-473e-b1ac-3cabc1c4092f",
   "metadata": {},
   "outputs": [],
   "source": [
    "# Index to use for point in time firms\n",
    "index = 'INDU Index'\n",
    "filename = 'data_quarterly_pit_indu_refresh_blended.json'\n",
    "reporting_period = 'Q'\n",
    "\n",
    "# rebalance dates for the index\n",
    "rebalance_dates = ['2024-12-31',\n",
    "        '2024-09-30',\n",
    "        '2024-06-30',\n",
    "        '2024-03-31',\n",
    "        '2023-12-31',\n",
    "        '2023-09-30',\n",
    "        '2023-06-30',\n",
    "        '2023-03-31',\n",
    "        '2022-12-31',\n",
    "        '2022-09-30',\n",
    "        '2022-06-30',\n",
    "        '2022-03-31',\n",
    "        '2021-12-31',\n",
    "        '2021-09-30',\n",
    "        '2021-06-30',\n",
    "        '2021-03-31',\n",
    "        '2020-12-31',\n",
    "        '2020-09-30',\n",
    "        '2020-06-30',\n",
    "        '2020-03-31',\n",
    "        '2019-12-31',\n",
    "        '2019-09-30',\n",
    "        '2019-06-30',\n",
    "        '2019-03-31',]"
   ]
  },
  {
   "cell_type": "code",
   "execution_count": 4,
   "id": "93c39803-6b5f-4681-820b-e8fd9bce3faf",
   "metadata": {},
   "outputs": [],
   "source": [
    "data_helper = helper.FinancialDataRequester(index_id=index,\n",
    "                                            dataset_name='quarterly_pit_indu_blended',\n",
    "                                            rebalance_dates=rebalance_dates,\n",
    "                                            reporting_frequency=reporting_period)"
   ]
  },
  {
   "cell_type": "code",
   "execution_count": 5,
   "id": "2f3b2e1e-b63b-44b7-974c-01024335def1",
   "metadata": {},
   "outputs": [
    {
     "name": "stderr",
     "output_type": "stream",
     "text": [
      "100%|██████████| 24/24 [00:22<00:00,  1.04it/s]\n"
     ]
    }
   ],
   "source": [
    "df_rebalance_dates = data_helper.get_rebalance_dates()"
   ]
  },
  {
   "cell_type": "code",
   "execution_count": 6,
   "id": "6eee46d9-54e6-4993-aad7-9afd65b936ce",
   "metadata": {},
   "outputs": [
    {
     "name": "stderr",
     "output_type": "stream",
     "text": [
      "100%|█████████▉| 434/435 [27:23<00:03,  3.59s/it]"
     ]
    }
   ],
   "source": [
    "all_data = data_helper.request_financial_data(df_rebalance_dates)"
   ]
  },
  {
   "cell_type": "code",
   "execution_count": 13,
   "id": "b3212229-9959-4a06-b417-b6d1bd48379b",
   "metadata": {},
   "outputs": [],
   "source": [
    "# Write the data to local storage\n",
    "local_file = '/tmp/dow_quarterly_ltm.json'\n",
    "with open(local_file, 'w') as f:\n",
    "    json.dump(all_data, f)"
   ]
  },
  {
   "cell_type": "code",
   "execution_count": 9,
   "id": "0f75bfa1-dff3-4ce4-ac47-2475231a7ee9",
   "metadata": {},
   "outputs": [],
   "source": [
    "s3_helper = S3Helper('tmp/fs')"
   ]
  },
  {
   "cell_type": "code",
   "execution_count": 14,
   "id": "72d6ffe3-04f8-4e24-b13e-109dadb042dc",
   "metadata": {},
   "outputs": [],
   "source": [
    "s3_helper.add_file(local_filename=local_file)"
   ]
  },
  {
   "cell_type": "markdown",
   "id": "e5ba491d-4736-4c0b-9f78-be696b6061c9",
   "metadata": {},
   "source": [
    "### Request Annual datasets"
   ]
  },
  {
   "cell_type": "code",
   "execution_count": 3,
   "id": "108f99f5-3343-44c5-ba94-94ae287f5765",
   "metadata": {},
   "outputs": [],
   "source": [
    "# Index to use for point in time firms\n",
    "index = 'INDU Index'\n",
    "filename = 'data_annual_pit_dow.json'\n",
    "reporting_period = 'A'\n",
    "\n",
    "# rebalance dates for the index\n",
    "rebalance_dates = ['2024-12-31',\n",
    "        '2024-09-30',\n",
    "        '2024-06-30',\n",
    "        '2024-03-31',\n",
    "        '2023-12-31',\n",
    "        '2023-09-30',\n",
    "        '2023-06-30',\n",
    "        '2023-03-31',\n",
    "        '2022-12-31',\n",
    "        '2022-09-30',\n",
    "        '2022-06-30',\n",
    "        '2022-03-31',\n",
    "        '2021-12-31',\n",
    "        '2021-09-30',\n",
    "        '2021-06-30',\n",
    "        '2021-03-31',\n",
    "        '2020-12-31',\n",
    "        '2020-09-30',\n",
    "        '2020-06-30',\n",
    "        '2020-03-31',\n",
    "        '2019-12-31',\n",
    "        '2019-09-30',\n",
    "        '2019-06-30',\n",
    "        '2019-03-31',]"
   ]
  },
  {
   "cell_type": "code",
   "execution_count": 4,
   "id": "c13514a8-c39a-43fe-af63-fffb2aa13fa2",
   "metadata": {},
   "outputs": [],
   "source": [
    "data_helper = helper.FinancialDataRequester(index_id=index,\n",
    "                                            dataset_name='quarterly_pit_indu_blended',\n",
    "                                            rebalance_dates=rebalance_dates,\n",
    "                                            reporting_frequency=reporting_period)"
   ]
  },
  {
   "cell_type": "code",
   "execution_count": 5,
   "id": "f15ec7aa-4e00-46f2-93ec-6713cc20b221",
   "metadata": {},
   "outputs": [
    {
     "name": "stderr",
     "output_type": "stream",
     "text": [
      "100%|██████████| 24/24 [00:18<00:00,  1.52it/s]"
     ]
    }
   ],
   "source": [
    "df_rebalance_dates = data_helper.get_rebalance_dates()"
   ]
  },
  {
   "cell_type": "code",
   "execution_count": 6,
   "id": "718540e0-c2d6-4507-97a7-e3f3be9e22b8",
   "metadata": {},
   "outputs": [
    {
     "name": "stderr",
     "output_type": "stream",
     "text": [
      "100%|██████████| 24/24 [00:45<00:00,  1.91s/it]\n",
      " 99%|█████████▉| 145/146 [09:04<00:03,  3.50s/it]"
     ]
    }
   ],
   "source": [
    "all_data = data_helper.request_financial_data(df_rebalance_dates)"
   ]
  },
  {
   "cell_type": "code",
   "execution_count": null,
   "id": "f3953b04-a979-4c3d-9572-0cec6240ea3d",
   "metadata": {},
   "outputs": [],
   "source": []
  }
 ],
 "metadata": {
  "kernelspec": {
   "display_name": "Bloomberg Lab Python 3",
   "language": "python",
   "name": "remote-jupyterpython"
  },
  "language_info": {
   "codemirror_mode": {
    "name": "ipython",
    "version": 3
   },
   "file_extension": ".py",
   "mimetype": "text/x-python",
   "name": "python",
   "nbconvert_exporter": "python",
   "pygments_lexer": "ipython3",
   "version": "3.9.12"
  }
 },
 "nbformat": 4,
 "nbformat_minor": 5
}
