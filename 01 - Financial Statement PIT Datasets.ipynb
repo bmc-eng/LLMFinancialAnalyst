{
 "cells": [
  {
   "cell_type": "markdown",
   "id": "687edd84-1940-4630-af73-31dea8b66700",
   "metadata": {},
   "source": [
    "# Request Financial Statement Datasets"
   ]
  },
  {
   "cell_type": "code",
   "execution_count": 1,
   "id": "e4240e9c-2b72-4e99-8df6-e667c1339754",
   "metadata": {},
   "outputs": [],
   "source": [
    "import bql\n",
    "import pandas as pd\n",
    "import utils.data_request_helper as helper\n",
    "from utils.s3_helper import S3Helper\n",
    "\n",
    "import os\n",
    "import importlib\n",
    "import json\n",
    "\n",
    "from ipywidgets import IntProgress\n",
    "from IPython.display import display"
   ]
  },
  {
   "cell_type": "code",
   "execution_count": 31,
   "id": "535525ee-62b3-4408-bd28-4c860b5dd831",
   "metadata": {},
   "outputs": [
    {
     "data": {
      "text/plain": [
       "<module 'utils.data_request_helper' from '/project/utils/data_request_helper.py'>"
      ]
     },
     "execution_count": 31,
     "metadata": {},
     "output_type": "execute_result"
    }
   ],
   "source": [
    "importlib.reload(helper)"
   ]
  },
  {
   "cell_type": "code",
   "execution_count": null,
   "id": "64750668-a993-473e-b1ac-3cabc1c4092f",
   "metadata": {},
   "outputs": [],
   "source": [
    "# Index to use for point in time firms\n",
    "index = 'INDU Index'\n",
    "filename = 'data_quarterly_pit_indu_refresh_blended.json'\n",
    "reporting_period = 'Q'\n",
    "\n",
    "# rebalance dates for the index\n",
    "rebalance_dates = ['2024-12-31',\n",
    "        '2024-09-30',\n",
    "        '2024-06-30',\n",
    "        '2024-03-31',\n",
    "        '2023-12-31',\n",
    "        '2023-09-30',\n",
    "        '2023-06-30',\n",
    "        '2023-03-31',\n",
    "        '2022-12-31',\n",
    "        '2022-09-30',\n",
    "        '2022-06-30',\n",
    "        '2022-03-31',\n",
    "        '2021-12-31',\n",
    "        '2021-09-30',\n",
    "        '2021-06-30',\n",
    "        '2021-03-31',\n",
    "        '2020-12-31',\n",
    "        '2020-09-30',\n",
    "        '2020-06-30',\n",
    "        '2020-03-31',\n",
    "        '2019-12-31',\n",
    "        '2019-09-30',\n",
    "        '2019-06-30',\n",
    "        '2019-03-31',]"
   ]
  },
  {
   "cell_type": "code",
   "execution_count": 4,
   "id": "93c39803-6b5f-4681-820b-e8fd9bce3faf",
   "metadata": {},
   "outputs": [],
   "source": [
    "data_helper = helper.FinancialDataRequester(index_id=index,\n",
    "                                            dataset_name='quarterly_pit_indu_blended',\n",
    "                                            rebalance_dates=rebalance_dates,\n",
    "                                            reporting_frequency=reporting_period)"
   ]
  },
  {
   "cell_type": "code",
   "execution_count": 5,
   "id": "2f3b2e1e-b63b-44b7-974c-01024335def1",
   "metadata": {},
   "outputs": [
    {
     "name": "stderr",
     "output_type": "stream",
     "text": [
      "100%|██████████| 24/24 [00:22<00:00,  1.04it/s]\n"
     ]
    }
   ],
   "source": [
    "df_rebalance_dates = data_helper.get_rebalance_dates()"
   ]
  },
  {
   "cell_type": "code",
   "execution_count": 6,
   "id": "6eee46d9-54e6-4993-aad7-9afd65b936ce",
   "metadata": {},
   "outputs": [
    {
     "name": "stderr",
     "output_type": "stream",
     "text": [
      "100%|█████████▉| 434/435 [27:23<00:03,  3.59s/it]"
     ]
    }
   ],
   "source": [
    "all_data = data_helper.request_financial_data(df_rebalance_dates)"
   ]
  },
  {
   "cell_type": "code",
   "execution_count": 13,
   "id": "b3212229-9959-4a06-b417-b6d1bd48379b",
   "metadata": {},
   "outputs": [],
   "source": [
    "# Write the data to local storage\n",
    "local_file = '/tmp/dow_quarterly_ltm.json'\n",
    "with open(local_file, 'w') as f:\n",
    "    json.dump(all_data, f)"
   ]
  },
  {
   "cell_type": "code",
   "execution_count": 9,
   "id": "0f75bfa1-dff3-4ce4-ac47-2475231a7ee9",
   "metadata": {},
   "outputs": [],
   "source": [
    "s3_helper = S3Helper('tmp/fs')"
   ]
  },
  {
   "cell_type": "code",
   "execution_count": 14,
   "id": "72d6ffe3-04f8-4e24-b13e-109dadb042dc",
   "metadata": {},
   "outputs": [],
   "source": [
    "s3_helper.add_file(local_filename=local_file)"
   ]
  },
  {
   "cell_type": "markdown",
   "id": "e5ba491d-4736-4c0b-9f78-be696b6061c9",
   "metadata": {},
   "source": [
    "### Request Annual datasets"
   ]
  },
  {
   "cell_type": "code",
   "execution_count": 32,
   "id": "108f99f5-3343-44c5-ba94-94ae287f5765",
   "metadata": {},
   "outputs": [],
   "source": [
    "# Index to use for point in time firms\n",
    "index = 'INDU Index'\n",
    "filename = 'data_annual_pit_dow.json'\n",
    "reporting_period = 'A'\n",
    "\n",
    "# rebalance dates for the index\n",
    "rebalance_dates = ['2024-12-31',\n",
    "        '2024-09-30',\n",
    "        '2024-06-30',\n",
    "        '2024-03-31',\n",
    "        '2023-12-31',\n",
    "        '2023-09-30',\n",
    "        '2023-06-30',\n",
    "        '2023-03-31',\n",
    "        '2022-12-31',\n",
    "        '2022-09-30',\n",
    "        '2022-06-30',\n",
    "        '2022-03-31',\n",
    "        '2021-12-31',\n",
    "        '2021-09-30',\n",
    "        '2021-06-30',\n",
    "        '2021-03-31',\n",
    "        '2020-12-31',\n",
    "        '2020-09-30',\n",
    "        '2020-06-30',\n",
    "        '2020-03-31',\n",
    "        '2019-12-31',\n",
    "        '2019-09-30',\n",
    "        '2019-06-30',\n",
    "        '2019-03-31',]"
   ]
  },
  {
   "cell_type": "code",
   "execution_count": 33,
   "id": "c13514a8-c39a-43fe-af63-fffb2aa13fa2",
   "metadata": {},
   "outputs": [],
   "source": [
    "data_helper = helper.FinancialDataRequester(index_id=index,\n",
    "                                            dataset_name='annual_pit_indu_blended',\n",
    "                                            rebalance_dates=rebalance_dates,\n",
    "                                            reporting_frequency=reporting_period)"
   ]
  },
  {
   "cell_type": "code",
   "execution_count": 35,
   "id": "cbf8a05e-38af-48ae-ad26-55e7defaefc6",
   "metadata": {},
   "outputs": [
    {
     "name": "stderr",
     "output_type": "stream",
     "text": [
      "100%|██████████| 24/24 [00:18<00:00,  1.29it/s]\n",
      " 99%|█████████▉| 145/146 [09:05<00:03,  3.76s/it]\n"
     ]
    },
    {
     "ename": "ResponseError",
     "evalue": "Error encountered while processing universe list expression. Input failed to evaluate: \"LIST([])\".",
     "output_type": "error",
     "traceback": [
      "\u001b[0;31m---------------------------------------------------------------------------\u001b[0m",
      "\u001b[0;31mResponseError\u001b[0m                             Traceback (most recent call last)",
      "Cell \u001b[0;32mIn[35], line 1\u001b[0m\n\u001b[0;32m----> 1\u001b[0m all_data \u001b[38;5;241m=\u001b[39m \u001b[43mdata_helper\u001b[49m\u001b[38;5;241;43m.\u001b[39;49m\u001b[43mcreate_financial_dataset\u001b[49m\u001b[43m(\u001b[49m\u001b[43m)\u001b[49m\n",
      "File \u001b[0;32m/project/utils/data_request_helper.py:241\u001b[0m, in \u001b[0;36mFinancialDataRequester.create_financial_dataset\u001b[0;34m(self)\u001b[0m\n\u001b[1;32m    239\u001b[0m \u001b[38;5;66;03m#request metadata\u001b[39;00m\n\u001b[1;32m    240\u001b[0m univ, meta \u001b[38;5;241m=\u001b[39m setup_metadata(unique_securities)\n\u001b[0;32m--> 241\u001b[0m ref_datasets \u001b[38;5;241m=\u001b[39m \u001b[38;5;28;43mself\u001b[39;49m\u001b[38;5;241;43m.\u001b[39;49m\u001b[43m_process_metadata\u001b[49m\u001b[43m(\u001b[49m\u001b[43muniv\u001b[49m\u001b[43m,\u001b[49m\u001b[43m \u001b[49m\u001b[43mmeta\u001b[49m\u001b[43m)\u001b[49m\n\u001b[1;32m    243\u001b[0m \u001b[38;5;28;01mreturn\u001b[39;00m \u001b[38;5;28mself\u001b[39m\u001b[38;5;241m.\u001b[39m_combine_metadata(all_data, ref_datasets)\n",
      "File \u001b[0;32m/project/utils/data_request_helper.py:361\u001b[0m, in \u001b[0;36mFinancialDataRequester._process_metadata\u001b[0;34m(self, securities, fields)\u001b[0m\n\u001b[1;32m    359\u001b[0m \u001b[38;5;28;01mdef\u001b[39;00m\u001b[38;5;250m \u001b[39m\u001b[38;5;21m_process_metadata\u001b[39m(\u001b[38;5;28mself\u001b[39m, securities, fields):\n\u001b[1;32m    360\u001b[0m     req \u001b[38;5;241m=\u001b[39m bql\u001b[38;5;241m.\u001b[39mRequest(securities, fields)\n\u001b[0;32m--> 361\u001b[0m     data \u001b[38;5;241m=\u001b[39m \u001b[38;5;28;43mself\u001b[39;49m\u001b[38;5;241;43m.\u001b[39;49m\u001b[43m_bq\u001b[49m\u001b[38;5;241;43m.\u001b[39;49m\u001b[43mexecute\u001b[49m\u001b[43m(\u001b[49m\u001b[43mreq\u001b[49m\u001b[43m)\u001b[49m\n\u001b[1;32m    362\u001b[0m     df \u001b[38;5;241m=\u001b[39m [d\u001b[38;5;241m.\u001b[39mdf() \u001b[38;5;28;01mfor\u001b[39;00m d \u001b[38;5;129;01min\u001b[39;00m data]\n\u001b[1;32m    363\u001b[0m     df1 \u001b[38;5;241m=\u001b[39m pd\u001b[38;5;241m.\u001b[39mconcat(df, axis\u001b[38;5;241m=\u001b[39m\u001b[38;5;241m1\u001b[39m)\n",
      "File \u001b[0;32m/opt/kernel/lib/python3.9/site-packages/bqutil/timing_utils.py:116\u001b[0m, in \u001b[0;36mtrace_it.<locals>.decorator.<locals>.wrapper\u001b[0;34m(*args, **kwargs)\u001b[0m\n\u001b[1;32m    106\u001b[0m     logger_\u001b[38;5;241m.\u001b[39mlog(\n\u001b[1;32m    107\u001b[0m         log_args_level,\n\u001b[1;32m    108\u001b[0m         \u001b[38;5;124m\"\u001b[39m\u001b[38;5;124mExecuting \u001b[39m\u001b[38;5;132;01m%s\u001b[39;00m\u001b[38;5;124m with args=\u001b[39m\u001b[38;5;132;01m%s\u001b[39;00m\u001b[38;5;124m, kwargs=\u001b[39m\u001b[38;5;132;01m%s\u001b[39;00m\u001b[38;5;124m\"\u001b[39m,\n\u001b[1;32m    109\u001b[0m         name_, args, kwargs)\n\u001b[1;32m    111\u001b[0m \u001b[38;5;28;01mwith\u001b[39;00m ScopedTracer(name\u001b[38;5;241m=\u001b[39mname_,\n\u001b[1;32m    112\u001b[0m                   logger\u001b[38;5;241m=\u001b[39mlogger_,\n\u001b[1;32m    113\u001b[0m                   level\u001b[38;5;241m=\u001b[39mlevel,\n\u001b[1;32m    114\u001b[0m                   publish\u001b[38;5;241m=\u001b[39mpublish,\n\u001b[1;32m    115\u001b[0m                   \u001b[38;5;241m*\u001b[39m\u001b[38;5;241m*\u001b[39mdecorator_kwargs):\n\u001b[0;32m--> 116\u001b[0m     \u001b[38;5;28;01mreturn\u001b[39;00m \u001b[43mfunc\u001b[49m\u001b[43m(\u001b[49m\u001b[38;5;241;43m*\u001b[39;49m\u001b[43margs\u001b[49m\u001b[43m,\u001b[49m\u001b[43m \u001b[49m\u001b[38;5;241;43m*\u001b[39;49m\u001b[38;5;241;43m*\u001b[39;49m\u001b[43mkwargs\u001b[49m\u001b[43m)\u001b[49m\n",
      "File \u001b[0;32m/opt/kernel/lib/python3.9/site-packages/bql/service.py:537\u001b[0m, in \u001b[0;36mService.execute\u001b[0;34m(self, request, callback, error_callback)\u001b[0m\n\u001b[1;32m    528\u001b[0m         \u001b[38;5;28;01mreturn\u001b[39;00m \u001b[38;5;28mself\u001b[39m\u001b[38;5;241m.\u001b[39m_request_executor\u001b[38;5;241m.\u001b[39mexecute_string(\n\u001b[1;32m    529\u001b[0m             request,\n\u001b[1;32m    530\u001b[0m             callback,\n\u001b[1;32m    531\u001b[0m             error_callback)\n\u001b[1;32m    532\u001b[0m \u001b[38;5;28;01mexcept\u001b[39;00m ResponseError \u001b[38;5;28;01mas\u001b[39;00m ex:\n\u001b[1;32m    533\u001b[0m     \u001b[38;5;66;03m# Deliberately re-raise the exception here with a truncated stack\u001b[39;00m\n\u001b[1;32m    534\u001b[0m     \u001b[38;5;66;03m# trace so that users of the library don't get to see\u001b[39;00m\n\u001b[1;32m    535\u001b[0m     \u001b[38;5;66;03m# library-internal stack frames when they get an error from the\u001b[39;00m\n\u001b[1;32m    536\u001b[0m     \u001b[38;5;66;03m# BQL backend.\u001b[39;00m\n\u001b[0;32m--> 537\u001b[0m     \u001b[38;5;28;01mraise\u001b[39;00m ex\n",
      "File \u001b[0;32m/opt/kernel/lib/python3.9/site-packages/bql/service.py:522\u001b[0m, in \u001b[0;36mService.execute\u001b[0;34m(self, request, callback, error_callback)\u001b[0m\n\u001b[1;32m    520\u001b[0m \u001b[38;5;28;01mtry\u001b[39;00m:\n\u001b[1;32m    521\u001b[0m     \u001b[38;5;28;01mif\u001b[39;00m \u001b[38;5;28misinstance\u001b[39m(request, Request):\n\u001b[0;32m--> 522\u001b[0m         \u001b[38;5;28;01mreturn\u001b[39;00m \u001b[38;5;28;43mself\u001b[39;49m\u001b[38;5;241;43m.\u001b[39;49m\u001b[43m_request_executor\u001b[49m\u001b[38;5;241;43m.\u001b[39;49m\u001b[43mexecute\u001b[49m\u001b[43m(\u001b[49m\n\u001b[1;32m    523\u001b[0m \u001b[43m            \u001b[49m\u001b[43mrequest\u001b[49m\u001b[43m,\u001b[49m\n\u001b[1;32m    524\u001b[0m \u001b[43m            \u001b[49m\u001b[38;5;28;43mself\u001b[39;49m\u001b[38;5;241;43m.\u001b[39;49m\u001b[43m__preferences\u001b[49m\u001b[43m,\u001b[49m\n\u001b[1;32m    525\u001b[0m \u001b[43m            \u001b[49m\u001b[43mcallback\u001b[49m\u001b[43m,\u001b[49m\n\u001b[1;32m    526\u001b[0m \u001b[43m            \u001b[49m\u001b[43merror_callback\u001b[49m\u001b[43m)\u001b[49m\n\u001b[1;32m    527\u001b[0m     \u001b[38;5;28;01melse\u001b[39;00m:\n\u001b[1;32m    528\u001b[0m         \u001b[38;5;28;01mreturn\u001b[39;00m \u001b[38;5;28mself\u001b[39m\u001b[38;5;241m.\u001b[39m_request_executor\u001b[38;5;241m.\u001b[39mexecute_string(\n\u001b[1;32m    529\u001b[0m             request,\n\u001b[1;32m    530\u001b[0m             callback,\n\u001b[1;32m    531\u001b[0m             error_callback)\n",
      "File \u001b[0;32m/opt/kernel/lib/python3.9/site-packages/bql/request/request_executor.py:27\u001b[0m, in \u001b[0;36mRequestExecutor.execute\u001b[0;34m(self, request, preferences, callback, error_callback)\u001b[0m\n\u001b[1;32m     16\u001b[0m \u001b[38;5;250m\u001b[39m\u001b[38;5;124;03m\"\"\"Executes the given BQL query request and return its response.\u001b[39;00m\n\u001b[1;32m     17\u001b[0m \n\u001b[1;32m     18\u001b[0m \u001b[38;5;124;03m`request` a :class:`Request` object.  Use by default `preferences`\u001b[39;00m\n\u001b[0;32m   (...)\u001b[0m\n\u001b[1;32m     22\u001b[0m \u001b[38;5;124;03mthe request.\u001b[39;00m\n\u001b[1;32m     23\u001b[0m \u001b[38;5;124;03m\"\"\"\u001b[39;00m\n\u001b[1;32m     25\u001b[0m request_string, item_names \u001b[38;5;241m=\u001b[39m \u001b[38;5;28mself\u001b[39m\u001b[38;5;241m.\u001b[39m__make_request_string(\n\u001b[1;32m     26\u001b[0m     request, preferences)\n\u001b[0;32m---> 27\u001b[0m \u001b[38;5;28;01mreturn\u001b[39;00m \u001b[38;5;28;43mself\u001b[39;49m\u001b[38;5;241;43m.\u001b[39;49m\u001b[43m_execute_string\u001b[49m\u001b[43m(\u001b[49m\u001b[43mrequest_string\u001b[49m\u001b[43m,\u001b[49m\n\u001b[1;32m     28\u001b[0m \u001b[43m                            \u001b[49m\u001b[43mitem_names\u001b[49m\u001b[43m,\u001b[49m\n\u001b[1;32m     29\u001b[0m \u001b[43m                            \u001b[49m\u001b[43mcallback\u001b[49m\u001b[43m,\u001b[49m\n\u001b[1;32m     30\u001b[0m \u001b[43m                            \u001b[49m\u001b[43merror_callback\u001b[49m\u001b[43m)\u001b[49m\n",
      "File \u001b[0;32m/opt/kernel/lib/python3.9/site-packages/bql/common/string_request_executor.py:577\u001b[0m, in \u001b[0;36mStringRequestExecutor._execute_string\u001b[0;34m(self, request_string, item_names, callback, error_callback)\u001b[0m\n\u001b[1;32m    575\u001b[0m request_id \u001b[38;5;241m=\u001b[39m client_context\u001b[38;5;241m.\u001b[39mget(\u001b[38;5;124m'\u001b[39m\u001b[38;5;124mclientRequestId\u001b[39m\u001b[38;5;124m'\u001b[39m)\n\u001b[1;32m    576\u001b[0m execution_context \u001b[38;5;241m=\u001b[39m {\u001b[38;5;124m'\u001b[39m\u001b[38;5;124mitem_names\u001b[39m\u001b[38;5;124m'\u001b[39m: item_names, \u001b[38;5;124m'\u001b[39m\u001b[38;5;124mrequest_id\u001b[39m\u001b[38;5;124m'\u001b[39m: request_id}\n\u001b[0;32m--> 577\u001b[0m \u001b[38;5;28;01mreturn\u001b[39;00m \u001b[43mStringRequestExecutor\u001b[49m\u001b[38;5;241;43m.\u001b[39;49m\u001b[43m__route_request\u001b[49m\u001b[43m(\u001b[49m\u001b[38;5;124;43m'\u001b[39;49m\u001b[38;5;124;43mexecute\u001b[39;49m\u001b[38;5;124;43m'\u001b[39;49m\u001b[43m,\u001b[49m\n\u001b[1;32m    578\u001b[0m \u001b[43m                                             \u001b[49m\u001b[43mrequest\u001b[49m\u001b[43m,\u001b[49m\n\u001b[1;32m    579\u001b[0m \u001b[43m                                             \u001b[49m\u001b[43mexecution_context\u001b[49m\u001b[43m,\u001b[49m\n\u001b[1;32m    580\u001b[0m \u001b[43m                                             \u001b[49m\u001b[38;5;28;43mself\u001b[39;49m\u001b[38;5;241;43m.\u001b[39;49m\u001b[43m_execute_impl\u001b[49m\u001b[43m,\u001b[49m\n\u001b[1;32m    581\u001b[0m \u001b[43m                                             \u001b[49m\u001b[38;5;28;43mself\u001b[39;49m\u001b[38;5;241;43m.\u001b[39;49m\u001b[43m_execute_async_impl\u001b[49m\u001b[43m,\u001b[49m\n\u001b[1;32m    582\u001b[0m \u001b[43m                                             \u001b[49m\u001b[43mcallback\u001b[49m\u001b[43m,\u001b[49m\n\u001b[1;32m    583\u001b[0m \u001b[43m                                             \u001b[49m\u001b[43merror_callback\u001b[49m\u001b[43m)\u001b[49m\n",
      "File \u001b[0;32m/opt/kernel/lib/python3.9/site-packages/bql/common/string_request_executor.py:641\u001b[0m, in \u001b[0;36mStringRequestExecutor.__route_request\u001b[0;34m(action, request, execution_context, sync_function, async_function, callback, error_callback)\u001b[0m\n\u001b[1;32m    639\u001b[0m     result \u001b[38;5;241m=\u001b[39m promise\n\u001b[1;32m    640\u001b[0m \u001b[38;5;28;01melse\u001b[39;00m:\n\u001b[0;32m--> 641\u001b[0m     response \u001b[38;5;241m=\u001b[39m \u001b[43msender\u001b[49m\u001b[38;5;241;43m.\u001b[39;49m\u001b[43msync_send\u001b[49m\u001b[43m(\u001b[49m\u001b[43msync_function\u001b[49m\u001b[43m)\u001b[49m\n\u001b[1;32m    642\u001b[0m     result \u001b[38;5;241m=\u001b[39m response\n\u001b[1;32m    643\u001b[0m \u001b[38;5;28;01mreturn\u001b[39;00m result\n",
      "File \u001b[0;32m/opt/kernel/lib/python3.9/site-packages/bql/common/string_request_executor.py:134\u001b[0m, in \u001b[0;36m_LoggedRequestSender.sync_send\u001b[0;34m(self, function)\u001b[0m\n\u001b[1;32m    132\u001b[0m \u001b[38;5;28;01mexcept\u001b[39;00m \u001b[38;5;167;01mException\u001b[39;00m \u001b[38;5;28;01mas\u001b[39;00m ex:\n\u001b[1;32m    133\u001b[0m     \u001b[38;5;28mself\u001b[39m\u001b[38;5;241m.\u001b[39m__log_failure(ex)\n\u001b[0;32m--> 134\u001b[0m     \u001b[38;5;28;01mraise\u001b[39;00m ex\n\u001b[1;32m    135\u001b[0m \u001b[38;5;28;01melse\u001b[39;00m:\n\u001b[1;32m    136\u001b[0m     \u001b[38;5;28mself\u001b[39m\u001b[38;5;241m.\u001b[39m__log_success()\n",
      "File \u001b[0;32m/opt/kernel/lib/python3.9/site-packages/bql/common/string_request_executor.py:131\u001b[0m, in \u001b[0;36m_LoggedRequestSender.sync_send\u001b[0;34m(self, function)\u001b[0m\n\u001b[1;32m    129\u001b[0m \u001b[38;5;28;01mdef\u001b[39;00m\u001b[38;5;250m \u001b[39m\u001b[38;5;21msync_send\u001b[39m(\u001b[38;5;28mself\u001b[39m, function):\n\u001b[1;32m    130\u001b[0m     \u001b[38;5;28;01mtry\u001b[39;00m:\n\u001b[0;32m--> 131\u001b[0m         response \u001b[38;5;241m=\u001b[39m \u001b[43mfunction\u001b[49m\u001b[43m(\u001b[49m\u001b[38;5;28;43mself\u001b[39;49m\u001b[38;5;241;43m.\u001b[39;49m\u001b[43m__request\u001b[49m\u001b[43m,\u001b[49m\u001b[43m \u001b[49m\u001b[38;5;28;43mself\u001b[39;49m\u001b[38;5;241;43m.\u001b[39;49m\u001b[43m__execution_context\u001b[49m\u001b[43m)\u001b[49m\n\u001b[1;32m    132\u001b[0m     \u001b[38;5;28;01mexcept\u001b[39;00m \u001b[38;5;167;01mException\u001b[39;00m \u001b[38;5;28;01mas\u001b[39;00m ex:\n\u001b[1;32m    133\u001b[0m         \u001b[38;5;28mself\u001b[39m\u001b[38;5;241m.\u001b[39m__log_failure(ex)\n",
      "File \u001b[0;32m/opt/kernel/lib/python3.9/site-packages/tenacity/__init__.py:338\u001b[0m, in \u001b[0;36mBaseRetrying.wraps.<locals>.wrapped_f\u001b[0;34m(*args, **kw)\u001b[0m\n\u001b[1;32m    336\u001b[0m copy \u001b[38;5;241m=\u001b[39m \u001b[38;5;28mself\u001b[39m\u001b[38;5;241m.\u001b[39mcopy()\n\u001b[1;32m    337\u001b[0m wrapped_f\u001b[38;5;241m.\u001b[39mstatistics \u001b[38;5;241m=\u001b[39m copy\u001b[38;5;241m.\u001b[39mstatistics  \u001b[38;5;66;03m# type: ignore[attr-defined]\u001b[39;00m\n\u001b[0;32m--> 338\u001b[0m \u001b[38;5;28;01mreturn\u001b[39;00m \u001b[43mcopy\u001b[49m\u001b[43m(\u001b[49m\u001b[43mf\u001b[49m\u001b[43m,\u001b[49m\u001b[43m \u001b[49m\u001b[38;5;241;43m*\u001b[39;49m\u001b[43margs\u001b[49m\u001b[43m,\u001b[49m\u001b[43m \u001b[49m\u001b[38;5;241;43m*\u001b[39;49m\u001b[38;5;241;43m*\u001b[39;49m\u001b[43mkw\u001b[49m\u001b[43m)\u001b[49m\n",
      "File \u001b[0;32m/opt/kernel/lib/python3.9/site-packages/tenacity/__init__.py:477\u001b[0m, in \u001b[0;36mRetrying.__call__\u001b[0;34m(self, fn, *args, **kwargs)\u001b[0m\n\u001b[1;32m    475\u001b[0m retry_state \u001b[38;5;241m=\u001b[39m RetryCallState(retry_object\u001b[38;5;241m=\u001b[39m\u001b[38;5;28mself\u001b[39m, fn\u001b[38;5;241m=\u001b[39mfn, args\u001b[38;5;241m=\u001b[39margs, kwargs\u001b[38;5;241m=\u001b[39mkwargs)\n\u001b[1;32m    476\u001b[0m \u001b[38;5;28;01mwhile\u001b[39;00m \u001b[38;5;28;01mTrue\u001b[39;00m:\n\u001b[0;32m--> 477\u001b[0m     do \u001b[38;5;241m=\u001b[39m \u001b[38;5;28;43mself\u001b[39;49m\u001b[38;5;241;43m.\u001b[39;49m\u001b[43miter\u001b[49m\u001b[43m(\u001b[49m\u001b[43mretry_state\u001b[49m\u001b[38;5;241;43m=\u001b[39;49m\u001b[43mretry_state\u001b[49m\u001b[43m)\u001b[49m\n\u001b[1;32m    478\u001b[0m     \u001b[38;5;28;01mif\u001b[39;00m \u001b[38;5;28misinstance\u001b[39m(do, DoAttempt):\n\u001b[1;32m    479\u001b[0m         \u001b[38;5;28;01mtry\u001b[39;00m:\n",
      "File \u001b[0;32m/opt/kernel/lib/python3.9/site-packages/tenacity/__init__.py:378\u001b[0m, in \u001b[0;36mBaseRetrying.iter\u001b[0;34m(self, retry_state)\u001b[0m\n\u001b[1;32m    376\u001b[0m result \u001b[38;5;241m=\u001b[39m \u001b[38;5;28;01mNone\u001b[39;00m\n\u001b[1;32m    377\u001b[0m \u001b[38;5;28;01mfor\u001b[39;00m action \u001b[38;5;129;01min\u001b[39;00m \u001b[38;5;28mself\u001b[39m\u001b[38;5;241m.\u001b[39miter_state\u001b[38;5;241m.\u001b[39mactions:\n\u001b[0;32m--> 378\u001b[0m     result \u001b[38;5;241m=\u001b[39m \u001b[43maction\u001b[49m\u001b[43m(\u001b[49m\u001b[43mretry_state\u001b[49m\u001b[43m)\u001b[49m\n\u001b[1;32m    379\u001b[0m \u001b[38;5;28;01mreturn\u001b[39;00m result\n",
      "File \u001b[0;32m/opt/kernel/lib/python3.9/site-packages/tenacity/__init__.py:400\u001b[0m, in \u001b[0;36mBaseRetrying._post_retry_check_actions.<locals>.<lambda>\u001b[0;34m(rs)\u001b[0m\n\u001b[1;32m    398\u001b[0m \u001b[38;5;28;01mdef\u001b[39;00m\u001b[38;5;250m \u001b[39m\u001b[38;5;21m_post_retry_check_actions\u001b[39m(\u001b[38;5;28mself\u001b[39m, retry_state: \u001b[38;5;124m\"\u001b[39m\u001b[38;5;124mRetryCallState\u001b[39m\u001b[38;5;124m\"\u001b[39m) \u001b[38;5;241m-\u001b[39m\u001b[38;5;241m>\u001b[39m \u001b[38;5;28;01mNone\u001b[39;00m:\n\u001b[1;32m    399\u001b[0m     \u001b[38;5;28;01mif\u001b[39;00m \u001b[38;5;129;01mnot\u001b[39;00m (\u001b[38;5;28mself\u001b[39m\u001b[38;5;241m.\u001b[39miter_state\u001b[38;5;241m.\u001b[39mis_explicit_retry \u001b[38;5;129;01mor\u001b[39;00m \u001b[38;5;28mself\u001b[39m\u001b[38;5;241m.\u001b[39miter_state\u001b[38;5;241m.\u001b[39mretry_run_result):\n\u001b[0;32m--> 400\u001b[0m         \u001b[38;5;28mself\u001b[39m\u001b[38;5;241m.\u001b[39m_add_action_func(\u001b[38;5;28;01mlambda\u001b[39;00m rs: \u001b[43mrs\u001b[49m\u001b[38;5;241;43m.\u001b[39;49m\u001b[43moutcome\u001b[49m\u001b[38;5;241;43m.\u001b[39;49m\u001b[43mresult\u001b[49m\u001b[43m(\u001b[49m\u001b[43m)\u001b[49m)\n\u001b[1;32m    401\u001b[0m         \u001b[38;5;28;01mreturn\u001b[39;00m\n\u001b[1;32m    403\u001b[0m     \u001b[38;5;28;01mif\u001b[39;00m \u001b[38;5;28mself\u001b[39m\u001b[38;5;241m.\u001b[39mafter \u001b[38;5;129;01mis\u001b[39;00m \u001b[38;5;129;01mnot\u001b[39;00m \u001b[38;5;28;01mNone\u001b[39;00m:\n",
      "File \u001b[0;32m/opt/kernel/lib/python3.9/concurrent/futures/_base.py:439\u001b[0m, in \u001b[0;36mFuture.result\u001b[0;34m(self, timeout)\u001b[0m\n\u001b[1;32m    437\u001b[0m     \u001b[38;5;28;01mraise\u001b[39;00m CancelledError()\n\u001b[1;32m    438\u001b[0m \u001b[38;5;28;01melif\u001b[39;00m \u001b[38;5;28mself\u001b[39m\u001b[38;5;241m.\u001b[39m_state \u001b[38;5;241m==\u001b[39m FINISHED:\n\u001b[0;32m--> 439\u001b[0m     \u001b[38;5;28;01mreturn\u001b[39;00m \u001b[38;5;28;43mself\u001b[39;49m\u001b[38;5;241;43m.\u001b[39;49m\u001b[43m__get_result\u001b[49m\u001b[43m(\u001b[49m\u001b[43m)\u001b[49m\n\u001b[1;32m    441\u001b[0m \u001b[38;5;28mself\u001b[39m\u001b[38;5;241m.\u001b[39m_condition\u001b[38;5;241m.\u001b[39mwait(timeout)\n\u001b[1;32m    443\u001b[0m \u001b[38;5;28;01mif\u001b[39;00m \u001b[38;5;28mself\u001b[39m\u001b[38;5;241m.\u001b[39m_state \u001b[38;5;129;01min\u001b[39;00m [CANCELLED, CANCELLED_AND_NOTIFIED]:\n",
      "File \u001b[0;32m/opt/kernel/lib/python3.9/concurrent/futures/_base.py:391\u001b[0m, in \u001b[0;36mFuture.__get_result\u001b[0;34m(self)\u001b[0m\n\u001b[1;32m    389\u001b[0m \u001b[38;5;28;01mif\u001b[39;00m \u001b[38;5;28mself\u001b[39m\u001b[38;5;241m.\u001b[39m_exception:\n\u001b[1;32m    390\u001b[0m     \u001b[38;5;28;01mtry\u001b[39;00m:\n\u001b[0;32m--> 391\u001b[0m         \u001b[38;5;28;01mraise\u001b[39;00m \u001b[38;5;28mself\u001b[39m\u001b[38;5;241m.\u001b[39m_exception\n\u001b[1;32m    392\u001b[0m     \u001b[38;5;28;01mfinally\u001b[39;00m:\n\u001b[1;32m    393\u001b[0m         \u001b[38;5;66;03m# Break a reference cycle with the exception in self._exception\u001b[39;00m\n\u001b[1;32m    394\u001b[0m         \u001b[38;5;28mself\u001b[39m \u001b[38;5;241m=\u001b[39m \u001b[38;5;28;01mNone\u001b[39;00m\n",
      "File \u001b[0;32m/opt/kernel/lib/python3.9/site-packages/tenacity/__init__.py:480\u001b[0m, in \u001b[0;36mRetrying.__call__\u001b[0;34m(self, fn, *args, **kwargs)\u001b[0m\n\u001b[1;32m    478\u001b[0m \u001b[38;5;28;01mif\u001b[39;00m \u001b[38;5;28misinstance\u001b[39m(do, DoAttempt):\n\u001b[1;32m    479\u001b[0m     \u001b[38;5;28;01mtry\u001b[39;00m:\n\u001b[0;32m--> 480\u001b[0m         result \u001b[38;5;241m=\u001b[39m \u001b[43mfn\u001b[49m\u001b[43m(\u001b[49m\u001b[38;5;241;43m*\u001b[39;49m\u001b[43margs\u001b[49m\u001b[43m,\u001b[49m\u001b[43m \u001b[49m\u001b[38;5;241;43m*\u001b[39;49m\u001b[38;5;241;43m*\u001b[39;49m\u001b[43mkwargs\u001b[49m\u001b[43m)\u001b[49m\n\u001b[1;32m    481\u001b[0m     \u001b[38;5;28;01mexcept\u001b[39;00m \u001b[38;5;167;01mBaseException\u001b[39;00m:  \u001b[38;5;66;03m# noqa: B902\u001b[39;00m\n\u001b[1;32m    482\u001b[0m         retry_state\u001b[38;5;241m.\u001b[39mset_exception(sys\u001b[38;5;241m.\u001b[39mexc_info())  \u001b[38;5;66;03m# type: ignore[arg-type]\u001b[39;00m\n",
      "File \u001b[0;32m/opt/kernel/lib/python3.9/site-packages/bqle/request/cis_request_executor.py:206\u001b[0m, in \u001b[0;36mCisRequestExecutor._execute_impl\u001b[0;34m(self, request, execution_context)\u001b[0m\n\u001b[1;32m    192\u001b[0m     \u001b[38;5;66;03m# TODO: uncomment this once issue in {DRQS 175968612} is resolved\u001b[39;00m\n\u001b[1;32m    193\u001b[0m     \u001b[38;5;66;03m# and we can correctly consume individual chunks from WAG\u001b[39;00m\n\u001b[1;32m    194\u001b[0m     \u001b[38;5;66;03m# partials = cast(\u001b[39;00m\n\u001b[0;32m   (...)\u001b[0m\n\u001b[1;32m    198\u001b[0m     \u001b[38;5;66;03m#     ),\u001b[39;00m\n\u001b[1;32m    199\u001b[0m     \u001b[38;5;66;03m# )\u001b[39;00m\n\u001b[1;32m    200\u001b[0m     partials \u001b[38;5;241m=\u001b[39m cast(\n\u001b[1;32m    201\u001b[0m         \u001b[38;5;28mlist\u001b[39m[ResponseExecuteResponse],\n\u001b[1;32m    202\u001b[0m         \u001b[38;5;28mself\u001b[39m\u001b[38;5;241m.\u001b[39m_send_bqnt_bql_gateway_request_single_response(\n\u001b[1;32m    203\u001b[0m             execute_request, \u001b[38;5;124m\"\u001b[39m\u001b[38;5;124mexecute\u001b[39m\u001b[38;5;124m\"\u001b[39m, request_id\n\u001b[1;32m    204\u001b[0m         ),\n\u001b[1;32m    205\u001b[0m     )\n\u001b[0;32m--> 206\u001b[0m     bql_items \u001b[38;5;241m=\u001b[39m \u001b[43mhandler\u001b[49m\u001b[38;5;241;43m.\u001b[39;49m\u001b[43mprocess_responses\u001b[49m\u001b[43m(\u001b[49m\u001b[43mpartials\u001b[49m\u001b[43m)\u001b[49m\n\u001b[1;32m    207\u001b[0m     \u001b[38;5;28;01mreturn\u001b[39;00m ArrowExecuteResponse\u001b[38;5;241m.\u001b[39mfrom_bql_items(\n\u001b[1;32m    208\u001b[0m         bql_items, execution_context\n\u001b[1;32m    209\u001b[0m     )\n\u001b[1;32m    210\u001b[0m \u001b[38;5;28;01melse\u001b[39;00m:\n",
      "File \u001b[0;32m/opt/kernel/lib/python3.9/site-packages/bqle/request/execute_response_handler.py:239\u001b[0m, in \u001b[0;36m_ExecuteResponseHandler.process_responses\u001b[0;34m(self, partial_responses)\u001b[0m\n\u001b[1;32m    237\u001b[0m \u001b[38;5;250m\u001b[39m\u001b[38;5;124;03m\"\"\"Given a list of partial responses objects, parse them and return a list of ordered data items.\"\"\"\u001b[39;00m\n\u001b[1;32m    238\u001b[0m \u001b[38;5;28;01mfor\u001b[39;00m partial \u001b[38;5;129;01min\u001b[39;00m partial_responses:\n\u001b[0;32m--> 239\u001b[0m     \u001b[38;5;28;43mself\u001b[39;49m\u001b[38;5;241;43m.\u001b[39;49m\u001b[43m_validate_response\u001b[49m\u001b[43m(\u001b[49m\u001b[43mpartial\u001b[49m\u001b[43m)\u001b[49m\n\u001b[1;32m    240\u001b[0m     execute_response \u001b[38;5;241m=\u001b[39m partial[\u001b[38;5;124m\"\u001b[39m\u001b[38;5;124mexecuteResponse\u001b[39m\u001b[38;5;124m\"\u001b[39m]\n\u001b[1;32m    241\u001b[0m     \u001b[38;5;28mself\u001b[39m\u001b[38;5;241m.\u001b[39m_warnings\u001b[38;5;241m.\u001b[39mextend(execute_response\u001b[38;5;241m.\u001b[39mget(\u001b[38;5;124m\"\u001b[39m\u001b[38;5;124mwarning\u001b[39m\u001b[38;5;124m\"\u001b[39m, []))\n",
      "File \u001b[0;32m/opt/kernel/lib/python3.9/site-packages/bqle/request/execute_response_handler.py:290\u001b[0m, in \u001b[0;36m_ExecuteResponseHandler._validate_response\u001b[0;34m(self, response)\u001b[0m\n\u001b[1;32m    288\u001b[0m     \u001b[38;5;28mself\u001b[39m\u001b[38;5;241m.\u001b[39m_status \u001b[38;5;241m=\u001b[39m status\n\u001b[1;32m    289\u001b[0m     errors \u001b[38;5;241m=\u001b[39m execute_response\u001b[38;5;241m.\u001b[39mget(\u001b[38;5;124m\"\u001b[39m\u001b[38;5;124merror\u001b[39m\u001b[38;5;124m\"\u001b[39m, [])\n\u001b[0;32m--> 290\u001b[0m     \u001b[38;5;28;01mraise\u001b[39;00m ResponseError(errors, \u001b[38;5;28mself\u001b[39m\u001b[38;5;241m.\u001b[39m_execution_context)\n\u001b[1;32m    291\u001b[0m warnings \u001b[38;5;241m=\u001b[39m execute_response\u001b[38;5;241m.\u001b[39mget(\u001b[38;5;124m\"\u001b[39m\u001b[38;5;124mwarning\u001b[39m\u001b[38;5;124m\"\u001b[39m, [])\n\u001b[1;32m    292\u001b[0m \u001b[38;5;66;03m# empty results at the response level\u001b[39;00m\n\u001b[1;32m    293\u001b[0m \u001b[38;5;66;03m# should be considered to be errors\u001b[39;00m\n",
      "\u001b[0;31mResponseError\u001b[0m: Error encountered while processing universe list expression. Input failed to evaluate: \"LIST([])\"."
     ]
    }
   ],
   "source": [
    "all_data = data_helper.create_financial_dataset()"
   ]
  },
  {
   "cell_type": "code",
   "execution_count": null,
   "id": "a65aa911-cbfb-42f8-92c6-18c33b277f03",
   "metadata": {},
   "outputs": [],
   "source": []
  },
  {
   "cell_type": "code",
   "execution_count": null,
   "id": "7165bfeb-c677-44c2-a04f-8f5092b8bcbe",
   "metadata": {},
   "outputs": [],
   "source": []
  },
  {
   "cell_type": "code",
   "execution_count": null,
   "id": "7c415f08-d3fe-481a-8d5f-6bd4339c706f",
   "metadata": {},
   "outputs": [],
   "source": []
  },
  {
   "cell_type": "code",
   "execution_count": null,
   "id": "21517d91-aa03-4664-a764-91d3aa13b8f2",
   "metadata": {},
   "outputs": [],
   "source": []
  },
  {
   "cell_type": "code",
   "execution_count": null,
   "id": "ef4fbc78-6ef6-479a-99b8-36cdd6e7035e",
   "metadata": {},
   "outputs": [],
   "source": []
  },
  {
   "cell_type": "code",
   "execution_count": null,
   "id": "f59aec04-342f-46b5-bdd9-25ec5dbc2f01",
   "metadata": {},
   "outputs": [],
   "source": []
  },
  {
   "cell_type": "code",
   "execution_count": 5,
   "id": "59d565d0-2ad5-4073-9b19-d7e187fd3ab0",
   "metadata": {},
   "outputs": [],
   "source": [
    "from company_data import SecurityData"
   ]
  },
  {
   "cell_type": "code",
   "execution_count": 7,
   "id": "8fd41e7f-5e72-48ab-a77b-7b003f4671e0",
   "metadata": {},
   "outputs": [],
   "source": [
    "sec_helper = SecurityData('tmp/fs', 'dow_quarterly_ltm.json')"
   ]
  },
  {
   "cell_type": "code",
   "execution_count": 8,
   "id": "5d43aaea-7851-4caf-9a79-2dd9c20016e7",
   "metadata": {},
   "outputs": [],
   "source": [
    "all_data = sec_helper.get_all_data()"
   ]
  },
  {
   "cell_type": "code",
   "execution_count": 27,
   "id": "97c1ebdf-231d-450f-86ca-173f1b419d25",
   "metadata": {},
   "outputs": [],
   "source": [
    "meta = data_helper.create_financial_dataset(all_data)"
   ]
  },
  {
   "cell_type": "code",
   "execution_count": 30,
   "id": "585307c3-3bcb-4517-a6ef-3555533b90b2",
   "metadata": {},
   "outputs": [
    {
     "data": {
      "text/plain": [
       "{'name': 'Intel Corp', 'figi': 'BBG000C0G1D1', 'sector': 'Technology'}"
      ]
     },
     "execution_count": 30,
     "metadata": {},
     "output_type": "execute_result"
    }
   ],
   "source": [
    "meta['2020-04-23']['INTC UW Equity']['mt']"
   ]
  },
  {
   "cell_type": "code",
   "execution_count": 15,
   "id": "3a9af188-095f-4ac4-93c4-3cf094007ab0",
   "metadata": {},
   "outputs": [
    {
     "data": {
      "text/plain": [
       "dict_keys(['is', 'bs', 'px', 'mt'])"
      ]
     },
     "execution_count": 15,
     "metadata": {},
     "output_type": "execute_result"
    }
   ],
   "source": [
    "all_data['2020-04-23']['INTC UW Equity'].keys()"
   ]
  },
  {
   "cell_type": "code",
   "execution_count": 17,
   "id": "f15ec7aa-4e00-46f2-93ec-6713cc20b221",
   "metadata": {},
   "outputs": [
    {
     "name": "stderr",
     "output_type": "stream",
     "text": [
      "100%|██████████| 24/24 [00:20<00:00,  1.19it/s]\n"
     ]
    }
   ],
   "source": [
    "df_rebalance_dates = data_helper.get_rebalance_dates()"
   ]
  },
  {
   "cell_type": "code",
   "execution_count": 31,
   "id": "718540e0-c2d6-4507-97a7-e3f3be9e22b8",
   "metadata": {},
   "outputs": [
    {
     "name": "stderr",
     "output_type": "stream",
     "text": [
      "  0%|          | 0/146 [00:00<?, ?it/s]"
     ]
    },
    {
     "name": "stdout",
     "output_type": "stream",
     "text": [
      "                  ID_DATE      sector    ID_DATE          figi    ID_DATE  \\\n",
      "ID                                                                          \n",
      "MSFT UQ Equity 2020-07-22  Technology 2020-07-22  BBG000BPH459 2020-07-22   \n",
      "\n",
      "                          name  \n",
      "ID                              \n",
      "MSFT UQ Equity  Microsoft Corp  \n",
      "MSFT UQ Equity\n"
     ]
    },
    {
     "ename": "ValueError",
     "evalue": "Series index must be unique for orient='index'",
     "output_type": "error",
     "traceback": [
      "\u001b[0;31m---------------------------------------------------------------------------\u001b[0m",
      "\u001b[0;31mValueError\u001b[0m                                Traceback (most recent call last)",
      "Cell \u001b[0;32mIn[31], line 1\u001b[0m\n\u001b[0;32m----> 1\u001b[0m all_data \u001b[38;5;241m=\u001b[39m \u001b[43mdata_helper\u001b[49m\u001b[38;5;241;43m.\u001b[39;49m\u001b[43mrequest_financial_data\u001b[49m\u001b[43m(\u001b[49m\u001b[43mdf_rebalance_dates\u001b[49m\u001b[43m)\u001b[49m\n",
      "File \u001b[0;32m/project/utils/data_request_helper.py:250\u001b[0m, in \u001b[0;36mFinancialDataRequester.request_financial_data\u001b[0;34m(self, dates_and_securities)\u001b[0m\n\u001b[1;32m    248\u001b[0m     df_mt \u001b[38;5;241m=\u001b[39m \u001b[38;5;28mself\u001b[39m\u001b[38;5;241m.\u001b[39m_process_metadata(univ, meta)\n\u001b[1;32m    249\u001b[0m     \u001b[38;5;28mprint\u001b[39m(df_mt)\n\u001b[0;32m--> 250\u001b[0m     all_data[as_of_date] \u001b[38;5;241m=\u001b[39m \u001b[38;5;28;43mself\u001b[39;49m\u001b[38;5;241;43m.\u001b[39;49m\u001b[43m_convert_to_dict\u001b[49m\u001b[43m(\u001b[49m\u001b[43msecurities\u001b[49m\u001b[43m,\u001b[49m\u001b[43m \u001b[49m\u001b[43mdf_is\u001b[49m\u001b[43m,\u001b[49m\u001b[43m \u001b[49m\u001b[43mdf_bs\u001b[49m\u001b[43m,\u001b[49m\u001b[43m \u001b[49m\u001b[43mdf_px\u001b[49m\u001b[43m,\u001b[49m\u001b[43m \u001b[49m\u001b[43mdf_mt\u001b[49m\u001b[43m)\u001b[49m\n\u001b[1;32m    251\u001b[0m \u001b[38;5;66;03m#except:\u001b[39;00m\n\u001b[1;32m    252\u001b[0m     logging\u001b[38;5;241m.\u001b[39minfo(\u001b[38;5;124mf\u001b[39m\u001b[38;5;124m'\u001b[39m\u001b[38;5;124mDataRequest: Missing data - \u001b[39m\u001b[38;5;132;01m{\u001b[39;00mas_of_date\u001b[38;5;132;01m}\u001b[39;00m\u001b[38;5;124m'\u001b[39m)\n",
      "File \u001b[0;32m/project/utils/data_request_helper.py:306\u001b[0m, in \u001b[0;36mFinancialDataRequester._convert_to_dict\u001b[0;34m(self, securities, df_is, df_bs, df_px, df_mt)\u001b[0m\n\u001b[1;32m    304\u001b[0m df_bs_sec \u001b[38;5;241m=\u001b[39m df_bs\u001b[38;5;241m.\u001b[39mloc[security]\u001b[38;5;241m.\u001b[39mto_json()\n\u001b[1;32m    305\u001b[0m df_px_sec \u001b[38;5;241m=\u001b[39m df_px\u001b[38;5;241m.\u001b[39mloc[security]\u001b[38;5;241m.\u001b[39mset_index(\u001b[38;5;124m'\u001b[39m\u001b[38;5;124mDATE\u001b[39m\u001b[38;5;124m'\u001b[39m)[[\u001b[38;5;124m'\u001b[39m\u001b[38;5;124mPrice\u001b[39m\u001b[38;5;124m'\u001b[39m]]\u001b[38;5;241m.\u001b[39mto_json()\n\u001b[0;32m--> 306\u001b[0m df_mt_sec \u001b[38;5;241m=\u001b[39m \u001b[43mdf_mt\u001b[49m\u001b[38;5;241;43m.\u001b[39;49m\u001b[43mloc\u001b[49m\u001b[43m[\u001b[49m\u001b[43msecurity\u001b[49m\u001b[43m]\u001b[49m\u001b[38;5;241;43m.\u001b[39;49m\u001b[43mto_json\u001b[49m\u001b[43m(\u001b[49m\u001b[43m)\u001b[49m\n\u001b[1;32m    307\u001b[0m \u001b[38;5;66;03m# Convert to string and store\u001b[39;00m\n\u001b[1;32m    308\u001b[0m data[\u001b[38;5;124m'\u001b[39m\u001b[38;5;124mis\u001b[39m\u001b[38;5;124m'\u001b[39m] \u001b[38;5;241m=\u001b[39m json\u001b[38;5;241m.\u001b[39mdumps(df_is_sec)\n",
      "File \u001b[0;32m/opt/kernel/lib/python3.9/site-packages/pandas/core/generic.py:2650\u001b[0m, in \u001b[0;36mNDFrame.to_json\u001b[0;34m(self, path_or_buf, orient, date_format, double_precision, force_ascii, date_unit, default_handler, lines, compression, index, indent, storage_options)\u001b[0m\n\u001b[1;32m   2647\u001b[0m config\u001b[38;5;241m.\u001b[39mis_nonnegative_int(indent)\n\u001b[1;32m   2648\u001b[0m indent \u001b[38;5;241m=\u001b[39m indent \u001b[38;5;129;01mor\u001b[39;00m \u001b[38;5;241m0\u001b[39m\n\u001b[0;32m-> 2650\u001b[0m \u001b[38;5;28;01mreturn\u001b[39;00m \u001b[43mjson\u001b[49m\u001b[38;5;241;43m.\u001b[39;49m\u001b[43mto_json\u001b[49m\u001b[43m(\u001b[49m\n\u001b[1;32m   2651\u001b[0m \u001b[43m    \u001b[49m\u001b[43mpath_or_buf\u001b[49m\u001b[38;5;241;43m=\u001b[39;49m\u001b[43mpath_or_buf\u001b[49m\u001b[43m,\u001b[49m\n\u001b[1;32m   2652\u001b[0m \u001b[43m    \u001b[49m\u001b[43mobj\u001b[49m\u001b[38;5;241;43m=\u001b[39;49m\u001b[38;5;28;43mself\u001b[39;49m\u001b[43m,\u001b[49m\n\u001b[1;32m   2653\u001b[0m \u001b[43m    \u001b[49m\u001b[43morient\u001b[49m\u001b[38;5;241;43m=\u001b[39;49m\u001b[43morient\u001b[49m\u001b[43m,\u001b[49m\n\u001b[1;32m   2654\u001b[0m \u001b[43m    \u001b[49m\u001b[43mdate_format\u001b[49m\u001b[38;5;241;43m=\u001b[39;49m\u001b[43mdate_format\u001b[49m\u001b[43m,\u001b[49m\n\u001b[1;32m   2655\u001b[0m \u001b[43m    \u001b[49m\u001b[43mdouble_precision\u001b[49m\u001b[38;5;241;43m=\u001b[39;49m\u001b[43mdouble_precision\u001b[49m\u001b[43m,\u001b[49m\n\u001b[1;32m   2656\u001b[0m \u001b[43m    \u001b[49m\u001b[43mforce_ascii\u001b[49m\u001b[38;5;241;43m=\u001b[39;49m\u001b[43mforce_ascii\u001b[49m\u001b[43m,\u001b[49m\n\u001b[1;32m   2657\u001b[0m \u001b[43m    \u001b[49m\u001b[43mdate_unit\u001b[49m\u001b[38;5;241;43m=\u001b[39;49m\u001b[43mdate_unit\u001b[49m\u001b[43m,\u001b[49m\n\u001b[1;32m   2658\u001b[0m \u001b[43m    \u001b[49m\u001b[43mdefault_handler\u001b[49m\u001b[38;5;241;43m=\u001b[39;49m\u001b[43mdefault_handler\u001b[49m\u001b[43m,\u001b[49m\n\u001b[1;32m   2659\u001b[0m \u001b[43m    \u001b[49m\u001b[43mlines\u001b[49m\u001b[38;5;241;43m=\u001b[39;49m\u001b[43mlines\u001b[49m\u001b[43m,\u001b[49m\n\u001b[1;32m   2660\u001b[0m \u001b[43m    \u001b[49m\u001b[43mcompression\u001b[49m\u001b[38;5;241;43m=\u001b[39;49m\u001b[43mcompression\u001b[49m\u001b[43m,\u001b[49m\n\u001b[1;32m   2661\u001b[0m \u001b[43m    \u001b[49m\u001b[43mindex\u001b[49m\u001b[38;5;241;43m=\u001b[39;49m\u001b[43mindex\u001b[49m\u001b[43m,\u001b[49m\n\u001b[1;32m   2662\u001b[0m \u001b[43m    \u001b[49m\u001b[43mindent\u001b[49m\u001b[38;5;241;43m=\u001b[39;49m\u001b[43mindent\u001b[49m\u001b[43m,\u001b[49m\n\u001b[1;32m   2663\u001b[0m \u001b[43m    \u001b[49m\u001b[43mstorage_options\u001b[49m\u001b[38;5;241;43m=\u001b[39;49m\u001b[43mstorage_options\u001b[49m\u001b[43m,\u001b[49m\n\u001b[1;32m   2664\u001b[0m \u001b[43m\u001b[49m\u001b[43m)\u001b[49m\n",
      "File \u001b[0;32m/opt/kernel/lib/python3.9/site-packages/pandas/io/json/_json.py:161\u001b[0m, in \u001b[0;36mto_json\u001b[0;34m(path_or_buf, obj, orient, date_format, double_precision, force_ascii, date_unit, default_handler, lines, compression, index, indent, storage_options)\u001b[0m\n\u001b[1;32m    158\u001b[0m \u001b[38;5;28;01melse\u001b[39;00m:\n\u001b[1;32m    159\u001b[0m     \u001b[38;5;28;01mraise\u001b[39;00m \u001b[38;5;167;01mNotImplementedError\u001b[39;00m(\u001b[38;5;124m\"\u001b[39m\u001b[38;5;124m'\u001b[39m\u001b[38;5;124mobj\u001b[39m\u001b[38;5;124m'\u001b[39m\u001b[38;5;124m should be a Series or a DataFrame\u001b[39m\u001b[38;5;124m\"\u001b[39m)\n\u001b[0;32m--> 161\u001b[0m s \u001b[38;5;241m=\u001b[39m \u001b[43mwriter\u001b[49m\u001b[43m(\u001b[49m\n\u001b[1;32m    162\u001b[0m \u001b[43m    \u001b[49m\u001b[43mobj\u001b[49m\u001b[43m,\u001b[49m\n\u001b[1;32m    163\u001b[0m \u001b[43m    \u001b[49m\u001b[43morient\u001b[49m\u001b[38;5;241;43m=\u001b[39;49m\u001b[43morient\u001b[49m\u001b[43m,\u001b[49m\n\u001b[1;32m    164\u001b[0m \u001b[43m    \u001b[49m\u001b[43mdate_format\u001b[49m\u001b[38;5;241;43m=\u001b[39;49m\u001b[43mdate_format\u001b[49m\u001b[43m,\u001b[49m\n\u001b[1;32m    165\u001b[0m \u001b[43m    \u001b[49m\u001b[43mdouble_precision\u001b[49m\u001b[38;5;241;43m=\u001b[39;49m\u001b[43mdouble_precision\u001b[49m\u001b[43m,\u001b[49m\n\u001b[1;32m    166\u001b[0m \u001b[43m    \u001b[49m\u001b[43mensure_ascii\u001b[49m\u001b[38;5;241;43m=\u001b[39;49m\u001b[43mforce_ascii\u001b[49m\u001b[43m,\u001b[49m\n\u001b[1;32m    167\u001b[0m \u001b[43m    \u001b[49m\u001b[43mdate_unit\u001b[49m\u001b[38;5;241;43m=\u001b[39;49m\u001b[43mdate_unit\u001b[49m\u001b[43m,\u001b[49m\n\u001b[1;32m    168\u001b[0m \u001b[43m    \u001b[49m\u001b[43mdefault_handler\u001b[49m\u001b[38;5;241;43m=\u001b[39;49m\u001b[43mdefault_handler\u001b[49m\u001b[43m,\u001b[49m\n\u001b[1;32m    169\u001b[0m \u001b[43m    \u001b[49m\u001b[43mindex\u001b[49m\u001b[38;5;241;43m=\u001b[39;49m\u001b[43mindex\u001b[49m\u001b[43m,\u001b[49m\n\u001b[1;32m    170\u001b[0m \u001b[43m    \u001b[49m\u001b[43mindent\u001b[49m\u001b[38;5;241;43m=\u001b[39;49m\u001b[43mindent\u001b[49m\u001b[43m,\u001b[49m\n\u001b[1;32m    171\u001b[0m \u001b[43m\u001b[49m\u001b[43m)\u001b[49m\u001b[38;5;241m.\u001b[39mwrite()\n\u001b[1;32m    173\u001b[0m \u001b[38;5;28;01mif\u001b[39;00m lines:\n\u001b[1;32m    174\u001b[0m     s \u001b[38;5;241m=\u001b[39m convert_to_line_delimits(s)\n",
      "File \u001b[0;32m/opt/kernel/lib/python3.9/site-packages/pandas/io/json/_json.py:217\u001b[0m, in \u001b[0;36mWriter.__init__\u001b[0;34m(self, obj, orient, date_format, double_precision, ensure_ascii, date_unit, index, default_handler, indent)\u001b[0m\n\u001b[1;32m    214\u001b[0m \u001b[38;5;28mself\u001b[39m\u001b[38;5;241m.\u001b[39mindent \u001b[38;5;241m=\u001b[39m indent\n\u001b[1;32m    216\u001b[0m \u001b[38;5;28mself\u001b[39m\u001b[38;5;241m.\u001b[39mis_copy \u001b[38;5;241m=\u001b[39m \u001b[38;5;28;01mNone\u001b[39;00m\n\u001b[0;32m--> 217\u001b[0m \u001b[38;5;28;43mself\u001b[39;49m\u001b[38;5;241;43m.\u001b[39;49m\u001b[43m_format_axes\u001b[49m\u001b[43m(\u001b[49m\u001b[43m)\u001b[49m\n",
      "File \u001b[0;32m/opt/kernel/lib/python3.9/site-packages/pandas/io/json/_json.py:254\u001b[0m, in \u001b[0;36mSeriesWriter._format_axes\u001b[0;34m(self)\u001b[0m\n\u001b[1;32m    252\u001b[0m \u001b[38;5;28;01mdef\u001b[39;00m\u001b[38;5;250m \u001b[39m\u001b[38;5;21m_format_axes\u001b[39m(\u001b[38;5;28mself\u001b[39m):\n\u001b[1;32m    253\u001b[0m     \u001b[38;5;28;01mif\u001b[39;00m \u001b[38;5;129;01mnot\u001b[39;00m \u001b[38;5;28mself\u001b[39m\u001b[38;5;241m.\u001b[39mobj\u001b[38;5;241m.\u001b[39mindex\u001b[38;5;241m.\u001b[39mis_unique \u001b[38;5;129;01mand\u001b[39;00m \u001b[38;5;28mself\u001b[39m\u001b[38;5;241m.\u001b[39morient \u001b[38;5;241m==\u001b[39m \u001b[38;5;124m\"\u001b[39m\u001b[38;5;124mindex\u001b[39m\u001b[38;5;124m\"\u001b[39m:\n\u001b[0;32m--> 254\u001b[0m         \u001b[38;5;28;01mraise\u001b[39;00m \u001b[38;5;167;01mValueError\u001b[39;00m(\u001b[38;5;124mf\u001b[39m\u001b[38;5;124m\"\u001b[39m\u001b[38;5;124mSeries index must be unique for orient=\u001b[39m\u001b[38;5;124m'\u001b[39m\u001b[38;5;132;01m{\u001b[39;00m\u001b[38;5;28mself\u001b[39m\u001b[38;5;241m.\u001b[39morient\u001b[38;5;132;01m}\u001b[39;00m\u001b[38;5;124m'\u001b[39m\u001b[38;5;124m\"\u001b[39m)\n",
      "\u001b[0;31mValueError\u001b[0m: Series index must be unique for orient='index'"
     ]
    }
   ],
   "source": [
    "all_data = data_helper.request_financial_data(df_rebalance_dates)"
   ]
  },
  {
   "cell_type": "code",
   "execution_count": 8,
   "id": "f3953b04-a979-4c3d-9572-0cec6240ea3d",
   "metadata": {},
   "outputs": [
    {
     "data": {
      "text/plain": [
       "dict_keys([])"
      ]
     },
     "execution_count": 8,
     "metadata": {},
     "output_type": "execute_result"
    }
   ],
   "source": [
    "all_data.keys()"
   ]
  },
  {
   "cell_type": "code",
   "execution_count": 20,
   "id": "638c1b07-098f-4987-bdf6-116461c490d1",
   "metadata": {},
   "outputs": [
    {
     "data": {
      "text/html": [
       "<div>\n",
       "<style scoped>\n",
       "    .dataframe tbody tr th:only-of-type {\n",
       "        vertical-align: middle;\n",
       "    }\n",
       "\n",
       "    .dataframe tbody tr th {\n",
       "        vertical-align: top;\n",
       "    }\n",
       "\n",
       "    .dataframe thead th {\n",
       "        text-align: right;\n",
       "    }\n",
       "</style>\n",
       "<table border=\"1\" class=\"dataframe\">\n",
       "  <thead>\n",
       "    <tr style=\"text-align: right;\">\n",
       "      <th></th>\n",
       "      <th></th>\n",
       "      <th>PERIOD_END_DATE</th>\n",
       "    </tr>\n",
       "    <tr>\n",
       "      <th>AS_OF_DATE</th>\n",
       "      <th>ID</th>\n",
       "      <th></th>\n",
       "    </tr>\n",
       "  </thead>\n",
       "  <tbody>\n",
       "    <tr>\n",
       "      <th rowspan=\"5\" valign=\"top\">2020-04-23</th>\n",
       "      <th>NKE UN Equity</th>\n",
       "      <td>2019-05-31</td>\n",
       "    </tr>\n",
       "    <tr>\n",
       "      <th>HON UW Equity</th>\n",
       "      <td>2019-12-31</td>\n",
       "    </tr>\n",
       "    <tr>\n",
       "      <th>MRK UN Equity</th>\n",
       "      <td>2019-12-31</td>\n",
       "    </tr>\n",
       "    <tr>\n",
       "      <th>GS UN Equity</th>\n",
       "      <td>2019-12-31</td>\n",
       "    </tr>\n",
       "    <tr>\n",
       "      <th>BA UN Equity</th>\n",
       "      <td>2019-12-31</td>\n",
       "    </tr>\n",
       "    <tr>\n",
       "      <th>...</th>\n",
       "      <th>...</th>\n",
       "      <td>...</td>\n",
       "    </tr>\n",
       "    <tr>\n",
       "      <th>2025-02-25</th>\n",
       "      <th>IBM UN Equity</th>\n",
       "      <td>2024-12-31</td>\n",
       "    </tr>\n",
       "    <tr>\n",
       "      <th rowspan=\"2\" valign=\"top\">2025-02-26</th>\n",
       "      <th>GS UN Equity</th>\n",
       "      <td>2024-12-31</td>\n",
       "    </tr>\n",
       "    <tr>\n",
       "      <th>NVDA UQ Equity</th>\n",
       "      <td>2025-01-26</td>\n",
       "    </tr>\n",
       "    <tr>\n",
       "      <th>2025-03-05</th>\n",
       "      <th>CRM UN Equity</th>\n",
       "      <td>2025-01-31</td>\n",
       "    </tr>\n",
       "    <tr>\n",
       "      <th>2025-03-20</th>\n",
       "      <th>HD UN Equity</th>\n",
       "      <td>2025-02-02</td>\n",
       "    </tr>\n",
       "  </tbody>\n",
       "</table>\n",
       "<p>270 rows × 1 columns</p>\n",
       "</div>"
      ],
      "text/plain": [
       "                          PERIOD_END_DATE\n",
       "AS_OF_DATE ID                            \n",
       "2020-04-23 NKE UN Equity       2019-05-31\n",
       "           HON UW Equity       2019-12-31\n",
       "           MRK UN Equity       2019-12-31\n",
       "           GS UN Equity        2019-12-31\n",
       "           BA UN Equity        2019-12-31\n",
       "...                                   ...\n",
       "2025-02-25 IBM UN Equity       2024-12-31\n",
       "2025-02-26 GS UN Equity        2024-12-31\n",
       "           NVDA UQ Equity      2025-01-26\n",
       "2025-03-05 CRM UN Equity       2025-01-31\n",
       "2025-03-20 HD UN Equity        2025-02-02\n",
       "\n",
       "[270 rows x 1 columns]"
      ]
     },
     "execution_count": 20,
     "metadata": {},
     "output_type": "execute_result"
    }
   ],
   "source": [
    "df_rebalance_dates"
   ]
  },
  {
   "cell_type": "code",
   "execution_count": null,
   "id": "68b7f7c6-e806-423a-b407-0f4de6379f62",
   "metadata": {},
   "outputs": [],
   "source": []
  }
 ],
 "metadata": {
  "kernelspec": {
   "display_name": "Bloomberg Lab Python 3",
   "language": "python",
   "name": "remote-jupyterpython"
  },
  "language_info": {
   "codemirror_mode": {
    "name": "ipython",
    "version": 3
   },
   "file_extension": ".py",
   "mimetype": "text/x-python",
   "name": "python",
   "nbconvert_exporter": "python",
   "pygments_lexer": "ipython3",
   "version": "3.9.12"
  }
 },
 "nbformat": 4,
 "nbformat_minor": 5
}
