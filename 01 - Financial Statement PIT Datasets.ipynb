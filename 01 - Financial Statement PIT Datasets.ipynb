{
 "cells": [
  {
   "cell_type": "markdown",
   "id": "687edd84-1940-4630-af73-31dea8b66700",
   "metadata": {},
   "source": [
    "# Request Financial Statement Datasets"
   ]
  },
  {
   "cell_type": "code",
   "execution_count": 3,
   "id": "e4240e9c-2b72-4e99-8df6-e667c1339754",
   "metadata": {},
   "outputs": [],
   "source": [
    "import bql\n",
    "import pandas as pd\n",
    "import utils.data_request_helper as helper\n",
    "from utils.s3_helper import S3Helper\n",
    "\n",
    "import os\n",
    "import importlib\n",
    "import json\n",
    "\n",
    "from ipywidgets import IntProgress\n",
    "from IPython.display import display"
   ]
  },
  {
   "cell_type": "code",
   "execution_count": 48,
   "id": "535525ee-62b3-4408-bd28-4c860b5dd831",
   "metadata": {},
   "outputs": [
    {
     "data": {
      "text/plain": [
       "<module 'utils.data_request_helper' from '/project/utils/data_request_helper.py'>"
      ]
     },
     "execution_count": 48,
     "metadata": {},
     "output_type": "execute_result"
    }
   ],
   "source": [
    "importlib.reload(helper)"
   ]
  },
  {
   "cell_type": "markdown",
   "id": "96c81290-e148-4c38-9767-629c88baaeec",
   "metadata": {},
   "source": [
    "### Quarterly Data for the Dow Jones"
   ]
  },
  {
   "cell_type": "code",
   "execution_count": 49,
   "id": "64750668-a993-473e-b1ac-3cabc1c4092f",
   "metadata": {},
   "outputs": [],
   "source": [
    "# Index to use for point in time firms\n",
    "index = 'INDU Index'\n",
    "filename = 'data_quarterly.json'\n",
    "reporting_period = 'Q'\n",
    "\n",
    "# rebalance dates for the index\n",
    "rebalance_dates = ['2024-12-31',\n",
    "        '2024-09-30',\n",
    "        '2024-06-30',\n",
    "        '2024-03-31',\n",
    "        '2023-12-31',\n",
    "        '2023-09-30',\n",
    "        '2023-06-30',\n",
    "        '2023-03-31',\n",
    "        '2022-12-31',\n",
    "        '2022-09-30',\n",
    "        '2022-06-30',\n",
    "        '2022-03-31',\n",
    "        '2021-12-31',\n",
    "        '2021-09-30',\n",
    "        '2021-06-30',\n",
    "        '2021-03-31',\n",
    "        '2020-12-31',\n",
    "        '2020-09-30',\n",
    "        '2020-06-30',\n",
    "        '2020-03-31',\n",
    "        '2019-12-31',\n",
    "        '2019-09-30',\n",
    "        '2019-06-30',\n",
    "        '2019-03-31',]"
   ]
  },
  {
   "cell_type": "code",
   "execution_count": 50,
   "id": "93c39803-6b5f-4681-820b-e8fd9bce3faf",
   "metadata": {},
   "outputs": [],
   "source": [
    "data_helper = helper.FinancialDataRequester(index_id=index,\n",
    "                                            dataset_name='quarterly_pit_indu_blended',\n",
    "                                            rebalance_dates=rebalance_dates,\n",
    "                                            reporting_frequency=reporting_period)"
   ]
  },
  {
   "cell_type": "code",
   "execution_count": 51,
   "id": "2f3b2e1e-b63b-44b7-974c-01024335def1",
   "metadata": {},
   "outputs": [
    {
     "name": "stderr",
     "output_type": "stream",
     "text": [
      "100%|██████████| 24/24 [00:14<00:00,  1.64it/s]"
     ]
    }
   ],
   "source": [
    "df_rebalance_dates = data_helper.get_rebalance_dates()"
   ]
  },
  {
   "cell_type": "code",
   "execution_count": 52,
   "id": "6eee46d9-54e6-4993-aad7-9afd65b936ce",
   "metadata": {},
   "outputs": [
    {
     "name": "stderr",
     "output_type": "stream",
     "text": [
      "100%|██████████| 24/24 [01:03<00:00,  2.63s/it]\n",
      "100%|██████████| 24/24 [00:17<00:00,  1.34it/s]\n",
      "100%|█████████▉| 424/425 [25:51<00:03,  3.60s/it]"
     ]
    }
   ],
   "source": [
    "all_data = data_helper.create_financial_dataset()"
   ]
  },
  {
   "cell_type": "markdown",
   "id": "d9aafb3d-a4b7-4a64-b1d2-21ba8ebdb2cc",
   "metadata": {},
   "source": [
    "#### Save to Bloomberg Lab S3 Storage"
   ]
  },
  {
   "cell_type": "code",
   "execution_count": 54,
   "id": "b3212229-9959-4a06-b417-b6d1bd48379b",
   "metadata": {},
   "outputs": [],
   "source": [
    "# Write the data to local ephemeral storage\n",
    "local_file = '/tmp/dow_quarterly_ltm_v2.json'\n",
    "with open(local_file, 'w') as f:\n",
    "    json.dump(all_data, f)"
   ]
  },
  {
   "cell_type": "code",
   "execution_count": 55,
   "id": "0f75bfa1-dff3-4ce4-ac47-2475231a7ee9",
   "metadata": {},
   "outputs": [],
   "source": [
    "# Create S3 Helper object\n",
    "s3_helper = S3Helper('tmp/fs')"
   ]
  },
  {
   "cell_type": "code",
   "execution_count": 56,
   "id": "72d6ffe3-04f8-4e24-b13e-109dadb042dc",
   "metadata": {},
   "outputs": [],
   "source": [
    "# Upload to Bloomberg Lab S3 Storage\n",
    "s3_helper.add_file(local_filename=local_file)"
   ]
  },
  {
   "cell_type": "markdown",
   "id": "e5ba491d-4736-4c0b-9f78-be696b6061c9",
   "metadata": {},
   "source": [
    "### Annual Data for the Dow Jones"
   ]
  },
  {
   "cell_type": "code",
   "execution_count": 38,
   "id": "108f99f5-3343-44c5-ba94-94ae287f5765",
   "metadata": {},
   "outputs": [],
   "source": [
    "# Index to use for point in time firms\n",
    "index = 'INDU Index'\n",
    "filename = 'data_annual_pit_dow.json'\n",
    "reporting_period = 'A'\n",
    "\n",
    "# rebalance dates for the index\n",
    "rebalance_dates = ['2024-12-31',\n",
    "        '2024-09-30',\n",
    "        '2024-06-30',\n",
    "        '2024-03-31',\n",
    "        '2023-12-31',\n",
    "        '2023-09-30',\n",
    "        '2023-06-30',\n",
    "        '2023-03-31',\n",
    "        '2022-12-31',\n",
    "        '2022-09-30',\n",
    "        '2022-06-30',\n",
    "        '2022-03-31',\n",
    "        '2021-12-31',\n",
    "        '2021-09-30',\n",
    "        '2021-06-30',\n",
    "        '2021-03-31',\n",
    "        '2020-12-31',\n",
    "        '2020-09-30',\n",
    "        '2020-06-30',\n",
    "        '2020-03-31',\n",
    "        '2019-12-31',\n",
    "        '2019-09-30',\n",
    "        '2019-06-30',\n",
    "        '2019-03-31',]"
   ]
  },
  {
   "cell_type": "code",
   "execution_count": 41,
   "id": "c13514a8-c39a-43fe-af63-fffb2aa13fa2",
   "metadata": {},
   "outputs": [],
   "source": [
    "data_helper = helper.FinancialDataRequester(index_id=index,\n",
    "                                            dataset_name='annual_pit_indu_blended',\n",
    "                                            rebalance_dates=rebalance_dates,\n",
    "                                            reporting_frequency=reporting_period)"
   ]
  },
  {
   "cell_type": "code",
   "execution_count": 43,
   "id": "cbf8a05e-38af-48ae-ad26-55e7defaefc6",
   "metadata": {},
   "outputs": [
    {
     "name": "stderr",
     "output_type": "stream",
     "text": [
      "  4%|▍         | 1/24 [00:00<00:15,  1.51it/s]"
     ]
    },
    {
     "name": "stdout",
     "output_type": "stream",
     "text": [
      "DataRequest: Complete for 2024-12-31\n"
     ]
    },
    {
     "name": "stderr",
     "output_type": "stream",
     "text": [
      "  8%|▊         | 2/24 [00:01<00:19,  1.15it/s]"
     ]
    },
    {
     "name": "stdout",
     "output_type": "stream",
     "text": [
      "DataRequest: Complete for 2024-09-30\n"
     ]
    },
    {
     "name": "stderr",
     "output_type": "stream",
     "text": [
      " 12%|█▎        | 3/24 [00:02<00:16,  1.25it/s]"
     ]
    },
    {
     "name": "stdout",
     "output_type": "stream",
     "text": [
      "DataRequest: Complete for 2024-06-30\n"
     ]
    },
    {
     "name": "stderr",
     "output_type": "stream",
     "text": [
      " 17%|█▋        | 4/24 [00:03<00:14,  1.35it/s]"
     ]
    },
    {
     "name": "stdout",
     "output_type": "stream",
     "text": [
      "DataRequest: Complete for 2024-03-31\n"
     ]
    },
    {
     "name": "stderr",
     "output_type": "stream",
     "text": [
      " 21%|██        | 5/24 [00:03<00:12,  1.49it/s]"
     ]
    },
    {
     "name": "stdout",
     "output_type": "stream",
     "text": [
      "DataRequest: Complete for 2023-12-31\n"
     ]
    },
    {
     "name": "stderr",
     "output_type": "stream",
     "text": [
      " 25%|██▌       | 6/24 [00:04<00:11,  1.51it/s]"
     ]
    },
    {
     "name": "stdout",
     "output_type": "stream",
     "text": [
      "DataRequest: Complete for 2023-09-30\n"
     ]
    },
    {
     "name": "stderr",
     "output_type": "stream",
     "text": [
      " 29%|██▉       | 7/24 [00:04<00:11,  1.52it/s]"
     ]
    },
    {
     "name": "stdout",
     "output_type": "stream",
     "text": [
      "DataRequest: Complete for 2023-06-30\n"
     ]
    },
    {
     "name": "stderr",
     "output_type": "stream",
     "text": [
      " 33%|███▎      | 8/24 [00:05<00:11,  1.43it/s]"
     ]
    },
    {
     "name": "stdout",
     "output_type": "stream",
     "text": [
      "DataRequest: Complete for 2023-03-31\n"
     ]
    },
    {
     "name": "stderr",
     "output_type": "stream",
     "text": [
      " 38%|███▊      | 9/24 [00:06<00:09,  1.52it/s]"
     ]
    },
    {
     "name": "stdout",
     "output_type": "stream",
     "text": [
      "DataRequest: Complete for 2022-12-31\n"
     ]
    },
    {
     "name": "stderr",
     "output_type": "stream",
     "text": [
      " 42%|████▏     | 10/24 [00:06<00:09,  1.54it/s]"
     ]
    },
    {
     "name": "stdout",
     "output_type": "stream",
     "text": [
      "DataRequest: Complete for 2022-09-30\n"
     ]
    },
    {
     "name": "stderr",
     "output_type": "stream",
     "text": [
      " 46%|████▌     | 11/24 [00:07<00:08,  1.61it/s]"
     ]
    },
    {
     "name": "stdout",
     "output_type": "stream",
     "text": [
      "DataRequest: Complete for 2022-06-30\n"
     ]
    },
    {
     "name": "stderr",
     "output_type": "stream",
     "text": [
      " 50%|█████     | 12/24 [00:08<00:07,  1.62it/s]"
     ]
    },
    {
     "name": "stdout",
     "output_type": "stream",
     "text": [
      "DataRequest: Complete for 2022-03-31\n"
     ]
    },
    {
     "name": "stderr",
     "output_type": "stream",
     "text": [
      " 54%|█████▍    | 13/24 [00:08<00:06,  1.64it/s]"
     ]
    },
    {
     "name": "stdout",
     "output_type": "stream",
     "text": [
      "DataRequest: Complete for 2021-12-31\n"
     ]
    },
    {
     "name": "stderr",
     "output_type": "stream",
     "text": [
      " 58%|█████▊    | 14/24 [00:09<00:05,  1.71it/s]"
     ]
    },
    {
     "name": "stdout",
     "output_type": "stream",
     "text": [
      "DataRequest: Complete for 2021-09-30\n"
     ]
    },
    {
     "name": "stderr",
     "output_type": "stream",
     "text": [
      " 62%|██████▎   | 15/24 [00:09<00:05,  1.66it/s]"
     ]
    },
    {
     "name": "stdout",
     "output_type": "stream",
     "text": [
      "DataRequest: Complete for 2021-06-30\n"
     ]
    },
    {
     "name": "stderr",
     "output_type": "stream",
     "text": [
      " 67%|██████▋   | 16/24 [00:10<00:04,  1.72it/s]"
     ]
    },
    {
     "name": "stdout",
     "output_type": "stream",
     "text": [
      "DataRequest: Complete for 2021-03-31\n"
     ]
    },
    {
     "name": "stderr",
     "output_type": "stream",
     "text": [
      " 71%|███████   | 17/24 [00:10<00:03,  1.75it/s]"
     ]
    },
    {
     "name": "stdout",
     "output_type": "stream",
     "text": [
      "DataRequest: Complete for 2020-12-31\n"
     ]
    },
    {
     "name": "stderr",
     "output_type": "stream",
     "text": [
      " 75%|███████▌  | 18/24 [00:11<00:03,  1.77it/s]"
     ]
    },
    {
     "name": "stdout",
     "output_type": "stream",
     "text": [
      "DataRequest: Complete for 2020-09-30\n"
     ]
    },
    {
     "name": "stderr",
     "output_type": "stream",
     "text": [
      " 79%|███████▉  | 19/24 [00:12<00:03,  1.67it/s]"
     ]
    },
    {
     "name": "stdout",
     "output_type": "stream",
     "text": [
      "DataRequest: Complete for 2020-06-30\n"
     ]
    },
    {
     "name": "stderr",
     "output_type": "stream",
     "text": [
      " 83%|████████▎ | 20/24 [00:12<00:02,  1.71it/s]"
     ]
    },
    {
     "name": "stdout",
     "output_type": "stream",
     "text": [
      "DataRequest: Complete for 2020-03-31\n"
     ]
    },
    {
     "name": "stderr",
     "output_type": "stream",
     "text": [
      " 88%|████████▊ | 21/24 [00:13<00:01,  1.72it/s]"
     ]
    },
    {
     "name": "stdout",
     "output_type": "stream",
     "text": [
      "DataRequest: Complete for 2019-12-31\n"
     ]
    },
    {
     "name": "stderr",
     "output_type": "stream",
     "text": [
      " 92%|█████████▏| 22/24 [00:13<00:01,  1.65it/s]"
     ]
    },
    {
     "name": "stdout",
     "output_type": "stream",
     "text": [
      "DataRequest: Complete for 2019-09-30\n"
     ]
    },
    {
     "name": "stderr",
     "output_type": "stream",
     "text": [
      " 96%|█████████▌| 23/24 [00:14<00:00,  1.72it/s]"
     ]
    },
    {
     "name": "stdout",
     "output_type": "stream",
     "text": [
      "DataRequest: Complete for 2019-06-30\n"
     ]
    },
    {
     "name": "stderr",
     "output_type": "stream",
     "text": [
      "100%|██████████| 24/24 [00:15<00:00,  1.50it/s]"
     ]
    },
    {
     "name": "stdout",
     "output_type": "stream",
     "text": [
      "DataRequest: Complete for 2019-03-31\n"
     ]
    },
    {
     "name": "stderr",
     "output_type": "stream",
     "text": [
      "  0%|          | 0/2 [05:09<?, ?it/s] 3.57s/it]\n",
      "100%|██████████| 24/24 [00:41<00:00,  1.72s/it]\n",
      " 99%|█████████▉| 145/146 [08:46<00:03,  3.58s/it]"
     ]
    }
   ],
   "source": [
    "all_data = data_helper.create_financial_dataset()"
   ]
  },
  {
   "cell_type": "code",
   "execution_count": 14,
   "id": "a65aa911-cbfb-42f8-92c6-18c33b277f03",
   "metadata": {},
   "outputs": [
    {
     "name": "stderr",
     "output_type": "stream",
     "text": [
      "100%|██████████| 2/2 [00:01<00:00,  1.61it/s]"
     ]
    }
   ],
   "source": [
    "rebalance_dates_requested = data_helper.get_rebalance_dates()"
   ]
  },
  {
   "cell_type": "code",
   "execution_count": 44,
   "id": "7c415f08-d3fe-481a-8d5f-6bd4339c706f",
   "metadata": {},
   "outputs": [
    {
     "data": {
      "text/plain": [
       "dict_keys(['2020-07-22', '2020-07-24', '2020-07-31', '2020-08-06', '2020-08-12', '2020-10-15', '2020-10-28', '2020-10-29', '2020-10-30', '2020-11-12', '2021-01-20', '2021-01-21', '2021-01-26', '2021-01-27', '2021-01-29', '2021-02-03', '2021-02-09', '2021-02-11', '2021-02-12', '2021-02-18', '2021-02-19', '2021-02-22', '2021-02-23', '2021-02-25', '2021-02-26', '2021-03-24', '2021-06-24', '2021-07-27', '2021-07-30', '2021-08-04', '2021-08-18', '2021-09-09', '2021-10-14', '2021-10-26', '2021-10-28', '2021-11-10', '2022-01-14', '2022-01-18', '2022-01-20', '2022-01-24', '2022-01-25', '2022-01-26', '2022-01-27', '2022-01-28', '2022-02-03', '2022-02-04', '2022-02-08', '2022-02-09', '2022-02-12', '2022-02-15', '2022-02-16', '2022-02-22', '2022-02-23', '2022-02-24', '2022-02-25', '2022-03-01', '2022-03-11', '2022-03-18', '2022-06-27', '2022-07-26', '2022-07-29', '2022-08-17', '2022-09-08', '2022-10-13', '2022-10-28', '2022-11-16', '2022-11-29', '2023-01-13', '2023-01-17', '2023-01-24', '2023-01-25', '2023-01-26', '2023-01-27', '2023-01-31', '2023-02-02', '2023-02-08', '2023-02-09', '2023-02-10', '2023-02-15', '2023-02-16', '2023-02-21', '2023-02-22', '2023-02-24', '2023-03-08', '2023-06-29', '2023-07-25', '2023-07-28', '2023-08-16', '2023-10-05', '2023-10-12', '2023-11-02', '2023-11-03', '2023-11-08', '2023-11-15', '2024-01-19', '2024-01-23', '2024-01-25', '2024-01-26', '2024-01-31', '2024-02-01', '2024-02-05', '2024-02-06', '2024-02-09', '2024-02-13', '2024-02-14', '2024-02-15', '2024-02-16', '2024-02-18', '2024-02-20', '2024-02-21', '2024-02-22', '2024-02-26', '2024-02-28', '2024-03-06', '2024-03-15', '2024-03-18', '2024-07-26', '2024-07-30', '2024-08-05', '2024-08-14', '2024-08-21', '2024-09-05', '2024-10-15', '2024-10-29', '2024-10-31', '2024-11-14', '2025-01-16', '2025-01-21', '2025-01-22', '2025-01-24', '2025-01-28', '2025-01-30', '2025-01-31', '2025-02-04', '2025-02-06', '2025-02-07', '2025-02-10', '2025-02-11', '2025-02-14', '2025-02-20', '2025-02-25', '2025-02-26', '2025-03-05', '2025-03-20'])"
      ]
     },
     "execution_count": 44,
     "metadata": {},
     "output_type": "execute_result"
    }
   ],
   "source": [
    "all_data.keys()"
   ]
  },
  {
   "cell_type": "code",
   "execution_count": 53,
   "id": "21517d91-aa03-4664-a764-91d3aa13b8f2",
   "metadata": {},
   "outputs": [
    {
     "ename": "KeyError",
     "evalue": "'2020-07-22'",
     "output_type": "error",
     "traceback": [
      "\u001b[0;31m---------------------------------------------------------------------------\u001b[0m",
      "\u001b[0;31mKeyError\u001b[0m                                  Traceback (most recent call last)",
      "Cell \u001b[0;32mIn[53], line 1\u001b[0m\n\u001b[0;32m----> 1\u001b[0m \u001b[43mall_data\u001b[49m\u001b[43m[\u001b[49m\u001b[38;5;124;43m'\u001b[39;49m\u001b[38;5;124;43m2020-07-22\u001b[39;49m\u001b[38;5;124;43m'\u001b[39;49m\u001b[43m]\u001b[49m\u001b[38;5;241m.\u001b[39mkeys()\n",
      "\u001b[0;31mKeyError\u001b[0m: '2020-07-22'"
     ]
    }
   ],
   "source": [
    "all_data['2020-07-22'].keys()"
   ]
  },
  {
   "cell_type": "code",
   "execution_count": 28,
   "id": "ef4fbc78-6ef6-479a-99b8-36cdd6e7035e",
   "metadata": {},
   "outputs": [
    {
     "data": {
      "text/html": [
       "<div>\n",
       "<style scoped>\n",
       "    .dataframe tbody tr th:only-of-type {\n",
       "        vertical-align: middle;\n",
       "    }\n",
       "\n",
       "    .dataframe tbody tr th {\n",
       "        vertical-align: top;\n",
       "    }\n",
       "\n",
       "    .dataframe thead th {\n",
       "        text-align: right;\n",
       "    }\n",
       "</style>\n",
       "<table border=\"1\" class=\"dataframe\">\n",
       "  <thead>\n",
       "    <tr style=\"text-align: right;\">\n",
       "      <th></th>\n",
       "      <th></th>\n",
       "      <th>PERIOD_END_DATE</th>\n",
       "    </tr>\n",
       "    <tr>\n",
       "      <th>AS_OF_DATE</th>\n",
       "      <th>ID</th>\n",
       "      <th></th>\n",
       "    </tr>\n",
       "  </thead>\n",
       "  <tbody>\n",
       "    <tr>\n",
       "      <th rowspan=\"2\" valign=\"top\">2025-02-26</th>\n",
       "      <th>GS UN Equity</th>\n",
       "      <td>2024-12-31</td>\n",
       "    </tr>\n",
       "    <tr>\n",
       "      <th>NVDA UQ Equity</th>\n",
       "      <td>2025-01-26</td>\n",
       "    </tr>\n",
       "    <tr>\n",
       "      <th>2025-02-25</th>\n",
       "      <th>MRK UN Equity</th>\n",
       "      <td>2024-12-31</td>\n",
       "    </tr>\n",
       "  </tbody>\n",
       "</table>\n",
       "</div>"
      ],
      "text/plain": [
       "                          PERIOD_END_DATE\n",
       "AS_OF_DATE ID                            \n",
       "2025-02-26 GS UN Equity        2024-12-31\n",
       "           NVDA UQ Equity      2025-01-26\n",
       "2025-02-25 MRK UN Equity       2024-12-31"
      ]
     },
     "execution_count": 28,
     "metadata": {},
     "output_type": "execute_result"
    }
   ],
   "source": [
    "rebalance_dates_requested.loc[['2025-02-26', '2025-02-25']]"
   ]
  },
  {
   "cell_type": "code",
   "execution_count": null,
   "id": "f59aec04-342f-46b5-bdd9-25ec5dbc2f01",
   "metadata": {},
   "outputs": [],
   "source": []
  }
 ],
 "metadata": {
  "kernelspec": {
   "display_name": "Bloomberg Lab Python 3",
   "language": "python",
   "name": "remote-jupyterpython"
  },
  "language_info": {
   "codemirror_mode": {
    "name": "ipython",
    "version": 3
   },
   "file_extension": ".py",
   "mimetype": "text/x-python",
   "name": "python",
   "nbconvert_exporter": "python",
   "pygments_lexer": "ipython3",
   "version": "3.9.12"
  }
 },
 "nbformat": 4,
 "nbformat_minor": 5
}
