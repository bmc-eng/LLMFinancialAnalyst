{
 "cells": [
  {
   "cell_type": "markdown",
   "id": "687edd84-1940-4630-af73-31dea8b66700",
   "metadata": {},
   "source": [
    "# Request Financial Statement Datasets\n",
    "For the analysis in this report, we shall be requesting financial statement datasets for the Dow Jones index from 2020-01-01 to 2025-03-31. The helper file in the 'requesters' folder makes the requests and downloads the datasets into a format ready to use by the Strategy Construction module."
   ]
  },
  {
   "cell_type": "code",
   "execution_count": 1,
   "id": "e4240e9c-2b72-4e99-8df6-e667c1339754",
   "metadata": {},
   "outputs": [],
   "source": [
    "import bql\n",
    "import os\n",
    "import importlib\n",
    "import json\n",
    "\n",
    "import pandas as pd\n",
    "\n",
    "import requesters.data_request_helper as helper\n",
    "from utils.s3_helper import S3Helper\n",
    "from requesters.company_data import SecurityData\n",
    "from requesters.data_request_helper import FinancialDataRequester\n",
    "from prompts import SYSTEM_PROMPTS"
   ]
  },
  {
   "cell_type": "markdown",
   "id": "96c81290-e148-4c38-9767-629c88baaeec",
   "metadata": {},
   "source": [
    "### Quarterly Data for the Dow Jones\n",
    "Configure the variables for the index - INDU Index is the Bloomberg identifier for the Dow Jones Index, a filename to store the data in Bloomberg Lab S3 Storage, a reporting period which will be the quarterly reporting datasets, a start date and a set of rebalance dates.\n",
    "\n",
    "The rebalance dates are used to check the index on a quarterly basis for changes."
   ]
  },
  {
   "cell_type": "code",
   "execution_count": 5,
   "id": "64750668-a993-473e-b1ac-3cabc1c4092f",
   "metadata": {},
   "outputs": [],
   "source": [
    "# Index to use for point in time firms\n",
    "index = 'INDU Index'\n",
    "filename = 'data_quarterly.json'\n",
    "reporting_period = 'Q'\n",
    "start_date = '2020-01-01'\n",
    "\n",
    "# rebalance dates for the index\n",
    "rebalance_dates = ['2024-12-31',\n",
    "        '2024-09-30',\n",
    "        '2024-06-30',\n",
    "        '2024-03-31',\n",
    "        '2023-12-31',\n",
    "        '2023-09-30',\n",
    "        '2023-06-30',\n",
    "        '2023-03-31',\n",
    "        '2022-12-31',\n",
    "        '2022-09-30',\n",
    "        '2022-06-30',\n",
    "        '2022-03-31',\n",
    "        '2021-12-31',\n",
    "        '2021-09-30',\n",
    "        '2021-06-30',\n",
    "        '2021-03-31',\n",
    "        '2020-12-31',\n",
    "        '2020-09-30',\n",
    "        '2020-06-30',\n",
    "        '2020-03-31',\n",
    "        '2019-12-31',\n",
    "        '2019-09-30',\n",
    "        '2019-06-30',\n",
    "        '2019-03-31']"
   ]
  },
  {
   "cell_type": "code",
   "execution_count": 28,
   "id": "93c39803-6b5f-4681-820b-e8fd9bce3faf",
   "metadata": {},
   "outputs": [
    {
     "name": "stderr",
     "output_type": "stream",
     "text": [
      "100%|██████████| 24/24 [1:04:26<00:00, 161.12s/it]\n"
     ]
    }
   ],
   "source": [
    "# Set up the data_helper object using the Financial Data Requester which will format the datasets into the correct format for us to use in the strategy construction module.\n",
    "data_helper = helper.FinancialDataRequester(index_id=index,\n",
    "                                            dataset_name='quarterly_pit_indu_blended',\n",
    "                                            rebalance_dates=rebalance_dates,\n",
    "                                            reporting_frequency=reporting_period,\n",
    "                                            start_date=start_date)"
   ]
  },
  {
   "cell_type": "code",
   "execution_count": 17,
   "id": "2f3b2e1e-b63b-44b7-974c-01024335def1",
   "metadata": {},
   "outputs": [
    {
     "name": "stderr",
     "output_type": "stream",
     "text": [
      "100%|██████████| 24/24 [00:16<00:00,  1.54it/s]"
     ]
    }
   ],
   "source": [
    "df_rebalance_dates = data_helper.get_rebalance_dates()"
   ]
  },
  {
   "cell_type": "code",
   "execution_count": 18,
   "id": "a561d65a-cf83-44da-a407-aadebf0e2d13",
   "metadata": {},
   "outputs": [
    {
     "data": {
      "text/html": [
       "<div>\n",
       "<style scoped>\n",
       "    .dataframe tbody tr th:only-of-type {\n",
       "        vertical-align: middle;\n",
       "    }\n",
       "\n",
       "    .dataframe tbody tr th {\n",
       "        vertical-align: top;\n",
       "    }\n",
       "\n",
       "    .dataframe thead th {\n",
       "        text-align: right;\n",
       "    }\n",
       "</style>\n",
       "<table border=\"1\" class=\"dataframe\">\n",
       "  <thead>\n",
       "    <tr style=\"text-align: right;\">\n",
       "      <th></th>\n",
       "      <th></th>\n",
       "      <th>PERIOD_END_DATE</th>\n",
       "    </tr>\n",
       "    <tr>\n",
       "      <th>AS_OF_DATE</th>\n",
       "      <th>ID</th>\n",
       "      <th></th>\n",
       "    </tr>\n",
       "  </thead>\n",
       "  <tbody>\n",
       "    <tr>\n",
       "      <th rowspan=\"2\" valign=\"top\">2020-01-07</th>\n",
       "      <th>GS UN Equity</th>\n",
       "      <td>2019-09-30</td>\n",
       "    </tr>\n",
       "    <tr>\n",
       "      <th>NKE UN Equity</th>\n",
       "      <td>2019-11-30</td>\n",
       "    </tr>\n",
       "    <tr>\n",
       "      <th rowspan=\"2\" valign=\"top\">2020-01-08</th>\n",
       "      <th>WBA UW Equity</th>\n",
       "      <td>2019-11-30</td>\n",
       "    </tr>\n",
       "    <tr>\n",
       "      <th>WBA UQ Equity</th>\n",
       "      <td>2019-11-30</td>\n",
       "    </tr>\n",
       "    <tr>\n",
       "      <th>2020-01-14</th>\n",
       "      <th>JPM UN Equity</th>\n",
       "      <td>2019-12-31</td>\n",
       "    </tr>\n",
       "    <tr>\n",
       "      <th>...</th>\n",
       "      <th>...</th>\n",
       "      <td>...</td>\n",
       "    </tr>\n",
       "    <tr>\n",
       "      <th rowspan=\"5\" valign=\"top\">2025-04-24</th>\n",
       "      <th>IBM UN Equity</th>\n",
       "      <td>2025-03-31</td>\n",
       "    </tr>\n",
       "    <tr>\n",
       "      <th>INTC UQ Equity</th>\n",
       "      <td>2025-03-29</td>\n",
       "    </tr>\n",
       "    <tr>\n",
       "      <th>INTC UW Equity</th>\n",
       "      <td>2025-03-29</td>\n",
       "    </tr>\n",
       "    <tr>\n",
       "      <th>MRK UN Equity</th>\n",
       "      <td>2025-03-31</td>\n",
       "    </tr>\n",
       "    <tr>\n",
       "      <th>DOW UN Equity</th>\n",
       "      <td>2025-03-31</td>\n",
       "    </tr>\n",
       "  </tbody>\n",
       "</table>\n",
       "<p>962 rows × 1 columns</p>\n",
       "</div>"
      ],
      "text/plain": [
       "                          PERIOD_END_DATE\n",
       "AS_OF_DATE ID                            \n",
       "2020-01-07 GS UN Equity        2019-09-30\n",
       "           NKE UN Equity       2019-11-30\n",
       "2020-01-08 WBA UW Equity       2019-11-30\n",
       "           WBA UQ Equity       2019-11-30\n",
       "2020-01-14 JPM UN Equity       2019-12-31\n",
       "...                                   ...\n",
       "2025-04-24 IBM UN Equity       2025-03-31\n",
       "           INTC UQ Equity      2025-03-29\n",
       "           INTC UW Equity      2025-03-29\n",
       "           MRK UN Equity       2025-03-31\n",
       "           DOW UN Equity       2025-03-31\n",
       "\n",
       "[962 rows x 1 columns]"
      ]
     },
     "execution_count": 18,
     "metadata": {},
     "output_type": "execute_result"
    }
   ],
   "source": [
    "df_rebalance_dates"
   ]
  },
  {
   "cell_type": "code",
   "execution_count": 19,
   "id": "6eee46d9-54e6-4993-aad7-9afd65b936ce",
   "metadata": {},
   "outputs": [
    {
     "name": "stderr",
     "output_type": "stream",
     "text": [
      "100%|██████████| 24/24 [02:48<00:00,  7.01s/it]\n",
      "100%|██████████| 24/24 [00:22<00:00,  1.06it/s]\n",
      "100%|█████████▉| 456/457 [28:16<00:04,  4.03s/it]"
     ]
    }
   ],
   "source": [
    "all_data = data_helper.create_financial_dataset()"
   ]
  },
  {
   "cell_type": "markdown",
   "id": "d9aafb3d-a4b7-4a64-b1d2-21ba8ebdb2cc",
   "metadata": {},
   "source": [
    "#### Save to Bloomberg Lab S3 Storage"
   ]
  },
  {
   "cell_type": "code",
   "execution_count": 20,
   "id": "b3212229-9959-4a06-b417-b6d1bd48379b",
   "metadata": {},
   "outputs": [],
   "source": [
    "# Write the data to local ephemeral storage\n",
    "local_file = '/tmp/dow_quarterly_ltm_v3.json'\n",
    "with open(local_file, 'w') as f:\n",
    "    json.dump(all_data, f)"
   ]
  },
  {
   "cell_type": "code",
   "execution_count": 21,
   "id": "0f75bfa1-dff3-4ce4-ac47-2475231a7ee9",
   "metadata": {},
   "outputs": [],
   "source": [
    "# Create S3 Helper object\n",
    "s3_helper = S3Helper('tmp/fs')"
   ]
  },
  {
   "cell_type": "code",
   "execution_count": 22,
   "id": "72d6ffe3-04f8-4e24-b13e-109dadb042dc",
   "metadata": {},
   "outputs": [],
   "source": [
    "# Upload to Bloomberg Lab S3 Storage\n",
    "s3_helper.add_file(local_filename=local_file)"
   ]
  },
  {
   "cell_type": "markdown",
   "id": "e5ba491d-4736-4c0b-9f78-be696b6061c9",
   "metadata": {},
   "source": [
    "### Annual Data for the Dow Jones"
   ]
  },
  {
   "cell_type": "code",
   "execution_count": 67,
   "id": "108f99f5-3343-44c5-ba94-94ae287f5765",
   "metadata": {},
   "outputs": [],
   "source": [
    "# Index to use for point in time firms\n",
    "index = 'INDU Index'\n",
    "filename = 'data_annual_pit_dow.json'\n",
    "reporting_period = 'A'\n",
    "\n",
    "# rebalance dates for the index\n",
    "rebalance_dates = ['2024-12-31',\n",
    "        '2024-09-30',\n",
    "        '2024-06-30',\n",
    "        '2024-03-31',\n",
    "        '2023-12-31',\n",
    "        '2023-09-30',\n",
    "        '2023-06-30',\n",
    "        '2023-03-31',\n",
    "        '2022-12-31',\n",
    "        '2022-09-30',\n",
    "        '2022-06-30',\n",
    "        '2022-03-31',\n",
    "        '2021-12-31',\n",
    "        '2021-09-30',\n",
    "        '2021-06-30',\n",
    "        '2021-03-31',\n",
    "        '2020-12-31',\n",
    "        '2020-09-30',\n",
    "        '2020-06-30',\n",
    "        '2020-03-31',\n",
    "        '2019-12-31',\n",
    "        '2019-09-30',\n",
    "        '2019-06-30',\n",
    "        '2019-03-31',]"
   ]
  },
  {
   "cell_type": "code",
   "execution_count": 68,
   "id": "c13514a8-c39a-43fe-af63-fffb2aa13fa2",
   "metadata": {},
   "outputs": [],
   "source": [
    "data_helper = helper.FinancialDataRequester(index_id=index,\n",
    "                                            dataset_name='annual_pit_indu_blended',\n",
    "                                            rebalance_dates=rebalance_dates,\n",
    "                                            reporting_frequency=reporting_period)"
   ]
  },
  {
   "cell_type": "code",
   "execution_count": 69,
   "id": "cbf8a05e-38af-48ae-ad26-55e7defaefc6",
   "metadata": {},
   "outputs": [
    {
     "name": "stderr",
     "output_type": "stream",
     "text": [
      "100%|██████████| 24/24 [00:48<00:00,  2.04s/it]\n",
      " 99%|█████████▉| 145/146 [08:51<00:03,  3.69s/it]"
     ]
    }
   ],
   "source": [
    "all_data = data_helper.create_financial_dataset()"
   ]
  },
  {
   "cell_type": "code",
   "execution_count": 66,
   "id": "21517d91-aa03-4664-a764-91d3aa13b8f2",
   "metadata": {},
   "outputs": [
    {
     "data": {
      "text/plain": [
       "{'name': 'American Express Co', 'figi': 'BBG000BCQZS4', 'sector': 'Financials'}"
      ]
     },
     "execution_count": 66,
     "metadata": {},
     "output_type": "execute_result"
    }
   ],
   "source": [
    "all_data['2020-04-24']['AXP UN Equity']['mt']"
   ]
  },
  {
   "cell_type": "markdown",
   "id": "787cb080-1a3f-459c-89ca-f9dd4c91b1b8",
   "metadata": {},
   "source": [
    "### Request Data for Training"
   ]
  },
  {
   "cell_type": "code",
   "execution_count": 14,
   "id": "60363a30-4323-4fb7-953d-de1bdad70e87",
   "metadata": {},
   "outputs": [],
   "source": [
    "# select the index\n",
    "training_index = 'SPX Index'\n",
    "filename = 'data_quarterly_pit_spx_refresh_blended.json'\n",
    "reporting_period = 'Q'\n",
    "start_date = '2020-01-01'\n",
    "\n",
    "# rebalance dates for the index\n",
    "rebalance_dates = ['2024-12-31',\n",
    "        '2024-09-30',\n",
    "        '2024-06-30',\n",
    "        '2024-03-31',\n",
    "        '2023-12-31',\n",
    "        '2023-09-30',\n",
    "        '2023-06-30',\n",
    "        '2023-03-31',\n",
    "        '2022-12-31',\n",
    "        '2022-09-30',\n",
    "        '2022-06-30',\n",
    "        '2022-03-31',\n",
    "        '2021-12-31',\n",
    "        '2021-09-30',\n",
    "        '2021-06-30',\n",
    "        '2021-03-31',\n",
    "        '2020-12-31',\n",
    "        '2020-09-30',\n",
    "        '2020-06-30',\n",
    "        '2020-03-31',\n",
    "        '2019-12-31',\n",
    "        '2019-09-30',\n",
    "        '2019-06-30',\n",
    "        '2019-03-31',]"
   ]
  },
  {
   "cell_type": "code",
   "execution_count": 16,
   "id": "b86ddda8-dbff-47dd-8ff4-85f263a96fa9",
   "metadata": {},
   "outputs": [],
   "source": [
    "data_helper = helper.FinancialDataRequester(index_id=index,\n",
    "                                            dataset_name=filename,\n",
    "                                            rebalance_dates=rebalance_dates,\n",
    "                                            reporting_frequency=reporting_period,\n",
    "                                            start_date=start_date)"
   ]
  },
  {
   "cell_type": "code",
   "execution_count": 17,
   "id": "cbe315d3-9406-4e65-82e4-9502c43e175b",
   "metadata": {},
   "outputs": [
    {
     "name": "stderr",
     "output_type": "stream",
     "text": [
      "100%|██████████| 24/24 [00:32<00:00,  1.36s/it]\n",
      "100%|█████████▉| 456/457 [29:01<00:03,  3.81s/it]"
     ]
    }
   ],
   "source": [
    "training_data = data_helper.create_financial_dataset()"
   ]
  },
  {
   "cell_type": "markdown",
   "id": "612029e7-58e1-44b6-9677-03a3aedadf0f",
   "metadata": {},
   "source": [
    "#### Save to S3"
   ]
  },
  {
   "cell_type": "code",
   "execution_count": null,
   "id": "0215b568-1e63-4736-9fda-ff4c21a6b5c3",
   "metadata": {},
   "outputs": [],
   "source": [
    "# Write the data to local ephemeral storage\n",
    "local_file = f'/tmp/{filename}'\n",
    "with open(local_file, 'w') as f:\n",
    "    json.dump(all_data, f)\n",
    "\n",
    "# Upload to Bloomberg Lab S3 Storage\n",
    "s3_helper.add_file(local_filename=local_file)"
   ]
  },
  {
   "cell_type": "markdown",
   "id": "57fdc839-21be-47f6-b04e-7164dd874ecd",
   "metadata": {},
   "source": [
    "### Example prompt\n",
    "Below is an example of the Income Statement, Balance Sheet and Historical price data that has been generated from the SecurityData class. A more detailed breakdown of the Security Data class can be found in the Tests folder of this project."
   ]
  },
  {
   "cell_type": "code",
   "execution_count": 2,
   "id": "f3832383-a192-4ebd-b74f-0d5a0002bb48",
   "metadata": {},
   "outputs": [],
   "source": [
    "security_data = SecurityData('tmp/fs','dow_quarterly_ltm_v3.json')"
   ]
  },
  {
   "cell_type": "code",
   "execution_count": 3,
   "id": "f59aec04-342f-46b5-bdd9-25ec5dbc2f01",
   "metadata": {},
   "outputs": [],
   "source": [
    "prompt = security_data.get_prompt('2020-01-08', 'WBA UW Equity', SYSTEM_PROMPTS['BASE']['prompt'])"
   ]
  },
  {
   "cell_type": "code",
   "execution_count": 4,
   "id": "4476e52a-3f09-47dc-9029-e3688e6f8d41",
   "metadata": {},
   "outputs": [
    {
     "data": {
      "text/plain": [
       "[{'role': 'system',\n",
       "  'content': \"You are a financial analyst and must make a buy, sell or hold decision on a company based only on the provided datasets. Compute common financial ratios and then determine the buy or sell decision. Explain your reasons in less than 250 words. Provide a confidence score for how confident you are of the decision. If you are not confident then lower the confidence score. You must answer in a JSON format with a 'decision', 'confidence score' and 'reason'. Provide your answer in JSON format like the two examples: {'decision': BUY, 'confidence score': 80, 'reason': 'Gross profit and EPS have both increased over time'}, {'decision': SELL, 'confidence score': 90, 'reason': 'Price has declined and EPS is falling'} Company financial statements: {financials} \"},\n",
       " {'role': 'user',\n",
       "  'content': 'Income Statement:                                                        t           t-1           t-2           t-3           t-4           t-5\\nitems                                                                                                                          \\nRevenue                                      1.374120e+11  1.368660e+11  1.363540e+11  1.360970e+11  1.345900e+11  1.315370e+11\\nCost of Revenue                              1.077140e+11  1.067900e+11  1.059300e+11  1.053460e+11  1.034980e+11  1.007450e+11\\nGross Profit                                 2.969800e+10  3.007600e+10  3.042400e+10  3.075100e+10  3.109200e+10  3.079200e+10\\nOperating Expenses                           2.522600e+10  2.524300e+10  2.494800e+10  2.494500e+10  2.494200e+10  2.457900e+10\\nSelling, General and Administrative Expense  2.522400e+10  2.524200e+10  2.494700e+10  2.494400e+10  2.494200e+10  2.457900e+10\\nOther Operating Expenses                     2.000000e+06  1.000000e+06  1.000000e+06  1.000000e+06  0.000000e+00  0.000000e+00\\nOperating Income or Losses                   4.472000e+09  4.833000e+09  5.476000e+09  5.806000e+09  6.150000e+09  6.213000e+09\\nNon-Operating (Income) Loss                  3.280000e+08  3.060000e+08 -4.000000e+06  8.400000e+07 -5.400000e+07  2.380000e+08\\nNet Interest Expense                         7.090000e+08  7.040000e+08  6.880000e+08  6.580000e+08  6.280000e+08  6.160000e+08\\nOther Non-Operating (Income) Loss           -2.420000e+08 -2.330000e+08 -5.370000e+08 -3.510000e+08 -3.400000e+08 -1.870000e+08\\nPretax Income (Loss), Adjusted               4.144000e+09  4.527000e+09  5.480000e+09  5.722000e+09  6.204000e+09  5.975000e+09\\nAbnormal Losses (Gains)                      7.680000e+08  7.490000e+08  2.720000e+08  3.680000e+08  2.260000e+08  5.800000e+08\\nMerger / Acquisition Expense                 3.610000e+08  3.030000e+08  2.860000e+08  2.630000e+08  2.460000e+08  2.310000e+08\\nRestructuring Expenses                       5.140000e+08  4.580000e+08  0.000000e+00  0.000000e+00  0.000000e+00  0.000000e+00\\nIncome Tax Expense (Benefit)                 4.390000e+08  5.880000e+08  7.210000e+08  6.740000e+08  9.510000e+08  9.980000e+08\\nIncome (Loss) from Continuing Operations     3.703000e+09  3.961000e+09  4.789000e+09  5.098000e+09  5.309000e+09  5.031000e+09\\nNet Income/Net Profit (Losses)               3.703000e+09  3.981000e+09  4.816000e+09  5.133000e+09  5.326000e+09  5.024000e+09\\nNet Abnormal Losses (Gains)                  6.370883e+08  6.144203e+08 -7.221975e+06 -6.280928e+07 -2.187176e+07  2.706144e+08\\nBasic Weighted Average Number of Shares      9.073250e+08  9.215250e+08  9.402750e+08  9.608250e+08  9.764750e+08  9.909500e+08\\nBasic Earnings per Share                     4.080000e+00  4.310000e+00  5.110000e+00  5.330000e+00  5.440000e+00  5.080000e+00\\nBasic EPS from Continuing Operations         4.773437e+00  4.979494e+00  5.112415e+00  5.284837e+00  5.426064e+00  5.346871e+00\\nDiluted Weighted Average Shares              9.088000e+08  9.235000e+08  9.428000e+08  9.638250e+08  9.800250e+08  9.949500e+08\\nDiluted EPS                                  4.070000e+00  4.300000e+00  5.100000e+00  5.320000e+00  5.440000e+00  5.070000e+00\\nDiluted EPS from Continuing Operations, Adj  4.764649e+00  4.966097e+00  5.101630e+00  5.271627e+00  5.416117e+00  5.333914e+00\\n Balance Sheet:                                               t           t-1           t-2           t-3           t-4           t-5\\nitems                                                                                                                \\nCash, Cash Equivalents & STI       8.110000e+08  1.023000e+09  8.390000e+08  8.180000e+08  9.800000e+08  7.850000e+08\\nAccounts & Notes Receiv            7.435000e+09  7.226000e+09  7.239000e+09  7.828000e+09  7.144000e+09  6.573000e+09\\nInventories                        1.053600e+10  9.333000e+09  9.874000e+09  1.018800e+10  1.097600e+10  9.565000e+09\\nOther ST Assets                    8.220000e+08  1.118000e+09  1.069000e+09  1.017000e+09  9.830000e+08  9.230000e+08\\nDerivative & Hedging Assets        1.600000e+07  1.050000e+08  1.080000e+08  0.000000e+00  5.000000e+08  6.700000e+07\\nMisc ST Assets                     8.060000e+08  1.013000e+09  9.610000e+08  1.017000e+09  4.830000e+08  8.560000e+08\\nTotal Current Assets               1.960400e+10  1.870000e+10  1.902100e+10  1.985100e+10  2.008300e+10  1.784600e+10\\nProperty, Plant & Equip, Net       3.529400e+10  1.347800e+10  1.371700e+10  1.382800e+10  1.382100e+10  1.391100e+10\\nProperty, Plant & Equip            0.000000e+00  2.478800e+10  0.000000e+00  0.000000e+00  0.000000e+00  2.442400e+10\\nAccumulated Depreciation           0.000000e+00  1.131000e+10  0.000000e+00  0.000000e+00  0.000000e+00  1.051300e+10\\nOther LT Assets                    3.590900e+10  3.542000e+10  3.584800e+10  3.675600e+10  3.603700e+10  3.636700e+10\\nTotal Intangible Assets            2.785500e+10  2.743600e+10  2.804200e+10  2.895900e+10  2.839300e+10  2.869700e+10\\nGoodwill                           1.680000e+10  1.656000e+10  1.671700e+10  1.702700e+10  1.680900e+10  1.691400e+10\\nOther Intangible Assets            1.105500e+10  1.087600e+10  1.132500e+10  1.193200e+10  1.158400e+10  1.178300e+10\\nDerivative & Hedging Assets        1.112000e+09  8.000000e+08  3.900000e+07  0.000000e+00  2.500000e+08  2.500000e+08\\nMisc LT Assets                     6.452500e+08  8.412500e+08  9.605000e+08  8.755000e+08  7.832500e+08  7.515000e+08\\nTotal Noncurrent Assets            7.120300e+10  4.889800e+10  4.956500e+10  5.058400e+10  4.985800e+10  5.027800e+10\\nTotal Assets                       9.080700e+10  6.759800e+10  6.858600e+10  7.043500e+10  6.994100e+10  6.812400e+10\\nPayables & Accruals                2.090500e+10  1.995800e+10  1.957400e+10  1.994700e+10  2.075200e+10  1.970000e+10\\nAccounts Payable                   1.540100e+10  1.434100e+10  1.413000e+10  1.434800e+10  1.466000e+10  1.356600e+10\\nAccrued Taxes                      2.100000e+08  2.160000e+08  2.620000e+08  1.630000e+08  6.110000e+08  2.730000e+08\\nOther Payables & Accruals          5.294000e+09  5.401000e+09  5.182000e+09  5.436000e+09  5.481000e+09  5.861000e+09\\nST Debt                            8.556000e+09  5.738000e+09  5.483000e+09  5.356000e+09  4.344000e+09  1.966000e+09\\nST Borrowings                      6.225000e+09  5.738000e+09  5.483000e+09  5.356000e+09  4.344000e+09  1.966000e+09\\nST Finance Leases                  4.300000e+07  0.000000e+00  0.000000e+00  0.000000e+00  0.000000e+00  0.000000e+00\\nST Operating Leases                2.288000e+09  0.000000e+00  0.000000e+00  0.000000e+00  0.000000e+00  0.000000e+00\\nOther ST Liabilities               3.300000e+07  7.300000e+07  3.000000e+06  0.000000e+00  3.000000e+06  1.000000e+06\\nTotal Current Liabilities          2.949400e+10  2.576900e+10  2.506000e+10  2.530300e+10  2.509900e+10  2.166700e+10\\nLT Debt                            3.349900e+10  1.250200e+10  1.212700e+10  1.268500e+10  1.164600e+10  1.243100e+10\\nLT Borrowings                      1.062800e+10  1.109800e+10  1.212700e+10  1.268500e+10  1.164600e+10  1.095800e+10\\nLT Finance Leases                  9.770000e+08  1.404000e+09  0.000000e+00  0.000000e+00  0.000000e+00  1.473000e+09\\nLT Operating Leases                2.189400e+10  0.000000e+00  0.000000e+00  0.000000e+00  0.000000e+00  0.000000e+00\\nOther LT Liabilities               3.501000e+09  5.176000e+09  6.628000e+09  7.035000e+09  6.933000e+09  7.337000e+09\\nPension Liabilities                0.000000e+00  1.830000e+08  0.000000e+00  0.000000e+00  0.000000e+00  1.640000e+08\\nDerivatives & Hedging              0.000000e+00  0.000000e+00  0.000000e+00  1.600000e+07  2.000000e+06  0.000000e+00\\nMisc LT Liabilities                1.883000e+09  3.208000e+09  4.768000e+09  5.037000e+09  5.138000e+09  5.358000e+09\\nTotal Noncurrent Liabilities       3.700000e+10  1.767800e+10  1.875500e+10  1.972000e+10  1.857900e+10  1.976800e+10\\nTotal Liabilities                  6.649400e+10  4.344700e+10  4.381500e+10  4.502300e+10  4.367800e+10  4.143500e+10\\nShare Capital & APIC               1.066000e+10  1.065100e+10  1.061700e+10  1.058300e+10  1.053400e+10  1.050500e+10\\nCommon Stock                       1.200000e+07  1.200000e+07  1.200000e+07  1.200000e+07  1.200000e+07  1.200000e+07\\nAdditional Paid in Capital         1.064800e+10  1.063900e+10  1.060500e+10  1.057100e+10  1.052200e+10  1.049300e+10\\nTreasury Stock                     1.949600e+10  1.905700e+10  1.863800e+10  1.803600e+10  1.586200e+10  1.504700e+10\\nRetained Earnings                  3.581000e+10  3.581500e+10  3.554700e+10  3.492800e+10  3.416800e+10  3.355100e+10\\nOther Equity                      -3.313000e+09 -3.897000e+09 -3.393000e+09 -2.705000e+09 -3.231000e+09 -3.002000e+09\\nEquity Before Minority Interest    2.366100e+10  2.351200e+10  2.413300e+10  2.477000e+10  2.560900e+10  2.600700e+10\\nMinority/Non Controlling Interest  6.520000e+08  6.390000e+08  6.380000e+08  6.420000e+08  6.540000e+08  6.820000e+08\\nTotal Equity                       2.431300e+10  2.415100e+10  2.477100e+10  2.541200e+10  2.626300e+10  2.668900e+10\\n Historical Price:             Price\\nDate             \\n2019-01-08  71.37\\n2019-02-08  70.12\\n2019-03-08  59.90\\n2019-04-08  55.06\\n2019-05-08  53.50\\n2019-06-08  51.97\\n2019-07-08  55.43\\n2019-08-08  53.02\\n2019-09-08  52.56\\n2019-10-08  52.09\\n2019-11-08  59.24\\n2019-12-08  58.63\\n2020-01-08  55.83'}]"
      ]
     },
     "execution_count": 4,
     "metadata": {},
     "output_type": "execute_result"
    }
   ],
   "source": [
    "prompt"
   ]
  },
  {
   "cell_type": "code",
   "execution_count": null,
   "id": "207c812b-78ca-4053-8ae0-a542adba181a",
   "metadata": {},
   "outputs": [],
   "source": []
  }
 ],
 "metadata": {
  "kernelspec": {
   "display_name": "Bloomberg Lab Python 3",
   "language": "python",
   "name": "remote-jupyterpython"
  },
  "language_info": {
   "codemirror_mode": {
    "name": "ipython",
    "version": 3
   },
   "file_extension": ".py",
   "mimetype": "text/x-python",
   "name": "python",
   "nbconvert_exporter": "python",
   "pygments_lexer": "ipython3",
   "version": "3.9.12"
  }
 },
 "nbformat": 4,
 "nbformat_minor": 5
}
