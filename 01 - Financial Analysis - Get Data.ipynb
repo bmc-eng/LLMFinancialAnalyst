{
 "cells": [
  {
   "cell_type": "code",
   "execution_count": 1,
   "metadata": {},
   "outputs": [],
   "source": [
    "import bql\n",
    "import pandas as pd\n",
    "import numpy as np\n",
    "from datetime import date\n",
    "\n",
    "# Libraries needed to save the data following pre-processing\n",
    "import json\n",
    "import boto3\n",
    "from s3fs import S3FileSystem\n",
    "import os"
   ]
  },
  {
   "cell_type": "code",
   "execution_count": 2,
   "metadata": {},
   "outputs": [],
   "source": [
    "bq = bql.Service()"
   ]
  },
  {
   "cell_type": "markdown",
   "metadata": {},
   "source": [
    "## Request income statement and balance sheet\n",
    "\n",
    "Format the data so that we have 5 years worth of periodicity data at each rebalance date. "
   ]
  },
  {
   "cell_type": "code",
   "execution_count": 3,
   "metadata": {},
   "outputs": [],
   "source": [
    "as_of_date = '2021-12-31'\n",
    "\n",
    "\n",
    "def setup_request(as_of_date):\n",
    "    univ = bq.univ.members('SPX Index', dates=as_of_date)\n",
    "\n",
    "    params = {\n",
    "        'currency': 'USD',\n",
    "        'fa_period_type': 'Q',\n",
    "        'fa_period_offset': bq.func.range('-5Q','0Q'),\n",
    "        'fa_period_year_end': 'C1231',\n",
    "        'dates': as_of_date\n",
    "    }\n",
    "\n",
    "    params_no_currency = {\n",
    "        'fa_period_type': 'Q',\n",
    "        'fa_period_offset': bq.func.range('-5Q','0Y'),\n",
    "        'fa_period_year_end': 'C1231',\n",
    "        'dates': as_of_date\n",
    "    }\n",
    "\n",
    "    is_fields = {\n",
    "        '01 Revenue (Adj)': bq.data.sales_rev_turn(**params),\n",
    "        '02 Sales and Services Revenues (Adj)': bq.data.is_s_and_sr_gaap(**params),\n",
    "        '03 Financing Revenue (Adj)': bq.data.is_financing_revenue_gaap(**params),\n",
    "        '04 Other Revenue (Adj)': bq.data.is_other_revenue_gaap(**params),\n",
    "        '05 Cost of Revenue (Adj)': bq.data.is_cogs_to_fe_and_pp_and_g(**params),\n",
    "        '06 Cost of Goods & Services Sold (Adj)': bq.data.is_cog_and_ss_gaap(**params),\n",
    "        '07 Cost of Financing Revenue (Adj)': bq.data.is_cost_of_financing_rev_gaap(**params),\n",
    "        '08 Gross Profit (Adj)': bq.data.gross_profit(**params),\n",
    "        '09 Other Operating Income (Adj)': bq.data.is_other_oper_inc(**params),\n",
    "        '10 Operating Expenses (Adj)': bq.data.is_operating_expn(**params),\n",
    "        '11 Selling, General and Administrative Expense (Adj)': bq.data.is_sg_and_a_expense(**params),\n",
    "        '12 R&D Expense Adjusted (Adj)': bq.data.is_opex_r_and_d_gaap(**params),\n",
    "        '13 Other Operating Expenses (Adj)': bq.data.is_other_operating_expenses_gaap(**params),\n",
    "        '14 Operating Income or Losses (Adj)': bq.data.is_oper_inc(**params),\n",
    "        '15 Non-Operating (Income) Loss (Adj)': bq.data.is_non_operating_inc_loss_gaap(**params),\n",
    "        '16 Net Interest Expense (Adj)': bq.data.is_net_interest_expense(**params),\n",
    "        '17 Interest Expense (Adj)': bq.data.is_int_expense(**params),\n",
    "        '18 Interest Income (Adj)': bq.data.is_int_inc(**params),\n",
    "        '19 Foreign Exch Losses (Gains) (Adj)': bq.data.is_foreign_exch_loss(**params),\n",
    "        '20 Other Non-Operating (Income) Loss (Adj)': bq.data.is_other_nonop_inc_loss_gaap(**params),\n",
    "        '21 Pretax Income (Loss), Adjusted (Adj)': bq.data.pretax_inc(**params),\n",
    "        '22 Abnormal Losses (Gains)': bq.data.is_abnormal_item(**params),\n",
    "        '23 Merger / Acquisition Expense': bq.data.is_merger_acquisition_expense(**params),\n",
    "        '24 Sale of Business': bq.data.is_sale_of_business(**params),\n",
    "        '25 Restructuring Expenses': bq.data.is_restructuring_charges(**params),\n",
    "        '26 Gain/Loss on Investments': bq.data.is_gain_loss_on_investments(**params),\n",
    "        '27 Other Abnormal Items': bq.data.is_other_one_time_items(**params),\n",
    "        '28 Pretax Income (Loss), GAAP': bq.data.pretax_inc(**params),\n",
    "        '29 Income Tax Expense (Benefit)': bq.data.is_inc_tax_exp(**params),\n",
    "        '30 Current Income Tax': bq.data.is_current_income_tax_benefit(**params),\n",
    "        '31 Deferred Income Tax': bq.data.is_deferred_income_tax_benefit(**params),\n",
    "        '32 Income (Loss) from Continuing Operations': bq.data.is_inc_bef_xo_item(**params),\n",
    "        '33 Net Extraordinary Losses (Gains)': bq.data.xo_gl_net_of_tax(**params),\n",
    "        '34 Discontinued Operations': bq.data.is_discontinued_operations(**params),\n",
    "        '35 Extraordinary Items and Accounting Changes': bq.data.is_extraord_items_and_acctg_chng(**params),\n",
    "        '36 Net Income Including Minority Interest': bq.data.ni_including_minority_int_ratio(**params),\n",
    "        '37 Net Income/Net Profit (Losses)': bq.data.net_income(**params),\n",
    "        '38 Preferred Dividends': bq.data.is_tot_cash_pfd_dvd(**params),\n",
    "        '39 Other Adjustments': bq.data.other_adjustments(**params),\n",
    "        '40 Net Income Avail to Common, GAAP': bq.data.earn_for_common(**params),\n",
    "        '41 Net Income Avail to Common, Adj (Adj)': bq.data.earn_for_common(**params),\n",
    "        '42 Net Abnormal Losses (Gains)': bq.data.is_net_abnormal_items(**params),\n",
    "        '43 Net Extraordinary Losses (Gains)': bq.data.xo_gl_net_of_tax(**params),\n",
    "        '44 Basic Weighted Average Number of Shares': bq.data.is_avg_num_sh_for_eps(**params_no_currency),\n",
    "        '45 Basic Earnings per Share': bq.data.is_eps(**params),\n",
    "        '46 Basic EPS from Continuing Operations': bq.data.is_earn_bef_xo_items_per_sh(**params),\n",
    "        '47 Basic EPS from Continuing Operations': bq.data.is_basic_eps_cont_ops(**params),\n",
    "        '48 Diluted Weighted Average Shares': bq.data.is_sh_for_diluted_eps(**params_no_currency),\n",
    "        '49 Diluted EPS': bq.data.is_diluted_eps(**params),\n",
    "        '50 Diluted EPS from Continuing Operations': bq.data.is_dil_eps_bef_xo(**params),\n",
    "        '51 Diluted EPS from Continuing Operations, Adj': bq.data.is_dil_eps_cont_ops(**params)\n",
    "    }\n",
    "    \n",
    "    bs_fields = {\n",
    "        '01 Cash, Cash Equivalents & STI' : bq.data.c_and_ce_and_sti_detailed(**params),\n",
    "        '02 Cash & Cash Equivalents' : bq.data.bs_cash_near_cash_item(**params),\n",
    "        '03 ST Investments' : bq.data.bs_mkt_sec_other_st_invest(**params),\n",
    "        '04 Accounts & Notes Receiv' : bq.data.bs_acct_note_rcv(**params),\n",
    "        '05 Inventories' : bq.data.bs_inventories(**params),\n",
    "        '06 Raw Materials' : bq.data.invtry_raw_materials(**params),\n",
    "        '07 Work In Process' : bq.data.invtry_in_progress(**params),\n",
    "        '08 Finished Goods' : bq.data.invtry_finished_goods(**params),\n",
    "        '09 Other Inventory' : bq.data.bs_other_inv(**params),\n",
    "        '10 Other ST Assets' : bq.data.other_current_assets_detailed(**params),\n",
    "        '11 Derivative & Hedging Assets' : bq.data.bs_deriv_and_hedging_assets_st(**params),\n",
    "        '12 Discontinued Operations' : bq.data.bs_assets_of_discontinued_ops_st(**params),\n",
    "        '13 Misc ST Assets' : bq.data.bs_other_cur_asset_less_prepay(**params),\n",
    "        '14 Total Current Assets' : bq.data.bs_cur_asset_report(**params),\n",
    "        '15 Property, Plant & Equip, Net' : bq.data.bs_net_fix_asset(**params),\n",
    "        '16 Property, Plant & Equip' : bq.data.bs_gross_fix_asset(**params),\n",
    "        '17 Accumulated Depreciation' : bq.data.bs_accum_depr(**params),\n",
    "        '18 LT Investments & Receivables' : bq.data.bs_lt_invest(**params),\n",
    "        '19 LT Receivables' : bq.data.bs_lt_receivables(**params),\n",
    "        '20 Other LT Assets' : bq.data.bs_other_assets_def_chrg_other(**params),\n",
    "        '21 Total Intangible Assets' : bq.data.bs_disclosed_intangibles(**params),\n",
    "        '22 Goodwill' : bq.data.bs_goodwill(**params),\n",
    "        '23 Other Intangible Assets' : bq.data.other_intangible_assets_detailed(**params),\n",
    "        '24 Deferred Tax Assets' : bq.data.bs_deferred_tax_assets_lt(**params),\n",
    "        '25 Derivative & Hedging Assets' : bq.data.bs_deriv_and_hedging_assets_lt(**params),\n",
    "        '26 Prepaid Pension Costs' : bq.data.bs_prepaid_pension_costs_lt(**params),\n",
    "        '27 Discontinued Operations' : bq.data.bs_assets_of_discontinued_ops_lt(**params),\n",
    "        '28 Misc LT Assets' : bq.data.other_noncurrent_assets_detailed(**params),\n",
    "        '29 Total Noncurrent Assets' : bq.data.bs_tot_non_cur_asset(**params),\n",
    "        '30 Total Assets' : bq.data.bs_tot_asset(**params),\n",
    "        '31 Payables & Accruals' : bq.data.acct_payable_and_accruals_detailed(**params),\n",
    "        '32 Accounts Payable' : bq.data.bs_acct_payable(**params),\n",
    "        '33 Accrued Taxes' : bq.data.bs_taxes_payable(**params),\n",
    "        '34 Interest & Dividends Payable' : bq.data.bs_interest_and_dividends_payable(**params),\n",
    "        '35 Other Payables & Accruals' : bq.data.bs_accrual(**params),\n",
    "        '36 ST Debt' : bq.data.bs_st_borrow(**params),\n",
    "        '37 ST Borrowings' : bq.data.short_term_debt_detailed(**params),\n",
    "        '38 ST Finance Leases' : bq.data.st_capital_lease_obligations(**params),\n",
    "        '39 ST Operating Leases' : bq.data.bs_st_operating_lease_liabs(**params),\n",
    "        '40 Current Portion of LT Debt' : bq.data.bs_curr_portion_lt_debt(**params),\n",
    "        '41 Other ST Liabilities' : bq.data.other_current_liabs_sub_detailed(**params),\n",
    "        '42 Deferred Revenue' : bq.data.st_deferred_revenue(**params),\n",
    "        '43 Derivatives & Hedging' : bq.data.bs_derivative_and_hedging_liabs_st(**params),\n",
    "        '44 Discontinued Operations' : bq.data.bs_liabs_of_discontinued_ops_st(**params),\n",
    "        '45 Misc ST Liabilities' : bq.data.other_current_liabs_detailed(**params),\n",
    "        '46 Total Current Liabilities' : bq.data.bs_cur_liab(**params),\n",
    "        '47 LT Debt' : bq.data.bs_lt_borrow(**params),\n",
    "        '48 LT Borrowings' : bq.data.long_term_borrowings_detailed(**params),\n",
    "        '49 LT Finance Leases' : bq.data.lt_capital_lease_obligations(**params),\n",
    "        '50 LT Operating Leases' : bq.data.bs_lt_operating_lease_liabs(**params),\n",
    "        '51 Other LT Liabilities' : bq.data.other_noncur_liabs_sub_detailed(**params),\n",
    "        '52 Accrued Liabilities' : bq.data.bs_accrued_liabilities(**params),\n",
    "        '53 Pension Liabilities' : bq.data.pension_liabilities(**params),\n",
    "        '54 Deferred Revenue' : bq.data.lt_deferred_revenue(**params),\n",
    "        '55 Derivatives & Hedging' : bq.data.bs_derivative_and_hedging_liabs_lt(**params),\n",
    "        '56 Discontinued Operations' : bq.data.bs_liabs_of_discontinued_ops_lt(**params),\n",
    "        '57 Misc LT Liabilities' : bq.data.other_noncurrent_liabs_detailed(**params),\n",
    "        '58 Total Noncurrent Liabilities' : bq.data.non_cur_liab(**params),\n",
    "        '59 Total Liabilities' : bq.data.bs_tot_liab2(**params),\n",
    "        '60 Preferred Equity' : bq.data.bs_pfd_eqy(**params),\n",
    "        '61 Share Capital & APIC' : bq.data.bs_sh_cap_and_apic(**params),\n",
    "        '62 Common Stock' : bq.data.bs_common_stock(**params),\n",
    "        '63 Additional Paid in Capital' : bq.data.bs_add_paid_in_cap(**params),\n",
    "        '64 Treasury Stock' : bq.data.bs_amt_of_tsy_stock(**params),\n",
    "        '65 Retained Earnings' : bq.data.bs_pure_retained_earnings(**params),\n",
    "        '66 Other Equity' : bq.data.other_equity_ratio(**params),\n",
    "        '67 Equity Before Minority Interest' : bq.data.eqty_bef_minority_int_detailed(**params),\n",
    "        '68 Minority/Non Controlling Interest' : bq.data.minority_noncontrolling_interest(**params),\n",
    "        '69 Total Equity' : bq.data.total_equity(**params),\n",
    "        '70 Total Liabilities & Equity' : bq.data.tot_liab_and_eqy(**params)\n",
    "\n",
    "    }\n",
    "    \n",
    "    return univ, is_fields, bs_fields\n",
    "\n"
   ]
  },
  {
   "cell_type": "code",
   "execution_count": 4,
   "metadata": {},
   "outputs": [],
   "source": [
    "univ, is_fields, bs_fields = setup_request(as_of_date)"
   ]
  },
  {
   "cell_type": "code",
   "execution_count": 5,
   "metadata": {},
   "outputs": [],
   "source": [
    "req = bql.Request(univ, is_fields)\n",
    "data = bq.execute(req)\n"
   ]
  },
  {
   "cell_type": "code",
   "execution_count": 6,
   "metadata": {},
   "outputs": [],
   "source": [
    "# Convert this into a data grid - per security - time series along the top, all fields and by individual security\n",
    "\n",
    "def format_bql_output(data, field_list):\n",
    "    fields = list(field_list.keys())\n",
    "    # loop through each BQL response and pivot data so that time series is horizonal and companies are vertical\n",
    "    df_all = [data[index].df()[data[index].df()['PERIOD_END_DATE'] != 0].pivot(columns='PERIOD_END_DATE', values=[fields[index]]).fillna(0) for index in range(0,len(fields))]\n",
    "    # concat all of the datasets together\n",
    "    df2 = pd.concat(df_all, axis=1)\n",
    "    df3 = df2.stack().transpose().stack().unstack(level=0).transpose().fillna(0)\n",
    "    df4 = df3.loc[:, (df3 != 0).any(axis=0)]\n",
    "    # Reformat the columns to remove dates - remove t0 as it has not been reported yet\n",
    "    df4 = df4.set_axis(['t-5','t-4','t-3','t-2','t-1', 't', 't0' ], axis='columns').drop(columns=['t0'])\n",
    "    return df4[df4.columns[::-1]].reset_index()\n",
    "\n",
    "\n",
    "df_test = format_bql_output(data, is_fields)"
   ]
  },
  {
   "cell_type": "markdown",
   "metadata": {},
   "source": [
    "## Request point in time datasets for IS and BS"
   ]
  },
  {
   "cell_type": "code",
   "execution_count": 7,
   "metadata": {},
   "outputs": [],
   "source": [
    "def get_bql_data(univ, field):\n",
    "    req = bql.Request(univ,field)\n",
    "    return bq.execute(req)\n",
    "\n",
    "def process_date(as_of_date):\n",
    "    data_output = {}\n",
    "    univ, is_fields, bs_fields = setup_request(as_of_date)\n",
    "    \n",
    "    data_is = get_bql_data(univ, is_fields)\n",
    "    data_output['is'] = json.loads(format_bql_output(data_is, is_fields).to_json())\n",
    "    \n",
    "    data_bs = get_bql_data(univ, bs_fields)\n",
    "    data_output['bs'] = json.loads(format_bql_output(data_bs, bs_fields).to_json())\n",
    "    return data_output\n",
    "    \n",
    "#data1 = process_date('2021-12-31')"
   ]
  },
  {
   "cell_type": "code",
   "execution_count": 8,
   "metadata": {},
   "outputs": [
    {
     "name": "stdout",
     "output_type": "stream",
     "text": [
      "CPU times: user 3 µs, sys: 0 ns, total: 3 µs\n",
      "Wall time: 6.91 µs\n"
     ]
    },
    {
     "ename": "InvalidParameterGroupError",
     "evalue": "No parameter group of \"SALES_REV_TURN\" can accomodate the given set of parameters.\n\nParameter group \"DCOverrides02_LEGACY_1\" does not work because: Parameter \"as_of_date\" cannot be a list\nParameter group \"DCOverrides02_GEO\" does not work because: Parameter \"as_of_date\" cannot be a list\nParameter group \"DCOverrides02_BROKERS\" does not work because: Parameter \"as_of_date\" cannot be a list\nParameter group \"DCOverrides02_CDE\" does not work because: Parameter \"as_of_date\" cannot be a list\nParameter group \"DCOverrides02_BICS\" does not work because: Parameter \"as_of_date\" cannot be a list\nParameter group \"PORT_Param_Group0\" does not work because: 'currency' is not a valid parameter name\nParameter group \"DCOverrides02_CONSENSUS_AEMAP\" does not work because: Parameter \"as_of_date\" cannot be a list\nParameter group \"EQHBOverrides02\" does not work because: Parameter \"as_of_date\" cannot be a list\nParameter group \"DCOverrides02_CONSENSUS\" does not work because: Parameter \"as_of_date\" cannot be a list\nParameter group \"DCOverrides02_LEGACY_2\" does not work because: Parameter \"as_of_date\" cannot be a list",
     "output_type": "error",
     "traceback": [
      "\u001b[0;31m---------------------------------------------------------------------------\u001b[0m",
      "\u001b[0;31mInvalidParameterGroupError\u001b[0m                Traceback (most recent call last)",
      "Cell \u001b[0;32mIn[8], line 25\u001b[0m\n\u001b[1;32m     22\u001b[0m all_data \u001b[38;5;241m=\u001b[39m {}\n\u001b[1;32m     24\u001b[0m \u001b[38;5;28;01mfor\u001b[39;00m date \u001b[38;5;129;01min\u001b[39;00m dates:\n\u001b[0;32m---> 25\u001b[0m     all_data[date] \u001b[38;5;241m=\u001b[39m \u001b[43mprocess_date\u001b[49m\u001b[43m(\u001b[49m\u001b[43mdate_small\u001b[49m\u001b[43m)\u001b[49m\n\u001b[1;32m     26\u001b[0m     \u001b[38;5;28mprint\u001b[39m(\u001b[38;5;124m\"\u001b[39m\u001b[38;5;124mCompleted for\u001b[39m\u001b[38;5;124m\"\u001b[39m, date)\n",
      "Cell \u001b[0;32mIn[7], line 7\u001b[0m, in \u001b[0;36mprocess_date\u001b[0;34m(as_of_date)\u001b[0m\n\u001b[1;32m      5\u001b[0m \u001b[38;5;28;01mdef\u001b[39;00m \u001b[38;5;21mprocess_date\u001b[39m(as_of_date):\n\u001b[1;32m      6\u001b[0m     data_output \u001b[38;5;241m=\u001b[39m {}\n\u001b[0;32m----> 7\u001b[0m     univ, is_fields, bs_fields \u001b[38;5;241m=\u001b[39m \u001b[43msetup_request\u001b[49m\u001b[43m(\u001b[49m\u001b[43mas_of_date\u001b[49m\u001b[43m)\u001b[49m\n\u001b[1;32m      9\u001b[0m     data_is \u001b[38;5;241m=\u001b[39m get_bql_data(univ, is_fields)\n\u001b[1;32m     10\u001b[0m     data_output[\u001b[38;5;124m'\u001b[39m\u001b[38;5;124mis\u001b[39m\u001b[38;5;124m'\u001b[39m] \u001b[38;5;241m=\u001b[39m json\u001b[38;5;241m.\u001b[39mloads(format_bql_output(data_is, is_fields)\u001b[38;5;241m.\u001b[39mto_json())\n",
      "Cell \u001b[0;32mIn[3], line 23\u001b[0m, in \u001b[0;36msetup_request\u001b[0;34m(as_of_date)\u001b[0m\n\u001b[1;32m      7\u001b[0m params \u001b[38;5;241m=\u001b[39m {\n\u001b[1;32m      8\u001b[0m     \u001b[38;5;124m'\u001b[39m\u001b[38;5;124mcurrency\u001b[39m\u001b[38;5;124m'\u001b[39m: \u001b[38;5;124m'\u001b[39m\u001b[38;5;124mUSD\u001b[39m\u001b[38;5;124m'\u001b[39m,\n\u001b[1;32m      9\u001b[0m     \u001b[38;5;124m'\u001b[39m\u001b[38;5;124mfa_period_type\u001b[39m\u001b[38;5;124m'\u001b[39m: \u001b[38;5;124m'\u001b[39m\u001b[38;5;124mQ\u001b[39m\u001b[38;5;124m'\u001b[39m,\n\u001b[0;32m   (...)\u001b[0m\n\u001b[1;32m     12\u001b[0m     \u001b[38;5;124m'\u001b[39m\u001b[38;5;124mdates\u001b[39m\u001b[38;5;124m'\u001b[39m: as_of_date\n\u001b[1;32m     13\u001b[0m }\n\u001b[1;32m     15\u001b[0m params_no_currency \u001b[38;5;241m=\u001b[39m {\n\u001b[1;32m     16\u001b[0m     \u001b[38;5;124m'\u001b[39m\u001b[38;5;124mfa_period_type\u001b[39m\u001b[38;5;124m'\u001b[39m: \u001b[38;5;124m'\u001b[39m\u001b[38;5;124mQ\u001b[39m\u001b[38;5;124m'\u001b[39m,\n\u001b[1;32m     17\u001b[0m     \u001b[38;5;124m'\u001b[39m\u001b[38;5;124mfa_period_offset\u001b[39m\u001b[38;5;124m'\u001b[39m: bq\u001b[38;5;241m.\u001b[39mfunc\u001b[38;5;241m.\u001b[39mrange(\u001b[38;5;124m'\u001b[39m\u001b[38;5;124m-5Q\u001b[39m\u001b[38;5;124m'\u001b[39m,\u001b[38;5;124m'\u001b[39m\u001b[38;5;124m0Y\u001b[39m\u001b[38;5;124m'\u001b[39m),\n\u001b[1;32m     18\u001b[0m     \u001b[38;5;124m'\u001b[39m\u001b[38;5;124mfa_period_year_end\u001b[39m\u001b[38;5;124m'\u001b[39m: \u001b[38;5;124m'\u001b[39m\u001b[38;5;124mC1231\u001b[39m\u001b[38;5;124m'\u001b[39m,\n\u001b[1;32m     19\u001b[0m     \u001b[38;5;124m'\u001b[39m\u001b[38;5;124mdates\u001b[39m\u001b[38;5;124m'\u001b[39m: as_of_date\n\u001b[1;32m     20\u001b[0m }\n\u001b[1;32m     22\u001b[0m is_fields \u001b[38;5;241m=\u001b[39m {\n\u001b[0;32m---> 23\u001b[0m     \u001b[38;5;124m'\u001b[39m\u001b[38;5;124m01 Revenue (Adj)\u001b[39m\u001b[38;5;124m'\u001b[39m: \u001b[43mbq\u001b[49m\u001b[38;5;241;43m.\u001b[39;49m\u001b[43mdata\u001b[49m\u001b[38;5;241;43m.\u001b[39;49m\u001b[43msales_rev_turn\u001b[49m\u001b[43m(\u001b[49m\u001b[38;5;241;43m*\u001b[39;49m\u001b[38;5;241;43m*\u001b[39;49m\u001b[43mparams\u001b[49m\u001b[43m)\u001b[49m,\n\u001b[1;32m     24\u001b[0m     \u001b[38;5;124m'\u001b[39m\u001b[38;5;124m02 Sales and Services Revenues (Adj)\u001b[39m\u001b[38;5;124m'\u001b[39m: bq\u001b[38;5;241m.\u001b[39mdata\u001b[38;5;241m.\u001b[39mis_s_and_sr_gaap(\u001b[38;5;241m*\u001b[39m\u001b[38;5;241m*\u001b[39mparams),\n\u001b[1;32m     25\u001b[0m     \u001b[38;5;124m'\u001b[39m\u001b[38;5;124m03 Financing Revenue (Adj)\u001b[39m\u001b[38;5;124m'\u001b[39m: bq\u001b[38;5;241m.\u001b[39mdata\u001b[38;5;241m.\u001b[39mis_financing_revenue_gaap(\u001b[38;5;241m*\u001b[39m\u001b[38;5;241m*\u001b[39mparams),\n\u001b[1;32m     26\u001b[0m     \u001b[38;5;124m'\u001b[39m\u001b[38;5;124m04 Other Revenue (Adj)\u001b[39m\u001b[38;5;124m'\u001b[39m: bq\u001b[38;5;241m.\u001b[39mdata\u001b[38;5;241m.\u001b[39mis_other_revenue_gaap(\u001b[38;5;241m*\u001b[39m\u001b[38;5;241m*\u001b[39mparams),\n\u001b[1;32m     27\u001b[0m     \u001b[38;5;124m'\u001b[39m\u001b[38;5;124m05 Cost of Revenue (Adj)\u001b[39m\u001b[38;5;124m'\u001b[39m: bq\u001b[38;5;241m.\u001b[39mdata\u001b[38;5;241m.\u001b[39mis_cogs_to_fe_and_pp_and_g(\u001b[38;5;241m*\u001b[39m\u001b[38;5;241m*\u001b[39mparams),\n\u001b[1;32m     28\u001b[0m     \u001b[38;5;124m'\u001b[39m\u001b[38;5;124m06 Cost of Goods & Services Sold (Adj)\u001b[39m\u001b[38;5;124m'\u001b[39m: bq\u001b[38;5;241m.\u001b[39mdata\u001b[38;5;241m.\u001b[39mis_cog_and_ss_gaap(\u001b[38;5;241m*\u001b[39m\u001b[38;5;241m*\u001b[39mparams),\n\u001b[1;32m     29\u001b[0m     \u001b[38;5;124m'\u001b[39m\u001b[38;5;124m07 Cost of Financing Revenue (Adj)\u001b[39m\u001b[38;5;124m'\u001b[39m: bq\u001b[38;5;241m.\u001b[39mdata\u001b[38;5;241m.\u001b[39mis_cost_of_financing_rev_gaap(\u001b[38;5;241m*\u001b[39m\u001b[38;5;241m*\u001b[39mparams),\n\u001b[1;32m     30\u001b[0m     \u001b[38;5;124m'\u001b[39m\u001b[38;5;124m08 Gross Profit (Adj)\u001b[39m\u001b[38;5;124m'\u001b[39m: bq\u001b[38;5;241m.\u001b[39mdata\u001b[38;5;241m.\u001b[39mgross_profit(\u001b[38;5;241m*\u001b[39m\u001b[38;5;241m*\u001b[39mparams),\n\u001b[1;32m     31\u001b[0m     \u001b[38;5;124m'\u001b[39m\u001b[38;5;124m09 Other Operating Income (Adj)\u001b[39m\u001b[38;5;124m'\u001b[39m: bq\u001b[38;5;241m.\u001b[39mdata\u001b[38;5;241m.\u001b[39mis_other_oper_inc(\u001b[38;5;241m*\u001b[39m\u001b[38;5;241m*\u001b[39mparams),\n\u001b[1;32m     32\u001b[0m     \u001b[38;5;124m'\u001b[39m\u001b[38;5;124m10 Operating Expenses (Adj)\u001b[39m\u001b[38;5;124m'\u001b[39m: bq\u001b[38;5;241m.\u001b[39mdata\u001b[38;5;241m.\u001b[39mis_operating_expn(\u001b[38;5;241m*\u001b[39m\u001b[38;5;241m*\u001b[39mparams),\n\u001b[1;32m     33\u001b[0m     \u001b[38;5;124m'\u001b[39m\u001b[38;5;124m11 Selling, General and Administrative Expense (Adj)\u001b[39m\u001b[38;5;124m'\u001b[39m: bq\u001b[38;5;241m.\u001b[39mdata\u001b[38;5;241m.\u001b[39mis_sg_and_a_expense(\u001b[38;5;241m*\u001b[39m\u001b[38;5;241m*\u001b[39mparams),\n\u001b[1;32m     34\u001b[0m     \u001b[38;5;124m'\u001b[39m\u001b[38;5;124m12 R&D Expense Adjusted (Adj)\u001b[39m\u001b[38;5;124m'\u001b[39m: bq\u001b[38;5;241m.\u001b[39mdata\u001b[38;5;241m.\u001b[39mis_opex_r_and_d_gaap(\u001b[38;5;241m*\u001b[39m\u001b[38;5;241m*\u001b[39mparams),\n\u001b[1;32m     35\u001b[0m     \u001b[38;5;124m'\u001b[39m\u001b[38;5;124m13 Other Operating Expenses (Adj)\u001b[39m\u001b[38;5;124m'\u001b[39m: bq\u001b[38;5;241m.\u001b[39mdata\u001b[38;5;241m.\u001b[39mis_other_operating_expenses_gaap(\u001b[38;5;241m*\u001b[39m\u001b[38;5;241m*\u001b[39mparams),\n\u001b[1;32m     36\u001b[0m     \u001b[38;5;124m'\u001b[39m\u001b[38;5;124m14 Operating Income or Losses (Adj)\u001b[39m\u001b[38;5;124m'\u001b[39m: bq\u001b[38;5;241m.\u001b[39mdata\u001b[38;5;241m.\u001b[39mis_oper_inc(\u001b[38;5;241m*\u001b[39m\u001b[38;5;241m*\u001b[39mparams),\n\u001b[1;32m     37\u001b[0m     \u001b[38;5;124m'\u001b[39m\u001b[38;5;124m15 Non-Operating (Income) Loss (Adj)\u001b[39m\u001b[38;5;124m'\u001b[39m: bq\u001b[38;5;241m.\u001b[39mdata\u001b[38;5;241m.\u001b[39mis_non_operating_inc_loss_gaap(\u001b[38;5;241m*\u001b[39m\u001b[38;5;241m*\u001b[39mparams),\n\u001b[1;32m     38\u001b[0m     \u001b[38;5;124m'\u001b[39m\u001b[38;5;124m16 Net Interest Expense (Adj)\u001b[39m\u001b[38;5;124m'\u001b[39m: bq\u001b[38;5;241m.\u001b[39mdata\u001b[38;5;241m.\u001b[39mis_net_interest_expense(\u001b[38;5;241m*\u001b[39m\u001b[38;5;241m*\u001b[39mparams),\n\u001b[1;32m     39\u001b[0m     \u001b[38;5;124m'\u001b[39m\u001b[38;5;124m17 Interest Expense (Adj)\u001b[39m\u001b[38;5;124m'\u001b[39m: bq\u001b[38;5;241m.\u001b[39mdata\u001b[38;5;241m.\u001b[39mis_int_expense(\u001b[38;5;241m*\u001b[39m\u001b[38;5;241m*\u001b[39mparams),\n\u001b[1;32m     40\u001b[0m     \u001b[38;5;124m'\u001b[39m\u001b[38;5;124m18 Interest Income (Adj)\u001b[39m\u001b[38;5;124m'\u001b[39m: bq\u001b[38;5;241m.\u001b[39mdata\u001b[38;5;241m.\u001b[39mis_int_inc(\u001b[38;5;241m*\u001b[39m\u001b[38;5;241m*\u001b[39mparams),\n\u001b[1;32m     41\u001b[0m     \u001b[38;5;124m'\u001b[39m\u001b[38;5;124m19 Foreign Exch Losses (Gains) (Adj)\u001b[39m\u001b[38;5;124m'\u001b[39m: bq\u001b[38;5;241m.\u001b[39mdata\u001b[38;5;241m.\u001b[39mis_foreign_exch_loss(\u001b[38;5;241m*\u001b[39m\u001b[38;5;241m*\u001b[39mparams),\n\u001b[1;32m     42\u001b[0m     \u001b[38;5;124m'\u001b[39m\u001b[38;5;124m20 Other Non-Operating (Income) Loss (Adj)\u001b[39m\u001b[38;5;124m'\u001b[39m: bq\u001b[38;5;241m.\u001b[39mdata\u001b[38;5;241m.\u001b[39mis_other_nonop_inc_loss_gaap(\u001b[38;5;241m*\u001b[39m\u001b[38;5;241m*\u001b[39mparams),\n\u001b[1;32m     43\u001b[0m     \u001b[38;5;124m'\u001b[39m\u001b[38;5;124m21 Pretax Income (Loss), Adjusted (Adj)\u001b[39m\u001b[38;5;124m'\u001b[39m: bq\u001b[38;5;241m.\u001b[39mdata\u001b[38;5;241m.\u001b[39mpretax_inc(\u001b[38;5;241m*\u001b[39m\u001b[38;5;241m*\u001b[39mparams),\n\u001b[1;32m     44\u001b[0m     \u001b[38;5;124m'\u001b[39m\u001b[38;5;124m22 Abnormal Losses (Gains)\u001b[39m\u001b[38;5;124m'\u001b[39m: bq\u001b[38;5;241m.\u001b[39mdata\u001b[38;5;241m.\u001b[39mis_abnormal_item(\u001b[38;5;241m*\u001b[39m\u001b[38;5;241m*\u001b[39mparams),\n\u001b[1;32m     45\u001b[0m     \u001b[38;5;124m'\u001b[39m\u001b[38;5;124m23 Merger / Acquisition Expense\u001b[39m\u001b[38;5;124m'\u001b[39m: bq\u001b[38;5;241m.\u001b[39mdata\u001b[38;5;241m.\u001b[39mis_merger_acquisition_expense(\u001b[38;5;241m*\u001b[39m\u001b[38;5;241m*\u001b[39mparams),\n\u001b[1;32m     46\u001b[0m     \u001b[38;5;124m'\u001b[39m\u001b[38;5;124m24 Sale of Business\u001b[39m\u001b[38;5;124m'\u001b[39m: bq\u001b[38;5;241m.\u001b[39mdata\u001b[38;5;241m.\u001b[39mis_sale_of_business(\u001b[38;5;241m*\u001b[39m\u001b[38;5;241m*\u001b[39mparams),\n\u001b[1;32m     47\u001b[0m     \u001b[38;5;124m'\u001b[39m\u001b[38;5;124m25 Restructuring Expenses\u001b[39m\u001b[38;5;124m'\u001b[39m: bq\u001b[38;5;241m.\u001b[39mdata\u001b[38;5;241m.\u001b[39mis_restructuring_charges(\u001b[38;5;241m*\u001b[39m\u001b[38;5;241m*\u001b[39mparams),\n\u001b[1;32m     48\u001b[0m     \u001b[38;5;124m'\u001b[39m\u001b[38;5;124m26 Gain/Loss on Investments\u001b[39m\u001b[38;5;124m'\u001b[39m: bq\u001b[38;5;241m.\u001b[39mdata\u001b[38;5;241m.\u001b[39mis_gain_loss_on_investments(\u001b[38;5;241m*\u001b[39m\u001b[38;5;241m*\u001b[39mparams),\n\u001b[1;32m     49\u001b[0m     \u001b[38;5;124m'\u001b[39m\u001b[38;5;124m27 Other Abnormal Items\u001b[39m\u001b[38;5;124m'\u001b[39m: bq\u001b[38;5;241m.\u001b[39mdata\u001b[38;5;241m.\u001b[39mis_other_one_time_items(\u001b[38;5;241m*\u001b[39m\u001b[38;5;241m*\u001b[39mparams),\n\u001b[1;32m     50\u001b[0m     \u001b[38;5;124m'\u001b[39m\u001b[38;5;124m28 Pretax Income (Loss), GAAP\u001b[39m\u001b[38;5;124m'\u001b[39m: bq\u001b[38;5;241m.\u001b[39mdata\u001b[38;5;241m.\u001b[39mpretax_inc(\u001b[38;5;241m*\u001b[39m\u001b[38;5;241m*\u001b[39mparams),\n\u001b[1;32m     51\u001b[0m     \u001b[38;5;124m'\u001b[39m\u001b[38;5;124m29 Income Tax Expense (Benefit)\u001b[39m\u001b[38;5;124m'\u001b[39m: bq\u001b[38;5;241m.\u001b[39mdata\u001b[38;5;241m.\u001b[39mis_inc_tax_exp(\u001b[38;5;241m*\u001b[39m\u001b[38;5;241m*\u001b[39mparams),\n\u001b[1;32m     52\u001b[0m     \u001b[38;5;124m'\u001b[39m\u001b[38;5;124m30 Current Income Tax\u001b[39m\u001b[38;5;124m'\u001b[39m: bq\u001b[38;5;241m.\u001b[39mdata\u001b[38;5;241m.\u001b[39mis_current_income_tax_benefit(\u001b[38;5;241m*\u001b[39m\u001b[38;5;241m*\u001b[39mparams),\n\u001b[1;32m     53\u001b[0m     \u001b[38;5;124m'\u001b[39m\u001b[38;5;124m31 Deferred Income Tax\u001b[39m\u001b[38;5;124m'\u001b[39m: bq\u001b[38;5;241m.\u001b[39mdata\u001b[38;5;241m.\u001b[39mis_deferred_income_tax_benefit(\u001b[38;5;241m*\u001b[39m\u001b[38;5;241m*\u001b[39mparams),\n\u001b[1;32m     54\u001b[0m     \u001b[38;5;124m'\u001b[39m\u001b[38;5;124m32 Income (Loss) from Continuing Operations\u001b[39m\u001b[38;5;124m'\u001b[39m: bq\u001b[38;5;241m.\u001b[39mdata\u001b[38;5;241m.\u001b[39mis_inc_bef_xo_item(\u001b[38;5;241m*\u001b[39m\u001b[38;5;241m*\u001b[39mparams),\n\u001b[1;32m     55\u001b[0m     \u001b[38;5;124m'\u001b[39m\u001b[38;5;124m33 Net Extraordinary Losses (Gains)\u001b[39m\u001b[38;5;124m'\u001b[39m: bq\u001b[38;5;241m.\u001b[39mdata\u001b[38;5;241m.\u001b[39mxo_gl_net_of_tax(\u001b[38;5;241m*\u001b[39m\u001b[38;5;241m*\u001b[39mparams),\n\u001b[1;32m     56\u001b[0m     \u001b[38;5;124m'\u001b[39m\u001b[38;5;124m34 Discontinued Operations\u001b[39m\u001b[38;5;124m'\u001b[39m: bq\u001b[38;5;241m.\u001b[39mdata\u001b[38;5;241m.\u001b[39mis_discontinued_operations(\u001b[38;5;241m*\u001b[39m\u001b[38;5;241m*\u001b[39mparams),\n\u001b[1;32m     57\u001b[0m     \u001b[38;5;124m'\u001b[39m\u001b[38;5;124m35 Extraordinary Items and Accounting Changes\u001b[39m\u001b[38;5;124m'\u001b[39m: bq\u001b[38;5;241m.\u001b[39mdata\u001b[38;5;241m.\u001b[39mis_extraord_items_and_acctg_chng(\u001b[38;5;241m*\u001b[39m\u001b[38;5;241m*\u001b[39mparams),\n\u001b[1;32m     58\u001b[0m     \u001b[38;5;124m'\u001b[39m\u001b[38;5;124m36 Net Income Including Minority Interest\u001b[39m\u001b[38;5;124m'\u001b[39m: bq\u001b[38;5;241m.\u001b[39mdata\u001b[38;5;241m.\u001b[39mni_including_minority_int_ratio(\u001b[38;5;241m*\u001b[39m\u001b[38;5;241m*\u001b[39mparams),\n\u001b[1;32m     59\u001b[0m     \u001b[38;5;124m'\u001b[39m\u001b[38;5;124m37 Net Income/Net Profit (Losses)\u001b[39m\u001b[38;5;124m'\u001b[39m: bq\u001b[38;5;241m.\u001b[39mdata\u001b[38;5;241m.\u001b[39mnet_income(\u001b[38;5;241m*\u001b[39m\u001b[38;5;241m*\u001b[39mparams),\n\u001b[1;32m     60\u001b[0m     \u001b[38;5;124m'\u001b[39m\u001b[38;5;124m38 Preferred Dividends\u001b[39m\u001b[38;5;124m'\u001b[39m: bq\u001b[38;5;241m.\u001b[39mdata\u001b[38;5;241m.\u001b[39mis_tot_cash_pfd_dvd(\u001b[38;5;241m*\u001b[39m\u001b[38;5;241m*\u001b[39mparams),\n\u001b[1;32m     61\u001b[0m     \u001b[38;5;124m'\u001b[39m\u001b[38;5;124m39 Other Adjustments\u001b[39m\u001b[38;5;124m'\u001b[39m: bq\u001b[38;5;241m.\u001b[39mdata\u001b[38;5;241m.\u001b[39mother_adjustments(\u001b[38;5;241m*\u001b[39m\u001b[38;5;241m*\u001b[39mparams),\n\u001b[1;32m     62\u001b[0m     \u001b[38;5;124m'\u001b[39m\u001b[38;5;124m40 Net Income Avail to Common, GAAP\u001b[39m\u001b[38;5;124m'\u001b[39m: bq\u001b[38;5;241m.\u001b[39mdata\u001b[38;5;241m.\u001b[39mearn_for_common(\u001b[38;5;241m*\u001b[39m\u001b[38;5;241m*\u001b[39mparams),\n\u001b[1;32m     63\u001b[0m     \u001b[38;5;124m'\u001b[39m\u001b[38;5;124m41 Net Income Avail to Common, Adj (Adj)\u001b[39m\u001b[38;5;124m'\u001b[39m: bq\u001b[38;5;241m.\u001b[39mdata\u001b[38;5;241m.\u001b[39mearn_for_common(\u001b[38;5;241m*\u001b[39m\u001b[38;5;241m*\u001b[39mparams),\n\u001b[1;32m     64\u001b[0m     \u001b[38;5;124m'\u001b[39m\u001b[38;5;124m42 Net Abnormal Losses (Gains)\u001b[39m\u001b[38;5;124m'\u001b[39m: bq\u001b[38;5;241m.\u001b[39mdata\u001b[38;5;241m.\u001b[39mis_net_abnormal_items(\u001b[38;5;241m*\u001b[39m\u001b[38;5;241m*\u001b[39mparams),\n\u001b[1;32m     65\u001b[0m     \u001b[38;5;124m'\u001b[39m\u001b[38;5;124m43 Net Extraordinary Losses (Gains)\u001b[39m\u001b[38;5;124m'\u001b[39m: bq\u001b[38;5;241m.\u001b[39mdata\u001b[38;5;241m.\u001b[39mxo_gl_net_of_tax(\u001b[38;5;241m*\u001b[39m\u001b[38;5;241m*\u001b[39mparams),\n\u001b[1;32m     66\u001b[0m     \u001b[38;5;124m'\u001b[39m\u001b[38;5;124m44 Basic Weighted Average Number of Shares\u001b[39m\u001b[38;5;124m'\u001b[39m: bq\u001b[38;5;241m.\u001b[39mdata\u001b[38;5;241m.\u001b[39mis_avg_num_sh_for_eps(\u001b[38;5;241m*\u001b[39m\u001b[38;5;241m*\u001b[39mparams_no_currency),\n\u001b[1;32m     67\u001b[0m     \u001b[38;5;124m'\u001b[39m\u001b[38;5;124m45 Basic Earnings per Share\u001b[39m\u001b[38;5;124m'\u001b[39m: bq\u001b[38;5;241m.\u001b[39mdata\u001b[38;5;241m.\u001b[39mis_eps(\u001b[38;5;241m*\u001b[39m\u001b[38;5;241m*\u001b[39mparams),\n\u001b[1;32m     68\u001b[0m     \u001b[38;5;124m'\u001b[39m\u001b[38;5;124m46 Basic EPS from Continuing Operations\u001b[39m\u001b[38;5;124m'\u001b[39m: bq\u001b[38;5;241m.\u001b[39mdata\u001b[38;5;241m.\u001b[39mis_earn_bef_xo_items_per_sh(\u001b[38;5;241m*\u001b[39m\u001b[38;5;241m*\u001b[39mparams),\n\u001b[1;32m     69\u001b[0m     \u001b[38;5;124m'\u001b[39m\u001b[38;5;124m47 Basic EPS from Continuing Operations\u001b[39m\u001b[38;5;124m'\u001b[39m: bq\u001b[38;5;241m.\u001b[39mdata\u001b[38;5;241m.\u001b[39mis_basic_eps_cont_ops(\u001b[38;5;241m*\u001b[39m\u001b[38;5;241m*\u001b[39mparams),\n\u001b[1;32m     70\u001b[0m     \u001b[38;5;124m'\u001b[39m\u001b[38;5;124m48 Diluted Weighted Average Shares\u001b[39m\u001b[38;5;124m'\u001b[39m: bq\u001b[38;5;241m.\u001b[39mdata\u001b[38;5;241m.\u001b[39mis_sh_for_diluted_eps(\u001b[38;5;241m*\u001b[39m\u001b[38;5;241m*\u001b[39mparams_no_currency),\n\u001b[1;32m     71\u001b[0m     \u001b[38;5;124m'\u001b[39m\u001b[38;5;124m49 Diluted EPS\u001b[39m\u001b[38;5;124m'\u001b[39m: bq\u001b[38;5;241m.\u001b[39mdata\u001b[38;5;241m.\u001b[39mis_diluted_eps(\u001b[38;5;241m*\u001b[39m\u001b[38;5;241m*\u001b[39mparams),\n\u001b[1;32m     72\u001b[0m     \u001b[38;5;124m'\u001b[39m\u001b[38;5;124m50 Diluted EPS from Continuing Operations\u001b[39m\u001b[38;5;124m'\u001b[39m: bq\u001b[38;5;241m.\u001b[39mdata\u001b[38;5;241m.\u001b[39mis_dil_eps_bef_xo(\u001b[38;5;241m*\u001b[39m\u001b[38;5;241m*\u001b[39mparams),\n\u001b[1;32m     73\u001b[0m     \u001b[38;5;124m'\u001b[39m\u001b[38;5;124m51 Diluted EPS from Continuing Operations, Adj\u001b[39m\u001b[38;5;124m'\u001b[39m: bq\u001b[38;5;241m.\u001b[39mdata\u001b[38;5;241m.\u001b[39mis_dil_eps_cont_ops(\u001b[38;5;241m*\u001b[39m\u001b[38;5;241m*\u001b[39mparams)\n\u001b[1;32m     74\u001b[0m }\n\u001b[1;32m     76\u001b[0m bs_fields \u001b[38;5;241m=\u001b[39m {\n\u001b[1;32m     77\u001b[0m     \u001b[38;5;124m'\u001b[39m\u001b[38;5;124m01 Cash, Cash Equivalents & STI\u001b[39m\u001b[38;5;124m'\u001b[39m : bq\u001b[38;5;241m.\u001b[39mdata\u001b[38;5;241m.\u001b[39mc_and_ce_and_sti_detailed(\u001b[38;5;241m*\u001b[39m\u001b[38;5;241m*\u001b[39mparams),\n\u001b[1;32m     78\u001b[0m     \u001b[38;5;124m'\u001b[39m\u001b[38;5;124m02 Cash & Cash Equivalents\u001b[39m\u001b[38;5;124m'\u001b[39m : bq\u001b[38;5;241m.\u001b[39mdata\u001b[38;5;241m.\u001b[39mbs_cash_near_cash_item(\u001b[38;5;241m*\u001b[39m\u001b[38;5;241m*\u001b[39mparams),\n\u001b[0;32m   (...)\u001b[0m\n\u001b[1;32m    147\u001b[0m \n\u001b[1;32m    148\u001b[0m }\n\u001b[1;32m    150\u001b[0m \u001b[38;5;28;01mreturn\u001b[39;00m univ, is_fields, bs_fields\n",
      "File \u001b[0;32m/opt/kernel/lib/python3.11/site-packages/bql/om/bql_item.py:1021\u001b[0m, in \u001b[0;36mBqlItemFactory.__call__\u001b[0;34m(self, *args, **kwargs)\u001b[0m\n\u001b[1;32m   1019\u001b[0m \u001b[38;5;28;01mdef\u001b[39;00m \u001b[38;5;21m__call__\u001b[39m(\u001b[38;5;28mself\u001b[39m, \u001b[38;5;241m*\u001b[39margs, \u001b[38;5;241m*\u001b[39m\u001b[38;5;241m*\u001b[39mkwargs):\n\u001b[1;32m   1020\u001b[0m     output_column \u001b[38;5;241m=\u001b[39m \u001b[38;5;28;01mNone\u001b[39;00m\n\u001b[0;32m-> 1021\u001b[0m     item \u001b[38;5;241m=\u001b[39m \u001b[43mBqlItem\u001b[49m\u001b[43m(\u001b[49m\u001b[38;5;28;43mself\u001b[39;49m\u001b[38;5;241;43m.\u001b[39;49m\u001b[43m__name\u001b[49m\u001b[43m,\u001b[49m\n\u001b[1;32m   1022\u001b[0m \u001b[43m                   \u001b[49m\u001b[38;5;28;43mself\u001b[39;49m\u001b[38;5;241;43m.\u001b[39;49m\u001b[43m__metadata\u001b[49m\u001b[43m,\u001b[49m\n\u001b[1;32m   1023\u001b[0m \u001b[43m                   \u001b[49m\u001b[43moutput_column\u001b[49m\u001b[43m,\u001b[49m\n\u001b[1;32m   1024\u001b[0m \u001b[43m                   \u001b[49m\u001b[38;5;28;43mlist\u001b[39;49m\u001b[43m(\u001b[49m\u001b[43mitertools\u001b[49m\u001b[38;5;241;43m.\u001b[39;49m\u001b[43mchain\u001b[49m\u001b[43m(\u001b[49m\u001b[38;5;28;43mself\u001b[39;49m\u001b[38;5;241;43m.\u001b[39;49m\u001b[43m__bound_args\u001b[49m\u001b[43m,\u001b[49m\u001b[43m \u001b[49m\u001b[43margs\u001b[49m\u001b[43m)\u001b[49m\u001b[43m)\u001b[49m\u001b[43m,\u001b[49m\n\u001b[1;32m   1025\u001b[0m \u001b[43m                   \u001b[49m\u001b[43mkwargs\u001b[49m\u001b[43m)\u001b[49m\n\u001b[1;32m   1026\u001b[0m     \u001b[38;5;66;03m# Propagate documentation to the instantiated item.\u001b[39;00m\n\u001b[1;32m   1027\u001b[0m     item\u001b[38;5;241m.\u001b[39m\u001b[38;5;18m__doc__\u001b[39m \u001b[38;5;241m=\u001b[39m \u001b[38;5;28mself\u001b[39m\u001b[38;5;241m.\u001b[39m\u001b[38;5;18m__doc__\u001b[39m\n",
      "File \u001b[0;32m/opt/kernel/lib/python3.11/site-packages/bql/om/bql_item.py:74\u001b[0m, in \u001b[0;36mBqlItem.__init__\u001b[0;34m(self, name, metadata, output_column, positional_params, named_params)\u001b[0m\n\u001b[1;32m     68\u001b[0m     \u001b[38;5;28;01massert\u001b[39;00m m\u001b[38;5;241m.\u001b[39mreader \u001b[38;5;129;01mis\u001b[39;00m \u001b[38;5;28mself\u001b[39m\u001b[38;5;241m.\u001b[39m_metadata_reader\n\u001b[1;32m     69\u001b[0m \u001b[38;5;66;03m# __param_bindings is a list of one or more _ParameterBinding objects\u001b[39;00m\n\u001b[1;32m     70\u001b[0m \u001b[38;5;66;03m# that validly bind to given positional_params and named_params.  If no\u001b[39;00m\n\u001b[1;32m     71\u001b[0m \u001b[38;5;66;03m# valid binding can be made, then __validate_and_bind() throws an\u001b[39;00m\n\u001b[1;32m     72\u001b[0m \u001b[38;5;66;03m# exception, so a fully constructed BqlItem always has at least one\u001b[39;00m\n\u001b[1;32m     73\u001b[0m \u001b[38;5;66;03m# item in its __param_bindings list.\u001b[39;00m\n\u001b[0;32m---> 74\u001b[0m \u001b[38;5;28mself\u001b[39m\u001b[38;5;241m.\u001b[39m__param_bindings \u001b[38;5;241m=\u001b[39m \u001b[38;5;28;43mself\u001b[39;49m\u001b[38;5;241;43m.\u001b[39;49m\u001b[43m__validate_and_bind\u001b[49m\u001b[43m(\u001b[49m\u001b[43mpositional_params\u001b[49m\u001b[43m,\u001b[49m\n\u001b[1;32m     75\u001b[0m \u001b[43m                                                 \u001b[49m\u001b[43mnamed_params\u001b[49m\u001b[43m)\u001b[49m\n\u001b[1;32m     76\u001b[0m \u001b[38;5;28;01massert\u001b[39;00m \u001b[38;5;28mlen\u001b[39m(\u001b[38;5;28mself\u001b[39m\u001b[38;5;241m.\u001b[39m__param_bindings) \u001b[38;5;241m>\u001b[39m \u001b[38;5;241m0\u001b[39m\n\u001b[1;32m     78\u001b[0m \u001b[38;5;66;03m# Keep only those metadata for which there is a valid parameter\u001b[39;00m\n\u001b[1;32m     79\u001b[0m \u001b[38;5;66;03m# binding. We know there is at least one valid parameter binding, so we\u001b[39;00m\n\u001b[1;32m     80\u001b[0m \u001b[38;5;66;03m# should end up with at least one metadata record.\u001b[39;00m\n",
      "File \u001b[0;32m/opt/kernel/lib/python3.11/site-packages/bql/om/bql_item.py:619\u001b[0m, in \u001b[0;36mBqlItem.__validate_and_bind\u001b[0;34m(self, positional_params, named_params)\u001b[0m\n\u001b[1;32m    616\u001b[0m         all_param_bindings\u001b[38;5;241m.\u001b[39mappend(bindings)\n\u001b[1;32m    618\u001b[0m \u001b[38;5;28;01mif\u001b[39;00m \u001b[38;5;129;01mnot\u001b[39;00m all_param_bindings:\n\u001b[0;32m--> 619\u001b[0m     \u001b[38;5;28;01mraise\u001b[39;00m InvalidParameterGroupError(\n\u001b[1;32m    620\u001b[0m         \u001b[38;5;28mself\u001b[39m\u001b[38;5;241m.\u001b[39m_name, param_groups, errors)\n\u001b[1;32m    622\u001b[0m \u001b[38;5;28;01mreturn\u001b[39;00m all_param_bindings\n",
      "\u001b[0;31mInvalidParameterGroupError\u001b[0m: No parameter group of \"SALES_REV_TURN\" can accomodate the given set of parameters.\n\nParameter group \"DCOverrides02_LEGACY_1\" does not work because: Parameter \"as_of_date\" cannot be a list\nParameter group \"DCOverrides02_GEO\" does not work because: Parameter \"as_of_date\" cannot be a list\nParameter group \"DCOverrides02_BROKERS\" does not work because: Parameter \"as_of_date\" cannot be a list\nParameter group \"DCOverrides02_CDE\" does not work because: Parameter \"as_of_date\" cannot be a list\nParameter group \"DCOverrides02_BICS\" does not work because: Parameter \"as_of_date\" cannot be a list\nParameter group \"PORT_Param_Group0\" does not work because: 'currency' is not a valid parameter name\nParameter group \"DCOverrides02_CONSENSUS_AEMAP\" does not work because: Parameter \"as_of_date\" cannot be a list\nParameter group \"EQHBOverrides02\" does not work because: Parameter \"as_of_date\" cannot be a list\nParameter group \"DCOverrides02_CONSENSUS\" does not work because: Parameter \"as_of_date\" cannot be a list\nParameter group \"DCOverrides02_LEGACY_2\" does not work because: Parameter \"as_of_date\" cannot be a list"
     ]
    }
   ],
   "source": [
    "%time\n",
    "dates = ['2023-12-31',\n",
    "        '2022-12-31',\n",
    "        '2021-12-31',\n",
    "        '2020-12-31',\n",
    "        '2019-12-31',\n",
    "        '2018-12-31',\n",
    "        '2017-12-31',\n",
    "        '2016-12-31',\n",
    "        '2015-12-31',\n",
    "        '2014-12-31',\n",
    "        '2013-12-31',\n",
    "        '2012-12-31',\n",
    "        '2011-12-31',\n",
    "        '2010-12-31',\n",
    "        '2009-12-31',\n",
    "        '2008-12-31',\n",
    "        '2007-12-31']\n",
    "\n",
    "date_small = ['2023-12-31', '2022-12-31']\n",
    "\n",
    "all_data = {}\n",
    "\n",
    "for date in dates:\n",
    "    all_data[date] = process_date(date_small)\n",
    "    print(\"Completed for\", date)\n",
    "\n"
   ]
  },
  {
   "cell_type": "code",
   "execution_count": null,
   "metadata": {},
   "outputs": [],
   "source": [
    "with open('data.json','w') as f:\n",
    "    json.dump(all_data, f)"
   ]
  },
  {
   "cell_type": "markdown",
   "metadata": {},
   "source": [
    "## Save the data to S3"
   ]
  },
  {
   "cell_type": "code",
   "execution_count": null,
   "metadata": {},
   "outputs": [],
   "source": [
    "## Save to S3\n",
    "user_bucket_name = os.environ['BQUANT_SANDBOX_USER_BUCKET']\n",
    "bqnt_username = os.environ['BQUANT_USERNAME']\n",
    "\n",
    "s3 = boto3.resource(\"s3\")\n",
    "\n",
    "path_to_s3 = f's3://{user_bucket_name}/{bqnt_username}/tmp/fs/data.json'\n",
    "s3 = S3FileSystem()\n",
    "\n",
    "with s3.open(path_to_s3, 'w') as file:\n",
    "    json.dump(all_data, file)"
   ]
  },
  {
   "cell_type": "code",
   "execution_count": null,
   "metadata": {},
   "outputs": [],
   "source": []
  },
  {
   "cell_type": "code",
   "execution_count": null,
   "metadata": {},
   "outputs": [],
   "source": []
  },
  {
   "cell_type": "code",
   "execution_count": null,
   "metadata": {},
   "outputs": [],
   "source": []
  },
  {
   "cell_type": "code",
   "execution_count": null,
   "metadata": {},
   "outputs": [],
   "source": []
  },
  {
   "cell_type": "code",
   "execution_count": null,
   "metadata": {},
   "outputs": [],
   "source": []
  },
  {
   "cell_type": "code",
   "execution_count": null,
   "metadata": {},
   "outputs": [],
   "source": []
  },
  {
   "cell_type": "code",
   "execution_count": null,
   "metadata": {},
   "outputs": [],
   "source": []
  },
  {
   "cell_type": "code",
   "execution_count": null,
   "metadata": {},
   "outputs": [],
   "source": []
  },
  {
   "cell_type": "code",
   "execution_count": null,
   "metadata": {},
   "outputs": [],
   "source": []
  },
  {
   "cell_type": "code",
   "execution_count": null,
   "metadata": {},
   "outputs": [],
   "source": []
  },
  {
   "cell_type": "code",
   "execution_count": null,
   "metadata": {},
   "outputs": [],
   "source": []
  },
  {
   "cell_type": "code",
   "execution_count": null,
   "metadata": {},
   "outputs": [],
   "source": []
  },
  {
   "cell_type": "code",
   "execution_count": null,
   "metadata": {},
   "outputs": [],
   "source": [
    "df2 = pd.concat(df_all, axis=1)\n",
    "df2"
   ]
  },
  {
   "cell_type": "code",
   "execution_count": null,
   "metadata": {},
   "outputs": [],
   "source": [
    "# loop through each BQL response and pivot data so that time series is horizonal and companies are vertical\n",
    "df_all = [data[index].df()[data[index].df()['PERIOD_END_DATE'] != 0].pivot(columns='PERIOD_END_DATE', values=[fields[index]]).fillna(0) for index in range(0,len(fields))]\n",
    "df2 = pd.concat(df_all, axis=1)\n",
    "df3 = df2.stack().transpose().stack().unstack(level=0).transpose().fillna(0)\n",
    "df4 = df3.loc[:, (df3 != 0).any(axis=0)]\n",
    "df4"
   ]
  },
  {
   "cell_type": "code",
   "execution_count": null,
   "metadata": {},
   "outputs": [],
   "source": [
    "df = df[df['PERIOD_END_DATE'] != 0]"
   ]
  },
  {
   "cell_type": "code",
   "execution_count": null,
   "metadata": {},
   "outputs": [],
   "source": [
    "df_piv = pd.pivot_table(df,values=[list(is_fields.keys())[0]],columns='PERIOD_END_DATE',index='ID')\n",
    "df_piv"
   ]
  },
  {
   "cell_type": "code",
   "execution_count": null,
   "metadata": {},
   "outputs": [],
   "source": [
    "df2 = data[1].df().fillna(0)\n",
    "df2 = df2[df2['PERIOD_END_DATE'] != 0]\n",
    "df2"
   ]
  },
  {
   "cell_type": "code",
   "execution_count": null,
   "metadata": {},
   "outputs": [],
   "source": [
    "pd.pivot_table(df2,values=[list(is_fields.keys())[1]],columns='PERIOD_END_DATE',index='ID')"
   ]
  },
  {
   "cell_type": "code",
   "execution_count": null,
   "metadata": {},
   "outputs": [],
   "source": [
    "dt_trim = date(2000,12,31)\n",
    "dt_trim = int(dt_trim.strftime('%Y%m%d'))"
   ]
  },
  {
   "cell_type": "code",
   "execution_count": null,
   "metadata": {},
   "outputs": [],
   "source": [
    "df1 = df[['PERIOD_END_DATE',list(is_fields.keys())[0]]]"
   ]
  },
  {
   "cell_type": "code",
   "execution_count": null,
   "metadata": {},
   "outputs": [],
   "source": [
    "df2 = df1.reset_index().drop_duplicates(subset=['PERIOD_END_DATE','ID',list(is_fields.keys())[0]]).set_index('ID')"
   ]
  },
  {
   "cell_type": "code",
   "execution_count": null,
   "metadata": {},
   "outputs": [],
   "source": [
    "df3 = df2.pivot(columns='PERIOD_END_DATE',values=list(is_fields.keys())[0])"
   ]
  },
  {
   "cell_type": "code",
   "execution_count": null,
   "metadata": {},
   "outputs": [],
   "source": [
    "dates = df3.columns\n",
    "\n",
    "a = np.where(df['PERIOD_END_DATE'] )\n",
    "\n",
    "for col in dates:\n",
    "    check = df3[col].between()"
   ]
  },
  {
   "cell_type": "code",
   "execution_count": null,
   "metadata": {},
   "outputs": [],
   "source": [
    "df3"
   ]
  },
  {
   "cell_type": "code",
   "execution_count": null,
   "metadata": {},
   "outputs": [],
   "source": []
  }
 ],
 "metadata": {
  "kernelspec": {
   "display_name": "BQuant Python 3",
   "language": "python",
   "name": "remote-jupyterpython"
  },
  "language_info": {
   "codemirror_mode": {
    "name": "ipython",
    "version": 3
   },
   "file_extension": ".py",
   "mimetype": "text/x-python",
   "name": "python",
   "nbconvert_exporter": "python",
   "pygments_lexer": "ipython3",
   "version": "3.11.8"
  }
 },
 "nbformat": 4,
 "nbformat_minor": 4
}
