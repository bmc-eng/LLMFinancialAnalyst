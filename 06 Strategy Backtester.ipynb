{
 "cells": [
  {
   "cell_type": "markdown",
   "id": "57fce2b8-c8d6-42a6-8f88-ab5ff1ef0f6d",
   "metadata": {},
   "source": [
    "# Strategy Construction Tool\n",
    "This is to produce trade reports that can be used in the evaluation section to backtest."
   ]
  },
  {
   "cell_type": "code",
   "execution_count": 1,
   "id": "8fa8aeb3-ae6f-4124-a989-7202257623e7",
   "metadata": {},
   "outputs": [
    {
     "name": "stdout",
     "output_type": "stream",
     "text": [
      "\u001b[31mERROR: pip's dependency resolver does not currently take into account all the packages that are installed. This behaviour is the source of the following dependency conflicts.\n",
      "bbq-tools 1.39.0 requires python<4.0,>=3.9, which is not installed.\n",
      "bqapi 0.36.0 requires python>=3.9, which is not installed.\n",
      "bql-enterprise 0.17.0a0 requires pybql, which is not installed.\n",
      "pygwalker 0.4.7 requires gw-dsl-parser==0.1.45a6, which is not installed.\n",
      "flask-appbuilder 4.5.3 requires SQLAlchemy<1.5, but you have sqlalchemy 2.0.40 which is incompatible.\n",
      "aiobotocore 2.13.3 requires botocore<1.34.163,>=1.34.70, but you have botocore 1.38.2 which is incompatible.\n",
      "apache-airflow 2.9.2 requires sqlalchemy<2.0,>=1.4.36, but you have sqlalchemy 2.0.40 which is incompatible.\n",
      "awscli 2.15.37 requires cryptography<40.0.2,>=3.3.2, but you have cryptography 40.0.2 which is incompatible.\n",
      "awscli 2.15.37 requires python-dateutil<=2.8.2,>=2.1, but you have python-dateutil 2.9.0.post0 which is incompatible.\n",
      "blis 1.0.1 requires numpy<3.0.0,>=2.0.0, but you have numpy 1.26.4 which is incompatible.\n",
      "bloomberg-bquant-cis-utils 2.4.0a0 requires certifi==2024.2.2, but you have certifi 2025.1.31 which is incompatible.\n",
      "bloomberg-bquant-cis-utils 2.4.0a0 requires charset-normalizer==3.3.2, but you have charset-normalizer 3.4.1 which is incompatible.\n",
      "bloomberg-bquant-cis-utils 2.4.0a0 requires idna==3.7, but you have idna 3.10 which is incompatible.\n",
      "bloomberg-bquant-cis-utils 2.4.0a0 requires requests==2.31.0, but you have requests 2.32.3 which is incompatible.\n",
      "bloomberg-bquant-cis-utils 2.4.0a0 requires six==1.16.0, but you have six 1.17.0 which is incompatible.\n",
      "bloomberg-bquant-cis-utils 2.4.0a0 requires urllib3==2.2.1, but you have urllib3 1.26.20 which is incompatible.\n",
      "bql 0.139.0a0 requires bqlmetadata<=0.99.0,>=0.96.0, but you have bqlmetadata 0.100.0a0 which is incompatible.\n",
      "datasets 2.19.1 requires fsspec[http]<=2024.3.1,>=2023.1.0, but you have fsspec 2025.3.2 which is incompatible.\n",
      "fastai 2.7.18 requires torch<2.6,>=1.10, but you have torch 2.7.0 which is incompatible.\n",
      "kanaries-track 0.0.3 requires requests==2.31.0, but you have requests 2.32.3 which is incompatible.\n",
      "kombu 5.4.1 requires typing-extensions==4.12.2; python_version < \"3.10\", but you have typing-extensions 4.13.2 which is incompatible.\n",
      "marshmallow-sqlalchemy 0.28.2 requires SQLAlchemy<2.0,>=1.3.0, but you have sqlalchemy 2.0.40 which is incompatible.\n",
      "pygwalker 0.4.7 requires kanaries-track==0.0.4, but you have kanaries-track 0.0.3 which is incompatible.\n",
      "pygwalker 0.4.7 requires segment-analytics-python==2.2.3, but you have segment-analytics-python 2.2.2 which is incompatible.\n",
      "s3fs 2023.12.2 requires fsspec==2023.12.2, but you have fsspec 2025.3.2 which is incompatible.\u001b[0m\u001b[31m\n",
      "\u001b[0m"
     ]
    }
   ],
   "source": [
    "!pip -q install --force-reinstall langgraph langchain_aws langchain-huggingface langchain"
   ]
  },
  {
   "cell_type": "code",
   "execution_count": 6,
   "id": "54f3d6fd-72dd-4c1e-9933-1a34794338e8",
   "metadata": {},
   "outputs": [],
   "source": [
    "import copy\n",
    "import pandas as pd\n",
    "import company_data as cd\n",
    "import financial_agent as fa\n",
    "import committee_agent as ca\n",
    "import importlib\n",
    "from tqdm import tqdm\n",
    "import json\n",
    "\n",
    "from utils.s3_helper import S3Helper\n",
    "from datetime import datetime\n",
    "\n",
    "import concurrent.futures\n"
   ]
  },
  {
   "cell_type": "code",
   "execution_count": 7,
   "id": "40fe4c19-7fa3-4e50-9fd3-1c784563a407",
   "metadata": {},
   "outputs": [
    {
     "data": {
      "text/plain": [
       "<module 'committee_agent' from '/project/committee_agent.py'>"
      ]
     },
     "execution_count": 7,
     "metadata": {},
     "output_type": "execute_result"
    }
   ],
   "source": [
    "importlib.reload(fa)\n",
    "importlib.reload(ca)"
   ]
  },
  {
   "cell_type": "markdown",
   "id": "571bb9ac-6dfe-4ed9-8dc7-cf47e90267ae",
   "metadata": {},
   "source": [
    "### Collect the data needed to run the Agents\n",
    "The Agents will require financial statement datasets and news datasets in order to conduct their analysis."
   ]
  },
  {
   "cell_type": "code",
   "execution_count": 8,
   "id": "d149871e-47f3-4bda-98b9-10aa13aec9ea",
   "metadata": {},
   "outputs": [],
   "source": [
    "# Get the company reports\n",
    "security_datasets = cd.SecurityData('tmp/fs', 'dow_quarterly_ltm_v2.json')\n",
    "# get the saved news datasets\n",
    "s3_helper = S3Helper('tmp/fs')\n",
    "s3_helper.get_file(filename='dow_headlines.parquet', local_filename='/tmp/dow_headlines.parquet')\n",
    "# Convert to pandas dataframe\n",
    "news_headlines = pd.read_parquet('/tmp/dow_headlines.parquet')"
   ]
  },
  {
   "cell_type": "markdown",
   "id": "2261dadb-3bb3-42e3-9ee9-c2cad1bd23e5",
   "metadata": {},
   "source": [
    "### Run the Agentic Models\n",
    "Running the inference tasks across 893 date/ security combinations in 1:32h."
   ]
  },
  {
   "cell_type": "code",
   "execution_count": 9,
   "id": "67c8ff94-60c3-46d3-8378-d2fb3f69c4d4",
   "metadata": {},
   "outputs": [],
   "source": [
    "financial_agent = fa.FinancialAnalystAgent()\n",
    "committee_agent = ca.CommitteeAgent()"
   ]
  },
  {
   "cell_type": "code",
   "execution_count": 10,
   "id": "e2bbb33a-04a2-46f2-b007-23b46f07a353",
   "metadata": {},
   "outputs": [],
   "source": [
    "def run_single(security: str, as_of_date: str) -> dict:\n",
    "    \"\"\"\n",
    "    Function to run a single run of the Agent\n",
    "    \"\"\"\n",
    "    company_data = security_datasets.get_security_all_data(as_of_date, security)\n",
    "    # Time the run\n",
    "    start_time = datetime.now()\n",
    "    # Run the financial analyst agent\n",
    "    financial_report = financial_agent.run(security_data=company_data, \n",
    "                                       news_data=news_headlines, \n",
    "                                       as_of_date=as_of_date)\n",
    "    # Run the committee agent\n",
    "    committee_report = committee_agent.run(senior_analyst_report=financial_report['senior_report'],\n",
    "                                           financial_statement_analysis=financial_report['financial_report'],\n",
    "                                           security_data=company_data)\n",
    "    end_time = datetime.now()\n",
    "    decision_dict = {\n",
    "        'date': as_of_date,\n",
    "        'security': security,\n",
    "        'earning_decision': financial_report['final_output'].direction,\n",
    "        'earning_magnitude': financial_report['final_output'].magnitude,\n",
    "        'earning_confidence': financial_report['final_output'].confidence,\n",
    "        'recommendation': committee_report['results'].recommendation,\n",
    "        \n",
    "        'responses': {'financial_analyst': financial_report,\n",
    "                     'committee_report': committee_report},\n",
    "        'time': str(end_time - start_time)\n",
    "    }\n",
    "    return decision_dict\n",
    "    \n",
    "    "
   ]
  },
  {
   "cell_type": "code",
   "execution_count": 11,
   "id": "171f1163-d588-40d7-bc14-1e38de2f3ca1",
   "metadata": {},
   "outputs": [],
   "source": [
    "dates_and_securities = security_datasets.date_security_timeseries()\n",
    "test_security = dates_and_securities[0]"
   ]
  },
  {
   "cell_type": "code",
   "execution_count": 7,
   "id": "77035d29-bb7c-44dd-bd73-c0408acd1cd1",
   "metadata": {},
   "outputs": [
    {
     "data": {
      "text/plain": [
       "{'date': '2020-04-24', 'security': 'AXP UN Equity'}"
      ]
     },
     "execution_count": 7,
     "metadata": {},
     "output_type": "execute_result"
    }
   ],
   "source": [
    "test_security"
   ]
  },
  {
   "cell_type": "code",
   "execution_count": 19,
   "id": "2c664118-ddd8-4ef6-aeae-4549c6efe6ec",
   "metadata": {},
   "outputs": [],
   "source": [
    "test_output = run_single('AXP UN Equity', '2020-04-24')"
   ]
  },
  {
   "cell_type": "code",
   "execution_count": 12,
   "id": "e3adeff4-dd47-41d2-a064-589c9cc536bb",
   "metadata": {},
   "outputs": [],
   "source": [
    "data_output = []\n",
    "def backtest(dates_and_securities):\n",
    "    # create the securities\n",
    "    progress = tqdm(total=len(dates_and_securities), position=0, leave=True)\n",
    "    with concurrent.futures.ThreadPoolExecutor(max_workers=30) as executor:\n",
    "        futures = [executor.submit(run_single, single['security'], single['date']) for single in dates_and_securities]\n",
    "        for f in concurrent.futures.as_completed(futures):\n",
    "            progress.update(n=1)\n",
    "            data_output.append(f.result())\n",
    "        "
   ]
  },
  {
   "cell_type": "code",
   "execution_count": 13,
   "id": "a3533ae3-f9e3-407b-a968-90561b538d70",
   "metadata": {},
   "outputs": [
    {
     "name": "stderr",
     "output_type": "stream",
     "text": [
      "100%|██████████| 893/893 [1:48:01<00:00,  7.26s/it]  \n"
     ]
    }
   ],
   "source": [
    "# Run the backtest\n",
    "backtest(dates_and_securities)"
   ]
  },
  {
   "cell_type": "markdown",
   "id": "ed59a7b4-d3d6-407d-aee3-2341e7ba797f",
   "metadata": {},
   "source": [
    "### Save the raw output to S3"
   ]
  },
  {
   "cell_type": "code",
   "execution_count": 14,
   "id": "4eb0e20d-c8db-4419-a820-e7a4702bda41",
   "metadata": {},
   "outputs": [],
   "source": [
    "data_analysis_final = copy.deepcopy(data_output)"
   ]
  },
  {
   "cell_type": "code",
   "execution_count": 15,
   "id": "eaafa0d7-f0ec-4d85-a46d-631b0910c777",
   "metadata": {},
   "outputs": [],
   "source": [
    "# Some of the items are not serializable. Convert to string before JSON\n",
    "for item in data_analysis_final:\n",
    "    item['responses']['financial_analyst']['final_output'] = str(item['responses']['financial_analyst']['final_output'])\n",
    "    item['responses']['committee_report']['results'] = str(item['responses']['committee_report']['results'])\n",
    "    item['responses']['committee_report']['history'] = str(item['responses']['committee_report']['history'])\n",
    "    item['time']=str(item['time'])"
   ]
  },
  {
   "cell_type": "code",
   "execution_count": 23,
   "id": "52e224e8-fc98-4ca6-ac36-37ae04141177",
   "metadata": {},
   "outputs": [],
   "source": [
    "with open('/tmp/agentic_output_llama.json', 'w') as f:\n",
    "    json.dump(data_analysis_final, f)"
   ]
  },
  {
   "cell_type": "code",
   "execution_count": 24,
   "id": "19a8cb52-5f8f-4768-9715-e3e4c14209ad",
   "metadata": {},
   "outputs": [],
   "source": [
    "s3_helper.add_file(local_filename='/tmp/agentic_output_llama.json')"
   ]
  },
  {
   "cell_type": "markdown",
   "id": "c6daa36b-c59a-4a4e-a40b-e59ee5bd750b",
   "metadata": {},
   "source": [
    "### Create the Trade Report"
   ]
  },
  {
   "cell_type": "code",
   "execution_count": 18,
   "id": "eac0b849-f701-454c-a279-6d0b92b8ea39",
   "metadata": {},
   "outputs": [],
   "source": [
    "def trade_report_generation(data, trade_only=False) -> pd.DataFrame:\n",
    "    \"\"\"\n",
    "    Function to create the trade report to pass into the Strategy Analysis tool\n",
    "    \"\"\"\n",
    "    trade_report = []\n",
    "    if trade_only:\n",
    "        for item in data:\n",
    "            trade_report.append({'date': item['date'], \n",
    "                                 'security': item['security'], \n",
    "                                 'decision': item['recommendation'],\n",
    "                                 'confidence': item['earning_confidence']})\n",
    "    \n",
    "        return pd.DataFrame(data=trade_report)\n",
    "    else:\n",
    "        for item in data:\n",
    "            trade_report.append({'date': item['date'], \n",
    "                                 'security': item['security'], \n",
    "                                 'decision': item['recommendation'],\n",
    "                                 'confidence': item['earning_confidence'],\n",
    "                                 'earning_decision': item['earning_decision'],\n",
    "                                 'earning_magnitude': item['earning_magnitude']})\n",
    "        return trade_report"
   ]
  },
  {
   "cell_type": "code",
   "execution_count": 19,
   "id": "cbf18955-f299-4791-9c4c-628c9d13b843",
   "metadata": {},
   "outputs": [],
   "source": [
    "trades = trade_report_generation(data_analysis_final)"
   ]
  },
  {
   "cell_type": "code",
   "execution_count": 20,
   "id": "27511b7e-0f5b-4521-9bdc-25de895efa0e",
   "metadata": {},
   "outputs": [],
   "source": [
    "with open('Results/Agentic/trades_llama.json', 'w') as f:\n",
    "    json.dump(trades, f)"
   ]
  },
  {
   "cell_type": "code",
   "execution_count": 21,
   "id": "2d61da3b-6900-414d-a885-e00c5af1a6d1",
   "metadata": {},
   "outputs": [
    {
     "data": {
      "text/plain": [
       "893"
      ]
     },
     "execution_count": 21,
     "metadata": {},
     "output_type": "execute_result"
    }
   ],
   "source": [
    "len(data_output)"
   ]
  },
  {
   "cell_type": "code",
   "execution_count": null,
   "id": "11609520-1744-44b8-ba05-548714209ef3",
   "metadata": {},
   "outputs": [],
   "source": []
  }
 ],
 "metadata": {
  "kernelspec": {
   "display_name": "Bloomberg Lab Python 3",
   "language": "python",
   "name": "remote-jupyterpython"
  },
  "language_info": {
   "codemirror_mode": {
    "name": "ipython",
    "version": 3
   },
   "file_extension": ".py",
   "mimetype": "text/x-python",
   "name": "python",
   "nbconvert_exporter": "python",
   "pygments_lexer": "ipython3",
   "version": "3.9.12"
  }
 },
 "nbformat": 4,
 "nbformat_minor": 5
}
