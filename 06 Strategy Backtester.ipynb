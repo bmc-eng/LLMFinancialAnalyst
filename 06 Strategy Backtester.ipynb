{
 "cells": [
  {
   "cell_type": "markdown",
   "id": "57fce2b8-c8d6-42a6-8f88-ab5ff1ef0f6d",
   "metadata": {},
   "source": [
    "# Strategy Construction Tool\n",
    "This is to produce trade reports that can be used in the evaluation section to backtest."
   ]
  },
  {
   "cell_type": "code",
   "execution_count": 1,
   "id": "8fa8aeb3-ae6f-4124-a989-7202257623e7",
   "metadata": {},
   "outputs": [
    {
     "name": "stdout",
     "output_type": "stream",
     "text": [
      "\u001b[31mERROR: pip's dependency resolver does not currently take into account all the packages that are installed. This behaviour is the source of the following dependency conflicts.\n",
      "bbq-tools 1.39.0 requires python<4.0,>=3.9, which is not installed.\n",
      "bqapi 0.36.0 requires python>=3.9, which is not installed.\n",
      "bql-enterprise 0.17.0a0 requires pybql, which is not installed.\n",
      "pygwalker 0.4.7 requires gw-dsl-parser==0.1.45a6, which is not installed.\n",
      "flask-appbuilder 4.5.3 requires SQLAlchemy<1.5, but you have sqlalchemy 2.0.40 which is incompatible.\n",
      "aiobotocore 2.13.3 requires botocore<1.34.163,>=1.34.70, but you have botocore 1.38.3 which is incompatible.\n",
      "apache-airflow 2.9.2 requires sqlalchemy<2.0,>=1.4.36, but you have sqlalchemy 2.0.40 which is incompatible.\n",
      "awscli 2.15.37 requires cryptography<40.0.2,>=3.3.2, but you have cryptography 40.0.2 which is incompatible.\n",
      "awscli 2.15.37 requires python-dateutil<=2.8.2,>=2.1, but you have python-dateutil 2.9.0.post0 which is incompatible.\n",
      "blis 1.0.1 requires numpy<3.0.0,>=2.0.0, but you have numpy 1.26.4 which is incompatible.\n",
      "bloomberg-bquant-cis-utils 2.4.0a0 requires certifi==2024.2.2, but you have certifi 2025.4.26 which is incompatible.\n",
      "bloomberg-bquant-cis-utils 2.4.0a0 requires charset-normalizer==3.3.2, but you have charset-normalizer 3.4.1 which is incompatible.\n",
      "bloomberg-bquant-cis-utils 2.4.0a0 requires idna==3.7, but you have idna 3.10 which is incompatible.\n",
      "bloomberg-bquant-cis-utils 2.4.0a0 requires requests==2.31.0, but you have requests 2.32.3 which is incompatible.\n",
      "bloomberg-bquant-cis-utils 2.4.0a0 requires six==1.16.0, but you have six 1.17.0 which is incompatible.\n",
      "bloomberg-bquant-cis-utils 2.4.0a0 requires urllib3==2.2.1, but you have urllib3 1.26.20 which is incompatible.\n",
      "bql 0.139.0a0 requires bqlmetadata<=0.99.0,>=0.96.0, but you have bqlmetadata 0.100.0a0 which is incompatible.\n",
      "datasets 2.19.1 requires fsspec[http]<=2024.3.1,>=2023.1.0, but you have fsspec 2025.3.2 which is incompatible.\n",
      "fastai 2.7.18 requires torch<2.6,>=1.10, but you have torch 2.7.0 which is incompatible.\n",
      "kanaries-track 0.0.3 requires requests==2.31.0, but you have requests 2.32.3 which is incompatible.\n",
      "kombu 5.4.1 requires typing-extensions==4.12.2; python_version < \"3.10\", but you have typing-extensions 4.13.2 which is incompatible.\n",
      "marshmallow-sqlalchemy 0.28.2 requires SQLAlchemy<2.0,>=1.3.0, but you have sqlalchemy 2.0.40 which is incompatible.\n",
      "pygwalker 0.4.7 requires kanaries-track==0.0.4, but you have kanaries-track 0.0.3 which is incompatible.\n",
      "pygwalker 0.4.7 requires segment-analytics-python==2.2.3, but you have segment-analytics-python 2.2.2 which is incompatible.\n",
      "s3fs 2023.12.2 requires fsspec==2023.12.2, but you have fsspec 2025.3.2 which is incompatible.\u001b[0m\u001b[31m\n",
      "\u001b[0m"
     ]
    }
   ],
   "source": [
    "!pip -q install --force-reinstall langgraph langchain_aws langchain-huggingface langchain"
   ]
  },
  {
   "cell_type": "code",
   "execution_count": 2,
   "id": "54f3d6fd-72dd-4c1e-9933-1a34794338e8",
   "metadata": {},
   "outputs": [],
   "source": [
    "import copy\n",
    "import pandas as pd\n",
    "import company_data as cd\n",
    "import financial_agent as fa\n",
    "import committee_agent as ca\n",
    "import importlib\n",
    "from tqdm import tqdm\n",
    "import json\n",
    "\n",
    "from utils.s3_helper import S3Helper\n",
    "from datetime import datetime\n",
    "\n",
    "import concurrent.futures\n"
   ]
  },
  {
   "cell_type": "code",
   "execution_count": 3,
   "id": "40fe4c19-7fa3-4e50-9fd3-1c784563a407",
   "metadata": {},
   "outputs": [
    {
     "data": {
      "text/plain": [
       "<module 'committee_agent' from '/project/committee_agent.py'>"
      ]
     },
     "execution_count": 3,
     "metadata": {},
     "output_type": "execute_result"
    }
   ],
   "source": [
    "importlib.reload(fa)\n",
    "importlib.reload(ca)"
   ]
  },
  {
   "cell_type": "markdown",
   "id": "571bb9ac-6dfe-4ed9-8dc7-cf47e90267ae",
   "metadata": {},
   "source": [
    "### Collect the data needed to run the Agents\n",
    "The Agents will require financial statement datasets and news datasets in order to conduct their analysis."
   ]
  },
  {
   "cell_type": "code",
   "execution_count": 4,
   "id": "d149871e-47f3-4bda-98b9-10aa13aec9ea",
   "metadata": {},
   "outputs": [],
   "source": [
    "# Get the company reports\n",
    "security_datasets = cd.SecurityData('tmp/fs', 'dow_quarterly_ltm_v2.json')\n",
    "# get the saved news datasets\n",
    "s3_helper = S3Helper('tmp/fs')\n",
    "s3_helper.get_file(filename='dow_headlines.parquet', local_filename='/tmp/dow_headlines.parquet')\n",
    "# Convert to pandas dataframe\n",
    "news_headlines = pd.read_parquet('/tmp/dow_headlines.parquet')"
   ]
  },
  {
   "cell_type": "markdown",
   "id": "2261dadb-3bb3-42e3-9ee9-c2cad1bd23e5",
   "metadata": {},
   "source": [
    "### Run the Agentic Models\n",
    "Running the inference tasks across 893 date/ security combinations in 1:32h."
   ]
  },
  {
   "cell_type": "code",
   "execution_count": 5,
   "id": "67c8ff94-60c3-46d3-8378-d2fb3f69c4d4",
   "metadata": {},
   "outputs": [],
   "source": [
    "financial_agent = fa.FinancialAnalystAgent()\n",
    "committee_agent = ca.CommitteeAgent()"
   ]
  },
  {
   "cell_type": "code",
   "execution_count": 6,
   "id": "e2bbb33a-04a2-46f2-b007-23b46f07a353",
   "metadata": {},
   "outputs": [],
   "source": [
    "def run_single(security: str, as_of_date: str) -> dict:\n",
    "    \"\"\"\n",
    "    Function to run a single run of the Agent\n",
    "    \"\"\"\n",
    "    company_data = security_datasets.get_security_all_data(as_of_date, security)\n",
    "    # Time the run\n",
    "    start_time = datetime.now()\n",
    "    # Run the financial analyst agent\n",
    "    financial_report = financial_agent.run(security_data=company_data, \n",
    "                                       news_data=news_headlines, \n",
    "                                       as_of_date=as_of_date)\n",
    "    # Run the committee agent\n",
    "    committee_report = committee_agent.run(senior_analyst_report=financial_report['senior_report'],\n",
    "                                           financial_statement_analysis=financial_report['financial_report'],\n",
    "                                           security_data=company_data)\n",
    "    end_time = datetime.now()\n",
    "    decision_dict = {\n",
    "        'date': as_of_date,\n",
    "        'security': security,\n",
    "        'earning_decision': financial_report['final_output'].direction,\n",
    "        'earning_magnitude': financial_report['final_output'].magnitude,\n",
    "        'earning_confidence': financial_report['final_output'].confidence,\n",
    "        'recommendation': committee_report['results'].recommendation,\n",
    "        \n",
    "        'responses': {'financial_analyst': financial_report,\n",
    "                     'committee_report': committee_report},\n",
    "        'time': str(end_time - start_time)\n",
    "    }\n",
    "    return decision_dict\n",
    "    \n",
    "    "
   ]
  },
  {
   "cell_type": "code",
   "execution_count": 7,
   "id": "171f1163-d588-40d7-bc14-1e38de2f3ca1",
   "metadata": {},
   "outputs": [],
   "source": [
    "dates_and_securities = security_datasets.date_security_timeseries()\n",
    "test_security = dates_and_securities[0]"
   ]
  },
  {
   "cell_type": "code",
   "execution_count": 7,
   "id": "77035d29-bb7c-44dd-bd73-c0408acd1cd1",
   "metadata": {},
   "outputs": [
    {
     "data": {
      "text/plain": [
       "{'date': '2020-04-24', 'security': 'AXP UN Equity'}"
      ]
     },
     "execution_count": 7,
     "metadata": {},
     "output_type": "execute_result"
    }
   ],
   "source": [
    "test_security"
   ]
  },
  {
   "cell_type": "code",
   "execution_count": 19,
   "id": "2c664118-ddd8-4ef6-aeae-4549c6efe6ec",
   "metadata": {},
   "outputs": [],
   "source": [
    "test_output = run_single('AXP UN Equity', '2020-04-24')"
   ]
  },
  {
   "cell_type": "code",
   "execution_count": 7,
   "id": "e3adeff4-dd47-41d2-a064-589c9cc536bb",
   "metadata": {},
   "outputs": [],
   "source": [
    "data_output = []\n",
    "def backtest(dates_and_securities):\n",
    "    # create the securities\n",
    "    progress = tqdm(total=len(dates_and_securities), position=0, leave=True)\n",
    "    with concurrent.futures.ThreadPoolExecutor(max_workers=30) as executor:\n",
    "        futures = [executor.submit(run_single, single['security'], single['date']) for single in dates_and_securities]\n",
    "        for f in concurrent.futures.as_completed(futures):\n",
    "            progress.update(n=1)\n",
    "            data_output.append(f.result())\n",
    "        "
   ]
  },
  {
   "cell_type": "code",
   "execution_count": 14,
   "id": "a3533ae3-f9e3-407b-a968-90561b538d70",
   "metadata": {},
   "outputs": [
    {
     "name": "stderr",
     "output_type": "stream",
     "text": [
      " 13%|█▎        | 84/665 [14:44<1:50:51, 11.45s/it] "
     ]
    },
    {
     "ename": "KeyboardInterrupt",
     "evalue": "",
     "output_type": "error",
     "traceback": [
      "\u001b[0;31m---------------------------------------------------------------------------\u001b[0m",
      "\u001b[0;31mValidationError\u001b[0m                           Traceback (most recent call last)",
      "Input \u001b[0;32mIn [7]\u001b[0m, in \u001b[0;36mbacktest\u001b[0;34m(dates_and_securities)\u001b[0m\n\u001b[1;32m      8\u001b[0m progress\u001b[38;5;241m.\u001b[39mupdate(n\u001b[38;5;241m=\u001b[39m\u001b[38;5;241m1\u001b[39m)\n\u001b[0;32m----> 9\u001b[0m data_output\u001b[38;5;241m.\u001b[39mappend(\u001b[43mf\u001b[49m\u001b[38;5;241;43m.\u001b[39;49m\u001b[43mresult\u001b[49m\u001b[43m(\u001b[49m\u001b[43m)\u001b[49m)\n",
      "File \u001b[0;32m/opt/bqplatform/lib/python3.9/concurrent/futures/_base.py:439\u001b[0m, in \u001b[0;36mFuture.result\u001b[0;34m(self, timeout)\u001b[0m\n\u001b[1;32m    438\u001b[0m \u001b[38;5;28;01melif\u001b[39;00m \u001b[38;5;28mself\u001b[39m\u001b[38;5;241m.\u001b[39m_state \u001b[38;5;241m==\u001b[39m FINISHED:\n\u001b[0;32m--> 439\u001b[0m     \u001b[38;5;28;01mreturn\u001b[39;00m \u001b[38;5;28;43mself\u001b[39;49m\u001b[38;5;241;43m.\u001b[39;49m\u001b[43m__get_result\u001b[49m\u001b[43m(\u001b[49m\u001b[43m)\u001b[49m\n\u001b[1;32m    441\u001b[0m \u001b[38;5;28mself\u001b[39m\u001b[38;5;241m.\u001b[39m_condition\u001b[38;5;241m.\u001b[39mwait(timeout)\n",
      "File \u001b[0;32m/opt/bqplatform/lib/python3.9/concurrent/futures/_base.py:391\u001b[0m, in \u001b[0;36mFuture.__get_result\u001b[0;34m(self)\u001b[0m\n\u001b[1;32m    390\u001b[0m \u001b[38;5;28;01mtry\u001b[39;00m:\n\u001b[0;32m--> 391\u001b[0m     \u001b[38;5;28;01mraise\u001b[39;00m \u001b[38;5;28mself\u001b[39m\u001b[38;5;241m.\u001b[39m_exception\n\u001b[1;32m    392\u001b[0m \u001b[38;5;28;01mfinally\u001b[39;00m:\n\u001b[1;32m    393\u001b[0m     \u001b[38;5;66;03m# Break a reference cycle with the exception in self._exception\u001b[39;00m\n",
      "File \u001b[0;32m/opt/bqplatform/lib/python3.9/concurrent/futures/thread.py:58\u001b[0m, in \u001b[0;36m_WorkItem.run\u001b[0;34m(self)\u001b[0m\n\u001b[1;32m     57\u001b[0m \u001b[38;5;28;01mtry\u001b[39;00m:\n\u001b[0;32m---> 58\u001b[0m     result \u001b[38;5;241m=\u001b[39m \u001b[38;5;28;43mself\u001b[39;49m\u001b[38;5;241;43m.\u001b[39;49m\u001b[43mfn\u001b[49m\u001b[43m(\u001b[49m\u001b[38;5;241;43m*\u001b[39;49m\u001b[38;5;28;43mself\u001b[39;49m\u001b[38;5;241;43m.\u001b[39;49m\u001b[43margs\u001b[49m\u001b[43m,\u001b[49m\u001b[43m \u001b[49m\u001b[38;5;241;43m*\u001b[39;49m\u001b[38;5;241;43m*\u001b[39;49m\u001b[38;5;28;43mself\u001b[39;49m\u001b[38;5;241;43m.\u001b[39;49m\u001b[43mkwargs\u001b[49m\u001b[43m)\u001b[49m\n\u001b[1;32m     59\u001b[0m \u001b[38;5;28;01mexcept\u001b[39;00m \u001b[38;5;167;01mBaseException\u001b[39;00m \u001b[38;5;28;01mas\u001b[39;00m exc:\n",
      "Input \u001b[0;32mIn [5]\u001b[0m, in \u001b[0;36mrun_single\u001b[0;34m(security, as_of_date)\u001b[0m\n\u001b[1;32m     12\u001b[0m \u001b[38;5;66;03m# Run the committee agent\u001b[39;00m\n\u001b[0;32m---> 13\u001b[0m committee_report \u001b[38;5;241m=\u001b[39m \u001b[43mcommittee_agent\u001b[49m\u001b[38;5;241;43m.\u001b[39;49m\u001b[43mrun\u001b[49m\u001b[43m(\u001b[49m\u001b[43msenior_analyst_report\u001b[49m\u001b[38;5;241;43m=\u001b[39;49m\u001b[43mfinancial_report\u001b[49m\u001b[43m[\u001b[49m\u001b[38;5;124;43m'\u001b[39;49m\u001b[38;5;124;43msenior_report\u001b[39;49m\u001b[38;5;124;43m'\u001b[39;49m\u001b[43m]\u001b[49m\u001b[43m,\u001b[49m\n\u001b[1;32m     14\u001b[0m \u001b[43m                                       \u001b[49m\u001b[43mfinancial_statement_analysis\u001b[49m\u001b[38;5;241;43m=\u001b[39;49m\u001b[43mfinancial_report\u001b[49m\u001b[43m[\u001b[49m\u001b[38;5;124;43m'\u001b[39;49m\u001b[38;5;124;43mfinancial_report\u001b[39;49m\u001b[38;5;124;43m'\u001b[39;49m\u001b[43m]\u001b[49m\u001b[43m,\u001b[49m\n\u001b[1;32m     15\u001b[0m \u001b[43m                                       \u001b[49m\u001b[43msecurity_data\u001b[49m\u001b[38;5;241;43m=\u001b[39;49m\u001b[43mcompany_data\u001b[49m\u001b[43m)\u001b[49m\n\u001b[1;32m     16\u001b[0m end_time \u001b[38;5;241m=\u001b[39m datetime\u001b[38;5;241m.\u001b[39mnow()\n",
      "File \u001b[0;32m/project/committee_agent.py:178\u001b[0m, in \u001b[0;36mCommitteeAgent.run\u001b[0;34m(self, senior_analyst_report, financial_statement_analysis, security_data)\u001b[0m\n\u001b[1;32m    164\u001b[0m initial_state \u001b[38;5;241m=\u001b[39m {\n\u001b[1;32m    165\u001b[0m     \u001b[38;5;124m'\u001b[39m\u001b[38;5;124mcount\u001b[39m\u001b[38;5;124m'\u001b[39m:\u001b[38;5;241m0\u001b[39m,\n\u001b[1;32m    166\u001b[0m     \u001b[38;5;124m'\u001b[39m\u001b[38;5;124mhistory\u001b[39m\u001b[38;5;124m'\u001b[39m:[\u001b[38;5;124m'\u001b[39m\u001b[38;5;124mNothing\u001b[39m\u001b[38;5;124m'\u001b[39m],\n\u001b[0;32m   (...)\u001b[0m\n\u001b[1;32m    175\u001b[0m     \u001b[38;5;124m'\u001b[39m\u001b[38;5;124mstock_prices\u001b[39m\u001b[38;5;124m'\u001b[39m: security_data[\u001b[38;5;124m'\u001b[39m\u001b[38;5;124mstock_price\u001b[39m\u001b[38;5;124m'\u001b[39m]\n\u001b[1;32m    176\u001b[0m }\n\u001b[0;32m--> 178\u001b[0m \u001b[38;5;28;01mreturn\u001b[39;00m \u001b[38;5;28;43mself\u001b[39;49m\u001b[38;5;241;43m.\u001b[39;49m\u001b[43mapp\u001b[49m\u001b[38;5;241;43m.\u001b[39;49m\u001b[43minvoke\u001b[49m\u001b[43m(\u001b[49m\u001b[43minitial_state\u001b[49m\u001b[43m)\u001b[49m\n",
      "File \u001b[0;32m/opt/bqplatform/lib/python3.9/site-packages/langgraph/pregel/__init__.py:2795\u001b[0m, in \u001b[0;36mPregel.invoke\u001b[0;34m(self, input, config, stream_mode, output_keys, interrupt_before, interrupt_after, checkpoint_during, debug, **kwargs)\u001b[0m\n\u001b[1;32m   2794\u001b[0m     chunks \u001b[38;5;241m=\u001b[39m []\n\u001b[0;32m-> 2795\u001b[0m \u001b[38;5;28;01mfor\u001b[39;00m chunk \u001b[38;5;129;01min\u001b[39;00m \u001b[38;5;28mself\u001b[39m\u001b[38;5;241m.\u001b[39mstream(\n\u001b[1;32m   2796\u001b[0m     \u001b[38;5;28minput\u001b[39m,\n\u001b[1;32m   2797\u001b[0m     config,\n\u001b[1;32m   2798\u001b[0m     stream_mode\u001b[38;5;241m=\u001b[39mstream_mode,\n\u001b[1;32m   2799\u001b[0m     output_keys\u001b[38;5;241m=\u001b[39moutput_keys,\n\u001b[1;32m   2800\u001b[0m     interrupt_before\u001b[38;5;241m=\u001b[39minterrupt_before,\n\u001b[1;32m   2801\u001b[0m     interrupt_after\u001b[38;5;241m=\u001b[39minterrupt_after,\n\u001b[1;32m   2802\u001b[0m     checkpoint_during\u001b[38;5;241m=\u001b[39mcheckpoint_during,\n\u001b[1;32m   2803\u001b[0m     debug\u001b[38;5;241m=\u001b[39mdebug,\n\u001b[1;32m   2804\u001b[0m     \u001b[38;5;241m*\u001b[39m\u001b[38;5;241m*\u001b[39mkwargs,\n\u001b[1;32m   2805\u001b[0m ):\n\u001b[1;32m   2806\u001b[0m     \u001b[38;5;28;01mif\u001b[39;00m stream_mode \u001b[38;5;241m==\u001b[39m \u001b[38;5;124m\"\u001b[39m\u001b[38;5;124mvalues\u001b[39m\u001b[38;5;124m\"\u001b[39m:\n",
      "File \u001b[0;32m/opt/bqplatform/lib/python3.9/site-packages/langgraph/pregel/__init__.py:2433\u001b[0m, in \u001b[0;36mPregel.stream\u001b[0;34m(self, input, config, stream_mode, output_keys, interrupt_before, interrupt_after, checkpoint_during, debug, subgraphs)\u001b[0m\n\u001b[1;32m   2432\u001b[0m \u001b[38;5;28;01mwhile\u001b[39;00m loop\u001b[38;5;241m.\u001b[39mtick(input_keys\u001b[38;5;241m=\u001b[39m\u001b[38;5;28mself\u001b[39m\u001b[38;5;241m.\u001b[39minput_channels):\n\u001b[0;32m-> 2433\u001b[0m     \u001b[38;5;28;01mfor\u001b[39;00m _ \u001b[38;5;129;01min\u001b[39;00m runner\u001b[38;5;241m.\u001b[39mtick(\n\u001b[1;32m   2434\u001b[0m         loop\u001b[38;5;241m.\u001b[39mtasks\u001b[38;5;241m.\u001b[39mvalues(),\n\u001b[1;32m   2435\u001b[0m         timeout\u001b[38;5;241m=\u001b[39m\u001b[38;5;28mself\u001b[39m\u001b[38;5;241m.\u001b[39mstep_timeout,\n\u001b[1;32m   2436\u001b[0m         retry_policy\u001b[38;5;241m=\u001b[39m\u001b[38;5;28mself\u001b[39m\u001b[38;5;241m.\u001b[39mretry_policy,\n\u001b[1;32m   2437\u001b[0m         get_waiter\u001b[38;5;241m=\u001b[39mget_waiter,\n\u001b[1;32m   2438\u001b[0m     ):\n\u001b[1;32m   2439\u001b[0m         \u001b[38;5;66;03m# emit output\u001b[39;00m\n\u001b[1;32m   2440\u001b[0m         \u001b[38;5;28;01myield from\u001b[39;00m output()\n",
      "File \u001b[0;32m/opt/bqplatform/lib/python3.9/site-packages/langgraph/pregel/runner.py:153\u001b[0m, in \u001b[0;36mPregelRunner.tick\u001b[0;34m(self, tasks, reraise, timeout, retry_policy, get_waiter)\u001b[0m\n\u001b[1;32m    152\u001b[0m \u001b[38;5;28;01mtry\u001b[39;00m:\n\u001b[0;32m--> 153\u001b[0m     \u001b[43mrun_with_retry\u001b[49m\u001b[43m(\u001b[49m\n\u001b[1;32m    154\u001b[0m \u001b[43m        \u001b[49m\u001b[43mt\u001b[49m\u001b[43m,\u001b[49m\n\u001b[1;32m    155\u001b[0m \u001b[43m        \u001b[49m\u001b[43mretry_policy\u001b[49m\u001b[43m,\u001b[49m\n\u001b[1;32m    156\u001b[0m \u001b[43m        \u001b[49m\u001b[43mconfigurable\u001b[49m\u001b[38;5;241;43m=\u001b[39;49m\u001b[43m{\u001b[49m\n\u001b[1;32m    157\u001b[0m \u001b[43m            \u001b[49m\u001b[43mCONFIG_KEY_CALL\u001b[49m\u001b[43m:\u001b[49m\u001b[43m \u001b[49m\u001b[43mpartial\u001b[49m\u001b[43m(\u001b[49m\n\u001b[1;32m    158\u001b[0m \u001b[43m                \u001b[49m\u001b[43m_call\u001b[49m\u001b[43m,\u001b[49m\n\u001b[1;32m    159\u001b[0m \u001b[43m                \u001b[49m\u001b[43mweakref\u001b[49m\u001b[38;5;241;43m.\u001b[39;49m\u001b[43mref\u001b[49m\u001b[43m(\u001b[49m\u001b[43mt\u001b[49m\u001b[43m)\u001b[49m\u001b[43m,\u001b[49m\n\u001b[1;32m    160\u001b[0m \u001b[43m                \u001b[49m\u001b[43mretry\u001b[49m\u001b[38;5;241;43m=\u001b[39;49m\u001b[43mretry_policy\u001b[49m\u001b[43m,\u001b[49m\n\u001b[1;32m    161\u001b[0m \u001b[43m                \u001b[49m\u001b[43mfutures\u001b[49m\u001b[38;5;241;43m=\u001b[39;49m\u001b[43mweakref\u001b[49m\u001b[38;5;241;43m.\u001b[39;49m\u001b[43mref\u001b[49m\u001b[43m(\u001b[49m\u001b[43mfutures\u001b[49m\u001b[43m)\u001b[49m\u001b[43m,\u001b[49m\n\u001b[1;32m    162\u001b[0m \u001b[43m                \u001b[49m\u001b[43mschedule_task\u001b[49m\u001b[38;5;241;43m=\u001b[39;49m\u001b[38;5;28;43mself\u001b[39;49m\u001b[38;5;241;43m.\u001b[39;49m\u001b[43mschedule_task\u001b[49m\u001b[43m,\u001b[49m\n\u001b[1;32m    163\u001b[0m \u001b[43m                \u001b[49m\u001b[43msubmit\u001b[49m\u001b[38;5;241;43m=\u001b[39;49m\u001b[38;5;28;43mself\u001b[39;49m\u001b[38;5;241;43m.\u001b[39;49m\u001b[43msubmit\u001b[49m\u001b[43m,\u001b[49m\n\u001b[1;32m    164\u001b[0m \u001b[43m                \u001b[49m\u001b[43mreraise\u001b[49m\u001b[38;5;241;43m=\u001b[39;49m\u001b[43mreraise\u001b[49m\u001b[43m,\u001b[49m\n\u001b[1;32m    165\u001b[0m \u001b[43m            \u001b[49m\u001b[43m)\u001b[49m\u001b[43m,\u001b[49m\n\u001b[1;32m    166\u001b[0m \u001b[43m        \u001b[49m\u001b[43m}\u001b[49m\u001b[43m,\u001b[49m\n\u001b[1;32m    167\u001b[0m \u001b[43m    \u001b[49m\u001b[43m)\u001b[49m\n\u001b[1;32m    168\u001b[0m     \u001b[38;5;28mself\u001b[39m\u001b[38;5;241m.\u001b[39mcommit(t, \u001b[38;5;28;01mNone\u001b[39;00m)\n",
      "File \u001b[0;32m/opt/bqplatform/lib/python3.9/site-packages/langgraph/pregel/retry.py:40\u001b[0m, in \u001b[0;36mrun_with_retry\u001b[0;34m(task, retry_policy, configurable)\u001b[0m\n\u001b[1;32m     39\u001b[0m     \u001b[38;5;66;03m# run the task\u001b[39;00m\n\u001b[0;32m---> 40\u001b[0m     \u001b[38;5;28;01mreturn\u001b[39;00m \u001b[43mtask\u001b[49m\u001b[38;5;241;43m.\u001b[39;49m\u001b[43mproc\u001b[49m\u001b[38;5;241;43m.\u001b[39;49m\u001b[43minvoke\u001b[49m\u001b[43m(\u001b[49m\u001b[43mtask\u001b[49m\u001b[38;5;241;43m.\u001b[39;49m\u001b[43minput\u001b[49m\u001b[43m,\u001b[49m\u001b[43m \u001b[49m\u001b[43mconfig\u001b[49m\u001b[43m)\u001b[49m\n\u001b[1;32m     41\u001b[0m \u001b[38;5;28;01mexcept\u001b[39;00m ParentCommand \u001b[38;5;28;01mas\u001b[39;00m exc:\n",
      "File \u001b[0;32m/opt/bqplatform/lib/python3.9/site-packages/langgraph/utils/runnable.py:623\u001b[0m, in \u001b[0;36mRunnableSeq.invoke\u001b[0;34m(self, input, config, **kwargs)\u001b[0m\n\u001b[1;32m    622\u001b[0m     \u001b[38;5;28;01mwith\u001b[39;00m set_config_context(config, run) \u001b[38;5;28;01mas\u001b[39;00m context:\n\u001b[0;32m--> 623\u001b[0m         \u001b[38;5;28minput\u001b[39m \u001b[38;5;241m=\u001b[39m \u001b[43mcontext\u001b[49m\u001b[38;5;241;43m.\u001b[39;49m\u001b[43mrun\u001b[49m\u001b[43m(\u001b[49m\u001b[43mstep\u001b[49m\u001b[38;5;241;43m.\u001b[39;49m\u001b[43minvoke\u001b[49m\u001b[43m,\u001b[49m\u001b[43m \u001b[49m\u001b[38;5;28;43minput\u001b[39;49m\u001b[43m,\u001b[49m\u001b[43m \u001b[49m\u001b[43mconfig\u001b[49m\u001b[43m,\u001b[49m\u001b[43m \u001b[49m\u001b[38;5;241;43m*\u001b[39;49m\u001b[38;5;241;43m*\u001b[39;49m\u001b[43mkwargs\u001b[49m\u001b[43m)\u001b[49m\n\u001b[1;32m    624\u001b[0m \u001b[38;5;28;01melse\u001b[39;00m:\n",
      "File \u001b[0;32m/opt/bqplatform/lib/python3.9/site-packages/langgraph/utils/runnable.py:377\u001b[0m, in \u001b[0;36mRunnableCallable.invoke\u001b[0;34m(self, input, config, **kwargs)\u001b[0m\n\u001b[1;32m    376\u001b[0m \u001b[38;5;28;01melse\u001b[39;00m:\n\u001b[0;32m--> 377\u001b[0m     ret \u001b[38;5;241m=\u001b[39m \u001b[38;5;28;43mself\u001b[39;49m\u001b[38;5;241;43m.\u001b[39;49m\u001b[43mfunc\u001b[49m\u001b[43m(\u001b[49m\u001b[38;5;241;43m*\u001b[39;49m\u001b[43margs\u001b[49m\u001b[43m,\u001b[49m\u001b[43m \u001b[49m\u001b[38;5;241;43m*\u001b[39;49m\u001b[38;5;241;43m*\u001b[39;49m\u001b[43mkwargs\u001b[49m\u001b[43m)\u001b[49m\n\u001b[1;32m    378\u001b[0m \u001b[38;5;28;01mif\u001b[39;00m \u001b[38;5;28mself\u001b[39m\u001b[38;5;241m.\u001b[39mrecurse \u001b[38;5;129;01mand\u001b[39;00m \u001b[38;5;28misinstance\u001b[39m(ret, Runnable):\n",
      "File \u001b[0;32m/project/committee_agent.py:268\u001b[0m, in \u001b[0;36mCommitteeAgent._result\u001b[0;34m(self, state)\u001b[0m\n\u001b[1;32m    267\u001b[0m structured_llm \u001b[38;5;241m=\u001b[39m \u001b[38;5;28mself\u001b[39m\u001b[38;5;241m.\u001b[39m_llm_debate\u001b[38;5;241m.\u001b[39mwith_structured_output(Recommendation)\n\u001b[0;32m--> 268\u001b[0m \u001b[38;5;28;01mreturn\u001b[39;00m {\u001b[38;5;124m\"\u001b[39m\u001b[38;5;124mresults\u001b[39m\u001b[38;5;124m\"\u001b[39m: \u001b[43mstructured_llm\u001b[49m\u001b[38;5;241;43m.\u001b[39;49m\u001b[43minvoke\u001b[49m\u001b[43m(\u001b[49m\u001b[43mprompt_in\u001b[49m\u001b[43m)\u001b[49m}\n",
      "File \u001b[0;32m/opt/bqplatform/lib/python3.9/site-packages/langchain_core/runnables/base.py:3034\u001b[0m, in \u001b[0;36mRunnableSequence.invoke\u001b[0;34m(self, input, config, **kwargs)\u001b[0m\n\u001b[1;32m   3033\u001b[0m             \u001b[38;5;28;01melse\u001b[39;00m:\n\u001b[0;32m-> 3034\u001b[0m                 \u001b[38;5;28minput\u001b[39m \u001b[38;5;241m=\u001b[39m \u001b[43mcontext\u001b[49m\u001b[38;5;241;43m.\u001b[39;49m\u001b[43mrun\u001b[49m\u001b[43m(\u001b[49m\u001b[43mstep\u001b[49m\u001b[38;5;241;43m.\u001b[39;49m\u001b[43minvoke\u001b[49m\u001b[43m,\u001b[49m\u001b[43m \u001b[49m\u001b[38;5;28;43minput\u001b[39;49m\u001b[43m,\u001b[49m\u001b[43m \u001b[49m\u001b[43mconfig\u001b[49m\u001b[43m)\u001b[49m\n\u001b[1;32m   3035\u001b[0m \u001b[38;5;66;03m# finish the root run\u001b[39;00m\n",
      "File \u001b[0;32m/opt/bqplatform/lib/python3.9/site-packages/langchain_core/output_parsers/base.py:92\u001b[0m, in \u001b[0;36mBaseGenerationOutputParser.invoke\u001b[0;34m(self, input, config, **kwargs)\u001b[0m\n\u001b[1;32m     91\u001b[0m \u001b[38;5;28;01mif\u001b[39;00m \u001b[38;5;28misinstance\u001b[39m(\u001b[38;5;28minput\u001b[39m, BaseMessage):\n\u001b[0;32m---> 92\u001b[0m     \u001b[38;5;28;01mreturn\u001b[39;00m \u001b[38;5;28;43mself\u001b[39;49m\u001b[38;5;241;43m.\u001b[39;49m\u001b[43m_call_with_config\u001b[49m\u001b[43m(\u001b[49m\n\u001b[1;32m     93\u001b[0m \u001b[43m        \u001b[49m\u001b[38;5;28;43;01mlambda\u001b[39;49;00m\u001b[43m \u001b[49m\u001b[43minner_input\u001b[49m\u001b[43m:\u001b[49m\u001b[43m \u001b[49m\u001b[38;5;28;43mself\u001b[39;49m\u001b[38;5;241;43m.\u001b[39;49m\u001b[43mparse_result\u001b[49m\u001b[43m(\u001b[49m\n\u001b[1;32m     94\u001b[0m \u001b[43m            \u001b[49m\u001b[43m[\u001b[49m\u001b[43mChatGeneration\u001b[49m\u001b[43m(\u001b[49m\u001b[43mmessage\u001b[49m\u001b[38;5;241;43m=\u001b[39;49m\u001b[43minner_input\u001b[49m\u001b[43m)\u001b[49m\u001b[43m]\u001b[49m\n\u001b[1;32m     95\u001b[0m \u001b[43m        \u001b[49m\u001b[43m)\u001b[49m\u001b[43m,\u001b[49m\n\u001b[1;32m     96\u001b[0m \u001b[43m        \u001b[49m\u001b[38;5;28;43minput\u001b[39;49m\u001b[43m,\u001b[49m\n\u001b[1;32m     97\u001b[0m \u001b[43m        \u001b[49m\u001b[43mconfig\u001b[49m\u001b[43m,\u001b[49m\n\u001b[1;32m     98\u001b[0m \u001b[43m        \u001b[49m\u001b[43mrun_type\u001b[49m\u001b[38;5;241;43m=\u001b[39;49m\u001b[38;5;124;43m\"\u001b[39;49m\u001b[38;5;124;43mparser\u001b[39;49m\u001b[38;5;124;43m\"\u001b[39;49m\u001b[43m,\u001b[49m\n\u001b[1;32m     99\u001b[0m \u001b[43m    \u001b[49m\u001b[43m)\u001b[49m\n\u001b[1;32m    100\u001b[0m \u001b[38;5;28;01mreturn\u001b[39;00m \u001b[38;5;28mself\u001b[39m\u001b[38;5;241m.\u001b[39m_call_with_config(\n\u001b[1;32m    101\u001b[0m     \u001b[38;5;28;01mlambda\u001b[39;00m inner_input: \u001b[38;5;28mself\u001b[39m\u001b[38;5;241m.\u001b[39mparse_result([Generation(text\u001b[38;5;241m=\u001b[39minner_input)]),\n\u001b[1;32m    102\u001b[0m     \u001b[38;5;28minput\u001b[39m,\n\u001b[1;32m    103\u001b[0m     config,\n\u001b[1;32m    104\u001b[0m     run_type\u001b[38;5;241m=\u001b[39m\u001b[38;5;124m\"\u001b[39m\u001b[38;5;124mparser\u001b[39m\u001b[38;5;124m\"\u001b[39m,\n\u001b[1;32m    105\u001b[0m )\n",
      "File \u001b[0;32m/opt/bqplatform/lib/python3.9/site-packages/langchain_core/runnables/base.py:1930\u001b[0m, in \u001b[0;36mRunnable._call_with_config\u001b[0;34m(self, func, input, config, run_type, serialized, **kwargs)\u001b[0m\n\u001b[1;32m   1927\u001b[0m     \u001b[38;5;28;01mwith\u001b[39;00m set_config_context(child_config) \u001b[38;5;28;01mas\u001b[39;00m context:\n\u001b[1;32m   1928\u001b[0m         output \u001b[38;5;241m=\u001b[39m cast(\n\u001b[1;32m   1929\u001b[0m             \u001b[38;5;124m\"\u001b[39m\u001b[38;5;124mOutput\u001b[39m\u001b[38;5;124m\"\u001b[39m,\n\u001b[0;32m-> 1930\u001b[0m             \u001b[43mcontext\u001b[49m\u001b[38;5;241;43m.\u001b[39;49m\u001b[43mrun\u001b[49m\u001b[43m(\u001b[49m\n\u001b[1;32m   1931\u001b[0m \u001b[43m                \u001b[49m\u001b[43mcall_func_with_variable_args\u001b[49m\u001b[43m,\u001b[49m\u001b[43m  \u001b[49m\u001b[38;5;66;43;03m# type: ignore[arg-type]\u001b[39;49;00m\n\u001b[1;32m   1932\u001b[0m \u001b[43m                \u001b[49m\u001b[43mfunc\u001b[49m\u001b[43m,\u001b[49m\n\u001b[1;32m   1933\u001b[0m \u001b[43m                \u001b[49m\u001b[38;5;28;43minput\u001b[39;49m\u001b[43m,\u001b[49m\n\u001b[1;32m   1934\u001b[0m \u001b[43m                \u001b[49m\u001b[43mconfig\u001b[49m\u001b[43m,\u001b[49m\n\u001b[1;32m   1935\u001b[0m \u001b[43m                \u001b[49m\u001b[43mrun_manager\u001b[49m\u001b[43m,\u001b[49m\n\u001b[1;32m   1936\u001b[0m \u001b[43m                \u001b[49m\u001b[38;5;241;43m*\u001b[39;49m\u001b[38;5;241;43m*\u001b[39;49m\u001b[43mkwargs\u001b[49m\u001b[43m,\u001b[49m\n\u001b[1;32m   1937\u001b[0m \u001b[43m            \u001b[49m\u001b[43m)\u001b[49m,\n\u001b[1;32m   1938\u001b[0m         )\n\u001b[1;32m   1939\u001b[0m \u001b[38;5;28;01mexcept\u001b[39;00m \u001b[38;5;167;01mBaseException\u001b[39;00m \u001b[38;5;28;01mas\u001b[39;00m e:\n",
      "File \u001b[0;32m/opt/bqplatform/lib/python3.9/site-packages/langchain_core/runnables/config.py:428\u001b[0m, in \u001b[0;36mcall_func_with_variable_args\u001b[0;34m(func, input, config, run_manager, **kwargs)\u001b[0m\n\u001b[1;32m    427\u001b[0m     kwargs[\u001b[38;5;124m\"\u001b[39m\u001b[38;5;124mrun_manager\u001b[39m\u001b[38;5;124m\"\u001b[39m] \u001b[38;5;241m=\u001b[39m run_manager\n\u001b[0;32m--> 428\u001b[0m \u001b[38;5;28;01mreturn\u001b[39;00m \u001b[43mfunc\u001b[49m\u001b[43m(\u001b[49m\u001b[38;5;28;43minput\u001b[39;49m\u001b[43m,\u001b[49m\u001b[43m \u001b[49m\u001b[38;5;241;43m*\u001b[39;49m\u001b[38;5;241;43m*\u001b[39;49m\u001b[43mkwargs\u001b[49m\u001b[43m)\u001b[49m\n",
      "File \u001b[0;32m/opt/bqplatform/lib/python3.9/site-packages/langchain_core/output_parsers/base.py:93\u001b[0m, in \u001b[0;36mBaseGenerationOutputParser.invoke.<locals>.<lambda>\u001b[0;34m(inner_input)\u001b[0m\n\u001b[1;32m     91\u001b[0m \u001b[38;5;28;01mif\u001b[39;00m \u001b[38;5;28misinstance\u001b[39m(\u001b[38;5;28minput\u001b[39m, BaseMessage):\n\u001b[1;32m     92\u001b[0m     \u001b[38;5;28;01mreturn\u001b[39;00m \u001b[38;5;28mself\u001b[39m\u001b[38;5;241m.\u001b[39m_call_with_config(\n\u001b[0;32m---> 93\u001b[0m         \u001b[38;5;28;01mlambda\u001b[39;00m inner_input: \u001b[38;5;28;43mself\u001b[39;49m\u001b[38;5;241;43m.\u001b[39;49m\u001b[43mparse_result\u001b[49m\u001b[43m(\u001b[49m\n\u001b[1;32m     94\u001b[0m \u001b[43m            \u001b[49m\u001b[43m[\u001b[49m\u001b[43mChatGeneration\u001b[49m\u001b[43m(\u001b[49m\u001b[43mmessage\u001b[49m\u001b[38;5;241;43m=\u001b[39;49m\u001b[43minner_input\u001b[49m\u001b[43m)\u001b[49m\u001b[43m]\u001b[49m\n\u001b[1;32m     95\u001b[0m \u001b[43m        \u001b[49m\u001b[43m)\u001b[49m,\n\u001b[1;32m     96\u001b[0m         \u001b[38;5;28minput\u001b[39m,\n\u001b[1;32m     97\u001b[0m         config,\n\u001b[1;32m     98\u001b[0m         run_type\u001b[38;5;241m=\u001b[39m\u001b[38;5;124m\"\u001b[39m\u001b[38;5;124mparser\u001b[39m\u001b[38;5;124m\"\u001b[39m,\n\u001b[1;32m     99\u001b[0m     )\n\u001b[1;32m    100\u001b[0m \u001b[38;5;28;01mreturn\u001b[39;00m \u001b[38;5;28mself\u001b[39m\u001b[38;5;241m.\u001b[39m_call_with_config(\n\u001b[1;32m    101\u001b[0m     \u001b[38;5;28;01mlambda\u001b[39;00m inner_input: \u001b[38;5;28mself\u001b[39m\u001b[38;5;241m.\u001b[39mparse_result([Generation(text\u001b[38;5;241m=\u001b[39minner_input)]),\n\u001b[1;32m    102\u001b[0m     \u001b[38;5;28minput\u001b[39m,\n\u001b[1;32m    103\u001b[0m     config,\n\u001b[1;32m    104\u001b[0m     run_type\u001b[38;5;241m=\u001b[39m\u001b[38;5;124m\"\u001b[39m\u001b[38;5;124mparser\u001b[39m\u001b[38;5;124m\"\u001b[39m,\n\u001b[1;32m    105\u001b[0m )\n",
      "File \u001b[0;32m/opt/bqplatform/lib/python3.9/site-packages/langchain_aws/function_calling.py:189\u001b[0m, in \u001b[0;36mToolsOutputParser.parse_result\u001b[0;34m(self, result, partial)\u001b[0m\n\u001b[1;32m    188\u001b[0m \u001b[38;5;28;01mif\u001b[39;00m \u001b[38;5;28mself\u001b[39m\u001b[38;5;241m.\u001b[39mpydantic_schemas:\n\u001b[0;32m--> 189\u001b[0m     tool_calls \u001b[38;5;241m=\u001b[39m [\u001b[38;5;28mself\u001b[39m\u001b[38;5;241m.\u001b[39m_pydantic_parse(tc) \u001b[38;5;28;01mfor\u001b[39;00m tc \u001b[38;5;129;01min\u001b[39;00m tool_calls]\n\u001b[1;32m    190\u001b[0m \u001b[38;5;28;01melif\u001b[39;00m \u001b[38;5;28mself\u001b[39m\u001b[38;5;241m.\u001b[39margs_only:\n",
      "File \u001b[0;32m/opt/bqplatform/lib/python3.9/site-packages/langchain_aws/function_calling.py:189\u001b[0m, in \u001b[0;36m<listcomp>\u001b[0;34m(.0)\u001b[0m\n\u001b[1;32m    188\u001b[0m \u001b[38;5;28;01mif\u001b[39;00m \u001b[38;5;28mself\u001b[39m\u001b[38;5;241m.\u001b[39mpydantic_schemas:\n\u001b[0;32m--> 189\u001b[0m     tool_calls \u001b[38;5;241m=\u001b[39m [\u001b[38;5;28;43mself\u001b[39;49m\u001b[38;5;241;43m.\u001b[39;49m\u001b[43m_pydantic_parse\u001b[49m\u001b[43m(\u001b[49m\u001b[43mtc\u001b[49m\u001b[43m)\u001b[49m \u001b[38;5;28;01mfor\u001b[39;00m tc \u001b[38;5;129;01min\u001b[39;00m tool_calls]\n\u001b[1;32m    190\u001b[0m \u001b[38;5;28;01melif\u001b[39;00m \u001b[38;5;28mself\u001b[39m\u001b[38;5;241m.\u001b[39margs_only:\n",
      "File \u001b[0;32m/opt/bqplatform/lib/python3.9/site-packages/langchain_aws/function_calling.py:204\u001b[0m, in \u001b[0;36mToolsOutputParser._pydantic_parse\u001b[0;34m(self, tool_call)\u001b[0m\n\u001b[1;32m    201\u001b[0m cls_ \u001b[38;5;241m=\u001b[39m {schema\u001b[38;5;241m.\u001b[39m\u001b[38;5;18m__name__\u001b[39m: schema \u001b[38;5;28;01mfor\u001b[39;00m schema \u001b[38;5;129;01min\u001b[39;00m \u001b[38;5;28mself\u001b[39m\u001b[38;5;241m.\u001b[39mpydantic_schemas \u001b[38;5;129;01mor\u001b[39;00m []}[\n\u001b[1;32m    202\u001b[0m     tool_call[\u001b[38;5;124m\"\u001b[39m\u001b[38;5;124mname\u001b[39m\u001b[38;5;124m\"\u001b[39m]\n\u001b[1;32m    203\u001b[0m ]\n\u001b[0;32m--> 204\u001b[0m \u001b[38;5;28;01mreturn\u001b[39;00m \u001b[43mcls_\u001b[49m\u001b[43m(\u001b[49m\u001b[38;5;241;43m*\u001b[39;49m\u001b[38;5;241;43m*\u001b[39;49m\u001b[43mtool_call\u001b[49m\u001b[43m[\u001b[49m\u001b[38;5;124;43m\"\u001b[39;49m\u001b[38;5;124;43margs\u001b[39;49m\u001b[38;5;124;43m\"\u001b[39;49m\u001b[43m]\u001b[49m\u001b[43m)\u001b[49m\n",
      "File \u001b[0;32m/opt/bqplatform/lib/python3.9/site-packages/pydantic/main.py:253\u001b[0m, in \u001b[0;36mBaseModel.__init__\u001b[0;34m(self, **data)\u001b[0m\n\u001b[1;32m    252\u001b[0m __tracebackhide__ \u001b[38;5;241m=\u001b[39m \u001b[38;5;28;01mTrue\u001b[39;00m\n\u001b[0;32m--> 253\u001b[0m validated_self \u001b[38;5;241m=\u001b[39m \u001b[38;5;28;43mself\u001b[39;49m\u001b[38;5;241;43m.\u001b[39;49m\u001b[43m__pydantic_validator__\u001b[49m\u001b[38;5;241;43m.\u001b[39;49m\u001b[43mvalidate_python\u001b[49m\u001b[43m(\u001b[49m\u001b[43mdata\u001b[49m\u001b[43m,\u001b[49m\u001b[43m \u001b[49m\u001b[43mself_instance\u001b[49m\u001b[38;5;241;43m=\u001b[39;49m\u001b[38;5;28;43mself\u001b[39;49m\u001b[43m)\u001b[49m\n\u001b[1;32m    254\u001b[0m \u001b[38;5;28;01mif\u001b[39;00m \u001b[38;5;28mself\u001b[39m \u001b[38;5;129;01mis\u001b[39;00m \u001b[38;5;129;01mnot\u001b[39;00m validated_self:\n",
      "\u001b[0;31mValidationError\u001b[0m: 2 validation errors for Recommendation\nreason\n  Field required [type=missing, input_value={'recommendation': '</\"><...uarter\\'s performance.'}, input_type=dict]\n    For further information visit https://errors.pydantic.dev/2.11/v/missing\nconfidence\n  Field required [type=missing, input_value={'recommendation': '</\"><...uarter\\'s performance.'}, input_type=dict]\n    For further information visit https://errors.pydantic.dev/2.11/v/missing",
      "\nDuring handling of the above exception, another exception occurred:\n",
      "\u001b[0;31mKeyboardInterrupt\u001b[0m                         Traceback (most recent call last)",
      "Input \u001b[0;32mIn [14]\u001b[0m, in \u001b[0;36m<cell line: 2>\u001b[0;34m()\u001b[0m\n\u001b[1;32m      1\u001b[0m \u001b[38;5;66;03m# Run the backtest\u001b[39;00m\n\u001b[0;32m----> 2\u001b[0m \u001b[43mbacktest\u001b[49m\u001b[43m(\u001b[49m\u001b[43mdates_and_securities\u001b[49m\u001b[43m[\u001b[49m\u001b[38;5;241;43m228\u001b[39;49m\u001b[43m:\u001b[49m\u001b[43m]\u001b[49m\u001b[43m)\u001b[49m\n",
      "Input \u001b[0;32mIn [7]\u001b[0m, in \u001b[0;36mbacktest\u001b[0;34m(dates_and_securities)\u001b[0m\n\u001b[1;32m      7\u001b[0m \u001b[38;5;28;01mfor\u001b[39;00m f \u001b[38;5;129;01min\u001b[39;00m concurrent\u001b[38;5;241m.\u001b[39mfutures\u001b[38;5;241m.\u001b[39mas_completed(futures):\n\u001b[1;32m      8\u001b[0m     progress\u001b[38;5;241m.\u001b[39mupdate(n\u001b[38;5;241m=\u001b[39m\u001b[38;5;241m1\u001b[39m)\n\u001b[0;32m----> 9\u001b[0m     data_output\u001b[38;5;241m.\u001b[39mappend(f\u001b[38;5;241m.\u001b[39mresult())\n",
      "File \u001b[0;32m/opt/bqplatform/lib/python3.9/concurrent/futures/_base.py:637\u001b[0m, in \u001b[0;36mExecutor.__exit__\u001b[0;34m(self, exc_type, exc_val, exc_tb)\u001b[0m\n\u001b[1;32m    636\u001b[0m \u001b[38;5;28;01mdef\u001b[39;00m \u001b[38;5;21m__exit__\u001b[39m(\u001b[38;5;28mself\u001b[39m, exc_type, exc_val, exc_tb):\n\u001b[0;32m--> 637\u001b[0m     \u001b[38;5;28;43mself\u001b[39;49m\u001b[38;5;241;43m.\u001b[39;49m\u001b[43mshutdown\u001b[49m\u001b[43m(\u001b[49m\u001b[43mwait\u001b[49m\u001b[38;5;241;43m=\u001b[39;49m\u001b[38;5;28;43;01mTrue\u001b[39;49;00m\u001b[43m)\u001b[49m\n\u001b[1;32m    638\u001b[0m     \u001b[38;5;28;01mreturn\u001b[39;00m \u001b[38;5;28;01mFalse\u001b[39;00m\n",
      "File \u001b[0;32m/opt/bqplatform/lib/python3.9/concurrent/futures/thread.py:235\u001b[0m, in \u001b[0;36mThreadPoolExecutor.shutdown\u001b[0;34m(self, wait, cancel_futures)\u001b[0m\n\u001b[1;32m    233\u001b[0m \u001b[38;5;28;01mif\u001b[39;00m wait:\n\u001b[1;32m    234\u001b[0m     \u001b[38;5;28;01mfor\u001b[39;00m t \u001b[38;5;129;01min\u001b[39;00m \u001b[38;5;28mself\u001b[39m\u001b[38;5;241m.\u001b[39m_threads:\n\u001b[0;32m--> 235\u001b[0m         \u001b[43mt\u001b[49m\u001b[38;5;241;43m.\u001b[39;49m\u001b[43mjoin\u001b[49m\u001b[43m(\u001b[49m\u001b[43m)\u001b[49m\n",
      "File \u001b[0;32m/opt/bqplatform/lib/python3.9/threading.py:1053\u001b[0m, in \u001b[0;36mThread.join\u001b[0;34m(self, timeout)\u001b[0m\n\u001b[1;32m   1050\u001b[0m     \u001b[38;5;28;01mraise\u001b[39;00m \u001b[38;5;167;01mRuntimeError\u001b[39;00m(\u001b[38;5;124m\"\u001b[39m\u001b[38;5;124mcannot join current thread\u001b[39m\u001b[38;5;124m\"\u001b[39m)\n\u001b[1;32m   1052\u001b[0m \u001b[38;5;28;01mif\u001b[39;00m timeout \u001b[38;5;129;01mis\u001b[39;00m \u001b[38;5;28;01mNone\u001b[39;00m:\n\u001b[0;32m-> 1053\u001b[0m     \u001b[38;5;28;43mself\u001b[39;49m\u001b[38;5;241;43m.\u001b[39;49m\u001b[43m_wait_for_tstate_lock\u001b[49m\u001b[43m(\u001b[49m\u001b[43m)\u001b[49m\n\u001b[1;32m   1054\u001b[0m \u001b[38;5;28;01melse\u001b[39;00m:\n\u001b[1;32m   1055\u001b[0m     \u001b[38;5;66;03m# the behavior of a negative timeout isn't documented, but\u001b[39;00m\n\u001b[1;32m   1056\u001b[0m     \u001b[38;5;66;03m# historically .join(timeout=x) for x<0 has acted as if timeout=0\u001b[39;00m\n\u001b[1;32m   1057\u001b[0m     \u001b[38;5;28mself\u001b[39m\u001b[38;5;241m.\u001b[39m_wait_for_tstate_lock(timeout\u001b[38;5;241m=\u001b[39m\u001b[38;5;28mmax\u001b[39m(timeout, \u001b[38;5;241m0\u001b[39m))\n",
      "File \u001b[0;32m/opt/bqplatform/lib/python3.9/threading.py:1073\u001b[0m, in \u001b[0;36mThread._wait_for_tstate_lock\u001b[0;34m(self, block, timeout)\u001b[0m\n\u001b[1;32m   1070\u001b[0m     \u001b[38;5;28;01mreturn\u001b[39;00m\n\u001b[1;32m   1072\u001b[0m \u001b[38;5;28;01mtry\u001b[39;00m:\n\u001b[0;32m-> 1073\u001b[0m     \u001b[38;5;28;01mif\u001b[39;00m \u001b[43mlock\u001b[49m\u001b[38;5;241;43m.\u001b[39;49m\u001b[43macquire\u001b[49m\u001b[43m(\u001b[49m\u001b[43mblock\u001b[49m\u001b[43m,\u001b[49m\u001b[43m \u001b[49m\u001b[43mtimeout\u001b[49m\u001b[43m)\u001b[49m:\n\u001b[1;32m   1074\u001b[0m         lock\u001b[38;5;241m.\u001b[39mrelease()\n\u001b[1;32m   1075\u001b[0m         \u001b[38;5;28mself\u001b[39m\u001b[38;5;241m.\u001b[39m_stop()\n",
      "\u001b[0;31mKeyboardInterrupt\u001b[0m: "
     ]
    }
   ],
   "source": [
    "# Run the backtest\n",
    "backtest(dates_and_securities[228:])"
   ]
  },
  {
   "cell_type": "markdown",
   "id": "ed59a7b4-d3d6-407d-aee3-2341e7ba797f",
   "metadata": {},
   "source": [
    "### Save the raw output to S3"
   ]
  },
  {
   "cell_type": "code",
   "execution_count": 20,
   "id": "4eb0e20d-c8db-4419-a820-e7a4702bda41",
   "metadata": {},
   "outputs": [],
   "source": [
    "data_analysis_final = copy.deepcopy(data_output)"
   ]
  },
  {
   "cell_type": "code",
   "execution_count": 21,
   "id": "eaafa0d7-f0ec-4d85-a46d-631b0910c777",
   "metadata": {},
   "outputs": [],
   "source": [
    "# Some of the items are not serializable. Convert to string before JSON\n",
    "for item in data_analysis_final:\n",
    "    item['responses']['financial_analyst']['final_output'] = str(item['responses']['financial_analyst']['final_output'])\n",
    "    item['responses']['committee_report']['results'] = str(item['responses']['committee_report']['results'])\n",
    "    item['responses']['committee_report']['history'] = str(item['responses']['committee_report']['history'])\n",
    "    item['time']=str(item['time'])"
   ]
  },
  {
   "cell_type": "code",
   "execution_count": 18,
   "id": "52e224e8-fc98-4ca6-ac36-37ae04141177",
   "metadata": {},
   "outputs": [],
   "source": [
    "with open('/tmp/agentic_output_claude_2.json', 'w') as f:\n",
    "    json.dump(data_analysis_final, f)"
   ]
  },
  {
   "cell_type": "code",
   "execution_count": 19,
   "id": "19a8cb52-5f8f-4768-9715-e3e4c14209ad",
   "metadata": {},
   "outputs": [],
   "source": [
    "s3_helper.add_file(local_filename='/tmp/agentic_output_claude_2.json')"
   ]
  },
  {
   "cell_type": "markdown",
   "id": "c6daa36b-c59a-4a4e-a40b-e59ee5bd750b",
   "metadata": {},
   "source": [
    "### Create the Trade Report"
   ]
  },
  {
   "cell_type": "code",
   "execution_count": 23,
   "id": "eac0b849-f701-454c-a279-6d0b92b8ea39",
   "metadata": {},
   "outputs": [],
   "source": [
    "def trade_report_generation(data, trade_only=False) -> pd.DataFrame:\n",
    "    \"\"\"\n",
    "    Function to create the trade report to pass into the Strategy Analysis tool\n",
    "    \"\"\"\n",
    "    trade_report = []\n",
    "    if trade_only:\n",
    "        for item in data:\n",
    "            trade_report.append({'date': item['date'], \n",
    "                                 'security': item['security'], \n",
    "                                 'decision': item['recommendation'],\n",
    "                                 'confidence': item['earning_confidence']})\n",
    "    \n",
    "        return pd.DataFrame(data=trade_report)\n",
    "    else:\n",
    "        for item in data:\n",
    "            trade_report.append({'date': item['date'], \n",
    "                                 'security': item['security'], \n",
    "                                 'decision': item['recommendation'],\n",
    "                                 'confidence': item['earning_confidence'],\n",
    "                                 'earning_decision': item['earning_decision'],\n",
    "                                 'earning_magnitude': item['earning_magnitude']})\n",
    "        return trade_report"
   ]
  },
  {
   "cell_type": "code",
   "execution_count": 24,
   "id": "cbf18955-f299-4791-9c4c-628c9d13b843",
   "metadata": {},
   "outputs": [],
   "source": [
    "trades = trade_report_generation(data_analysis_final)"
   ]
  },
  {
   "cell_type": "code",
   "execution_count": 25,
   "id": "27511b7e-0f5b-4521-9bdc-25de895efa0e",
   "metadata": {},
   "outputs": [],
   "source": [
    "with open('Results/Agentic/trades_claude.json', 'w') as f:\n",
    "    json.dump(trades, f)"
   ]
  },
  {
   "cell_type": "code",
   "execution_count": 22,
   "id": "2d61da3b-6900-414d-a885-e00c5af1a6d1",
   "metadata": {},
   "outputs": [
    {
     "data": {
      "text/plain": [
       "311"
      ]
     },
     "execution_count": 22,
     "metadata": {},
     "output_type": "execute_result"
    }
   ],
   "source": [
    "len(data_output)"
   ]
  },
  {
   "cell_type": "code",
   "execution_count": null,
   "id": "11609520-1744-44b8-ba05-548714209ef3",
   "metadata": {},
   "outputs": [],
   "source": []
  },
  {
   "cell_type": "code",
   "execution_count": null,
   "id": "396765e5-1e4e-4f52-83c3-d051b8cb84f6",
   "metadata": {},
   "outputs": [],
   "source": []
  }
 ],
 "metadata": {
  "kernelspec": {
   "display_name": "Bloomberg Lab Python 3",
   "language": "python",
   "name": "remote-jupyterpython"
  },
  "language_info": {
   "codemirror_mode": {
    "name": "ipython",
    "version": 3
   },
   "file_extension": ".py",
   "mimetype": "text/x-python",
   "name": "python",
   "nbconvert_exporter": "python",
   "pygments_lexer": "ipython3",
   "version": "3.9.12"
  }
 },
 "nbformat": 4,
 "nbformat_minor": 5
}
