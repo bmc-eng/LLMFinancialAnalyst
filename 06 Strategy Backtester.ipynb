{
 "cells": [
  {
   "cell_type": "markdown",
   "id": "57fce2b8-c8d6-42a6-8f88-ab5ff1ef0f6d",
   "metadata": {},
   "source": [
    "# Strategy Construction Tool\n",
    "This is to produce trade reports that can be used in the evaluation section to backtest."
   ]
  },
  {
   "cell_type": "code",
   "execution_count": 1,
   "id": "8fa8aeb3-ae6f-4124-a989-7202257623e7",
   "metadata": {},
   "outputs": [],
   "source": [
    "# get the data\n",
    "# set up the models\n",
    "# run the model with the parameters\n",
    "# conver the model results into a trade log\n",
    "# Log all of the intermediate steps"
   ]
  },
  {
   "cell_type": "code",
   "execution_count": 64,
   "id": "54f3d6fd-72dd-4c1e-9933-1a34794338e8",
   "metadata": {},
   "outputs": [],
   "source": [
    "import copy\n",
    "import pandas as pd\n",
    "import company_data as cd\n",
    "import financial_agent as fa\n",
    "import committee_agent as ca\n",
    "import importlib\n",
    "from tqdm import tqdm\n",
    "\n",
    "from utils.s3_helper import S3Helper\n",
    "from datetime import datetime\n",
    "\n",
    "import concurrent.futures\n"
   ]
  },
  {
   "cell_type": "code",
   "execution_count": 6,
   "id": "40fe4c19-7fa3-4e50-9fd3-1c784563a407",
   "metadata": {},
   "outputs": [
    {
     "data": {
      "text/plain": [
       "<module 'committee_agent' from '/project/committee_agent.py'>"
      ]
     },
     "execution_count": 6,
     "metadata": {},
     "output_type": "execute_result"
    }
   ],
   "source": [
    "importlib.reload(fa)\n",
    "importlib.reload(ca)"
   ]
  },
  {
   "cell_type": "markdown",
   "id": "571bb9ac-6dfe-4ed9-8dc7-cf47e90267ae",
   "metadata": {},
   "source": [
    "### Collect the data needed to run the Agents"
   ]
  },
  {
   "cell_type": "code",
   "execution_count": 7,
   "id": "d149871e-47f3-4bda-98b9-10aa13aec9ea",
   "metadata": {},
   "outputs": [],
   "source": [
    "# Get the company reports\n",
    "security_datasets = cd.SecurityData('tmp/fs', 'dow_quarterly_ltm_v2.json')\n",
    "# get the news datasets\n",
    "s3_helper = S3Helper('tmp/fs')\n",
    "s3_helper.get_file(filename='dow_headlines.parquet', local_filename='/tmp/dow_headlines.parquet')\n",
    "news_headlines = pd.read_parquet('/tmp/dow_headlines.parquet')"
   ]
  },
  {
   "cell_type": "markdown",
   "id": "2261dadb-3bb3-42e3-9ee9-c2cad1bd23e5",
   "metadata": {},
   "source": [
    "### Run the Agentic Models"
   ]
  },
  {
   "cell_type": "code",
   "execution_count": 8,
   "id": "67c8ff94-60c3-46d3-8378-d2fb3f69c4d4",
   "metadata": {},
   "outputs": [],
   "source": [
    "financial_agent = fa.FinancialAnalystAgent()\n",
    "committee_agent = ca.CommitteeAgent()"
   ]
  },
  {
   "cell_type": "code",
   "execution_count": 9,
   "id": "e2bbb33a-04a2-46f2-b007-23b46f07a353",
   "metadata": {},
   "outputs": [],
   "source": [
    "def run_single(security, as_of_date):\n",
    "    company_data = security_datasets.get_security_all_data(as_of_date, security)\n",
    "    # Time the run\n",
    "    start_time = datetime.now()\n",
    "    # Run the financial analyst agent\n",
    "    financial_report = financial_agent.run(security_data=company_data, \n",
    "                                       news_data=news_headlines, \n",
    "                                       as_of_date=as_of_date)\n",
    "    # Run the committee agent\n",
    "    committee_report = committee_agent.run(senior_analyst_report=financial_report['senior_report'],\n",
    "                                           financial_statement_analysis=financial_report['initial_analysis'],\n",
    "                                           security_data=company_data)\n",
    "    end_time = datetime.now()\n",
    "    decision_dict = {\n",
    "        'date': as_of_date,\n",
    "        'security': security,\n",
    "        'earning_decision': financial_report['final_output'].direction,\n",
    "        'earning_magnitude': financial_report['final_output'].magnitude,\n",
    "        'earning_confidence': financial_report['final_output'].confidence,\n",
    "        'recommendation': committee_report['results'].recommendation,\n",
    "        \n",
    "        'responses': {'financial_analyst': financial_report,\n",
    "                     'committee_report': committee_report},\n",
    "        'time': str(end_time - start_time)\n",
    "    }\n",
    "    return decision_dict\n",
    "    \n",
    "    "
   ]
  },
  {
   "cell_type": "code",
   "execution_count": 10,
   "id": "171f1163-d588-40d7-bc14-1e38de2f3ca1",
   "metadata": {},
   "outputs": [],
   "source": [
    "dates_and_securities = security_datasets.date_security_timeseries()\n",
    "test_security = dates_and_securities[0]"
   ]
  },
  {
   "cell_type": "code",
   "execution_count": 11,
   "id": "77035d29-bb7c-44dd-bd73-c0408acd1cd1",
   "metadata": {},
   "outputs": [
    {
     "data": {
      "text/plain": [
       "{'date': '2020-04-24', 'security': 'AXP UN Equity'}"
      ]
     },
     "execution_count": 11,
     "metadata": {},
     "output_type": "execute_result"
    }
   ],
   "source": [
    "test_security"
   ]
  },
  {
   "cell_type": "code",
   "execution_count": 19,
   "id": "2c664118-ddd8-4ef6-aeae-4549c6efe6ec",
   "metadata": {},
   "outputs": [],
   "source": [
    "test_output = run_single('AXP UN Equity', '2020-04-24')"
   ]
  },
  {
   "cell_type": "code",
   "execution_count": 22,
   "id": "e3adeff4-dd47-41d2-a064-589c9cc536bb",
   "metadata": {},
   "outputs": [],
   "source": [
    "data_output = []\n",
    "def backtest(dates_and_securities):\n",
    "    # create the securities\n",
    "    progress = tqdm(total=len(dates_and_securities), position=0, leave=True)\n",
    "    with concurrent.futures.ThreadPoolExecutor(max_workers=30) as executor:\n",
    "        futures = [executor.submit(run_single, single['security'], single['date']) for single in dates_and_securities]\n",
    "        for f in concurrent.futures.as_completed(futures):\n",
    "            progress.update(n=1)\n",
    "            data_output.append(f.result())\n",
    "        "
   ]
  },
  {
   "cell_type": "code",
   "execution_count": 23,
   "id": "a3533ae3-f9e3-407b-a968-90561b538d70",
   "metadata": {},
   "outputs": [
    {
     "name": "stderr",
     "output_type": "stream",
     "text": [
      "100%|██████████| 893/893 [1:32:19<00:00,  6.20s/it]\n"
     ]
    }
   ],
   "source": [
    "# Run the backtest\n",
    "backtest(dates_and_securities)"
   ]
  },
  {
   "cell_type": "code",
   "execution_count": 27,
   "id": "5925fb2c-45b8-4acf-ad67-095d93d9a56f",
   "metadata": {},
   "outputs": [],
   "source": [
    "for single in dates_and_securities:\n",
    "    x = security_datasets.get_security_all_data(single['date'], single['security'])"
   ]
  },
  {
   "cell_type": "code",
   "execution_count": 45,
   "id": "fcdbf3dc-05ee-44fc-851d-81a4f28fcc39",
   "metadata": {},
   "outputs": [],
   "source": [
    "import copy\n",
    "\n",
    "#str(data_output[0]['responses']['committee']['final_output'])"
   ]
  },
  {
   "cell_type": "code",
   "execution_count": 59,
   "id": "4eb0e20d-c8db-4419-a820-e7a4702bda41",
   "metadata": {},
   "outputs": [],
   "source": [
    "data_analysis_final = copy.deepcopy(data_output)"
   ]
  },
  {
   "cell_type": "code",
   "execution_count": 47,
   "id": "eac0b849-f701-454c-a279-6d0b92b8ea39",
   "metadata": {},
   "outputs": [
    {
     "data": {
      "text/plain": [
       "Recommendation(recommendation='SELL', reason=\"After carefully analyzing multiple perspectives, the majority of the committee leans towards a SELL recommendation. The key factors include persistent negative profitability (operating margin of -2.52% and net profit margin of -3.00%), a dramatic 40.36% revenue decline, and signs of operational inefficiency. While there are some positive indicators like gross margin improvement, the underlying structural challenges outweigh potential recovery signals. The stock's significant price drop and continued market challenges suggest protecting investor capital through an immediate sell decision.\", confidence='High')"
      ]
     },
     "execution_count": 47,
     "metadata": {},
     "output_type": "execute_result"
    }
   ],
   "source": [
    "data_analysis_final[0]['responses']['committee_report']['results']"
   ]
  },
  {
   "cell_type": "code",
   "execution_count": 44,
   "id": "cbf18955-f299-4791-9c4c-628c9d13b843",
   "metadata": {},
   "outputs": [
    {
     "data": {
      "text/plain": [
       "'SELL'"
      ]
     },
     "execution_count": 44,
     "metadata": {},
     "output_type": "execute_result"
    }
   ],
   "source": [
    "data_output[0]['recommendation']"
   ]
  },
  {
   "cell_type": "code",
   "execution_count": 60,
   "id": "a1cea24f-1d18-41eb-b2dc-c2299ca84104",
   "metadata": {},
   "outputs": [],
   "source": [
    "for item in data_analysis_final:\n",
    "    item['responses']['financial_analyst']['final_output'] = str(item['responses']['financial_analyst']['final_output'])\n",
    "    item['responses']['committee_report']['results'] = str(item['responses']['committee_report']['results'])\n",
    "    item['responses']['committee_report']['history'] = str(item['responses']['committee_report']['history'])\n",
    "    item['time']=str(item['time'])"
   ]
  },
  {
   "cell_type": "code",
   "execution_count": null,
   "id": "c991da53-157a-41ad-9290-726619fddc30",
   "metadata": {},
   "outputs": [],
   "source": []
  },
  {
   "cell_type": "code",
   "execution_count": 62,
   "id": "f44a115b-0460-4ff7-9b6e-d087092fee91",
   "metadata": {},
   "outputs": [],
   "source": [
    "#str(data_output[0]['responses']['committee_report']['history'])"
   ]
  },
  {
   "cell_type": "code",
   "execution_count": null,
   "id": "6c59e263-8748-43a0-9d81-5f6b477c8bd2",
   "metadata": {},
   "outputs": [],
   "source": []
  },
  {
   "cell_type": "code",
   "execution_count": null,
   "id": "5109bbe8-3719-4ef8-b016-6d6fc18f48d1",
   "metadata": {},
   "outputs": [],
   "source": []
  },
  {
   "cell_type": "code",
   "execution_count": 25,
   "id": "7d2fe5e5-1088-4e07-8910-706a960582b2",
   "metadata": {},
   "outputs": [],
   "source": [
    "import json"
   ]
  },
  {
   "cell_type": "code",
   "execution_count": 61,
   "id": "f02ceb4a-e2ad-4d0f-99ac-f1804aa752b3",
   "metadata": {},
   "outputs": [],
   "source": [
    "with open('/tmp/agentic_output.json', 'w') as f:\n",
    "    json.dump(data_analysis_final, f)"
   ]
  },
  {
   "cell_type": "code",
   "execution_count": 63,
   "id": "49bdd377-6d7f-4987-a5ce-bbc93132b112",
   "metadata": {},
   "outputs": [],
   "source": [
    "s3_helper.add_file(local_filename='/tmp/agentic_output.json')"
   ]
  },
  {
   "cell_type": "code",
   "execution_count": null,
   "id": "27511b7e-0f5b-4521-9bdc-25de895efa0e",
   "metadata": {},
   "outputs": [],
   "source": []
  }
 ],
 "metadata": {
  "kernelspec": {
   "display_name": "Bloomberg Lab Python 3",
   "language": "python",
   "name": "remote-jupyterpython"
  },
  "language_info": {
   "codemirror_mode": {
    "name": "ipython",
    "version": 3
   },
   "file_extension": ".py",
   "mimetype": "text/x-python",
   "name": "python",
   "nbconvert_exporter": "python",
   "pygments_lexer": "ipython3",
   "version": "3.9.12"
  }
 },
 "nbformat": 4,
 "nbformat_minor": 5
}
