{
 "cells": [
  {
   "cell_type": "markdown",
   "id": "1a66b604-9226-4b93-875e-613d69d4bf92",
   "metadata": {},
   "source": [
    "# News Article Data Request\n",
    "This must be requested in the notebook so that the spark session can be correctly shut down. This "
   ]
  },
  {
   "cell_type": "code",
   "execution_count": 5,
   "id": "ffa025c9-1038-4cb7-92ab-f59203a6e9b1",
   "metadata": {},
   "outputs": [],
   "source": [
    "from pyspark.sql import SparkSession, Window\n",
    "import pyspark.sql.functions as F\n",
    "from pyspark.sql.types import TimestampType\n",
    "\n",
    "from utils.s3_helper import S3Helper\n",
    "from IPython.display import display\n",
    "\n",
    "import os\n",
    "import boto3"
   ]
  },
  {
   "cell_type": "markdown",
   "id": "f5975e4d-09ed-44d3-99a1-d14a230e398f",
   "metadata": {},
   "source": [
    "### Set up and configure Spark"
   ]
  },
  {
   "cell_type": "code",
   "execution_count": 2,
   "id": "ed4810bc-1e48-4881-9008-7d0419040a22",
   "metadata": {},
   "outputs": [],
   "source": [
    "\n",
    "def get_spark_session(\n",
    "    executors=\"10\",\n",
    "    executor_memory=\"8g\",\n",
    "    driver_memory=\"32g\",\n",
    "    executor_cores=\"2\",\n",
    "    driver_max_result_size=\"1024M\",\n",
    "    executor_memory_overhead=\"2g\",\n",
    "    task_cpus=\"1\",\n",
    "):\n",
    "    \"\"\"\n",
    "    Function to set up and define the Spark session. \n",
    "    \"\"\"\n",
    "\n",
    "    spark = (\n",
    "        SparkSession.builder.config(\"spark.driver.memory\", driver_memory)\n",
    "        .config(\"spark.driver.maxResultSize\", driver_max_result_size)\n",
    "        .config(\"spark.executor.memoryOverhead\", executor_memory_overhead)\n",
    "        .config(\"spark.executor.instances\", executors)\n",
    "        .config(\"spark.executor.memory\", executor_memory)\n",
    "        .config(\"spark.executor.cores\", executor_cores)\n",
    "        .config(\"spark.task.cpus\", task_cpus)\n",
    "        .config(\"spark.sql.execution.arrow.enabled\", \"true\")\n",
    "        .config(\"spark.shuffle.file.buffer\", \"1m\")\n",
    "        .config(\"spark.file.transferTo\", \"False\")\n",
    "        .config(\"spark.shuffle.unsafe.file.output.buffer\", \"1m\")\n",
    "        .config(\"spark.io.compression.lz4.blockSize\", \"512k\")\n",
    "        .config(\"spark.shuffle.service.index.cache.size\", \"1g\")\n",
    "        .config(\"spark.shuffle.registration.timeout\", \"120000ms\")\n",
    "        .config(\"spark.shuffle.registration.maxAttempts\", \"3\")\n",
    "        .config(\"spark.sql.windowExec.buffer.spill.threshold\", \"1000000\")\n",
    "        .config(\"spark.sql.windowExec.buffer.in.memory.threshold\", \"1000000\")\n",
    "        .getOrCreate()\n",
    "    )\n",
    "\n",
    "    display(spark)\n",
    "\n",
    "    return spark"
   ]
  },
  {
   "cell_type": "code",
   "execution_count": 3,
   "id": "0bd1daa0-37a6-4b51-b66c-2962407de858",
   "metadata": {},
   "outputs": [
    {
     "data": {
      "text/html": [
       "\n",
       "            <div>\n",
       "                <p><b>SparkSession - in-memory</b></p>\n",
       "                \n",
       "                <div>\n",
       "                    <p><b>SparkContext</b></p>\n",
       "                    <p><a href=\"/jupyter/v1/8274481-prj47495909d3fe47e88cd6d023148eb07d-98a66e47e9//sprk/4040/jobs/?token=CvIN5erMPFmJoYeOB3tM-w\">Spark UI</a></p>\n",
       "                    <dl>\n",
       "                      <dt>Version</dt>\n",
       "                        <dd><code>v3.1.2.15</code></dd>\n",
       "                      <dt>AppName</dt>\n",
       "                        <dd><code>pyspark-shell</code></dd>\n",
       "                    </dl>\n",
       "                </div>\n",
       "                \n",
       "            </div>\n",
       "        "
      ],
      "text/plain": [
       "<pyspark.sql.session.SparkSession at 0x7fd264393220>"
      ]
     },
     "metadata": {},
     "output_type": "display_data"
    }
   ],
   "source": [
    "# Set up a spark session with 100 executors on 2 core machines.\n",
    "spark = get_spark_session(executors=\"100\", executor_memory=\"8g\", executor_cores=\"2\")"
   ]
  },
  {
   "cell_type": "markdown",
   "id": "bb271d7a-91fd-4ad7-b0ff-d6183295dd82",
   "metadata": {},
   "source": [
    "### Request News Headlines datasets \n",
    "Load all of the Bloomberg News headlines datasets into spark. The files are stored as daily snapshots."
   ]
  },
  {
   "cell_type": "code",
   "execution_count": 6,
   "id": "2d6a9f6b-c0ef-4df3-a9da-3af505670083",
   "metadata": {},
   "outputs": [
    {
     "name": "stdout",
     "output_type": "stream",
     "text": [
      "CPU times: user 2min 25s, sys: 508 ms, total: 2min 25s\n",
      "Wall time: 6min 11s\n"
     ]
    }
   ],
   "source": [
    "%%time\n",
    "bucket_name = \"bquant-data-textual-analytics-tier-1\"\n",
    "bucket = boto3.resource(\"s3\").Bucket(bucket_name)\n",
    "files = [file.key for file in bucket.objects.all()]\n",
    "\n",
    "files_csv = [\n",
    "    f\"s3://{bucket_name}/{file}\"\n",
    "    for file in files\n",
    "    if \"EID80001\" in file and \"csv\" in file\n",
    "]\n",
    "\n",
    "df = (\n",
    "    spark.read.option(\"header\", \"true\")\n",
    "    .option(\"multiLine\", \"true\")\n",
    "    .option(\"escape\", \"\")\n",
    "    .csv(files_csv)\n",
    ")"
   ]
  },
  {
   "cell_type": "markdown",
   "id": "19caa9e6-4b4a-4750-9d3d-0f3447709598",
   "metadata": {},
   "source": [
    "### Filter the news articles\n",
    "Filter based on the FIGI identifiers for the Dow Jones, articles after 1st January 2019 and Bloomberg News articles only. "
   ]
  },
  {
   "cell_type": "code",
   "execution_count": 7,
   "id": "5a0eb2a5-2a86-44f1-9556-524702632877",
   "metadata": {},
   "outputs": [],
   "source": [
    "\n",
    "index_members = ['BBG000B9XRY4', 'BBG000BBJQV0', 'BBG000BBS2Y0', 'BBG000BCQZS4',\n",
    "       'BBG000BCSST7', 'BBG000BF0K17', 'BBG000BH4R78', 'BBG000BJ81C1',\n",
    "       'BBG000BKZB36', 'BBG000BLNNH6', 'BBG000BMHYD1', 'BBG000BMX289',\n",
    "       'BBG000BN2DC2', 'BBG000BNSZP1', 'BBG000BP52R2', 'BBG000BPD168',\n",
    "       'BBG000BPH459', 'BBG000BR2B91', 'BBG000BR2TH3', 'BBG000BSXQV7',\n",
    "       'BBG000BVPV84', 'BBG000BW8S60', 'BBG000BWLMJ4', 'BBG000BWXBC2',\n",
    "       'BBG000C0G1D1', 'BBG000C3J3C9', 'BBG000C5HS04', 'BBG000C6CFJ5',\n",
    "       'BBG000CH5208', 'BBG000DMBXR2', 'BBG000GZQ728', 'BBG000H556T9',\n",
    "       'BBG000HS77T5', 'BBG000K4ND22', 'BBG000PSKYX7', 'BBG00BN96922']\n",
    "\n"
   ]
  },
  {
   "cell_type": "code",
   "execution_count": 8,
   "id": "d0a9b28b-eb02-455e-9026-3479cb1d8688",
   "metadata": {},
   "outputs": [
    {
     "name": "stdout",
     "output_type": "stream",
     "text": [
      "CPU times: user 12.7 ms, sys: 19.9 ms, total: 32.6 ms\n",
      "Wall time: 35.3 s\n"
     ]
    },
    {
     "data": {
      "text/plain": [
       "968678"
      ]
     },
     "execution_count": 8,
     "metadata": {},
     "output_type": "execute_result"
    }
   ],
   "source": [
    "%%time\n",
    "from functools import reduce\n",
    "\n",
    "start_date = '2019-01-01'\n",
    "# Filter for just BBG news or include all news articles in the analysis.\n",
    "wire_filter = (F.col(\"WireName\") == \"BN\") | (F.col(\"WireName\") == \"BFW\")\n",
    "\n",
    "filters = (\n",
    "    # topic_filter\n",
    "    wire_filter\n",
    "    & (F.col(\"LanguageString\") == \"ENGLISH\")\n",
    "    & (F.length(F.col(\"Headline\")) > 25)\n",
    "    & (F.col(\"TimeOfArrival\") >= start_date)\n",
    "    & (F.col(\"Assigned_ID_BB_GLOBAL\").isin(index_members))\n",
    "    #& (F.col(\"Headline\").startswith(\"*\"))\n",
    ")\n",
    "\n",
    "df = df.withColumn(\"TimeOfArrival\", F.col(\"TimeOfArrival\").cast(TimestampType()))\n",
    "df1 = df.filter(filters)\n",
    "\n",
    "df1 = df1.cache()\n",
    "df1.count()"
   ]
  },
  {
   "cell_type": "markdown",
   "id": "d930df7f-cca2-43a7-b464-d921f52b7086",
   "metadata": {},
   "source": [
    "### Drop Duplicates"
   ]
  },
  {
   "cell_type": "code",
   "execution_count": 9,
   "id": "e8789764-bfc2-4da5-8d22-c46ce1739241",
   "metadata": {},
   "outputs": [
    {
     "data": {
      "text/plain": [
       "104208"
      ]
     },
     "execution_count": 9,
     "metadata": {},
     "output_type": "execute_result"
    }
   ],
   "source": [
    "window = Window.partitionBy(\"SUID\").orderBy(F.col(\"TimeOfArrival\").asc())\n",
    "\n",
    "df2 = (\n",
    "    df1.withColumn(\"row\", F.row_number().over(window))\n",
    "    .filter(F.col(\"row\") == 1)\n",
    "    .drop(\"row\")\n",
    ")\n",
    "\n",
    "df2 = df2.withColumn(\"day\", F.to_date(F.col(\"TimeOfArrival\")))\n",
    "window = Window.partitionBy(\"day\", \"Headline\").orderBy(F.col(\"TimeOfArrival\").asc())\n",
    "df2 = (\n",
    "    df2.withColumn(\"row\", F.row_number().over(window))\n",
    "    .filter(F.col(\"row\") == 1)\n",
    "    .drop(\"row\", \"day\")\n",
    ")\n",
    "\n",
    "df2 = df2.cache()\n",
    "df2.count()"
   ]
  },
  {
   "cell_type": "code",
   "execution_count": 10,
   "id": "87ce1201-30fb-4662-985c-ab96d01e9acb",
   "metadata": {},
   "outputs": [],
   "source": [
    "def sort_headlines(df2):\n",
    "    pdf = (\n",
    "        df2.select(\n",
    "            \"SUID\", \"Headline\", \"TimeOfArrival\", \"Assigned_ID_BB_GLOBAL\"\n",
    "        )\n",
    "        .toPandas()\n",
    "        .sort_values(by=\"TimeOfArrival\")\n",
    "        .reset_index(drop=True)\n",
    "        .copy()\n",
    "\n",
    "    )\n",
    "    pdf[\"Headline\"] = pdf[\"Headline\"].str.lower()\n",
    "\n",
    "    return pdf\n",
    "\n",
    "headlines = sort_headlines(df2)"
   ]
  },
  {
   "cell_type": "code",
   "execution_count": 11,
   "id": "28b95945-0fba-477c-a898-35e86be0a51e",
   "metadata": {},
   "outputs": [
    {
     "data": {
      "text/plain": [
       "'*jpmorgan\\xa0rehires ling zhang from bgi genomics'"
      ]
     },
     "execution_count": 11,
     "metadata": {},
     "output_type": "execute_result"
    }
   ],
   "source": [
    "\n",
    "headlines['Headline'][0]"
   ]
  },
  {
   "cell_type": "markdown",
   "id": "1b38d586-baf4-48f5-b655-8ebcb65d811c",
   "metadata": {},
   "source": [
    "### Output Headlines to S3"
   ]
  },
  {
   "cell_type": "code",
   "execution_count": 14,
   "id": "d4d815bc-92a9-41ea-896a-a86818fbcb0e",
   "metadata": {},
   "outputs": [],
   "source": [
    "s3_helper = S3Helper('tmp/fs')"
   ]
  },
  {
   "cell_type": "code",
   "execution_count": 15,
   "id": "6f3e44e5-a0bd-4a7a-a580-dcfdc27ac860",
   "metadata": {},
   "outputs": [],
   "source": [
    "os.mkdir('/tmp/headlines')\n",
    "headlines.to_parquet('/tmp/headlines/dow_headlines.parquet')"
   ]
  },
  {
   "cell_type": "code",
   "execution_count": 16,
   "id": "cc5f44d8-57fc-486b-bdf6-cbc5773c60c6",
   "metadata": {},
   "outputs": [],
   "source": [
    "s3_helper.add_file(local_filename='/tmp/headlines/dow_headlines.parquet')"
   ]
  },
  {
   "cell_type": "markdown",
   "id": "daf53fa4-cff3-4592-b524-adf9a83d47f2",
   "metadata": {},
   "source": [
    "### Stop Spark"
   ]
  },
  {
   "cell_type": "code",
   "execution_count": 17,
   "id": "0de15479-8279-495d-8b29-63f6e300b14b",
   "metadata": {},
   "outputs": [],
   "source": [
    "spark.stop()"
   ]
  },
  {
   "cell_type": "code",
   "execution_count": 18,
   "id": "f918ee13-abb7-4e71-969b-22519286ead6",
   "metadata": {},
   "outputs": [],
   "source": [
    "import pandas as pd\n",
    "import plotly.express as px"
   ]
  },
  {
   "cell_type": "code",
   "execution_count": 19,
   "id": "230a7eac-c41a-4999-9250-77c53b2c3a62",
   "metadata": {},
   "outputs": [
    {
     "data": {
      "text/html": [
       "<div>\n",
       "<style scoped>\n",
       "    .dataframe tbody tr th:only-of-type {\n",
       "        vertical-align: middle;\n",
       "    }\n",
       "\n",
       "    .dataframe tbody tr th {\n",
       "        vertical-align: top;\n",
       "    }\n",
       "\n",
       "    .dataframe thead th {\n",
       "        text-align: right;\n",
       "    }\n",
       "</style>\n",
       "<table border=\"1\" class=\"dataframe\">\n",
       "  <thead>\n",
       "    <tr style=\"text-align: right;\">\n",
       "      <th></th>\n",
       "      <th>SUID</th>\n",
       "      <th>Headline</th>\n",
       "      <th>TimeOfArrival</th>\n",
       "      <th>Assigned_ID_BB_GLOBAL</th>\n",
       "    </tr>\n",
       "  </thead>\n",
       "  <tbody>\n",
       "    <tr>\n",
       "      <th>0</th>\n",
       "      <td>PKP0NPDWRGG0</td>\n",
       "      <td>*jpmorgan rehires ling zhang from bgi genomics</td>\n",
       "      <td>2019-01-02 07:26:13.641</td>\n",
       "      <td>BBG000DMBXR2</td>\n",
       "    </tr>\n",
       "    <tr>\n",
       "      <th>1</th>\n",
       "      <td>PKP0NQDWRGG0</td>\n",
       "      <td>*jpmorgan names zhang china healthcare investm...</td>\n",
       "      <td>2019-01-02 07:26:14.600</td>\n",
       "      <td>BBG000DMBXR2</td>\n",
       "    </tr>\n",
       "    <tr>\n",
       "      <th>2</th>\n",
       "      <td>PKP0PY6KLVR4</td>\n",
       "      <td>apple remains core tech holding in ‘risk-off’ ...</td>\n",
       "      <td>2019-01-02 07:27:34.229</td>\n",
       "      <td>BBG000B9XRY4</td>\n",
       "    </tr>\n",
       "    <tr>\n",
       "      <th>3</th>\n",
       "      <td>PKP4IB6K50XT</td>\n",
       "      <td>refinery outages: exxon beaumont; pes philadel...</td>\n",
       "      <td>2019-01-02 08:49:23.087</td>\n",
       "      <td>BBG000GZQ728</td>\n",
       "    </tr>\n",
       "    <tr>\n",
       "      <th>4</th>\n",
       "      <td>PKP72M6K50XU</td>\n",
       "      <td>taiwan walks tightrope between china and not c...</td>\n",
       "      <td>2019-01-02 09:44:46.220</td>\n",
       "      <td>BBG000B9XRY4</td>\n",
       "    </tr>\n",
       "    <tr>\n",
       "      <th>...</th>\n",
       "      <td>...</td>\n",
       "      <td>...</td>\n",
       "      <td>...</td>\n",
       "      <td>...</td>\n",
       "    </tr>\n",
       "    <tr>\n",
       "      <th>104203</th>\n",
       "      <td>SV3C9WBKHDS1</td>\n",
       "      <td>*disney moves date of new 'star wars' movie up...</td>\n",
       "      <td>2025-04-21 23:08:20.275</td>\n",
       "      <td>BBG000BH4R78</td>\n",
       "    </tr>\n",
       "    <tr>\n",
       "      <th>104204</th>\n",
       "      <td>SV3C9WBKHDS2</td>\n",
       "      <td>*disney comments on film release schedule in e...</td>\n",
       "      <td>2025-04-21 23:08:20.287</td>\n",
       "      <td>BBG000BH4R78</td>\n",
       "    </tr>\n",
       "    <tr>\n",
       "      <th>104205</th>\n",
       "      <td>SV3FAKT0G1KW</td>\n",
       "      <td>amazon must negotiate with teamsters, labor bo...</td>\n",
       "      <td>2025-04-22 00:13:32.732</td>\n",
       "      <td>BBG000BVPV84</td>\n",
       "    </tr>\n",
       "    <tr>\n",
       "      <th>104206</th>\n",
       "      <td>SV3MJUGENSW0</td>\n",
       "      <td>unitedhealth cut to hold at hsbc; pt $490</td>\n",
       "      <td>2025-04-22 02:50:18.840</td>\n",
       "      <td>BBG000CH5208</td>\n",
       "    </tr>\n",
       "    <tr>\n",
       "      <th>104207</th>\n",
       "      <td>SV3W01T0AFB4</td>\n",
       "      <td>vietnam stocks fall most in two weeks on margi...</td>\n",
       "      <td>2025-04-22 06:43:53.091</td>\n",
       "      <td>BBG000PSKYX7</td>\n",
       "    </tr>\n",
       "  </tbody>\n",
       "</table>\n",
       "<p>104208 rows × 4 columns</p>\n",
       "</div>"
      ],
      "text/plain": [
       "                SUID                                           Headline  \\\n",
       "0       PKP0NPDWRGG0     *jpmorgan rehires ling zhang from bgi genomics   \n",
       "1       PKP0NQDWRGG0  *jpmorgan names zhang china healthcare investm...   \n",
       "2       PKP0PY6KLVR4  apple remains core tech holding in ‘risk-off’ ...   \n",
       "3       PKP4IB6K50XT  refinery outages: exxon beaumont; pes philadel...   \n",
       "4       PKP72M6K50XU  taiwan walks tightrope between china and not c...   \n",
       "...              ...                                                ...   \n",
       "104203  SV3C9WBKHDS1  *disney moves date of new 'star wars' movie up...   \n",
       "104204  SV3C9WBKHDS2  *disney comments on film release schedule in e...   \n",
       "104205  SV3FAKT0G1KW  amazon must negotiate with teamsters, labor bo...   \n",
       "104206  SV3MJUGENSW0          unitedhealth cut to hold at hsbc; pt $490   \n",
       "104207  SV3W01T0AFB4  vietnam stocks fall most in two weeks on margi...   \n",
       "\n",
       "                 TimeOfArrival Assigned_ID_BB_GLOBAL  \n",
       "0      2019-01-02 07:26:13.641          BBG000DMBXR2  \n",
       "1      2019-01-02 07:26:14.600          BBG000DMBXR2  \n",
       "2      2019-01-02 07:27:34.229          BBG000B9XRY4  \n",
       "3      2019-01-02 08:49:23.087          BBG000GZQ728  \n",
       "4      2019-01-02 09:44:46.220          BBG000B9XRY4  \n",
       "...                        ...                   ...  \n",
       "104203 2025-04-21 23:08:20.275          BBG000BH4R78  \n",
       "104204 2025-04-21 23:08:20.287          BBG000BH4R78  \n",
       "104205 2025-04-22 00:13:32.732          BBG000BVPV84  \n",
       "104206 2025-04-22 02:50:18.840          BBG000CH5208  \n",
       "104207 2025-04-22 06:43:53.091          BBG000PSKYX7  \n",
       "\n",
       "[104208 rows x 4 columns]"
      ]
     },
     "execution_count": 19,
     "metadata": {},
     "output_type": "execute_result"
    }
   ],
   "source": [
    "headlines"
   ]
  },
  {
   "cell_type": "code",
   "execution_count": 20,
   "id": "827365a8-33e6-44b2-9dc0-511ad21efeb0",
   "metadata": {},
   "outputs": [],
   "source": [
    "pd.set_option('display.max_colwidth', 350)"
   ]
  },
  {
   "cell_type": "code",
   "execution_count": null,
   "id": "17b36967-89ea-4100-9fb4-00d989405833",
   "metadata": {},
   "outputs": [],
   "source": []
  }
 ],
 "metadata": {
  "kernelspec": {
   "display_name": "Bloomberg Lab Python 3",
   "language": "python",
   "name": "user-python"
  },
  "language_info": {
   "codemirror_mode": {
    "name": "ipython",
    "version": 3
   },
   "file_extension": ".py",
   "mimetype": "text/x-python",
   "name": "python",
   "nbconvert_exporter": "python",
   "pygments_lexer": "ipython3",
   "version": "3.9.12"
  }
 },
 "nbformat": 4,
 "nbformat_minor": 5
}
